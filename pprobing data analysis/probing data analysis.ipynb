{
 "cells": [
  {
   "cell_type": "markdown",
   "metadata": {},
   "source": [
    "# Исследование объявлений о продаже квартир\n",
    "\n",
    "В вашем распоряжении данные сервиса Яндекс.Недвижимость — архив объявлений о продаже квартир в Санкт-Петербурге и соседних населённых пунктов за несколько лет. Нужно научиться определять рыночную стоимость объектов недвижимости. Ваша задача — установить параметры. Это позволит построить автоматизированную систему: она отследит аномалии и мошенническую деятельность. \n",
    "\n",
    "По каждой квартире на продажу доступны два вида данных. Первые вписаны пользователем, вторые — получены автоматически на основе картографических данных. Например, расстояние до центра, аэропорта, ближайшего парка и водоёма. "
   ]
  },
  {
   "cell_type": "markdown",
   "metadata": {},
   "source": [
    "# 1.Откройте файл с данными и изучите общую информацию\n",
    "  "
   ]
  },
  {
   "cell_type": "markdown",
   "metadata": {},
   "source": [
    "### открытие и чтение данных\n",
    "Примечания:\n",
    "Использовала метод data.info. \n",
    "Вижу в первую очередь проблему с разделителями.Попытка построить гистограмму (data.hist(figsize=(15, 20)))выдает ошибку. \n",
    "Появилась догадка, нужен разделитель sep='\\t'. \n",
    "Данные разделились лучше, график построен."
   ]
  },
  {
   "cell_type": "code",
   "execution_count": 1,
   "metadata": {
    "scrolled": false
   },
   "outputs": [
    {
     "name": "stdout",
     "output_type": "stream",
     "text": [
      "<class 'pandas.core.frame.DataFrame'>\n",
      "RangeIndex: 23699 entries, 0 to 23698\n",
      "Data columns (total 22 columns):\n",
      " #   Column                Non-Null Count  Dtype  \n",
      "---  ------                --------------  -----  \n",
      " 0   total_images          23699 non-null  int64  \n",
      " 1   last_price            23699 non-null  float64\n",
      " 2   total_area            23699 non-null  float64\n",
      " 3   first_day_exposition  23699 non-null  object \n",
      " 4   rooms                 23699 non-null  int64  \n",
      " 5   ceiling_height        14504 non-null  float64\n",
      " 6   floors_total          23613 non-null  float64\n",
      " 7   living_area           21796 non-null  float64\n",
      " 8   floor                 23699 non-null  int64  \n",
      " 9   is_apartment          2775 non-null   object \n",
      " 10  studio                23699 non-null  bool   \n",
      " 11  open_plan             23699 non-null  bool   \n",
      " 12  kitchen_area          21421 non-null  float64\n",
      " 13  balcony               12180 non-null  float64\n",
      " 14  locality_name         23650 non-null  object \n",
      " 15  airports_nearest      18157 non-null  float64\n",
      " 16  cityCenters_nearest   18180 non-null  float64\n",
      " 17  parks_around3000      18181 non-null  float64\n",
      " 18  parks_nearest         8079 non-null   float64\n",
      " 19  ponds_around3000      18181 non-null  float64\n",
      " 20  ponds_nearest         9110 non-null   float64\n",
      " 21  days_exposition       20518 non-null  float64\n",
      "dtypes: bool(2), float64(14), int64(3), object(3)\n",
      "memory usage: 3.7+ MB\n",
      "None\n",
      "   total_images  last_price  total_area first_day_exposition  rooms  \\\n",
      "0            20  13000000.0       108.0  2019-03-07T00:00:00      3   \n",
      "1             7   3350000.0        40.4  2018-12-04T00:00:00      1   \n",
      "2            10   5196000.0        56.0  2015-08-20T00:00:00      2   \n",
      "3             0  64900000.0       159.0  2015-07-24T00:00:00      3   \n",
      "4             2  10000000.0       100.0  2018-06-19T00:00:00      2   \n",
      "\n",
      "   ceiling_height  floors_total  living_area  floor is_apartment  ...  \\\n",
      "0            2.70          16.0         51.0      8          NaN  ...   \n",
      "1             NaN          11.0         18.6      1          NaN  ...   \n",
      "2             NaN           5.0         34.3      4          NaN  ...   \n",
      "3             NaN          14.0          NaN      9          NaN  ...   \n",
      "4            3.03          14.0         32.0     13          NaN  ...   \n",
      "\n",
      "   kitchen_area  balcony    locality_name  airports_nearest  \\\n",
      "0          25.0      NaN  Санкт-Петербург           18863.0   \n",
      "1          11.0      2.0   посёлок Шушары           12817.0   \n",
      "2           8.3      0.0  Санкт-Петербург           21741.0   \n",
      "3           NaN      0.0  Санкт-Петербург           28098.0   \n",
      "4          41.0      NaN  Санкт-Петербург           31856.0   \n",
      "\n",
      "  cityCenters_nearest  parks_around3000  parks_nearest  ponds_around3000  \\\n",
      "0             16028.0               1.0          482.0               2.0   \n",
      "1             18603.0               0.0            NaN               0.0   \n",
      "2             13933.0               1.0           90.0               2.0   \n",
      "3              6800.0               2.0           84.0               3.0   \n",
      "4              8098.0               2.0          112.0               1.0   \n",
      "\n",
      "   ponds_nearest  days_exposition  \n",
      "0          755.0              NaN  \n",
      "1            NaN             81.0  \n",
      "2          574.0            558.0  \n",
      "3          234.0            424.0  \n",
      "4           48.0            121.0  \n",
      "\n",
      "[5 rows x 22 columns]\n"
     ]
    },
    {
     "data": {
      "image/png": "[encoded data removed]",
      "text/plain": [
       "<Figure size 1080x1440 with 20 Axes>"
      ]
     },
     "metadata": {
      "needs_background": "light"
     },
     "output_type": "display_data"
    },
    {
     "data": {
      "text/plain": [
       "''"
      ]
     },
     "execution_count": 1,
     "metadata": {},
     "output_type": "execute_result"
    }
   ],
   "source": [
    "import pandas as pd\n",
    "import matplotlib.pyplot as plt\n",
    "data =  pd.read_csv('/datasets/real_estate_data.csv', sep='\\t')\n",
    "print(data.info())\n",
    "print(data.head())\n",
    "data.hist(figsize=(15, 20))\n",
    "plt.show()\n",
    ";"
   ]
  },
  {
   "cell_type": "markdown",
   "metadata": {},
   "source": [
    "# 2. Предобработка данных\n"
   ]
  },
  {
   "cell_type": "markdown",
   "metadata": {},
   "source": [
    "\n",
    "### замена пропусков\n",
    "### изменение типов данных\n",
    "По результатам data.info() предполагаю, что количество значений в столбце 23699, где меньше - вероятно пропуски.Провожу последовательную замену: \n",
    "1. ceiling_height — высота потолков (м) Хочется заменить средним. Но скорее всего, зависит от категории дома, и скорее всего есть типовые значения.Скорее всего, потерян при заполнении заявки как второстепенный параметр. Заменю пока no_data. Проверю, что заменилось методом data.info() и unique()\n",
    "\n",
    "2. floors_total - аналогично. Скорее всего, потерян при заполнении заявки как второстепенный параметр. Заменю пока no_data. Проверю, что заменилось методом data.info() и unique()\n",
    "dtype=object. Это нелогично, т.к. целое число. Беру на заметку.\n",
    "\n",
    "3. living_area - аналогично. Проверяю. Не понимаю что на выходе в unique().\n",
    "is_apartment - должен быть булев тип. Проверяю unique().там [nan False True] Бытовой опыт подсказывает - что аппартаменты - сравнительно редкий, но существенный параметр. Хочется заменить nan на False, предположение, что при заполнении заявки по умолчению False. И изменить тип данных с object на bool. Рискну так сделать. Методом,data.info() вижу что тип данных на bool поменялся сам. Значит оставляем)\n",
    "4. kitchen_area - этот параметр вероятно аналогично, не заполнен, когда при заявке не были известны точные данные, как ceiling_height. Действую аналогично, заменяю на no_data.\n",
    "balcony. Проверяю unique() и hist().Бытовой опыт подсказывает, что пропущенные - это скорее всего без балконов. При заполнении заявки вспомнить и назвать количество балконов не сложно. Количесто вариантов с без балконов наверно маловато, для северных населенных пунктов со старой застройкой балкон - не обязательная часть. Заменяю пропущенные на О.Проверяю на гистограмме, и понимаю, что пора менять object на int. Поменяла. Получилось тип int8 и внятная гистограмма, с большим количеством квартир без балконов.Без балконов примерно равно сумме всех других вариантов. Это может быть правдоподобно? Начинаю сомневаться. Но пока оставлю так.\n",
    "\n",
    "locality_name. 49 пропущенных значений. Посмотрю что там в unique() Странно, что кто-то не мог назвать или оператор пропустил. Пока заменю на no_data, но может быть потом придется удалять такие строки. (Так как локалити ценнобразующая переменная? - а может это неверный стереотип?)\n",
    "\n",
    "airports_nearest - там какие-то количественные переменные, скорее всего вычисленные по карте. Заменю пока пропуски на no_data, возможно потом придется вычислять\n",
    "\n",
    "cityCenters_nearest - аналогично airports_nearest. \n",
    "\n",
    "parks_around3000. вероятно эти данные вносили пользователи, пропуски подразумевают, что нет парков (аналогично балконам). Меняем на 0 и тип данных на целое число.\n",
    "\n",
    "parks_nearest - предположу, что географические данные.\n",
    "\n",
    "ponds_nearest, с прудами аналогично паркам.\n",
    "\n",
    "days_exposition - пропуски меняем на no_data, но возможно надо менять на максимальное значение во всем датасете. тк. отсутсвие данных может означать, что объект не продан. А может непроданный объект нерелевантен и его нужно будет исключить из датасета.\n",
    "\n",
    "'last_price' и total_area перевожу в float\n"
   ]
  },
  {
   "cell_type": "code",
   "execution_count": 2,
   "metadata": {},
   "outputs": [
    {
     "name": "stdout",
     "output_type": "stream",
     "text": [
      "<class 'pandas.core.frame.DataFrame'>\n",
      "RangeIndex: 23699 entries, 0 to 23698\n",
      "Data columns (total 22 columns):\n",
      " #   Column                Non-Null Count  Dtype         \n",
      "---  ------                --------------  -----         \n",
      " 0   total_images          23699 non-null  int64         \n",
      " 1   last_price            23699 non-null  int32         \n",
      " 2   total_area            23699 non-null  float64       \n",
      " 3   first_day_exposition  23699 non-null  datetime64[ns]\n",
      " 4   rooms                 23699 non-null  int64         \n",
      " 5   ceiling_height        14504 non-null  float64       \n",
      " 6   floors_total          23613 non-null  float64       \n",
      " 7   living_area           21796 non-null  float64       \n",
      " 8   floor                 23699 non-null  int64         \n",
      " 9   is_apartment          23699 non-null  bool          \n",
      " 10  studio                23699 non-null  bool          \n",
      " 11  open_plan             23699 non-null  bool          \n",
      " 12  kitchen_area          21421 non-null  float64       \n",
      " 13  balcony               23699 non-null  int8          \n",
      " 14  locality_name         23699 non-null  object        \n",
      " 15  airports_nearest      18157 non-null  float64       \n",
      " 16  city_centers_nearest  18180 non-null  float64       \n",
      " 17  parks_around3000      23699 non-null  int8          \n",
      " 18  parks_nearest         8079 non-null   float64       \n",
      " 19  ponds_around3000      23699 non-null  int8          \n",
      " 20  ponds_nearest         9110 non-null   float64       \n",
      " 21  days_exposition       23699 non-null  object        \n",
      "dtypes: bool(3), datetime64[ns](1), float64(9), int32(1), int64(3), int8(3), object(2)\n",
      "memory usage: 2.9+ MB\n",
      "None\n"
     ]
    }
   ],
   "source": [
    "data['ceiling_height'] = data['ceiling_height'].fillna('no_data')\n",
    "data['floors_total'] = data['floors_total'].fillna('no_data')\n",
    "data['living_area'] = data['living_area'].fillna('no_data')\n",
    "data['is_apartment'] = data['is_apartment'].fillna(False)\n",
    "#print(data['is_apartment'].unique())\n",
    "data['kitchen_area'] = data['kitchen_area'].fillna('no_data')\n",
    "data['balcony'] = data['balcony'].fillna(0.0)\n",
    "data['balcony'] = pd.to_numeric(data['balcony'],downcast=\"integer\")\n",
    "data['locality_name'] = data['locality_name'].fillna('no_data')\n",
    "data['airports_nearest'] = data['airports_nearest'].fillna('no_data')\n",
    "data = data.rename(columns={'cityCenters_nearest':'city_centers_nearest'})\n",
    "data['parks_nearest'] = data['parks_nearest'].fillna('no_data')\n",
    "data['parks_around3000'] = data['parks_around3000'].fillna(0.0)\n",
    "data['parks_around3000'] = pd.to_numeric(data['parks_around3000'],downcast='signed')\n",
    "data['ponds_nearest'] = data['ponds_nearest'].fillna('no_data')\n",
    "data['ponds_around3000'] = data['ponds_around3000'].fillna(0.0)\n",
    "data['ponds_around3000'] = pd.to_numeric(data['ponds_around3000'],downcast='signed')\n",
    "data['days_exposition'] = data['days_exposition'].fillna('no_data')\n",
    "data['last_price'] = pd.to_numeric(data['last_price'],downcast='signed',errors='coerce')\n",
    "data['total_area'] = pd.to_numeric(data['total_area'])\n",
    "data['first_day_exposition']= pd.to_datetime(data['first_day_exposition'])\n",
    "data['ceiling_height'] = pd.to_numeric(data['ceiling_height'],errors='coerce')\n",
    "data['floors_total'] = pd.to_numeric(data['floors_total'],downcast='signed',errors='coerce')\n",
    "data['living_area'] = pd.to_numeric(data['living_area'],errors='coerce')\n",
    "data['kitchen_area'] = pd.to_numeric(data['kitchen_area'],errors='coerce')#kitchen_area\n",
    "data['airports_nearest'] = pd.to_numeric(data['airports_nearest'],errors='coerce')#airports_nearest\n",
    "data['city_centers_nearest'] = pd.to_numeric(data['city_centers_nearest'],errors='coerce')#city_centers_nearest\n",
    "data['ponds_nearest'] = pd.to_numeric(data['ponds_nearest'],errors='coerce')#ponds_nearest\n",
    "data['parks_nearest'] = pd.to_numeric(data['parks_nearest'],errors='coerce')#parks_nearest\n",
    "print(data.info())\n"
   ]
  },
  {
   "cell_type": "markdown",
   "metadata": {},
   "source": [
    "Произведена замена пропусков и изменен формат данных в тех столбцах, где была гипотеза о природе пропусков"
   ]
  },
  {
   "cell_type": "markdown",
   "metadata": {},
   "source": [
    "### поиск неявных дубликатов. \n",
    "Выгрузила список методом unique(), len=365.Поиск вела в программе Word. Основная масса неявных дубликатов связана со словом \"поселок/посёлок\". Но не только. Есть пары и тройки дубликатов не только с этим признаком. При совпадении названий деревни и поселка (напр. Щеглово) принимаю решение считать разными объектами.Также принимаю решение считать разными объектами новое\\старое\\никакое и верхнее\\нижнее\\никакое. На карту за допинформацие не иду, т.к. задание учебное с дедлайном, и я боюсь что эта часть займет очень много времени. Нашла неявные дубликаты и произвела замену последовательно по списку, в итоге len = 316"
   ]
  },
  {
   "cell_type": "code",
   "execution_count": 3,
   "metadata": {},
   "outputs": [
    {
     "name": "stdout",
     "output_type": "stream",
     "text": [
      "проверка на явные дубликаты: 0\n"
     ]
    }
   ],
   "source": [
    "\n",
    "\n",
    "print('проверка на явные дубликаты:',data.duplicated().sum())\n",
    "\n",
    "data = data.replace('городской посёлок Янино-1', 'городской поселок Янино-1')\n",
    "data = data.replace('посёлок Мурино' , 'Мурино')\n",
    "data = data.replace('деревня Кудрово', 'Кудрово')\n",
    "data = data.replace('посёлок городского типа Лебяжье', 'поселок городского типа Лебяжье')\n",
    "data = data.replace('поселок городского типа Кузьмоловский','посёлок городского типа Кузьмоловский')\n",
    "data = data.replace('посёлок Аннино','поселок Аннино')\n",
    "data = data.replace('посёлок городского типа Красный Бор', 'поселок городского типа Красный Бор')\n",
    "data = data.replace('посёлок Новый Свет', 'поселок Новый Свет') \n",
    "data = data.replace('посёлок Бугры','поселок Бугры')\n",
    "data = data.replace('городской посёлок Рощино','посёлок городского типа Рощино')\n",
    "data = data.replace('поселок городского типа Рощино','посёлок городского типа Рощино')\n",
    "data = data.replace('Никольское', 'село Никольское')\n",
    "data = data.replace('посёлок Усть-Луга','поселок Усть-Луга')\n",
    "data = data.replace('городской посёлок Павлово','посёлок городского типа Павлово')\n",
    "data = data.replace('посёлок Победа', 'поселок Победа') \n",
    "data = data.replace('посёлок Терволово', 'поселок Терволово') \n",
    "data = data.replace('поселок городского типа Советский', 'городской посёлок Советский') \n",
    "data = data.replace('посёлок Петровское','поселок Петровское')  \n",
    "data = data.replace('посёлок Мичуринское', 'поселок Мичуринское') \n",
    "data = data.replace('посёлок городского типа Токсово','поселок городского типа Токсово')\n",
    "data = data.replace('посёлок городского типа Вырица', 'поселок городского типа Вырица')\n",
    "data = data.replace('посёлок Тельмана', 'поселок Тельмана') \n",
    "data = data.replace('городской посёлок Лесогорский','поселок городского типа Лесогорский')\n",
    "data = data.replace('поселок городского типа имени Свердлова','посёлок городского типа имени Свердлова') \n",
    "data = data.replace('поселок Рябово', 'посёлок городского типа Рябово') \n",
    "data = data.replace('поселок городского типа Рябово', 'посёлок городского типа Рябово') \n",
    "data = data.replace('посёлок Поляны','поселок Поляны')\n",
    "data = data.replace( 'городской посёлок Мга','посёлок городского типа Мга')  \n",
    "data = data.replace('поселок Ильичёво','посёлок Ильичёво')\n",
    "data = data.replace('поселок станции Вещево','посёлок при железнодорожной станции Вещево')\n",
    "data = data.replace('посёлок Гаврилово', 'поселок Гаврилово') \n",
    "data = data.replace('городской посёлок Назия','поселок городского типа Назия')\n",
    "data = data.replace('посёлок Старая Малукса', 'поселок Старая Малукса') \n",
    "data = data.replace('посёлок Сапёрный', 'посёлок Сапёрное')\n",
    "data = data.replace('поселок станции Приветнинское','посёлок при железнодорожной станции Приветнинское')\n",
    "data = data.replace('поселок Мельниково','посёлок Мельниково')\n",
    "data = data.replace('поселок Стеклянный','посёлок Стеклянный') \n",
    "data = data.replace('поселок городского типа Форносово','посёлок городского типа Форносово')\n",
    "data = data.replace('посёлок Сумино','поселок Сумино')\n",
    "data = data.replace('посёлок Возрождение','поселок Возрождение')\n",
    "data = data.replace('поселок Лисий Нос','посёлок Лисий Нос') \n",
    "data = data.replace('поселок Жилгородок','посёлок Жилгородок') \n",
    "data = data.replace('поселок Громово','посёлок станции Громово') \n",
    "data = data.replace('посёлок Коробицыно','поселок Коробицыно')\n",
    "data = data.replace('посёлок Кобралово' ,'поселок Кобралово') \n",
    "data = data.replace('поселок Лесное','коттеджный посёлок Лесное')\n",
    "data = data.replace('поселок Перово','посёлок Перово') \n",
    "data = data.replace('городской поселок Большая Ижора','поселок городского типа Большая Ижора') \n",
    "data = data.replace('посёлок Пансионат Зелёный Бор','поселок Пансионат Зелёный Бор')"
   ]
  },
  {
   "cell_type": "markdown",
   "metadata": {},
   "source": [
    "добавлена проверка на явные дубликаты и проведен ручной поиск и замена неявных дубликатов: список уникальных названий населенных пунктов сократился с 365 до 316\n",
    "    "
   ]
  },
  {
   "cell_type": "markdown",
   "metadata": {},
   "source": [
    "### поиск редких и выбивающихся значений. \n",
    "последовательно проверяю все столбцы :mean() median () max() min ()\n",
    "по 'total_area' вопросов нет\n",
    "по 'rooms'вопросов нет\n",
    "по ceiling_height - аномалии. В задании есть наводка как обрабатывать.  Применяю data.groupby, к данным много вопросов. Если рассматривать на гистограмме на разных интервалах, 1) основаная массма данных по высотре потолка - 2-4 метра 2) видно что есть \"всплеск\" странных значений с 20 - 27,5 метров. Что вероятно действительно.можно поделить на 10. Но непонятно, что делать с единичными  случаями потолков 1, 1.20, 11.75 и с другой стороны от среднего 10 метров, 15 метров, 100 метров? \n",
    "Думаю надо сделать новый столбец с релевантными значениями потолка 'ceiling_normal'. А старый сохранить на всякий случай, вдруг какой-то уникальный жилищный фонд. В диапазоне 20-27,5 метров поделить как в условии. Реалистичным диапазоном высоты считаю 2-5 метров. Остальные аномалии заменю на среднее. Это неверно по отношению к отдельному объекту (у него действительно могут быть другие характеристики) но на общую статистику должно оказать нормализующий эффект. \n",
    "по floors_total - 52 этажа и 60 этажей в Питере возможны как аппартаменты(?) Не буду исключать эти значения пока, но возьму на заметку. \n",
    "также обнаружено аномальное значение минимальная цена 12190 в 'last_price'\n",
    "нахожу с помощью query что это объект\n",
    "оказывается что двухкомнотная квартира в Питере. Что недостоверно. \n",
    "следующие по величине цены 430000 - 2 объекта в области, поселок станции и еще что-то. Такую цену считаю возможной. \n",
    "Заменяю значение 12190 на медиану. "
   ]
  },
  {
   "cell_type": "markdown",
   "metadata": {},
   "source": [
    "<div class=\"alert alert-info\">Дополнено поиском и заменой аномальной цены в 'last_price'</div>"
   ]
  },
  {
   "cell_type": "code",
   "execution_count": 4,
   "metadata": {},
   "outputs": [
    {
     "name": "stdout",
     "output_type": "stream",
     "text": [
      "манимальная цена продажи 12190\n",
      "last_price\n",
      "12190        1\n",
      "430000       2\n",
      "440000       1\n",
      "450000       4\n",
      "470000       3\n",
      "            ..\n",
      "300000000    1\n",
      "330000000    1\n",
      "401300000    1\n",
      "420000000    1\n",
      "763000000    1\n",
      "Name: locality_name, Length: 2978, dtype: int64\n"
     ]
    },
    {
     "data": {
      "image/png": "[encoded data removed]",
      "text/plain": [
       "<Figure size 432x288 with 1 Axes>"
      ]
     },
     "metadata": {
      "needs_background": "light"
     },
     "output_type": "display_data"
    },
    {
     "name": "stdout",
     "output_type": "stream",
     "text": [
      "      total_images  last_price  total_area first_day_exposition  rooms  \\\n",
      "8793             7       12190       109.0           2019-03-20      2   \n",
      "\n",
      "      ceiling_height  floors_total  living_area  floor  is_apartment  ...  \\\n",
      "8793            2.75          25.0         32.0     25         False  ...   \n",
      "\n",
      "      balcony    locality_name  airports_nearest  city_centers_nearest  \\\n",
      "8793        0  Санкт-Петербург           36421.0                9176.0   \n",
      "\n",
      "     parks_around3000  parks_nearest  ponds_around3000  ponds_nearest  \\\n",
      "8793                1          805.0                 0            NaN   \n",
      "\n",
      "      days_exposition  ceiling_normal  \n",
      "8793              8.0            2.75  \n",
      "\n",
      "[1 rows x 23 columns]\n",
      "       total_images  last_price  total_area first_day_exposition  rooms  \\\n",
      "14911             5      430000        54.0           2018-06-26      2   \n",
      "17456             7      430000        30.4           2019-04-22      1   \n",
      "\n",
      "       ceiling_height  floors_total  living_area  floor  is_apartment  ...  \\\n",
      "14911             NaN           3.0          NaN      3         False  ...   \n",
      "17456             NaN           2.0         16.0      1         False  ...   \n",
      "\n",
      "       balcony          locality_name  airports_nearest  city_centers_nearest  \\\n",
      "14911        0  посёлок станции Свирь               NaN                   NaN   \n",
      "17456        0                 Сланцы               NaN                   NaN   \n",
      "\n",
      "      parks_around3000  parks_nearest  ponds_around3000  ponds_nearest  \\\n",
      "14911                0            NaN                 0            NaN   \n",
      "17456                0            NaN                 0            NaN   \n",
      "\n",
      "       days_exposition  ceiling_normal  \n",
      "14911             44.0             NaN  \n",
      "17456          no_data             NaN  \n",
      "\n",
      "[2 rows x 23 columns]\n",
      "<class 'pandas.core.frame.DataFrame'>\n",
      "RangeIndex: 23699 entries, 0 to 23698\n",
      "Data columns (total 23 columns):\n",
      " #   Column                Non-Null Count  Dtype         \n",
      "---  ------                --------------  -----         \n",
      " 0   total_images          23699 non-null  int64         \n",
      " 1   last_price            23699 non-null  float64       \n",
      " 2   total_area            23699 non-null  float64       \n",
      " 3   first_day_exposition  23699 non-null  datetime64[ns]\n",
      " 4   rooms                 23699 non-null  int64         \n",
      " 5   ceiling_height        14504 non-null  float64       \n",
      " 6   floors_total          23613 non-null  float64       \n",
      " 7   living_area           21796 non-null  float64       \n",
      " 8   floor                 23699 non-null  int64         \n",
      " 9   is_apartment          23699 non-null  bool          \n",
      " 10  studio                23699 non-null  bool          \n",
      " 11  open_plan             23699 non-null  bool          \n",
      " 12  kitchen_area          21421 non-null  float64       \n",
      " 13  balcony               23699 non-null  int8          \n",
      " 14  locality_name         23699 non-null  object        \n",
      " 15  airports_nearest      18157 non-null  float64       \n",
      " 16  city_centers_nearest  18180 non-null  float64       \n",
      " 17  parks_around3000      23699 non-null  int8          \n",
      " 18  parks_nearest         8079 non-null   float64       \n",
      " 19  ponds_around3000      23699 non-null  int8          \n",
      " 20  ponds_nearest         9110 non-null   float64       \n",
      " 21  days_exposition       23699 non-null  object        \n",
      " 22  ceiling_normal        14504 non-null  float64       \n",
      "dtypes: bool(3), datetime64[ns](1), float64(11), int64(3), int8(3), object(2)\n",
      "memory usage: 3.2+ MB\n",
      "None\n"
     ]
    }
   ],
   "source": [
    "data['ceiling_normal'] = data['ceiling_height'] \n",
    "#data['ceiling_normal'] = data.loc[2<=data'ceiling_normal'<=5,'ceiling_normal']\n",
    "data.loc[data['ceiling_normal']>= 20, 'ceiling_normal'] = data.loc[data['ceiling_normal'] >= 20, 'ceiling_normal'] / 10                                  \n",
    "data.loc[data['ceiling_normal']>= 5, 'ceiling_normal'] = data['ceiling_normal'].mean() \n",
    "data.loc[data['ceiling_normal']<= 2, 'ceiling_normal'] = data['ceiling_normal'].mean()\n",
    "#print(data['ceiling_normal'].unique())\n",
    "print('манимальная цена продажи',data['last_price'].min())\n",
    "data['last_price'].hist(bins=100,range=(0, 1000000))\n",
    "print(data.groupby('last_price')['locality_name'].count())\n",
    "#data_low['last_price']=(data_low['total_area']*114849)\n",
    "plt.show()\n",
    "data_low = data.query('last_price == 12190')\n",
    "print(data_low)\n",
    "data_low2 = data.query('last_price == 430000')\n",
    "print(data_low2)\n",
    "data.loc[data['last_price']<= 400000, 'last_price'] = data['last_price'].median()\n",
    "\n",
    "print(data.info())\n",
    "#print(data.head())"
   ]
  },
  {
   "cell_type": "markdown",
   "metadata": {},
   "source": [
    "<div class=\"alert alert-info\">проверила дополнительно аномальные случаи в last_price и нашла проблему\n",
    "</div>"
   ]
  },
  {
   "cell_type": "markdown",
   "metadata": {},
   "source": [
    "<div class=\"alert alert-info\">Если last_price это вопрос про int и float? Первоначально оставила float, т.к он не против природы явления. а может копейки от каких-нибуль кадастровых формул при продаже банками, при пересчете валют итд? Поменяла на int. Но вопрос навел на мысли проверить минимальные значения. Но позникла идея пристально посмотреть значениия в этом слолбце. Минимальная цена столбце  12190.0, не очень достоверная цена для недвижимости ... а может избушка...? Я попробую сделать выборку query... А это двушка в 9 км от центра Питера на 25-м этаже 25 этажки проданная через 8 дней после подачи объяления - и я даже не знаю, тут 2 нуля потеряны или три?Т.к. средняя цена за метр в Питере, как мы узнали равна 114849. Поэтому наверно объект был скорее 12 млн, но точно не известно. Заменю на медиану. </div>"
   ]
  },
  {
   "cell_type": "markdown",
   "metadata": {},
   "source": [
    "# 3 Посчитайте и добавьте в таблицу новые столбцы"
   ]
  },
  {
   "cell_type": "markdown",
   "metadata": {},
   "source": [
    "### добавление новых столбцов: \n",
    "1. Цена за квадратный метр 'price_per_m' считаю как цена одного квадратного метра = цена / общий метраж. \n",
    "2. Добавляю 'week_day' 'year' 'month'\n",
    "3. Этаж 'flow_categ'определяю в категорию с помощью функции \n",
    "4. Расстояние в километрах 'from_city_centers'\n"
   ]
  },
  {
   "cell_type": "code",
   "execution_count": 5,
   "metadata": {},
   "outputs": [
    {
     "name": "stdout",
     "output_type": "stream",
     "text": [
      "<class 'pandas.core.frame.DataFrame'>\n",
      "RangeIndex: 23699 entries, 0 to 23698\n",
      "Data columns (total 29 columns):\n",
      " #   Column                Non-Null Count  Dtype         \n",
      "---  ------                --------------  -----         \n",
      " 0   total_images          23699 non-null  int64         \n",
      " 1   last_price            23699 non-null  float64       \n",
      " 2   total_area            23699 non-null  float64       \n",
      " 3   first_day_exposition  23699 non-null  datetime64[ns]\n",
      " 4   rooms                 23699 non-null  int64         \n",
      " 5   ceiling_height        14504 non-null  float64       \n",
      " 6   floors_total          23613 non-null  float64       \n",
      " 7   living_area           21796 non-null  float64       \n",
      " 8   floor                 23699 non-null  int64         \n",
      " 9   is_apartment          23699 non-null  bool          \n",
      " 10  studio                23699 non-null  bool          \n",
      " 11  open_plan             23699 non-null  bool          \n",
      " 12  kitchen_area          21421 non-null  float64       \n",
      " 13  balcony               23699 non-null  int8          \n",
      " 14  locality_name         23699 non-null  object        \n",
      " 15  airports_nearest      18157 non-null  float64       \n",
      " 16  city_centers_nearest  18180 non-null  float64       \n",
      " 17  parks_around3000      23699 non-null  int8          \n",
      " 18  parks_nearest         8079 non-null   float64       \n",
      " 19  ponds_around3000      23699 non-null  int8          \n",
      " 20  ponds_nearest         9110 non-null   float64       \n",
      " 21  days_exposition       23699 non-null  object        \n",
      " 22  ceiling_normal        14504 non-null  float64       \n",
      " 23  price_per_m           23699 non-null  float64       \n",
      " 24  week_day              23699 non-null  int64         \n",
      " 25  year                  23699 non-null  int64         \n",
      " 26  month                 23699 non-null  int64         \n",
      " 27  flow_categ            23699 non-null  object        \n",
      " 28  from_city_centers     18180 non-null  float64       \n",
      "dtypes: bool(3), datetime64[ns](1), float64(13), int64(6), int8(3), object(3)\n",
      "memory usage: 4.3+ MB\n",
      "None\n",
      "   total_images  last_price  total_area first_day_exposition  rooms  \\\n",
      "0            20  13000000.0       108.0           2019-03-07      3   \n",
      "1             7   3350000.0        40.4           2018-12-04      1   \n",
      "2            10   5196000.0        56.0           2015-08-20      2   \n",
      "3             0  64900000.0       159.0           2015-07-24      3   \n",
      "4             2  10000000.0       100.0           2018-06-19      2   \n",
      "\n",
      "   ceiling_height  floors_total  living_area  floor  is_apartment  ...  \\\n",
      "0            2.70          16.0         51.0      8         False  ...   \n",
      "1             NaN          11.0         18.6      1         False  ...   \n",
      "2             NaN           5.0         34.3      4         False  ...   \n",
      "3             NaN          14.0          NaN      9         False  ...   \n",
      "4            3.03          14.0         32.0     13         False  ...   \n",
      "\n",
      "   ponds_around3000  ponds_nearest  days_exposition  ceiling_normal  \\\n",
      "0                 2          755.0          no_data            2.70   \n",
      "1                 0            NaN             81.0             NaN   \n",
      "2                 2          574.0            558.0             NaN   \n",
      "3                 3          234.0            424.0             NaN   \n",
      "4                 1           48.0            121.0            3.03   \n",
      "\n",
      "     price_per_m  week_day  year  month  flow_categ  from_city_centers  \n",
      "0  120370.370370         3  2019      3      другой               16.0  \n",
      "1   82920.792079         1  2018     12      первый               19.0  \n",
      "2   92785.714286         3  2015      8      другой               14.0  \n",
      "3  408176.100629         4  2015      7      другой                7.0  \n",
      "4  100000.000000         1  2018      6      другой                8.0  \n",
      "\n",
      "[5 rows x 29 columns]\n"
     ]
    }
   ],
   "source": [
    "#data ['total_area'].unique()\n",
    "#print (data['total_area'].min())\n",
    "\n",
    "data['price_per_m'] = data['last_price']/data['total_area']\n",
    "data['week_day'] = data['first_day_exposition'].dt.weekday\n",
    "data['year'] = data['first_day_exposition'].dt.year\n",
    "data['month'] = data['first_day_exposition'].dt.month\n",
    "def flow_categ(row):\n",
    "    floor=row['floor']\n",
    "    floors_total= row['floors_total'] \n",
    "    if  floor ==1:  \n",
    "            return 'первый'\n",
    "    if floor==floors_total: \n",
    "            return 'последний'\n",
    "    else: \n",
    "            return 'другой'\n",
    "\n",
    "data['flow_categ']=data.apply(flow_categ, axis=1)  \n",
    "\n",
    "data['from_city_centers']= round(data['city_centers_nearest']/1000)\n",
    "data['from_city_centers'].dropna()\n",
    "data['from_city_centers']=pd.to_numeric(data['from_city_centers'],downcast='signed', errors='coerce')\n",
    "print(data.info())\n",
    "print(data.head())\n",
    "\n",
    "\n",
    "\n"
   ]
  },
  {
   "cell_type": "markdown",
   "metadata": {},
   "source": [
    "# 4 Проведите исследовательский анализ данных"
   ]
  },
  {
   "cell_type": "markdown",
   "metadata": {},
   "source": [
    "### анализ данных по категориям (столбцам)\n",
    "\n",
    "1. Для цены объекта захотелось построить вторую прицельную диаграмму в р-не распределения большинства значений 10000, 10000000, получилась хорошая, картинка нормального распределения (Гаусс?)\n",
    "\n",
    "2. Высота потолков у меня уже в новом столбце ceiling_normal\n",
    "\n",
    "3. Для категориальной переменной \"тип этажа\" была построена диаграмма-пирог. \n",
    "\n",
    "4. Общее количество этажей в доме - два пика, пятиэтажки и десятиэтажки, достоверно. Пятиэтажки в самом большом количестве представлены. Владельцы вероятно стремятся их продать. Предложение может быть больше спроса, беру на заметку, возможно это влияет на цену. \n",
    "\n",
    "5. День и месяц публикации объявления - поняла задание как день недели и месяц, чтобы проанализировать изменение активности по дням недели и сезонную. В выходные меньше - у риэлторов выходные. По сезонности - май и (декабрь-январь) меньше активности (больше праздников)\n",
    "\n",
    "6.'days_exposition' - в предобработке данных я не пришла к решению, как воспринимать пропуски и чем заполнять. Поэтому формат меняю только сейчас. Подробнее строю в интервале 0-200. Вижу вспелски до и после 50 дней. Что бы это значило? Сроки предпоплаченных объявлений, рекламы? Пока такая версия. Строю ящик с усами. И вызываю числовое описание. \n",
    "count    20518.000000\n",
    "mean       180.888634 - среднее очень сильно выбивается за счет выбросов в большие значение вообще не показатель здесь\n",
    "std        219.727988\n",
    "min          1.000000\n",
    "25%         45.000000 - начало нормального срока продажи (ниже - быстрые). Вспоминаю про \"всплеск\" продаж примерно в этом р-не. Думаю это как-то связано с рекламной политикой и ценнообразованием в профессиональном сегменте. (риэлторы сообщают, что быстро не продается, нужно снижать цену, давать рекламу итд.- это все в области предположений, конечно)\n",
    "50%         95.000000 - медиана, более релевантна,чем среднее\n",
    "75%        232.000000 - верхняя граница нормального срока продажи (выше - долгие)\n",
    "max       1580.000000\n",
    "В целом тут не Гаусс, что что-то более сложное. Вероятность продажи квартиры падает, по мере срока ее размещения. Но вероятно применяются допактивности, т.к. есть всплески. \n",
    "Вторая догадка про вспеск в 45 дней - это срок завершения каких-либо регистрационых действий (квартиры нашедшей покупателя почти сразу). \n",
    "Хотелось бы понимать, на каком этапе снимаются объявления - по факту договора, перехода права итд. \n",
    "\n",
    "\n",
    "\n"
   ]
  },
  {
   "cell_type": "code",
   "execution_count": 6,
   "metadata": {
    "scrolled": false
   },
   "outputs": [
    {
     "name": "stdout",
     "output_type": "stream",
     "text": [
      "Общая площадь: | минимум 12.0 | максимум: 900.0 | медиана: 52.0 | среднее: 60.34865099793241 AxesSubplot(0.125,0.125;0.775x0.755)\n"
     ]
    },
    {
     "data": {
      "image/png": "[encoded data removed]",
      "text/plain": [
       "<Figure size 432x288 with 1 Axes>"
      ]
     },
     "metadata": {
      "needs_background": "light"
     },
     "output_type": "display_data"
    },
    {
     "name": "stdout",
     "output_type": "stream",
     "text": [
      "Жилая площадь: | минимум 2.0 | максимум: 409.7 | медиана: 30.0 | среднее: 34.457852427601395\n"
     ]
    },
    {
     "data": {
      "image/png": "[encoded data removed]",
      "text/plain": [
       "<Figure size 432x288 with 1 Axes>"
      ]
     },
     "metadata": {
      "needs_background": "light"
     },
     "output_type": "display_data"
    },
    {
     "name": "stdout",
     "output_type": "stream",
     "text": [
      "Площадь кухни: | минимум 1.3 | максимум: 112.0 | медиана: 9.1 | среднее: 10.569807198543485\n"
     ]
    },
    {
     "data": {
      "image/png": "[encoded data removed]",
      "text/plain": [
       "<Figure size 432x288 with 1 Axes>"
      ]
     },
     "metadata": {
      "needs_background": "light"
     },
     "output_type": "display_data"
    },
    {
     "name": "stdout",
     "output_type": "stream",
     "text": [
      "Цена объекта: | минимум 430000.0 | максимум: 763000000.0 | медиана: 4650000.0 | среднее: 6541744.46799443\n"
     ]
    },
    {
     "data": {
      "image/png": "[encoded data removed]",
      "text/plain": [
       "<Figure size 432x288 with 1 Axes>"
      ]
     },
     "metadata": {
      "needs_background": "light"
     },
     "output_type": "display_data"
    },
    {
     "data": {
      "image/png": "[encoded data removed]",
      "text/plain": [
       "<Figure size 432x288 with 1 Axes>"
      ]
     },
     "metadata": {
      "needs_background": "light"
     },
     "output_type": "display_data"
    },
    {
     "name": "stdout",
     "output_type": "stream",
     "text": [
      "Количество комнат: | минимум 0 | максимум: 19 | медиана: 2.0 | среднее: 2.070635891809781\n"
     ]
    },
    {
     "data": {
      "image/png": "[encoded data removed]",
      "text/plain": [
       "<Figure size 432x288 with 1 Axes>"
      ]
     },
     "metadata": {
      "needs_background": "light"
     },
     "output_type": "display_data"
    },
    {
     "name": "stdout",
     "output_type": "stream",
     "text": [
      "Высота потолков: | минимум 2.2 | максимум: 4.9 | медиана: 2.65 | среднее: 2.7257168024788343\n"
     ]
    },
    {
     "data": {
      "image/png": "[encoded data removed]",
      "text/plain": [
       "<Figure size 432x288 with 1 Axes>"
      ]
     },
     "metadata": {
      "needs_background": "light"
     },
     "output_type": "display_data"
    },
    {
     "name": "stdout",
     "output_type": "stream",
     "text": [
      "Этаж квартиры: | минимум 1 | максимум: 33 | медиана: 4.0 | среднее: 5.892358327355584\n"
     ]
    },
    {
     "data": {
      "image/png": "[encoded data removed]",
      "text/plain": [
       "<Figure size 432x288 with 1 Axes>"
      ]
     },
     "metadata": {
      "needs_background": "light"
     },
     "output_type": "display_data"
    },
    {
     "name": "stdout",
     "output_type": "stream",
     "text": [
      "Тип этажа квартиры: ['другой' 'первый' 'последний']\n",
      "flow_categ\n",
      "другой       17446\n",
      "первый        2917\n",
      "последний     3336\n",
      "Name: flow_categ, dtype: int64\n",
      "Общее количество этажей в доме: | минимум 1.0 | максимум: 60.0 | медиана: 9.0 | среднее: 10.67382374115953\n"
     ]
    },
    {
     "data": {
      "image/png": "[encoded data removed]",
      "text/plain": [
       "<Figure size 360x360 with 1 Axes>"
      ]
     },
     "metadata": {},
     "output_type": "display_data"
    },
    {
     "name": "stdout",
     "output_type": "stream",
     "text": [
      "Расстояние до центра города в метрах: | минимум 181.0 | максимум: 65968.0 | медиана: 13098.5 | среднее: 14191.277832783278\n"
     ]
    },
    {
     "data": {
      "image/png": "[encoded data removed]",
      "text/plain": [
       "<Figure size 432x288 with 1 Axes>"
      ]
     },
     "metadata": {
      "needs_background": "light"
     },
     "output_type": "display_data"
    },
    {
     "name": "stdout",
     "output_type": "stream",
     "text": [
      "Расстояние до ближайшего аэропорта: | минимум 0.0 | максимум: 84869.0 | медиана: 26726.0 | среднее: 28793.67219254282\n"
     ]
    },
    {
     "data": {
      "image/png": "[encoded data removed]",
      "text/plain": [
       "<Figure size 432x288 with 1 Axes>"
      ]
     },
     "metadata": {
      "needs_background": "light"
     },
     "output_type": "display_data"
    },
    {
     "name": "stdout",
     "output_type": "stream",
     "text": [
      "Расстояние до ближайшего парка: | минимум 1.0 | максимум: 3190.0 | медиана: 455.0 | среднее: 490.80455501918556\n"
     ]
    },
    {
     "data": {
      "image/png": "[encoded data removed]",
      "text/plain": [
       "<Figure size 432x288 with 1 Axes>"
      ]
     },
     "metadata": {
      "needs_background": "light"
     },
     "output_type": "display_data"
    },
    {
     "name": "stdout",
     "output_type": "stream",
     "text": [
      "Расстояние до ближайшего парка: | минимум 1.0 | максимум: 3190.0 | медиана: 455.0 | среднее: 490.80455501918556\n"
     ]
    },
    {
     "data": {
      "image/png": "[encoded data removed]",
      "text/plain": [
       "<Figure size 432x288 with 1 Axes>"
      ]
     },
     "metadata": {
      "needs_background": "light"
     },
     "output_type": "display_data"
    },
    {
     "name": "stdout",
     "output_type": "stream",
     "text": [
      "День публикации объявления [3 1 4 0 2 6 5]\n"
     ]
    },
    {
     "data": {
      "image/png": "[encoded data removed]",
      "text/plain": [
       "<Figure size 432x288 with 1 Axes>"
      ]
     },
     "metadata": {
      "needs_background": "light"
     },
     "output_type": "display_data"
    },
    {
     "name": "stdout",
     "output_type": "stream",
     "text": [
      "Месяц публикации объявления [ 3 12  8  7  6  9 11  4  5  2  1 10]\n"
     ]
    },
    {
     "data": {
      "image/png": "[encoded data removed]",
      "text/plain": [
       "<Figure size 432x288 with 1 Axes>"
      ]
     },
     "metadata": {
      "needs_background": "light"
     },
     "output_type": "display_data"
    },
    {
     "name": "stdout",
     "output_type": "stream",
     "text": [
      "Срок до продажи квартиры: | минимум 1.0 | максимум: 1580.0 | медиана: 95.0 | среднее: 180.88863436982163\n"
     ]
    },
    {
     "data": {
      "image/png": "[encoded data removed]",
      "text/plain": [
       "<Figure size 432x288 with 1 Axes>"
      ]
     },
     "metadata": {
      "needs_background": "light"
     },
     "output_type": "display_data"
    },
    {
     "data": {
      "image/png": "[encoded data removed]",
      "text/plain": [
       "<Figure size 432x288 with 1 Axes>"
      ]
     },
     "metadata": {
      "needs_background": "light"
     },
     "output_type": "display_data"
    },
    {
     "data": {
      "image/png": "[encoded data removed]",
      "text/plain": [
       "<Figure size 432x288 with 1 Axes>"
      ]
     },
     "metadata": {
      "needs_background": "light"
     },
     "output_type": "display_data"
    },
    {
     "name": "stdout",
     "output_type": "stream",
     "text": [
      "count    20518.000000\n",
      "mean       180.888634\n",
      "std        219.727988\n",
      "min          1.000000\n",
      "25%         45.000000\n",
      "50%         95.000000\n",
      "75%        232.000000\n",
      "max       1580.000000\n",
      "Name: days_exposition, dtype: float64\n",
      "<class 'pandas.core.frame.DataFrame'>\n",
      "RangeIndex: 23699 entries, 0 to 23698\n",
      "Data columns (total 29 columns):\n",
      " #   Column                Non-Null Count  Dtype         \n",
      "---  ------                --------------  -----         \n",
      " 0   total_images          23699 non-null  int64         \n",
      " 1   last_price            23699 non-null  float64       \n",
      " 2   total_area            23699 non-null  float64       \n",
      " 3   first_day_exposition  23699 non-null  datetime64[ns]\n",
      " 4   rooms                 23699 non-null  int64         \n",
      " 5   ceiling_height        14504 non-null  float64       \n",
      " 6   floors_total          23613 non-null  float64       \n",
      " 7   living_area           21796 non-null  float64       \n",
      " 8   floor                 23699 non-null  int64         \n",
      " 9   is_apartment          23699 non-null  bool          \n",
      " 10  studio                23699 non-null  bool          \n",
      " 11  open_plan             23699 non-null  bool          \n",
      " 12  kitchen_area          21421 non-null  float64       \n",
      " 13  balcony               23699 non-null  int8          \n",
      " 14  locality_name         23699 non-null  object        \n",
      " 15  airports_nearest      18157 non-null  float64       \n",
      " 16  city_centers_nearest  18180 non-null  float64       \n",
      " 17  parks_around3000      23699 non-null  int8          \n",
      " 18  parks_nearest         8079 non-null   float64       \n",
      " 19  ponds_around3000      23699 non-null  int8          \n",
      " 20  ponds_nearest         9110 non-null   float64       \n",
      " 21  days_exposition       20518 non-null  float64       \n",
      " 22  ceiling_normal        14504 non-null  float64       \n",
      " 23  price_per_m           23699 non-null  float64       \n",
      " 24  week_day              23699 non-null  int64         \n",
      " 25  year                  23699 non-null  int64         \n",
      " 26  month                 23699 non-null  int64         \n",
      " 27  flow_categ            23699 non-null  object        \n",
      " 28  from_city_centers     18180 non-null  float64       \n",
      "dtypes: bool(3), datetime64[ns](1), float64(14), int64(6), int8(3), object(2)\n",
      "memory usage: 4.3+ MB\n"
     ]
    }
   ],
   "source": [
    "import matplotlib.pyplot as plt\n",
    "print ('Общая площадь:','| минимум', data['total_area'].min(),\n",
    "'| максимум:', data['total_area'].max(),\n",
    "'| медиана:', data['total_area'].median(),\n",
    "'| среднее:',data['total_area'].mean(),data['total_area'].hist(bins=50))\n",
    "data['total_area'].hist(bins=50)\n",
    "plt.show()\n",
    "print ('Жилая площадь:','| минимум', data['living_area'].min(),\n",
    "'| максимум:', data['living_area'].max(),\n",
    "'| медиана:', data['living_area'].median(),\n",
    "'| среднее:',data['living_area'].mean())\n",
    "data['living_area'].hist(bins=50)\n",
    "plt.show()\n",
    "print ('Площадь кухни:','| минимум', data['kitchen_area'].min(),\n",
    "'| максимум:', data['kitchen_area'].max(),\n",
    "'| медиана:', data['kitchen_area'].median(),\n",
    "'| среднее:',data['kitchen_area'].mean())\n",
    "data['kitchen_area'].hist(bins=50)\n",
    "plt.show()\n",
    "print ('Цена объекта:','| минимум', data['last_price'].min(),\n",
    "'| максимум:', data['last_price'].max(),\n",
    "'| медиана:', data['last_price'].median(),\n",
    "'| среднее:',data['last_price'].mean())\n",
    "data['last_price'].hist(bins=100)\n",
    "plt.show()\n",
    "data['last_price'].hist(bins=100,range=(10000, 10000000))\n",
    "plt.show()\n",
    "print ('Количество комнат:','| минимум', data['rooms'].min(),\n",
    "'| максимум:', data['rooms'].max(),\n",
    "'| медиана:', data['rooms'].median(),\n",
    "'| среднее:',data['rooms'].mean())\n",
    "data['rooms'].hist(bins=20)\n",
    "plt.show()\n",
    "print ('Высота потолков:','| минимум', data['ceiling_normal'].min(),\n",
    "'| максимум:', data['ceiling_normal'].max(),\n",
    "'| медиана:', data['ceiling_normal'].median(),\n",
    "'| среднее:',data['ceiling_normal'].mean())\n",
    "data['ceiling_normal'].hist(bins=30)\n",
    "plt.show()\n",
    "print ('Этаж квартиры:','| минимум', data['floor'].min(),\n",
    "'| максимум:', data['floor'].max(),\n",
    "'| медиана:', data['floor'].median(),\n",
    "'| среднее:',data['floor'].mean())\n",
    "data['floor'].hist(bins=30)\n",
    "plt.show()\n",
    "print ('Тип этажа квартиры:', data['flow_categ'].unique())\n",
    "print(data.groupby('flow_categ')['flow_categ'].count())\n",
    "df = pd.DataFrame({'part': [17446, 2917 , 3336],\n",
    "                   },\n",
    "                  index=['другой', 'первый', 'последний'])\n",
    "plot = df.plot.pie(y='part', figsize=(5, 5))\n",
    "#flow_categ\n",
    "#другой       17446\n",
    "#первый        2917\n",
    "#последний     3336\n",
    "#data.plot(y='flow_categ',kind='bar')\n",
    "#data['flow_categ'].plot(kind='pie')\n",
    "#plt.show()\n",
    "print ('Общее количество этажей в доме:','| минимум', data['floors_total'].min(),\n",
    "'| максимум:', data['floors_total'].max(),\n",
    "'| медиана:', data['floors_total'].median(),\n",
    "'| среднее:',data['floors_total'].mean())\n",
    "data['floors_total'].hist(bins=60)\n",
    "plt.show()\n",
    "print ('Расстояние до центра города в метрах:','| минимум', data['city_centers_nearest'].min(),\n",
    "'| максимум:', data['city_centers_nearest'].max(),\n",
    "'| медиана:', data['city_centers_nearest'].median(),\n",
    "'| среднее:',data['city_centers_nearest'].mean())\n",
    "data['city_centers_nearest'].hist(bins=60)\n",
    "plt.show()\n",
    "print ('Расстояние до ближайшего аэропорта:','| минимум', data['airports_nearest'].min(),\n",
    "'| максимум:', data['airports_nearest'].max(),\n",
    "'| медиана:', data['airports_nearest'].median(),\n",
    "'| среднее:',data['airports_nearest'].mean())\n",
    "data['airports_nearest'].hist(bins=60)\n",
    "plt.show()\n",
    "print ('Расстояние до ближайшего парка:','| минимум', data['parks_nearest'].min(),\n",
    "'| максимум:', data['parks_nearest'].max(),\n",
    "'| медиана:', data['parks_nearest'].median(),\n",
    "'| среднее:',data['parks_nearest'].mean())\n",
    "data['parks_nearest'].hist(bins=60)\n",
    "plt.show()\n",
    "print ('Расстояние до ближайшего парка:','| минимум', data['parks_nearest'].min(),\n",
    "'| максимум:', data['parks_nearest'].max(),\n",
    "'| медиана:', data['parks_nearest'].median(),\n",
    "'| среднее:',data['parks_nearest'].mean())\n",
    "data['parks_nearest'].hist(bins=60)\n",
    "plt.show()\n",
    "print ('День публикации объявления',data['week_day'].unique())\n",
    "data['week_day'].hist(bins=7)\n",
    "plt.show()\n",
    "print ('Месяц публикации объявления',data['month'].unique())\n",
    "data['month'].hist(bins=12)\n",
    "plt.show()\n",
    "data['days_exposition'].dropna()\n",
    "data['days_exposition']= pd.to_numeric(data['days_exposition'],downcast='signed',errors='coerce')\n",
    "print ('Срок до продажи квартиры:','| минимум', data['days_exposition'].min(),\n",
    "'| максимум:', data['days_exposition'].max(),\n",
    "'| медиана:', data['days_exposition'].median(),\n",
    "'| среднее:',data['days_exposition'].mean())\n",
    "data['days_exposition'].hist(bins=50)\n",
    "plt.show()\n",
    "data['days_exposition'].hist(bins=50,range=(0, 200))\n",
    "plt.show()\n",
    "data.boxplot(column='days_exposition')\n",
    "plt.show()\n",
    "print(data['days_exposition'].describe())\n",
    "\n",
    "data.info()\n"
   ]
  },
  {
   "cell_type": "markdown",
   "metadata": {},
   "source": [
    "### рассчет взаимосвязей данных и анализ выявленных взаимосвязей \n",
    "Примечания: \n",
    "Для предварительно поиска взаимосвязей с ценой объекта построим матрицу корреляций для всего. \n",
    "Выпишем те значения, где наблюдается положительная корреляция \n",
    "total_area - 0.653675, есть но не очень высокая\n",
    "living_area - 0.566492, есть, но слабая\n",
    "kitchen_area - 0.519869 есть, но слабая\n",
    "price_per_m - 0.736499 корреляция хорошая, но это вторичные данные рассчитанные на основе last_price. Эту взаимосвязь мы сделали сами.\n",
    "Для исследования остаются только первые 3. Построим для них диаграммы рассеивания.  \n",
    "Для total_area, living_area, kitchen_area картины очень похожие - диаграммы иллюстрирует зависимость, но по мере увеличения цены объекта связь ослабевает. Резкий уголок а начале - (при небольших габаритах квартир кажлый метр на счету -?), а дальше графики буквально идут вдоль оси Х. Связь есть, но не сильная. Что и по коэффициенту корреляции можно понять. "
   ]
  },
  {
   "cell_type": "code",
   "execution_count": 7,
   "metadata": {
    "scrolled": false
   },
   "outputs": [
    {
     "name": "stdout",
     "output_type": "stream",
     "text": [
      "                      total_images  last_price  total_area     rooms  \\\n",
      "total_images              1.000000    0.104465    0.115352  0.099288   \n",
      "last_price                0.104465    1.000000    0.653704  0.363344   \n",
      "total_area                0.115352    0.653704    1.000000  0.758344   \n",
      "rooms                     0.099288    0.363344    0.758344  1.000000   \n",
      "ceiling_height           -0.001987    0.085431    0.095490  0.054457   \n",
      "floors_total              0.010427   -0.006944   -0.075774 -0.228215   \n",
      "living_area               0.104780    0.566494    0.939537  0.845977   \n",
      "floor                     0.031340    0.026646   -0.024754 -0.150862   \n",
      "is_apartment              0.010532    0.026957    0.029633  0.000399   \n",
      "studio                   -0.029303   -0.025363   -0.072653 -0.147286   \n",
      "open_plan                -0.024407   -0.008803   -0.034885 -0.087500   \n",
      "kitchen_area              0.104756    0.519987    0.609121  0.269945   \n",
      "balcony                   0.048903    0.008548    0.009941 -0.015519   \n",
      "airports_nearest         -0.002298   -0.026226   -0.030753 -0.061199   \n",
      "city_centers_nearest     -0.047666   -0.206761   -0.231446 -0.184864   \n",
      "parks_around3000          0.037085    0.197854    0.200211  0.157495   \n",
      "parks_nearest            -0.008347   -0.016380   -0.021497 -0.054549   \n",
      "ponds_around3000          0.011323    0.208610    0.200294  0.121276   \n",
      "ponds_nearest            -0.003034   -0.084809   -0.097969 -0.057689   \n",
      "days_exposition          -0.026657    0.081130    0.149675  0.126961   \n",
      "ceiling_normal            0.044435    0.382820    0.477950  0.299844   \n",
      "price_per_m               0.132769    0.736503    0.302026  0.055420   \n",
      "week_day                 -0.010433    0.001544   -0.004695 -0.004134   \n",
      "year                      0.140411   -0.043061   -0.079912 -0.055418   \n",
      "month                     0.005043    0.002762    0.004920 -0.004469   \n",
      "from_city_centers        -0.047120   -0.207010   -0.231255 -0.184374   \n",
      "\n",
      "                      ceiling_height  floors_total  living_area     floor  \\\n",
      "total_images               -0.001987      0.010427     0.104780  0.031340   \n",
      "last_price                  0.085431     -0.006944     0.566494  0.026646   \n",
      "total_area                  0.095490     -0.075774     0.939537 -0.024754   \n",
      "rooms                       0.054457     -0.228215     0.845977 -0.150862   \n",
      "ceiling_height              1.000000     -0.028732     0.090650 -0.011798   \n",
      "floors_total               -0.028732      1.000000    -0.169311  0.678059   \n",
      "living_area                 0.090650     -0.169311     1.000000 -0.097210   \n",
      "floor                      -0.011798      0.678059    -0.097210  1.000000   \n",
      "is_apartment                0.154959     -0.026351     0.026969 -0.013294   \n",
      "studio                      0.001674      0.070151    -0.056231  0.036940   \n",
      "open_plan                   0.042777      0.050791    -0.033711  0.035824   \n",
      "kitchen_area                0.087641      0.163944     0.428674  0.135531   \n",
      "balcony                     0.031216      0.172812    -0.014772  0.168567   \n",
      "airports_nearest           -0.023947      0.108288    -0.057912  0.071597   \n",
      "city_centers_nearest       -0.091689      0.019774    -0.231368  0.009084   \n",
      "parks_around3000            0.062216     -0.158775     0.212357 -0.105212   \n",
      "parks_nearest              -0.019167      0.097527    -0.050167  0.073045   \n",
      "ponds_around3000            0.072343     -0.048698     0.182439 -0.029710   \n",
      "ponds_nearest              -0.059090      0.038864    -0.081674  0.024850   \n",
      "days_exposition             0.019091     -0.052234     0.142454 -0.039463   \n",
      "ceiling_normal              0.207890     -0.093453     0.455864 -0.047810   \n",
      "price_per_m                 0.122869      0.148183     0.226356  0.129215   \n",
      "week_day                   -0.009019      0.013151    -0.005605  0.012347   \n",
      "year                       -0.013567      0.007845    -0.072696  0.004915   \n",
      "month                      -0.001399      0.016651    -0.002483  0.019387   \n",
      "from_city_centers          -0.091722      0.019059    -0.231075  0.008574   \n",
      "\n",
      "                      is_apartment    studio  ...  parks_nearest  \\\n",
      "total_images              0.010532 -0.029303  ...      -0.008347   \n",
      "last_price                0.026957 -0.025363  ...      -0.016380   \n",
      "total_area                0.029633 -0.072653  ...      -0.021497   \n",
      "rooms                     0.000399 -0.147286  ...      -0.054549   \n",
      "ceiling_height            0.154959  0.001674  ...      -0.019167   \n",
      "floors_total             -0.026351  0.070151  ...       0.097527   \n",
      "living_area               0.026969 -0.056231  ...      -0.050167   \n",
      "floor                    -0.013294  0.036940  ...       0.073045   \n",
      "is_apartment              1.000000 -0.003657  ...      -0.033410   \n",
      "studio                   -0.003657  1.000000  ...       0.009134   \n",
      "open_plan                -0.002448 -0.004235  ...       0.010612   \n",
      "kitchen_area              0.049034       NaN  ...       0.029641   \n",
      "balcony                   0.033022  0.028899  ...       0.033256   \n",
      "airports_nearest          0.016470 -0.021876  ...      -0.070058   \n",
      "city_centers_nearest      0.003732 -0.007029  ...      -0.040650   \n",
      "parks_around3000          0.021559 -0.032014  ...      -0.259514   \n",
      "parks_nearest            -0.033410  0.009134  ...       1.000000   \n",
      "ponds_around3000          0.024400 -0.009690  ...       0.077280   \n",
      "ponds_nearest             0.003357  0.002606  ...       0.000692   \n",
      "days_exposition           0.015262 -0.022476  ...       0.023254   \n",
      "ceiling_normal            0.068248  0.009409  ...      -0.057319   \n",
      "price_per_m               0.044726  0.015634  ...       0.007008   \n",
      "week_day                 -0.009492 -0.000843  ...      -0.004548   \n",
      "year                      0.009413  0.011961  ...      -0.020196   \n",
      "month                     0.002369  0.000976  ...       0.018966   \n",
      "from_city_centers         0.003555 -0.007468  ...      -0.040241   \n",
      "\n",
      "                      ponds_around3000  ponds_nearest  days_exposition  \\\n",
      "total_images                  0.011323      -0.003034        -0.026657   \n",
      "last_price                    0.208610      -0.084809         0.081130   \n",
      "total_area                    0.200294      -0.097969         0.149675   \n",
      "rooms                         0.121276      -0.057689         0.126961   \n",
      "ceiling_height                0.072343      -0.059090         0.019091   \n",
      "floors_total                 -0.048698       0.038864        -0.052234   \n",
      "living_area                   0.182439      -0.081674         0.142454   \n",
      "floor                        -0.029710       0.024850        -0.039463   \n",
      "is_apartment                  0.024400       0.003357         0.015262   \n",
      "studio                       -0.009690       0.002606        -0.022476   \n",
      "open_plan                    -0.004127      -0.003328        -0.024112   \n",
      "kitchen_area                  0.175719      -0.105223         0.100586   \n",
      "balcony                      -0.038339       0.020077        -0.027834   \n",
      "airports_nearest             -0.049583       0.014049        -0.018271   \n",
      "city_centers_nearest         -0.074577       0.028903        -0.060714   \n",
      "parks_around3000              0.392668      -0.167103         0.055867   \n",
      "parks_nearest                 0.077280       0.000692         0.023254   \n",
      "ponds_around3000              1.000000      -0.341840         0.066289   \n",
      "ponds_nearest                -0.341840       1.000000        -0.077879   \n",
      "days_exposition               0.066289      -0.077879         1.000000   \n",
      "ceiling_normal                0.269526      -0.143431         0.132484   \n",
      "price_per_m                   0.304356      -0.104974         0.048089   \n",
      "week_day                     -0.000149      -0.002499        -0.024514   \n",
      "year                         -0.049697       0.038233        -0.611308   \n",
      "month                        -0.005373       0.012222        -0.030049   \n",
      "from_city_centers            -0.076162       0.031047        -0.060686   \n",
      "\n",
      "                      ceiling_normal  price_per_m  week_day      year  \\\n",
      "total_images                0.044435     0.132769 -0.010433  0.140411   \n",
      "last_price                  0.382820     0.736503  0.001544 -0.043061   \n",
      "total_area                  0.477950     0.302026 -0.004695 -0.079912   \n",
      "rooms                       0.299844     0.055420 -0.004134 -0.055418   \n",
      "ceiling_height              0.207890     0.122869 -0.009019 -0.013567   \n",
      "floors_total               -0.093453     0.148183  0.013151  0.007845   \n",
      "living_area                 0.455864     0.226356 -0.005605 -0.072696   \n",
      "floor                      -0.047810     0.129215  0.012347  0.004915   \n",
      "is_apartment                0.068248     0.044726 -0.009492  0.009413   \n",
      "studio                      0.009409     0.015634 -0.000843  0.011961   \n",
      "open_plan                   0.012181     0.008264  0.011042 -0.021095   \n",
      "kitchen_area                0.416082     0.397728 -0.008480 -0.054735   \n",
      "balcony                    -0.077985     0.023355 -0.001496  0.004570   \n",
      "airports_nearest           -0.105477    -0.038709  0.001361  0.008969   \n",
      "city_centers_nearest       -0.370513    -0.318004  0.008883  0.032333   \n",
      "parks_around3000            0.294428     0.291728 -0.011262 -0.048969   \n",
      "parks_nearest              -0.057319     0.007008 -0.004548 -0.020196   \n",
      "ponds_around3000            0.269526     0.304356 -0.000149 -0.049697   \n",
      "ponds_nearest              -0.143431    -0.104974 -0.002499  0.038233   \n",
      "days_exposition             0.132484     0.048089 -0.024514 -0.611308   \n",
      "ceiling_normal              1.000000     0.357130 -0.019858 -0.106500   \n",
      "price_per_m                 0.357130     1.000000 -0.007283  0.008573   \n",
      "week_day                   -0.019858    -0.007283  1.000000 -0.004799   \n",
      "year                       -0.106500     0.008573 -0.004799  1.000000   \n",
      "month                       0.004061    -0.002030  0.011496 -0.269642   \n",
      "from_city_centers          -0.370952    -0.318732  0.008685  0.032509   \n",
      "\n",
      "                         month  from_city_centers  \n",
      "total_images          0.005043          -0.047120  \n",
      "last_price            0.002762          -0.207010  \n",
      "total_area            0.004920          -0.231255  \n",
      "rooms                -0.004469          -0.184374  \n",
      "ceiling_height       -0.001399          -0.091722  \n",
      "floors_total          0.016651           0.019059  \n",
      "living_area          -0.002483          -0.231075  \n",
      "floor                 0.019387           0.008574  \n",
      "is_apartment          0.002369           0.003555  \n",
      "studio                0.000976          -0.007468  \n",
      "open_plan             0.025765          -0.003802  \n",
      "kitchen_area          0.002499          -0.190575  \n",
      "balcony               0.009340           0.065277  \n",
      "airports_nearest      0.006555           0.272642  \n",
      "city_centers_nearest -0.008978           0.999452  \n",
      "parks_around3000     -0.002624          -0.162450  \n",
      "parks_nearest         0.018966          -0.040241  \n",
      "ponds_around3000     -0.005373          -0.076162  \n",
      "ponds_nearest         0.012222           0.031047  \n",
      "days_exposition      -0.030049          -0.060686  \n",
      "ceiling_normal        0.004061          -0.370952  \n",
      "price_per_m          -0.002030          -0.318732  \n",
      "week_day              0.011496           0.008685  \n",
      "year                 -0.269642           0.032509  \n",
      "month                 1.000000          -0.009073  \n",
      "from_city_centers    -0.009073           1.000000  \n",
      "\n",
      "[26 rows x 26 columns]\n"
     ]
    }
   ],
   "source": [
    "print(data.corr()) \n",
    "\n"
   ]
  },
  {
   "cell_type": "code",
   "execution_count": 8,
   "metadata": {
    "scrolled": false
   },
   "outputs": [
    {
     "data": {
      "image/png": "[encoded data removed]",
      "text/plain": [
       "<Figure size 432x288 with 1 Axes>"
      ]
     },
     "metadata": {
      "needs_background": "light"
     },
     "output_type": "display_data"
    },
    {
     "data": {
      "image/png": "[encoded data removed]",
      "text/plain": [
       "<Figure size 432x288 with 1 Axes>"
      ]
     },
     "metadata": {
      "needs_background": "light"
     },
     "output_type": "display_data"
    },
    {
     "data": {
      "image/png": "[encoded data removed]",
      "text/plain": [
       "<Figure size 432x288 with 1 Axes>"
      ]
     },
     "metadata": {
      "needs_background": "light"
     },
     "output_type": "display_data"
    }
   ],
   "source": [
    "data.plot(x='total_area', y='last_price', kind='scatter')\n",
    "plt.show()\n",
    "data.plot(x='living_area', y='last_price', kind='scatter')\n",
    "plt.show()\n",
    "data.plot(x='kitchen_area', y='last_price', kind='scatter')\n",
    "plt.show()"
   ]
  },
  {
   "cell_type": "markdown",
   "metadata": {},
   "source": [
    "### визуализация других взаимосвязей\n",
    "По матрице корреляций не обнаружена корреляция между ценой недвижимости и такими характеристиками, как: количество комнат. Попробую проанализировать ее визуально.Вижу какую-то аномалию с 12-ти комнатными квартирами. Интересно, что это, применяю query\n"
   ]
  },
  {
   "cell_type": "code",
   "execution_count": 9,
   "metadata": {},
   "outputs": [
    {
     "name": "stdout",
     "output_type": "stream",
     "text": [
      "       Медиана (цена сделки)\n",
      "rooms                       \n",
      "0                  2700000.0\n",
      "1                  3600000.0\n",
      "2                  4770169.0\n",
      "3                  6200000.0\n",
      "4                  9000000.0\n",
      "5                 14000000.0\n",
      "6                 19000000.0\n",
      "7                 24900000.0\n",
      "8                 23095000.0\n",
      "9                 23750000.0\n",
      "10                23000000.0\n",
      "11                25250000.0\n",
      "12               420000000.0\n",
      "14                26829500.0\n",
      "15                65000000.0\n",
      "16                28500000.0\n",
      "19                32250000.0\n"
     ]
    },
    {
     "data": {
      "image/png": "[encoded data removed]",
      "text/plain": [
       "<Figure size 432x288 with 1 Axes>"
      ]
     },
     "metadata": {
      "needs_background": "light"
     },
     "output_type": "display_data"
    },
    {
     "name": "stdout",
     "output_type": "stream",
     "text": [
      "       total_images   last_price  total_area first_day_exposition  rooms  \\\n",
      "19540             8  420000000.0       900.0           2017-12-06     12   \n",
      "\n",
      "       ceiling_height  floors_total  living_area  floor  is_apartment  ...  \\\n",
      "19540             2.8          25.0        409.7     25         False  ...   \n",
      "\n",
      "       ponds_around3000  ponds_nearest  days_exposition  ceiling_normal  \\\n",
      "19540                 2          318.0            106.0             2.8   \n",
      "\n",
      "         price_per_m  week_day  year  month  flow_categ  from_city_centers  \n",
      "19540  466666.666667         2  2017     12   последний                8.0  \n",
      "\n",
      "[1 rows x 29 columns]\n"
     ]
    }
   ],
   "source": [
    "data_pivot_rooms=data.pivot_table(index = 'rooms', values = 'last_price', aggfunc = ['median'])\n",
    "data_pivot_rooms.columns = ['Медиана (цена сделки)']\n",
    "print(data_pivot_rooms)\n",
    "data_pivot_rooms.plot(y='Медиана (цена сделки)')\n",
    "plt.show()\n",
    "data_wow = data.query('rooms == 12')\n",
    "print(data_wow)\n",
    "\n"
   ]
  },
  {
   "cell_type": "markdown",
   "metadata": {},
   "source": [
    "### рассчет взаимосвязей с категориальными переменными\n",
    "Примечания: \n",
    "В матрице корреляций технически не возможна информация о связи с категориальной переменной (день недели, тип этажа)\n",
    "Года, месяцы и дни недели выраженные числами позволяют производить рассчеты, но по сути они не количественные, а категориальные переменные (имена) распределенные по установленным правилам.\n",
    "Применю в этом случае метод groupby() На week_day зависимости не наблюдается, т.к и с чего бы ей быть. На данных по месяцам зависимость также не выразительная. А вот по годам есть. \n",
    "2014    7700000.0\n",
    "2015    5350000.0\n",
    "2016    4550000.0\n",
    "2017    4500000.0\n",
    "2018    4550000.0\n",
    "2019    5050000.0\n",
    "Нарисум гистограмму. \n",
    "\n",
    "На категории этажа возможна, проверим. \n",
    "другой       4850000.\n",
    "первый       3900000.\n",
    "последний    4300000.\n",
    "Да, пожалуй другой все-таки больше ценится, чем первый или последний. Я брала медиану, а не среднее, т.к. выборка в большим количеством выбросов в крупных значениях, а для общего массива данных это не так важно. "
   ]
  },
  {
   "cell_type": "code",
   "execution_count": 10,
   "metadata": {},
   "outputs": [
    {
     "name": "stdout",
     "output_type": "stream",
     "text": [
      "week_day\n",
      "0    4650000.0\n",
      "1    4730000.0\n",
      "2    4700000.0\n",
      "3    4650000.0\n",
      "4    4585000.0\n",
      "5    4555000.0\n",
      "6    4550000.0\n",
      "Name: last_price, dtype: float64\n",
      "year\n",
      "2014    7700000.0\n",
      "2015    5350000.0\n",
      "2016    4550000.0\n",
      "2017    4500000.0\n",
      "2018    4550000.0\n",
      "2019    5050000.0\n",
      "Name: last_price, dtype: float64\n",
      "month\n",
      "1     4600000.0\n",
      "2     4650000.0\n",
      "3     4650000.0\n",
      "4     4800000.0\n",
      "5     4515000.0\n",
      "6     4400000.0\n",
      "7     4650000.0\n",
      "8     4570000.0\n",
      "9     4700000.0\n",
      "10    4570000.0\n",
      "11    4700000.0\n",
      "12    4700000.0\n",
      "Name: last_price, dtype: float64\n",
      "flow_categ\n",
      "другой       4850000.0\n",
      "первый       3900000.0\n",
      "последний    4300000.0\n",
      "Name: last_price, dtype: float64\n"
     ]
    }
   ],
   "source": [
    "\n",
    "print(data.groupby('week_day')['last_price'].median())\n",
    "print(data.groupby('year')['last_price'].median())\n",
    "print(data.groupby('month')['last_price'].median())\n",
    "print(data.groupby('flow_categ')['last_price'].median())\n",
    "#data.info()\n"
   ]
  },
  {
   "cell_type": "markdown",
   "metadata": {},
   "source": [
    "<div class=\"alert alert-info\">то же самое через сводную таблицу и с графиками</div>\n"
   ]
  },
  {
   "cell_type": "code",
   "execution_count": 11,
   "metadata": {
    "scrolled": false
   },
   "outputs": [
    {
     "name": "stdout",
     "output_type": "stream",
     "text": [
      "      Медиана (цена сделки)  Cреднее (цена сделки)\n",
      "year                                              \n",
      "2014              7700000.0           1.208714e+07\n",
      "2015              5350000.0           8.572833e+06\n",
      "2016              4550000.0           6.827912e+06\n",
      "2017              4500000.0           6.585729e+06\n",
      "2018              4550000.0           5.950966e+06\n",
      "2019              5050000.0           6.783999e+06\n"
     ]
    },
    {
     "data": {
      "image/png": "[encoded data removed]",
      "text/plain": [
       "<Figure size 432x288 with 1 Axes>"
      ]
     },
     "metadata": {
      "needs_background": "light"
     },
     "output_type": "display_data"
    },
    {
     "data": {
      "image/png": "[encoded data removed]",
      "text/plain": [
       "<Figure size 432x288 with 1 Axes>"
      ]
     },
     "metadata": {
      "needs_background": "light"
     },
     "output_type": "display_data"
    },
    {
     "name": "stdout",
     "output_type": "stream",
     "text": [
      "          Медиана (цена сделки)  Cреднее (цена сделки)\n",
      "week_day                                              \n",
      "0                     4650000.0           6.511613e+06\n",
      "1                     4730000.0           6.394233e+06\n",
      "2                     4700000.0           6.629137e+06\n",
      "3                     4650000.0           6.708663e+06\n",
      "4                     4585000.0           6.372131e+06\n",
      "5                     4555000.0           6.976804e+06\n",
      "6                     4550000.0           6.246180e+06\n"
     ]
    },
    {
     "data": {
      "image/png": "[encoded data removed]",
      "text/plain": [
       "<Figure size 432x288 with 1 Axes>"
      ]
     },
     "metadata": {
      "needs_background": "light"
     },
     "output_type": "display_data"
    },
    {
     "data": {
      "image/png": "[encoded data removed]",
      "text/plain": [
       "<Figure size 432x288 with 1 Axes>"
      ]
     },
     "metadata": {
      "needs_background": "light"
     },
     "output_type": "display_data"
    },
    {
     "name": "stdout",
     "output_type": "stream",
     "text": [
      "       Медиана (цена сделки)  Cреднее (цена сделки)\n",
      "month                                              \n",
      "1                  4600000.0           6.668233e+06\n",
      "2                  4650000.0           6.468500e+06\n",
      "3                  4650000.0           6.361068e+06\n",
      "4                  4800000.0           6.737198e+06\n",
      "5                  4515000.0           6.600435e+06\n",
      "6                  4400000.0           6.310269e+06\n",
      "7                  4650000.0           6.649337e+06\n",
      "8                  4570000.0           6.350233e+06\n",
      "9                  4700000.0           6.825470e+06\n",
      "10                 4570000.0           6.235013e+06\n",
      "11                 4700000.0           6.461363e+06\n",
      "12                 4700000.0           7.011731e+06\n"
     ]
    },
    {
     "data": {
      "image/png": "[encoded data removed]",
      "text/plain": [
       "<Figure size 432x288 with 1 Axes>"
      ]
     },
     "metadata": {
      "needs_background": "light"
     },
     "output_type": "display_data"
    },
    {
     "data": {
      "image/png": "[encoded data removed]",
      "text/plain": [
       "<Figure size 432x288 with 1 Axes>"
      ]
     },
     "metadata": {
      "needs_background": "light"
     },
     "output_type": "display_data"
    },
    {
     "name": "stdout",
     "output_type": "stream",
     "text": [
      "            Медиана (цена сделки)  Cреднее (цена сделки)\n",
      "flow_categ                                              \n",
      "другой                  4850000.0           6.675444e+06\n",
      "первый                  3900000.0           4.803560e+06\n",
      "последний               4300000.0           7.362415e+06\n"
     ]
    },
    {
     "data": {
      "image/png": "[encoded data removed]",
      "text/plain": [
       "<Figure size 432x288 with 1 Axes>"
      ]
     },
     "metadata": {
      "needs_background": "light"
     },
     "output_type": "display_data"
    },
    {
     "data": {
      "image/png": "[encoded data removed]",
      "text/plain": [
       "<Figure size 432x288 with 1 Axes>"
      ]
     },
     "metadata": {
      "needs_background": "light"
     },
     "output_type": "display_data"
    }
   ],
   "source": [
    "import matplotlib.pyplot as plt\n",
    "data_pivot_year=data.pivot_table(index = 'year', values = 'last_price', aggfunc = ['median','mean'])\n",
    "data_pivot_year.columns = ['Медиана (цена сделки)', 'Cреднее (цена сделки)']\n",
    "print(data_pivot_year)\n",
    "data_pivot_year.plot( y='Медиана (цена сделки)')\n",
    "plt.show()\n",
    "data_pivot_year.plot( y='Медиана (цена сделки)',ylim=(0, 10000000))\n",
    "plt.show()\n",
    "data_pivot_week=data.pivot_table(index = 'week_day', values = 'last_price', aggfunc = ['median','mean'])\n",
    "data_pivot_week.columns = ['Медиана (цена сделки)', 'Cреднее (цена сделки)']\n",
    "print(data_pivot_week)\n",
    "data_pivot_week.plot( y='Медиана (цена сделки)')\n",
    "plt.show()\n",
    "data_pivot_week.plot( y='Медиана (цена сделки)',ylim=(0, 10000000))\n",
    "plt.show()\n",
    "data_pivot_month=data.pivot_table(index = 'month', values = 'last_price', aggfunc = ['median','mean'])\n",
    "data_pivot_month.columns = ['Медиана (цена сделки)', 'Cреднее (цена сделки)']\n",
    "print(data_pivot_month)\n",
    "data_pivot_month.plot( y='Медиана (цена сделки)')\n",
    "plt.show()\n",
    "data_pivot_month.plot( y='Медиана (цена сделки)',ylim=(0, 10000000))\n",
    "plt.show()\n",
    "data_pivot_flow_categ=data.pivot_table(index = 'flow_categ', values = 'last_price', aggfunc = ['median','mean'])\n",
    "data_pivot_flow_categ.columns = ['Медиана (цена сделки)', 'Cреднее (цена сделки)']\n",
    "print(data_pivot_flow_categ)\n",
    "data_pivot_flow_categ.plot( y='Медиана (цена сделки)')\n",
    "plt.show()\n",
    "data_pivot_flow_categ.plot( y='Медиана (цена сделки)',ylim=(0, 10000000))\n",
    "plt.show()\n"
   ]
  },
  {
   "cell_type": "markdown",
   "metadata": {},
   "source": [
    "<div class=\"alert alert-info\"> Cначала строю графики по умолчению, потом убираю драматизм с графиков про цену</div>"
   ]
  },
  {
   "cell_type": "markdown",
   "metadata": {},
   "source": [
    "### задача: про пункты с наибольшим количеством объявлений\n",
    "Примечания:\n",
    "построила сводную таблицу, отсортировала, вижу списке из 10 \n",
    "                   Количество продаж  Cредняя цена за M2\n",
    "locality_name                                           \n",
    "Санкт-Петербург                15721       114849.008794\n",
    "Мурино                           556        86178.443998\n",
    "Кудрово                          472        95324.930544\n",
    "посёлок Шушары                   440        78677.364217\n",
    "Всеволожск                       398        68654.473986\n",
    "Пушкин                           369       103125.819291\n",
    "Колпино                          338        75424.579098\n",
    "посёлок Парголово                327        90175.913458\n",
    "Гатчина                          307        68746.146763\n",
    "Выборг                           237        58141.909153\n",
    "Если в задаче найти самую высокую и низкую цену в списке из этих 10:\n",
    "самая высокая: Санкт-Петербург                15721       114849.008794\n",
    "самая низкая: Выборг                           237        58141.909153\n",
    "\n",
    "Повторила аналогичные вычисления но не по среднему, а по медиане."
   ]
  },
  {
   "cell_type": "code",
   "execution_count": 12,
   "metadata": {},
   "outputs": [
    {
     "name": "stdout",
     "output_type": "stream",
     "text": [
      "                      Количество продаж  Cредняя цена за M2\n",
      "locality_name                                              \n",
      "no_data                              49        94309.994932\n",
      "Бокситогорск                         16        17551.591819\n",
      "Волосово                             36        40183.325974\n",
      "Волхов                              111        35087.679877\n",
      "Всеволожск                          398        68654.473986\n",
      "...                                 ...                 ...\n",
      "село Путилово                         2        39921.758208\n",
      "село Рождествено                      3        37733.159586\n",
      "село Русско-Высоцкое                  9        54833.726028\n",
      "село Старая Ладога                    2        34696.969697\n",
      "село Шум                              1        33898.305085\n",
      "\n",
      "[316 rows x 2 columns]\n",
      "                   Количество продаж  Cредняя цена за M2\n",
      "locality_name                                           \n",
      "Санкт-Петербург                15721       114851.715283\n",
      "Мурино                           556        86178.443998\n",
      "Кудрово                          472        95324.930544\n",
      "посёлок Шушары                   440        78677.364217\n",
      "Всеволожск                       398        68654.473986\n",
      "Пушкин                           369       103125.819291\n",
      "Колпино                          338        75424.579098\n",
      "посёлок Парголово                327        90175.913458\n",
      "Гатчина                          307        68746.146763\n",
      "Выборг                           237        58141.909153\n",
      "                      Количество продаж  Cредняя цена за M2\n",
      "locality_name                                              \n",
      "no_data                              49        89772.727273\n",
      "Бокситогорск                         16        17361.111111\n",
      "Волосово                             36        39906.323185\n",
      "Волхов                              111        35000.000000\n",
      "Всеволожск                          398        65789.473684\n",
      "...                                 ...                 ...\n",
      "село Путилово                         2        39921.758208\n",
      "село Рождествено                      3        35897.435897\n",
      "село Русско-Высоцкое                  9        52060.737527\n",
      "село Старая Ладога                    2        34696.969697\n",
      "село Шум                              1        33898.305085\n",
      "\n",
      "[316 rows x 2 columns]\n",
      "                   Количество продаж  Cредняя цена за M2\n",
      "locality_name                                           \n",
      "Санкт-Петербург                15721       104761.904762\n",
      "Мурино                           556        86250.377687\n",
      "Кудрово                          472        95675.473579\n",
      "посёлок Шушары                   440        76876.172608\n",
      "Всеволожск                       398        65789.473684\n",
      "Пушкин                           369       100000.000000\n",
      "Колпино                          338        74723.748474\n",
      "посёлок Парголово                327        91642.857143\n",
      "Гатчина                          307        67796.610169\n",
      "Выборг                           237        58158.319871\n"
     ]
    }
   ],
   "source": [
    "#sorted_data = df.sort_values(by='column', ascending=False)\n",
    "#print(data.groupby('locality_name')['last_price'].count())\n",
    "#rint(data.groupby('flow_categ')['last_price'].median())\n",
    "data_pivot1 = data.pivot_table(index = 'locality_name', values = 'price_per_m', aggfunc = ['count','mean'])\n",
    "data_pivot1.columns = ['Количество продаж', 'Cредняя цена за M2']\n",
    "print(data_pivot1)\n",
    "sorted_data1 = data_pivot1.sort_values(by='Количество продаж', ascending=False)\n",
    "print(sorted_data1.head(10))\n",
    "data_pivot11 = data.pivot_table(index = 'locality_name', values = 'price_per_m', aggfunc = ['count','median'])\n",
    "data_pivot11.columns = ['Количество продаж', 'Cредняя цена за M2']\n",
    "print(data_pivot11)\n",
    "sorted_data11 = data_pivot11.sort_values(by='Количество продаж', ascending=False)\n",
    "print(sorted_data11.head(10))"
   ]
  },
  {
   "cell_type": "markdown",
   "metadata": {},
   "source": [
    "Провела вычисления и по среднему, и по медиане. На самых высокочастотных 10 населенных пунктах по этим показателям отличия есть, но не влияют на общий вывод: самая высокая средняя цена Санкт-Петербург, самая низкая - Выборг."
   ]
  },
  {
   "cell_type": "markdown",
   "metadata": {},
   "source": [
    "### задача: зависимость цены от расстояния до центра\n",
    "Отсортировала, построила сводные таблицы и диаграммы рассеивания. \n",
    "Вижу что в общем тренде зависимость есть, но не линейная. \n",
    "Вероятно зависит от типа района, чем от расстояния как такового. \n",
    "посчитала коэф.корреляции: -0.314342. \n",
    "Не подтверждается зависимость цены за метр от километров от центра \n",
    "Думаю зависимость цены от района определяется в основном другими факторами. \n",
    "\n",
    "Добавлено: рассчеты того же параметра по медиане. По медиане зависимость становится заметнее на расстоянии до 17.5 (примерно) км, потом нет."
   ]
  },
  {
   "cell_type": "code",
   "execution_count": 14,
   "metadata": {},
   "outputs": [
    {
     "name": "stdout",
     "output_type": "stream",
     "text": [
      "['Санкт-Петербург']\n",
      "                   Медиана (цена)  Cреднее (цена)\n",
      "from_city_centers                                \n",
      "0.0                 172619.047619   245833.530289\n",
      "1.0                 128485.110056   177005.407676\n",
      "2.0                 123035.513418   157849.007329\n",
      "3.0                 108469.112355   121387.453704\n",
      "4.0                 117952.262904   133282.874761\n",
      "5.0                 127093.283865   140509.789046\n",
      "6.0                 131835.227273   151012.193621\n",
      "7.0                 127017.083563   156176.879664\n",
      "8.0                 122944.928910   125671.442742\n",
      "9.0                 105813.953488   113202.793540\n",
      "10.0                106451.612903   112727.516925\n",
      "11.0                103552.582241   108630.835324\n",
      "12.0                103988.603989   107488.734023\n",
      "13.0                104081.632653   108148.127854\n",
      "14.0                101865.136298   104252.385047\n",
      "15.0                101300.981554   104231.976184\n",
      "16.0                 97500.000000   100542.613949\n",
      "17.0                 94202.898551    96597.652408\n",
      "18.0                 95000.000000    96362.263941\n",
      "19.0                 97241.379310    98652.736027\n",
      "20.0                103703.693333   103045.181922\n",
      "21.0                 89705.882353    94469.584582\n",
      "22.0                 88781.474414    91330.425050\n",
      "23.0                 89965.397924    91828.517765\n",
      "24.0                 86353.290416    85736.904595\n",
      "25.0                 93612.162162    91531.371618\n",
      "26.0                 89393.939394    89285.876593\n",
      "27.0                132115.709459   132115.709459\n",
      "28.0                 79372.093023    81161.915320\n",
      "29.0                 76084.734212    72953.365445\n"
     ]
    },
    {
     "data": {
      "image/png": "[encoded data removed]",
      "text/plain": [
       "<Figure size 432x288 with 1 Axes>"
      ]
     },
     "metadata": {
      "needs_background": "light"
     },
     "output_type": "display_data"
    }
   ],
   "source": [
    "sorted_data2 = data[((data['locality_name'] =='Санкт-Петербург'))]\n",
    "#sorted_data2.plot(x='from_city_centers', y='price_per_m', kind='scatter')\n",
    "#sorted_data2.plot(x='from_city_centers', y='price_per_m',kind='area')\n",
    "plt.show()\n",
    "\n",
    "print(sorted_data2['locality_name'].unique())\n",
    "data_pivot2 = sorted_data2.pivot_table(index = 'from_city_centers', values = 'price_per_m', aggfunc = ['median','mean'])\n",
    "data_pivot2.columns = ['Медиана (цена)', 'Cреднее (цена)']\n",
    "data_pivot2.plot( y='Медиана (цена)')\n",
    "plt.title('Заголовок')\n",
    "print(data_pivot2)\n",
    "#print(sorted_data2.corr()) \n"
   ]
  },
  {
   "cell_type": "markdown",
   "metadata": {},
   "source": [
    "<div class=\"alert alert-info\">построила график зависимости медианы цены от расстояния, до 17 примерно км в нем виден тренд, потом нет. Добавила это содержание в раздел и в выводы</div>\n"
   ]
  },
  {
   "cell_type": "markdown",
   "metadata": {},
   "source": [
    "### Общий вывод"
   ]
  },
  {
   "cell_type": "markdown",
   "metadata": {},
   "source": [
    "#### данные\n",
    "данные сервиса Яндекс Недвижимость — архив объявлений за несколько лет о продаже квартир в Санкт-Петербурге и соседних населённых пунктах\n",
    "#### основные задачи\n",
    "выявить особенности и зависимости, которые существуют на рынке недвижимости\n",
    "#### этапы и методы \n",
    "1) предобработка данных: восстановление потерь и пропусков, коррекция формата данных, поиск и удаление аномальных данных, поиск и удаление явных и неявных дубликатов.\n",
    "2) дополнение данными на основе рассчетов: \n",
    "3) исследовательский анализ данных: \n",
    "#### выводы\n",
    "По результататам исследование: рыночная цена недвижимости сложной многофакторной природы. \n",
    " \n",
    "Перечислю те факторы, по которым выявлено существенное влияние и их можно брать для расчетного алгоритма. \n",
    "-общий метраж\n",
    "-метраж кухни\n",
    "-метраж жилой площади\n",
    "-тип этажа \n",
    "-локация (населенный пункт)\n",
    "-год \n",
    "-расстояние от центра \n",
    "\n",
    "Подробнее: \n",
    "-общий метраж\n",
    "-метраж кухни\n",
    "-метраж жилой площади\n",
    "В целом по мере роста этих характеритик растет цена объекта. Самое сильное влиятние у общего метража (total_area)\n",
    "total_area - 0.653675, \n",
    "living_area - 0.566492, \n",
    "kitchen_area - 0.519869 \n",
    "\n",
    "-тип этажа \n",
    "Самое существенное снижение цены, если этаж первый (без малого, на миллион.) Промежуточные значения у последнего этажа. \n",
    "другой       4850000.0\n",
    "первый       3900000.0\n",
    "последний    4300000.0\n",
    "Локация (населеный пункт) играют роль \n",
    "Из десятки самых популярных по количеству продаж населенных пунктов \n",
    "самая высокая цена за квадратный метр: Санкт-Петербург      114849.008794\n",
    "самая низкая цена за квадратный метр: Выборг                 58141.909153\n",
    "Очень заметные отличия. Населенный пункт конечно может быть использован как коэффициент при рассчете цены. \n",
    "\n",
    "-год продажи. По годам очень заметные колебаний средней цены. Как вывод - для рассчета цены годится только свежая статистика. Данные по прошлым годам могут внести существенные искажения. \n",
    "-расстояние от центра: влияние на цену наблюдается в диаметере примерно 17.5 км от центра, дальше влияния нет\n",
    "\n",
    "По срокам продажи объектов недвижимости \n",
    "до 45 дней - быстрый \n",
    "от 45 до 232 - нормальный \n",
    "больше 232 - долгий.\n",
    "Видно влияние каких-то дополнительных факторов в р-не 45 дней и рядом. Для их понимания нужна информация о правилах размещения объявлений, рекламных активностях итд. \n"
   ]
  },
  {
   "cell_type": "markdown",
   "metadata": {},
   "source": [
    "**Чек-лист готовности проекта**\n",
    "\n",
    "Поставьте 'x' в выполненных пунктах. Далее нажмите Shift+Enter."
   ]
  },
  {
   "cell_type": "markdown",
   "metadata": {},
   "source": [
    "- [x]  открыт файл\n",
    "- [x]  файлы изучены (выведены первые строки, метод `info()`, гистограммы и т.д.)\n",
    "- [x]  определены пропущенные значения\n",
    "- [x]  заполнены пропущенные значения там, где это возможно\n",
    "- [x]  есть пояснение, какие пропущенные значения обнаружены\n",
    "- [x]  изменены типы данных\n",
    "- [x]  есть пояснение, в каких столбцах изменены типы и почему\n",
    "- [x]  устранены неявные дубликаты в названиях населённых пунктов\n",
    "- [x]  устранены редкие и выбивающиеся значения (аномалии) во всех столбцах\n",
    "- [x]  посчитано и добавлено в таблицу: цена одного квадратного метра\n",
    "- [x]  посчитано и добавлено в таблицу: день публикации объявления (0 - понедельник, 1 - вторник и т.д.)\n",
    "- [x]  посчитано и добавлено в таблицу: месяц публикации объявления\n",
    "- [x]  посчитано и добавлено в таблицу: год публикации объявления\n",
    "- [x]  посчитано и добавлено в таблицу: тип этажа квартиры (значения — «первый», «последний», «другой»)\n",
    "- [x]  посчитано и добавлено в таблицу: расстояние в км до центра города\n",
    "- [x]  изучены и описаны следующие параметры:\n",
    "        - общая площадь;\n",
    "        - жилая площадь;\n",
    "        - площадь кухни;\n",
    "        - цена объекта;\n",
    "        - количество комнат;\n",
    "        - высота потолков;\n",
    "        - этаж квартиры;\n",
    "        - тип этажа квартиры («первый», «последний», «другой»);\n",
    "        - общее количество этажей в доме;\n",
    "        - расстояние до центра города в метрах;\n",
    "        - расстояние до ближайшего аэропорта;\n",
    "        - расстояние до ближайшего парка;\n",
    "        - день и месяц публикации объявления\n",
    "- [x]  построены гистограммы для каждого параметра\n",
    "- [x]  выполнено задание: \"Изучите, как быстро продавались квартиры (столбец days_exposition). Этот параметр показывает, сколько дней «висело» каждое объявление.\n",
    "    - Постройте гистограмму.\n",
    "    - Посчитайте среднее и медиану.\n",
    "    - В ячейке типа markdown опишите, сколько обычно занимает продажа. Какие продажи можно считать быстрыми, а какие — необычно долгими?\"\n",
    "- [x]  выполнено задание: \"Какие факторы больше всего влияют на общую (полную) стоимость объекта? Постройте графики, которые покажут зависимость цены от указанных ниже параметров. Для подготовки данных перед визуализацией вы можете использовать сводные таблицы.\"\n",
    "        - общей площади;\n",
    "        - жилой площади;\n",
    "        - площади кухни;\n",
    "        - количество комнат;\n",
    "        - типа этажа, на котором расположена квартира (первый, последний, другой);\n",
    "        - даты размещения (день недели, месяц, год);\n",
    "- [x]  выполнено задание: \"Посчитайте среднюю цену одного квадратного метра в 10 населённых пунктах с наибольшим числом объявлений. Выделите населённые пункты с самой высокой и низкой стоимостью квадратного метра. Эти данные можно найти по имени в столбце `locality_name`.\"\n",
    "- [x]  выполнено задание: \"Ранее вы посчитали расстояние до центра в километрах. Теперь выделите квартиры в Санкт-Петербурге с помощью столбца `locality_name` и вычислите среднюю цену каждого километра. Опишите, как стоимость объектов зависит от расстояния до центра города.\"\n",
    "- [x]  в каждом этапе есть промежуточные выводы\n",
    "- [x]  есть общий вывод\n"
   ]
  },
  {
   "cell_type": "code",
   "execution_count": null,
   "metadata": {},
   "outputs": [],
   "source": []
  }
 ],
 "metadata": {
  "ExecuteTimeLog": [
   {
    "duration": 573,
    "start_time": "2022-09-23T12:58:55.485Z"
   },
   {
    "duration": 691,
    "start_time": "2022-09-23T12:59:03.535Z"
   },
   {
    "duration": 91,
    "start_time": "2022-09-23T12:59:25.248Z"
   },
   {
    "duration": 63,
    "start_time": "2022-09-23T16:52:44.670Z"
   },
   {
    "duration": 94,
    "start_time": "2022-09-23T16:52:53.070Z"
   },
   {
    "duration": 105,
    "start_time": "2022-09-23T16:53:36.608Z"
   },
   {
    "duration": 103,
    "start_time": "2022-09-23T16:53:55.284Z"
   },
   {
    "duration": 98,
    "start_time": "2022-09-23T16:54:27.696Z"
   },
   {
    "duration": 492,
    "start_time": "2022-09-23T16:59:15.957Z"
   },
   {
    "duration": 119,
    "start_time": "2022-09-23T16:59:32.461Z"
   },
   {
    "duration": 94,
    "start_time": "2022-09-23T17:48:10.162Z"
   },
   {
    "duration": 97,
    "start_time": "2022-09-23T17:48:32.962Z"
   },
   {
    "duration": 88,
    "start_time": "2022-09-23T17:49:26.536Z"
   },
   {
    "duration": 282,
    "start_time": "2022-09-23T17:49:46.629Z"
   },
   {
    "duration": 110,
    "start_time": "2022-09-23T17:50:10.512Z"
   },
   {
    "duration": 105,
    "start_time": "2022-09-23T17:50:24.214Z"
   },
   {
    "duration": 102,
    "start_time": "2022-09-23T17:50:28.164Z"
   },
   {
    "duration": 57,
    "start_time": "2022-09-23T17:52:09.292Z"
   },
   {
    "duration": 102,
    "start_time": "2022-09-23T17:52:45.795Z"
   },
   {
    "duration": 213,
    "start_time": "2022-09-23T17:55:57.903Z"
   },
   {
    "duration": 113,
    "start_time": "2022-09-23T18:00:07.496Z"
   },
   {
    "duration": 105,
    "start_time": "2022-09-23T18:00:58.470Z"
   },
   {
    "duration": 116,
    "start_time": "2022-09-23T18:01:08.393Z"
   },
   {
    "duration": 95,
    "start_time": "2022-09-23T18:01:13.795Z"
   },
   {
    "duration": 100,
    "start_time": "2022-09-23T18:01:46.868Z"
   },
   {
    "duration": 107,
    "start_time": "2022-09-23T18:01:54.987Z"
   },
   {
    "duration": 1421,
    "start_time": "2022-09-24T07:32:10.208Z"
   },
   {
    "duration": 157,
    "start_time": "2022-09-24T07:38:01.222Z"
   },
   {
    "duration": 517,
    "start_time": "2022-09-24T07:40:25.540Z"
   },
   {
    "duration": 1331,
    "start_time": "2022-09-25T06:57:01.321Z"
   },
   {
    "duration": 118,
    "start_time": "2022-09-25T06:57:38.700Z"
   },
   {
    "duration": 118,
    "start_time": "2022-09-25T06:57:51.074Z"
   },
   {
    "duration": 524,
    "start_time": "2022-09-25T06:59:37.005Z"
   },
   {
    "duration": 1169,
    "start_time": "2022-09-25T07:06:32.677Z"
   },
   {
    "duration": 625,
    "start_time": "2022-09-25T07:13:34.767Z"
   },
   {
    "duration": 63,
    "start_time": "2022-09-25T07:28:35.702Z"
   },
   {
    "duration": 8,
    "start_time": "2022-09-25T07:28:45.816Z"
   },
   {
    "duration": 6,
    "start_time": "2022-09-25T07:29:05.180Z"
   },
   {
    "duration": 23,
    "start_time": "2022-09-25T07:30:02.329Z"
   },
   {
    "duration": 6,
    "start_time": "2022-09-25T07:34:03.498Z"
   },
   {
    "duration": 6,
    "start_time": "2022-09-25T07:39:57.077Z"
   },
   {
    "duration": 38,
    "start_time": "2022-09-25T07:41:11.317Z"
   },
   {
    "duration": 31,
    "start_time": "2022-09-25T07:47:35.483Z"
   },
   {
    "duration": 35,
    "start_time": "2022-09-25T07:48:45.022Z"
   },
   {
    "duration": 31,
    "start_time": "2022-09-25T07:52:11.505Z"
   },
   {
    "duration": 30,
    "start_time": "2022-09-25T07:52:28.819Z"
   },
   {
    "duration": 29,
    "start_time": "2022-09-25T07:53:00.016Z"
   },
   {
    "duration": 30,
    "start_time": "2022-09-25T07:53:39.930Z"
   },
   {
    "duration": 31,
    "start_time": "2022-09-25T07:54:11.261Z"
   },
   {
    "duration": 29,
    "start_time": "2022-09-25T07:54:58.796Z"
   },
   {
    "duration": 26,
    "start_time": "2022-09-25T08:00:18.511Z"
   },
   {
    "duration": 32,
    "start_time": "2022-09-25T08:06:35.420Z"
   },
   {
    "duration": 31,
    "start_time": "2022-09-25T08:06:43.792Z"
   },
   {
    "duration": 30,
    "start_time": "2022-09-25T08:07:10.445Z"
   },
   {
    "duration": 4,
    "start_time": "2022-09-25T08:07:47.197Z"
   },
   {
    "duration": 31,
    "start_time": "2022-09-25T08:08:09.652Z"
   },
   {
    "duration": 30,
    "start_time": "2022-09-25T08:08:31.365Z"
   },
   {
    "duration": 31,
    "start_time": "2022-09-25T08:09:13.722Z"
   },
   {
    "duration": 67,
    "start_time": "2022-09-25T08:10:03.065Z"
   },
   {
    "duration": 28,
    "start_time": "2022-09-25T09:20:13.680Z"
   },
   {
    "duration": 34,
    "start_time": "2022-09-25T09:20:54.347Z"
   },
   {
    "duration": 28,
    "start_time": "2022-09-25T09:21:24.034Z"
   },
   {
    "duration": 29,
    "start_time": "2022-09-25T09:24:29.514Z"
   },
   {
    "duration": 157,
    "start_time": "2022-09-25T09:25:38.410Z"
   },
   {
    "duration": 136,
    "start_time": "2022-09-25T09:31:36.767Z"
   },
   {
    "duration": 342,
    "start_time": "2022-09-25T09:36:17.192Z"
   },
   {
    "duration": 353,
    "start_time": "2022-09-25T09:36:49.244Z"
   },
   {
    "duration": 329,
    "start_time": "2022-09-25T09:37:17.538Z"
   },
   {
    "duration": 294,
    "start_time": "2022-09-25T09:37:56.115Z"
   },
   {
    "duration": 291,
    "start_time": "2022-09-25T09:38:02.717Z"
   },
   {
    "duration": 303,
    "start_time": "2022-09-25T09:39:14.325Z"
   },
   {
    "duration": 293,
    "start_time": "2022-09-25T09:39:25.756Z"
   },
   {
    "duration": 351,
    "start_time": "2022-09-25T09:39:33.879Z"
   },
   {
    "duration": 324,
    "start_time": "2022-09-25T09:42:01.717Z"
   },
   {
    "duration": 135,
    "start_time": "2022-09-25T09:42:13.563Z"
   },
   {
    "duration": 157,
    "start_time": "2022-09-25T09:42:35.858Z"
   },
   {
    "duration": 147,
    "start_time": "2022-09-25T09:43:05.243Z"
   },
   {
    "duration": 236,
    "start_time": "2022-09-25T09:44:21.509Z"
   },
   {
    "duration": 17,
    "start_time": "2022-09-25T09:44:41.321Z"
   },
   {
    "duration": 30,
    "start_time": "2022-09-25T09:45:01.863Z"
   },
   {
    "duration": 33,
    "start_time": "2022-09-25T09:45:24.406Z"
   },
   {
    "duration": 30,
    "start_time": "2022-09-25T09:46:07.967Z"
   },
   {
    "duration": 138,
    "start_time": "2022-09-25T09:46:20.793Z"
   },
   {
    "duration": 2512,
    "start_time": "2022-09-25T09:46:51.305Z"
   },
   {
    "duration": 2970,
    "start_time": "2022-09-25T09:47:03.678Z"
   },
   {
    "duration": 2881,
    "start_time": "2022-09-25T09:47:08.471Z"
   },
   {
    "duration": 190,
    "start_time": "2022-09-25T09:52:53.478Z"
   },
   {
    "duration": 145,
    "start_time": "2022-09-25T10:04:41.736Z"
   },
   {
    "duration": 154,
    "start_time": "2022-09-25T10:23:44.738Z"
   },
   {
    "duration": 210,
    "start_time": "2022-09-25T10:30:50.373Z"
   },
   {
    "duration": 163,
    "start_time": "2022-09-25T10:31:49.863Z"
   },
   {
    "duration": 31,
    "start_time": "2022-09-25T10:32:08.179Z"
   },
   {
    "duration": 30,
    "start_time": "2022-09-25T10:37:24.430Z"
   },
   {
    "duration": 32,
    "start_time": "2022-09-25T10:40:55.548Z"
   },
   {
    "duration": 34,
    "start_time": "2022-09-25T10:53:27.729Z"
   },
   {
    "duration": 1142,
    "start_time": "2022-09-25T10:55:24.519Z"
   },
   {
    "duration": 1157,
    "start_time": "2022-09-25T10:56:25.455Z"
   },
   {
    "duration": 1142,
    "start_time": "2022-09-25T10:56:58.161Z"
   },
   {
    "duration": 1171,
    "start_time": "2022-09-25T10:57:09.199Z"
   },
   {
    "duration": 613,
    "start_time": "2022-09-25T10:58:15.727Z"
   },
   {
    "duration": 49,
    "start_time": "2022-09-25T10:58:28.333Z"
   },
   {
    "duration": 1183,
    "start_time": "2022-09-25T10:59:33.672Z"
   },
   {
    "duration": 1325,
    "start_time": "2022-09-25T11:00:06.680Z"
   },
   {
    "duration": 1208,
    "start_time": "2022-09-25T11:00:16.299Z"
   },
   {
    "duration": 1280,
    "start_time": "2022-09-25T11:00:26.998Z"
   },
   {
    "duration": 601,
    "start_time": "2022-09-25T11:00:44.097Z"
   },
   {
    "duration": 44,
    "start_time": "2022-09-25T11:00:51.883Z"
   },
   {
    "duration": 1241,
    "start_time": "2022-09-25T11:05:00.126Z"
   },
   {
    "duration": 1165,
    "start_time": "2022-09-25T11:11:23.856Z"
   },
   {
    "duration": 1077,
    "start_time": "2022-09-25T11:12:24.529Z"
   },
   {
    "duration": 520,
    "start_time": "2022-09-25T11:13:01.875Z"
   },
   {
    "duration": 41,
    "start_time": "2022-09-25T11:13:09.739Z"
   },
   {
    "duration": 34,
    "start_time": "2022-09-25T11:13:18.221Z"
   },
   {
    "duration": 1233,
    "start_time": "2022-09-25T11:17:35.220Z"
   },
   {
    "duration": 1270,
    "start_time": "2022-09-25T11:19:23.916Z"
   },
   {
    "duration": 531,
    "start_time": "2022-09-25T11:20:29.144Z"
   },
   {
    "duration": 52,
    "start_time": "2022-09-25T11:20:36.421Z"
   },
   {
    "duration": 1208,
    "start_time": "2022-09-25T11:20:59.834Z"
   },
   {
    "duration": 1105,
    "start_time": "2022-09-25T11:21:13.828Z"
   },
   {
    "duration": 2176,
    "start_time": "2022-09-25T14:47:26.790Z"
   },
   {
    "duration": 71,
    "start_time": "2022-09-25T14:52:28.301Z"
   },
   {
    "duration": 783,
    "start_time": "2022-09-25T14:53:17.598Z"
   },
   {
    "duration": 1284,
    "start_time": "2022-09-25T14:54:01.391Z"
   },
   {
    "duration": 1173,
    "start_time": "2022-09-25T14:57:20.159Z"
   },
   {
    "duration": 1020,
    "start_time": "2022-09-25T14:57:26.152Z"
   },
   {
    "duration": 829,
    "start_time": "2022-09-25T14:57:37.062Z"
   },
   {
    "duration": 670,
    "start_time": "2022-09-25T14:57:50.564Z"
   },
   {
    "duration": 623,
    "start_time": "2022-09-25T14:58:23.345Z"
   },
   {
    "duration": 119,
    "start_time": "2022-09-25T14:58:29.723Z"
   },
   {
    "duration": 953,
    "start_time": "2022-09-25T15:00:51.882Z"
   },
   {
    "duration": 42,
    "start_time": "2022-09-25T15:01:47.488Z"
   },
   {
    "duration": 42,
    "start_time": "2022-09-25T15:03:46.326Z"
   },
   {
    "duration": 49,
    "start_time": "2022-09-25T15:04:11.623Z"
   },
   {
    "duration": 47,
    "start_time": "2022-09-25T15:05:26.244Z"
   },
   {
    "duration": 62,
    "start_time": "2022-09-25T15:11:22.637Z"
   },
   {
    "duration": 50,
    "start_time": "2022-09-25T15:14:34.642Z"
   },
   {
    "duration": 48,
    "start_time": "2022-09-25T15:17:20.435Z"
   },
   {
    "duration": 456,
    "start_time": "2022-09-25T15:20:15.499Z"
   },
   {
    "duration": 66,
    "start_time": "2022-09-25T15:21:04.817Z"
   },
   {
    "duration": 24,
    "start_time": "2022-09-25T15:29:30.687Z"
   },
   {
    "duration": 17,
    "start_time": "2022-09-25T15:29:46.291Z"
   },
   {
    "duration": 15,
    "start_time": "2022-09-25T15:32:28.394Z"
   },
   {
    "duration": 7,
    "start_time": "2022-09-25T15:33:52.623Z"
   },
   {
    "duration": 8,
    "start_time": "2022-09-25T15:33:58.733Z"
   },
   {
    "duration": 17,
    "start_time": "2022-09-25T15:34:27.229Z"
   },
   {
    "duration": 7,
    "start_time": "2022-09-25T15:35:30.290Z"
   },
   {
    "duration": 7,
    "start_time": "2022-09-25T15:36:52.087Z"
   },
   {
    "duration": 24,
    "start_time": "2022-09-25T15:39:39.037Z"
   },
   {
    "duration": 6,
    "start_time": "2022-09-25T15:40:00.502Z"
   },
   {
    "duration": 9,
    "start_time": "2022-09-25T15:41:37.948Z"
   },
   {
    "duration": 6,
    "start_time": "2022-09-25T15:41:56.669Z"
   },
   {
    "duration": 21,
    "start_time": "2022-09-25T15:42:43.402Z"
   },
   {
    "duration": 10,
    "start_time": "2022-09-25T15:43:06.592Z"
   },
   {
    "duration": 21,
    "start_time": "2022-09-25T15:45:14.890Z"
   },
   {
    "duration": 15,
    "start_time": "2022-09-25T15:45:45.372Z"
   },
   {
    "duration": 19,
    "start_time": "2022-09-25T15:45:59.502Z"
   },
   {
    "duration": 54,
    "start_time": "2022-09-25T15:53:14.532Z"
   },
   {
    "duration": 33,
    "start_time": "2022-09-25T15:53:48.542Z"
   },
   {
    "duration": 51,
    "start_time": "2022-09-25T16:02:43.792Z"
   },
   {
    "duration": 31,
    "start_time": "2022-09-25T16:10:22.295Z"
   },
   {
    "duration": 392,
    "start_time": "2022-09-25T16:10:46.923Z"
   },
   {
    "duration": 488,
    "start_time": "2022-09-25T16:12:16.416Z"
   },
   {
    "duration": 50,
    "start_time": "2022-09-25T16:12:31.132Z"
   },
   {
    "duration": 68,
    "start_time": "2022-09-25T16:13:17.043Z"
   },
   {
    "duration": 429,
    "start_time": "2022-09-25T16:29:24.767Z"
   },
   {
    "duration": 1122,
    "start_time": "2022-09-25T16:30:02.171Z"
   },
   {
    "duration": 639,
    "start_time": "2022-09-25T16:31:04.601Z"
   },
   {
    "duration": 57,
    "start_time": "2022-09-25T16:31:19.875Z"
   },
   {
    "duration": 569,
    "start_time": "2022-09-25T16:34:11.898Z"
   },
   {
    "duration": 60,
    "start_time": "2022-09-25T16:34:54.112Z"
   },
   {
    "duration": 69,
    "start_time": "2022-09-25T16:38:15.533Z"
   },
   {
    "duration": 72,
    "start_time": "2022-09-25T16:39:36.558Z"
   },
   {
    "duration": 124,
    "start_time": "2022-09-25T16:41:55.719Z"
   },
   {
    "duration": 76,
    "start_time": "2022-09-25T16:43:51.156Z"
   },
   {
    "duration": 86,
    "start_time": "2022-09-25T16:44:59.010Z"
   },
   {
    "duration": 69,
    "start_time": "2022-09-25T16:45:17.410Z"
   },
   {
    "duration": 446,
    "start_time": "2022-09-25T16:49:55.164Z"
   },
   {
    "duration": 59,
    "start_time": "2022-09-25T16:50:25.134Z"
   },
   {
    "duration": 85,
    "start_time": "2022-09-25T16:50:43.055Z"
   },
   {
    "duration": 75,
    "start_time": "2022-09-25T16:51:19.731Z"
   },
   {
    "duration": 81,
    "start_time": "2022-09-25T16:55:39.359Z"
   },
   {
    "duration": 75,
    "start_time": "2022-09-25T16:55:52.746Z"
   },
   {
    "duration": 124,
    "start_time": "2022-09-25T17:22:20.404Z"
   },
   {
    "duration": 163,
    "start_time": "2022-09-25T17:26:03.651Z"
   },
   {
    "duration": 1798,
    "start_time": "2022-09-26T09:12:22.809Z"
   },
   {
    "duration": 181,
    "start_time": "2022-09-26T09:12:38.210Z"
   },
   {
    "duration": 172,
    "start_time": "2022-09-26T09:37:33.011Z"
   },
   {
    "duration": 167,
    "start_time": "2022-09-26T09:38:20.246Z"
   },
   {
    "duration": 131,
    "start_time": "2022-09-26T09:38:53.366Z"
   },
   {
    "duration": 125,
    "start_time": "2022-09-26T09:39:09.746Z"
   },
   {
    "duration": 130,
    "start_time": "2022-09-26T09:46:13.539Z"
   },
   {
    "duration": 85,
    "start_time": "2022-09-26T09:46:44.834Z"
   },
   {
    "duration": 164,
    "start_time": "2022-09-26T09:47:15.420Z"
   },
   {
    "duration": 63,
    "start_time": "2022-09-26T09:47:26.391Z"
   },
   {
    "duration": 75,
    "start_time": "2022-09-26T09:47:36.651Z"
   },
   {
    "duration": 56,
    "start_time": "2022-09-26T09:47:58.888Z"
   },
   {
    "duration": 75,
    "start_time": "2022-09-26T09:48:23.800Z"
   },
   {
    "duration": 167,
    "start_time": "2022-09-26T09:48:36.097Z"
   },
   {
    "duration": 93,
    "start_time": "2022-09-26T09:48:52.645Z"
   },
   {
    "duration": 153,
    "start_time": "2022-09-26T09:49:02.613Z"
   },
   {
    "duration": 66,
    "start_time": "2022-09-26T09:49:10.814Z"
   },
   {
    "duration": 111,
    "start_time": "2022-09-26T09:52:17.645Z"
   },
   {
    "duration": 123,
    "start_time": "2022-09-26T09:52:30.234Z"
   },
   {
    "duration": 104,
    "start_time": "2022-09-26T12:14:35.580Z"
   },
   {
    "duration": 106,
    "start_time": "2022-09-26T12:15:33.623Z"
   },
   {
    "duration": 103,
    "start_time": "2022-09-26T12:17:04.817Z"
   },
   {
    "duration": 96,
    "start_time": "2022-09-26T12:18:13.160Z"
   },
   {
    "duration": 184,
    "start_time": "2022-09-26T12:19:01.648Z"
   },
   {
    "duration": 105,
    "start_time": "2022-09-26T12:20:23.889Z"
   },
   {
    "duration": 99,
    "start_time": "2022-09-26T12:21:06.727Z"
   },
   {
    "duration": 101,
    "start_time": "2022-09-26T12:22:43.243Z"
   },
   {
    "duration": 103,
    "start_time": "2022-09-26T12:24:16.311Z"
   },
   {
    "duration": 114,
    "start_time": "2022-09-26T12:24:55.947Z"
   },
   {
    "duration": 113,
    "start_time": "2022-09-26T12:25:24.151Z"
   },
   {
    "duration": 119,
    "start_time": "2022-09-26T12:26:25.245Z"
   },
   {
    "duration": 129,
    "start_time": "2022-09-26T12:29:01.237Z"
   },
   {
    "duration": 185,
    "start_time": "2022-09-26T12:30:05.301Z"
   },
   {
    "duration": 136,
    "start_time": "2022-09-26T12:32:13.147Z"
   },
   {
    "duration": 162,
    "start_time": "2022-09-26T12:34:30.171Z"
   },
   {
    "duration": 160,
    "start_time": "2022-09-26T12:36:29.753Z"
   },
   {
    "duration": 172,
    "start_time": "2022-09-26T12:37:20.005Z"
   },
   {
    "duration": 173,
    "start_time": "2022-09-26T12:42:09.569Z"
   },
   {
    "duration": 177,
    "start_time": "2022-09-26T12:43:50.754Z"
   },
   {
    "duration": 248,
    "start_time": "2022-09-26T12:44:01.588Z"
   },
   {
    "duration": 170,
    "start_time": "2022-09-26T12:45:05.591Z"
   },
   {
    "duration": 174,
    "start_time": "2022-09-26T12:45:46.630Z"
   },
   {
    "duration": 315,
    "start_time": "2022-09-26T12:49:00.853Z"
   },
   {
    "duration": 1057,
    "start_time": "2022-09-26T12:50:29.008Z"
   },
   {
    "duration": 1043,
    "start_time": "2022-09-26T12:50:38.780Z"
   },
   {
    "duration": 174,
    "start_time": "2022-09-26T12:52:34.893Z"
   },
   {
    "duration": 266,
    "start_time": "2022-09-26T12:53:05.483Z"
   },
   {
    "duration": 184,
    "start_time": "2022-09-26T12:56:08.984Z"
   },
   {
    "duration": 179,
    "start_time": "2022-09-26T12:58:01.913Z"
   },
   {
    "duration": 200,
    "start_time": "2022-09-26T13:02:26.954Z"
   },
   {
    "duration": 179,
    "start_time": "2022-09-26T13:02:57.362Z"
   },
   {
    "duration": 188,
    "start_time": "2022-09-26T13:13:26.580Z"
   },
   {
    "duration": 297,
    "start_time": "2022-09-26T13:14:01.940Z"
   },
   {
    "duration": 178,
    "start_time": "2022-09-26T13:16:12.389Z"
   },
   {
    "duration": 334,
    "start_time": "2022-09-26T13:48:23.353Z"
   },
   {
    "duration": 70,
    "start_time": "2022-09-26T13:49:55.571Z"
   },
   {
    "duration": 65,
    "start_time": "2022-09-26T13:50:07.005Z"
   },
   {
    "duration": 306,
    "start_time": "2022-09-26T13:50:20.220Z"
   },
   {
    "duration": 374,
    "start_time": "2022-09-26T13:52:51.523Z"
   },
   {
    "duration": 400,
    "start_time": "2022-09-26T13:53:51.687Z"
   },
   {
    "duration": 185,
    "start_time": "2022-09-26T13:54:31.987Z"
   },
   {
    "duration": 301,
    "start_time": "2022-09-26T13:54:49.861Z"
   },
   {
    "duration": 328,
    "start_time": "2022-09-26T13:55:48.463Z"
   },
   {
    "duration": 95,
    "start_time": "2022-09-26T14:14:12.521Z"
   },
   {
    "duration": 413,
    "start_time": "2022-09-26T14:14:34.101Z"
   },
   {
    "duration": 338,
    "start_time": "2022-09-26T14:15:00.134Z"
   },
   {
    "duration": 78,
    "start_time": "2022-09-26T14:15:37.056Z"
   },
   {
    "duration": 301,
    "start_time": "2022-09-26T14:16:26.141Z"
   },
   {
    "duration": 63,
    "start_time": "2022-09-26T14:37:17.542Z"
   },
   {
    "duration": 75,
    "start_time": "2022-09-26T14:37:33.214Z"
   },
   {
    "duration": 190,
    "start_time": "2022-09-26T14:37:41.719Z"
   },
   {
    "duration": 70,
    "start_time": "2022-09-26T14:38:49.231Z"
   },
   {
    "duration": 115,
    "start_time": "2022-09-26T14:39:18.199Z"
   },
   {
    "duration": 259,
    "start_time": "2022-09-26T14:40:37.963Z"
   },
   {
    "duration": 97,
    "start_time": "2022-09-26T14:44:37.308Z"
   },
   {
    "duration": 1636,
    "start_time": "2022-09-27T16:05:02.129Z"
   },
   {
    "duration": 222,
    "start_time": "2022-09-27T16:05:14.482Z"
   },
   {
    "duration": 178,
    "start_time": "2022-09-27T16:07:31.174Z"
   },
   {
    "duration": 236,
    "start_time": "2022-09-27T16:08:04.909Z"
   },
   {
    "duration": 86,
    "start_time": "2022-09-27T16:08:53.341Z"
   },
   {
    "duration": 90,
    "start_time": "2022-09-27T16:09:27.204Z"
   },
   {
    "duration": 413,
    "start_time": "2022-09-27T16:10:05.186Z"
   },
   {
    "duration": 323,
    "start_time": "2022-09-27T16:11:23.159Z"
   },
   {
    "duration": 383,
    "start_time": "2022-09-27T16:21:05.282Z"
   },
   {
    "duration": 60,
    "start_time": "2022-09-27T16:22:03.501Z"
   },
   {
    "duration": 16,
    "start_time": "2022-09-27T16:26:38.689Z"
   },
   {
    "duration": 16,
    "start_time": "2022-09-27T16:27:03.721Z"
   },
   {
    "duration": 62,
    "start_time": "2022-09-27T16:28:07.476Z"
   },
   {
    "duration": 72,
    "start_time": "2022-09-27T16:28:34.489Z"
   },
   {
    "duration": 86,
    "start_time": "2022-09-27T16:30:28.788Z"
   },
   {
    "duration": 85,
    "start_time": "2022-09-27T16:31:04.114Z"
   },
   {
    "duration": 71,
    "start_time": "2022-09-27T16:32:51.608Z"
   },
   {
    "duration": 352,
    "start_time": "2022-09-27T16:37:32.917Z"
   },
   {
    "duration": 313,
    "start_time": "2022-09-27T16:38:45.130Z"
   },
   {
    "duration": 319,
    "start_time": "2022-09-27T16:39:43.745Z"
   },
   {
    "duration": 321,
    "start_time": "2022-09-27T16:40:13.883Z"
   },
   {
    "duration": 377,
    "start_time": "2022-09-27T16:40:55.239Z"
   },
   {
    "duration": 319,
    "start_time": "2022-09-27T16:42:35.892Z"
   },
   {
    "duration": 201,
    "start_time": "2022-09-27T16:53:57.487Z"
   },
   {
    "duration": 211,
    "start_time": "2022-09-27T16:55:08.217Z"
   },
   {
    "duration": 197,
    "start_time": "2022-09-27T16:55:49.527Z"
   },
   {
    "duration": 358,
    "start_time": "2022-09-27T16:56:27.283Z"
   },
   {
    "duration": 319,
    "start_time": "2022-09-27T16:56:57.778Z"
   },
   {
    "duration": 212,
    "start_time": "2022-09-27T17:02:53.486Z"
   },
   {
    "duration": 335,
    "start_time": "2022-09-27T17:03:17.429Z"
   },
   {
    "duration": 195,
    "start_time": "2022-09-27T17:04:29.089Z"
   },
   {
    "duration": 235,
    "start_time": "2022-09-27T17:04:44.133Z"
   },
   {
    "duration": 196,
    "start_time": "2022-09-27T17:05:49.056Z"
   },
   {
    "duration": 60,
    "start_time": "2022-09-27T17:09:45.578Z"
   },
   {
    "duration": 93,
    "start_time": "2022-09-27T17:10:35.619Z"
   },
   {
    "duration": 339,
    "start_time": "2022-09-27T17:18:43.909Z"
   },
   {
    "duration": 345,
    "start_time": "2022-09-27T17:22:20.623Z"
   },
   {
    "duration": 1468,
    "start_time": "2022-09-28T11:49:32.486Z"
   },
   {
    "duration": 427,
    "start_time": "2022-09-28T11:50:14.394Z"
   },
   {
    "duration": 84,
    "start_time": "2022-09-28T11:55:43.170Z"
   },
   {
    "duration": 269,
    "start_time": "2022-09-28T11:56:11.144Z"
   },
   {
    "duration": 288,
    "start_time": "2022-09-28T11:56:28.661Z"
   },
   {
    "duration": 269,
    "start_time": "2022-09-28T11:59:39.857Z"
   },
   {
    "duration": 330,
    "start_time": "2022-09-28T12:00:06.138Z"
   },
   {
    "duration": 668,
    "start_time": "2022-09-28T12:08:19.239Z"
   },
   {
    "duration": 286,
    "start_time": "2022-09-28T12:09:28.000Z"
   },
   {
    "duration": 289,
    "start_time": "2022-09-28T12:13:28.045Z"
   },
   {
    "duration": 83,
    "start_time": "2022-09-28T12:25:57.447Z"
   },
   {
    "duration": 84,
    "start_time": "2022-09-28T12:26:13.947Z"
   },
   {
    "duration": 1636,
    "start_time": "2022-09-28T12:33:05.479Z"
   },
   {
    "duration": 336,
    "start_time": "2022-09-28T12:34:00.941Z"
   },
   {
    "duration": 441,
    "start_time": "2022-09-28T12:35:29.060Z"
   },
   {
    "duration": 344,
    "start_time": "2022-09-28T12:37:52.486Z"
   },
   {
    "duration": 341,
    "start_time": "2022-09-28T12:39:21.373Z"
   },
   {
    "duration": 396,
    "start_time": "2022-09-28T12:41:36.251Z"
   },
   {
    "duration": 340,
    "start_time": "2022-09-28T12:42:12.374Z"
   },
   {
    "duration": 621,
    "start_time": "2022-09-28T12:43:36.085Z"
   },
   {
    "duration": 236,
    "start_time": "2022-09-28T12:48:26.673Z"
   },
   {
    "duration": 297,
    "start_time": "2022-09-28T12:49:06.060Z"
   },
   {
    "duration": 323,
    "start_time": "2022-09-28T12:49:55.471Z"
   },
   {
    "duration": 214,
    "start_time": "2022-09-28T12:51:30.683Z"
   },
   {
    "duration": 170,
    "start_time": "2022-09-28T12:51:47.409Z"
   },
   {
    "duration": 169,
    "start_time": "2022-09-28T12:58:22.031Z"
   },
   {
    "duration": 157,
    "start_time": "2022-09-28T12:59:15.344Z"
   },
   {
    "duration": 525,
    "start_time": "2022-09-28T12:59:42.467Z"
   },
   {
    "duration": 325,
    "start_time": "2022-09-28T12:59:57.994Z"
   },
   {
    "duration": 1724,
    "start_time": "2022-09-28T13:00:44.298Z"
   },
   {
    "duration": 1427,
    "start_time": "2022-09-28T13:01:28.141Z"
   },
   {
    "duration": 123,
    "start_time": "2022-09-28T13:01:38.660Z"
   },
   {
    "duration": 123,
    "start_time": "2022-09-28T13:01:55.401Z"
   },
   {
    "duration": 128,
    "start_time": "2022-09-28T13:03:22.533Z"
   },
   {
    "duration": 204,
    "start_time": "2022-09-28T13:04:38.166Z"
   },
   {
    "duration": 22,
    "start_time": "2022-09-28T13:15:58.182Z"
   },
   {
    "duration": 22,
    "start_time": "2022-09-28T13:16:17.258Z"
   },
   {
    "duration": 8,
    "start_time": "2022-09-28T13:30:33.729Z"
   },
   {
    "duration": 11,
    "start_time": "2022-09-28T13:37:15.044Z"
   },
   {
    "duration": 10,
    "start_time": "2022-09-28T13:37:49.694Z"
   },
   {
    "duration": 277,
    "start_time": "2022-09-28T13:44:55.299Z"
   },
   {
    "duration": 22,
    "start_time": "2022-09-28T13:46:21.495Z"
   },
   {
    "duration": 77,
    "start_time": "2022-09-28T13:47:26.033Z"
   },
   {
    "duration": 84,
    "start_time": "2022-09-28T13:47:41.615Z"
   },
   {
    "duration": 71,
    "start_time": "2022-09-28T13:47:58.930Z"
   },
   {
    "duration": 25,
    "start_time": "2022-09-28T13:48:44.524Z"
   },
   {
    "duration": 30,
    "start_time": "2022-09-28T13:49:07.585Z"
   },
   {
    "duration": 24,
    "start_time": "2022-09-28T13:49:42.296Z"
   },
   {
    "duration": 27,
    "start_time": "2022-09-28T13:50:31.603Z"
   },
   {
    "duration": 14,
    "start_time": "2022-09-28T13:58:22.792Z"
   },
   {
    "duration": 26,
    "start_time": "2022-09-28T13:58:49.894Z"
   },
   {
    "duration": 34,
    "start_time": "2022-09-28T14:10:08.531Z"
   },
   {
    "duration": 213,
    "start_time": "2022-09-28T14:30:29.176Z"
   },
   {
    "duration": 180,
    "start_time": "2022-09-28T14:31:16.317Z"
   },
   {
    "duration": 519,
    "start_time": "2022-09-28T16:06:01.317Z"
   },
   {
    "duration": 302,
    "start_time": "2022-09-28T16:06:55.700Z"
   },
   {
    "duration": 184,
    "start_time": "2022-09-28T16:07:10.661Z"
   },
   {
    "duration": 186,
    "start_time": "2022-09-28T16:07:23.362Z"
   },
   {
    "duration": 186,
    "start_time": "2022-09-28T16:08:54.116Z"
   },
   {
    "duration": 161,
    "start_time": "2022-09-28T16:09:33.854Z"
   },
   {
    "duration": 174,
    "start_time": "2022-09-28T16:10:06.941Z"
   },
   {
    "duration": 250,
    "start_time": "2022-09-28T16:11:33.598Z"
   },
   {
    "duration": 197,
    "start_time": "2022-09-28T16:12:02.702Z"
   },
   {
    "duration": 549,
    "start_time": "2022-09-28T16:12:39.471Z"
   },
   {
    "duration": 291,
    "start_time": "2022-09-28T16:13:07.990Z"
   },
   {
    "duration": 180,
    "start_time": "2022-09-28T16:13:36.240Z"
   },
   {
    "duration": 178,
    "start_time": "2022-09-28T16:14:11.080Z"
   },
   {
    "duration": 171,
    "start_time": "2022-09-28T16:14:30.718Z"
   },
   {
    "duration": 236,
    "start_time": "2022-09-28T16:15:13.516Z"
   },
   {
    "duration": 175,
    "start_time": "2022-09-28T16:15:39.955Z"
   },
   {
    "duration": 129,
    "start_time": "2022-09-28T16:16:40.841Z"
   },
   {
    "duration": 147,
    "start_time": "2022-09-28T16:16:51.170Z"
   },
   {
    "duration": 140,
    "start_time": "2022-09-28T16:17:19.902Z"
   },
   {
    "duration": 127,
    "start_time": "2022-09-28T16:18:01.018Z"
   },
   {
    "duration": 197,
    "start_time": "2022-09-28T16:18:24.779Z"
   },
   {
    "duration": 246,
    "start_time": "2022-09-28T16:26:35.172Z"
   },
   {
    "duration": 188,
    "start_time": "2022-09-28T16:28:28.308Z"
   },
   {
    "duration": 194,
    "start_time": "2022-09-28T16:31:05.301Z"
   },
   {
    "duration": 191,
    "start_time": "2022-09-28T16:32:36.399Z"
   },
   {
    "duration": 186,
    "start_time": "2022-09-28T16:38:04.743Z"
   },
   {
    "duration": 215,
    "start_time": "2022-09-28T16:41:30.204Z"
   },
   {
    "duration": 260,
    "start_time": "2022-09-28T16:41:48.192Z"
   },
   {
    "duration": 196,
    "start_time": "2022-09-28T16:42:59.068Z"
   },
   {
    "duration": 128,
    "start_time": "2022-09-28T16:43:40.773Z"
   },
   {
    "duration": 128,
    "start_time": "2022-09-28T16:45:02.954Z"
   },
   {
    "duration": 128,
    "start_time": "2022-09-28T16:46:17.565Z"
   },
   {
    "duration": 197,
    "start_time": "2022-09-28T16:47:00.461Z"
   },
   {
    "duration": 583,
    "start_time": "2022-09-28T16:47:48.297Z"
   },
   {
    "duration": 263,
    "start_time": "2022-09-28T16:48:02.700Z"
   },
   {
    "duration": 192,
    "start_time": "2022-09-28T16:49:19.962Z"
   },
   {
    "duration": 186,
    "start_time": "2022-09-28T16:49:36.759Z"
   },
   {
    "duration": 517,
    "start_time": "2022-09-28T16:52:35.005Z"
   },
   {
    "duration": 249,
    "start_time": "2022-09-28T16:52:48.787Z"
   },
   {
    "duration": 255,
    "start_time": "2022-09-28T16:53:14.910Z"
   },
   {
    "duration": 525,
    "start_time": "2022-09-28T16:54:00.435Z"
   },
   {
    "duration": 242,
    "start_time": "2022-09-28T16:54:23.466Z"
   },
   {
    "duration": 190,
    "start_time": "2022-09-28T16:54:31.270Z"
   },
   {
    "duration": 191,
    "start_time": "2022-09-28T17:05:11.051Z"
   },
   {
    "duration": 4,
    "start_time": "2022-09-28T17:13:20.198Z"
   },
   {
    "duration": 5,
    "start_time": "2022-09-28T17:14:20.787Z"
   },
   {
    "duration": 6,
    "start_time": "2022-09-28T17:14:47.325Z"
   },
   {
    "duration": 118,
    "start_time": "2022-09-28T17:18:57.620Z"
   },
   {
    "duration": 101,
    "start_time": "2022-09-28T17:19:19.557Z"
   },
   {
    "duration": 97,
    "start_time": "2022-09-28T17:19:31.113Z"
   },
   {
    "duration": 116,
    "start_time": "2022-09-28T17:19:50.102Z"
   },
   {
    "duration": 83,
    "start_time": "2022-09-28T17:20:36.780Z"
   },
   {
    "duration": 522,
    "start_time": "2022-09-28T17:20:55.114Z"
   },
   {
    "duration": 185,
    "start_time": "2022-09-28T17:21:16.018Z"
   },
   {
    "duration": 238,
    "start_time": "2022-09-28T17:21:46.551Z"
   },
   {
    "duration": 326,
    "start_time": "2022-09-28T17:25:27.209Z"
   },
   {
    "duration": 274,
    "start_time": "2022-09-28T17:33:46.352Z"
   },
   {
    "duration": 269,
    "start_time": "2022-09-28T17:33:58.259Z"
   },
   {
    "duration": 335,
    "start_time": "2022-09-28T17:38:54.168Z"
   },
   {
    "duration": 304,
    "start_time": "2022-09-28T17:50:39.052Z"
   },
   {
    "duration": 51,
    "start_time": "2022-09-29T09:07:38.408Z"
   },
   {
    "duration": 1730,
    "start_time": "2022-09-29T09:07:45.203Z"
   },
   {
    "duration": 302,
    "start_time": "2022-09-29T09:07:54.677Z"
   },
   {
    "duration": 402,
    "start_time": "2022-09-29T09:08:05.183Z"
   },
   {
    "duration": 332,
    "start_time": "2022-09-29T09:08:31.070Z"
   },
   {
    "duration": 322,
    "start_time": "2022-09-29T09:12:20.515Z"
   },
   {
    "duration": 314,
    "start_time": "2022-09-29T09:12:44.883Z"
   },
   {
    "duration": 8,
    "start_time": "2022-09-29T09:19:03.122Z"
   },
   {
    "duration": 7,
    "start_time": "2022-09-29T09:19:30.763Z"
   },
   {
    "duration": 6,
    "start_time": "2022-09-29T09:20:18.148Z"
   },
   {
    "duration": 183,
    "start_time": "2022-09-29T09:22:44.738Z"
   },
   {
    "duration": 323,
    "start_time": "2022-09-29T09:25:22.543Z"
   },
   {
    "duration": 244,
    "start_time": "2022-09-29T09:27:11.331Z"
   },
   {
    "duration": 250,
    "start_time": "2022-09-29T09:27:26.844Z"
   },
   {
    "duration": 237,
    "start_time": "2022-09-29T09:27:48.141Z"
   },
   {
    "duration": 256,
    "start_time": "2022-09-29T09:28:41.579Z"
   },
   {
    "duration": 323,
    "start_time": "2022-09-29T09:32:00.615Z"
   },
   {
    "duration": 414,
    "start_time": "2022-09-29T09:32:32.823Z"
   },
   {
    "duration": 429,
    "start_time": "2022-09-29T09:33:09.286Z"
   },
   {
    "duration": 698,
    "start_time": "2022-09-29T09:37:18.442Z"
   },
   {
    "duration": 920,
    "start_time": "2022-09-29T09:40:52.655Z"
   },
   {
    "duration": 856,
    "start_time": "2022-09-29T09:41:23.243Z"
   },
   {
    "duration": 1246,
    "start_time": "2022-09-29T09:43:57.382Z"
   },
   {
    "duration": 1702,
    "start_time": "2022-09-29T09:56:08.365Z"
   },
   {
    "duration": 1503,
    "start_time": "2022-09-29T09:56:29.777Z"
   },
   {
    "duration": 1426,
    "start_time": "2022-09-29T09:57:04.480Z"
   },
   {
    "duration": 1686,
    "start_time": "2022-09-29T09:58:47.442Z"
   },
   {
    "duration": 1657,
    "start_time": "2022-09-29T09:59:11.504Z"
   },
   {
    "duration": 1475,
    "start_time": "2022-09-29T10:00:02.478Z"
   },
   {
    "duration": 1587,
    "start_time": "2022-09-29T10:03:26.600Z"
   },
   {
    "duration": 1739,
    "start_time": "2022-09-29T10:04:11.578Z"
   },
   {
    "duration": 1540,
    "start_time": "2022-09-29T10:04:39.285Z"
   },
   {
    "duration": 1756,
    "start_time": "2022-09-29T10:07:43.572Z"
   },
   {
    "duration": 1745,
    "start_time": "2022-09-29T10:14:32.119Z"
   },
   {
    "duration": 1826,
    "start_time": "2022-09-29T10:15:17.538Z"
   },
   {
    "duration": 1754,
    "start_time": "2022-09-29T10:19:23.709Z"
   },
   {
    "duration": 1762,
    "start_time": "2022-09-29T10:23:20.930Z"
   },
   {
    "duration": 1814,
    "start_time": "2022-09-29T10:23:44.094Z"
   },
   {
    "duration": 1821,
    "start_time": "2022-09-29T10:23:56.829Z"
   },
   {
    "duration": 1859,
    "start_time": "2022-09-29T10:25:17.242Z"
   },
   {
    "duration": 2136,
    "start_time": "2022-09-29T10:26:09.917Z"
   },
   {
    "duration": 1749,
    "start_time": "2022-09-29T10:26:26.881Z"
   },
   {
    "duration": 416,
    "start_time": "2022-09-29T10:27:23.276Z"
   },
   {
    "duration": 333,
    "start_time": "2022-09-29T10:27:41.806Z"
   },
   {
    "duration": 1742,
    "start_time": "2022-09-29T10:27:53.314Z"
   },
   {
    "duration": 3023,
    "start_time": "2022-09-29T10:28:12.901Z"
   },
   {
    "duration": 2009,
    "start_time": "2022-09-29T10:30:19.604Z"
   },
   {
    "duration": 1754,
    "start_time": "2022-09-29T10:31:59.775Z"
   },
   {
    "duration": 1818,
    "start_time": "2022-09-29T10:33:27.803Z"
   },
   {
    "duration": 2363,
    "start_time": "2022-09-29T10:34:56.194Z"
   },
   {
    "duration": 1684,
    "start_time": "2022-09-29T10:37:39.860Z"
   },
   {
    "duration": 1930,
    "start_time": "2022-09-29T10:41:07.008Z"
   },
   {
    "duration": 2000,
    "start_time": "2022-09-29T10:41:58.352Z"
   },
   {
    "duration": 2180,
    "start_time": "2022-09-29T11:05:49.733Z"
   },
   {
    "duration": 2402,
    "start_time": "2022-09-29T11:09:45.787Z"
   },
   {
    "duration": 2611,
    "start_time": "2022-09-29T11:12:14.918Z"
   },
   {
    "duration": 2962,
    "start_time": "2022-09-29T11:18:03.702Z"
   },
   {
    "duration": 3279,
    "start_time": "2022-09-29T11:20:55.132Z"
   },
   {
    "duration": 3241,
    "start_time": "2022-09-29T11:21:30.966Z"
   },
   {
    "duration": 3108,
    "start_time": "2022-09-29T11:23:11.429Z"
   },
   {
    "duration": 3096,
    "start_time": "2022-09-29T11:43:20.064Z"
   },
   {
    "duration": 3522,
    "start_time": "2022-09-29T11:46:14.646Z"
   },
   {
    "duration": 3643,
    "start_time": "2022-09-29T11:48:46.209Z"
   },
   {
    "duration": 3412,
    "start_time": "2022-09-29T11:51:26.318Z"
   },
   {
    "duration": 3422,
    "start_time": "2022-09-29T11:52:33.246Z"
   },
   {
    "duration": 3652,
    "start_time": "2022-09-29T11:54:28.186Z"
   },
   {
    "duration": 3913,
    "start_time": "2022-09-29T11:58:47.504Z"
   },
   {
    "duration": 3726,
    "start_time": "2022-09-29T12:01:04.348Z"
   },
   {
    "duration": 3733,
    "start_time": "2022-09-29T12:01:59.114Z"
   },
   {
    "duration": 3741,
    "start_time": "2022-09-29T12:02:55.951Z"
   },
   {
    "duration": 2760,
    "start_time": "2022-09-29T12:34:07.626Z"
   },
   {
    "duration": 1747,
    "start_time": "2022-09-29T12:38:50.216Z"
   },
   {
    "duration": 1746,
    "start_time": "2022-09-29T12:39:22.514Z"
   },
   {
    "duration": 2030,
    "start_time": "2022-09-29T12:46:02.139Z"
   },
   {
    "duration": 3794,
    "start_time": "2022-09-29T12:49:02.490Z"
   },
   {
    "duration": 3940,
    "start_time": "2022-09-29T12:53:38.231Z"
   },
   {
    "duration": 4166,
    "start_time": "2022-09-29T13:11:28.912Z"
   },
   {
    "duration": 4331,
    "start_time": "2022-09-29T13:14:33.936Z"
   },
   {
    "duration": 4416,
    "start_time": "2022-09-29T13:15:43.771Z"
   },
   {
    "duration": 4990,
    "start_time": "2022-09-29T13:21:52.481Z"
   },
   {
    "duration": 4507,
    "start_time": "2022-09-29T13:46:04.030Z"
   },
   {
    "duration": 4653,
    "start_time": "2022-09-29T13:46:48.558Z"
   },
   {
    "duration": 4222,
    "start_time": "2022-09-29T13:49:01.431Z"
   },
   {
    "duration": 4394,
    "start_time": "2022-09-29T13:49:45.963Z"
   },
   {
    "duration": 4431,
    "start_time": "2022-09-29T13:52:07.574Z"
   },
   {
    "duration": 4635,
    "start_time": "2022-09-29T15:44:49.051Z"
   },
   {
    "duration": 4591,
    "start_time": "2022-09-29T15:49:46.907Z"
   },
   {
    "duration": 1454,
    "start_time": "2022-09-29T16:14:37.193Z"
   },
   {
    "duration": 387,
    "start_time": "2022-09-29T16:14:58.569Z"
   },
   {
    "duration": 237,
    "start_time": "2022-09-29T16:15:26.143Z"
   },
   {
    "duration": 339,
    "start_time": "2022-09-29T16:15:45.434Z"
   },
   {
    "duration": 341,
    "start_time": "2022-09-29T16:16:02.839Z"
   },
   {
    "duration": 765,
    "start_time": "2022-09-29T16:23:47.074Z"
   },
   {
    "duration": 302,
    "start_time": "2022-09-29T16:24:09.958Z"
   },
   {
    "duration": 332,
    "start_time": "2022-09-29T16:24:27.867Z"
   },
   {
    "duration": 3795,
    "start_time": "2022-09-29T16:24:39.275Z"
   },
   {
    "duration": 789,
    "start_time": "2022-09-29T16:27:15.359Z"
   },
   {
    "duration": 307,
    "start_time": "2022-09-29T16:27:35.733Z"
   },
   {
    "duration": 343,
    "start_time": "2022-09-29T16:27:48.466Z"
   },
   {
    "duration": 3770,
    "start_time": "2022-09-29T16:28:07.942Z"
   },
   {
    "duration": 655,
    "start_time": "2022-09-29T16:28:30.734Z"
   },
   {
    "duration": 936,
    "start_time": "2022-09-29T16:32:06.691Z"
   },
   {
    "duration": 1295,
    "start_time": "2022-09-29T16:33:12.762Z"
   },
   {
    "duration": 938,
    "start_time": "2022-09-29T16:43:47.244Z"
   },
   {
    "duration": 911,
    "start_time": "2022-09-29T16:45:49.010Z"
   },
   {
    "duration": 437,
    "start_time": "2022-09-29T16:46:10.620Z"
   },
   {
    "duration": 396,
    "start_time": "2022-09-29T16:46:19.911Z"
   },
   {
    "duration": 4538,
    "start_time": "2022-09-29T16:46:32.028Z"
   },
   {
    "duration": 910,
    "start_time": "2022-09-29T16:49:26.504Z"
   },
   {
    "duration": 339,
    "start_time": "2022-09-29T16:49:39.578Z"
   },
   {
    "duration": 462,
    "start_time": "2022-09-29T16:49:57.758Z"
   },
   {
    "duration": 4253,
    "start_time": "2022-09-29T16:50:10.616Z"
   },
   {
    "duration": 74,
    "start_time": "2022-09-29T16:50:19.582Z"
   },
   {
    "duration": 1000,
    "start_time": "2022-09-29T16:53:18.413Z"
   },
   {
    "duration": 345,
    "start_time": "2022-09-29T16:54:30.752Z"
   },
   {
    "duration": 396,
    "start_time": "2022-09-29T16:54:39.716Z"
   },
   {
    "duration": 4617,
    "start_time": "2022-09-29T16:54:56.818Z"
   },
   {
    "duration": 100,
    "start_time": "2022-09-29T16:55:03.511Z"
   },
   {
    "duration": 670,
    "start_time": "2022-09-29T16:55:08.247Z"
   },
   {
    "duration": 230,
    "start_time": "2022-09-29T16:55:16.646Z"
   },
   {
    "duration": 915,
    "start_time": "2022-09-29T16:57:35.892Z"
   },
   {
    "duration": 312,
    "start_time": "2022-09-29T16:57:51.780Z"
   },
   {
    "duration": 361,
    "start_time": "2022-09-29T16:58:01.041Z"
   },
   {
    "duration": 4092,
    "start_time": "2022-09-29T16:58:11.781Z"
   },
   {
    "duration": 99,
    "start_time": "2022-09-29T16:58:23.784Z"
   },
   {
    "duration": 345800,
    "start_time": "2022-09-29T16:58:46.138Z"
   },
   {
    "duration": 613,
    "start_time": "2022-09-29T17:04:31.940Z"
   },
   {
    "duration": 103,
    "start_time": "2022-09-29T17:06:44.302Z"
   },
   {
    "duration": 13,
    "start_time": "2022-09-29T17:06:54.313Z"
   },
   {
    "duration": 10,
    "start_time": "2022-09-29T17:11:45.438Z"
   },
   {
    "duration": 24,
    "start_time": "2022-09-29T17:23:35.310Z"
   },
   {
    "duration": 24,
    "start_time": "2022-09-29T17:23:58.643Z"
   },
   {
    "duration": 34,
    "start_time": "2022-09-29T17:28:41.946Z"
   },
   {
    "duration": 27,
    "start_time": "2022-09-29T17:28:51.440Z"
   },
   {
    "duration": 25,
    "start_time": "2022-09-29T17:32:06.896Z"
   },
   {
    "duration": 36,
    "start_time": "2022-09-29T17:32:46.080Z"
   },
   {
    "duration": 8,
    "start_time": "2022-09-29T17:41:17.451Z"
   },
   {
    "duration": 19,
    "start_time": "2022-09-29T17:41:45.297Z"
   },
   {
    "duration": 56,
    "start_time": "2022-09-29T17:43:06.071Z"
   },
   {
    "duration": 3,
    "start_time": "2022-09-29T17:43:34.467Z"
   },
   {
    "duration": 4,
    "start_time": "2022-09-29T17:43:52.792Z"
   },
   {
    "duration": 42,
    "start_time": "2022-09-29T17:46:27.470Z"
   },
   {
    "duration": 49,
    "start_time": "2022-09-29T18:02:11.362Z"
   },
   {
    "duration": 108,
    "start_time": "2022-09-29T18:03:49.710Z"
   },
   {
    "duration": 8,
    "start_time": "2022-09-29T18:04:03.154Z"
   },
   {
    "duration": 20,
    "start_time": "2022-09-29T18:04:39.480Z"
   },
   {
    "duration": 19,
    "start_time": "2022-09-29T18:05:14.535Z"
   },
   {
    "duration": 13,
    "start_time": "2022-09-29T18:06:11.012Z"
   },
   {
    "duration": 35,
    "start_time": "2022-09-29T18:09:34.727Z"
   },
   {
    "duration": 23,
    "start_time": "2022-09-29T18:10:14.057Z"
   },
   {
    "duration": 205,
    "start_time": "2022-09-29T18:12:27.228Z"
   },
   {
    "duration": 1445,
    "start_time": "2022-09-30T08:16:51.608Z"
   },
   {
    "duration": 359,
    "start_time": "2022-09-30T08:17:07.629Z"
   },
   {
    "duration": 415,
    "start_time": "2022-09-30T08:17:16.527Z"
   },
   {
    "duration": 4339,
    "start_time": "2022-09-30T08:17:28.957Z"
   },
   {
    "duration": 35,
    "start_time": "2022-09-30T08:17:39.607Z"
   },
   {
    "duration": 38,
    "start_time": "2022-09-30T08:17:53.065Z"
   },
   {
    "duration": 193,
    "start_time": "2022-09-30T08:19:13.495Z"
   },
   {
    "duration": 573,
    "start_time": "2022-09-30T08:21:40.049Z"
   },
   {
    "duration": 730,
    "start_time": "2022-09-30T08:22:49.165Z"
   },
   {
    "duration": 383,
    "start_time": "2022-09-30T08:23:57.357Z"
   },
   {
    "duration": 411,
    "start_time": "2022-09-30T08:24:30.938Z"
   },
   {
    "duration": 466,
    "start_time": "2022-09-30T08:25:04.133Z"
   },
   {
    "duration": 1658,
    "start_time": "2022-09-30T08:26:38.915Z"
   },
   {
    "duration": 454,
    "start_time": "2022-09-30T08:27:10.071Z"
   },
   {
    "duration": 105,
    "start_time": "2022-09-30T08:30:09.535Z"
   },
   {
    "duration": 189,
    "start_time": "2022-09-30T08:30:41.920Z"
   },
   {
    "duration": 2160,
    "start_time": "2022-09-30T08:31:27.606Z"
   },
   {
    "duration": 1323,
    "start_time": "2022-09-30T08:31:55.127Z"
   },
   {
    "duration": 1782,
    "start_time": "2022-09-30T08:33:13.462Z"
   },
   {
    "duration": 1597,
    "start_time": "2022-09-30T08:33:51.126Z"
   },
   {
    "duration": 310,
    "start_time": "2022-09-30T08:34:17.234Z"
   },
   {
    "duration": 1864,
    "start_time": "2022-09-30T08:37:01.021Z"
   },
   {
    "duration": 1735,
    "start_time": "2022-09-30T08:37:55.125Z"
   },
   {
    "duration": 251,
    "start_time": "2022-09-30T08:38:56.693Z"
   },
   {
    "duration": 26,
    "start_time": "2022-09-30T08:39:51.524Z"
   },
   {
    "duration": 32,
    "start_time": "2022-09-30T08:40:21.358Z"
   },
   {
    "duration": 30,
    "start_time": "2022-09-30T08:41:02.161Z"
   },
   {
    "duration": 21,
    "start_time": "2022-09-30T08:42:53.349Z"
   },
   {
    "duration": 193,
    "start_time": "2022-09-30T08:44:13.367Z"
   },
   {
    "duration": 1854,
    "start_time": "2022-09-30T08:44:47.306Z"
   },
   {
    "duration": 1908,
    "start_time": "2022-09-30T08:45:30.320Z"
   },
   {
    "duration": 154,
    "start_time": "2022-09-30T08:45:55.611Z"
   },
   {
    "duration": 30,
    "start_time": "2022-09-30T08:46:41.332Z"
   },
   {
    "duration": 26,
    "start_time": "2022-09-30T08:50:41.036Z"
   },
   {
    "duration": 54,
    "start_time": "2022-09-30T08:54:08.760Z"
   },
   {
    "duration": 44,
    "start_time": "2022-09-30T08:54:42.250Z"
   },
   {
    "duration": 27,
    "start_time": "2022-09-30T08:54:54.436Z"
   },
   {
    "duration": 405,
    "start_time": "2022-09-30T08:55:27.886Z"
   },
   {
    "duration": 239,
    "start_time": "2022-09-30T08:58:46.625Z"
   },
   {
    "duration": 41,
    "start_time": "2022-09-30T08:59:06.999Z"
   },
   {
    "duration": 220,
    "start_time": "2022-09-30T08:59:47.103Z"
   },
   {
    "duration": 788,
    "start_time": "2022-09-30T09:05:08.873Z"
   },
   {
    "duration": 302,
    "start_time": "2022-09-30T09:05:28.437Z"
   },
   {
    "duration": 346,
    "start_time": "2022-09-30T09:05:38.313Z"
   },
   {
    "duration": 3838,
    "start_time": "2022-09-30T09:05:49.805Z"
   },
   {
    "duration": 69,
    "start_time": "2022-09-30T09:06:04.032Z"
   },
   {
    "duration": 602,
    "start_time": "2022-09-30T09:06:17.106Z"
   },
   {
    "duration": 39,
    "start_time": "2022-09-30T09:06:26.870Z"
   },
   {
    "duration": 26,
    "start_time": "2022-09-30T09:07:02.807Z"
   },
   {
    "duration": 216,
    "start_time": "2022-09-30T09:07:18.766Z"
   },
   {
    "duration": 315,
    "start_time": "2022-09-30T09:12:31.910Z"
   },
   {
    "duration": 175,
    "start_time": "2022-09-30T09:20:39.318Z"
   },
   {
    "duration": 752,
    "start_time": "2022-09-30T09:21:04.373Z"
   },
   {
    "duration": 722,
    "start_time": "2022-09-30T09:22:16.406Z"
   },
   {
    "duration": 640,
    "start_time": "2022-09-30T09:28:07.894Z"
   },
   {
    "duration": 97,
    "start_time": "2022-09-30T09:36:32.546Z"
   },
   {
    "duration": 620,
    "start_time": "2022-09-30T09:36:45.906Z"
   },
   {
    "duration": 297,
    "start_time": "2022-09-30T09:36:59.809Z"
   },
   {
    "duration": 433,
    "start_time": "2022-09-30T09:37:05.301Z"
   },
   {
    "duration": 98,
    "start_time": "2022-09-30T10:02:35.534Z"
   },
   {
    "duration": 714,
    "start_time": "2022-09-30T10:20:02.056Z"
   },
   {
    "duration": 604,
    "start_time": "2022-09-30T10:55:36.226Z"
   },
   {
    "duration": 269,
    "start_time": "2022-09-30T10:57:55.601Z"
   },
   {
    "duration": 2650,
    "start_time": "2022-09-30T10:58:50.443Z"
   },
   {
    "duration": 1395,
    "start_time": "2022-09-30T11:03:56.199Z"
   },
   {
    "duration": 1280,
    "start_time": "2022-09-30T11:04:55.948Z"
   },
   {
    "duration": 310,
    "start_time": "2022-09-30T11:05:08.628Z"
   },
   {
    "duration": 467,
    "start_time": "2022-09-30T11:05:15.725Z"
   },
   {
    "duration": 4167,
    "start_time": "2022-09-30T11:05:27.763Z"
   },
   {
    "duration": 99,
    "start_time": "2022-09-30T11:05:38.328Z"
   },
   {
    "duration": 557,
    "start_time": "2022-09-30T11:05:43.598Z"
   },
   {
    "duration": 37,
    "start_time": "2022-09-30T11:05:50.803Z"
   },
   {
    "duration": 26,
    "start_time": "2022-09-30T11:06:00.344Z"
   },
   {
    "duration": 236,
    "start_time": "2022-09-30T11:06:05.793Z"
   },
   {
    "duration": 3814,
    "start_time": "2022-09-30T11:11:14.404Z"
   },
   {
    "duration": 4360,
    "start_time": "2022-09-30T11:16:03.516Z"
   },
   {
    "duration": 3913,
    "start_time": "2022-09-30T11:23:17.443Z"
   },
   {
    "duration": 3716,
    "start_time": "2022-09-30T11:30:06.122Z"
   },
   {
    "duration": 1386,
    "start_time": "2022-09-30T11:39:30.033Z"
   },
   {
    "duration": 337,
    "start_time": "2022-09-30T11:40:13.414Z"
   },
   {
    "duration": 382,
    "start_time": "2022-09-30T11:40:20.052Z"
   },
   {
    "duration": 4047,
    "start_time": "2022-09-30T11:40:44.297Z"
   },
   {
    "duration": 73,
    "start_time": "2022-09-30T11:41:14.545Z"
   },
   {
    "duration": 556,
    "start_time": "2022-09-30T11:41:20.362Z"
   },
   {
    "duration": 1294,
    "start_time": "2022-09-30T11:43:10.502Z"
   },
   {
    "duration": 312,
    "start_time": "2022-09-30T11:43:32.575Z"
   },
   {
    "duration": 385,
    "start_time": "2022-09-30T11:43:41.107Z"
   },
   {
    "duration": 3909,
    "start_time": "2022-09-30T11:43:53.228Z"
   },
   {
    "duration": 66,
    "start_time": "2022-09-30T11:44:17.954Z"
   },
   {
    "duration": 527,
    "start_time": "2022-09-30T11:44:33.202Z"
   },
   {
    "duration": 32,
    "start_time": "2022-09-30T11:44:46.317Z"
   },
   {
    "duration": 33,
    "start_time": "2022-09-30T11:44:56.172Z"
   },
   {
    "duration": 207,
    "start_time": "2022-09-30T11:45:06.005Z"
   },
   {
    "duration": 1713,
    "start_time": "2022-09-30T12:21:45.310Z"
   },
   {
    "duration": 329,
    "start_time": "2022-09-30T12:22:42.336Z"
   },
   {
    "duration": 260,
    "start_time": "2022-09-30T12:24:58.224Z"
   },
   {
    "duration": 3164,
    "start_time": "2022-09-30T12:25:17.269Z"
   },
   {
    "duration": 699,
    "start_time": "2022-09-30T12:25:43.504Z"
   },
   {
    "duration": 353,
    "start_time": "2022-09-30T12:25:55.657Z"
   },
   {
    "duration": 406,
    "start_time": "2022-09-30T12:26:04.311Z"
   },
   {
    "duration": 4195,
    "start_time": "2022-09-30T12:26:13.054Z"
   },
   {
    "duration": 79,
    "start_time": "2022-09-30T12:26:30.664Z"
   },
   {
    "duration": 721,
    "start_time": "2022-09-30T12:26:35.624Z"
   },
   {
    "duration": 27,
    "start_time": "2022-09-30T12:26:43.241Z"
   },
   {
    "duration": 40,
    "start_time": "2022-09-30T12:26:55.312Z"
   },
   {
    "duration": 220,
    "start_time": "2022-09-30T12:27:16.047Z"
   },
   {
    "duration": 1301,
    "start_time": "2022-09-30T13:28:00.463Z"
   },
   {
    "duration": 296,
    "start_time": "2022-09-30T13:28:01.765Z"
   },
   {
    "duration": 403,
    "start_time": "2022-09-30T13:28:02.063Z"
   },
   {
    "duration": 3581,
    "start_time": "2022-09-30T13:28:02.468Z"
   },
   {
    "duration": 62,
    "start_time": "2022-09-30T13:28:06.050Z"
   },
   {
    "duration": 552,
    "start_time": "2022-09-30T13:28:06.115Z"
   },
   {
    "duration": 27,
    "start_time": "2022-09-30T13:28:06.668Z"
   },
   {
    "duration": 47,
    "start_time": "2022-09-30T13:28:06.697Z"
   },
   {
    "duration": 200,
    "start_time": "2022-09-30T13:28:06.746Z"
   },
   {
    "duration": 15,
    "start_time": "2022-09-30T13:33:58.522Z"
   },
   {
    "duration": 3566,
    "start_time": "2022-09-30T14:47:40.655Z"
   },
   {
    "duration": 2242,
    "start_time": "2022-09-30T14:51:31.417Z"
   },
   {
    "duration": 75,
    "start_time": "2022-09-30T16:09:32.640Z"
   },
   {
    "duration": 2200,
    "start_time": "2022-09-30T16:40:04.127Z"
   },
   {
    "duration": 96,
    "start_time": "2022-09-30T16:41:01.511Z"
   },
   {
    "duration": 178,
    "start_time": "2022-09-30T16:41:11.931Z"
   },
   {
    "duration": 22,
    "start_time": "2022-09-30T16:41:18.452Z"
   },
   {
    "duration": 1972,
    "start_time": "2022-09-30T16:52:08.985Z"
   },
   {
    "duration": 89,
    "start_time": "2022-09-30T16:52:33.057Z"
   },
   {
    "duration": 167,
    "start_time": "2022-09-30T16:53:01.503Z"
   },
   {
    "duration": 22,
    "start_time": "2022-09-30T16:53:07.319Z"
   },
   {
    "duration": 462,
    "start_time": "2022-09-30T16:53:50.285Z"
   },
   {
    "duration": 3580,
    "start_time": "2022-09-30T16:54:16.114Z"
   },
   {
    "duration": 59,
    "start_time": "2022-09-30T16:54:44.483Z"
   },
   {
    "duration": 506,
    "start_time": "2022-09-30T16:54:48.533Z"
   },
   {
    "duration": 34,
    "start_time": "2022-09-30T16:55:32.003Z"
   },
   {
    "duration": 26,
    "start_time": "2022-09-30T16:55:44.683Z"
   },
   {
    "duration": 188,
    "start_time": "2022-09-30T16:55:58.885Z"
   },
   {
    "duration": 76,
    "start_time": "2022-09-30T17:08:02.721Z"
   },
   {
    "duration": 73,
    "start_time": "2022-09-30T17:08:06.019Z"
   },
   {
    "duration": 79,
    "start_time": "2022-09-30T17:08:40.015Z"
   },
   {
    "duration": 181,
    "start_time": "2022-09-30T17:27:06.337Z"
   },
   {
    "duration": 89,
    "start_time": "2022-09-30T17:45:07.646Z"
   },
   {
    "duration": 83,
    "start_time": "2022-09-30T17:54:35.439Z"
   },
   {
    "duration": 23,
    "start_time": "2022-09-30T18:01:19.284Z"
   },
   {
    "duration": 22,
    "start_time": "2022-09-30T18:01:42.450Z"
   },
   {
    "duration": 75,
    "start_time": "2022-09-30T18:03:14.483Z"
   },
   {
    "duration": 23,
    "start_time": "2022-09-30T18:03:23.521Z"
   },
   {
    "duration": 79,
    "start_time": "2022-09-30T18:05:24.562Z"
   },
   {
    "duration": 87,
    "start_time": "2022-09-30T18:05:53.667Z"
   },
   {
    "duration": 23,
    "start_time": "2022-09-30T18:20:37.627Z"
   },
   {
    "duration": 99,
    "start_time": "2022-09-30T18:43:59.519Z"
   },
   {
    "duration": 76,
    "start_time": "2022-09-30T18:45:04.028Z"
   },
   {
    "duration": 33,
    "start_time": "2022-09-30T18:45:17.348Z"
   },
   {
    "duration": 37,
    "start_time": "2022-09-30T18:45:59.335Z"
   },
   {
    "duration": 102,
    "start_time": "2022-09-30T18:49:53.479Z"
   },
   {
    "duration": 104,
    "start_time": "2022-09-30T18:50:07.001Z"
   },
   {
    "duration": 42,
    "start_time": "2022-09-30T18:50:32.887Z"
   },
   {
    "duration": 103,
    "start_time": "2022-09-30T18:51:59.446Z"
   },
   {
    "duration": 2058,
    "start_time": "2022-09-30T18:52:24.524Z"
   },
   {
    "duration": 108,
    "start_time": "2022-09-30T18:52:40.950Z"
   },
   {
    "duration": 146,
    "start_time": "2022-09-30T18:52:53.774Z"
   },
   {
    "duration": 38,
    "start_time": "2022-09-30T18:53:01.006Z"
   },
   {
    "duration": 31,
    "start_time": "2022-09-30T18:54:04.625Z"
   },
   {
    "duration": 34,
    "start_time": "2022-09-30T18:55:15.151Z"
   },
   {
    "duration": 75,
    "start_time": "2022-09-30T19:17:52.405Z"
   },
   {
    "duration": 273,
    "start_time": "2022-09-30T19:22:07.765Z"
   },
   {
    "duration": 266,
    "start_time": "2022-09-30T19:27:45.701Z"
   },
   {
    "duration": 406,
    "start_time": "2022-09-30T21:21:16.705Z"
   },
   {
    "duration": 305,
    "start_time": "2022-09-30T21:22:41.894Z"
   },
   {
    "duration": 263,
    "start_time": "2022-09-30T21:23:46.578Z"
   },
   {
    "duration": 264,
    "start_time": "2022-09-30T21:24:44.763Z"
   },
   {
    "duration": 3457,
    "start_time": "2022-10-01T05:58:58.573Z"
   },
   {
    "duration": 107,
    "start_time": "2022-10-01T05:59:12.318Z"
   },
   {
    "duration": 153,
    "start_time": "2022-10-01T05:59:37.126Z"
   },
   {
    "duration": 87,
    "start_time": "2022-10-01T05:59:40.570Z"
   },
   {
    "duration": 81,
    "start_time": "2022-10-01T05:59:46.069Z"
   },
   {
    "duration": 19,
    "start_time": "2022-10-01T05:59:49.028Z"
   },
   {
    "duration": 2134,
    "start_time": "2022-10-01T06:00:01.650Z"
   },
   {
    "duration": 106,
    "start_time": "2022-10-01T06:00:12.642Z"
   },
   {
    "duration": 147,
    "start_time": "2022-10-01T06:00:17.626Z"
   },
   {
    "duration": 22,
    "start_time": "2022-10-01T06:00:21.406Z"
   },
   {
    "duration": 17,
    "start_time": "2022-10-01T06:01:09.319Z"
   },
   {
    "duration": 15,
    "start_time": "2022-10-01T06:01:36.377Z"
   },
   {
    "duration": 2851,
    "start_time": "2022-10-01T06:02:33.323Z"
   },
   {
    "duration": 126,
    "start_time": "2022-10-01T06:02:47.183Z"
   },
   {
    "duration": 146,
    "start_time": "2022-10-01T06:02:52.527Z"
   },
   {
    "duration": 87,
    "start_time": "2022-10-01T06:02:58.972Z"
   },
   {
    "duration": 109,
    "start_time": "2022-10-01T06:04:37.984Z"
   },
   {
    "duration": 97,
    "start_time": "2022-10-01T06:04:54.926Z"
   },
   {
    "duration": 103,
    "start_time": "2022-10-01T06:05:19.429Z"
   },
   {
    "duration": 16,
    "start_time": "2022-10-01T06:05:23.749Z"
   },
   {
    "duration": 16,
    "start_time": "2022-10-01T06:06:01.010Z"
   },
   {
    "duration": 16,
    "start_time": "2022-10-01T06:06:21.136Z"
   },
   {
    "duration": 5,
    "start_time": "2022-10-01T06:07:17.284Z"
   },
   {
    "duration": 59,
    "start_time": "2022-10-01T06:07:36.972Z"
   },
   {
    "duration": 59,
    "start_time": "2022-10-01T06:08:10.803Z"
   },
   {
    "duration": 61,
    "start_time": "2022-10-01T06:09:01.561Z"
   },
   {
    "duration": 65,
    "start_time": "2022-10-01T06:09:25.231Z"
   },
   {
    "duration": 2929,
    "start_time": "2022-10-01T06:10:35.061Z"
   },
   {
    "duration": 127,
    "start_time": "2022-10-01T06:10:53.285Z"
   },
   {
    "duration": 138,
    "start_time": "2022-10-01T06:11:29.365Z"
   },
   {
    "duration": 149,
    "start_time": "2022-10-01T06:11:36.733Z"
   },
   {
    "duration": 91,
    "start_time": "2022-10-01T06:12:30.677Z"
   },
   {
    "duration": 49,
    "start_time": "2022-10-01T06:13:05.575Z"
   },
   {
    "duration": 15,
    "start_time": "2022-10-01T06:13:25.690Z"
   },
   {
    "duration": 283,
    "start_time": "2022-10-01T06:13:51.744Z"
   },
   {
    "duration": 288,
    "start_time": "2022-10-01T06:14:42.438Z"
   },
   {
    "duration": 292,
    "start_time": "2022-10-01T06:15:52.045Z"
   },
   {
    "duration": 399,
    "start_time": "2022-10-01T06:21:22.255Z"
   },
   {
    "duration": 296,
    "start_time": "2022-10-01T06:23:10.696Z"
   },
   {
    "duration": 313,
    "start_time": "2022-10-01T06:32:14.015Z"
   },
   {
    "duration": 303,
    "start_time": "2022-10-01T06:32:32.892Z"
   },
   {
    "duration": 15,
    "start_time": "2022-10-01T06:52:19.650Z"
   },
   {
    "duration": 115,
    "start_time": "2022-10-01T06:52:31.577Z"
   },
   {
    "duration": 59,
    "start_time": "2022-10-01T06:54:06.526Z"
   },
   {
    "duration": 119,
    "start_time": "2022-10-01T06:55:28.330Z"
   },
   {
    "duration": 61,
    "start_time": "2022-10-01T06:56:39.650Z"
   },
   {
    "duration": 2807,
    "start_time": "2022-10-01T06:58:45.046Z"
   },
   {
    "duration": 495,
    "start_time": "2022-10-01T06:59:05.846Z"
   },
   {
    "duration": 4291,
    "start_time": "2022-10-01T06:59:22.620Z"
   },
   {
    "duration": 65,
    "start_time": "2022-10-01T07:24:35.713Z"
   },
   {
    "duration": 550,
    "start_time": "2022-10-01T07:24:45.725Z"
   },
   {
    "duration": 27,
    "start_time": "2022-10-01T07:31:53.789Z"
   },
   {
    "duration": 57,
    "start_time": "2022-10-01T07:32:27.069Z"
   },
   {
    "duration": 190,
    "start_time": "2022-10-01T07:33:30.071Z"
   },
   {
    "duration": 12,
    "start_time": "2022-10-01T07:33:51.120Z"
   },
   {
    "duration": 211,
    "start_time": "2022-10-01T07:34:19.392Z"
   },
   {
    "duration": 127,
    "start_time": "2022-10-01T07:37:41.959Z"
   },
   {
    "duration": 338,
    "start_time": "2022-10-01T07:46:27.767Z"
   },
   {
    "duration": 178,
    "start_time": "2022-10-01T07:46:55.035Z"
   },
   {
    "duration": 168,
    "start_time": "2022-10-01T07:47:44.728Z"
   },
   {
    "duration": 190,
    "start_time": "2022-10-01T07:48:10.885Z"
   },
   {
    "duration": 183,
    "start_time": "2022-10-01T07:49:40.198Z"
   },
   {
    "duration": 2817,
    "start_time": "2022-10-01T08:04:42.165Z"
   },
   {
    "duration": 115,
    "start_time": "2022-10-01T08:05:09.391Z"
   },
   {
    "duration": 177,
    "start_time": "2022-10-01T08:05:23.861Z"
   },
   {
    "duration": 294,
    "start_time": "2022-10-01T08:05:34.436Z"
   },
   {
    "duration": 334,
    "start_time": "2022-10-01T08:07:29.420Z"
   },
   {
    "duration": 3719,
    "start_time": "2022-10-01T08:07:56.045Z"
   },
   {
    "duration": 63,
    "start_time": "2022-10-01T08:08:12.394Z"
   },
   {
    "duration": 543,
    "start_time": "2022-10-01T08:08:19.147Z"
   },
   {
    "duration": 197,
    "start_time": "2022-10-01T08:08:25.860Z"
   },
   {
    "duration": 2833,
    "start_time": "2022-10-01T08:11:32.140Z"
   },
   {
    "duration": 107,
    "start_time": "2022-10-01T08:11:43.344Z"
   },
   {
    "duration": 199,
    "start_time": "2022-10-01T08:11:51.752Z"
   },
   {
    "duration": 296,
    "start_time": "2022-10-01T08:11:59.972Z"
   },
   {
    "duration": 317,
    "start_time": "2022-10-01T08:12:18.196Z"
   },
   {
    "duration": 3874,
    "start_time": "2022-10-01T08:12:32.315Z"
   },
   {
    "duration": 66,
    "start_time": "2022-10-01T08:12:51.014Z"
   },
   {
    "duration": 585,
    "start_time": "2022-10-01T08:13:01.340Z"
   },
   {
    "duration": 209,
    "start_time": "2022-10-01T08:13:14.031Z"
   },
   {
    "duration": 25,
    "start_time": "2022-10-01T08:13:19.442Z"
   },
   {
    "duration": 21,
    "start_time": "2022-10-01T08:13:37.072Z"
   },
   {
    "duration": 2853,
    "start_time": "2022-10-01T08:28:03.617Z"
   },
   {
    "duration": 118,
    "start_time": "2022-10-01T08:28:17.770Z"
   },
   {
    "duration": 157,
    "start_time": "2022-10-01T08:28:25.889Z"
   },
   {
    "duration": 291,
    "start_time": "2022-10-01T08:28:37.763Z"
   },
   {
    "duration": 345,
    "start_time": "2022-10-01T08:28:52.230Z"
   },
   {
    "duration": 3892,
    "start_time": "2022-10-01T08:29:01.107Z"
   },
   {
    "duration": 64,
    "start_time": "2022-10-01T08:29:19.600Z"
   },
   {
    "duration": 561,
    "start_time": "2022-10-01T08:29:25.935Z"
   },
   {
    "duration": 188,
    "start_time": "2022-10-01T08:29:34.317Z"
   },
   {
    "duration": 16,
    "start_time": "2022-10-01T08:29:54.667Z"
   },
   {
    "duration": 82,
    "start_time": "2022-10-01T08:34:41.218Z"
   },
   {
    "duration": 2879,
    "start_time": "2022-10-01T08:37:00.054Z"
   },
   {
    "duration": 113,
    "start_time": "2022-10-01T08:37:13.411Z"
   },
   {
    "duration": 180,
    "start_time": "2022-10-01T08:37:22.292Z"
   },
   {
    "duration": 310,
    "start_time": "2022-10-01T08:37:28.573Z"
   },
   {
    "duration": 365,
    "start_time": "2022-10-01T08:37:46.776Z"
   },
   {
    "duration": 3787,
    "start_time": "2022-10-01T08:38:01.930Z"
   },
   {
    "duration": 68,
    "start_time": "2022-10-01T08:38:21.576Z"
   },
   {
    "duration": 577,
    "start_time": "2022-10-01T08:38:32.227Z"
   },
   {
    "duration": 186,
    "start_time": "2022-10-01T08:38:39.122Z"
   },
   {
    "duration": 18,
    "start_time": "2022-10-01T08:38:45.197Z"
   },
   {
    "duration": 1483,
    "start_time": "2022-10-01T08:56:24.146Z"
   },
   {
    "duration": 1446,
    "start_time": "2022-10-01T08:59:14.481Z"
   },
   {
    "duration": 130,
    "start_time": "2022-10-01T09:00:17.323Z"
   },
   {
    "duration": 141,
    "start_time": "2022-10-01T09:00:42.120Z"
   },
   {
    "duration": 2916,
    "start_time": "2022-10-01T09:01:28.110Z"
   },
   {
    "duration": 108,
    "start_time": "2022-10-01T09:01:40.845Z"
   },
   {
    "duration": 176,
    "start_time": "2022-10-01T09:01:47.980Z"
   },
   {
    "duration": 289,
    "start_time": "2022-10-01T09:01:53.771Z"
   },
   {
    "duration": 361,
    "start_time": "2022-10-01T09:02:07.706Z"
   },
   {
    "duration": 4186,
    "start_time": "2022-10-01T09:02:15.350Z"
   },
   {
    "duration": 69,
    "start_time": "2022-10-01T09:02:31.639Z"
   },
   {
    "duration": 543,
    "start_time": "2022-10-01T09:02:40.099Z"
   },
   {
    "duration": 193,
    "start_time": "2022-10-01T09:02:45.869Z"
   },
   {
    "duration": 16,
    "start_time": "2022-10-01T09:02:54.431Z"
   },
   {
    "duration": 197,
    "start_time": "2022-10-01T09:03:04.760Z"
   },
   {
    "duration": 3,
    "start_time": "2022-10-01T09:03:52.718Z"
   },
   {
    "duration": 28,
    "start_time": "2022-10-01T09:04:06.089Z"
   },
   {
    "duration": 56,
    "start_time": "2022-10-01T09:05:09.400Z"
   },
   {
    "duration": 54,
    "start_time": "2022-10-01T09:08:04.640Z"
   },
   {
    "duration": 272,
    "start_time": "2022-10-01T09:11:35.365Z"
   },
   {
    "duration": 447,
    "start_time": "2022-10-01T09:12:39.919Z"
   },
   {
    "duration": 430,
    "start_time": "2022-10-01T09:13:29.430Z"
   },
   {
    "duration": 190,
    "start_time": "2022-10-01T09:13:47.228Z"
   },
   {
    "duration": 264,
    "start_time": "2022-10-01T09:14:21.340Z"
   },
   {
    "duration": 199,
    "start_time": "2022-10-01T09:14:47.437Z"
   },
   {
    "duration": 68,
    "start_time": "2022-10-01T09:15:28.331Z"
   },
   {
    "duration": 189,
    "start_time": "2022-10-01T09:15:53.677Z"
   },
   {
    "duration": 57,
    "start_time": "2022-10-01T09:17:25.894Z"
   },
   {
    "duration": 90,
    "start_time": "2022-10-01T09:27:24.106Z"
   },
   {
    "duration": 69,
    "start_time": "2022-10-01T09:36:03.275Z"
   },
   {
    "duration": 2970,
    "start_time": "2022-10-01T11:15:52.579Z"
   },
   {
    "duration": 110,
    "start_time": "2022-10-01T11:16:07.157Z"
   },
   {
    "duration": 207,
    "start_time": "2022-10-01T11:16:15.329Z"
   },
   {
    "duration": 291,
    "start_time": "2022-10-01T11:16:21.192Z"
   },
   {
    "duration": 344,
    "start_time": "2022-10-01T11:16:37.948Z"
   },
   {
    "duration": 3961,
    "start_time": "2022-10-01T11:16:50.302Z"
   },
   {
    "duration": 61,
    "start_time": "2022-10-01T11:17:04.363Z"
   },
   {
    "duration": 548,
    "start_time": "2022-10-01T11:17:12.148Z"
   },
   {
    "duration": 184,
    "start_time": "2022-10-01T11:17:19.314Z"
   },
   {
    "duration": 15,
    "start_time": "2022-10-01T11:17:29.428Z"
   },
   {
    "duration": 181,
    "start_time": "2022-10-01T11:17:36.471Z"
   },
   {
    "duration": 2887,
    "start_time": "2022-10-01T11:23:04.606Z"
   },
   {
    "duration": 131,
    "start_time": "2022-10-01T11:23:15.260Z"
   },
   {
    "duration": 160,
    "start_time": "2022-10-01T11:23:22.989Z"
   },
   {
    "duration": 281,
    "start_time": "2022-10-01T11:23:32.225Z"
   },
   {
    "duration": 341,
    "start_time": "2022-10-01T11:23:51.262Z"
   },
   {
    "duration": 3674,
    "start_time": "2022-10-01T11:24:01.207Z"
   },
   {
    "duration": 68,
    "start_time": "2022-10-01T11:24:14.480Z"
   },
   {
    "duration": 519,
    "start_time": "2022-10-01T11:24:24.011Z"
   },
   {
    "duration": 200,
    "start_time": "2022-10-01T11:24:32.560Z"
   },
   {
    "duration": 15,
    "start_time": "2022-10-01T11:25:37.597Z"
   },
   {
    "duration": 186,
    "start_time": "2022-10-01T11:25:45.944Z"
   },
   {
    "duration": 89,
    "start_time": "2022-10-01T11:29:40.220Z"
   },
   {
    "duration": 198,
    "start_time": "2022-10-01T11:30:58.055Z"
   },
   {
    "duration": 352,
    "start_time": "2022-10-01T11:32:30.182Z"
   },
   {
    "duration": 298,
    "start_time": "2022-10-01T11:34:27.376Z"
   },
   {
    "duration": 77,
    "start_time": "2022-10-01T11:35:36.045Z"
   },
   {
    "duration": 484,
    "start_time": "2022-10-01T11:35:43.503Z"
   },
   {
    "duration": 917,
    "start_time": "2022-10-01T11:38:31.805Z"
   },
   {
    "duration": 463,
    "start_time": "2022-10-01T11:39:28.910Z"
   },
   {
    "duration": 1085,
    "start_time": "2022-10-01T11:40:32.529Z"
   },
   {
    "duration": 163,
    "start_time": "2022-10-01T11:41:19.285Z"
   },
   {
    "duration": 160,
    "start_time": "2022-10-01T11:42:03.442Z"
   },
   {
    "duration": 263,
    "start_time": "2022-10-01T11:42:36.019Z"
   },
   {
    "duration": 2850,
    "start_time": "2022-10-01T11:43:47.343Z"
   },
   {
    "duration": 108,
    "start_time": "2022-10-01T11:43:59.844Z"
   },
   {
    "duration": 198,
    "start_time": "2022-10-01T11:44:06.919Z"
   },
   {
    "duration": 279,
    "start_time": "2022-10-01T11:44:11.926Z"
   },
   {
    "duration": 406,
    "start_time": "2022-10-01T11:44:26.934Z"
   },
   {
    "duration": 3668,
    "start_time": "2022-10-01T11:44:35.966Z"
   },
   {
    "duration": 18,
    "start_time": "2022-10-01T11:45:02.821Z"
   },
   {
    "duration": 209,
    "start_time": "2022-10-01T11:45:29.448Z"
   },
   {
    "duration": 44,
    "start_time": "2022-10-01T11:45:57.531Z"
   },
   {
    "duration": 501,
    "start_time": "2022-10-01T11:46:08.971Z"
   },
   {
    "duration": 205,
    "start_time": "2022-10-01T11:51:07.487Z"
   },
   {
    "duration": 208,
    "start_time": "2022-10-01T11:52:51.849Z"
   },
   {
    "duration": 713,
    "start_time": "2022-10-01T11:54:35.507Z"
   },
   {
    "duration": 67,
    "start_time": "2022-10-01T11:57:46.889Z"
   },
   {
    "duration": 2772,
    "start_time": "2022-10-01T11:59:15.716Z"
   },
   {
    "duration": 105,
    "start_time": "2022-10-01T11:59:18.490Z"
   },
   {
    "duration": 163,
    "start_time": "2022-10-01T11:59:18.597Z"
   },
   {
    "duration": 303,
    "start_time": "2022-10-01T11:59:18.763Z"
   },
   {
    "duration": 346,
    "start_time": "2022-10-01T11:59:19.068Z"
   },
   {
    "duration": 3682,
    "start_time": "2022-10-01T11:59:19.416Z"
   },
   {
    "duration": 61,
    "start_time": "2022-10-01T11:59:23.099Z"
   },
   {
    "duration": 565,
    "start_time": "2022-10-01T11:59:23.161Z"
   },
   {
    "duration": 203,
    "start_time": "2022-10-01T11:59:23.728Z"
   },
   {
    "duration": 15,
    "start_time": "2022-10-01T11:59:23.933Z"
   },
   {
    "duration": 752,
    "start_time": "2022-10-01T11:59:23.949Z"
   },
   {
    "duration": 44,
    "start_time": "2022-10-01T11:59:24.703Z"
   },
   {
    "duration": 492,
    "start_time": "2022-10-01T11:59:24.748Z"
   },
   {
    "duration": 97,
    "start_time": "2022-10-01T12:14:23.915Z"
   },
   {
    "duration": 26,
    "start_time": "2022-10-01T12:14:42.896Z"
   },
   {
    "duration": 219,
    "start_time": "2022-10-01T12:14:58.973Z"
   },
   {
    "duration": 743,
    "start_time": "2022-10-01T12:26:28.155Z"
   },
   {
    "duration": 926,
    "start_time": "2022-10-01T12:29:11.315Z"
   },
   {
    "duration": 99,
    "start_time": "2022-10-01T12:31:13.839Z"
   },
   {
    "duration": 232,
    "start_time": "2022-10-01T12:32:12.576Z"
   },
   {
    "duration": 198,
    "start_time": "2022-10-01T12:33:19.814Z"
   },
   {
    "duration": 834,
    "start_time": "2022-10-01T12:33:38.503Z"
   },
   {
    "duration": 893,
    "start_time": "2022-10-01T12:34:59.068Z"
   },
   {
    "duration": 800,
    "start_time": "2022-10-01T12:35:31.646Z"
   },
   {
    "duration": 924,
    "start_time": "2022-10-01T12:39:46.984Z"
   },
   {
    "duration": 1233,
    "start_time": "2022-10-01T12:43:16.939Z"
   },
   {
    "duration": 1461,
    "start_time": "2022-10-01T12:45:49.896Z"
   },
   {
    "duration": 1451,
    "start_time": "2022-10-01T12:48:24.373Z"
   },
   {
    "duration": 1298,
    "start_time": "2022-10-01T12:48:55.804Z"
   },
   {
    "duration": 492,
    "start_time": "2022-10-01T12:55:02.218Z"
   },
   {
    "duration": 301,
    "start_time": "2022-10-01T12:56:26.514Z"
   },
   {
    "duration": 379,
    "start_time": "2022-10-01T12:57:09.524Z"
   },
   {
    "duration": 306,
    "start_time": "2022-10-01T12:58:01.149Z"
   },
   {
    "duration": 287,
    "start_time": "2022-10-01T12:59:22.801Z"
   },
   {
    "duration": 2955,
    "start_time": "2022-10-01T13:01:18.110Z"
   },
   {
    "duration": 110,
    "start_time": "2022-10-01T13:01:31.925Z"
   },
   {
    "duration": 162,
    "start_time": "2022-10-01T13:01:42.107Z"
   },
   {
    "duration": 335,
    "start_time": "2022-10-01T13:01:52.606Z"
   },
   {
    "duration": 340,
    "start_time": "2022-10-01T13:02:15.710Z"
   },
   {
    "duration": 3801,
    "start_time": "2022-10-01T13:02:32.034Z"
   },
   {
    "duration": 658,
    "start_time": "2022-10-01T13:02:49.227Z"
   },
   {
    "duration": 311,
    "start_time": "2022-10-01T13:02:58.289Z"
   },
   {
    "duration": 203,
    "start_time": "2022-10-01T13:03:54.068Z"
   },
   {
    "duration": 278,
    "start_time": "2022-10-01T13:04:32.725Z"
   },
   {
    "duration": 164,
    "start_time": "2022-10-01T13:05:28.503Z"
   },
   {
    "duration": 246,
    "start_time": "2022-10-01T13:09:19.061Z"
   },
   {
    "duration": 3572,
    "start_time": "2022-10-01T13:15:10.894Z"
   },
   {
    "duration": 126,
    "start_time": "2022-10-01T13:15:14.468Z"
   },
   {
    "duration": 176,
    "start_time": "2022-10-01T13:15:14.596Z"
   },
   {
    "duration": 355,
    "start_time": "2022-10-01T13:15:14.779Z"
   },
   {
    "duration": 464,
    "start_time": "2022-10-01T13:15:15.136Z"
   },
   {
    "duration": 3980,
    "start_time": "2022-10-01T13:15:15.605Z"
   },
   {
    "duration": 66,
    "start_time": "2022-10-01T13:15:19.587Z"
   },
   {
    "duration": 649,
    "start_time": "2022-10-01T13:15:19.654Z"
   },
   {
    "duration": 179,
    "start_time": "2022-10-01T13:15:20.305Z"
   },
   {
    "duration": 16,
    "start_time": "2022-10-01T13:15:20.488Z"
   },
   {
    "duration": 1298,
    "start_time": "2022-10-01T13:15:20.506Z"
   },
   {
    "duration": 46,
    "start_time": "2022-10-01T13:15:21.805Z"
   },
   {
    "duration": 172,
    "start_time": "2022-10-01T13:15:21.853Z"
   },
   {
    "duration": 2495,
    "start_time": "2022-10-01T14:33:57.694Z"
   },
   {
    "duration": 104,
    "start_time": "2022-10-01T14:34:00.191Z"
   },
   {
    "duration": 165,
    "start_time": "2022-10-01T14:34:00.299Z"
   },
   {
    "duration": 266,
    "start_time": "2022-10-01T14:34:00.465Z"
   },
   {
    "duration": 335,
    "start_time": "2022-10-01T14:34:00.734Z"
   },
   {
    "duration": 3287,
    "start_time": "2022-10-01T14:34:01.071Z"
   },
   {
    "duration": 70,
    "start_time": "2022-10-01T14:34:04.359Z"
   },
   {
    "duration": 511,
    "start_time": "2022-10-01T14:34:04.431Z"
   },
   {
    "duration": 151,
    "start_time": "2022-10-01T14:34:04.944Z"
   },
   {
    "duration": 20,
    "start_time": "2022-10-01T14:34:05.097Z"
   },
   {
    "duration": 1093,
    "start_time": "2022-10-01T14:34:05.118Z"
   },
   {
    "duration": 41,
    "start_time": "2022-10-01T14:34:06.213Z"
   },
   {
    "duration": 155,
    "start_time": "2022-10-01T14:34:06.255Z"
   },
   {
    "duration": 144,
    "start_time": "2022-10-01T14:45:46.000Z"
   }
  ],
  "kernelspec": {
   "display_name": "Python 3 (ipykernel)",
   "language": "python",
   "name": "python3"
  },
  "language_info": {
   "codemirror_mode": {
    "name": "ipython",
    "version": 3
   },
   "file_extension": ".py",
   "mimetype": "text/x-python",
   "name": "python",
   "nbconvert_exporter": "python",
   "pygments_lexer": "ipython3",
   "version": "3.9.5"
  },
  "toc": {
   "base_numbering": "1",
   "nav_menu": {},
   "number_sections": true,
   "sideBar": true,
   "skip_h1_title": true,
   "title_cell": "Table of Contents",
   "title_sidebar": "Contents",
   "toc_cell": false,
   "toc_position": {},
   "toc_section_display": true,
   "toc_window_display": true
  }
 },
 "nbformat": 4,
 "nbformat_minor": 2
}
