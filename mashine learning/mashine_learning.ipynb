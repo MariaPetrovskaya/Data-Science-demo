{
  "cells": [
    {
      "cell_type": "markdown",
      "metadata": {
        "id": "view-in-github",
        "colab_type": "text"
      },
      "source": [
        "<a href=\"https://colab.research.google.com/github/MariaPetrovskaya/Data-Science-demo/blob/main/mashine%20learning/mashine_learning.ipynb\" target=\"_parent\"><img src=\"https://colab.research.google.com/assets/colab-badge.svg\" alt=\"Open In Colab\"/></a>"
      ]
    },
    {
      "cell_type": "markdown",
      "metadata": {
        "id": "WekDRv9qlpGv"
      },
      "source": [
        "# Рекомендация тарифов"
      ]
    },
    {
      "cell_type": "markdown",
      "metadata": {
        "id": "w6vMyNvvlpGz"
      },
      "source": [
        "В вашем распоряжении данные о поведении клиентов, которые уже перешли на эти тарифы (из проекта курса «Статистический анализ данных»). Нужно построить модель для задачи классификации, которая выберет подходящий тариф. Предобработка данных не понадобится — вы её уже сделали.\n",
        "\n",
        "Постройте модель с максимально большим значением *accuracy*. Чтобы сдать проект успешно, нужно довести долю правильных ответов по крайней мере до 0.75. Проверьте *accuracy* на тестовой выборке самостоятельно."
      ]
    },
    {
      "cell_type": "markdown",
      "metadata": {
        "id": "wfGpugcRlpG0"
      },
      "source": [
        "## Откройте и изучите файл"
      ]
    },
    {
      "cell_type": "code",
      "execution_count": null,
      "metadata": {
        "id": "tgPj1su7lpG0"
      },
      "outputs": [],
      "source": [
        "import pandas as pd\n",
        "from sklearn.tree import DecisionTreeRegressor\n",
        "from sklearn.ensemble import RandomForestRegressor\n",
        "from sklearn.linear_model import LinearRegression\n",
        "from sklearn.model_selection import train_test_split\n",
        "from sklearn.metrics import mean_squared_error\n",
        "from sklearn.ensemble import RandomForestClassifier\n",
        "from sklearn.tree import DecisionTreeClassifier\n",
        "from sklearn.metrics import accuracy_score\n",
        "from joblib import dump\n",
        "from sklearn.linear_model import LogisticRegression\n",
        "from sklearn.dummy import DummyClassifier"
      ]
    },
    {
      "cell_type": "markdown",
      "metadata": {
        "id": "zgB9703nlpG1"
      },
      "source": [
        "Импорт всех библиотек "
      ]
    },
    {
      "cell_type": "code",
      "execution_count": null,
      "metadata": {
        "id": "Sy2MK9XIlpG1",
        "outputId": "9dffd077-726b-4d5e-80ed-83f96152e8db"
      },
      "outputs": [
        {
          "data": {
            "text/html": [
              "<div>\n",
              "<style scoped>\n",
              "    .dataframe tbody tr th:only-of-type {\n",
              "        vertical-align: middle;\n",
              "    }\n",
              "\n",
              "    .dataframe tbody tr th {\n",
              "        vertical-align: top;\n",
              "    }\n",
              "\n",
              "    .dataframe thead th {\n",
              "        text-align: right;\n",
              "    }\n",
              "</style>\n",
              "<table border=\"1\" class=\"dataframe\">\n",
              "  <thead>\n",
              "    <tr style=\"text-align: right;\">\n",
              "      <th></th>\n",
              "      <th>calls</th>\n",
              "      <th>minutes</th>\n",
              "      <th>messages</th>\n",
              "      <th>mb_used</th>\n",
              "      <th>is_ultra</th>\n",
              "    </tr>\n",
              "  </thead>\n",
              "  <tbody>\n",
              "    <tr>\n",
              "      <th>0</th>\n",
              "      <td>40.0</td>\n",
              "      <td>311.90</td>\n",
              "      <td>83.0</td>\n",
              "      <td>19915.42</td>\n",
              "      <td>0</td>\n",
              "    </tr>\n",
              "    <tr>\n",
              "      <th>1</th>\n",
              "      <td>85.0</td>\n",
              "      <td>516.75</td>\n",
              "      <td>56.0</td>\n",
              "      <td>22696.96</td>\n",
              "      <td>0</td>\n",
              "    </tr>\n",
              "    <tr>\n",
              "      <th>2</th>\n",
              "      <td>77.0</td>\n",
              "      <td>467.66</td>\n",
              "      <td>86.0</td>\n",
              "      <td>21060.45</td>\n",
              "      <td>0</td>\n",
              "    </tr>\n",
              "    <tr>\n",
              "      <th>3</th>\n",
              "      <td>106.0</td>\n",
              "      <td>745.53</td>\n",
              "      <td>81.0</td>\n",
              "      <td>8437.39</td>\n",
              "      <td>1</td>\n",
              "    </tr>\n",
              "    <tr>\n",
              "      <th>4</th>\n",
              "      <td>66.0</td>\n",
              "      <td>418.74</td>\n",
              "      <td>1.0</td>\n",
              "      <td>14502.75</td>\n",
              "      <td>0</td>\n",
              "    </tr>\n",
              "  </tbody>\n",
              "</table>\n",
              "</div>"
            ],
            "text/plain": [
              "   calls  minutes  messages   mb_used  is_ultra\n",
              "0   40.0   311.90      83.0  19915.42         0\n",
              "1   85.0   516.75      56.0  22696.96         0\n",
              "2   77.0   467.66      86.0  21060.45         0\n",
              "3  106.0   745.53      81.0   8437.39         1\n",
              "4   66.0   418.74       1.0  14502.75         0"
            ]
          },
          "metadata": {},
          "output_type": "display_data"
        },
        {
          "name": "stdout",
          "output_type": "stream",
          "text": [
            "<class 'pandas.core.frame.DataFrame'>\n",
            "RangeIndex: 3214 entries, 0 to 3213\n",
            "Data columns (total 5 columns):\n",
            " #   Column    Non-Null Count  Dtype  \n",
            "---  ------    --------------  -----  \n",
            " 0   calls     3214 non-null   float64\n",
            " 1   minutes   3214 non-null   float64\n",
            " 2   messages  3214 non-null   float64\n",
            " 3   mb_used   3214 non-null   float64\n",
            " 4   is_ultra  3214 non-null   int64  \n",
            "dtypes: float64(4), int64(1)\n",
            "memory usage: 125.7 KB\n",
            "None\n"
          ]
        }
      ],
      "source": [
        "data = pd.read_csv('/datasets/users_behavior.csv')\n",
        "display (data.head(5))\n",
        "print (data.info())\n"
      ]
    },
    {
      "cell_type": "markdown",
      "metadata": {
        "id": "9oycdeP-lpG3"
      },
      "source": [
        "Открытие файла и изучение его.\n",
        "**Вывод:** пропусков нет, названия столбцов и форматы понятны.  "
      ]
    },
    {
      "cell_type": "markdown",
      "metadata": {
        "id": "6XhYiuYBlpG3"
      },
      "source": [
        "## Разбейте данные на выборки"
      ]
    },
    {
      "cell_type": "code",
      "execution_count": null,
      "metadata": {
        "id": "USpmYoyKlpG4",
        "outputId": "1b73658e-17c5-415e-9b9d-af8ae62d6525"
      },
      "outputs": [
        {
          "name": "stdout",
          "output_type": "stream",
          "text": [
            "features_train shape: (1928, 4)\n",
            "features_valid shape: (643, 4)\n",
            "features_test shape: (643, 4)\n",
            "target_train shape: (1928,)\n",
            "target_valid shape: (643,)\n",
            "target_test shape: (643,)\n"
          ]
        }
      ],
      "source": [
        "features = data.drop(['is_ultra'], axis=1)\n",
        "target = data['is_ultra'] \n",
        "features_train, features_valid_test, target_train, target_valid_test = train_test_split(\n",
        "    features, target, test_size=0.40, random_state=12345)\n",
        "features_valid, features_test, target_valid, target_test = train_test_split(\n",
        "    features_valid_test, target_valid_test, test_size=0.50, random_state=12345)\n",
        "print('features_train shape:', features_train.shape)\n",
        "print('features_valid shape:', features_valid.shape)\n",
        "print('features_test shape:', features_test.shape)\n",
        "print('target_train shape:', target_train.shape)\n",
        "print('target_valid shape:', target_valid.shape)\n",
        "print('target_test shape:', target_test.shape)"
      ]
    },
    {
      "cell_type": "markdown",
      "metadata": {
        "id": "qlobXGvxlpG4"
      },
      "source": [
        "В 2 этапа разделяю выборку: на обучающую и валид+тест, далее разделяю валидизирующую и тестовую выборки. В итоге разделение на выборки 60-20-20. "
      ]
    },
    {
      "cell_type": "markdown",
      "metadata": {
        "id": "vF5kwwZolpG4"
      },
      "source": [
        "## Исследуйте модели"
      ]
    },
    {
      "cell_type": "code",
      "execution_count": null,
      "metadata": {
        "id": "cw_FvaLulpG5",
        "outputId": "ef32d93e-425e-40b5-c30b-0baa1d392de0"
      },
      "outputs": [
        {
          "name": "stdout",
          "output_type": "stream",
          "text": [
            "max_depth = 1 : 0.7542768273716952\n",
            "max_depth = 2 : 0.7822706065318819\n",
            "max_depth = 3 : 0.7853810264385692\n",
            "max_depth = 4 : 0.7791601866251944\n",
            "max_depth = 5 : 0.7791601866251944\n"
          ]
        }
      ],
      "source": [
        "for depth in range(1, 6):\n",
        "    model = DecisionTreeClassifier(random_state=12345, max_depth=depth)\n",
        "    model.fit(features_train, target_train)\n",
        "    predictions_valid = model.predict(features_valid)\n",
        "    print(\"max_depth =\", depth, \": \", end='')\n",
        "    print(accuracy_score(target_valid, predictions_valid))"
      ]
    },
    {
      "cell_type": "markdown",
      "metadata": {
        "id": "ec9yX9BYlpG5"
      },
      "source": [
        "Применила модель дерево с вариантами гиперпараметра 'количество веток'.\n",
        "**Вывод:** accuracy_score самый высокий у модели с 3 ветками  \n"
      ]
    },
    {
      "cell_type": "code",
      "execution_count": null,
      "metadata": {
        "id": "pkx5Kz7PlpG5",
        "outputId": "e9f383d3-ebf7-4ac3-c969-1774e70d6d1e"
      },
      "outputs": [
        {
          "name": "stdout",
          "output_type": "stream",
          "text": [
            "RandomForestClassifier(n_estimators=1, random_state=12345) | 0.7107309486780715\n",
            "RandomForestClassifier(n_estimators=2, random_state=12345) | 0.7636080870917574\n",
            "RandomForestClassifier(n_estimators=3, random_state=12345) | 0.7387247278382582\n",
            "RandomForestClassifier(n_estimators=4, random_state=12345) | 0.7713841368584758\n",
            "RandomForestClassifier(n_estimators=5, random_state=12345) | 0.749611197511664\n",
            "RandomForestClassifier(n_estimators=6, random_state=12345) | 0.7807153965785381\n",
            "RandomForestClassifier(n_estimators=7, random_state=12345) | 0.7682737169517885\n",
            "RandomForestClassifier(n_estimators=8, random_state=12345) | 0.7822706065318819\n",
            "RandomForestClassifier(n_estimators=9, random_state=12345) | 0.7729393468118196\n",
            "RandomForestClassifier(n_estimators=10, random_state=12345) | 0.7853810264385692\n",
            "Accuracy наилучшей модели на валидационной выборке: 0.7853810264385692\n",
            "Cамая эффективная модель - best_model RandomForestClassifier(n_estimators=10, random_state=12345)\n"
          ]
        }
      ],
      "source": [
        "best_model = None\n",
        "best_result = 0\n",
        "for est in range(1, 11):\n",
        "    model = RandomForestClassifier(random_state=12345, n_estimators=est) # обучите модель с заданным количеством деревьев\n",
        "    model.fit(features_train, target_train) # обучите модель на тренировочной выборке\n",
        "    result = model.score(features_valid,target_valid) # посчитайте качество модели на валидационной выборке\n",
        "    print(model, '|', result)\n",
        "    if result > best_result:\n",
        "        best_model = model# сохраните наилучшую модель\n",
        "        best_result = result#  сохраните наилучшее значение метрики accuracy на валидационных данных\n",
        "\n",
        "print(\"Accuracy наилучшей модели на валидационной выборке:\", best_result)\n",
        "print('Cамая эффективная модель - best_model',best_model)"
      ]
    },
    {
      "cell_type": "markdown",
      "metadata": {
        "id": "m4bozBZ9lpG6"
      },
      "source": [
        "Попробовала модель Случайный лес с вариантами гиперпарамета \"количество деревьев\"\n",
        "**Вывод**: Самая эффективная модель - 10 деревьев "
      ]
    },
    {
      "cell_type": "code",
      "execution_count": null,
      "metadata": {
        "id": "dqjgPchwlpG6",
        "outputId": "6d2d32d1-e550-4a0a-e009-477a5acee524"
      },
      "outputs": [
        {
          "name": "stdout",
          "output_type": "stream",
          "text": [
            "Accuracy модели логистической регрессии: 0.7791601866251944\n"
          ]
        }
      ],
      "source": [
        "model = LogisticRegression(random_state=12345, solver='lbfgs', max_iter=1000)\n",
        "model.fit(features_train, target_train)\n",
        "accuracy = accuracy_score(target_valid, predictions_valid)\n",
        "print(\"Accuracy модели логистической регрессии:\", accuracy)\n",
        "#dump(model, 'model_9_1.joblib')"
      ]
    },
    {
      "cell_type": "markdown",
      "metadata": {
        "id": "OJmT5RyLlpG6"
      },
      "source": [
        "**Выводы** Accuracy модели логистической регрессии: 0.7791601866251944"
      ]
    },
    {
      "cell_type": "markdown",
      "metadata": {
        "id": "01y-k3gMlpG6"
      },
      "source": [
        "**Выводы по разделу** Проведено сравнение трех типов моделей, в двух проведен подбор эффективных гиперпараметров. По критерию максимальной accuracy как лучший варинт выбраны 2 модели: дерево решений с 3 ветками (accuracy =0.785) и случайный лес с количеством деревьев = 10 (accuracy = 0.785)"
      ]
    },
    {
      "cell_type": "markdown",
      "metadata": {
        "id": "XN766x8xlpG7"
      },
      "source": [
        "## Проверьте модель на тестовой выборке"
      ]
    },
    {
      "cell_type": "code",
      "execution_count": null,
      "metadata": {
        "id": "6_VZQk35lpG8",
        "outputId": "0b113c86-90f4-4a9c-b506-cbaba7f4ced7"
      },
      "outputs": [
        {
          "name": "stdout",
          "output_type": "stream",
          "text": [
            "Accuracy\n",
            "Тестовая выборка: 0.7791601866251944\n"
          ]
        }
      ],
      "source": [
        "model = DecisionTreeClassifier(random_state=12345,max_depth=3)\n",
        "model.fit(features_train, target_train)\n",
        "test_predictions = model.predict(features_test)\n",
        "accuracy_score(target_test, test_predictions)\n",
        "accuracy_test=accuracy_score(target_test, test_predictions)\n",
        "# < напишите здесь код расчёта на тестовой выборке >\n",
        "print(\"Accuracy\")\n",
        "print(\"Тестовая выборка:\", accuracy_test) "
      ]
    },
    {
      "cell_type": "markdown",
      "metadata": {
        "id": "fwn4ohAjlpG8"
      },
      "source": [
        "На тестовой выборке применила модель Дерево решений, 3 веток.\n",
        "**Вывод** На тестовой выборке результат Accuracy ниже чем, при обучении моделей (0.779), но достигнут уровень accuracy, требующийся в задании (не меньше 0.75). "
      ]
    },
    {
      "cell_type": "code",
      "execution_count": null,
      "metadata": {
        "id": "w3Ix6n5jlpG9",
        "outputId": "e42678bd-9fdd-43cd-9173-84b1b6b84053"
      },
      "outputs": [
        {
          "name": "stdout",
          "output_type": "stream",
          "text": [
            "Accuracy\n",
            "Тестовая выборка: 0.7807153965785381\n"
          ]
        }
      ],
      "source": [
        "model = RandomForestClassifier(random_state=12345, n_estimators=10) # обучите модель с заданным количеством деревьев\n",
        "model.fit(features_train, target_train)\n",
        "test_predictions = model.predict(features_test)\n",
        "accuracy_score(target_test, test_predictions)\n",
        "accuracy_test=accuracy_score(target_test, test_predictions)\n",
        "# < напишите здесь код расчёта на тестовой выборке >\n",
        "print(\"Accuracy\")\n",
        "print(\"Тестовая выборка:\", accuracy_test) "
      ]
    },
    {
      "cell_type": "markdown",
      "metadata": {
        "id": "T7rdjZJxlpG-"
      },
      "source": [
        "На тестовой выборке применила модель Случайный лес, 10 деревьев. \n",
        "**Выводы** Модель с 10 деревьев дает высокий результат 0.78"
      ]
    },
    {
      "cell_type": "markdown",
      "metadata": {
        "id": "BXWX66tClpG-"
      },
      "source": [
        "**Выводы по разделу** Обе выбранные модели - дерево с гиперпараметром 3 ветки, и случайный лес с гиперпараметров 10 деревьев на тестовой выборке дают высокий уровень accuracy (0.77, 0.78) "
      ]
    },
    {
      "cell_type": "markdown",
      "metadata": {
        "id": "8NiSY286lpG-"
      },
      "source": [
        "## (бонус) Проверьте модели на адекватность"
      ]
    },
    {
      "cell_type": "code",
      "execution_count": null,
      "metadata": {
        "id": "fEmIpKFflpG-",
        "outputId": "e02c1081-583e-48a3-c2c4-96abe2240c00"
      },
      "outputs": [
        {
          "name": "stdout",
          "output_type": "stream",
          "text": [
            "Accuracy\n",
            "Тестовая выборка алгоритм DummyClassifier: 0.6842923794712286\n"
          ]
        }
      ],
      "source": [
        "model = DummyClassifier(strategy=\"most_frequent\")\n",
        "model.fit(features_train, target_train)\n",
        "test_predictions = model.predict(features_test)\n",
        "accuracy_score(target_test, test_predictions)\n",
        "accuracy_test=accuracy_score(target_test, test_predictions)\n",
        "# < напишите здесь код расчёта на тестовой выборке >\n",
        "print(\"Accuracy\")\n",
        "print(\"Тестовая выборка алгоритм DummyClassifier:\", accuracy_test) "
      ]
    },
    {
      "cell_type": "markdown",
      "metadata": {
        "id": "RzA0iNyElpG_"
      },
      "source": [
        "**Выводы** \"Наивный\" алгорим DummyClassifier дает Accuracy ниже, чем наши модели, значит они способны предсказывать более точно. "
      ]
    },
    {
      "cell_type": "code",
      "execution_count": null,
      "metadata": {
        "id": "GYdKeRuflpG_",
        "outputId": "2b2cdb0c-b90d-4056-e7ba-d31d580ea7d2"
      },
      "outputs": [
        {
          "name": "stdout",
          "output_type": "stream",
          "text": [
            "Accuracy\n",
            "Общий датасет: 0.9757311761045426\n"
          ]
        }
      ],
      "source": [
        "model = RandomForestClassifier(random_state=12345, n_estimators=8) # обучите модель с заданным количеством деревьев\n",
        "model.fit(features, target)\n",
        "predictions = model.predict(features)\n",
        "accuracy_score(target, predictions)\n",
        "accuracy=accuracy_score(target, predictions)\n",
        "# < напишите здесь код расчёта на тестовой выборке >\n",
        "print(\"Accuracy\")\n",
        "print(\"Общий датасет:\", accuracy) "
      ]
    },
    {
      "cell_type": "markdown",
      "metadata": {
        "id": "zCWz6tKflpG_"
      },
      "source": [
        "**Выводы** Accuracy на общем датасете выше, чем на выборках. \n",
        "    "
      ]
    },
    {
      "cell_type": "code",
      "execution_count": null,
      "metadata": {
        "id": "NKqDEcmYlpHA",
        "outputId": "d0fbac88-60ed-452f-9cc3-5568de71f527"
      },
      "outputs": [
        {
          "name": "stdout",
          "output_type": "stream",
          "text": [
            "Accuracy\n",
            "Общий датасет: 0.8170504044803982\n"
          ]
        }
      ],
      "source": [
        "model = DecisionTreeClassifier(random_state=12345,max_depth=5)\n",
        "model.fit(features, target)\n",
        "predictions = model.predict(features)\n",
        "accuracy_score(target, predictions)\n",
        "accuracy =accuracy_score(target,predictions)\n",
        "# < напишите здесь код расчёта на тестовой выборке >\n",
        "print(\"Accuracy\")\n",
        "print(\"Общий датасет:\", accuracy)"
      ]
    },
    {
      "cell_type": "markdown",
      "metadata": {
        "id": "24hXvUl4lpHA"
      },
      "source": [
        "**Вывод** Accuracy на общем датасете выше, чем на выборках.  "
      ]
    },
    {
      "cell_type": "markdown",
      "metadata": {
        "id": "agsbw077lpHB"
      },
      "source": [
        "**Выводы** по вменяемости моделей: 1) проведено сравнение с моделью моделью DummyClassifier, accuracy предлагаемых моделей выше, чем у случайных алгоритмов. 2)Accuracy на общем датасете выше, чем на выборках - в этом случае переобучение. "
      ]
    },
    {
      "cell_type": "code",
      "execution_count": null,
      "metadata": {
        "id": "P1NXqRKilpHC"
      },
      "outputs": [],
      "source": []
    }
  ],
  "metadata": {
    "ExecuteTimeLog": [
      {
        "duration": 49,
        "start_time": "2022-11-03T09:02:23.156Z"
      },
      {
        "duration": 7,
        "start_time": "2022-11-03T09:03:33.817Z"
      },
      {
        "duration": 410,
        "start_time": "2022-11-03T09:03:43.268Z"
      },
      {
        "duration": 124,
        "start_time": "2022-11-03T09:03:45.800Z"
      },
      {
        "duration": 66,
        "start_time": "2022-11-03T09:05:04.123Z"
      },
      {
        "duration": 43,
        "start_time": "2022-11-03T09:05:13.472Z"
      },
      {
        "duration": 57,
        "start_time": "2022-11-03T09:06:14.343Z"
      },
      {
        "duration": 63,
        "start_time": "2022-11-03T09:06:24.875Z"
      },
      {
        "duration": 39,
        "start_time": "2022-11-03T09:06:36.013Z"
      },
      {
        "duration": 46,
        "start_time": "2022-11-03T09:06:50.379Z"
      },
      {
        "duration": 735,
        "start_time": "2022-11-03T09:14:19.630Z"
      },
      {
        "duration": 8,
        "start_time": "2022-11-03T09:32:45.959Z"
      },
      {
        "duration": 8,
        "start_time": "2022-11-03T09:35:02.470Z"
      },
      {
        "duration": 28,
        "start_time": "2022-11-03T11:25:03.196Z"
      },
      {
        "duration": 47,
        "start_time": "2022-11-03T11:31:49.955Z"
      },
      {
        "duration": 4,
        "start_time": "2022-11-03T11:33:13.722Z"
      },
      {
        "duration": 269,
        "start_time": "2022-11-03T11:33:20.281Z"
      },
      {
        "duration": 263,
        "start_time": "2022-11-03T11:34:42.937Z"
      },
      {
        "duration": 279,
        "start_time": "2022-11-03T11:34:52.352Z"
      },
      {
        "duration": 280,
        "start_time": "2022-11-03T11:36:05.432Z"
      },
      {
        "duration": 12,
        "start_time": "2022-11-03T11:42:49.062Z"
      },
      {
        "duration": 4,
        "start_time": "2022-11-03T11:43:45.786Z"
      },
      {
        "duration": 16,
        "start_time": "2022-11-03T11:43:52.163Z"
      },
      {
        "duration": 15,
        "start_time": "2022-11-03T11:45:59.696Z"
      },
      {
        "duration": 4,
        "start_time": "2022-11-03T11:46:37.541Z"
      },
      {
        "duration": 33,
        "start_time": "2022-11-03T11:46:44.448Z"
      },
      {
        "duration": 10,
        "start_time": "2022-11-03T12:40:36.758Z"
      },
      {
        "duration": 14,
        "start_time": "2022-11-03T12:41:42.933Z"
      },
      {
        "duration": 12,
        "start_time": "2022-11-03T12:43:28.740Z"
      },
      {
        "duration": 14,
        "start_time": "2022-11-03T12:45:09.237Z"
      },
      {
        "duration": 14,
        "start_time": "2022-11-03T12:46:46.168Z"
      },
      {
        "duration": 58,
        "start_time": "2022-11-03T12:47:04.358Z"
      },
      {
        "duration": 54,
        "start_time": "2022-11-03T12:50:19.443Z"
      },
      {
        "duration": 41,
        "start_time": "2022-11-03T12:50:31.192Z"
      },
      {
        "duration": 10,
        "start_time": "2022-11-03T14:43:23.996Z"
      },
      {
        "duration": 4,
        "start_time": "2022-11-03T14:43:42.470Z"
      },
      {
        "duration": 39,
        "start_time": "2022-11-03T14:43:51.561Z"
      },
      {
        "duration": 14,
        "start_time": "2022-11-03T16:20:02.275Z"
      },
      {
        "duration": 16,
        "start_time": "2022-11-03T16:20:35.554Z"
      },
      {
        "duration": 59,
        "start_time": "2022-11-03T16:47:03.846Z"
      },
      {
        "duration": 49,
        "start_time": "2022-11-03T17:19:29.613Z"
      },
      {
        "duration": 1110,
        "start_time": "2022-11-03T17:29:53.876Z"
      },
      {
        "duration": 54,
        "start_time": "2022-11-03T17:29:54.988Z"
      },
      {
        "duration": 9,
        "start_time": "2022-11-03T17:29:55.044Z"
      },
      {
        "duration": 61,
        "start_time": "2022-11-03T17:29:55.055Z"
      },
      {
        "duration": 273,
        "start_time": "2022-11-03T17:29:55.118Z"
      },
      {
        "duration": 15,
        "start_time": "2022-11-03T17:29:55.393Z"
      },
      {
        "duration": 64,
        "start_time": "2022-11-03T17:29:55.410Z"
      },
      {
        "duration": 67,
        "start_time": "2022-11-03T17:29:55.476Z"
      },
      {
        "duration": 17,
        "start_time": "2022-11-03T17:29:55.554Z"
      },
      {
        "duration": 41,
        "start_time": "2022-11-03T17:44:43.965Z"
      },
      {
        "duration": 1370,
        "start_time": "2022-11-03T17:44:49.463Z"
      },
      {
        "duration": 84,
        "start_time": "2022-11-03T17:44:50.835Z"
      },
      {
        "duration": 8,
        "start_time": "2022-11-03T17:44:50.920Z"
      },
      {
        "duration": 23,
        "start_time": "2022-11-03T17:44:50.930Z"
      },
      {
        "duration": 35,
        "start_time": "2022-11-03T17:44:50.955Z"
      },
      {
        "duration": 246,
        "start_time": "2022-11-03T17:44:50.992Z"
      },
      {
        "duration": 9,
        "start_time": "2022-11-03T17:44:51.240Z"
      },
      {
        "duration": 38,
        "start_time": "2022-11-03T17:44:51.250Z"
      },
      {
        "duration": 76,
        "start_time": "2022-11-03T17:44:51.289Z"
      },
      {
        "duration": 16,
        "start_time": "2022-11-03T17:44:51.367Z"
      },
      {
        "duration": 4,
        "start_time": "2022-11-03T17:46:42.050Z"
      },
      {
        "duration": 46,
        "start_time": "2022-11-03T19:34:41.922Z"
      },
      {
        "duration": 8,
        "start_time": "2022-11-03T19:34:49.209Z"
      },
      {
        "duration": 7,
        "start_time": "2022-11-03T19:35:25.660Z"
      },
      {
        "duration": 7,
        "start_time": "2022-11-03T19:35:39.317Z"
      },
      {
        "duration": 7,
        "start_time": "2022-11-03T19:35:47.271Z"
      },
      {
        "duration": 1107,
        "start_time": "2022-11-03T19:36:15.626Z"
      },
      {
        "duration": 137,
        "start_time": "2022-11-03T19:36:16.735Z"
      },
      {
        "duration": 8,
        "start_time": "2022-11-03T19:36:16.874Z"
      },
      {
        "duration": 13,
        "start_time": "2022-11-03T19:36:16.885Z"
      },
      {
        "duration": 33,
        "start_time": "2022-11-03T19:36:16.900Z"
      },
      {
        "duration": 278,
        "start_time": "2022-11-03T19:36:16.935Z"
      },
      {
        "duration": 15,
        "start_time": "2022-11-03T19:36:17.215Z"
      },
      {
        "duration": 37,
        "start_time": "2022-11-03T19:36:17.232Z"
      },
      {
        "duration": 79,
        "start_time": "2022-11-03T19:36:17.271Z"
      },
      {
        "duration": 13,
        "start_time": "2022-11-03T19:36:17.353Z"
      },
      {
        "duration": 96,
        "start_time": "2022-11-03T19:36:36.561Z"
      },
      {
        "duration": 7,
        "start_time": "2022-11-03T19:36:48.008Z"
      },
      {
        "duration": 8,
        "start_time": "2022-11-03T19:37:53.708Z"
      },
      {
        "duration": 9,
        "start_time": "2022-11-03T19:43:12.331Z"
      },
      {
        "duration": 11,
        "start_time": "2022-11-03T19:45:07.103Z"
      },
      {
        "duration": 12,
        "start_time": "2022-11-03T19:50:34.407Z"
      },
      {
        "duration": 1041,
        "start_time": "2022-11-03T19:53:12.837Z"
      },
      {
        "duration": 49,
        "start_time": "2022-11-03T19:53:13.880Z"
      },
      {
        "duration": 9,
        "start_time": "2022-11-03T19:53:13.930Z"
      },
      {
        "duration": 18,
        "start_time": "2022-11-03T19:53:13.940Z"
      },
      {
        "duration": 65,
        "start_time": "2022-11-03T19:53:13.959Z"
      },
      {
        "duration": 255,
        "start_time": "2022-11-03T19:53:14.026Z"
      },
      {
        "duration": 8,
        "start_time": "2022-11-03T19:53:14.283Z"
      },
      {
        "duration": 37,
        "start_time": "2022-11-03T19:53:14.293Z"
      },
      {
        "duration": 66,
        "start_time": "2022-11-03T19:53:14.332Z"
      },
      {
        "duration": 12,
        "start_time": "2022-11-03T19:53:14.400Z"
      },
      {
        "duration": 1200,
        "start_time": "2022-11-04T07:07:02.119Z"
      },
      {
        "duration": 176,
        "start_time": "2022-11-04T07:07:03.321Z"
      },
      {
        "duration": 10,
        "start_time": "2022-11-04T07:07:03.498Z"
      },
      {
        "duration": 5,
        "start_time": "2022-11-04T07:07:03.509Z"
      },
      {
        "duration": 40,
        "start_time": "2022-11-04T07:07:03.515Z"
      },
      {
        "duration": 307,
        "start_time": "2022-11-04T07:07:03.557Z"
      },
      {
        "duration": 16,
        "start_time": "2022-11-04T07:07:03.866Z"
      },
      {
        "duration": 29,
        "start_time": "2022-11-04T07:07:03.883Z"
      },
      {
        "duration": 82,
        "start_time": "2022-11-04T07:07:03.914Z"
      },
      {
        "duration": 13,
        "start_time": "2022-11-04T07:07:03.998Z"
      },
      {
        "duration": 54,
        "start_time": "2022-11-04T07:07:53.675Z"
      },
      {
        "duration": 63,
        "start_time": "2022-11-04T07:08:02.330Z"
      },
      {
        "duration": 1080,
        "start_time": "2022-11-04T07:08:38.403Z"
      },
      {
        "duration": 50,
        "start_time": "2022-11-04T07:08:39.485Z"
      },
      {
        "duration": 30,
        "start_time": "2022-11-04T07:08:39.536Z"
      },
      {
        "duration": 5,
        "start_time": "2022-11-04T07:08:39.574Z"
      },
      {
        "duration": 36,
        "start_time": "2022-11-04T07:08:39.581Z"
      },
      {
        "duration": 304,
        "start_time": "2022-11-04T07:08:39.618Z"
      },
      {
        "duration": 18,
        "start_time": "2022-11-04T07:08:39.923Z"
      },
      {
        "duration": 64,
        "start_time": "2022-11-04T07:08:39.943Z"
      },
      {
        "duration": 78,
        "start_time": "2022-11-04T07:08:40.008Z"
      },
      {
        "duration": 15,
        "start_time": "2022-11-04T07:08:40.088Z"
      },
      {
        "duration": 326,
        "start_time": "2022-11-04T07:09:17.830Z"
      },
      {
        "duration": 12,
        "start_time": "2022-11-04T07:09:43.006Z"
      },
      {
        "duration": 44,
        "start_time": "2022-11-04T07:09:48.070Z"
      },
      {
        "duration": 71,
        "start_time": "2022-11-04T07:12:41.837Z"
      },
      {
        "duration": 4,
        "start_time": "2022-11-04T07:27:10.015Z"
      },
      {
        "duration": 122,
        "start_time": "2022-11-04T07:27:35.397Z"
      },
      {
        "duration": 21,
        "start_time": "2022-11-04T07:50:48.970Z"
      },
      {
        "duration": 4,
        "start_time": "2022-11-04T07:51:28.818Z"
      },
      {
        "duration": 52,
        "start_time": "2022-11-04T08:29:01.747Z"
      },
      {
        "duration": 11,
        "start_time": "2022-11-04T08:29:46.435Z"
      },
      {
        "duration": 1099,
        "start_time": "2022-11-04T08:30:50.217Z"
      },
      {
        "duration": 49,
        "start_time": "2022-11-04T08:30:51.318Z"
      },
      {
        "duration": 10,
        "start_time": "2022-11-04T08:30:51.369Z"
      },
      {
        "duration": 5,
        "start_time": "2022-11-04T08:30:51.381Z"
      },
      {
        "duration": 33,
        "start_time": "2022-11-04T08:30:51.388Z"
      },
      {
        "duration": 276,
        "start_time": "2022-11-04T08:30:51.422Z"
      },
      {
        "duration": 25,
        "start_time": "2022-11-04T08:30:51.699Z"
      },
      {
        "duration": 20,
        "start_time": "2022-11-04T08:30:51.725Z"
      },
      {
        "duration": 44,
        "start_time": "2022-11-04T08:30:51.746Z"
      },
      {
        "duration": 83,
        "start_time": "2022-11-04T08:30:51.793Z"
      },
      {
        "duration": 15,
        "start_time": "2022-11-04T08:30:51.877Z"
      },
      {
        "duration": 4,
        "start_time": "2022-11-04T09:12:31.875Z"
      },
      {
        "duration": 6,
        "start_time": "2022-11-04T09:13:55.701Z"
      },
      {
        "duration": 65,
        "start_time": "2022-11-04T09:14:31.274Z"
      },
      {
        "duration": 46,
        "start_time": "2022-11-04T09:14:42.569Z"
      },
      {
        "duration": 6,
        "start_time": "2022-11-04T09:15:00.568Z"
      },
      {
        "duration": 1100,
        "start_time": "2022-11-04T12:29:13.446Z"
      },
      {
        "duration": 97,
        "start_time": "2022-11-04T12:29:14.548Z"
      },
      {
        "duration": 11,
        "start_time": "2022-11-04T12:29:14.647Z"
      },
      {
        "duration": 4,
        "start_time": "2022-11-04T12:29:14.661Z"
      },
      {
        "duration": 45,
        "start_time": "2022-11-04T12:29:14.667Z"
      },
      {
        "duration": 263,
        "start_time": "2022-11-04T12:29:14.713Z"
      },
      {
        "duration": 35,
        "start_time": "2022-11-04T12:29:14.979Z"
      },
      {
        "duration": 11,
        "start_time": "2022-11-04T12:29:15.016Z"
      },
      {
        "duration": 45,
        "start_time": "2022-11-04T12:29:15.028Z"
      },
      {
        "duration": 9,
        "start_time": "2022-11-04T12:29:15.097Z"
      },
      {
        "duration": 59,
        "start_time": "2022-11-04T12:29:15.108Z"
      },
      {
        "duration": 24,
        "start_time": "2022-11-04T12:29:15.168Z"
      },
      {
        "duration": 97,
        "start_time": "2022-11-04T12:36:18.595Z"
      },
      {
        "duration": 80,
        "start_time": "2022-11-04T12:39:57.734Z"
      },
      {
        "duration": 17,
        "start_time": "2022-11-04T12:43:57.664Z"
      },
      {
        "duration": 55,
        "start_time": "2022-11-04T12:44:20.509Z"
      },
      {
        "duration": 260,
        "start_time": "2022-11-04T12:49:03.747Z"
      },
      {
        "duration": 1072,
        "start_time": "2022-11-04T12:49:18.737Z"
      },
      {
        "duration": 51,
        "start_time": "2022-11-04T12:49:19.810Z"
      },
      {
        "duration": 11,
        "start_time": "2022-11-04T12:49:19.863Z"
      },
      {
        "duration": 4,
        "start_time": "2022-11-04T12:49:19.876Z"
      },
      {
        "duration": 35,
        "start_time": "2022-11-04T12:49:19.882Z"
      },
      {
        "duration": 262,
        "start_time": "2022-11-04T12:49:19.919Z"
      },
      {
        "duration": 29,
        "start_time": "2022-11-04T12:49:20.182Z"
      },
      {
        "duration": 10,
        "start_time": "2022-11-04T12:49:20.212Z"
      },
      {
        "duration": 43,
        "start_time": "2022-11-04T12:49:20.224Z"
      },
      {
        "duration": 27,
        "start_time": "2022-11-04T12:49:20.269Z"
      },
      {
        "duration": 58,
        "start_time": "2022-11-04T12:49:20.297Z"
      },
      {
        "duration": 33,
        "start_time": "2022-11-04T12:49:20.357Z"
      },
      {
        "duration": 1130,
        "start_time": "2022-11-04T12:55:24.363Z"
      },
      {
        "duration": 54,
        "start_time": "2022-11-04T12:55:25.495Z"
      },
      {
        "duration": 11,
        "start_time": "2022-11-04T12:55:25.551Z"
      },
      {
        "duration": 5,
        "start_time": "2022-11-04T12:55:25.564Z"
      },
      {
        "duration": 40,
        "start_time": "2022-11-04T12:55:25.571Z"
      },
      {
        "duration": 297,
        "start_time": "2022-11-04T12:55:25.612Z"
      },
      {
        "duration": 24,
        "start_time": "2022-11-04T12:55:25.911Z"
      },
      {
        "duration": 13,
        "start_time": "2022-11-04T12:55:25.937Z"
      },
      {
        "duration": 76,
        "start_time": "2022-11-04T12:55:25.952Z"
      },
      {
        "duration": 7,
        "start_time": "2022-11-04T12:55:26.031Z"
      },
      {
        "duration": 90,
        "start_time": "2022-11-04T12:55:26.040Z"
      },
      {
        "duration": 20,
        "start_time": "2022-11-04T12:55:26.132Z"
      },
      {
        "duration": 320,
        "start_time": "2022-11-04T13:03:18.121Z"
      },
      {
        "duration": 49,
        "start_time": "2022-11-04T13:06:50.532Z"
      },
      {
        "duration": 128,
        "start_time": "2022-11-04T13:19:38.792Z"
      },
      {
        "duration": 1138,
        "start_time": "2022-11-04T14:15:18.437Z"
      },
      {
        "duration": 83,
        "start_time": "2022-11-04T14:15:19.577Z"
      },
      {
        "duration": 13,
        "start_time": "2022-11-04T14:15:19.662Z"
      },
      {
        "duration": 4,
        "start_time": "2022-11-04T14:15:19.677Z"
      },
      {
        "duration": 48,
        "start_time": "2022-11-04T14:15:19.683Z"
      },
      {
        "duration": 308,
        "start_time": "2022-11-04T14:15:19.736Z"
      },
      {
        "duration": 24,
        "start_time": "2022-11-04T14:15:20.046Z"
      },
      {
        "duration": 28,
        "start_time": "2022-11-04T14:15:20.072Z"
      },
      {
        "duration": 63,
        "start_time": "2022-11-04T14:15:20.102Z"
      },
      {
        "duration": 5,
        "start_time": "2022-11-04T14:15:20.168Z"
      },
      {
        "duration": 84,
        "start_time": "2022-11-04T14:15:20.175Z"
      },
      {
        "duration": 15,
        "start_time": "2022-11-04T14:15:20.261Z"
      }
    ],
    "kernelspec": {
      "display_name": "Python 3.10.6 64-bit",
      "language": "python",
      "name": "python3"
    },
    "language_info": {
      "codemirror_mode": {
        "name": "ipython",
        "version": 3
      },
      "file_extension": ".py",
      "mimetype": "text/x-python",
      "name": "python",
      "nbconvert_exporter": "python",
      "pygments_lexer": "ipython3",
      "version": "3.10.6"
    },
    "toc": {
      "base_numbering": 1,
      "nav_menu": {},
      "number_sections": true,
      "sideBar": true,
      "skip_h1_title": true,
      "title_cell": "Table of Contents",
      "title_sidebar": "Contents",
      "toc_cell": false,
      "toc_position": {},
      "toc_section_display": true,
      "toc_window_display": false
    },
    "vscode": {
      "interpreter": {
        "hash": "afb734500600fd355917ca529030176ea0ca205570884b88f2f6f7d791fd3fbe"
      }
    },
    "colab": {
      "provenance": [],
      "include_colab_link": true
    }
  },
  "nbformat": 4,
  "nbformat_minor": 0
}