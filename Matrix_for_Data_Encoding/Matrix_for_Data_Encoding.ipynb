{
  "cells": [
    {
      "cell_type": "markdown",
      "metadata": {
        "id": "view-in-github",
        "colab_type": "text"
      },
      "source": [
        "<a href=\"https://colab.research.google.com/github/MariaPetrovskaya/Data-Science-demo/blob/main/Matrix_for_Data_Encoding.ipynb\" target=\"_parent\"><img src=\"https://colab.research.google.com/assets/colab-badge.svg\" alt=\"Open In Colab\"/></a>"
      ]
    },
    {
      "cell_type": "markdown",
      "metadata": {
        "id": "-EjzIe9j3QH3"
      },
      "source": [
        "# Защита персональных данных клиентов"
      ]
    },
    {
      "cell_type": "markdown",
      "metadata": {
        "id": "AXQ98UFz3QH3"
      },
      "source": [
        "Вам нужно защитить данные клиентов страховой компании «Хоть потоп». Разработайте такой метод преобразования данных, чтобы по ним было сложно восстановить персональную информацию. Обоснуйте корректность его работы.\n",
        "\n",
        "Нужно защитить данные, чтобы при преобразовании качество моделей машинного обучения не ухудшилось. Подбирать наилучшую модель не требуется."
      ]
    },
    {
      "cell_type": "markdown",
      "metadata": {
        "id": "V2qDxOsu3QH5"
      },
      "source": [
        "## Загрузка данных"
      ]
    },
    {
      "cell_type": "code",
      "execution_count": null,
      "metadata": {
        "id": "4U_moKBX3QH5"
      },
      "outputs": [],
      "source": [
        "import pandas as pd\n",
        "import matplotlib.pyplot as plt\n",
        "import numpy as np\n",
        "\n",
        "from sklearn.linear_model import LinearRegression\n",
        "from numpy.linalg import inv\n",
        "from sklearn.model_selection import train_test_split\n",
        "from sklearn.metrics import r2_score\n",
        "from sklearn.preprocessing import StandardScaler\n",
        "from sklearn.pipeline import Pipeline"
      ]
    },
    {
      "cell_type": "markdown",
      "metadata": {
        "id": "QWZYzAxj3QH7"
      },
      "source": [
        "Загрузка всех библиотек"
      ]
    },
    {
      "cell_type": "code",
      "execution_count": null,
      "metadata": {
        "id": "vVMQJl3s3QH7",
        "outputId": "5c933ef1-2af5-4438-cfa7-96bf3f08e2ea"
      },
      "outputs": [
        {
          "name": "stdout",
          "output_type": "stream",
          "text": [
            "загрузка и знакомство с данными\n",
            "(5000, 5)\n",
            "<class 'pandas.core.frame.DataFrame'>\n",
            "RangeIndex: 5000 entries, 0 to 4999\n",
            "Data columns (total 5 columns):\n",
            " #   Column             Non-Null Count  Dtype  \n",
            "---  ------             --------------  -----  \n",
            " 0   Пол                5000 non-null   int64  \n",
            " 1   Возраст            5000 non-null   float64\n",
            " 2   Зарплата           5000 non-null   float64\n",
            " 3   Члены семьи        5000 non-null   int64  \n",
            " 4   Страховые выплаты  5000 non-null   int64  \n",
            "dtypes: float64(2), int64(3)\n",
            "memory usage: 195.4 KB\n",
            "None\n",
            "   Пол  Возраст  Зарплата  Члены семьи  Страховые выплаты\n",
            "0    1     41.0   49600.0            1                  0\n",
            "1    0     46.0   38000.0            1                  1\n",
            "2    0     29.0   21000.0            0                  0\n",
            "3    0     21.0   41700.0            2                  0\n",
            "4    1     28.0   26100.0            0                  0\n"
          ]
        }
      ],
      "source": [
        "df = pd.read_csv('/datasets/insurance.csv')\n",
        "data  = df.copy()\n",
        "#\n",
        "print('загрузка и знакомство с данными')\n",
        "print (data.shape)\n",
        "print (data.info())\n",
        "print (data.head())"
      ]
    },
    {
      "cell_type": "markdown",
      "metadata": {
        "id": "Fg6M0rec3QH8"
      },
      "source": [
        "Данные загружены, все в чиловых форматах, пропусков нет, размер 5000х5. Столбцы \"Пол\" и \"Страховые выплаты\" - по сути булиевы, но хранятся как int, что удобно для дальнейших расчетов"
      ]
    },
    {
      "cell_type": "code",
      "execution_count": null,
      "metadata": {
        "id": "VjKyFXim3QH8",
        "outputId": "65b53539-8760-4ee9-d3c1-2430385176eb"
      },
      "outputs": [
        {
          "data": {
            "text/html": [
              "<div>\n",
              "<style scoped>\n",
              "    .dataframe tbody tr th:only-of-type {\n",
              "        vertical-align: middle;\n",
              "    }\n",
              "\n",
              "    .dataframe tbody tr th {\n",
              "        vertical-align: top;\n",
              "    }\n",
              "\n",
              "    .dataframe thead th {\n",
              "        text-align: right;\n",
              "    }\n",
              "</style>\n",
              "<table border=\"1\" class=\"dataframe\">\n",
              "  <thead>\n",
              "    <tr style=\"text-align: right;\">\n",
              "      <th></th>\n",
              "      <th>Пол</th>\n",
              "      <th>Возраст</th>\n",
              "      <th>Зарплата</th>\n",
              "      <th>Члены семьи</th>\n",
              "      <th>Страховые выплаты</th>\n",
              "    </tr>\n",
              "  </thead>\n",
              "  <tbody>\n",
              "    <tr>\n",
              "      <th>Пол</th>\n",
              "      <td>1.000000</td>\n",
              "      <td>0.002074</td>\n",
              "      <td>0.014910</td>\n",
              "      <td>-0.008991</td>\n",
              "      <td>0.010140</td>\n",
              "    </tr>\n",
              "    <tr>\n",
              "      <th>Возраст</th>\n",
              "      <td>0.002074</td>\n",
              "      <td>1.000000</td>\n",
              "      <td>-0.019093</td>\n",
              "      <td>-0.006692</td>\n",
              "      <td>0.651030</td>\n",
              "    </tr>\n",
              "    <tr>\n",
              "      <th>Зарплата</th>\n",
              "      <td>0.014910</td>\n",
              "      <td>-0.019093</td>\n",
              "      <td>1.000000</td>\n",
              "      <td>-0.030296</td>\n",
              "      <td>-0.014963</td>\n",
              "    </tr>\n",
              "    <tr>\n",
              "      <th>Члены семьи</th>\n",
              "      <td>-0.008991</td>\n",
              "      <td>-0.006692</td>\n",
              "      <td>-0.030296</td>\n",
              "      <td>1.000000</td>\n",
              "      <td>-0.036290</td>\n",
              "    </tr>\n",
              "    <tr>\n",
              "      <th>Страховые выплаты</th>\n",
              "      <td>0.010140</td>\n",
              "      <td>0.651030</td>\n",
              "      <td>-0.014963</td>\n",
              "      <td>-0.036290</td>\n",
              "      <td>1.000000</td>\n",
              "    </tr>\n",
              "  </tbody>\n",
              "</table>\n",
              "</div>"
            ],
            "text/plain": [
              "                        Пол   Возраст  Зарплата  Члены семьи  \\\n",
              "Пол                1.000000  0.002074  0.014910    -0.008991   \n",
              "Возраст            0.002074  1.000000 -0.019093    -0.006692   \n",
              "Зарплата           0.014910 -0.019093  1.000000    -0.030296   \n",
              "Члены семьи       -0.008991 -0.006692 -0.030296     1.000000   \n",
              "Страховые выплаты  0.010140  0.651030 -0.014963    -0.036290   \n",
              "\n",
              "                   Страховые выплаты  \n",
              "Пол                         0.010140  \n",
              "Возраст                     0.651030  \n",
              "Зарплата                   -0.014963  \n",
              "Члены семьи                -0.036290  \n",
              "Страховые выплаты           1.000000  "
            ]
          },
          "metadata": {},
          "output_type": "display_data"
        }
      ],
      "source": [
        "display(data.corr())"
      ]
    },
    {
      "cell_type": "markdown",
      "metadata": {
        "id": "qyBKAx043QH8"
      },
      "source": [
        "Посчитаны корреляции столбцов данных между собой. Наблюдается корреляция между \"Возраст\" и \"Страховые выплаты\". \"Страховые выплаты\" - в дальнейшем таргет. Вероятно, \"Возраст\" - основной действующий фактор, с другими столбцами не коррелирует. Убирать этот столбец нельзя"
      ]
    },
    {
      "cell_type": "markdown",
      "metadata": {
        "id": "8N7iKzK63QH9"
      },
      "source": [
        "## Умножение матриц"
      ]
    },
    {
      "cell_type": "markdown",
      "metadata": {
        "id": "rPRJKbTo3QH9"
      },
      "source": [
        "Сначала проверим саму по себе применимость матриц для шифровки и дешифровки датасетов"
      ]
    },
    {
      "cell_type": "code",
      "execution_count": null,
      "metadata": {
        "id": "o2q6s-XX3QH-",
        "outputId": "65add39a-fd79-40fe-887d-80f7140d79b2"
      },
      "outputs": [
        {
          "name": "stdout",
          "output_type": "stream",
          "text": [
            "[[-0.39526637  0.49420434  0.8852591   0.88915247  0.9283346 ]\n",
            " [ 1.26196554  1.02051653 -1.67287637 -0.48559911  0.51356171]\n",
            " [-0.48328232 -0.07827841  0.86802506 -1.12043564 -0.68514389]\n",
            " [ 1.06937326 -3.06802569  0.92969276  0.10337996  0.50362091]\n",
            " [-1.01413656 -0.33117213 -2.65893565  0.13118759  1.28583909]]\n",
            "[[-0.06608734  0.3520712  -0.22329939  0.1409937  -0.26710863]\n",
            " [ 0.20535989  0.1839457   0.05014491 -0.22126052 -0.10835124]\n",
            " [ 0.35987337  0.0227933   0.26422634  0.07584685 -0.15783753]\n",
            " [-0.17338399 -0.3995729  -0.88449201 -0.12335278 -0.13821136]\n",
            " [ 0.76262564  0.41295283  0.47342295  0.22364058  0.2268435 ]]\n"
          ]
        }
      ],
      "source": [
        "A = np.random.normal(size=(5, 5))\n",
        "Ainv = inv(np.matrix(A))\n",
        "print(A)\n",
        "print(Ainv)"
      ]
    },
    {
      "cell_type": "markdown",
      "metadata": {
        "id": "EYP-vPE63QH-"
      },
      "source": [
        "Сгенерирована случайная матрица и обратная к ней"
      ]
    },
    {
      "cell_type": "code",
      "execution_count": null,
      "metadata": {
        "id": "pgrB3Z4p3QH-",
        "outputId": "a5d74d7a-e22e-48e2-f7fa-581ac30f0c83"
      },
      "outputs": [
        {
          "name": "stdout",
          "output_type": "stream",
          "text": [
            "[[1.00e+00 4.10e+01 4.96e+04 1.00e+00 0.00e+00]\n",
            " [0.00e+00 4.60e+01 3.80e+04 1.00e+00 1.00e+00]\n",
            " [0.00e+00 2.90e+01 2.10e+04 0.00e+00 0.00e+00]\n",
            " ...\n",
            " [0.00e+00 2.00e+01 3.39e+04 2.00e+00 0.00e+00]\n",
            " [1.00e+00 2.20e+01 3.27e+04 3.00e+00 0.00e+00]\n",
            " [1.00e+00 2.80e+01 4.06e+04 1.00e+00 0.00e+00]]\n",
            "Размер: (5000, 5)\n"
          ]
        }
      ],
      "source": [
        "matrix = data.values\n",
        "print(matrix)\n",
        "print('Размер:', matrix.shape)"
      ]
    },
    {
      "cell_type": "markdown",
      "metadata": {
        "id": "A90j6zyQ3QH-"
      },
      "source": [
        "создана матрица matrix из исходного датасета"
      ]
    },
    {
      "cell_type": "code",
      "execution_count": null,
      "metadata": {
        "id": "AMXprFAA3QH-",
        "outputId": "a77f9da5-3da5-428a-c1ee-4c3861621240"
      },
      "outputs": [
        {
          "name": "stdout",
          "output_type": "stream",
          "text": [
            "[[-23918.38814493  -3843.34188286  42987.26990096 -55592.52471216\n",
            "  -33960.64913752]\n",
            " [-18306.62232993  -2931.03509647  32906.27065076 -42598.65726334\n",
            "  -26010.05465859]\n",
            " [-10112.33162068  -1614.25167429  18180.01280475 -23543.23078758\n",
            "  -14373.12847626]\n",
            " ...\n",
            " [-16355.8924314   -2639.36389038  29394.45132668 -37992.27337526\n",
            "  -23215.09951742]\n",
            " [-15772.75561507  -2545.96258416  28351.29045612 -36647.72927458\n",
            "  -22390.46776615]\n",
            " [-19585.25285923  -3152.10288904  35196.79177114 -45502.29117513\n",
            "  -27801.03039725]]\n",
            "Размер: (5000, 5)\n"
          ]
        }
      ],
      "source": [
        "crypted = matrix@A\n",
        "print(crypted)\n",
        "print('Размер:', crypted.shape)"
      ]
    },
    {
      "cell_type": "markdown",
      "metadata": {
        "id": "0MOdjnup3QH_"
      },
      "source": [
        "путем умножения создана зашифрованная матрица"
      ]
    },
    {
      "cell_type": "code",
      "execution_count": null,
      "metadata": {
        "id": "-PaWcpjp3QH_",
        "outputId": "f9671e86-b88b-4f2e-8c5c-73cacee60132"
      },
      "outputs": [
        {
          "name": "stdout",
          "output_type": "stream",
          "text": [
            "[[ 1.00000000e+00  4.10000000e+01  4.96000000e+04  1.00000000e+00\n",
            "  -3.67953614e-13]\n",
            " [ 9.82338202e-13  4.60000000e+01  3.80000000e+04  1.00000000e+00\n",
            "   1.00000000e+00]\n",
            " [-1.37460182e-12  2.90000000e+01  2.10000000e+04  1.69346955e-13\n",
            "   1.14689720e-13]\n",
            " ...\n",
            " [-2.16976319e-12  2.00000000e+01  3.39000000e+04  2.00000000e+00\n",
            "   2.57621779e-13]\n",
            " [ 1.00000000e+00  2.20000000e+01  3.27000000e+04  3.00000000e+00\n",
            "   5.79264758e-13]\n",
            " [ 1.00000000e+00  2.80000000e+01  4.06000000e+04  1.00000000e+00\n",
            "  -4.40390274e-13]]\n",
            "Размер: (5000, 5)\n"
          ]
        }
      ],
      "source": [
        "uncrypted = crypted@Ainv\n",
        "print(uncrypted)\n",
        "print('Размер:', uncrypted.shape)"
      ]
    },
    {
      "cell_type": "markdown",
      "metadata": {
        "id": "fJVEK-zk3QH_"
      },
      "source": [
        "проверка того, как работает расшифровка (умножение зашифрованной на обратную матрицу) - вижу сходство и первоначальными данными"
      ]
    },
    {
      "cell_type": "markdown",
      "metadata": {
        "id": "Wjzu7JsZ3QH_"
      },
      "source": [
        "**Результат** Проверена примененимость матрицы и обратной матрицы для шифровки и дешифровки данных"
      ]
    },
    {
      "cell_type": "markdown",
      "metadata": {
        "id": "poi55DNz3QH_"
      },
      "source": [
        "**Теоретическая часть**"
      ]
    },
    {
      "cell_type": "markdown",
      "metadata": {
        "id": "24C0alKd3QIA"
      },
      "source": [
        "Обозначения:\n",
        "\n",
        "- $X$ — матрица признаков (нулевой столбец состоит из единиц)\n",
        "\n",
        "- $y$ — вектор целевого признака\n",
        "\n",
        "- $P$ — матрица, на которую умножаются признаки\n",
        "\n",
        "- $w$ — вектор весов линейной регрессии (нулевой элемент равен сдвигу)"
      ]
    },
    {
      "cell_type": "markdown",
      "metadata": {
        "id": "At7eE7Ra3QIA"
      },
      "source": [
        "Предсказания:\n",
        "\n",
        "$$\n",
        "a = Xw\n",
        "$$\n",
        "\n",
        "Задача обучения:\n",
        "\n",
        "$$\n",
        "w = \\arg\\min_w MSE(Xw, y)\n",
        "$$\n",
        "\n",
        "Формула обучения:\n",
        "\n",
        "$$\n",
        "w = (X^T X)^{-1} X^T y\n",
        "$$"
      ]
    },
    {
      "cell_type": "markdown",
      "metadata": {
        "id": "M-AcHLhl3QIA"
      },
      "source": [
        "**Вопрос:** \n",
        "<br>\n",
        "Признаки умножают на обратимую матрицу. Изменится ли качество линейной регрессии?\n",
        "<br>\n",
        "**Ответ:** не изменится.\n",
        "<br>\n",
        "<br>\n",
        "**Доказательство:**\n",
        "<br>\n",
        "<br>\n",
        "<br>\n",
        "\n",
        "\n",
        "<br>\n",
        "Заменим матрицу $X$ на матрицу $Z$\n",
        "<br>\n",
        "$$Z = XP$$\n",
        "<br>\n",
        "где $P$ - обратимая матрица с некими значениями, на которую может быть умножена матрица $X$\n",
        "<br>\n",
        "вычислим, чему будет равено предсказание и вектор весов:\n",
        "<br>\n",
        "    $$a_1 = Zw_1$$\n",
        "<br>\n",
        "    $$ w_1 = (Z^T Z)^{-1} Z^T y $$\n",
        "<br> \n",
        "далее сопоставим уравнения и получим:\n",
        "<br>\n",
        "$$a_1 = Z (Z^T Z)^{-1} Z^T y $$\n",
        "<br>\n",
        "заменим $Z = XP$ в уравнении:\n",
        "<br>\n",
        "$$ a_1 = XP ((XP)^T (XP))^{-1} (XP)^T y $$\n",
        "<br>\n",
        "применим следующее свойство обратной матрицы:\n",
        "<br>\n",
        "    $$ (AB)^{-1} = B^{-1} A^{-1} $$\n",
        "<br>\n",
        "Раскроем $((XP)^T (XP))^{-1}$ в два шага:\n",
        "<br>\n",
        "   $$a_1 = XP ((XP)^T (XP))^{-1} (XP)^T y  = XP(XP)^{-1}((XP)^T)^{-1} (XP)^T y = XPP^{-1}X^{-1}((XP)^T)^{-1} (XP)^T y $$\n",
        "   <br>\n",
        "Умножение приведет к $PP^{-1} = E$\n",
        "<br>\n",
        "Для следующего этапа воспользуемся свойством транспорнированной матрицы:\n",
        "<br>\n",
        "    $$ (AB)^T = B^T A^T$$\n",
        "<br>    \n",
        "Умножение на единичную матрицу не меняет матрицу. \n",
        "<br>\n",
        "Раскроем $((XP)^T)^{-1} (XP)^T$ в три шага:\n",
        "<br>\n",
        " $$a_1 = XEX^{-1}((XP)^T)^{-1} (XP)^T y = XX^{-1}(P^T X^T)^{-1} P^T X^T y = XX^{-1} (X^T)^{-1} (P^T)^{-1}  P^T X^T y $$\n",
        " <br>\n",
        " Умножение приводит к $(P^T)^{-1}  P^T = E$\n",
        " <br>\n",
        " тогда:\n",
        " <br>\n",
        "\n",
        " $$ a_1 = XX^{-1} (X^T)^{-1} E X^T y = X(X^T X)^{-1} X^T y = Xw = a $$\n",
        "<br> \n",
        "Как видно, значение предсказания $a$ не меняется, если умножать матрицу признаков на обратимую матрицу\n"
      ]
    },
    {
      "cell_type": "markdown",
      "metadata": {
        "id": "jDzgBUEI3QIE"
      },
      "source": [
        "## Алгоритм преобразования"
      ]
    },
    {
      "cell_type": "markdown",
      "metadata": {
        "id": "HEaoQg_e3QIE"
      },
      "source": [
        "**Этапы алгоритма:**\n",
        "<br>\n",
        " Генерация матрицы $P$\n",
        "<br>\n",
        " Проверка матрицы на обратимость(генерация обратной матрицы)\n",
        " <br>\n",
        " Получение матрицы преобразованных признаков $Z = X/P$.\n",
        " <br>\n",
        " Применение алгоритма на преобразованных признаках $Z$."
      ]
    },
    {
      "cell_type": "markdown",
      "metadata": {
        "id": "fQPDzX4J3QIF"
      },
      "source": [
        " <br>\n",
        " Матрица $P$ должна иметь необходимую размерность $(nxn)$, где n - количество признаков для регрессии\n",
        " <br>\n",
        " Таким образом матрица $Z$ будет иметь туже размерность, что и матрица $X$. \n",
        " <br>\n",
        " Обратная матрица $P$ возможна только для квадратных невырожденных матриц (определитель которых не равен нулю)\n",
        " <br>\n",
        " Проведем проверку но обратимость или применим функцию генерации обратимой матрицы\n",
        "    "
      ]
    },
    {
      "cell_type": "code",
      "execution_count": null,
      "metadata": {
        "id": "8KW5ba9x3QIF"
      },
      "outputs": [],
      "source": [
        "#def get_rand_matrix():\n",
        "    #det = 0\n",
        "    #while det == 0:\n",
        "        #matrix = np.random.normal(size=(data.shape[1], data.shape[1]))\n",
        "        #det = np.linalg.det(matrix)\n",
        "    #return matrix"
      ]
    },
    {
      "cell_type": "markdown",
      "metadata": {
        "id": "h9y6nIbs3QIG"
      },
      "source": [
        "## Проверка алгоритма"
      ]
    },
    {
      "cell_type": "markdown",
      "metadata": {
        "id": "mPNuwmRX3QIH"
      },
      "source": [
        "Применим модель линейной регрессии первоначально к данным без шифрования"
      ]
    },
    {
      "cell_type": "code",
      "execution_count": null,
      "metadata": {
        "id": "oIztCYsy3QIH",
        "outputId": "603c5282-5a35-4828-a232-1df780e8b99a"
      },
      "outputs": [
        {
          "name": "stdout",
          "output_type": "stream",
          "text": [
            "(5000, 4)\n",
            "(5000,)\n"
          ]
        }
      ],
      "source": [
        "features = data.drop('Страховые выплаты', axis=1)\n",
        "target = data['Страховые выплаты']\n",
        "print(features.shape)\n",
        "print(target.shape)"
      ]
    },
    {
      "cell_type": "markdown",
      "metadata": {
        "id": "sCh3uWH53QIH"
      },
      "source": [
        "выделили таргет и признаки"
      ]
    },
    {
      "cell_type": "code",
      "execution_count": null,
      "metadata": {
        "id": "llPzmiMm3QIH",
        "outputId": "b1b88f9a-c661-45e6-c8ab-939da092bb5c"
      },
      "outputs": [
        {
          "name": "stdout",
          "output_type": "stream",
          "text": [
            "(3750, 4)\n",
            "(1250, 4)\n",
            "(3750,)\n",
            "(1250,)\n"
          ]
        }
      ],
      "source": [
        "features_train, features_test, target_train, target_test = train_test_split(\n",
        "    features, target, test_size=0.25, random_state=12345)\n",
        "print(features_train.shape)\n",
        "print(features_test.shape)\n",
        "print(target_train.shape)\n",
        "print(target_test.shape)"
      ]
    },
    {
      "cell_type": "markdown",
      "metadata": {
        "id": "qaQ-cuCD3QII"
      },
      "source": [
        "разбиваем не шифрованные данные на обучающую и тестовую выборки"
      ]
    },
    {
      "cell_type": "code",
      "execution_count": null,
      "metadata": {
        "id": "8rD8eY-c3QII",
        "outputId": "a7647f08-31a0-452a-81bf-db210f9636fd"
      },
      "outputs": [
        {
          "name": "stdout",
          "output_type": "stream",
          "text": [
            "R2 0.42494550286668\n"
          ]
        }
      ],
      "source": [
        "class LinearRegression:\n",
        "    def fit(self, train_features, train_target):\n",
        "        X = np.concatenate((np.ones((train_features.shape[0], 1)), train_features), axis=1)\n",
        "        y = train_target\n",
        "        w = np.linalg.inv(X.T.dot(X)).dot(X.T).dot(y)# < напишите код здесь >\n",
        "        self.w = w[1:]\n",
        "        self.w0 = w[0]\n",
        "\n",
        "    def predict(self, test_features):\n",
        "        return test_features.dot(self.w) + self.w0\n",
        "    \n",
        "model = LinearRegression()\n",
        "model.fit(features, target)\n",
        "predictions = model.predict(features)\n",
        "print(\"R2\",r2_score(target, predictions))\n"
      ]
    },
    {
      "cell_type": "markdown",
      "metadata": {
        "id": "FUtx3Bg53QII"
      },
      "source": [
        "К данным до шифрования применена модель линейной регрессии. Параметры w и w0, w вычисляется по формуле минимизации MSE $$w = \\arg\\min_w MSE(Xw, y)$$"
      ]
    },
    {
      "cell_type": "code",
      "execution_count": null,
      "metadata": {
        "id": "hOGNIJ9B3QII",
        "outputId": "d78ca838-0f21-43af-c66c-b4be730f77a5"
      },
      "outputs": [
        {
          "name": "stdout",
          "output_type": "stream",
          "text": [
            "R2_scaled = 0.4352275712702667\n"
          ]
        }
      ],
      "source": [
        "model = LinearRegression()\n",
        "scaller = StandardScaler()\n",
        "pipeline = Pipeline([(\"standard_scaller\", scaller),(\"linear_regression\", model)])\n",
        "pipeline.fit(features_train, target_train)\n",
        "R2_scaled = r2_score(target_test, pipeline.predict(features_test))\n",
        "print(\"R2_scaled =\", R2_scaled)\n"
      ]
    },
    {
      "cell_type": "markdown",
      "metadata": {
        "id": "COnfMA_P3QIJ"
      },
      "source": [
        "Для сравнения применен StandardScaler (масштабирование), показатель незначительно вырос"
      ]
    },
    {
      "cell_type": "code",
      "execution_count": null,
      "metadata": {
        "id": "hR-kv9AZ3QIJ",
        "outputId": "d3edfb01-be00-427d-8d1b-b10a53e4b2e8"
      },
      "outputs": [
        {
          "name": "stdout",
          "output_type": "stream",
          "text": [
            "[[ 0.72858609  0.16036753 -0.82621791 -0.73681412]\n",
            " [ 0.66114662 -0.93174723 -0.72418526 -1.39834946]\n",
            " [ 1.1494969  -0.75731065  0.70078185  1.39024734]\n",
            " [ 0.734172   -1.22085534  0.6255142  -0.46627449]]\n",
            "[[ 1.18961711 -0.70310939  0.12885067  0.61294421]\n",
            " [ 1.26947108 -1.3294852  -0.44941547  0.64108596]\n",
            " [ 0.6278118  -1.36368508 -0.54814397  1.46324109]\n",
            " [-0.60855094  0.54453225  0.64425139 -0.89515657]]\n"
          ]
        }
      ],
      "source": [
        "B = np.random.normal(size=(4, 4))\n",
        "Binv = inv(np.matrix(B))\n",
        "print(B)\n",
        "print(Binv)"
      ]
    },
    {
      "cell_type": "markdown",
      "metadata": {
        "id": "4eBl_k8z3QIK"
      },
      "source": [
        "для шифровки признаков генеририруем новую матрицу размера 4х4 и на всякий случай обратную матрицу."
      ]
    },
    {
      "cell_type": "code",
      "execution_count": null,
      "metadata": {
        "id": "TudSANit3QIL",
        "outputId": "6579561d-f4b3-4070-9aab-b850bbd46dcb"
      },
      "outputs": [
        {
          "name": "stdout",
          "output_type": "stream",
          "text": [
            "[[1.00e+00 4.10e+01 4.96e+04 1.00e+00]\n",
            " [0.00e+00 4.60e+01 3.80e+04 1.00e+00]\n",
            " [0.00e+00 2.90e+01 2.10e+04 0.00e+00]\n",
            " ...\n",
            " [0.00e+00 2.00e+01 3.39e+04 2.00e+00]\n",
            " [1.00e+00 2.20e+01 3.27e+04 3.00e+00]\n",
            " [1.00e+00 2.80e+01 4.06e+04 1.00e+00]]\n",
            "Размер: (5000, 4)\n"
          ]
        }
      ],
      "source": [
        "features_matrix = features.values\n",
        "print(features_matrix)\n",
        "print('Размер:', features_matrix.shape)"
      ]
    },
    {
      "cell_type": "markdown",
      "metadata": {
        "id": "D4ei8UuO3QIL"
      },
      "source": [
        "преобразуем признаки в матрицу"
      ]
    },
    {
      "cell_type": "code",
      "execution_count": null,
      "metadata": {
        "id": "4pbCJ3Al3QIL",
        "outputId": "ea68d959-a029-4f18-9d15-e08556484cd9"
      },
      "outputs": [
        {
          "name": "stdout",
          "output_type": "stream",
          "text": [
            "[[ 57043.61600745 -37601.87038037  34728.88743822  68897.7326709 ]\n",
            " [ 43712.0291149  -28821.88594026  26597.0232751   52764.6085882 ]\n",
            " [ 24158.60815107 -15930.54432649  14695.417468    29154.64201551]\n",
            " ...\n",
            " [ 38982.63618502 -25693.90770131  23743.27202286  47100.48530382]\n",
            " [ 37606.02495638 -24788.05890318  22900.68472917  45428.18870771]\n",
            " [ 46689.54900178 -30773.96181345  28431.26520065  56403.68514966]]\n",
            "Размер: (5000, 4)\n"
          ]
        }
      ],
      "source": [
        "features_crypted = features_matrix@B\n",
        "print(features_crypted)\n",
        "print('Размер:', features_crypted.shape)"
      ]
    },
    {
      "cell_type": "code",
      "execution_count": null,
      "metadata": {
        "id": "PfewLSkW3QIL",
        "outputId": "1f1c41ec-af62-4284-dc3d-4af377d705b0"
      },
      "outputs": [
        {
          "name": "stdout",
          "output_type": "stream",
          "text": [
            "(3750, 4)\n",
            "(1250, 4)\n",
            "(3750,)\n",
            "(1250,)\n"
          ]
        }
      ],
      "source": [
        "features_crypted_train, features_crypted_test, target_train, target_test = train_test_split(\n",
        "    features_crypted, target, test_size=0.25, random_state=12345)\n",
        "print(features_crypted_train.shape)\n",
        "print(features_crypted_test.shape)\n",
        "print(target_train.shape)\n",
        "print(target_test.shape)"
      ]
    },
    {
      "cell_type": "code",
      "execution_count": null,
      "metadata": {
        "id": "DFlsPO8o3QIM",
        "outputId": "a8c587df-863f-488b-8362-da3957d38fc0"
      },
      "outputs": [
        {
          "name": "stdout",
          "output_type": "stream",
          "text": [
            "R2_crypted = 0.42494550286668475\n"
          ]
        }
      ],
      "source": [
        "\n",
        "    \n",
        "model = LinearRegression()\n",
        "model.fit(features_crypted, target)\n",
        "predictions_crypted = model.predict(features_crypted)\n",
        "print(\"R2_crypted =\", r2_score(target, predictions_crypted))"
      ]
    },
    {
      "cell_type": "markdown",
      "metadata": {
        "id": "U3zlYgyZ3QIN"
      },
      "source": [
        "показатель r2 такой же, как и до шифрования без StandardScaler"
      ]
    },
    {
      "cell_type": "code",
      "execution_count": null,
      "metadata": {
        "id": "yEtKNI1H3QIN",
        "outputId": "86dad94a-0b63-47c6-ef37-3b288f853706"
      },
      "outputs": [
        {
          "name": "stdout",
          "output_type": "stream",
          "text": [
            "R2_crypted_scaled = 0.435227571303371\n"
          ]
        }
      ],
      "source": [
        "model = LinearRegression()\n",
        "scaller = StandardScaler()\n",
        "pipeline = Pipeline([(\"standard_scaller\", scaller),(\"linear_regression\", model)])\n",
        "pipeline.fit(features_crypted_train, target_train)\n",
        "R2_crypted_scaled = r2_score(target_test, pipeline.predict(features_crypted_test))\n",
        "print(\"R2_crypted_scaled =\", R2_crypted_scaled)"
      ]
    },
    {
      "cell_type": "markdown",
      "metadata": {
        "id": "XEdPvl6Q3QIO"
      },
      "source": [
        "применен StandardScaler (масштабирование), показатель незначительно вырос"
      ]
    },
    {
      "cell_type": "code",
      "execution_count": null,
      "metadata": {
        "id": "jUq7uOYo3QIO",
        "outputId": "9838ff73-4709-4f90-9229-c45b2f9c2a35"
      },
      "outputs": [
        {
          "name": "stdout",
          "output_type": "stream",
          "text": [
            "Сравнение метрик R2 при различных преобразованиях данных\n",
            "\n",
            "данные в первоночальном виде\n",
            "R2 0.42494550286668\n",
            "\n",
            "данные до шифрования с использованием StandardScaler\n",
            "R2_scaled = 0.4352275712702667\n",
            "\n",
            "данные после шифрования без испльзования StandardScaler\n",
            "R2_crypted = 0.42494550286668475\n",
            "\n",
            "данные после шифрования с использованием StandardScaler\n",
            "R2_crypted_scaled = 0.435227571303371\n"
          ]
        }
      ],
      "source": [
        "print('Сравнение метрик R2 при различных преобразованиях данных')\n",
        "print()\n",
        "print(\"данные в первоночальном виде\")\n",
        "print(\"R2\",r2_score(target, predictions))\n",
        "print()\n",
        "print(\"данные до шифрования с использованием StandardScaler\")\n",
        "print(\"R2_scaled =\", R2_scaled)\n",
        "print()\n",
        "print(\"данные после шифрования без испльзования StandardScaler\")\n",
        "print(\"R2_crypted =\", r2_score(target, predictions_crypted))\n",
        "print()\n",
        "print(\"данные после шифрования с использованием StandardScaler\")\n",
        "print(\"R2_crypted_scaled =\", R2_crypted_scaled)"
      ]
    },
    {
      "cell_type": "markdown",
      "metadata": {
        "id": "RKaP_I4_3QIO"
      },
      "source": [
        "**Выводы** Показатели R2 схожи до шифрования и после, StandardScaler показывает аналогичное влияние в обоих случаях"
      ]
    },
    {
      "cell_type": "markdown",
      "metadata": {
        "id": "NCt9bqzf3QIP"
      },
      "source": [
        "**Общие выводы**\n",
        "<br>\n",
        "Данные загружены и изучены.\n",
        "<br>\n",
        "Проверена применимость матриц для шифровки данных в датасетах.\n",
        "<br>\n",
        "Качество модели линейной регрессии одинаковое для шифрованных и не шифрованных данных.\n",
        "<br>\n",
        "Создан алгоритм преобразования данных.\n",
        "<br>\n",
        "Применен алгоритм преобразования данных, оценивалась метрика R2 для данных до преобразования и после.\n",
        "<br>\n",
        "Результаты демонстрируют применимость и удобство матриц для шифровки данных в датасете."
      ]
    },
    {
      "cell_type": "code",
      "execution_count": null,
      "metadata": {
        "id": "2dhWzhRY3QIS"
      },
      "outputs": [],
      "source": []
    }
  ],
  "metadata": {
    "ExecuteTimeLog": [
      {
        "duration": 794,
        "start_time": "2023-01-04T03:52:32.504Z"
      },
      {
        "duration": 856,
        "start_time": "2023-01-04T03:53:25.353Z"
      },
      {
        "duration": 100,
        "start_time": "2023-01-04T03:57:52.454Z"
      },
      {
        "duration": 44,
        "start_time": "2023-01-04T04:05:08.679Z"
      },
      {
        "duration": 3,
        "start_time": "2023-01-04T04:36:35.119Z"
      },
      {
        "duration": 209,
        "start_time": "2023-01-04T04:37:08.259Z"
      },
      {
        "duration": 9,
        "start_time": "2023-01-04T04:37:28.195Z"
      },
      {
        "duration": 6,
        "start_time": "2023-01-04T04:38:46.124Z"
      },
      {
        "duration": 73,
        "start_time": "2023-01-04T04:40:35.060Z"
      },
      {
        "duration": 5,
        "start_time": "2023-01-04T04:46:42.330Z"
      },
      {
        "duration": 4,
        "start_time": "2023-01-04T04:52:11.295Z"
      },
      {
        "duration": 6,
        "start_time": "2023-01-04T04:56:29.121Z"
      },
      {
        "duration": 51,
        "start_time": "2023-01-05T05:27:22.624Z"
      },
      {
        "duration": 1407,
        "start_time": "2023-01-05T05:52:41.531Z"
      },
      {
        "duration": 87,
        "start_time": "2023-01-05T05:52:42.940Z"
      },
      {
        "duration": 7,
        "start_time": "2023-01-05T05:52:43.028Z"
      },
      {
        "duration": 104,
        "start_time": "2023-01-05T05:52:43.120Z"
      },
      {
        "duration": 5,
        "start_time": "2023-01-05T05:52:43.225Z"
      },
      {
        "duration": 8,
        "start_time": "2023-01-05T05:52:43.232Z"
      },
      {
        "duration": 1329,
        "start_time": "2023-01-05T09:41:59.947Z"
      },
      {
        "duration": 45,
        "start_time": "2023-01-05T09:42:01.278Z"
      },
      {
        "duration": 7,
        "start_time": "2023-01-05T09:42:01.325Z"
      },
      {
        "duration": 107,
        "start_time": "2023-01-05T09:42:01.334Z"
      },
      {
        "duration": 24,
        "start_time": "2023-01-05T09:42:01.522Z"
      },
      {
        "duration": 28,
        "start_time": "2023-01-05T09:42:01.548Z"
      },
      {
        "duration": 4,
        "start_time": "2023-01-05T09:43:53.529Z"
      },
      {
        "duration": 294,
        "start_time": "2023-01-05T09:49:11.110Z"
      },
      {
        "duration": 1366,
        "start_time": "2023-01-05T09:50:15.172Z"
      },
      {
        "duration": 42,
        "start_time": "2023-01-05T09:50:16.540Z"
      },
      {
        "duration": 6,
        "start_time": "2023-01-05T09:50:16.586Z"
      },
      {
        "duration": 7,
        "start_time": "2023-01-05T09:50:16.623Z"
      },
      {
        "duration": 90,
        "start_time": "2023-01-05T09:50:16.632Z"
      },
      {
        "duration": 4,
        "start_time": "2023-01-05T09:50:16.724Z"
      },
      {
        "duration": 27,
        "start_time": "2023-01-05T09:50:16.729Z"
      },
      {
        "duration": 162,
        "start_time": "2023-01-05T09:50:16.758Z"
      },
      {
        "duration": 1464,
        "start_time": "2023-01-06T09:55:01.360Z"
      },
      {
        "duration": 94,
        "start_time": "2023-01-06T09:55:02.826Z"
      },
      {
        "duration": 10,
        "start_time": "2023-01-06T09:55:02.921Z"
      },
      {
        "duration": 70,
        "start_time": "2023-01-06T09:55:02.935Z"
      },
      {
        "duration": 4,
        "start_time": "2023-01-06T09:55:03.097Z"
      },
      {
        "duration": 15,
        "start_time": "2023-01-06T09:55:03.102Z"
      },
      {
        "duration": 7,
        "start_time": "2023-01-06T09:55:03.118Z"
      },
      {
        "duration": 31,
        "start_time": "2023-01-06T09:55:03.126Z"
      },
      {
        "duration": 1362,
        "start_time": "2023-01-06T14:41:06.605Z"
      },
      {
        "duration": 109,
        "start_time": "2023-01-06T14:41:07.969Z"
      },
      {
        "duration": 8,
        "start_time": "2023-01-06T14:41:08.080Z"
      },
      {
        "duration": 7,
        "start_time": "2023-01-06T14:41:08.096Z"
      },
      {
        "duration": 95,
        "start_time": "2023-01-06T14:41:08.107Z"
      },
      {
        "duration": 95,
        "start_time": "2023-01-06T14:41:08.205Z"
      },
      {
        "duration": 5,
        "start_time": "2023-01-06T14:41:08.302Z"
      },
      {
        "duration": 19,
        "start_time": "2023-01-06T14:41:08.309Z"
      },
      {
        "duration": 7,
        "start_time": "2023-01-06T14:44:38.923Z"
      },
      {
        "duration": 8,
        "start_time": "2023-01-06T14:46:02.943Z"
      },
      {
        "duration": 261,
        "start_time": "2023-01-06T14:49:53.609Z"
      },
      {
        "duration": 85,
        "start_time": "2023-01-06T14:52:47.312Z"
      },
      {
        "duration": 9,
        "start_time": "2023-01-06T14:53:57.365Z"
      },
      {
        "duration": 1248,
        "start_time": "2023-01-06T16:53:34.985Z"
      },
      {
        "duration": 42,
        "start_time": "2023-01-06T16:53:36.235Z"
      },
      {
        "duration": 5,
        "start_time": "2023-01-06T16:53:36.278Z"
      },
      {
        "duration": 32,
        "start_time": "2023-01-06T16:53:36.285Z"
      },
      {
        "duration": 86,
        "start_time": "2023-01-06T16:53:36.319Z"
      },
      {
        "duration": 7,
        "start_time": "2023-01-06T16:53:36.406Z"
      },
      {
        "duration": 10,
        "start_time": "2023-01-06T16:53:36.414Z"
      },
      {
        "duration": 8,
        "start_time": "2023-01-06T16:53:36.426Z"
      },
      {
        "duration": 73,
        "start_time": "2023-01-06T16:53:36.436Z"
      },
      {
        "duration": 112,
        "start_time": "2023-01-06T17:02:42.143Z"
      },
      {
        "duration": 5,
        "start_time": "2023-01-06T17:03:00.258Z"
      },
      {
        "duration": 8,
        "start_time": "2023-01-06T17:04:34.859Z"
      },
      {
        "duration": 4,
        "start_time": "2023-01-06T17:24:51.107Z"
      },
      {
        "duration": 5,
        "start_time": "2023-01-06T17:28:40.417Z"
      },
      {
        "duration": 4,
        "start_time": "2023-01-06T17:31:40.824Z"
      },
      {
        "duration": 5,
        "start_time": "2023-01-06T17:34:03.857Z"
      },
      {
        "duration": 13,
        "start_time": "2023-01-06T17:35:47.685Z"
      },
      {
        "duration": 8,
        "start_time": "2023-01-06T17:37:17.707Z"
      },
      {
        "duration": 61,
        "start_time": "2023-01-06T17:38:34.557Z"
      },
      {
        "duration": 1340,
        "start_time": "2023-01-07T12:44:28.124Z"
      },
      {
        "duration": 99,
        "start_time": "2023-01-07T12:44:29.465Z"
      },
      {
        "duration": 5,
        "start_time": "2023-01-07T12:44:29.566Z"
      },
      {
        "duration": 144,
        "start_time": "2023-01-07T12:44:29.573Z"
      },
      {
        "duration": 16,
        "start_time": "2023-01-07T12:44:29.718Z"
      },
      {
        "duration": 10,
        "start_time": "2023-01-07T12:44:29.735Z"
      },
      {
        "duration": 23,
        "start_time": "2023-01-07T12:44:29.747Z"
      },
      {
        "duration": 24,
        "start_time": "2023-01-07T12:44:29.771Z"
      },
      {
        "duration": 13,
        "start_time": "2023-01-07T12:44:29.796Z"
      },
      {
        "duration": 110,
        "start_time": "2023-01-07T12:44:29.815Z"
      },
      {
        "duration": 111,
        "start_time": "2023-01-07T12:44:29.928Z"
      },
      {
        "duration": 21,
        "start_time": "2023-01-07T12:44:30.113Z"
      },
      {
        "duration": 18,
        "start_time": "2023-01-07T12:44:30.135Z"
      },
      {
        "duration": 11,
        "start_time": "2023-01-07T12:44:30.155Z"
      },
      {
        "duration": 11,
        "start_time": "2023-01-07T12:45:26.542Z"
      },
      {
        "duration": 3,
        "start_time": "2023-01-07T12:48:09.581Z"
      },
      {
        "duration": 116,
        "start_time": "2023-01-07T12:52:36.265Z"
      },
      {
        "duration": 17,
        "start_time": "2023-01-07T12:54:14.604Z"
      },
      {
        "duration": 21,
        "start_time": "2023-01-07T12:57:58.153Z"
      },
      {
        "duration": 22,
        "start_time": "2023-01-07T13:01:07.783Z"
      },
      {
        "duration": 20,
        "start_time": "2023-01-07T13:02:55.300Z"
      },
      {
        "duration": 19,
        "start_time": "2023-01-07T13:03:26.452Z"
      },
      {
        "duration": 22,
        "start_time": "2023-01-07T13:04:33.850Z"
      },
      {
        "duration": 23,
        "start_time": "2023-01-07T13:09:10.905Z"
      },
      {
        "duration": 66,
        "start_time": "2023-01-07T13:09:12.279Z"
      },
      {
        "duration": 21,
        "start_time": "2023-01-07T13:10:51.056Z"
      },
      {
        "duration": 104,
        "start_time": "2023-01-07T13:11:50.016Z"
      },
      {
        "duration": 11,
        "start_time": "2023-01-07T13:12:27.996Z"
      },
      {
        "duration": 11,
        "start_time": "2023-01-07T13:18:33.570Z"
      },
      {
        "duration": 8,
        "start_time": "2023-01-07T13:23:19.523Z"
      },
      {
        "duration": 6,
        "start_time": "2023-01-07T13:26:12.796Z"
      },
      {
        "duration": 9,
        "start_time": "2023-01-07T13:31:34.200Z"
      },
      {
        "duration": 6,
        "start_time": "2023-01-07T13:32:16.424Z"
      },
      {
        "duration": 6,
        "start_time": "2023-01-07T13:37:11.467Z"
      },
      {
        "duration": 6,
        "start_time": "2023-01-07T13:42:32.589Z"
      },
      {
        "duration": 8,
        "start_time": "2023-01-07T13:43:33.225Z"
      },
      {
        "duration": 7,
        "start_time": "2023-01-07T13:44:38.578Z"
      },
      {
        "duration": 7,
        "start_time": "2023-01-07T13:45:48.059Z"
      },
      {
        "duration": 49,
        "start_time": "2023-01-07T18:32:41.692Z"
      },
      {
        "duration": 44,
        "start_time": "2023-01-07T18:36:11.916Z"
      },
      {
        "duration": 1332,
        "start_time": "2023-01-07T18:49:30.472Z"
      },
      {
        "duration": 85,
        "start_time": "2023-01-07T18:49:31.806Z"
      },
      {
        "duration": 6,
        "start_time": "2023-01-07T18:49:31.893Z"
      },
      {
        "duration": 109,
        "start_time": "2023-01-07T18:49:31.920Z"
      },
      {
        "duration": 5,
        "start_time": "2023-01-07T18:49:32.031Z"
      },
      {
        "duration": 6,
        "start_time": "2023-01-07T18:49:32.038Z"
      },
      {
        "duration": 7,
        "start_time": "2023-01-07T18:49:32.045Z"
      },
      {
        "duration": 8,
        "start_time": "2023-01-07T18:49:32.053Z"
      },
      {
        "duration": 60,
        "start_time": "2023-01-07T18:49:32.062Z"
      },
      {
        "duration": 107,
        "start_time": "2023-01-07T18:49:32.125Z"
      },
      {
        "duration": 90,
        "start_time": "2023-01-07T18:49:32.235Z"
      },
      {
        "duration": 94,
        "start_time": "2023-01-07T18:49:32.328Z"
      },
      {
        "duration": 5,
        "start_time": "2023-01-07T18:49:32.424Z"
      },
      {
        "duration": 10,
        "start_time": "2023-01-07T18:49:32.431Z"
      },
      {
        "duration": 85,
        "start_time": "2023-01-07T18:49:32.443Z"
      },
      {
        "duration": 196,
        "start_time": "2023-01-07T18:49:32.529Z"
      },
      {
        "duration": 10,
        "start_time": "2023-01-07T18:49:32.727Z"
      },
      {
        "duration": 1392,
        "start_time": "2023-01-08T13:20:41.333Z"
      },
      {
        "duration": 97,
        "start_time": "2023-01-08T13:20:42.727Z"
      },
      {
        "duration": 8,
        "start_time": "2023-01-08T13:20:42.826Z"
      },
      {
        "duration": 141,
        "start_time": "2023-01-08T13:20:42.838Z"
      },
      {
        "duration": 6,
        "start_time": "2023-01-08T13:20:42.980Z"
      },
      {
        "duration": 10,
        "start_time": "2023-01-08T13:20:42.987Z"
      },
      {
        "duration": 8,
        "start_time": "2023-01-08T13:20:43.000Z"
      },
      {
        "duration": 10,
        "start_time": "2023-01-08T13:20:43.009Z"
      },
      {
        "duration": 58,
        "start_time": "2023-01-08T13:20:43.021Z"
      },
      {
        "duration": 108,
        "start_time": "2023-01-08T13:20:43.082Z"
      },
      {
        "duration": 6,
        "start_time": "2023-01-08T13:20:43.193Z"
      },
      {
        "duration": 7,
        "start_time": "2023-01-08T13:20:43.276Z"
      },
      {
        "duration": 96,
        "start_time": "2023-01-08T13:20:43.285Z"
      },
      {
        "duration": 6,
        "start_time": "2023-01-08T13:20:43.383Z"
      },
      {
        "duration": 85,
        "start_time": "2023-01-08T13:20:43.390Z"
      },
      {
        "duration": 101,
        "start_time": "2023-01-08T13:20:43.481Z"
      },
      {
        "duration": 9,
        "start_time": "2023-01-08T13:20:43.584Z"
      },
      {
        "duration": 1321,
        "start_time": "2023-01-08T14:52:22.540Z"
      },
      {
        "duration": 52,
        "start_time": "2023-01-08T14:52:23.863Z"
      },
      {
        "duration": 6,
        "start_time": "2023-01-08T14:52:23.917Z"
      },
      {
        "duration": 54,
        "start_time": "2023-01-08T14:52:23.925Z"
      },
      {
        "duration": 5,
        "start_time": "2023-01-08T14:52:23.981Z"
      },
      {
        "duration": 92,
        "start_time": "2023-01-08T14:52:23.988Z"
      },
      {
        "duration": 27,
        "start_time": "2023-01-08T14:52:24.082Z"
      },
      {
        "duration": 10,
        "start_time": "2023-01-08T14:52:24.111Z"
      },
      {
        "duration": 63,
        "start_time": "2023-01-08T14:52:24.123Z"
      },
      {
        "duration": 121,
        "start_time": "2023-01-08T14:52:24.190Z"
      },
      {
        "duration": 64,
        "start_time": "2023-01-08T14:52:24.313Z"
      },
      {
        "duration": 6,
        "start_time": "2023-01-08T14:52:24.379Z"
      },
      {
        "duration": 109,
        "start_time": "2023-01-08T14:52:24.386Z"
      },
      {
        "duration": 8,
        "start_time": "2023-01-08T14:52:24.497Z"
      },
      {
        "duration": 70,
        "start_time": "2023-01-08T14:52:24.507Z"
      },
      {
        "duration": 118,
        "start_time": "2023-01-08T14:52:24.584Z"
      },
      {
        "duration": 73,
        "start_time": "2023-01-08T14:52:24.705Z"
      },
      {
        "duration": 1371,
        "start_time": "2023-01-08T14:56:06.556Z"
      },
      {
        "duration": 42,
        "start_time": "2023-01-08T14:56:07.929Z"
      },
      {
        "duration": 20,
        "start_time": "2023-01-08T14:56:07.973Z"
      },
      {
        "duration": 105,
        "start_time": "2023-01-08T14:56:07.998Z"
      },
      {
        "duration": 72,
        "start_time": "2023-01-08T14:56:08.106Z"
      },
      {
        "duration": 6,
        "start_time": "2023-01-08T14:56:08.183Z"
      },
      {
        "duration": 14,
        "start_time": "2023-01-08T14:56:08.191Z"
      },
      {
        "duration": 9,
        "start_time": "2023-01-08T14:56:08.207Z"
      },
      {
        "duration": 63,
        "start_time": "2023-01-08T14:56:08.217Z"
      },
      {
        "duration": 113,
        "start_time": "2023-01-08T14:56:08.286Z"
      },
      {
        "duration": 81,
        "start_time": "2023-01-08T14:56:08.402Z"
      },
      {
        "duration": 96,
        "start_time": "2023-01-08T14:56:08.485Z"
      },
      {
        "duration": 33,
        "start_time": "2023-01-08T14:56:08.583Z"
      },
      {
        "duration": 30,
        "start_time": "2023-01-08T14:56:08.618Z"
      },
      {
        "duration": 46,
        "start_time": "2023-01-08T14:56:08.649Z"
      },
      {
        "duration": 192,
        "start_time": "2023-01-08T14:56:08.699Z"
      },
      {
        "duration": 118,
        "start_time": "2023-01-08T14:56:08.893Z"
      },
      {
        "duration": 2267,
        "start_time": "2023-01-08T15:09:04.211Z"
      },
      {
        "duration": 44,
        "start_time": "2023-01-08T15:09:06.480Z"
      },
      {
        "duration": 15,
        "start_time": "2023-01-08T15:09:06.526Z"
      },
      {
        "duration": 109,
        "start_time": "2023-01-08T15:09:06.599Z"
      },
      {
        "duration": 25,
        "start_time": "2023-01-08T15:09:06.709Z"
      },
      {
        "duration": 78,
        "start_time": "2023-01-08T15:09:06.736Z"
      },
      {
        "duration": 27,
        "start_time": "2023-01-08T15:09:06.816Z"
      },
      {
        "duration": 24,
        "start_time": "2023-01-08T15:09:06.845Z"
      },
      {
        "duration": 26,
        "start_time": "2023-01-08T15:09:06.871Z"
      },
      {
        "duration": 210,
        "start_time": "2023-01-08T15:09:06.900Z"
      },
      {
        "duration": 6,
        "start_time": "2023-01-08T15:09:07.113Z"
      },
      {
        "duration": 105,
        "start_time": "2023-01-08T15:09:07.197Z"
      },
      {
        "duration": 7,
        "start_time": "2023-01-08T15:09:07.304Z"
      },
      {
        "duration": 18,
        "start_time": "2023-01-08T15:09:07.313Z"
      },
      {
        "duration": 7,
        "start_time": "2023-01-08T15:09:07.332Z"
      },
      {
        "duration": 168,
        "start_time": "2023-01-08T15:09:07.341Z"
      },
      {
        "duration": 96,
        "start_time": "2023-01-08T15:09:07.514Z"
      },
      {
        "duration": 1467,
        "start_time": "2023-01-09T05:51:54.745Z"
      },
      {
        "duration": 88,
        "start_time": "2023-01-09T05:51:56.214Z"
      },
      {
        "duration": 6,
        "start_time": "2023-01-09T05:51:56.304Z"
      },
      {
        "duration": 90,
        "start_time": "2023-01-09T05:51:56.313Z"
      },
      {
        "duration": 95,
        "start_time": "2023-01-09T05:51:56.405Z"
      },
      {
        "duration": 5,
        "start_time": "2023-01-09T05:51:56.502Z"
      },
      {
        "duration": 9,
        "start_time": "2023-01-09T05:51:56.508Z"
      },
      {
        "duration": 8,
        "start_time": "2023-01-09T05:51:56.518Z"
      },
      {
        "duration": 78,
        "start_time": "2023-01-09T05:51:56.528Z"
      },
      {
        "duration": 106,
        "start_time": "2023-01-09T05:51:56.609Z"
      },
      {
        "duration": 91,
        "start_time": "2023-01-09T05:51:56.717Z"
      },
      {
        "duration": 93,
        "start_time": "2023-01-09T05:51:56.811Z"
      },
      {
        "duration": 93,
        "start_time": "2023-01-09T05:51:56.907Z"
      },
      {
        "duration": 11,
        "start_time": "2023-01-09T05:51:57.003Z"
      },
      {
        "duration": 17,
        "start_time": "2023-01-09T05:51:57.015Z"
      },
      {
        "duration": 169,
        "start_time": "2023-01-09T05:51:57.034Z"
      },
      {
        "duration": 97,
        "start_time": "2023-01-09T05:51:57.205Z"
      },
      {
        "duration": 8,
        "start_time": "2023-01-09T05:53:05.962Z"
      },
      {
        "duration": 13,
        "start_time": "2023-01-09T05:53:56.578Z"
      },
      {
        "duration": 1209,
        "start_time": "2023-01-09T08:47:38.361Z"
      },
      {
        "duration": 34,
        "start_time": "2023-01-09T08:47:39.572Z"
      },
      {
        "duration": 12,
        "start_time": "2023-01-09T08:47:39.607Z"
      },
      {
        "duration": 5,
        "start_time": "2023-01-09T08:47:39.621Z"
      },
      {
        "duration": 72,
        "start_time": "2023-01-09T08:47:39.628Z"
      },
      {
        "duration": 10,
        "start_time": "2023-01-09T08:47:39.702Z"
      },
      {
        "duration": 4,
        "start_time": "2023-01-09T08:47:39.798Z"
      },
      {
        "duration": 12,
        "start_time": "2023-01-09T08:47:39.803Z"
      },
      {
        "duration": 14,
        "start_time": "2023-01-09T08:47:39.817Z"
      },
      {
        "duration": 65,
        "start_time": "2023-01-09T08:47:39.834Z"
      },
      {
        "duration": 107,
        "start_time": "2023-01-09T08:47:39.901Z"
      },
      {
        "duration": 6,
        "start_time": "2023-01-09T08:47:40.011Z"
      },
      {
        "duration": 87,
        "start_time": "2023-01-09T08:47:40.018Z"
      },
      {
        "duration": 95,
        "start_time": "2023-01-09T08:47:40.107Z"
      },
      {
        "duration": 7,
        "start_time": "2023-01-09T08:47:40.204Z"
      },
      {
        "duration": 9,
        "start_time": "2023-01-09T08:47:40.212Z"
      },
      {
        "duration": 178,
        "start_time": "2023-01-09T08:47:40.223Z"
      },
      {
        "duration": 93,
        "start_time": "2023-01-09T08:47:40.404Z"
      },
      {
        "duration": 76,
        "start_time": "2023-01-09T09:43:15.045Z"
      },
      {
        "duration": 1248,
        "start_time": "2023-01-09T09:52:11.325Z"
      },
      {
        "duration": 32,
        "start_time": "2023-01-09T09:52:12.575Z"
      },
      {
        "duration": 13,
        "start_time": "2023-01-09T09:52:12.609Z"
      },
      {
        "duration": 10,
        "start_time": "2023-01-09T09:52:12.625Z"
      },
      {
        "duration": 64,
        "start_time": "2023-01-09T09:52:12.637Z"
      },
      {
        "duration": 95,
        "start_time": "2023-01-09T09:52:12.704Z"
      },
      {
        "duration": 8,
        "start_time": "2023-01-09T09:52:12.801Z"
      },
      {
        "duration": 13,
        "start_time": "2023-01-09T09:52:12.811Z"
      },
      {
        "duration": 8,
        "start_time": "2023-01-09T09:52:12.826Z"
      },
      {
        "duration": 65,
        "start_time": "2023-01-09T09:52:12.836Z"
      },
      {
        "duration": 99,
        "start_time": "2023-01-09T09:52:12.903Z"
      },
      {
        "duration": 8,
        "start_time": "2023-01-09T09:52:13.004Z"
      },
      {
        "duration": 6,
        "start_time": "2023-01-09T09:52:13.098Z"
      },
      {
        "duration": 92,
        "start_time": "2023-01-09T09:52:13.106Z"
      },
      {
        "duration": 6,
        "start_time": "2023-01-09T09:52:13.200Z"
      },
      {
        "duration": 15,
        "start_time": "2023-01-09T09:52:13.207Z"
      },
      {
        "duration": 112,
        "start_time": "2023-01-09T09:52:13.299Z"
      },
      {
        "duration": 93,
        "start_time": "2023-01-09T09:52:13.414Z"
      },
      {
        "duration": 42,
        "start_time": "2023-01-09T10:05:26.313Z"
      },
      {
        "duration": 46,
        "start_time": "2023-01-09T10:06:18.456Z"
      },
      {
        "duration": 1290,
        "start_time": "2023-01-09T10:14:59.897Z"
      },
      {
        "duration": 33,
        "start_time": "2023-01-09T10:15:01.189Z"
      },
      {
        "duration": 23,
        "start_time": "2023-01-09T10:15:01.224Z"
      },
      {
        "duration": 23,
        "start_time": "2023-01-09T10:15:01.248Z"
      },
      {
        "duration": 127,
        "start_time": "2023-01-09T10:15:01.273Z"
      },
      {
        "duration": 24,
        "start_time": "2023-01-09T10:15:01.401Z"
      },
      {
        "duration": 16,
        "start_time": "2023-01-09T10:15:01.426Z"
      },
      {
        "duration": 28,
        "start_time": "2023-01-09T10:15:01.444Z"
      },
      {
        "duration": 15,
        "start_time": "2023-01-09T10:15:01.474Z"
      },
      {
        "duration": 14,
        "start_time": "2023-01-09T10:15:01.492Z"
      },
      {
        "duration": 90,
        "start_time": "2023-01-09T10:15:01.508Z"
      },
      {
        "duration": 122,
        "start_time": "2023-01-09T10:15:01.602Z"
      },
      {
        "duration": 11,
        "start_time": "2023-01-09T10:15:01.726Z"
      },
      {
        "duration": 10,
        "start_time": "2023-01-09T10:15:01.801Z"
      },
      {
        "duration": 22,
        "start_time": "2023-01-09T10:15:01.897Z"
      },
      {
        "duration": 18,
        "start_time": "2023-01-09T10:15:01.921Z"
      },
      {
        "duration": 34,
        "start_time": "2023-01-09T10:15:01.941Z"
      },
      {
        "duration": 140,
        "start_time": "2023-01-09T10:15:01.977Z"
      },
      {
        "duration": 180,
        "start_time": "2023-01-09T10:15:02.122Z"
      },
      {
        "duration": 19,
        "start_time": "2023-01-09T11:54:46.612Z"
      },
      {
        "duration": 15,
        "start_time": "2023-01-09T12:07:55.793Z"
      }
    ],
    "kernelspec": {
      "display_name": "Python 3 (ipykernel)",
      "language": "python",
      "name": "python3"
    },
    "language_info": {
      "codemirror_mode": {
        "name": "ipython",
        "version": 3
      },
      "file_extension": ".py",
      "mimetype": "text/x-python",
      "name": "python",
      "nbconvert_exporter": "python",
      "pygments_lexer": "ipython3",
      "version": "3.9.5"
    },
    "toc": {
      "base_numbering": 1,
      "nav_menu": {},
      "number_sections": true,
      "sideBar": true,
      "skip_h1_title": true,
      "title_cell": "Содержание",
      "title_sidebar": "Contents",
      "toc_cell": true,
      "toc_position": {},
      "toc_section_display": true,
      "toc_window_display": false
    },
    "colab": {
      "provenance": [],
      "include_colab_link": true
    }
  },
  "nbformat": 4,
  "nbformat_minor": 0
}
