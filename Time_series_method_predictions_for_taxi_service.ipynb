{
  "cells": [
    {
      "cell_type": "markdown",
      "metadata": {
        "id": "view-in-github",
        "colab_type": "text"
      },
      "source": [
        "<a href=\"https://colab.research.google.com/github/MariaPetrovskaya/Data-Science-demo/blob/main/Time_series_method_predictions_for_taxi_service.ipynb\" target=\"_parent\"><img src=\"https://colab.research.google.com/assets/colab-badge.svg\" alt=\"Open In Colab\"/></a>"
      ]
    },
    {
      "cell_type": "markdown",
      "metadata": {
        "id": "3OmBVD1lcd-8"
      },
      "source": [
        "#  Прогнозирование заказов такси"
      ]
    },
    {
      "cell_type": "markdown",
      "metadata": {
        "id": "wexzJL2Icd-9"
      },
      "source": [
        "Компания «Чётенькое такси» собрала исторические данные о заказах такси в аэропортах. Чтобы привлекать больше водителей в период пиковой нагрузки, нужно спрогнозировать количество заказов такси на следующий час. Постройте модель для такого предсказания.\n",
        "\n",
        "Значение метрики *RMSE* на тестовой выборке должно быть не больше 48.\n",
        "\n",
        "Вам нужно:\n",
        "\n",
        "1. Загрузить данные и выполнить их ресемплирование по одному часу.\n",
        "2. Проанализировать данные.\n",
        "3. Обучить разные модели с различными гиперпараметрами. Сделать тестовую выборку размером 10% от исходных данных.\n",
        "4. Проверить данные на тестовой выборке и сделать выводы.\n",
        "\n",
        "\n",
        "Данные лежат в файле `taxi.csv`. Количество заказов находится в столбце `num_orders` (от англ. *number of orders*, «число заказов»)."
      ]
    },
    {
      "cell_type": "markdown",
      "metadata": {
        "id": "igppHUGUcd-9"
      },
      "source": [
        "## Подготовка"
      ]
    },
    {
      "cell_type": "code",
      "execution_count": null,
      "metadata": {
        "id": "TJ9TjsbPcd-9"
      },
      "outputs": [],
      "source": [
        "import pandas as pd\n",
        "import matplotlib.pyplot as plt\n",
        "import numpy as np\n",
        "\n",
        "from sklearn.model_selection import train_test_split\n",
        "from sklearn.linear_model import LinearRegression\n",
        "\n",
        "from sklearn.metrics import mean_squared_error\n",
        "from sklearn.tree import DecisionTreeRegressor\n",
        "from sklearn.ensemble import RandomForestRegressor\n",
        "from catboost import CatBoostRegressor\n",
        "from sklearn import metrics\n",
        "\n",
        "\n",
        "from datetime import datetime\n",
        "from statsmodels.tsa.seasonal import seasonal_decompose\n",
        "from sklearn.model_selection import cross_val_score\n",
        "from sklearn.metrics import make_scorer\n",
        "from sklearn.preprocessing import StandardScaler"
      ]
    },
    {
      "cell_type": "markdown",
      "metadata": {
        "id": "u9fko_Z0cd-_"
      },
      "source": [
        "<b> Результат: </b>загрузка всех библиотек"
      ]
    },
    {
      "cell_type": "code",
      "execution_count": null,
      "metadata": {
        "id": "C8KYy3Pucd-_",
        "outputId": "f0d0d456-2a16-4a1e-d0a7-e57860871a03"
      },
      "outputs": [
        {
          "name": "stdout",
          "output_type": "stream",
          "text": [
            "загрузка и знакомство с данными\n",
            "(26496, 2)\n",
            "<class 'pandas.core.frame.DataFrame'>\n",
            "RangeIndex: 26496 entries, 0 to 26495\n",
            "Data columns (total 2 columns):\n",
            " #   Column      Non-Null Count  Dtype \n",
            "---  ------      --------------  ----- \n",
            " 0   datetime    26496 non-null  object\n",
            " 1   num_orders  26496 non-null  int64 \n",
            "dtypes: int64(1), object(1)\n",
            "memory usage: 414.1+ KB\n",
            "None\n",
            "              datetime  num_orders\n",
            "0  2018-03-01 00:00:00           9\n",
            "1  2018-03-01 00:10:00          14\n",
            "2  2018-03-01 00:20:00          28\n",
            "3  2018-03-01 00:30:00          20\n",
            "4  2018-03-01 00:40:00          32\n"
          ]
        }
      ],
      "source": [
        "df = pd.read_csv('/datasets/taxi.csv')\n",
        "#data  = df.copy()\n",
        "#\n",
        "print('загрузка и знакомство с данными')\n",
        "print (df.shape)\n",
        "print (df.info())\n",
        "print (df.head())"
      ]
    },
    {
      "cell_type": "markdown",
      "metadata": {
        "id": "hbwsOLwwcd_A"
      },
      "source": [
        "<b> Результат: </b>Загружены данные и просмотрена основная информация по датасету."
      ]
    },
    {
      "cell_type": "code",
      "execution_count": null,
      "metadata": {
        "id": "EX2HubHqcd_B",
        "outputId": "4701b4df-5ec0-4d30-80fd-71e59971e33c"
      },
      "outputs": [
        {
          "name": "stdout",
          "output_type": "stream",
          "text": [
            "загрузка и знакомство с данными\n",
            "(26496, 1)\n",
            "<class 'pandas.core.frame.DataFrame'>\n",
            "DatetimeIndex: 26496 entries, 2018-03-01 00:00:00 to 2018-08-31 23:50:00\n",
            "Data columns (total 1 columns):\n",
            " #   Column      Non-Null Count  Dtype\n",
            "---  ------      --------------  -----\n",
            " 0   num_orders  26496 non-null  int64\n",
            "dtypes: int64(1)\n",
            "memory usage: 414.0 KB\n",
            "None\n",
            "                     num_orders\n",
            "datetime                       \n",
            "2018-03-01 00:00:00           9\n",
            "2018-03-01 00:10:00          14\n",
            "2018-03-01 00:20:00          28\n",
            "2018-03-01 00:30:00          20\n",
            "2018-03-01 00:40:00          32\n",
            "                     num_orders\n",
            "datetime                       \n",
            "2018-08-31 23:10:00          32\n",
            "2018-08-31 23:20:00          24\n",
            "2018-08-31 23:30:00          27\n",
            "2018-08-31 23:40:00          39\n",
            "2018-08-31 23:50:00          53\n"
          ]
        }
      ],
      "source": [
        "data = pd.read_csv('/datasets/taxi.csv', index_col=[0], parse_dates=[0])\n",
        "print('загрузка и знакомство с данными')\n",
        "print (data.shape)\n",
        "print (data.info())\n",
        "print (data.head())\n",
        "print (data.tail())"
      ]
    },
    {
      "cell_type": "markdown",
      "metadata": {
        "id": "3KoBL07xcd_C"
      },
      "source": [
        "**Результат** Данные загружены с сортировкой, столбец datetime  стал индексом"
      ]
    },
    {
      "cell_type": "code",
      "execution_count": null,
      "metadata": {
        "id": "7xE4fu0Ucd_C",
        "outputId": "16913881-cb55-4fb2-eab2-13ca8479acf0"
      },
      "outputs": [
        {
          "name": "stdout",
          "output_type": "stream",
          "text": [
            "True\n",
            "<class 'pandas.core.frame.DataFrame'>\n",
            "DatetimeIndex: 26496 entries, 2018-03-01 00:00:00 to 2018-08-31 23:50:00\n",
            "Data columns (total 1 columns):\n",
            " #   Column      Non-Null Count  Dtype\n",
            "---  ------      --------------  -----\n",
            " 0   num_orders  26496 non-null  int64\n",
            "dtypes: int64(1)\n",
            "memory usage: 414.0 KB\n",
            "None\n"
          ]
        }
      ],
      "source": [
        "data.sort_index(inplace=True) # < напишите код здесь >\n",
        "print(data.index.is_monotonic)\n",
        "print(data.info())# < напишите код здесь >"
      ]
    },
    {
      "cell_type": "markdown",
      "metadata": {
        "id": "Wmo0BTEJcd_C"
      },
      "source": [
        "**Результат** Проверка что индекс монотонный"
      ]
    },
    {
      "cell_type": "code",
      "execution_count": null,
      "metadata": {
        "id": "ALxtxEgucd_D",
        "outputId": "5184f275-993c-4b6d-d982-7ccd86d93481"
      },
      "outputs": [
        {
          "data": {
            "text/plain": [
              "<AxesSubplot:xlabel='datetime'>"
            ]
          },
          "execution_count": 5,
          "metadata": {},
          "output_type": "execute_result"
        },
        {
          "data": {
            "image/png": "[encoded data removed]",
            "text/plain": [
              "<Figure size 432x288 with 1 Axes>"
            ]
          },
          "metadata": {
            "needs_background": "light"
          },
          "output_type": "display_data"
        }
      ],
      "source": [
        "data.plot()"
      ]
    },
    {
      "cell_type": "code",
      "execution_count": null,
      "metadata": {
        "scrolled": true,
        "id": "CrevwTBecd_D",
        "outputId": "03ba084a-995b-43d6-c086-35df8dedfc21"
      },
      "outputs": [
        {
          "name": "stdout",
          "output_type": "stream",
          "text": [
            "(4416, 1)\n",
            "<class 'pandas.core.frame.DataFrame'>\n",
            "DatetimeIndex: 4416 entries, 2018-03-01 00:00:00 to 2018-08-31 23:00:00\n",
            "Freq: H\n",
            "Data columns (total 1 columns):\n",
            " #   Column      Non-Null Count  Dtype\n",
            "---  ------      --------------  -----\n",
            " 0   num_orders  4416 non-null   int64\n",
            "dtypes: int64(1)\n",
            "memory usage: 69.0 KB\n",
            "None\n",
            "                     num_orders\n",
            "datetime                       \n",
            "2018-03-01 00:00:00         124\n",
            "2018-03-01 01:00:00          85\n",
            "2018-03-01 02:00:00          71\n",
            "2018-03-01 03:00:00          66\n",
            "2018-03-01 04:00:00          43\n"
          ]
        },
        {
          "data": {
            "text/plain": [
              "<AxesSubplot:xlabel='datetime'>"
            ]
          },
          "execution_count": 6,
          "metadata": {},
          "output_type": "execute_result"
        },
        {
          "data": {
            "image/png": "[encoded data removed]",
            "text/plain": [
              "<Figure size 432x288 with 1 Axes>"
            ]
          },
          "metadata": {
            "needs_background": "light"
          },
          "output_type": "display_data"
        }
      ],
      "source": [
        "data = data.resample('1H').sum()\n",
        "print (data.shape)\n",
        "print (data.info())\n",
        "print (data.head())# < напишите код здесь >\n",
        "data.plot()"
      ]
    },
    {
      "cell_type": "markdown",
      "metadata": {
        "id": "-pKPoG5Acd_D"
      },
      "source": [
        "**Результат** Проведено ресемплирование по одному часу.Количество строк в датасете сократилось с 26496 до 4416"
      ]
    },
    {
      "cell_type": "code",
      "execution_count": null,
      "metadata": {
        "id": "Y_ogtPt1cd_E",
        "outputId": "7682d34d-eb41-45db-8a79-a17096be27ec"
      },
      "outputs": [
        {
          "data": {
            "image/png": "[encoded data removed]",
            "text/plain": [
              "<Figure size 432x576 with 3 Axes>"
            ]
          },
          "metadata": {
            "needs_background": "light"
          },
          "output_type": "display_data"
        }
      ],
      "source": [
        "decomposed = seasonal_decompose(data)\n",
        "\n",
        "plt.figure(figsize=(6, 8))\n",
        "plt.subplot(311)\n",
        "decomposed.trend.plot(ax=plt.gca())\n",
        "plt.title('Trend')\n",
        "plt.subplot(312)\n",
        "decomposed.seasonal['2018-03-01':'2018-08-31'].plot(ax=plt.gca())# < напишите код здесь >\n",
        "plt.title('Seasonality')\n",
        "plt.subplot(313)\n",
        "decomposed.resid.plot(ax=plt.gca())# < напишите код здесь >\n",
        "plt.title('Residuals')\n",
        "plt.tight_layout()\n"
      ]
    },
    {
      "cell_type": "markdown",
      "metadata": {
        "id": "C7NKn6jicd_E"
      },
      "source": [
        "**Результат** получился график тренда и 'Residuals', сезонные колебания - в рамках года не показательно"
      ]
    },
    {
      "cell_type": "markdown",
      "metadata": {
        "id": "l3-EAvEecd_E"
      },
      "source": [
        "## Анализ"
      ]
    },
    {
      "cell_type": "code",
      "execution_count": null,
      "metadata": {
        "id": "eyaB-NFscd_F",
        "outputId": "995aea68-4115-4916-f694-8764cc85f675"
      },
      "outputs": [
        {
          "name": "stdout",
          "output_type": "stream",
          "text": [
            "                     num_orders  month  day  dayofweek  hour  lag_1  lag_2  \\\n",
            "datetime                                                                     \n",
            "2018-03-01 00:00:00         124      3    1          3     0    NaN    NaN   \n",
            "2018-03-01 01:00:00          85      3    1          3     1  124.0    NaN   \n",
            "2018-03-01 02:00:00          71      3    1          3     2   85.0  124.0   \n",
            "2018-03-01 03:00:00          66      3    1          3     3   71.0   85.0   \n",
            "2018-03-01 04:00:00          43      3    1          3     4   66.0   71.0   \n",
            "\n",
            "                     lag_3  lag_4  rolling_mean  \n",
            "datetime                                         \n",
            "2018-03-01 00:00:00    NaN    NaN           NaN  \n",
            "2018-03-01 01:00:00    NaN    NaN           NaN  \n",
            "2018-03-01 02:00:00    NaN    NaN           NaN  \n",
            "2018-03-01 03:00:00  124.0    NaN           NaN  \n",
            "2018-03-01 04:00:00   85.0  124.0          86.5  \n",
            "                     num_orders  month  day  dayofweek  hour  lag_1  lag_2  \\\n",
            "datetime                                                                     \n",
            "2018-08-31 19:00:00         136      8   31          4    19  207.0  217.0   \n",
            "2018-08-31 20:00:00         154      8   31          4    20  136.0  207.0   \n",
            "2018-08-31 21:00:00         159      8   31          4    21  154.0  136.0   \n",
            "2018-08-31 22:00:00         223      8   31          4    22  159.0  154.0   \n",
            "2018-08-31 23:00:00         205      8   31          4    23  223.0  159.0   \n",
            "\n",
            "                     lag_3  lag_4  rolling_mean  \n",
            "datetime                                         \n",
            "2018-08-31 19:00:00  197.0  116.0        184.25  \n",
            "2018-08-31 20:00:00  217.0  197.0        189.25  \n",
            "2018-08-31 21:00:00  207.0  217.0        178.50  \n",
            "2018-08-31 22:00:00  136.0  207.0        164.00  \n",
            "2018-08-31 23:00:00  154.0  136.0        168.00  \n"
          ]
        }
      ],
      "source": [
        "def make_features(data, max_lag, rolling_mean_size):\n",
        "    data['month'] = data.index.month\n",
        "    data['day'] = data.index.day\n",
        "    data['dayofweek'] = data.index.dayofweek\n",
        "    data['hour'] = data.index.hour\n",
        "    \n",
        "    for lag in range(1, max_lag + 1):\n",
        "        data['lag_{}'.format(lag)] = data['num_orders'].shift(lag)\n",
        "\n",
        "    data['rolling_mean'] = data['num_orders'].shift().rolling(rolling_mean_size).mean()# < напишите код здесь >\n",
        "\n",
        "make_features(data, 4, 4)\n",
        "print(data.head())\n",
        "print(data.tail())"
      ]
    },
    {
      "cell_type": "markdown",
      "metadata": {
        "id": "vDcZZ6I_cd_F"
      },
      "source": [
        "**Результат** Создана функция,формирующая столбцы-признаки"
      ]
    },
    {
      "cell_type": "code",
      "execution_count": null,
      "metadata": {
        "scrolled": true,
        "id": "yTey9umvcd_F",
        "outputId": "e58908f9-671b-4e91-9ab0-24652493361d"
      },
      "outputs": [
        {
          "name": "stdout",
          "output_type": "stream",
          "text": [
            "features_train shape: (2980, 9)\n",
            "features_valid shape: (994, 9)\n",
            "features_test shape: (442, 9)\n",
            "\n",
            "target_train shape: (2980,)\n",
            "target_valid shape: (994,)\n",
            "target_test shape: (442,)\n"
          ]
        }
      ],
      "source": [
        "train_valid, test = train_test_split(data, shuffle=False, test_size=0.1)\n",
        "train, valid = train_test_split(train_valid, shuffle=False, test_size=0.25)\n",
        "\n",
        " \n",
        "\n",
        "features_train = train.drop(['num_orders'], axis=1)\n",
        "target_train = train['num_orders']\n",
        "features_valid = valid.drop(['num_orders'], axis=1)\n",
        "target_valid = valid['num_orders']\n",
        "features_test = test.drop(['num_orders'], axis=1)\n",
        "target_test = test['num_orders']\n",
        "print('features_train shape:', features_train.shape)\n",
        "print('features_valid shape:', features_valid.shape)\n",
        "print('features_test shape:', features_test.shape)\n",
        "print()\n",
        "print('target_train shape:', target_train.shape)\n",
        "print('target_valid shape:', target_valid.shape)\n",
        "print('target_test shape:', target_test.shape)"
      ]
    },
    {
      "cell_type": "markdown",
      "metadata": {
        "id": "fd4ojwpDcd_G"
      },
      "source": [
        "**Результат** Датасет разделен на обучающую, валидизационную и тестовую выборки без смешивания"
      ]
    },
    {
      "cell_type": "code",
      "execution_count": null,
      "metadata": {
        "id": "cBnMmgDVcd_G",
        "outputId": "ec33352c-a7f2-4d4a-c7b0-0f30fbfb9d28"
      },
      "outputs": [
        {
          "name": "stdout",
          "output_type": "stream",
          "text": [
            "features_train shape: (2976, 9)\n",
            "features_valid shape: (994, 9)\n",
            "features_test shape: (442, 9)\n",
            "\n",
            "target_train shape: (2976,)\n",
            "target_valid shape: (994,)\n",
            "target_test shape: (442,)\n"
          ]
        }
      ],
      "source": [
        "train = train.dropna()\n",
        "valid = valid.dropna()\n",
        "test = test.dropna()\n",
        "\n",
        "\n",
        "features_train = train.drop(['num_orders'], axis=1)\n",
        "target_train = train['num_orders']\n",
        "features_valid = valid.drop(['num_orders'], axis=1)\n",
        "target_valid = valid['num_orders']\n",
        "features_test = test.drop(['num_orders'], axis=1)\n",
        "target_test = test['num_orders']\n",
        "print('features_train shape:', features_train.shape)\n",
        "print('features_valid shape:', features_valid.shape)\n",
        "print('features_test shape:', features_test.shape)\n",
        "print()\n",
        "print('target_train shape:', target_train.shape)\n",
        "print('target_valid shape:', target_valid.shape)\n",
        "print('target_test shape:', target_test.shape)"
      ]
    },
    {
      "cell_type": "markdown",
      "metadata": {
        "id": "g3VTKNFecd_G"
      },
      "source": [
        "**Результат** Удалены пропуски"
      ]
    },
    {
      "cell_type": "code",
      "execution_count": null,
      "metadata": {
        "id": "MiapQwa6cd_H",
        "outputId": "df9397bd-1ad9-4b06-9ecb-ac3fa4002749"
      },
      "outputs": [
        {
          "name": "stdout",
          "output_type": "stream",
          "text": [
            "month\n",
            "day\n",
            "dayofweek\n",
            "hour\n",
            "lag_1\n",
            "lag_2\n",
            "lag_3\n",
            "lag_4\n",
            "rolling_mean\n"
          ]
        }
      ],
      "source": [
        "for column in features_train:\n",
        "    print(column)"
      ]
    },
    {
      "cell_type": "markdown",
      "metadata": {
        "id": "qBOHkCj-cd_I"
      },
      "source": [
        "## Обучение"
      ]
    },
    {
      "cell_type": "markdown",
      "metadata": {
        "id": "CF6ZolL7cd_I"
      },
      "source": [
        "**подбор модели на тренировочной выборке**"
      ]
    },
    {
      "cell_type": "code",
      "execution_count": null,
      "metadata": {
        "id": "wqArFWfRcd_I"
      },
      "outputs": [],
      "source": [
        "def rmse (target, predict):\n",
        "    rmse = mean_squared_error(target, predict)**0.5\n",
        "    return rmse"
      ]
    },
    {
      "cell_type": "code",
      "execution_count": null,
      "metadata": {
        "id": "mtu6OYIXcd_I",
        "outputId": "e8e97756-a558-4adf-c51e-7d9a99e72349"
      },
      "outputs": [
        {
          "name": "stdout",
          "output_type": "stream",
          "text": [
            "модель обучена\n",
            "CPU times: user 4.89 ms, sys: 149 µs, total: 5.04 ms\n",
            "Wall time: 3.93 ms\n"
          ]
        }
      ],
      "source": [
        "%%time\n",
        "model = LinearRegression()# < напишите код здесь >\n",
        "\n",
        "model.fit(features_train,target_train) # < обучите модель >\n",
        "print('модель обучена')"
      ]
    },
    {
      "cell_type": "code",
      "execution_count": null,
      "metadata": {
        "id": "T1sSQ3Ohcd_I",
        "outputId": "e9d6fbd8-05f0-46cf-9b58-4f83fb2687da"
      },
      "outputs": [
        {
          "name": "stdout",
          "output_type": "stream",
          "text": [
            "модель линейной регрессии с проверкой на валидизационной выборке\n",
            "RMSE обучающей выборки: 37.46172124377716\n",
            "CPU times: user 9.41 ms, sys: 243 µs, total: 9.66 ms\n",
            "Wall time: 4.56 ms\n"
          ]
        }
      ],
      "source": [
        "%%time\n",
        "predictions_train= model.predict(features_valid)\n",
        "result_train = mean_squared_error(target_valid,predictions_train)**0.5\n",
        "print ('модель линейной регрессии с проверкой на валидизационной выборке')\n",
        "print(\"RMSE обучающей выборки:\", result_train)"
      ]
    },
    {
      "cell_type": "code",
      "execution_count": null,
      "metadata": {
        "id": "fHnJXcFncd_J",
        "outputId": "21c7fa20-f3ef-4d24-ec5b-bc9216edeaef"
      },
      "outputs": [
        {
          "name": "stdout",
          "output_type": "stream",
          "text": [
            "RandomForestRegressor(max_depth=1, n_estimators=15, random_state=12345)\n",
            "RMSE модели случайного леса на обучающей выборке: 46.91784317489029\n",
            "RandomForestRegressor(max_depth=1, n_estimators=30, random_state=12345)\n",
            "RMSE модели случайного леса на обучающей выборке: 46.94453570610136\n",
            "RandomForestRegressor(max_depth=1, n_estimators=45, random_state=12345)\n",
            "RMSE модели случайного леса на обучающей выборке: 46.979655510969316\n",
            "RandomForestRegressor(max_depth=1, n_estimators=60, random_state=12345)\n",
            "RMSE модели случайного леса на обучающей выборке: 46.86063409528168\n",
            "RandomForestRegressor(max_depth=1, n_estimators=75, random_state=12345)\n",
            "RMSE модели случайного леса на обучающей выборке: 46.83191195364373\n",
            "RandomForestRegressor(max_depth=1, n_estimators=90, random_state=12345)\n",
            "RMSE модели случайного леса на обучающей выборке: 46.861982482909184\n",
            "RandomForestRegressor(max_depth=1, n_estimators=105, random_state=12345)\n",
            "RMSE модели случайного леса на обучающей выборке: 46.915751181986856\n",
            "RandomForestRegressor(max_depth=1, n_estimators=120, random_state=12345)\n",
            "RMSE модели случайного леса на обучающей выборке: 46.953797271120834\n",
            "RandomForestRegressor(max_depth=1, n_estimators=135, random_state=12345)\n",
            "RMSE модели случайного леса на обучающей выборке: 46.941229618435806\n",
            "RandomForestRegressor(max_depth=1, n_estimators=150, random_state=12345)\n",
            "RMSE модели случайного леса на обучающей выборке: 46.86215502355844\n",
            "RandomForestRegressor(max_depth=1, n_estimators=165, random_state=12345)\n",
            "RMSE модели случайного леса на обучающей выборке: 46.84345017300763\n",
            "RandomForestRegressor(max_depth=1, n_estimators=180, random_state=12345)\n",
            "RMSE модели случайного леса на обучающей выборке: 46.82905944754253\n",
            "RandomForestRegressor(max_depth=1, n_estimators=195, random_state=12345)\n",
            "RMSE модели случайного леса на обучающей выборке: 46.82792431567696\n",
            "RandomForestRegressor(max_depth=1, n_estimators=210, random_state=12345)\n",
            "RMSE модели случайного леса на обучающей выборке: 46.8271335864174\n",
            "RandomForestRegressor(max_depth=1, n_estimators=225, random_state=12345)\n",
            "RMSE модели случайного леса на обучающей выборке: 46.82787811819065\n",
            "RandomForestRegressor(max_depth=1, n_estimators=240, random_state=12345)\n",
            "RMSE модели случайного леса на обучающей выборке: 46.85861934797974\n",
            "RandomForestRegressor(max_depth=1, n_estimators=255, random_state=12345)\n",
            "RMSE модели случайного леса на обучающей выборке: 46.869543196038755\n",
            "RandomForestRegressor(max_depth=1, n_estimators=270, random_state=12345)\n",
            "RMSE модели случайного леса на обучающей выборке: 46.86983573562996\n",
            "RandomForestRegressor(max_depth=1, n_estimators=285, random_state=12345)\n",
            "RMSE модели случайного леса на обучающей выборке: 46.84785237050501\n",
            "RandomForestRegressor(max_depth=1, n_estimators=300, random_state=12345)\n",
            "RMSE модели случайного леса на обучающей выборке: 46.851592361078445\n",
            "RandomForestRegressor(max_depth=1, n_estimators=315, random_state=12345)\n",
            "RMSE модели случайного леса на обучающей выборке: 46.85131894236413\n",
            "RandomForestRegressor(max_depth=1, n_estimators=330, random_state=12345)\n",
            "RMSE модели случайного леса на обучающей выборке: 46.852410040971954\n",
            "RandomForestRegressor(max_depth=1, n_estimators=345, random_state=12345)\n",
            "RMSE модели случайного леса на обучающей выборке: 46.8175998998704\n",
            "RandomForestRegressor(max_depth=2, n_estimators=15, random_state=12345)\n",
            "RMSE модели случайного леса на обучающей выборке: 45.151866990758045\n",
            "RandomForestRegressor(max_depth=2, n_estimators=30, random_state=12345)\n",
            "RMSE модели случайного леса на обучающей выборке: 44.99067313681727\n",
            "RandomForestRegressor(max_depth=2, n_estimators=45, random_state=12345)\n",
            "RMSE модели случайного леса на обучающей выборке: 44.99009733418665\n",
            "RandomForestRegressor(max_depth=2, n_estimators=60, random_state=12345)\n",
            "RMSE модели случайного леса на обучающей выборке: 44.94816937050197\n",
            "RandomForestRegressor(max_depth=2, n_estimators=75, random_state=12345)\n",
            "RMSE модели случайного леса на обучающей выборке: 44.93316142783803\n",
            "RandomForestRegressor(max_depth=2, n_estimators=90, random_state=12345)\n",
            "RMSE модели случайного леса на обучающей выборке: 44.98277461872736\n",
            "RandomForestRegressor(max_depth=2, n_estimators=105, random_state=12345)\n",
            "RMSE модели случайного леса на обучающей выборке: 45.034485170761435\n",
            "RandomForestRegressor(max_depth=2, n_estimators=120, random_state=12345)\n",
            "RMSE модели случайного леса на обучающей выборке: 45.04072932645108\n",
            "RandomForestRegressor(max_depth=2, n_estimators=135, random_state=12345)\n",
            "RMSE модели случайного леса на обучающей выборке: 45.032254475922116\n",
            "RandomForestRegressor(max_depth=2, n_estimators=150, random_state=12345)\n",
            "RMSE модели случайного леса на обучающей выборке: 44.95831788426275\n",
            "RandomForestRegressor(max_depth=2, n_estimators=165, random_state=12345)\n",
            "RMSE модели случайного леса на обучающей выборке: 44.943151807934825\n",
            "RandomForestRegressor(max_depth=2, n_estimators=180, random_state=12345)\n",
            "RMSE модели случайного леса на обучающей выборке: 44.93929006242993\n",
            "RandomForestRegressor(max_depth=2, n_estimators=195, random_state=12345)\n",
            "RMSE модели случайного леса на обучающей выборке: 44.95188861557773\n",
            "RandomForestRegressor(max_depth=2, n_estimators=210, random_state=12345)\n",
            "RMSE модели случайного леса на обучающей выборке: 44.96578465134091\n",
            "RandomForestRegressor(max_depth=2, n_estimators=225, random_state=12345)\n",
            "RMSE модели случайного леса на обучающей выборке: 44.97076774159059\n",
            "RandomForestRegressor(max_depth=2, n_estimators=240, random_state=12345)\n",
            "RMSE модели случайного леса на обучающей выборке: 44.9930009227423\n",
            "RandomForestRegressor(max_depth=2, n_estimators=255, random_state=12345)\n",
            "RMSE модели случайного леса на обучающей выборке: 45.01037065559402\n",
            "RandomForestRegressor(max_depth=2, n_estimators=270, random_state=12345)\n",
            "RMSE модели случайного леса на обучающей выборке: 44.99979195116734\n",
            "RandomForestRegressor(max_depth=2, n_estimators=285, random_state=12345)\n",
            "RMSE модели случайного леса на обучающей выборке: 44.967026815700684\n",
            "RandomForestRegressor(max_depth=2, n_estimators=300, random_state=12345)\n",
            "RMSE модели случайного леса на обучающей выборке: 44.97500514871274\n",
            "RandomForestRegressor(max_depth=2, n_estimators=315, random_state=12345)\n",
            "RMSE модели случайного леса на обучающей выборке: 44.967636426750694\n",
            "RandomForestRegressor(max_depth=2, n_estimators=330, random_state=12345)\n",
            "RMSE модели случайного леса на обучающей выборке: 44.975319010236895\n",
            "RandomForestRegressor(max_depth=2, n_estimators=345, random_state=12345)\n",
            "RMSE модели случайного леса на обучающей выборке: 44.93648996566931\n",
            "RandomForestRegressor(max_depth=3, n_estimators=15, random_state=12345)\n",
            "RMSE модели случайного леса на обучающей выборке: 41.273291835580444\n",
            "RandomForestRegressor(max_depth=3, n_estimators=30, random_state=12345)\n",
            "RMSE модели случайного леса на обучающей выборке: 41.2267274389975\n",
            "RandomForestRegressor(max_depth=3, n_estimators=45, random_state=12345)\n",
            "RMSE модели случайного леса на обучающей выборке: 41.140031225758186\n",
            "RandomForestRegressor(max_depth=3, n_estimators=60, random_state=12345)\n",
            "RMSE модели случайного леса на обучающей выборке: 41.12221794247407\n",
            "RandomForestRegressor(max_depth=3, n_estimators=75, random_state=12345)\n",
            "RMSE модели случайного леса на обучающей выборке: 41.08641327650435\n",
            "RandomForestRegressor(max_depth=3, n_estimators=90, random_state=12345)\n",
            "RMSE модели случайного леса на обучающей выборке: 41.16112678845243\n",
            "RandomForestRegressor(max_depth=3, n_estimators=105, random_state=12345)\n",
            "RMSE модели случайного леса на обучающей выборке: 41.203304353691344\n",
            "RandomForestRegressor(max_depth=3, n_estimators=120, random_state=12345)\n",
            "RMSE модели случайного леса на обучающей выборке: 41.19096748595919\n",
            "RandomForestRegressor(max_depth=3, n_estimators=135, random_state=12345)\n",
            "RMSE модели случайного леса на обучающей выборке: 41.16272481576442\n",
            "RandomForestRegressor(max_depth=3, n_estimators=150, random_state=12345)\n",
            "RMSE модели случайного леса на обучающей выборке: 41.1549530915809\n",
            "RandomForestRegressor(max_depth=3, n_estimators=165, random_state=12345)\n",
            "RMSE модели случайного леса на обучающей выборке: 41.12504956990273\n",
            "RandomForestRegressor(max_depth=3, n_estimators=180, random_state=12345)\n",
            "RMSE модели случайного леса на обучающей выборке: 41.10894812935662\n",
            "RandomForestRegressor(max_depth=3, n_estimators=195, random_state=12345)\n",
            "RMSE модели случайного леса на обучающей выборке: 41.07184848497083\n",
            "RandomForestRegressor(max_depth=3, n_estimators=210, random_state=12345)\n",
            "RMSE модели случайного леса на обучающей выборке: 41.04203606290129\n",
            "RandomForestRegressor(max_depth=3, n_estimators=225, random_state=12345)\n",
            "RMSE модели случайного леса на обучающей выборке: 41.04430183296351\n",
            "RandomForestRegressor(max_depth=3, n_estimators=240, random_state=12345)\n",
            "RMSE модели случайного леса на обучающей выборке: 41.06104919631361\n",
            "RandomForestRegressor(max_depth=3, n_estimators=255, random_state=12345)\n",
            "RMSE модели случайного леса на обучающей выборке: 41.04315700509869\n",
            "RandomForestRegressor(max_depth=3, n_estimators=270, random_state=12345)\n",
            "RMSE модели случайного леса на обучающей выборке: 41.04920956193094\n",
            "RandomForestRegressor(max_depth=3, n_estimators=285, random_state=12345)\n",
            "RMSE модели случайного леса на обучающей выборке: 41.043153959251136\n",
            "RandomForestRegressor(max_depth=3, n_estimators=300, random_state=12345)\n",
            "RMSE модели случайного леса на обучающей выборке: 41.043937050665086\n",
            "RandomForestRegressor(max_depth=3, n_estimators=315, random_state=12345)\n",
            "RMSE модели случайного леса на обучающей выборке: 41.044259662021716\n",
            "RandomForestRegressor(max_depth=3, n_estimators=330, random_state=12345)\n",
            "RMSE модели случайного леса на обучающей выборке: 41.02543659610849\n",
            "RandomForestRegressor(max_depth=3, n_estimators=345, random_state=12345)\n",
            "RMSE модели случайного леса на обучающей выборке: 40.99702593803925\n",
            "RandomForestRegressor(max_depth=4, n_estimators=15, random_state=12345)\n",
            "RMSE модели случайного леса на обучающей выборке: 39.11534220464433\n",
            "RandomForestRegressor(max_depth=4, n_estimators=30, random_state=12345)\n",
            "RMSE модели случайного леса на обучающей выборке: 39.188503468354185\n",
            "RandomForestRegressor(max_depth=4, n_estimators=45, random_state=12345)\n",
            "RMSE модели случайного леса на обучающей выборке: 39.37458259760767\n",
            "RandomForestRegressor(max_depth=4, n_estimators=60, random_state=12345)\n",
            "RMSE модели случайного леса на обучающей выборке: 39.340329528789525\n",
            "RandomForestRegressor(max_depth=4, n_estimators=75, random_state=12345)\n",
            "RMSE модели случайного леса на обучающей выборке: 39.24583250649815\n",
            "RandomForestRegressor(max_depth=4, n_estimators=90, random_state=12345)\n",
            "RMSE модели случайного леса на обучающей выборке: 39.27450805558452\n",
            "RandomForestRegressor(max_depth=4, n_estimators=105, random_state=12345)\n",
            "RMSE модели случайного леса на обучающей выборке: 39.32324070969867\n",
            "RandomForestRegressor(max_depth=4, n_estimators=120, random_state=12345)\n",
            "RMSE модели случайного леса на обучающей выборке: 39.32970815040085\n",
            "RandomForestRegressor(max_depth=4, n_estimators=135, random_state=12345)\n",
            "RMSE модели случайного леса на обучающей выборке: 39.33757308565453\n",
            "RandomForestRegressor(max_depth=4, n_estimators=150, random_state=12345)\n",
            "RMSE модели случайного леса на обучающей выборке: 39.27521348916099\n",
            "RandomForestRegressor(max_depth=4, n_estimators=165, random_state=12345)\n",
            "RMSE модели случайного леса на обучающей выборке: 39.225905571020576\n",
            "RandomForestRegressor(max_depth=4, n_estimators=180, random_state=12345)\n",
            "RMSE модели случайного леса на обучающей выборке: 39.22885774775207\n",
            "RandomForestRegressor(max_depth=4, n_estimators=195, random_state=12345)\n",
            "RMSE модели случайного леса на обучающей выборке: 39.23433598753584\n",
            "RandomForestRegressor(max_depth=4, n_estimators=210, random_state=12345)\n",
            "RMSE модели случайного леса на обучающей выборке: 39.24460534984495\n",
            "RandomForestRegressor(max_depth=4, n_estimators=225, random_state=12345)\n",
            "RMSE модели случайного леса на обучающей выборке: 39.245947638890506\n",
            "RandomForestRegressor(max_depth=4, n_estimators=240, random_state=12345)\n",
            "RMSE модели случайного леса на обучающей выборке: 39.263313353925575\n",
            "RandomForestRegressor(max_depth=4, n_estimators=255, random_state=12345)\n",
            "RMSE модели случайного леса на обучающей выборке: 39.2475147649194\n",
            "RandomForestRegressor(max_depth=4, n_estimators=270, random_state=12345)\n",
            "RMSE модели случайного леса на обучающей выборке: 39.224576773725175\n",
            "RandomForestRegressor(max_depth=4, n_estimators=285, random_state=12345)\n",
            "RMSE модели случайного леса на обучающей выборке: 39.24390267443858\n",
            "RandomForestRegressor(max_depth=4, n_estimators=300, random_state=12345)\n",
            "RMSE модели случайного леса на обучающей выборке: 39.24643689801758\n",
            "RandomForestRegressor(max_depth=4, n_estimators=315, random_state=12345)\n",
            "RMSE модели случайного леса на обучающей выборке: 39.25133619948844\n",
            "RandomForestRegressor(max_depth=4, n_estimators=330, random_state=12345)\n",
            "RMSE модели случайного леса на обучающей выборке: 39.252053425245684\n",
            "RandomForestRegressor(max_depth=4, n_estimators=345, random_state=12345)\n",
            "RMSE модели случайного леса на обучающей выборке: 39.24554877339703\n",
            "RandomForestRegressor(max_depth=5, n_estimators=15, random_state=12345)\n",
            "RMSE модели случайного леса на обучающей выборке: 37.260413688298854\n",
            "RandomForestRegressor(max_depth=5, n_estimators=30, random_state=12345)\n",
            "RMSE модели случайного леса на обучающей выборке: 37.34737791092676\n",
            "RandomForestRegressor(max_depth=5, n_estimators=45, random_state=12345)\n",
            "RMSE модели случайного леса на обучающей выборке: 37.35990564922857\n",
            "RandomForestRegressor(max_depth=5, n_estimators=60, random_state=12345)\n",
            "RMSE модели случайного леса на обучающей выборке: 37.4078477816422\n",
            "RandomForestRegressor(max_depth=5, n_estimators=75, random_state=12345)\n",
            "RMSE модели случайного леса на обучающей выборке: 37.23045936850865\n",
            "RandomForestRegressor(max_depth=5, n_estimators=90, random_state=12345)\n",
            "RMSE модели случайного леса на обучающей выборке: 37.27922352353597\n",
            "RandomForestRegressor(max_depth=5, n_estimators=105, random_state=12345)\n",
            "RMSE модели случайного леса на обучающей выборке: 37.26848333519954\n",
            "RandomForestRegressor(max_depth=5, n_estimators=120, random_state=12345)\n",
            "RMSE модели случайного леса на обучающей выборке: 37.30698785640156\n",
            "RandomForestRegressor(max_depth=5, n_estimators=135, random_state=12345)\n",
            "RMSE модели случайного леса на обучающей выборке: 37.30656470699002\n",
            "RandomForestRegressor(max_depth=5, n_estimators=150, random_state=12345)\n",
            "RMSE модели случайного леса на обучающей выборке: 37.26675227779009\n",
            "RandomForestRegressor(max_depth=5, n_estimators=165, random_state=12345)\n",
            "RMSE модели случайного леса на обучающей выборке: 37.22128416349723\n",
            "RandomForestRegressor(max_depth=5, n_estimators=180, random_state=12345)\n",
            "RMSE модели случайного леса на обучающей выборке: 37.22041546744749\n",
            "RandomForestRegressor(max_depth=5, n_estimators=195, random_state=12345)\n",
            "RMSE модели случайного леса на обучающей выборке: 37.24135011828415\n",
            "RandomForestRegressor(max_depth=5, n_estimators=210, random_state=12345)\n",
            "RMSE модели случайного леса на обучающей выборке: 37.219776399747424\n",
            "RandomForestRegressor(max_depth=5, n_estimators=225, random_state=12345)\n",
            "RMSE модели случайного леса на обучающей выборке: 37.262682777012635\n",
            "RandomForestRegressor(max_depth=5, n_estimators=240, random_state=12345)\n",
            "RMSE модели случайного леса на обучающей выборке: 37.30540645427181\n",
            "RandomForestRegressor(max_depth=5, n_estimators=255, random_state=12345)\n",
            "RMSE модели случайного леса на обучающей выборке: 37.28974140256041\n",
            "RandomForestRegressor(max_depth=5, n_estimators=270, random_state=12345)\n",
            "RMSE модели случайного леса на обучающей выборке: 37.2725673438823\n",
            "RandomForestRegressor(max_depth=5, n_estimators=285, random_state=12345)\n",
            "RMSE модели случайного леса на обучающей выборке: 37.28244008290057\n",
            "RandomForestRegressor(max_depth=5, n_estimators=300, random_state=12345)\n",
            "RMSE модели случайного леса на обучающей выборке: 37.28070629638403\n",
            "RandomForestRegressor(max_depth=5, n_estimators=315, random_state=12345)\n",
            "RMSE модели случайного леса на обучающей выборке: 37.29550522851232\n",
            "RandomForestRegressor(max_depth=5, n_estimators=330, random_state=12345)\n",
            "RMSE модели случайного леса на обучающей выборке: 37.28206479507084\n",
            "RandomForestRegressor(max_depth=5, n_estimators=345, random_state=12345)\n",
            "RMSE модели случайного леса на обучающей выборке: 37.27736997691328\n",
            "RandomForestRegressor(max_depth=6, n_estimators=15, random_state=12345)\n",
            "RMSE модели случайного леса на обучающей выборке: 35.52735672323696\n",
            "RandomForestRegressor(max_depth=6, n_estimators=30, random_state=12345)\n",
            "RMSE модели случайного леса на обучающей выборке: 35.663891687048014\n",
            "RandomForestRegressor(max_depth=6, n_estimators=45, random_state=12345)\n",
            "RMSE модели случайного леса на обучающей выборке: 35.84581047546509\n",
            "RandomForestRegressor(max_depth=6, n_estimators=60, random_state=12345)\n",
            "RMSE модели случайного леса на обучающей выборке: 35.722687176581964\n",
            "RandomForestRegressor(max_depth=6, n_estimators=75, random_state=12345)\n",
            "RMSE модели случайного леса на обучающей выборке: 35.63437542025944\n",
            "RandomForestRegressor(max_depth=6, n_estimators=90, random_state=12345)\n",
            "RMSE модели случайного леса на обучающей выборке: 35.644269880659856\n",
            "RandomForestRegressor(max_depth=6, n_estimators=105, random_state=12345)\n",
            "RMSE модели случайного леса на обучающей выборке: 35.62807982898073\n",
            "RandomForestRegressor(max_depth=6, n_estimators=120, random_state=12345)\n",
            "RMSE модели случайного леса на обучающей выборке: 35.6584631266074\n",
            "RandomForestRegressor(max_depth=6, n_estimators=135, random_state=12345)\n",
            "RMSE модели случайного леса на обучающей выборке: 35.68328984876267\n",
            "RandomForestRegressor(max_depth=6, n_estimators=150, random_state=12345)\n",
            "RMSE модели случайного леса на обучающей выборке: 35.645516748317334\n",
            "RandomForestRegressor(max_depth=6, n_estimators=165, random_state=12345)\n",
            "RMSE модели случайного леса на обучающей выборке: 35.632775968682694\n",
            "RandomForestRegressor(max_depth=6, n_estimators=180, random_state=12345)\n",
            "RMSE модели случайного леса на обучающей выборке: 35.600591847821086\n",
            "RandomForestRegressor(max_depth=6, n_estimators=195, random_state=12345)\n",
            "RMSE модели случайного леса на обучающей выборке: 35.63574202590318\n",
            "RandomForestRegressor(max_depth=6, n_estimators=210, random_state=12345)\n",
            "RMSE модели случайного леса на обучающей выборке: 35.613336437902774\n",
            "RandomForestRegressor(max_depth=6, n_estimators=225, random_state=12345)\n",
            "RMSE модели случайного леса на обучающей выборке: 35.61575867883849\n",
            "RandomForestRegressor(max_depth=6, n_estimators=240, random_state=12345)\n",
            "RMSE модели случайного леса на обучающей выборке: 35.631277150633316\n",
            "RandomForestRegressor(max_depth=6, n_estimators=255, random_state=12345)\n",
            "RMSE модели случайного леса на обучающей выборке: 35.62170483837576\n",
            "RandomForestRegressor(max_depth=6, n_estimators=270, random_state=12345)\n",
            "RMSE модели случайного леса на обучающей выборке: 35.63959250833519\n",
            "RandomForestRegressor(max_depth=6, n_estimators=285, random_state=12345)\n",
            "RMSE модели случайного леса на обучающей выборке: 35.65215423981559\n",
            "RandomForestRegressor(max_depth=6, n_estimators=300, random_state=12345)\n",
            "RMSE модели случайного леса на обучающей выборке: 35.66557086707875\n",
            "RandomForestRegressor(max_depth=6, n_estimators=315, random_state=12345)\n",
            "RMSE модели случайного леса на обучающей выборке: 35.669721813305834\n",
            "RandomForestRegressor(max_depth=6, n_estimators=330, random_state=12345)\n",
            "RMSE модели случайного леса на обучающей выборке: 35.67510478242953\n",
            "RandomForestRegressor(max_depth=6, n_estimators=345, random_state=12345)\n",
            "RMSE модели случайного леса на обучающей выборке: 35.67979086130207\n",
            "RandomForestRegressor(max_depth=7, n_estimators=15, random_state=12345)\n",
            "RMSE модели случайного леса на обучающей выборке: 34.551795661417714\n",
            "RandomForestRegressor(max_depth=7, n_estimators=30, random_state=12345)\n",
            "RMSE модели случайного леса на обучающей выборке: 34.54195601492953\n",
            "RandomForestRegressor(max_depth=7, n_estimators=45, random_state=12345)\n",
            "RMSE модели случайного леса на обучающей выборке: 34.691215834217736\n",
            "RandomForestRegressor(max_depth=7, n_estimators=60, random_state=12345)\n",
            "RMSE модели случайного леса на обучающей выборке: 34.59334293285873\n",
            "RandomForestRegressor(max_depth=7, n_estimators=75, random_state=12345)\n",
            "RMSE модели случайного леса на обучающей выборке: 34.48340853754093\n",
            "RandomForestRegressor(max_depth=7, n_estimators=90, random_state=12345)\n",
            "RMSE модели случайного леса на обучающей выборке: 34.50831633403939\n",
            "RandomForestRegressor(max_depth=7, n_estimators=105, random_state=12345)\n",
            "RMSE модели случайного леса на обучающей выборке: 34.49842238829989\n",
            "RandomForestRegressor(max_depth=7, n_estimators=120, random_state=12345)\n",
            "RMSE модели случайного леса на обучающей выборке: 34.51455659324768\n",
            "RandomForestRegressor(max_depth=7, n_estimators=135, random_state=12345)\n",
            "RMSE модели случайного леса на обучающей выборке: 34.50244304002011\n",
            "RandomForestRegressor(max_depth=7, n_estimators=150, random_state=12345)\n",
            "RMSE модели случайного леса на обучающей выборке: 34.48520592873252\n",
            "RandomForestRegressor(max_depth=7, n_estimators=165, random_state=12345)\n",
            "RMSE модели случайного леса на обучающей выборке: 34.45902175129422\n",
            "RandomForestRegressor(max_depth=7, n_estimators=180, random_state=12345)\n",
            "RMSE модели случайного леса на обучающей выборке: 34.46240927196314\n",
            "RandomForestRegressor(max_depth=7, n_estimators=195, random_state=12345)\n",
            "RMSE модели случайного леса на обучающей выборке: 34.51291157343567\n",
            "RandomForestRegressor(max_depth=7, n_estimators=210, random_state=12345)\n",
            "RMSE модели случайного леса на обучающей выборке: 34.506696459394654\n",
            "RandomForestRegressor(max_depth=7, n_estimators=225, random_state=12345)\n",
            "RMSE модели случайного леса на обучающей выборке: 34.49226789627005\n",
            "RandomForestRegressor(max_depth=7, n_estimators=240, random_state=12345)\n",
            "RMSE модели случайного леса на обучающей выборке: 34.51270926909046\n",
            "RandomForestRegressor(max_depth=7, n_estimators=255, random_state=12345)\n",
            "RMSE модели случайного леса на обучающей выборке: 34.51129002083038\n",
            "RandomForestRegressor(max_depth=7, n_estimators=270, random_state=12345)\n",
            "RMSE модели случайного леса на обучающей выборке: 34.54197175819484\n",
            "RandomForestRegressor(max_depth=7, n_estimators=285, random_state=12345)\n",
            "RMSE модели случайного леса на обучающей выборке: 34.53805501295533\n",
            "RandomForestRegressor(max_depth=7, n_estimators=300, random_state=12345)\n",
            "RMSE модели случайного леса на обучающей выборке: 34.557938569888016\n",
            "RandomForestRegressor(max_depth=7, n_estimators=315, random_state=12345)\n",
            "RMSE модели случайного леса на обучающей выборке: 34.51990372015562\n",
            "RandomForestRegressor(max_depth=7, n_estimators=330, random_state=12345)\n",
            "RMSE модели случайного леса на обучающей выборке: 34.52611234313586\n",
            "RandomForestRegressor(max_depth=7, n_estimators=345, random_state=12345)\n",
            "RMSE модели случайного леса на обучающей выборке: 34.51663456194404\n",
            "RandomForestRegressor(max_depth=8, n_estimators=15, random_state=12345)\n",
            "RMSE модели случайного леса на обучающей выборке: 33.73551511122558\n",
            "RandomForestRegressor(max_depth=8, n_estimators=30, random_state=12345)\n",
            "RMSE модели случайного леса на обучающей выборке: 33.485363639009606\n",
            "RandomForestRegressor(max_depth=8, n_estimators=45, random_state=12345)\n",
            "RMSE модели случайного леса на обучающей выборке: 33.67192220684998\n",
            "RandomForestRegressor(max_depth=8, n_estimators=60, random_state=12345)\n",
            "RMSE модели случайного леса на обучающей выборке: 33.57719196737233\n",
            "RandomForestRegressor(max_depth=8, n_estimators=75, random_state=12345)\n",
            "RMSE модели случайного леса на обучающей выборке: 33.461300031247696\n",
            "RandomForestRegressor(max_depth=8, n_estimators=90, random_state=12345)\n",
            "RMSE модели случайного леса на обучающей выборке: 33.42879161856334\n",
            "RandomForestRegressor(max_depth=8, n_estimators=105, random_state=12345)\n",
            "RMSE модели случайного леса на обучающей выборке: 33.39683307031528\n",
            "RandomForestRegressor(max_depth=8, n_estimators=120, random_state=12345)\n",
            "RMSE модели случайного леса на обучающей выборке: 33.43361924606136\n",
            "RandomForestRegressor(max_depth=8, n_estimators=135, random_state=12345)\n",
            "RMSE модели случайного леса на обучающей выборке: 33.434138325286284\n",
            "RandomForestRegressor(max_depth=8, n_estimators=150, random_state=12345)\n",
            "RMSE модели случайного леса на обучающей выборке: 33.42405810781566\n",
            "RandomForestRegressor(max_depth=8, n_estimators=165, random_state=12345)\n",
            "RMSE модели случайного леса на обучающей выборке: 33.39112175323548\n",
            "RandomForestRegressor(max_depth=8, n_estimators=180, random_state=12345)\n",
            "RMSE модели случайного леса на обучающей выборке: 33.38291424083161\n",
            "RandomForestRegressor(max_depth=8, n_estimators=195, random_state=12345)\n",
            "RMSE модели случайного леса на обучающей выборке: 33.42313668939834\n",
            "RandomForestRegressor(max_depth=8, n_estimators=210, random_state=12345)\n",
            "RMSE модели случайного леса на обучающей выборке: 33.446091062613036\n",
            "RandomForestRegressor(max_depth=8, n_estimators=225, random_state=12345)\n",
            "RMSE модели случайного леса на обучающей выборке: 33.443099699971796\n",
            "RandomForestRegressor(max_depth=8, n_estimators=240, random_state=12345)\n",
            "RMSE модели случайного леса на обучающей выборке: 33.43173368135504\n",
            "RandomForestRegressor(max_depth=8, n_estimators=255, random_state=12345)\n",
            "RMSE модели случайного леса на обучающей выборке: 33.43486979198853\n",
            "RandomForestRegressor(max_depth=8, n_estimators=270, random_state=12345)\n",
            "RMSE модели случайного леса на обучающей выборке: 33.47624338029682\n",
            "RandomForestRegressor(max_depth=8, n_estimators=285, random_state=12345)\n",
            "RMSE модели случайного леса на обучающей выборке: 33.480044532079724\n",
            "RandomForestRegressor(max_depth=8, n_estimators=300, random_state=12345)\n",
            "RMSE модели случайного леса на обучающей выборке: 33.50762098081413\n",
            "RandomForestRegressor(max_depth=8, n_estimators=315, random_state=12345)\n",
            "RMSE модели случайного леса на обучающей выборке: 33.46962314111848\n",
            "RandomForestRegressor(max_depth=8, n_estimators=330, random_state=12345)\n",
            "RMSE модели случайного леса на обучающей выборке: 33.49008531778597\n",
            "RandomForestRegressor(max_depth=8, n_estimators=345, random_state=12345)\n",
            "RMSE модели случайного леса на обучающей выборке: 33.4846103388236\n",
            "RandomForestRegressor(max_depth=9, n_estimators=15, random_state=12345)\n",
            "RMSE модели случайного леса на обучающей выборке: 33.04467218369601\n",
            "RandomForestRegressor(max_depth=9, n_estimators=30, random_state=12345)\n",
            "RMSE модели случайного леса на обучающей выборке: 32.8161270557109\n",
            "RandomForestRegressor(max_depth=9, n_estimators=45, random_state=12345)\n",
            "RMSE модели случайного леса на обучающей выборке: 32.99864591958091\n",
            "RandomForestRegressor(max_depth=9, n_estimators=60, random_state=12345)\n",
            "RMSE модели случайного леса на обучающей выборке: 32.858534045340775\n",
            "RandomForestRegressor(max_depth=9, n_estimators=75, random_state=12345)\n",
            "RMSE модели случайного леса на обучающей выборке: 32.751245499815255\n",
            "RandomForestRegressor(max_depth=9, n_estimators=90, random_state=12345)\n",
            "RMSE модели случайного леса на обучающей выборке: 32.80860209709202\n",
            "RandomForestRegressor(max_depth=9, n_estimators=105, random_state=12345)\n",
            "RMSE модели случайного леса на обучающей выборке: 32.81780768147702\n",
            "RandomForestRegressor(max_depth=9, n_estimators=120, random_state=12345)\n",
            "RMSE модели случайного леса на обучающей выборке: 32.8370867343522\n",
            "RandomForestRegressor(max_depth=9, n_estimators=135, random_state=12345)\n",
            "RMSE модели случайного леса на обучающей выборке: 32.84960337905583\n",
            "RandomForestRegressor(max_depth=9, n_estimators=150, random_state=12345)\n",
            "RMSE модели случайного леса на обучающей выборке: 32.836008073685214\n",
            "RandomForestRegressor(max_depth=9, n_estimators=165, random_state=12345)\n",
            "RMSE модели случайного леса на обучающей выборке: 32.797385744648246\n",
            "RandomForestRegressor(max_depth=9, n_estimators=180, random_state=12345)\n",
            "RMSE модели случайного леса на обучающей выборке: 32.80729892595462\n",
            "RandomForestRegressor(max_depth=9, n_estimators=195, random_state=12345)\n",
            "RMSE модели случайного леса на обучающей выборке: 32.81771723773847\n",
            "RandomForestRegressor(max_depth=9, n_estimators=210, random_state=12345)\n",
            "RMSE модели случайного леса на обучающей выборке: 32.858219394722276\n",
            "RandomForestRegressor(max_depth=9, n_estimators=225, random_state=12345)\n",
            "RMSE модели случайного леса на обучающей выборке: 32.84079369995677\n",
            "RandomForestRegressor(max_depth=9, n_estimators=240, random_state=12345)\n",
            "RMSE модели случайного леса на обучающей выборке: 32.80337450698366\n",
            "RandomForestRegressor(max_depth=9, n_estimators=255, random_state=12345)\n",
            "RMSE модели случайного леса на обучающей выборке: 32.79976459756197\n",
            "RandomForestRegressor(max_depth=9, n_estimators=270, random_state=12345)\n",
            "RMSE модели случайного леса на обучающей выборке: 32.8303364976961\n",
            "RandomForestRegressor(max_depth=9, n_estimators=285, random_state=12345)\n",
            "RMSE модели случайного леса на обучающей выборке: 32.841252243889905\n",
            "RandomForestRegressor(max_depth=9, n_estimators=300, random_state=12345)\n",
            "RMSE модели случайного леса на обучающей выборке: 32.862746794229295\n",
            "RandomForestRegressor(max_depth=9, n_estimators=315, random_state=12345)\n",
            "RMSE модели случайного леса на обучающей выборке: 32.827273629777565\n",
            "RandomForestRegressor(max_depth=9, n_estimators=330, random_state=12345)\n",
            "RMSE модели случайного леса на обучающей выборке: 32.85802145942801\n",
            "RandomForestRegressor(max_depth=9, n_estimators=345, random_state=12345)\n",
            "RMSE модели случайного леса на обучающей выборке: 32.84873131363751\n",
            "RandomForestRegressor(max_depth=10, n_estimators=15, random_state=12345)\n",
            "RMSE модели случайного леса на обучающей выборке: 32.68121195965333\n",
            "RandomForestRegressor(max_depth=10, n_estimators=30, random_state=12345)\n",
            "RMSE модели случайного леса на обучающей выборке: 32.57103781881326\n",
            "RandomForestRegressor(max_depth=10, n_estimators=45, random_state=12345)\n",
            "RMSE модели случайного леса на обучающей выборке: 32.793619339337575\n",
            "RandomForestRegressor(max_depth=10, n_estimators=60, random_state=12345)\n",
            "RMSE модели случайного леса на обучающей выборке: 32.60792867327783\n",
            "RandomForestRegressor(max_depth=10, n_estimators=75, random_state=12345)\n",
            "RMSE модели случайного леса на обучающей выборке: 32.37015283144126\n",
            "RandomForestRegressor(max_depth=10, n_estimators=90, random_state=12345)\n",
            "RMSE модели случайного леса на обучающей выборке: 32.40862653312255\n",
            "RandomForestRegressor(max_depth=10, n_estimators=105, random_state=12345)\n",
            "RMSE модели случайного леса на обучающей выборке: 32.42477430774834\n",
            "RandomForestRegressor(max_depth=10, n_estimators=120, random_state=12345)\n",
            "RMSE модели случайного леса на обучающей выборке: 32.422614710172\n",
            "RandomForestRegressor(max_depth=10, n_estimators=135, random_state=12345)\n",
            "RMSE модели случайного леса на обучающей выборке: 32.407335949687386\n",
            "RandomForestRegressor(max_depth=10, n_estimators=150, random_state=12345)\n",
            "RMSE модели случайного леса на обучающей выборке: 32.41113516721208\n",
            "RandomForestRegressor(max_depth=10, n_estimators=165, random_state=12345)\n",
            "RMSE модели случайного леса на обучающей выборке: 32.37469988051839\n",
            "RandomForestRegressor(max_depth=10, n_estimators=180, random_state=12345)\n",
            "RMSE модели случайного леса на обучающей выборке: 32.37770747478244\n",
            "RandomForestRegressor(max_depth=10, n_estimators=195, random_state=12345)\n",
            "RMSE модели случайного леса на обучающей выборке: 32.376437216791416\n",
            "RandomForestRegressor(max_depth=10, n_estimators=210, random_state=12345)\n",
            "RMSE модели случайного леса на обучающей выборке: 32.39716776256853\n",
            "RandomForestRegressor(max_depth=10, n_estimators=225, random_state=12345)\n",
            "RMSE модели случайного леса на обучающей выборке: 32.388193436563114\n",
            "RandomForestRegressor(max_depth=10, n_estimators=240, random_state=12345)\n",
            "RMSE модели случайного леса на обучающей выборке: 32.35634294116778\n",
            "RandomForestRegressor(max_depth=10, n_estimators=255, random_state=12345)\n",
            "RMSE модели случайного леса на обучающей выборке: 32.35135653166639\n",
            "RandomForestRegressor(max_depth=10, n_estimators=270, random_state=12345)\n",
            "RMSE модели случайного леса на обучающей выборке: 32.380707708628236\n",
            "RandomForestRegressor(max_depth=10, n_estimators=285, random_state=12345)\n",
            "RMSE модели случайного леса на обучающей выборке: 32.39821232527295\n",
            "RandomForestRegressor(max_depth=10, n_estimators=300, random_state=12345)\n",
            "RMSE модели случайного леса на обучающей выборке: 32.436013331804695\n",
            "RandomForestRegressor(max_depth=10, n_estimators=315, random_state=12345)\n",
            "RMSE модели случайного леса на обучающей выборке: 32.39831906880046\n",
            "RandomForestRegressor(max_depth=10, n_estimators=330, random_state=12345)\n",
            "RMSE модели случайного леса на обучающей выборке: 32.42084631818538\n",
            "RandomForestRegressor(max_depth=10, n_estimators=345, random_state=12345)\n",
            "RMSE модели случайного леса на обучающей выборке: 32.422574815642974\n",
            "RandomForestRegressor(max_depth=11, n_estimators=15, random_state=12345)\n",
            "RMSE модели случайного леса на обучающей выборке: 32.52276069988185\n",
            "RandomForestRegressor(max_depth=11, n_estimators=30, random_state=12345)\n",
            "RMSE модели случайного леса на обучающей выборке: 32.31070884479536\n",
            "RandomForestRegressor(max_depth=11, n_estimators=45, random_state=12345)\n",
            "RMSE модели случайного леса на обучающей выборке: 32.444527755480244\n",
            "RandomForestRegressor(max_depth=11, n_estimators=60, random_state=12345)\n",
            "RMSE модели случайного леса на обучающей выборке: 32.183342509121296\n",
            "RandomForestRegressor(max_depth=11, n_estimators=75, random_state=12345)\n",
            "RMSE модели случайного леса на обучающей выборке: 32.00915533038934\n",
            "RandomForestRegressor(max_depth=11, n_estimators=90, random_state=12345)\n",
            "RMSE модели случайного леса на обучающей выборке: 32.019323041473626\n",
            "RandomForestRegressor(max_depth=11, n_estimators=105, random_state=12345)\n",
            "RMSE модели случайного леса на обучающей выборке: 32.03010806117372\n",
            "RandomForestRegressor(max_depth=11, n_estimators=120, random_state=12345)\n",
            "RMSE модели случайного леса на обучающей выборке: 32.10101224517378\n",
            "RandomForestRegressor(max_depth=11, n_estimators=135, random_state=12345)\n",
            "RMSE модели случайного леса на обучающей выборке: 32.04203046726024\n",
            "RandomForestRegressor(max_depth=11, n_estimators=150, random_state=12345)\n",
            "RMSE модели случайного леса на обучающей выборке: 32.02644935510918\n",
            "RandomForestRegressor(max_depth=11, n_estimators=165, random_state=12345)\n",
            "RMSE модели случайного леса на обучающей выборке: 31.966970169845805\n",
            "RandomForestRegressor(max_depth=11, n_estimators=180, random_state=12345)\n",
            "RMSE модели случайного леса на обучающей выборке: 31.98173439709058\n",
            "RandomForestRegressor(max_depth=11, n_estimators=195, random_state=12345)\n",
            "RMSE модели случайного леса на обучающей выборке: 32.02930514841747\n",
            "RandomForestRegressor(max_depth=11, n_estimators=210, random_state=12345)\n",
            "RMSE модели случайного леса на обучающей выборке: 32.09975256953077\n",
            "RandomForestRegressor(max_depth=11, n_estimators=225, random_state=12345)\n",
            "RMSE модели случайного леса на обучающей выборке: 32.08335667171182\n",
            "RandomForestRegressor(max_depth=11, n_estimators=240, random_state=12345)\n",
            "RMSE модели случайного леса на обучающей выборке: 32.026218874955624\n",
            "RandomForestRegressor(max_depth=11, n_estimators=255, random_state=12345)\n",
            "RMSE модели случайного леса на обучающей выборке: 32.025467142378844\n",
            "RandomForestRegressor(max_depth=11, n_estimators=270, random_state=12345)\n",
            "RMSE модели случайного леса на обучающей выборке: 32.04902161776531\n",
            "RandomForestRegressor(max_depth=11, n_estimators=285, random_state=12345)\n",
            "RMSE модели случайного леса на обучающей выборке: 32.068336425253264\n",
            "RandomForestRegressor(max_depth=11, n_estimators=300, random_state=12345)\n",
            "RMSE модели случайного леса на обучающей выборке: 32.10182366636499\n",
            "RandomForestRegressor(max_depth=11, n_estimators=315, random_state=12345)\n",
            "RMSE модели случайного леса на обучающей выборке: 32.08249091720475\n",
            "RandomForestRegressor(max_depth=11, n_estimators=330, random_state=12345)\n",
            "RMSE модели случайного леса на обучающей выборке: 32.117593510472076\n",
            "RandomForestRegressor(max_depth=11, n_estimators=345, random_state=12345)\n",
            "RMSE модели случайного леса на обучающей выборке: 32.11492580751497\n",
            "RandomForestRegressor(max_depth=12, n_estimators=15, random_state=12345)\n",
            "RMSE модели случайного леса на обучающей выборке: 32.34508495560293\n",
            "RandomForestRegressor(max_depth=12, n_estimators=30, random_state=12345)\n",
            "RMSE модели случайного леса на обучающей выборке: 32.35879362103529\n",
            "RandomForestRegressor(max_depth=12, n_estimators=45, random_state=12345)\n",
            "RMSE модели случайного леса на обучающей выборке: 32.42540274836198\n",
            "RandomForestRegressor(max_depth=12, n_estimators=60, random_state=12345)\n",
            "RMSE модели случайного леса на обучающей выборке: 32.18316353770288\n",
            "RandomForestRegressor(max_depth=12, n_estimators=75, random_state=12345)\n",
            "RMSE модели случайного леса на обучающей выборке: 32.00286760231221\n",
            "RandomForestRegressor(max_depth=12, n_estimators=90, random_state=12345)\n",
            "RMSE модели случайного леса на обучающей выборке: 32.00920812099766\n",
            "RandomForestRegressor(max_depth=12, n_estimators=105, random_state=12345)\n",
            "RMSE модели случайного леса на обучающей выборке: 31.99634757268494\n",
            "RandomForestRegressor(max_depth=12, n_estimators=120, random_state=12345)\n",
            "RMSE модели случайного леса на обучающей выборке: 32.045946371291365\n",
            "RandomForestRegressor(max_depth=12, n_estimators=135, random_state=12345)\n",
            "RMSE модели случайного леса на обучающей выборке: 31.99188092054187\n",
            "RandomForestRegressor(max_depth=12, n_estimators=150, random_state=12345)\n",
            "RMSE модели случайного леса на обучающей выборке: 31.970836606158628\n",
            "RandomForestRegressor(max_depth=12, n_estimators=165, random_state=12345)\n",
            "RMSE модели случайного леса на обучающей выборке: 31.910621017195265\n",
            "RandomForestRegressor(max_depth=12, n_estimators=180, random_state=12345)\n",
            "RMSE модели случайного леса на обучающей выборке: 31.93280630736971\n",
            "RandomForestRegressor(max_depth=12, n_estimators=195, random_state=12345)\n",
            "RMSE модели случайного леса на обучающей выборке: 31.948468607624292\n",
            "RandomForestRegressor(max_depth=12, n_estimators=210, random_state=12345)\n",
            "RMSE модели случайного леса на обучающей выборке: 31.996816813262363\n",
            "RandomForestRegressor(max_depth=12, n_estimators=225, random_state=12345)\n",
            "RMSE модели случайного леса на обучающей выборке: 31.983896162313286\n",
            "RandomForestRegressor(max_depth=12, n_estimators=240, random_state=12345)\n",
            "RMSE модели случайного леса на обучающей выборке: 31.95071087271302\n",
            "RandomForestRegressor(max_depth=12, n_estimators=255, random_state=12345)\n",
            "RMSE модели случайного леса на обучающей выборке: 31.933532759072033\n",
            "RandomForestRegressor(max_depth=12, n_estimators=270, random_state=12345)\n",
            "RMSE модели случайного леса на обучающей выборке: 31.98049751354193\n",
            "RandomForestRegressor(max_depth=12, n_estimators=285, random_state=12345)\n",
            "RMSE модели случайного леса на обучающей выборке: 32.01588043869414\n",
            "RandomForestRegressor(max_depth=12, n_estimators=300, random_state=12345)\n",
            "RMSE модели случайного леса на обучающей выборке: 32.03254629010181\n",
            "RandomForestRegressor(max_depth=12, n_estimators=315, random_state=12345)\n",
            "RMSE модели случайного леса на обучающей выборке: 32.014352089708076\n",
            "RandomForestRegressor(max_depth=12, n_estimators=330, random_state=12345)\n",
            "RMSE модели случайного леса на обучающей выборке: 32.04525733519245\n",
            "RandomForestRegressor(max_depth=12, n_estimators=345, random_state=12345)\n",
            "RMSE модели случайного леса на обучающей выборке: 32.03603329301083\n",
            "RandomForestRegressor(max_depth=13, n_estimators=15, random_state=12345)\n",
            "RMSE модели случайного леса на обучающей выборке: 32.61167051117125\n",
            "RandomForestRegressor(max_depth=13, n_estimators=30, random_state=12345)\n",
            "RMSE модели случайного леса на обучающей выборке: 32.40853806373548\n",
            "RandomForestRegressor(max_depth=13, n_estimators=45, random_state=12345)\n",
            "RMSE модели случайного леса на обучающей выборке: 32.43983917281503\n",
            "RandomForestRegressor(max_depth=13, n_estimators=60, random_state=12345)\n",
            "RMSE модели случайного леса на обучающей выборке: 32.09402905551346\n",
            "RandomForestRegressor(max_depth=13, n_estimators=75, random_state=12345)\n",
            "RMSE модели случайного леса на обучающей выборке: 31.838453234065714\n",
            "RandomForestRegressor(max_depth=13, n_estimators=90, random_state=12345)\n",
            "RMSE модели случайного леса на обучающей выборке: 31.938517406402788\n",
            "RandomForestRegressor(max_depth=13, n_estimators=105, random_state=12345)\n",
            "RMSE модели случайного леса на обучающей выборке: 31.95408960521431\n",
            "RandomForestRegressor(max_depth=13, n_estimators=120, random_state=12345)\n",
            "RMSE модели случайного леса на обучающей выборке: 31.989269769283492\n",
            "RandomForestRegressor(max_depth=13, n_estimators=135, random_state=12345)\n",
            "RMSE модели случайного леса на обучающей выборке: 31.98134274037706\n",
            "RandomForestRegressor(max_depth=13, n_estimators=150, random_state=12345)\n",
            "RMSE модели случайного леса на обучающей выборке: 31.951727197579135\n",
            "RandomForestRegressor(max_depth=13, n_estimators=165, random_state=12345)\n",
            "RMSE модели случайного леса на обучающей выборке: 31.895132351606094\n",
            "RandomForestRegressor(max_depth=13, n_estimators=180, random_state=12345)\n",
            "RMSE модели случайного леса на обучающей выборке: 31.915815835822848\n",
            "RandomForestRegressor(max_depth=13, n_estimators=195, random_state=12345)\n",
            "RMSE модели случайного леса на обучающей выборке: 31.93707315046606\n",
            "RandomForestRegressor(max_depth=13, n_estimators=210, random_state=12345)\n",
            "RMSE модели случайного леса на обучающей выборке: 31.969747011478066\n",
            "RandomForestRegressor(max_depth=13, n_estimators=225, random_state=12345)\n",
            "RMSE модели случайного леса на обучающей выборке: 31.94998358627519\n",
            "RandomForestRegressor(max_depth=13, n_estimators=240, random_state=12345)\n",
            "RMSE модели случайного леса на обучающей выборке: 31.935800902526868\n",
            "RandomForestRegressor(max_depth=13, n_estimators=255, random_state=12345)\n",
            "RMSE модели случайного леса на обучающей выборке: 31.938027774730973\n",
            "RandomForestRegressor(max_depth=13, n_estimators=270, random_state=12345)\n",
            "RMSE модели случайного леса на обучающей выборке: 31.96909400666078\n",
            "RandomForestRegressor(max_depth=13, n_estimators=285, random_state=12345)\n",
            "RMSE модели случайного леса на обучающей выборке: 31.987876206771414\n",
            "RandomForestRegressor(max_depth=13, n_estimators=300, random_state=12345)\n",
            "RMSE модели случайного леса на обучающей выборке: 32.00798553531222\n",
            "RandomForestRegressor(max_depth=13, n_estimators=315, random_state=12345)\n",
            "RMSE модели случайного леса на обучающей выборке: 31.97943373179632\n",
            "RandomForestRegressor(max_depth=13, n_estimators=330, random_state=12345)\n",
            "RMSE модели случайного леса на обучающей выборке: 32.005649902484066\n",
            "RandomForestRegressor(max_depth=13, n_estimators=345, random_state=12345)\n",
            "RMSE модели случайного леса на обучающей выборке: 31.99625329981123\n",
            "RandomForestRegressor(max_depth=14, n_estimators=15, random_state=12345)\n",
            "RMSE модели случайного леса на обучающей выборке: 32.290341153089045\n",
            "RandomForestRegressor(max_depth=14, n_estimators=30, random_state=12345)\n",
            "RMSE модели случайного леса на обучающей выборке: 32.15758109349168\n",
            "RandomForestRegressor(max_depth=14, n_estimators=45, random_state=12345)\n",
            "RMSE модели случайного леса на обучающей выборке: 32.25910857292188\n",
            "RandomForestRegressor(max_depth=14, n_estimators=60, random_state=12345)\n",
            "RMSE модели случайного леса на обучающей выборке: 31.98693105643677\n",
            "RandomForestRegressor(max_depth=14, n_estimators=75, random_state=12345)\n",
            "RMSE модели случайного леса на обучающей выборке: 31.786379794489243\n",
            "RandomForestRegressor(max_depth=14, n_estimators=90, random_state=12345)\n",
            "RMSE модели случайного леса на обучающей выборке: 31.897304908259635\n",
            "RandomForestRegressor(max_depth=14, n_estimators=105, random_state=12345)\n",
            "RMSE модели случайного леса на обучающей выборке: 31.885564528868372\n",
            "RandomForestRegressor(max_depth=14, n_estimators=120, random_state=12345)\n",
            "RMSE модели случайного леса на обучающей выборке: 31.923716086228975\n",
            "RandomForestRegressor(max_depth=14, n_estimators=135, random_state=12345)\n",
            "RMSE модели случайного леса на обучающей выборке: 31.902808373284323\n",
            "RandomForestRegressor(max_depth=14, n_estimators=150, random_state=12345)\n",
            "RMSE модели случайного леса на обучающей выборке: 31.86690820014476\n",
            "RandomForestRegressor(max_depth=14, n_estimators=165, random_state=12345)\n",
            "RMSE модели случайного леса на обучающей выборке: 31.842417703725854\n",
            "RandomForestRegressor(max_depth=14, n_estimators=180, random_state=12345)\n",
            "RMSE модели случайного леса на обучающей выборке: 31.85709420641721\n",
            "RandomForestRegressor(max_depth=14, n_estimators=195, random_state=12345)\n",
            "RMSE модели случайного леса на обучающей выборке: 31.902655901442493\n",
            "RandomForestRegressor(max_depth=14, n_estimators=210, random_state=12345)\n",
            "RMSE модели случайного леса на обучающей выборке: 31.93658220060518\n",
            "RandomForestRegressor(max_depth=14, n_estimators=225, random_state=12345)\n",
            "RMSE модели случайного леса на обучающей выборке: 31.899171728654988\n",
            "RandomForestRegressor(max_depth=14, n_estimators=240, random_state=12345)\n",
            "RMSE модели случайного леса на обучающей выборке: 31.881387876789375\n",
            "RandomForestRegressor(max_depth=14, n_estimators=255, random_state=12345)\n",
            "RMSE модели случайного леса на обучающей выборке: 31.876845220742602\n",
            "RandomForestRegressor(max_depth=14, n_estimators=270, random_state=12345)\n",
            "RMSE модели случайного леса на обучающей выборке: 31.920036838389887\n",
            "RandomForestRegressor(max_depth=14, n_estimators=285, random_state=12345)\n",
            "RMSE модели случайного леса на обучающей выборке: 31.942866075606936\n",
            "RandomForestRegressor(max_depth=14, n_estimators=300, random_state=12345)\n",
            "RMSE модели случайного леса на обучающей выборке: 31.953748868661116\n",
            "RandomForestRegressor(max_depth=14, n_estimators=315, random_state=12345)\n",
            "RMSE модели случайного леса на обучающей выборке: 31.939425200761765\n",
            "RandomForestRegressor(max_depth=14, n_estimators=330, random_state=12345)\n",
            "RMSE модели случайного леса на обучающей выборке: 31.96864385538405\n",
            "RandomForestRegressor(max_depth=14, n_estimators=345, random_state=12345)\n",
            "RMSE модели случайного леса на обучающей выборке: 31.953067973233072\n",
            "RandomForestRegressor(max_depth=15, n_estimators=15, random_state=12345)\n",
            "RMSE модели случайного леса на обучающей выборке: 32.49408759057896\n",
            "RandomForestRegressor(max_depth=15, n_estimators=30, random_state=12345)\n",
            "RMSE модели случайного леса на обучающей выборке: 32.29130617050864\n",
            "RandomForestRegressor(max_depth=15, n_estimators=45, random_state=12345)\n",
            "RMSE модели случайного леса на обучающей выборке: 32.35751079400323\n",
            "RandomForestRegressor(max_depth=15, n_estimators=60, random_state=12345)\n",
            "RMSE модели случайного леса на обучающей выборке: 32.038649031739645\n",
            "RandomForestRegressor(max_depth=15, n_estimators=75, random_state=12345)\n",
            "RMSE модели случайного леса на обучающей выборке: 31.879149043123775\n",
            "RandomForestRegressor(max_depth=15, n_estimators=90, random_state=12345)\n",
            "RMSE модели случайного леса на обучающей выборке: 31.92526812866918\n",
            "RandomForestRegressor(max_depth=15, n_estimators=105, random_state=12345)\n",
            "RMSE модели случайного леса на обучающей выборке: 31.924325115109987\n",
            "RandomForestRegressor(max_depth=15, n_estimators=120, random_state=12345)\n",
            "RMSE модели случайного леса на обучающей выборке: 31.97844634938153\n",
            "RandomForestRegressor(max_depth=15, n_estimators=135, random_state=12345)\n",
            "RMSE модели случайного леса на обучающей выборке: 31.95420891991789\n",
            "RandomForestRegressor(max_depth=15, n_estimators=150, random_state=12345)\n",
            "RMSE модели случайного леса на обучающей выборке: 31.927541171350565\n",
            "RandomForestRegressor(max_depth=15, n_estimators=165, random_state=12345)\n",
            "RMSE модели случайного леса на обучающей выборке: 31.877567867752592\n",
            "RandomForestRegressor(max_depth=15, n_estimators=180, random_state=12345)\n",
            "RMSE модели случайного леса на обучающей выборке: 31.884369073980547\n",
            "RandomForestRegressor(max_depth=15, n_estimators=195, random_state=12345)\n",
            "RMSE модели случайного леса на обучающей выборке: 31.901404466656636\n",
            "RandomForestRegressor(max_depth=15, n_estimators=210, random_state=12345)\n",
            "RMSE модели случайного леса на обучающей выборке: 31.924563289493666\n",
            "RandomForestRegressor(max_depth=15, n_estimators=225, random_state=12345)\n",
            "RMSE модели случайного леса на обучающей выборке: 31.88692651299598\n",
            "RandomForestRegressor(max_depth=15, n_estimators=240, random_state=12345)\n",
            "RMSE модели случайного леса на обучающей выборке: 31.85442922055261\n",
            "RandomForestRegressor(max_depth=15, n_estimators=255, random_state=12345)\n",
            "RMSE модели случайного леса на обучающей выборке: 31.862042190923976\n",
            "RandomForestRegressor(max_depth=15, n_estimators=270, random_state=12345)\n",
            "RMSE модели случайного леса на обучающей выборке: 31.906101601530487\n",
            "RandomForestRegressor(max_depth=15, n_estimators=285, random_state=12345)\n",
            "RMSE модели случайного леса на обучающей выборке: 31.935571420766575\n",
            "RandomForestRegressor(max_depth=15, n_estimators=300, random_state=12345)\n",
            "RMSE модели случайного леса на обучающей выборке: 31.93986568061103\n",
            "RandomForestRegressor(max_depth=15, n_estimators=315, random_state=12345)\n",
            "RMSE модели случайного леса на обучающей выборке: 31.928479788964964\n",
            "RandomForestRegressor(max_depth=15, n_estimators=330, random_state=12345)\n",
            "RMSE модели случайного леса на обучающей выборке: 31.962088823870154\n",
            "RandomForestRegressor(max_depth=15, n_estimators=345, random_state=12345)\n",
            "RMSE модели случайного леса на обучающей выборке: 31.96641857330137\n",
            "RandomForestRegressor(max_depth=16, n_estimators=15, random_state=12345)\n",
            "RMSE модели случайного леса на обучающей выборке: 32.25620926520774\n",
            "RandomForestRegressor(max_depth=16, n_estimators=30, random_state=12345)\n",
            "RMSE модели случайного леса на обучающей выборке: 32.16359638714794\n",
            "RandomForestRegressor(max_depth=16, n_estimators=45, random_state=12345)\n",
            "RMSE модели случайного леса на обучающей выборке: 32.23145061136943\n",
            "RandomForestRegressor(max_depth=16, n_estimators=60, random_state=12345)\n",
            "RMSE модели случайного леса на обучающей выборке: 31.875162239023478\n",
            "RandomForestRegressor(max_depth=16, n_estimators=75, random_state=12345)\n",
            "RMSE модели случайного леса на обучающей выборке: 31.712580075388782\n",
            "RandomForestRegressor(max_depth=16, n_estimators=90, random_state=12345)\n",
            "RMSE модели случайного леса на обучающей выборке: 31.794397046503516\n",
            "RandomForestRegressor(max_depth=16, n_estimators=105, random_state=12345)\n",
            "RMSE модели случайного леса на обучающей выборке: 31.85311209180506\n",
            "RandomForestRegressor(max_depth=16, n_estimators=120, random_state=12345)\n",
            "RMSE модели случайного леса на обучающей выборке: 31.920327943402935\n",
            "RandomForestRegressor(max_depth=16, n_estimators=135, random_state=12345)\n",
            "RMSE модели случайного леса на обучающей выборке: 31.88012594022629\n",
            "RandomForestRegressor(max_depth=16, n_estimators=150, random_state=12345)\n",
            "RMSE модели случайного леса на обучающей выборке: 31.886738038255228\n",
            "RandomForestRegressor(max_depth=16, n_estimators=165, random_state=12345)\n",
            "RMSE модели случайного леса на обучающей выборке: 31.862078141588384\n",
            "RandomForestRegressor(max_depth=16, n_estimators=180, random_state=12345)\n",
            "RMSE модели случайного леса на обучающей выборке: 31.873328041037485\n",
            "RandomForestRegressor(max_depth=16, n_estimators=195, random_state=12345)\n",
            "RMSE модели случайного леса на обучающей выборке: 31.90075764114772\n",
            "RandomForestRegressor(max_depth=16, n_estimators=210, random_state=12345)\n",
            "RMSE модели случайного леса на обучающей выборке: 31.93130370168857\n",
            "RandomForestRegressor(max_depth=16, n_estimators=225, random_state=12345)\n",
            "RMSE модели случайного леса на обучающей выборке: 31.900136712167885\n",
            "RandomForestRegressor(max_depth=16, n_estimators=240, random_state=12345)\n",
            "RMSE модели случайного леса на обучающей выборке: 31.87632505368501\n",
            "RandomForestRegressor(max_depth=16, n_estimators=255, random_state=12345)\n",
            "RMSE модели случайного леса на обучающей выборке: 31.872096602179685\n",
            "RandomForestRegressor(max_depth=16, n_estimators=270, random_state=12345)\n",
            "RMSE модели случайного леса на обучающей выборке: 31.906330451656455\n",
            "RandomForestRegressor(max_depth=16, n_estimators=285, random_state=12345)\n",
            "RMSE модели случайного леса на обучающей выборке: 31.9257825741271\n",
            "RandomForestRegressor(max_depth=16, n_estimators=300, random_state=12345)\n",
            "RMSE модели случайного леса на обучающей выборке: 31.939859060803883\n",
            "RandomForestRegressor(max_depth=16, n_estimators=315, random_state=12345)\n",
            "RMSE модели случайного леса на обучающей выборке: 31.913221175430994\n",
            "RandomForestRegressor(max_depth=16, n_estimators=330, random_state=12345)\n",
            "RMSE модели случайного леса на обучающей выборке: 31.954765996434148\n",
            "RandomForestRegressor(max_depth=16, n_estimators=345, random_state=12345)\n",
            "RMSE модели случайного леса на обучающей выборке: 31.95213240421468\n",
            "RandomForestRegressor(max_depth=17, n_estimators=15, random_state=12345)\n",
            "RMSE модели случайного леса на обучающей выборке: 32.16248912551206\n",
            "RandomForestRegressor(max_depth=17, n_estimators=30, random_state=12345)\n",
            "RMSE модели случайного леса на обучающей выборке: 32.161402332042606\n",
            "RandomForestRegressor(max_depth=17, n_estimators=45, random_state=12345)\n",
            "RMSE модели случайного леса на обучающей выборке: 32.37697111070416\n",
            "RandomForestRegressor(max_depth=17, n_estimators=60, random_state=12345)\n",
            "RMSE модели случайного леса на обучающей выборке: 31.999917323183478\n",
            "RandomForestRegressor(max_depth=17, n_estimators=75, random_state=12345)\n",
            "RMSE модели случайного леса на обучающей выборке: 31.817070367610196\n",
            "RandomForestRegressor(max_depth=17, n_estimators=90, random_state=12345)\n",
            "RMSE модели случайного леса на обучающей выборке: 31.849643705025088\n",
            "RandomForestRegressor(max_depth=17, n_estimators=105, random_state=12345)\n",
            "RMSE модели случайного леса на обучающей выборке: 31.823432236749195\n",
            "RandomForestRegressor(max_depth=17, n_estimators=120, random_state=12345)\n",
            "RMSE модели случайного леса на обучающей выборке: 31.870168110473383\n",
            "RandomForestRegressor(max_depth=17, n_estimators=135, random_state=12345)\n",
            "RMSE модели случайного леса на обучающей выборке: 31.8525971424862\n",
            "RandomForestRegressor(max_depth=17, n_estimators=150, random_state=12345)\n",
            "RMSE модели случайного леса на обучающей выборке: 31.846236084903214\n",
            "RandomForestRegressor(max_depth=17, n_estimators=165, random_state=12345)\n",
            "RMSE модели случайного леса на обучающей выборке: 31.80692324298066\n",
            "RandomForestRegressor(max_depth=17, n_estimators=180, random_state=12345)\n",
            "RMSE модели случайного леса на обучающей выборке: 31.826416666626233\n",
            "RandomForestRegressor(max_depth=17, n_estimators=195, random_state=12345)\n",
            "RMSE модели случайного леса на обучающей выборке: 31.85503732634341\n",
            "RandomForestRegressor(max_depth=17, n_estimators=210, random_state=12345)\n",
            "RMSE модели случайного леса на обучающей выборке: 31.89728269698257\n",
            "RandomForestRegressor(max_depth=17, n_estimators=225, random_state=12345)\n",
            "RMSE модели случайного леса на обучающей выборке: 31.878450627779927\n",
            "RandomForestRegressor(max_depth=17, n_estimators=240, random_state=12345)\n",
            "RMSE модели случайного леса на обучающей выборке: 31.855687908879144\n",
            "RandomForestRegressor(max_depth=17, n_estimators=255, random_state=12345)\n",
            "RMSE модели случайного леса на обучающей выборке: 31.850868255856113\n",
            "RandomForestRegressor(max_depth=17, n_estimators=270, random_state=12345)\n",
            "RMSE модели случайного леса на обучающей выборке: 31.89005329569043\n",
            "RandomForestRegressor(max_depth=17, n_estimators=285, random_state=12345)\n",
            "RMSE модели случайного леса на обучающей выборке: 31.904806088066213\n",
            "RandomForestRegressor(max_depth=17, n_estimators=300, random_state=12345)\n",
            "RMSE модели случайного леса на обучающей выборке: 31.9248778179582\n",
            "RandomForestRegressor(max_depth=17, n_estimators=315, random_state=12345)\n",
            "RMSE модели случайного леса на обучающей выборке: 31.893261920337732\n",
            "RandomForestRegressor(max_depth=17, n_estimators=330, random_state=12345)\n",
            "RMSE модели случайного леса на обучающей выборке: 31.91381994801808\n",
            "RandomForestRegressor(max_depth=17, n_estimators=345, random_state=12345)\n",
            "RMSE модели случайного леса на обучающей выборке: 31.930556626213676\n",
            "RandomForestRegressor(max_depth=18, n_estimators=15, random_state=12345)\n",
            "RMSE модели случайного леса на обучающей выборке: 32.30228941662297\n",
            "RandomForestRegressor(max_depth=18, n_estimators=30, random_state=12345)\n",
            "RMSE модели случайного леса на обучающей выборке: 32.28971243244976\n",
            "RandomForestRegressor(max_depth=18, n_estimators=45, random_state=12345)\n",
            "RMSE модели случайного леса на обучающей выборке: 32.31776697850001\n",
            "RandomForestRegressor(max_depth=18, n_estimators=60, random_state=12345)\n",
            "RMSE модели случайного леса на обучающей выборке: 31.95318610221529\n",
            "RandomForestRegressor(max_depth=18, n_estimators=75, random_state=12345)\n",
            "RMSE модели случайного леса на обучающей выборке: 31.79189453472779\n",
            "RandomForestRegressor(max_depth=18, n_estimators=90, random_state=12345)\n",
            "RMSE модели случайного леса на обучающей выборке: 31.85519254859728\n",
            "RandomForestRegressor(max_depth=18, n_estimators=105, random_state=12345)\n",
            "RMSE модели случайного леса на обучающей выборке: 31.876321973888363\n",
            "RandomForestRegressor(max_depth=18, n_estimators=120, random_state=12345)\n",
            "RMSE модели случайного леса на обучающей выборке: 31.87084963179993\n",
            "RandomForestRegressor(max_depth=18, n_estimators=135, random_state=12345)\n",
            "RMSE модели случайного леса на обучающей выборке: 31.86349905106796\n",
            "RandomForestRegressor(max_depth=18, n_estimators=150, random_state=12345)\n",
            "RMSE модели случайного леса на обучающей выборке: 31.81812985033987\n",
            "RandomForestRegressor(max_depth=18, n_estimators=165, random_state=12345)\n",
            "RMSE модели случайного леса на обучающей выборке: 31.794903078318544\n",
            "RandomForestRegressor(max_depth=18, n_estimators=180, random_state=12345)\n",
            "RMSE модели случайного леса на обучающей выборке: 31.795519745160764\n",
            "RandomForestRegressor(max_depth=18, n_estimators=195, random_state=12345)\n",
            "RMSE модели случайного леса на обучающей выборке: 31.83027772941015\n",
            "RandomForestRegressor(max_depth=18, n_estimators=210, random_state=12345)\n",
            "RMSE модели случайного леса на обучающей выборке: 31.880594996583223\n",
            "RandomForestRegressor(max_depth=18, n_estimators=225, random_state=12345)\n",
            "RMSE модели случайного леса на обучающей выборке: 31.860104605952227\n",
            "RandomForestRegressor(max_depth=18, n_estimators=240, random_state=12345)\n",
            "RMSE модели случайного леса на обучающей выборке: 31.84224750561245\n",
            "RandomForestRegressor(max_depth=18, n_estimators=255, random_state=12345)\n",
            "RMSE модели случайного леса на обучающей выборке: 31.836458665023116\n",
            "RandomForestRegressor(max_depth=18, n_estimators=270, random_state=12345)\n",
            "RMSE модели случайного леса на обучающей выборке: 31.889343377303234\n",
            "RandomForestRegressor(max_depth=18, n_estimators=285, random_state=12345)\n",
            "RMSE модели случайного леса на обучающей выборке: 31.909005168375554\n",
            "RandomForestRegressor(max_depth=18, n_estimators=300, random_state=12345)\n",
            "RMSE модели случайного леса на обучающей выборке: 31.938286944444854\n",
            "RandomForestRegressor(max_depth=18, n_estimators=315, random_state=12345)\n",
            "RMSE модели случайного леса на обучающей выборке: 31.90548868800447\n",
            "RandomForestRegressor(max_depth=18, n_estimators=330, random_state=12345)\n",
            "RMSE модели случайного леса на обучающей выборке: 31.950782538928067\n",
            "RandomForestRegressor(max_depth=18, n_estimators=345, random_state=12345)\n",
            "RMSE модели случайного леса на обучающей выборке: 31.96486435869739\n",
            "RandomForestRegressor(max_depth=19, n_estimators=15, random_state=12345)\n",
            "RMSE модели случайного леса на обучающей выборке: 32.103948231262514\n",
            "RandomForestRegressor(max_depth=19, n_estimators=30, random_state=12345)\n",
            "RMSE модели случайного леса на обучающей выборке: 32.04377026288991\n",
            "RandomForestRegressor(max_depth=19, n_estimators=45, random_state=12345)\n",
            "RMSE модели случайного леса на обучающей выборке: 32.21309114030985\n",
            "RandomForestRegressor(max_depth=19, n_estimators=60, random_state=12345)\n",
            "RMSE модели случайного леса на обучающей выборке: 31.924415492838985\n",
            "RandomForestRegressor(max_depth=19, n_estimators=75, random_state=12345)\n",
            "RMSE модели случайного леса на обучающей выборке: 31.78643679830252\n",
            "RandomForestRegressor(max_depth=19, n_estimators=90, random_state=12345)\n",
            "RMSE модели случайного леса на обучающей выборке: 31.82855961331569\n",
            "RandomForestRegressor(max_depth=19, n_estimators=105, random_state=12345)\n",
            "RMSE модели случайного леса на обучающей выборке: 31.8365168496626\n",
            "RandomForestRegressor(max_depth=19, n_estimators=120, random_state=12345)\n",
            "RMSE модели случайного леса на обучающей выборке: 31.89303680310092\n",
            "RandomForestRegressor(max_depth=19, n_estimators=135, random_state=12345)\n",
            "RMSE модели случайного леса на обучающей выборке: 31.89306381705916\n",
            "RandomForestRegressor(max_depth=19, n_estimators=150, random_state=12345)\n",
            "RMSE модели случайного леса на обучающей выборке: 31.88211333326124\n",
            "RandomForestRegressor(max_depth=19, n_estimators=165, random_state=12345)\n",
            "RMSE модели случайного леса на обучающей выборке: 31.839213126955066\n",
            "RandomForestRegressor(max_depth=19, n_estimators=180, random_state=12345)\n",
            "RMSE модели случайного леса на обучающей выборке: 31.857670837937707\n",
            "RandomForestRegressor(max_depth=19, n_estimators=195, random_state=12345)\n",
            "RMSE модели случайного леса на обучающей выборке: 31.881350049264945\n",
            "RandomForestRegressor(max_depth=19, n_estimators=210, random_state=12345)\n",
            "RMSE модели случайного леса на обучающей выборке: 31.905176497735884\n",
            "RandomForestRegressor(max_depth=19, n_estimators=225, random_state=12345)\n",
            "RMSE модели случайного леса на обучающей выборке: 31.880732402939042\n",
            "RandomForestRegressor(max_depth=19, n_estimators=240, random_state=12345)\n",
            "RMSE модели случайного леса на обучающей выборке: 31.83837855899759\n",
            "RandomForestRegressor(max_depth=19, n_estimators=255, random_state=12345)\n",
            "RMSE модели случайного леса на обучающей выборке: 31.842995327271534\n",
            "RandomForestRegressor(max_depth=19, n_estimators=270, random_state=12345)\n",
            "RMSE модели случайного леса на обучающей выборке: 31.875445389236436\n",
            "RandomForestRegressor(max_depth=19, n_estimators=285, random_state=12345)\n",
            "RMSE модели случайного леса на обучающей выборке: 31.90090215388039\n",
            "RandomForestRegressor(max_depth=19, n_estimators=300, random_state=12345)\n",
            "RMSE модели случайного леса на обучающей выборке: 31.909814196534256\n",
            "RandomForestRegressor(max_depth=19, n_estimators=315, random_state=12345)\n",
            "RMSE модели случайного леса на обучающей выборке: 31.88114730353862\n",
            "RandomForestRegressor(max_depth=19, n_estimators=330, random_state=12345)\n",
            "RMSE модели случайного леса на обучающей выборке: 31.918482121302446\n",
            "RandomForestRegressor(max_depth=19, n_estimators=345, random_state=12345)\n",
            "RMSE модели случайного леса на обучающей выборке: 31.922764566534564\n",
            "RandomForestRegressor(max_depth=20, n_estimators=15, random_state=12345)\n",
            "RMSE модели случайного леса на обучающей выборке: 32.25594547303623\n",
            "RandomForestRegressor(max_depth=20, n_estimators=30, random_state=12345)\n",
            "RMSE модели случайного леса на обучающей выборке: 32.26887515094841\n",
            "RandomForestRegressor(max_depth=20, n_estimators=45, random_state=12345)\n",
            "RMSE модели случайного леса на обучающей выборке: 32.325399641278175\n",
            "RandomForestRegressor(max_depth=20, n_estimators=60, random_state=12345)\n",
            "RMSE модели случайного леса на обучающей выборке: 31.927506638751744\n",
            "RandomForestRegressor(max_depth=20, n_estimators=75, random_state=12345)\n",
            "RMSE модели случайного леса на обучающей выборке: 31.731668314928612\n",
            "RandomForestRegressor(max_depth=20, n_estimators=90, random_state=12345)\n",
            "RMSE модели случайного леса на обучающей выборке: 31.78952898217911\n",
            "RandomForestRegressor(max_depth=20, n_estimators=105, random_state=12345)\n",
            "RMSE модели случайного леса на обучающей выборке: 31.790456231341526\n",
            "RandomForestRegressor(max_depth=20, n_estimators=120, random_state=12345)\n",
            "RMSE модели случайного леса на обучающей выборке: 31.816736495085497\n",
            "RandomForestRegressor(max_depth=20, n_estimators=135, random_state=12345)\n",
            "RMSE модели случайного леса на обучающей выборке: 31.782100106889697\n",
            "RandomForestRegressor(max_depth=20, n_estimators=150, random_state=12345)\n",
            "RMSE модели случайного леса на обучающей выборке: 31.77329326559603\n",
            "RandomForestRegressor(max_depth=20, n_estimators=165, random_state=12345)\n",
            "RMSE модели случайного леса на обучающей выборке: 31.73796812101051\n",
            "RandomForestRegressor(max_depth=20, n_estimators=180, random_state=12345)\n",
            "RMSE модели случайного леса на обучающей выборке: 31.719717285544007\n",
            "RandomForestRegressor(max_depth=20, n_estimators=195, random_state=12345)\n",
            "RMSE модели случайного леса на обучающей выборке: 31.74318709059319\n",
            "RandomForestRegressor(max_depth=20, n_estimators=210, random_state=12345)\n",
            "RMSE модели случайного леса на обучающей выборке: 31.781777907733055\n",
            "RandomForestRegressor(max_depth=20, n_estimators=225, random_state=12345)\n",
            "RMSE модели случайного леса на обучающей выборке: 31.75330568556825\n",
            "RandomForestRegressor(max_depth=20, n_estimators=240, random_state=12345)\n",
            "RMSE модели случайного леса на обучающей выборке: 31.738669607634456\n",
            "RandomForestRegressor(max_depth=20, n_estimators=255, random_state=12345)\n",
            "RMSE модели случайного леса на обучающей выборке: 31.749560424626146\n",
            "RandomForestRegressor(max_depth=20, n_estimators=270, random_state=12345)\n",
            "RMSE модели случайного леса на обучающей выборке: 31.798262880164135\n",
            "RandomForestRegressor(max_depth=20, n_estimators=285, random_state=12345)\n",
            "RMSE модели случайного леса на обучающей выборке: 31.80790573875764\n",
            "RandomForestRegressor(max_depth=20, n_estimators=300, random_state=12345)\n",
            "RMSE модели случайного леса на обучающей выборке: 31.8255264125803\n",
            "RandomForestRegressor(max_depth=20, n_estimators=315, random_state=12345)\n",
            "RMSE модели случайного леса на обучающей выборке: 31.832096856481762\n",
            "RandomForestRegressor(max_depth=20, n_estimators=330, random_state=12345)\n",
            "RMSE модели случайного леса на обучающей выборке: 31.873732101334134\n",
            "RandomForestRegressor(max_depth=20, n_estimators=345, random_state=12345)\n",
            "RMSE модели случайного леса на обучающей выборке: 31.890536396858558\n",
            "RandomForestRegressor(max_depth=21, n_estimators=15, random_state=12345)\n",
            "RMSE модели случайного леса на обучающей выборке: 32.48306554934272\n",
            "RandomForestRegressor(max_depth=21, n_estimators=30, random_state=12345)\n",
            "RMSE модели случайного леса на обучающей выборке: 32.38713060171792\n",
            "RandomForestRegressor(max_depth=21, n_estimators=45, random_state=12345)\n",
            "RMSE модели случайного леса на обучающей выборке: 32.516079245542734\n",
            "RandomForestRegressor(max_depth=21, n_estimators=60, random_state=12345)\n",
            "RMSE модели случайного леса на обучающей выборке: 32.112770624606405\n",
            "RandomForestRegressor(max_depth=21, n_estimators=75, random_state=12345)\n",
            "RMSE модели случайного леса на обучающей выборке: 31.903792657927436\n",
            "RandomForestRegressor(max_depth=21, n_estimators=90, random_state=12345)\n",
            "RMSE модели случайного леса на обучающей выборке: 31.919222655880844\n",
            "RandomForestRegressor(max_depth=21, n_estimators=105, random_state=12345)\n",
            "RMSE модели случайного леса на обучающей выборке: 31.905519785936466\n",
            "RandomForestRegressor(max_depth=21, n_estimators=120, random_state=12345)\n",
            "RMSE модели случайного леса на обучающей выборке: 31.94641622772187\n",
            "RandomForestRegressor(max_depth=21, n_estimators=135, random_state=12345)\n",
            "RMSE модели случайного леса на обучающей выборке: 31.949192489145478\n",
            "RandomForestRegressor(max_depth=21, n_estimators=150, random_state=12345)\n",
            "RMSE модели случайного леса на обучающей выборке: 31.90525776501221\n",
            "RandomForestRegressor(max_depth=21, n_estimators=165, random_state=12345)\n",
            "RMSE модели случайного леса на обучающей выборке: 31.87251134392175\n",
            "RandomForestRegressor(max_depth=21, n_estimators=180, random_state=12345)\n",
            "RMSE модели случайного леса на обучающей выборке: 31.85988594176708\n",
            "RandomForestRegressor(max_depth=21, n_estimators=195, random_state=12345)\n",
            "RMSE модели случайного леса на обучающей выборке: 31.87864310989681\n",
            "RandomForestRegressor(max_depth=21, n_estimators=210, random_state=12345)\n",
            "RMSE модели случайного леса на обучающей выборке: 31.8992077878188\n",
            "RandomForestRegressor(max_depth=21, n_estimators=225, random_state=12345)\n",
            "RMSE модели случайного леса на обучающей выборке: 31.86503001987405\n",
            "RandomForestRegressor(max_depth=21, n_estimators=240, random_state=12345)\n",
            "RMSE модели случайного леса на обучающей выборке: 31.8478955742879\n",
            "RandomForestRegressor(max_depth=21, n_estimators=255, random_state=12345)\n",
            "RMSE модели случайного леса на обучающей выборке: 31.86064124503384\n",
            "RandomForestRegressor(max_depth=21, n_estimators=270, random_state=12345)\n",
            "RMSE модели случайного леса на обучающей выборке: 31.890317107194544\n",
            "RandomForestRegressor(max_depth=21, n_estimators=285, random_state=12345)\n",
            "RMSE модели случайного леса на обучающей выборке: 31.91204960258246\n",
            "RandomForestRegressor(max_depth=21, n_estimators=300, random_state=12345)\n",
            "RMSE модели случайного леса на обучающей выборке: 31.933372245817228\n",
            "RandomForestRegressor(max_depth=21, n_estimators=315, random_state=12345)\n",
            "RMSE модели случайного леса на обучающей выборке: 31.915009623671914\n",
            "RandomForestRegressor(max_depth=21, n_estimators=330, random_state=12345)\n",
            "RMSE модели случайного леса на обучающей выборке: 31.95520066148948\n",
            "RandomForestRegressor(max_depth=21, n_estimators=345, random_state=12345)\n",
            "RMSE модели случайного леса на обучающей выборке: 31.964465795713238\n",
            "RandomForestRegressor(max_depth=22, n_estimators=15, random_state=12345)\n",
            "RMSE модели случайного леса на обучающей выборке: 32.482295879505905\n",
            "RandomForestRegressor(max_depth=22, n_estimators=30, random_state=12345)\n",
            "RMSE модели случайного леса на обучающей выборке: 32.345849651620675\n",
            "RandomForestRegressor(max_depth=22, n_estimators=45, random_state=12345)\n",
            "RMSE модели случайного леса на обучающей выборке: 32.43905606767828\n",
            "RandomForestRegressor(max_depth=22, n_estimators=60, random_state=12345)\n",
            "RMSE модели случайного леса на обучающей выборке: 32.12125462639719\n",
            "RandomForestRegressor(max_depth=22, n_estimators=75, random_state=12345)\n",
            "RMSE модели случайного леса на обучающей выборке: 31.905272915049345\n",
            "RandomForestRegressor(max_depth=22, n_estimators=90, random_state=12345)\n",
            "RMSE модели случайного леса на обучающей выборке: 31.91536956164476\n",
            "RandomForestRegressor(max_depth=22, n_estimators=105, random_state=12345)\n",
            "RMSE модели случайного леса на обучающей выборке: 31.948001668671832\n",
            "RandomForestRegressor(max_depth=22, n_estimators=120, random_state=12345)\n",
            "RMSE модели случайного леса на обучающей выборке: 31.986628875008837\n",
            "RandomForestRegressor(max_depth=22, n_estimators=135, random_state=12345)\n",
            "RMSE модели случайного леса на обучающей выборке: 31.950522190602733\n",
            "RandomForestRegressor(max_depth=22, n_estimators=150, random_state=12345)\n",
            "RMSE модели случайного леса на обучающей выборке: 31.91666832873965\n",
            "RandomForestRegressor(max_depth=22, n_estimators=165, random_state=12345)\n",
            "RMSE модели случайного леса на обучающей выборке: 31.866788882899552\n",
            "RandomForestRegressor(max_depth=22, n_estimators=180, random_state=12345)\n",
            "RMSE модели случайного леса на обучающей выборке: 31.89643176145866\n",
            "RandomForestRegressor(max_depth=22, n_estimators=195, random_state=12345)\n",
            "RMSE модели случайного леса на обучающей выборке: 31.908888195386144\n",
            "RandomForestRegressor(max_depth=22, n_estimators=210, random_state=12345)\n",
            "RMSE модели случайного леса на обучающей выборке: 31.944409592169194\n",
            "RandomForestRegressor(max_depth=22, n_estimators=225, random_state=12345)\n",
            "RMSE модели случайного леса на обучающей выборке: 31.919455126584637\n",
            "RandomForestRegressor(max_depth=22, n_estimators=240, random_state=12345)\n",
            "RMSE модели случайного леса на обучающей выборке: 31.882597536921594\n",
            "RandomForestRegressor(max_depth=22, n_estimators=255, random_state=12345)\n",
            "RMSE модели случайного леса на обучающей выборке: 31.8717087704365\n",
            "RandomForestRegressor(max_depth=22, n_estimators=270, random_state=12345)\n",
            "RMSE модели случайного леса на обучающей выборке: 31.914821680254907\n",
            "RandomForestRegressor(max_depth=22, n_estimators=285, random_state=12345)\n",
            "RMSE модели случайного леса на обучающей выборке: 31.93363584760262\n",
            "RandomForestRegressor(max_depth=22, n_estimators=300, random_state=12345)\n",
            "RMSE модели случайного леса на обучающей выборке: 31.936779273281292\n",
            "RandomForestRegressor(max_depth=22, n_estimators=315, random_state=12345)\n",
            "RMSE модели случайного леса на обучающей выборке: 31.926795340175232\n",
            "RandomForestRegressor(max_depth=22, n_estimators=330, random_state=12345)\n",
            "RMSE модели случайного леса на обучающей выборке: 31.978844911473548\n",
            "RandomForestRegressor(max_depth=22, n_estimators=345, random_state=12345)\n",
            "RMSE модели случайного леса на обучающей выборке: 31.983741216168745\n",
            "RandomForestRegressor(max_depth=23, n_estimators=15, random_state=12345)\n",
            "RMSE модели случайного леса на обучающей выборке: 32.24280446849484\n",
            "RandomForestRegressor(max_depth=23, n_estimators=30, random_state=12345)\n",
            "RMSE модели случайного леса на обучающей выборке: 32.33916217237212\n",
            "RandomForestRegressor(max_depth=23, n_estimators=45, random_state=12345)\n",
            "RMSE модели случайного леса на обучающей выборке: 32.40491714926106\n",
            "RandomForestRegressor(max_depth=23, n_estimators=60, random_state=12345)\n",
            "RMSE модели случайного леса на обучающей выборке: 32.060177924737864\n",
            "RandomForestRegressor(max_depth=23, n_estimators=75, random_state=12345)\n",
            "RMSE модели случайного леса на обучающей выборке: 31.82157077394301\n",
            "RandomForestRegressor(max_depth=23, n_estimators=90, random_state=12345)\n",
            "RMSE модели случайного леса на обучающей выборке: 31.871884490425508\n",
            "RandomForestRegressor(max_depth=23, n_estimators=105, random_state=12345)\n",
            "RMSE модели случайного леса на обучающей выборке: 31.842120253649956\n",
            "RandomForestRegressor(max_depth=23, n_estimators=120, random_state=12345)\n",
            "RMSE модели случайного леса на обучающей выборке: 31.873155391263396\n",
            "RandomForestRegressor(max_depth=23, n_estimators=135, random_state=12345)\n",
            "RMSE модели случайного леса на обучающей выборке: 31.87420734905732\n",
            "RandomForestRegressor(max_depth=23, n_estimators=150, random_state=12345)\n",
            "RMSE модели случайного леса на обучающей выборке: 31.86341621373379\n",
            "RandomForestRegressor(max_depth=23, n_estimators=165, random_state=12345)\n",
            "RMSE модели случайного леса на обучающей выборке: 31.831154024421632\n",
            "RandomForestRegressor(max_depth=23, n_estimators=180, random_state=12345)\n",
            "RMSE модели случайного леса на обучающей выборке: 31.856022693809628\n",
            "RandomForestRegressor(max_depth=23, n_estimators=195, random_state=12345)\n",
            "RMSE модели случайного леса на обучающей выборке: 31.873515755335166\n",
            "RandomForestRegressor(max_depth=23, n_estimators=210, random_state=12345)\n",
            "RMSE модели случайного леса на обучающей выборке: 31.922545822487194\n",
            "RandomForestRegressor(max_depth=23, n_estimators=225, random_state=12345)\n",
            "RMSE модели случайного леса на обучающей выборке: 31.902547696728682\n",
            "RandomForestRegressor(max_depth=23, n_estimators=240, random_state=12345)\n",
            "RMSE модели случайного леса на обучающей выборке: 31.877349864310325\n",
            "RandomForestRegressor(max_depth=23, n_estimators=255, random_state=12345)\n",
            "RMSE модели случайного леса на обучающей выборке: 31.898510372664045\n",
            "RandomForestRegressor(max_depth=23, n_estimators=270, random_state=12345)\n",
            "RMSE модели случайного леса на обучающей выборке: 31.947889868229343\n",
            "RandomForestRegressor(max_depth=23, n_estimators=285, random_state=12345)\n",
            "RMSE модели случайного леса на обучающей выборке: 31.95093908140118\n",
            "RandomForestRegressor(max_depth=23, n_estimators=300, random_state=12345)\n",
            "RMSE модели случайного леса на обучающей выборке: 31.95406624153517\n",
            "RandomForestRegressor(max_depth=23, n_estimators=315, random_state=12345)\n",
            "RMSE модели случайного леса на обучающей выборке: 31.911880968807044\n",
            "RandomForestRegressor(max_depth=23, n_estimators=330, random_state=12345)\n",
            "RMSE модели случайного леса на обучающей выборке: 31.942839119665873\n",
            "RandomForestRegressor(max_depth=23, n_estimators=345, random_state=12345)\n",
            "RMSE модели случайного леса на обучающей выборке: 31.952065133063044\n",
            "RandomForestRegressor(max_depth=24, n_estimators=15, random_state=12345)\n",
            "RMSE модели случайного леса на обучающей выборке: 32.580503525620614\n",
            "RandomForestRegressor(max_depth=24, n_estimators=30, random_state=12345)\n",
            "RMSE модели случайного леса на обучающей выборке: 32.28653782219586\n",
            "RandomForestRegressor(max_depth=24, n_estimators=45, random_state=12345)\n",
            "RMSE модели случайного леса на обучающей выборке: 32.379579374929705\n",
            "RandomForestRegressor(max_depth=24, n_estimators=60, random_state=12345)\n",
            "RMSE модели случайного леса на обучающей выборке: 32.01756775730016\n",
            "RandomForestRegressor(max_depth=24, n_estimators=75, random_state=12345)\n",
            "RMSE модели случайного леса на обучающей выборке: 31.760570757998774\n",
            "RandomForestRegressor(max_depth=24, n_estimators=90, random_state=12345)\n",
            "RMSE модели случайного леса на обучающей выборке: 31.78324484089244\n",
            "RandomForestRegressor(max_depth=24, n_estimators=105, random_state=12345)\n",
            "RMSE модели случайного леса на обучающей выборке: 31.835408474801195\n",
            "RandomForestRegressor(max_depth=24, n_estimators=120, random_state=12345)\n",
            "RMSE модели случайного леса на обучающей выборке: 31.868489891687606\n",
            "RandomForestRegressor(max_depth=24, n_estimators=135, random_state=12345)\n",
            "RMSE модели случайного леса на обучающей выборке: 31.855575839153076\n",
            "RandomForestRegressor(max_depth=24, n_estimators=150, random_state=12345)\n",
            "RMSE модели случайного леса на обучающей выборке: 31.846240138231035\n",
            "RandomForestRegressor(max_depth=24, n_estimators=165, random_state=12345)\n",
            "RMSE модели случайного леса на обучающей выборке: 31.830591209982344\n",
            "RandomForestRegressor(max_depth=24, n_estimators=180, random_state=12345)\n",
            "RMSE модели случайного леса на обучающей выборке: 31.839415489980958\n",
            "RandomForestRegressor(max_depth=24, n_estimators=195, random_state=12345)\n",
            "RMSE модели случайного леса на обучающей выборке: 31.846714839278082\n",
            "RandomForestRegressor(max_depth=24, n_estimators=210, random_state=12345)\n",
            "RMSE модели случайного леса на обучающей выборке: 31.893785470469332\n",
            "RandomForestRegressor(max_depth=24, n_estimators=225, random_state=12345)\n",
            "RMSE модели случайного леса на обучающей выборке: 31.86880093726025\n",
            "RandomForestRegressor(max_depth=24, n_estimators=240, random_state=12345)\n",
            "RMSE модели случайного леса на обучающей выборке: 31.854331577950354\n",
            "RandomForestRegressor(max_depth=24, n_estimators=255, random_state=12345)\n",
            "RMSE модели случайного леса на обучающей выборке: 31.866972994144263\n",
            "RandomForestRegressor(max_depth=24, n_estimators=270, random_state=12345)\n",
            "RMSE модели случайного леса на обучающей выборке: 31.906143029901372\n",
            "RandomForestRegressor(max_depth=24, n_estimators=285, random_state=12345)\n",
            "RMSE модели случайного леса на обучающей выборке: 31.90833431501394\n",
            "RandomForestRegressor(max_depth=24, n_estimators=300, random_state=12345)\n",
            "RMSE модели случайного леса на обучающей выборке: 31.931683460336973\n",
            "RandomForestRegressor(max_depth=24, n_estimators=315, random_state=12345)\n",
            "RMSE модели случайного леса на обучающей выборке: 31.917570439800837\n",
            "RandomForestRegressor(max_depth=24, n_estimators=330, random_state=12345)\n",
            "RMSE модели случайного леса на обучающей выборке: 31.958706111609875\n",
            "RandomForestRegressor(max_depth=24, n_estimators=345, random_state=12345)\n",
            "RMSE модели случайного леса на обучающей выборке: 31.97418893851673\n",
            "RandomForestRegressor(max_depth=25, n_estimators=15, random_state=12345)\n",
            "RMSE модели случайного леса на обучающей выборке: 32.52512734778707\n",
            "RandomForestRegressor(max_depth=25, n_estimators=30, random_state=12345)\n",
            "RMSE модели случайного леса на обучающей выборке: 32.273167881853404\n",
            "RandomForestRegressor(max_depth=25, n_estimators=45, random_state=12345)\n",
            "RMSE модели случайного леса на обучающей выборке: 32.378479526715964\n",
            "RandomForestRegressor(max_depth=25, n_estimators=60, random_state=12345)\n",
            "RMSE модели случайного леса на обучающей выборке: 32.04573505040072\n",
            "RandomForestRegressor(max_depth=25, n_estimators=75, random_state=12345)\n",
            "RMSE модели случайного леса на обучающей выборке: 31.81325387888571\n",
            "RandomForestRegressor(max_depth=25, n_estimators=90, random_state=12345)\n",
            "RMSE модели случайного леса на обучающей выборке: 31.831852832842035\n",
            "RandomForestRegressor(max_depth=25, n_estimators=105, random_state=12345)\n",
            "RMSE модели случайного леса на обучающей выборке: 31.850082070587693\n",
            "RandomForestRegressor(max_depth=25, n_estimators=120, random_state=12345)\n",
            "RMSE модели случайного леса на обучающей выборке: 31.877583176186373\n",
            "RandomForestRegressor(max_depth=25, n_estimators=135, random_state=12345)\n",
            "RMSE модели случайного леса на обучающей выборке: 31.899940555604623\n",
            "RandomForestRegressor(max_depth=25, n_estimators=150, random_state=12345)\n",
            "RMSE модели случайного леса на обучающей выборке: 31.876375174698666\n",
            "RandomForestRegressor(max_depth=25, n_estimators=165, random_state=12345)\n",
            "RMSE модели случайного леса на обучающей выборке: 31.844443984311898\n",
            "RandomForestRegressor(max_depth=25, n_estimators=180, random_state=12345)\n",
            "RMSE модели случайного леса на обучающей выборке: 31.840407050389704\n",
            "RandomForestRegressor(max_depth=25, n_estimators=195, random_state=12345)\n",
            "RMSE модели случайного леса на обучающей выборке: 31.847445569852024\n",
            "RandomForestRegressor(max_depth=25, n_estimators=210, random_state=12345)\n",
            "RMSE модели случайного леса на обучающей выборке: 31.891982921940407\n",
            "RandomForestRegressor(max_depth=25, n_estimators=225, random_state=12345)\n",
            "RMSE модели случайного леса на обучающей выборке: 31.865526653724437\n",
            "RandomForestRegressor(max_depth=25, n_estimators=240, random_state=12345)\n",
            "RMSE модели случайного леса на обучающей выборке: 31.836143860345796\n",
            "RandomForestRegressor(max_depth=25, n_estimators=255, random_state=12345)\n",
            "RMSE модели случайного леса на обучающей выборке: 31.856644201997693\n",
            "RandomForestRegressor(max_depth=25, n_estimators=270, random_state=12345)\n",
            "RMSE модели случайного леса на обучающей выборке: 31.89539905149687\n",
            "RandomForestRegressor(max_depth=25, n_estimators=285, random_state=12345)\n",
            "RMSE модели случайного леса на обучающей выборке: 31.883416506174754\n",
            "RandomForestRegressor(max_depth=25, n_estimators=300, random_state=12345)\n",
            "RMSE модели случайного леса на обучающей выборке: 31.89616480551057\n",
            "RandomForestRegressor(max_depth=25, n_estimators=315, random_state=12345)\n",
            "RMSE модели случайного леса на обучающей выборке: 31.886025631349742\n",
            "RandomForestRegressor(max_depth=25, n_estimators=330, random_state=12345)\n",
            "RMSE модели случайного леса на обучающей выборке: 31.920166961544304\n",
            "RandomForestRegressor(max_depth=25, n_estimators=345, random_state=12345)\n",
            "RMSE модели случайного леса на обучающей выборке: 31.93945161305756\n",
            "RandomForestRegressor(max_depth=26, n_estimators=15, random_state=12345)\n",
            "RMSE модели случайного леса на обучающей выборке: 32.35613301741762\n",
            "RandomForestRegressor(max_depth=26, n_estimators=30, random_state=12345)\n",
            "RMSE модели случайного леса на обучающей выборке: 32.2549471480964\n",
            "RandomForestRegressor(max_depth=26, n_estimators=45, random_state=12345)\n",
            "RMSE модели случайного леса на обучающей выборке: 32.37068241765707\n",
            "RandomForestRegressor(max_depth=26, n_estimators=60, random_state=12345)\n",
            "RMSE модели случайного леса на обучающей выборке: 32.01654090538539\n",
            "RandomForestRegressor(max_depth=26, n_estimators=75, random_state=12345)\n",
            "RMSE модели случайного леса на обучающей выборке: 31.780153942217577\n",
            "RandomForestRegressor(max_depth=26, n_estimators=90, random_state=12345)\n",
            "RMSE модели случайного леса на обучающей выборке: 31.820551555948143\n",
            "RandomForestRegressor(max_depth=26, n_estimators=105, random_state=12345)\n",
            "RMSE модели случайного леса на обучающей выборке: 31.843006691568135\n",
            "RandomForestRegressor(max_depth=26, n_estimators=120, random_state=12345)\n",
            "RMSE модели случайного леса на обучающей выборке: 31.869675149249776\n",
            "RandomForestRegressor(max_depth=26, n_estimators=135, random_state=12345)\n",
            "RMSE модели случайного леса на обучающей выборке: 31.878472045452796\n",
            "RandomForestRegressor(max_depth=26, n_estimators=150, random_state=12345)\n",
            "RMSE модели случайного леса на обучающей выборке: 31.85829857788022\n",
            "RandomForestRegressor(max_depth=26, n_estimators=165, random_state=12345)\n",
            "RMSE модели случайного леса на обучающей выборке: 31.835671699818956\n",
            "RandomForestRegressor(max_depth=26, n_estimators=180, random_state=12345)\n",
            "RMSE модели случайного леса на обучающей выборке: 31.84867388943669\n",
            "RandomForestRegressor(max_depth=26, n_estimators=195, random_state=12345)\n",
            "RMSE модели случайного леса на обучающей выборке: 31.854827354857576\n",
            "RandomForestRegressor(max_depth=26, n_estimators=210, random_state=12345)\n",
            "RMSE модели случайного леса на обучающей выборке: 31.899957157636283\n",
            "RandomForestRegressor(max_depth=26, n_estimators=225, random_state=12345)\n",
            "RMSE модели случайного леса на обучающей выборке: 31.872394209362927\n",
            "RandomForestRegressor(max_depth=26, n_estimators=240, random_state=12345)\n",
            "RMSE модели случайного леса на обучающей выборке: 31.843022328931106\n",
            "RandomForestRegressor(max_depth=26, n_estimators=255, random_state=12345)\n",
            "RMSE модели случайного леса на обучающей выборке: 31.850547594614184\n",
            "RandomForestRegressor(max_depth=26, n_estimators=270, random_state=12345)\n",
            "RMSE модели случайного леса на обучающей выборке: 31.89612530991045\n",
            "RandomForestRegressor(max_depth=26, n_estimators=285, random_state=12345)\n",
            "RMSE модели случайного леса на обучающей выборке: 31.88635315872623\n",
            "RandomForestRegressor(max_depth=26, n_estimators=300, random_state=12345)\n",
            "RMSE модели случайного леса на обучающей выборке: 31.90479472504158\n",
            "RandomForestRegressor(max_depth=26, n_estimators=315, random_state=12345)\n",
            "RMSE модели случайного леса на обучающей выборке: 31.885705093739528\n",
            "RandomForestRegressor(max_depth=26, n_estimators=330, random_state=12345)\n",
            "RMSE модели случайного леса на обучающей выборке: 31.924167152609524\n",
            "RandomForestRegressor(max_depth=26, n_estimators=345, random_state=12345)\n",
            "RMSE модели случайного леса на обучающей выборке: 31.94621838441016\n",
            "RandomForestRegressor(max_depth=27, n_estimators=15, random_state=12345)\n",
            "RMSE модели случайного леса на обучающей выборке: 32.387052942509555\n",
            "RandomForestRegressor(max_depth=27, n_estimators=30, random_state=12345)\n",
            "RMSE модели случайного леса на обучающей выборке: 32.20074285440612\n",
            "RandomForestRegressor(max_depth=27, n_estimators=45, random_state=12345)\n",
            "RMSE модели случайного леса на обучающей выборке: 32.33344360915798\n",
            "RandomForestRegressor(max_depth=27, n_estimators=60, random_state=12345)\n",
            "RMSE модели случайного леса на обучающей выборке: 31.991346560273897\n",
            "RandomForestRegressor(max_depth=27, n_estimators=75, random_state=12345)\n",
            "RMSE модели случайного леса на обучающей выборке: 31.773130868385028\n",
            "RandomForestRegressor(max_depth=27, n_estimators=90, random_state=12345)\n",
            "RMSE модели случайного леса на обучающей выборке: 31.82009808781403\n",
            "RandomForestRegressor(max_depth=27, n_estimators=105, random_state=12345)\n",
            "RMSE модели случайного леса на обучающей выборке: 31.82746627405599\n",
            "RandomForestRegressor(max_depth=27, n_estimators=120, random_state=12345)\n",
            "RMSE модели случайного леса на обучающей выборке: 31.86831484645008\n",
            "RandomForestRegressor(max_depth=27, n_estimators=135, random_state=12345)\n",
            "RMSE модели случайного леса на обучающей выборке: 31.88931772787409\n",
            "RandomForestRegressor(max_depth=27, n_estimators=150, random_state=12345)\n",
            "RMSE модели случайного леса на обучающей выборке: 31.867690552038766\n",
            "RandomForestRegressor(max_depth=27, n_estimators=165, random_state=12345)\n",
            "RMSE модели случайного леса на обучающей выборке: 31.84025937431896\n",
            "RandomForestRegressor(max_depth=27, n_estimators=180, random_state=12345)\n",
            "RMSE модели случайного леса на обучающей выборке: 31.85255894056378\n",
            "RandomForestRegressor(max_depth=27, n_estimators=195, random_state=12345)\n",
            "RMSE модели случайного леса на обучающей выборке: 31.850036278027087\n",
            "RandomForestRegressor(max_depth=27, n_estimators=210, random_state=12345)\n",
            "RMSE модели случайного леса на обучающей выборке: 31.904663623958882\n",
            "RandomForestRegressor(max_depth=27, n_estimators=225, random_state=12345)\n",
            "RMSE модели случайного леса на обучающей выборке: 31.881824924243634\n",
            "RandomForestRegressor(max_depth=27, n_estimators=240, random_state=12345)\n",
            "RMSE модели случайного леса на обучающей выборке: 31.84758407171879\n",
            "RandomForestRegressor(max_depth=27, n_estimators=255, random_state=12345)\n",
            "RMSE модели случайного леса на обучающей выборке: 31.855163722085788\n",
            "RandomForestRegressor(max_depth=27, n_estimators=270, random_state=12345)\n",
            "RMSE модели случайного леса на обучающей выборке: 31.895439436269527\n",
            "RandomForestRegressor(max_depth=27, n_estimators=285, random_state=12345)\n",
            "RMSE модели случайного леса на обучающей выборке: 31.900594257515355\n",
            "RandomForestRegressor(max_depth=27, n_estimators=300, random_state=12345)\n",
            "RMSE модели случайного леса на обучающей выборке: 31.922611575073198\n",
            "RandomForestRegressor(max_depth=27, n_estimators=315, random_state=12345)\n",
            "RMSE модели случайного леса на обучающей выборке: 31.901702851030276\n",
            "RandomForestRegressor(max_depth=27, n_estimators=330, random_state=12345)\n",
            "RMSE модели случайного леса на обучающей выборке: 31.938046370221414\n",
            "RandomForestRegressor(max_depth=27, n_estimators=345, random_state=12345)\n",
            "RMSE модели случайного леса на обучающей выборке: 31.959614669994636\n",
            "RandomForestRegressor(max_depth=28, n_estimators=15, random_state=12345)\n",
            "RMSE модели случайного леса на обучающей выборке: 32.41096938895071\n",
            "RandomForestRegressor(max_depth=28, n_estimators=30, random_state=12345)\n",
            "RMSE модели случайного леса на обучающей выборке: 32.26714042518211\n",
            "RandomForestRegressor(max_depth=28, n_estimators=45, random_state=12345)\n",
            "RMSE модели случайного леса на обучающей выборке: 32.37517878876794\n",
            "RandomForestRegressor(max_depth=28, n_estimators=60, random_state=12345)\n",
            "RMSE модели случайного леса на обучающей выборке: 32.01779713934515\n",
            "RandomForestRegressor(max_depth=28, n_estimators=75, random_state=12345)\n",
            "RMSE модели случайного леса на обучающей выборке: 31.785989977885432\n",
            "RandomForestRegressor(max_depth=28, n_estimators=90, random_state=12345)\n",
            "RMSE модели случайного леса на обучающей выборке: 31.825890571697254\n",
            "RandomForestRegressor(max_depth=28, n_estimators=105, random_state=12345)\n",
            "RMSE модели случайного леса на обучающей выборке: 31.850052549086413\n",
            "RandomForestRegressor(max_depth=28, n_estimators=120, random_state=12345)\n",
            "RMSE модели случайного леса на обучающей выборке: 31.875711149595485\n",
            "RandomForestRegressor(max_depth=28, n_estimators=135, random_state=12345)\n",
            "RMSE модели случайного леса на обучающей выборке: 31.895422180183132\n",
            "RandomForestRegressor(max_depth=28, n_estimators=150, random_state=12345)\n",
            "RMSE модели случайного леса на обучающей выборке: 31.877720317204368\n",
            "RandomForestRegressor(max_depth=28, n_estimators=165, random_state=12345)\n",
            "RMSE модели случайного леса на обучающей выборке: 31.849437955166582\n",
            "RandomForestRegressor(max_depth=28, n_estimators=180, random_state=12345)\n",
            "RMSE модели случайного леса на обучающей выборке: 31.849010516861217\n",
            "RandomForestRegressor(max_depth=28, n_estimators=195, random_state=12345)\n",
            "RMSE модели случайного леса на обучающей выборке: 31.849279871432767\n",
            "RandomForestRegressor(max_depth=28, n_estimators=210, random_state=12345)\n",
            "RMSE модели случайного леса на обучающей выборке: 31.904323775585357\n",
            "RandomForestRegressor(max_depth=28, n_estimators=225, random_state=12345)\n",
            "RMSE модели случайного леса на обучающей выборке: 31.875317675434733\n",
            "RandomForestRegressor(max_depth=28, n_estimators=240, random_state=12345)\n",
            "RMSE модели случайного леса на обучающей выборке: 31.841280179183247\n",
            "RandomForestRegressor(max_depth=28, n_estimators=255, random_state=12345)\n",
            "RMSE модели случайного леса на обучающей выборке: 31.84922348970695\n",
            "RandomForestRegressor(max_depth=28, n_estimators=270, random_state=12345)\n",
            "RMSE модели случайного леса на обучающей выборке: 31.894352539905203\n",
            "RandomForestRegressor(max_depth=28, n_estimators=285, random_state=12345)\n",
            "RMSE модели случайного леса на обучающей выборке: 31.888988665121797\n",
            "RandomForestRegressor(max_depth=28, n_estimators=300, random_state=12345)\n",
            "RMSE модели случайного леса на обучающей выборке: 31.911716251261744\n",
            "RandomForestRegressor(max_depth=28, n_estimators=315, random_state=12345)\n",
            "RMSE модели случайного леса на обучающей выборке: 31.88547028071576\n",
            "RandomForestRegressor(max_depth=28, n_estimators=330, random_state=12345)\n",
            "RMSE модели случайного леса на обучающей выборке: 31.923356445352134\n",
            "RandomForestRegressor(max_depth=28, n_estimators=345, random_state=12345)\n",
            "RMSE модели случайного леса на обучающей выборке: 31.94434365037079\n",
            "RandomForestRegressor(max_depth=29, n_estimators=15, random_state=12345)\n",
            "RMSE модели случайного леса на обучающей выборке: 32.351464144341044\n",
            "RandomForestRegressor(max_depth=29, n_estimators=30, random_state=12345)\n",
            "RMSE модели случайного леса на обучающей выборке: 32.24511297126815\n",
            "RandomForestRegressor(max_depth=29, n_estimators=45, random_state=12345)\n",
            "RMSE модели случайного леса на обучающей выборке: 32.361642730439904\n",
            "RandomForestRegressor(max_depth=29, n_estimators=60, random_state=12345)\n",
            "RMSE модели случайного леса на обучающей выборке: 32.00425656877548\n",
            "RandomForestRegressor(max_depth=29, n_estimators=75, random_state=12345)\n",
            "RMSE модели случайного леса на обучающей выборке: 31.788910425222245\n",
            "RandomForestRegressor(max_depth=29, n_estimators=90, random_state=12345)\n",
            "RMSE модели случайного леса на обучающей выборке: 31.828580843505467\n",
            "RandomForestRegressor(max_depth=29, n_estimators=105, random_state=12345)\n",
            "RMSE модели случайного леса на обучающей выборке: 31.852519857970698\n",
            "RandomForestRegressor(max_depth=29, n_estimators=120, random_state=12345)\n",
            "RMSE модели случайного леса на обучающей выборке: 31.87758123428125\n",
            "RandomForestRegressor(max_depth=29, n_estimators=135, random_state=12345)\n",
            "RMSE модели случайного леса на обучающей выборке: 31.897126710571932\n",
            "RandomForestRegressor(max_depth=29, n_estimators=150, random_state=12345)\n",
            "RMSE модели случайного леса на обучающей выборке: 31.879062445452707\n",
            "RandomForestRegressor(max_depth=29, n_estimators=165, random_state=12345)\n",
            "RMSE модели случайного леса на обучающей выборке: 31.850702132209417\n",
            "RandomForestRegressor(max_depth=29, n_estimators=180, random_state=12345)\n",
            "RMSE модели случайного леса на обучающей выборке: 31.855114311890674\n",
            "RandomForestRegressor(max_depth=29, n_estimators=195, random_state=12345)\n",
            "RMSE модели случайного леса на обучающей выборке: 31.859293592060574\n",
            "RandomForestRegressor(max_depth=29, n_estimators=210, random_state=12345)\n",
            "RMSE модели случайного леса на обучающей выборке: 31.913728278314757\n",
            "RandomForestRegressor(max_depth=29, n_estimators=225, random_state=12345)\n",
            "RMSE модели случайного леса на обучающей выборке: 31.888802305140857\n",
            "RandomForestRegressor(max_depth=29, n_estimators=240, random_state=12345)\n",
            "RMSE модели случайного леса на обучающей выборке: 31.850999308885758\n",
            "RandomForestRegressor(max_depth=29, n_estimators=255, random_state=12345)\n",
            "RMSE модели случайного леса на обучающей выборке: 31.858347904740643\n",
            "RandomForestRegressor(max_depth=29, n_estimators=270, random_state=12345)\n",
            "RMSE модели случайного леса на обучающей выборке: 31.903028503869308\n",
            "RandomForestRegressor(max_depth=29, n_estimators=285, random_state=12345)\n",
            "RMSE модели случайного леса на обучающей выборке: 31.896740649969214\n",
            "RandomForestRegressor(max_depth=29, n_estimators=300, random_state=12345)\n",
            "RMSE модели случайного леса на обучающей выборке: 31.919157551138074\n",
            "RandomForestRegressor(max_depth=29, n_estimators=315, random_state=12345)\n",
            "RMSE модели случайного леса на обучающей выборке: 31.92122834970865\n",
            "RandomForestRegressor(max_depth=29, n_estimators=330, random_state=12345)\n",
            "RMSE модели случайного леса на обучающей выборке: 31.95747725642801\n",
            "RandomForestRegressor(max_depth=29, n_estimators=345, random_state=12345)\n",
            "RMSE модели случайного леса на обучающей выборке: 31.97700596743508\n",
            "RandomForestRegressor(max_depth=30, n_estimators=15, random_state=12345)\n",
            "RMSE модели случайного леса на обучающей выборке: 32.351464144341044\n",
            "RandomForestRegressor(max_depth=30, n_estimators=30, random_state=12345)\n",
            "RMSE модели случайного леса на обучающей выборке: 32.24511297126815\n",
            "RandomForestRegressor(max_depth=30, n_estimators=45, random_state=12345)\n",
            "RMSE модели случайного леса на обучающей выборке: 32.361642730439904\n",
            "RandomForestRegressor(max_depth=30, n_estimators=60, random_state=12345)\n",
            "RMSE модели случайного леса на обучающей выборке: 32.00425656877548\n",
            "RandomForestRegressor(max_depth=30, n_estimators=75, random_state=12345)\n",
            "RMSE модели случайного леса на обучающей выборке: 31.76647535241629\n",
            "RandomForestRegressor(max_depth=30, n_estimators=90, random_state=12345)\n",
            "RMSE модели случайного леса на обучающей выборке: 31.80987941423018\n",
            "RandomForestRegressor(max_depth=30, n_estimators=105, random_state=12345)\n",
            "RMSE модели случайного леса на обучающей выборке: 31.836399170023\n",
            "RandomForestRegressor(max_depth=30, n_estimators=120, random_state=12345)\n",
            "RMSE модели случайного леса на обучающей выборке: 31.862935889584946\n",
            "RandomForestRegressor(max_depth=30, n_estimators=135, random_state=12345)\n",
            "RMSE модели случайного леса на обучающей выборке: 31.884178716287188\n",
            "RandomForestRegressor(max_depth=30, n_estimators=150, random_state=12345)\n",
            "RMSE модели случайного леса на обучающей выборке: 31.867244255307888\n",
            "RandomForestRegressor(max_depth=30, n_estimators=165, random_state=12345)\n",
            "RMSE модели случайного леса на обучающей выборке: 31.840031413669767\n",
            "RandomForestRegressor(max_depth=30, n_estimators=180, random_state=12345)\n",
            "RMSE модели случайного леса на обучающей выборке: 31.843779909129204\n",
            "RandomForestRegressor(max_depth=30, n_estimators=195, random_state=12345)\n",
            "RMSE модели случайного леса на обучающей выборке: 31.848623605230284\n",
            "RandomForestRegressor(max_depth=30, n_estimators=210, random_state=12345)\n",
            "RMSE модели случайного леса на обучающей выборке: 31.903702764857247\n",
            "RandomForestRegressor(max_depth=30, n_estimators=225, random_state=12345)\n",
            "RMSE модели случайного леса на обучающей выборке: 31.87676317545049\n",
            "RandomForestRegressor(max_depth=30, n_estimators=240, random_state=12345)\n",
            "RMSE модели случайного леса на обучающей выборке: 31.84139177999431\n",
            "RandomForestRegressor(max_depth=30, n_estimators=255, random_state=12345)\n",
            "RMSE модели случайного леса на обучающей выборке: 31.84918714408774\n",
            "RandomForestRegressor(max_depth=30, n_estimators=270, random_state=12345)\n",
            "RMSE модели случайного леса на обучающей выборке: 31.8942988875219\n",
            "RandomForestRegressor(max_depth=30, n_estimators=285, random_state=12345)\n",
            "RMSE модели случайного леса на обучающей выборке: 31.879786351861362\n",
            "RandomForestRegressor(max_depth=30, n_estimators=300, random_state=12345)\n",
            "RMSE модели случайного леса на обучающей выборке: 31.903057069679644\n",
            "RandomForestRegressor(max_depth=30, n_estimators=315, random_state=12345)\n",
            "RMSE модели случайного леса на обучающей выборке: 31.897576668569577\n",
            "RandomForestRegressor(max_depth=30, n_estimators=330, random_state=12345)\n",
            "RMSE модели случайного леса на обучающей выборке: 31.93489844787146\n",
            "RandomForestRegressor(max_depth=30, n_estimators=345, random_state=12345)\n",
            "RMSE модели случайного леса на обучающей выборке: 31.955428216017953\n",
            "RandomForestRegressor(max_depth=31, n_estimators=15, random_state=12345)\n",
            "RMSE модели случайного леса на обучающей выборке: 32.351464144341044\n",
            "RandomForestRegressor(max_depth=31, n_estimators=30, random_state=12345)\n",
            "RMSE модели случайного леса на обучающей выборке: 32.24511297126815\n",
            "RandomForestRegressor(max_depth=31, n_estimators=45, random_state=12345)\n",
            "RMSE модели случайного леса на обучающей выборке: 32.361642730439904\n",
            "RandomForestRegressor(max_depth=31, n_estimators=60, random_state=12345)\n",
            "RMSE модели случайного леса на обучающей выборке: 32.00425656877548\n",
            "RandomForestRegressor(max_depth=31, n_estimators=75, random_state=12345)\n",
            "RMSE модели случайного леса на обучающей выборке: 31.785801964525877\n",
            "RandomForestRegressor(max_depth=31, n_estimators=90, random_state=12345)\n",
            "RMSE модели случайного леса на обучающей выборке: 31.825872937604625\n",
            "RandomForestRegressor(max_depth=31, n_estimators=105, random_state=12345)\n",
            "RMSE модели случайного леса на обучающей выборке: 31.850500608464472\n",
            "RandomForestRegressor(max_depth=31, n_estimators=120, random_state=12345)\n",
            "RMSE модели случайного леса на обучающей выборке: 31.87566623339894\n",
            "RandomForestRegressor(max_depth=31, n_estimators=135, random_state=12345)\n",
            "RMSE модели случайного леса на обучающей выборке: 31.895484807894867\n",
            "RandomForestRegressor(max_depth=31, n_estimators=150, random_state=12345)\n",
            "RMSE модели случайного леса на обучающей выборке: 31.877533009212137\n",
            "RandomForestRegressor(max_depth=31, n_estimators=165, random_state=12345)\n",
            "RMSE модели случайного леса на обучающей выборке: 31.849259616607945\n",
            "RandomForestRegressor(max_depth=31, n_estimators=180, random_state=12345)\n",
            "RMSE модели случайного леса на обучающей выборке: 31.852471051159945\n",
            "RandomForestRegressor(max_depth=31, n_estimators=195, random_state=12345)\n",
            "RMSE модели случайного леса на обучающей выборке: 31.856726884998935\n",
            "RandomForestRegressor(max_depth=31, n_estimators=210, random_state=12345)\n",
            "RMSE модели случайного леса на обучающей выборке: 31.911281237860997\n",
            "RandomForestRegressor(max_depth=31, n_estimators=225, random_state=12345)\n",
            "RMSE модели случайного леса на обучающей выборке: 31.887391064499386\n",
            "RandomForestRegressor(max_depth=31, n_estimators=240, random_state=12345)\n",
            "RMSE модели случайного леса на обучающей выборке: 31.851438432711095\n",
            "RandomForestRegressor(max_depth=31, n_estimators=255, random_state=12345)\n",
            "RMSE модели случайного леса на обучающей выборке: 31.858596366010584\n",
            "RandomForestRegressor(max_depth=31, n_estimators=270, random_state=12345)\n",
            "RMSE модели случайного леса на обучающей выборке: 31.903250200602738\n",
            "RandomForestRegressor(max_depth=31, n_estimators=285, random_state=12345)\n",
            "RMSE модели случайного леса на обучающей выборке: 31.88961256100672\n",
            "RandomForestRegressor(max_depth=31, n_estimators=300, random_state=12345)\n",
            "RMSE модели случайного леса на обучающей выборке: 31.912490044084173\n",
            "RandomForestRegressor(max_depth=31, n_estimators=315, random_state=12345)\n",
            "RMSE модели случайного леса на обучающей выборке: 31.896083502633285\n",
            "RandomForestRegressor(max_depth=31, n_estimators=330, random_state=12345)\n",
            "RMSE модели случайного леса на обучающей выборке: 31.933502326656356\n",
            "RandomForestRegressor(max_depth=31, n_estimators=345, random_state=12345)\n",
            "RMSE модели случайного леса на обучающей выборке: 31.954080742901557\n",
            "RandomForestRegressor(max_depth=32, n_estimators=15, random_state=12345)\n",
            "RMSE модели случайного леса на обучающей выборке: 32.351464144341044\n",
            "RandomForestRegressor(max_depth=32, n_estimators=30, random_state=12345)\n",
            "RMSE модели случайного леса на обучающей выборке: 32.24511297126815\n",
            "RandomForestRegressor(max_depth=32, n_estimators=45, random_state=12345)\n",
            "RMSE модели случайного леса на обучающей выборке: 32.361642730439904\n",
            "RandomForestRegressor(max_depth=32, n_estimators=60, random_state=12345)\n",
            "RMSE модели случайного леса на обучающей выборке: 32.00425656877548\n",
            "RandomForestRegressor(max_depth=32, n_estimators=75, random_state=12345)\n",
            "RMSE модели случайного леса на обучающей выборке: 31.785801964525877\n",
            "RandomForestRegressor(max_depth=32, n_estimators=90, random_state=12345)\n",
            "RMSE модели случайного леса на обучающей выборке: 31.825872937604625\n",
            "RandomForestRegressor(max_depth=32, n_estimators=105, random_state=12345)\n",
            "RMSE модели случайного леса на обучающей выборке: 31.850500608464472\n",
            "RandomForestRegressor(max_depth=32, n_estimators=120, random_state=12345)\n",
            "RMSE модели случайного леса на обучающей выборке: 31.87566623339894\n",
            "RandomForestRegressor(max_depth=32, n_estimators=135, random_state=12345)\n",
            "RMSE модели случайного леса на обучающей выборке: 31.895484807894867\n",
            "RandomForestRegressor(max_depth=32, n_estimators=150, random_state=12345)\n",
            "RMSE модели случайного леса на обучающей выборке: 31.877533009212137\n",
            "RandomForestRegressor(max_depth=32, n_estimators=165, random_state=12345)\n",
            "RMSE модели случайного леса на обучающей выборке: 31.849259616607945\n",
            "RandomForestRegressor(max_depth=32, n_estimators=180, random_state=12345)\n",
            "RMSE модели случайного леса на обучающей выборке: 31.852471051159945\n",
            "RandomForestRegressor(max_depth=32, n_estimators=195, random_state=12345)\n",
            "RMSE модели случайного леса на обучающей выборке: 31.856726884998935\n",
            "RandomForestRegressor(max_depth=32, n_estimators=210, random_state=12345)\n",
            "RMSE модели случайного леса на обучающей выборке: 31.911281237860997\n",
            "RandomForestRegressor(max_depth=32, n_estimators=225, random_state=12345)\n",
            "RMSE модели случайного леса на обучающей выборке: 31.883997831415204\n",
            "RandomForestRegressor(max_depth=32, n_estimators=240, random_state=12345)\n",
            "RMSE модели случайного леса на обучающей выборке: 31.848282771854635\n",
            "RandomForestRegressor(max_depth=32, n_estimators=255, random_state=12345)\n",
            "RMSE модели случайного леса на обучающей выборке: 31.85559434774836\n",
            "RandomForestRegressor(max_depth=32, n_estimators=270, random_state=12345)\n",
            "RMSE модели случайного леса на обучающей выборке: 31.90042280832721\n",
            "RandomForestRegressor(max_depth=32, n_estimators=285, random_state=12345)\n",
            "RMSE модели случайного леса на обучающей выборке: 31.88693103414331\n",
            "RandomForestRegressor(max_depth=32, n_estimators=300, random_state=12345)\n",
            "RMSE модели случайного леса на обучающей выборке: 31.909969757070606\n",
            "RandomForestRegressor(max_depth=32, n_estimators=315, random_state=12345)\n",
            "RMSE модели случайного леса на обучающей выборке: 31.88420152190929\n",
            "RandomForestRegressor(max_depth=32, n_estimators=330, random_state=12345)\n",
            "RMSE модели случайного леса на обучающей выборке: 31.922106546483146\n",
            "RandomForestRegressor(max_depth=32, n_estimators=345, random_state=12345)\n",
            "RMSE модели случайного леса на обучающей выборке: 31.943181328415495\n",
            "RandomForestRegressor(max_depth=33, n_estimators=15, random_state=12345)\n",
            "RMSE модели случайного леса на обучающей выборке: 32.351464144341044\n",
            "RandomForestRegressor(max_depth=33, n_estimators=30, random_state=12345)\n",
            "RMSE модели случайного леса на обучающей выборке: 32.24511297126815\n",
            "RandomForestRegressor(max_depth=33, n_estimators=45, random_state=12345)\n",
            "RMSE модели случайного леса на обучающей выборке: 32.361642730439904\n",
            "RandomForestRegressor(max_depth=33, n_estimators=60, random_state=12345)\n",
            "RMSE модели случайного леса на обучающей выборке: 32.00425656877548\n",
            "RandomForestRegressor(max_depth=33, n_estimators=75, random_state=12345)\n",
            "RMSE модели случайного леса на обучающей выборке: 31.785801964525877\n",
            "RandomForestRegressor(max_depth=33, n_estimators=90, random_state=12345)\n",
            "RMSE модели случайного леса на обучающей выборке: 31.825872937604625\n",
            "RandomForestRegressor(max_depth=33, n_estimators=105, random_state=12345)\n",
            "RMSE модели случайного леса на обучающей выборке: 31.850500608464472\n",
            "RandomForestRegressor(max_depth=33, n_estimators=120, random_state=12345)\n",
            "RMSE модели случайного леса на обучающей выборке: 31.87566623339894\n",
            "RandomForestRegressor(max_depth=33, n_estimators=135, random_state=12345)\n",
            "RMSE модели случайного леса на обучающей выборке: 31.895484807894867\n",
            "RandomForestRegressor(max_depth=33, n_estimators=150, random_state=12345)\n",
            "RMSE модели случайного леса на обучающей выборке: 31.877533009212137\n",
            "RandomForestRegressor(max_depth=33, n_estimators=165, random_state=12345)\n",
            "RMSE модели случайного леса на обучающей выборке: 31.849259616607945\n",
            "RandomForestRegressor(max_depth=33, n_estimators=180, random_state=12345)\n",
            "RMSE модели случайного леса на обучающей выборке: 31.852471051159945\n",
            "RandomForestRegressor(max_depth=33, n_estimators=195, random_state=12345)\n",
            "RMSE модели случайного леса на обучающей выборке: 31.856726884998935\n",
            "RandomForestRegressor(max_depth=33, n_estimators=210, random_state=12345)\n",
            "RMSE модели случайного леса на обучающей выборке: 31.911281237860997\n",
            "RandomForestRegressor(max_depth=33, n_estimators=225, random_state=12345)\n",
            "RMSE модели случайного леса на обучающей выборке: 31.88569437639423\n",
            "RandomForestRegressor(max_depth=33, n_estimators=240, random_state=12345)\n",
            "RMSE модели случайного леса на обучающей выборке: 31.849847932186925\n",
            "RandomForestRegressor(max_depth=33, n_estimators=255, random_state=12345)\n",
            "RMSE модели случайного леса на обучающей выборке: 31.85709909814593\n",
            "RandomForestRegressor(max_depth=33, n_estimators=270, random_state=12345)\n",
            "RMSE модели случайного леса на обучающей выборке: 31.901812594961235\n",
            "RandomForestRegressor(max_depth=33, n_estimators=285, random_state=12345)\n",
            "RMSE модели случайного леса на обучающей выборке: 31.888250018834256\n",
            "RandomForestRegressor(max_depth=33, n_estimators=300, random_state=12345)\n",
            "RMSE модели случайного леса на обучающей выборке: 31.91118510540167\n",
            "RandomForestRegressor(max_depth=33, n_estimators=315, random_state=12345)\n",
            "RMSE модели случайного леса на обучающей выборке: 31.885402095648885\n",
            "RandomForestRegressor(max_depth=33, n_estimators=330, random_state=12345)\n",
            "RMSE модели случайного леса на обучающей выборке: 31.92323918920925\n",
            "RandomForestRegressor(max_depth=33, n_estimators=345, random_state=12345)\n",
            "RMSE модели случайного леса на обучающей выборке: 31.944300146566057\n",
            "RandomForestRegressor(max_depth=34, n_estimators=15, random_state=12345)\n",
            "RMSE модели случайного леса на обучающей выборке: 32.351464144341044\n",
            "RandomForestRegressor(max_depth=34, n_estimators=30, random_state=12345)\n",
            "RMSE модели случайного леса на обучающей выборке: 32.24511297126815\n",
            "RandomForestRegressor(max_depth=34, n_estimators=45, random_state=12345)\n",
            "RMSE модели случайного леса на обучающей выборке: 32.361642730439904\n",
            "RandomForestRegressor(max_depth=34, n_estimators=60, random_state=12345)\n",
            "RMSE модели случайного леса на обучающей выборке: 32.00425656877548\n",
            "RandomForestRegressor(max_depth=34, n_estimators=75, random_state=12345)\n",
            "RMSE модели случайного леса на обучающей выборке: 31.785801964525877\n",
            "RandomForestRegressor(max_depth=34, n_estimators=90, random_state=12345)\n",
            "RMSE модели случайного леса на обучающей выборке: 31.825872937604625\n",
            "RandomForestRegressor(max_depth=34, n_estimators=105, random_state=12345)\n",
            "RMSE модели случайного леса на обучающей выборке: 31.850500608464472\n",
            "RandomForestRegressor(max_depth=34, n_estimators=120, random_state=12345)\n",
            "RMSE модели случайного леса на обучающей выборке: 31.87566623339894\n",
            "RandomForestRegressor(max_depth=34, n_estimators=135, random_state=12345)\n",
            "RMSE модели случайного леса на обучающей выборке: 31.895484807894867\n",
            "RandomForestRegressor(max_depth=34, n_estimators=150, random_state=12345)\n",
            "RMSE модели случайного леса на обучающей выборке: 31.877533009212137\n",
            "RandomForestRegressor(max_depth=34, n_estimators=165, random_state=12345)\n",
            "RMSE модели случайного леса на обучающей выборке: 31.849259616607945\n",
            "RandomForestRegressor(max_depth=34, n_estimators=180, random_state=12345)\n",
            "RMSE модели случайного леса на обучающей выборке: 31.852471051159945\n",
            "RandomForestRegressor(max_depth=34, n_estimators=195, random_state=12345)\n",
            "RMSE модели случайного леса на обучающей выборке: 31.856726884998935\n",
            "RandomForestRegressor(max_depth=34, n_estimators=210, random_state=12345)\n",
            "RMSE модели случайного леса на обучающей выборке: 31.911281237860997\n",
            "RandomForestRegressor(max_depth=34, n_estimators=225, random_state=12345)\n",
            "RMSE модели случайного леса на обучающей выборке: 31.88569437639423\n",
            "RandomForestRegressor(max_depth=34, n_estimators=240, random_state=12345)\n",
            "RMSE модели случайного леса на обучающей выборке: 31.849847932186925\n",
            "RandomForestRegressor(max_depth=34, n_estimators=255, random_state=12345)\n",
            "RMSE модели случайного леса на обучающей выборке: 31.85709909814593\n",
            "RandomForestRegressor(max_depth=34, n_estimators=270, random_state=12345)\n",
            "RMSE модели случайного леса на обучающей выборке: 31.901812594961235\n",
            "RandomForestRegressor(max_depth=34, n_estimators=285, random_state=12345)\n",
            "RMSE модели случайного леса на обучающей выборке: 31.888250018834256\n",
            "RandomForestRegressor(max_depth=34, n_estimators=300, random_state=12345)\n",
            "RMSE модели случайного леса на обучающей выборке: 31.91118510540167\n",
            "RandomForestRegressor(max_depth=34, n_estimators=315, random_state=12345)\n",
            "RMSE модели случайного леса на обучающей выборке: 31.885402095648885\n",
            "RandomForestRegressor(max_depth=34, n_estimators=330, random_state=12345)\n",
            "RMSE модели случайного леса на обучающей выборке: 31.92323918920925\n",
            "RandomForestRegressor(max_depth=34, n_estimators=345, random_state=12345)\n",
            "RMSE модели случайного леса на обучающей выборке: 31.944300146566057\n",
            "RandomForestRegressor(max_depth=35, n_estimators=15, random_state=12345)\n",
            "RMSE модели случайного леса на обучающей выборке: 32.351464144341044\n",
            "RandomForestRegressor(max_depth=35, n_estimators=30, random_state=12345)\n",
            "RMSE модели случайного леса на обучающей выборке: 32.24511297126815\n",
            "RandomForestRegressor(max_depth=35, n_estimators=45, random_state=12345)\n",
            "RMSE модели случайного леса на обучающей выборке: 32.361642730439904\n",
            "RandomForestRegressor(max_depth=35, n_estimators=60, random_state=12345)\n",
            "RMSE модели случайного леса на обучающей выборке: 32.00425656877548\n",
            "RandomForestRegressor(max_depth=35, n_estimators=75, random_state=12345)\n",
            "RMSE модели случайного леса на обучающей выборке: 31.785801964525877\n",
            "RandomForestRegressor(max_depth=35, n_estimators=90, random_state=12345)\n",
            "RMSE модели случайного леса на обучающей выборке: 31.825872937604625\n",
            "RandomForestRegressor(max_depth=35, n_estimators=105, random_state=12345)\n",
            "RMSE модели случайного леса на обучающей выборке: 31.850500608464472\n",
            "RandomForestRegressor(max_depth=35, n_estimators=120, random_state=12345)\n",
            "RMSE модели случайного леса на обучающей выборке: 31.87566623339894\n",
            "RandomForestRegressor(max_depth=35, n_estimators=135, random_state=12345)\n",
            "RMSE модели случайного леса на обучающей выборке: 31.895484807894867\n",
            "RandomForestRegressor(max_depth=35, n_estimators=150, random_state=12345)\n",
            "RMSE модели случайного леса на обучающей выборке: 31.877533009212137\n",
            "RandomForestRegressor(max_depth=35, n_estimators=165, random_state=12345)\n",
            "RMSE модели случайного леса на обучающей выборке: 31.849259616607945\n",
            "RandomForestRegressor(max_depth=35, n_estimators=180, random_state=12345)\n",
            "RMSE модели случайного леса на обучающей выборке: 31.852471051159945\n",
            "RandomForestRegressor(max_depth=35, n_estimators=195, random_state=12345)\n",
            "RMSE модели случайного леса на обучающей выборке: 31.856726884998935\n",
            "RandomForestRegressor(max_depth=35, n_estimators=210, random_state=12345)\n",
            "RMSE модели случайного леса на обучающей выборке: 31.911281237860997\n",
            "RandomForestRegressor(max_depth=35, n_estimators=225, random_state=12345)\n",
            "RMSE модели случайного леса на обучающей выборке: 31.88569437639423\n",
            "RandomForestRegressor(max_depth=35, n_estimators=240, random_state=12345)\n",
            "RMSE модели случайного леса на обучающей выборке: 31.849847932186925\n",
            "RandomForestRegressor(max_depth=35, n_estimators=255, random_state=12345)\n",
            "RMSE модели случайного леса на обучающей выборке: 31.85709909814593\n",
            "RandomForestRegressor(max_depth=35, n_estimators=270, random_state=12345)\n",
            "RMSE модели случайного леса на обучающей выборке: 31.901812594961235\n",
            "RandomForestRegressor(max_depth=35, n_estimators=285, random_state=12345)\n",
            "RMSE модели случайного леса на обучающей выборке: 31.888250018834256\n",
            "RandomForestRegressor(max_depth=35, n_estimators=300, random_state=12345)\n",
            "RMSE модели случайного леса на обучающей выборке: 31.91118510540167\n",
            "RandomForestRegressor(max_depth=35, n_estimators=315, random_state=12345)\n",
            "RMSE модели случайного леса на обучающей выборке: 31.885402095648885\n",
            "RandomForestRegressor(max_depth=35, n_estimators=330, random_state=12345)\n",
            "RMSE модели случайного леса на обучающей выборке: 31.92323918920925\n",
            "RandomForestRegressor(max_depth=35, n_estimators=345, random_state=12345)\n",
            "RMSE модели случайного леса на обучающей выборке: 31.944300146566057\n",
            "RandomForestRegressor(max_depth=36, n_estimators=15, random_state=12345)\n",
            "RMSE модели случайного леса на обучающей выборке: 32.351464144341044\n",
            "RandomForestRegressor(max_depth=36, n_estimators=30, random_state=12345)\n",
            "RMSE модели случайного леса на обучающей выборке: 32.24511297126815\n",
            "RandomForestRegressor(max_depth=36, n_estimators=45, random_state=12345)\n",
            "RMSE модели случайного леса на обучающей выборке: 32.361642730439904\n",
            "RandomForestRegressor(max_depth=36, n_estimators=60, random_state=12345)\n",
            "RMSE модели случайного леса на обучающей выборке: 32.00425656877548\n",
            "RandomForestRegressor(max_depth=36, n_estimators=75, random_state=12345)\n",
            "RMSE модели случайного леса на обучающей выборке: 31.785801964525877\n",
            "RandomForestRegressor(max_depth=36, n_estimators=90, random_state=12345)\n",
            "RMSE модели случайного леса на обучающей выборке: 31.825872937604625\n",
            "RandomForestRegressor(max_depth=36, n_estimators=105, random_state=12345)\n",
            "RMSE модели случайного леса на обучающей выборке: 31.850500608464472\n",
            "RandomForestRegressor(max_depth=36, n_estimators=120, random_state=12345)\n",
            "RMSE модели случайного леса на обучающей выборке: 31.87566623339894\n",
            "RandomForestRegressor(max_depth=36, n_estimators=135, random_state=12345)\n",
            "RMSE модели случайного леса на обучающей выборке: 31.895484807894867\n",
            "RandomForestRegressor(max_depth=36, n_estimators=150, random_state=12345)\n",
            "RMSE модели случайного леса на обучающей выборке: 31.877533009212137\n",
            "RandomForestRegressor(max_depth=36, n_estimators=165, random_state=12345)\n",
            "RMSE модели случайного леса на обучающей выборке: 31.849259616607945\n",
            "RandomForestRegressor(max_depth=36, n_estimators=180, random_state=12345)\n",
            "RMSE модели случайного леса на обучающей выборке: 31.852471051159945\n",
            "RandomForestRegressor(max_depth=36, n_estimators=195, random_state=12345)\n",
            "RMSE модели случайного леса на обучающей выборке: 31.856726884998935\n",
            "RandomForestRegressor(max_depth=36, n_estimators=210, random_state=12345)\n",
            "RMSE модели случайного леса на обучающей выборке: 31.911281237860997\n",
            "RandomForestRegressor(max_depth=36, n_estimators=225, random_state=12345)\n",
            "RMSE модели случайного леса на обучающей выборке: 31.88569437639423\n",
            "RandomForestRegressor(max_depth=36, n_estimators=240, random_state=12345)\n",
            "RMSE модели случайного леса на обучающей выборке: 31.849847932186925\n",
            "RandomForestRegressor(max_depth=36, n_estimators=255, random_state=12345)\n",
            "RMSE модели случайного леса на обучающей выборке: 31.85709909814593\n",
            "RandomForestRegressor(max_depth=36, n_estimators=270, random_state=12345)\n",
            "RMSE модели случайного леса на обучающей выборке: 31.901812594961235\n",
            "RandomForestRegressor(max_depth=36, n_estimators=285, random_state=12345)\n",
            "RMSE модели случайного леса на обучающей выборке: 31.888250018834256\n",
            "RandomForestRegressor(max_depth=36, n_estimators=300, random_state=12345)\n",
            "RMSE модели случайного леса на обучающей выборке: 31.91118510540167\n",
            "RandomForestRegressor(max_depth=36, n_estimators=315, random_state=12345)\n",
            "RMSE модели случайного леса на обучающей выборке: 31.885402095648885\n",
            "RandomForestRegressor(max_depth=36, n_estimators=330, random_state=12345)\n",
            "RMSE модели случайного леса на обучающей выборке: 31.92323918920925\n",
            "RandomForestRegressor(max_depth=36, n_estimators=345, random_state=12345)\n",
            "RMSE модели случайного леса на обучающей выборке: 31.944300146566057\n",
            "RandomForestRegressor(max_depth=37, n_estimators=15, random_state=12345)\n",
            "RMSE модели случайного леса на обучающей выборке: 32.351464144341044\n",
            "RandomForestRegressor(max_depth=37, n_estimators=30, random_state=12345)\n",
            "RMSE модели случайного леса на обучающей выборке: 32.24511297126815\n",
            "RandomForestRegressor(max_depth=37, n_estimators=45, random_state=12345)\n",
            "RMSE модели случайного леса на обучающей выборке: 32.361642730439904\n",
            "RandomForestRegressor(max_depth=37, n_estimators=60, random_state=12345)\n",
            "RMSE модели случайного леса на обучающей выборке: 32.00425656877548\n",
            "RandomForestRegressor(max_depth=37, n_estimators=75, random_state=12345)\n",
            "RMSE модели случайного леса на обучающей выборке: 31.785801964525877\n",
            "RandomForestRegressor(max_depth=37, n_estimators=90, random_state=12345)\n",
            "RMSE модели случайного леса на обучающей выборке: 31.825872937604625\n",
            "RandomForestRegressor(max_depth=37, n_estimators=105, random_state=12345)\n",
            "RMSE модели случайного леса на обучающей выборке: 31.850500608464472\n",
            "RandomForestRegressor(max_depth=37, n_estimators=120, random_state=12345)\n",
            "RMSE модели случайного леса на обучающей выборке: 31.87566623339894\n",
            "RandomForestRegressor(max_depth=37, n_estimators=135, random_state=12345)\n",
            "RMSE модели случайного леса на обучающей выборке: 31.895484807894867\n",
            "RandomForestRegressor(max_depth=37, n_estimators=150, random_state=12345)\n",
            "RMSE модели случайного леса на обучающей выборке: 31.877533009212137\n",
            "RandomForestRegressor(max_depth=37, n_estimators=165, random_state=12345)\n",
            "RMSE модели случайного леса на обучающей выборке: 31.849259616607945\n",
            "RandomForestRegressor(max_depth=37, n_estimators=180, random_state=12345)\n",
            "RMSE модели случайного леса на обучающей выборке: 31.852471051159945\n",
            "RandomForestRegressor(max_depth=37, n_estimators=195, random_state=12345)\n",
            "RMSE модели случайного леса на обучающей выборке: 31.856726884998935\n",
            "RandomForestRegressor(max_depth=37, n_estimators=210, random_state=12345)\n",
            "RMSE модели случайного леса на обучающей выборке: 31.911281237860997\n",
            "RandomForestRegressor(max_depth=37, n_estimators=225, random_state=12345)\n",
            "RMSE модели случайного леса на обучающей выборке: 31.88569437639423\n",
            "RandomForestRegressor(max_depth=37, n_estimators=240, random_state=12345)\n",
            "RMSE модели случайного леса на обучающей выборке: 31.849847932186925\n",
            "RandomForestRegressor(max_depth=37, n_estimators=255, random_state=12345)\n",
            "RMSE модели случайного леса на обучающей выборке: 31.85709909814593\n",
            "RandomForestRegressor(max_depth=37, n_estimators=270, random_state=12345)\n",
            "RMSE модели случайного леса на обучающей выборке: 31.901812594961235\n",
            "RandomForestRegressor(max_depth=37, n_estimators=285, random_state=12345)\n",
            "RMSE модели случайного леса на обучающей выборке: 31.888250018834256\n",
            "RandomForestRegressor(max_depth=37, n_estimators=300, random_state=12345)\n",
            "RMSE модели случайного леса на обучающей выборке: 31.91118510540167\n",
            "RandomForestRegressor(max_depth=37, n_estimators=315, random_state=12345)\n",
            "RMSE модели случайного леса на обучающей выборке: 31.885402095648885\n",
            "RandomForestRegressor(max_depth=37, n_estimators=330, random_state=12345)\n",
            "RMSE модели случайного леса на обучающей выборке: 31.92323918920925\n",
            "RandomForestRegressor(max_depth=37, n_estimators=345, random_state=12345)\n",
            "RMSE модели случайного леса на обучающей выборке: 31.944300146566057\n",
            "RandomForestRegressor(max_depth=38, n_estimators=15, random_state=12345)\n",
            "RMSE модели случайного леса на обучающей выборке: 32.351464144341044\n",
            "RandomForestRegressor(max_depth=38, n_estimators=30, random_state=12345)\n",
            "RMSE модели случайного леса на обучающей выборке: 32.24511297126815\n",
            "RandomForestRegressor(max_depth=38, n_estimators=45, random_state=12345)\n",
            "RMSE модели случайного леса на обучающей выборке: 32.361642730439904\n",
            "RandomForestRegressor(max_depth=38, n_estimators=60, random_state=12345)\n",
            "RMSE модели случайного леса на обучающей выборке: 32.00425656877548\n",
            "RandomForestRegressor(max_depth=38, n_estimators=75, random_state=12345)\n",
            "RMSE модели случайного леса на обучающей выборке: 31.785801964525877\n",
            "RandomForestRegressor(max_depth=38, n_estimators=90, random_state=12345)\n",
            "RMSE модели случайного леса на обучающей выборке: 31.825872937604625\n",
            "RandomForestRegressor(max_depth=38, n_estimators=105, random_state=12345)\n",
            "RMSE модели случайного леса на обучающей выборке: 31.850500608464472\n",
            "RandomForestRegressor(max_depth=38, n_estimators=120, random_state=12345)\n",
            "RMSE модели случайного леса на обучающей выборке: 31.87566623339894\n",
            "RandomForestRegressor(max_depth=38, n_estimators=135, random_state=12345)\n",
            "RMSE модели случайного леса на обучающей выборке: 31.895484807894867\n",
            "RandomForestRegressor(max_depth=38, n_estimators=150, random_state=12345)\n",
            "RMSE модели случайного леса на обучающей выборке: 31.877533009212137\n",
            "RandomForestRegressor(max_depth=38, n_estimators=165, random_state=12345)\n",
            "RMSE модели случайного леса на обучающей выборке: 31.849259616607945\n",
            "RandomForestRegressor(max_depth=38, n_estimators=180, random_state=12345)\n",
            "RMSE модели случайного леса на обучающей выборке: 31.852471051159945\n",
            "RandomForestRegressor(max_depth=38, n_estimators=195, random_state=12345)\n",
            "RMSE модели случайного леса на обучающей выборке: 31.856726884998935\n",
            "RandomForestRegressor(max_depth=38, n_estimators=210, random_state=12345)\n",
            "RMSE модели случайного леса на обучающей выборке: 31.911281237860997\n",
            "RandomForestRegressor(max_depth=38, n_estimators=225, random_state=12345)\n",
            "RMSE модели случайного леса на обучающей выборке: 31.88569437639423\n",
            "RandomForestRegressor(max_depth=38, n_estimators=240, random_state=12345)\n",
            "RMSE модели случайного леса на обучающей выборке: 31.849847932186925\n",
            "RandomForestRegressor(max_depth=38, n_estimators=255, random_state=12345)\n",
            "RMSE модели случайного леса на обучающей выборке: 31.85709909814593\n",
            "RandomForestRegressor(max_depth=38, n_estimators=270, random_state=12345)\n",
            "RMSE модели случайного леса на обучающей выборке: 31.901812594961235\n",
            "RandomForestRegressor(max_depth=38, n_estimators=285, random_state=12345)\n",
            "RMSE модели случайного леса на обучающей выборке: 31.888250018834256\n",
            "RandomForestRegressor(max_depth=38, n_estimators=300, random_state=12345)\n",
            "RMSE модели случайного леса на обучающей выборке: 31.91118510540167\n",
            "RandomForestRegressor(max_depth=38, n_estimators=315, random_state=12345)\n",
            "RMSE модели случайного леса на обучающей выборке: 31.885402095648885\n",
            "RandomForestRegressor(max_depth=38, n_estimators=330, random_state=12345)\n",
            "RMSE модели случайного леса на обучающей выборке: 31.92323918920925\n",
            "RandomForestRegressor(max_depth=38, n_estimators=345, random_state=12345)\n",
            "RMSE модели случайного леса на обучающей выборке: 31.944300146566057\n",
            "RandomForestRegressor(max_depth=39, n_estimators=15, random_state=12345)\n",
            "RMSE модели случайного леса на обучающей выборке: 32.351464144341044\n",
            "RandomForestRegressor(max_depth=39, n_estimators=30, random_state=12345)\n",
            "RMSE модели случайного леса на обучающей выборке: 32.24511297126815\n",
            "RandomForestRegressor(max_depth=39, n_estimators=45, random_state=12345)\n",
            "RMSE модели случайного леса на обучающей выборке: 32.361642730439904\n",
            "RandomForestRegressor(max_depth=39, n_estimators=60, random_state=12345)\n",
            "RMSE модели случайного леса на обучающей выборке: 32.00425656877548\n",
            "RandomForestRegressor(max_depth=39, n_estimators=75, random_state=12345)\n",
            "RMSE модели случайного леса на обучающей выборке: 31.785801964525877\n",
            "RandomForestRegressor(max_depth=39, n_estimators=90, random_state=12345)\n",
            "RMSE модели случайного леса на обучающей выборке: 31.825872937604625\n",
            "RandomForestRegressor(max_depth=39, n_estimators=105, random_state=12345)\n",
            "RMSE модели случайного леса на обучающей выборке: 31.850500608464472\n",
            "RandomForestRegressor(max_depth=39, n_estimators=120, random_state=12345)\n",
            "RMSE модели случайного леса на обучающей выборке: 31.87566623339894\n",
            "RandomForestRegressor(max_depth=39, n_estimators=135, random_state=12345)\n",
            "RMSE модели случайного леса на обучающей выборке: 31.895484807894867\n",
            "RandomForestRegressor(max_depth=39, n_estimators=150, random_state=12345)\n",
            "RMSE модели случайного леса на обучающей выборке: 31.877533009212137\n",
            "RandomForestRegressor(max_depth=39, n_estimators=165, random_state=12345)\n",
            "RMSE модели случайного леса на обучающей выборке: 31.849259616607945\n",
            "RandomForestRegressor(max_depth=39, n_estimators=180, random_state=12345)\n",
            "RMSE модели случайного леса на обучающей выборке: 31.852471051159945\n",
            "RandomForestRegressor(max_depth=39, n_estimators=195, random_state=12345)\n",
            "RMSE модели случайного леса на обучающей выборке: 31.856726884998935\n",
            "RandomForestRegressor(max_depth=39, n_estimators=210, random_state=12345)\n",
            "RMSE модели случайного леса на обучающей выборке: 31.911281237860997\n",
            "RandomForestRegressor(max_depth=39, n_estimators=225, random_state=12345)\n",
            "RMSE модели случайного леса на обучающей выборке: 31.88569437639423\n",
            "RandomForestRegressor(max_depth=39, n_estimators=240, random_state=12345)\n",
            "RMSE модели случайного леса на обучающей выборке: 31.849847932186925\n",
            "RandomForestRegressor(max_depth=39, n_estimators=255, random_state=12345)\n",
            "RMSE модели случайного леса на обучающей выборке: 31.85709909814593\n",
            "RandomForestRegressor(max_depth=39, n_estimators=270, random_state=12345)\n",
            "RMSE модели случайного леса на обучающей выборке: 31.901812594961235\n",
            "RandomForestRegressor(max_depth=39, n_estimators=285, random_state=12345)\n",
            "RMSE модели случайного леса на обучающей выборке: 31.888250018834256\n",
            "RandomForestRegressor(max_depth=39, n_estimators=300, random_state=12345)\n",
            "RMSE модели случайного леса на обучающей выборке: 31.91118510540167\n",
            "RandomForestRegressor(max_depth=39, n_estimators=315, random_state=12345)\n",
            "RMSE модели случайного леса на обучающей выборке: 31.885402095648885\n",
            "RandomForestRegressor(max_depth=39, n_estimators=330, random_state=12345)\n",
            "RMSE модели случайного леса на обучающей выборке: 31.92323918920925\n",
            "RandomForestRegressor(max_depth=39, n_estimators=345, random_state=12345)\n",
            "RMSE модели случайного леса на обучающей выборке: 31.944300146566057\n",
            "RandomForestRegressor(max_depth=40, n_estimators=15, random_state=12345)\n",
            "RMSE модели случайного леса на обучающей выборке: 32.351464144341044\n",
            "RandomForestRegressor(max_depth=40, n_estimators=30, random_state=12345)\n",
            "RMSE модели случайного леса на обучающей выборке: 32.24511297126815\n",
            "RandomForestRegressor(max_depth=40, n_estimators=45, random_state=12345)\n",
            "RMSE модели случайного леса на обучающей выборке: 32.361642730439904\n",
            "RandomForestRegressor(max_depth=40, n_estimators=60, random_state=12345)\n",
            "RMSE модели случайного леса на обучающей выборке: 32.00425656877548\n",
            "RandomForestRegressor(max_depth=40, n_estimators=75, random_state=12345)\n",
            "RMSE модели случайного леса на обучающей выборке: 31.785801964525877\n",
            "RandomForestRegressor(max_depth=40, n_estimators=90, random_state=12345)\n",
            "RMSE модели случайного леса на обучающей выборке: 31.825872937604625\n",
            "RandomForestRegressor(max_depth=40, n_estimators=105, random_state=12345)\n",
            "RMSE модели случайного леса на обучающей выборке: 31.850500608464472\n",
            "RandomForestRegressor(max_depth=40, n_estimators=120, random_state=12345)\n",
            "RMSE модели случайного леса на обучающей выборке: 31.87566623339894\n",
            "RandomForestRegressor(max_depth=40, n_estimators=135, random_state=12345)\n",
            "RMSE модели случайного леса на обучающей выборке: 31.895484807894867\n",
            "RandomForestRegressor(max_depth=40, n_estimators=150, random_state=12345)\n",
            "RMSE модели случайного леса на обучающей выборке: 31.877533009212137\n",
            "RandomForestRegressor(max_depth=40, n_estimators=165, random_state=12345)\n",
            "RMSE модели случайного леса на обучающей выборке: 31.849259616607945\n",
            "RandomForestRegressor(max_depth=40, n_estimators=180, random_state=12345)\n",
            "RMSE модели случайного леса на обучающей выборке: 31.852471051159945\n",
            "RandomForestRegressor(max_depth=40, n_estimators=195, random_state=12345)\n",
            "RMSE модели случайного леса на обучающей выборке: 31.856726884998935\n",
            "RandomForestRegressor(max_depth=40, n_estimators=210, random_state=12345)\n",
            "RMSE модели случайного леса на обучающей выборке: 31.911281237860997\n",
            "RandomForestRegressor(max_depth=40, n_estimators=225, random_state=12345)\n",
            "RMSE модели случайного леса на обучающей выборке: 31.88569437639423\n",
            "RandomForestRegressor(max_depth=40, n_estimators=240, random_state=12345)\n",
            "RMSE модели случайного леса на обучающей выборке: 31.849847932186925\n",
            "RandomForestRegressor(max_depth=40, n_estimators=255, random_state=12345)\n",
            "RMSE модели случайного леса на обучающей выборке: 31.85709909814593\n",
            "RandomForestRegressor(max_depth=40, n_estimators=270, random_state=12345)\n",
            "RMSE модели случайного леса на обучающей выборке: 31.901812594961235\n",
            "RandomForestRegressor(max_depth=40, n_estimators=285, random_state=12345)\n",
            "RMSE модели случайного леса на обучающей выборке: 31.888250018834256\n",
            "RandomForestRegressor(max_depth=40, n_estimators=300, random_state=12345)\n",
            "RMSE модели случайного леса на обучающей выборке: 31.91118510540167\n",
            "RandomForestRegressor(max_depth=40, n_estimators=315, random_state=12345)\n",
            "RMSE модели случайного леса на обучающей выборке: 31.885402095648885\n",
            "RandomForestRegressor(max_depth=40, n_estimators=330, random_state=12345)\n",
            "RMSE модели случайного леса на обучающей выборке: 31.92323918920925\n",
            "RandomForestRegressor(max_depth=40, n_estimators=345, random_state=12345)\n",
            "RMSE модели случайного леса на обучающей выборке: 31.944300146566057\n",
            "RandomForestRegressor(max_depth=41, n_estimators=15, random_state=12345)\n",
            "RMSE модели случайного леса на обучающей выборке: 32.351464144341044\n",
            "RandomForestRegressor(max_depth=41, n_estimators=30, random_state=12345)\n",
            "RMSE модели случайного леса на обучающей выборке: 32.24511297126815\n",
            "RandomForestRegressor(max_depth=41, n_estimators=45, random_state=12345)\n",
            "RMSE модели случайного леса на обучающей выборке: 32.361642730439904\n",
            "RandomForestRegressor(max_depth=41, n_estimators=60, random_state=12345)\n",
            "RMSE модели случайного леса на обучающей выборке: 32.00425656877548\n",
            "RandomForestRegressor(max_depth=41, n_estimators=75, random_state=12345)\n",
            "RMSE модели случайного леса на обучающей выборке: 31.785801964525877\n",
            "RandomForestRegressor(max_depth=41, n_estimators=90, random_state=12345)\n",
            "RMSE модели случайного леса на обучающей выборке: 31.825872937604625\n",
            "RandomForestRegressor(max_depth=41, n_estimators=105, random_state=12345)\n",
            "RMSE модели случайного леса на обучающей выборке: 31.850500608464472\n",
            "RandomForestRegressor(max_depth=41, n_estimators=120, random_state=12345)\n",
            "RMSE модели случайного леса на обучающей выборке: 31.87566623339894\n",
            "RandomForestRegressor(max_depth=41, n_estimators=135, random_state=12345)\n",
            "RMSE модели случайного леса на обучающей выборке: 31.895484807894867\n",
            "RandomForestRegressor(max_depth=41, n_estimators=150, random_state=12345)\n",
            "RMSE модели случайного леса на обучающей выборке: 31.877533009212137\n",
            "RandomForestRegressor(max_depth=41, n_estimators=165, random_state=12345)\n",
            "RMSE модели случайного леса на обучающей выборке: 31.849259616607945\n",
            "RandomForestRegressor(max_depth=41, n_estimators=180, random_state=12345)\n",
            "RMSE модели случайного леса на обучающей выборке: 31.852471051159945\n",
            "RandomForestRegressor(max_depth=41, n_estimators=195, random_state=12345)\n",
            "RMSE модели случайного леса на обучающей выборке: 31.856726884998935\n",
            "RandomForestRegressor(max_depth=41, n_estimators=210, random_state=12345)\n",
            "RMSE модели случайного леса на обучающей выборке: 31.911281237860997\n",
            "RandomForestRegressor(max_depth=41, n_estimators=225, random_state=12345)\n",
            "RMSE модели случайного леса на обучающей выборке: 31.88569437639423\n",
            "RandomForestRegressor(max_depth=41, n_estimators=240, random_state=12345)\n",
            "RMSE модели случайного леса на обучающей выборке: 31.849847932186925\n",
            "RandomForestRegressor(max_depth=41, n_estimators=255, random_state=12345)\n",
            "RMSE модели случайного леса на обучающей выборке: 31.85709909814593\n",
            "RandomForestRegressor(max_depth=41, n_estimators=270, random_state=12345)\n",
            "RMSE модели случайного леса на обучающей выборке: 31.901812594961235\n",
            "RandomForestRegressor(max_depth=41, n_estimators=285, random_state=12345)\n",
            "RMSE модели случайного леса на обучающей выборке: 31.888250018834256\n",
            "RandomForestRegressor(max_depth=41, n_estimators=300, random_state=12345)\n",
            "RMSE модели случайного леса на обучающей выборке: 31.91118510540167\n",
            "RandomForestRegressor(max_depth=41, n_estimators=315, random_state=12345)\n",
            "RMSE модели случайного леса на обучающей выборке: 31.885402095648885\n",
            "RandomForestRegressor(max_depth=41, n_estimators=330, random_state=12345)\n",
            "RMSE модели случайного леса на обучающей выборке: 31.92323918920925\n",
            "RandomForestRegressor(max_depth=41, n_estimators=345, random_state=12345)\n",
            "RMSE модели случайного леса на обучающей выборке: 31.944300146566057\n",
            "RandomForestRegressor(max_depth=42, n_estimators=15, random_state=12345)\n",
            "RMSE модели случайного леса на обучающей выборке: 32.351464144341044\n",
            "RandomForestRegressor(max_depth=42, n_estimators=30, random_state=12345)\n",
            "RMSE модели случайного леса на обучающей выборке: 32.24511297126815\n",
            "RandomForestRegressor(max_depth=42, n_estimators=45, random_state=12345)\n",
            "RMSE модели случайного леса на обучающей выборке: 32.361642730439904\n",
            "RandomForestRegressor(max_depth=42, n_estimators=60, random_state=12345)\n",
            "RMSE модели случайного леса на обучающей выборке: 32.00425656877548\n",
            "RandomForestRegressor(max_depth=42, n_estimators=75, random_state=12345)\n",
            "RMSE модели случайного леса на обучающей выборке: 31.785801964525877\n",
            "RandomForestRegressor(max_depth=42, n_estimators=90, random_state=12345)\n",
            "RMSE модели случайного леса на обучающей выборке: 31.825872937604625\n",
            "RandomForestRegressor(max_depth=42, n_estimators=105, random_state=12345)\n",
            "RMSE модели случайного леса на обучающей выборке: 31.850500608464472\n",
            "RandomForestRegressor(max_depth=42, n_estimators=120, random_state=12345)\n",
            "RMSE модели случайного леса на обучающей выборке: 31.87566623339894\n",
            "RandomForestRegressor(max_depth=42, n_estimators=135, random_state=12345)\n",
            "RMSE модели случайного леса на обучающей выборке: 31.895484807894867\n",
            "RandomForestRegressor(max_depth=42, n_estimators=150, random_state=12345)\n",
            "RMSE модели случайного леса на обучающей выборке: 31.877533009212137\n",
            "RandomForestRegressor(max_depth=42, n_estimators=165, random_state=12345)\n",
            "RMSE модели случайного леса на обучающей выборке: 31.849259616607945\n",
            "RandomForestRegressor(max_depth=42, n_estimators=180, random_state=12345)\n",
            "RMSE модели случайного леса на обучающей выборке: 31.852471051159945\n",
            "RandomForestRegressor(max_depth=42, n_estimators=195, random_state=12345)\n",
            "RMSE модели случайного леса на обучающей выборке: 31.856726884998935\n",
            "RandomForestRegressor(max_depth=42, n_estimators=210, random_state=12345)\n",
            "RMSE модели случайного леса на обучающей выборке: 31.911281237860997\n",
            "RandomForestRegressor(max_depth=42, n_estimators=225, random_state=12345)\n",
            "RMSE модели случайного леса на обучающей выборке: 31.88569437639423\n",
            "RandomForestRegressor(max_depth=42, n_estimators=240, random_state=12345)\n",
            "RMSE модели случайного леса на обучающей выборке: 31.849847932186925\n",
            "RandomForestRegressor(max_depth=42, n_estimators=255, random_state=12345)\n",
            "RMSE модели случайного леса на обучающей выборке: 31.85709909814593\n",
            "RandomForestRegressor(max_depth=42, n_estimators=270, random_state=12345)\n",
            "RMSE модели случайного леса на обучающей выборке: 31.901812594961235\n",
            "RandomForestRegressor(max_depth=42, n_estimators=285, random_state=12345)\n",
            "RMSE модели случайного леса на обучающей выборке: 31.888250018834256\n",
            "RandomForestRegressor(max_depth=42, n_estimators=300, random_state=12345)\n",
            "RMSE модели случайного леса на обучающей выборке: 31.91118510540167\n",
            "RandomForestRegressor(max_depth=42, n_estimators=315, random_state=12345)\n",
            "RMSE модели случайного леса на обучающей выборке: 31.885402095648885\n",
            "RandomForestRegressor(max_depth=42, n_estimators=330, random_state=12345)\n",
            "RMSE модели случайного леса на обучающей выборке: 31.92323918920925\n",
            "RandomForestRegressor(max_depth=42, n_estimators=345, random_state=12345)\n",
            "RMSE модели случайного леса на обучающей выборке: 31.944300146566057\n",
            "RandomForestRegressor(max_depth=43, n_estimators=15, random_state=12345)\n",
            "RMSE модели случайного леса на обучающей выборке: 32.351464144341044\n",
            "RandomForestRegressor(max_depth=43, n_estimators=30, random_state=12345)\n",
            "RMSE модели случайного леса на обучающей выборке: 32.24511297126815\n",
            "RandomForestRegressor(max_depth=43, n_estimators=45, random_state=12345)\n",
            "RMSE модели случайного леса на обучающей выборке: 32.361642730439904\n",
            "RandomForestRegressor(max_depth=43, n_estimators=60, random_state=12345)\n",
            "RMSE модели случайного леса на обучающей выборке: 32.00425656877548\n",
            "RandomForestRegressor(max_depth=43, n_estimators=75, random_state=12345)\n",
            "RMSE модели случайного леса на обучающей выборке: 31.785801964525877\n",
            "RandomForestRegressor(max_depth=43, n_estimators=90, random_state=12345)\n",
            "RMSE модели случайного леса на обучающей выборке: 31.825872937604625\n",
            "RandomForestRegressor(max_depth=43, n_estimators=105, random_state=12345)\n",
            "RMSE модели случайного леса на обучающей выборке: 31.850500608464472\n",
            "RandomForestRegressor(max_depth=43, n_estimators=120, random_state=12345)\n",
            "RMSE модели случайного леса на обучающей выборке: 31.87566623339894\n",
            "RandomForestRegressor(max_depth=43, n_estimators=135, random_state=12345)\n",
            "RMSE модели случайного леса на обучающей выборке: 31.895484807894867\n",
            "RandomForestRegressor(max_depth=43, n_estimators=150, random_state=12345)\n",
            "RMSE модели случайного леса на обучающей выборке: 31.877533009212137\n",
            "RandomForestRegressor(max_depth=43, n_estimators=165, random_state=12345)\n",
            "RMSE модели случайного леса на обучающей выборке: 31.849259616607945\n",
            "RandomForestRegressor(max_depth=43, n_estimators=180, random_state=12345)\n",
            "RMSE модели случайного леса на обучающей выборке: 31.852471051159945\n",
            "RandomForestRegressor(max_depth=43, n_estimators=195, random_state=12345)\n",
            "RMSE модели случайного леса на обучающей выборке: 31.856726884998935\n",
            "RandomForestRegressor(max_depth=43, n_estimators=210, random_state=12345)\n",
            "RMSE модели случайного леса на обучающей выборке: 31.911281237860997\n",
            "RandomForestRegressor(max_depth=43, n_estimators=225, random_state=12345)\n",
            "RMSE модели случайного леса на обучающей выборке: 31.88569437639423\n",
            "RandomForestRegressor(max_depth=43, n_estimators=240, random_state=12345)\n",
            "RMSE модели случайного леса на обучающей выборке: 31.849847932186925\n",
            "RandomForestRegressor(max_depth=43, n_estimators=255, random_state=12345)\n",
            "RMSE модели случайного леса на обучающей выборке: 31.85709909814593\n",
            "RandomForestRegressor(max_depth=43, n_estimators=270, random_state=12345)\n",
            "RMSE модели случайного леса на обучающей выборке: 31.901812594961235\n",
            "RandomForestRegressor(max_depth=43, n_estimators=285, random_state=12345)\n",
            "RMSE модели случайного леса на обучающей выборке: 31.888250018834256\n",
            "RandomForestRegressor(max_depth=43, n_estimators=300, random_state=12345)\n",
            "RMSE модели случайного леса на обучающей выборке: 31.91118510540167\n",
            "RandomForestRegressor(max_depth=43, n_estimators=315, random_state=12345)\n",
            "RMSE модели случайного леса на обучающей выборке: 31.885402095648885\n",
            "RandomForestRegressor(max_depth=43, n_estimators=330, random_state=12345)\n",
            "RMSE модели случайного леса на обучающей выборке: 31.92323918920925\n",
            "RandomForestRegressor(max_depth=43, n_estimators=345, random_state=12345)\n",
            "RMSE модели случайного леса на обучающей выборке: 31.944300146566057\n",
            "RandomForestRegressor(max_depth=44, n_estimators=15, random_state=12345)\n",
            "RMSE модели случайного леса на обучающей выборке: 32.351464144341044\n",
            "RandomForestRegressor(max_depth=44, n_estimators=30, random_state=12345)\n",
            "RMSE модели случайного леса на обучающей выборке: 32.24511297126815\n",
            "RandomForestRegressor(max_depth=44, n_estimators=45, random_state=12345)\n",
            "RMSE модели случайного леса на обучающей выборке: 32.361642730439904\n",
            "RandomForestRegressor(max_depth=44, n_estimators=60, random_state=12345)\n",
            "RMSE модели случайного леса на обучающей выборке: 32.00425656877548\n",
            "RandomForestRegressor(max_depth=44, n_estimators=75, random_state=12345)\n",
            "RMSE модели случайного леса на обучающей выборке: 31.785801964525877\n",
            "RandomForestRegressor(max_depth=44, n_estimators=90, random_state=12345)\n",
            "RMSE модели случайного леса на обучающей выборке: 31.825872937604625\n",
            "RandomForestRegressor(max_depth=44, n_estimators=105, random_state=12345)\n",
            "RMSE модели случайного леса на обучающей выборке: 31.850500608464472\n",
            "RandomForestRegressor(max_depth=44, n_estimators=120, random_state=12345)\n",
            "RMSE модели случайного леса на обучающей выборке: 31.87566623339894\n",
            "RandomForestRegressor(max_depth=44, n_estimators=135, random_state=12345)\n",
            "RMSE модели случайного леса на обучающей выборке: 31.895484807894867\n",
            "RandomForestRegressor(max_depth=44, n_estimators=150, random_state=12345)\n",
            "RMSE модели случайного леса на обучающей выборке: 31.877533009212137\n",
            "RandomForestRegressor(max_depth=44, n_estimators=165, random_state=12345)\n",
            "RMSE модели случайного леса на обучающей выборке: 31.849259616607945\n",
            "RandomForestRegressor(max_depth=44, n_estimators=180, random_state=12345)\n",
            "RMSE модели случайного леса на обучающей выборке: 31.852471051159945\n",
            "RandomForestRegressor(max_depth=44, n_estimators=195, random_state=12345)\n",
            "RMSE модели случайного леса на обучающей выборке: 31.856726884998935\n",
            "RandomForestRegressor(max_depth=44, n_estimators=210, random_state=12345)\n",
            "RMSE модели случайного леса на обучающей выборке: 31.911281237860997\n",
            "RandomForestRegressor(max_depth=44, n_estimators=225, random_state=12345)\n",
            "RMSE модели случайного леса на обучающей выборке: 31.88569437639423\n",
            "RandomForestRegressor(max_depth=44, n_estimators=240, random_state=12345)\n",
            "RMSE модели случайного леса на обучающей выборке: 31.849847932186925\n",
            "RandomForestRegressor(max_depth=44, n_estimators=255, random_state=12345)\n",
            "RMSE модели случайного леса на обучающей выборке: 31.85709909814593\n",
            "RandomForestRegressor(max_depth=44, n_estimators=270, random_state=12345)\n",
            "RMSE модели случайного леса на обучающей выборке: 31.901812594961235\n",
            "RandomForestRegressor(max_depth=44, n_estimators=285, random_state=12345)\n",
            "RMSE модели случайного леса на обучающей выборке: 31.888250018834256\n",
            "RandomForestRegressor(max_depth=44, n_estimators=300, random_state=12345)\n",
            "RMSE модели случайного леса на обучающей выборке: 31.91118510540167\n",
            "RandomForestRegressor(max_depth=44, n_estimators=315, random_state=12345)\n",
            "RMSE модели случайного леса на обучающей выборке: 31.885402095648885\n",
            "RandomForestRegressor(max_depth=44, n_estimators=330, random_state=12345)\n",
            "RMSE модели случайного леса на обучающей выборке: 31.92323918920925\n",
            "RandomForestRegressor(max_depth=44, n_estimators=345, random_state=12345)\n",
            "RMSE модели случайного леса на обучающей выборке: 31.944300146566057\n",
            "RandomForestRegressor(max_depth=45, n_estimators=15, random_state=12345)\n",
            "RMSE модели случайного леса на обучающей выборке: 32.351464144341044\n",
            "RandomForestRegressor(max_depth=45, n_estimators=30, random_state=12345)\n",
            "RMSE модели случайного леса на обучающей выборке: 32.24511297126815\n",
            "RandomForestRegressor(max_depth=45, n_estimators=45, random_state=12345)\n",
            "RMSE модели случайного леса на обучающей выборке: 32.361642730439904\n",
            "RandomForestRegressor(max_depth=45, n_estimators=60, random_state=12345)\n",
            "RMSE модели случайного леса на обучающей выборке: 32.00425656877548\n",
            "RandomForestRegressor(max_depth=45, n_estimators=75, random_state=12345)\n",
            "RMSE модели случайного леса на обучающей выборке: 31.785801964525877\n",
            "RandomForestRegressor(max_depth=45, n_estimators=90, random_state=12345)\n",
            "RMSE модели случайного леса на обучающей выборке: 31.825872937604625\n",
            "RandomForestRegressor(max_depth=45, n_estimators=105, random_state=12345)\n",
            "RMSE модели случайного леса на обучающей выборке: 31.850500608464472\n",
            "RandomForestRegressor(max_depth=45, n_estimators=120, random_state=12345)\n",
            "RMSE модели случайного леса на обучающей выборке: 31.87566623339894\n",
            "RandomForestRegressor(max_depth=45, n_estimators=135, random_state=12345)\n",
            "RMSE модели случайного леса на обучающей выборке: 31.895484807894867\n",
            "RandomForestRegressor(max_depth=45, n_estimators=150, random_state=12345)\n",
            "RMSE модели случайного леса на обучающей выборке: 31.877533009212137\n",
            "RandomForestRegressor(max_depth=45, n_estimators=165, random_state=12345)\n",
            "RMSE модели случайного леса на обучающей выборке: 31.849259616607945\n",
            "RandomForestRegressor(max_depth=45, n_estimators=180, random_state=12345)\n",
            "RMSE модели случайного леса на обучающей выборке: 31.852471051159945\n",
            "RandomForestRegressor(max_depth=45, n_estimators=195, random_state=12345)\n",
            "RMSE модели случайного леса на обучающей выборке: 31.856726884998935\n",
            "RandomForestRegressor(max_depth=45, n_estimators=210, random_state=12345)\n",
            "RMSE модели случайного леса на обучающей выборке: 31.911281237860997\n",
            "RandomForestRegressor(max_depth=45, n_estimators=225, random_state=12345)\n",
            "RMSE модели случайного леса на обучающей выборке: 31.88569437639423\n",
            "RandomForestRegressor(max_depth=45, n_estimators=240, random_state=12345)\n",
            "RMSE модели случайного леса на обучающей выборке: 31.849847932186925\n",
            "RandomForestRegressor(max_depth=45, n_estimators=255, random_state=12345)\n",
            "RMSE модели случайного леса на обучающей выборке: 31.85709909814593\n",
            "RandomForestRegressor(max_depth=45, n_estimators=270, random_state=12345)\n",
            "RMSE модели случайного леса на обучающей выборке: 31.901812594961235\n",
            "RandomForestRegressor(max_depth=45, n_estimators=285, random_state=12345)\n",
            "RMSE модели случайного леса на обучающей выборке: 31.888250018834256\n",
            "RandomForestRegressor(max_depth=45, n_estimators=300, random_state=12345)\n",
            "RMSE модели случайного леса на обучающей выборке: 31.91118510540167\n",
            "RandomForestRegressor(max_depth=45, n_estimators=315, random_state=12345)\n",
            "RMSE модели случайного леса на обучающей выборке: 31.885402095648885\n",
            "RandomForestRegressor(max_depth=45, n_estimators=330, random_state=12345)\n",
            "RMSE модели случайного леса на обучающей выборке: 31.92323918920925\n",
            "RandomForestRegressor(max_depth=45, n_estimators=345, random_state=12345)\n",
            "RMSE модели случайного леса на обучающей выборке: 31.944300146566057\n",
            "RandomForestRegressor(max_depth=46, n_estimators=15, random_state=12345)\n",
            "RMSE модели случайного леса на обучающей выборке: 32.351464144341044\n",
            "RandomForestRegressor(max_depth=46, n_estimators=30, random_state=12345)\n",
            "RMSE модели случайного леса на обучающей выборке: 32.24511297126815\n",
            "RandomForestRegressor(max_depth=46, n_estimators=45, random_state=12345)\n",
            "RMSE модели случайного леса на обучающей выборке: 32.361642730439904\n",
            "RandomForestRegressor(max_depth=46, n_estimators=60, random_state=12345)\n",
            "RMSE модели случайного леса на обучающей выборке: 32.00425656877548\n",
            "RandomForestRegressor(max_depth=46, n_estimators=75, random_state=12345)\n",
            "RMSE модели случайного леса на обучающей выборке: 31.785801964525877\n",
            "RandomForestRegressor(max_depth=46, n_estimators=90, random_state=12345)\n",
            "RMSE модели случайного леса на обучающей выборке: 31.825872937604625\n",
            "RandomForestRegressor(max_depth=46, n_estimators=105, random_state=12345)\n",
            "RMSE модели случайного леса на обучающей выборке: 31.850500608464472\n",
            "RandomForestRegressor(max_depth=46, n_estimators=120, random_state=12345)\n",
            "RMSE модели случайного леса на обучающей выборке: 31.87566623339894\n",
            "RandomForestRegressor(max_depth=46, n_estimators=135, random_state=12345)\n",
            "RMSE модели случайного леса на обучающей выборке: 31.895484807894867\n",
            "RandomForestRegressor(max_depth=46, n_estimators=150, random_state=12345)\n",
            "RMSE модели случайного леса на обучающей выборке: 31.877533009212137\n",
            "RandomForestRegressor(max_depth=46, n_estimators=165, random_state=12345)\n",
            "RMSE модели случайного леса на обучающей выборке: 31.849259616607945\n",
            "RandomForestRegressor(max_depth=46, n_estimators=180, random_state=12345)\n",
            "RMSE модели случайного леса на обучающей выборке: 31.852471051159945\n",
            "RandomForestRegressor(max_depth=46, n_estimators=195, random_state=12345)\n",
            "RMSE модели случайного леса на обучающей выборке: 31.856726884998935\n",
            "RandomForestRegressor(max_depth=46, n_estimators=210, random_state=12345)\n",
            "RMSE модели случайного леса на обучающей выборке: 31.911281237860997\n",
            "RandomForestRegressor(max_depth=46, n_estimators=225, random_state=12345)\n",
            "RMSE модели случайного леса на обучающей выборке: 31.88569437639423\n",
            "RandomForestRegressor(max_depth=46, n_estimators=240, random_state=12345)\n",
            "RMSE модели случайного леса на обучающей выборке: 31.849847932186925\n",
            "RandomForestRegressor(max_depth=46, n_estimators=255, random_state=12345)\n",
            "RMSE модели случайного леса на обучающей выборке: 31.85709909814593\n",
            "RandomForestRegressor(max_depth=46, n_estimators=270, random_state=12345)\n",
            "RMSE модели случайного леса на обучающей выборке: 31.901812594961235\n",
            "RandomForestRegressor(max_depth=46, n_estimators=285, random_state=12345)\n",
            "RMSE модели случайного леса на обучающей выборке: 31.888250018834256\n",
            "RandomForestRegressor(max_depth=46, n_estimators=300, random_state=12345)\n",
            "RMSE модели случайного леса на обучающей выборке: 31.91118510540167\n",
            "RandomForestRegressor(max_depth=46, n_estimators=315, random_state=12345)\n",
            "RMSE модели случайного леса на обучающей выборке: 31.885402095648885\n",
            "RandomForestRegressor(max_depth=46, n_estimators=330, random_state=12345)\n",
            "RMSE модели случайного леса на обучающей выборке: 31.92323918920925\n",
            "RandomForestRegressor(max_depth=46, n_estimators=345, random_state=12345)\n",
            "RMSE модели случайного леса на обучающей выборке: 31.944300146566057\n",
            "RandomForestRegressor(max_depth=47, n_estimators=15, random_state=12345)\n",
            "RMSE модели случайного леса на обучающей выборке: 32.351464144341044\n",
            "RandomForestRegressor(max_depth=47, n_estimators=30, random_state=12345)\n",
            "RMSE модели случайного леса на обучающей выборке: 32.24511297126815\n",
            "RandomForestRegressor(max_depth=47, n_estimators=45, random_state=12345)\n",
            "RMSE модели случайного леса на обучающей выборке: 32.361642730439904\n",
            "RandomForestRegressor(max_depth=47, n_estimators=60, random_state=12345)\n",
            "RMSE модели случайного леса на обучающей выборке: 32.00425656877548\n",
            "RandomForestRegressor(max_depth=47, n_estimators=75, random_state=12345)\n",
            "RMSE модели случайного леса на обучающей выборке: 31.785801964525877\n",
            "RandomForestRegressor(max_depth=47, n_estimators=90, random_state=12345)\n",
            "RMSE модели случайного леса на обучающей выборке: 31.825872937604625\n",
            "RandomForestRegressor(max_depth=47, n_estimators=105, random_state=12345)\n",
            "RMSE модели случайного леса на обучающей выборке: 31.850500608464472\n",
            "RandomForestRegressor(max_depth=47, n_estimators=120, random_state=12345)\n",
            "RMSE модели случайного леса на обучающей выборке: 31.87566623339894\n",
            "RandomForestRegressor(max_depth=47, n_estimators=135, random_state=12345)\n",
            "RMSE модели случайного леса на обучающей выборке: 31.895484807894867\n",
            "RandomForestRegressor(max_depth=47, n_estimators=150, random_state=12345)\n",
            "RMSE модели случайного леса на обучающей выборке: 31.877533009212137\n",
            "RandomForestRegressor(max_depth=47, n_estimators=165, random_state=12345)\n",
            "RMSE модели случайного леса на обучающей выборке: 31.849259616607945\n",
            "RandomForestRegressor(max_depth=47, n_estimators=180, random_state=12345)\n",
            "RMSE модели случайного леса на обучающей выборке: 31.852471051159945\n",
            "RandomForestRegressor(max_depth=47, n_estimators=195, random_state=12345)\n",
            "RMSE модели случайного леса на обучающей выборке: 31.856726884998935\n",
            "RandomForestRegressor(max_depth=47, n_estimators=210, random_state=12345)\n",
            "RMSE модели случайного леса на обучающей выборке: 31.911281237860997\n",
            "RandomForestRegressor(max_depth=47, n_estimators=225, random_state=12345)\n",
            "RMSE модели случайного леса на обучающей выборке: 31.88569437639423\n",
            "RandomForestRegressor(max_depth=47, n_estimators=240, random_state=12345)\n",
            "RMSE модели случайного леса на обучающей выборке: 31.849847932186925\n",
            "RandomForestRegressor(max_depth=47, n_estimators=255, random_state=12345)\n",
            "RMSE модели случайного леса на обучающей выборке: 31.85709909814593\n",
            "RandomForestRegressor(max_depth=47, n_estimators=270, random_state=12345)\n",
            "RMSE модели случайного леса на обучающей выборке: 31.901812594961235\n",
            "RandomForestRegressor(max_depth=47, n_estimators=285, random_state=12345)\n",
            "RMSE модели случайного леса на обучающей выборке: 31.888250018834256\n",
            "RandomForestRegressor(max_depth=47, n_estimators=300, random_state=12345)\n",
            "RMSE модели случайного леса на обучающей выборке: 31.91118510540167\n",
            "RandomForestRegressor(max_depth=47, n_estimators=315, random_state=12345)\n",
            "RMSE модели случайного леса на обучающей выборке: 31.885402095648885\n",
            "RandomForestRegressor(max_depth=47, n_estimators=330, random_state=12345)\n",
            "RMSE модели случайного леса на обучающей выборке: 31.92323918920925\n",
            "RandomForestRegressor(max_depth=47, n_estimators=345, random_state=12345)\n",
            "RMSE модели случайного леса на обучающей выборке: 31.944300146566057\n",
            "RandomForestRegressor(max_depth=48, n_estimators=15, random_state=12345)\n",
            "RMSE модели случайного леса на обучающей выборке: 32.351464144341044\n",
            "RandomForestRegressor(max_depth=48, n_estimators=30, random_state=12345)\n",
            "RMSE модели случайного леса на обучающей выборке: 32.24511297126815\n",
            "RandomForestRegressor(max_depth=48, n_estimators=45, random_state=12345)\n",
            "RMSE модели случайного леса на обучающей выборке: 32.361642730439904\n",
            "RandomForestRegressor(max_depth=48, n_estimators=60, random_state=12345)\n",
            "RMSE модели случайного леса на обучающей выборке: 32.00425656877548\n",
            "RandomForestRegressor(max_depth=48, n_estimators=75, random_state=12345)\n",
            "RMSE модели случайного леса на обучающей выборке: 31.785801964525877\n",
            "RandomForestRegressor(max_depth=48, n_estimators=90, random_state=12345)\n",
            "RMSE модели случайного леса на обучающей выборке: 31.825872937604625\n",
            "RandomForestRegressor(max_depth=48, n_estimators=105, random_state=12345)\n",
            "RMSE модели случайного леса на обучающей выборке: 31.850500608464472\n",
            "RandomForestRegressor(max_depth=48, n_estimators=120, random_state=12345)\n",
            "RMSE модели случайного леса на обучающей выборке: 31.87566623339894\n",
            "RandomForestRegressor(max_depth=48, n_estimators=135, random_state=12345)\n",
            "RMSE модели случайного леса на обучающей выборке: 31.895484807894867\n",
            "RandomForestRegressor(max_depth=48, n_estimators=150, random_state=12345)\n",
            "RMSE модели случайного леса на обучающей выборке: 31.877533009212137\n",
            "RandomForestRegressor(max_depth=48, n_estimators=165, random_state=12345)\n",
            "RMSE модели случайного леса на обучающей выборке: 31.849259616607945\n",
            "RandomForestRegressor(max_depth=48, n_estimators=180, random_state=12345)\n",
            "RMSE модели случайного леса на обучающей выборке: 31.852471051159945\n",
            "RandomForestRegressor(max_depth=48, n_estimators=195, random_state=12345)\n",
            "RMSE модели случайного леса на обучающей выборке: 31.856726884998935\n",
            "RandomForestRegressor(max_depth=48, n_estimators=210, random_state=12345)\n",
            "RMSE модели случайного леса на обучающей выборке: 31.911281237860997\n",
            "RandomForestRegressor(max_depth=48, n_estimators=225, random_state=12345)\n",
            "RMSE модели случайного леса на обучающей выборке: 31.88569437639423\n",
            "RandomForestRegressor(max_depth=48, n_estimators=240, random_state=12345)\n",
            "RMSE модели случайного леса на обучающей выборке: 31.849847932186925\n",
            "RandomForestRegressor(max_depth=48, n_estimators=255, random_state=12345)\n",
            "RMSE модели случайного леса на обучающей выборке: 31.85709909814593\n",
            "RandomForestRegressor(max_depth=48, n_estimators=270, random_state=12345)\n",
            "RMSE модели случайного леса на обучающей выборке: 31.901812594961235\n",
            "RandomForestRegressor(max_depth=48, n_estimators=285, random_state=12345)\n",
            "RMSE модели случайного леса на обучающей выборке: 31.888250018834256\n",
            "RandomForestRegressor(max_depth=48, n_estimators=300, random_state=12345)\n",
            "RMSE модели случайного леса на обучающей выборке: 31.91118510540167\n",
            "RandomForestRegressor(max_depth=48, n_estimators=315, random_state=12345)\n",
            "RMSE модели случайного леса на обучающей выборке: 31.885402095648885\n",
            "RandomForestRegressor(max_depth=48, n_estimators=330, random_state=12345)\n",
            "RMSE модели случайного леса на обучающей выборке: 31.92323918920925\n",
            "RandomForestRegressor(max_depth=48, n_estimators=345, random_state=12345)\n",
            "RMSE модели случайного леса на обучающей выборке: 31.944300146566057\n",
            "RandomForestRegressor(max_depth=49, n_estimators=15, random_state=12345)\n",
            "RMSE модели случайного леса на обучающей выборке: 32.351464144341044\n",
            "RandomForestRegressor(max_depth=49, n_estimators=30, random_state=12345)\n",
            "RMSE модели случайного леса на обучающей выборке: 32.24511297126815\n",
            "RandomForestRegressor(max_depth=49, n_estimators=45, random_state=12345)\n",
            "RMSE модели случайного леса на обучающей выборке: 32.361642730439904\n",
            "RandomForestRegressor(max_depth=49, n_estimators=60, random_state=12345)\n",
            "RMSE модели случайного леса на обучающей выборке: 32.00425656877548\n",
            "RandomForestRegressor(max_depth=49, n_estimators=75, random_state=12345)\n",
            "RMSE модели случайного леса на обучающей выборке: 31.785801964525877\n",
            "RandomForestRegressor(max_depth=49, n_estimators=90, random_state=12345)\n",
            "RMSE модели случайного леса на обучающей выборке: 31.825872937604625\n",
            "RandomForestRegressor(max_depth=49, n_estimators=105, random_state=12345)\n",
            "RMSE модели случайного леса на обучающей выборке: 31.850500608464472\n",
            "RandomForestRegressor(max_depth=49, n_estimators=120, random_state=12345)\n",
            "RMSE модели случайного леса на обучающей выборке: 31.87566623339894\n",
            "RandomForestRegressor(max_depth=49, n_estimators=135, random_state=12345)\n",
            "RMSE модели случайного леса на обучающей выборке: 31.895484807894867\n",
            "RandomForestRegressor(max_depth=49, n_estimators=150, random_state=12345)\n",
            "RMSE модели случайного леса на обучающей выборке: 31.877533009212137\n",
            "RandomForestRegressor(max_depth=49, n_estimators=165, random_state=12345)\n",
            "RMSE модели случайного леса на обучающей выборке: 31.849259616607945\n",
            "RandomForestRegressor(max_depth=49, n_estimators=180, random_state=12345)\n",
            "RMSE модели случайного леса на обучающей выборке: 31.852471051159945\n",
            "RandomForestRegressor(max_depth=49, n_estimators=195, random_state=12345)\n",
            "RMSE модели случайного леса на обучающей выборке: 31.856726884998935\n",
            "RandomForestRegressor(max_depth=49, n_estimators=210, random_state=12345)\n",
            "RMSE модели случайного леса на обучающей выборке: 31.911281237860997\n",
            "RandomForestRegressor(max_depth=49, n_estimators=225, random_state=12345)\n",
            "RMSE модели случайного леса на обучающей выборке: 31.88569437639423\n",
            "RandomForestRegressor(max_depth=49, n_estimators=240, random_state=12345)\n",
            "RMSE модели случайного леса на обучающей выборке: 31.849847932186925\n",
            "RandomForestRegressor(max_depth=49, n_estimators=255, random_state=12345)\n",
            "RMSE модели случайного леса на обучающей выборке: 31.85709909814593\n",
            "RandomForestRegressor(max_depth=49, n_estimators=270, random_state=12345)\n",
            "RMSE модели случайного леса на обучающей выборке: 31.901812594961235\n",
            "RandomForestRegressor(max_depth=49, n_estimators=285, random_state=12345)\n",
            "RMSE модели случайного леса на обучающей выборке: 31.888250018834256\n",
            "RandomForestRegressor(max_depth=49, n_estimators=300, random_state=12345)\n",
            "RMSE модели случайного леса на обучающей выборке: 31.91118510540167\n",
            "RandomForestRegressor(max_depth=49, n_estimators=315, random_state=12345)\n",
            "RMSE модели случайного леса на обучающей выборке: 31.885402095648885\n",
            "RandomForestRegressor(max_depth=49, n_estimators=330, random_state=12345)\n",
            "RMSE модели случайного леса на обучающей выборке: 31.92323918920925\n",
            "RandomForestRegressor(max_depth=49, n_estimators=345, random_state=12345)\n",
            "RMSE модели случайного леса на обучающей выборке: 31.944300146566057\n",
            "RandomForestRegressor(max_depth=50, n_estimators=15, random_state=12345)\n",
            "RMSE модели случайного леса на обучающей выборке: 32.351464144341044\n",
            "RandomForestRegressor(max_depth=50, n_estimators=30, random_state=12345)\n",
            "RMSE модели случайного леса на обучающей выборке: 32.24511297126815\n",
            "RandomForestRegressor(max_depth=50, n_estimators=45, random_state=12345)\n",
            "RMSE модели случайного леса на обучающей выборке: 32.361642730439904\n",
            "RandomForestRegressor(max_depth=50, n_estimators=60, random_state=12345)\n",
            "RMSE модели случайного леса на обучающей выборке: 32.00425656877548\n",
            "RandomForestRegressor(max_depth=50, n_estimators=75, random_state=12345)\n",
            "RMSE модели случайного леса на обучающей выборке: 31.785801964525877\n",
            "RandomForestRegressor(max_depth=50, n_estimators=90, random_state=12345)\n",
            "RMSE модели случайного леса на обучающей выборке: 31.825872937604625\n",
            "RandomForestRegressor(max_depth=50, n_estimators=105, random_state=12345)\n",
            "RMSE модели случайного леса на обучающей выборке: 31.850500608464472\n",
            "RandomForestRegressor(max_depth=50, n_estimators=120, random_state=12345)\n",
            "RMSE модели случайного леса на обучающей выборке: 31.87566623339894\n",
            "RandomForestRegressor(max_depth=50, n_estimators=135, random_state=12345)\n",
            "RMSE модели случайного леса на обучающей выборке: 31.895484807894867\n",
            "RandomForestRegressor(max_depth=50, n_estimators=150, random_state=12345)\n",
            "RMSE модели случайного леса на обучающей выборке: 31.877533009212137\n",
            "RandomForestRegressor(max_depth=50, n_estimators=165, random_state=12345)\n",
            "RMSE модели случайного леса на обучающей выборке: 31.849259616607945\n",
            "RandomForestRegressor(max_depth=50, n_estimators=180, random_state=12345)\n",
            "RMSE модели случайного леса на обучающей выборке: 31.852471051159945\n",
            "RandomForestRegressor(max_depth=50, n_estimators=195, random_state=12345)\n",
            "RMSE модели случайного леса на обучающей выборке: 31.856726884998935\n",
            "RandomForestRegressor(max_depth=50, n_estimators=210, random_state=12345)\n",
            "RMSE модели случайного леса на обучающей выборке: 31.911281237860997\n",
            "RandomForestRegressor(max_depth=50, n_estimators=225, random_state=12345)\n",
            "RMSE модели случайного леса на обучающей выборке: 31.88569437639423\n",
            "RandomForestRegressor(max_depth=50, n_estimators=240, random_state=12345)\n",
            "RMSE модели случайного леса на обучающей выборке: 31.849847932186925\n",
            "RandomForestRegressor(max_depth=50, n_estimators=255, random_state=12345)\n",
            "RMSE модели случайного леса на обучающей выборке: 31.85709909814593\n",
            "RandomForestRegressor(max_depth=50, n_estimators=270, random_state=12345)\n",
            "RMSE модели случайного леса на обучающей выборке: 31.901812594961235\n",
            "RandomForestRegressor(max_depth=50, n_estimators=285, random_state=12345)\n",
            "RMSE модели случайного леса на обучающей выборке: 31.888250018834256\n",
            "RandomForestRegressor(max_depth=50, n_estimators=300, random_state=12345)\n",
            "RMSE модели случайного леса на обучающей выборке: 31.91118510540167\n",
            "RandomForestRegressor(max_depth=50, n_estimators=315, random_state=12345)\n",
            "RMSE модели случайного леса на обучающей выборке: 31.885402095648885\n",
            "RandomForestRegressor(max_depth=50, n_estimators=330, random_state=12345)\n",
            "RMSE модели случайного леса на обучающей выборке: 31.92323918920925\n",
            "RandomForestRegressor(max_depth=50, n_estimators=345, random_state=12345)\n",
            "RMSE модели случайного леса на обучающей выборке: 31.944300146566057\n",
            "RandomForestRegressor(max_depth=51, n_estimators=15, random_state=12345)\n",
            "RMSE модели случайного леса на обучающей выборке: 32.351464144341044\n",
            "RandomForestRegressor(max_depth=51, n_estimators=30, random_state=12345)\n",
            "RMSE модели случайного леса на обучающей выборке: 32.24511297126815\n",
            "RandomForestRegressor(max_depth=51, n_estimators=45, random_state=12345)\n",
            "RMSE модели случайного леса на обучающей выборке: 32.361642730439904\n",
            "RandomForestRegressor(max_depth=51, n_estimators=60, random_state=12345)\n",
            "RMSE модели случайного леса на обучающей выборке: 32.00425656877548\n",
            "RandomForestRegressor(max_depth=51, n_estimators=75, random_state=12345)\n",
            "RMSE модели случайного леса на обучающей выборке: 31.785801964525877\n",
            "RandomForestRegressor(max_depth=51, n_estimators=90, random_state=12345)\n",
            "RMSE модели случайного леса на обучающей выборке: 31.825872937604625\n",
            "RandomForestRegressor(max_depth=51, n_estimators=105, random_state=12345)\n",
            "RMSE модели случайного леса на обучающей выборке: 31.850500608464472\n",
            "RandomForestRegressor(max_depth=51, n_estimators=120, random_state=12345)\n",
            "RMSE модели случайного леса на обучающей выборке: 31.87566623339894\n",
            "RandomForestRegressor(max_depth=51, n_estimators=135, random_state=12345)\n",
            "RMSE модели случайного леса на обучающей выборке: 31.895484807894867\n",
            "RandomForestRegressor(max_depth=51, n_estimators=150, random_state=12345)\n",
            "RMSE модели случайного леса на обучающей выборке: 31.877533009212137\n",
            "RandomForestRegressor(max_depth=51, n_estimators=165, random_state=12345)\n",
            "RMSE модели случайного леса на обучающей выборке: 31.849259616607945\n",
            "RandomForestRegressor(max_depth=51, n_estimators=180, random_state=12345)\n",
            "RMSE модели случайного леса на обучающей выборке: 31.852471051159945\n",
            "RandomForestRegressor(max_depth=51, n_estimators=195, random_state=12345)\n",
            "RMSE модели случайного леса на обучающей выборке: 31.856726884998935\n",
            "RandomForestRegressor(max_depth=51, n_estimators=210, random_state=12345)\n",
            "RMSE модели случайного леса на обучающей выборке: 31.911281237860997\n",
            "RandomForestRegressor(max_depth=51, n_estimators=225, random_state=12345)\n",
            "RMSE модели случайного леса на обучающей выборке: 31.88569437639423\n",
            "RandomForestRegressor(max_depth=51, n_estimators=240, random_state=12345)\n",
            "RMSE модели случайного леса на обучающей выборке: 31.849847932186925\n",
            "RandomForestRegressor(max_depth=51, n_estimators=255, random_state=12345)\n",
            "RMSE модели случайного леса на обучающей выборке: 31.85709909814593\n",
            "RandomForestRegressor(max_depth=51, n_estimators=270, random_state=12345)\n",
            "RMSE модели случайного леса на обучающей выборке: 31.901812594961235\n",
            "RandomForestRegressor(max_depth=51, n_estimators=285, random_state=12345)\n",
            "RMSE модели случайного леса на обучающей выборке: 31.888250018834256\n",
            "RandomForestRegressor(max_depth=51, n_estimators=300, random_state=12345)\n",
            "RMSE модели случайного леса на обучающей выборке: 31.91118510540167\n",
            "RandomForestRegressor(max_depth=51, n_estimators=315, random_state=12345)\n",
            "RMSE модели случайного леса на обучающей выборке: 31.885402095648885\n",
            "RandomForestRegressor(max_depth=51, n_estimators=330, random_state=12345)\n",
            "RMSE модели случайного леса на обучающей выборке: 31.92323918920925\n",
            "RandomForestRegressor(max_depth=51, n_estimators=345, random_state=12345)\n",
            "RMSE модели случайного леса на обучающей выборке: 31.944300146566057\n",
            "RandomForestRegressor(max_depth=52, n_estimators=15, random_state=12345)\n",
            "RMSE модели случайного леса на обучающей выборке: 32.351464144341044\n",
            "RandomForestRegressor(max_depth=52, n_estimators=30, random_state=12345)\n",
            "RMSE модели случайного леса на обучающей выборке: 32.24511297126815\n",
            "RandomForestRegressor(max_depth=52, n_estimators=45, random_state=12345)\n",
            "RMSE модели случайного леса на обучающей выборке: 32.361642730439904\n",
            "RandomForestRegressor(max_depth=52, n_estimators=60, random_state=12345)\n",
            "RMSE модели случайного леса на обучающей выборке: 32.00425656877548\n",
            "RandomForestRegressor(max_depth=52, n_estimators=75, random_state=12345)\n",
            "RMSE модели случайного леса на обучающей выборке: 31.785801964525877\n",
            "RandomForestRegressor(max_depth=52, n_estimators=90, random_state=12345)\n",
            "RMSE модели случайного леса на обучающей выборке: 31.825872937604625\n",
            "RandomForestRegressor(max_depth=52, n_estimators=105, random_state=12345)\n",
            "RMSE модели случайного леса на обучающей выборке: 31.850500608464472\n",
            "RandomForestRegressor(max_depth=52, n_estimators=120, random_state=12345)\n",
            "RMSE модели случайного леса на обучающей выборке: 31.87566623339894\n",
            "RandomForestRegressor(max_depth=52, n_estimators=135, random_state=12345)\n",
            "RMSE модели случайного леса на обучающей выборке: 31.895484807894867\n",
            "RandomForestRegressor(max_depth=52, n_estimators=150, random_state=12345)\n",
            "RMSE модели случайного леса на обучающей выборке: 31.877533009212137\n",
            "RandomForestRegressor(max_depth=52, n_estimators=165, random_state=12345)\n",
            "RMSE модели случайного леса на обучающей выборке: 31.849259616607945\n",
            "RandomForestRegressor(max_depth=52, n_estimators=180, random_state=12345)\n",
            "RMSE модели случайного леса на обучающей выборке: 31.852471051159945\n",
            "RandomForestRegressor(max_depth=52, n_estimators=195, random_state=12345)\n",
            "RMSE модели случайного леса на обучающей выборке: 31.856726884998935\n",
            "RandomForestRegressor(max_depth=52, n_estimators=210, random_state=12345)\n",
            "RMSE модели случайного леса на обучающей выборке: 31.911281237860997\n",
            "RandomForestRegressor(max_depth=52, n_estimators=225, random_state=12345)\n",
            "RMSE модели случайного леса на обучающей выборке: 31.88569437639423\n",
            "RandomForestRegressor(max_depth=52, n_estimators=240, random_state=12345)\n",
            "RMSE модели случайного леса на обучающей выборке: 31.849847932186925\n",
            "RandomForestRegressor(max_depth=52, n_estimators=255, random_state=12345)\n",
            "RMSE модели случайного леса на обучающей выборке: 31.85709909814593\n",
            "RandomForestRegressor(max_depth=52, n_estimators=270, random_state=12345)\n",
            "RMSE модели случайного леса на обучающей выборке: 31.901812594961235\n",
            "RandomForestRegressor(max_depth=52, n_estimators=285, random_state=12345)\n",
            "RMSE модели случайного леса на обучающей выборке: 31.888250018834256\n",
            "RandomForestRegressor(max_depth=52, n_estimators=300, random_state=12345)\n",
            "RMSE модели случайного леса на обучающей выборке: 31.91118510540167\n",
            "RandomForestRegressor(max_depth=52, n_estimators=315, random_state=12345)\n",
            "RMSE модели случайного леса на обучающей выборке: 31.885402095648885\n",
            "RandomForestRegressor(max_depth=52, n_estimators=330, random_state=12345)\n",
            "RMSE модели случайного леса на обучающей выборке: 31.92323918920925\n",
            "RandomForestRegressor(max_depth=52, n_estimators=345, random_state=12345)\n",
            "RMSE модели случайного леса на обучающей выборке: 31.944300146566057\n",
            "RandomForestRegressor(max_depth=53, n_estimators=15, random_state=12345)\n",
            "RMSE модели случайного леса на обучающей выборке: 32.351464144341044\n",
            "RandomForestRegressor(max_depth=53, n_estimators=30, random_state=12345)\n",
            "RMSE модели случайного леса на обучающей выборке: 32.24511297126815\n",
            "RandomForestRegressor(max_depth=53, n_estimators=45, random_state=12345)\n",
            "RMSE модели случайного леса на обучающей выборке: 32.361642730439904\n",
            "RandomForestRegressor(max_depth=53, n_estimators=60, random_state=12345)\n",
            "RMSE модели случайного леса на обучающей выборке: 32.00425656877548\n",
            "RandomForestRegressor(max_depth=53, n_estimators=75, random_state=12345)\n",
            "RMSE модели случайного леса на обучающей выборке: 31.785801964525877\n",
            "RandomForestRegressor(max_depth=53, n_estimators=90, random_state=12345)\n",
            "RMSE модели случайного леса на обучающей выборке: 31.825872937604625\n",
            "RandomForestRegressor(max_depth=53, n_estimators=105, random_state=12345)\n",
            "RMSE модели случайного леса на обучающей выборке: 31.850500608464472\n",
            "RandomForestRegressor(max_depth=53, n_estimators=120, random_state=12345)\n",
            "RMSE модели случайного леса на обучающей выборке: 31.87566623339894\n",
            "RandomForestRegressor(max_depth=53, n_estimators=135, random_state=12345)\n",
            "RMSE модели случайного леса на обучающей выборке: 31.895484807894867\n",
            "RandomForestRegressor(max_depth=53, n_estimators=150, random_state=12345)\n",
            "RMSE модели случайного леса на обучающей выборке: 31.877533009212137\n",
            "RandomForestRegressor(max_depth=53, n_estimators=165, random_state=12345)\n",
            "RMSE модели случайного леса на обучающей выборке: 31.849259616607945\n",
            "RandomForestRegressor(max_depth=53, n_estimators=180, random_state=12345)\n",
            "RMSE модели случайного леса на обучающей выборке: 31.852471051159945\n",
            "RandomForestRegressor(max_depth=53, n_estimators=195, random_state=12345)\n",
            "RMSE модели случайного леса на обучающей выборке: 31.856726884998935\n",
            "RandomForestRegressor(max_depth=53, n_estimators=210, random_state=12345)\n",
            "RMSE модели случайного леса на обучающей выборке: 31.911281237860997\n",
            "RandomForestRegressor(max_depth=53, n_estimators=225, random_state=12345)\n",
            "RMSE модели случайного леса на обучающей выборке: 31.88569437639423\n",
            "RandomForestRegressor(max_depth=53, n_estimators=240, random_state=12345)\n",
            "RMSE модели случайного леса на обучающей выборке: 31.849847932186925\n",
            "RandomForestRegressor(max_depth=53, n_estimators=255, random_state=12345)\n",
            "RMSE модели случайного леса на обучающей выборке: 31.85709909814593\n",
            "RandomForestRegressor(max_depth=53, n_estimators=270, random_state=12345)\n",
            "RMSE модели случайного леса на обучающей выборке: 31.901812594961235\n",
            "RandomForestRegressor(max_depth=53, n_estimators=285, random_state=12345)\n",
            "RMSE модели случайного леса на обучающей выборке: 31.888250018834256\n",
            "RandomForestRegressor(max_depth=53, n_estimators=300, random_state=12345)\n",
            "RMSE модели случайного леса на обучающей выборке: 31.91118510540167\n",
            "RandomForestRegressor(max_depth=53, n_estimators=315, random_state=12345)\n",
            "RMSE модели случайного леса на обучающей выборке: 31.885402095648885\n",
            "RandomForestRegressor(max_depth=53, n_estimators=330, random_state=12345)\n",
            "RMSE модели случайного леса на обучающей выборке: 31.92323918920925\n",
            "RandomForestRegressor(max_depth=53, n_estimators=345, random_state=12345)\n",
            "RMSE модели случайного леса на обучающей выборке: 31.944300146566057\n",
            "RandomForestRegressor(max_depth=54, n_estimators=15, random_state=12345)\n",
            "RMSE модели случайного леса на обучающей выборке: 32.351464144341044\n",
            "RandomForestRegressor(max_depth=54, n_estimators=30, random_state=12345)\n",
            "RMSE модели случайного леса на обучающей выборке: 32.24511297126815\n",
            "RandomForestRegressor(max_depth=54, n_estimators=45, random_state=12345)\n",
            "RMSE модели случайного леса на обучающей выборке: 32.361642730439904\n",
            "RandomForestRegressor(max_depth=54, n_estimators=60, random_state=12345)\n",
            "RMSE модели случайного леса на обучающей выборке: 32.00425656877548\n",
            "RandomForestRegressor(max_depth=54, n_estimators=75, random_state=12345)\n",
            "RMSE модели случайного леса на обучающей выборке: 31.785801964525877\n",
            "RandomForestRegressor(max_depth=54, n_estimators=90, random_state=12345)\n",
            "RMSE модели случайного леса на обучающей выборке: 31.825872937604625\n",
            "RandomForestRegressor(max_depth=54, n_estimators=105, random_state=12345)\n",
            "RMSE модели случайного леса на обучающей выборке: 31.850500608464472\n",
            "RandomForestRegressor(max_depth=54, n_estimators=120, random_state=12345)\n",
            "RMSE модели случайного леса на обучающей выборке: 31.87566623339894\n",
            "RandomForestRegressor(max_depth=54, n_estimators=135, random_state=12345)\n",
            "RMSE модели случайного леса на обучающей выборке: 31.895484807894867\n",
            "RandomForestRegressor(max_depth=54, n_estimators=150, random_state=12345)\n",
            "RMSE модели случайного леса на обучающей выборке: 31.877533009212137\n",
            "RandomForestRegressor(max_depth=54, n_estimators=165, random_state=12345)\n",
            "RMSE модели случайного леса на обучающей выборке: 31.849259616607945\n",
            "RandomForestRegressor(max_depth=54, n_estimators=180, random_state=12345)\n",
            "RMSE модели случайного леса на обучающей выборке: 31.852471051159945\n",
            "RandomForestRegressor(max_depth=54, n_estimators=195, random_state=12345)\n",
            "RMSE модели случайного леса на обучающей выборке: 31.856726884998935\n",
            "RandomForestRegressor(max_depth=54, n_estimators=210, random_state=12345)\n",
            "RMSE модели случайного леса на обучающей выборке: 31.911281237860997\n",
            "RandomForestRegressor(max_depth=54, n_estimators=225, random_state=12345)\n",
            "RMSE модели случайного леса на обучающей выборке: 31.88569437639423\n",
            "RandomForestRegressor(max_depth=54, n_estimators=240, random_state=12345)\n",
            "RMSE модели случайного леса на обучающей выборке: 31.849847932186925\n",
            "RandomForestRegressor(max_depth=54, n_estimators=255, random_state=12345)\n",
            "RMSE модели случайного леса на обучающей выборке: 31.85709909814593\n",
            "RandomForestRegressor(max_depth=54, n_estimators=270, random_state=12345)\n",
            "RMSE модели случайного леса на обучающей выборке: 31.901812594961235\n",
            "RandomForestRegressor(max_depth=54, n_estimators=285, random_state=12345)\n",
            "RMSE модели случайного леса на обучающей выборке: 31.888250018834256\n",
            "RandomForestRegressor(max_depth=54, n_estimators=300, random_state=12345)\n",
            "RMSE модели случайного леса на обучающей выборке: 31.91118510540167\n",
            "RandomForestRegressor(max_depth=54, n_estimators=315, random_state=12345)\n",
            "RMSE модели случайного леса на обучающей выборке: 31.885402095648885\n",
            "RandomForestRegressor(max_depth=54, n_estimators=330, random_state=12345)\n",
            "RMSE модели случайного леса на обучающей выборке: 31.92323918920925\n",
            "RandomForestRegressor(max_depth=54, n_estimators=345, random_state=12345)\n",
            "RMSE модели случайного леса на обучающей выборке: 31.944300146566057\n",
            "RandomForestRegressor(max_depth=55, n_estimators=15, random_state=12345)\n",
            "RMSE модели случайного леса на обучающей выборке: 32.351464144341044\n",
            "RandomForestRegressor(max_depth=55, n_estimators=30, random_state=12345)\n",
            "RMSE модели случайного леса на обучающей выборке: 32.24511297126815\n",
            "RandomForestRegressor(max_depth=55, n_estimators=45, random_state=12345)\n",
            "RMSE модели случайного леса на обучающей выборке: 32.361642730439904\n",
            "RandomForestRegressor(max_depth=55, n_estimators=60, random_state=12345)\n",
            "RMSE модели случайного леса на обучающей выборке: 32.00425656877548\n",
            "RandomForestRegressor(max_depth=55, n_estimators=75, random_state=12345)\n",
            "RMSE модели случайного леса на обучающей выборке: 31.785801964525877\n",
            "RandomForestRegressor(max_depth=55, n_estimators=90, random_state=12345)\n",
            "RMSE модели случайного леса на обучающей выборке: 31.825872937604625\n",
            "RandomForestRegressor(max_depth=55, n_estimators=105, random_state=12345)\n",
            "RMSE модели случайного леса на обучающей выборке: 31.850500608464472\n",
            "RandomForestRegressor(max_depth=55, n_estimators=120, random_state=12345)\n",
            "RMSE модели случайного леса на обучающей выборке: 31.87566623339894\n",
            "RandomForestRegressor(max_depth=55, n_estimators=135, random_state=12345)\n",
            "RMSE модели случайного леса на обучающей выборке: 31.895484807894867\n",
            "RandomForestRegressor(max_depth=55, n_estimators=150, random_state=12345)\n",
            "RMSE модели случайного леса на обучающей выборке: 31.877533009212137\n",
            "RandomForestRegressor(max_depth=55, n_estimators=165, random_state=12345)\n",
            "RMSE модели случайного леса на обучающей выборке: 31.849259616607945\n",
            "RandomForestRegressor(max_depth=55, n_estimators=180, random_state=12345)\n",
            "RMSE модели случайного леса на обучающей выборке: 31.852471051159945\n",
            "RandomForestRegressor(max_depth=55, n_estimators=195, random_state=12345)\n",
            "RMSE модели случайного леса на обучающей выборке: 31.856726884998935\n",
            "RandomForestRegressor(max_depth=55, n_estimators=210, random_state=12345)\n",
            "RMSE модели случайного леса на обучающей выборке: 31.911281237860997\n",
            "RandomForestRegressor(max_depth=55, n_estimators=225, random_state=12345)\n",
            "RMSE модели случайного леса на обучающей выборке: 31.88569437639423\n",
            "RandomForestRegressor(max_depth=55, n_estimators=240, random_state=12345)\n",
            "RMSE модели случайного леса на обучающей выборке: 31.849847932186925\n",
            "RandomForestRegressor(max_depth=55, n_estimators=255, random_state=12345)\n",
            "RMSE модели случайного леса на обучающей выборке: 31.85709909814593\n",
            "RandomForestRegressor(max_depth=55, n_estimators=270, random_state=12345)\n",
            "RMSE модели случайного леса на обучающей выборке: 31.901812594961235\n",
            "RandomForestRegressor(max_depth=55, n_estimators=285, random_state=12345)\n",
            "RMSE модели случайного леса на обучающей выборке: 31.888250018834256\n",
            "RandomForestRegressor(max_depth=55, n_estimators=300, random_state=12345)\n",
            "RMSE модели случайного леса на обучающей выборке: 31.91118510540167\n",
            "RandomForestRegressor(max_depth=55, n_estimators=315, random_state=12345)\n",
            "RMSE модели случайного леса на обучающей выборке: 31.885402095648885\n",
            "RandomForestRegressor(max_depth=55, n_estimators=330, random_state=12345)\n",
            "RMSE модели случайного леса на обучающей выборке: 31.92323918920925\n",
            "RandomForestRegressor(max_depth=55, n_estimators=345, random_state=12345)\n",
            "RMSE модели случайного леса на обучающей выборке: 31.944300146566057\n",
            "RandomForestRegressor(max_depth=56, n_estimators=15, random_state=12345)\n",
            "RMSE модели случайного леса на обучающей выборке: 32.351464144341044\n",
            "RandomForestRegressor(max_depth=56, n_estimators=30, random_state=12345)\n",
            "RMSE модели случайного леса на обучающей выборке: 32.24511297126815\n",
            "RandomForestRegressor(max_depth=56, n_estimators=45, random_state=12345)\n",
            "RMSE модели случайного леса на обучающей выборке: 32.361642730439904\n",
            "RandomForestRegressor(max_depth=56, n_estimators=60, random_state=12345)\n",
            "RMSE модели случайного леса на обучающей выборке: 32.00425656877548\n",
            "RandomForestRegressor(max_depth=56, n_estimators=75, random_state=12345)\n",
            "RMSE модели случайного леса на обучающей выборке: 31.785801964525877\n",
            "RandomForestRegressor(max_depth=56, n_estimators=90, random_state=12345)\n",
            "RMSE модели случайного леса на обучающей выборке: 31.825872937604625\n",
            "RandomForestRegressor(max_depth=56, n_estimators=105, random_state=12345)\n",
            "RMSE модели случайного леса на обучающей выборке: 31.850500608464472\n",
            "RandomForestRegressor(max_depth=56, n_estimators=120, random_state=12345)\n",
            "RMSE модели случайного леса на обучающей выборке: 31.87566623339894\n",
            "RandomForestRegressor(max_depth=56, n_estimators=135, random_state=12345)\n",
            "RMSE модели случайного леса на обучающей выборке: 31.895484807894867\n",
            "RandomForestRegressor(max_depth=56, n_estimators=150, random_state=12345)\n",
            "RMSE модели случайного леса на обучающей выборке: 31.877533009212137\n",
            "RandomForestRegressor(max_depth=56, n_estimators=165, random_state=12345)\n",
            "RMSE модели случайного леса на обучающей выборке: 31.849259616607945\n",
            "RandomForestRegressor(max_depth=56, n_estimators=180, random_state=12345)\n",
            "RMSE модели случайного леса на обучающей выборке: 31.852471051159945\n",
            "RandomForestRegressor(max_depth=56, n_estimators=195, random_state=12345)\n",
            "RMSE модели случайного леса на обучающей выборке: 31.856726884998935\n",
            "RandomForestRegressor(max_depth=56, n_estimators=210, random_state=12345)\n",
            "RMSE модели случайного леса на обучающей выборке: 31.911281237860997\n",
            "RandomForestRegressor(max_depth=56, n_estimators=225, random_state=12345)\n",
            "RMSE модели случайного леса на обучающей выборке: 31.88569437639423\n",
            "RandomForestRegressor(max_depth=56, n_estimators=240, random_state=12345)\n",
            "RMSE модели случайного леса на обучающей выборке: 31.849847932186925\n",
            "RandomForestRegressor(max_depth=56, n_estimators=255, random_state=12345)\n",
            "RMSE модели случайного леса на обучающей выборке: 31.85709909814593\n",
            "RandomForestRegressor(max_depth=56, n_estimators=270, random_state=12345)\n",
            "RMSE модели случайного леса на обучающей выборке: 31.901812594961235\n",
            "RandomForestRegressor(max_depth=56, n_estimators=285, random_state=12345)\n",
            "RMSE модели случайного леса на обучающей выборке: 31.888250018834256\n",
            "RandomForestRegressor(max_depth=56, n_estimators=300, random_state=12345)\n",
            "RMSE модели случайного леса на обучающей выборке: 31.91118510540167\n",
            "RandomForestRegressor(max_depth=56, n_estimators=315, random_state=12345)\n",
            "RMSE модели случайного леса на обучающей выборке: 31.885402095648885\n",
            "RandomForestRegressor(max_depth=56, n_estimators=330, random_state=12345)\n",
            "RMSE модели случайного леса на обучающей выборке: 31.92323918920925\n",
            "RandomForestRegressor(max_depth=56, n_estimators=345, random_state=12345)\n",
            "RMSE модели случайного леса на обучающей выборке: 31.944300146566057\n",
            "RandomForestRegressor(max_depth=57, n_estimators=15, random_state=12345)\n",
            "RMSE модели случайного леса на обучающей выборке: 32.351464144341044\n",
            "RandomForestRegressor(max_depth=57, n_estimators=30, random_state=12345)\n",
            "RMSE модели случайного леса на обучающей выборке: 32.24511297126815\n",
            "RandomForestRegressor(max_depth=57, n_estimators=45, random_state=12345)\n",
            "RMSE модели случайного леса на обучающей выборке: 32.361642730439904\n",
            "RandomForestRegressor(max_depth=57, n_estimators=60, random_state=12345)\n",
            "RMSE модели случайного леса на обучающей выборке: 32.00425656877548\n",
            "RandomForestRegressor(max_depth=57, n_estimators=75, random_state=12345)\n",
            "RMSE модели случайного леса на обучающей выборке: 31.785801964525877\n",
            "RandomForestRegressor(max_depth=57, n_estimators=90, random_state=12345)\n",
            "RMSE модели случайного леса на обучающей выборке: 31.825872937604625\n",
            "RandomForestRegressor(max_depth=57, n_estimators=105, random_state=12345)\n",
            "RMSE модели случайного леса на обучающей выборке: 31.850500608464472\n",
            "RandomForestRegressor(max_depth=57, n_estimators=120, random_state=12345)\n",
            "RMSE модели случайного леса на обучающей выборке: 31.87566623339894\n",
            "RandomForestRegressor(max_depth=57, n_estimators=135, random_state=12345)\n",
            "RMSE модели случайного леса на обучающей выборке: 31.895484807894867\n",
            "RandomForestRegressor(max_depth=57, n_estimators=150, random_state=12345)\n",
            "RMSE модели случайного леса на обучающей выборке: 31.877533009212137\n",
            "RandomForestRegressor(max_depth=57, n_estimators=165, random_state=12345)\n",
            "RMSE модели случайного леса на обучающей выборке: 31.849259616607945\n",
            "RandomForestRegressor(max_depth=57, n_estimators=180, random_state=12345)\n",
            "RMSE модели случайного леса на обучающей выборке: 31.852471051159945\n",
            "RandomForestRegressor(max_depth=57, n_estimators=195, random_state=12345)\n",
            "RMSE модели случайного леса на обучающей выборке: 31.856726884998935\n",
            "RandomForestRegressor(max_depth=57, n_estimators=210, random_state=12345)\n",
            "RMSE модели случайного леса на обучающей выборке: 31.911281237860997\n",
            "RandomForestRegressor(max_depth=57, n_estimators=225, random_state=12345)\n",
            "RMSE модели случайного леса на обучающей выборке: 31.88569437639423\n",
            "RandomForestRegressor(max_depth=57, n_estimators=240, random_state=12345)\n",
            "RMSE модели случайного леса на обучающей выборке: 31.849847932186925\n",
            "RandomForestRegressor(max_depth=57, n_estimators=255, random_state=12345)\n",
            "RMSE модели случайного леса на обучающей выборке: 31.85709909814593\n",
            "RandomForestRegressor(max_depth=57, n_estimators=270, random_state=12345)\n",
            "RMSE модели случайного леса на обучающей выборке: 31.901812594961235\n",
            "RandomForestRegressor(max_depth=57, n_estimators=285, random_state=12345)\n",
            "RMSE модели случайного леса на обучающей выборке: 31.888250018834256\n",
            "RandomForestRegressor(max_depth=57, n_estimators=300, random_state=12345)\n",
            "RMSE модели случайного леса на обучающей выборке: 31.91118510540167\n",
            "RandomForestRegressor(max_depth=57, n_estimators=315, random_state=12345)\n",
            "RMSE модели случайного леса на обучающей выборке: 31.885402095648885\n",
            "RandomForestRegressor(max_depth=57, n_estimators=330, random_state=12345)\n",
            "RMSE модели случайного леса на обучающей выборке: 31.92323918920925\n",
            "RandomForestRegressor(max_depth=57, n_estimators=345, random_state=12345)\n",
            "RMSE модели случайного леса на обучающей выборке: 31.944300146566057\n",
            "RandomForestRegressor(max_depth=58, n_estimators=15, random_state=12345)\n",
            "RMSE модели случайного леса на обучающей выборке: 32.351464144341044\n",
            "RandomForestRegressor(max_depth=58, n_estimators=30, random_state=12345)\n",
            "RMSE модели случайного леса на обучающей выборке: 32.24511297126815\n",
            "RandomForestRegressor(max_depth=58, n_estimators=45, random_state=12345)\n",
            "RMSE модели случайного леса на обучающей выборке: 32.361642730439904\n",
            "RandomForestRegressor(max_depth=58, n_estimators=60, random_state=12345)\n",
            "RMSE модели случайного леса на обучающей выборке: 32.00425656877548\n",
            "RandomForestRegressor(max_depth=58, n_estimators=75, random_state=12345)\n",
            "RMSE модели случайного леса на обучающей выборке: 31.785801964525877\n",
            "RandomForestRegressor(max_depth=58, n_estimators=90, random_state=12345)\n",
            "RMSE модели случайного леса на обучающей выборке: 31.825872937604625\n",
            "RandomForestRegressor(max_depth=58, n_estimators=105, random_state=12345)\n",
            "RMSE модели случайного леса на обучающей выборке: 31.850500608464472\n",
            "RandomForestRegressor(max_depth=58, n_estimators=120, random_state=12345)\n",
            "RMSE модели случайного леса на обучающей выборке: 31.87566623339894\n",
            "RandomForestRegressor(max_depth=58, n_estimators=135, random_state=12345)\n",
            "RMSE модели случайного леса на обучающей выборке: 31.895484807894867\n",
            "RandomForestRegressor(max_depth=58, n_estimators=150, random_state=12345)\n",
            "RMSE модели случайного леса на обучающей выборке: 31.877533009212137\n",
            "RandomForestRegressor(max_depth=58, n_estimators=165, random_state=12345)\n",
            "RMSE модели случайного леса на обучающей выборке: 31.849259616607945\n",
            "RandomForestRegressor(max_depth=58, n_estimators=180, random_state=12345)\n",
            "RMSE модели случайного леса на обучающей выборке: 31.852471051159945\n",
            "RandomForestRegressor(max_depth=58, n_estimators=195, random_state=12345)\n",
            "RMSE модели случайного леса на обучающей выборке: 31.856726884998935\n",
            "RandomForestRegressor(max_depth=58, n_estimators=210, random_state=12345)\n",
            "RMSE модели случайного леса на обучающей выборке: 31.911281237860997\n",
            "RandomForestRegressor(max_depth=58, n_estimators=225, random_state=12345)\n",
            "RMSE модели случайного леса на обучающей выборке: 31.88569437639423\n",
            "RandomForestRegressor(max_depth=58, n_estimators=240, random_state=12345)\n",
            "RMSE модели случайного леса на обучающей выборке: 31.849847932186925\n",
            "RandomForestRegressor(max_depth=58, n_estimators=255, random_state=12345)\n",
            "RMSE модели случайного леса на обучающей выборке: 31.85709909814593\n",
            "RandomForestRegressor(max_depth=58, n_estimators=270, random_state=12345)\n",
            "RMSE модели случайного леса на обучающей выборке: 31.901812594961235\n",
            "RandomForestRegressor(max_depth=58, n_estimators=285, random_state=12345)\n",
            "RMSE модели случайного леса на обучающей выборке: 31.888250018834256\n",
            "RandomForestRegressor(max_depth=58, n_estimators=300, random_state=12345)\n",
            "RMSE модели случайного леса на обучающей выборке: 31.91118510540167\n",
            "RandomForestRegressor(max_depth=58, n_estimators=315, random_state=12345)\n",
            "RMSE модели случайного леса на обучающей выборке: 31.885402095648885\n",
            "RandomForestRegressor(max_depth=58, n_estimators=330, random_state=12345)\n",
            "RMSE модели случайного леса на обучающей выборке: 31.92323918920925\n",
            "RandomForestRegressor(max_depth=58, n_estimators=345, random_state=12345)\n",
            "RMSE модели случайного леса на обучающей выборке: 31.944300146566057\n",
            "RandomForestRegressor(max_depth=59, n_estimators=15, random_state=12345)\n",
            "RMSE модели случайного леса на обучающей выборке: 32.351464144341044\n",
            "RandomForestRegressor(max_depth=59, n_estimators=30, random_state=12345)\n",
            "RMSE модели случайного леса на обучающей выборке: 32.24511297126815\n",
            "RandomForestRegressor(max_depth=59, n_estimators=45, random_state=12345)\n",
            "RMSE модели случайного леса на обучающей выборке: 32.361642730439904\n",
            "RandomForestRegressor(max_depth=59, n_estimators=60, random_state=12345)\n",
            "RMSE модели случайного леса на обучающей выборке: 32.00425656877548\n",
            "RandomForestRegressor(max_depth=59, n_estimators=75, random_state=12345)\n",
            "RMSE модели случайного леса на обучающей выборке: 31.785801964525877\n",
            "RandomForestRegressor(max_depth=59, n_estimators=90, random_state=12345)\n",
            "RMSE модели случайного леса на обучающей выборке: 31.825872937604625\n",
            "RandomForestRegressor(max_depth=59, n_estimators=105, random_state=12345)\n",
            "RMSE модели случайного леса на обучающей выборке: 31.850500608464472\n",
            "RandomForestRegressor(max_depth=59, n_estimators=120, random_state=12345)\n",
            "RMSE модели случайного леса на обучающей выборке: 31.87566623339894\n",
            "RandomForestRegressor(max_depth=59, n_estimators=135, random_state=12345)\n",
            "RMSE модели случайного леса на обучающей выборке: 31.895484807894867\n",
            "RandomForestRegressor(max_depth=59, n_estimators=150, random_state=12345)\n",
            "RMSE модели случайного леса на обучающей выборке: 31.877533009212137\n",
            "RandomForestRegressor(max_depth=59, n_estimators=165, random_state=12345)\n",
            "RMSE модели случайного леса на обучающей выборке: 31.849259616607945\n",
            "RandomForestRegressor(max_depth=59, n_estimators=180, random_state=12345)\n",
            "RMSE модели случайного леса на обучающей выборке: 31.852471051159945\n",
            "RandomForestRegressor(max_depth=59, n_estimators=195, random_state=12345)\n",
            "RMSE модели случайного леса на обучающей выборке: 31.856726884998935\n",
            "RandomForestRegressor(max_depth=59, n_estimators=210, random_state=12345)\n",
            "RMSE модели случайного леса на обучающей выборке: 31.911281237860997\n",
            "RandomForestRegressor(max_depth=59, n_estimators=225, random_state=12345)\n",
            "RMSE модели случайного леса на обучающей выборке: 31.88569437639423\n",
            "RandomForestRegressor(max_depth=59, n_estimators=240, random_state=12345)\n",
            "RMSE модели случайного леса на обучающей выборке: 31.849847932186925\n",
            "RandomForestRegressor(max_depth=59, n_estimators=255, random_state=12345)\n",
            "RMSE модели случайного леса на обучающей выборке: 31.85709909814593\n",
            "RandomForestRegressor(max_depth=59, n_estimators=270, random_state=12345)\n",
            "RMSE модели случайного леса на обучающей выборке: 31.901812594961235\n",
            "RandomForestRegressor(max_depth=59, n_estimators=285, random_state=12345)\n",
            "RMSE модели случайного леса на обучающей выборке: 31.888250018834256\n",
            "RandomForestRegressor(max_depth=59, n_estimators=300, random_state=12345)\n",
            "RMSE модели случайного леса на обучающей выборке: 31.91118510540167\n",
            "RandomForestRegressor(max_depth=59, n_estimators=315, random_state=12345)\n",
            "RMSE модели случайного леса на обучающей выборке: 31.885402095648885\n",
            "RandomForestRegressor(max_depth=59, n_estimators=330, random_state=12345)\n",
            "RMSE модели случайного леса на обучающей выборке: 31.92323918920925\n",
            "RandomForestRegressor(max_depth=59, n_estimators=345, random_state=12345)\n",
            "RMSE модели случайного леса на обучающей выборке: 31.944300146566057\n",
            "Cамая эффективная модель - best_mod RandomForestRegressor(max_depth=16, n_estimators=75, random_state=12345)\n",
            "RMSE наилучшей модели: 31.712580075388782\n",
            "CPU times: user 46min 15s, sys: 24.7 s, total: 46min 39s\n",
            "Wall time: 46min 46s\n"
          ]
        }
      ],
      "source": [
        "%%time\n",
        "best_mod = None\n",
        "best_res = 3000\n",
        "best_dep = 0\n",
        "for depth in range(1, 60, 1):\n",
        "    for est in range(15, 351, 15):\n",
        "        model = RandomForestRegressor(n_estimators=est, \n",
        "        max_depth=depth, random_state=12345) \n",
        "        print(model)\n",
        "        model.fit(features_train, target_train)\n",
        "        model.predict(features_valid)\n",
        "        preditions_forest = model.predict(features_valid) \n",
        "        res_forest = mean_squared_error(target_valid, preditions_forest)**0.5\n",
        "        print(\"RMSE модели случайного леса на обучающей выборке:\", res_forest)\n",
        "        if res_forest < best_res:\n",
        "            best_mod = model\n",
        "            best_res = res_forest\n",
        "            best_deр = depth\n",
        "print('Cамая эффективная модель - best_mod',best_mod)\n",
        "print(\"RMSE наилучшей модели:\", best_res)"
      ]
    },
    {
      "cell_type": "code",
      "execution_count": null,
      "metadata": {
        "id": "UbSfy7kMcd_J",
        "outputId": "b84db918-d28b-48aa-945a-8b37c147f4d2"
      },
      "outputs": [
        {
          "name": "stdout",
          "output_type": "stream",
          "text": [
            "DecisionTreeRegressor(max_depth=1, random_state=12345)\n",
            "RMSE модели дерева решений на обучающей выборке: 46.224312697856604\n",
            "DecisionTreeRegressor(max_depth=2, random_state=12345)\n",
            "RMSE модели дерева решений на обучающей выборке: 44.54195713032969\n",
            "DecisionTreeRegressor(max_depth=3, random_state=12345)\n",
            "RMSE модели дерева решений на обучающей выборке: 41.23764379900678\n",
            "DecisionTreeRegressor(max_depth=4, random_state=12345)\n",
            "RMSE модели дерева решений на обучающей выборке: 40.21977340261399\n",
            "DecisionTreeRegressor(max_depth=5, random_state=12345)\n",
            "RMSE модели дерева решений на обучающей выборке: 38.643180493030655\n",
            "DecisionTreeRegressor(max_depth=6, random_state=12345)\n",
            "RMSE модели дерева решений на обучающей выборке: 37.11042676396742\n",
            "DecisionTreeRegressor(max_depth=7, random_state=12345)\n",
            "RMSE модели дерева решений на обучающей выборке: 35.5114581546083\n",
            "DecisionTreeRegressor(max_depth=8, random_state=12345)\n",
            "RMSE модели дерева решений на обучающей выборке: 34.410987466169345\n",
            "DecisionTreeRegressor(max_depth=9, random_state=12345)\n",
            "RMSE модели дерева решений на обучающей выборке: 34.5097411628141\n",
            "DecisionTreeRegressor(max_depth=10, random_state=12345)\n",
            "RMSE модели дерева решений на обучающей выборке: 33.64934127994021\n",
            "DecisionTreeRegressor(max_depth=11, random_state=12345)\n",
            "RMSE модели дерева решений на обучающей выборке: 35.072235631431724\n",
            "DecisionTreeRegressor(max_depth=12, random_state=12345)\n",
            "RMSE модели дерева решений на обучающей выборке: 36.39790344919477\n",
            "DecisionTreeRegressor(max_depth=13, random_state=12345)\n",
            "RMSE модели дерева решений на обучающей выборке: 36.1423700946601\n",
            "DecisionTreeRegressor(max_depth=14, random_state=12345)\n",
            "RMSE модели дерева решений на обучающей выборке: 36.69087163150605\n",
            "DecisionTreeRegressor(max_depth=15, random_state=12345)\n",
            "RMSE модели дерева решений на обучающей выборке: 37.00257582813141\n",
            "DecisionTreeRegressor(max_depth=16, random_state=12345)\n",
            "RMSE модели дерева решений на обучающей выборке: 37.639646824283126\n",
            "DecisionTreeRegressor(max_depth=17, random_state=12345)\n",
            "RMSE модели дерева решений на обучающей выборке: 37.211636853034626\n",
            "DecisionTreeRegressor(max_depth=18, random_state=12345)\n",
            "RMSE модели дерева решений на обучающей выборке: 37.29849303563393\n",
            "DecisionTreeRegressor(max_depth=19, random_state=12345)\n",
            "RMSE модели дерева решений на обучающей выборке: 37.79583206853288\n",
            "DecisionTreeRegressor(max_depth=20, random_state=12345)\n",
            "RMSE модели дерева решений на обучающей выборке: 37.36506102768338\n",
            "DecisionTreeRegressor(max_depth=21, random_state=12345)\n",
            "RMSE модели дерева решений на обучающей выборке: 37.47179404447232\n",
            "DecisionTreeRegressor(max_depth=22, random_state=12345)\n",
            "RMSE модели дерева решений на обучающей выборке: 36.822447034842796\n",
            "DecisionTreeRegressor(max_depth=23, random_state=12345)\n",
            "RMSE модели дерева решений на обучающей выборке: 37.230656632129886\n",
            "DecisionTreeRegressor(max_depth=24, random_state=12345)\n",
            "RMSE модели дерева решений на обучающей выборке: 37.352621191278594\n",
            "DecisionTreeRegressor(max_depth=25, random_state=12345)\n",
            "RMSE модели дерева решений на обучающей выборке: 37.84015411677771\n",
            "DecisionTreeRegressor(max_depth=26, random_state=12345)\n",
            "RMSE модели дерева решений на обучающей выборке: 37.498101896966084\n",
            "DecisionTreeRegressor(max_depth=27, random_state=12345)\n",
            "RMSE модели дерева решений на обучающей выборке: 37.58498083953548\n",
            "DecisionTreeRegressor(max_depth=28, random_state=12345)\n",
            "RMSE модели дерева решений на обучающей выборке: 37.52181122903644\n",
            "DecisionTreeRegressor(max_depth=29, random_state=12345)\n",
            "RMSE модели дерева решений на обучающей выборке: 37.45602384575816\n",
            "DecisionTreeRegressor(max_depth=30, random_state=12345)\n",
            "RMSE модели дерева решений на обучающей выборке: 37.45602384575816\n",
            "DecisionTreeRegressor(max_depth=31, random_state=12345)\n",
            "RMSE модели дерева решений на обучающей выборке: 37.45602384575816\n",
            "DecisionTreeRegressor(max_depth=32, random_state=12345)\n",
            "RMSE модели дерева решений на обучающей выборке: 37.45602384575816\n",
            "DecisionTreeRegressor(max_depth=33, random_state=12345)\n",
            "RMSE модели дерева решений на обучающей выборке: 37.45602384575816\n",
            "DecisionTreeRegressor(max_depth=34, random_state=12345)\n",
            "RMSE модели дерева решений на обучающей выборке: 37.45602384575816\n",
            "DecisionTreeRegressor(max_depth=35, random_state=12345)\n",
            "RMSE модели дерева решений на обучающей выборке: 37.45602384575816\n",
            "DecisionTreeRegressor(max_depth=36, random_state=12345)\n",
            "RMSE модели дерева решений на обучающей выборке: 37.45602384575816\n",
            "DecisionTreeRegressor(max_depth=37, random_state=12345)\n",
            "RMSE модели дерева решений на обучающей выборке: 37.45602384575816\n",
            "DecisionTreeRegressor(max_depth=38, random_state=12345)\n",
            "RMSE модели дерева решений на обучающей выборке: 37.45602384575816\n",
            "DecisionTreeRegressor(max_depth=39, random_state=12345)\n",
            "RMSE модели дерева решений на обучающей выборке: 37.45602384575816\n",
            "DecisionTreeRegressor(max_depth=40, random_state=12345)\n",
            "RMSE модели дерева решений на обучающей выборке: 37.45602384575816\n",
            "DecisionTreeRegressor(max_depth=41, random_state=12345)\n",
            "RMSE модели дерева решений на обучающей выборке: 37.45602384575816\n",
            "DecisionTreeRegressor(max_depth=42, random_state=12345)\n",
            "RMSE модели дерева решений на обучающей выборке: 37.45602384575816\n",
            "DecisionTreeRegressor(max_depth=43, random_state=12345)\n",
            "RMSE модели дерева решений на обучающей выборке: 37.45602384575816\n",
            "DecisionTreeRegressor(max_depth=44, random_state=12345)\n",
            "RMSE модели дерева решений на обучающей выборке: 37.45602384575816\n",
            "DecisionTreeRegressor(max_depth=45, random_state=12345)\n",
            "RMSE модели дерева решений на обучающей выборке: 37.45602384575816\n",
            "DecisionTreeRegressor(max_depth=46, random_state=12345)\n",
            "RMSE модели дерева решений на обучающей выборке: 37.45602384575816\n",
            "DecisionTreeRegressor(max_depth=47, random_state=12345)\n",
            "RMSE модели дерева решений на обучающей выборке: 37.45602384575816\n",
            "DecisionTreeRegressor(max_depth=48, random_state=12345)\n",
            "RMSE модели дерева решений на обучающей выборке: 37.45602384575816\n",
            "DecisionTreeRegressor(max_depth=49, random_state=12345)\n",
            "RMSE модели дерева решений на обучающей выборке: 37.45602384575816\n",
            "DecisionTreeRegressor(max_depth=50, random_state=12345)\n",
            "RMSE модели дерева решений на обучающей выборке: 37.45602384575816\n",
            "DecisionTreeRegressor(max_depth=51, random_state=12345)\n",
            "RMSE модели дерева решений на обучающей выборке: 37.45602384575816\n",
            "DecisionTreeRegressor(max_depth=52, random_state=12345)\n",
            "RMSE модели дерева решений на обучающей выборке: 37.45602384575816\n",
            "DecisionTreeRegressor(max_depth=53, random_state=12345)\n",
            "RMSE модели дерева решений на обучающей выборке: 37.45602384575816\n",
            "DecisionTreeRegressor(max_depth=54, random_state=12345)\n",
            "RMSE модели дерева решений на обучающей выборке: 37.45602384575816\n",
            "DecisionTreeRegressor(max_depth=55, random_state=12345)\n",
            "RMSE модели дерева решений на обучающей выборке: 37.45602384575816\n",
            "DecisionTreeRegressor(max_depth=56, random_state=12345)\n",
            "RMSE модели дерева решений на обучающей выборке: 37.45602384575816\n",
            "DecisionTreeRegressor(max_depth=57, random_state=12345)\n",
            "RMSE модели дерева решений на обучающей выборке: 37.45602384575816\n",
            "DecisionTreeRegressor(max_depth=58, random_state=12345)\n",
            "RMSE модели дерева решений на обучающей выборке: 37.45602384575816\n",
            "DecisionTreeRegressor(max_depth=59, random_state=12345)\n",
            "RMSE модели дерева решений на обучающей выборке: 37.45602384575816\n",
            "DecisionTreeRegressor(max_depth=60, random_state=12345)\n",
            "RMSE модели дерева решений на обучающей выборке: 37.45602384575816\n",
            "DecisionTreeRegressor(max_depth=61, random_state=12345)\n",
            "RMSE модели дерева решений на обучающей выборке: 37.45602384575816\n",
            "DecisionTreeRegressor(max_depth=62, random_state=12345)\n",
            "RMSE модели дерева решений на обучающей выборке: 37.45602384575816\n",
            "DecisionTreeRegressor(max_depth=63, random_state=12345)\n",
            "RMSE модели дерева решений на обучающей выборке: 37.45602384575816\n",
            "DecisionTreeRegressor(max_depth=64, random_state=12345)\n",
            "RMSE модели дерева решений на обучающей выборке: 37.45602384575816\n",
            "DecisionTreeRegressor(max_depth=65, random_state=12345)\n",
            "RMSE модели дерева решений на обучающей выборке: 37.45602384575816\n",
            "DecisionTreeRegressor(max_depth=66, random_state=12345)\n",
            "RMSE модели дерева решений на обучающей выборке: 37.45602384575816\n",
            "DecisionTreeRegressor(max_depth=67, random_state=12345)\n",
            "RMSE модели дерева решений на обучающей выборке: 37.45602384575816\n",
            "DecisionTreeRegressor(max_depth=68, random_state=12345)\n",
            "RMSE модели дерева решений на обучающей выборке: 37.45602384575816\n",
            "DecisionTreeRegressor(max_depth=69, random_state=12345)\n",
            "RMSE модели дерева решений на обучающей выборке: 37.45602384575816\n",
            "DecisionTreeRegressor(max_depth=70, random_state=12345)\n",
            "RMSE модели дерева решений на обучающей выборке: 37.45602384575816\n",
            "DecisionTreeRegressor(max_depth=71, random_state=12345)\n",
            "RMSE модели дерева решений на обучающей выборке: 37.45602384575816\n",
            "DecisionTreeRegressor(max_depth=72, random_state=12345)\n",
            "RMSE модели дерева решений на обучающей выборке: 37.45602384575816\n",
            "DecisionTreeRegressor(max_depth=73, random_state=12345)\n",
            "RMSE модели дерева решений на обучающей выборке: 37.45602384575816\n",
            "DecisionTreeRegressor(max_depth=74, random_state=12345)\n",
            "RMSE модели дерева решений на обучающей выборке: 37.45602384575816\n",
            "DecisionTreeRegressor(max_depth=75, random_state=12345)\n",
            "RMSE модели дерева решений на обучающей выборке: 37.45602384575816\n",
            "DecisionTreeRegressor(max_depth=76, random_state=12345)\n",
            "RMSE модели дерева решений на обучающей выборке: 37.45602384575816\n",
            "DecisionTreeRegressor(max_depth=77, random_state=12345)\n",
            "RMSE модели дерева решений на обучающей выборке: 37.45602384575816\n",
            "DecisionTreeRegressor(max_depth=78, random_state=12345)\n",
            "RMSE модели дерева решений на обучающей выборке: 37.45602384575816\n",
            "DecisionTreeRegressor(max_depth=79, random_state=12345)\n",
            "RMSE модели дерева решений на обучающей выборке: 37.45602384575816\n",
            "DecisionTreeRegressor(max_depth=80, random_state=12345)\n",
            "RMSE модели дерева решений на обучающей выборке: 37.45602384575816\n",
            "DecisionTreeRegressor(max_depth=81, random_state=12345)\n",
            "RMSE модели дерева решений на обучающей выборке: 37.45602384575816\n",
            "DecisionTreeRegressor(max_depth=82, random_state=12345)\n",
            "RMSE модели дерева решений на обучающей выборке: 37.45602384575816\n",
            "DecisionTreeRegressor(max_depth=83, random_state=12345)\n",
            "RMSE модели дерева решений на обучающей выборке: 37.45602384575816\n",
            "DecisionTreeRegressor(max_depth=84, random_state=12345)\n",
            "RMSE модели дерева решений на обучающей выборке: 37.45602384575816\n",
            "DecisionTreeRegressor(max_depth=85, random_state=12345)\n",
            "RMSE модели дерева решений на обучающей выборке: 37.45602384575816\n",
            "DecisionTreeRegressor(max_depth=86, random_state=12345)\n",
            "RMSE модели дерева решений на обучающей выборке: 37.45602384575816\n",
            "DecisionTreeRegressor(max_depth=87, random_state=12345)\n",
            "RMSE модели дерева решений на обучающей выборке: 37.45602384575816\n",
            "DecisionTreeRegressor(max_depth=88, random_state=12345)\n",
            "RMSE модели дерева решений на обучающей выборке: 37.45602384575816\n",
            "DecisionTreeRegressor(max_depth=89, random_state=12345)\n",
            "RMSE модели дерева решений на обучающей выборке: 37.45602384575816\n",
            "DecisionTreeRegressor(max_depth=90, random_state=12345)\n",
            "RMSE модели дерева решений на обучающей выборке: 37.45602384575816\n",
            "DecisionTreeRegressor(max_depth=91, random_state=12345)\n",
            "RMSE модели дерева решений на обучающей выборке: 37.45602384575816\n",
            "DecisionTreeRegressor(max_depth=92, random_state=12345)\n",
            "RMSE модели дерева решений на обучающей выборке: 37.45602384575816\n",
            "DecisionTreeRegressor(max_depth=93, random_state=12345)\n",
            "RMSE модели дерева решений на обучающей выборке: 37.45602384575816\n",
            "DecisionTreeRegressor(max_depth=94, random_state=12345)\n",
            "RMSE модели дерева решений на обучающей выборке: 37.45602384575816\n",
            "DecisionTreeRegressor(max_depth=95, random_state=12345)\n",
            "RMSE модели дерева решений на обучающей выборке: 37.45602384575816\n",
            "DecisionTreeRegressor(max_depth=96, random_state=12345)\n",
            "RMSE модели дерева решений на обучающей выборке: 37.45602384575816\n",
            "DecisionTreeRegressor(max_depth=97, random_state=12345)\n",
            "RMSE модели дерева решений на обучающей выборке: 37.45602384575816\n",
            "DecisionTreeRegressor(max_depth=98, random_state=12345)\n",
            "RMSE модели дерева решений на обучающей выборке: 37.45602384575816\n",
            "DecisionTreeRegressor(max_depth=99, random_state=12345)\n",
            "RMSE модели дерева решений на обучающей выборке: 37.45602384575816\n",
            "Cамая эффективная модель - best_mod DecisionTreeRegressor(max_depth=10, random_state=12345)\n",
            "RMSE наилучшей модели: 33.64934127994021\n",
            "CPU times: user 2.24 s, sys: 39.7 ms, total: 2.28 s\n",
            "Wall time: 2.29 s\n"
          ]
        }
      ],
      "source": [
        "%%time\n",
        "\n",
        "best_model = None\n",
        "best_result = 3000\n",
        "best_depth = 0\n",
        "for depth in range(1, 100):\n",
        "    model = DecisionTreeRegressor(max_depth=depth, random_state=12345)\n",
        "    print(model)\n",
        "    model.fit(features_train, target_train)\n",
        "    model.predict(features_valid)\n",
        "    predictions_tree= model.predict(features_valid)\n",
        "    result_tree = mean_squared_error(target_valid, predictions_tree)**0.5\n",
        "    print(\"RMSE модели дерева решений на обучающей выборке:\", result_tree)\n",
        "    if result_tree < best_result:\n",
        "            best_model = model\n",
        "            best_result = result_tree\n",
        "            best_deрth = depth\n",
        "print('Cамая эффективная модель - best_mod',best_model)\n",
        "print(\"RMSE наилучшей модели:\", best_result)"
      ]
    },
    {
      "cell_type": "markdown",
      "metadata": {
        "id": "93mhpEmHcd_J"
      },
      "source": [
        "**Примечание** Предыдущие модели работают только с количественными данными. По сути данные месяц, дата, день недели, час - категориальные, хотя зашифрованы цифрой. "
      ]
    },
    {
      "cell_type": "markdown",
      "metadata": {
        "id": "RmUJ3I7acd_K"
      },
      "source": [
        "Принято решение попробовать модель CatBoostRegressor, работающую с категориалными переменными."
      ]
    },
    {
      "cell_type": "code",
      "execution_count": null,
      "metadata": {
        "id": "cVs9FJB8cd_K",
        "outputId": "d036fc62-e141-42d3-d607-c981efd6c786"
      },
      "outputs": [
        {
          "name": "stdout",
          "output_type": "stream",
          "text": [
            "Learning rate set to 0.227432\n",
            "0:\tlearn: 32.0123739\ttotal: 50.3ms\tremaining: 7.49s\n",
            "1:\tlearn: 29.2486407\ttotal: 53.7ms\tremaining: 3.97s\n",
            "2:\tlearn: 27.2713614\ttotal: 56.5ms\tremaining: 2.77s\n",
            "3:\tlearn: 25.6003666\ttotal: 59.3ms\tremaining: 2.17s\n",
            "4:\tlearn: 24.4329123\ttotal: 62ms\tremaining: 1.8s\n",
            "5:\tlearn: 23.6470084\ttotal: 64.7ms\tremaining: 1.55s\n",
            "6:\tlearn: 23.0383563\ttotal: 67.2ms\tremaining: 1.37s\n",
            "7:\tlearn: 22.5865977\ttotal: 69.7ms\tremaining: 1.24s\n",
            "8:\tlearn: 22.2836736\ttotal: 72.4ms\tremaining: 1.13s\n",
            "9:\tlearn: 22.0586355\ttotal: 74.7ms\tremaining: 1.04s\n",
            "10:\tlearn: 21.8557482\ttotal: 77.1ms\tremaining: 975ms\n",
            "11:\tlearn: 21.6707487\ttotal: 79.6ms\tremaining: 916ms\n",
            "12:\tlearn: 21.5347793\ttotal: 82.2ms\tremaining: 866ms\n",
            "13:\tlearn: 21.3633216\ttotal: 84.6ms\tremaining: 821ms\n",
            "14:\tlearn: 21.3000828\ttotal: 87ms\tremaining: 783ms\n",
            "15:\tlearn: 21.2636381\ttotal: 88.1ms\tremaining: 738ms\n",
            "16:\tlearn: 21.1982265\ttotal: 90.4ms\tremaining: 707ms\n",
            "17:\tlearn: 21.1118283\ttotal: 92.8ms\tremaining: 681ms\n",
            "18:\tlearn: 21.0489748\ttotal: 95ms\tremaining: 655ms\n",
            "19:\tlearn: 21.0312587\ttotal: 96.7ms\tremaining: 628ms\n",
            "20:\tlearn: 20.9947925\ttotal: 98.9ms\tremaining: 608ms\n",
            "21:\tlearn: 20.9834434\ttotal: 101ms\tremaining: 589ms\n",
            "22:\tlearn: 20.9284056\ttotal: 104ms\tremaining: 573ms\n",
            "23:\tlearn: 20.8649256\ttotal: 106ms\tremaining: 558ms\n",
            "24:\tlearn: 20.8070327\ttotal: 109ms\tremaining: 544ms\n",
            "25:\tlearn: 20.7486689\ttotal: 111ms\tremaining: 531ms\n",
            "26:\tlearn: 20.6931196\ttotal: 114ms\tremaining: 517ms\n",
            "27:\tlearn: 20.6394384\ttotal: 116ms\tremaining: 506ms\n",
            "28:\tlearn: 20.6032010\ttotal: 118ms\tremaining: 494ms\n",
            "29:\tlearn: 20.5779895\ttotal: 121ms\tremaining: 484ms\n",
            "30:\tlearn: 20.5227585\ttotal: 124ms\tremaining: 476ms\n",
            "31:\tlearn: 20.4537248\ttotal: 126ms\tremaining: 466ms\n",
            "32:\tlearn: 20.4537241\ttotal: 127ms\tremaining: 451ms\n",
            "33:\tlearn: 20.3928639\ttotal: 131ms\tremaining: 446ms\n",
            "34:\tlearn: 20.3443443\ttotal: 134ms\tremaining: 440ms\n",
            "35:\tlearn: 20.3059606\ttotal: 136ms\tremaining: 431ms\n",
            "36:\tlearn: 20.2820513\ttotal: 139ms\tremaining: 423ms\n",
            "37:\tlearn: 20.2517925\ttotal: 142ms\tremaining: 420ms\n",
            "38:\tlearn: 20.2071499\ttotal: 146ms\tremaining: 416ms\n",
            "39:\tlearn: 20.1811748\ttotal: 148ms\tremaining: 408ms\n",
            "40:\tlearn: 20.1634806\ttotal: 151ms\tremaining: 402ms\n",
            "41:\tlearn: 20.1604085\ttotal: 155ms\tremaining: 398ms\n",
            "42:\tlearn: 20.1490335\ttotal: 158ms\tremaining: 392ms\n",
            "43:\tlearn: 20.1483589\ttotal: 159ms\tremaining: 383ms\n",
            "44:\tlearn: 20.1284661\ttotal: 162ms\tremaining: 377ms\n",
            "45:\tlearn: 20.1203704\ttotal: 164ms\tremaining: 371ms\n",
            "46:\tlearn: 20.1086057\ttotal: 167ms\tremaining: 365ms\n",
            "47:\tlearn: 20.0472762\ttotal: 170ms\tremaining: 360ms\n",
            "48:\tlearn: 20.0123151\ttotal: 172ms\tremaining: 355ms\n",
            "49:\tlearn: 19.9625545\ttotal: 176ms\tremaining: 352ms\n",
            "50:\tlearn: 19.9337389\ttotal: 179ms\tremaining: 347ms\n",
            "51:\tlearn: 19.9111544\ttotal: 181ms\tremaining: 341ms\n",
            "52:\tlearn: 19.8727889\ttotal: 183ms\tremaining: 335ms\n",
            "53:\tlearn: 19.8045687\ttotal: 186ms\tremaining: 330ms\n",
            "54:\tlearn: 19.7039983\ttotal: 188ms\tremaining: 325ms\n",
            "55:\tlearn: 19.6786518\ttotal: 190ms\tremaining: 320ms\n",
            "56:\tlearn: 19.6766065\ttotal: 193ms\tremaining: 315ms\n",
            "57:\tlearn: 19.6512629\ttotal: 195ms\tremaining: 310ms\n",
            "58:\tlearn: 19.5897985\ttotal: 198ms\tremaining: 305ms\n",
            "59:\tlearn: 19.5883564\ttotal: 200ms\tremaining: 301ms\n",
            "60:\tlearn: 19.5474681\ttotal: 203ms\tremaining: 296ms\n",
            "61:\tlearn: 19.5083365\ttotal: 205ms\tremaining: 291ms\n",
            "62:\tlearn: 19.5001298\ttotal: 208ms\tremaining: 287ms\n",
            "63:\tlearn: 19.4642778\ttotal: 210ms\tremaining: 282ms\n",
            "64:\tlearn: 19.4391637\ttotal: 213ms\tremaining: 278ms\n",
            "65:\tlearn: 19.4136892\ttotal: 215ms\tremaining: 274ms\n",
            "66:\tlearn: 19.3696164\ttotal: 218ms\tremaining: 270ms\n",
            "67:\tlearn: 19.3307389\ttotal: 220ms\tremaining: 266ms\n",
            "68:\tlearn: 19.2864986\ttotal: 223ms\tremaining: 262ms\n",
            "69:\tlearn: 19.2563064\ttotal: 225ms\tremaining: 257ms\n",
            "70:\tlearn: 19.2391382\ttotal: 228ms\tremaining: 253ms\n",
            "71:\tlearn: 19.2256653\ttotal: 230ms\tremaining: 249ms\n",
            "72:\tlearn: 19.1877077\ttotal: 233ms\tremaining: 246ms\n",
            "73:\tlearn: 19.1429022\ttotal: 236ms\tremaining: 242ms\n",
            "74:\tlearn: 19.1184928\ttotal: 238ms\tremaining: 238ms\n",
            "75:\tlearn: 19.0756100\ttotal: 241ms\tremaining: 234ms\n",
            "76:\tlearn: 19.0280583\ttotal: 244ms\tremaining: 231ms\n",
            "77:\tlearn: 18.9837298\ttotal: 247ms\tremaining: 228ms\n",
            "78:\tlearn: 18.9286610\ttotal: 249ms\tremaining: 224ms\n",
            "79:\tlearn: 18.8477862\ttotal: 252ms\tremaining: 220ms\n",
            "80:\tlearn: 18.7900820\ttotal: 254ms\tremaining: 217ms\n",
            "81:\tlearn: 18.7663473\ttotal: 257ms\tremaining: 213ms\n",
            "82:\tlearn: 18.7220251\ttotal: 259ms\tremaining: 209ms\n",
            "83:\tlearn: 18.6610614\ttotal: 261ms\tremaining: 205ms\n",
            "84:\tlearn: 18.6324325\ttotal: 264ms\tremaining: 202ms\n",
            "85:\tlearn: 18.5803975\ttotal: 266ms\tremaining: 198ms\n",
            "86:\tlearn: 18.5449022\ttotal: 268ms\tremaining: 194ms\n",
            "87:\tlearn: 18.5224577\ttotal: 271ms\tremaining: 191ms\n",
            "88:\tlearn: 18.4743173\ttotal: 273ms\tremaining: 187ms\n",
            "89:\tlearn: 18.4355408\ttotal: 276ms\tremaining: 184ms\n",
            "90:\tlearn: 18.4291616\ttotal: 278ms\tremaining: 180ms\n",
            "91:\tlearn: 18.4145015\ttotal: 280ms\tremaining: 177ms\n",
            "92:\tlearn: 18.3921453\ttotal: 283ms\tremaining: 173ms\n",
            "93:\tlearn: 18.3629834\ttotal: 285ms\tremaining: 170ms\n",
            "94:\tlearn: 18.3496944\ttotal: 288ms\tremaining: 166ms\n",
            "95:\tlearn: 18.3336419\ttotal: 290ms\tremaining: 163ms\n",
            "96:\tlearn: 18.3112942\ttotal: 293ms\tremaining: 160ms\n",
            "97:\tlearn: 18.2831161\ttotal: 295ms\tremaining: 157ms\n",
            "98:\tlearn: 18.2496330\ttotal: 298ms\tremaining: 153ms\n",
            "99:\tlearn: 18.2381786\ttotal: 300ms\tremaining: 150ms\n",
            "100:\tlearn: 18.2204278\ttotal: 303ms\tremaining: 147ms\n",
            "101:\tlearn: 18.1943006\ttotal: 306ms\tremaining: 144ms\n",
            "102:\tlearn: 18.1754151\ttotal: 308ms\tremaining: 141ms\n",
            "103:\tlearn: 18.1619194\ttotal: 311ms\tremaining: 137ms\n",
            "104:\tlearn: 18.1233236\ttotal: 313ms\tremaining: 134ms\n",
            "105:\tlearn: 18.1126924\ttotal: 315ms\tremaining: 131ms\n",
            "106:\tlearn: 18.0944323\ttotal: 318ms\tremaining: 128ms\n",
            "107:\tlearn: 18.0307638\ttotal: 320ms\tremaining: 125ms\n",
            "108:\tlearn: 18.0038831\ttotal: 323ms\tremaining: 121ms\n",
            "109:\tlearn: 17.9687768\ttotal: 325ms\tremaining: 118ms\n",
            "110:\tlearn: 17.9432646\ttotal: 328ms\tremaining: 115ms\n",
            "111:\tlearn: 17.9390442\ttotal: 330ms\tremaining: 112ms\n",
            "112:\tlearn: 17.8902148\ttotal: 332ms\tremaining: 109ms\n",
            "113:\tlearn: 17.8846844\ttotal: 335ms\tremaining: 106ms\n",
            "114:\tlearn: 17.8361537\ttotal: 338ms\tremaining: 103ms\n",
            "115:\tlearn: 17.7950769\ttotal: 340ms\tremaining: 99.7ms\n",
            "116:\tlearn: 17.7888547\ttotal: 343ms\tremaining: 96.6ms\n",
            "117:\tlearn: 17.7078800\ttotal: 345ms\tremaining: 93.6ms\n",
            "118:\tlearn: 17.6977739\ttotal: 348ms\tremaining: 90.5ms\n",
            "119:\tlearn: 17.6431919\ttotal: 350ms\tremaining: 87.5ms\n",
            "120:\tlearn: 17.6339787\ttotal: 353ms\tremaining: 84.5ms\n",
            "121:\tlearn: 17.6052692\ttotal: 355ms\tremaining: 81.6ms\n",
            "122:\tlearn: 17.5862057\ttotal: 358ms\tremaining: 78.6ms\n",
            "123:\tlearn: 17.5788358\ttotal: 361ms\tremaining: 75.7ms\n",
            "124:\tlearn: 17.5317733\ttotal: 364ms\tremaining: 72.8ms\n",
            "125:\tlearn: 17.5050270\ttotal: 366ms\tremaining: 69.7ms\n",
            "126:\tlearn: 17.4695863\ttotal: 369ms\tremaining: 66.8ms\n",
            "127:\tlearn: 17.4650480\ttotal: 371ms\tremaining: 63.8ms\n",
            "128:\tlearn: 17.4562115\ttotal: 374ms\tremaining: 60.8ms\n",
            "129:\tlearn: 17.4543947\ttotal: 376ms\tremaining: 57.9ms\n",
            "130:\tlearn: 17.4407476\ttotal: 379ms\tremaining: 54.9ms\n",
            "131:\tlearn: 17.4187383\ttotal: 381ms\tremaining: 52ms\n",
            "132:\tlearn: 17.4077079\ttotal: 384ms\tremaining: 49ms\n",
            "133:\tlearn: 17.3890695\ttotal: 386ms\tremaining: 46.1ms\n",
            "134:\tlearn: 17.3675545\ttotal: 389ms\tremaining: 43.2ms\n",
            "135:\tlearn: 17.3553372\ttotal: 391ms\tremaining: 40.3ms\n",
            "136:\tlearn: 17.3106429\ttotal: 393ms\tremaining: 37.3ms\n",
            "137:\tlearn: 17.2931051\ttotal: 397ms\tremaining: 34.6ms\n",
            "138:\tlearn: 17.2316391\ttotal: 400ms\tremaining: 31.7ms\n",
            "139:\tlearn: 17.2093657\ttotal: 403ms\tremaining: 28.8ms\n",
            "140:\tlearn: 17.1807718\ttotal: 407ms\tremaining: 26ms\n",
            "141:\tlearn: 17.1630240\ttotal: 411ms\tremaining: 23.2ms\n",
            "142:\tlearn: 17.1502115\ttotal: 415ms\tremaining: 20.3ms\n",
            "143:\tlearn: 17.1396172\ttotal: 419ms\tremaining: 17.5ms\n",
            "144:\tlearn: 17.1018742\ttotal: 423ms\tremaining: 14.6ms\n",
            "145:\tlearn: 17.0507716\ttotal: 426ms\tremaining: 11.7ms\n",
            "146:\tlearn: 17.0444850\ttotal: 428ms\tremaining: 8.74ms\n",
            "147:\tlearn: 16.9816735\ttotal: 431ms\tremaining: 5.83ms\n",
            "148:\tlearn: 16.9617231\ttotal: 434ms\tremaining: 2.91ms\n",
            "149:\tlearn: 16.9253979\ttotal: 436ms\tremaining: 0us\n",
            "время обучения модели\n",
            "CPU times: user 433 ms, sys: 28.1 ms, total: 461 ms\n",
            "Wall time: 925 ms\n"
          ]
        }
      ],
      "source": [
        "%%time\n",
        "\n",
        "cat_features = ['month', 'day',\n",
        "                'dayofweek', 'hour']\n",
        "\n",
        "model = CatBoostRegressor(loss_function=\"RMSE\", iterations=150) \n",
        "\n",
        "model.fit(features_train, target_train, cat_features=cat_features)\n",
        "print('время обучения модели')"
      ]
    },
    {
      "cell_type": "code",
      "execution_count": null,
      "metadata": {
        "id": "7qJrJ1cecd_K",
        "outputId": "eaee8532-1495-407a-ddbe-9ff1ec39589d"
      },
      "outputs": [
        {
          "name": "stdout",
          "output_type": "stream",
          "text": [
            "время предсказания\n",
            "RMSE cat на валидационной выборке: 34.73717672822379\n",
            "CPU times: user 5.06 ms, sys: 0 ns, total: 5.06 ms\n",
            "Wall time: 3.55 ms\n"
          ]
        }
      ],
      "source": [
        "%%time\n",
        "pred_valid = model.predict(features_valid) \n",
        "print('время предсказания')\n",
        "result_cat = mean_squared_error(target_valid, pred_valid)**0.5\n",
        "print(\"RMSE cat на валидационной выборке:\", result_cat)"
      ]
    },
    {
      "cell_type": "code",
      "execution_count": null,
      "metadata": {
        "id": "7wyGUcwscd_K",
        "outputId": "46d254a1-d4f6-4e67-f4ed-5e1bb00ebe24"
      },
      "outputs": [
        {
          "name": "stdout",
          "output_type": "stream",
          "text": [
            "результаты сравнения разных моделей на тренировочной выборке\n",
            "\n",
            "LinearRegression\n",
            "модель линейной регрессии с проверкой на валидизационной выборке\n",
            "RMSE обучающей выборки: 37.46172124377716\n",
            "\n",
            "RandomForestRegressor\n",
            "Cамая эффективная модель - best_mod RandomForestRegressor(max_depth=16, n_estimators=75, random_state=12345)\n",
            "RMSE наилучшей модели: 31.712580075388782\n",
            "\n",
            "DecisionTreeRegressor\n",
            "RMSE наилучшей модели: 33.64934127994021\n",
            "Cамая эффективная модель - best_mod DecisionTreeRegressor(max_depth=10, random_state=12345)\n",
            "\n",
            "модель CatBoostRegressor\n",
            "RMSE cat на валидационной выборке: 34.73717672822379\n",
            "\n"
          ]
        }
      ],
      "source": [
        "print('результаты сравнения разных моделей на тренировочной выборке')\n",
        "print()\n",
        "print('LinearRegression')\n",
        "print ('модель линейной регрессии с проверкой на валидизационной выборке')\n",
        "print(\"RMSE обучающей выборки:\", result_train)\n",
        "print()\n",
        "print('RandomForestRegressor')\n",
        "print('Cамая эффективная модель - best_mod',best_mod)\n",
        "print(\"RMSE наилучшей модели:\", best_res)\n",
        "print()\n",
        "print('DecisionTreeRegressor')\n",
        "print('RMSE наилучшей модели:', best_result)\n",
        "print('Cамая эффективная модель - best_mod',best_model)\n",
        "print()\n",
        "print('модель CatBoostRegressor')\n",
        "print(\"RMSE cat на валидационной выборке:\", result_cat)\n",
        "print()"
      ]
    },
    {
      "cell_type": "markdown",
      "metadata": {
        "id": "tEekZmiOcd_N"
      },
      "source": [
        "## Тестирование"
      ]
    },
    {
      "cell_type": "markdown",
      "metadata": {
        "id": "IeLZOpP5cd_N"
      },
      "source": [
        "Последовательно применим модели на тестовой выборке"
      ]
    },
    {
      "cell_type": "code",
      "execution_count": null,
      "metadata": {
        "id": "GfOgAsTncd_N",
        "outputId": "2d94fdd0-c109-4a0c-bf77-33cefd60f24b"
      },
      "outputs": [
        {
          "name": "stdout",
          "output_type": "stream",
          "text": [
            "features_train_valid shape: (3970, 9)\n",
            "target_train_valid shape: (3970,)\n",
            "features_train_valid shape: (3970, 9)\n",
            "target_train_valid shape: (3970,)\n"
          ]
        }
      ],
      "source": [
        "features_train_valid = train_valid.drop(['num_orders'], axis=1)\n",
        "target_train_valid = train_valid['num_orders']\n",
        "print('features_train_valid shape:', features_train_valid.shape)\n",
        "print('target_train_valid shape:', target_train_valid.shape)\n",
        "train_valid = train_valid.dropna()\n",
        "print('features_train_valid shape:', features_train_valid.shape)\n",
        "print('target_train_valid shape:', target_train_valid.shape)\n"
      ]
    },
    {
      "cell_type": "markdown",
      "metadata": {
        "id": "XYNjkK40cd_O"
      },
      "source": [
        "<div class=\"alert alert-block alert-warning\">\n",
        "<b>Изменения:</b> Были внесены следующие изменения: для обучения модели использовалась выборка, объединяющая тестовую и тренировочную ...\n",
        "</div>"
      ]
    },
    {
      "cell_type": "code",
      "execution_count": null,
      "metadata": {
        "scrolled": true,
        "id": "sWtMfo4Ncd_O",
        "outputId": "32b0eaa5-22da-4274-9f95-fe8e564bbf21"
      },
      "outputs": [
        {
          "name": "stdout",
          "output_type": "stream",
          "text": [
            "RandomForestRegressor(max_depth=16, n_estimators=75, random_state=12345)\n",
            "время обучения модели\n",
            "CPU times: user 1.14 s, sys: 7.98 ms, total: 1.15 s\n",
            "Wall time: 1.15 s\n"
          ]
        }
      ],
      "source": [
        "%%time\n",
        "model = RandomForestRegressor(n_estimators=75, \n",
        "max_depth=16, random_state=12345) \n",
        "print(model)\n",
        "model.fit(features_train_valid, target_train_valid)\n",
        "print('время обучения модели')       "
      ]
    },
    {
      "cell_type": "code",
      "execution_count": null,
      "metadata": {
        "id": "P431Op8dcd_O",
        "outputId": "99ef94be-72f2-4ec8-e90f-4025ae951d75"
      },
      "outputs": [
        {
          "name": "stdout",
          "output_type": "stream",
          "text": [
            "RMSE модели случайного леса на тестовой выборке: 47.2247566540311\n",
            "CPU times: user 23.3 ms, sys: 7.9 ms, total: 31.2 ms\n",
            "Wall time: 29.2 ms\n"
          ]
        }
      ],
      "source": [
        "%%time\n",
        "model.predict(features_test)\n",
        "preditions_forest_test = model.predict(features_test) \n",
        "res_forest_test = mean_squared_error(target_test, preditions_forest_test)**0.5\n",
        "print(\"RMSE модели случайного леса на тестовой выборке:\", res_forest_test)"
      ]
    },
    {
      "cell_type": "code",
      "execution_count": null,
      "metadata": {
        "id": "OGe1NYVzcd_O",
        "outputId": "677f2c14-bc79-4fbf-ae4a-a38a1fb6f201"
      },
      "outputs": [
        {
          "name": "stdout",
          "output_type": "stream",
          "text": [
            "[ 97.97669659  99.23771838 135.94038203 125.11092929  86.88911111\n",
            "  97.37819736  89.50996478 105.53744792 122.31222222 117.26266667\n",
            " 188.94666667 128.87466025 141.87036492 168.278      134.93874353\n",
            "  65.46222222  41.13333333  44.73096296  76.39488889 119.20454472\n",
            " 128.04951963 119.18281797 104.22555983 104.28849336  86.76146032\n",
            " 103.35425352 131.4949011  117.24120716  97.18930584  93.30400525\n",
            "  89.5700095  113.86576445 101.49616898 120.14162963 172.06666667\n",
            " 160.13       168.46666667 151.6264127  133.45333333  66.63536508\n",
            "  47.26        35.54962963  86.13444444 122.08914238 121.25008312\n",
            " 112.59507987  99.39815223  96.41110687  88.11255572 100.52472021\n",
            " 137.60179682 131.16148226  92.35998413  92.26853927  95.73494272\n",
            " 118.67235979 126.13299145 128.68761905 187.78666667 164.67851852\n",
            " 162.37277778 155.95733333 138.33888889  72.02222222  54.22666667\n",
            "  37.78740741  80.15       122.94777839 126.0305383  103.32202078\n",
            " 102.32566197  95.35864303  79.544035    83.33382638 135.21774925\n",
            " 132.63746935  84.86154978  87.26638876  97.64679216 111.55943446\n",
            " 111.26579089 128.53342184 168.46666667 134.18719989 170.11\n",
            " 153.95733333 133.29222222  73.36        45.02666667  42.23111111\n",
            "  59.84457143 120.45331251 120.59531708 107.36764523 100.70926763\n",
            "  99.16064873  97.96366665 104.3130361  134.7464025  134.93578104\n",
            "  99.8934127   99.20910256 103.52404473 120.26107407 141.41664406\n",
            " 145.08033333 198.33333333 309.         170.21488889 176.64888889\n",
            " 143.85333333  79.09333333  48.12222222  42.88651852  91.8219798\n",
            " 120.27474567 135.25107937  96.5725911   99.04814483  86.44177252\n",
            "  78.91309091 116.739365   144.43669841 105.00817094  80.48967436\n",
            "  94.35033095  96.97417337 116.18993241 105.88320656 128.07801941\n",
            " 172.42666667 152.54866667 155.41190476 117.05752381 132.6562963\n",
            "  63.08914286  46.45333333  37.42942857  73.20590476 102.6574416\n",
            " 108.24060037  97.53230733  92.53994295 102.04340236 116.68066214\n",
            " 119.06813919 136.97458046 129.23310023  89.9725974   87.87407407\n",
            "  94.32869718 132.23606734  98.72724046 144.75277778 199.42666667\n",
            " 161.84       308.46133333 234.51333333 152.3        126.12\n",
            "  63.17333333  47.88        80.07190476 123.38074757 122.80611303\n",
            " 109.10133976 105.46754188 109.66092184 103.82432434 102.18370822\n",
            " 131.67323917 119.62092929  84.59396792  96.32822891 107.58386724\n",
            " 106.72698225 124.36277778 119.36266667 197.24       173.56777778\n",
            " 168.68266667 163.74244444 137.95904762  72.05333333  44.33333333\n",
            "  49.49777778  72.92333333 118.80761251 121.51570006 113.47198682\n",
            "  97.81115718  96.61709     85.06534982 106.32094822 128.72677778\n",
            " 120.21851511  93.30548629  90.49223598  87.51976152 109.42138549\n",
            " 121.44588304 113.39       190.04       165.10933333 162.70088889\n",
            " 144.68666667 133.07888889  74.16        49.01333333  47.78666667\n",
            "  68.35079365 111.69153276 130.29774852 101.6651612   91.39848157\n",
            "  77.95594506  94.89185581 108.68741481 126.1726546  131.46471717\n",
            " 100.68507937  86.9274359   99.78561653 114.46239382 127.80888889\n",
            " 131.00761905 178.73333333 126.89945238 165.26477778 158.12622222\n",
            " 146.46666667  79.02666667  46.82666667  39.84736508  79.35214815\n",
            " 128.19010788 129.49499582 104.97592095 102.21345662  97.0835044\n",
            "  98.87250911 103.75069329 135.76321808 123.80414468  91.67786724\n",
            " 100.74055556 102.8994733  113.52905273 127.72940596 131.32\n",
            " 196.6        181.57155556 171.68844444 154.84977778 136.16\n",
            "  65.46888889  49.13        52.25333333  89.91809524 153.64063492\n",
            " 145.59296296 112.93903704 104.53863248 112.04011396  98.20307692\n",
            " 107.98474232 148.11505387 129.23627628  90.46997835 102.11388889\n",
            " 106.07248918 129.78888889 139.14833333 139.58166667 208.04\n",
            " 299.01333333 171.54488889 160.216      134.52        74.32888889\n",
            "  62.64        49.96        84.7        119.44117989 132.51296296\n",
            "  95.53810774  92.16350025  94.43494876  70.30822222 114.59956035\n",
            " 139.13897729 117.85925579  92.48148629  88.78735979 100.64126936\n",
            " 117.54246132 134.12429293 143.42166667 196.6        289.74666667\n",
            " 164.38       151.9        264.7         76.26933333  40.88\n",
            "  44.32825397  78.83809524 107.27448926 110.37253968 109.14354872\n",
            "  98.40893487 115.2188951  103.67322059 123.51532246 123.39883761\n",
            " 125.87398912  96.32593074  90.28881962  97.52443386 124.01589947\n",
            " 120.08896637 153.93722222 197.77333333 296.63466667 172.32133333\n",
            " 231.36       148.86666667 136.82666667  47.29333333  53.00444444\n",
            "  77.32333333 131.37442577 131.65990338 107.48888186 111.73888889\n",
            " 109.24525253 101.97855411 107.92089961 131.35365079 123.89737374\n",
            "  90.25666667  94.98789899 114.94888889 117.32303704 123.40688034\n",
            " 124.53333333 201.02666667 177.23333333 169.69874747 135.25347368\n",
            " 143.40622222  72.22666667  39.83765657  57.69333333  75.80222222\n",
            " 138.83053968 120.06992593 104.08873016 106.69206349 105.95556604\n",
            "  97.12316127 113.19511664 132.50031746 129.09673882  96.48333333\n",
            "  95.24323232  94.3586536  109.79785004 122.24766667 121.46666667\n",
            " 196.33333333 176.69333333 169.848      150.86177778 138.30666667\n",
            "  76.12888889  46.56        36.96888889  74.12381818 132.98966667\n",
            " 118.54657005 106.33539683 106.39321429 109.68428571 107.75428571\n",
            " 111.80095238 124.75365079 123.71515152  99.08434343  96.37355556\n",
            " 108.80323232 121.15333333 124.10444444 134.34666667 249.62666667\n",
            " 183.18       169.87333333 158.34666667 152.87333333  90.\n",
            "  45.74666667  46.95111111  80.00666667 134.83577778 140.30444444\n",
            " 104.62333333 109.92873016 107.74206349 110.81761905 114.01871306\n",
            " 137.97333333 122.27466667 130.93585714 104.63619048 104.45022222\n",
            " 121.27510101 137.09185185 135.57333333 196.68       277.14666667\n",
            " 168.75333333 155.04       159.72       138.89333333  54.4\n",
            "  39.77777778  70.83190476 142.68444444 123.0621256  107.07666667\n",
            " 109.95666667 112.39222222 104.17822222 115.55777778 139.2807619\n",
            " 134.8040404  100.54619048 109.53619048 115.72666667 136.52888889\n",
            " 143.83555556 142.155     ]\n"
          ]
        }
      ],
      "source": [
        "print(preditions_forest_test)"
      ]
    },
    {
      "cell_type": "code",
      "execution_count": null,
      "metadata": {
        "id": "1MLyzqvrcd_P",
        "outputId": "8960c52e-7173-433b-d165-1124105cad4d"
      },
      "outputs": [
        {
          "data": {
            "image/png": "[encoded data removed]",
            "text/plain": [
              "<Figure size 432x288 with 1 Axes>"
            ]
          },
          "metadata": {
            "needs_background": "light"
          },
          "output_type": "display_data"
        }
      ],
      "source": [
        "\n",
        "test['target_test'] = target_test\n",
        "test['preditions_forest_test'] = preditions_forest_test.tolist()\n",
        "test['preditions_forest_test'].plot()\n",
        "test['target_test'].plot()\n",
        "\n",
        "plt.xlabel(\"дата \")\n",
        "plt.ylabel(\"количество в час\")\n",
        "plt.legend(loc='upper right', fontsize='large')\n",
        "plt.title(\"прогноз модели в сравнении с тестовой выборкой\")\n",
        "plt.show()"
      ]
    },
    {
      "cell_type": "code",
      "execution_count": null,
      "metadata": {
        "id": "vPTOeoEjcd_R",
        "outputId": "fde54f27-1b57-4ae3-8c70-45ba143ce6a7"
      },
      "outputs": [
        {
          "name": "stdout",
          "output_type": "stream",
          "text": [
            "проверка модели на тестовой выборке\n",
            "\n",
            "\n",
            "RandomForestRegressor\n",
            "Cамая эффективная модель - best_mod RandomForestRegressor(max_depth=16, n_estimators=75, random_state=12345)\n",
            "RMSE модели случайного леса на тестовой выборке: 47.2247566540311\n",
            "\n"
          ]
        }
      ],
      "source": [
        "print('проверка модели на тестовой выборке')\n",
        "print()\n",
        "\n",
        "print()\n",
        "print('RandomForestRegressor')\n",
        "print('Cамая эффективная модель - best_mod',best_mod)\n",
        "print(\"RMSE модели случайного леса на тестовой выборке:\", res_forest_test)\n",
        "print()\n",
        "\n"
      ]
    }
  ],
  "metadata": {
    "ExecuteTimeLog": [
      {
        "duration": 1565,
        "start_time": "2023-02-01T15:36:48.202Z"
      },
      {
        "duration": 147,
        "start_time": "2023-02-01T15:38:30.706Z"
      },
      {
        "duration": 1523,
        "start_time": "2023-02-02T06:33:10.146Z"
      },
      {
        "duration": 156,
        "start_time": "2023-02-02T06:33:14.012Z"
      },
      {
        "duration": 15,
        "start_time": "2023-02-02T06:33:18.849Z"
      },
      {
        "duration": 20,
        "start_time": "2023-02-02T06:35:12.384Z"
      },
      {
        "duration": 45,
        "start_time": "2023-02-02T06:37:00.264Z"
      },
      {
        "duration": 52,
        "start_time": "2023-02-02T06:41:19.048Z"
      },
      {
        "duration": 49,
        "start_time": "2023-02-02T06:41:42.402Z"
      },
      {
        "duration": 139,
        "start_time": "2023-02-02T06:41:54.012Z"
      },
      {
        "duration": 52,
        "start_time": "2023-02-02T06:42:14.645Z"
      },
      {
        "duration": 10,
        "start_time": "2023-02-02T06:42:18.616Z"
      },
      {
        "duration": 3,
        "start_time": "2023-02-02T06:42:32.701Z"
      },
      {
        "duration": 10,
        "start_time": "2023-02-02T06:43:16.139Z"
      },
      {
        "duration": 46,
        "start_time": "2023-02-02T06:43:34.396Z"
      },
      {
        "duration": 17,
        "start_time": "2023-02-02T06:43:38.752Z"
      },
      {
        "duration": 41,
        "start_time": "2023-02-02T06:48:25.639Z"
      },
      {
        "duration": 52,
        "start_time": "2023-02-02T06:48:45.124Z"
      },
      {
        "duration": 11,
        "start_time": "2023-02-02T06:51:07.111Z"
      },
      {
        "duration": 722,
        "start_time": "2023-02-02T06:53:49.174Z"
      },
      {
        "duration": 245,
        "start_time": "2023-02-02T06:56:34.470Z"
      },
      {
        "duration": 241,
        "start_time": "2023-02-02T06:58:18.012Z"
      },
      {
        "duration": 18,
        "start_time": "2023-02-02T07:05:18.190Z"
      },
      {
        "duration": 56,
        "start_time": "2023-02-02T07:06:53.692Z"
      },
      {
        "duration": 25,
        "start_time": "2023-02-02T07:07:25.487Z"
      },
      {
        "duration": 27,
        "start_time": "2023-02-02T07:08:09.225Z"
      },
      {
        "duration": 14,
        "start_time": "2023-02-02T07:53:08.047Z"
      },
      {
        "duration": 34,
        "start_time": "2023-02-02T07:53:22.200Z"
      },
      {
        "duration": 20,
        "start_time": "2023-02-02T07:53:32.920Z"
      },
      {
        "duration": 14,
        "start_time": "2023-02-02T08:11:35.116Z"
      },
      {
        "duration": 1558,
        "start_time": "2023-02-02T08:13:25.995Z"
      },
      {
        "duration": 53,
        "start_time": "2023-02-02T08:13:27.555Z"
      },
      {
        "duration": 13,
        "start_time": "2023-02-02T08:13:27.609Z"
      },
      {
        "duration": 76,
        "start_time": "2023-02-02T08:13:27.624Z"
      },
      {
        "duration": 19,
        "start_time": "2023-02-02T08:13:27.703Z"
      },
      {
        "duration": 744,
        "start_time": "2023-02-02T08:13:27.724Z"
      },
      {
        "duration": 55,
        "start_time": "2023-02-02T08:13:28.469Z"
      },
      {
        "duration": 0,
        "start_time": "2023-02-02T08:13:28.526Z"
      },
      {
        "duration": 0,
        "start_time": "2023-02-02T08:13:28.528Z"
      },
      {
        "duration": 0,
        "start_time": "2023-02-02T08:13:28.529Z"
      },
      {
        "duration": 1337,
        "start_time": "2023-02-02T08:14:26.261Z"
      },
      {
        "duration": 49,
        "start_time": "2023-02-02T08:14:27.599Z"
      },
      {
        "duration": 13,
        "start_time": "2023-02-02T08:14:27.650Z"
      },
      {
        "duration": 60,
        "start_time": "2023-02-02T08:14:27.665Z"
      },
      {
        "duration": 10,
        "start_time": "2023-02-02T08:14:27.727Z"
      },
      {
        "duration": 678,
        "start_time": "2023-02-02T08:14:27.739Z"
      },
      {
        "duration": 124,
        "start_time": "2023-02-02T08:14:28.419Z"
      },
      {
        "duration": 0,
        "start_time": "2023-02-02T08:14:28.545Z"
      },
      {
        "duration": 0,
        "start_time": "2023-02-02T08:14:28.546Z"
      },
      {
        "duration": 14,
        "start_time": "2023-02-02T08:16:11.997Z"
      },
      {
        "duration": 271,
        "start_time": "2023-02-02T08:17:45.108Z"
      },
      {
        "duration": 21,
        "start_time": "2023-02-02T08:17:52.107Z"
      },
      {
        "duration": 13,
        "start_time": "2023-02-02T08:18:49.325Z"
      },
      {
        "duration": 12,
        "start_time": "2023-02-02T08:43:42.382Z"
      },
      {
        "duration": 8,
        "start_time": "2023-02-02T08:46:05.742Z"
      },
      {
        "duration": 14,
        "start_time": "2023-02-02T08:51:19.204Z"
      },
      {
        "duration": 8,
        "start_time": "2023-02-02T08:56:09.524Z"
      },
      {
        "duration": 65,
        "start_time": "2023-02-02T08:58:00.296Z"
      },
      {
        "duration": 61,
        "start_time": "2023-02-02T08:58:14.503Z"
      },
      {
        "duration": 53,
        "start_time": "2023-02-02T08:58:42.087Z"
      },
      {
        "duration": 1379,
        "start_time": "2023-02-02T08:59:01.224Z"
      },
      {
        "duration": 55,
        "start_time": "2023-02-02T08:59:02.605Z"
      },
      {
        "duration": 13,
        "start_time": "2023-02-02T08:59:02.662Z"
      },
      {
        "duration": 38,
        "start_time": "2023-02-02T08:59:02.677Z"
      },
      {
        "duration": 10,
        "start_time": "2023-02-02T08:59:02.716Z"
      },
      {
        "duration": 761,
        "start_time": "2023-02-02T08:59:02.727Z"
      },
      {
        "duration": 265,
        "start_time": "2023-02-02T08:59:03.490Z"
      },
      {
        "duration": 728,
        "start_time": "2023-02-02T08:59:03.756Z"
      },
      {
        "duration": 25,
        "start_time": "2023-02-02T08:59:04.487Z"
      },
      {
        "duration": 11,
        "start_time": "2023-02-02T08:59:04.514Z"
      },
      {
        "duration": 11,
        "start_time": "2023-02-02T08:59:04.526Z"
      },
      {
        "duration": 67,
        "start_time": "2023-02-02T08:59:04.538Z"
      },
      {
        "duration": 97,
        "start_time": "2023-02-02T08:59:04.607Z"
      },
      {
        "duration": 15320,
        "start_time": "2023-02-02T09:03:49.744Z"
      },
      {
        "duration": 32,
        "start_time": "2023-02-02T09:04:28.974Z"
      },
      {
        "duration": 45,
        "start_time": "2023-02-02T09:04:37.163Z"
      },
      {
        "duration": 1460,
        "start_time": "2023-02-02T09:04:45.867Z"
      },
      {
        "duration": 53,
        "start_time": "2023-02-02T09:04:47.329Z"
      },
      {
        "duration": 14,
        "start_time": "2023-02-02T09:04:47.384Z"
      },
      {
        "duration": 52,
        "start_time": "2023-02-02T09:04:47.400Z"
      },
      {
        "duration": 10,
        "start_time": "2023-02-02T09:04:47.455Z"
      },
      {
        "duration": 716,
        "start_time": "2023-02-02T09:04:47.467Z"
      },
      {
        "duration": 246,
        "start_time": "2023-02-02T09:04:48.185Z"
      },
      {
        "duration": 680,
        "start_time": "2023-02-02T09:04:48.433Z"
      },
      {
        "duration": 21,
        "start_time": "2023-02-02T09:04:49.115Z"
      },
      {
        "duration": 11,
        "start_time": "2023-02-02T09:04:49.138Z"
      },
      {
        "duration": 8,
        "start_time": "2023-02-02T09:04:49.151Z"
      },
      {
        "duration": 58,
        "start_time": "2023-02-02T09:04:49.161Z"
      },
      {
        "duration": 127,
        "start_time": "2023-02-02T09:04:49.305Z"
      },
      {
        "duration": 0,
        "start_time": "2023-02-02T09:04:49.434Z"
      },
      {
        "duration": 210,
        "start_time": "2023-02-02T09:05:14.257Z"
      },
      {
        "duration": 5630,
        "start_time": "2023-02-02T09:06:25.525Z"
      },
      {
        "duration": 12,
        "start_time": "2023-02-02T09:24:16.166Z"
      },
      {
        "duration": 1326,
        "start_time": "2023-02-02T09:29:50.519Z"
      },
      {
        "duration": 1420,
        "start_time": "2023-02-02T14:42:23.446Z"
      },
      {
        "duration": 139,
        "start_time": "2023-02-02T14:42:24.868Z"
      },
      {
        "duration": 12,
        "start_time": "2023-02-02T14:42:25.008Z"
      },
      {
        "duration": 42,
        "start_time": "2023-02-02T14:42:25.022Z"
      },
      {
        "duration": 9,
        "start_time": "2023-02-02T14:42:25.066Z"
      },
      {
        "duration": 666,
        "start_time": "2023-02-02T14:42:25.076Z"
      },
      {
        "duration": 276,
        "start_time": "2023-02-02T14:42:25.744Z"
      },
      {
        "duration": 716,
        "start_time": "2023-02-02T14:42:26.022Z"
      },
      {
        "duration": 19,
        "start_time": "2023-02-02T14:42:26.739Z"
      },
      {
        "duration": 51,
        "start_time": "2023-02-02T14:42:26.760Z"
      },
      {
        "duration": 36,
        "start_time": "2023-02-02T14:42:26.813Z"
      },
      {
        "duration": 37,
        "start_time": "2023-02-02T14:42:26.851Z"
      },
      {
        "duration": 5489,
        "start_time": "2023-02-02T14:42:26.890Z"
      },
      {
        "duration": 1219,
        "start_time": "2023-02-02T14:42:32.381Z"
      },
      {
        "duration": 6,
        "start_time": "2023-02-02T14:42:33.602Z"
      },
      {
        "duration": 11,
        "start_time": "2023-02-02T14:44:58.430Z"
      },
      {
        "duration": 12,
        "start_time": "2023-02-02T14:49:16.488Z"
      },
      {
        "duration": 13,
        "start_time": "2023-02-02T14:50:16.573Z"
      },
      {
        "duration": 12,
        "start_time": "2023-02-02T14:53:16.609Z"
      },
      {
        "duration": 15,
        "start_time": "2023-02-02T14:54:53.775Z"
      },
      {
        "duration": 7,
        "start_time": "2023-02-02T14:55:16.815Z"
      },
      {
        "duration": 7,
        "start_time": "2023-02-02T14:55:42.026Z"
      },
      {
        "duration": 6,
        "start_time": "2023-02-02T14:56:42.495Z"
      },
      {
        "duration": 1613,
        "start_time": "2023-02-02T15:37:41.205Z"
      },
      {
        "duration": 212,
        "start_time": "2023-02-02T15:37:42.821Z"
      },
      {
        "duration": 11,
        "start_time": "2023-02-02T15:37:43.035Z"
      },
      {
        "duration": 45,
        "start_time": "2023-02-02T15:37:43.048Z"
      },
      {
        "duration": 9,
        "start_time": "2023-02-02T15:37:43.094Z"
      },
      {
        "duration": 782,
        "start_time": "2023-02-02T15:37:43.105Z"
      },
      {
        "duration": 260,
        "start_time": "2023-02-02T15:37:43.889Z"
      },
      {
        "duration": 787,
        "start_time": "2023-02-02T15:37:44.151Z"
      },
      {
        "duration": 24,
        "start_time": "2023-02-02T15:37:44.940Z"
      },
      {
        "duration": 35,
        "start_time": "2023-02-02T15:37:44.967Z"
      },
      {
        "duration": 9,
        "start_time": "2023-02-02T15:37:45.004Z"
      },
      {
        "duration": 18,
        "start_time": "2023-02-02T15:37:45.015Z"
      },
      {
        "duration": 6047,
        "start_time": "2023-02-02T15:37:45.035Z"
      },
      {
        "duration": 1389,
        "start_time": "2023-02-02T15:37:51.083Z"
      },
      {
        "duration": 19,
        "start_time": "2023-02-02T15:37:52.474Z"
      },
      {
        "duration": 7,
        "start_time": "2023-02-02T15:43:48.646Z"
      },
      {
        "duration": 1557,
        "start_time": "2023-02-02T15:44:08.106Z"
      },
      {
        "duration": 58,
        "start_time": "2023-02-02T15:44:09.665Z"
      },
      {
        "duration": 18,
        "start_time": "2023-02-02T15:44:09.726Z"
      },
      {
        "duration": 58,
        "start_time": "2023-02-02T15:44:09.747Z"
      },
      {
        "duration": 12,
        "start_time": "2023-02-02T15:44:09.807Z"
      },
      {
        "duration": 799,
        "start_time": "2023-02-02T15:44:09.821Z"
      },
      {
        "duration": 322,
        "start_time": "2023-02-02T15:44:10.622Z"
      },
      {
        "duration": 774,
        "start_time": "2023-02-02T15:44:10.946Z"
      },
      {
        "duration": 24,
        "start_time": "2023-02-02T15:44:11.722Z"
      },
      {
        "duration": 43,
        "start_time": "2023-02-02T15:44:11.749Z"
      },
      {
        "duration": 9,
        "start_time": "2023-02-02T15:44:11.794Z"
      },
      {
        "duration": 9,
        "start_time": "2023-02-02T15:44:11.805Z"
      },
      {
        "duration": 24,
        "start_time": "2023-02-02T15:44:11.816Z"
      },
      {
        "duration": 0,
        "start_time": "2023-02-02T15:44:11.842Z"
      },
      {
        "duration": 0,
        "start_time": "2023-02-02T15:44:11.892Z"
      },
      {
        "duration": 5364,
        "start_time": "2023-02-02T15:44:47.485Z"
      },
      {
        "duration": 1153,
        "start_time": "2023-02-02T15:45:58.757Z"
      },
      {
        "duration": 8,
        "start_time": "2023-02-02T15:47:06.684Z"
      },
      {
        "duration": 7,
        "start_time": "2023-02-02T15:47:20.185Z"
      },
      {
        "duration": 1449,
        "start_time": "2023-02-02T15:50:53.343Z"
      },
      {
        "duration": 56,
        "start_time": "2023-02-02T15:50:54.794Z"
      },
      {
        "duration": 12,
        "start_time": "2023-02-02T15:50:54.852Z"
      },
      {
        "duration": 66,
        "start_time": "2023-02-02T15:50:54.866Z"
      },
      {
        "duration": 10,
        "start_time": "2023-02-02T15:50:54.934Z"
      },
      {
        "duration": 730,
        "start_time": "2023-02-02T15:50:54.946Z"
      },
      {
        "duration": 270,
        "start_time": "2023-02-02T15:50:55.678Z"
      },
      {
        "duration": 760,
        "start_time": "2023-02-02T15:50:55.950Z"
      },
      {
        "duration": 29,
        "start_time": "2023-02-02T15:50:56.712Z"
      },
      {
        "duration": 20,
        "start_time": "2023-02-02T15:50:56.744Z"
      },
      {
        "duration": 31,
        "start_time": "2023-02-02T15:50:56.766Z"
      },
      {
        "duration": 13,
        "start_time": "2023-02-02T15:50:56.812Z"
      },
      {
        "duration": 5395,
        "start_time": "2023-02-02T15:50:56.827Z"
      },
      {
        "duration": 1205,
        "start_time": "2023-02-02T15:51:02.223Z"
      },
      {
        "duration": 10,
        "start_time": "2023-02-02T15:51:03.430Z"
      },
      {
        "duration": 13,
        "start_time": "2023-02-02T15:51:03.442Z"
      },
      {
        "duration": 1561,
        "start_time": "2023-02-02T15:54:39.891Z"
      },
      {
        "duration": 62,
        "start_time": "2023-02-02T15:54:41.455Z"
      },
      {
        "duration": 13,
        "start_time": "2023-02-02T15:54:41.519Z"
      },
      {
        "duration": 62,
        "start_time": "2023-02-02T15:54:41.535Z"
      },
      {
        "duration": 11,
        "start_time": "2023-02-02T15:54:41.598Z"
      },
      {
        "duration": 772,
        "start_time": "2023-02-02T15:54:41.611Z"
      },
      {
        "duration": 285,
        "start_time": "2023-02-02T15:54:42.385Z"
      },
      {
        "duration": 744,
        "start_time": "2023-02-02T15:54:42.672Z"
      },
      {
        "duration": 74,
        "start_time": "2023-02-02T15:54:43.418Z"
      },
      {
        "duration": 0,
        "start_time": "2023-02-02T15:54:43.494Z"
      },
      {
        "duration": 0,
        "start_time": "2023-02-02T15:54:43.495Z"
      },
      {
        "duration": 0,
        "start_time": "2023-02-02T15:54:43.496Z"
      },
      {
        "duration": 0,
        "start_time": "2023-02-02T15:54:43.498Z"
      },
      {
        "duration": 0,
        "start_time": "2023-02-02T15:54:43.499Z"
      },
      {
        "duration": 0,
        "start_time": "2023-02-02T15:54:43.500Z"
      },
      {
        "duration": 0,
        "start_time": "2023-02-02T15:54:43.501Z"
      },
      {
        "duration": 1558,
        "start_time": "2023-02-02T15:55:03.934Z"
      },
      {
        "duration": 60,
        "start_time": "2023-02-02T15:55:05.494Z"
      },
      {
        "duration": 14,
        "start_time": "2023-02-02T15:55:05.556Z"
      },
      {
        "duration": 38,
        "start_time": "2023-02-02T15:55:05.572Z"
      },
      {
        "duration": 10,
        "start_time": "2023-02-02T15:55:05.612Z"
      },
      {
        "duration": 819,
        "start_time": "2023-02-02T15:55:05.623Z"
      },
      {
        "duration": 273,
        "start_time": "2023-02-02T15:55:06.444Z"
      },
      {
        "duration": 708,
        "start_time": "2023-02-02T15:55:06.719Z"
      },
      {
        "duration": 125,
        "start_time": "2023-02-02T15:55:07.429Z"
      },
      {
        "duration": 0,
        "start_time": "2023-02-02T15:55:07.556Z"
      },
      {
        "duration": 0,
        "start_time": "2023-02-02T15:55:07.557Z"
      },
      {
        "duration": 0,
        "start_time": "2023-02-02T15:55:07.558Z"
      },
      {
        "duration": 0,
        "start_time": "2023-02-02T15:55:07.559Z"
      },
      {
        "duration": 0,
        "start_time": "2023-02-02T15:55:07.561Z"
      },
      {
        "duration": 0,
        "start_time": "2023-02-02T15:55:07.562Z"
      },
      {
        "duration": 0,
        "start_time": "2023-02-02T15:55:07.563Z"
      },
      {
        "duration": 14,
        "start_time": "2023-02-02T15:55:41.104Z"
      },
      {
        "duration": 1518,
        "start_time": "2023-02-02T15:56:15.578Z"
      },
      {
        "duration": 67,
        "start_time": "2023-02-02T15:56:17.098Z"
      },
      {
        "duration": 13,
        "start_time": "2023-02-02T15:56:17.169Z"
      },
      {
        "duration": 50,
        "start_time": "2023-02-02T15:56:17.183Z"
      },
      {
        "duration": 10,
        "start_time": "2023-02-02T15:56:17.234Z"
      },
      {
        "duration": 717,
        "start_time": "2023-02-02T15:56:17.245Z"
      },
      {
        "duration": 267,
        "start_time": "2023-02-02T15:56:17.963Z"
      },
      {
        "duration": 731,
        "start_time": "2023-02-02T15:56:18.231Z"
      },
      {
        "duration": 14,
        "start_time": "2023-02-02T15:56:18.964Z"
      },
      {
        "duration": 25,
        "start_time": "2023-02-02T15:56:18.980Z"
      },
      {
        "duration": 8,
        "start_time": "2023-02-02T15:56:19.007Z"
      },
      {
        "duration": 7,
        "start_time": "2023-02-02T15:56:19.017Z"
      },
      {
        "duration": 2423,
        "start_time": "2023-02-02T15:56:19.026Z"
      },
      {
        "duration": 570,
        "start_time": "2023-02-02T15:56:21.451Z"
      },
      {
        "duration": 8,
        "start_time": "2023-02-02T15:56:22.023Z"
      },
      {
        "duration": 7,
        "start_time": "2023-02-02T15:56:22.033Z"
      },
      {
        "duration": 4,
        "start_time": "2023-02-02T16:01:00.899Z"
      },
      {
        "duration": 1617,
        "start_time": "2023-02-02T18:11:41.262Z"
      },
      {
        "duration": 130,
        "start_time": "2023-02-02T18:11:42.882Z"
      },
      {
        "duration": 11,
        "start_time": "2023-02-02T18:11:43.014Z"
      },
      {
        "duration": 40,
        "start_time": "2023-02-02T18:11:43.027Z"
      },
      {
        "duration": 11,
        "start_time": "2023-02-02T18:11:43.081Z"
      },
      {
        "duration": 773,
        "start_time": "2023-02-02T18:11:43.093Z"
      },
      {
        "duration": 251,
        "start_time": "2023-02-02T18:11:43.868Z"
      },
      {
        "duration": 753,
        "start_time": "2023-02-02T18:11:44.120Z"
      },
      {
        "duration": 25,
        "start_time": "2023-02-02T18:11:44.874Z"
      },
      {
        "duration": 16,
        "start_time": "2023-02-02T18:11:44.902Z"
      },
      {
        "duration": 4,
        "start_time": "2023-02-02T18:11:44.919Z"
      },
      {
        "duration": 8,
        "start_time": "2023-02-02T18:11:44.925Z"
      },
      {
        "duration": 48,
        "start_time": "2023-02-02T18:11:44.935Z"
      },
      {
        "duration": 4437,
        "start_time": "2023-02-02T18:11:44.984Z"
      },
      {
        "duration": 932,
        "start_time": "2023-02-02T18:11:49.422Z"
      },
      {
        "duration": 7,
        "start_time": "2023-02-02T18:11:50.356Z"
      },
      {
        "duration": 7,
        "start_time": "2023-02-02T18:11:50.381Z"
      },
      {
        "duration": 10,
        "start_time": "2023-02-02T18:17:06.172Z"
      },
      {
        "duration": 7,
        "start_time": "2023-02-02T18:17:13.821Z"
      },
      {
        "duration": 1869,
        "start_time": "2023-02-03T06:20:45.260Z"
      },
      {
        "duration": 195,
        "start_time": "2023-02-03T06:20:47.131Z"
      },
      {
        "duration": 15,
        "start_time": "2023-02-03T06:20:47.327Z"
      },
      {
        "duration": 38,
        "start_time": "2023-02-03T06:20:47.345Z"
      },
      {
        "duration": 17,
        "start_time": "2023-02-03T06:20:47.386Z"
      },
      {
        "duration": 854,
        "start_time": "2023-02-03T06:20:47.405Z"
      },
      {
        "duration": 293,
        "start_time": "2023-02-03T06:20:48.261Z"
      },
      {
        "duration": 822,
        "start_time": "2023-02-03T06:20:48.556Z"
      },
      {
        "duration": 31,
        "start_time": "2023-02-03T06:20:49.379Z"
      },
      {
        "duration": 18,
        "start_time": "2023-02-03T06:20:49.413Z"
      },
      {
        "duration": 4,
        "start_time": "2023-02-03T06:20:49.433Z"
      },
      {
        "duration": 11,
        "start_time": "2023-02-03T06:20:49.439Z"
      },
      {
        "duration": 13,
        "start_time": "2023-02-03T06:20:49.484Z"
      },
      {
        "duration": 5740,
        "start_time": "2023-02-03T06:20:49.500Z"
      },
      {
        "duration": 1325,
        "start_time": "2023-02-03T06:20:55.242Z"
      },
      {
        "duration": 22,
        "start_time": "2023-02-03T06:20:56.569Z"
      },
      {
        "duration": 37,
        "start_time": "2023-02-03T06:20:56.594Z"
      },
      {
        "duration": 1582,
        "start_time": "2023-02-03T06:24:19.148Z"
      },
      {
        "duration": 54,
        "start_time": "2023-02-03T06:24:20.732Z"
      },
      {
        "duration": 12,
        "start_time": "2023-02-03T06:24:20.788Z"
      },
      {
        "duration": 55,
        "start_time": "2023-02-03T06:24:20.802Z"
      },
      {
        "duration": 12,
        "start_time": "2023-02-03T06:24:20.859Z"
      },
      {
        "duration": 736,
        "start_time": "2023-02-03T06:24:20.874Z"
      },
      {
        "duration": 267,
        "start_time": "2023-02-03T06:24:21.612Z"
      },
      {
        "duration": 733,
        "start_time": "2023-02-03T06:24:21.881Z"
      },
      {
        "duration": 22,
        "start_time": "2023-02-03T06:24:22.616Z"
      },
      {
        "duration": 19,
        "start_time": "2023-02-03T06:24:22.640Z"
      },
      {
        "duration": 4,
        "start_time": "2023-02-03T06:24:22.683Z"
      },
      {
        "duration": 12,
        "start_time": "2023-02-03T06:24:22.690Z"
      },
      {
        "duration": 10,
        "start_time": "2023-02-03T06:24:22.704Z"
      },
      {
        "duration": 5196,
        "start_time": "2023-02-03T06:24:22.716Z"
      },
      {
        "duration": 1103,
        "start_time": "2023-02-03T06:24:27.914Z"
      },
      {
        "duration": 8,
        "start_time": "2023-02-03T06:24:29.018Z"
      },
      {
        "duration": 24,
        "start_time": "2023-02-03T06:24:29.028Z"
      },
      {
        "duration": 52,
        "start_time": "2023-02-03T06:32:40.761Z"
      },
      {
        "duration": 1510,
        "start_time": "2023-02-03T06:34:41.124Z"
      },
      {
        "duration": 54,
        "start_time": "2023-02-03T06:34:42.636Z"
      },
      {
        "duration": 39,
        "start_time": "2023-02-03T06:34:42.692Z"
      },
      {
        "duration": 11,
        "start_time": "2023-02-03T06:34:42.733Z"
      },
      {
        "duration": 759,
        "start_time": "2023-02-03T06:34:42.746Z"
      },
      {
        "duration": 333,
        "start_time": "2023-02-03T06:34:43.507Z"
      },
      {
        "duration": 734,
        "start_time": "2023-02-03T06:34:43.842Z"
      },
      {
        "duration": 25,
        "start_time": "2023-02-03T06:34:44.578Z"
      },
      {
        "duration": 18,
        "start_time": "2023-02-03T06:34:44.605Z"
      },
      {
        "duration": 3,
        "start_time": "2023-02-03T06:34:44.626Z"
      },
      {
        "duration": 11,
        "start_time": "2023-02-03T06:34:44.631Z"
      },
      {
        "duration": 44,
        "start_time": "2023-02-03T06:34:44.644Z"
      },
      {
        "duration": 5106,
        "start_time": "2023-02-03T06:34:44.690Z"
      },
      {
        "duration": 1224,
        "start_time": "2023-02-03T06:34:49.798Z"
      },
      {
        "duration": 9,
        "start_time": "2023-02-03T06:34:51.024Z"
      },
      {
        "duration": 55,
        "start_time": "2023-02-03T06:34:51.035Z"
      },
      {
        "duration": 14,
        "start_time": "2023-02-03T06:41:41.981Z"
      },
      {
        "duration": 22,
        "start_time": "2023-02-03T06:42:56.908Z"
      },
      {
        "duration": 14,
        "start_time": "2023-02-03T06:45:52.927Z"
      },
      {
        "duration": 1545,
        "start_time": "2023-02-03T06:46:04.875Z"
      },
      {
        "duration": 54,
        "start_time": "2023-02-03T06:46:06.422Z"
      },
      {
        "duration": 48,
        "start_time": "2023-02-03T06:46:06.477Z"
      },
      {
        "duration": 12,
        "start_time": "2023-02-03T06:46:06.527Z"
      },
      {
        "duration": 759,
        "start_time": "2023-02-03T06:46:06.540Z"
      },
      {
        "duration": 279,
        "start_time": "2023-02-03T06:46:07.301Z"
      },
      {
        "duration": 771,
        "start_time": "2023-02-03T06:46:07.584Z"
      },
      {
        "duration": 35,
        "start_time": "2023-02-03T06:46:08.357Z"
      },
      {
        "duration": 12,
        "start_time": "2023-02-03T06:46:08.394Z"
      },
      {
        "duration": 40,
        "start_time": "2023-02-03T06:46:08.410Z"
      },
      {
        "duration": 10,
        "start_time": "2023-02-03T06:46:08.452Z"
      },
      {
        "duration": 31,
        "start_time": "2023-02-03T06:46:08.464Z"
      },
      {
        "duration": 27,
        "start_time": "2023-02-03T06:46:08.498Z"
      },
      {
        "duration": 4729,
        "start_time": "2023-02-03T06:46:08.527Z"
      },
      {
        "duration": 1035,
        "start_time": "2023-02-03T06:46:13.258Z"
      },
      {
        "duration": 10,
        "start_time": "2023-02-03T06:46:14.295Z"
      },
      {
        "duration": 12,
        "start_time": "2023-02-03T06:46:14.306Z"
      },
      {
        "duration": 53,
        "start_time": "2023-02-03T07:41:51.886Z"
      },
      {
        "duration": 44,
        "start_time": "2023-02-03T07:59:28.623Z"
      },
      {
        "duration": 1323,
        "start_time": "2023-02-03T08:19:22.317Z"
      },
      {
        "duration": 8,
        "start_time": "2023-02-03T08:19:37.429Z"
      },
      {
        "duration": 1102,
        "start_time": "2023-02-03T08:22:15.704Z"
      },
      {
        "duration": 9,
        "start_time": "2023-02-03T08:22:23.010Z"
      },
      {
        "duration": 1596,
        "start_time": "2023-02-03T14:59:26.353Z"
      },
      {
        "duration": 142,
        "start_time": "2023-02-03T14:59:27.951Z"
      },
      {
        "duration": 34,
        "start_time": "2023-02-03T14:59:28.095Z"
      },
      {
        "duration": 9,
        "start_time": "2023-02-03T14:59:28.131Z"
      },
      {
        "duration": 583,
        "start_time": "2023-02-03T14:59:28.141Z"
      },
      {
        "duration": 227,
        "start_time": "2023-02-03T14:59:28.725Z"
      },
      {
        "duration": 710,
        "start_time": "2023-02-03T14:59:28.953Z"
      },
      {
        "duration": 20,
        "start_time": "2023-02-03T14:59:29.665Z"
      },
      {
        "duration": 25,
        "start_time": "2023-02-03T14:59:29.686Z"
      },
      {
        "duration": 15,
        "start_time": "2023-02-03T14:59:29.713Z"
      },
      {
        "duration": 3,
        "start_time": "2023-02-03T14:59:29.729Z"
      },
      {
        "duration": 11,
        "start_time": "2023-02-03T14:59:29.733Z"
      },
      {
        "duration": 9,
        "start_time": "2023-02-03T14:59:29.746Z"
      },
      {
        "duration": 4616,
        "start_time": "2023-02-03T14:59:29.757Z"
      },
      {
        "duration": 969,
        "start_time": "2023-02-03T14:59:34.375Z"
      },
      {
        "duration": 758,
        "start_time": "2023-02-03T14:59:35.346Z"
      },
      {
        "duration": 6,
        "start_time": "2023-02-03T14:59:36.106Z"
      },
      {
        "duration": 15,
        "start_time": "2023-02-03T14:59:36.113Z"
      },
      {
        "duration": 9,
        "start_time": "2023-02-03T14:59:36.129Z"
      },
      {
        "duration": 727,
        "start_time": "2023-02-03T14:59:36.139Z"
      },
      {
        "duration": 7,
        "start_time": "2023-02-03T14:59:36.868Z"
      },
      {
        "duration": 48,
        "start_time": "2023-02-03T15:17:52.142Z"
      },
      {
        "duration": 44,
        "start_time": "2023-02-03T15:18:03.740Z"
      },
      {
        "duration": 8,
        "start_time": "2023-02-03T15:18:20.336Z"
      },
      {
        "duration": 5,
        "start_time": "2023-02-03T15:19:46.443Z"
      },
      {
        "duration": 7,
        "start_time": "2023-02-03T15:22:21.527Z"
      },
      {
        "duration": 94,
        "start_time": "2023-02-03T15:27:59.646Z"
      },
      {
        "duration": 11,
        "start_time": "2023-02-03T15:28:03.776Z"
      },
      {
        "duration": 10,
        "start_time": "2023-02-03T15:28:33.239Z"
      },
      {
        "duration": 8,
        "start_time": "2023-02-03T15:29:24.259Z"
      },
      {
        "duration": 19,
        "start_time": "2023-02-03T15:34:07.724Z"
      },
      {
        "duration": 24,
        "start_time": "2023-02-03T15:34:11.215Z"
      },
      {
        "duration": 25,
        "start_time": "2023-02-03T15:34:39.530Z"
      },
      {
        "duration": 22,
        "start_time": "2023-02-03T15:34:58.399Z"
      },
      {
        "duration": 8,
        "start_time": "2023-02-03T15:35:25.385Z"
      },
      {
        "duration": 7,
        "start_time": "2023-02-03T15:36:14.202Z"
      },
      {
        "duration": 1425,
        "start_time": "2023-02-03T15:39:12.678Z"
      },
      {
        "duration": 50,
        "start_time": "2023-02-03T15:39:14.105Z"
      },
      {
        "duration": 33,
        "start_time": "2023-02-03T15:39:14.157Z"
      },
      {
        "duration": 10,
        "start_time": "2023-02-03T15:39:14.192Z"
      },
      {
        "duration": 590,
        "start_time": "2023-02-03T15:39:14.203Z"
      },
      {
        "duration": 240,
        "start_time": "2023-02-03T15:39:14.795Z"
      },
      {
        "duration": 661,
        "start_time": "2023-02-03T15:39:15.036Z"
      },
      {
        "duration": 25,
        "start_time": "2023-02-03T15:39:15.700Z"
      },
      {
        "duration": 11,
        "start_time": "2023-02-03T15:39:15.726Z"
      },
      {
        "duration": 15,
        "start_time": "2023-02-03T15:39:15.740Z"
      },
      {
        "duration": 4,
        "start_time": "2023-02-03T15:39:15.756Z"
      },
      {
        "duration": 13,
        "start_time": "2023-02-03T15:39:15.761Z"
      },
      {
        "duration": 44,
        "start_time": "2023-02-03T15:39:15.775Z"
      },
      {
        "duration": 4569,
        "start_time": "2023-02-03T15:39:15.820Z"
      },
      {
        "duration": 981,
        "start_time": "2023-02-03T15:39:20.390Z"
      },
      {
        "duration": 814,
        "start_time": "2023-02-03T15:39:21.372Z"
      },
      {
        "duration": 9,
        "start_time": "2023-02-03T15:39:22.187Z"
      },
      {
        "duration": 8,
        "start_time": "2023-02-03T15:39:22.197Z"
      },
      {
        "duration": 11,
        "start_time": "2023-02-03T15:39:22.207Z"
      },
      {
        "duration": 10,
        "start_time": "2023-02-03T15:39:22.220Z"
      },
      {
        "duration": 203,
        "start_time": "2023-02-03T15:39:22.232Z"
      },
      {
        "duration": 11,
        "start_time": "2023-02-03T15:39:22.437Z"
      },
      {
        "duration": 17,
        "start_time": "2023-02-03T15:39:22.450Z"
      },
      {
        "duration": 8,
        "start_time": "2023-02-03T15:39:22.469Z"
      },
      {
        "duration": 735,
        "start_time": "2023-02-03T15:39:22.478Z"
      },
      {
        "duration": 7,
        "start_time": "2023-02-03T15:39:23.214Z"
      },
      {
        "duration": 7,
        "start_time": "2023-02-03T15:39:23.222Z"
      },
      {
        "duration": 55,
        "start_time": "2023-02-04T08:34:13.705Z"
      },
      {
        "duration": 1591,
        "start_time": "2023-02-04T08:34:27.772Z"
      },
      {
        "duration": 140,
        "start_time": "2023-02-04T08:34:29.365Z"
      },
      {
        "duration": 34,
        "start_time": "2023-02-04T08:34:29.506Z"
      },
      {
        "duration": 10,
        "start_time": "2023-02-04T08:34:29.542Z"
      },
      {
        "duration": 659,
        "start_time": "2023-02-04T08:34:29.553Z"
      },
      {
        "duration": 225,
        "start_time": "2023-02-04T08:34:30.214Z"
      },
      {
        "duration": 723,
        "start_time": "2023-02-04T08:34:30.441Z"
      },
      {
        "duration": 19,
        "start_time": "2023-02-04T08:34:31.165Z"
      },
      {
        "duration": 13,
        "start_time": "2023-02-04T08:34:31.186Z"
      },
      {
        "duration": 26,
        "start_time": "2023-02-04T08:34:31.201Z"
      },
      {
        "duration": 23,
        "start_time": "2023-02-04T08:34:31.230Z"
      },
      {
        "duration": 25,
        "start_time": "2023-02-04T08:34:31.255Z"
      },
      {
        "duration": 27,
        "start_time": "2023-02-04T08:34:31.282Z"
      },
      {
        "duration": 4040,
        "start_time": "2023-02-04T08:34:31.310Z"
      },
      {
        "duration": 853,
        "start_time": "2023-02-04T08:34:35.351Z"
      },
      {
        "duration": 960,
        "start_time": "2023-02-04T08:34:36.206Z"
      },
      {
        "duration": 6,
        "start_time": "2023-02-04T08:34:37.168Z"
      },
      {
        "duration": 9,
        "start_time": "2023-02-04T08:34:37.175Z"
      },
      {
        "duration": 14,
        "start_time": "2023-02-04T08:34:37.185Z"
      },
      {
        "duration": 7,
        "start_time": "2023-02-04T08:34:37.200Z"
      },
      {
        "duration": 154,
        "start_time": "2023-02-04T08:34:37.208Z"
      },
      {
        "duration": 11,
        "start_time": "2023-02-04T08:34:37.364Z"
      },
      {
        "duration": 17,
        "start_time": "2023-02-04T08:34:37.377Z"
      },
      {
        "duration": 7,
        "start_time": "2023-02-04T08:34:37.395Z"
      },
      {
        "duration": 880,
        "start_time": "2023-02-04T08:34:37.404Z"
      },
      {
        "duration": 6,
        "start_time": "2023-02-04T08:34:38.286Z"
      },
      {
        "duration": 8,
        "start_time": "2023-02-04T08:34:38.294Z"
      },
      {
        "duration": 15,
        "start_time": "2023-02-04T08:39:40.959Z"
      },
      {
        "duration": 7,
        "start_time": "2023-02-04T08:39:49.404Z"
      },
      {
        "duration": 1421,
        "start_time": "2023-02-04T08:41:00.011Z"
      },
      {
        "duration": 53,
        "start_time": "2023-02-04T08:41:01.433Z"
      },
      {
        "duration": 33,
        "start_time": "2023-02-04T08:41:01.488Z"
      },
      {
        "duration": 14,
        "start_time": "2023-02-04T08:41:01.523Z"
      },
      {
        "duration": 685,
        "start_time": "2023-02-04T08:41:01.538Z"
      },
      {
        "duration": 217,
        "start_time": "2023-02-04T08:41:02.225Z"
      },
      {
        "duration": 656,
        "start_time": "2023-02-04T08:41:02.443Z"
      },
      {
        "duration": 23,
        "start_time": "2023-02-04T08:41:03.100Z"
      },
      {
        "duration": 26,
        "start_time": "2023-02-04T08:41:03.125Z"
      },
      {
        "duration": 14,
        "start_time": "2023-02-04T08:41:03.153Z"
      },
      {
        "duration": 4,
        "start_time": "2023-02-04T08:41:03.169Z"
      },
      {
        "duration": 8,
        "start_time": "2023-02-04T08:41:03.175Z"
      },
      {
        "duration": 165,
        "start_time": "2023-02-04T08:41:03.184Z"
      },
      {
        "duration": 5857,
        "start_time": "2023-02-04T08:41:03.352Z"
      },
      {
        "duration": 1250,
        "start_time": "2023-02-04T08:41:09.211Z"
      },
      {
        "duration": 1020,
        "start_time": "2023-02-04T08:41:10.462Z"
      },
      {
        "duration": 6,
        "start_time": "2023-02-04T08:41:11.484Z"
      },
      {
        "duration": 7,
        "start_time": "2023-02-04T08:41:11.492Z"
      },
      {
        "duration": 15,
        "start_time": "2023-02-04T08:41:11.500Z"
      },
      {
        "duration": 12,
        "start_time": "2023-02-04T08:41:11.516Z"
      },
      {
        "duration": 189,
        "start_time": "2023-02-04T08:41:11.549Z"
      },
      {
        "duration": 9,
        "start_time": "2023-02-04T08:41:11.748Z"
      },
      {
        "duration": 20,
        "start_time": "2023-02-04T08:41:11.759Z"
      },
      {
        "duration": 7,
        "start_time": "2023-02-04T08:41:11.781Z"
      },
      {
        "duration": 1000,
        "start_time": "2023-02-04T08:41:11.789Z"
      },
      {
        "duration": 6,
        "start_time": "2023-02-04T08:41:12.790Z"
      },
      {
        "duration": 15,
        "start_time": "2023-02-04T08:41:12.797Z"
      },
      {
        "duration": 126,
        "start_time": "2023-02-04T08:42:12.348Z"
      },
      {
        "duration": 12,
        "start_time": "2023-02-04T08:42:16.520Z"
      },
      {
        "duration": 23,
        "start_time": "2023-02-04T08:43:10.840Z"
      },
      {
        "duration": 7,
        "start_time": "2023-02-04T08:43:15.848Z"
      },
      {
        "duration": 1324,
        "start_time": "2023-02-04T08:44:56.197Z"
      },
      {
        "duration": 56,
        "start_time": "2023-02-04T08:44:57.522Z"
      },
      {
        "duration": 35,
        "start_time": "2023-02-04T08:44:57.580Z"
      },
      {
        "duration": 10,
        "start_time": "2023-02-04T08:44:57.617Z"
      },
      {
        "duration": 681,
        "start_time": "2023-02-04T08:44:57.628Z"
      },
      {
        "duration": 239,
        "start_time": "2023-02-04T08:44:58.311Z"
      },
      {
        "duration": 664,
        "start_time": "2023-02-04T08:44:58.552Z"
      },
      {
        "duration": 39,
        "start_time": "2023-02-04T08:44:59.218Z"
      },
      {
        "duration": 11,
        "start_time": "2023-02-04T08:44:59.259Z"
      },
      {
        "duration": 16,
        "start_time": "2023-02-04T08:44:59.273Z"
      },
      {
        "duration": 4,
        "start_time": "2023-02-04T08:44:59.290Z"
      },
      {
        "duration": 11,
        "start_time": "2023-02-04T08:44:59.295Z"
      },
      {
        "duration": 141,
        "start_time": "2023-02-04T08:44:59.309Z"
      },
      {
        "duration": 7136,
        "start_time": "2023-02-04T08:44:59.453Z"
      },
      {
        "duration": 1518,
        "start_time": "2023-02-04T08:45:06.591Z"
      },
      {
        "duration": 1140,
        "start_time": "2023-02-04T08:45:08.111Z"
      },
      {
        "duration": 7,
        "start_time": "2023-02-04T08:45:09.253Z"
      },
      {
        "duration": 7,
        "start_time": "2023-02-04T08:45:09.262Z"
      },
      {
        "duration": 18,
        "start_time": "2023-02-04T08:45:09.270Z"
      },
      {
        "duration": 63,
        "start_time": "2023-02-04T08:45:09.289Z"
      },
      {
        "duration": 255,
        "start_time": "2023-02-04T08:45:09.354Z"
      },
      {
        "duration": 10,
        "start_time": "2023-02-04T08:45:09.611Z"
      },
      {
        "duration": 41,
        "start_time": "2023-02-04T08:45:09.623Z"
      },
      {
        "duration": 9,
        "start_time": "2023-02-04T08:45:09.666Z"
      },
      {
        "duration": 1223,
        "start_time": "2023-02-04T08:45:09.676Z"
      },
      {
        "duration": 7,
        "start_time": "2023-02-04T08:45:10.901Z"
      },
      {
        "duration": 10,
        "start_time": "2023-02-04T08:45:10.910Z"
      },
      {
        "duration": 7,
        "start_time": "2023-02-04T08:46:06.930Z"
      },
      {
        "duration": 165,
        "start_time": "2023-02-04T08:46:27.274Z"
      },
      {
        "duration": 12,
        "start_time": "2023-02-04T08:46:33.742Z"
      },
      {
        "duration": 1445,
        "start_time": "2023-02-04T08:47:28.121Z"
      },
      {
        "duration": 58,
        "start_time": "2023-02-04T08:47:29.569Z"
      },
      {
        "duration": 37,
        "start_time": "2023-02-04T08:47:29.628Z"
      },
      {
        "duration": 9,
        "start_time": "2023-02-04T08:47:29.667Z"
      },
      {
        "duration": 693,
        "start_time": "2023-02-04T08:47:29.677Z"
      },
      {
        "duration": 235,
        "start_time": "2023-02-04T08:47:30.372Z"
      },
      {
        "duration": 714,
        "start_time": "2023-02-04T08:47:30.608Z"
      },
      {
        "duration": 43,
        "start_time": "2023-02-04T08:47:31.323Z"
      },
      {
        "duration": 14,
        "start_time": "2023-02-04T08:47:31.367Z"
      },
      {
        "duration": 40,
        "start_time": "2023-02-04T08:47:31.384Z"
      },
      {
        "duration": 42,
        "start_time": "2023-02-04T08:47:31.426Z"
      },
      {
        "duration": 17,
        "start_time": "2023-02-04T08:47:31.469Z"
      },
      {
        "duration": 65,
        "start_time": "2023-02-04T08:47:31.488Z"
      },
      {
        "duration": 11840,
        "start_time": "2023-02-04T08:47:31.555Z"
      },
      {
        "duration": 2607,
        "start_time": "2023-02-04T08:47:43.396Z"
      },
      {
        "duration": 1389,
        "start_time": "2023-02-04T08:47:46.004Z"
      },
      {
        "duration": 7,
        "start_time": "2023-02-04T08:47:47.394Z"
      },
      {
        "duration": 11,
        "start_time": "2023-02-04T08:47:47.403Z"
      },
      {
        "duration": 16,
        "start_time": "2023-02-04T08:47:47.416Z"
      },
      {
        "duration": 27,
        "start_time": "2023-02-04T08:47:47.434Z"
      },
      {
        "duration": 458,
        "start_time": "2023-02-04T08:47:47.463Z"
      },
      {
        "duration": 11,
        "start_time": "2023-02-04T08:47:47.923Z"
      },
      {
        "duration": 55,
        "start_time": "2023-02-04T08:47:47.936Z"
      },
      {
        "duration": 10,
        "start_time": "2023-02-04T08:47:47.992Z"
      },
      {
        "duration": 1336,
        "start_time": "2023-02-04T08:47:48.003Z"
      },
      {
        "duration": 7,
        "start_time": "2023-02-04T08:47:49.341Z"
      },
      {
        "duration": 27,
        "start_time": "2023-02-04T08:47:49.349Z"
      },
      {
        "duration": 1355,
        "start_time": "2023-02-04T08:55:14.293Z"
      },
      {
        "duration": 55,
        "start_time": "2023-02-04T08:55:15.650Z"
      },
      {
        "duration": 37,
        "start_time": "2023-02-04T08:55:15.706Z"
      },
      {
        "duration": 8,
        "start_time": "2023-02-04T08:55:15.745Z"
      },
      {
        "duration": 704,
        "start_time": "2023-02-04T08:55:15.754Z"
      },
      {
        "duration": 234,
        "start_time": "2023-02-04T08:55:16.460Z"
      },
      {
        "duration": 657,
        "start_time": "2023-02-04T08:55:16.697Z"
      },
      {
        "duration": 48,
        "start_time": "2023-02-04T08:55:17.356Z"
      },
      {
        "duration": 14,
        "start_time": "2023-02-04T08:55:17.406Z"
      },
      {
        "duration": 38,
        "start_time": "2023-02-04T08:55:17.422Z"
      },
      {
        "duration": 5,
        "start_time": "2023-02-04T08:55:17.461Z"
      },
      {
        "duration": 27,
        "start_time": "2023-02-04T08:55:17.467Z"
      },
      {
        "duration": 158,
        "start_time": "2023-02-04T08:55:17.496Z"
      },
      {
        "duration": 11402,
        "start_time": "2023-02-04T08:55:17.656Z"
      },
      {
        "duration": 2474,
        "start_time": "2023-02-04T08:55:29.059Z"
      },
      {
        "duration": 1412,
        "start_time": "2023-02-04T08:55:31.535Z"
      },
      {
        "duration": 6,
        "start_time": "2023-02-04T08:55:32.949Z"
      },
      {
        "duration": 10,
        "start_time": "2023-02-04T08:55:32.957Z"
      },
      {
        "duration": 10,
        "start_time": "2023-02-04T08:55:32.969Z"
      },
      {
        "duration": 171,
        "start_time": "2023-02-04T08:55:32.982Z"
      },
      {
        "duration": 419,
        "start_time": "2023-02-04T08:55:33.157Z"
      },
      {
        "duration": 10,
        "start_time": "2023-02-04T08:55:33.578Z"
      },
      {
        "duration": 46,
        "start_time": "2023-02-04T08:55:33.589Z"
      },
      {
        "duration": 17,
        "start_time": "2023-02-04T08:55:33.637Z"
      },
      {
        "duration": 1383,
        "start_time": "2023-02-04T08:55:33.656Z"
      },
      {
        "duration": 8,
        "start_time": "2023-02-04T08:55:35.041Z"
      },
      {
        "duration": 40,
        "start_time": "2023-02-04T08:55:35.051Z"
      },
      {
        "duration": 1386,
        "start_time": "2023-02-04T08:56:55.062Z"
      },
      {
        "duration": 55,
        "start_time": "2023-02-04T08:56:56.450Z"
      },
      {
        "duration": 33,
        "start_time": "2023-02-04T08:56:56.506Z"
      },
      {
        "duration": 9,
        "start_time": "2023-02-04T08:56:56.541Z"
      },
      {
        "duration": 678,
        "start_time": "2023-02-04T08:56:56.552Z"
      },
      {
        "duration": 241,
        "start_time": "2023-02-04T08:56:57.231Z"
      },
      {
        "duration": 669,
        "start_time": "2023-02-04T08:56:57.474Z"
      },
      {
        "duration": 39,
        "start_time": "2023-02-04T08:56:58.148Z"
      },
      {
        "duration": 14,
        "start_time": "2023-02-04T08:56:58.189Z"
      },
      {
        "duration": 17,
        "start_time": "2023-02-04T08:56:58.205Z"
      },
      {
        "duration": 6,
        "start_time": "2023-02-04T08:56:58.248Z"
      },
      {
        "duration": 11,
        "start_time": "2023-02-04T08:56:58.255Z"
      },
      {
        "duration": 182,
        "start_time": "2023-02-04T08:56:58.267Z"
      },
      {
        "duration": 11674,
        "start_time": "2023-02-04T08:56:58.453Z"
      },
      {
        "duration": 2480,
        "start_time": "2023-02-04T08:57:10.129Z"
      },
      {
        "duration": 1466,
        "start_time": "2023-02-04T08:57:12.610Z"
      },
      {
        "duration": 7,
        "start_time": "2023-02-04T08:57:14.078Z"
      },
      {
        "duration": 14,
        "start_time": "2023-02-04T08:57:14.086Z"
      },
      {
        "duration": 21,
        "start_time": "2023-02-04T08:57:14.101Z"
      },
      {
        "duration": 132,
        "start_time": "2023-02-04T08:57:14.124Z"
      },
      {
        "duration": 454,
        "start_time": "2023-02-04T08:57:14.258Z"
      },
      {
        "duration": 11,
        "start_time": "2023-02-04T08:57:14.714Z"
      },
      {
        "duration": 54,
        "start_time": "2023-02-04T08:57:14.727Z"
      },
      {
        "duration": 8,
        "start_time": "2023-02-04T08:57:14.783Z"
      },
      {
        "duration": 1381,
        "start_time": "2023-02-04T08:57:14.792Z"
      },
      {
        "duration": 7,
        "start_time": "2023-02-04T08:57:16.174Z"
      },
      {
        "duration": 9,
        "start_time": "2023-02-04T08:57:16.183Z"
      },
      {
        "duration": 1506,
        "start_time": "2023-02-04T09:01:17.537Z"
      },
      {
        "duration": 54,
        "start_time": "2023-02-04T09:01:19.045Z"
      },
      {
        "duration": 36,
        "start_time": "2023-02-04T09:01:19.100Z"
      },
      {
        "duration": 9,
        "start_time": "2023-02-04T09:01:19.138Z"
      },
      {
        "duration": 673,
        "start_time": "2023-02-04T09:01:19.149Z"
      },
      {
        "duration": 247,
        "start_time": "2023-02-04T09:01:19.823Z"
      },
      {
        "duration": 662,
        "start_time": "2023-02-04T09:01:20.072Z"
      },
      {
        "duration": 44,
        "start_time": "2023-02-04T09:01:20.735Z"
      },
      {
        "duration": 12,
        "start_time": "2023-02-04T09:01:20.781Z"
      },
      {
        "duration": 15,
        "start_time": "2023-02-04T09:01:20.795Z"
      },
      {
        "duration": 25,
        "start_time": "2023-02-04T09:01:20.811Z"
      },
      {
        "duration": 19,
        "start_time": "2023-02-04T09:01:20.838Z"
      },
      {
        "duration": 191,
        "start_time": "2023-02-04T09:01:20.859Z"
      },
      {
        "duration": 290505,
        "start_time": "2023-02-04T09:01:21.053Z"
      },
      {
        "duration": 5617,
        "start_time": "2023-02-04T09:06:11.560Z"
      },
      {
        "duration": 1417,
        "start_time": "2023-02-04T09:06:17.179Z"
      },
      {
        "duration": 9,
        "start_time": "2023-02-04T09:06:18.597Z"
      },
      {
        "duration": 10,
        "start_time": "2023-02-04T09:06:18.607Z"
      },
      {
        "duration": 14,
        "start_time": "2023-02-04T09:06:18.619Z"
      },
      {
        "duration": 116,
        "start_time": "2023-02-04T09:06:18.634Z"
      },
      {
        "duration": 367,
        "start_time": "2023-02-04T09:06:18.752Z"
      },
      {
        "duration": 13,
        "start_time": "2023-02-04T09:06:19.121Z"
      },
      {
        "duration": 49,
        "start_time": "2023-02-04T09:06:19.136Z"
      },
      {
        "duration": 8,
        "start_time": "2023-02-04T09:06:19.187Z"
      },
      {
        "duration": 1416,
        "start_time": "2023-02-04T09:06:19.197Z"
      },
      {
        "duration": 7,
        "start_time": "2023-02-04T09:06:20.614Z"
      },
      {
        "duration": 16,
        "start_time": "2023-02-04T09:06:20.622Z"
      },
      {
        "duration": 811,
        "start_time": "2023-02-04T09:06:49.705Z"
      },
      {
        "duration": 15,
        "start_time": "2023-02-04T09:06:55.744Z"
      },
      {
        "duration": 1320,
        "start_time": "2023-02-04T09:13:49.999Z"
      },
      {
        "duration": 55,
        "start_time": "2023-02-04T09:13:51.322Z"
      },
      {
        "duration": 38,
        "start_time": "2023-02-04T09:13:51.378Z"
      },
      {
        "duration": 8,
        "start_time": "2023-02-04T09:13:51.418Z"
      },
      {
        "duration": 693,
        "start_time": "2023-02-04T09:13:51.428Z"
      },
      {
        "duration": 226,
        "start_time": "2023-02-04T09:13:52.123Z"
      },
      {
        "duration": 701,
        "start_time": "2023-02-04T09:13:52.351Z"
      },
      {
        "duration": 41,
        "start_time": "2023-02-04T09:13:53.053Z"
      },
      {
        "duration": 13,
        "start_time": "2023-02-04T09:13:53.095Z"
      },
      {
        "duration": 40,
        "start_time": "2023-02-04T09:13:53.109Z"
      },
      {
        "duration": 6,
        "start_time": "2023-02-04T09:13:53.150Z"
      },
      {
        "duration": 18,
        "start_time": "2023-02-04T09:13:53.157Z"
      },
      {
        "duration": 183,
        "start_time": "2023-02-04T09:13:53.178Z"
      },
      {
        "duration": 327456,
        "start_time": "2023-02-04T09:13:53.365Z"
      },
      {
        "duration": 5737,
        "start_time": "2023-02-04T09:19:20.823Z"
      },
      {
        "duration": 1400,
        "start_time": "2023-02-04T09:19:26.561Z"
      },
      {
        "duration": 8,
        "start_time": "2023-02-04T09:19:27.962Z"
      },
      {
        "duration": 8,
        "start_time": "2023-02-04T09:19:27.971Z"
      },
      {
        "duration": 17,
        "start_time": "2023-02-04T09:19:27.980Z"
      },
      {
        "duration": 252,
        "start_time": "2023-02-04T09:19:27.999Z"
      },
      {
        "duration": 927,
        "start_time": "2023-02-04T09:19:28.255Z"
      },
      {
        "duration": 19,
        "start_time": "2023-02-04T09:19:29.184Z"
      },
      {
        "duration": 50,
        "start_time": "2023-02-04T09:19:29.205Z"
      },
      {
        "duration": 8,
        "start_time": "2023-02-04T09:19:29.257Z"
      },
      {
        "duration": 1433,
        "start_time": "2023-02-04T09:19:29.266Z"
      },
      {
        "duration": 7,
        "start_time": "2023-02-04T09:19:30.701Z"
      },
      {
        "duration": 42,
        "start_time": "2023-02-04T09:19:30.710Z"
      },
      {
        "duration": 535,
        "start_time": "2023-02-04T09:22:42.745Z"
      },
      {
        "duration": 13,
        "start_time": "2023-02-04T09:22:52.826Z"
      },
      {
        "duration": 8,
        "start_time": "2023-02-04T14:02:57.796Z"
      },
      {
        "duration": 80,
        "start_time": "2023-02-04T14:06:47.015Z"
      },
      {
        "duration": 1639,
        "start_time": "2023-02-04T14:06:53.487Z"
      },
      {
        "duration": 152,
        "start_time": "2023-02-04T14:06:55.128Z"
      },
      {
        "duration": 37,
        "start_time": "2023-02-04T14:06:55.281Z"
      },
      {
        "duration": 10,
        "start_time": "2023-02-04T14:06:55.320Z"
      },
      {
        "duration": 673,
        "start_time": "2023-02-04T14:06:55.332Z"
      },
      {
        "duration": 222,
        "start_time": "2023-02-04T14:06:56.007Z"
      },
      {
        "duration": 702,
        "start_time": "2023-02-04T14:06:56.231Z"
      },
      {
        "duration": 40,
        "start_time": "2023-02-04T14:06:56.934Z"
      },
      {
        "duration": 23,
        "start_time": "2023-02-04T14:06:56.976Z"
      },
      {
        "duration": 15,
        "start_time": "2023-02-04T14:06:57.001Z"
      },
      {
        "duration": 6,
        "start_time": "2023-02-04T14:06:57.017Z"
      },
      {
        "duration": 14,
        "start_time": "2023-02-04T14:06:57.024Z"
      },
      {
        "duration": 54,
        "start_time": "2023-02-04T14:06:57.040Z"
      },
      {
        "duration": 247,
        "start_time": "2023-02-04T14:06:57.096Z"
      },
      {
        "duration": 1367,
        "start_time": "2023-02-04T14:09:02.569Z"
      },
      {
        "duration": 60,
        "start_time": "2023-02-04T14:09:03.940Z"
      },
      {
        "duration": 39,
        "start_time": "2023-02-04T14:09:04.001Z"
      },
      {
        "duration": 12,
        "start_time": "2023-02-04T14:09:04.042Z"
      },
      {
        "duration": 732,
        "start_time": "2023-02-04T14:09:04.056Z"
      },
      {
        "duration": 222,
        "start_time": "2023-02-04T14:09:04.790Z"
      },
      {
        "duration": 698,
        "start_time": "2023-02-04T14:09:05.013Z"
      },
      {
        "duration": 44,
        "start_time": "2023-02-04T14:09:05.713Z"
      },
      {
        "duration": 15,
        "start_time": "2023-02-04T14:09:05.759Z"
      },
      {
        "duration": 15,
        "start_time": "2023-02-04T14:09:05.795Z"
      },
      {
        "duration": 5,
        "start_time": "2023-02-04T14:09:05.811Z"
      },
      {
        "duration": 3,
        "start_time": "2023-02-04T14:09:05.817Z"
      },
      {
        "duration": 15,
        "start_time": "2023-02-04T14:09:05.822Z"
      },
      {
        "duration": 316,
        "start_time": "2023-02-04T14:09:05.839Z"
      },
      {
        "duration": 313349,
        "start_time": "2023-02-04T14:09:06.156Z"
      },
      {
        "duration": 5411,
        "start_time": "2023-02-04T14:14:19.507Z"
      },
      {
        "duration": 1203,
        "start_time": "2023-02-04T14:14:24.920Z"
      },
      {
        "duration": 7,
        "start_time": "2023-02-04T14:14:26.125Z"
      },
      {
        "duration": 17,
        "start_time": "2023-02-04T14:14:26.133Z"
      },
      {
        "duration": 0,
        "start_time": "2023-02-04T14:14:26.152Z"
      },
      {
        "duration": 0,
        "start_time": "2023-02-04T14:14:26.153Z"
      },
      {
        "duration": 0,
        "start_time": "2023-02-04T14:14:26.154Z"
      },
      {
        "duration": 0,
        "start_time": "2023-02-04T14:14:26.155Z"
      },
      {
        "duration": 0,
        "start_time": "2023-02-04T14:14:26.157Z"
      },
      {
        "duration": 0,
        "start_time": "2023-02-04T14:14:26.158Z"
      },
      {
        "duration": 0,
        "start_time": "2023-02-04T14:14:26.159Z"
      },
      {
        "duration": 0,
        "start_time": "2023-02-04T14:14:26.161Z"
      },
      {
        "duration": 0,
        "start_time": "2023-02-04T14:14:26.162Z"
      },
      {
        "duration": 0,
        "start_time": "2023-02-04T14:14:26.164Z"
      },
      {
        "duration": 53,
        "start_time": "2023-02-04T14:17:41.533Z"
      },
      {
        "duration": 55,
        "start_time": "2023-02-04T14:18:24.982Z"
      },
      {
        "duration": 4,
        "start_time": "2023-02-04T14:20:55.238Z"
      },
      {
        "duration": 1376,
        "start_time": "2023-02-04T14:21:15.060Z"
      },
      {
        "duration": 50,
        "start_time": "2023-02-04T14:21:16.438Z"
      },
      {
        "duration": 36,
        "start_time": "2023-02-04T14:21:16.489Z"
      },
      {
        "duration": 10,
        "start_time": "2023-02-04T14:21:16.527Z"
      },
      {
        "duration": 685,
        "start_time": "2023-02-04T14:21:16.539Z"
      },
      {
        "duration": 230,
        "start_time": "2023-02-04T14:21:17.226Z"
      },
      {
        "duration": 640,
        "start_time": "2023-02-04T14:21:17.458Z"
      },
      {
        "duration": 42,
        "start_time": "2023-02-04T14:21:18.100Z"
      },
      {
        "duration": 14,
        "start_time": "2023-02-04T14:21:18.144Z"
      },
      {
        "duration": 42,
        "start_time": "2023-02-04T14:21:18.161Z"
      },
      {
        "duration": 6,
        "start_time": "2023-02-04T14:21:18.204Z"
      },
      {
        "duration": 5,
        "start_time": "2023-02-04T14:21:18.211Z"
      },
      {
        "duration": 19,
        "start_time": "2023-02-04T14:21:18.217Z"
      },
      {
        "duration": 1108,
        "start_time": "2023-02-04T14:21:18.295Z"
      },
      {
        "duration": 315974,
        "start_time": "2023-02-04T14:21:19.494Z"
      },
      {
        "duration": 5253,
        "start_time": "2023-02-04T14:26:35.470Z"
      },
      {
        "duration": 1173,
        "start_time": "2023-02-04T14:26:40.725Z"
      },
      {
        "duration": 7,
        "start_time": "2023-02-04T14:26:41.900Z"
      },
      {
        "duration": 106,
        "start_time": "2023-02-04T14:26:41.909Z"
      },
      {
        "duration": 0,
        "start_time": "2023-02-04T14:26:42.017Z"
      },
      {
        "duration": 0,
        "start_time": "2023-02-04T14:26:42.018Z"
      },
      {
        "duration": 0,
        "start_time": "2023-02-04T14:26:42.018Z"
      },
      {
        "duration": 0,
        "start_time": "2023-02-04T14:26:42.019Z"
      },
      {
        "duration": 0,
        "start_time": "2023-02-04T14:26:42.020Z"
      },
      {
        "duration": 0,
        "start_time": "2023-02-04T14:26:42.022Z"
      },
      {
        "duration": 0,
        "start_time": "2023-02-04T14:26:42.023Z"
      },
      {
        "duration": 0,
        "start_time": "2023-02-04T14:26:42.024Z"
      },
      {
        "duration": 0,
        "start_time": "2023-02-04T14:26:42.025Z"
      },
      {
        "duration": 9,
        "start_time": "2023-02-04T14:27:54.463Z"
      },
      {
        "duration": 17,
        "start_time": "2023-02-04T14:27:57.532Z"
      },
      {
        "duration": 10,
        "start_time": "2023-02-04T14:29:24.320Z"
      },
      {
        "duration": 7,
        "start_time": "2023-02-04T14:29:49.157Z"
      },
      {
        "duration": 516,
        "start_time": "2023-02-04T14:35:11.966Z"
      },
      {
        "duration": 13,
        "start_time": "2023-02-04T14:35:23.338Z"
      },
      {
        "duration": 627121,
        "start_time": "2023-02-04T14:38:18.635Z"
      },
      {
        "duration": 49,
        "start_time": "2023-02-04T14:48:45.758Z"
      },
      {
        "duration": 750,
        "start_time": "2023-02-04T14:54:49.966Z"
      },
      {
        "duration": 15,
        "start_time": "2023-02-04T14:54:55.239Z"
      },
      {
        "duration": 1367,
        "start_time": "2023-02-04T14:55:42.291Z"
      },
      {
        "duration": 50,
        "start_time": "2023-02-04T14:55:43.661Z"
      },
      {
        "duration": 34,
        "start_time": "2023-02-04T14:55:43.712Z"
      },
      {
        "duration": 8,
        "start_time": "2023-02-04T14:55:43.748Z"
      },
      {
        "duration": 732,
        "start_time": "2023-02-04T14:55:43.758Z"
      },
      {
        "duration": 217,
        "start_time": "2023-02-04T14:55:44.493Z"
      },
      {
        "duration": 652,
        "start_time": "2023-02-04T14:55:44.711Z"
      },
      {
        "duration": 29,
        "start_time": "2023-02-04T14:55:45.365Z"
      },
      {
        "duration": 11,
        "start_time": "2023-02-04T14:55:45.395Z"
      },
      {
        "duration": 14,
        "start_time": "2023-02-04T14:55:45.408Z"
      },
      {
        "duration": 4,
        "start_time": "2023-02-04T14:55:45.423Z"
      },
      {
        "duration": 3,
        "start_time": "2023-02-04T14:55:45.429Z"
      },
      {
        "duration": 8,
        "start_time": "2023-02-04T14:55:45.434Z"
      },
      {
        "duration": 151,
        "start_time": "2023-02-04T14:55:45.444Z"
      },
      {
        "duration": 99,
        "start_time": "2023-02-04T14:55:45.597Z"
      },
      {
        "duration": 105,
        "start_time": "2023-02-04T14:55:45.698Z"
      },
      {
        "duration": 250670,
        "start_time": "2023-02-04T14:55:45.804Z"
      },
      {
        "duration": 2372,
        "start_time": "2023-02-04T14:59:56.476Z"
      },
      {
        "duration": 895,
        "start_time": "2023-02-04T14:59:58.850Z"
      },
      {
        "duration": 7,
        "start_time": "2023-02-04T14:59:59.747Z"
      },
      {
        "duration": 20,
        "start_time": "2023-02-04T14:59:59.755Z"
      },
      {
        "duration": 17,
        "start_time": "2023-02-04T14:59:59.777Z"
      },
      {
        "duration": 8,
        "start_time": "2023-02-04T14:59:59.797Z"
      },
      {
        "duration": 430,
        "start_time": "2023-02-04T14:59:59.806Z"
      },
      {
        "duration": 15,
        "start_time": "2023-02-04T15:00:00.238Z"
      },
      {
        "duration": 25,
        "start_time": "2023-02-04T15:00:00.255Z"
      },
      {
        "duration": 21,
        "start_time": "2023-02-04T15:00:00.281Z"
      },
      {
        "duration": 931,
        "start_time": "2023-02-04T15:00:00.304Z"
      },
      {
        "duration": 7,
        "start_time": "2023-02-04T15:00:01.237Z"
      },
      {
        "duration": 13,
        "start_time": "2023-02-04T15:00:01.246Z"
      },
      {
        "duration": 7,
        "start_time": "2023-02-04T15:06:57.994Z"
      },
      {
        "duration": 8,
        "start_time": "2023-02-04T15:07:52.569Z"
      },
      {
        "duration": 1429,
        "start_time": "2023-02-04T15:27:46.855Z"
      },
      {
        "duration": 51,
        "start_time": "2023-02-04T15:27:48.286Z"
      },
      {
        "duration": 43,
        "start_time": "2023-02-04T15:27:48.347Z"
      },
      {
        "duration": 10,
        "start_time": "2023-02-04T15:27:48.393Z"
      },
      {
        "duration": 736,
        "start_time": "2023-02-04T15:27:48.405Z"
      },
      {
        "duration": 223,
        "start_time": "2023-02-04T15:27:49.143Z"
      },
      {
        "duration": 713,
        "start_time": "2023-02-04T15:27:49.367Z"
      },
      {
        "duration": 40,
        "start_time": "2023-02-04T15:27:50.082Z"
      },
      {
        "duration": 11,
        "start_time": "2023-02-04T15:27:50.124Z"
      },
      {
        "duration": 15,
        "start_time": "2023-02-04T15:27:50.138Z"
      },
      {
        "duration": 4,
        "start_time": "2023-02-04T15:27:50.154Z"
      },
      {
        "duration": 11,
        "start_time": "2023-02-04T15:27:50.160Z"
      },
      {
        "duration": 178,
        "start_time": "2023-02-04T15:27:50.194Z"
      },
      {
        "duration": 125,
        "start_time": "2023-02-04T15:27:50.374Z"
      },
      {
        "duration": 11,
        "start_time": "2023-02-04T15:27:50.593Z"
      },
      {
        "duration": 292,
        "start_time": "2023-02-04T15:27:50.608Z"
      },
      {
        "duration": 2462898,
        "start_time": "2023-02-04T15:27:50.902Z"
      },
      {
        "duration": 3405,
        "start_time": "2023-02-04T16:08:53.802Z"
      },
      {
        "duration": 1008,
        "start_time": "2023-02-04T16:08:57.209Z"
      },
      {
        "duration": 7,
        "start_time": "2023-02-04T16:08:58.219Z"
      },
      {
        "duration": 10,
        "start_time": "2023-02-04T16:08:58.228Z"
      },
      {
        "duration": 14,
        "start_time": "2023-02-04T16:08:58.240Z"
      },
      {
        "duration": 42,
        "start_time": "2023-02-04T16:08:58.256Z"
      },
      {
        "duration": 399,
        "start_time": "2023-02-04T16:08:58.300Z"
      },
      {
        "duration": 13,
        "start_time": "2023-02-04T16:08:58.701Z"
      },
      {
        "duration": 23,
        "start_time": "2023-02-04T16:08:58.715Z"
      },
      {
        "duration": 7,
        "start_time": "2023-02-04T16:08:58.740Z"
      },
      {
        "duration": 1062,
        "start_time": "2023-02-04T16:08:58.750Z"
      },
      {
        "duration": 7,
        "start_time": "2023-02-04T16:08:59.813Z"
      },
      {
        "duration": 10,
        "start_time": "2023-02-04T16:08:59.821Z"
      },
      {
        "duration": 386,
        "start_time": "2023-02-04T16:17:09.076Z"
      },
      {
        "duration": 391,
        "start_time": "2023-02-04T16:18:16.612Z"
      },
      {
        "duration": 17,
        "start_time": "2023-02-04T16:18:25.615Z"
      },
      {
        "duration": 11,
        "start_time": "2023-02-04T16:18:39.371Z"
      },
      {
        "duration": 1487,
        "start_time": "2023-02-04T16:19:54.270Z"
      },
      {
        "duration": 49,
        "start_time": "2023-02-04T16:19:55.759Z"
      },
      {
        "duration": 37,
        "start_time": "2023-02-04T16:19:55.810Z"
      },
      {
        "duration": 20,
        "start_time": "2023-02-04T16:19:55.850Z"
      },
      {
        "duration": 769,
        "start_time": "2023-02-04T16:19:55.872Z"
      },
      {
        "duration": 286,
        "start_time": "2023-02-04T16:19:56.644Z"
      },
      {
        "duration": 780,
        "start_time": "2023-02-04T16:19:56.932Z"
      },
      {
        "duration": 45,
        "start_time": "2023-02-04T16:19:57.714Z"
      },
      {
        "duration": 14,
        "start_time": "2023-02-04T16:19:57.761Z"
      },
      {
        "duration": 15,
        "start_time": "2023-02-04T16:19:57.795Z"
      },
      {
        "duration": 6,
        "start_time": "2023-02-04T16:19:57.812Z"
      },
      {
        "duration": 6,
        "start_time": "2023-02-04T16:19:57.820Z"
      },
      {
        "duration": 12,
        "start_time": "2023-02-04T16:19:57.828Z"
      },
      {
        "duration": 157,
        "start_time": "2023-02-04T16:19:57.842Z"
      },
      {
        "duration": 195,
        "start_time": "2023-02-04T16:19:58.001Z"
      },
      {
        "duration": 1008,
        "start_time": "2023-02-04T16:19:58.198Z"
      },
      {
        "duration": 4292680,
        "start_time": "2023-02-04T16:19:59.294Z"
      },
      {
        "duration": 5795,
        "start_time": "2023-02-04T17:31:31.975Z"
      },
      {
        "duration": 1510,
        "start_time": "2023-02-04T17:31:37.772Z"
      },
      {
        "duration": 10,
        "start_time": "2023-02-04T17:31:39.284Z"
      },
      {
        "duration": 23,
        "start_time": "2023-02-04T17:31:39.303Z"
      },
      {
        "duration": 13,
        "start_time": "2023-02-04T17:31:39.328Z"
      },
      {
        "duration": 175,
        "start_time": "2023-02-04T17:31:39.343Z"
      },
      {
        "duration": 895,
        "start_time": "2023-02-04T17:31:39.523Z"
      },
      {
        "duration": 16,
        "start_time": "2023-02-04T17:31:40.421Z"
      },
      {
        "duration": 38,
        "start_time": "2023-02-04T17:31:40.438Z"
      },
      {
        "duration": 14,
        "start_time": "2023-02-04T17:31:40.494Z"
      },
      {
        "duration": 1556,
        "start_time": "2023-02-04T17:31:40.513Z"
      },
      {
        "duration": 7,
        "start_time": "2023-02-04T17:31:42.071Z"
      },
      {
        "duration": 7,
        "start_time": "2023-02-04T17:31:42.080Z"
      },
      {
        "duration": 27,
        "start_time": "2023-02-04T17:33:25.161Z"
      },
      {
        "duration": 1470,
        "start_time": "2023-02-04T17:33:32.768Z"
      },
      {
        "duration": 61,
        "start_time": "2023-02-04T17:33:34.240Z"
      },
      {
        "duration": 50,
        "start_time": "2023-02-04T17:33:34.304Z"
      },
      {
        "duration": 25,
        "start_time": "2023-02-04T17:33:34.357Z"
      },
      {
        "duration": 781,
        "start_time": "2023-02-04T17:33:34.384Z"
      },
      {
        "duration": 252,
        "start_time": "2023-02-04T17:33:35.167Z"
      },
      {
        "duration": 713,
        "start_time": "2023-02-04T17:33:35.422Z"
      },
      {
        "duration": 21,
        "start_time": "2023-02-04T17:33:36.137Z"
      },
      {
        "duration": 13,
        "start_time": "2023-02-04T17:33:36.160Z"
      },
      {
        "duration": 18,
        "start_time": "2023-02-04T17:33:36.196Z"
      },
      {
        "duration": 5,
        "start_time": "2023-02-04T17:33:36.216Z"
      },
      {
        "duration": 5,
        "start_time": "2023-02-04T17:33:36.223Z"
      },
      {
        "duration": 11,
        "start_time": "2023-02-04T17:33:36.230Z"
      },
      {
        "duration": 8,
        "start_time": "2023-02-04T17:33:36.242Z"
      },
      {
        "duration": 50,
        "start_time": "2023-02-04T17:33:36.251Z"
      },
      {
        "duration": 98,
        "start_time": "2023-02-04T17:33:36.303Z"
      },
      {
        "duration": 2691100,
        "start_time": "2023-02-04T17:33:36.412Z"
      },
      {
        "duration": 2298,
        "start_time": "2023-02-04T18:18:27.514Z"
      },
      {
        "duration": 1025,
        "start_time": "2023-02-04T18:18:29.814Z"
      },
      {
        "duration": 8,
        "start_time": "2023-02-04T18:18:30.841Z"
      },
      {
        "duration": 32,
        "start_time": "2023-02-04T18:18:30.851Z"
      },
      {
        "duration": 34,
        "start_time": "2023-02-04T18:18:30.885Z"
      },
      {
        "duration": 22,
        "start_time": "2023-02-04T18:18:30.921Z"
      },
      {
        "duration": 371,
        "start_time": "2023-02-04T18:18:30.945Z"
      },
      {
        "duration": 14,
        "start_time": "2023-02-04T18:18:31.318Z"
      },
      {
        "duration": 29,
        "start_time": "2023-02-04T18:18:31.334Z"
      },
      {
        "duration": 10,
        "start_time": "2023-02-04T18:18:31.365Z"
      },
      {
        "duration": 884,
        "start_time": "2023-02-04T18:18:31.378Z"
      },
      {
        "duration": 6,
        "start_time": "2023-02-04T18:18:32.264Z"
      },
      {
        "duration": 10,
        "start_time": "2023-02-04T18:18:32.272Z"
      },
      {
        "duration": 226,
        "start_time": "2023-02-04T18:23:19.147Z"
      },
      {
        "duration": 18,
        "start_time": "2023-02-04T18:23:24.314Z"
      },
      {
        "duration": 1409,
        "start_time": "2023-02-04T18:25:05.338Z"
      },
      {
        "duration": 58,
        "start_time": "2023-02-04T18:25:06.749Z"
      },
      {
        "duration": 39,
        "start_time": "2023-02-04T18:25:06.812Z"
      },
      {
        "duration": 10,
        "start_time": "2023-02-04T18:25:06.853Z"
      },
      {
        "duration": 759,
        "start_time": "2023-02-04T18:25:06.865Z"
      },
      {
        "duration": 245,
        "start_time": "2023-02-04T18:25:07.625Z"
      },
      {
        "duration": 750,
        "start_time": "2023-02-04T18:25:07.871Z"
      },
      {
        "duration": 41,
        "start_time": "2023-02-04T18:25:08.622Z"
      },
      {
        "duration": 14,
        "start_time": "2023-02-04T18:25:08.664Z"
      },
      {
        "duration": 36,
        "start_time": "2023-02-04T18:25:08.679Z"
      },
      {
        "duration": 5,
        "start_time": "2023-02-04T18:25:08.717Z"
      },
      {
        "duration": 13,
        "start_time": "2023-02-04T18:25:08.724Z"
      },
      {
        "duration": 14,
        "start_time": "2023-02-04T18:25:08.738Z"
      },
      {
        "duration": 244,
        "start_time": "2023-02-04T18:25:08.755Z"
      },
      {
        "duration": 116,
        "start_time": "2023-02-04T18:25:09.003Z"
      },
      {
        "duration": 1178,
        "start_time": "2023-02-04T18:25:09.121Z"
      },
      {
        "duration": 1459,
        "start_time": "2023-02-04T19:31:37.165Z"
      },
      {
        "duration": 51,
        "start_time": "2023-02-04T19:31:38.626Z"
      },
      {
        "duration": 45,
        "start_time": "2023-02-04T19:31:38.679Z"
      },
      {
        "duration": 10,
        "start_time": "2023-02-04T19:31:38.727Z"
      },
      {
        "duration": 785,
        "start_time": "2023-02-04T19:31:38.738Z"
      },
      {
        "duration": 245,
        "start_time": "2023-02-04T19:31:39.526Z"
      },
      {
        "duration": 748,
        "start_time": "2023-02-04T19:31:39.773Z"
      },
      {
        "duration": 21,
        "start_time": "2023-02-04T19:31:40.523Z"
      },
      {
        "duration": 11,
        "start_time": "2023-02-04T19:31:40.545Z"
      },
      {
        "duration": 39,
        "start_time": "2023-02-04T19:31:40.559Z"
      },
      {
        "duration": 16,
        "start_time": "2023-02-04T19:31:40.599Z"
      },
      {
        "duration": 6,
        "start_time": "2023-02-04T19:31:40.617Z"
      },
      {
        "duration": 20,
        "start_time": "2023-02-04T19:31:40.624Z"
      },
      {
        "duration": 10,
        "start_time": "2023-02-04T19:31:40.646Z"
      },
      {
        "duration": 52,
        "start_time": "2023-02-04T19:31:40.657Z"
      },
      {
        "duration": 7,
        "start_time": "2023-02-04T19:31:40.711Z"
      },
      {
        "duration": 17,
        "start_time": "2023-02-04T19:31:40.720Z"
      },
      {
        "duration": 89,
        "start_time": "2023-02-04T19:31:40.739Z"
      },
      {
        "duration": 2713376,
        "start_time": "2023-02-04T19:31:40.831Z"
      },
      {
        "duration": 2430,
        "start_time": "2023-02-04T20:16:54.214Z"
      },
      {
        "duration": 901,
        "start_time": "2023-02-04T20:16:56.646Z"
      },
      {
        "duration": 7,
        "start_time": "2023-02-04T20:16:57.549Z"
      },
      {
        "duration": 10,
        "start_time": "2023-02-04T20:16:57.558Z"
      },
      {
        "duration": 11,
        "start_time": "2023-02-04T20:16:57.570Z"
      },
      {
        "duration": 20,
        "start_time": "2023-02-04T20:16:57.585Z"
      },
      {
        "duration": 297,
        "start_time": "2023-02-04T20:16:57.607Z"
      },
      {
        "duration": 14,
        "start_time": "2023-02-04T20:16:57.912Z"
      },
      {
        "duration": 17,
        "start_time": "2023-02-04T20:16:57.928Z"
      },
      {
        "duration": 7,
        "start_time": "2023-02-04T20:16:57.946Z"
      },
      {
        "duration": 873,
        "start_time": "2023-02-04T20:16:57.955Z"
      },
      {
        "duration": 6,
        "start_time": "2023-02-04T20:16:58.830Z"
      },
      {
        "duration": 10,
        "start_time": "2023-02-04T20:16:58.837Z"
      },
      {
        "duration": 9,
        "start_time": "2023-02-04T20:16:58.848Z"
      },
      {
        "duration": 210,
        "start_time": "2023-02-04T20:30:54.598Z"
      },
      {
        "duration": 15,
        "start_time": "2023-02-04T20:31:03.654Z"
      },
      {
        "duration": 19,
        "start_time": "2023-02-04T20:31:52.830Z"
      },
      {
        "duration": 8,
        "start_time": "2023-02-04T20:31:57.430Z"
      },
      {
        "duration": 13,
        "start_time": "2023-02-04T20:35:45.828Z"
      },
      {
        "duration": 8,
        "start_time": "2023-02-04T20:35:50.675Z"
      },
      {
        "duration": 13,
        "start_time": "2023-02-04T20:37:17.776Z"
      },
      {
        "duration": 1362,
        "start_time": "2023-02-04T20:37:56.097Z"
      },
      {
        "duration": 54,
        "start_time": "2023-02-04T20:37:57.461Z"
      },
      {
        "duration": 41,
        "start_time": "2023-02-04T20:37:57.516Z"
      },
      {
        "duration": 10,
        "start_time": "2023-02-04T20:37:57.559Z"
      },
      {
        "duration": 725,
        "start_time": "2023-02-04T20:37:57.571Z"
      },
      {
        "duration": 243,
        "start_time": "2023-02-04T20:37:58.297Z"
      },
      {
        "duration": 640,
        "start_time": "2023-02-04T20:37:58.541Z"
      },
      {
        "duration": 29,
        "start_time": "2023-02-04T20:37:59.182Z"
      },
      {
        "duration": 13,
        "start_time": "2023-02-04T20:37:59.212Z"
      },
      {
        "duration": 18,
        "start_time": "2023-02-04T20:37:59.228Z"
      },
      {
        "duration": 5,
        "start_time": "2023-02-04T20:37:59.248Z"
      },
      {
        "duration": 4,
        "start_time": "2023-02-04T20:37:59.255Z"
      },
      {
        "duration": 10,
        "start_time": "2023-02-04T20:37:59.294Z"
      },
      {
        "duration": 11,
        "start_time": "2023-02-04T20:37:59.305Z"
      },
      {
        "duration": 76,
        "start_time": "2023-02-04T20:37:59.320Z"
      },
      {
        "duration": 9,
        "start_time": "2023-02-04T20:37:59.399Z"
      },
      {
        "duration": 12,
        "start_time": "2023-02-04T20:37:59.410Z"
      },
      {
        "duration": 91,
        "start_time": "2023-02-04T20:37:59.423Z"
      },
      {
        "duration": 2631591,
        "start_time": "2023-02-04T20:37:59.516Z"
      },
      {
        "duration": 2209,
        "start_time": "2023-02-04T21:21:51.109Z"
      },
      {
        "duration": 945,
        "start_time": "2023-02-04T21:21:53.320Z"
      },
      {
        "duration": 7,
        "start_time": "2023-02-04T21:21:54.266Z"
      },
      {
        "duration": 11,
        "start_time": "2023-02-04T21:21:54.275Z"
      },
      {
        "duration": 13,
        "start_time": "2023-02-04T21:21:54.288Z"
      },
      {
        "duration": 11,
        "start_time": "2023-02-04T21:21:54.302Z"
      },
      {
        "duration": 20,
        "start_time": "2023-02-04T21:21:54.315Z"
      },
      {
        "duration": 60,
        "start_time": "2023-02-04T21:21:54.337Z"
      },
      {
        "duration": 269,
        "start_time": "2023-02-04T21:21:54.401Z"
      },
      {
        "duration": 13,
        "start_time": "2023-02-04T21:21:54.672Z"
      },
      {
        "duration": 19,
        "start_time": "2023-02-04T21:21:54.686Z"
      },
      {
        "duration": 8,
        "start_time": "2023-02-04T21:21:54.707Z"
      },
      {
        "duration": 1189,
        "start_time": "2023-02-04T21:21:54.717Z"
      },
      {
        "duration": 5,
        "start_time": "2023-02-04T21:21:55.908Z"
      },
      {
        "duration": 7,
        "start_time": "2023-02-04T21:21:55.915Z"
      },
      {
        "duration": 160,
        "start_time": "2023-02-04T21:22:35.079Z"
      },
      {
        "duration": 14,
        "start_time": "2023-02-04T21:22:39.022Z"
      },
      {
        "duration": 6,
        "start_time": "2023-02-04T21:23:31.971Z"
      },
      {
        "duration": 8,
        "start_time": "2023-02-04T21:24:53.128Z"
      },
      {
        "duration": 1506,
        "start_time": "2023-02-05T05:23:36.555Z"
      },
      {
        "duration": 134,
        "start_time": "2023-02-05T05:23:38.063Z"
      },
      {
        "duration": 50,
        "start_time": "2023-02-05T05:23:38.199Z"
      },
      {
        "duration": 12,
        "start_time": "2023-02-05T05:23:38.251Z"
      },
      {
        "duration": 593,
        "start_time": "2023-02-05T05:23:38.264Z"
      },
      {
        "duration": 234,
        "start_time": "2023-02-05T05:23:38.858Z"
      },
      {
        "duration": 704,
        "start_time": "2023-02-05T05:23:39.093Z"
      },
      {
        "duration": 26,
        "start_time": "2023-02-05T05:23:39.798Z"
      },
      {
        "duration": 10,
        "start_time": "2023-02-05T05:23:39.826Z"
      },
      {
        "duration": 14,
        "start_time": "2023-02-05T05:23:39.838Z"
      },
      {
        "duration": 3,
        "start_time": "2023-02-05T05:23:39.854Z"
      },
      {
        "duration": 5,
        "start_time": "2023-02-05T05:23:39.859Z"
      },
      {
        "duration": 45,
        "start_time": "2023-02-05T05:23:39.865Z"
      },
      {
        "duration": 7,
        "start_time": "2023-02-05T05:23:39.912Z"
      },
      {
        "duration": 16,
        "start_time": "2023-02-05T05:23:39.921Z"
      },
      {
        "duration": 9,
        "start_time": "2023-02-05T05:23:39.939Z"
      },
      {
        "duration": 10,
        "start_time": "2023-02-05T05:23:40.011Z"
      },
      {
        "duration": 99,
        "start_time": "2023-02-05T05:23:40.023Z"
      },
      {
        "duration": 2985410,
        "start_time": "2023-02-05T05:23:40.124Z"
      },
      {
        "duration": 2383,
        "start_time": "2023-02-05T06:13:25.536Z"
      },
      {
        "duration": 833,
        "start_time": "2023-02-05T06:13:27.921Z"
      },
      {
        "duration": 6,
        "start_time": "2023-02-05T06:13:28.756Z"
      },
      {
        "duration": 8,
        "start_time": "2023-02-05T06:13:28.764Z"
      },
      {
        "duration": 7,
        "start_time": "2023-02-05T06:13:28.774Z"
      },
      {
        "duration": 7,
        "start_time": "2023-02-05T06:13:28.782Z"
      },
      {
        "duration": 22,
        "start_time": "2023-02-05T06:13:28.790Z"
      },
      {
        "duration": 6,
        "start_time": "2023-02-05T06:13:28.814Z"
      },
      {
        "duration": 283,
        "start_time": "2023-02-05T06:13:28.822Z"
      },
      {
        "duration": 11,
        "start_time": "2023-02-05T06:13:29.109Z"
      },
      {
        "duration": 19,
        "start_time": "2023-02-05T06:13:29.121Z"
      },
      {
        "duration": 8,
        "start_time": "2023-02-05T06:13:29.142Z"
      },
      {
        "duration": 735,
        "start_time": "2023-02-05T06:13:29.152Z"
      },
      {
        "duration": 5,
        "start_time": "2023-02-05T06:13:29.889Z"
      },
      {
        "duration": 10,
        "start_time": "2023-02-05T06:13:29.895Z"
      },
      {
        "duration": 0,
        "start_time": "2023-02-05T06:13:30.054Z"
      },
      {
        "duration": 0,
        "start_time": "2023-02-05T06:13:30.057Z"
      },
      {
        "duration": 7,
        "start_time": "2023-02-05T06:20:59.239Z"
      },
      {
        "duration": 16,
        "start_time": "2023-02-05T06:22:12.420Z"
      },
      {
        "duration": 14,
        "start_time": "2023-02-05T06:22:41.684Z"
      },
      {
        "duration": 14,
        "start_time": "2023-02-05T06:22:45.562Z"
      },
      {
        "duration": 13,
        "start_time": "2023-02-05T06:22:55.686Z"
      },
      {
        "duration": 1385,
        "start_time": "2023-02-05T06:23:49.640Z"
      },
      {
        "duration": 52,
        "start_time": "2023-02-05T06:23:51.027Z"
      },
      {
        "duration": 32,
        "start_time": "2023-02-05T06:23:51.081Z"
      },
      {
        "duration": 19,
        "start_time": "2023-02-05T06:23:51.116Z"
      },
      {
        "duration": 633,
        "start_time": "2023-02-05T06:23:51.136Z"
      },
      {
        "duration": 227,
        "start_time": "2023-02-05T06:23:51.771Z"
      },
      {
        "duration": 686,
        "start_time": "2023-02-05T06:23:52.010Z"
      },
      {
        "duration": 26,
        "start_time": "2023-02-05T06:23:52.698Z"
      },
      {
        "duration": 11,
        "start_time": "2023-02-05T06:23:52.726Z"
      },
      {
        "duration": 14,
        "start_time": "2023-02-05T06:23:52.739Z"
      },
      {
        "duration": 4,
        "start_time": "2023-02-05T06:23:52.754Z"
      },
      {
        "duration": 4,
        "start_time": "2023-02-05T06:23:52.761Z"
      },
      {
        "duration": 60,
        "start_time": "2023-02-05T06:23:52.766Z"
      },
      {
        "duration": 10,
        "start_time": "2023-02-05T06:23:52.828Z"
      },
      {
        "duration": 3031998,
        "start_time": "2023-02-05T06:23:52.840Z"
      },
      {
        "duration": 2491,
        "start_time": "2023-02-05T07:14:24.840Z"
      },
      {
        "duration": 849,
        "start_time": "2023-02-05T07:14:27.332Z"
      },
      {
        "duration": 7,
        "start_time": "2023-02-05T07:14:28.182Z"
      },
      {
        "duration": 7,
        "start_time": "2023-02-05T07:14:28.191Z"
      },
      {
        "duration": 197,
        "start_time": "2023-02-05T07:14:28.199Z"
      },
      {
        "duration": 18,
        "start_time": "2023-02-05T07:14:28.398Z"
      },
      {
        "duration": 790,
        "start_time": "2023-02-05T07:14:28.418Z"
      },
      {
        "duration": 8,
        "start_time": "2023-02-05T07:14:29.210Z"
      },
      {
        "duration": 6,
        "start_time": "2023-02-05T07:14:29.219Z"
      },
      {
        "duration": 2633,
        "start_time": "2023-02-05T07:21:17.155Z"
      },
      {
        "duration": 56,
        "start_time": "2023-02-05T07:21:23.917Z"
      },
      {
        "duration": 5,
        "start_time": "2023-02-05T07:23:29.165Z"
      },
      {
        "duration": 171,
        "start_time": "2023-02-05T07:23:49.903Z"
      },
      {
        "duration": 112,
        "start_time": "2023-02-05T07:25:06.286Z"
      },
      {
        "duration": 256,
        "start_time": "2023-02-05T07:25:35.840Z"
      },
      {
        "duration": 184,
        "start_time": "2023-02-05T07:26:19.526Z"
      },
      {
        "duration": 178,
        "start_time": "2023-02-05T07:34:55.903Z"
      },
      {
        "duration": 203,
        "start_time": "2023-02-05T07:35:07.602Z"
      },
      {
        "duration": 206,
        "start_time": "2023-02-05T07:35:32.207Z"
      },
      {
        "duration": 225,
        "start_time": "2023-02-05T07:36:25.488Z"
      },
      {
        "duration": 210,
        "start_time": "2023-02-05T07:38:01.923Z"
      },
      {
        "duration": 209,
        "start_time": "2023-02-05T07:38:22.039Z"
      },
      {
        "duration": 311,
        "start_time": "2023-02-05T07:38:52.402Z"
      },
      {
        "duration": 275,
        "start_time": "2023-02-05T07:41:55.858Z"
      },
      {
        "duration": 501,
        "start_time": "2023-02-05T07:42:40.892Z"
      },
      {
        "duration": 511,
        "start_time": "2023-02-05T07:44:13.131Z"
      },
      {
        "duration": 498,
        "start_time": "2023-02-05T07:47:23.976Z"
      },
      {
        "duration": 607,
        "start_time": "2023-02-05T07:48:26.719Z"
      },
      {
        "duration": 488,
        "start_time": "2023-02-05T07:50:53.159Z"
      },
      {
        "duration": 505,
        "start_time": "2023-02-05T07:51:04.682Z"
      },
      {
        "duration": 14,
        "start_time": "2023-02-05T07:53:46.760Z"
      },
      {
        "duration": 463,
        "start_time": "2023-02-05T07:54:00.822Z"
      },
      {
        "duration": 470,
        "start_time": "2023-02-05T07:54:11.036Z"
      },
      {
        "duration": 3,
        "start_time": "2023-02-05T07:54:39.892Z"
      },
      {
        "duration": 8,
        "start_time": "2023-02-05T07:54:53.595Z"
      },
      {
        "duration": 4,
        "start_time": "2023-02-05T07:55:00.820Z"
      },
      {
        "duration": 14,
        "start_time": "2023-02-05T07:57:26.350Z"
      },
      {
        "duration": 4,
        "start_time": "2023-02-05T08:00:22.064Z"
      },
      {
        "duration": 64,
        "start_time": "2023-02-05T08:04:42.256Z"
      },
      {
        "duration": 6904,
        "start_time": "2023-02-05T14:26:06.793Z"
      },
      {
        "duration": 393,
        "start_time": "2023-02-05T14:26:13.703Z"
      },
      {
        "duration": 206,
        "start_time": "2023-02-05T14:26:14.098Z"
      },
      {
        "duration": 103,
        "start_time": "2023-02-05T14:26:14.398Z"
      },
      {
        "duration": 4687,
        "start_time": "2023-02-05T14:26:14.506Z"
      },
      {
        "duration": 2303,
        "start_time": "2023-02-05T14:26:19.195Z"
      },
      {
        "duration": 4796,
        "start_time": "2023-02-05T14:26:21.500Z"
      },
      {
        "duration": 196,
        "start_time": "2023-02-05T14:26:26.298Z"
      },
      {
        "duration": 206,
        "start_time": "2023-02-05T14:26:26.496Z"
      },
      {
        "duration": 298,
        "start_time": "2023-02-05T14:26:26.705Z"
      },
      {
        "duration": 6,
        "start_time": "2023-02-05T14:26:27.005Z"
      },
      {
        "duration": 9,
        "start_time": "2023-02-05T14:26:27.012Z"
      },
      {
        "duration": 77,
        "start_time": "2023-02-05T14:26:27.022Z"
      },
      {
        "duration": 8,
        "start_time": "2023-02-05T14:26:27.101Z"
      },
      {
        "duration": 248484,
        "start_time": "2023-02-05T14:26:27.111Z"
      },
      {
        "duration": 7501,
        "start_time": "2023-02-05T14:30:35.597Z"
      },
      {
        "duration": 6696,
        "start_time": "2023-02-05T14:30:43.100Z"
      },
      {
        "duration": 95,
        "start_time": "2023-02-05T14:30:49.797Z"
      },
      {
        "duration": 10,
        "start_time": "2023-02-05T14:30:49.894Z"
      },
      {
        "duration": 19211,
        "start_time": "2023-02-05T14:30:49.994Z"
      },
      {
        "duration": 407,
        "start_time": "2023-02-05T14:31:09.294Z"
      },
      {
        "duration": 89,
        "start_time": "2023-02-05T14:31:09.707Z"
      },
      {
        "duration": 292,
        "start_time": "2023-02-05T14:31:09.802Z"
      },
      {
        "duration": 0,
        "start_time": "2023-02-05T14:31:10.103Z"
      },
      {
        "duration": 1600,
        "start_time": "2023-02-05T16:01:13.264Z"
      },
      {
        "duration": 50,
        "start_time": "2023-02-05T16:01:14.866Z"
      },
      {
        "duration": 38,
        "start_time": "2023-02-05T16:01:14.918Z"
      },
      {
        "duration": 11,
        "start_time": "2023-02-05T16:01:14.958Z"
      },
      {
        "duration": 731,
        "start_time": "2023-02-05T16:01:14.971Z"
      },
      {
        "duration": 253,
        "start_time": "2023-02-05T16:01:15.703Z"
      },
      {
        "duration": 754,
        "start_time": "2023-02-05T16:01:15.958Z"
      },
      {
        "duration": 31,
        "start_time": "2023-02-05T16:01:16.714Z"
      },
      {
        "duration": 13,
        "start_time": "2023-02-05T16:01:16.747Z"
      },
      {
        "duration": 16,
        "start_time": "2023-02-05T16:01:16.762Z"
      },
      {
        "duration": 4,
        "start_time": "2023-02-05T16:01:16.779Z"
      },
      {
        "duration": 17,
        "start_time": "2023-02-05T16:01:16.785Z"
      },
      {
        "duration": 12,
        "start_time": "2023-02-05T16:01:16.804Z"
      },
      {
        "duration": 14,
        "start_time": "2023-02-05T16:01:16.841Z"
      },
      {
        "duration": 2806664,
        "start_time": "2023-02-05T16:01:16.858Z"
      },
      {
        "duration": 2297,
        "start_time": "2023-02-05T16:48:03.524Z"
      },
      {
        "duration": 930,
        "start_time": "2023-02-05T16:48:05.823Z"
      },
      {
        "duration": 7,
        "start_time": "2023-02-05T16:48:06.754Z"
      },
      {
        "duration": 7,
        "start_time": "2023-02-05T16:48:06.763Z"
      },
      {
        "duration": 2538,
        "start_time": "2023-02-05T16:48:06.772Z"
      },
      {
        "duration": 69,
        "start_time": "2023-02-05T16:48:09.312Z"
      },
      {
        "duration": 7,
        "start_time": "2023-02-05T16:48:09.382Z"
      },
      {
        "duration": 130,
        "start_time": "2023-02-05T16:48:09.390Z"
      },
      {
        "duration": 0,
        "start_time": "2023-02-05T16:48:09.521Z"
      },
      {
        "duration": 881,
        "start_time": "2023-02-05T16:50:44.639Z"
      },
      {
        "duration": 31,
        "start_time": "2023-02-05T16:50:51.839Z"
      },
      {
        "duration": 11,
        "start_time": "2023-02-05T16:51:28.268Z"
      },
      {
        "duration": 10,
        "start_time": "2023-02-05T16:52:17.678Z"
      },
      {
        "duration": 1149,
        "start_time": "2023-02-05T16:52:54.301Z"
      },
      {
        "duration": 33,
        "start_time": "2023-02-05T16:53:15.007Z"
      },
      {
        "duration": 7,
        "start_time": "2023-02-05T16:53:21.577Z"
      },
      {
        "duration": 15,
        "start_time": "2023-02-05T16:53:33.504Z"
      },
      {
        "duration": 44,
        "start_time": "2023-02-05T16:58:32.785Z"
      },
      {
        "duration": 15,
        "start_time": "2023-02-05T16:59:54.588Z"
      },
      {
        "duration": 15,
        "start_time": "2023-02-05T17:00:02.690Z"
      },
      {
        "duration": 15,
        "start_time": "2023-02-05T17:00:53.190Z"
      },
      {
        "duration": 15,
        "start_time": "2023-02-05T17:02:14.158Z"
      },
      {
        "duration": 11,
        "start_time": "2023-02-05T17:03:02.874Z"
      },
      {
        "duration": 223,
        "start_time": "2023-02-05T17:03:55.039Z"
      },
      {
        "duration": 42,
        "start_time": "2023-02-05T17:05:36.110Z"
      },
      {
        "duration": 5,
        "start_time": "2023-02-05T17:08:06.346Z"
      },
      {
        "duration": 311,
        "start_time": "2023-02-05T17:09:24.051Z"
      },
      {
        "duration": 229,
        "start_time": "2023-02-05T17:10:29.279Z"
      },
      {
        "duration": 239,
        "start_time": "2023-02-05T17:10:42.435Z"
      },
      {
        "duration": 219,
        "start_time": "2023-02-05T17:14:41.638Z"
      },
      {
        "duration": 218,
        "start_time": "2023-02-05T17:15:09.969Z"
      },
      {
        "duration": 371,
        "start_time": "2023-02-05T17:15:24.469Z"
      },
      {
        "duration": 378,
        "start_time": "2023-02-05T17:15:37.577Z"
      },
      {
        "duration": 217,
        "start_time": "2023-02-05T17:15:57.544Z"
      },
      {
        "duration": 238,
        "start_time": "2023-02-05T17:17:02.380Z"
      }
    ],
    "kernelspec": {
      "display_name": "Python 3 (ipykernel)",
      "language": "python",
      "name": "python3"
    },
    "language_info": {
      "codemirror_mode": {
        "name": "ipython",
        "version": 3
      },
      "file_extension": ".py",
      "mimetype": "text/x-python",
      "name": "python",
      "nbconvert_exporter": "python",
      "pygments_lexer": "ipython3",
      "version": "3.9.5"
    },
    "toc": {
      "base_numbering": 1,
      "nav_menu": {},
      "number_sections": true,
      "sideBar": true,
      "skip_h1_title": true,
      "title_cell": "Содержание",
      "title_sidebar": "Contents",
      "toc_cell": true,
      "toc_position": {},
      "toc_section_display": true,
      "toc_window_display": false
    },
    "colab": {
      "provenance": [],
      "include_colab_link": true
    }
  },
  "nbformat": 4,
  "nbformat_minor": 0
}