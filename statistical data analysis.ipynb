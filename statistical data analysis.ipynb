{
 "cells": [
  {
   "cell_type": "markdown",
   "metadata": {},
   "source": [
    "# Сборный проект"
   ]
  },
  {
   "cell_type": "markdown",
   "metadata": {},
   "source": [
    "- **Заказчик исследования**\n",
    "Интернет-магазине «Стримчик»,2016\n",
    "- **Данные**\n",
    "Исторические данные о продажах игр, оценки пользователей и экспертов, жанры и платформы, из открытых источников\n",
    "- **Цели исследования** \n",
    "Выявить закономерности, определяющие успешность игры, для дальнейшего выбора потенциально популярного продукта\n",
    "- **Список сокращений**\n",
    " - Name — название игры\n",
    " - Platform — платформа\n",
    " = Year_of_Release — год выпуска\n",
    " - Genre — жанр игры\n",
    " - NA_sales — продажи в Северной Америке (миллионы проданных копий)\n",
    " - EU_sales — продажи в Европе (миллионы проданных копий)\n",
    " - JP_sales — продажи в Японии (миллионы проданных копий)\n",
    " - Other_sales — продажи в других странах (миллионы проданных копий)\n",
    " - Critic_Score — оценка критиков (максимум 100)\n",
    " - User_Score — оценка пользователей (максимум 10)\n",
    " - Rating — рейтинг от организации ESRB (англ. Entertainment Software Rating Board). Эта ассоциация определяет рейтинг компьютерных игр и присваивает им подходящую возрастную категорию..\n",
    " \n"
   ]
  },
  {
   "cell_type": "markdown",
   "metadata": {},
   "source": [
    "## Открытие файла и изучение общей информации "
   ]
  },
  {
   "cell_type": "code",
   "execution_count": 1,
   "metadata": {},
   "outputs": [],
   "source": [
    "import pandas as pd\n",
    "from scipy import stats as st\n",
    "import numpy as np\n",
    "import matplotlib.pyplot as plt\n"
   ]
  },
  {
   "cell_type": "code",
   "execution_count": 2,
   "metadata": {},
   "outputs": [
    {
     "name": "stdout",
     "output_type": "stream",
     "text": [
      "<class 'pandas.core.frame.DataFrame'>\n",
      "RangeIndex: 16715 entries, 0 to 16714\n",
      "Data columns (total 11 columns):\n",
      " #   Column           Non-Null Count  Dtype  \n",
      "---  ------           --------------  -----  \n",
      " 0   Name             16713 non-null  object \n",
      " 1   Platform         16715 non-null  object \n",
      " 2   Year_of_Release  16446 non-null  float64\n",
      " 3   Genre            16713 non-null  object \n",
      " 4   NA_sales         16715 non-null  float64\n",
      " 5   EU_sales         16715 non-null  float64\n",
      " 6   JP_sales         16715 non-null  float64\n",
      " 7   Other_sales      16715 non-null  float64\n",
      " 8   Critic_Score     8137 non-null   float64\n",
      " 9   User_Score       10014 non-null  object \n",
      " 10  Rating           9949 non-null   object \n",
      "dtypes: float64(6), object(5)\n",
      "memory usage: 1.4+ MB\n"
     ]
    },
    {
     "data": {
      "text/plain": [
       "None"
      ]
     },
     "metadata": {},
     "output_type": "display_data"
    },
    {
     "data": {
      "text/html": [
       "<div>\n",
       "<style scoped>\n",
       "    .dataframe tbody tr th:only-of-type {\n",
       "        vertical-align: middle;\n",
       "    }\n",
       "\n",
       "    .dataframe tbody tr th {\n",
       "        vertical-align: top;\n",
       "    }\n",
       "\n",
       "    .dataframe thead th {\n",
       "        text-align: right;\n",
       "    }\n",
       "</style>\n",
       "<table border=\"1\" class=\"dataframe\">\n",
       "  <thead>\n",
       "    <tr style=\"text-align: right;\">\n",
       "      <th></th>\n",
       "      <th>Name</th>\n",
       "      <th>Platform</th>\n",
       "      <th>Year_of_Release</th>\n",
       "      <th>Genre</th>\n",
       "      <th>NA_sales</th>\n",
       "      <th>EU_sales</th>\n",
       "      <th>JP_sales</th>\n",
       "      <th>Other_sales</th>\n",
       "      <th>Critic_Score</th>\n",
       "      <th>User_Score</th>\n",
       "      <th>Rating</th>\n",
       "    </tr>\n",
       "  </thead>\n",
       "  <tbody>\n",
       "    <tr>\n",
       "      <th>0</th>\n",
       "      <td>Wii Sports</td>\n",
       "      <td>Wii</td>\n",
       "      <td>2006.0</td>\n",
       "      <td>Sports</td>\n",
       "      <td>41.36</td>\n",
       "      <td>28.96</td>\n",
       "      <td>3.77</td>\n",
       "      <td>8.45</td>\n",
       "      <td>76.0</td>\n",
       "      <td>8</td>\n",
       "      <td>E</td>\n",
       "    </tr>\n",
       "    <tr>\n",
       "      <th>1</th>\n",
       "      <td>Super Mario Bros.</td>\n",
       "      <td>NES</td>\n",
       "      <td>1985.0</td>\n",
       "      <td>Platform</td>\n",
       "      <td>29.08</td>\n",
       "      <td>3.58</td>\n",
       "      <td>6.81</td>\n",
       "      <td>0.77</td>\n",
       "      <td>NaN</td>\n",
       "      <td>NaN</td>\n",
       "      <td>NaN</td>\n",
       "    </tr>\n",
       "    <tr>\n",
       "      <th>2</th>\n",
       "      <td>Mario Kart Wii</td>\n",
       "      <td>Wii</td>\n",
       "      <td>2008.0</td>\n",
       "      <td>Racing</td>\n",
       "      <td>15.68</td>\n",
       "      <td>12.76</td>\n",
       "      <td>3.79</td>\n",
       "      <td>3.29</td>\n",
       "      <td>82.0</td>\n",
       "      <td>8.3</td>\n",
       "      <td>E</td>\n",
       "    </tr>\n",
       "    <tr>\n",
       "      <th>3</th>\n",
       "      <td>Wii Sports Resort</td>\n",
       "      <td>Wii</td>\n",
       "      <td>2009.0</td>\n",
       "      <td>Sports</td>\n",
       "      <td>15.61</td>\n",
       "      <td>10.93</td>\n",
       "      <td>3.28</td>\n",
       "      <td>2.95</td>\n",
       "      <td>80.0</td>\n",
       "      <td>8</td>\n",
       "      <td>E</td>\n",
       "    </tr>\n",
       "    <tr>\n",
       "      <th>4</th>\n",
       "      <td>Pokemon Red/Pokemon Blue</td>\n",
       "      <td>GB</td>\n",
       "      <td>1996.0</td>\n",
       "      <td>Role-Playing</td>\n",
       "      <td>11.27</td>\n",
       "      <td>8.89</td>\n",
       "      <td>10.22</td>\n",
       "      <td>1.00</td>\n",
       "      <td>NaN</td>\n",
       "      <td>NaN</td>\n",
       "      <td>NaN</td>\n",
       "    </tr>\n",
       "  </tbody>\n",
       "</table>\n",
       "</div>"
      ],
      "text/plain": [
       "                       Name Platform  Year_of_Release         Genre  NA_sales  \\\n",
       "0                Wii Sports      Wii           2006.0        Sports     41.36   \n",
       "1         Super Mario Bros.      NES           1985.0      Platform     29.08   \n",
       "2            Mario Kart Wii      Wii           2008.0        Racing     15.68   \n",
       "3         Wii Sports Resort      Wii           2009.0        Sports     15.61   \n",
       "4  Pokemon Red/Pokemon Blue       GB           1996.0  Role-Playing     11.27   \n",
       "\n",
       "   EU_sales  JP_sales  Other_sales  Critic_Score User_Score Rating  \n",
       "0     28.96      3.77         8.45          76.0          8      E  \n",
       "1      3.58      6.81         0.77           NaN        NaN    NaN  \n",
       "2     12.76      3.79         3.29          82.0        8.3      E  \n",
       "3     10.93      3.28         2.95          80.0          8      E  \n",
       "4      8.89     10.22         1.00           NaN        NaN    NaN  "
      ]
     },
     "metadata": {},
     "output_type": "display_data"
    }
   ],
   "source": [
    "\n",
    "data = pd.read_csv('/datasets/games.csv')\n",
    "display(data.info())\n",
    "display (data.head(5))\n"
   ]
  },
  {
   "cell_type": "markdown",
   "metadata": {},
   "source": [
    "<b> Итог: </b>Загружены данные и просмотрена основная информация по датасету. В данных 16715 строки и 11 столбцов, в некоторых столбцах есть пропуски данных "
   ]
  },
  {
   "cell_type": "markdown",
   "metadata": {},
   "source": [
    "## Подготовка данных"
   ]
  },
  {
   "cell_type": "markdown",
   "metadata": {},
   "source": [
    "### Переименование столбцов "
   ]
  },
  {
   "cell_type": "code",
   "execution_count": 3,
   "metadata": {},
   "outputs": [
    {
     "name": "stdout",
     "output_type": "stream",
     "text": [
      "Index(['Name', 'Platform', 'Year_of_Release', 'Genre', 'NA_sales', 'EU_sales',\n",
      "       'JP_sales', 'Other_sales', 'Critic_Score', 'User_Score', 'Rating'],\n",
      "      dtype='object')\n"
     ]
    }
   ],
   "source": [
    "print(data.columns)\n"
   ]
  },
  {
   "cell_type": "code",
   "execution_count": 4,
   "metadata": {},
   "outputs": [],
   "source": [
    "data=data.rename(columns={'Name':'name', 'Platform':'platform', 'Year_of_Release':'year_of_release', 'Genre':'genre', 'NA_sales':'na_sales', 'EU_sales':'eu_sales',\n",
    "'JP_sales':'jp_sales', 'Other_sales':'other_sales', 'Critic_Score':'critic_score', 'User_Score':'user_score', 'Rating':'rating'\n",
    "})"
   ]
  },
  {
   "cell_type": "code",
   "execution_count": 5,
   "metadata": {
    "scrolled": true
   },
   "outputs": [
    {
     "data": {
      "text/html": [
       "<div>\n",
       "<style scoped>\n",
       "    .dataframe tbody tr th:only-of-type {\n",
       "        vertical-align: middle;\n",
       "    }\n",
       "\n",
       "    .dataframe tbody tr th {\n",
       "        vertical-align: top;\n",
       "    }\n",
       "\n",
       "    .dataframe thead th {\n",
       "        text-align: right;\n",
       "    }\n",
       "</style>\n",
       "<table border=\"1\" class=\"dataframe\">\n",
       "  <thead>\n",
       "    <tr style=\"text-align: right;\">\n",
       "      <th></th>\n",
       "      <th>name</th>\n",
       "      <th>platform</th>\n",
       "      <th>year_of_release</th>\n",
       "      <th>genre</th>\n",
       "      <th>na_sales</th>\n",
       "      <th>eu_sales</th>\n",
       "      <th>jp_sales</th>\n",
       "      <th>other_sales</th>\n",
       "      <th>critic_score</th>\n",
       "      <th>user_score</th>\n",
       "      <th>rating</th>\n",
       "    </tr>\n",
       "  </thead>\n",
       "  <tbody>\n",
       "    <tr>\n",
       "      <th>0</th>\n",
       "      <td>Wii Sports</td>\n",
       "      <td>Wii</td>\n",
       "      <td>2006.0</td>\n",
       "      <td>Sports</td>\n",
       "      <td>41.36</td>\n",
       "      <td>28.96</td>\n",
       "      <td>3.77</td>\n",
       "      <td>8.45</td>\n",
       "      <td>76.0</td>\n",
       "      <td>8</td>\n",
       "      <td>E</td>\n",
       "    </tr>\n",
       "    <tr>\n",
       "      <th>1</th>\n",
       "      <td>Super Mario Bros.</td>\n",
       "      <td>NES</td>\n",
       "      <td>1985.0</td>\n",
       "      <td>Platform</td>\n",
       "      <td>29.08</td>\n",
       "      <td>3.58</td>\n",
       "      <td>6.81</td>\n",
       "      <td>0.77</td>\n",
       "      <td>NaN</td>\n",
       "      <td>NaN</td>\n",
       "      <td>NaN</td>\n",
       "    </tr>\n",
       "    <tr>\n",
       "      <th>2</th>\n",
       "      <td>Mario Kart Wii</td>\n",
       "      <td>Wii</td>\n",
       "      <td>2008.0</td>\n",
       "      <td>Racing</td>\n",
       "      <td>15.68</td>\n",
       "      <td>12.76</td>\n",
       "      <td>3.79</td>\n",
       "      <td>3.29</td>\n",
       "      <td>82.0</td>\n",
       "      <td>8.3</td>\n",
       "      <td>E</td>\n",
       "    </tr>\n",
       "    <tr>\n",
       "      <th>3</th>\n",
       "      <td>Wii Sports Resort</td>\n",
       "      <td>Wii</td>\n",
       "      <td>2009.0</td>\n",
       "      <td>Sports</td>\n",
       "      <td>15.61</td>\n",
       "      <td>10.93</td>\n",
       "      <td>3.28</td>\n",
       "      <td>2.95</td>\n",
       "      <td>80.0</td>\n",
       "      <td>8</td>\n",
       "      <td>E</td>\n",
       "    </tr>\n",
       "    <tr>\n",
       "      <th>4</th>\n",
       "      <td>Pokemon Red/Pokemon Blue</td>\n",
       "      <td>GB</td>\n",
       "      <td>1996.0</td>\n",
       "      <td>Role-Playing</td>\n",
       "      <td>11.27</td>\n",
       "      <td>8.89</td>\n",
       "      <td>10.22</td>\n",
       "      <td>1.00</td>\n",
       "      <td>NaN</td>\n",
       "      <td>NaN</td>\n",
       "      <td>NaN</td>\n",
       "    </tr>\n",
       "  </tbody>\n",
       "</table>\n",
       "</div>"
      ],
      "text/plain": [
       "                       name platform  year_of_release         genre  na_sales  \\\n",
       "0                Wii Sports      Wii           2006.0        Sports     41.36   \n",
       "1         Super Mario Bros.      NES           1985.0      Platform     29.08   \n",
       "2            Mario Kart Wii      Wii           2008.0        Racing     15.68   \n",
       "3         Wii Sports Resort      Wii           2009.0        Sports     15.61   \n",
       "4  Pokemon Red/Pokemon Blue       GB           1996.0  Role-Playing     11.27   \n",
       "\n",
       "   eu_sales  jp_sales  other_sales  critic_score user_score rating  \n",
       "0     28.96      3.77         8.45          76.0          8      E  \n",
       "1      3.58      6.81         0.77           NaN        NaN    NaN  \n",
       "2     12.76      3.79         3.29          82.0        8.3      E  \n",
       "3     10.93      3.28         2.95          80.0          8      E  \n",
       "4      8.89     10.22         1.00           NaN        NaN    NaN  "
      ]
     },
     "execution_count": 5,
     "metadata": {},
     "output_type": "execute_result"
    }
   ],
   "source": [
    "data.head()"
   ]
  },
  {
   "cell_type": "markdown",
   "metadata": {},
   "source": [
    "<b> Итог: </b>изменено название столбцов на нижний регистр"
   ]
  },
  {
   "cell_type": "markdown",
   "metadata": {},
   "source": [
    "### Поиск дубликатов, изменения формата некоторых столбцов\n"
   ]
  },
  {
   "cell_type": "code",
   "execution_count": 6,
   "metadata": {},
   "outputs": [
    {
     "name": "stdout",
     "output_type": "stream",
     "text": [
      "['8' nan '8.3' '8.5' '6.6' '8.4' '8.6' '7.7' '6.3' '7.4' '8.2' '9' '7.9'\n",
      " '8.1' '8.7' '7.1' '3.4' '5.3' '4.8' '3.2' '8.9' '6.4' '7.8' '7.5' '2.6'\n",
      " '7.2' '9.2' '7' '7.3' '4.3' '7.6' '5.7' '5' '9.1' '6.5' 'tbd' '8.8' '6.9'\n",
      " '9.4' '6.8' '6.1' '6.7' '5.4' '4' '4.9' '4.5' '9.3' '6.2' '4.2' '6' '3.7'\n",
      " '4.1' '5.8' '5.6' '5.5' '4.4' '4.6' '5.9' '3.9' '3.1' '2.9' '5.2' '3.3'\n",
      " '4.7' '5.1' '3.5' '2.5' '1.9' '3' '2.7' '2.2' '2' '9.5' '2.1' '3.6' '2.8'\n",
      " '1.8' '3.8' '0' '1.6' '9.6' '2.4' '1.7' '1.1' '0.3' '1.5' '0.7' '1.2'\n",
      " '2.3' '0.5' '1.3' '0.2' '0.6' '1.4' '0.9' '1' '9.7']\n"
     ]
    },
    {
     "data": {
      "text/html": [
       "<div>\n",
       "<style scoped>\n",
       "    .dataframe tbody tr th:only-of-type {\n",
       "        vertical-align: middle;\n",
       "    }\n",
       "\n",
       "    .dataframe tbody tr th {\n",
       "        vertical-align: top;\n",
       "    }\n",
       "\n",
       "    .dataframe thead th {\n",
       "        text-align: right;\n",
       "    }\n",
       "</style>\n",
       "<table border=\"1\" class=\"dataframe\">\n",
       "  <thead>\n",
       "    <tr style=\"text-align: right;\">\n",
       "      <th></th>\n",
       "      <th>name</th>\n",
       "      <th>platform</th>\n",
       "      <th>year_of_release</th>\n",
       "      <th>genre</th>\n",
       "      <th>na_sales</th>\n",
       "      <th>eu_sales</th>\n",
       "      <th>jp_sales</th>\n",
       "      <th>other_sales</th>\n",
       "      <th>critic_score</th>\n",
       "      <th>user_score</th>\n",
       "      <th>rating</th>\n",
       "    </tr>\n",
       "  </thead>\n",
       "  <tbody>\n",
       "    <tr>\n",
       "      <th>0</th>\n",
       "      <td>Wii Sports</td>\n",
       "      <td>Wii</td>\n",
       "      <td>2006.0</td>\n",
       "      <td>Sports</td>\n",
       "      <td>41.36</td>\n",
       "      <td>28.96</td>\n",
       "      <td>3.77</td>\n",
       "      <td>8.45</td>\n",
       "      <td>76.0</td>\n",
       "      <td>8</td>\n",
       "      <td>E</td>\n",
       "    </tr>\n",
       "    <tr>\n",
       "      <th>1</th>\n",
       "      <td>Super Mario Bros.</td>\n",
       "      <td>NES</td>\n",
       "      <td>1985.0</td>\n",
       "      <td>Platform</td>\n",
       "      <td>29.08</td>\n",
       "      <td>3.58</td>\n",
       "      <td>6.81</td>\n",
       "      <td>0.77</td>\n",
       "      <td>NaN</td>\n",
       "      <td>NaN</td>\n",
       "      <td>NaN</td>\n",
       "    </tr>\n",
       "    <tr>\n",
       "      <th>2</th>\n",
       "      <td>Mario Kart Wii</td>\n",
       "      <td>Wii</td>\n",
       "      <td>2008.0</td>\n",
       "      <td>Racing</td>\n",
       "      <td>15.68</td>\n",
       "      <td>12.76</td>\n",
       "      <td>3.79</td>\n",
       "      <td>3.29</td>\n",
       "      <td>82.0</td>\n",
       "      <td>8.3</td>\n",
       "      <td>E</td>\n",
       "    </tr>\n",
       "    <tr>\n",
       "      <th>3</th>\n",
       "      <td>Wii Sports Resort</td>\n",
       "      <td>Wii</td>\n",
       "      <td>2009.0</td>\n",
       "      <td>Sports</td>\n",
       "      <td>15.61</td>\n",
       "      <td>10.93</td>\n",
       "      <td>3.28</td>\n",
       "      <td>2.95</td>\n",
       "      <td>80.0</td>\n",
       "      <td>8</td>\n",
       "      <td>E</td>\n",
       "    </tr>\n",
       "    <tr>\n",
       "      <th>4</th>\n",
       "      <td>Pokemon Red/Pokemon Blue</td>\n",
       "      <td>GB</td>\n",
       "      <td>1996.0</td>\n",
       "      <td>Role-Playing</td>\n",
       "      <td>11.27</td>\n",
       "      <td>8.89</td>\n",
       "      <td>10.22</td>\n",
       "      <td>1.00</td>\n",
       "      <td>NaN</td>\n",
       "      <td>NaN</td>\n",
       "      <td>NaN</td>\n",
       "    </tr>\n",
       "  </tbody>\n",
       "</table>\n",
       "</div>"
      ],
      "text/plain": [
       "                       name platform  year_of_release         genre  na_sales  \\\n",
       "0                Wii Sports      Wii           2006.0        Sports     41.36   \n",
       "1         Super Mario Bros.      NES           1985.0      Platform     29.08   \n",
       "2            Mario Kart Wii      Wii           2008.0        Racing     15.68   \n",
       "3         Wii Sports Resort      Wii           2009.0        Sports     15.61   \n",
       "4  Pokemon Red/Pokemon Blue       GB           1996.0  Role-Playing     11.27   \n",
       "\n",
       "   eu_sales  jp_sales  other_sales  critic_score user_score rating  \n",
       "0     28.96      3.77         8.45          76.0          8      E  \n",
       "1      3.58      6.81         0.77           NaN        NaN    NaN  \n",
       "2     12.76      3.79         3.29          82.0        8.3      E  \n",
       "3     10.93      3.28         2.95          80.0          8      E  \n",
       "4      8.89     10.22         1.00           NaN        NaN    NaN  "
      ]
     },
     "metadata": {},
     "output_type": "display_data"
    }
   ],
   "source": [
    "print(data['user_score'].unique())\n",
    "#data['year_of_release'] = pd.to_numeric(data['year_of_release'],downcast='integer',errors='coerce') \n",
    "display(data.head())"
   ]
  },
  {
   "cell_type": "markdown",
   "metadata": {},
   "source": [
    "<b> Итог: </b>Изменяю типы столбцов: year_of_release, но результата нет, т.к. пропуски в столбеце. оставляю пока. \n"
   ]
  },
  {
   "cell_type": "code",
   "execution_count": 7,
   "metadata": {},
   "outputs": [
    {
     "name": "stdout",
     "output_type": "stream",
     "text": [
      "[8.  nan 8.3 8.5 6.6 8.4 8.6 7.7 6.3 7.4 8.2 9.  7.9 8.1 8.7 7.1 3.4 5.3\n",
      " 4.8 3.2 8.9 6.4 7.8 7.5 2.6 7.2 9.2 7.  7.3 4.3 7.6 5.7 5.  9.1 6.5 8.8\n",
      " 6.9 9.4 6.8 6.1 6.7 5.4 4.  4.9 4.5 9.3 6.2 4.2 6.  3.7 4.1 5.8 5.6 5.5\n",
      " 4.4 4.6 5.9 3.9 3.1 2.9 5.2 3.3 4.7 5.1 3.5 2.5 1.9 3.  2.7 2.2 2.  9.5\n",
      " 2.1 3.6 2.8 1.8 3.8 0.  1.6 9.6 2.4 1.7 1.1 0.3 1.5 0.7 1.2 2.3 0.5 1.3\n",
      " 0.2 0.6 1.4 0.9 1.  9.7]\n"
     ]
    }
   ],
   "source": [
    "#what_is_tbd = data.loc[data['user_score'] == 'tbd']\n",
    "#print(what_is_tbd.head(30))\n",
    "#print(what_is_tbd.info())\n",
    "#print(what_is_tbd['rating'].unique())\n",
    "data['user_score'] = pd.to_numeric(data['user_score'],errors='coerce')\n",
    "print(data['user_score'].unique())"
   ]
  },
  {
   "cell_type": "markdown",
   "metadata": {},
   "source": [
    "Попытка разобраться, что такое tbd: сделала выборку методом .loc и посмотрела в ней данные. По данным в выборке закономерностей не нашла. Скорее всего сокращение: To Be Determined (будет определено). Тогда по смыслу можно перевести столбец в числовой формат и заменить tbd на NAN. Код по выборке закрыла #  <b> Итог: </b> 'user_score' переведен в числовой формат"
   ]
  },
  {
   "cell_type": "code",
   "execution_count": 8,
   "metadata": {},
   "outputs": [
    {
     "name": "stdout",
     "output_type": "stream",
     "text": [
      "0\n"
     ]
    }
   ],
   "source": [
    "print(data.duplicated().sum())"
   ]
  },
  {
   "cell_type": "markdown",
   "metadata": {},
   "source": [
    "Проведена проверка на явные дубликаты \n",
    "<b> Выводы: </b>явных дубликатов нет "
   ]
  },
  {
   "cell_type": "code",
   "execution_count": 9,
   "metadata": {},
   "outputs": [
    {
     "name": "stdout",
     "output_type": "stream",
     "text": [
      "['Wii' 'NES' 'GB' 'DS' 'X360' 'PS3' 'PS2' 'SNES' 'GBA' 'PS4' '3DS' 'N64'\n",
      " 'PS' 'XB' 'PC' '2600' 'PSP' 'XOne' 'WiiU' 'GC' 'GEN' 'DC' 'PSV' 'SAT'\n",
      " 'SCD' 'WS' 'NG' 'TG16' '3DO' 'GG' 'PCFX']\n"
     ]
    }
   ],
   "source": [
    "print(data['platform'].unique())"
   ]
  },
  {
   "cell_type": "markdown",
   "metadata": {},
   "source": [
    "смотрю список уникальных значений и проверяю на неявные дубликаты в столбце платформ <b> Выводы: </b> Неявных дубликатов в этом разделе не обнаружено"
   ]
  },
  {
   "cell_type": "code",
   "execution_count": 10,
   "metadata": {},
   "outputs": [
    {
     "name": "stdout",
     "output_type": "stream",
     "text": [
      "['Sports' 'Platform' 'Racing' 'Role-Playing' 'Puzzle' 'Misc' 'Shooter'\n",
      " 'Simulation' 'Action' 'Fighting' 'Adventure' 'Strategy' nan]\n"
     ]
    }
   ],
   "source": [
    "print(data['genre'].unique())"
   ]
  },
  {
   "cell_type": "markdown",
   "metadata": {},
   "source": [
    "смотрю список уникальных значений и проверяю на неявные дубликаты в столбце жанров. <b> Выводы: </b> Неявных дубликатов в столбце жанров не обнаружено"
   ]
  },
  {
   "cell_type": "code",
   "execution_count": 11,
   "metadata": {
    "scrolled": false
   },
   "outputs": [
    {
     "name": "stdout",
     "output_type": "stream",
     "text": [
      "Need for Speed: Most Wanted           12\n",
      "LEGO Marvel Super Heroes               9\n",
      "Ratatouille                            9\n",
      "Madden NFL 07                          9\n",
      "FIFA 14                                9\n",
      "                                      ..\n",
      "Yu-Gi-Oh! Reshef of Destruction        1\n",
      "Shrek Swamp Kart Speedway              1\n",
      "Sesame Street: Once Upon A Monster     1\n",
      "Truck Racer                            1\n",
      "The Settlers                           1\n",
      "Name: name, Length: 11559, dtype: int64\n",
      "                             name platform  year_of_release   genre  na_sales  \\\n",
      "253   Need for Speed: Most Wanted      PS2           2005.0  Racing      2.03   \n",
      "523   Need for Speed: Most Wanted      PS3           2012.0  Racing      0.71   \n",
      "1190  Need for Speed: Most Wanted     X360           2012.0  Racing      0.62   \n",
      "1591  Need for Speed: Most Wanted     X360           2005.0  Racing      1.00   \n",
      "1998  Need for Speed: Most Wanted       XB           2005.0  Racing      0.53   \n",
      "\n",
      "      eu_sales  jp_sales  other_sales  critic_score  user_score rating  \n",
      "253       1.79      0.08         0.47          82.0         9.1      T  \n",
      "523       1.46      0.06         0.58           NaN         NaN    NaN  \n",
      "1190      0.78      0.01         0.15          83.0         8.5      T  \n",
      "1591      0.13      0.02         0.10          83.0         8.5      T  \n",
      "1998      0.46      0.00         0.05          83.0         8.8      T  \n"
     ]
    }
   ],
   "source": [
    "print(data['name'].value_counts())\n",
    "name_not_uni = data.loc[data['name'] == 'Need for Speed: Most Wanted']\n",
    "print(name_not_uni.head())"
   ]
  },
  {
   "cell_type": "markdown",
   "metadata": {},
   "source": [
    "Рассмотрела список уникальных значений и повторы в столбце \"name\" <b> Выводы: </b> Это разные годы релиза и разные платформы, не дубликаты "
   ]
  },
  {
   "cell_type": "code",
   "execution_count": 12,
   "metadata": {},
   "outputs": [
    {
     "name": "stdout",
     "output_type": "stream",
     "text": [
      "70.0    256\n",
      "71.0    254\n",
      "75.0    245\n",
      "78.0    240\n",
      "73.0    238\n",
      "       ... \n",
      "29.0      3\n",
      "13.0      1\n",
      "22.0      1\n",
      "17.0      1\n",
      "21.0      1\n",
      "Name: critic_score, Length: 82, dtype: int64\n",
      "[76. nan 82. 80. 89. 58. 87. 91. 61. 97. 95. 77. 88. 83. 94. 93. 85. 86.\n",
      " 98. 96. 90. 84. 73. 74. 78. 92. 71. 72. 68. 62. 49. 67. 81. 66. 56. 79.\n",
      " 70. 59. 64. 75. 60. 63. 69. 50. 25. 42. 44. 55. 48. 57. 29. 47. 65. 54.\n",
      " 20. 53. 37. 38. 33. 52. 30. 32. 43. 45. 51. 40. 46. 39. 34. 35. 41. 36.\n",
      " 28. 31. 27. 26. 19. 23. 24. 21. 17. 22. 13.]\n"
     ]
    }
   ],
   "source": [
    "print(data['critic_score'].value_counts())\n",
    "print(data['critic_score'].unique())"
   ]
  },
  {
   "cell_type": "markdown",
   "metadata": {},
   "source": [
    "<b> Итог: </b> Рассмотрела данные в critic_score, в принципе, это целое число. Но на int заменить не получится, тк.пропуски\n"
   ]
  },
  {
   "cell_type": "code",
   "execution_count": 13,
   "metadata": {},
   "outputs": [],
   "source": [
    "data['rating'] = data['rating'].fillna(value='unknown') "
   ]
  },
  {
   "cell_type": "markdown",
   "metadata": {},
   "source": [
    "<b> Итоги по изменения формате и удалению пропусков: </b> \n",
    "\n",
    "Проведен анализ пропусков, замена формата по мере необходимости, поиск явных и неявных дубликатов.\n",
    "\n",
    "В целом пропуске в датасете могут быть по нескольким причинам: \n",
    "1. данных не было изначально никогда (особенности сбора данных за весь исторический период \n",
    "2. данных за 2016 еще не было на момент датасета в 2016 году \n",
    "3. не был предусмотрен сбор данных по какой-нибуль категории (например, в датасете рейтингов ESRB не все варианты присутсвуют - нет  «EC» («Early childhood») или «AO» («Adults Only 18+»)\n",
    "4. данные потеряны по какой-либо технической причине (при сборе, хранении, копировании) \n",
    "\n",
    "\n",
    "- Изменен формат столбцов 'user_score': 'tbd' скорее всего означает 'To Be Determined (будет определено - прямое указание на то, что данных на момент получения датасета не было)' Вероятно, другие пропуски по этой же причине.'tbd' заменено на nan, 'user_score' переведен в числовой формат.\n",
    "- Пробовала изменить формат 'year_of_release' на INT, но результата не было, т.к. пропуски в столбце. Отложила это, т.к. в дальшейшем в работе была в основном выборка из датасета с точным указанием года, где формат был изменен.\n",
    "- Проверила на явные и неявные дубликаты в столбцах 'name', 'genre', не выявила таких\n",
    "- Пропуски в столбце 'rating' заменила на 'unknown', т.к. выяснилось, что у ESRB нет универсального применения и в результате много пропущенных данных.\n",
    "\n"
   ]
  },
  {
   "cell_type": "markdown",
   "metadata": {},
   "source": [
    "### Добавление столбца с итогами продаж по всем регионам"
   ]
  },
  {
   "cell_type": "code",
   "execution_count": 14,
   "metadata": {
    "scrolled": true
   },
   "outputs": [
    {
     "name": "stdout",
     "output_type": "stream",
     "text": [
      "<class 'pandas.core.frame.DataFrame'>\n",
      "RangeIndex: 16715 entries, 0 to 16714\n",
      "Data columns (total 12 columns):\n",
      " #   Column           Non-Null Count  Dtype  \n",
      "---  ------           --------------  -----  \n",
      " 0   name             16713 non-null  object \n",
      " 1   platform         16715 non-null  object \n",
      " 2   year_of_release  16446 non-null  float64\n",
      " 3   genre            16713 non-null  object \n",
      " 4   na_sales         16715 non-null  float64\n",
      " 5   eu_sales         16715 non-null  float64\n",
      " 6   jp_sales         16715 non-null  float64\n",
      " 7   other_sales      16715 non-null  float64\n",
      " 8   critic_score     8137 non-null   float64\n",
      " 9   user_score       7590 non-null   float64\n",
      " 10  rating           16715 non-null  object \n",
      " 11  global_sales     16715 non-null  float64\n",
      "dtypes: float64(8), object(4)\n",
      "memory usage: 1.5+ MB\n",
      "None\n"
     ]
    }
   ],
   "source": [
    "data['global_sales'] = data['na_sales']+data['eu_sales']+data['jp_sales']+data['other_sales']\n",
    "print(data.info())"
   ]
  },
  {
   "cell_type": "markdown",
   "metadata": {},
   "source": [
    "## Исследовательский анализ данных"
   ]
  },
  {
   "cell_type": "markdown",
   "metadata": {},
   "source": [
    "### Динамика выпуска и продаж игр по данным за весь период "
   ]
  },
  {
   "cell_type": "code",
   "execution_count": 15,
   "metadata": {
    "scrolled": false
   },
   "outputs": [
    {
     "name": "stdout",
     "output_type": "stream",
     "text": [
      "                 количество выпущенных игр\n",
      "year_of_release                           \n",
      "1980.0                                   9\n",
      "1981.0                                  46\n",
      "1982.0                                  36\n",
      "1983.0                                  17\n",
      "1984.0                                  14\n",
      "1985.0                                  14\n",
      "1986.0                                  21\n",
      "1987.0                                  16\n",
      "1988.0                                  15\n",
      "1989.0                                  17\n",
      "1990.0                                  16\n",
      "1991.0                                  41\n",
      "1992.0                                  43\n",
      "1993.0                                  60\n",
      "1994.0                                 121\n",
      "1995.0                                 219\n",
      "1996.0                                 263\n",
      "1997.0                                 289\n",
      "1998.0                                 379\n",
      "1999.0                                 338\n",
      "2000.0                                 350\n",
      "2001.0                                 482\n",
      "2002.0                                 829\n",
      "2003.0                                 775\n",
      "2004.0                                 762\n",
      "2005.0                                 939\n",
      "2006.0                                1006\n",
      "2007.0                                1197\n",
      "2008.0                                1427\n",
      "2009.0                                1426\n",
      "2010.0                                1255\n",
      "2011.0                                1136\n",
      "2012.0                                 653\n",
      "2013.0                                 544\n",
      "2014.0                                 581\n",
      "2015.0                                 606\n",
      "2016.0                                 502\n"
     ]
    },
    {
     "data": {
      "image/png": "[encoded data removed]",
      "text/plain": [
       "<Figure size 864x360 with 1 Axes>"
      ]
     },
     "metadata": {
      "needs_background": "light"
     },
     "output_type": "display_data"
    }
   ],
   "source": [
    "\n",
    "#data.groupby('year_of_release').['name'].count()\n",
    "\n",
    "year_pivot = data.pivot_table(index='year_of_release', values='name', aggfunc=['count'])\n",
    "year_pivot.columns = ['количество выпущенных игр'] \n",
    "print(year_pivot)\n",
    "year_pivot.plot(grid=True, figsize=(12, 5))\n",
    "plt.title('Динамика выпуска и продаж игр по данным за весь период')\n",
    "plt.xlabel('Год выпуска')\n",
    "plt.ylabel('Количество миллионов проданных копий ')\n",
    "plt.show()"
   ]
  },
  {
   "cell_type": "markdown",
   "metadata": {},
   "source": [
    "<b> Выводы: </b> Анализирую данные по годам, явные изменения динамики после 1993, но это слишком давний период. Пробую найти другой критерий для границы выборки по годам. И с 2009 примерно идет вниз - смарфоны вытесняют? видеокарты? (версия). Может быть взять период с 2013 года? "
   ]
  },
  {
   "cell_type": "markdown",
   "metadata": {},
   "source": [
    "### Анализ динамики продаж по платформам "
   ]
  },
  {
   "cell_type": "code",
   "execution_count": 16,
   "metadata": {
    "scrolled": false
   },
   "outputs": [
    {
     "data": {
      "image/png": "[encoded data removed]",
      "text/plain": [
       "<Figure size 864x360 with 1 Axes>"
      ]
     },
     "metadata": {
      "needs_background": "light"
     },
     "output_type": "display_data"
    },
    {
     "name": "stdout",
     "output_type": "stream",
     "text": [
      "platform\n",
      "2600      96.98\n",
      "3DO        0.10\n",
      "3DS      259.00\n",
      "DC        15.95\n",
      "DS       806.12\n",
      "GB       255.46\n",
      "GBA      317.85\n",
      "GC       198.93\n",
      "GEN       30.77\n",
      "GG         0.04\n",
      "N64      218.68\n",
      "NES      251.05\n",
      "NG         1.44\n",
      "PC       259.52\n",
      "PCFX       0.03\n",
      "PS       730.86\n",
      "PS2     1255.77\n",
      "PS3      939.65\n",
      "PS4      314.14\n",
      "PSP      294.05\n",
      "PSV       54.07\n",
      "SAT       33.59\n",
      "SCD        1.86\n",
      "SNES     200.04\n",
      "TG16       0.16\n",
      "WS         1.42\n",
      "Wii      907.51\n",
      "WiiU      82.19\n",
      "X360     971.42\n",
      "XB       257.74\n",
      "XOne     159.32\n",
      "Name: global_sales, dtype: float64\n",
      "cумма по global_sales 8915.71\n",
      "количество платформ в датасете 31\n",
      "средняя цифра по платформе 287.60354838709674\n",
      "          количество миллионов проданных копий\n",
      "platform                                      \n",
      "PS2                                    1255.77\n",
      "X360                                    971.42\n",
      "PS3                                     939.65\n",
      "Wii                                     907.51\n",
      "DS                                      806.12\n",
      "PS                                      730.86\n",
      "GBA                                     317.85\n",
      "PS4                                     314.14\n",
      "PSP                                     294.05\n",
      "PC                                      259.52\n",
      "3DS                                     259.00\n",
      "XB                                      257.74\n",
      "GB                                      255.46\n",
      "NES                                     251.05\n",
      "N64                                     218.68\n",
      "SNES                                    200.04\n",
      "GC                                      198.93\n",
      "XOne                                    159.32\n",
      "2600                                     96.98\n",
      "WiiU                                     82.19\n",
      "PSV                                      54.07\n",
      "SAT                                      33.59\n",
      "GEN                                      30.77\n",
      "DC                                       15.95\n",
      "SCD                                       1.86\n",
      "NG                                        1.44\n",
      "WS                                        1.42\n",
      "TG16                                      0.16\n",
      "3DO                                       0.10\n",
      "GG                                        0.04\n",
      "PCFX                                      0.03\n"
     ]
    }
   ],
   "source": [
    "data.groupby('platform')['global_sales'].sum().plot(kind='bar', grid=True, figsize=(12, 5))\n",
    "plt.title('Анализ динамики продаж по платформам')\n",
    "plt.xlabel('платформа')\n",
    "plt.ylabel('количество миллионов проданных копий')\n",
    "plt.show()\n",
    "print(data.groupby('platform')['global_sales'].sum())\n",
    "#print ('количество платформ', len(data['platform'].unique())\n",
    "print('cумма по global_sales', data['global_sales'].sum())\n",
    "print('количество платформ в датасете', len(data['platform'].unique()))\n",
    "print('средняя цифра по платформе', data['global_sales'].sum()/len(data['platform'].unique()))\n",
    "sales_by_platform = (data.pivot_table(index = 'platform', values = 'global_sales', aggfunc = 'sum').\n",
    "sort_values('global_sales', ascending = False))\n",
    "sales_by_platform.columns = [ 'количество миллионов проданных копий'] \n",
    "print(sales_by_platform)\n"
   ]
  },
  {
   "cell_type": "markdown",
   "metadata": {},
   "source": [
    "<b> Итоги: </b> По рассчитаному ранее: среднее количество продаж копий на платфоме 287+ миллионов копий. \n",
    " \n",
    "Сгруппируем данные по суммарным продажам на платформах и выделим 6 с наибольшими суммарными продажами : \n",
    "DS       806.12 \n",
    "PS       730.86\n",
    "PS2     1255.77\n",
    "PS3      939.65\n",
    "Wii      907.51\n",
    "X360     971.42\n",
    "\n",
    "Очевидно, что основной объем продаж делает несколько крупных платформ. При из анализе в дальнейшем возьмем на условную границу 500 млн копий \n",
    "<b> Выводы: </b> Предлагаю считать границой \"наибольшего успеха\" 500 млн копий на платформе за всю историю и более 50 млн в год - предлагаю как человеко-понятную категориаьную границу на основе визуального анализа данных "
   ]
  },
  {
   "cell_type": "markdown",
   "metadata": {},
   "source": [
    "#### Платформа 'DS'"
   ]
  },
  {
   "cell_type": "code",
   "execution_count": 17,
   "metadata": {},
   "outputs": [
    {
     "name": "stdout",
     "output_type": "stream",
     "text": [
      "                 количество продаж\n",
      "year_of_release                   \n",
      "1985.0                        0.02\n",
      "2004.0                       17.27\n",
      "2005.0                      130.14\n",
      "2006.0                      119.81\n",
      "2007.0                      146.94\n",
      "2008.0                      145.31\n",
      "2009.0                      119.54\n",
      "2010.0                       85.02\n",
      "2011.0                       26.18\n",
      "2012.0                       11.01\n",
      "2013.0                        1.54\n"
     ]
    },
    {
     "data": {
      "image/png": "[encoded data removed]",
      "text/plain": [
       "<Figure size 864x360 with 1 Axes>"
      ]
     },
     "metadata": {
      "needs_background": "light"
     },
     "output_type": "display_data"
    }
   ],
   "source": [
    "data_ds = data.loc[data['platform'] == 'DS']\n",
    "data_ds_pivot = data_ds.pivot_table(index='year_of_release', values='global_sales', aggfunc=['sum'])\n",
    "data_ds_pivot.columns = ['количество продаж'] \n",
    "print(data_ds_pivot)\n",
    "data_ds_pivot.plot(kind='bar', grid=True, figsize=(12, 5))\n",
    "plt.title('Платформа DS')\n",
    "plt.xlabel('годы продаж')\n",
    "plt.ylabel('количество миллионов проданных копий')\n",
    "plt.show()"
   ]
  },
  {
   "cell_type": "markdown",
   "metadata": {},
   "source": [
    "<b> Выводы: </b> Платформа 'DS' существовала с 2004 по 2013 (судя по данным, в 85м какой-то артефакт???), успешно с 2005 по 2010 включительно, 6 лет \n",
    "<b> Примечание: </b>Артефакт привел в Википедию и дальше. Оказалось 'Свою историю компания Nintendo начала 23 сентября 1889 года, когда Фусахиро Ямаути ....начала выпускать японские игральные карты Hanafuda (цветок)'....потом много всего... и 'Nintendo Entertainment System (NES)\n",
    "В 1985 представила в США и в 1986 году в Европе игровую приставку Nintendo Entertainment System, которая, по сути, была ребрендингом Famicom для иностранных рынков.'... 31 августа 2013 \"поддержка прекращена\", платформа во что-то эволюционировала "
   ]
  },
  {
   "cell_type": "markdown",
   "metadata": {},
   "source": [
    "#### Платформа 'PS'"
   ]
  },
  {
   "cell_type": "code",
   "execution_count": 18,
   "metadata": {},
   "outputs": [
    {
     "name": "stdout",
     "output_type": "stream",
     "text": [
      "                 количество продаж\n",
      "year_of_release                   \n",
      "1994.0                        6.03\n",
      "1995.0                       35.96\n",
      "1996.0                       94.70\n",
      "1997.0                      136.17\n",
      "1998.0                      169.49\n",
      "1999.0                      144.53\n",
      "2000.0                       96.37\n",
      "2001.0                       35.59\n",
      "2002.0                        6.67\n",
      "2003.0                        2.07\n"
     ]
    },
    {
     "data": {
      "image/png": "[encoded data removed]",
      "text/plain": [
       "<Figure size 864x360 with 1 Axes>"
      ]
     },
     "metadata": {
      "needs_background": "light"
     },
     "output_type": "display_data"
    }
   ],
   "source": [
    "data_ps = data.loc[data['platform'] == 'PS']\n",
    "data_ps_pivot = data_ps.pivot_table(index='year_of_release', values='global_sales', aggfunc=['sum'])\n",
    "data_ps_pivot.columns = ['количество продаж'] \n",
    "print(data_ps_pivot)\n",
    "data_ps_pivot.plot(kind='bar', grid=True, figsize=(12, 5))\n",
    "plt.title('Платформа PS')\n",
    "plt.xlabel('годы продаж')\n",
    "plt.ylabel('количество миллионов проданных копий')\n",
    "plt.show()"
   ]
  },
  {
   "cell_type": "markdown",
   "metadata": {},
   "source": [
    "<b> Выводы: </b> Платформа 'PS' существовала с 1994 по 2003, наиболее активно с 1996 по 2001, 5 лет. (PlayStation (c 1994 - подтвердила в Википедии. Потом она обновляется и будет с номерами.) "
   ]
  },
  {
   "cell_type": "markdown",
   "metadata": {},
   "source": [
    "#### Платформа 'PS2'"
   ]
  },
  {
   "cell_type": "code",
   "execution_count": 19,
   "metadata": {},
   "outputs": [
    {
     "name": "stdout",
     "output_type": "stream",
     "text": [
      "                 количество продаж\n",
      "year_of_release                   \n",
      "2000.0                       39.17\n",
      "2001.0                      166.43\n",
      "2002.0                      205.38\n",
      "2003.0                      184.31\n",
      "2004.0                      211.81\n",
      "2005.0                      160.66\n",
      "2006.0                      103.42\n",
      "2007.0                       75.99\n",
      "2008.0                       53.90\n",
      "2009.0                       26.40\n",
      "2010.0                        5.64\n",
      "2011.0                        0.45\n"
     ]
    },
    {
     "data": {
      "image/png": "[encoded data removed]",
      "text/plain": [
       "<Figure size 864x360 with 1 Axes>"
      ]
     },
     "metadata": {
      "needs_background": "light"
     },
     "output_type": "display_data"
    }
   ],
   "source": [
    "data_ps2 = data.loc[data['platform'] == 'PS2']\n",
    "data_ps2_pivot = data_ps2.pivot_table(index='year_of_release', values='global_sales', aggfunc=['sum'])\n",
    "data_ps2_pivot.columns = ['количество продаж'] \n",
    "print(data_ps2_pivot)\n",
    "data_ps2_pivot.plot(kind='bar', grid=True, figsize=(12, 5))\n",
    "plt.title('Платформа PS2')\n",
    "plt.xlabel('годы продаж')\n",
    "plt.ylabel('количество миллионов проданных копий')\n",
    "plt.show()"
   ]
  },
  {
   "cell_type": "markdown",
   "metadata": {},
   "source": [
    "<b> Выводы: </b>Платформа 'PS2' существовала с 2000 по 2011, наиболее активно с 2001 по 2008, 8 лет. (по Википедии поддержка прекращена 4 января 2013, продажи вероятно ранее) "
   ]
  },
  {
   "cell_type": "markdown",
   "metadata": {},
   "source": [
    "#### Платформа 'PS3'"
   ]
  },
  {
   "cell_type": "code",
   "execution_count": 20,
   "metadata": {},
   "outputs": [
    {
     "name": "stdout",
     "output_type": "stream",
     "text": [
      "                 количество продаж\n",
      "year_of_release                   \n",
      "2006.0                       20.96\n",
      "2007.0                       73.19\n",
      "2008.0                      118.52\n",
      "2009.0                      130.93\n",
      "2010.0                      142.17\n",
      "2011.0                      156.78\n",
      "2012.0                      107.36\n",
      "2013.0                      113.25\n",
      "2014.0                       47.76\n",
      "2015.0                       16.82\n",
      "2016.0                        3.60\n"
     ]
    },
    {
     "data": {
      "image/png": "[encoded data removed]",
      "text/plain": [
       "<Figure size 864x360 with 1 Axes>"
      ]
     },
     "metadata": {
      "needs_background": "light"
     },
     "output_type": "display_data"
    }
   ],
   "source": [
    "data_ps3 = data.loc[data['platform'] == 'PS3']\n",
    "data_ps3_pivot = data_ps3.pivot_table(index='year_of_release', values='global_sales', aggfunc=['sum'])\n",
    "data_ps3_pivot.columns = ['количество продаж'] \n",
    "print(data_ps3_pivot)\n",
    "data_ps3_pivot.plot(kind='bar', grid=True, figsize=(12, 5))\n",
    "plt.title('Платформа PS3')\n",
    "plt.xlabel('годы продаж')\n",
    "plt.ylabel('количество миллионов проданных копий')\n",
    "plt.show()"
   ]
  },
  {
   "cell_type": "markdown",
   "metadata": {},
   "source": [
    "<b> Выводы: </b> Платформа 'PS3' существовала с 2006 по 2016 (может и дальше), наиболее активно с 2007 по 2013, 7 лет. <b> Спойлеры из Википедии: </b> нет, дальше она не существовала...Да я бы и так ее не рекомендовала :))), тк в 2015 и 2016 все сходит на ноль"
   ]
  },
  {
   "cell_type": "markdown",
   "metadata": {},
   "source": [
    "#### Платформа 'Wii' "
   ]
  },
  {
   "cell_type": "code",
   "execution_count": 21,
   "metadata": {},
   "outputs": [
    {
     "name": "stdout",
     "output_type": "stream",
     "text": [
      "                 количество продаж\n",
      "year_of_release                   \n",
      "2006.0                      137.15\n",
      "2007.0                      152.77\n",
      "2008.0                      171.32\n",
      "2009.0                      206.97\n",
      "2010.0                      127.95\n",
      "2011.0                       59.65\n",
      "2012.0                       21.71\n",
      "2013.0                        8.59\n",
      "2014.0                        3.75\n",
      "2015.0                        1.14\n",
      "2016.0                        0.18\n"
     ]
    },
    {
     "data": {
      "image/png": "[encoded data removed]",
      "text/plain": [
       "<Figure size 864x360 with 1 Axes>"
      ]
     },
     "metadata": {
      "needs_background": "light"
     },
     "output_type": "display_data"
    }
   ],
   "source": [
    "data_wii = data.loc[data['platform'] == 'Wii']\n",
    "data_wii_pivot = data_wii.pivot_table(index='year_of_release', values='global_sales', aggfunc=['sum'])\n",
    "data_wii_pivot.columns = ['количество продаж'] \n",
    "print(data_wii_pivot)\n",
    "data_wii_pivot.plot(kind='bar', grid=True, figsize=(12, 5))\n",
    "plt.title('Платформа Wii')\n",
    "plt.xlabel('годы продаж')\n",
    "plt.ylabel('количество миллионов проданных копий')\n",
    "plt.show()"
   ]
  },
  {
   "cell_type": "markdown",
   "metadata": {},
   "source": [
    "<b> Выводы: </b>Платформа 'Wii' существовала с 2006 по 2016 (может и дальше), наиболее активно с 2006 по 2010, 5 лет. <b> Cпойлеры из Википедии: </b> посколько платформа очень плохо себя чувствует в 2013 - 2016 году, нужно узнать, что с ней стало в итоге... оказалось, что это была наследница Nintendo и тех поддержка прекращена 20 октября 2013, но каким-то чудом продажи наблюдаются до 2016... А кто был дальше? WiiU "
   ]
  },
  {
   "cell_type": "markdown",
   "metadata": {},
   "source": [
    "#### Платформа X360"
   ]
  },
  {
   "cell_type": "code",
   "execution_count": 22,
   "metadata": {},
   "outputs": [
    {
     "name": "stdout",
     "output_type": "stream",
     "text": [
      "                 количество продаж\n",
      "year_of_release                   \n",
      "2005.0                        8.25\n",
      "2006.0                       51.62\n",
      "2007.0                       95.41\n",
      "2008.0                      135.26\n",
      "2009.0                      120.29\n",
      "2010.0                      170.03\n",
      "2011.0                      143.84\n",
      "2012.0                       99.74\n",
      "2013.0                       88.58\n",
      "2014.0                       34.74\n",
      "2015.0                       11.96\n",
      "2016.0                        1.52\n"
     ]
    },
    {
     "data": {
      "image/png": "[encoded data removed]",
      "text/plain": [
       "<Figure size 864x360 with 1 Axes>"
      ]
     },
     "metadata": {
      "needs_background": "light"
     },
     "output_type": "display_data"
    }
   ],
   "source": [
    "data_x360 = data.loc[data['platform'] == 'X360']\n",
    "data_x360_pivot = data_x360.pivot_table(index='year_of_release', values='global_sales', aggfunc=['sum'])\n",
    "data_x360_pivot.columns = ['количество продаж'] \n",
    "print(data_x360_pivot)\n",
    "data_x360_pivot.plot(kind='bar', grid=True, figsize=(12, 5))\n",
    "plt.title('Платформа X360')\n",
    "plt.xlabel('годы продаж')\n",
    "plt.ylabel('количество миллионов проданных копий')\n",
    "plt.show()"
   ]
  },
  {
   "cell_type": "markdown",
   "metadata": {},
   "source": [
    "<b> Выводы: </b>Платформа 'X360' существовала с 2005 по 2016 (может и дальше), наиболее активно с 2007 по 2013, 6 лет.<b> Спойлеры от Википедии: </b>поддержка прекращена 20 апреля 2016 (снят с производства)"
   ]
  },
  {
   "cell_type": "markdown",
   "metadata": {},
   "source": [
    "<b> Выводы по всем платфомам: </b> На основе выбранных категорий (считать границой \"наибольшего успеха\" 500 млн за всю историю и более 50 млн в год) период успешого существования платформ 5-8 лет. Это подводит к пониманию границ актуального периода. Точно не имеет смысла больше 10 лет, вероятно меньше. Анализируя общий график, видно что весь рынок упал в 2012 году и с тех пор (до 16 года) примерно одинаковый. Но когда был бурный рост (напр.2007) - росло очень быстро и резко вверх. В общем, у меня выбор из 2-х идей про актуальный период - брать 10 лет, это будет оптимистичный прогноз. Или брать данные с 2012 года (это будет осторожный прогноз). <b> Решение: </b>Выберу осторожный вариант - актуальный период с 2012.  "
   ]
  },
  {
   "cell_type": "markdown",
   "metadata": {},
   "source": [
    "### Датасет на актуальный период (с 2012 года)"
   ]
  },
  {
   "cell_type": "code",
   "execution_count": 23,
   "metadata": {
    "scrolled": false
   },
   "outputs": [
    {
     "name": "stdout",
     "output_type": "stream",
     "text": [
      "<class 'pandas.core.frame.DataFrame'>\n",
      "Int64Index: 2886 entries, 16 to 16714\n",
      "Data columns (total 12 columns):\n",
      " #   Column           Non-Null Count  Dtype  \n",
      "---  ------           --------------  -----  \n",
      " 0   name             2886 non-null   object \n",
      " 1   platform         2886 non-null   object \n",
      " 2   year_of_release  2886 non-null   int16  \n",
      " 3   genre            2886 non-null   object \n",
      " 4   na_sales         2886 non-null   float64\n",
      " 5   eu_sales         2886 non-null   float64\n",
      " 6   jp_sales         2886 non-null   float64\n",
      " 7   other_sales      2886 non-null   float64\n",
      " 8   critic_score     1312 non-null   float64\n",
      " 9   user_score       1531 non-null   float64\n",
      " 10  rating           2886 non-null   object \n",
      " 11  global_sales     2886 non-null   float64\n",
      "dtypes: float64(7), int16(1), object(4)\n",
      "memory usage: 276.2+ KB\n",
      "None\n",
      "                          name platform  year_of_release         genre  \\\n",
      "16          Grand Theft Auto V      PS3             2013        Action   \n",
      "23          Grand Theft Auto V     X360             2013        Action   \n",
      "31   Call of Duty: Black Ops 3      PS4             2015       Shooter   \n",
      "33         Pokemon X/Pokemon Y      3DS             2013  Role-Playing   \n",
      "34  Call of Duty: Black Ops II      PS3             2012       Shooter   \n",
      "\n",
      "    na_sales  eu_sales  jp_sales  other_sales  critic_score  user_score  \\\n",
      "16      7.02      9.09      0.98         3.96          97.0         8.2   \n",
      "23      9.66      5.14      0.06         1.41          97.0         8.1   \n",
      "31      6.03      5.86      0.36         2.38           NaN         NaN   \n",
      "33      5.28      4.19      4.35         0.78           NaN         NaN   \n",
      "34      4.99      5.73      0.65         2.42          83.0         5.3   \n",
      "\n",
      "     rating  global_sales  \n",
      "16        M         21.05  \n",
      "23        M         16.27  \n",
      "31  unknown         14.63  \n",
      "33  unknown         14.60  \n",
      "34        M         13.79  \n"
     ]
    }
   ],
   "source": [
    "data_new = data.copy()\n",
    "data_new = data_new.loc[data['year_of_release'] >= 2012]\n",
    "data_new['year_of_release'] = pd.to_numeric(data_new['year_of_release'],downcast='integer',errors='coerce')\n",
    "print(data_new.info())\n",
    "print(data_new.head())\n"
   ]
  },
  {
   "cell_type": "markdown",
   "metadata": {},
   "source": [
    "<b> Итоги: </b>Создан новый датасет с данными только с 2012 года. В датасете 2886 строк. Поскольку в столбце year_of_release больше нет пропусков, можно перевести его в int, чтобы красиво смотрелось на графиках.     "
   ]
  },
  {
   "cell_type": "markdown",
   "metadata": {},
   "source": [
    "### Анализ актуальных данных по платформам "
   ]
  },
  {
   "cell_type": "markdown",
   "metadata": {},
   "source": [
    "#### Выявление платформ с высокой активностью продаж в актуальный период"
   ]
  },
  {
   "cell_type": "code",
   "execution_count": 24,
   "metadata": {},
   "outputs": [
    {
     "data": {
      "image/png": "[encoded data removed]",
      "text/plain": [
       "<Figure size 864x360 with 1 Axes>"
      ]
     },
     "metadata": {
      "needs_background": "light"
     },
     "output_type": "display_data"
    },
    {
     "name": "stdout",
     "output_type": "stream",
     "text": [
      "platform\n",
      "3DS     194.61\n",
      "DS       12.55\n",
      "PC       62.65\n",
      "PS3     288.79\n",
      "PS4     314.14\n",
      "PSP      11.19\n",
      "PSV      49.18\n",
      "Wii      35.37\n",
      "WiiU     82.19\n",
      "X360    236.54\n",
      "XOne    159.32\n",
      "Name: global_sales, dtype: float64\n",
      "cумма по global_sales с 2012 1446.5300000000002\n",
      "количество платформ в датасете с 2012 11\n",
      "средняя цифра по платформе с 2012 131.5027272727273\n"
     ]
    }
   ],
   "source": [
    "data_new.groupby('platform')['global_sales'].sum().plot(kind='bar', grid=True, figsize=(12, 5))\n",
    "plt.title('Активность продаж в актуальный период')\n",
    "plt.xlabel('название платформы')\n",
    "plt.ylabel('количество миллионов проданных копий')\n",
    "plt.show()\n",
    "print(data_new.groupby('platform')['global_sales'].sum())\n",
    "print('cумма по global_sales с 2012', data_new['global_sales'].sum())\n",
    "print('количество платформ в датасете с 2012', len(data_new['platform'].unique()))\n",
    "print('средняя цифра по платформе с 2012', data_new['global_sales'].sum()/len(data_new['platform'].unique()))"
   ]
  },
  {
   "cell_type": "markdown",
   "metadata": {},
   "source": [
    "<b> Выводы: </b> По результатам видно 5 платформ с высокой активностью продаж за период: \n",
    "   3DS     194.61 \n",
    "   PS3     288.79\n",
    "   PS4     314.14\n",
    "   X360    236.54\n",
    "   XOne    159.32"
   ]
  },
  {
   "cell_type": "markdown",
   "metadata": {},
   "source": [
    "Рассмотрим сначала каждую платформу с высокой актуальной активностью по отдельности \n"
   ]
  },
  {
   "cell_type": "markdown",
   "metadata": {},
   "source": [
    "#### Платформа '3DS'"
   ]
  },
  {
   "cell_type": "code",
   "execution_count": 25,
   "metadata": {},
   "outputs": [
    {
     "name": "stdout",
     "output_type": "stream",
     "text": [
      "                 количество продаж\n",
      "year_of_release                   \n",
      "2012                         51.36\n",
      "2013                         56.57\n",
      "2014                         43.76\n",
      "2015                         27.78\n",
      "2016                         15.14\n"
     ]
    },
    {
     "data": {
      "image/png": "[encoded data removed]",
      "text/plain": [
       "<Figure size 864x360 with 1 Axes>"
      ]
     },
     "metadata": {
      "needs_background": "light"
     },
     "output_type": "display_data"
    }
   ],
   "source": [
    "data_new_3ds = data_new.loc[data['platform'] == '3DS']\n",
    "data_new_3ds_pivot = data_new_3ds.pivot_table(index='year_of_release', values='global_sales', aggfunc=['sum'])\n",
    "data_new_3ds_pivot.columns = ['количество продаж'] \n",
    "print(data_new_3ds_pivot)\n",
    "data_new_3ds_pivot.plot(kind='bar', grid=True, figsize=(12, 5))\n",
    "plt.title('Платформа 3DS')\n",
    "plt.xlabel('год продаж')\n",
    "plt.ylabel('количество миллионов проданных копий ')\n",
    "plt.show()"
   ]
  },
  {
   "cell_type": "markdown",
   "metadata": {},
   "source": [
    "<b> Выводы: </b>Активность продаж на платформе 3DS идет вниз.(тоже оказалась Nintendo, Nintendo 3DS) "
   ]
  },
  {
   "cell_type": "markdown",
   "metadata": {},
   "source": [
    "#### Платформа 'PS3'"
   ]
  },
  {
   "cell_type": "code",
   "execution_count": 26,
   "metadata": {},
   "outputs": [
    {
     "name": "stdout",
     "output_type": "stream",
     "text": [
      "                 количество продаж\n",
      "year_of_release                   \n",
      "2012                        107.36\n",
      "2013                        113.25\n",
      "2014                         47.76\n",
      "2015                         16.82\n",
      "2016                          3.60\n"
     ]
    },
    {
     "data": {
      "image/png": "[encoded data removed]",
      "text/plain": [
       "<Figure size 864x360 with 1 Axes>"
      ]
     },
     "metadata": {
      "needs_background": "light"
     },
     "output_type": "display_data"
    }
   ],
   "source": [
    "data_new_ps3 = data_new.loc[data['platform'] == 'PS3']\n",
    "data_new_ps3_pivot = data_new_ps3.pivot_table(index='year_of_release', values='global_sales', aggfunc=['sum'])\n",
    "data_new_ps3_pivot.columns = ['количество продаж'] \n",
    "print(data_new_ps3_pivot)\n",
    "data_new_ps3_pivot.plot(kind='bar', grid=True, figsize=(12, 5))\n",
    "plt.title('Платформа PS3')\n",
    "plt.xlabel('год продаж')\n",
    "plt.ylabel('количество миллионов проданных копий ')\n",
    "plt.show()"
   ]
  },
  {
   "cell_type": "markdown",
   "metadata": {},
   "source": [
    "<b> Выводы: </b> Активность продаж на PS3 тоже идет вниз "
   ]
  },
  {
   "cell_type": "markdown",
   "metadata": {},
   "source": [
    "#### Платформа 'PS4'"
   ]
  },
  {
   "cell_type": "code",
   "execution_count": 27,
   "metadata": {},
   "outputs": [
    {
     "name": "stdout",
     "output_type": "stream",
     "text": [
      "                 количество продаж\n",
      "year_of_release                   \n",
      "2013                         25.99\n",
      "2014                        100.00\n",
      "2015                        118.90\n",
      "2016                         69.25\n"
     ]
    },
    {
     "data": {
      "image/png": "[encoded data removed]",
      "text/plain": [
       "<Figure size 864x360 with 1 Axes>"
      ]
     },
     "metadata": {
      "needs_background": "light"
     },
     "output_type": "display_data"
    }
   ],
   "source": [
    "data_new_ps4 = data_new.loc[data['platform'] == 'PS4']\n",
    "data_new_ps4_pivot = data_new_ps4.pivot_table(index='year_of_release', values='global_sales', aggfunc=['sum'])\n",
    "data_new_ps4_pivot.columns = ['количество продаж'] \n",
    "print(data_new_ps4_pivot)\n",
    "data_new_ps4_pivot.plot(kind='bar', grid=True, figsize=(12, 5))\n",
    "plt.title('Платформа PS4')\n",
    "plt.xlabel('год продаж')\n",
    "plt.ylabel('количество миллионов проданных копий ')\n",
    "plt.show()"
   ]
  },
  {
   "cell_type": "markdown",
   "metadata": {},
   "source": [
    "<b> Выводы: </b> платфома PS4 более новая, 2016 год меньше двух предудущих, но показатель продаж по сравнению с другими платформами высокий\n"
   ]
  },
  {
   "cell_type": "markdown",
   "metadata": {},
   "source": [
    "#### Платформа 'X360'"
   ]
  },
  {
   "cell_type": "code",
   "execution_count": 28,
   "metadata": {},
   "outputs": [
    {
     "name": "stdout",
     "output_type": "stream",
     "text": [
      "                 количество продаж\n",
      "year_of_release                   \n",
      "2012                         99.74\n",
      "2013                         88.58\n",
      "2014                         34.74\n",
      "2015                         11.96\n",
      "2016                          1.52\n"
     ]
    },
    {
     "data": {
      "image/png": "[encoded data removed]",
      "text/plain": [
       "<Figure size 864x360 with 1 Axes>"
      ]
     },
     "metadata": {
      "needs_background": "light"
     },
     "output_type": "display_data"
    }
   ],
   "source": [
    "data_new_x360 = data_new.loc[data['platform'] == 'X360']\n",
    "data_new_x360_pivot = data_new_x360.pivot_table(index='year_of_release', values='global_sales', aggfunc=['sum'])\n",
    "data_new_x360_pivot.columns = ['количество продаж'] \n",
    "print(data_new_x360_pivot)\n",
    "data_new_x360_pivot.plot(kind='bar', grid=True, figsize=(12, 5))\n",
    "plt.title('Платформа X360')\n",
    "plt.xlabel('год продаж')\n",
    "plt.ylabel('количество миллионов проданных копий ')\n",
    "plt.show()"
   ]
  },
  {
   "cell_type": "markdown",
   "metadata": {},
   "source": [
    "<b> Выводы: </b> На платформе X360 продажи падают "
   ]
  },
  {
   "cell_type": "markdown",
   "metadata": {},
   "source": [
    "#### Платформа 'XOne'"
   ]
  },
  {
   "cell_type": "code",
   "execution_count": 29,
   "metadata": {},
   "outputs": [
    {
     "name": "stdout",
     "output_type": "stream",
     "text": [
      "                 количество продаж\n",
      "year_of_release                   \n",
      "2013                         18.96\n",
      "2014                         54.07\n",
      "2015                         60.14\n",
      "2016                         26.15\n"
     ]
    },
    {
     "data": {
      "image/png": "[encoded data removed]",
      "text/plain": [
       "<Figure size 864x360 with 1 Axes>"
      ]
     },
     "metadata": {
      "needs_background": "light"
     },
     "output_type": "display_data"
    }
   ],
   "source": [
    "data_new_xone = data_new.loc[data['platform'] == 'XOne']\n",
    "data_new_xone_pivot = data_new_xone.pivot_table(index='year_of_release', values='global_sales', aggfunc=['sum'])\n",
    "data_new_xone_pivot.columns = ['количество продаж'] \n",
    "print(data_new_xone_pivot)\n",
    "data_new_xone_pivot.plot(kind='bar', grid=True, figsize=(12, 5))\n",
    "plt.title('Платформа XOne')\n",
    "plt.xlabel('год продаж')\n",
    "plt.ylabel('количество миллионов проданных копий ')\n",
    "plt.show()"
   ]
  },
  {
   "cell_type": "markdown",
   "metadata": {},
   "source": [
    "<b> Выводы: </b> На 'XOne' продажи тоже падают."
   ]
  },
  {
   "cell_type": "markdown",
   "metadata": {},
   "source": [
    "<b> Выводы по платформам в целом: </b> Сравнительно со своим максимумому, тренд падения продаж относительно своего максимума 2016 году виден на всех крупных платформах.  Но есть условие, что \"Данные за 2016 год могут быть неполными.\" \n",
    "Поэтому сравнительно в другими, можно назвать лидерами:\n",
    "- \"XOne\"\n",
    "- \"PS4\"\n",
    "\n",
    "На других крупных платформах наблюдатеся существенный спад за несколько предыдущих лет: \n",
    "- \"3DS\"\n",
    "- \"PS3\"\n",
    "- \"X360\""
   ]
  },
  {
   "cell_type": "markdown",
   "metadata": {},
   "source": [
    "<div class=\"alert alert-info\">Добавлены выводы к разделу и подписи к графикам </div>"
   ]
  },
  {
   "cell_type": "markdown",
   "metadata": {},
   "source": [
    "#### Результаты по платформам на одном графике"
   ]
  },
  {
   "cell_type": "code",
   "execution_count": 30,
   "metadata": {
    "scrolled": true
   },
   "outputs": [
    {
     "data": {
      "image/png": "[encoded data removed]",
      "text/plain": [
       "<Figure size 432x288 with 1 Axes>"
      ]
     },
     "metadata": {
      "needs_background": "light"
     },
     "output_type": "display_data"
    },
    {
     "data": {
      "image/png": "[encoded data removed]",
      "text/plain": [
       "<Figure size 432x288 with 1 Axes>"
      ]
     },
     "metadata": {
      "needs_background": "light"
     },
     "output_type": "display_data"
    }
   ],
   "source": [
    "\n",
    "#data_new_pivot = data_new.pivot_table(index= ['platform','year_of_release'], values='global_sales', aggfunc=['sum'])\n",
    "#data_new_pivot.columns = ['количество продаж'] \n",
    "#print(data_new_pivot)\n",
    "# data_new_pivot.boxplot(by='platform')\n",
    "data_new[['platform', 'global_sales']].boxplot(by='platform')\n",
    "plt.title('общий график с выбросами')\n",
    "plt.xlabel('название платформы')\n",
    "plt.ylabel('количество продаж')\n",
    "plt.show()\n",
    "data_new[['platform', 'global_sales']].boxplot(by='platform')\n",
    "plt.ylim(0,1)\n",
    "plt.title('нижняя часть подробнее ')\n",
    "plt.xlabel('название платформы')\n",
    "plt.ylabel('количество продаж')\n",
    "plt.show()\n"
   ]
  },
  {
   "cell_type": "markdown",
   "metadata": {},
   "source": [
    "<b> Итоги: </b> Платформа PS4 по ситуации на конец 2016 года самая успешная, посмотрим ее подробнее \n"
   ]
  },
  {
   "cell_type": "markdown",
   "metadata": {},
   "source": [
    "#### Исследование закономерностей на платформе \"PS4\""
   ]
  },
  {
   "cell_type": "code",
   "execution_count": 31,
   "metadata": {},
   "outputs": [
    {
     "name": "stdout",
     "output_type": "stream",
     "text": [
      "<class 'pandas.core.frame.DataFrame'>\n",
      "Int64Index: 392 entries, 31 to 16585\n",
      "Data columns (total 12 columns):\n",
      " #   Column           Non-Null Count  Dtype  \n",
      "---  ------           --------------  -----  \n",
      " 0   name             392 non-null    object \n",
      " 1   platform         392 non-null    object \n",
      " 2   year_of_release  392 non-null    int16  \n",
      " 3   genre            392 non-null    object \n",
      " 4   na_sales         392 non-null    float64\n",
      " 5   eu_sales         392 non-null    float64\n",
      " 6   jp_sales         392 non-null    float64\n",
      " 7   other_sales      392 non-null    float64\n",
      " 8   critic_score     252 non-null    float64\n",
      " 9   user_score       257 non-null    float64\n",
      " 10  rating           392 non-null    object \n",
      " 11  global_sales     392 non-null    float64\n",
      "dtypes: float64(7), int16(1), object(4)\n",
      "memory usage: 37.5+ KB\n",
      "None\n"
     ]
    }
   ],
   "source": [
    "print(data_new_ps4.info())"
   ]
  },
  {
   "cell_type": "code",
   "execution_count": 32,
   "metadata": {},
   "outputs": [
    {
     "data": {
      "text/html": [
       "<div>\n",
       "<style scoped>\n",
       "    .dataframe tbody tr th:only-of-type {\n",
       "        vertical-align: middle;\n",
       "    }\n",
       "\n",
       "    .dataframe tbody tr th {\n",
       "        vertical-align: top;\n",
       "    }\n",
       "\n",
       "    .dataframe thead th {\n",
       "        text-align: right;\n",
       "    }\n",
       "</style>\n",
       "<table border=\"1\" class=\"dataframe\">\n",
       "  <thead>\n",
       "    <tr style=\"text-align: right;\">\n",
       "      <th></th>\n",
       "      <th>year_of_release</th>\n",
       "      <th>na_sales</th>\n",
       "      <th>eu_sales</th>\n",
       "      <th>jp_sales</th>\n",
       "      <th>other_sales</th>\n",
       "      <th>critic_score</th>\n",
       "      <th>user_score</th>\n",
       "      <th>global_sales</th>\n",
       "    </tr>\n",
       "  </thead>\n",
       "  <tbody>\n",
       "    <tr>\n",
       "      <th>count</th>\n",
       "      <td>392.000000</td>\n",
       "      <td>392.000000</td>\n",
       "      <td>392.000000</td>\n",
       "      <td>392.000000</td>\n",
       "      <td>392.000000</td>\n",
       "      <td>252.000000</td>\n",
       "      <td>257.000000</td>\n",
       "      <td>392.000000</td>\n",
       "    </tr>\n",
       "    <tr>\n",
       "      <th>mean</th>\n",
       "      <td>2015.145408</td>\n",
       "      <td>0.277398</td>\n",
       "      <td>0.359923</td>\n",
       "      <td>0.040714</td>\n",
       "      <td>0.123342</td>\n",
       "      <td>72.091270</td>\n",
       "      <td>6.748249</td>\n",
       "      <td>0.801378</td>\n",
       "    </tr>\n",
       "    <tr>\n",
       "      <th>std</th>\n",
       "      <td>0.868181</td>\n",
       "      <td>0.583723</td>\n",
       "      <td>0.810843</td>\n",
       "      <td>0.069101</td>\n",
       "      <td>0.254825</td>\n",
       "      <td>12.485992</td>\n",
       "      <td>1.459481</td>\n",
       "      <td>1.609456</td>\n",
       "    </tr>\n",
       "    <tr>\n",
       "      <th>min</th>\n",
       "      <td>2013.000000</td>\n",
       "      <td>0.000000</td>\n",
       "      <td>0.000000</td>\n",
       "      <td>0.000000</td>\n",
       "      <td>0.000000</td>\n",
       "      <td>19.000000</td>\n",
       "      <td>1.500000</td>\n",
       "      <td>0.010000</td>\n",
       "    </tr>\n",
       "    <tr>\n",
       "      <th>25%</th>\n",
       "      <td>2015.000000</td>\n",
       "      <td>0.007500</td>\n",
       "      <td>0.000000</td>\n",
       "      <td>0.000000</td>\n",
       "      <td>0.010000</td>\n",
       "      <td>66.000000</td>\n",
       "      <td>6.100000</td>\n",
       "      <td>0.060000</td>\n",
       "    </tr>\n",
       "    <tr>\n",
       "      <th>50%</th>\n",
       "      <td>2015.000000</td>\n",
       "      <td>0.060000</td>\n",
       "      <td>0.080000</td>\n",
       "      <td>0.010000</td>\n",
       "      <td>0.030000</td>\n",
       "      <td>73.000000</td>\n",
       "      <td>7.000000</td>\n",
       "      <td>0.200000</td>\n",
       "    </tr>\n",
       "    <tr>\n",
       "      <th>75%</th>\n",
       "      <td>2016.000000</td>\n",
       "      <td>0.260000</td>\n",
       "      <td>0.300000</td>\n",
       "      <td>0.050000</td>\n",
       "      <td>0.110000</td>\n",
       "      <td>80.000000</td>\n",
       "      <td>7.800000</td>\n",
       "      <td>0.730000</td>\n",
       "    </tr>\n",
       "    <tr>\n",
       "      <th>max</th>\n",
       "      <td>2016.000000</td>\n",
       "      <td>6.030000</td>\n",
       "      <td>6.310000</td>\n",
       "      <td>0.490000</td>\n",
       "      <td>2.380000</td>\n",
       "      <td>97.000000</td>\n",
       "      <td>9.200000</td>\n",
       "      <td>14.630000</td>\n",
       "    </tr>\n",
       "  </tbody>\n",
       "</table>\n",
       "</div>"
      ],
      "text/plain": [
       "       year_of_release    na_sales    eu_sales    jp_sales  other_sales  \\\n",
       "count       392.000000  392.000000  392.000000  392.000000   392.000000   \n",
       "mean       2015.145408    0.277398    0.359923    0.040714     0.123342   \n",
       "std           0.868181    0.583723    0.810843    0.069101     0.254825   \n",
       "min        2013.000000    0.000000    0.000000    0.000000     0.000000   \n",
       "25%        2015.000000    0.007500    0.000000    0.000000     0.010000   \n",
       "50%        2015.000000    0.060000    0.080000    0.010000     0.030000   \n",
       "75%        2016.000000    0.260000    0.300000    0.050000     0.110000   \n",
       "max        2016.000000    6.030000    6.310000    0.490000     2.380000   \n",
       "\n",
       "       critic_score  user_score  global_sales  \n",
       "count    252.000000  257.000000    392.000000  \n",
       "mean      72.091270    6.748249      0.801378  \n",
       "std       12.485992    1.459481      1.609456  \n",
       "min       19.000000    1.500000      0.010000  \n",
       "25%       66.000000    6.100000      0.060000  \n",
       "50%       73.000000    7.000000      0.200000  \n",
       "75%       80.000000    7.800000      0.730000  \n",
       "max       97.000000    9.200000     14.630000  "
      ]
     },
     "execution_count": 32,
     "metadata": {},
     "output_type": "execute_result"
    }
   ],
   "source": [
    "data_new_ps4.describe()"
   ]
  },
  {
   "cell_type": "code",
   "execution_count": 33,
   "metadata": {},
   "outputs": [
    {
     "data": {
      "text/html": [
       "<div>\n",
       "<style scoped>\n",
       "    .dataframe tbody tr th:only-of-type {\n",
       "        vertical-align: middle;\n",
       "    }\n",
       "\n",
       "    .dataframe tbody tr th {\n",
       "        vertical-align: top;\n",
       "    }\n",
       "\n",
       "    .dataframe thead th {\n",
       "        text-align: right;\n",
       "    }\n",
       "</style>\n",
       "<table border=\"1\" class=\"dataframe\">\n",
       "  <thead>\n",
       "    <tr style=\"text-align: right;\">\n",
       "      <th></th>\n",
       "      <th>year_of_release</th>\n",
       "      <th>na_sales</th>\n",
       "      <th>eu_sales</th>\n",
       "      <th>jp_sales</th>\n",
       "      <th>other_sales</th>\n",
       "      <th>critic_score</th>\n",
       "      <th>user_score</th>\n",
       "      <th>global_sales</th>\n",
       "    </tr>\n",
       "  </thead>\n",
       "  <tbody>\n",
       "    <tr>\n",
       "      <th>year_of_release</th>\n",
       "      <td>1.000000</td>\n",
       "      <td>-0.248961</td>\n",
       "      <td>-0.208306</td>\n",
       "      <td>-0.060993</td>\n",
       "      <td>-0.234796</td>\n",
       "      <td>-0.021142</td>\n",
       "      <td>0.152447</td>\n",
       "      <td>-0.235032</td>\n",
       "    </tr>\n",
       "    <tr>\n",
       "      <th>na_sales</th>\n",
       "      <td>-0.248961</td>\n",
       "      <td>1.000000</td>\n",
       "      <td>0.785362</td>\n",
       "      <td>0.472981</td>\n",
       "      <td>0.944259</td>\n",
       "      <td>0.415008</td>\n",
       "      <td>-0.020933</td>\n",
       "      <td>0.928160</td>\n",
       "    </tr>\n",
       "    <tr>\n",
       "      <th>eu_sales</th>\n",
       "      <td>-0.208306</td>\n",
       "      <td>0.785362</td>\n",
       "      <td>1.000000</td>\n",
       "      <td>0.464563</td>\n",
       "      <td>0.944698</td>\n",
       "      <td>0.346720</td>\n",
       "      <td>-0.048925</td>\n",
       "      <td>0.958157</td>\n",
       "    </tr>\n",
       "    <tr>\n",
       "      <th>jp_sales</th>\n",
       "      <td>-0.060993</td>\n",
       "      <td>0.472981</td>\n",
       "      <td>0.464563</td>\n",
       "      <td>1.000000</td>\n",
       "      <td>0.496467</td>\n",
       "      <td>0.322358</td>\n",
       "      <td>0.171332</td>\n",
       "      <td>0.527129</td>\n",
       "    </tr>\n",
       "    <tr>\n",
       "      <th>other_sales</th>\n",
       "      <td>-0.234796</td>\n",
       "      <td>0.944259</td>\n",
       "      <td>0.944698</td>\n",
       "      <td>0.496467</td>\n",
       "      <td>1.000000</td>\n",
       "      <td>0.409191</td>\n",
       "      <td>-0.035639</td>\n",
       "      <td>0.998051</td>\n",
       "    </tr>\n",
       "    <tr>\n",
       "      <th>critic_score</th>\n",
       "      <td>-0.021142</td>\n",
       "      <td>0.415008</td>\n",
       "      <td>0.346720</td>\n",
       "      <td>0.322358</td>\n",
       "      <td>0.409191</td>\n",
       "      <td>1.000000</td>\n",
       "      <td>0.557654</td>\n",
       "      <td>0.406568</td>\n",
       "    </tr>\n",
       "    <tr>\n",
       "      <th>user_score</th>\n",
       "      <td>0.152447</td>\n",
       "      <td>-0.020933</td>\n",
       "      <td>-0.048925</td>\n",
       "      <td>0.171332</td>\n",
       "      <td>-0.035639</td>\n",
       "      <td>0.557654</td>\n",
       "      <td>1.000000</td>\n",
       "      <td>-0.031957</td>\n",
       "    </tr>\n",
       "    <tr>\n",
       "      <th>global_sales</th>\n",
       "      <td>-0.235032</td>\n",
       "      <td>0.928160</td>\n",
       "      <td>0.958157</td>\n",
       "      <td>0.527129</td>\n",
       "      <td>0.998051</td>\n",
       "      <td>0.406568</td>\n",
       "      <td>-0.031957</td>\n",
       "      <td>1.000000</td>\n",
       "    </tr>\n",
       "  </tbody>\n",
       "</table>\n",
       "</div>"
      ],
      "text/plain": [
       "                 year_of_release  na_sales  eu_sales  jp_sales  other_sales  \\\n",
       "year_of_release         1.000000 -0.248961 -0.208306 -0.060993    -0.234796   \n",
       "na_sales               -0.248961  1.000000  0.785362  0.472981     0.944259   \n",
       "eu_sales               -0.208306  0.785362  1.000000  0.464563     0.944698   \n",
       "jp_sales               -0.060993  0.472981  0.464563  1.000000     0.496467   \n",
       "other_sales            -0.234796  0.944259  0.944698  0.496467     1.000000   \n",
       "critic_score           -0.021142  0.415008  0.346720  0.322358     0.409191   \n",
       "user_score              0.152447 -0.020933 -0.048925  0.171332    -0.035639   \n",
       "global_sales           -0.235032  0.928160  0.958157  0.527129     0.998051   \n",
       "\n",
       "                 critic_score  user_score  global_sales  \n",
       "year_of_release     -0.021142    0.152447     -0.235032  \n",
       "na_sales             0.415008   -0.020933      0.928160  \n",
       "eu_sales             0.346720   -0.048925      0.958157  \n",
       "jp_sales             0.322358    0.171332      0.527129  \n",
       "other_sales          0.409191   -0.035639      0.998051  \n",
       "critic_score         1.000000    0.557654      0.406568  \n",
       "user_score           0.557654    1.000000     -0.031957  \n",
       "global_sales         0.406568   -0.031957      1.000000  "
      ]
     },
     "execution_count": 33,
     "metadata": {},
     "output_type": "execute_result"
    }
   ],
   "source": [
    "data_new_ps4.corr()\n"
   ]
  },
  {
   "cell_type": "markdown",
   "metadata": {},
   "source": [
    "<b> Итоги: </b>По матрице корреляций видна только прямая связь между global_sales и other_sales,eu_sales,na_sales (jp_sales - почти нет). Но это не открытие, тк. столбец global_sales составлен и 4 перечисленных, и их взаимосвязь техническая. Также есть связь между na_sales и eu_sales и other_sales (например. через моду на продукты), а jp_sales как-то само по себе, вероятно, на этом рынке нужна локализация, все остальное - преимущественно английский. А еще в количественном значении Япония - это очень маленький рынок. Эта информация вряд ли характеризует платформу, скорее ранок игр в целом.   "
   ]
  },
  {
   "cell_type": "markdown",
   "metadata": {},
   "source": [
    "<b> Дополнено: </b> По Шкале Чеддока наблюдается \"умеренная\" корреляция между глобальными продажами и оценками критиков (0,4), \"заметная\" корреляция между оценками пользователей и оценками критиков (0,56). При этом не очевидна причинно-следственная связь, что и в какой последовательности из этих параметров первично, а что - производный результат. Корреляции между оценками пользователей и продажами не наблюдается. "
   ]
  },
  {
   "cell_type": "code",
   "execution_count": 34,
   "metadata": {},
   "outputs": [
    {
     "data": {
      "image/png": "[encoded data removed]",
      "text/plain": [
       "<Figure size 432x288 with 1 Axes>"
      ]
     },
     "metadata": {
      "needs_background": "light"
     },
     "output_type": "display_data"
    }
   ],
   "source": [
    "data_new_ps4.plot(x='user_score', y='global_sales', kind='scatter')\n",
    "plt.title('Влияние оценки пользователей не продажи ')\n",
    "plt.xlabel('Оценки пользователей')\n",
    "plt.ylabel('Количество миллионов проданных копий')\n",
    "plt.show()"
   ]
  },
  {
   "cell_type": "code",
   "execution_count": 35,
   "metadata": {},
   "outputs": [
    {
     "data": {
      "image/png": "[encoded data removed]",
      "text/plain": [
       "<Figure size 432x288 with 1 Axes>"
      ]
     },
     "metadata": {
      "needs_background": "light"
     },
     "output_type": "display_data"
    }
   ],
   "source": [
    "data_new_ps4.plot(x='critic_score', y='global_sales', kind='scatter')\n",
    "plt.title('Влияние оценки критиков не продажи ')\n",
    "plt.xlabel('Оценки критиков')\n",
    "plt.ylabel('Количество миллионов проданных копий')\n",
    "plt.show()"
   ]
  },
  {
   "cell_type": "markdown",
   "metadata": {},
   "source": [
    "<b> Выводы: </b>По диаграммам - оценки пользователей никак не влияют, оценки критиков - слабенько положительно (это была рекламная активность скорее всего). "
   ]
  },
  {
   "cell_type": "markdown",
   "metadata": {},
   "source": [
    "#### Исследование закономерностей на платформе \"XOne\""
   ]
  },
  {
   "cell_type": "markdown",
   "metadata": {},
   "source": [
    "На втором месте по продажам в 2016 - XOne. Посмотрим аналогично ее. "
   ]
  },
  {
   "cell_type": "code",
   "execution_count": 36,
   "metadata": {},
   "outputs": [
    {
     "name": "stdout",
     "output_type": "stream",
     "text": [
      "<class 'pandas.core.frame.DataFrame'>\n",
      "Int64Index: 247 entries, 99 to 16672\n",
      "Data columns (total 12 columns):\n",
      " #   Column           Non-Null Count  Dtype  \n",
      "---  ------           --------------  -----  \n",
      " 0   name             247 non-null    object \n",
      " 1   platform         247 non-null    object \n",
      " 2   year_of_release  247 non-null    int16  \n",
      " 3   genre            247 non-null    object \n",
      " 4   na_sales         247 non-null    float64\n",
      " 5   eu_sales         247 non-null    float64\n",
      " 6   jp_sales         247 non-null    float64\n",
      " 7   other_sales      247 non-null    float64\n",
      " 8   critic_score     169 non-null    float64\n",
      " 9   user_score       182 non-null    float64\n",
      " 10  rating           247 non-null    object \n",
      " 11  global_sales     247 non-null    float64\n",
      "dtypes: float64(7), int16(1), object(4)\n",
      "memory usage: 23.6+ KB\n",
      "None\n"
     ]
    }
   ],
   "source": [
    "print(data_new_xone.info())"
   ]
  },
  {
   "cell_type": "code",
   "execution_count": 37,
   "metadata": {},
   "outputs": [
    {
     "data": {
      "text/html": [
       "<div>\n",
       "<style scoped>\n",
       "    .dataframe tbody tr th:only-of-type {\n",
       "        vertical-align: middle;\n",
       "    }\n",
       "\n",
       "    .dataframe tbody tr th {\n",
       "        vertical-align: top;\n",
       "    }\n",
       "\n",
       "    .dataframe thead th {\n",
       "        text-align: right;\n",
       "    }\n",
       "</style>\n",
       "<table border=\"1\" class=\"dataframe\">\n",
       "  <thead>\n",
       "    <tr style=\"text-align: right;\">\n",
       "      <th></th>\n",
       "      <th>year_of_release</th>\n",
       "      <th>na_sales</th>\n",
       "      <th>eu_sales</th>\n",
       "      <th>jp_sales</th>\n",
       "      <th>other_sales</th>\n",
       "      <th>critic_score</th>\n",
       "      <th>user_score</th>\n",
       "      <th>global_sales</th>\n",
       "    </tr>\n",
       "  </thead>\n",
       "  <tbody>\n",
       "    <tr>\n",
       "      <th>count</th>\n",
       "      <td>247.000000</td>\n",
       "      <td>247.000000</td>\n",
       "      <td>247.000000</td>\n",
       "      <td>247.000000</td>\n",
       "      <td>247.000000</td>\n",
       "      <td>169.000000</td>\n",
       "      <td>182.000000</td>\n",
       "      <td>247.000000</td>\n",
       "    </tr>\n",
       "    <tr>\n",
       "      <th>mean</th>\n",
       "      <td>2014.951417</td>\n",
       "      <td>0.377004</td>\n",
       "      <td>0.208866</td>\n",
       "      <td>0.001377</td>\n",
       "      <td>0.057773</td>\n",
       "      <td>73.325444</td>\n",
       "      <td>6.521429</td>\n",
       "      <td>0.645020</td>\n",
       "    </tr>\n",
       "    <tr>\n",
       "      <th>std</th>\n",
       "      <td>0.952995</td>\n",
       "      <td>0.630618</td>\n",
       "      <td>0.365306</td>\n",
       "      <td>0.005153</td>\n",
       "      <td>0.094221</td>\n",
       "      <td>12.953465</td>\n",
       "      <td>1.380941</td>\n",
       "      <td>1.036139</td>\n",
       "    </tr>\n",
       "    <tr>\n",
       "      <th>min</th>\n",
       "      <td>2013.000000</td>\n",
       "      <td>0.000000</td>\n",
       "      <td>0.000000</td>\n",
       "      <td>0.000000</td>\n",
       "      <td>0.000000</td>\n",
       "      <td>20.000000</td>\n",
       "      <td>1.600000</td>\n",
       "      <td>0.010000</td>\n",
       "    </tr>\n",
       "    <tr>\n",
       "      <th>25%</th>\n",
       "      <td>2014.000000</td>\n",
       "      <td>0.030000</td>\n",
       "      <td>0.020000</td>\n",
       "      <td>0.000000</td>\n",
       "      <td>0.010000</td>\n",
       "      <td>66.000000</td>\n",
       "      <td>5.800000</td>\n",
       "      <td>0.060000</td>\n",
       "    </tr>\n",
       "    <tr>\n",
       "      <th>50%</th>\n",
       "      <td>2015.000000</td>\n",
       "      <td>0.120000</td>\n",
       "      <td>0.070000</td>\n",
       "      <td>0.000000</td>\n",
       "      <td>0.020000</td>\n",
       "      <td>76.000000</td>\n",
       "      <td>6.800000</td>\n",
       "      <td>0.220000</td>\n",
       "    </tr>\n",
       "    <tr>\n",
       "      <th>75%</th>\n",
       "      <td>2016.000000</td>\n",
       "      <td>0.385000</td>\n",
       "      <td>0.220000</td>\n",
       "      <td>0.000000</td>\n",
       "      <td>0.060000</td>\n",
       "      <td>82.000000</td>\n",
       "      <td>7.500000</td>\n",
       "      <td>0.685000</td>\n",
       "    </tr>\n",
       "    <tr>\n",
       "      <th>max</th>\n",
       "      <td>2016.000000</td>\n",
       "      <td>4.590000</td>\n",
       "      <td>2.190000</td>\n",
       "      <td>0.040000</td>\n",
       "      <td>0.680000</td>\n",
       "      <td>97.000000</td>\n",
       "      <td>9.200000</td>\n",
       "      <td>7.390000</td>\n",
       "    </tr>\n",
       "  </tbody>\n",
       "</table>\n",
       "</div>"
      ],
      "text/plain": [
       "       year_of_release    na_sales    eu_sales    jp_sales  other_sales  \\\n",
       "count       247.000000  247.000000  247.000000  247.000000   247.000000   \n",
       "mean       2014.951417    0.377004    0.208866    0.001377     0.057773   \n",
       "std           0.952995    0.630618    0.365306    0.005153     0.094221   \n",
       "min        2013.000000    0.000000    0.000000    0.000000     0.000000   \n",
       "25%        2014.000000    0.030000    0.020000    0.000000     0.010000   \n",
       "50%        2015.000000    0.120000    0.070000    0.000000     0.020000   \n",
       "75%        2016.000000    0.385000    0.220000    0.000000     0.060000   \n",
       "max        2016.000000    4.590000    2.190000    0.040000     0.680000   \n",
       "\n",
       "       critic_score  user_score  global_sales  \n",
       "count    169.000000  182.000000    247.000000  \n",
       "mean      73.325444    6.521429      0.645020  \n",
       "std       12.953465    1.380941      1.036139  \n",
       "min       20.000000    1.600000      0.010000  \n",
       "25%       66.000000    5.800000      0.060000  \n",
       "50%       76.000000    6.800000      0.220000  \n",
       "75%       82.000000    7.500000      0.685000  \n",
       "max       97.000000    9.200000      7.390000  "
      ]
     },
     "execution_count": 37,
     "metadata": {},
     "output_type": "execute_result"
    }
   ],
   "source": [
    "data_new_xone.describe()"
   ]
  },
  {
   "cell_type": "code",
   "execution_count": 38,
   "metadata": {},
   "outputs": [
    {
     "data": {
      "text/html": [
       "<div>\n",
       "<style scoped>\n",
       "    .dataframe tbody tr th:only-of-type {\n",
       "        vertical-align: middle;\n",
       "    }\n",
       "\n",
       "    .dataframe tbody tr th {\n",
       "        vertical-align: top;\n",
       "    }\n",
       "\n",
       "    .dataframe thead th {\n",
       "        text-align: right;\n",
       "    }\n",
       "</style>\n",
       "<table border=\"1\" class=\"dataframe\">\n",
       "  <thead>\n",
       "    <tr style=\"text-align: right;\">\n",
       "      <th></th>\n",
       "      <th>year_of_release</th>\n",
       "      <th>na_sales</th>\n",
       "      <th>eu_sales</th>\n",
       "      <th>jp_sales</th>\n",
       "      <th>other_sales</th>\n",
       "      <th>critic_score</th>\n",
       "      <th>user_score</th>\n",
       "      <th>global_sales</th>\n",
       "    </tr>\n",
       "  </thead>\n",
       "  <tbody>\n",
       "    <tr>\n",
       "      <th>year_of_release</th>\n",
       "      <td>1.000000</td>\n",
       "      <td>-0.242667</td>\n",
       "      <td>-0.194925</td>\n",
       "      <td>-0.127050</td>\n",
       "      <td>-0.243414</td>\n",
       "      <td>0.063712</td>\n",
       "      <td>0.079481</td>\n",
       "      <td>-0.239183</td>\n",
       "    </tr>\n",
       "    <tr>\n",
       "      <th>na_sales</th>\n",
       "      <td>-0.242667</td>\n",
       "      <td>1.000000</td>\n",
       "      <td>0.765367</td>\n",
       "      <td>0.425725</td>\n",
       "      <td>0.988088</td>\n",
       "      <td>0.388636</td>\n",
       "      <td>-0.069318</td>\n",
       "      <td>0.970433</td>\n",
       "    </tr>\n",
       "    <tr>\n",
       "      <th>eu_sales</th>\n",
       "      <td>-0.194925</td>\n",
       "      <td>0.765367</td>\n",
       "      <td>1.000000</td>\n",
       "      <td>0.421071</td>\n",
       "      <td>0.852986</td>\n",
       "      <td>0.379162</td>\n",
       "      <td>-0.055911</td>\n",
       "      <td>0.898045</td>\n",
       "    </tr>\n",
       "    <tr>\n",
       "      <th>jp_sales</th>\n",
       "      <td>-0.127050</td>\n",
       "      <td>0.425725</td>\n",
       "      <td>0.421071</td>\n",
       "      <td>1.000000</td>\n",
       "      <td>0.441717</td>\n",
       "      <td>0.202954</td>\n",
       "      <td>0.069591</td>\n",
       "      <td>0.452701</td>\n",
       "    </tr>\n",
       "    <tr>\n",
       "      <th>other_sales</th>\n",
       "      <td>-0.243414</td>\n",
       "      <td>0.988088</td>\n",
       "      <td>0.852986</td>\n",
       "      <td>0.441717</td>\n",
       "      <td>1.000000</td>\n",
       "      <td>0.411825</td>\n",
       "      <td>-0.069645</td>\n",
       "      <td>0.995238</td>\n",
       "    </tr>\n",
       "    <tr>\n",
       "      <th>critic_score</th>\n",
       "      <td>0.063712</td>\n",
       "      <td>0.388636</td>\n",
       "      <td>0.379162</td>\n",
       "      <td>0.202954</td>\n",
       "      <td>0.411825</td>\n",
       "      <td>1.000000</td>\n",
       "      <td>0.472462</td>\n",
       "      <td>0.416998</td>\n",
       "    </tr>\n",
       "    <tr>\n",
       "      <th>user_score</th>\n",
       "      <td>0.079481</td>\n",
       "      <td>-0.069318</td>\n",
       "      <td>-0.055911</td>\n",
       "      <td>0.069591</td>\n",
       "      <td>-0.069645</td>\n",
       "      <td>0.472462</td>\n",
       "      <td>1.000000</td>\n",
       "      <td>-0.068925</td>\n",
       "    </tr>\n",
       "    <tr>\n",
       "      <th>global_sales</th>\n",
       "      <td>-0.239183</td>\n",
       "      <td>0.970433</td>\n",
       "      <td>0.898045</td>\n",
       "      <td>0.452701</td>\n",
       "      <td>0.995238</td>\n",
       "      <td>0.416998</td>\n",
       "      <td>-0.068925</td>\n",
       "      <td>1.000000</td>\n",
       "    </tr>\n",
       "  </tbody>\n",
       "</table>\n",
       "</div>"
      ],
      "text/plain": [
       "                 year_of_release  na_sales  eu_sales  jp_sales  other_sales  \\\n",
       "year_of_release         1.000000 -0.242667 -0.194925 -0.127050    -0.243414   \n",
       "na_sales               -0.242667  1.000000  0.765367  0.425725     0.988088   \n",
       "eu_sales               -0.194925  0.765367  1.000000  0.421071     0.852986   \n",
       "jp_sales               -0.127050  0.425725  0.421071  1.000000     0.441717   \n",
       "other_sales            -0.243414  0.988088  0.852986  0.441717     1.000000   \n",
       "critic_score            0.063712  0.388636  0.379162  0.202954     0.411825   \n",
       "user_score              0.079481 -0.069318 -0.055911  0.069591    -0.069645   \n",
       "global_sales           -0.239183  0.970433  0.898045  0.452701     0.995238   \n",
       "\n",
       "                 critic_score  user_score  global_sales  \n",
       "year_of_release      0.063712    0.079481     -0.239183  \n",
       "na_sales             0.388636   -0.069318      0.970433  \n",
       "eu_sales             0.379162   -0.055911      0.898045  \n",
       "jp_sales             0.202954    0.069591      0.452701  \n",
       "other_sales          0.411825   -0.069645      0.995238  \n",
       "critic_score         1.000000    0.472462      0.416998  \n",
       "user_score           0.472462    1.000000     -0.068925  \n",
       "global_sales         0.416998   -0.068925      1.000000  "
      ]
     },
     "execution_count": 38,
     "metadata": {},
     "output_type": "execute_result"
    }
   ],
   "source": [
    "data_new_xone.corr()"
   ]
  },
  {
   "cell_type": "markdown",
   "metadata": {},
   "source": [
    "<b> Выводы: </b>По Шкале Чеддока наблюдается \"умеренная\" корреляция между глобальными продажами и оценками критиков (0,42), \"умеренная\" корреляция между оценками пользователей и оценками критиков (0,47). При этом не очевидна причинно-следственная связь, что и в какой последовательности из этих параметров первично, а что - производный результат. Корреляции между оценками пользователей и продажами не наблюдается."
   ]
  },
  {
   "cell_type": "code",
   "execution_count": 39,
   "metadata": {},
   "outputs": [
    {
     "data": {
      "image/png": "[encoded data removed]",
      "text/plain": [
       "<Figure size 432x288 with 1 Axes>"
      ]
     },
     "metadata": {
      "needs_background": "light"
     },
     "output_type": "display_data"
    }
   ],
   "source": [
    "data_new_xone.plot(x='user_score', y='global_sales', kind='scatter')\n",
    "plt.title('Влияние оценки пользователей не продажи ')\n",
    "plt.xlabel('Оценки пользователей')\n",
    "plt.ylabel('Количество миллионов проданных копий')\n",
    "plt.show()"
   ]
  },
  {
   "cell_type": "code",
   "execution_count": 40,
   "metadata": {},
   "outputs": [
    {
     "data": {
      "image/png": "[encoded data removed]",
      "text/plain": [
       "<Figure size 432x288 with 1 Axes>"
      ]
     },
     "metadata": {
      "needs_background": "light"
     },
     "output_type": "display_data"
    }
   ],
   "source": [
    "data_new_xone.plot(x='critic_score', y='global_sales', kind='scatter')\n",
    "plt.title('Влияние оценки критиков не продажи ')\n",
    "plt.xlabel('Оценки критиков')\n",
    "plt.ylabel('Количество миллионов проданных копий')\n",
    "plt.show()"
   ]
  },
  {
   "cell_type": "markdown",
   "metadata": {},
   "source": [
    "<b> Выводы: </b>Аналогично и на платформе XOne. По диаграммам - оценки пользователей никак не влияют, оценки критиков - слабенько положительно (рекламная активность скорее всего). "
   ]
  },
  {
   "cell_type": "markdown",
   "metadata": {},
   "source": [
    "#### Исследование закономерностей на платформе PC"
   ]
  },
  {
   "cell_type": "markdown",
   "metadata": {},
   "source": [
    "Платформа PC выбрана для рассмотрения закономерностей, тк.далее в заданиях фигурирует при проверке гипотез, интересно получить о ней больше информации (аппаратная часть - персональный компьютер, т.е по существу не специальное игровое устройство)\n"
   ]
  },
  {
   "cell_type": "code",
   "execution_count": 41,
   "metadata": {},
   "outputs": [
    {
     "name": "stdout",
     "output_type": "stream",
     "text": [
      "                 количество продаж\n",
      "year_of_release                   \n",
      "2012                         23.22\n",
      "2013                         12.38\n",
      "2014                         13.28\n",
      "2015                          8.52\n",
      "2016                          5.25\n"
     ]
    },
    {
     "data": {
      "image/png": "[encoded data removed]",
      "text/plain": [
       "<Figure size 864x360 with 1 Axes>"
      ]
     },
     "metadata": {
      "needs_background": "light"
     },
     "output_type": "display_data"
    }
   ],
   "source": [
    "data_new_pc = data_new.loc[data['platform'] == 'PC']\n",
    "data_new_pc_pivot = data_new_pc.pivot_table(index='year_of_release', values='global_sales', aggfunc=['sum'])\n",
    "data_new_pc_pivot.columns = ['количество продаж'] \n",
    "print(data_new_pc_pivot)\n",
    "data_new_pc_pivot.plot(kind='bar', grid=True, figsize=(12, 5))\n",
    "plt.title('Платформа PC')\n",
    "plt.xlabel('год продаж')\n",
    "plt.ylabel('количество миллионов проданных копий ')\n",
    "plt.show()"
   ]
  },
  {
   "cell_type": "code",
   "execution_count": 42,
   "metadata": {},
   "outputs": [
    {
     "name": "stdout",
     "output_type": "stream",
     "text": [
      "<class 'pandas.core.frame.DataFrame'>\n",
      "Int64Index: 250 entries, 192 to 16692\n",
      "Data columns (total 12 columns):\n",
      " #   Column           Non-Null Count  Dtype  \n",
      "---  ------           --------------  -----  \n",
      " 0   name             250 non-null    object \n",
      " 1   platform         250 non-null    object \n",
      " 2   year_of_release  250 non-null    int16  \n",
      " 3   genre            250 non-null    object \n",
      " 4   na_sales         250 non-null    float64\n",
      " 5   eu_sales         250 non-null    float64\n",
      " 6   jp_sales         250 non-null    float64\n",
      " 7   other_sales      250 non-null    float64\n",
      " 8   critic_score     198 non-null    float64\n",
      " 9   user_score       206 non-null    float64\n",
      " 10  rating           250 non-null    object \n",
      " 11  global_sales     250 non-null    float64\n",
      "dtypes: float64(7), int16(1), object(4)\n",
      "memory usage: 23.9+ KB\n"
     ]
    }
   ],
   "source": [
    "data_new_pc.info()"
   ]
  },
  {
   "cell_type": "code",
   "execution_count": 43,
   "metadata": {},
   "outputs": [
    {
     "data": {
      "text/html": [
       "<div>\n",
       "<style scoped>\n",
       "    .dataframe tbody tr th:only-of-type {\n",
       "        vertical-align: middle;\n",
       "    }\n",
       "\n",
       "    .dataframe tbody tr th {\n",
       "        vertical-align: top;\n",
       "    }\n",
       "\n",
       "    .dataframe thead th {\n",
       "        text-align: right;\n",
       "    }\n",
       "</style>\n",
       "<table border=\"1\" class=\"dataframe\">\n",
       "  <thead>\n",
       "    <tr style=\"text-align: right;\">\n",
       "      <th></th>\n",
       "      <th>year_of_release</th>\n",
       "      <th>na_sales</th>\n",
       "      <th>eu_sales</th>\n",
       "      <th>jp_sales</th>\n",
       "      <th>other_sales</th>\n",
       "      <th>critic_score</th>\n",
       "      <th>user_score</th>\n",
       "      <th>global_sales</th>\n",
       "    </tr>\n",
       "  </thead>\n",
       "  <tbody>\n",
       "    <tr>\n",
       "      <th>count</th>\n",
       "      <td>250.000000</td>\n",
       "      <td>250.000000</td>\n",
       "      <td>250.000000</td>\n",
       "      <td>250.0</td>\n",
       "      <td>250.000000</td>\n",
       "      <td>198.000000</td>\n",
       "      <td>206.000000</td>\n",
       "      <td>250.00000</td>\n",
       "    </tr>\n",
       "    <tr>\n",
       "      <th>mean</th>\n",
       "      <td>2013.992000</td>\n",
       "      <td>0.076480</td>\n",
       "      <td>0.151040</td>\n",
       "      <td>0.0</td>\n",
       "      <td>0.023080</td>\n",
       "      <td>75.838384</td>\n",
       "      <td>6.428641</td>\n",
       "      <td>0.25060</td>\n",
       "    </tr>\n",
       "    <tr>\n",
       "      <th>std</th>\n",
       "      <td>1.483489</td>\n",
       "      <td>0.209996</td>\n",
       "      <td>0.255119</td>\n",
       "      <td>0.0</td>\n",
       "      <td>0.052348</td>\n",
       "      <td>10.389087</td>\n",
       "      <td>1.664465</td>\n",
       "      <td>0.49464</td>\n",
       "    </tr>\n",
       "    <tr>\n",
       "      <th>min</th>\n",
       "      <td>2012.000000</td>\n",
       "      <td>0.000000</td>\n",
       "      <td>0.000000</td>\n",
       "      <td>0.0</td>\n",
       "      <td>0.000000</td>\n",
       "      <td>33.000000</td>\n",
       "      <td>1.400000</td>\n",
       "      <td>0.01000</td>\n",
       "    </tr>\n",
       "    <tr>\n",
       "      <th>25%</th>\n",
       "      <td>2013.000000</td>\n",
       "      <td>0.000000</td>\n",
       "      <td>0.020000</td>\n",
       "      <td>0.0</td>\n",
       "      <td>0.000000</td>\n",
       "      <td>71.000000</td>\n",
       "      <td>5.500000</td>\n",
       "      <td>0.03000</td>\n",
       "    </tr>\n",
       "    <tr>\n",
       "      <th>50%</th>\n",
       "      <td>2014.000000</td>\n",
       "      <td>0.000000</td>\n",
       "      <td>0.060000</td>\n",
       "      <td>0.0</td>\n",
       "      <td>0.010000</td>\n",
       "      <td>77.500000</td>\n",
       "      <td>6.800000</td>\n",
       "      <td>0.08000</td>\n",
       "    </tr>\n",
       "    <tr>\n",
       "      <th>75%</th>\n",
       "      <td>2015.000000</td>\n",
       "      <td>0.080000</td>\n",
       "      <td>0.150000</td>\n",
       "      <td>0.0</td>\n",
       "      <td>0.020000</td>\n",
       "      <td>83.000000</td>\n",
       "      <td>7.700000</td>\n",
       "      <td>0.24000</td>\n",
       "    </tr>\n",
       "    <tr>\n",
       "      <th>max</th>\n",
       "      <td>2016.000000</td>\n",
       "      <td>2.440000</td>\n",
       "      <td>2.160000</td>\n",
       "      <td>0.0</td>\n",
       "      <td>0.540000</td>\n",
       "      <td>96.000000</td>\n",
       "      <td>9.300000</td>\n",
       "      <td>5.14000</td>\n",
       "    </tr>\n",
       "  </tbody>\n",
       "</table>\n",
       "</div>"
      ],
      "text/plain": [
       "       year_of_release    na_sales    eu_sales  jp_sales  other_sales  \\\n",
       "count       250.000000  250.000000  250.000000     250.0   250.000000   \n",
       "mean       2013.992000    0.076480    0.151040       0.0     0.023080   \n",
       "std           1.483489    0.209996    0.255119       0.0     0.052348   \n",
       "min        2012.000000    0.000000    0.000000       0.0     0.000000   \n",
       "25%        2013.000000    0.000000    0.020000       0.0     0.000000   \n",
       "50%        2014.000000    0.000000    0.060000       0.0     0.010000   \n",
       "75%        2015.000000    0.080000    0.150000       0.0     0.020000   \n",
       "max        2016.000000    2.440000    2.160000       0.0     0.540000   \n",
       "\n",
       "       critic_score  user_score  global_sales  \n",
       "count    198.000000  206.000000     250.00000  \n",
       "mean      75.838384    6.428641       0.25060  \n",
       "std       10.389087    1.664465       0.49464  \n",
       "min       33.000000    1.400000       0.01000  \n",
       "25%       71.000000    5.500000       0.03000  \n",
       "50%       77.500000    6.800000       0.08000  \n",
       "75%       83.000000    7.700000       0.24000  \n",
       "max       96.000000    9.300000       5.14000  "
      ]
     },
     "execution_count": 43,
     "metadata": {},
     "output_type": "execute_result"
    }
   ],
   "source": [
    "data_new_pc.describe()"
   ]
  },
  {
   "cell_type": "code",
   "execution_count": 44,
   "metadata": {},
   "outputs": [
    {
     "data": {
      "text/html": [
       "<div>\n",
       "<style scoped>\n",
       "    .dataframe tbody tr th:only-of-type {\n",
       "        vertical-align: middle;\n",
       "    }\n",
       "\n",
       "    .dataframe tbody tr th {\n",
       "        vertical-align: top;\n",
       "    }\n",
       "\n",
       "    .dataframe thead th {\n",
       "        text-align: right;\n",
       "    }\n",
       "</style>\n",
       "<table border=\"1\" class=\"dataframe\">\n",
       "  <thead>\n",
       "    <tr style=\"text-align: right;\">\n",
       "      <th></th>\n",
       "      <th>year_of_release</th>\n",
       "      <th>na_sales</th>\n",
       "      <th>eu_sales</th>\n",
       "      <th>jp_sales</th>\n",
       "      <th>other_sales</th>\n",
       "      <th>critic_score</th>\n",
       "      <th>user_score</th>\n",
       "      <th>global_sales</th>\n",
       "    </tr>\n",
       "  </thead>\n",
       "  <tbody>\n",
       "    <tr>\n",
       "      <th>year_of_release</th>\n",
       "      <td>1.000000</td>\n",
       "      <td>-0.189081</td>\n",
       "      <td>-0.204354</td>\n",
       "      <td>NaN</td>\n",
       "      <td>-0.277910</td>\n",
       "      <td>0.006431</td>\n",
       "      <td>-0.113065</td>\n",
       "      <td>-0.215083</td>\n",
       "    </tr>\n",
       "    <tr>\n",
       "      <th>na_sales</th>\n",
       "      <td>-0.189081</td>\n",
       "      <td>1.000000</td>\n",
       "      <td>0.821310</td>\n",
       "      <td>NaN</td>\n",
       "      <td>0.921381</td>\n",
       "      <td>0.217961</td>\n",
       "      <td>-0.115004</td>\n",
       "      <td>0.945657</td>\n",
       "    </tr>\n",
       "    <tr>\n",
       "      <th>eu_sales</th>\n",
       "      <td>-0.204354</td>\n",
       "      <td>0.821310</td>\n",
       "      <td>1.000000</td>\n",
       "      <td>NaN</td>\n",
       "      <td>0.916742</td>\n",
       "      <td>0.236627</td>\n",
       "      <td>-0.120834</td>\n",
       "      <td>0.961466</td>\n",
       "    </tr>\n",
       "    <tr>\n",
       "      <th>jp_sales</th>\n",
       "      <td>NaN</td>\n",
       "      <td>NaN</td>\n",
       "      <td>NaN</td>\n",
       "      <td>NaN</td>\n",
       "      <td>NaN</td>\n",
       "      <td>NaN</td>\n",
       "      <td>NaN</td>\n",
       "      <td>NaN</td>\n",
       "    </tr>\n",
       "    <tr>\n",
       "      <th>other_sales</th>\n",
       "      <td>-0.277910</td>\n",
       "      <td>0.921381</td>\n",
       "      <td>0.916742</td>\n",
       "      <td>NaN</td>\n",
       "      <td>1.000000</td>\n",
       "      <td>0.227282</td>\n",
       "      <td>-0.107965</td>\n",
       "      <td>0.969820</td>\n",
       "    </tr>\n",
       "    <tr>\n",
       "      <th>critic_score</th>\n",
       "      <td>0.006431</td>\n",
       "      <td>0.217961</td>\n",
       "      <td>0.236627</td>\n",
       "      <td>NaN</td>\n",
       "      <td>0.227282</td>\n",
       "      <td>1.000000</td>\n",
       "      <td>0.432587</td>\n",
       "      <td>0.237243</td>\n",
       "    </tr>\n",
       "    <tr>\n",
       "      <th>user_score</th>\n",
       "      <td>-0.113065</td>\n",
       "      <td>-0.115004</td>\n",
       "      <td>-0.120834</td>\n",
       "      <td>NaN</td>\n",
       "      <td>-0.107965</td>\n",
       "      <td>0.432587</td>\n",
       "      <td>1.000000</td>\n",
       "      <td>-0.121867</td>\n",
       "    </tr>\n",
       "    <tr>\n",
       "      <th>global_sales</th>\n",
       "      <td>-0.215083</td>\n",
       "      <td>0.945657</td>\n",
       "      <td>0.961466</td>\n",
       "      <td>NaN</td>\n",
       "      <td>0.969820</td>\n",
       "      <td>0.237243</td>\n",
       "      <td>-0.121867</td>\n",
       "      <td>1.000000</td>\n",
       "    </tr>\n",
       "  </tbody>\n",
       "</table>\n",
       "</div>"
      ],
      "text/plain": [
       "                 year_of_release  na_sales  eu_sales  jp_sales  other_sales  \\\n",
       "year_of_release         1.000000 -0.189081 -0.204354       NaN    -0.277910   \n",
       "na_sales               -0.189081  1.000000  0.821310       NaN     0.921381   \n",
       "eu_sales               -0.204354  0.821310  1.000000       NaN     0.916742   \n",
       "jp_sales                     NaN       NaN       NaN       NaN          NaN   \n",
       "other_sales            -0.277910  0.921381  0.916742       NaN     1.000000   \n",
       "critic_score            0.006431  0.217961  0.236627       NaN     0.227282   \n",
       "user_score             -0.113065 -0.115004 -0.120834       NaN    -0.107965   \n",
       "global_sales           -0.215083  0.945657  0.961466       NaN     0.969820   \n",
       "\n",
       "                 critic_score  user_score  global_sales  \n",
       "year_of_release      0.006431   -0.113065     -0.215083  \n",
       "na_sales             0.217961   -0.115004      0.945657  \n",
       "eu_sales             0.236627   -0.120834      0.961466  \n",
       "jp_sales                  NaN         NaN           NaN  \n",
       "other_sales          0.227282   -0.107965      0.969820  \n",
       "critic_score         1.000000    0.432587      0.237243  \n",
       "user_score           0.432587    1.000000     -0.121867  \n",
       "global_sales         0.237243   -0.121867      1.000000  "
      ]
     },
     "execution_count": 44,
     "metadata": {},
     "output_type": "execute_result"
    }
   ],
   "source": [
    "data_new_pc.corr()"
   ]
  },
  {
   "cell_type": "markdown",
   "metadata": {},
   "source": [
    "<b> Примечание: </b> актуальных данных по этой платформе нет по региону Япония "
   ]
  },
  {
   "cell_type": "markdown",
   "metadata": {},
   "source": [
    "Выводы: По Шкале Чеддока наблюдается \"слабая\" корреляция между глобальными продажами и оценками критиков (0,24), \"умеренная\" корреляция между оценками пользователей и оценками критиков (0,43). При этом не очевидна причинно-следственная связь, что и в какой последовательности из этих параметров первично, а что - производный результат. Корреляции между оценками пользователей и продажами не наблюдается."
   ]
  },
  {
   "cell_type": "code",
   "execution_count": 45,
   "metadata": {},
   "outputs": [
    {
     "data": {
      "image/png": "[encoded data removed]",
      "text/plain": [
       "<Figure size 432x288 with 1 Axes>"
      ]
     },
     "metadata": {
      "needs_background": "light"
     },
     "output_type": "display_data"
    }
   ],
   "source": [
    "data_new_pc.plot(x='user_score', y='global_sales', kind='scatter')\n",
    "plt.title('Влияние оценки пользователей не продажи ')\n",
    "plt.xlabel('Оценки пользователей')\n",
    "plt.ylabel('Количество миллионов проданных копий')\n",
    "plt.show()"
   ]
  },
  {
   "cell_type": "code",
   "execution_count": 46,
   "metadata": {},
   "outputs": [
    {
     "data": {
      "image/png": "[encoded data removed]",
      "text/plain": [
       "<Figure size 432x288 with 1 Axes>"
      ]
     },
     "metadata": {
      "needs_background": "light"
     },
     "output_type": "display_data"
    }
   ],
   "source": [
    "data_new_pc.plot(x='critic_score', y='global_sales', kind='scatter')\n",
    "plt.title('Влияние оценки критиков не продажи ')\n",
    "plt.xlabel('Оценки критиков')\n",
    "plt.ylabel('Количество миллионов проданных копий')\n",
    "plt.show()"
   ]
  },
  {
   "cell_type": "markdown",
   "metadata": {},
   "source": [
    "<b> Выводы: </b> Влияние оценок критиков на продажи, наблюдаемое по графику, очень слабое. Влияния оценок пользователей не наблюдается. "
   ]
  },
  {
   "cell_type": "markdown",
   "metadata": {},
   "source": [
    "### Исследование закономерностей по жанрам "
   ]
  },
  {
   "cell_type": "code",
   "execution_count": 47,
   "metadata": {},
   "outputs": [
    {
     "data": {
      "image/png": "[encoded data removed]",
      "text/plain": [
       "<Figure size 864x360 with 1 Axes>"
      ]
     },
     "metadata": {
      "needs_background": "light"
     },
     "output_type": "display_data"
    },
    {
     "name": "stdout",
     "output_type": "stream",
     "text": [
      "genre\n",
      "Action          0.120\n",
      "Adventure       0.030\n",
      "Fighting        0.130\n",
      "Misc            0.120\n",
      "Platform        0.210\n",
      "Puzzle          0.045\n",
      "Racing          0.140\n",
      "Role-Playing    0.140\n",
      "Shooter         0.440\n",
      "Simulation      0.120\n",
      "Sports          0.240\n",
      "Strategy        0.080\n",
      "Name: global_sales, dtype: float64\n",
      "              медианные показатели продаж по миру\n",
      "genre                                            \n",
      "Shooter                                     0.440\n",
      "Sports                                      0.240\n",
      "Platform                                    0.210\n",
      "Role-Playing                                0.140\n",
      "Racing                                      0.140\n",
      "Fighting                                    0.130\n",
      "Action                                      0.120\n",
      "Misc                                        0.120\n",
      "Simulation                                  0.120\n",
      "Strategy                                    0.080\n",
      "Puzzle                                      0.045\n",
      "Adventure                                   0.030\n"
     ]
    }
   ],
   "source": [
    "#data_new.groupby('genre')['global_sales'].sum().plot(kind='bar', grid=True, figsize=(12, 5))\n",
    "#print(data_new.groupby('genre')['global_sales'].sum())\n",
    "data_new.groupby('genre')['global_sales'].median().plot(kind='bar', grid=True, figsize=(12, 5))\n",
    "plt.title('Закономерности продаж по жанрам')\n",
    "plt.xlabel('жанры игр')\n",
    "plt.ylabel('медианные показатели продаж')\n",
    "plt.show()\n",
    "print(data_new.groupby('genre')['global_sales'].median())\n",
    "sales_by_genre = (data_new.pivot_table(index = 'genre', values = 'global_sales', aggfunc = 'median').\n",
    "sort_values('global_sales', ascending = False))\n",
    "sales_by_genre.columns = [ 'медианные показатели продаж по миру'] \n",
    "print(sales_by_genre)\n",
    "      "
   ]
  },
  {
   "cell_type": "markdown",
   "metadata": {},
   "source": [
    "<b> Выводы: </b> \n",
    "выдающиеся результаты продаж у жанров: \n",
    "- Shooter                                     0.440\n",
    "- Sports                                      0.240\n",
    "- Platform                                    0.210\n",
    "\n",
    "Наименее покупаемые жанры: \n",
    "- Strategy                                    0.080\n",
    "- Puzzle                                      0.045\n",
    "- Adventure                                   0.030\n"
   ]
  },
  {
   "cell_type": "markdown",
   "metadata": {},
   "source": [
    "## Портреты пользователей из разных регионов "
   ]
  },
  {
   "cell_type": "markdown",
   "metadata": {},
   "source": [
    "<b> Примечание: </b> расшифровка сокращений в рейтингах ESRB\n",
    "«E» («Everyone») — «Для всех»\n",
    "«E10+» («Everyone 10 and older») — «Для всех от 10 лет и старше»\n",
    "«T» («Teen») — «Подросткам»\n",
    "«M» («Mature») — «Для взрослых»"
   ]
  },
  {
   "cell_type": "markdown",
   "metadata": {},
   "source": [
    "### Северная Америка (NA)"
   ]
  },
  {
   "cell_type": "code",
   "execution_count": 48,
   "metadata": {
    "scrolled": true
   },
   "outputs": [
    {
     "name": "stdout",
     "output_type": "stream",
     "text": [
      "               median\n",
      "             na_sales\n",
      "genre                \n",
      "Action           0.02\n",
      "Adventure        0.00\n",
      "Fighting         0.05\n",
      "Misc             0.01\n",
      "Platform         0.09\n",
      "Puzzle           0.00\n",
      "Racing           0.04\n",
      "Role-Playing     0.02\n",
      "Shooter          0.20\n",
      "Simulation       0.00\n",
      "Sports           0.08\n",
      "Strategy         0.00\n"
     ]
    },
    {
     "data": {
      "image/png": "[encoded data removed]",
      "text/plain": [
       "<Figure size 864x360 with 1 Axes>"
      ]
     },
     "metadata": {
      "needs_background": "light"
     },
     "output_type": "display_data"
    },
    {
     "name": "stdout",
     "output_type": "stream",
     "text": [
      "           median\n",
      "         na_sales\n",
      "platform         \n",
      "3DS         0.000\n",
      "DS          0.000\n",
      "PC          0.000\n",
      "PS3         0.050\n",
      "PS4         0.060\n",
      "PSP         0.000\n",
      "PSV         0.000\n",
      "Wii         0.045\n",
      "WiiU        0.110\n",
      "X360        0.170\n",
      "XOne        0.120\n"
     ]
    },
    {
     "data": {
      "image/png": "[encoded data removed]",
      "text/plain": [
       "<Figure size 864x360 with 1 Axes>"
      ]
     },
     "metadata": {
      "needs_background": "light"
     },
     "output_type": "display_data"
    },
    {
     "name": "stdout",
     "output_type": "stream",
     "text": [
      "          median\n",
      "        na_sales\n",
      "rating          \n",
      "E          0.070\n",
      "E10+       0.130\n",
      "M          0.155\n",
      "T          0.050\n",
      "unknown    0.000\n"
     ]
    },
    {
     "data": {
      "image/png": "[encoded data removed]",
      "text/plain": [
       "<Figure size 864x360 with 1 Axes>"
      ]
     },
     "metadata": {
      "needs_background": "light"
     },
     "output_type": "display_data"
    }
   ],
   "source": [
    "data_new_na_genre = data_new.pivot_table(index= ['genre'], values='na_sales', aggfunc=['median'])\n",
    "print(data_new_na_genre)\n",
    "data_new_na_genre.plot(kind='bar', grid=True, figsize=(12, 5))\n",
    "plt.title('Аудитория Северной Америки')\n",
    "plt.xlabel('жанры')\n",
    "plt.ylabel('средние показатели продаж')\n",
    "plt.show()\n",
    "data_new_na_platform = data_new.pivot_table(index= ['platform'], values='na_sales', aggfunc=['median'])\n",
    "print(data_new_na_platform)\n",
    "data_new_na_platform.plot(kind='bar', grid=True, figsize=(12, 5))\n",
    "plt.title('Аудитория Северной Америки')\n",
    "plt.xlabel('платформы')\n",
    "plt.ylabel('средние показатели продаж')\n",
    "plt.show()\n",
    "data_new_na_rating = data_new.pivot_table(index= ['rating'], values='na_sales', aggfunc=['median'])\n",
    "print(data_new_na_rating)\n",
    "data_new_na_rating.plot(kind='bar', grid=True, figsize=(12, 5))\n",
    "plt.title('Аудитория Северной Америки')\n",
    "plt.xlabel('рейтинг ESRB ')\n",
    "plt.ylabel('средние показатели продаж')\n",
    "plt.show()"
   ]
  },
  {
   "cell_type": "markdown",
   "metadata": {},
   "source": [
    "<b> Выводы: </b>По общей оценке, у североамериканских пользователей те же предпочтения по жанрам и платформам, что и у глобальной аудитории. По рейтингам самые ESRB продаваемые «M» («Mature») — «Для взрослых», на втором месте E10+, в категории 'unknown' практически пусто - очевидно без этого рейтинга на рынке СА не обойтись "
   ]
  },
  {
   "cell_type": "markdown",
   "metadata": {},
   "source": [
    "### Европа (EU)"
   ]
  },
  {
   "cell_type": "code",
   "execution_count": 49,
   "metadata": {
    "scrolled": true
   },
   "outputs": [
    {
     "name": "stdout",
     "output_type": "stream",
     "text": [
      "               median\n",
      "             eu_sales\n",
      "genre                \n",
      "Action          0.020\n",
      "Adventure       0.000\n",
      "Fighting        0.020\n",
      "Misc            0.015\n",
      "Platform        0.080\n",
      "Puzzle          0.010\n",
      "Racing          0.090\n",
      "Role-Playing    0.010\n",
      "Shooter         0.170\n",
      "Simulation      0.030\n",
      "Sports          0.050\n",
      "Strategy        0.010\n"
     ]
    },
    {
     "data": {
      "image/png": "[encoded data removed]",
      "text/plain": [
       "<Figure size 432x288 with 1 Axes>"
      ]
     },
     "metadata": {
      "needs_background": "light"
     },
     "output_type": "display_data"
    },
    {
     "name": "stdout",
     "output_type": "stream",
     "text": [
      "           median\n",
      "         eu_sales\n",
      "platform         \n",
      "3DS          0.00\n",
      "DS           0.02\n",
      "PC           0.06\n",
      "PS3          0.03\n",
      "PS4          0.08\n",
      "PSP          0.00\n",
      "PSV          0.00\n",
      "Wii          0.04\n",
      "WiiU         0.07\n",
      "X360         0.10\n",
      "XOne         0.07\n"
     ]
    },
    {
     "data": {
      "image/png": "[encoded data removed]",
      "text/plain": [
       "<Figure size 864x360 with 1 Axes>"
      ]
     },
     "metadata": {
      "needs_background": "light"
     },
     "output_type": "display_data"
    },
    {
     "data": {
      "image/png": "[encoded data removed]",
      "text/plain": [
       "<Figure size 864x360 with 1 Axes>"
      ]
     },
     "metadata": {
      "needs_background": "light"
     },
     "output_type": "display_data"
    },
    {
     "name": "stdout",
     "output_type": "stream",
     "text": [
      "          median\n",
      "        eu_sales\n",
      "rating          \n",
      "E           0.06\n",
      "E10+        0.11\n",
      "M           0.13\n",
      "T           0.04\n",
      "unknown     0.00\n"
     ]
    },
    {
     "data": {
      "image/png": "[encoded data removed]",
      "text/plain": [
       "<Figure size 864x360 with 1 Axes>"
      ]
     },
     "metadata": {
      "needs_background": "light"
     },
     "output_type": "display_data"
    }
   ],
   "source": [
    "data_new_eu_genre = data_new.pivot_table(index= ['genre'], values='eu_sales', aggfunc=['median'])\n",
    "print(data_new_eu_genre)\n",
    "plt.title('Аудитория Европы')\n",
    "plt.xlabel('жанры')\n",
    "plt.ylabel('средние показатели продаж')\n",
    "plt.show()\n",
    "data_new_eu_genre.plot(kind='bar', grid=True, figsize=(12, 5))\n",
    "data_new_eu_platform = data_new.pivot_table(index= ['platform'], values='eu_sales', aggfunc=['median'])\n",
    "print(data_new_eu_platform)\n",
    "data_new_eu_platform.plot(kind='bar', grid=True, figsize=(12, 5))\n",
    "plt.title('Аудитория Европы')\n",
    "plt.xlabel('платформы')\n",
    "plt.ylabel('средние показатели продаж')\n",
    "plt.show()\n",
    "data_new_eu_rating = data_new.pivot_table(index= ['rating'], values='eu_sales', aggfunc=['median'])\n",
    "print(data_new_eu_rating)\n",
    "data_new_eu_rating.plot(kind='bar', grid=True, figsize=(12, 5))\n",
    "plt.title('Аудитория Европы')\n",
    "plt.xlabel('рейтинг ESRB')\n",
    "plt.ylabel('средние показатели продаж')\n",
    "plt.show()"
   ]
  },
  {
   "cell_type": "markdown",
   "metadata": {},
   "source": [
    "<b> Выводы: </b> В Европе предпочтения аудитории во многом похожи на Северную Америку и общемировые. Из топа жанров на второе место добавляется 'Racing'. По рейтингам самые ESRB продаваемые «M» («Mature») — «Для взрослых», на втором месте E10+, 'unknown' в р-не нуля, аналогичная картина как в СА.  "
   ]
  },
  {
   "cell_type": "markdown",
   "metadata": {},
   "source": [
    "### Япония (JP)"
   ]
  },
  {
   "cell_type": "code",
   "execution_count": 50,
   "metadata": {},
   "outputs": [
    {
     "name": "stdout",
     "output_type": "stream",
     "text": [
      "               median\n",
      "             jp_sales\n",
      "genre                \n",
      "Action           0.01\n",
      "Adventure        0.01\n",
      "Fighting         0.03\n",
      "Misc             0.02\n",
      "Platform         0.00\n",
      "Puzzle           0.00\n",
      "Racing           0.00\n",
      "Role-Playing     0.06\n",
      "Shooter          0.00\n",
      "Simulation       0.00\n",
      "Sports           0.00\n",
      "Strategy         0.00\n"
     ]
    },
    {
     "data": {
      "image/png": "[encoded data removed]",
      "text/plain": [
       "<Figure size 864x360 with 1 Axes>"
      ]
     },
     "metadata": {
      "needs_background": "light"
     },
     "output_type": "display_data"
    },
    {
     "name": "stdout",
     "output_type": "stream",
     "text": [
      "           median\n",
      "         jp_sales\n",
      "platform         \n",
      "3DS          0.06\n",
      "DS           0.00\n",
      "PC           0.00\n",
      "PS3          0.03\n",
      "PS4          0.01\n",
      "PSP          0.03\n",
      "PSV          0.03\n",
      "Wii          0.00\n",
      "WiiU         0.00\n",
      "X360         0.00\n",
      "XOne         0.00\n"
     ]
    },
    {
     "data": {
      "image/png": "[encoded data removed]",
      "text/plain": [
       "<Figure size 864x360 with 1 Axes>"
      ]
     },
     "metadata": {
      "needs_background": "light"
     },
     "output_type": "display_data"
    },
    {
     "name": "stdout",
     "output_type": "stream",
     "text": [
      "          median\n",
      "        jp_sales\n",
      "rating          \n",
      "E           0.00\n",
      "E10+        0.00\n",
      "M           0.00\n",
      "T           0.01\n",
      "unknown     0.03\n"
     ]
    },
    {
     "data": {
      "image/png": "[encoded data removed]",
      "text/plain": [
       "<Figure size 864x360 with 1 Axes>"
      ]
     },
     "metadata": {
      "needs_background": "light"
     },
     "output_type": "display_data"
    }
   ],
   "source": [
    "data_new_jp_genre = data_new.pivot_table(index= ['genre'], values='jp_sales', aggfunc=['median'])\n",
    "print(data_new_jp_genre)\n",
    "data_new_jp_genre.plot(kind='bar', grid=True, figsize=(12, 5))\n",
    "plt.title('Аудитория Японии')\n",
    "plt.xlabel('жанр')\n",
    "plt.ylabel('средние показатели продаж')\n",
    "plt.show()\n",
    "data_new_jp_platform = data_new.pivot_table(index= ['platform'], values='jp_sales', aggfunc=['median'])\n",
    "print(data_new_jp_platform)\n",
    "data_new_jp_platform.plot(kind='bar', grid=True, figsize=(12, 5))\n",
    "plt.title('Аудитория Японии')\n",
    "plt.xlabel('платформа')\n",
    "plt.ylabel('средние показатели продаж')\n",
    "plt.show()\n",
    "data_new_jp_rating = data_new.pivot_table(index= ['rating'], values='jp_sales', aggfunc=['median'])\n",
    "print(data_new_jp_rating)\n",
    "data_new_jp_rating.plot(kind='bar', grid=True, figsize=(12, 5))\n",
    "plt.title('Аудитория Японии')\n",
    "plt.xlabel('рейтинг ESRB')\n",
    "plt.ylabel('средние показатели продаж')\n",
    "plt.show()"
   ]
  },
  {
   "cell_type": "markdown",
   "metadata": {},
   "source": [
    "<b> Выводы: </b>А вот в Японии предпочтения публики отличаются. Что можно было предвидеть еще на матрице корреляций. Но добавились детали - на первом месте по жанрам Role-Playing (обгоняет общемировой Shooter). По платформам тоже другой лидер 3DS. Обратилась к википедии для понимания особенностей жанра. Тема оказалась обширной, но обнаружено, что выделяют 'ролевые игры западной школы и ролевые игры японской школы (jRPG)'. Прихожу к выводу, что это не артефакт сравнительно небольшой выборки по Японии, а некоторое культурное явление. Есть отличия от глобальной аудитории и в части влияния рейтинга: самые продаваемые  («unknown») — вероятно там своя система рейтигов."
   ]
  },
  {
   "cell_type": "markdown",
   "metadata": {},
   "source": [
    "<div class=\"alert alert-info\">Разобралась в вопросе про систему ESRB. Поняла, что как минимум в Европе и в Японии вместо нее могут применяться локальные аналоги.  В начале исследования заполнила пропуски в этом стобце на 'unknown'</div>"
   ]
  },
  {
   "cell_type": "markdown",
   "metadata": {},
   "source": [
    "## Проверка гипотез "
   ]
  },
  {
   "cell_type": "markdown",
   "metadata": {},
   "source": [
    "Гипотеза о равенстве средних двух генеральных совокупностей\n",
    "В задании вопрос - \"Средние пользовательские рейтинги платформ Xbox One и PC одинаковые\"\n",
    "Нулевая гипотеза: средние равны, различия отсутствуют  \n",
    "Альтернативная гипозеза: средние не равны "
   ]
  },
  {
   "cell_type": "code",
   "execution_count": 51,
   "metadata": {
    "scrolled": true
   },
   "outputs": [
    {
     "name": "stdout",
     "output_type": "stream",
     "text": [
      "p-значение: 0.5489537965134987\n",
      "Не получилось отвергнуть нулевую гипотезу, не опровергнута гипотеза о том, что средние пользовательские рейтинги платформ Xbox One и PC одинаковые\n"
     ]
    }
   ],
   "source": [
    "\n",
    "\n",
    "score_xbox=data_new.loc[data_new.platform=='XOne', 'user_score']\n",
    "score_pc=data_new.loc[data_new.platform == \"PC\", 'user_score']\n",
    "\n",
    "alpha = 0.05 \n",
    "results=st.ttest_ind(score_xbox, score_pc, equal_var=False, nan_policy='omit')\n",
    "\n",
    "\n",
    "print('p-значение:', results.pvalue)\n",
    "\n",
    "if results.pvalue < alpha:\n",
    "    print(\"Отвергаем нулевую гипотезу, средние пользовательские рейтинги платформ Xbox One и PC не одинаковые\")\n",
    "else:\n",
    "    print(\"Не получилось отвергнуть нулевую гипотезу, не опровергнута гипотеза о том, что средние пользовательские рейтинги платформ Xbox One и PC одинаковые\")"
   ]
  },
  {
   "cell_type": "markdown",
   "metadata": {},
   "source": [
    "<b> Выводы: </b> не опровергнута гипотеза о том, что средние пользовательские рейтинги платформ Xbox One и PC одинаковые "
   ]
  },
  {
   "cell_type": "markdown",
   "metadata": {},
   "source": [
    "Гипотеза о равенстве средних двух генеральных совокупностей\n",
    "В задании вопрос - \"Средние пользовательские рейтинги жанров Action и Sports разные\"\n",
    "Нулевая гипотеза: средние равны, различия отсутствуют  \n",
    "Альтернативня гипозеза: средние не равны "
   ]
  },
  {
   "cell_type": "code",
   "execution_count": 52,
   "metadata": {},
   "outputs": [
    {
     "name": "stdout",
     "output_type": "stream",
     "text": [
      "p-значение: 4.24307776572644e-20\n",
      "Отвергаем нулевую гипотезу, вывод: средние пользовательские рейтинги жанров Action и Sports разные\n"
     ]
    }
   ],
   "source": [
    "score_action=data_new.loc[data_new.genre=='Action', 'user_score']\n",
    "score_sports=data_new.loc[data_new.genre == \"Sports\", 'user_score']\n",
    "\n",
    "alpha = 0.05 \n",
    "results=st.ttest_ind(score_action, score_sports, equal_var=False, nan_policy='omit')\n",
    "\n",
    "\n",
    "print('p-значение:', results.pvalue)\n",
    "\n",
    "if results.pvalue < alpha:\n",
    "    print(\"Отвергаем нулевую гипотезу, вывод: средние пользовательские рейтинги жанров Action и Sports разные\")\n",
    "else:\n",
    "    print(\"Не получилось отвергнуть нулевую гипотезу об остутствии различий средних пользовательские рейтинги жанров Action и Sports\")"
   ]
  },
  {
   "cell_type": "markdown",
   "metadata": {},
   "source": [
    "<b> Выводы: </b> Средние пользовательские рейтинги жанров Action и Sports разные"
   ]
  },
  {
   "cell_type": "markdown",
   "metadata": {},
   "source": [
    "## Общий вывод"
   ]
  },
  {
   "cell_type": "markdown",
   "metadata": {},
   "source": [
    "1. <b> Рассмотрены исторические даннные по платформам, </b> выявлено что период успешного существования платформ 5-8 лет\n",
    "\n",
    "2. <b> В качестве периода времени выбранного для анализа актуального рынка </b> взят период с 2012 по 2016 года включительно\n",
    "\n",
    "3. <b> Предпочтения глобальной аудитории </b> по датасету с 2012 по 2016 по платформам - обнаружено 5 платформ с высокой активностью продаж за период: \n",
    " 3DS (194.61), \n",
    " PS3 (288.79), \n",
    " PS4 (314.14), \n",
    " X360 (236.54), \n",
    " XOne (159.32). \n",
    "  По жанрам: \n",
    "\n",
    "**Выдающиеся результаты продаж у жанров:**\n",
    "-  Shooter \n",
    "-  Sports \n",
    "- Platform \n",
    "\n",
    "**Наименее покупаемые жанры:**\n",
    "- Strategy \n",
    "- Puzzle \n",
    "- Adventure \n",
    "\n",
    "4. <b> Влияние оценки пользователей и критиков на продажи : </b> не обнаруживается влияние оценок пользователей, оценки критиков влияют слабо-положительно. Предполагаю что общий фактор - рекламная компания, в результате оценки критиков и продажи растут. Сильной взаимосвязи нет. \n",
    "\n",
    "5. <b> Предпочтения пользователей из разных регионов : </b> по жанрам, платформам и влиянию рейтинга ESRB: существенных отличий у североамериканской и европейской аудитории от глобальной аудитории не выялено. Я вот у аудитории Японии наблюдаются отличия и по жанрам, и по платформам, и по рейтингам ESRB . В целом, рейтинг ESRB не показателен для анализа аудитории в Японии.\n",
    "6. <b> Крупные платформы, активные на момент 2016 года : </b> на всех крупных платформах в 2016 году наблюдается относительный спад (но это может быть влияние неполных данных за 2016 год). \n",
    "  \n",
    "  Поэтому сравнительно в другими, можно назвать лидерами:\n",
    "  - \"XOne\"\n",
    "  - \"PS4\"\n",
    "  \n",
    "  На других крупных платформах наблюдатеся существенный спад за несколько предыдущих лет:\n",
    "  - \"3DS\"\n",
    "  - \"PS3\"\n",
    "  - \"X360\"\n",
    "7. <b> Проверка гипотезы 1  : </b> не опровергнута гипотеза о том, что средние пользовательские рейтинги платформ Xbox One и PC одинаковые\n",
    "8. <b> Проверка гипотезы 2  : </b> средние пользовательские рейтинги жанров Action и Sports разные"
   ]
  }
 ],
 "metadata": {
  "ExecuteTimeLog": [
   {
    "duration": 502,
    "start_time": "2022-10-17T09:39:32.118Z"
   },
   {
    "duration": 182,
    "start_time": "2022-10-17T09:39:41.816Z"
   },
   {
    "duration": 69,
    "start_time": "2022-10-17T09:40:12.485Z"
   },
   {
    "duration": 65,
    "start_time": "2022-10-17T09:40:32.183Z"
   },
   {
    "duration": 60,
    "start_time": "2022-10-17T09:40:48.821Z"
   },
   {
    "duration": 43,
    "start_time": "2022-10-17T16:16:26.362Z"
   },
   {
    "duration": 473,
    "start_time": "2022-10-17T16:16:38.194Z"
   },
   {
    "duration": 26,
    "start_time": "2022-10-17T16:16:43.154Z"
   },
   {
    "duration": 4,
    "start_time": "2022-10-17T16:16:58.590Z"
   },
   {
    "duration": 4,
    "start_time": "2022-10-17T16:24:08.266Z"
   },
   {
    "duration": 9,
    "start_time": "2022-10-17T16:24:41.597Z"
   },
   {
    "duration": 3,
    "start_time": "2022-10-17T16:24:56.548Z"
   },
   {
    "duration": 7,
    "start_time": "2022-10-17T16:24:58.867Z"
   },
   {
    "duration": 50,
    "start_time": "2022-10-17T16:43:36.400Z"
   },
   {
    "duration": 69,
    "start_time": "2022-10-17T16:51:33.801Z"
   },
   {
    "duration": 45,
    "start_time": "2022-10-17T16:51:58.598Z"
   },
   {
    "duration": 62,
    "start_time": "2022-10-17T16:52:01.549Z"
   },
   {
    "duration": 833,
    "start_time": "2022-10-17T16:52:21.687Z"
   },
   {
    "duration": 826,
    "start_time": "2022-10-17T16:55:08.253Z"
   },
   {
    "duration": 650,
    "start_time": "2022-10-17T16:55:57.473Z"
   },
   {
    "duration": 776,
    "start_time": "2022-10-17T16:56:42.956Z"
   },
   {
    "duration": 773,
    "start_time": "2022-10-17T16:57:04.715Z"
   },
   {
    "duration": 48,
    "start_time": "2022-10-17T16:57:13.882Z"
   },
   {
    "duration": 3,
    "start_time": "2022-10-17T16:57:19.384Z"
   },
   {
    "duration": 746,
    "start_time": "2022-10-17T16:57:34.313Z"
   },
   {
    "duration": 638,
    "start_time": "2022-10-17T16:59:21.380Z"
   },
   {
    "duration": 928,
    "start_time": "2022-10-17T17:03:41.324Z"
   },
   {
    "duration": 1190,
    "start_time": "2022-10-17T17:04:17.730Z"
   },
   {
    "duration": 50,
    "start_time": "2022-10-17T17:04:49.026Z"
   },
   {
    "duration": 4,
    "start_time": "2022-10-17T17:04:56.788Z"
   },
   {
    "duration": 5,
    "start_time": "2022-10-17T17:05:00.040Z"
   },
   {
    "duration": 16,
    "start_time": "2022-10-17T17:05:05.214Z"
   },
   {
    "duration": 43,
    "start_time": "2022-10-17T17:08:07.276Z"
   },
   {
    "duration": 15,
    "start_time": "2022-10-17T17:09:41.192Z"
   },
   {
    "duration": 17,
    "start_time": "2022-10-17T17:10:33.167Z"
   },
   {
    "duration": 13,
    "start_time": "2022-10-17T17:12:15.970Z"
   },
   {
    "duration": 521,
    "start_time": "2022-10-17T17:13:36.149Z"
   },
   {
    "duration": 13,
    "start_time": "2022-10-17T17:15:23.036Z"
   },
   {
    "duration": 9,
    "start_time": "2022-10-17T17:44:43.513Z"
   },
   {
    "duration": 11,
    "start_time": "2022-10-17T17:45:54.937Z"
   },
   {
    "duration": 51,
    "start_time": "2022-10-17T17:46:59.748Z"
   },
   {
    "duration": 4,
    "start_time": "2022-10-17T17:47:04.227Z"
   },
   {
    "duration": 4,
    "start_time": "2022-10-17T17:47:07.174Z"
   },
   {
    "duration": 10,
    "start_time": "2022-10-17T17:47:13.676Z"
   },
   {
    "duration": 44,
    "start_time": "2022-10-18T06:34:05.460Z"
   },
   {
    "duration": 455,
    "start_time": "2022-10-18T06:34:18.677Z"
   },
   {
    "duration": 3,
    "start_time": "2022-10-18T06:34:23.965Z"
   },
   {
    "duration": 4,
    "start_time": "2022-10-18T06:34:27.035Z"
   },
   {
    "duration": 8,
    "start_time": "2022-10-18T06:34:29.487Z"
   },
   {
    "duration": 10,
    "start_time": "2022-10-18T06:34:33.111Z"
   },
   {
    "duration": 46,
    "start_time": "2022-10-18T06:34:39.151Z"
   },
   {
    "duration": 48,
    "start_time": "2022-10-18T06:37:05.013Z"
   },
   {
    "duration": 25,
    "start_time": "2022-10-18T06:39:40.047Z"
   },
   {
    "duration": 3,
    "start_time": "2022-10-18T06:40:59.442Z"
   },
   {
    "duration": 5,
    "start_time": "2022-10-18T06:41:11.849Z"
   },
   {
    "duration": 10,
    "start_time": "2022-10-18T06:41:50.143Z"
   },
   {
    "duration": 14,
    "start_time": "2022-10-18T06:42:36.864Z"
   },
   {
    "duration": 13,
    "start_time": "2022-10-18T06:45:30.565Z"
   },
   {
    "duration": 20,
    "start_time": "2022-10-18T06:46:16.365Z"
   },
   {
    "duration": 24,
    "start_time": "2022-10-18T06:47:39.942Z"
   },
   {
    "duration": 22,
    "start_time": "2022-10-18T06:49:50.892Z"
   },
   {
    "duration": 25,
    "start_time": "2022-10-18T06:50:45.230Z"
   },
   {
    "duration": 26,
    "start_time": "2022-10-18T07:11:43.941Z"
   },
   {
    "duration": 15,
    "start_time": "2022-10-18T07:12:11.480Z"
   },
   {
    "duration": 5,
    "start_time": "2022-10-18T07:14:04.162Z"
   },
   {
    "duration": 16,
    "start_time": "2022-10-18T11:23:41.546Z"
   },
   {
    "duration": 810,
    "start_time": "2022-10-18T11:25:58.864Z"
   },
   {
    "duration": 795,
    "start_time": "2022-10-18T11:26:10.709Z"
   },
   {
    "duration": 4,
    "start_time": "2022-10-18T11:26:22.894Z"
   },
   {
    "duration": 5,
    "start_time": "2022-10-18T11:26:38.936Z"
   },
   {
    "duration": 146,
    "start_time": "2022-10-18T11:27:58.518Z"
   },
   {
    "duration": 4,
    "start_time": "2022-10-18T11:28:49.483Z"
   },
   {
    "duration": 40,
    "start_time": "2022-10-18T11:29:22.186Z"
   },
   {
    "duration": 6,
    "start_time": "2022-10-18T11:31:08.773Z"
   },
   {
    "duration": 7,
    "start_time": "2022-10-18T11:31:29.604Z"
   },
   {
    "duration": 6,
    "start_time": "2022-10-18T11:32:10.442Z"
   },
   {
    "duration": 5,
    "start_time": "2022-10-18T11:32:17.945Z"
   },
   {
    "duration": 4,
    "start_time": "2022-10-18T11:32:40.626Z"
   },
   {
    "duration": 8,
    "start_time": "2022-10-18T11:34:14.294Z"
   },
   {
    "duration": 8,
    "start_time": "2022-10-18T11:34:21.269Z"
   },
   {
    "duration": 8,
    "start_time": "2022-10-18T11:34:33.576Z"
   },
   {
    "duration": 38,
    "start_time": "2022-10-18T11:35:16.316Z"
   },
   {
    "duration": 46,
    "start_time": "2022-10-18T11:37:22.182Z"
   },
   {
    "duration": 10,
    "start_time": "2022-10-18T11:37:32.081Z"
   },
   {
    "duration": 11,
    "start_time": "2022-10-18T12:26:11.359Z"
   },
   {
    "duration": 15,
    "start_time": "2022-10-18T12:26:42.581Z"
   },
   {
    "duration": 16,
    "start_time": "2022-10-18T12:28:12.705Z"
   },
   {
    "duration": 5,
    "start_time": "2022-10-18T12:57:57.653Z"
   },
   {
    "duration": 8,
    "start_time": "2022-10-18T12:58:20.964Z"
   },
   {
    "duration": 5,
    "start_time": "2022-10-18T12:58:45.264Z"
   },
   {
    "duration": 6,
    "start_time": "2022-10-18T13:00:01.042Z"
   },
   {
    "duration": 4,
    "start_time": "2022-10-18T13:15:04.347Z"
   },
   {
    "duration": 15,
    "start_time": "2022-10-18T13:15:39.129Z"
   },
   {
    "duration": 45,
    "start_time": "2022-10-18T13:18:44.512Z"
   },
   {
    "duration": 12,
    "start_time": "2022-10-18T13:27:11.924Z"
   },
   {
    "duration": 13,
    "start_time": "2022-10-18T13:27:33.136Z"
   },
   {
    "duration": 1166,
    "start_time": "2022-10-18T13:30:15.840Z"
   },
   {
    "duration": 382,
    "start_time": "2022-10-18T13:31:11.731Z"
   },
   {
    "duration": 12,
    "start_time": "2022-10-18T13:31:25.421Z"
   },
   {
    "duration": 12,
    "start_time": "2022-10-18T13:32:10.162Z"
   },
   {
    "duration": 539,
    "start_time": "2022-10-18T13:34:12.496Z"
   },
   {
    "duration": 121,
    "start_time": "2022-10-18T13:36:28.712Z"
   },
   {
    "duration": 2450,
    "start_time": "2022-10-18T13:37:06.762Z"
   },
   {
    "duration": 166,
    "start_time": "2022-10-18T13:40:39.930Z"
   },
   {
    "duration": 62,
    "start_time": "2022-10-18T15:57:53.018Z"
   },
   {
    "duration": 8,
    "start_time": "2022-10-18T15:58:01.695Z"
   },
   {
    "duration": 151,
    "start_time": "2022-10-18T16:03:07.180Z"
   },
   {
    "duration": 196,
    "start_time": "2022-10-18T16:04:11.845Z"
   },
   {
    "duration": 139,
    "start_time": "2022-10-18T16:04:37.069Z"
   },
   {
    "duration": 370,
    "start_time": "2022-10-18T16:11:28.797Z"
   },
   {
    "duration": 256,
    "start_time": "2022-10-18T16:14:31.893Z"
   },
   {
    "duration": 37,
    "start_time": "2022-10-18T16:22:39.998Z"
   },
   {
    "duration": 6,
    "start_time": "2022-10-18T16:23:25.160Z"
   },
   {
    "duration": 168,
    "start_time": "2022-10-18T16:27:31.153Z"
   },
   {
    "duration": 236,
    "start_time": "2022-10-18T16:28:42.029Z"
   },
   {
    "duration": 55,
    "start_time": "2022-10-18T16:29:34.218Z"
   },
   {
    "duration": 4,
    "start_time": "2022-10-18T16:29:39.217Z"
   },
   {
    "duration": 6,
    "start_time": "2022-10-18T16:29:44.894Z"
   },
   {
    "duration": 9,
    "start_time": "2022-10-18T16:29:53.443Z"
   },
   {
    "duration": 14,
    "start_time": "2022-10-18T16:29:58.067Z"
   },
   {
    "duration": 14,
    "start_time": "2022-10-18T16:30:05.289Z"
   },
   {
    "duration": 10,
    "start_time": "2022-10-18T16:30:09.361Z"
   },
   {
    "duration": 16,
    "start_time": "2022-10-18T16:30:16.371Z"
   },
   {
    "duration": 5,
    "start_time": "2022-10-18T16:30:20.241Z"
   },
   {
    "duration": 4,
    "start_time": "2022-10-18T16:30:22.367Z"
   },
   {
    "duration": 22,
    "start_time": "2022-10-18T16:30:25.810Z"
   },
   {
    "duration": 9,
    "start_time": "2022-10-18T16:30:29.893Z"
   },
   {
    "duration": 19,
    "start_time": "2022-10-18T16:30:41.280Z"
   },
   {
    "duration": 183,
    "start_time": "2022-10-18T16:30:49.572Z"
   },
   {
    "duration": 13,
    "start_time": "2022-10-18T16:31:05.635Z"
   },
   {
    "duration": 12,
    "start_time": "2022-10-18T16:31:17.369Z"
   },
   {
    "duration": 7,
    "start_time": "2022-10-18T16:31:46.274Z"
   },
   {
    "duration": 13,
    "start_time": "2022-10-18T16:32:05.024Z"
   },
   {
    "duration": 8,
    "start_time": "2022-10-18T16:32:08.804Z"
   },
   {
    "duration": 9,
    "start_time": "2022-10-18T16:32:19.346Z"
   },
   {
    "duration": 481,
    "start_time": "2022-10-18T16:33:21.691Z"
   },
   {
    "duration": 4,
    "start_time": "2022-10-18T16:33:27.091Z"
   },
   {
    "duration": 5,
    "start_time": "2022-10-18T16:33:32.929Z"
   },
   {
    "duration": 11,
    "start_time": "2022-10-18T16:33:36.372Z"
   },
   {
    "duration": 11,
    "start_time": "2022-10-18T16:33:44.888Z"
   },
   {
    "duration": 11,
    "start_time": "2022-10-18T16:34:12.969Z"
   },
   {
    "duration": 64,
    "start_time": "2022-10-18T16:34:43.141Z"
   },
   {
    "duration": 7,
    "start_time": "2022-10-18T16:34:47.506Z"
   },
   {
    "duration": 13,
    "start_time": "2022-10-18T16:34:52.681Z"
   },
   {
    "duration": 9,
    "start_time": "2022-10-18T16:35:14.798Z"
   },
   {
    "duration": 14,
    "start_time": "2022-10-18T16:35:24.170Z"
   },
   {
    "duration": 4,
    "start_time": "2022-10-18T16:35:27.387Z"
   },
   {
    "duration": 5,
    "start_time": "2022-10-18T16:35:30.378Z"
   },
   {
    "duration": 18,
    "start_time": "2022-10-18T16:35:33.607Z"
   },
   {
    "duration": 7,
    "start_time": "2022-10-18T16:35:40.256Z"
   },
   {
    "duration": 21,
    "start_time": "2022-10-18T16:35:44.194Z"
   },
   {
    "duration": 386,
    "start_time": "2022-10-18T16:35:51.473Z"
   },
   {
    "duration": 266,
    "start_time": "2022-10-18T16:36:01.181Z"
   },
   {
    "duration": 198,
    "start_time": "2022-10-18T16:36:09.529Z"
   },
   {
    "duration": 10,
    "start_time": "2022-10-18T16:41:26.611Z"
   },
   {
    "duration": 10,
    "start_time": "2022-10-18T16:41:32.878Z"
   },
   {
    "duration": 201,
    "start_time": "2022-10-18T16:47:28.536Z"
   },
   {
    "duration": 68,
    "start_time": "2022-10-18T16:49:23.838Z"
   },
   {
    "duration": 252,
    "start_time": "2022-10-18T16:51:05.989Z"
   },
   {
    "duration": 211,
    "start_time": "2022-10-18T16:55:23.907Z"
   },
   {
    "duration": 61,
    "start_time": "2022-10-18T16:57:05.373Z"
   },
   {
    "duration": 234,
    "start_time": "2022-10-18T17:00:02.909Z"
   },
   {
    "duration": 195,
    "start_time": "2022-10-18T17:10:59.071Z"
   },
   {
    "duration": 57,
    "start_time": "2022-10-18T17:12:55.880Z"
   },
   {
    "duration": 323,
    "start_time": "2022-10-18T17:41:31.622Z"
   },
   {
    "duration": 283,
    "start_time": "2022-10-18T17:42:45.070Z"
   },
   {
    "duration": 290,
    "start_time": "2022-10-18T17:43:33.401Z"
   },
   {
    "duration": 311,
    "start_time": "2022-10-18T17:53:14.141Z"
   },
   {
    "duration": 383,
    "start_time": "2022-10-18T17:53:51.953Z"
   },
   {
    "duration": 280,
    "start_time": "2022-10-18T17:54:26.806Z"
   },
   {
    "duration": 283,
    "start_time": "2022-10-18T17:57:25.176Z"
   },
   {
    "duration": 55,
    "start_time": "2022-10-18T17:59:29.841Z"
   },
   {
    "duration": 130,
    "start_time": "2022-10-18T17:59:44.621Z"
   },
   {
    "duration": 107,
    "start_time": "2022-10-18T18:00:05.703Z"
   },
   {
    "duration": 314,
    "start_time": "2022-10-18T18:00:31.004Z"
   },
   {
    "duration": 587,
    "start_time": "2022-10-19T06:36:34.657Z"
   },
   {
    "duration": 3,
    "start_time": "2022-10-19T06:36:35.246Z"
   },
   {
    "duration": 7,
    "start_time": "2022-10-19T06:36:35.250Z"
   },
   {
    "duration": 15,
    "start_time": "2022-10-19T06:36:35.259Z"
   },
   {
    "duration": 20,
    "start_time": "2022-10-19T06:36:35.276Z"
   },
   {
    "duration": 9,
    "start_time": "2022-10-19T06:36:35.297Z"
   },
   {
    "duration": 17,
    "start_time": "2022-10-19T06:36:35.307Z"
   },
   {
    "duration": 4,
    "start_time": "2022-10-19T06:36:35.326Z"
   },
   {
    "duration": 7,
    "start_time": "2022-10-19T06:36:35.332Z"
   },
   {
    "duration": 23,
    "start_time": "2022-10-19T06:36:35.341Z"
   },
   {
    "duration": 6,
    "start_time": "2022-10-19T06:36:35.366Z"
   },
   {
    "duration": 16,
    "start_time": "2022-10-19T06:36:35.373Z"
   },
   {
    "duration": 626,
    "start_time": "2022-10-19T06:36:35.390Z"
   },
   {
    "duration": 301,
    "start_time": "2022-10-19T06:36:36.021Z"
   },
   {
    "duration": 200,
    "start_time": "2022-10-19T06:36:36.323Z"
   },
   {
    "duration": 233,
    "start_time": "2022-10-19T06:36:36.525Z"
   },
   {
    "duration": 208,
    "start_time": "2022-10-19T06:36:36.760Z"
   },
   {
    "duration": 196,
    "start_time": "2022-10-19T06:36:36.970Z"
   },
   {
    "duration": 205,
    "start_time": "2022-10-19T06:36:37.167Z"
   },
   {
    "duration": 214,
    "start_time": "2022-10-19T06:36:37.374Z"
   },
   {
    "duration": 252,
    "start_time": "2022-10-19T06:38:10.071Z"
   },
   {
    "duration": 274,
    "start_time": "2022-10-19T06:39:15.842Z"
   },
   {
    "duration": 83,
    "start_time": "2022-10-19T06:39:47.903Z"
   },
   {
    "duration": 156,
    "start_time": "2022-10-19T06:40:09.225Z"
   },
   {
    "duration": 250,
    "start_time": "2022-10-19T06:40:21.848Z"
   },
   {
    "duration": 319,
    "start_time": "2022-10-19T06:40:47.257Z"
   },
   {
    "duration": 285,
    "start_time": "2022-10-19T06:44:31.845Z"
   },
   {
    "duration": 70,
    "start_time": "2022-10-19T07:57:55.587Z"
   },
   {
    "duration": 103,
    "start_time": "2022-10-19T08:01:37.880Z"
   },
   {
    "duration": 79,
    "start_time": "2022-10-19T08:01:42.334Z"
   },
   {
    "duration": 11,
    "start_time": "2022-10-19T08:01:49.061Z"
   },
   {
    "duration": 12,
    "start_time": "2022-10-19T08:08:20.283Z"
   },
   {
    "duration": 20,
    "start_time": "2022-10-19T08:08:52.453Z"
   },
   {
    "duration": 17,
    "start_time": "2022-10-19T08:09:26.545Z"
   },
   {
    "duration": 413,
    "start_time": "2022-10-19T08:14:46.385Z"
   },
   {
    "duration": 3,
    "start_time": "2022-10-19T08:14:46.800Z"
   },
   {
    "duration": 13,
    "start_time": "2022-10-19T08:14:46.804Z"
   },
   {
    "duration": 19,
    "start_time": "2022-10-19T08:14:46.819Z"
   },
   {
    "duration": 15,
    "start_time": "2022-10-19T08:14:46.840Z"
   },
   {
    "duration": 12,
    "start_time": "2022-10-19T08:14:46.857Z"
   },
   {
    "duration": 16,
    "start_time": "2022-10-19T08:14:46.871Z"
   },
   {
    "duration": 4,
    "start_time": "2022-10-19T08:14:46.888Z"
   },
   {
    "duration": 8,
    "start_time": "2022-10-19T08:14:46.893Z"
   },
   {
    "duration": 29,
    "start_time": "2022-10-19T08:14:46.903Z"
   },
   {
    "duration": 7,
    "start_time": "2022-10-19T08:14:46.933Z"
   },
   {
    "duration": 18,
    "start_time": "2022-10-19T08:14:46.942Z"
   },
   {
    "duration": 382,
    "start_time": "2022-10-19T08:14:46.961Z"
   },
   {
    "duration": 255,
    "start_time": "2022-10-19T08:14:47.345Z"
   },
   {
    "duration": 184,
    "start_time": "2022-10-19T08:14:47.602Z"
   },
   {
    "duration": 194,
    "start_time": "2022-10-19T08:14:47.788Z"
   },
   {
    "duration": 238,
    "start_time": "2022-10-19T08:14:47.984Z"
   },
   {
    "duration": 199,
    "start_time": "2022-10-19T08:14:48.224Z"
   },
   {
    "duration": 191,
    "start_time": "2022-10-19T08:14:48.426Z"
   },
   {
    "duration": 199,
    "start_time": "2022-10-19T08:14:48.621Z"
   },
   {
    "duration": 21,
    "start_time": "2022-10-19T08:14:48.822Z"
   },
   {
    "duration": 72,
    "start_time": "2022-10-19T08:18:55.391Z"
   },
   {
    "duration": 174,
    "start_time": "2022-10-19T08:19:19.792Z"
   },
   {
    "duration": 77,
    "start_time": "2022-10-19T08:33:00.960Z"
   },
   {
    "duration": 142,
    "start_time": "2022-10-19T08:36:35.657Z"
   },
   {
    "duration": 140,
    "start_time": "2022-10-19T08:40:15.434Z"
   },
   {
    "duration": 144,
    "start_time": "2022-10-19T10:51:23.999Z"
   },
   {
    "duration": 143,
    "start_time": "2022-10-19T10:55:29.915Z"
   },
   {
    "duration": 71,
    "start_time": "2022-10-19T10:56:09.154Z"
   },
   {
    "duration": 143,
    "start_time": "2022-10-19T10:57:38.559Z"
   },
   {
    "duration": 105,
    "start_time": "2022-10-19T10:59:09.910Z"
   },
   {
    "duration": 71,
    "start_time": "2022-10-19T11:02:34.240Z"
   },
   {
    "duration": 146,
    "start_time": "2022-10-19T11:21:04.626Z"
   },
   {
    "duration": 246,
    "start_time": "2022-10-19T11:23:29.721Z"
   },
   {
    "duration": 74,
    "start_time": "2022-10-19T11:26:57.261Z"
   },
   {
    "duration": 365,
    "start_time": "2022-10-19T11:28:59.913Z"
   },
   {
    "duration": 585,
    "start_time": "2022-10-19T11:30:27.537Z"
   },
   {
    "duration": 647,
    "start_time": "2022-10-19T11:34:24.216Z"
   },
   {
    "duration": 549,
    "start_time": "2022-10-19T11:36:36.945Z"
   },
   {
    "duration": 622,
    "start_time": "2022-10-19T11:36:54.101Z"
   },
   {
    "duration": 584,
    "start_time": "2022-10-19T11:37:59.543Z"
   },
   {
    "duration": 185,
    "start_time": "2022-10-19T11:38:49.584Z"
   },
   {
    "duration": 547,
    "start_time": "2022-10-19T11:39:15.143Z"
   },
   {
    "duration": 159,
    "start_time": "2022-10-19T11:41:01.073Z"
   },
   {
    "duration": 145,
    "start_time": "2022-10-19T11:41:34.104Z"
   },
   {
    "duration": 14,
    "start_time": "2022-10-19T11:42:37.599Z"
   },
   {
    "duration": 222,
    "start_time": "2022-10-19T11:44:24.015Z"
   },
   {
    "duration": 469,
    "start_time": "2022-10-19T14:52:20.133Z"
   },
   {
    "duration": 3,
    "start_time": "2022-10-19T14:52:20.604Z"
   },
   {
    "duration": 6,
    "start_time": "2022-10-19T14:52:20.609Z"
   },
   {
    "duration": 9,
    "start_time": "2022-10-19T14:52:20.617Z"
   },
   {
    "duration": 15,
    "start_time": "2022-10-19T14:52:20.627Z"
   },
   {
    "duration": 21,
    "start_time": "2022-10-19T14:52:20.643Z"
   },
   {
    "duration": 18,
    "start_time": "2022-10-19T14:52:20.666Z"
   },
   {
    "duration": 5,
    "start_time": "2022-10-19T14:52:20.685Z"
   },
   {
    "duration": 11,
    "start_time": "2022-10-19T14:52:20.692Z"
   },
   {
    "duration": 30,
    "start_time": "2022-10-19T14:52:20.709Z"
   },
   {
    "duration": 6,
    "start_time": "2022-10-19T14:52:20.740Z"
   },
   {
    "duration": 27,
    "start_time": "2022-10-19T14:52:20.747Z"
   },
   {
    "duration": 594,
    "start_time": "2022-10-19T14:52:20.776Z"
   },
   {
    "duration": 268,
    "start_time": "2022-10-19T14:52:21.372Z"
   },
   {
    "duration": 206,
    "start_time": "2022-10-19T14:52:21.642Z"
   },
   {
    "duration": 239,
    "start_time": "2022-10-19T14:52:21.850Z"
   },
   {
    "duration": 208,
    "start_time": "2022-10-19T14:52:22.090Z"
   },
   {
    "duration": 204,
    "start_time": "2022-10-19T14:52:22.300Z"
   },
   {
    "duration": 254,
    "start_time": "2022-10-19T14:52:22.509Z"
   },
   {
    "duration": 220,
    "start_time": "2022-10-19T14:52:22.765Z"
   },
   {
    "duration": 28,
    "start_time": "2022-10-19T14:52:22.986Z"
   },
   {
    "duration": 173,
    "start_time": "2022-10-19T14:52:23.016Z"
   },
   {
    "duration": 165,
    "start_time": "2022-10-19T14:52:23.191Z"
   },
   {
    "duration": 155,
    "start_time": "2022-10-19T14:52:23.358Z"
   },
   {
    "duration": 166,
    "start_time": "2022-10-19T14:52:23.515Z"
   },
   {
    "duration": 164,
    "start_time": "2022-10-19T14:52:23.683Z"
   },
   {
    "duration": 155,
    "start_time": "2022-10-19T14:52:23.849Z"
   },
   {
    "duration": 303,
    "start_time": "2022-10-19T14:52:24.010Z"
   },
   {
    "duration": 10,
    "start_time": "2022-10-19T14:53:16.557Z"
   },
   {
    "duration": 28,
    "start_time": "2022-10-19T14:53:51.185Z"
   },
   {
    "duration": 12,
    "start_time": "2022-10-19T14:54:47.123Z"
   },
   {
    "duration": 130,
    "start_time": "2022-10-19T15:14:21.224Z"
   },
   {
    "duration": 130,
    "start_time": "2022-10-19T15:15:34.394Z"
   },
   {
    "duration": 134,
    "start_time": "2022-10-19T15:16:35.231Z"
   },
   {
    "duration": 50,
    "start_time": "2022-10-19T15:18:32.552Z"
   },
   {
    "duration": 11,
    "start_time": "2022-10-19T15:24:29.405Z"
   },
   {
    "duration": 28,
    "start_time": "2022-10-19T15:25:17.903Z"
   },
   {
    "duration": 13,
    "start_time": "2022-10-19T15:26:30.916Z"
   },
   {
    "duration": 156,
    "start_time": "2022-10-19T15:39:51.646Z"
   },
   {
    "duration": 148,
    "start_time": "2022-10-19T15:40:32.303Z"
   },
   {
    "duration": 179,
    "start_time": "2022-10-19T15:41:42.593Z"
   },
   {
    "duration": 190,
    "start_time": "2022-10-19T16:13:34.854Z"
   },
   {
    "duration": 169,
    "start_time": "2022-10-19T16:14:48.268Z"
   },
   {
    "duration": 47,
    "start_time": "2022-10-19T16:21:26.431Z"
   },
   {
    "duration": 60,
    "start_time": "2022-10-19T16:23:53.606Z"
   },
   {
    "duration": 53,
    "start_time": "2022-10-19T16:24:15.398Z"
   },
   {
    "duration": 57,
    "start_time": "2022-10-19T16:24:22.384Z"
   },
   {
    "duration": 51,
    "start_time": "2022-10-19T16:24:35.625Z"
   },
   {
    "duration": 429,
    "start_time": "2022-10-19T16:24:56.254Z"
   },
   {
    "duration": 3,
    "start_time": "2022-10-19T16:24:56.685Z"
   },
   {
    "duration": 41,
    "start_time": "2022-10-19T16:24:56.690Z"
   },
   {
    "duration": 7,
    "start_time": "2022-10-19T16:24:56.734Z"
   },
   {
    "duration": 13,
    "start_time": "2022-10-19T16:24:56.743Z"
   },
   {
    "duration": 18,
    "start_time": "2022-10-19T16:24:56.758Z"
   },
   {
    "duration": 14,
    "start_time": "2022-10-19T16:24:56.778Z"
   },
   {
    "duration": 3,
    "start_time": "2022-10-19T16:24:56.794Z"
   },
   {
    "duration": 23,
    "start_time": "2022-10-19T16:24:56.799Z"
   },
   {
    "duration": 31,
    "start_time": "2022-10-19T16:24:56.826Z"
   },
   {
    "duration": 16,
    "start_time": "2022-10-19T16:24:56.859Z"
   },
   {
    "duration": 15,
    "start_time": "2022-10-19T16:24:56.877Z"
   },
   {
    "duration": 462,
    "start_time": "2022-10-19T16:24:56.894Z"
   },
   {
    "duration": 276,
    "start_time": "2022-10-19T16:24:57.358Z"
   },
   {
    "duration": 204,
    "start_time": "2022-10-19T16:24:57.636Z"
   },
   {
    "duration": 206,
    "start_time": "2022-10-19T16:24:57.841Z"
   },
   {
    "duration": 275,
    "start_time": "2022-10-19T16:24:58.049Z"
   },
   {
    "duration": 212,
    "start_time": "2022-10-19T16:24:58.326Z"
   },
   {
    "duration": 209,
    "start_time": "2022-10-19T16:24:58.540Z"
   },
   {
    "duration": 213,
    "start_time": "2022-10-19T16:24:58.751Z"
   },
   {
    "duration": 20,
    "start_time": "2022-10-19T16:24:58.966Z"
   },
   {
    "duration": 190,
    "start_time": "2022-10-19T16:24:58.988Z"
   },
   {
    "duration": 164,
    "start_time": "2022-10-19T16:24:59.180Z"
   },
   {
    "duration": 158,
    "start_time": "2022-10-19T16:24:59.345Z"
   },
   {
    "duration": 159,
    "start_time": "2022-10-19T16:24:59.505Z"
   },
   {
    "duration": 164,
    "start_time": "2022-10-19T16:24:59.665Z"
   },
   {
    "duration": 165,
    "start_time": "2022-10-19T16:24:59.830Z"
   },
   {
    "duration": 356,
    "start_time": "2022-10-19T16:24:59.999Z"
   },
   {
    "duration": 10,
    "start_time": "2022-10-19T16:25:00.357Z"
   },
   {
    "duration": 48,
    "start_time": "2022-10-19T16:25:00.369Z"
   },
   {
    "duration": 40,
    "start_time": "2022-10-19T16:25:00.418Z"
   },
   {
    "duration": 165,
    "start_time": "2022-10-19T16:25:00.459Z"
   },
   {
    "duration": 147,
    "start_time": "2022-10-19T16:25:00.627Z"
   },
   {
    "duration": 12,
    "start_time": "2022-10-19T16:25:00.776Z"
   },
   {
    "duration": 86,
    "start_time": "2022-10-19T16:25:00.790Z"
   },
   {
    "duration": 23,
    "start_time": "2022-10-19T16:25:00.878Z"
   },
   {
    "duration": 181,
    "start_time": "2022-10-19T16:25:00.903Z"
   },
   {
    "duration": 143,
    "start_time": "2022-10-19T16:25:01.085Z"
   },
   {
    "duration": 85,
    "start_time": "2022-10-19T16:25:01.230Z"
   },
   {
    "duration": 198,
    "start_time": "2022-10-19T16:25:12.731Z"
   },
   {
    "duration": 8,
    "start_time": "2022-10-19T16:25:57.698Z"
   },
   {
    "duration": 15,
    "start_time": "2022-10-19T16:52:43.256Z"
   },
   {
    "duration": 25,
    "start_time": "2022-10-19T16:54:58.200Z"
   },
   {
    "duration": 224,
    "start_time": "2022-10-19T16:59:01.203Z"
   },
   {
    "duration": 410,
    "start_time": "2022-10-19T16:59:46.989Z"
   },
   {
    "duration": 464,
    "start_time": "2022-10-19T17:03:04.969Z"
   },
   {
    "duration": 449,
    "start_time": "2022-10-19T17:05:35.596Z"
   },
   {
    "duration": 500,
    "start_time": "2022-10-20T15:39:03.580Z"
   },
   {
    "duration": 3,
    "start_time": "2022-10-20T15:39:04.082Z"
   },
   {
    "duration": 6,
    "start_time": "2022-10-20T15:39:04.087Z"
   },
   {
    "duration": 10,
    "start_time": "2022-10-20T15:39:04.095Z"
   },
   {
    "duration": 14,
    "start_time": "2022-10-20T15:39:04.106Z"
   },
   {
    "duration": 15,
    "start_time": "2022-10-20T15:39:04.122Z"
   },
   {
    "duration": 17,
    "start_time": "2022-10-20T15:39:04.139Z"
   },
   {
    "duration": 4,
    "start_time": "2022-10-20T15:39:04.157Z"
   },
   {
    "duration": 6,
    "start_time": "2022-10-20T15:39:04.163Z"
   },
   {
    "duration": 48,
    "start_time": "2022-10-20T15:39:04.172Z"
   },
   {
    "duration": 6,
    "start_time": "2022-10-20T15:39:04.221Z"
   },
   {
    "duration": 13,
    "start_time": "2022-10-20T15:39:04.229Z"
   },
   {
    "duration": 699,
    "start_time": "2022-10-20T15:39:04.243Z"
   },
   {
    "duration": 261,
    "start_time": "2022-10-20T15:39:04.943Z"
   },
   {
    "duration": 196,
    "start_time": "2022-10-20T15:39:05.205Z"
   },
   {
    "duration": 232,
    "start_time": "2022-10-20T15:39:05.402Z"
   },
   {
    "duration": 197,
    "start_time": "2022-10-20T15:39:05.636Z"
   },
   {
    "duration": 207,
    "start_time": "2022-10-20T15:39:05.834Z"
   },
   {
    "duration": 217,
    "start_time": "2022-10-20T15:39:06.043Z"
   },
   {
    "duration": 208,
    "start_time": "2022-10-20T15:39:06.262Z"
   },
   {
    "duration": 20,
    "start_time": "2022-10-20T15:39:06.472Z"
   },
   {
    "duration": 229,
    "start_time": "2022-10-20T15:39:06.494Z"
   },
   {
    "duration": 164,
    "start_time": "2022-10-20T15:39:06.725Z"
   },
   {
    "duration": 155,
    "start_time": "2022-10-20T15:39:06.890Z"
   },
   {
    "duration": 150,
    "start_time": "2022-10-20T15:39:07.047Z"
   },
   {
    "duration": 156,
    "start_time": "2022-10-20T15:39:07.198Z"
   },
   {
    "duration": 145,
    "start_time": "2022-10-20T15:39:07.355Z"
   },
   {
    "duration": 308,
    "start_time": "2022-10-20T15:39:07.509Z"
   },
   {
    "duration": 10,
    "start_time": "2022-10-20T15:39:07.818Z"
   },
   {
    "duration": 30,
    "start_time": "2022-10-20T15:39:07.830Z"
   },
   {
    "duration": 14,
    "start_time": "2022-10-20T15:39:07.862Z"
   },
   {
    "duration": 155,
    "start_time": "2022-10-20T15:39:07.878Z"
   },
   {
    "duration": 150,
    "start_time": "2022-10-20T15:39:08.034Z"
   },
   {
    "duration": 10,
    "start_time": "2022-10-20T15:39:08.185Z"
   },
   {
    "duration": 32,
    "start_time": "2022-10-20T15:39:08.196Z"
   },
   {
    "duration": 13,
    "start_time": "2022-10-20T15:39:08.230Z"
   },
   {
    "duration": 140,
    "start_time": "2022-10-20T15:39:08.245Z"
   },
   {
    "duration": 127,
    "start_time": "2022-10-20T15:39:08.387Z"
   },
   {
    "duration": 170,
    "start_time": "2022-10-20T15:39:08.515Z"
   },
   {
    "duration": 380,
    "start_time": "2022-10-20T15:39:08.686Z"
   },
   {
    "duration": 380,
    "start_time": "2022-10-20T15:39:09.068Z"
   },
   {
    "duration": 409,
    "start_time": "2022-10-20T15:39:09.450Z"
   },
   {
    "duration": 76,
    "start_time": "2022-10-20T16:56:30.511Z"
   },
   {
    "duration": 4,
    "start_time": "2022-10-20T16:57:05.431Z"
   },
   {
    "duration": 4,
    "start_time": "2022-10-20T16:57:45.144Z"
   },
   {
    "duration": 357,
    "start_time": "2022-10-20T17:01:15.104Z"
   },
   {
    "duration": 364,
    "start_time": "2022-10-20T17:02:11.794Z"
   },
   {
    "duration": 473,
    "start_time": "2022-10-20T17:03:52.246Z"
   },
   {
    "duration": 524,
    "start_time": "2022-10-20T17:05:56.975Z"
   },
   {
    "duration": 565,
    "start_time": "2022-10-20T17:07:28.866Z"
   },
   {
    "duration": 460,
    "start_time": "2022-10-20T17:35:02.392Z"
   },
   {
    "duration": 16,
    "start_time": "2022-10-20T17:35:25.437Z"
   },
   {
    "duration": 16,
    "start_time": "2022-10-20T17:36:22.778Z"
   },
   {
    "duration": 8,
    "start_time": "2022-10-20T17:42:10.653Z"
   },
   {
    "duration": 7,
    "start_time": "2022-10-20T17:44:03.715Z"
   },
   {
    "duration": 6,
    "start_time": "2022-10-20T17:44:29.501Z"
   },
   {
    "duration": 9,
    "start_time": "2022-10-20T17:48:03.343Z"
   },
   {
    "duration": 9,
    "start_time": "2022-10-20T17:49:34.221Z"
   },
   {
    "duration": 7,
    "start_time": "2022-10-20T17:54:39.467Z"
   },
   {
    "duration": 468,
    "start_time": "2022-10-21T07:34:19.208Z"
   },
   {
    "duration": 3,
    "start_time": "2022-10-21T07:34:19.678Z"
   },
   {
    "duration": 27,
    "start_time": "2022-10-21T07:34:19.682Z"
   },
   {
    "duration": 12,
    "start_time": "2022-10-21T07:34:19.711Z"
   },
   {
    "duration": 27,
    "start_time": "2022-10-21T07:34:19.724Z"
   },
   {
    "duration": 22,
    "start_time": "2022-10-21T07:34:19.753Z"
   },
   {
    "duration": 19,
    "start_time": "2022-10-21T07:34:19.777Z"
   },
   {
    "duration": 4,
    "start_time": "2022-10-21T07:34:19.798Z"
   },
   {
    "duration": 10,
    "start_time": "2022-10-21T07:34:19.803Z"
   },
   {
    "duration": 29,
    "start_time": "2022-10-21T07:34:19.815Z"
   },
   {
    "duration": 6,
    "start_time": "2022-10-21T07:34:19.846Z"
   },
   {
    "duration": 21,
    "start_time": "2022-10-21T07:34:19.853Z"
   },
   {
    "duration": 594,
    "start_time": "2022-10-21T07:34:19.875Z"
   },
   {
    "duration": 280,
    "start_time": "2022-10-21T07:34:20.471Z"
   },
   {
    "duration": 197,
    "start_time": "2022-10-21T07:34:20.753Z"
   },
   {
    "duration": 244,
    "start_time": "2022-10-21T07:34:20.952Z"
   },
   {
    "duration": 209,
    "start_time": "2022-10-21T07:34:21.198Z"
   },
   {
    "duration": 214,
    "start_time": "2022-10-21T07:34:21.409Z"
   },
   {
    "duration": 219,
    "start_time": "2022-10-21T07:34:21.625Z"
   },
   {
    "duration": 211,
    "start_time": "2022-10-21T07:34:21.846Z"
   },
   {
    "duration": 20,
    "start_time": "2022-10-21T07:34:22.058Z"
   },
   {
    "duration": 171,
    "start_time": "2022-10-21T07:34:22.079Z"
   },
   {
    "duration": 150,
    "start_time": "2022-10-21T07:34:22.252Z"
   },
   {
    "duration": 161,
    "start_time": "2022-10-21T07:34:22.403Z"
   },
   {
    "duration": 191,
    "start_time": "2022-10-21T07:34:22.566Z"
   },
   {
    "duration": 168,
    "start_time": "2022-10-21T07:34:22.760Z"
   },
   {
    "duration": 151,
    "start_time": "2022-10-21T07:34:22.930Z"
   },
   {
    "duration": 285,
    "start_time": "2022-10-21T07:34:23.083Z"
   },
   {
    "duration": 10,
    "start_time": "2022-10-21T07:34:23.370Z"
   },
   {
    "duration": 41,
    "start_time": "2022-10-21T07:34:23.382Z"
   },
   {
    "duration": 17,
    "start_time": "2022-10-21T07:34:23.425Z"
   },
   {
    "duration": 141,
    "start_time": "2022-10-21T07:34:23.444Z"
   },
   {
    "duration": 133,
    "start_time": "2022-10-21T07:34:23.587Z"
   },
   {
    "duration": 11,
    "start_time": "2022-10-21T07:34:23.722Z"
   },
   {
    "duration": 29,
    "start_time": "2022-10-21T07:34:23.734Z"
   },
   {
    "duration": 14,
    "start_time": "2022-10-21T07:34:23.765Z"
   },
   {
    "duration": 132,
    "start_time": "2022-10-21T07:34:23.801Z"
   },
   {
    "duration": 151,
    "start_time": "2022-10-21T07:34:23.935Z"
   },
   {
    "duration": 188,
    "start_time": "2022-10-21T07:34:24.089Z"
   },
   {
    "duration": 608,
    "start_time": "2022-10-21T07:34:24.279Z"
   },
   {
    "duration": 537,
    "start_time": "2022-10-21T07:34:24.889Z"
   },
   {
    "duration": 594,
    "start_time": "2022-10-21T07:34:25.430Z"
   },
   {
    "duration": 425,
    "start_time": "2022-10-21T07:34:26.025Z"
   },
   {
    "duration": 7,
    "start_time": "2022-10-21T07:34:26.451Z"
   },
   {
    "duration": 486,
    "start_time": "2022-10-21T13:58:09.616Z"
   },
   {
    "duration": 4,
    "start_time": "2022-10-21T13:58:10.104Z"
   },
   {
    "duration": 6,
    "start_time": "2022-10-21T13:58:10.109Z"
   },
   {
    "duration": 9,
    "start_time": "2022-10-21T13:58:10.116Z"
   },
   {
    "duration": 13,
    "start_time": "2022-10-21T13:58:10.126Z"
   },
   {
    "duration": 22,
    "start_time": "2022-10-21T13:58:10.140Z"
   },
   {
    "duration": 19,
    "start_time": "2022-10-21T13:58:10.164Z"
   },
   {
    "duration": 25,
    "start_time": "2022-10-21T13:58:10.184Z"
   },
   {
    "duration": 5,
    "start_time": "2022-10-21T13:58:10.210Z"
   },
   {
    "duration": 39,
    "start_time": "2022-10-21T13:58:10.218Z"
   },
   {
    "duration": 7,
    "start_time": "2022-10-21T13:58:10.259Z"
   },
   {
    "duration": 14,
    "start_time": "2022-10-21T13:58:10.268Z"
   },
   {
    "duration": 585,
    "start_time": "2022-10-21T13:58:10.284Z"
   },
   {
    "duration": 279,
    "start_time": "2022-10-21T13:58:10.870Z"
   },
   {
    "duration": 250,
    "start_time": "2022-10-21T13:58:11.151Z"
   },
   {
    "duration": 260,
    "start_time": "2022-10-21T13:58:11.403Z"
   },
   {
    "duration": 203,
    "start_time": "2022-10-21T13:58:11.665Z"
   },
   {
    "duration": 253,
    "start_time": "2022-10-21T13:58:11.869Z"
   },
   {
    "duration": 209,
    "start_time": "2022-10-21T13:58:12.124Z"
   },
   {
    "duration": 248,
    "start_time": "2022-10-21T13:58:12.335Z"
   },
   {
    "duration": 34,
    "start_time": "2022-10-21T13:58:12.585Z"
   },
   {
    "duration": 180,
    "start_time": "2022-10-21T13:58:12.621Z"
   },
   {
    "duration": 160,
    "start_time": "2022-10-21T13:58:12.809Z"
   },
   {
    "duration": 197,
    "start_time": "2022-10-21T13:58:12.971Z"
   },
   {
    "duration": 212,
    "start_time": "2022-10-21T13:58:13.170Z"
   },
   {
    "duration": 156,
    "start_time": "2022-10-21T13:58:13.384Z"
   },
   {
    "duration": 171,
    "start_time": "2022-10-21T13:58:13.542Z"
   },
   {
    "duration": 283,
    "start_time": "2022-10-21T13:58:13.717Z"
   },
   {
    "duration": 15,
    "start_time": "2022-10-21T13:58:14.002Z"
   },
   {
    "duration": 46,
    "start_time": "2022-10-21T13:58:14.019Z"
   },
   {
    "duration": 15,
    "start_time": "2022-10-21T13:58:14.067Z"
   },
   {
    "duration": 152,
    "start_time": "2022-10-21T13:58:14.084Z"
   },
   {
    "duration": 139,
    "start_time": "2022-10-21T13:58:14.237Z"
   },
   {
    "duration": 14,
    "start_time": "2022-10-21T13:58:14.378Z"
   },
   {
    "duration": 45,
    "start_time": "2022-10-21T13:58:14.393Z"
   },
   {
    "duration": 22,
    "start_time": "2022-10-21T13:58:14.440Z"
   },
   {
    "duration": 195,
    "start_time": "2022-10-21T13:58:14.464Z"
   },
   {
    "duration": 162,
    "start_time": "2022-10-21T13:58:14.661Z"
   },
   {
    "duration": 162,
    "start_time": "2022-10-21T13:58:14.825Z"
   },
   {
    "duration": 595,
    "start_time": "2022-10-21T13:58:14.989Z"
   },
   {
    "duration": 552,
    "start_time": "2022-10-21T13:58:15.586Z"
   },
   {
    "duration": 646,
    "start_time": "2022-10-21T13:58:16.140Z"
   },
   {
    "duration": 427,
    "start_time": "2022-10-21T13:58:16.787Z"
   },
   {
    "duration": 10,
    "start_time": "2022-10-21T13:58:17.216Z"
   },
   {
    "duration": 8,
    "start_time": "2022-10-21T14:59:20.040Z"
   },
   {
    "duration": 8,
    "start_time": "2022-10-21T15:03:46.644Z"
   },
   {
    "duration": 3,
    "start_time": "2022-10-21T15:11:10.294Z"
   },
   {
    "duration": 2,
    "start_time": "2022-10-21T15:11:23.792Z"
   },
   {
    "duration": 2,
    "start_time": "2022-10-21T15:11:30.375Z"
   },
   {
    "duration": 652,
    "start_time": "2022-10-21T15:12:34.300Z"
   },
   {
    "duration": 3,
    "start_time": "2022-10-21T15:17:01.005Z"
   },
   {
    "duration": 56,
    "start_time": "2022-10-21T15:18:38.239Z"
   },
   {
    "duration": 120,
    "start_time": "2022-10-21T15:18:44.571Z"
   },
   {
    "duration": 763,
    "start_time": "2022-10-21T15:20:50.021Z"
   },
   {
    "duration": 4,
    "start_time": "2022-10-21T16:27:10.124Z"
   },
   {
    "duration": 176,
    "start_time": "2022-10-21T16:43:12.423Z"
   },
   {
    "duration": 172,
    "start_time": "2022-10-21T17:59:52.401Z"
   },
   {
    "duration": 148,
    "start_time": "2022-10-21T19:29:08.718Z"
   },
   {
    "duration": 10,
    "start_time": "2022-10-21T19:36:25.516Z"
   },
   {
    "duration": 562,
    "start_time": "2022-10-22T07:01:32.453Z"
   },
   {
    "duration": 2,
    "start_time": "2022-10-22T07:01:33.017Z"
   },
   {
    "duration": 19,
    "start_time": "2022-10-22T07:01:33.020Z"
   },
   {
    "duration": 22,
    "start_time": "2022-10-22T07:01:33.041Z"
   },
   {
    "duration": 20,
    "start_time": "2022-10-22T07:01:33.065Z"
   },
   {
    "duration": 28,
    "start_time": "2022-10-22T07:01:33.086Z"
   },
   {
    "duration": 25,
    "start_time": "2022-10-22T07:01:33.116Z"
   },
   {
    "duration": 16,
    "start_time": "2022-10-22T07:01:33.142Z"
   },
   {
    "duration": 19,
    "start_time": "2022-10-22T07:01:33.159Z"
   },
   {
    "duration": 37,
    "start_time": "2022-10-22T07:01:33.181Z"
   },
   {
    "duration": 7,
    "start_time": "2022-10-22T07:01:33.220Z"
   },
   {
    "duration": 75,
    "start_time": "2022-10-22T07:01:33.228Z"
   },
   {
    "duration": 610,
    "start_time": "2022-10-22T07:01:33.305Z"
   },
   {
    "duration": 283,
    "start_time": "2022-10-22T07:01:33.917Z"
   },
   {
    "duration": 186,
    "start_time": "2022-10-22T07:01:34.204Z"
   },
   {
    "duration": 233,
    "start_time": "2022-10-22T07:01:34.392Z"
   },
   {
    "duration": 202,
    "start_time": "2022-10-22T07:01:34.626Z"
   },
   {
    "duration": 213,
    "start_time": "2022-10-22T07:01:34.830Z"
   },
   {
    "duration": 198,
    "start_time": "2022-10-22T07:01:35.045Z"
   },
   {
    "duration": 216,
    "start_time": "2022-10-22T07:01:35.244Z"
   },
   {
    "duration": 19,
    "start_time": "2022-10-22T07:01:35.462Z"
   },
   {
    "duration": 159,
    "start_time": "2022-10-22T07:01:35.483Z"
   },
   {
    "duration": 156,
    "start_time": "2022-10-22T07:01:35.644Z"
   },
   {
    "duration": 153,
    "start_time": "2022-10-22T07:01:35.801Z"
   },
   {
    "duration": 156,
    "start_time": "2022-10-22T07:01:35.956Z"
   },
   {
    "duration": 146,
    "start_time": "2022-10-22T07:01:36.113Z"
   },
   {
    "duration": 158,
    "start_time": "2022-10-22T07:01:36.260Z"
   },
   {
    "duration": 295,
    "start_time": "2022-10-22T07:01:36.421Z"
   },
   {
    "duration": 10,
    "start_time": "2022-10-22T07:01:36.718Z"
   },
   {
    "duration": 28,
    "start_time": "2022-10-22T07:01:36.729Z"
   },
   {
    "duration": 11,
    "start_time": "2022-10-22T07:01:36.759Z"
   },
   {
    "duration": 146,
    "start_time": "2022-10-22T07:01:36.771Z"
   },
   {
    "duration": 132,
    "start_time": "2022-10-22T07:01:36.918Z"
   },
   {
    "duration": 10,
    "start_time": "2022-10-22T07:01:37.051Z"
   },
   {
    "duration": 28,
    "start_time": "2022-10-22T07:01:37.063Z"
   },
   {
    "duration": 22,
    "start_time": "2022-10-22T07:01:37.092Z"
   },
   {
    "duration": 130,
    "start_time": "2022-10-22T07:01:37.115Z"
   },
   {
    "duration": 171,
    "start_time": "2022-10-22T07:01:37.246Z"
   },
   {
    "duration": 157,
    "start_time": "2022-10-22T07:01:37.419Z"
   },
   {
    "duration": 73,
    "start_time": "2022-10-22T07:01:37.578Z"
   },
   {
    "duration": 0,
    "start_time": "2022-10-22T07:01:37.652Z"
   },
   {
    "duration": 0,
    "start_time": "2022-10-22T07:01:37.654Z"
   },
   {
    "duration": 0,
    "start_time": "2022-10-22T07:01:37.655Z"
   },
   {
    "duration": 0,
    "start_time": "2022-10-22T07:01:37.656Z"
   },
   {
    "duration": 466,
    "start_time": "2022-10-22T07:02:05.177Z"
   },
   {
    "duration": 3,
    "start_time": "2022-10-22T07:02:05.645Z"
   },
   {
    "duration": 7,
    "start_time": "2022-10-22T07:02:05.650Z"
   },
   {
    "duration": 9,
    "start_time": "2022-10-22T07:02:05.659Z"
   },
   {
    "duration": 12,
    "start_time": "2022-10-22T07:02:05.670Z"
   },
   {
    "duration": 11,
    "start_time": "2022-10-22T07:02:05.684Z"
   },
   {
    "duration": 13,
    "start_time": "2022-10-22T07:02:05.705Z"
   },
   {
    "duration": 3,
    "start_time": "2022-10-22T07:02:05.720Z"
   },
   {
    "duration": 8,
    "start_time": "2022-10-22T07:02:05.724Z"
   },
   {
    "duration": 16,
    "start_time": "2022-10-22T07:02:05.735Z"
   },
   {
    "duration": 6,
    "start_time": "2022-10-22T07:02:05.752Z"
   },
   {
    "duration": 14,
    "start_time": "2022-10-22T07:02:05.759Z"
   },
   {
    "duration": 412,
    "start_time": "2022-10-22T07:02:05.774Z"
   },
   {
    "duration": 260,
    "start_time": "2022-10-22T07:02:06.187Z"
   },
   {
    "duration": 182,
    "start_time": "2022-10-22T07:02:06.449Z"
   },
   {
    "duration": 176,
    "start_time": "2022-10-22T07:02:06.633Z"
   },
   {
    "duration": 227,
    "start_time": "2022-10-22T07:02:06.811Z"
   },
   {
    "duration": 190,
    "start_time": "2022-10-22T07:02:07.039Z"
   },
   {
    "duration": 245,
    "start_time": "2022-10-22T07:02:07.231Z"
   },
   {
    "duration": 206,
    "start_time": "2022-10-22T07:02:07.477Z"
   },
   {
    "duration": 29,
    "start_time": "2022-10-22T07:02:07.684Z"
   },
   {
    "duration": 161,
    "start_time": "2022-10-22T07:02:07.715Z"
   },
   {
    "duration": 167,
    "start_time": "2022-10-22T07:02:07.878Z"
   },
   {
    "duration": 147,
    "start_time": "2022-10-22T07:02:08.046Z"
   },
   {
    "duration": 155,
    "start_time": "2022-10-22T07:02:08.194Z"
   },
   {
    "duration": 141,
    "start_time": "2022-10-22T07:02:08.350Z"
   },
   {
    "duration": 151,
    "start_time": "2022-10-22T07:02:08.492Z"
   },
   {
    "duration": 273,
    "start_time": "2022-10-22T07:02:08.646Z"
   },
   {
    "duration": 10,
    "start_time": "2022-10-22T07:02:08.920Z"
   },
   {
    "duration": 30,
    "start_time": "2022-10-22T07:02:08.932Z"
   },
   {
    "duration": 11,
    "start_time": "2022-10-22T07:02:08.964Z"
   },
   {
    "duration": 143,
    "start_time": "2022-10-22T07:02:08.976Z"
   },
   {
    "duration": 141,
    "start_time": "2022-10-22T07:02:09.121Z"
   },
   {
    "duration": 11,
    "start_time": "2022-10-22T07:02:09.263Z"
   },
   {
    "duration": 32,
    "start_time": "2022-10-22T07:02:09.276Z"
   },
   {
    "duration": 10,
    "start_time": "2022-10-22T07:02:09.310Z"
   },
   {
    "duration": 131,
    "start_time": "2022-10-22T07:02:09.322Z"
   },
   {
    "duration": 127,
    "start_time": "2022-10-22T07:02:09.454Z"
   },
   {
    "duration": 164,
    "start_time": "2022-10-22T07:02:09.583Z"
   },
   {
    "duration": 70,
    "start_time": "2022-10-22T07:02:09.749Z"
   },
   {
    "duration": 0,
    "start_time": "2022-10-22T07:02:09.820Z"
   },
   {
    "duration": 0,
    "start_time": "2022-10-22T07:02:09.821Z"
   },
   {
    "duration": 0,
    "start_time": "2022-10-22T07:02:09.822Z"
   },
   {
    "duration": 0,
    "start_time": "2022-10-22T07:02:09.823Z"
   },
   {
    "duration": 15,
    "start_time": "2022-10-22T07:02:39.713Z"
   },
   {
    "duration": 4,
    "start_time": "2022-10-22T07:02:42.639Z"
   },
   {
    "duration": 4,
    "start_time": "2022-10-22T07:02:44.832Z"
   },
   {
    "duration": 16,
    "start_time": "2022-10-22T07:02:47.706Z"
   },
   {
    "duration": 6,
    "start_time": "2022-10-22T07:02:52.146Z"
   },
   {
    "duration": 13,
    "start_time": "2022-10-22T07:02:56.082Z"
   },
   {
    "duration": 164,
    "start_time": "2022-10-22T07:02:59.379Z"
   },
   {
    "duration": 256,
    "start_time": "2022-10-22T07:03:04.149Z"
   },
   {
    "duration": 171,
    "start_time": "2022-10-22T07:03:11.956Z"
   },
   {
    "duration": 174,
    "start_time": "2022-10-22T07:03:16.705Z"
   },
   {
    "duration": 181,
    "start_time": "2022-10-22T07:03:21.013Z"
   },
   {
    "duration": 241,
    "start_time": "2022-10-22T07:03:28.123Z"
   },
   {
    "duration": 173,
    "start_time": "2022-10-22T07:03:31.499Z"
   },
   {
    "duration": 176,
    "start_time": "2022-10-22T07:03:34.930Z"
   },
   {
    "duration": 19,
    "start_time": "2022-10-22T07:03:39.666Z"
   },
   {
    "duration": 137,
    "start_time": "2022-10-22T07:03:45.583Z"
   },
   {
    "duration": 131,
    "start_time": "2022-10-22T07:03:50.612Z"
   },
   {
    "duration": 128,
    "start_time": "2022-10-22T07:03:54.650Z"
   },
   {
    "duration": 130,
    "start_time": "2022-10-22T07:03:58.846Z"
   },
   {
    "duration": 134,
    "start_time": "2022-10-22T07:04:02.592Z"
   },
   {
    "duration": 148,
    "start_time": "2022-10-22T07:04:06.598Z"
   },
   {
    "duration": 210,
    "start_time": "2022-10-22T07:04:10.311Z"
   },
   {
    "duration": 10,
    "start_time": "2022-10-22T07:04:14.845Z"
   },
   {
    "duration": 27,
    "start_time": "2022-10-22T07:04:18.160Z"
   },
   {
    "duration": 11,
    "start_time": "2022-10-22T07:04:20.819Z"
   },
   {
    "duration": 125,
    "start_time": "2022-10-22T07:04:24.757Z"
   },
   {
    "duration": 215,
    "start_time": "2022-10-22T07:04:29.975Z"
   },
   {
    "duration": 10,
    "start_time": "2022-10-22T07:04:33.373Z"
   },
   {
    "duration": 27,
    "start_time": "2022-10-22T07:04:36.749Z"
   },
   {
    "duration": 12,
    "start_time": "2022-10-22T07:04:39.438Z"
   },
   {
    "duration": 125,
    "start_time": "2022-10-22T07:04:42.689Z"
   },
   {
    "duration": 117,
    "start_time": "2022-10-22T07:04:45.556Z"
   },
   {
    "duration": 151,
    "start_time": "2022-10-22T07:04:48.853Z"
   },
   {
    "duration": 9,
    "start_time": "2022-10-22T07:04:55.695Z"
   },
   {
    "duration": 541,
    "start_time": "2022-10-22T07:05:27.049Z"
   },
   {
    "duration": 10,
    "start_time": "2022-10-22T07:05:38.412Z"
   },
   {
    "duration": 525,
    "start_time": "2022-10-22T07:05:50.068Z"
   },
   {
    "duration": 492,
    "start_time": "2022-10-22T07:05:57.985Z"
   },
   {
    "duration": 487,
    "start_time": "2022-10-22T07:06:08.618Z"
   },
   {
    "duration": 7,
    "start_time": "2022-10-22T07:06:21.679Z"
   },
   {
    "duration": 246,
    "start_time": "2022-10-22T08:06:18.166Z"
   },
   {
    "duration": 157,
    "start_time": "2022-10-22T08:09:50.005Z"
   },
   {
    "duration": 137,
    "start_time": "2022-10-22T08:09:54.787Z"
   },
   {
    "duration": 451,
    "start_time": "2022-10-22T08:10:05.596Z"
   },
   {
    "duration": 3,
    "start_time": "2022-10-22T08:10:06.049Z"
   },
   {
    "duration": 7,
    "start_time": "2022-10-22T08:10:06.054Z"
   },
   {
    "duration": 10,
    "start_time": "2022-10-22T08:10:06.063Z"
   },
   {
    "duration": 11,
    "start_time": "2022-10-22T08:10:06.075Z"
   },
   {
    "duration": 28,
    "start_time": "2022-10-22T08:10:06.087Z"
   },
   {
    "duration": 30,
    "start_time": "2022-10-22T08:10:06.116Z"
   },
   {
    "duration": 8,
    "start_time": "2022-10-22T08:10:06.147Z"
   },
   {
    "duration": 14,
    "start_time": "2022-10-22T08:10:06.156Z"
   },
   {
    "duration": 17,
    "start_time": "2022-10-22T08:10:06.172Z"
   },
   {
    "duration": 6,
    "start_time": "2022-10-22T08:10:06.191Z"
   },
   {
    "duration": 26,
    "start_time": "2022-10-22T08:10:06.199Z"
   },
   {
    "duration": 388,
    "start_time": "2022-10-22T08:10:06.227Z"
   },
   {
    "duration": 249,
    "start_time": "2022-10-22T08:10:06.616Z"
   },
   {
    "duration": 191,
    "start_time": "2022-10-22T08:10:06.867Z"
   },
   {
    "duration": 191,
    "start_time": "2022-10-22T08:10:07.060Z"
   },
   {
    "duration": 315,
    "start_time": "2022-10-22T08:10:07.253Z"
   },
   {
    "duration": 222,
    "start_time": "2022-10-22T08:10:07.570Z"
   },
   {
    "duration": 221,
    "start_time": "2022-10-22T08:10:07.794Z"
   },
   {
    "duration": 206,
    "start_time": "2022-10-22T08:10:08.017Z"
   },
   {
    "duration": 18,
    "start_time": "2022-10-22T08:10:08.225Z"
   },
   {
    "duration": 171,
    "start_time": "2022-10-22T08:10:08.245Z"
   },
   {
    "duration": 163,
    "start_time": "2022-10-22T08:10:08.417Z"
   },
   {
    "duration": 140,
    "start_time": "2022-10-22T08:10:08.581Z"
   },
   {
    "duration": 149,
    "start_time": "2022-10-22T08:10:08.722Z"
   },
   {
    "duration": 158,
    "start_time": "2022-10-22T08:10:08.873Z"
   },
   {
    "duration": 160,
    "start_time": "2022-10-22T08:10:09.033Z"
   },
   {
    "duration": 294,
    "start_time": "2022-10-22T08:10:09.197Z"
   },
   {
    "duration": 18,
    "start_time": "2022-10-22T08:10:09.492Z"
   },
   {
    "duration": 29,
    "start_time": "2022-10-22T08:10:09.511Z"
   },
   {
    "duration": 11,
    "start_time": "2022-10-22T08:10:09.541Z"
   },
   {
    "duration": 141,
    "start_time": "2022-10-22T08:10:09.553Z"
   },
   {
    "duration": 137,
    "start_time": "2022-10-22T08:10:09.695Z"
   },
   {
    "duration": 11,
    "start_time": "2022-10-22T08:10:09.834Z"
   },
   {
    "duration": 36,
    "start_time": "2022-10-22T08:10:09.846Z"
   },
   {
    "duration": 23,
    "start_time": "2022-10-22T08:10:09.883Z"
   },
   {
    "duration": 132,
    "start_time": "2022-10-22T08:10:09.907Z"
   },
   {
    "duration": 138,
    "start_time": "2022-10-22T08:10:10.041Z"
   },
   {
    "duration": 172,
    "start_time": "2022-10-22T08:10:10.180Z"
   },
   {
    "duration": 507,
    "start_time": "2022-10-22T08:10:10.354Z"
   },
   {
    "duration": 531,
    "start_time": "2022-10-22T08:10:10.863Z"
   },
   {
    "duration": 598,
    "start_time": "2022-10-22T08:10:11.395Z"
   },
   {
    "duration": 395,
    "start_time": "2022-10-22T08:10:11.995Z"
   },
   {
    "duration": 8,
    "start_time": "2022-10-22T08:10:12.391Z"
   },
   {
    "duration": 533,
    "start_time": "2022-10-22T08:37:22.828Z"
   },
   {
    "duration": 4,
    "start_time": "2022-10-22T08:37:23.363Z"
   },
   {
    "duration": 25,
    "start_time": "2022-10-22T08:37:23.368Z"
   },
   {
    "duration": 15,
    "start_time": "2022-10-22T08:37:23.396Z"
   },
   {
    "duration": 55,
    "start_time": "2022-10-22T08:37:23.413Z"
   },
   {
    "duration": 23,
    "start_time": "2022-10-22T08:37:23.470Z"
   },
   {
    "duration": 20,
    "start_time": "2022-10-22T08:37:23.495Z"
   },
   {
    "duration": 7,
    "start_time": "2022-10-22T08:37:23.516Z"
   },
   {
    "duration": 17,
    "start_time": "2022-10-22T08:37:23.525Z"
   },
   {
    "duration": 29,
    "start_time": "2022-10-22T08:37:23.545Z"
   },
   {
    "duration": 6,
    "start_time": "2022-10-22T08:37:23.576Z"
   },
   {
    "duration": 19,
    "start_time": "2022-10-22T08:37:23.584Z"
   },
   {
    "duration": 629,
    "start_time": "2022-10-22T08:37:23.605Z"
   },
   {
    "duration": 301,
    "start_time": "2022-10-22T08:37:24.236Z"
   },
   {
    "duration": 227,
    "start_time": "2022-10-22T08:37:24.539Z"
   },
   {
    "duration": 264,
    "start_time": "2022-10-22T08:37:24.767Z"
   },
   {
    "duration": 224,
    "start_time": "2022-10-22T08:37:25.032Z"
   },
   {
    "duration": 219,
    "start_time": "2022-10-22T08:37:25.257Z"
   },
   {
    "duration": 238,
    "start_time": "2022-10-22T08:37:25.477Z"
   },
   {
    "duration": 245,
    "start_time": "2022-10-22T08:37:25.717Z"
   },
   {
    "duration": 24,
    "start_time": "2022-10-22T08:37:25.965Z"
   },
   {
    "duration": 192,
    "start_time": "2022-10-22T08:37:25.990Z"
   },
   {
    "duration": 176,
    "start_time": "2022-10-22T08:37:26.184Z"
   },
   {
    "duration": 170,
    "start_time": "2022-10-22T08:37:26.361Z"
   },
   {
    "duration": 173,
    "start_time": "2022-10-22T08:37:26.533Z"
   },
   {
    "duration": 169,
    "start_time": "2022-10-22T08:37:26.707Z"
   },
   {
    "duration": 164,
    "start_time": "2022-10-22T08:37:26.878Z"
   },
   {
    "duration": 377,
    "start_time": "2022-10-22T08:37:27.045Z"
   },
   {
    "duration": 13,
    "start_time": "2022-10-22T08:37:27.423Z"
   },
   {
    "duration": 42,
    "start_time": "2022-10-22T08:37:27.438Z"
   },
   {
    "duration": 19,
    "start_time": "2022-10-22T08:37:27.482Z"
   },
   {
    "duration": 193,
    "start_time": "2022-10-22T08:37:27.503Z"
   },
   {
    "duration": 158,
    "start_time": "2022-10-22T08:37:27.698Z"
   },
   {
    "duration": 13,
    "start_time": "2022-10-22T08:37:27.858Z"
   },
   {
    "duration": 33,
    "start_time": "2022-10-22T08:37:27.872Z"
   },
   {
    "duration": 14,
    "start_time": "2022-10-22T08:37:27.907Z"
   },
   {
    "duration": 195,
    "start_time": "2022-10-22T08:37:27.922Z"
   },
   {
    "duration": 178,
    "start_time": "2022-10-22T08:37:28.119Z"
   },
   {
    "duration": 181,
    "start_time": "2022-10-22T08:37:28.299Z"
   },
   {
    "duration": 593,
    "start_time": "2022-10-22T08:37:28.482Z"
   },
   {
    "duration": 599,
    "start_time": "2022-10-22T08:37:29.077Z"
   },
   {
    "duration": 685,
    "start_time": "2022-10-22T08:37:29.677Z"
   },
   {
    "duration": 464,
    "start_time": "2022-10-22T08:37:30.364Z"
   },
   {
    "duration": 8,
    "start_time": "2022-10-22T08:37:30.830Z"
   },
   {
    "duration": 348,
    "start_time": "2022-10-22T09:37:30.274Z"
   },
   {
    "duration": 19,
    "start_time": "2022-10-22T09:38:09.952Z"
   },
   {
    "duration": 10,
    "start_time": "2022-10-22T09:38:36.990Z"
   },
   {
    "duration": 11,
    "start_time": "2022-10-22T09:38:42.313Z"
   },
   {
    "duration": 13,
    "start_time": "2022-10-22T09:38:48.570Z"
   },
   {
    "duration": 229,
    "start_time": "2022-10-22T09:38:51.616Z"
   },
   {
    "duration": 193,
    "start_time": "2022-10-22T09:38:54.913Z"
   },
   {
    "duration": 3,
    "start_time": "2022-10-22T09:40:43.392Z"
   },
   {
    "duration": 212,
    "start_time": "2022-10-22T09:40:45.418Z"
   },
   {
    "duration": 24,
    "start_time": "2022-10-22T09:41:00.422Z"
   },
   {
    "duration": 1244,
    "start_time": "2022-10-22T09:41:21.255Z"
   },
   {
    "duration": 14,
    "start_time": "2022-10-22T09:41:33.644Z"
   },
   {
    "duration": 406,
    "start_time": "2022-10-22T09:41:48.100Z"
   },
   {
    "duration": 159,
    "start_time": "2022-10-22T09:42:07.238Z"
   },
   {
    "duration": 52,
    "start_time": "2022-10-22T09:42:24.585Z"
   },
   {
    "duration": 323,
    "start_time": "2022-10-22T09:42:42.506Z"
   },
   {
    "duration": 332,
    "start_time": "2022-10-22T09:42:48.300Z"
   },
   {
    "duration": 598,
    "start_time": "2022-10-22T09:46:00.828Z"
   },
   {
    "duration": 5,
    "start_time": "2022-10-22T09:46:01.429Z"
   },
   {
    "duration": 73,
    "start_time": "2022-10-22T09:46:01.436Z"
   },
   {
    "duration": 92,
    "start_time": "2022-10-22T09:46:01.512Z"
   },
   {
    "duration": 41,
    "start_time": "2022-10-22T09:46:01.606Z"
   },
   {
    "duration": 47,
    "start_time": "2022-10-22T09:46:01.649Z"
   },
   {
    "duration": 59,
    "start_time": "2022-10-22T09:46:01.698Z"
   },
   {
    "duration": 14,
    "start_time": "2022-10-22T09:46:01.764Z"
   },
   {
    "duration": 33,
    "start_time": "2022-10-22T09:46:01.784Z"
   },
   {
    "duration": 34,
    "start_time": "2022-10-22T09:46:01.822Z"
   },
   {
    "duration": 33,
    "start_time": "2022-10-22T09:46:01.859Z"
   },
   {
    "duration": 54,
    "start_time": "2022-10-22T09:46:01.895Z"
   },
   {
    "duration": 555,
    "start_time": "2022-10-22T09:46:01.951Z"
   },
   {
    "duration": 352,
    "start_time": "2022-10-22T09:46:02.508Z"
   },
   {
    "duration": 276,
    "start_time": "2022-10-22T09:46:02.863Z"
   },
   {
    "duration": 270,
    "start_time": "2022-10-22T09:46:03.140Z"
   },
   {
    "duration": 362,
    "start_time": "2022-10-22T09:46:03.412Z"
   },
   {
    "duration": 266,
    "start_time": "2022-10-22T09:46:03.777Z"
   },
   {
    "duration": 308,
    "start_time": "2022-10-22T09:46:04.044Z"
   },
   {
    "duration": 273,
    "start_time": "2022-10-22T09:46:04.356Z"
   },
   {
    "duration": 36,
    "start_time": "2022-10-22T09:46:04.632Z"
   },
   {
    "duration": 220,
    "start_time": "2022-10-22T09:46:04.670Z"
   },
   {
    "duration": 198,
    "start_time": "2022-10-22T09:46:04.892Z"
   },
   {
    "duration": 196,
    "start_time": "2022-10-22T09:46:05.093Z"
   },
   {
    "duration": 200,
    "start_time": "2022-10-22T09:46:05.291Z"
   },
   {
    "duration": 229,
    "start_time": "2022-10-22T09:46:05.493Z"
   },
   {
    "duration": 215,
    "start_time": "2022-10-22T09:46:05.724Z"
   },
   {
    "duration": 411,
    "start_time": "2022-10-22T09:46:05.943Z"
   },
   {
    "duration": 20,
    "start_time": "2022-10-22T09:46:06.356Z"
   },
   {
    "duration": 44,
    "start_time": "2022-10-22T09:46:06.378Z"
   },
   {
    "duration": 32,
    "start_time": "2022-10-22T09:46:06.424Z"
   },
   {
    "duration": 229,
    "start_time": "2022-10-22T09:46:06.459Z"
   },
   {
    "duration": 212,
    "start_time": "2022-10-22T09:46:06.690Z"
   },
   {
    "duration": 13,
    "start_time": "2022-10-22T09:46:06.904Z"
   },
   {
    "duration": 50,
    "start_time": "2022-10-22T09:46:06.919Z"
   },
   {
    "duration": 23,
    "start_time": "2022-10-22T09:46:06.972Z"
   },
   {
    "duration": 188,
    "start_time": "2022-10-22T09:46:06.997Z"
   },
   {
    "duration": 200,
    "start_time": "2022-10-22T09:46:07.189Z"
   },
   {
    "duration": 229,
    "start_time": "2022-10-22T09:46:07.391Z"
   },
   {
    "duration": 769,
    "start_time": "2022-10-22T09:46:07.622Z"
   },
   {
    "duration": 736,
    "start_time": "2022-10-22T09:46:08.393Z"
   },
   {
    "duration": 785,
    "start_time": "2022-10-22T09:46:09.131Z"
   },
   {
    "duration": 490,
    "start_time": "2022-10-22T09:46:09.918Z"
   },
   {
    "duration": 9,
    "start_time": "2022-10-22T09:46:10.410Z"
   },
   {
    "duration": 76,
    "start_time": "2022-10-22T16:09:31.296Z"
   },
   {
    "duration": 501,
    "start_time": "2022-10-22T16:11:13.974Z"
   },
   {
    "duration": 12,
    "start_time": "2022-10-22T16:15:33.098Z"
   },
   {
    "duration": 4,
    "start_time": "2022-10-22T16:15:35.156Z"
   },
   {
    "duration": 602,
    "start_time": "2022-10-22T16:42:21.025Z"
   },
   {
    "duration": 42,
    "start_time": "2022-10-22T16:43:41.855Z"
   },
   {
    "duration": 82,
    "start_time": "2022-10-22T16:48:58.800Z"
   },
   {
    "duration": 10,
    "start_time": "2022-10-22T16:49:10.604Z"
   },
   {
    "duration": 12,
    "start_time": "2022-10-22T16:49:46.089Z"
   },
   {
    "duration": 10,
    "start_time": "2022-10-22T16:49:52.725Z"
   },
   {
    "duration": 16,
    "start_time": "2022-10-22T16:50:43.025Z"
   },
   {
    "duration": 481,
    "start_time": "2022-10-22T16:50:56.302Z"
   },
   {
    "duration": 4,
    "start_time": "2022-10-22T16:50:56.785Z"
   },
   {
    "duration": 11,
    "start_time": "2022-10-22T16:50:56.790Z"
   },
   {
    "duration": 40,
    "start_time": "2022-10-22T16:50:56.803Z"
   },
   {
    "duration": 21,
    "start_time": "2022-10-22T16:50:56.846Z"
   },
   {
    "duration": 18,
    "start_time": "2022-10-22T16:50:56.869Z"
   },
   {
    "duration": 31,
    "start_time": "2022-10-22T16:50:56.888Z"
   },
   {
    "duration": 13,
    "start_time": "2022-10-22T16:50:56.921Z"
   },
   {
    "duration": 20,
    "start_time": "2022-10-22T16:50:56.936Z"
   },
   {
    "duration": 28,
    "start_time": "2022-10-22T16:50:56.959Z"
   },
   {
    "duration": 11,
    "start_time": "2022-10-22T16:50:56.989Z"
   },
   {
    "duration": 30,
    "start_time": "2022-10-22T16:50:57.002Z"
   },
   {
    "duration": 436,
    "start_time": "2022-10-22T16:50:57.033Z"
   },
   {
    "duration": 257,
    "start_time": "2022-10-22T16:50:57.471Z"
   },
   {
    "duration": 198,
    "start_time": "2022-10-22T16:50:57.730Z"
   },
   {
    "duration": 226,
    "start_time": "2022-10-22T16:50:57.930Z"
   },
   {
    "duration": 220,
    "start_time": "2022-10-22T16:50:58.158Z"
   },
   {
    "duration": 215,
    "start_time": "2022-10-22T16:50:58.380Z"
   },
   {
    "duration": 215,
    "start_time": "2022-10-22T16:50:58.596Z"
   },
   {
    "duration": 216,
    "start_time": "2022-10-22T16:50:58.813Z"
   },
   {
    "duration": 19,
    "start_time": "2022-10-22T16:50:59.031Z"
   },
   {
    "duration": 172,
    "start_time": "2022-10-22T16:50:59.052Z"
   },
   {
    "duration": 184,
    "start_time": "2022-10-22T16:50:59.225Z"
   },
   {
    "duration": 147,
    "start_time": "2022-10-22T16:50:59.410Z"
   },
   {
    "duration": 155,
    "start_time": "2022-10-22T16:50:59.558Z"
   },
   {
    "duration": 155,
    "start_time": "2022-10-22T16:50:59.715Z"
   },
   {
    "duration": 154,
    "start_time": "2022-10-22T16:50:59.872Z"
   },
   {
    "duration": 286,
    "start_time": "2022-10-22T16:51:00.030Z"
   },
   {
    "duration": 11,
    "start_time": "2022-10-22T16:51:00.318Z"
   },
   {
    "duration": 40,
    "start_time": "2022-10-22T16:51:00.331Z"
   },
   {
    "duration": 11,
    "start_time": "2022-10-22T16:51:00.373Z"
   },
   {
    "duration": 136,
    "start_time": "2022-10-22T16:51:00.385Z"
   },
   {
    "duration": 142,
    "start_time": "2022-10-22T16:51:00.523Z"
   },
   {
    "duration": 10,
    "start_time": "2022-10-22T16:51:00.667Z"
   },
   {
    "duration": 43,
    "start_time": "2022-10-22T16:51:00.679Z"
   },
   {
    "duration": 11,
    "start_time": "2022-10-22T16:51:00.724Z"
   },
   {
    "duration": 150,
    "start_time": "2022-10-22T16:51:00.736Z"
   },
   {
    "duration": 134,
    "start_time": "2022-10-22T16:51:00.887Z"
   },
   {
    "duration": 168,
    "start_time": "2022-10-22T16:51:01.022Z"
   },
   {
    "duration": 523,
    "start_time": "2022-10-22T16:51:01.191Z"
   },
   {
    "duration": 542,
    "start_time": "2022-10-22T16:51:01.715Z"
   },
   {
    "duration": 554,
    "start_time": "2022-10-22T16:51:02.258Z"
   },
   {
    "duration": 392,
    "start_time": "2022-10-22T16:51:02.814Z"
   },
   {
    "duration": 7,
    "start_time": "2022-10-22T16:51:03.209Z"
   },
   {
    "duration": 263,
    "start_time": "2022-10-22T16:52:05.288Z"
   },
   {
    "duration": 181,
    "start_time": "2022-10-22T17:00:20.379Z"
   },
   {
    "duration": 45,
    "start_time": "2022-10-22T17:02:56.733Z"
   },
   {
    "duration": 45,
    "start_time": "2022-10-22T17:03:48.035Z"
   },
   {
    "duration": 360,
    "start_time": "2022-10-22T17:04:10.456Z"
   },
   {
    "duration": 347,
    "start_time": "2022-10-22T17:04:55.603Z"
   },
   {
    "duration": 47,
    "start_time": "2022-10-22T17:05:07.436Z"
   },
   {
    "duration": 42,
    "start_time": "2022-10-22T17:05:17.269Z"
   },
   {
    "duration": 266,
    "start_time": "2022-10-22T17:05:27.561Z"
   },
   {
    "duration": 289,
    "start_time": "2022-10-22T17:13:30.631Z"
   },
   {
    "duration": 280,
    "start_time": "2022-10-22T17:14:01.815Z"
   },
   {
    "duration": 279,
    "start_time": "2022-10-22T17:14:48.638Z"
   },
   {
    "duration": 286,
    "start_time": "2022-10-22T17:15:43.009Z"
   },
   {
    "duration": 564,
    "start_time": "2022-10-22T17:18:51.908Z"
   },
   {
    "duration": 472,
    "start_time": "2022-10-22T17:19:40.734Z"
   },
   {
    "duration": 452,
    "start_time": "2022-10-22T17:19:59.938Z"
   },
   {
    "duration": 278,
    "start_time": "2022-10-22T17:21:25.742Z"
   },
   {
    "duration": 45,
    "start_time": "2022-10-22T17:23:15.700Z"
   },
   {
    "duration": 45,
    "start_time": "2022-10-22T17:26:20.832Z"
   },
   {
    "duration": 49,
    "start_time": "2022-10-22T17:26:28.077Z"
   },
   {
    "duration": 38,
    "start_time": "2022-10-22T17:26:34.263Z"
   },
   {
    "duration": 184,
    "start_time": "2022-10-22T17:26:43.850Z"
   },
   {
    "duration": 199,
    "start_time": "2022-10-22T17:31:31.279Z"
   },
   {
    "duration": 196,
    "start_time": "2022-10-22T17:31:52.113Z"
   },
   {
    "duration": 195,
    "start_time": "2022-10-22T17:32:13.308Z"
   },
   {
    "duration": 285,
    "start_time": "2022-10-22T17:32:40.386Z"
   },
   {
    "duration": 190,
    "start_time": "2022-10-22T17:33:12.022Z"
   },
   {
    "duration": 20,
    "start_time": "2022-10-22T17:36:00.536Z"
   },
   {
    "duration": 18,
    "start_time": "2022-10-22T17:36:29.134Z"
   },
   {
    "duration": 45,
    "start_time": "2022-10-22T17:38:22.108Z"
   },
   {
    "duration": 600,
    "start_time": "2022-10-23T06:19:22.493Z"
   },
   {
    "duration": 2,
    "start_time": "2022-10-23T06:19:23.095Z"
   },
   {
    "duration": 7,
    "start_time": "2022-10-23T06:19:23.101Z"
   },
   {
    "duration": 19,
    "start_time": "2022-10-23T06:19:23.109Z"
   },
   {
    "duration": 12,
    "start_time": "2022-10-23T06:19:23.129Z"
   },
   {
    "duration": 9,
    "start_time": "2022-10-23T06:19:23.143Z"
   },
   {
    "duration": 16,
    "start_time": "2022-10-23T06:19:23.153Z"
   },
   {
    "duration": 4,
    "start_time": "2022-10-23T06:19:23.170Z"
   },
   {
    "duration": 4,
    "start_time": "2022-10-23T06:19:23.176Z"
   },
   {
    "duration": 31,
    "start_time": "2022-10-23T06:19:23.182Z"
   },
   {
    "duration": 5,
    "start_time": "2022-10-23T06:19:23.214Z"
   },
   {
    "duration": 16,
    "start_time": "2022-10-23T06:19:23.220Z"
   },
   {
    "duration": 536,
    "start_time": "2022-10-23T06:19:23.238Z"
   },
   {
    "duration": 274,
    "start_time": "2022-10-23T06:19:23.776Z"
   },
   {
    "duration": 244,
    "start_time": "2022-10-23T06:19:24.052Z"
   },
   {
    "duration": 195,
    "start_time": "2022-10-23T06:19:24.297Z"
   },
   {
    "duration": 212,
    "start_time": "2022-10-23T06:19:24.495Z"
   },
   {
    "duration": 196,
    "start_time": "2022-10-23T06:19:24.709Z"
   },
   {
    "duration": 201,
    "start_time": "2022-10-23T06:19:24.907Z"
   },
   {
    "duration": 195,
    "start_time": "2022-10-23T06:19:25.110Z"
   },
   {
    "duration": 17,
    "start_time": "2022-10-23T06:19:25.307Z"
   },
   {
    "duration": 154,
    "start_time": "2022-10-23T06:19:25.325Z"
   },
   {
    "duration": 144,
    "start_time": "2022-10-23T06:19:25.481Z"
   },
   {
    "duration": 134,
    "start_time": "2022-10-23T06:19:25.627Z"
   },
   {
    "duration": 132,
    "start_time": "2022-10-23T06:19:25.763Z"
   },
   {
    "duration": 142,
    "start_time": "2022-10-23T06:19:25.897Z"
   },
   {
    "duration": 201,
    "start_time": "2022-10-23T06:19:26.042Z"
   },
   {
    "duration": 205,
    "start_time": "2022-10-23T06:19:26.245Z"
   },
   {
    "duration": 9,
    "start_time": "2022-10-23T06:19:26.452Z"
   },
   {
    "duration": 26,
    "start_time": "2022-10-23T06:19:26.463Z"
   },
   {
    "duration": 23,
    "start_time": "2022-10-23T06:19:26.491Z"
   },
   {
    "duration": 129,
    "start_time": "2022-10-23T06:19:26.515Z"
   },
   {
    "duration": 132,
    "start_time": "2022-10-23T06:19:26.646Z"
   },
   {
    "duration": 10,
    "start_time": "2022-10-23T06:19:26.780Z"
   },
   {
    "duration": 35,
    "start_time": "2022-10-23T06:19:26.791Z"
   },
   {
    "duration": 10,
    "start_time": "2022-10-23T06:19:26.827Z"
   },
   {
    "duration": 130,
    "start_time": "2022-10-23T06:19:26.839Z"
   },
   {
    "duration": 125,
    "start_time": "2022-10-23T06:19:26.971Z"
   },
   {
    "duration": 161,
    "start_time": "2022-10-23T06:19:27.104Z"
   },
   {
    "duration": 529,
    "start_time": "2022-10-23T06:19:27.267Z"
   },
   {
    "duration": 582,
    "start_time": "2022-10-23T06:19:27.797Z"
   },
   {
    "duration": 473,
    "start_time": "2022-10-23T06:19:28.380Z"
   },
   {
    "duration": 396,
    "start_time": "2022-10-23T06:19:28.854Z"
   },
   {
    "duration": 7,
    "start_time": "2022-10-23T06:19:29.252Z"
   },
   {
    "duration": 164,
    "start_time": "2022-10-23T07:38:01.831Z"
   },
   {
    "duration": 170,
    "start_time": "2022-10-23T07:38:32.057Z"
   },
   {
    "duration": 272,
    "start_time": "2022-10-23T07:39:03.872Z"
   },
   {
    "duration": 163,
    "start_time": "2022-10-23T07:39:30.332Z"
   },
   {
    "duration": 186,
    "start_time": "2022-10-23T07:40:04.161Z"
   },
   {
    "duration": 498,
    "start_time": "2022-10-23T07:41:37.986Z"
   },
   {
    "duration": 250,
    "start_time": "2022-10-23T07:42:34.925Z"
   },
   {
    "duration": 397,
    "start_time": "2022-10-23T07:43:28.300Z"
   },
   {
    "duration": 120,
    "start_time": "2022-10-23T07:43:28.698Z"
   },
   {
    "duration": 5,
    "start_time": "2022-10-23T07:43:28.830Z"
   },
   {
    "duration": 34,
    "start_time": "2022-10-23T07:43:28.839Z"
   },
   {
    "duration": 16,
    "start_time": "2022-10-23T07:43:28.875Z"
   },
   {
    "duration": 27,
    "start_time": "2022-10-23T07:43:28.893Z"
   },
   {
    "duration": 44,
    "start_time": "2022-10-23T07:43:28.921Z"
   },
   {
    "duration": 21,
    "start_time": "2022-10-23T07:43:28.966Z"
   },
   {
    "duration": 4,
    "start_time": "2022-10-23T07:43:28.988Z"
   },
   {
    "duration": 5,
    "start_time": "2022-10-23T07:43:28.994Z"
   },
   {
    "duration": 28,
    "start_time": "2022-10-23T07:43:29.001Z"
   },
   {
    "duration": 32,
    "start_time": "2022-10-23T07:43:29.038Z"
   },
   {
    "duration": 15,
    "start_time": "2022-10-23T07:43:29.071Z"
   },
   {
    "duration": 470,
    "start_time": "2022-10-23T07:43:29.087Z"
   },
   {
    "duration": 318,
    "start_time": "2022-10-23T07:43:29.558Z"
   },
   {
    "duration": 219,
    "start_time": "2022-10-23T07:43:29.877Z"
   },
   {
    "duration": 327,
    "start_time": "2022-10-23T07:43:30.098Z"
   },
   {
    "duration": 231,
    "start_time": "2022-10-23T07:43:30.429Z"
   },
   {
    "duration": 226,
    "start_time": "2022-10-23T07:43:30.662Z"
   },
   {
    "duration": 230,
    "start_time": "2022-10-23T07:43:30.889Z"
   },
   {
    "duration": 236,
    "start_time": "2022-10-23T07:43:31.120Z"
   },
   {
    "duration": 19,
    "start_time": "2022-10-23T07:43:31.357Z"
   },
   {
    "duration": 178,
    "start_time": "2022-10-23T07:43:31.378Z"
   },
   {
    "duration": 177,
    "start_time": "2022-10-23T07:43:31.559Z"
   },
   {
    "duration": 172,
    "start_time": "2022-10-23T07:43:31.744Z"
   },
   {
    "duration": 168,
    "start_time": "2022-10-23T07:43:31.929Z"
   },
   {
    "duration": 185,
    "start_time": "2022-10-23T07:43:32.098Z"
   },
   {
    "duration": 185,
    "start_time": "2022-10-23T07:43:32.287Z"
   },
   {
    "duration": 301,
    "start_time": "2022-10-23T07:43:32.474Z"
   },
   {
    "duration": 11,
    "start_time": "2022-10-23T07:43:32.776Z"
   },
   {
    "duration": 54,
    "start_time": "2022-10-23T07:43:32.788Z"
   },
   {
    "duration": 28,
    "start_time": "2022-10-23T07:43:32.844Z"
   },
   {
    "duration": 163,
    "start_time": "2022-10-23T07:43:32.873Z"
   },
   {
    "duration": 147,
    "start_time": "2022-10-23T07:43:33.044Z"
   },
   {
    "duration": 21,
    "start_time": "2022-10-23T07:43:33.193Z"
   },
   {
    "duration": 64,
    "start_time": "2022-10-23T07:43:33.215Z"
   },
   {
    "duration": 11,
    "start_time": "2022-10-23T07:43:33.280Z"
   },
   {
    "duration": 138,
    "start_time": "2022-10-23T07:43:33.292Z"
   },
   {
    "duration": 145,
    "start_time": "2022-10-23T07:43:33.432Z"
   },
   {
    "duration": 178,
    "start_time": "2022-10-23T07:43:33.579Z"
   },
   {
    "duration": 569,
    "start_time": "2022-10-23T07:43:33.758Z"
   },
   {
    "duration": 589,
    "start_time": "2022-10-23T07:43:34.328Z"
   },
   {
    "duration": 654,
    "start_time": "2022-10-23T07:43:34.923Z"
   },
   {
    "duration": 432,
    "start_time": "2022-10-23T07:43:35.579Z"
   },
   {
    "duration": 14,
    "start_time": "2022-10-23T07:43:36.012Z"
   },
   {
    "duration": 800,
    "start_time": "2022-10-23T07:44:18.457Z"
   },
   {
    "duration": 91,
    "start_time": "2022-10-23T07:44:19.259Z"
   },
   {
    "duration": 5,
    "start_time": "2022-10-23T07:44:19.351Z"
   },
   {
    "duration": 7,
    "start_time": "2022-10-23T07:44:19.358Z"
   },
   {
    "duration": 14,
    "start_time": "2022-10-23T07:44:19.367Z"
   },
   {
    "duration": 10,
    "start_time": "2022-10-23T07:44:19.383Z"
   },
   {
    "duration": 16,
    "start_time": "2022-10-23T07:44:19.394Z"
   },
   {
    "duration": 29,
    "start_time": "2022-10-23T07:44:19.421Z"
   },
   {
    "duration": 6,
    "start_time": "2022-10-23T07:44:19.452Z"
   },
   {
    "duration": 4,
    "start_time": "2022-10-23T07:44:19.460Z"
   },
   {
    "duration": 16,
    "start_time": "2022-10-23T07:44:19.466Z"
   },
   {
    "duration": 6,
    "start_time": "2022-10-23T07:44:19.483Z"
   },
   {
    "duration": 25,
    "start_time": "2022-10-23T07:44:19.490Z"
   },
   {
    "duration": 472,
    "start_time": "2022-10-23T07:44:19.519Z"
   },
   {
    "duration": 320,
    "start_time": "2022-10-23T07:44:19.992Z"
   },
   {
    "duration": 236,
    "start_time": "2022-10-23T07:44:20.318Z"
   },
   {
    "duration": 204,
    "start_time": "2022-10-23T07:44:20.556Z"
   },
   {
    "duration": 239,
    "start_time": "2022-10-23T07:44:20.761Z"
   },
   {
    "duration": 222,
    "start_time": "2022-10-23T07:44:21.014Z"
   },
   {
    "duration": 234,
    "start_time": "2022-10-23T07:44:21.237Z"
   },
   {
    "duration": 255,
    "start_time": "2022-10-23T07:44:21.472Z"
   },
   {
    "duration": 31,
    "start_time": "2022-10-23T07:44:21.728Z"
   },
   {
    "duration": 164,
    "start_time": "2022-10-23T07:44:21.761Z"
   },
   {
    "duration": 248,
    "start_time": "2022-10-23T07:44:21.927Z"
   },
   {
    "duration": 173,
    "start_time": "2022-10-23T07:44:22.177Z"
   },
   {
    "duration": 171,
    "start_time": "2022-10-23T07:44:22.351Z"
   },
   {
    "duration": 168,
    "start_time": "2022-10-23T07:44:22.523Z"
   },
   {
    "duration": 178,
    "start_time": "2022-10-23T07:44:22.694Z"
   },
   {
    "duration": 246,
    "start_time": "2022-10-23T07:44:22.873Z"
   },
   {
    "duration": 18,
    "start_time": "2022-10-23T07:44:23.121Z"
   },
   {
    "duration": 38,
    "start_time": "2022-10-23T07:44:23.146Z"
   },
   {
    "duration": 11,
    "start_time": "2022-10-23T07:44:23.185Z"
   },
   {
    "duration": 151,
    "start_time": "2022-10-23T07:44:23.198Z"
   },
   {
    "duration": 169,
    "start_time": "2022-10-23T07:44:23.354Z"
   },
   {
    "duration": 13,
    "start_time": "2022-10-23T07:44:23.525Z"
   },
   {
    "duration": 40,
    "start_time": "2022-10-23T07:44:23.539Z"
   },
   {
    "duration": 12,
    "start_time": "2022-10-23T07:44:23.581Z"
   },
   {
    "duration": 143,
    "start_time": "2022-10-23T07:44:23.595Z"
   },
   {
    "duration": 142,
    "start_time": "2022-10-23T07:44:23.743Z"
   },
   {
    "duration": 292,
    "start_time": "2022-10-23T07:44:23.887Z"
   },
   {
    "duration": 619,
    "start_time": "2022-10-23T07:44:24.181Z"
   },
   {
    "duration": 629,
    "start_time": "2022-10-23T07:44:24.806Z"
   },
   {
    "duration": 615,
    "start_time": "2022-10-23T07:44:25.436Z"
   },
   {
    "duration": 9,
    "start_time": "2022-10-23T07:44:26.056Z"
   },
   {
    "duration": 16,
    "start_time": "2022-10-23T07:44:26.066Z"
   },
   {
    "duration": 4,
    "start_time": "2022-10-23T07:45:25.830Z"
   },
   {
    "duration": 1086,
    "start_time": "2022-10-23T07:46:22.789Z"
   },
   {
    "duration": 126,
    "start_time": "2022-10-23T07:46:23.877Z"
   },
   {
    "duration": 13,
    "start_time": "2022-10-23T07:46:24.005Z"
   },
   {
    "duration": 36,
    "start_time": "2022-10-23T07:46:24.023Z"
   },
   {
    "duration": 51,
    "start_time": "2022-10-23T07:46:24.061Z"
   },
   {
    "duration": 53,
    "start_time": "2022-10-23T07:46:24.114Z"
   },
   {
    "duration": 15,
    "start_time": "2022-10-23T07:46:24.169Z"
   },
   {
    "duration": 31,
    "start_time": "2022-10-23T07:46:24.187Z"
   },
   {
    "duration": 10,
    "start_time": "2022-10-23T07:46:24.227Z"
   },
   {
    "duration": 19,
    "start_time": "2022-10-23T07:46:24.252Z"
   },
   {
    "duration": 24,
    "start_time": "2022-10-23T07:46:24.273Z"
   },
   {
    "duration": 17,
    "start_time": "2022-10-23T07:46:24.299Z"
   },
   {
    "duration": 50,
    "start_time": "2022-10-23T07:46:24.317Z"
   },
   {
    "duration": 263,
    "start_time": "2022-10-23T07:46:24.369Z"
   },
   {
    "duration": 332,
    "start_time": "2022-10-23T07:46:24.636Z"
   },
   {
    "duration": 265,
    "start_time": "2022-10-23T07:46:24.969Z"
   },
   {
    "duration": 217,
    "start_time": "2022-10-23T07:46:25.240Z"
   },
   {
    "duration": 231,
    "start_time": "2022-10-23T07:46:25.459Z"
   },
   {
    "duration": 234,
    "start_time": "2022-10-23T07:46:25.691Z"
   },
   {
    "duration": 225,
    "start_time": "2022-10-23T07:46:25.930Z"
   },
   {
    "duration": 227,
    "start_time": "2022-10-23T07:46:26.156Z"
   },
   {
    "duration": 30,
    "start_time": "2022-10-23T07:46:26.385Z"
   },
   {
    "duration": 177,
    "start_time": "2022-10-23T07:46:26.416Z"
   },
   {
    "duration": 265,
    "start_time": "2022-10-23T07:46:26.595Z"
   },
   {
    "duration": 195,
    "start_time": "2022-10-23T07:46:26.862Z"
   },
   {
    "duration": 169,
    "start_time": "2022-10-23T07:46:27.058Z"
   },
   {
    "duration": 225,
    "start_time": "2022-10-23T07:46:27.230Z"
   },
   {
    "duration": 191,
    "start_time": "2022-10-23T07:46:27.462Z"
   },
   {
    "duration": 278,
    "start_time": "2022-10-23T07:46:27.658Z"
   },
   {
    "duration": 20,
    "start_time": "2022-10-23T07:46:27.951Z"
   },
   {
    "duration": 31,
    "start_time": "2022-10-23T07:46:27.973Z"
   },
   {
    "duration": 28,
    "start_time": "2022-10-23T07:46:28.005Z"
   },
   {
    "duration": 198,
    "start_time": "2022-10-23T07:46:28.035Z"
   },
   {
    "duration": 143,
    "start_time": "2022-10-23T07:46:28.237Z"
   },
   {
    "duration": 10,
    "start_time": "2022-10-23T07:46:28.381Z"
   },
   {
    "duration": 53,
    "start_time": "2022-10-23T07:46:28.392Z"
   },
   {
    "duration": 17,
    "start_time": "2022-10-23T07:46:28.448Z"
   },
   {
    "duration": 132,
    "start_time": "2022-10-23T07:46:28.466Z"
   },
   {
    "duration": 178,
    "start_time": "2022-10-23T07:46:28.599Z"
   },
   {
    "duration": 255,
    "start_time": "2022-10-23T07:46:28.778Z"
   },
   {
    "duration": 562,
    "start_time": "2022-10-23T07:46:29.039Z"
   },
   {
    "duration": 589,
    "start_time": "2022-10-23T07:46:29.605Z"
   },
   {
    "duration": 589,
    "start_time": "2022-10-23T07:46:30.197Z"
   },
   {
    "duration": 8,
    "start_time": "2022-10-23T07:46:30.787Z"
   },
   {
    "duration": 61,
    "start_time": "2022-10-23T07:46:30.813Z"
   },
   {
    "duration": 122,
    "start_time": "2022-10-23T07:47:50.772Z"
   },
   {
    "duration": 96,
    "start_time": "2022-10-23T07:49:59.202Z"
   },
   {
    "duration": 202,
    "start_time": "2022-10-23T07:54:18.430Z"
   },
   {
    "duration": 236,
    "start_time": "2022-10-23T08:14:13.743Z"
   },
   {
    "duration": 327,
    "start_time": "2022-10-23T08:14:41.253Z"
   },
   {
    "duration": 245,
    "start_time": "2022-10-23T08:15:18.199Z"
   },
   {
    "duration": 207,
    "start_time": "2022-10-23T08:20:40.390Z"
   },
   {
    "duration": 264,
    "start_time": "2022-10-23T08:21:26.549Z"
   },
   {
    "duration": 450,
    "start_time": "2022-10-23T08:23:30.045Z"
   },
   {
    "duration": 502,
    "start_time": "2022-10-23T08:23:47.235Z"
   },
   {
    "duration": 369,
    "start_time": "2022-10-23T08:24:36.061Z"
   },
   {
    "duration": 434,
    "start_time": "2022-10-23T08:25:17.463Z"
   },
   {
    "duration": 550,
    "start_time": "2022-10-23T08:45:31.367Z"
   },
   {
    "duration": 418,
    "start_time": "2022-10-23T08:46:51.096Z"
   },
   {
    "duration": 433,
    "start_time": "2022-10-23T08:48:41.607Z"
   },
   {
    "duration": 214,
    "start_time": "2022-10-23T08:50:30.374Z"
   },
   {
    "duration": 499,
    "start_time": "2022-10-23T09:10:12.125Z"
   },
   {
    "duration": 415,
    "start_time": "2022-10-23T09:10:20.992Z"
   },
   {
    "duration": 550,
    "start_time": "2022-10-23T09:10:31.410Z"
   },
   {
    "duration": 410,
    "start_time": "2022-10-23T09:11:36.638Z"
   },
   {
    "duration": 306,
    "start_time": "2022-10-23T09:12:06.777Z"
   },
   {
    "duration": 489,
    "start_time": "2022-10-23T09:12:34.318Z"
   },
   {
    "duration": 137,
    "start_time": "2022-10-23T09:18:18.028Z"
   },
   {
    "duration": 140,
    "start_time": "2022-10-23T09:19:20.751Z"
   },
   {
    "duration": 754,
    "start_time": "2022-10-23T09:20:08.788Z"
   },
   {
    "duration": 67,
    "start_time": "2022-10-23T09:21:29.461Z"
   },
   {
    "duration": 146,
    "start_time": "2022-10-23T09:33:04.313Z"
   },
   {
    "duration": 154,
    "start_time": "2022-10-23T09:33:39.099Z"
   },
   {
    "duration": 87,
    "start_time": "2022-10-23T09:34:38.700Z"
   },
   {
    "duration": 138,
    "start_time": "2022-10-23T09:54:22.015Z"
   },
   {
    "duration": 14,
    "start_time": "2022-10-23T09:55:32.250Z"
   },
   {
    "duration": 11,
    "start_time": "2022-10-23T09:55:43.264Z"
   },
   {
    "duration": 29,
    "start_time": "2022-10-23T09:56:14.506Z"
   },
   {
    "duration": 29,
    "start_time": "2022-10-23T09:56:28.559Z"
   },
   {
    "duration": 17,
    "start_time": "2022-10-23T09:57:03.264Z"
   },
   {
    "duration": 141,
    "start_time": "2022-10-23T10:04:44.630Z"
   },
   {
    "duration": 126,
    "start_time": "2022-10-23T10:05:41.105Z"
   },
   {
    "duration": 150,
    "start_time": "2022-10-23T10:43:35.053Z"
   },
   {
    "duration": 177,
    "start_time": "2022-10-23T10:45:50.133Z"
   },
   {
    "duration": 68,
    "start_time": "2022-10-23T10:48:20.276Z"
   },
   {
    "duration": 176,
    "start_time": "2022-10-23T10:53:23.409Z"
   },
   {
    "duration": 176,
    "start_time": "2022-10-23T10:53:48.779Z"
   },
   {
    "duration": 5,
    "start_time": "2022-10-23T11:10:39.074Z"
   },
   {
    "duration": 957,
    "start_time": "2022-10-23T11:11:00.445Z"
   },
   {
    "duration": 122,
    "start_time": "2022-10-23T11:11:01.405Z"
   },
   {
    "duration": 3,
    "start_time": "2022-10-23T11:11:01.528Z"
   },
   {
    "duration": 21,
    "start_time": "2022-10-23T11:11:01.533Z"
   },
   {
    "duration": 20,
    "start_time": "2022-10-23T11:11:01.555Z"
   },
   {
    "duration": 35,
    "start_time": "2022-10-23T11:11:01.577Z"
   },
   {
    "duration": 48,
    "start_time": "2022-10-23T11:11:01.613Z"
   },
   {
    "duration": 27,
    "start_time": "2022-10-23T11:11:01.663Z"
   },
   {
    "duration": 18,
    "start_time": "2022-10-23T11:11:01.691Z"
   },
   {
    "duration": 6,
    "start_time": "2022-10-23T11:11:01.711Z"
   },
   {
    "duration": 32,
    "start_time": "2022-10-23T11:11:01.718Z"
   },
   {
    "duration": 20,
    "start_time": "2022-10-23T11:11:01.751Z"
   },
   {
    "duration": 58,
    "start_time": "2022-10-23T11:11:01.773Z"
   },
   {
    "duration": 95,
    "start_time": "2022-10-23T11:11:01.832Z"
   },
   {
    "duration": 193,
    "start_time": "2022-10-23T11:11:01.929Z"
   },
   {
    "duration": 278,
    "start_time": "2022-10-23T11:11:02.123Z"
   },
   {
    "duration": 183,
    "start_time": "2022-10-23T11:11:02.404Z"
   },
   {
    "duration": 209,
    "start_time": "2022-10-23T11:11:02.588Z"
   },
   {
    "duration": 207,
    "start_time": "2022-10-23T11:11:02.798Z"
   },
   {
    "duration": 199,
    "start_time": "2022-10-23T11:11:03.007Z"
   },
   {
    "duration": 204,
    "start_time": "2022-10-23T11:11:03.207Z"
   },
   {
    "duration": 203,
    "start_time": "2022-10-23T11:11:03.413Z"
   },
   {
    "duration": 19,
    "start_time": "2022-10-23T11:11:03.618Z"
   },
   {
    "duration": 197,
    "start_time": "2022-10-23T11:11:03.639Z"
   },
   {
    "duration": 226,
    "start_time": "2022-10-23T11:11:03.837Z"
   },
   {
    "duration": 152,
    "start_time": "2022-10-23T11:11:04.065Z"
   },
   {
    "duration": 168,
    "start_time": "2022-10-23T11:11:04.218Z"
   },
   {
    "duration": 159,
    "start_time": "2022-10-23T11:11:04.389Z"
   },
   {
    "duration": 157,
    "start_time": "2022-10-23T11:11:04.550Z"
   },
   {
    "duration": 435,
    "start_time": "2022-10-23T11:11:04.708Z"
   },
   {
    "duration": 11,
    "start_time": "2022-10-23T11:11:05.144Z"
   },
   {
    "duration": 32,
    "start_time": "2022-10-23T11:11:05.156Z"
   },
   {
    "duration": 13,
    "start_time": "2022-10-23T11:11:05.204Z"
   },
   {
    "duration": 150,
    "start_time": "2022-10-23T11:11:05.219Z"
   },
   {
    "duration": 159,
    "start_time": "2022-10-23T11:11:05.371Z"
   },
   {
    "duration": 11,
    "start_time": "2022-10-23T11:11:05.532Z"
   },
   {
    "duration": 27,
    "start_time": "2022-10-23T11:11:05.544Z"
   },
   {
    "duration": 11,
    "start_time": "2022-10-23T11:11:05.572Z"
   },
   {
    "duration": 228,
    "start_time": "2022-10-23T11:11:05.585Z"
   },
   {
    "duration": 149,
    "start_time": "2022-10-23T11:11:05.815Z"
   },
   {
    "duration": 154,
    "start_time": "2022-10-23T11:11:05.965Z"
   },
   {
    "duration": 12,
    "start_time": "2022-10-23T11:11:06.120Z"
   },
   {
    "duration": 31,
    "start_time": "2022-10-23T11:11:06.133Z"
   },
   {
    "duration": 12,
    "start_time": "2022-10-23T11:11:06.165Z"
   },
   {
    "duration": 156,
    "start_time": "2022-10-23T11:11:06.179Z"
   },
   {
    "duration": 159,
    "start_time": "2022-10-23T11:11:06.337Z"
   },
   {
    "duration": 202,
    "start_time": "2022-10-23T11:11:06.497Z"
   },
   {
    "duration": 503,
    "start_time": "2022-10-23T11:11:06.704Z"
   },
   {
    "duration": 574,
    "start_time": "2022-10-23T11:11:07.208Z"
   },
   {
    "duration": 633,
    "start_time": "2022-10-23T11:11:07.783Z"
   },
   {
    "duration": 8,
    "start_time": "2022-10-23T11:11:08.417Z"
   },
   {
    "duration": 9,
    "start_time": "2022-10-23T11:11:08.426Z"
   },
   {
    "duration": 83,
    "start_time": "2022-10-23T11:17:15.196Z"
   },
   {
    "duration": 92,
    "start_time": "2022-10-23T11:21:09.942Z"
   },
   {
    "duration": 497,
    "start_time": "2022-10-23T11:21:43.860Z"
   },
   {
    "duration": 523,
    "start_time": "2022-10-23T11:22:10.849Z"
   },
   {
    "duration": 632,
    "start_time": "2022-10-23T11:22:27.669Z"
   },
   {
    "duration": 68,
    "start_time": "2022-10-23T11:23:26.273Z"
   },
   {
    "duration": 617,
    "start_time": "2022-10-23T11:53:57.077Z"
   },
   {
    "duration": 659,
    "start_time": "2022-10-23T11:54:34.156Z"
   },
   {
    "duration": 600,
    "start_time": "2022-10-23T11:55:37.824Z"
   },
   {
    "duration": 569,
    "start_time": "2022-10-23T11:56:16.309Z"
   },
   {
    "duration": 550,
    "start_time": "2022-10-23T12:07:45.785Z"
   },
   {
    "duration": 824,
    "start_time": "2022-10-23T12:09:36.802Z"
   },
   {
    "duration": 532,
    "start_time": "2022-10-23T12:12:20.049Z"
   },
   {
    "duration": 553,
    "start_time": "2022-10-23T12:15:15.698Z"
   },
   {
    "duration": 65,
    "start_time": "2022-10-23T12:18:01.954Z"
   },
   {
    "duration": 6,
    "start_time": "2022-10-23T12:19:17.778Z"
   },
   {
    "duration": 27,
    "start_time": "2022-10-23T12:20:19.833Z"
   },
   {
    "duration": 659,
    "start_time": "2022-10-23T12:20:31.993Z"
   },
   {
    "duration": 121,
    "start_time": "2022-10-23T12:46:56.431Z"
   },
   {
    "duration": 14,
    "start_time": "2022-10-23T12:54:26.335Z"
   },
   {
    "duration": 1031,
    "start_time": "2022-10-23T13:05:11.798Z"
   },
   {
    "duration": 139,
    "start_time": "2022-10-23T13:05:12.831Z"
   },
   {
    "duration": 3,
    "start_time": "2022-10-23T13:05:12.972Z"
   },
   {
    "duration": 9,
    "start_time": "2022-10-23T13:05:12.977Z"
   },
   {
    "duration": 25,
    "start_time": "2022-10-23T13:05:12.987Z"
   },
   {
    "duration": 21,
    "start_time": "2022-10-23T13:05:13.013Z"
   },
   {
    "duration": 18,
    "start_time": "2022-10-23T13:05:13.035Z"
   },
   {
    "duration": 24,
    "start_time": "2022-10-23T13:05:13.055Z"
   },
   {
    "duration": 5,
    "start_time": "2022-10-23T13:05:13.080Z"
   },
   {
    "duration": 5,
    "start_time": "2022-10-23T13:05:13.108Z"
   },
   {
    "duration": 25,
    "start_time": "2022-10-23T13:05:13.115Z"
   },
   {
    "duration": 7,
    "start_time": "2022-10-23T13:05:13.142Z"
   },
   {
    "duration": 10,
    "start_time": "2022-10-23T13:05:13.151Z"
   },
   {
    "duration": 27,
    "start_time": "2022-10-23T13:05:13.163Z"
   },
   {
    "duration": 228,
    "start_time": "2022-10-23T13:05:13.192Z"
   },
   {
    "duration": 286,
    "start_time": "2022-10-23T13:05:13.422Z"
   },
   {
    "duration": 196,
    "start_time": "2022-10-23T13:05:13.709Z"
   },
   {
    "duration": 205,
    "start_time": "2022-10-23T13:05:13.907Z"
   },
   {
    "duration": 224,
    "start_time": "2022-10-23T13:05:14.114Z"
   },
   {
    "duration": 233,
    "start_time": "2022-10-23T13:05:14.340Z"
   },
   {
    "duration": 209,
    "start_time": "2022-10-23T13:05:14.575Z"
   },
   {
    "duration": 214,
    "start_time": "2022-10-23T13:05:14.785Z"
   },
   {
    "duration": 19,
    "start_time": "2022-10-23T13:05:15.005Z"
   },
   {
    "duration": 208,
    "start_time": "2022-10-23T13:05:15.026Z"
   },
   {
    "duration": 231,
    "start_time": "2022-10-23T13:05:15.235Z"
   },
   {
    "duration": 151,
    "start_time": "2022-10-23T13:05:15.468Z"
   },
   {
    "duration": 157,
    "start_time": "2022-10-23T13:05:15.620Z"
   },
   {
    "duration": 160,
    "start_time": "2022-10-23T13:05:15.781Z"
   },
   {
    "duration": 153,
    "start_time": "2022-10-23T13:05:15.942Z"
   },
   {
    "duration": 436,
    "start_time": "2022-10-23T13:05:16.097Z"
   },
   {
    "duration": 15,
    "start_time": "2022-10-23T13:05:16.534Z"
   },
   {
    "duration": 38,
    "start_time": "2022-10-23T13:05:16.551Z"
   },
   {
    "duration": 17,
    "start_time": "2022-10-23T13:05:16.591Z"
   },
   {
    "duration": 138,
    "start_time": "2022-10-23T13:05:16.610Z"
   },
   {
    "duration": 146,
    "start_time": "2022-10-23T13:05:16.749Z"
   },
   {
    "duration": 16,
    "start_time": "2022-10-23T13:05:16.897Z"
   },
   {
    "duration": 35,
    "start_time": "2022-10-23T13:05:16.915Z"
   },
   {
    "duration": 11,
    "start_time": "2022-10-23T13:05:16.952Z"
   },
   {
    "duration": 221,
    "start_time": "2022-10-23T13:05:16.965Z"
   },
   {
    "duration": 135,
    "start_time": "2022-10-23T13:05:17.188Z"
   },
   {
    "duration": 142,
    "start_time": "2022-10-23T13:05:17.324Z"
   },
   {
    "duration": 10,
    "start_time": "2022-10-23T13:05:17.467Z"
   },
   {
    "duration": 38,
    "start_time": "2022-10-23T13:05:17.479Z"
   },
   {
    "duration": 13,
    "start_time": "2022-10-23T13:05:17.519Z"
   },
   {
    "duration": 185,
    "start_time": "2022-10-23T13:05:17.533Z"
   },
   {
    "duration": 175,
    "start_time": "2022-10-23T13:05:17.720Z"
   },
   {
    "duration": 227,
    "start_time": "2022-10-23T13:05:17.897Z"
   },
   {
    "duration": 599,
    "start_time": "2022-10-23T13:05:18.126Z"
   },
   {
    "duration": 721,
    "start_time": "2022-10-23T13:05:18.727Z"
   },
   {
    "duration": 582,
    "start_time": "2022-10-23T13:05:19.449Z"
   },
   {
    "duration": 8,
    "start_time": "2022-10-23T13:05:20.033Z"
   },
   {
    "duration": 16,
    "start_time": "2022-10-23T13:05:20.043Z"
   },
   {
    "duration": 1151,
    "start_time": "2022-10-24T10:01:58.828Z"
   },
   {
    "duration": 139,
    "start_time": "2022-10-24T10:01:59.982Z"
   },
   {
    "duration": 4,
    "start_time": "2022-10-24T10:02:00.123Z"
   },
   {
    "duration": 91,
    "start_time": "2022-10-24T10:02:00.129Z"
   },
   {
    "duration": 35,
    "start_time": "2022-10-24T10:02:00.222Z"
   },
   {
    "duration": 46,
    "start_time": "2022-10-24T10:02:00.258Z"
   },
   {
    "duration": 126,
    "start_time": "2022-10-24T10:02:00.305Z"
   },
   {
    "duration": 42,
    "start_time": "2022-10-24T10:02:00.432Z"
   },
   {
    "duration": 29,
    "start_time": "2022-10-24T10:02:00.476Z"
   },
   {
    "duration": 89,
    "start_time": "2022-10-24T10:02:00.507Z"
   },
   {
    "duration": 93,
    "start_time": "2022-10-24T10:02:00.598Z"
   },
   {
    "duration": 67,
    "start_time": "2022-10-24T10:02:00.693Z"
   },
   {
    "duration": 25,
    "start_time": "2022-10-24T10:02:00.761Z"
   },
   {
    "duration": 46,
    "start_time": "2022-10-24T10:02:00.787Z"
   },
   {
    "duration": 229,
    "start_time": "2022-10-24T10:02:00.835Z"
   },
   {
    "duration": 311,
    "start_time": "2022-10-24T10:02:01.066Z"
   },
   {
    "duration": 206,
    "start_time": "2022-10-24T10:02:01.378Z"
   },
   {
    "duration": 202,
    "start_time": "2022-10-24T10:02:01.586Z"
   },
   {
    "duration": 210,
    "start_time": "2022-10-24T10:02:01.790Z"
   },
   {
    "duration": 204,
    "start_time": "2022-10-24T10:02:02.001Z"
   },
   {
    "duration": 214,
    "start_time": "2022-10-24T10:02:02.207Z"
   },
   {
    "duration": 219,
    "start_time": "2022-10-24T10:02:02.423Z"
   },
   {
    "duration": 21,
    "start_time": "2022-10-24T10:02:02.644Z"
   },
   {
    "duration": 287,
    "start_time": "2022-10-24T10:02:02.666Z"
   },
   {
    "duration": 240,
    "start_time": "2022-10-24T10:02:02.955Z"
   },
   {
    "duration": 172,
    "start_time": "2022-10-24T10:02:03.198Z"
   },
   {
    "duration": 169,
    "start_time": "2022-10-24T10:02:03.371Z"
   },
   {
    "duration": 170,
    "start_time": "2022-10-24T10:02:03.544Z"
   },
   {
    "duration": 175,
    "start_time": "2022-10-24T10:02:03.716Z"
   },
   {
    "duration": 427,
    "start_time": "2022-10-24T10:02:03.893Z"
   },
   {
    "duration": 12,
    "start_time": "2022-10-24T10:02:04.322Z"
   },
   {
    "duration": 51,
    "start_time": "2022-10-24T10:02:04.336Z"
   },
   {
    "duration": 24,
    "start_time": "2022-10-24T10:02:04.389Z"
   },
   {
    "duration": 151,
    "start_time": "2022-10-24T10:02:04.415Z"
   },
   {
    "duration": 143,
    "start_time": "2022-10-24T10:02:04.568Z"
   },
   {
    "duration": 16,
    "start_time": "2022-10-24T10:02:04.713Z"
   },
   {
    "duration": 52,
    "start_time": "2022-10-24T10:02:04.731Z"
   },
   {
    "duration": 25,
    "start_time": "2022-10-24T10:02:04.785Z"
   },
   {
    "duration": 243,
    "start_time": "2022-10-24T10:02:04.812Z"
   },
   {
    "duration": 142,
    "start_time": "2022-10-24T10:02:05.057Z"
   },
   {
    "duration": 162,
    "start_time": "2022-10-24T10:02:05.201Z"
   },
   {
    "duration": 12,
    "start_time": "2022-10-24T10:02:05.365Z"
   },
   {
    "duration": 47,
    "start_time": "2022-10-24T10:02:05.379Z"
   },
   {
    "duration": 21,
    "start_time": "2022-10-24T10:02:05.428Z"
   },
   {
    "duration": 174,
    "start_time": "2022-10-24T10:02:05.450Z"
   },
   {
    "duration": 137,
    "start_time": "2022-10-24T10:02:05.626Z"
   },
   {
    "duration": 197,
    "start_time": "2022-10-24T10:02:05.765Z"
   },
   {
    "duration": 668,
    "start_time": "2022-10-24T10:02:05.964Z"
   },
   {
    "duration": 875,
    "start_time": "2022-10-24T10:02:06.634Z"
   },
   {
    "duration": 595,
    "start_time": "2022-10-24T10:02:07.511Z"
   },
   {
    "duration": 15,
    "start_time": "2022-10-24T10:02:08.108Z"
   },
   {
    "duration": 11,
    "start_time": "2022-10-24T10:02:08.125Z"
   }
  ],
  "kernelspec": {
   "display_name": "Python 3.10.6 64-bit",
   "language": "python",
   "name": "python3"
  },
  "language_info": {
   "codemirror_mode": {
    "name": "ipython",
    "version": 3
   },
   "file_extension": ".py",
   "mimetype": "text/x-python",
   "name": "python",
   "nbconvert_exporter": "python",
   "pygments_lexer": "ipython3",
   "version": "3.10.6"
  },
  "toc": {
   "base_numbering": 1,
   "nav_menu": {},
   "number_sections": true,
   "sideBar": true,
   "skip_h1_title": true,
   "title_cell": "Table of Contents",
   "title_sidebar": "Contents",
   "toc_cell": false,
   "toc_position": {},
   "toc_section_display": true,
   "toc_window_display": false
  },
  "vscode": {
   "interpreter": {
    "hash": "afb734500600fd355917ca529030176ea0ca205570884b88f2f6f7d791fd3fbe"
   }
  }
 },
 "nbformat": 4,
 "nbformat_minor": 2
}
