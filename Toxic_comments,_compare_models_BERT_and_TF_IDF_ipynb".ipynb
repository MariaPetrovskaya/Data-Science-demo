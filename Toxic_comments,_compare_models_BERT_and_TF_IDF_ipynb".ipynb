{
  "cells": [
    {
      "cell_type": "markdown",
      "metadata": {
        "id": "view-in-github",
        "colab_type": "text"
      },
      "source": [
        "<a href=\"https://colab.research.google.com/github/MariaPetrovskaya/Data-Science-demo/blob/main/Toxic_comments%2C_compare_models_BERT_and_TF_IDF_ipynb%22.ipynb\" target=\"_parent\"><img src=\"https://colab.research.google.com/assets/colab-badge.svg\" alt=\"Open In Colab\"/></a>"
      ]
    },
    {
      "cell_type": "markdown",
      "metadata": {
        "id": "A_R0U_jiTLSw"
      },
      "source": [
        "# Описание проекта"
      ],
      "id": "A_R0U_jiTLSw"
    },
    {
      "cell_type": "markdown",
      "metadata": {
        "id": "Tkq1kxWnp0F1"
      },
      "source": [
        "**Проект с использованием BERT**"
      ],
      "id": "Tkq1kxWnp0F1"
    },
    {
      "cell_type": "markdown",
      "metadata": {
        "id": "c2bb822c"
      },
      "source": [
        "**Описание проекта**\n",
        "Интернет-магазин «Викишоп» запускает новый сервис. Теперь пользователи могут редактировать и дополнять описания товаров, как в вики-сообществах. То есть клиенты предлагают свои правки и комментируют изменения других. Магазину нужен инструмент, который будет искать токсичные комментарии и отправлять их на модерацию. \n",
        "Обучите модель классифицировать комментарии на позитивные и негативные. В вашем распоряжении набор данных с разметкой о токсичности правок.\n",
        "Постройте модель со значением метрики качества F1 не меньше 0.75. "
      ],
      "id": "c2bb822c"
    },
    {
      "cell_type": "markdown",
      "metadata": {
        "id": "E9b_9qafTeEh"
      },
      "source": [
        "# Загрузка библиотек и некоторые инсталляции, которые потребовали при работе в Colab и на Anaconda"
      ],
      "id": "E9b_9qafTeEh"
    },
    {
      "cell_type": "code",
      "execution_count": null,
      "metadata": {
        "id": "c302be89-4556-4e1b-8644-8d2b740c3629"
      },
      "outputs": [],
      "source": [
        "import numpy as np\n",
        "import pandas as pd\n",
        "import torch\n",
        "import matplotlib.pyplot as plt\n",
        "from tqdm import notebook\n",
        "from sklearn.linear_model import LogisticRegression\n",
        "from sklearn.model_selection import cross_val_score\n",
        "from sklearn.model_selection import train_test_split\n",
        "from sklearn.metrics import accuracy_score\n",
        "from sklearn.metrics import f1_score\n",
        "from sklearn.ensemble import RandomForestClassifier\n",
        "from sklearn.tree import DecisionTreeClassifier"
      ],
      "id": "c302be89-4556-4e1b-8644-8d2b740c3629"
    },
    {
      "cell_type": "code",
      "execution_count": null,
      "metadata": {
        "id": "3af1171b-9160-4f54-94a0-634c71b5f181"
      },
      "outputs": [],
      "source": [
        "#conda update conda"
      ],
      "id": "3af1171b-9160-4f54-94a0-634c71b5f181"
    },
    {
      "cell_type": "code",
      "execution_count": null,
      "metadata": {
        "id": "64723be6"
      },
      "outputs": [],
      "source": [
        "from google.colab import drive\n",
        "from google.colab import files"
      ],
      "id": "64723be6"
    },
    {
      "cell_type": "code",
      "execution_count": null,
      "metadata": {
        "id": "EwYeQhWymkbr"
      },
      "outputs": [],
      "source": [
        "import nltk\n",
        "from nltk.corpus import stopwords as nltk_stopwords\n",
        "from sklearn.feature_extraction.text import TfidfVectorizer# "
      ],
      "id": "EwYeQhWymkbr"
    },
    {
      "cell_type": "code",
      "execution_count": null,
      "metadata": {
        "id": "nohizkALNlbD"
      },
      "outputs": [],
      "source": [
        "from nltk.corpus import wordnet\n",
        "import re\n",
        "from nltk.stem import WordNetLemmatizer\n",
        "from nltk.corpus import wordnet\n",
        "from pymystem3 import Mystem"
      ],
      "id": "nohizkALNlbD"
    },
    {
      "cell_type": "code",
      "execution_count": null,
      "metadata": {
        "id": "JfDAbwVit97d"
      },
      "outputs": [],
      "source": [
        "import lightgbm as lgb\n",
        "from lightgbm import LGBMClassifier\n",
        "from sklearn.model_selection import GridSearchCV"
      ],
      "id": "JfDAbwVit97d"
    },
    {
      "cell_type": "code",
      "execution_count": null,
      "metadata": {
        "colab": {
          "base_uri": "https://localhost:8080/"
        },
        "id": "6e6a49f2",
        "outputId": "93347f01-21a4-4c74-b437-aa783453fac4"
      },
      "outputs": [
        {
          "output_type": "stream",
          "name": "stdout",
          "text": [
            "Looking in indexes: https://pypi.org/simple, https://us-python.pkg.dev/colab-wheels/public/simple/\n",
            "Requirement already satisfied: gdown in /usr/local/lib/python3.8/dist-packages (4.4.0)\n",
            "Requirement already satisfied: six in /usr/local/lib/python3.8/dist-packages (from gdown) (1.15.0)\n",
            "Requirement already satisfied: requests[socks] in /usr/local/lib/python3.8/dist-packages (from gdown) (2.25.1)\n",
            "Requirement already satisfied: beautifulsoup4 in /usr/local/lib/python3.8/dist-packages (from gdown) (4.6.3)\n",
            "Requirement already satisfied: filelock in /usr/local/lib/python3.8/dist-packages (from gdown) (3.9.0)\n",
            "Requirement already satisfied: tqdm in /usr/local/lib/python3.8/dist-packages (from gdown) (4.64.1)\n",
            "Requirement already satisfied: idna<3,>=2.5 in /usr/local/lib/python3.8/dist-packages (from requests[socks]->gdown) (2.10)\n",
            "Requirement already satisfied: urllib3<1.27,>=1.21.1 in /usr/local/lib/python3.8/dist-packages (from requests[socks]->gdown) (1.24.3)\n",
            "Requirement already satisfied: chardet<5,>=3.0.2 in /usr/local/lib/python3.8/dist-packages (from requests[socks]->gdown) (4.0.0)\n",
            "Requirement already satisfied: certifi>=2017.4.17 in /usr/local/lib/python3.8/dist-packages (from requests[socks]->gdown) (2022.12.7)\n",
            "Requirement already satisfied: PySocks!=1.5.7,>=1.5.6 in /usr/local/lib/python3.8/dist-packages (from requests[socks]->gdown) (1.7.1)\n"
          ]
        }
      ],
      "source": [
        "pip install gdown\n"
      ],
      "id": "6e6a49f2"
    },
    {
      "cell_type": "code",
      "execution_count": null,
      "metadata": {
        "id": "11bf42c0"
      },
      "outputs": [],
      "source": [
        "import gdown"
      ],
      "id": "11bf42c0"
    },
    {
      "cell_type": "code",
      "execution_count": null,
      "metadata": {
        "colab": {
          "base_uri": "https://localhost:8080/",
          "height": 1000
        },
        "id": "83c65f2c",
        "outputId": "a9164624-732e-48b8-f415-16e49eeb968c"
      },
      "outputs": [
        {
          "output_type": "stream",
          "name": "stdout",
          "text": [
            "Looking in indexes: https://pypi.org/simple, https://us-python.pkg.dev/colab-wheels/public/simple/\n",
            "Collecting datasets\n",
            "  Downloading datasets-2.9.0-py3-none-any.whl (462 kB)\n",
            "\u001b[2K     \u001b[90m━━━━━━━━━━━━━━━━━━━━━━━━━━━━━━━━━━━━━━\u001b[0m \u001b[32m462.8/462.8 KB\u001b[0m \u001b[31m20.6 MB/s\u001b[0m eta \u001b[36m0:00:00\u001b[0m\n",
            "\u001b[?25hCollecting transformers\n",
            "  Downloading transformers-4.26.1-py3-none-any.whl (6.3 MB)\n",
            "\u001b[2K     \u001b[90m━━━━━━━━━━━━━━━━━━━━━━━━━━━━━━━━━━━━━━━━\u001b[0m \u001b[32m6.3/6.3 MB\u001b[0m \u001b[31m47.6 MB/s\u001b[0m eta \u001b[36m0:00:00\u001b[0m\n",
            "\u001b[?25hCollecting seqeval\n",
            "  Downloading seqeval-1.2.2.tar.gz (43 kB)\n",
            "\u001b[2K     \u001b[90m━━━━━━━━━━━━━━━━━━━━━━━━━━━━━━━━━━━━━━━━\u001b[0m \u001b[32m43.6/43.6 KB\u001b[0m \u001b[31m5.2 MB/s\u001b[0m eta \u001b[36m0:00:00\u001b[0m\n",
            "\u001b[?25h  Preparing metadata (setup.py) ... \u001b[?25l\u001b[?25hdone\n",
            "Requirement already satisfied: packaging in /usr/local/lib/python3.8/dist-packages (from datasets) (23.0)\n",
            "Collecting responses<0.19\n",
            "  Downloading responses-0.18.0-py3-none-any.whl (38 kB)\n",
            "Requirement already satisfied: pyyaml>=5.1 in /usr/local/lib/python3.8/dist-packages (from datasets) (6.0)\n",
            "Requirement already satisfied: aiohttp in /usr/local/lib/python3.8/dist-packages (from datasets) (3.8.3)\n",
            "Requirement already satisfied: dill<0.3.7 in /usr/local/lib/python3.8/dist-packages (from datasets) (0.3.6)\n",
            "Collecting multiprocess\n",
            "  Downloading multiprocess-0.70.14-py38-none-any.whl (132 kB)\n",
            "\u001b[2K     \u001b[90m━━━━━━━━━━━━━━━━━━━━━━━━━━━━━━━━━━━━━━\u001b[0m \u001b[32m132.0/132.0 KB\u001b[0m \u001b[31m16.2 MB/s\u001b[0m eta \u001b[36m0:00:00\u001b[0m\n",
            "\u001b[?25hCollecting xxhash\n",
            "  Downloading xxhash-3.2.0-cp38-cp38-manylinux_2_17_x86_64.manylinux2014_x86_64.whl (213 kB)\n",
            "\u001b[2K     \u001b[90m━━━━━━━━━━━━━━━━━━━━━━━━━━━━━━━━━━━━━━\u001b[0m \u001b[32m213.0/213.0 KB\u001b[0m \u001b[31m25.2 MB/s\u001b[0m eta \u001b[36m0:00:00\u001b[0m\n",
            "\u001b[?25hCollecting huggingface-hub<1.0.0,>=0.2.0\n",
            "  Downloading huggingface_hub-0.12.0-py3-none-any.whl (190 kB)\n",
            "\u001b[2K     \u001b[90m━━━━━━━━━━━━━━━━━━━━━━━━━━━━━━━━━━━━━━\u001b[0m \u001b[32m190.3/190.3 KB\u001b[0m \u001b[31m22.6 MB/s\u001b[0m eta \u001b[36m0:00:00\u001b[0m\n",
            "\u001b[?25hRequirement already satisfied: numpy>=1.17 in /usr/local/lib/python3.8/dist-packages (from datasets) (1.21.6)\n",
            "Requirement already satisfied: pyarrow>=6.0.0 in /usr/local/lib/python3.8/dist-packages (from datasets) (9.0.0)\n",
            "Requirement already satisfied: requests>=2.19.0 in /usr/local/lib/python3.8/dist-packages (from datasets) (2.25.1)\n",
            "Requirement already satisfied: pandas in /usr/local/lib/python3.8/dist-packages (from datasets) (1.3.5)\n",
            "Requirement already satisfied: fsspec[http]>=2021.11.1 in /usr/local/lib/python3.8/dist-packages (from datasets) (2023.1.0)\n",
            "Requirement already satisfied: tqdm>=4.62.1 in /usr/local/lib/python3.8/dist-packages (from datasets) (4.64.1)\n",
            "Requirement already satisfied: filelock in /usr/local/lib/python3.8/dist-packages (from transformers) (3.9.0)\n",
            "Requirement already satisfied: regex!=2019.12.17 in /usr/local/lib/python3.8/dist-packages (from transformers) (2022.6.2)\n",
            "Collecting tokenizers!=0.11.3,<0.14,>=0.11.1\n",
            "  Downloading tokenizers-0.13.2-cp38-cp38-manylinux_2_17_x86_64.manylinux2014_x86_64.whl (7.6 MB)\n",
            "\u001b[2K     \u001b[90m━━━━━━━━━━━━━━━━━━━━━━━━━━━━━━━━━━━━━━━━\u001b[0m \u001b[32m7.6/7.6 MB\u001b[0m \u001b[31m60.8 MB/s\u001b[0m eta \u001b[36m0:00:00\u001b[0m\n",
            "\u001b[?25hRequirement already satisfied: scikit-learn>=0.21.3 in /usr/local/lib/python3.8/dist-packages (from seqeval) (1.0.2)\n",
            "Requirement already satisfied: charset-normalizer<3.0,>=2.0 in /usr/local/lib/python3.8/dist-packages (from aiohttp->datasets) (2.1.1)\n",
            "Requirement already satisfied: attrs>=17.3.0 in /usr/local/lib/python3.8/dist-packages (from aiohttp->datasets) (22.2.0)\n",
            "Requirement already satisfied: multidict<7.0,>=4.5 in /usr/local/lib/python3.8/dist-packages (from aiohttp->datasets) (6.0.4)\n",
            "Requirement already satisfied: aiosignal>=1.1.2 in /usr/local/lib/python3.8/dist-packages (from aiohttp->datasets) (1.3.1)\n",
            "Requirement already satisfied: async-timeout<5.0,>=4.0.0a3 in /usr/local/lib/python3.8/dist-packages (from aiohttp->datasets) (4.0.2)\n",
            "Requirement already satisfied: yarl<2.0,>=1.0 in /usr/local/lib/python3.8/dist-packages (from aiohttp->datasets) (1.8.2)\n",
            "Requirement already satisfied: frozenlist>=1.1.1 in /usr/local/lib/python3.8/dist-packages (from aiohttp->datasets) (1.3.3)\n",
            "Requirement already satisfied: typing-extensions>=3.7.4.3 in /usr/local/lib/python3.8/dist-packages (from huggingface-hub<1.0.0,>=0.2.0->datasets) (4.4.0)\n",
            "Requirement already satisfied: certifi>=2017.4.17 in /usr/local/lib/python3.8/dist-packages (from requests>=2.19.0->datasets) (2022.12.7)\n",
            "Requirement already satisfied: idna<3,>=2.5 in /usr/local/lib/python3.8/dist-packages (from requests>=2.19.0->datasets) (2.10)\n",
            "Requirement already satisfied: chardet<5,>=3.0.2 in /usr/local/lib/python3.8/dist-packages (from requests>=2.19.0->datasets) (4.0.0)\n",
            "Requirement already satisfied: urllib3<1.27,>=1.21.1 in /usr/local/lib/python3.8/dist-packages (from requests>=2.19.0->datasets) (1.24.3)\n",
            "Collecting urllib3<1.27,>=1.21.1\n",
            "  Downloading urllib3-1.26.14-py2.py3-none-any.whl (140 kB)\n",
            "\u001b[2K     \u001b[90m━━━━━━━━━━━━━━━━━━━━━━━━━━━━━━━━━━━━━━\u001b[0m \u001b[32m140.6/140.6 KB\u001b[0m \u001b[31m16.2 MB/s\u001b[0m eta \u001b[36m0:00:00\u001b[0m\n",
            "\u001b[?25hRequirement already satisfied: joblib>=0.11 in /usr/local/lib/python3.8/dist-packages (from scikit-learn>=0.21.3->seqeval) (1.2.0)\n",
            "Requirement already satisfied: threadpoolctl>=2.0.0 in /usr/local/lib/python3.8/dist-packages (from scikit-learn>=0.21.3->seqeval) (3.1.0)\n",
            "Requirement already satisfied: scipy>=1.1.0 in /usr/local/lib/python3.8/dist-packages (from scikit-learn>=0.21.3->seqeval) (1.7.3)\n",
            "Requirement already satisfied: pytz>=2017.3 in /usr/local/lib/python3.8/dist-packages (from pandas->datasets) (2022.7.1)\n",
            "Requirement already satisfied: python-dateutil>=2.7.3 in /usr/local/lib/python3.8/dist-packages (from pandas->datasets) (2.8.2)\n",
            "Requirement already satisfied: six>=1.5 in /usr/local/lib/python3.8/dist-packages (from python-dateutil>=2.7.3->pandas->datasets) (1.15.0)\n",
            "Building wheels for collected packages: seqeval\n",
            "  Building wheel for seqeval (setup.py) ... \u001b[?25l\u001b[?25hdone\n",
            "  Created wheel for seqeval: filename=seqeval-1.2.2-py3-none-any.whl size=16179 sha256=f11d433fc46ecf2986b896ed80c505b9ebfd3f8537117a9483dc20ec7b74bf35\n",
            "  Stored in directory: /root/.cache/pip/wheels/ad/5c/ba/05fa33fa5855777b7d686e843ec07452f22a66a138e290e732\n",
            "Successfully built seqeval\n",
            "Installing collected packages: tokenizers, xxhash, urllib3, multiprocess, seqeval, responses, huggingface-hub, transformers, datasets\n",
            "  Attempting uninstall: urllib3\n",
            "    Found existing installation: urllib3 1.24.3\n",
            "    Uninstalling urllib3-1.24.3:\n",
            "      Successfully uninstalled urllib3-1.24.3\n",
            "Successfully installed datasets-2.9.0 huggingface-hub-0.12.0 multiprocess-0.70.14 responses-0.18.0 seqeval-1.2.2 tokenizers-0.13.2 transformers-4.26.1 urllib3-1.26.14 xxhash-3.2.0\n"
          ]
        },
        {
          "output_type": "display_data",
          "data": {
            "application/vnd.colab-display-data+json": {
              "pip_warning": {
                "packages": [
                  "urllib3"
                ]
              }
            }
          },
          "metadata": {}
        }
      ],
      "source": [
        "pip install datasets transformers seqeval"
      ],
      "id": "83c65f2c"
    },
    {
      "cell_type": "code",
      "execution_count": null,
      "metadata": {
        "colab": {
          "base_uri": "https://localhost:8080/"
        },
        "id": "53fba8b0",
        "outputId": "5209472a-8115-4cf7-eaf7-a2c5c2d170e0"
      },
      "outputs": [
        {
          "output_type": "stream",
          "name": "stdout",
          "text": [
            "4.26.1\n"
          ]
        }
      ],
      "source": [
        "import transformers\n",
        "\n",
        "print(transformers.__version__)"
      ],
      "id": "53fba8b0"
    },
    {
      "cell_type": "code",
      "execution_count": null,
      "metadata": {
        "id": "f261d3fc"
      },
      "outputs": [],
      "source": [
        "from transformers import BertTokenizer #TFBertForSequenceClassification\n",
        "#from transformers import InputExample, InputFeatures\n",
        "\n",
        "#model = TFBertForSequenceClassification.from_pretrained(\"bert-base-uncased\")\n",
        "#tokenizer = BertTokenizer.from_pretrained(\"bert-base-uncased\")\n",
        "from transformers import AutoModel, AutoTokenizer"
      ],
      "id": "f261d3fc"
    },
    {
      "cell_type": "code",
      "execution_count": null,
      "metadata": {
        "id": "YjqAQPDsrOrl"
      },
      "outputs": [],
      "source": [
        "import sys"
      ],
      "id": "YjqAQPDsrOrl"
    },
    {
      "cell_type": "code",
      "execution_count": null,
      "metadata": {
        "colab": {
          "base_uri": "https://localhost:8080/"
        },
        "id": "561QmAXgrSDq",
        "outputId": "63e87f10-230f-49f1-f78c-7e0990c5ac47"
      },
      "outputs": [
        {
          "output_type": "stream",
          "name": "stdout",
          "text": [
            "Looking in indexes: https://pypi.org/simple, https://us-python.pkg.dev/colab-wheels/public/simple/\n",
            "Requirement already satisfied: spacy in /usr/local/lib/python3.8/dist-packages (3.4.4)\n",
            "Requirement already satisfied: preshed<3.1.0,>=3.0.2 in /usr/local/lib/python3.8/dist-packages (from spacy) (3.0.8)\n",
            "Requirement already satisfied: wasabi<1.1.0,>=0.9.1 in /usr/local/lib/python3.8/dist-packages (from spacy) (0.10.1)\n",
            "Requirement already satisfied: cymem<2.1.0,>=2.0.2 in /usr/local/lib/python3.8/dist-packages (from spacy) (2.0.7)\n",
            "Requirement already satisfied: smart-open<7.0.0,>=5.2.1 in /usr/local/lib/python3.8/dist-packages (from spacy) (6.3.0)\n",
            "Requirement already satisfied: setuptools in /usr/local/lib/python3.8/dist-packages (from spacy) (57.4.0)\n",
            "Requirement already satisfied: murmurhash<1.1.0,>=0.28.0 in /usr/local/lib/python3.8/dist-packages (from spacy) (1.0.9)\n",
            "Requirement already satisfied: packaging>=20.0 in /usr/local/lib/python3.8/dist-packages (from spacy) (23.0)\n",
            "Requirement already satisfied: srsly<3.0.0,>=2.4.3 in /usr/local/lib/python3.8/dist-packages (from spacy) (2.4.5)\n",
            "Requirement already satisfied: pathy>=0.3.5 in /usr/local/lib/python3.8/dist-packages (from spacy) (0.10.1)\n",
            "Requirement already satisfied: jinja2 in /usr/local/lib/python3.8/dist-packages (from spacy) (2.11.3)\n",
            "Requirement already satisfied: tqdm<5.0.0,>=4.38.0 in /usr/local/lib/python3.8/dist-packages (from spacy) (4.64.1)\n",
            "Requirement already satisfied: pydantic!=1.8,!=1.8.1,<1.11.0,>=1.7.4 in /usr/local/lib/python3.8/dist-packages (from spacy) (1.10.4)\n",
            "Requirement already satisfied: thinc<8.2.0,>=8.1.0 in /usr/local/lib/python3.8/dist-packages (from spacy) (8.1.7)\n",
            "Requirement already satisfied: langcodes<4.0.0,>=3.2.0 in /usr/local/lib/python3.8/dist-packages (from spacy) (3.3.0)\n",
            "Requirement already satisfied: catalogue<2.1.0,>=2.0.6 in /usr/local/lib/python3.8/dist-packages (from spacy) (2.0.8)\n",
            "Requirement already satisfied: spacy-legacy<3.1.0,>=3.0.10 in /usr/local/lib/python3.8/dist-packages (from spacy) (3.0.12)\n",
            "Requirement already satisfied: spacy-loggers<2.0.0,>=1.0.0 in /usr/local/lib/python3.8/dist-packages (from spacy) (1.0.4)\n",
            "Requirement already satisfied: requests<3.0.0,>=2.13.0 in /usr/local/lib/python3.8/dist-packages (from spacy) (2.25.1)\n",
            "Requirement already satisfied: typer<0.8.0,>=0.3.0 in /usr/local/lib/python3.8/dist-packages (from spacy) (0.7.0)\n",
            "Requirement already satisfied: numpy>=1.15.0 in /usr/local/lib/python3.8/dist-packages (from spacy) (1.21.6)\n",
            "Requirement already satisfied: typing-extensions>=4.2.0 in /usr/local/lib/python3.8/dist-packages (from pydantic!=1.8,!=1.8.1,<1.11.0,>=1.7.4->spacy) (4.4.0)\n",
            "Requirement already satisfied: certifi>=2017.4.17 in /usr/local/lib/python3.8/dist-packages (from requests<3.0.0,>=2.13.0->spacy) (2022.12.7)\n",
            "Requirement already satisfied: chardet<5,>=3.0.2 in /usr/local/lib/python3.8/dist-packages (from requests<3.0.0,>=2.13.0->spacy) (4.0.0)\n",
            "Requirement already satisfied: urllib3<1.27,>=1.21.1 in /usr/local/lib/python3.8/dist-packages (from requests<3.0.0,>=2.13.0->spacy) (1.26.14)\n",
            "Requirement already satisfied: idna<3,>=2.5 in /usr/local/lib/python3.8/dist-packages (from requests<3.0.0,>=2.13.0->spacy) (2.10)\n",
            "Requirement already satisfied: blis<0.8.0,>=0.7.8 in /usr/local/lib/python3.8/dist-packages (from thinc<8.2.0,>=8.1.0->spacy) (0.7.9)\n",
            "Requirement already satisfied: confection<1.0.0,>=0.0.1 in /usr/local/lib/python3.8/dist-packages (from thinc<8.2.0,>=8.1.0->spacy) (0.0.4)\n",
            "Requirement already satisfied: click<9.0.0,>=7.1.1 in /usr/local/lib/python3.8/dist-packages (from typer<0.8.0,>=0.3.0->spacy) (7.1.2)\n",
            "Requirement already satisfied: MarkupSafe>=0.23 in /usr/local/lib/python3.8/dist-packages (from jinja2->spacy) (2.0.1)\n"
          ]
        }
      ],
      "source": [
        "pip install spacy"
      ],
      "id": "561QmAXgrSDq"
    },
    {
      "cell_type": "code",
      "execution_count": null,
      "metadata": {
        "id": "lWUZAQEEraz3"
      },
      "outputs": [],
      "source": [
        "import spacy"
      ],
      "id": "lWUZAQEEraz3"
    },
    {
      "cell_type": "markdown",
      "metadata": {
        "id": "ef3fb34d"
      },
      "source": [
        "**Результат** Загрузка всех библиотек"
      ],
      "id": "ef3fb34d"
    },
    {
      "cell_type": "markdown",
      "metadata": {
        "id": "KHYa5If-T8i-"
      },
      "source": [
        "# Загрузка и знакомство с данными "
      ],
      "id": "KHYa5If-T8i-"
    },
    {
      "cell_type": "code",
      "execution_count": null,
      "metadata": {
        "colab": {
          "base_uri": "https://localhost:8080/",
          "height": 73
        },
        "id": "kaGDDpkia-cC",
        "outputId": "1dbaa5e0-8e71-486c-a380-d4dfa2ed5a1e"
      },
      "outputs": [
        {
          "output_type": "display_data",
          "data": {
            "text/plain": [
              "<IPython.core.display.HTML object>"
            ],
            "text/html": [
              "\n",
              "     <input type=\"file\" id=\"files-351887f7-985a-4b83-ac2a-9240fb76cb27\" name=\"files[]\" multiple disabled\n",
              "        style=\"border:none\" />\n",
              "     <output id=\"result-351887f7-985a-4b83-ac2a-9240fb76cb27\">\n",
              "      Upload widget is only available when the cell has been executed in the\n",
              "      current browser session. Please rerun this cell to enable.\n",
              "      </output>\n",
              "      <script>// Copyright 2017 Google LLC\n",
              "//\n",
              "// Licensed under the Apache License, Version 2.0 (the \"License\");\n",
              "// you may not use this file except in compliance with the License.\n",
              "// You may obtain a copy of the License at\n",
              "//\n",
              "//      http://www.apache.org/licenses/LICENSE-2.0\n",
              "//\n",
              "// Unless required by applicable law or agreed to in writing, software\n",
              "// distributed under the License is distributed on an \"AS IS\" BASIS,\n",
              "// WITHOUT WARRANTIES OR CONDITIONS OF ANY KIND, either express or implied.\n",
              "// See the License for the specific language governing permissions and\n",
              "// limitations under the License.\n",
              "\n",
              "/**\n",
              " * @fileoverview Helpers for google.colab Python module.\n",
              " */\n",
              "(function(scope) {\n",
              "function span(text, styleAttributes = {}) {\n",
              "  const element = document.createElement('span');\n",
              "  element.textContent = text;\n",
              "  for (const key of Object.keys(styleAttributes)) {\n",
              "    element.style[key] = styleAttributes[key];\n",
              "  }\n",
              "  return element;\n",
              "}\n",
              "\n",
              "// Max number of bytes which will be uploaded at a time.\n",
              "const MAX_PAYLOAD_SIZE = 100 * 1024;\n",
              "\n",
              "function _uploadFiles(inputId, outputId) {\n",
              "  const steps = uploadFilesStep(inputId, outputId);\n",
              "  const outputElement = document.getElementById(outputId);\n",
              "  // Cache steps on the outputElement to make it available for the next call\n",
              "  // to uploadFilesContinue from Python.\n",
              "  outputElement.steps = steps;\n",
              "\n",
              "  return _uploadFilesContinue(outputId);\n",
              "}\n",
              "\n",
              "// This is roughly an async generator (not supported in the browser yet),\n",
              "// where there are multiple asynchronous steps and the Python side is going\n",
              "// to poll for completion of each step.\n",
              "// This uses a Promise to block the python side on completion of each step,\n",
              "// then passes the result of the previous step as the input to the next step.\n",
              "function _uploadFilesContinue(outputId) {\n",
              "  const outputElement = document.getElementById(outputId);\n",
              "  const steps = outputElement.steps;\n",
              "\n",
              "  const next = steps.next(outputElement.lastPromiseValue);\n",
              "  return Promise.resolve(next.value.promise).then((value) => {\n",
              "    // Cache the last promise value to make it available to the next\n",
              "    // step of the generator.\n",
              "    outputElement.lastPromiseValue = value;\n",
              "    return next.value.response;\n",
              "  });\n",
              "}\n",
              "\n",
              "/**\n",
              " * Generator function which is called between each async step of the upload\n",
              " * process.\n",
              " * @param {string} inputId Element ID of the input file picker element.\n",
              " * @param {string} outputId Element ID of the output display.\n",
              " * @return {!Iterable<!Object>} Iterable of next steps.\n",
              " */\n",
              "function* uploadFilesStep(inputId, outputId) {\n",
              "  const inputElement = document.getElementById(inputId);\n",
              "  inputElement.disabled = false;\n",
              "\n",
              "  const outputElement = document.getElementById(outputId);\n",
              "  outputElement.innerHTML = '';\n",
              "\n",
              "  const pickedPromise = new Promise((resolve) => {\n",
              "    inputElement.addEventListener('change', (e) => {\n",
              "      resolve(e.target.files);\n",
              "    });\n",
              "  });\n",
              "\n",
              "  const cancel = document.createElement('button');\n",
              "  inputElement.parentElement.appendChild(cancel);\n",
              "  cancel.textContent = 'Cancel upload';\n",
              "  const cancelPromise = new Promise((resolve) => {\n",
              "    cancel.onclick = () => {\n",
              "      resolve(null);\n",
              "    };\n",
              "  });\n",
              "\n",
              "  // Wait for the user to pick the files.\n",
              "  const files = yield {\n",
              "    promise: Promise.race([pickedPromise, cancelPromise]),\n",
              "    response: {\n",
              "      action: 'starting',\n",
              "    }\n",
              "  };\n",
              "\n",
              "  cancel.remove();\n",
              "\n",
              "  // Disable the input element since further picks are not allowed.\n",
              "  inputElement.disabled = true;\n",
              "\n",
              "  if (!files) {\n",
              "    return {\n",
              "      response: {\n",
              "        action: 'complete',\n",
              "      }\n",
              "    };\n",
              "  }\n",
              "\n",
              "  for (const file of files) {\n",
              "    const li = document.createElement('li');\n",
              "    li.append(span(file.name, {fontWeight: 'bold'}));\n",
              "    li.append(span(\n",
              "        `(${file.type || 'n/a'}) - ${file.size} bytes, ` +\n",
              "        `last modified: ${\n",
              "            file.lastModifiedDate ? file.lastModifiedDate.toLocaleDateString() :\n",
              "                                    'n/a'} - `));\n",
              "    const percent = span('0% done');\n",
              "    li.appendChild(percent);\n",
              "\n",
              "    outputElement.appendChild(li);\n",
              "\n",
              "    const fileDataPromise = new Promise((resolve) => {\n",
              "      const reader = new FileReader();\n",
              "      reader.onload = (e) => {\n",
              "        resolve(e.target.result);\n",
              "      };\n",
              "      reader.readAsArrayBuffer(file);\n",
              "    });\n",
              "    // Wait for the data to be ready.\n",
              "    let fileData = yield {\n",
              "      promise: fileDataPromise,\n",
              "      response: {\n",
              "        action: 'continue',\n",
              "      }\n",
              "    };\n",
              "\n",
              "    // Use a chunked sending to avoid message size limits. See b/62115660.\n",
              "    let position = 0;\n",
              "    do {\n",
              "      const length = Math.min(fileData.byteLength - position, MAX_PAYLOAD_SIZE);\n",
              "      const chunk = new Uint8Array(fileData, position, length);\n",
              "      position += length;\n",
              "\n",
              "      const base64 = btoa(String.fromCharCode.apply(null, chunk));\n",
              "      yield {\n",
              "        response: {\n",
              "          action: 'append',\n",
              "          file: file.name,\n",
              "          data: base64,\n",
              "        },\n",
              "      };\n",
              "\n",
              "      let percentDone = fileData.byteLength === 0 ?\n",
              "          100 :\n",
              "          Math.round((position / fileData.byteLength) * 100);\n",
              "      percent.textContent = `${percentDone}% done`;\n",
              "\n",
              "    } while (position < fileData.byteLength);\n",
              "  }\n",
              "\n",
              "  // All done.\n",
              "  yield {\n",
              "    response: {\n",
              "      action: 'complete',\n",
              "    }\n",
              "  };\n",
              "}\n",
              "\n",
              "scope.google = scope.google || {};\n",
              "scope.google.colab = scope.google.colab || {};\n",
              "scope.google.colab._files = {\n",
              "  _uploadFiles,\n",
              "  _uploadFilesContinue,\n",
              "};\n",
              "})(self);\n",
              "</script> "
            ]
          },
          "metadata": {}
        },
        {
          "output_type": "stream",
          "name": "stdout",
          "text": [
            "Saving toxic_comments.csv to toxic_comments.csv\n"
          ]
        }
      ],
      "source": [
        "uploaded = files.upload()"
      ],
      "id": "kaGDDpkia-cC"
    },
    {
      "cell_type": "code",
      "execution_count": null,
      "metadata": {
        "colab": {
          "base_uri": "https://localhost:8080/",
          "height": 586
        },
        "id": "a8d019b6",
        "outputId": "78b7d94e-9a01-4e75-a749-0d848ed36e7e"
      },
      "outputs": [
        {
          "output_type": "display_data",
          "data": {
            "text/plain": [
              "                                                text  toxic\n",
              "0  Explanation\\nWhy the edits made under my usern...      0\n",
              "1  D'aww! He matches this background colour I'm s...      0\n",
              "2  Hey man, I'm really not trying to edit war. It...      0\n",
              "3  \"\\nMore\\nI can't make any real suggestions on ...      0\n",
              "4  You, sir, are my hero. Any chance you remember...      0"
            ],
            "text/html": [
              "\n",
              "  <div id=\"df-d8814f71-72c7-4be2-8bd7-9fab6f4814b8\">\n",
              "    <div class=\"colab-df-container\">\n",
              "      <div>\n",
              "<style scoped>\n",
              "    .dataframe tbody tr th:only-of-type {\n",
              "        vertical-align: middle;\n",
              "    }\n",
              "\n",
              "    .dataframe tbody tr th {\n",
              "        vertical-align: top;\n",
              "    }\n",
              "\n",
              "    .dataframe thead th {\n",
              "        text-align: right;\n",
              "    }\n",
              "</style>\n",
              "<table border=\"1\" class=\"dataframe\">\n",
              "  <thead>\n",
              "    <tr style=\"text-align: right;\">\n",
              "      <th></th>\n",
              "      <th>text</th>\n",
              "      <th>toxic</th>\n",
              "    </tr>\n",
              "  </thead>\n",
              "  <tbody>\n",
              "    <tr>\n",
              "      <th>0</th>\n",
              "      <td>Explanation\\nWhy the edits made under my usern...</td>\n",
              "      <td>0</td>\n",
              "    </tr>\n",
              "    <tr>\n",
              "      <th>1</th>\n",
              "      <td>D'aww! He matches this background colour I'm s...</td>\n",
              "      <td>0</td>\n",
              "    </tr>\n",
              "    <tr>\n",
              "      <th>2</th>\n",
              "      <td>Hey man, I'm really not trying to edit war. It...</td>\n",
              "      <td>0</td>\n",
              "    </tr>\n",
              "    <tr>\n",
              "      <th>3</th>\n",
              "      <td>\"\\nMore\\nI can't make any real suggestions on ...</td>\n",
              "      <td>0</td>\n",
              "    </tr>\n",
              "    <tr>\n",
              "      <th>4</th>\n",
              "      <td>You, sir, are my hero. Any chance you remember...</td>\n",
              "      <td>0</td>\n",
              "    </tr>\n",
              "  </tbody>\n",
              "</table>\n",
              "</div>\n",
              "      <button class=\"colab-df-convert\" onclick=\"convertToInteractive('df-d8814f71-72c7-4be2-8bd7-9fab6f4814b8')\"\n",
              "              title=\"Convert this dataframe to an interactive table.\"\n",
              "              style=\"display:none;\">\n",
              "        \n",
              "  <svg xmlns=\"http://www.w3.org/2000/svg\" height=\"24px\"viewBox=\"0 0 24 24\"\n",
              "       width=\"24px\">\n",
              "    <path d=\"M0 0h24v24H0V0z\" fill=\"none\"/>\n",
              "    <path d=\"M18.56 5.44l.94 2.06.94-2.06 2.06-.94-2.06-.94-.94-2.06-.94 2.06-2.06.94zm-11 1L8.5 8.5l.94-2.06 2.06-.94-2.06-.94L8.5 2.5l-.94 2.06-2.06.94zm10 10l.94 2.06.94-2.06 2.06-.94-2.06-.94-.94-2.06-.94 2.06-2.06.94z\"/><path d=\"M17.41 7.96l-1.37-1.37c-.4-.4-.92-.59-1.43-.59-.52 0-1.04.2-1.43.59L10.3 9.45l-7.72 7.72c-.78.78-.78 2.05 0 2.83L4 21.41c.39.39.9.59 1.41.59.51 0 1.02-.2 1.41-.59l7.78-7.78 2.81-2.81c.8-.78.8-2.07 0-2.86zM5.41 20L4 18.59l7.72-7.72 1.47 1.35L5.41 20z\"/>\n",
              "  </svg>\n",
              "      </button>\n",
              "      \n",
              "  <style>\n",
              "    .colab-df-container {\n",
              "      display:flex;\n",
              "      flex-wrap:wrap;\n",
              "      gap: 12px;\n",
              "    }\n",
              "\n",
              "    .colab-df-convert {\n",
              "      background-color: #E8F0FE;\n",
              "      border: none;\n",
              "      border-radius: 50%;\n",
              "      cursor: pointer;\n",
              "      display: none;\n",
              "      fill: #1967D2;\n",
              "      height: 32px;\n",
              "      padding: 0 0 0 0;\n",
              "      width: 32px;\n",
              "    }\n",
              "\n",
              "    .colab-df-convert:hover {\n",
              "      background-color: #E2EBFA;\n",
              "      box-shadow: 0px 1px 2px rgba(60, 64, 67, 0.3), 0px 1px 3px 1px rgba(60, 64, 67, 0.15);\n",
              "      fill: #174EA6;\n",
              "    }\n",
              "\n",
              "    [theme=dark] .colab-df-convert {\n",
              "      background-color: #3B4455;\n",
              "      fill: #D2E3FC;\n",
              "    }\n",
              "\n",
              "    [theme=dark] .colab-df-convert:hover {\n",
              "      background-color: #434B5C;\n",
              "      box-shadow: 0px 1px 3px 1px rgba(0, 0, 0, 0.15);\n",
              "      filter: drop-shadow(0px 1px 2px rgba(0, 0, 0, 0.3));\n",
              "      fill: #FFFFFF;\n",
              "    }\n",
              "  </style>\n",
              "\n",
              "      <script>\n",
              "        const buttonEl =\n",
              "          document.querySelector('#df-d8814f71-72c7-4be2-8bd7-9fab6f4814b8 button.colab-df-convert');\n",
              "        buttonEl.style.display =\n",
              "          google.colab.kernel.accessAllowed ? 'block' : 'none';\n",
              "\n",
              "        async function convertToInteractive(key) {\n",
              "          const element = document.querySelector('#df-d8814f71-72c7-4be2-8bd7-9fab6f4814b8');\n",
              "          const dataTable =\n",
              "            await google.colab.kernel.invokeFunction('convertToInteractive',\n",
              "                                                     [key], {});\n",
              "          if (!dataTable) return;\n",
              "\n",
              "          const docLinkHtml = 'Like what you see? Visit the ' +\n",
              "            '<a target=\"_blank\" href=https://colab.research.google.com/notebooks/data_table.ipynb>data table notebook</a>'\n",
              "            + ' to learn more about interactive tables.';\n",
              "          element.innerHTML = '';\n",
              "          dataTable['output_type'] = 'display_data';\n",
              "          await google.colab.output.renderOutput(dataTable, element);\n",
              "          const docLink = document.createElement('div');\n",
              "          docLink.innerHTML = docLinkHtml;\n",
              "          element.appendChild(docLink);\n",
              "        }\n",
              "      </script>\n",
              "    </div>\n",
              "  </div>\n",
              "  "
            ]
          },
          "metadata": {}
        },
        {
          "output_type": "stream",
          "name": "stdout",
          "text": [
            "<class 'pandas.core.frame.DataFrame'>\n",
            "Int64Index: 159292 entries, 0 to 159450\n",
            "Data columns (total 2 columns):\n",
            " #   Column  Non-Null Count   Dtype \n",
            "---  ------  --------------   ----- \n",
            " 0   text    159292 non-null  object\n",
            " 1   toxic   159292 non-null  int64 \n",
            "dtypes: int64(1), object(1)\n",
            "memory usage: 3.6+ MB\n",
            "None\n",
            "0\n"
          ]
        },
        {
          "output_type": "display_data",
          "data": {
            "text/plain": [
              "                                                     text  toxic\n",
              "132673  REDIRECT Talk:Kateri(Katary) hydro-electric sy...      0\n",
              "68698   \"\\nThere was no consensus there that BLP appli...      0\n",
              "5843    I will be writing an e-mail regardless with al...      1\n",
              "94154   Discography \\n\\nShouldn't there be a section o...      1\n",
              "125817               FAGGGGG\\nYOU ARE A HUUUUUUUGE FAGGOT      1"
            ],
            "text/html": [
              "\n",
              "  <div id=\"df-1572c539-7ec4-44c4-82c2-eda60dee1d95\">\n",
              "    <div class=\"colab-df-container\">\n",
              "      <div>\n",
              "<style scoped>\n",
              "    .dataframe tbody tr th:only-of-type {\n",
              "        vertical-align: middle;\n",
              "    }\n",
              "\n",
              "    .dataframe tbody tr th {\n",
              "        vertical-align: top;\n",
              "    }\n",
              "\n",
              "    .dataframe thead th {\n",
              "        text-align: right;\n",
              "    }\n",
              "</style>\n",
              "<table border=\"1\" class=\"dataframe\">\n",
              "  <thead>\n",
              "    <tr style=\"text-align: right;\">\n",
              "      <th></th>\n",
              "      <th>text</th>\n",
              "      <th>toxic</th>\n",
              "    </tr>\n",
              "  </thead>\n",
              "  <tbody>\n",
              "    <tr>\n",
              "      <th>132673</th>\n",
              "      <td>REDIRECT Talk:Kateri(Katary) hydro-electric sy...</td>\n",
              "      <td>0</td>\n",
              "    </tr>\n",
              "    <tr>\n",
              "      <th>68698</th>\n",
              "      <td>\"\\nThere was no consensus there that BLP appli...</td>\n",
              "      <td>0</td>\n",
              "    </tr>\n",
              "    <tr>\n",
              "      <th>5843</th>\n",
              "      <td>I will be writing an e-mail regardless with al...</td>\n",
              "      <td>1</td>\n",
              "    </tr>\n",
              "    <tr>\n",
              "      <th>94154</th>\n",
              "      <td>Discography \\n\\nShouldn't there be a section o...</td>\n",
              "      <td>1</td>\n",
              "    </tr>\n",
              "    <tr>\n",
              "      <th>125817</th>\n",
              "      <td>FAGGGGG\\nYOU ARE A HUUUUUUUGE FAGGOT</td>\n",
              "      <td>1</td>\n",
              "    </tr>\n",
              "  </tbody>\n",
              "</table>\n",
              "</div>\n",
              "      <button class=\"colab-df-convert\" onclick=\"convertToInteractive('df-1572c539-7ec4-44c4-82c2-eda60dee1d95')\"\n",
              "              title=\"Convert this dataframe to an interactive table.\"\n",
              "              style=\"display:none;\">\n",
              "        \n",
              "  <svg xmlns=\"http://www.w3.org/2000/svg\" height=\"24px\"viewBox=\"0 0 24 24\"\n",
              "       width=\"24px\">\n",
              "    <path d=\"M0 0h24v24H0V0z\" fill=\"none\"/>\n",
              "    <path d=\"M18.56 5.44l.94 2.06.94-2.06 2.06-.94-2.06-.94-.94-2.06-.94 2.06-2.06.94zm-11 1L8.5 8.5l.94-2.06 2.06-.94-2.06-.94L8.5 2.5l-.94 2.06-2.06.94zm10 10l.94 2.06.94-2.06 2.06-.94-2.06-.94-.94-2.06-.94 2.06-2.06.94z\"/><path d=\"M17.41 7.96l-1.37-1.37c-.4-.4-.92-.59-1.43-.59-.52 0-1.04.2-1.43.59L10.3 9.45l-7.72 7.72c-.78.78-.78 2.05 0 2.83L4 21.41c.39.39.9.59 1.41.59.51 0 1.02-.2 1.41-.59l7.78-7.78 2.81-2.81c.8-.78.8-2.07 0-2.86zM5.41 20L4 18.59l7.72-7.72 1.47 1.35L5.41 20z\"/>\n",
              "  </svg>\n",
              "      </button>\n",
              "      \n",
              "  <style>\n",
              "    .colab-df-container {\n",
              "      display:flex;\n",
              "      flex-wrap:wrap;\n",
              "      gap: 12px;\n",
              "    }\n",
              "\n",
              "    .colab-df-convert {\n",
              "      background-color: #E8F0FE;\n",
              "      border: none;\n",
              "      border-radius: 50%;\n",
              "      cursor: pointer;\n",
              "      display: none;\n",
              "      fill: #1967D2;\n",
              "      height: 32px;\n",
              "      padding: 0 0 0 0;\n",
              "      width: 32px;\n",
              "    }\n",
              "\n",
              "    .colab-df-convert:hover {\n",
              "      background-color: #E2EBFA;\n",
              "      box-shadow: 0px 1px 2px rgba(60, 64, 67, 0.3), 0px 1px 3px 1px rgba(60, 64, 67, 0.15);\n",
              "      fill: #174EA6;\n",
              "    }\n",
              "\n",
              "    [theme=dark] .colab-df-convert {\n",
              "      background-color: #3B4455;\n",
              "      fill: #D2E3FC;\n",
              "    }\n",
              "\n",
              "    [theme=dark] .colab-df-convert:hover {\n",
              "      background-color: #434B5C;\n",
              "      box-shadow: 0px 1px 3px 1px rgba(0, 0, 0, 0.15);\n",
              "      filter: drop-shadow(0px 1px 2px rgba(0, 0, 0, 0.3));\n",
              "      fill: #FFFFFF;\n",
              "    }\n",
              "  </style>\n",
              "\n",
              "      <script>\n",
              "        const buttonEl =\n",
              "          document.querySelector('#df-1572c539-7ec4-44c4-82c2-eda60dee1d95 button.colab-df-convert');\n",
              "        buttonEl.style.display =\n",
              "          google.colab.kernel.accessAllowed ? 'block' : 'none';\n",
              "\n",
              "        async function convertToInteractive(key) {\n",
              "          const element = document.querySelector('#df-1572c539-7ec4-44c4-82c2-eda60dee1d95');\n",
              "          const dataTable =\n",
              "            await google.colab.kernel.invokeFunction('convertToInteractive',\n",
              "                                                     [key], {});\n",
              "          if (!dataTable) return;\n",
              "\n",
              "          const docLinkHtml = 'Like what you see? Visit the ' +\n",
              "            '<a target=\"_blank\" href=https://colab.research.google.com/notebooks/data_table.ipynb>data table notebook</a>'\n",
              "            + ' to learn more about interactive tables.';\n",
              "          element.innerHTML = '';\n",
              "          dataTable['output_type'] = 'display_data';\n",
              "          await google.colab.output.renderOutput(dataTable, element);\n",
              "          const docLink = document.createElement('div');\n",
              "          docLink.innerHTML = docLinkHtml;\n",
              "          element.appendChild(docLink);\n",
              "        }\n",
              "      </script>\n",
              "    </div>\n",
              "  </div>\n",
              "  "
            ]
          },
          "metadata": {}
        }
      ],
      "source": [
        "df = pd.read_csv('toxic_comments.csv', index_col=0)\n",
        "data = df.copy()\n",
        "display (data.head(5))\n",
        "print (data.info())\n",
        "print (data.duplicated().sum())\n",
        "display (data.sample(5))"
      ],
      "id": "a8d019b6"
    },
    {
      "cell_type": "code",
      "execution_count": null,
      "metadata": {
        "colab": {
          "base_uri": "https://localhost:8080/",
          "height": 295
        },
        "id": "cbf300c6",
        "outputId": "d6c6b358-1890-4824-a38e-2d0e99e959b4"
      },
      "outputs": [
        {
          "output_type": "display_data",
          "data": {
            "text/plain": [
              "<Figure size 432x288 with 1 Axes>"
            ],
            "image/png": "[encoded data removed]"
          },
          "metadata": {
            "needs_background": "light"
          }
        }
      ],
      "source": [
        "\n",
        "data['toxic'].hist()\n",
        "\n",
        "plt.xlabel(\"категория \")\n",
        "plt.ylabel(\"количество в датасете\")\n",
        "plt.title(\"соотношение признаков в таргете\")\n",
        "plt.show()\n"
      ],
      "id": "cbf300c6"
    },
    {
      "cell_type": "markdown",
      "metadata": {
        "id": "b5aaee8b"
      },
      "source": [
        "**Результат** видно, что в выборке существенно преобладает ответ \"0\" - сбалансированности классов в таргете нет"
      ],
      "id": "b5aaee8b"
    },
    {
      "cell_type": "markdown",
      "metadata": {
        "id": "XuXcDHG7UMSH"
      },
      "source": [
        "# Работа с данными в BERT"
      ],
      "id": "XuXcDHG7UMSH"
    },
    {
      "cell_type": "code",
      "execution_count": null,
      "metadata": {
        "colab": {
          "base_uri": "https://localhost:8080/",
          "height": 249,
          "referenced_widgets": [
            "521a66fe2c514360af32afe9e64b7e4e",
            "cb1d015d5f144c04963cac51c74fbbef",
            "ef5973e3a0dc4d6190bf60461129a04f",
            "98711f85f62a4643a3702d59c3a0abaf",
            "317568dd7761463baa1ce2a39e3d51ad",
            "a728a786a6e64608bf07f08a16d33cac",
            "5439a8a6df094f33820edf8220d90aae",
            "c753f174d1874970a82c95e96573e16e",
            "2e38273042ba43188f379400bba39b78",
            "da2524e83d1649ca97242f3762a8e296",
            "2199b5ad1648459aad9923e28734edee",
            "bf672f9d9bdc498393e436149e6b9409",
            "e704b4db96af4f238acfac523887079e",
            "abe09e30298b4d418c1f073cf462b125",
            "7156027e2af0463d9475d224ee8e3148",
            "e00eeafa6359435fbcab81b912394191",
            "a7d834e842ad4f16afc9458763012e6c",
            "6a9060c30dd7408581e969b062fe0d03",
            "d1eec3f320904da8b1a545f5d3b94c5b",
            "5a8882cd13ca484ab050102ee6d715a5",
            "3e85597c16af48de9ae0ec3fc48c5cc5",
            "2f624acc5b8d40a39e5dbf992a4019a1",
            "e4c5fbd6f87a43b0a07b7a70922df39f",
            "0c6fe39b9dde4e528ba47731c68a1fe0",
            "86f8cbf9d1564a999f4fc5c59e8cc35a",
            "10a7ac23148c4cf7b6fedba71082b422",
            "88846292ca5c4a99a58fddde2a98cafa",
            "56666e58023948bb82f14b6d2587ac52",
            "d6767c4268b3464dbc9097d671d16a5a",
            "6f51c65655094be4918f40e822740b5e",
            "0bb1e04eb69a43eca48c5133a708850e",
            "6c4d304c15274df484d66935eb4af752",
            "e9b846c454b340e0864e15f2167713f5",
            "b931f19986a448308da3d32a13e20b7e",
            "ef33d3fbf43b41f583ff0a32db4a6ee8",
            "6089a05f65004e89a93f7bf2544b81c4",
            "26d3f03957bf4b209f55e82b89e203ef",
            "2fe31d2bb80c49d7a385d14acc7f79b9",
            "0196f8d0b6784f918763a50c541dd57d",
            "14e3324928b147eb886b05a83d2d03dc",
            "bf9e0b825dfd433fadd36fa5efc51806",
            "4be4a4148c2744009c907a0ba941bf2d",
            "89849455eaa84cffbfb231d6095298dd",
            "861c6c475f0343208562062e3030e804",
            "70e0792a37d048b0ae86a199a7f63428",
            "f594fbbc2dfa42e383386714d39ab743",
            "fbf7e336238e494e8f2fa7f4722fa975",
            "2f4f308c071340dca947a3192df0e26e",
            "bb9f519be45f44cc9d19668ff6e6915b",
            "f47a9bdb1bc84dd4b163c647582c0792",
            "a702501444d74ba18c5ec1e4ba25768a",
            "7f8958585e50420d86a14e82be29d087",
            "b631ff09652a4e029ed225097392ebd8",
            "b529d9608819447199fd32d73388538d",
            "3dd46fc67d504a1ebe80a6a78af98457"
          ]
        },
        "id": "etDQoeU8CA46",
        "outputId": "f9dbc223-0900-4811-a825-c72da8fb36c7"
      },
      "outputs": [
        {
          "data": {
            "application/vnd.jupyter.widget-view+json": {
              "model_id": "521a66fe2c514360af32afe9e64b7e4e",
              "version_major": 2,
              "version_minor": 0
            },
            "text/plain": [
              "Downloading (…)lve/main/config.json:   0%|          | 0.00/811 [00:00<?, ?B/s]"
            ]
          },
          "metadata": {},
          "output_type": "display_data"
        },
        {
          "data": {
            "application/vnd.jupyter.widget-view+json": {
              "model_id": "bf672f9d9bdc498393e436149e6b9409",
              "version_major": 2,
              "version_minor": 0
            },
            "text/plain": [
              "Downloading (…)\"pytorch_model.bin\";:   0%|          | 0.00/438M [00:00<?, ?B/s]"
            ]
          },
          "metadata": {},
          "output_type": "display_data"
        },
        {
          "name": "stderr",
          "output_type": "stream",
          "text": [
            "Some weights of the model checkpoint at unitary/toxic-bert were not used when initializing BertModel: ['classifier.bias', 'classifier.weight']\n",
            "- This IS expected if you are initializing BertModel from the checkpoint of a model trained on another task or with another architecture (e.g. initializing a BertForSequenceClassification model from a BertForPreTraining model).\n",
            "- This IS NOT expected if you are initializing BertModel from the checkpoint of a model that you expect to be exactly identical (initializing a BertForSequenceClassification model from a BertForSequenceClassification model).\n"
          ]
        },
        {
          "data": {
            "application/vnd.jupyter.widget-view+json": {
              "model_id": "e4c5fbd6f87a43b0a07b7a70922df39f",
              "version_major": 2,
              "version_minor": 0
            },
            "text/plain": [
              "Downloading (…)okenizer_config.json:   0%|          | 0.00/174 [00:00<?, ?B/s]"
            ]
          },
          "metadata": {},
          "output_type": "display_data"
        },
        {
          "data": {
            "application/vnd.jupyter.widget-view+json": {
              "model_id": "b931f19986a448308da3d32a13e20b7e",
              "version_major": 2,
              "version_minor": 0
            },
            "text/plain": [
              "Downloading (…)solve/main/vocab.txt:   0%|          | 0.00/232k [00:00<?, ?B/s]"
            ]
          },
          "metadata": {},
          "output_type": "display_data"
        },
        {
          "data": {
            "application/vnd.jupyter.widget-view+json": {
              "model_id": "70e0792a37d048b0ae86a199a7f63428",
              "version_major": 2,
              "version_minor": 0
            },
            "text/plain": [
              "Downloading (…)cial_tokens_map.json:   0%|          | 0.00/112 [00:00<?, ?B/s]"
            ]
          },
          "metadata": {},
          "output_type": "display_data"
        }
      ],
      "source": [
        "model_name = \"unitary/toxic-bert\" # модель BERT обученная на токсичных текстах, f1~0.95\n",
        "\n",
        "model = AutoModel.from_pretrained(model_name)\n",
        "tokenizer = AutoTokenizer.from_pretrained(model_name)"
      ],
      "id": "etDQoeU8CA46"
    },
    {
      "cell_type": "code",
      "execution_count": null,
      "metadata": {
        "id": "c7W9zWqzCPfH"
      },
      "outputs": [],
      "source": [
        "#data.drop(columns=['Unnamed: 0'], inplace=True)\n",
        "data = data[:159200] # Небольшой костыль!"
      ],
      "id": "c7W9zWqzCPfH"
    },
    {
      "cell_type": "code",
      "execution_count": null,
      "metadata": {
        "id": "bQ3R-BqCC1r-"
      },
      "outputs": [],
      "source": [],
      "id": "bQ3R-BqCC1r-"
    },
    {
      "cell_type": "code",
      "execution_count": null,
      "metadata": {
        "id": "99b22499"
      },
      "outputs": [],
      "source": [
        "#tokenizer = AutoTokenizer.from_pretrained(\"dbmdz/bert-large-cased-finetuned-conll03-english\")\n",
        "#tokenizer = BertTokenizer.from_pretrained('bert-base-uncased')"
      ],
      "id": "99b22499"
    },
    {
      "cell_type": "code",
      "execution_count": null,
      "metadata": {
        "id": "cf7d62f1-7d4f-4b01-b22f-9da81e21dcf5"
      },
      "outputs": [],
      "source": [
        "#device = torch.device(\"cuda:0\") if torch.cuda.is_available() else torch.device(\"cpu\")"
      ],
      "id": "cf7d62f1-7d4f-4b01-b22f-9da81e21dcf5"
    },
    {
      "cell_type": "code",
      "execution_count": null,
      "metadata": {
        "id": "d03d92b7"
      },
      "outputs": [],
      "source": [
        "data1 = data.sample(4500).reset_index(drop=True)"
      ],
      "id": "d03d92b7"
    },
    {
      "cell_type": "code",
      "execution_count": null,
      "metadata": {
        "id": "Rh2EAPZvPTLg"
      },
      "outputs": [],
      "source": [
        "#data = data.sample(3000).reset_index(drop=True)"
      ],
      "id": "Rh2EAPZvPTLg"
    },
    {
      "cell_type": "markdown",
      "metadata": {
        "id": "Rw8ctyP3FRQy"
      },
      "source": [
        "**Результат** датасет был слишком большой для работы при имеющихся мощностях, создана выборка из 4500 строк и сохранена как новая переменная. "
      ],
      "id": "Rw8ctyP3FRQy"
    },
    {
      "cell_type": "code",
      "execution_count": null,
      "metadata": {
        "colab": {
          "base_uri": "https://localhost:8080/"
        },
        "id": "KqWDPvyqOxPd",
        "outputId": "65b33aac-a9b7-49ca-cfba-d0aa6947bce9"
      },
      "outputs": [
        {
          "name": "stdout",
          "output_type": "stream",
          "text": [
            "(4500,)\n"
          ]
        }
      ],
      "source": [
        "\n",
        "target = data1['toxic']\n",
        "print(target.shape)"
      ],
      "id": "KqWDPvyqOxPd"
    },
    {
      "cell_type": "code",
      "execution_count": null,
      "metadata": {
        "id": "e7ce110b"
      },
      "outputs": [],
      "source": [
        "tokenized = data1['text'].apply(\n",
        "    lambda x: tokenizer.encode(x, add_special_tokens=True, max_length=512, truncation=True))\n",
        "\n",
        "max_len = 0\n",
        "for i in tokenized.values:\n",
        "    if len(i) > max_len:\n",
        "        max_len = len(i)\n",
        "\n",
        "padded = np.array([i + [0]*(max_len - len(i)) for i in tokenized.values])\n",
        "\n",
        "attention_mask = np.where(padded != 0, 1, 0)"
      ],
      "id": "e7ce110b"
    },
    {
      "cell_type": "markdown",
      "metadata": {
        "id": "bf5d906e-75fd-460e-a755-037aec9a1919"
      },
      "source": [
        "**Результат** разделено на токены "
      ],
      "id": "bf5d906e-75fd-460e-a755-037aec9a1919"
    },
    {
      "cell_type": "code",
      "execution_count": null,
      "metadata": {
        "id": "e66af9f8"
      },
      "outputs": [],
      "source": [
        "# Initializing a BERT bert-base-uncased style configuration\n",
        "#configuration = BertConfig()\n",
        "\n",
        "# Initializing a model (with random weights) from the bert-base-uncased style configuration\n",
        "#model = BertModel(configuration)\n",
        "#tokenizer = BertTokenizer.from_pretrained('bert-base-uncased')\n",
        "#config = transformers.BertConfig.from_pretrained('bert-base-uncased')\n",
        "#model = BertForTokenClassification.from_pretrained(\"dbmdz/bert-large-cased-finetuned-conll03-english\")\n",
        "#model = transformers.BertModel.from_pretrained('bert-base-uncased')"
      ],
      "id": "e66af9f8"
    },
    {
      "cell_type": "markdown",
      "metadata": {
        "id": "ToMgj_sZErWU"
      },
      "source": [
        "**Результат** подобрана модель и конфигурация из библиотек  BERT подходящая для данного датасета "
      ],
      "id": "ToMgj_sZErWU"
    },
    {
      "cell_type": "markdown",
      "metadata": {
        "id": "yOEkKa9KQGPS"
      },
      "source": [
        "<div class=\"alert alert-info\">Изменено: заменено на специализированную модель toxic BERT</div>"
      ],
      "id": "yOEkKa9KQGPS"
    },
    {
      "cell_type": "code",
      "execution_count": null,
      "metadata": {
        "id": "1cc1e93e"
      },
      "outputs": [],
      "source": [
        "batch_size = 100"
      ],
      "id": "1cc1e93e"
    },
    {
      "cell_type": "code",
      "execution_count": null,
      "metadata": {
        "colab": {
          "base_uri": "https://localhost:8080/",
          "height": 49,
          "referenced_widgets": [
            "193611d4d64d4d52a0ad8ff8cc0564a4",
            "28f04255b956424185080a7d888e78e7",
            "dcbb25898b0f4a5c8f25f42b30b0108a",
            "7af46123dfd44becae123b19a21e3717",
            "b4844449db554d29a0b01e85b98819c2",
            "d76830f4c09242dab7ab2635ea225ede",
            "0338efdd80f54e81a7fc443ec4da18b8",
            "39aaef04b6eb46c1bcaa199740314b7c",
            "2fdb1330bebe4fa094a51c7860a37565",
            "c5946eeb7bce48dd8850be64d343d256",
            "eeb39274ff7c40f38f3896591ffa2aec"
          ]
        },
        "id": "305d0021",
        "outputId": "acaff05a-324a-4dfd-a594-c59666711711"
      },
      "outputs": [
        {
          "data": {
            "application/vnd.jupyter.widget-view+json": {
              "model_id": "193611d4d64d4d52a0ad8ff8cc0564a4",
              "version_major": 2,
              "version_minor": 0
            },
            "text/plain": [
              "  0%|          | 0/45 [00:00<?, ?it/s]"
            ]
          },
          "metadata": {},
          "output_type": "display_data"
        }
      ],
      "source": [
        "#Этот код запускать не надо, он считался в Colab около 4 часов, я выгрузила его результаты дальше как переменные\n",
        "\n",
        "batch_size = 100\n",
        "embeddings = []\n",
        "for i in notebook.tqdm(range(padded.shape[0] // batch_size)):\n",
        "        batch = torch.LongTensor(padded[batch_size*i:batch_size*(i+1)]) \n",
        "        attention_mask_batch = torch.LongTensor(attention_mask[batch_size*i:batch_size*(i+1)])\n",
        "        \n",
        "        with torch.no_grad():\n",
        "            batch_embeddings = model(batch, attention_mask=attention_mask_batch)\n",
        "        \n",
        "        embeddings.append(batch_embeddings[0][:,0,:].numpy())\n",
        "        del batch\n",
        "        del attention_mask_batch\n",
        "        del batch_embeddings\n",
        "\n"
      ],
      "id": "305d0021"
    },
    {
      "cell_type": "markdown",
      "metadata": {
        "id": "DYbGCkQ-DvRQ"
      },
      "source": [
        "**Результат** создание embeddings с помощью BERT \n"
      ],
      "id": "DYbGCkQ-DvRQ"
    },
    {
      "cell_type": "code",
      "execution_count": null,
      "metadata": {
        "id": "c2266c71"
      },
      "outputs": [],
      "source": [
        "features = np.concatenate(embeddings)\n"
      ],
      "id": "c2266c71"
    },
    {
      "cell_type": "markdown",
      "metadata": {
        "id": "g2VBiuCcEKfU"
      },
      "source": [
        "**Результат** создание признаков "
      ],
      "id": "g2VBiuCcEKfU"
    },
    {
      "cell_type": "markdown",
      "metadata": {
        "id": "7ocKfOBCq8id"
      },
      "source": [
        "**адрес папки где размещены данные**: https://\n"
      ],
      "id": "7ocKfOBCq8id"
    },
    {
      "cell_type": "code",
      "execution_count": null,
      "metadata": {
        "colab": {
          "base_uri": "https://localhost:8080/"
        },
        "id": "6584f5ae",
        "outputId": "1bf22d78-5b12-4f5b-8b13-d89ebb1230d8"
      },
      "outputs": [
        {
          "name": "stdout",
          "output_type": "stream",
          "text": [
            "features: (4500, 768)\n"
          ]
        }
      ],
      "source": [
        "print('features:', features.shape)"
      ],
      "id": "6584f5ae"
    },
    {
      "cell_type": "code",
      "execution_count": null,
      "metadata": {
        "id": "byjRh8v1fVXP"
      },
      "outputs": [],
      "source": [
        "df_features = pd.DataFrame(data=features)"
      ],
      "id": "byjRh8v1fVXP"
    },
    {
      "cell_type": "code",
      "execution_count": null,
      "metadata": {
        "id": "HKBzQj1CBWeq"
      },
      "outputs": [],
      "source": [
        "df_features.to_csv(r'features.csv', sep=',')"
      ],
      "id": "HKBzQj1CBWeq"
    },
    {
      "cell_type": "code",
      "execution_count": null,
      "metadata": {
        "id": "SY3OBzxwBXAY"
      },
      "outputs": [],
      "source": [
        "target.to_csv(r'target.csv', sep=',')"
      ],
      "id": "SY3OBzxwBXAY"
    },
    {
      "cell_type": "code",
      "execution_count": null,
      "metadata": {
        "colab": {
          "base_uri": "https://localhost:8080/",
          "height": 17
        },
        "id": "aqymrC2bC_8f",
        "outputId": "024cdac4-1cef-4f4b-c72e-a01b7a3245ad"
      },
      "outputs": [
        {
          "data": {
            "application/javascript": [
              "\n",
              "    async function download(id, filename, size) {\n",
              "      if (!google.colab.kernel.accessAllowed) {\n",
              "        return;\n",
              "      }\n",
              "      const div = document.createElement('div');\n",
              "      const label = document.createElement('label');\n",
              "      label.textContent = `Downloading \"${filename}\": `;\n",
              "      div.appendChild(label);\n",
              "      const progress = document.createElement('progress');\n",
              "      progress.max = size;\n",
              "      div.appendChild(progress);\n",
              "      document.body.appendChild(div);\n",
              "\n",
              "      const buffers = [];\n",
              "      let downloaded = 0;\n",
              "\n",
              "      const channel = await google.colab.kernel.comms.open(id);\n",
              "      // Send a message to notify the kernel that we're ready.\n",
              "      channel.send({})\n",
              "\n",
              "      for await (const message of channel.messages) {\n",
              "        // Send a message to notify the kernel that we're ready.\n",
              "        channel.send({})\n",
              "        if (message.buffers) {\n",
              "          for (const buffer of message.buffers) {\n",
              "            buffers.push(buffer);\n",
              "            downloaded += buffer.byteLength;\n",
              "            progress.value = downloaded;\n",
              "          }\n",
              "        }\n",
              "      }\n",
              "      const blob = new Blob(buffers, {type: 'application/binary'});\n",
              "      const a = document.createElement('a');\n",
              "      a.href = window.URL.createObjectURL(blob);\n",
              "      a.download = filename;\n",
              "      div.appendChild(a);\n",
              "      a.click();\n",
              "      div.remove();\n",
              "    }\n",
              "  "
            ],
            "text/plain": [
              "<IPython.core.display.Javascript object>"
            ]
          },
          "metadata": {},
          "output_type": "display_data"
        },
        {
          "data": {
            "application/javascript": [
              "download(\"download_ce67d224-c1e0-4a30-82fe-7ee88da88464\", \"target.csv\", 30397)"
            ],
            "text/plain": [
              "<IPython.core.display.Javascript object>"
            ]
          },
          "metadata": {},
          "output_type": "display_data"
        }
      ],
      "source": [
        "files.download('target.csv')"
      ],
      "id": "aqymrC2bC_8f"
    },
    {
      "cell_type": "code",
      "execution_count": null,
      "metadata": {
        "colab": {
          "base_uri": "https://localhost:8080/",
          "height": 17
        },
        "id": "-ndTc3VGC_dA",
        "outputId": "6d7519f2-6673-4140-c105-2c4910af4d0c"
      },
      "outputs": [
        {
          "data": {
            "application/javascript": [
              "\n",
              "    async function download(id, filename, size) {\n",
              "      if (!google.colab.kernel.accessAllowed) {\n",
              "        return;\n",
              "      }\n",
              "      const div = document.createElement('div');\n",
              "      const label = document.createElement('label');\n",
              "      label.textContent = `Downloading \"${filename}\": `;\n",
              "      div.appendChild(label);\n",
              "      const progress = document.createElement('progress');\n",
              "      progress.max = size;\n",
              "      div.appendChild(progress);\n",
              "      document.body.appendChild(div);\n",
              "\n",
              "      const buffers = [];\n",
              "      let downloaded = 0;\n",
              "\n",
              "      const channel = await google.colab.kernel.comms.open(id);\n",
              "      // Send a message to notify the kernel that we're ready.\n",
              "      channel.send({})\n",
              "\n",
              "      for await (const message of channel.messages) {\n",
              "        // Send a message to notify the kernel that we're ready.\n",
              "        channel.send({})\n",
              "        if (message.buffers) {\n",
              "          for (const buffer of message.buffers) {\n",
              "            buffers.push(buffer);\n",
              "            downloaded += buffer.byteLength;\n",
              "            progress.value = downloaded;\n",
              "          }\n",
              "        }\n",
              "      }\n",
              "      const blob = new Blob(buffers, {type: 'application/binary'});\n",
              "      const a = document.createElement('a');\n",
              "      a.href = window.URL.createObjectURL(blob);\n",
              "      a.download = filename;\n",
              "      div.appendChild(a);\n",
              "      a.click();\n",
              "      div.remove();\n",
              "    }\n",
              "  "
            ],
            "text/plain": [
              "<IPython.core.display.Javascript object>"
            ]
          },
          "metadata": {},
          "output_type": "display_data"
        },
        {
          "data": {
            "application/javascript": [
              "download(\"download_ee5d1a13-5e3b-4cd7-a6f3-bddc3e15cc94\", \"features.csv\", 38251204)"
            ],
            "text/plain": [
              "<IPython.core.display.Javascript object>"
            ]
          },
          "metadata": {},
          "output_type": "display_data"
        }
      ],
      "source": [
        "files.download('features.csv')"
      ],
      "id": "-ndTc3VGC_dA"
    },
    {
      "cell_type": "markdown",
      "metadata": {
        "id": "591d4b64"
      },
      "source": [
        "#Загрузка результатов расчета признаков\n",
        "\n"
      ],
      "id": "591d4b64"
    },
    {
      "cell_type": "code",
      "execution_count": null,
      "metadata": {
        "colab": {
          "base_uri": "https://localhost:8080/",
          "height": 73
        },
        "id": "s1-gvdHNAtky",
        "outputId": "8bcc9253-a8af-4290-b54c-3f564143e36c"
      },
      "outputs": [
        {
          "data": {
            "text/html": [
              "\n",
              "     <input type=\"file\" id=\"files-128f0ae3-71bf-46b5-bad2-9a2b71ebe8a9\" name=\"files[]\" multiple disabled\n",
              "        style=\"border:none\" />\n",
              "     <output id=\"result-128f0ae3-71bf-46b5-bad2-9a2b71ebe8a9\">\n",
              "      Upload widget is only available when the cell has been executed in the\n",
              "      current browser session. Please rerun this cell to enable.\n",
              "      </output>\n",
              "      <script>// Copyright 2017 Google LLC\n",
              "//\n",
              "// Licensed under the Apache License, Version 2.0 (the \"License\");\n",
              "// you may not use this file except in compliance with the License.\n",
              "// You may obtain a copy of the License at\n",
              "//\n",
              "//      http://www.apache.org/licenses/LICENSE-2.0\n",
              "//\n",
              "// Unless required by applicable law or agreed to in writing, software\n",
              "// distributed under the License is distributed on an \"AS IS\" BASIS,\n",
              "// WITHOUT WARRANTIES OR CONDITIONS OF ANY KIND, either express or implied.\n",
              "// See the License for the specific language governing permissions and\n",
              "// limitations under the License.\n",
              "\n",
              "/**\n",
              " * @fileoverview Helpers for google.colab Python module.\n",
              " */\n",
              "(function(scope) {\n",
              "function span(text, styleAttributes = {}) {\n",
              "  const element = document.createElement('span');\n",
              "  element.textContent = text;\n",
              "  for (const key of Object.keys(styleAttributes)) {\n",
              "    element.style[key] = styleAttributes[key];\n",
              "  }\n",
              "  return element;\n",
              "}\n",
              "\n",
              "// Max number of bytes which will be uploaded at a time.\n",
              "const MAX_PAYLOAD_SIZE = 100 * 1024;\n",
              "\n",
              "function _uploadFiles(inputId, outputId) {\n",
              "  const steps = uploadFilesStep(inputId, outputId);\n",
              "  const outputElement = document.getElementById(outputId);\n",
              "  // Cache steps on the outputElement to make it available for the next call\n",
              "  // to uploadFilesContinue from Python.\n",
              "  outputElement.steps = steps;\n",
              "\n",
              "  return _uploadFilesContinue(outputId);\n",
              "}\n",
              "\n",
              "// This is roughly an async generator (not supported in the browser yet),\n",
              "// where there are multiple asynchronous steps and the Python side is going\n",
              "// to poll for completion of each step.\n",
              "// This uses a Promise to block the python side on completion of each step,\n",
              "// then passes the result of the previous step as the input to the next step.\n",
              "function _uploadFilesContinue(outputId) {\n",
              "  const outputElement = document.getElementById(outputId);\n",
              "  const steps = outputElement.steps;\n",
              "\n",
              "  const next = steps.next(outputElement.lastPromiseValue);\n",
              "  return Promise.resolve(next.value.promise).then((value) => {\n",
              "    // Cache the last promise value to make it available to the next\n",
              "    // step of the generator.\n",
              "    outputElement.lastPromiseValue = value;\n",
              "    return next.value.response;\n",
              "  });\n",
              "}\n",
              "\n",
              "/**\n",
              " * Generator function which is called between each async step of the upload\n",
              " * process.\n",
              " * @param {string} inputId Element ID of the input file picker element.\n",
              " * @param {string} outputId Element ID of the output display.\n",
              " * @return {!Iterable<!Object>} Iterable of next steps.\n",
              " */\n",
              "function* uploadFilesStep(inputId, outputId) {\n",
              "  const inputElement = document.getElementById(inputId);\n",
              "  inputElement.disabled = false;\n",
              "\n",
              "  const outputElement = document.getElementById(outputId);\n",
              "  outputElement.innerHTML = '';\n",
              "\n",
              "  const pickedPromise = new Promise((resolve) => {\n",
              "    inputElement.addEventListener('change', (e) => {\n",
              "      resolve(e.target.files);\n",
              "    });\n",
              "  });\n",
              "\n",
              "  const cancel = document.createElement('button');\n",
              "  inputElement.parentElement.appendChild(cancel);\n",
              "  cancel.textContent = 'Cancel upload';\n",
              "  const cancelPromise = new Promise((resolve) => {\n",
              "    cancel.onclick = () => {\n",
              "      resolve(null);\n",
              "    };\n",
              "  });\n",
              "\n",
              "  // Wait for the user to pick the files.\n",
              "  const files = yield {\n",
              "    promise: Promise.race([pickedPromise, cancelPromise]),\n",
              "    response: {\n",
              "      action: 'starting',\n",
              "    }\n",
              "  };\n",
              "\n",
              "  cancel.remove();\n",
              "\n",
              "  // Disable the input element since further picks are not allowed.\n",
              "  inputElement.disabled = true;\n",
              "\n",
              "  if (!files) {\n",
              "    return {\n",
              "      response: {\n",
              "        action: 'complete',\n",
              "      }\n",
              "    };\n",
              "  }\n",
              "\n",
              "  for (const file of files) {\n",
              "    const li = document.createElement('li');\n",
              "    li.append(span(file.name, {fontWeight: 'bold'}));\n",
              "    li.append(span(\n",
              "        `(${file.type || 'n/a'}) - ${file.size} bytes, ` +\n",
              "        `last modified: ${\n",
              "            file.lastModifiedDate ? file.lastModifiedDate.toLocaleDateString() :\n",
              "                                    'n/a'} - `));\n",
              "    const percent = span('0% done');\n",
              "    li.appendChild(percent);\n",
              "\n",
              "    outputElement.appendChild(li);\n",
              "\n",
              "    const fileDataPromise = new Promise((resolve) => {\n",
              "      const reader = new FileReader();\n",
              "      reader.onload = (e) => {\n",
              "        resolve(e.target.result);\n",
              "      };\n",
              "      reader.readAsArrayBuffer(file);\n",
              "    });\n",
              "    // Wait for the data to be ready.\n",
              "    let fileData = yield {\n",
              "      promise: fileDataPromise,\n",
              "      response: {\n",
              "        action: 'continue',\n",
              "      }\n",
              "    };\n",
              "\n",
              "    // Use a chunked sending to avoid message size limits. See b/62115660.\n",
              "    let position = 0;\n",
              "    do {\n",
              "      const length = Math.min(fileData.byteLength - position, MAX_PAYLOAD_SIZE);\n",
              "      const chunk = new Uint8Array(fileData, position, length);\n",
              "      position += length;\n",
              "\n",
              "      const base64 = btoa(String.fromCharCode.apply(null, chunk));\n",
              "      yield {\n",
              "        response: {\n",
              "          action: 'append',\n",
              "          file: file.name,\n",
              "          data: base64,\n",
              "        },\n",
              "      };\n",
              "\n",
              "      let percentDone = fileData.byteLength === 0 ?\n",
              "          100 :\n",
              "          Math.round((position / fileData.byteLength) * 100);\n",
              "      percent.textContent = `${percentDone}% done`;\n",
              "\n",
              "    } while (position < fileData.byteLength);\n",
              "  }\n",
              "\n",
              "  // All done.\n",
              "  yield {\n",
              "    response: {\n",
              "      action: 'complete',\n",
              "    }\n",
              "  };\n",
              "}\n",
              "\n",
              "scope.google = scope.google || {};\n",
              "scope.google.colab = scope.google.colab || {};\n",
              "scope.google.colab._files = {\n",
              "  _uploadFiles,\n",
              "  _uploadFilesContinue,\n",
              "};\n",
              "})(self);\n",
              "</script> "
            ],
            "text/plain": [
              "<IPython.core.display.HTML object>"
            ]
          },
          "metadata": {},
          "output_type": "display_data"
        },
        {
          "name": "stdout",
          "output_type": "stream",
          "text": [
            "Saving features (1).csv to features (1) (1).csv\n"
          ]
        }
      ],
      "source": [
        "uploaded = files.upload()"
      ],
      "id": "s1-gvdHNAtky"
    },
    {
      "cell_type": "code",
      "execution_count": null,
      "metadata": {
        "colab": {
          "base_uri": "https://localhost:8080/",
          "height": 300
        },
        "id": "ASxUZYKO0dQy",
        "outputId": "70bf22cd-9b30-4a3c-d6e2-da7826132d4b"
      },
      "outputs": [
        {
          "data": {
            "text/html": [
              "\n",
              "  <div id=\"df-051ceec3-7f42-4116-83ca-f81846f35208\">\n",
              "    <div class=\"colab-df-container\">\n",
              "      <div>\n",
              "<style scoped>\n",
              "    .dataframe tbody tr th:only-of-type {\n",
              "        vertical-align: middle;\n",
              "    }\n",
              "\n",
              "    .dataframe tbody tr th {\n",
              "        vertical-align: top;\n",
              "    }\n",
              "\n",
              "    .dataframe thead th {\n",
              "        text-align: right;\n",
              "    }\n",
              "</style>\n",
              "<table border=\"1\" class=\"dataframe\">\n",
              "  <thead>\n",
              "    <tr style=\"text-align: right;\">\n",
              "      <th></th>\n",
              "      <th>0</th>\n",
              "      <th>1</th>\n",
              "      <th>2</th>\n",
              "      <th>3</th>\n",
              "      <th>4</th>\n",
              "      <th>5</th>\n",
              "      <th>6</th>\n",
              "      <th>7</th>\n",
              "      <th>8</th>\n",
              "      <th>9</th>\n",
              "      <th>...</th>\n",
              "      <th>758</th>\n",
              "      <th>759</th>\n",
              "      <th>760</th>\n",
              "      <th>761</th>\n",
              "      <th>762</th>\n",
              "      <th>763</th>\n",
              "      <th>764</th>\n",
              "      <th>765</th>\n",
              "      <th>766</th>\n",
              "      <th>767</th>\n",
              "    </tr>\n",
              "  </thead>\n",
              "  <tbody>\n",
              "    <tr>\n",
              "      <th>2317</th>\n",
              "      <td>-0.439869</td>\n",
              "      <td>-0.814066</td>\n",
              "      <td>0.731047</td>\n",
              "      <td>-0.467802</td>\n",
              "      <td>0.919573</td>\n",
              "      <td>0.364395</td>\n",
              "      <td>0.192493</td>\n",
              "      <td>0.004638</td>\n",
              "      <td>-0.221582</td>\n",
              "      <td>-0.529035</td>\n",
              "      <td>...</td>\n",
              "      <td>-0.888048</td>\n",
              "      <td>-1.140610</td>\n",
              "      <td>0.312283</td>\n",
              "      <td>-0.717837</td>\n",
              "      <td>0.055621</td>\n",
              "      <td>0.782522</td>\n",
              "      <td>-0.328507</td>\n",
              "      <td>-0.739547</td>\n",
              "      <td>0.695418</td>\n",
              "      <td>0.281415</td>\n",
              "    </tr>\n",
              "    <tr>\n",
              "      <th>3310</th>\n",
              "      <td>-0.377149</td>\n",
              "      <td>-0.815013</td>\n",
              "      <td>0.722103</td>\n",
              "      <td>-0.539463</td>\n",
              "      <td>0.860976</td>\n",
              "      <td>0.668126</td>\n",
              "      <td>0.362263</td>\n",
              "      <td>0.213477</td>\n",
              "      <td>-0.559485</td>\n",
              "      <td>-0.105543</td>\n",
              "      <td>...</td>\n",
              "      <td>-0.622946</td>\n",
              "      <td>-0.536391</td>\n",
              "      <td>0.300671</td>\n",
              "      <td>-0.404307</td>\n",
              "      <td>-0.450916</td>\n",
              "      <td>0.288696</td>\n",
              "      <td>-0.509076</td>\n",
              "      <td>-0.380354</td>\n",
              "      <td>0.830879</td>\n",
              "      <td>0.228978</td>\n",
              "    </tr>\n",
              "    <tr>\n",
              "      <th>2525</th>\n",
              "      <td>-0.609821</td>\n",
              "      <td>-0.829580</td>\n",
              "      <td>0.595246</td>\n",
              "      <td>-0.507766</td>\n",
              "      <td>1.096649</td>\n",
              "      <td>0.083648</td>\n",
              "      <td>-0.105848</td>\n",
              "      <td>0.010391</td>\n",
              "      <td>-0.483179</td>\n",
              "      <td>-0.742062</td>\n",
              "      <td>...</td>\n",
              "      <td>-0.340451</td>\n",
              "      <td>-1.283999</td>\n",
              "      <td>0.300177</td>\n",
              "      <td>-0.692511</td>\n",
              "      <td>0.142390</td>\n",
              "      <td>0.752811</td>\n",
              "      <td>-0.514598</td>\n",
              "      <td>-0.772084</td>\n",
              "      <td>0.361346</td>\n",
              "      <td>0.090891</td>\n",
              "    </tr>\n",
              "    <tr>\n",
              "      <th>925</th>\n",
              "      <td>-0.607883</td>\n",
              "      <td>-0.847725</td>\n",
              "      <td>0.581621</td>\n",
              "      <td>-0.549705</td>\n",
              "      <td>1.017848</td>\n",
              "      <td>0.337406</td>\n",
              "      <td>-0.040772</td>\n",
              "      <td>0.001620</td>\n",
              "      <td>-0.436940</td>\n",
              "      <td>-0.602486</td>\n",
              "      <td>...</td>\n",
              "      <td>-0.658252</td>\n",
              "      <td>-1.139683</td>\n",
              "      <td>0.371621</td>\n",
              "      <td>-0.637351</td>\n",
              "      <td>0.147397</td>\n",
              "      <td>0.813871</td>\n",
              "      <td>-0.488821</td>\n",
              "      <td>-0.685728</td>\n",
              "      <td>0.599489</td>\n",
              "      <td>0.075678</td>\n",
              "    </tr>\n",
              "    <tr>\n",
              "      <th>930</th>\n",
              "      <td>-0.400575</td>\n",
              "      <td>-0.795693</td>\n",
              "      <td>0.677925</td>\n",
              "      <td>-0.094113</td>\n",
              "      <td>0.577009</td>\n",
              "      <td>0.708213</td>\n",
              "      <td>0.303320</td>\n",
              "      <td>0.244169</td>\n",
              "      <td>-0.406314</td>\n",
              "      <td>-0.068468</td>\n",
              "      <td>...</td>\n",
              "      <td>-0.692666</td>\n",
              "      <td>-0.480908</td>\n",
              "      <td>0.270719</td>\n",
              "      <td>-0.623918</td>\n",
              "      <td>-0.430975</td>\n",
              "      <td>0.043766</td>\n",
              "      <td>-0.237760</td>\n",
              "      <td>-0.338661</td>\n",
              "      <td>0.975684</td>\n",
              "      <td>0.708694</td>\n",
              "    </tr>\n",
              "  </tbody>\n",
              "</table>\n",
              "<p>5 rows × 768 columns</p>\n",
              "</div>\n",
              "      <button class=\"colab-df-convert\" onclick=\"convertToInteractive('df-051ceec3-7f42-4116-83ca-f81846f35208')\"\n",
              "              title=\"Convert this dataframe to an interactive table.\"\n",
              "              style=\"display:none;\">\n",
              "        \n",
              "  <svg xmlns=\"http://www.w3.org/2000/svg\" height=\"24px\"viewBox=\"0 0 24 24\"\n",
              "       width=\"24px\">\n",
              "    <path d=\"M0 0h24v24H0V0z\" fill=\"none\"/>\n",
              "    <path d=\"M18.56 5.44l.94 2.06.94-2.06 2.06-.94-2.06-.94-.94-2.06-.94 2.06-2.06.94zm-11 1L8.5 8.5l.94-2.06 2.06-.94-2.06-.94L8.5 2.5l-.94 2.06-2.06.94zm10 10l.94 2.06.94-2.06 2.06-.94-2.06-.94-.94-2.06-.94 2.06-2.06.94z\"/><path d=\"M17.41 7.96l-1.37-1.37c-.4-.4-.92-.59-1.43-.59-.52 0-1.04.2-1.43.59L10.3 9.45l-7.72 7.72c-.78.78-.78 2.05 0 2.83L4 21.41c.39.39.9.59 1.41.59.51 0 1.02-.2 1.41-.59l7.78-7.78 2.81-2.81c.8-.78.8-2.07 0-2.86zM5.41 20L4 18.59l7.72-7.72 1.47 1.35L5.41 20z\"/>\n",
              "  </svg>\n",
              "      </button>\n",
              "      \n",
              "  <style>\n",
              "    .colab-df-container {\n",
              "      display:flex;\n",
              "      flex-wrap:wrap;\n",
              "      gap: 12px;\n",
              "    }\n",
              "\n",
              "    .colab-df-convert {\n",
              "      background-color: #E8F0FE;\n",
              "      border: none;\n",
              "      border-radius: 50%;\n",
              "      cursor: pointer;\n",
              "      display: none;\n",
              "      fill: #1967D2;\n",
              "      height: 32px;\n",
              "      padding: 0 0 0 0;\n",
              "      width: 32px;\n",
              "    }\n",
              "\n",
              "    .colab-df-convert:hover {\n",
              "      background-color: #E2EBFA;\n",
              "      box-shadow: 0px 1px 2px rgba(60, 64, 67, 0.3), 0px 1px 3px 1px rgba(60, 64, 67, 0.15);\n",
              "      fill: #174EA6;\n",
              "    }\n",
              "\n",
              "    [theme=dark] .colab-df-convert {\n",
              "      background-color: #3B4455;\n",
              "      fill: #D2E3FC;\n",
              "    }\n",
              "\n",
              "    [theme=dark] .colab-df-convert:hover {\n",
              "      background-color: #434B5C;\n",
              "      box-shadow: 0px 1px 3px 1px rgba(0, 0, 0, 0.15);\n",
              "      filter: drop-shadow(0px 1px 2px rgba(0, 0, 0, 0.3));\n",
              "      fill: #FFFFFF;\n",
              "    }\n",
              "  </style>\n",
              "\n",
              "      <script>\n",
              "        const buttonEl =\n",
              "          document.querySelector('#df-051ceec3-7f42-4116-83ca-f81846f35208 button.colab-df-convert');\n",
              "        buttonEl.style.display =\n",
              "          google.colab.kernel.accessAllowed ? 'block' : 'none';\n",
              "\n",
              "        async function convertToInteractive(key) {\n",
              "          const element = document.querySelector('#df-051ceec3-7f42-4116-83ca-f81846f35208');\n",
              "          const dataTable =\n",
              "            await google.colab.kernel.invokeFunction('convertToInteractive',\n",
              "                                                     [key], {});\n",
              "          if (!dataTable) return;\n",
              "\n",
              "          const docLinkHtml = 'Like what you see? Visit the ' +\n",
              "            '<a target=\"_blank\" href=https://colab.research.google.com/notebooks/data_table.ipynb>data table notebook</a>'\n",
              "            + ' to learn more about interactive tables.';\n",
              "          element.innerHTML = '';\n",
              "          dataTable['output_type'] = 'display_data';\n",
              "          await google.colab.output.renderOutput(dataTable, element);\n",
              "          const docLink = document.createElement('div');\n",
              "          docLink.innerHTML = docLinkHtml;\n",
              "          element.appendChild(docLink);\n",
              "        }\n",
              "      </script>\n",
              "    </div>\n",
              "  </div>\n",
              "  "
            ],
            "text/plain": [
              "             0         1         2         3         4         5         6  \\\n",
              "2317 -0.439869 -0.814066  0.731047 -0.467802  0.919573  0.364395  0.192493   \n",
              "3310 -0.377149 -0.815013  0.722103 -0.539463  0.860976  0.668126  0.362263   \n",
              "2525 -0.609821 -0.829580  0.595246 -0.507766  1.096649  0.083648 -0.105848   \n",
              "925  -0.607883 -0.847725  0.581621 -0.549705  1.017848  0.337406 -0.040772   \n",
              "930  -0.400575 -0.795693  0.677925 -0.094113  0.577009  0.708213  0.303320   \n",
              "\n",
              "             7         8         9  ...       758       759       760  \\\n",
              "2317  0.004638 -0.221582 -0.529035  ... -0.888048 -1.140610  0.312283   \n",
              "3310  0.213477 -0.559485 -0.105543  ... -0.622946 -0.536391  0.300671   \n",
              "2525  0.010391 -0.483179 -0.742062  ... -0.340451 -1.283999  0.300177   \n",
              "925   0.001620 -0.436940 -0.602486  ... -0.658252 -1.139683  0.371621   \n",
              "930   0.244169 -0.406314 -0.068468  ... -0.692666 -0.480908  0.270719   \n",
              "\n",
              "           761       762       763       764       765       766       767  \n",
              "2317 -0.717837  0.055621  0.782522 -0.328507 -0.739547  0.695418  0.281415  \n",
              "3310 -0.404307 -0.450916  0.288696 -0.509076 -0.380354  0.830879  0.228978  \n",
              "2525 -0.692511  0.142390  0.752811 -0.514598 -0.772084  0.361346  0.090891  \n",
              "925  -0.637351  0.147397  0.813871 -0.488821 -0.685728  0.599489  0.075678  \n",
              "930  -0.623918 -0.430975  0.043766 -0.237760 -0.338661  0.975684  0.708694  \n",
              "\n",
              "[5 rows x 768 columns]"
            ]
          },
          "metadata": {},
          "output_type": "display_data"
        }
      ],
      "source": [
        "features = pd.read_csv('features (1) (1).csv', index_col=0)\n",
        "display (features.sample(5))"
      ],
      "id": "ASxUZYKO0dQy"
    },
    {
      "cell_type": "code",
      "execution_count": null,
      "metadata": {
        "colab": {
          "base_uri": "https://localhost:8080/",
          "height": 73
        },
        "id": "p_wj1lFHOv81",
        "outputId": "60d8e3a1-2931-408b-be20-cdb9575559ee"
      },
      "outputs": [
        {
          "data": {
            "text/html": [
              "\n",
              "     <input type=\"file\" id=\"files-387a0812-fda1-45d5-b587-38fe9812b374\" name=\"files[]\" multiple disabled\n",
              "        style=\"border:none\" />\n",
              "     <output id=\"result-387a0812-fda1-45d5-b587-38fe9812b374\">\n",
              "      Upload widget is only available when the cell has been executed in the\n",
              "      current browser session. Please rerun this cell to enable.\n",
              "      </output>\n",
              "      <script>// Copyright 2017 Google LLC\n",
              "//\n",
              "// Licensed under the Apache License, Version 2.0 (the \"License\");\n",
              "// you may not use this file except in compliance with the License.\n",
              "// You may obtain a copy of the License at\n",
              "//\n",
              "//      http://www.apache.org/licenses/LICENSE-2.0\n",
              "//\n",
              "// Unless required by applicable law or agreed to in writing, software\n",
              "// distributed under the License is distributed on an \"AS IS\" BASIS,\n",
              "// WITHOUT WARRANTIES OR CONDITIONS OF ANY KIND, either express or implied.\n",
              "// See the License for the specific language governing permissions and\n",
              "// limitations under the License.\n",
              "\n",
              "/**\n",
              " * @fileoverview Helpers for google.colab Python module.\n",
              " */\n",
              "(function(scope) {\n",
              "function span(text, styleAttributes = {}) {\n",
              "  const element = document.createElement('span');\n",
              "  element.textContent = text;\n",
              "  for (const key of Object.keys(styleAttributes)) {\n",
              "    element.style[key] = styleAttributes[key];\n",
              "  }\n",
              "  return element;\n",
              "}\n",
              "\n",
              "// Max number of bytes which will be uploaded at a time.\n",
              "const MAX_PAYLOAD_SIZE = 100 * 1024;\n",
              "\n",
              "function _uploadFiles(inputId, outputId) {\n",
              "  const steps = uploadFilesStep(inputId, outputId);\n",
              "  const outputElement = document.getElementById(outputId);\n",
              "  // Cache steps on the outputElement to make it available for the next call\n",
              "  // to uploadFilesContinue from Python.\n",
              "  outputElement.steps = steps;\n",
              "\n",
              "  return _uploadFilesContinue(outputId);\n",
              "}\n",
              "\n",
              "// This is roughly an async generator (not supported in the browser yet),\n",
              "// where there are multiple asynchronous steps and the Python side is going\n",
              "// to poll for completion of each step.\n",
              "// This uses a Promise to block the python side on completion of each step,\n",
              "// then passes the result of the previous step as the input to the next step.\n",
              "function _uploadFilesContinue(outputId) {\n",
              "  const outputElement = document.getElementById(outputId);\n",
              "  const steps = outputElement.steps;\n",
              "\n",
              "  const next = steps.next(outputElement.lastPromiseValue);\n",
              "  return Promise.resolve(next.value.promise).then((value) => {\n",
              "    // Cache the last promise value to make it available to the next\n",
              "    // step of the generator.\n",
              "    outputElement.lastPromiseValue = value;\n",
              "    return next.value.response;\n",
              "  });\n",
              "}\n",
              "\n",
              "/**\n",
              " * Generator function which is called between each async step of the upload\n",
              " * process.\n",
              " * @param {string} inputId Element ID of the input file picker element.\n",
              " * @param {string} outputId Element ID of the output display.\n",
              " * @return {!Iterable<!Object>} Iterable of next steps.\n",
              " */\n",
              "function* uploadFilesStep(inputId, outputId) {\n",
              "  const inputElement = document.getElementById(inputId);\n",
              "  inputElement.disabled = false;\n",
              "\n",
              "  const outputElement = document.getElementById(outputId);\n",
              "  outputElement.innerHTML = '';\n",
              "\n",
              "  const pickedPromise = new Promise((resolve) => {\n",
              "    inputElement.addEventListener('change', (e) => {\n",
              "      resolve(e.target.files);\n",
              "    });\n",
              "  });\n",
              "\n",
              "  const cancel = document.createElement('button');\n",
              "  inputElement.parentElement.appendChild(cancel);\n",
              "  cancel.textContent = 'Cancel upload';\n",
              "  const cancelPromise = new Promise((resolve) => {\n",
              "    cancel.onclick = () => {\n",
              "      resolve(null);\n",
              "    };\n",
              "  });\n",
              "\n",
              "  // Wait for the user to pick the files.\n",
              "  const files = yield {\n",
              "    promise: Promise.race([pickedPromise, cancelPromise]),\n",
              "    response: {\n",
              "      action: 'starting',\n",
              "    }\n",
              "  };\n",
              "\n",
              "  cancel.remove();\n",
              "\n",
              "  // Disable the input element since further picks are not allowed.\n",
              "  inputElement.disabled = true;\n",
              "\n",
              "  if (!files) {\n",
              "    return {\n",
              "      response: {\n",
              "        action: 'complete',\n",
              "      }\n",
              "    };\n",
              "  }\n",
              "\n",
              "  for (const file of files) {\n",
              "    const li = document.createElement('li');\n",
              "    li.append(span(file.name, {fontWeight: 'bold'}));\n",
              "    li.append(span(\n",
              "        `(${file.type || 'n/a'}) - ${file.size} bytes, ` +\n",
              "        `last modified: ${\n",
              "            file.lastModifiedDate ? file.lastModifiedDate.toLocaleDateString() :\n",
              "                                    'n/a'} - `));\n",
              "    const percent = span('0% done');\n",
              "    li.appendChild(percent);\n",
              "\n",
              "    outputElement.appendChild(li);\n",
              "\n",
              "    const fileDataPromise = new Promise((resolve) => {\n",
              "      const reader = new FileReader();\n",
              "      reader.onload = (e) => {\n",
              "        resolve(e.target.result);\n",
              "      };\n",
              "      reader.readAsArrayBuffer(file);\n",
              "    });\n",
              "    // Wait for the data to be ready.\n",
              "    let fileData = yield {\n",
              "      promise: fileDataPromise,\n",
              "      response: {\n",
              "        action: 'continue',\n",
              "      }\n",
              "    };\n",
              "\n",
              "    // Use a chunked sending to avoid message size limits. See b/62115660.\n",
              "    let position = 0;\n",
              "    do {\n",
              "      const length = Math.min(fileData.byteLength - position, MAX_PAYLOAD_SIZE);\n",
              "      const chunk = new Uint8Array(fileData, position, length);\n",
              "      position += length;\n",
              "\n",
              "      const base64 = btoa(String.fromCharCode.apply(null, chunk));\n",
              "      yield {\n",
              "        response: {\n",
              "          action: 'append',\n",
              "          file: file.name,\n",
              "          data: base64,\n",
              "        },\n",
              "      };\n",
              "\n",
              "      let percentDone = fileData.byteLength === 0 ?\n",
              "          100 :\n",
              "          Math.round((position / fileData.byteLength) * 100);\n",
              "      percent.textContent = `${percentDone}% done`;\n",
              "\n",
              "    } while (position < fileData.byteLength);\n",
              "  }\n",
              "\n",
              "  // All done.\n",
              "  yield {\n",
              "    response: {\n",
              "      action: 'complete',\n",
              "    }\n",
              "  };\n",
              "}\n",
              "\n",
              "scope.google = scope.google || {};\n",
              "scope.google.colab = scope.google.colab || {};\n",
              "scope.google.colab._files = {\n",
              "  _uploadFiles,\n",
              "  _uploadFilesContinue,\n",
              "};\n",
              "})(self);\n",
              "</script> "
            ],
            "text/plain": [
              "<IPython.core.display.HTML object>"
            ]
          },
          "metadata": {},
          "output_type": "display_data"
        },
        {
          "name": "stdout",
          "output_type": "stream",
          "text": [
            "Saving target (2).csv to target (2) (1).csv\n"
          ]
        }
      ],
      "source": [
        "uploaded = files.upload()"
      ],
      "id": "p_wj1lFHOv81"
    },
    {
      "cell_type": "code",
      "execution_count": null,
      "metadata": {
        "colab": {
          "base_uri": "https://localhost:8080/",
          "height": 206
        },
        "id": "5IHDCpKD0MNV",
        "outputId": "07607162-affd-4b01-8f1f-17387eb2680b"
      },
      "outputs": [
        {
          "data": {
            "text/html": [
              "\n",
              "  <div id=\"df-b873099d-68d1-4cea-a368-31320452734a\">\n",
              "    <div class=\"colab-df-container\">\n",
              "      <div>\n",
              "<style scoped>\n",
              "    .dataframe tbody tr th:only-of-type {\n",
              "        vertical-align: middle;\n",
              "    }\n",
              "\n",
              "    .dataframe tbody tr th {\n",
              "        vertical-align: top;\n",
              "    }\n",
              "\n",
              "    .dataframe thead th {\n",
              "        text-align: right;\n",
              "    }\n",
              "</style>\n",
              "<table border=\"1\" class=\"dataframe\">\n",
              "  <thead>\n",
              "    <tr style=\"text-align: right;\">\n",
              "      <th></th>\n",
              "      <th>toxic</th>\n",
              "    </tr>\n",
              "  </thead>\n",
              "  <tbody>\n",
              "    <tr>\n",
              "      <th>1568</th>\n",
              "      <td>0</td>\n",
              "    </tr>\n",
              "    <tr>\n",
              "      <th>3418</th>\n",
              "      <td>0</td>\n",
              "    </tr>\n",
              "    <tr>\n",
              "      <th>1168</th>\n",
              "      <td>0</td>\n",
              "    </tr>\n",
              "    <tr>\n",
              "      <th>951</th>\n",
              "      <td>0</td>\n",
              "    </tr>\n",
              "    <tr>\n",
              "      <th>1905</th>\n",
              "      <td>1</td>\n",
              "    </tr>\n",
              "  </tbody>\n",
              "</table>\n",
              "</div>\n",
              "      <button class=\"colab-df-convert\" onclick=\"convertToInteractive('df-b873099d-68d1-4cea-a368-31320452734a')\"\n",
              "              title=\"Convert this dataframe to an interactive table.\"\n",
              "              style=\"display:none;\">\n",
              "        \n",
              "  <svg xmlns=\"http://www.w3.org/2000/svg\" height=\"24px\"viewBox=\"0 0 24 24\"\n",
              "       width=\"24px\">\n",
              "    <path d=\"M0 0h24v24H0V0z\" fill=\"none\"/>\n",
              "    <path d=\"M18.56 5.44l.94 2.06.94-2.06 2.06-.94-2.06-.94-.94-2.06-.94 2.06-2.06.94zm-11 1L8.5 8.5l.94-2.06 2.06-.94-2.06-.94L8.5 2.5l-.94 2.06-2.06.94zm10 10l.94 2.06.94-2.06 2.06-.94-2.06-.94-.94-2.06-.94 2.06-2.06.94z\"/><path d=\"M17.41 7.96l-1.37-1.37c-.4-.4-.92-.59-1.43-.59-.52 0-1.04.2-1.43.59L10.3 9.45l-7.72 7.72c-.78.78-.78 2.05 0 2.83L4 21.41c.39.39.9.59 1.41.59.51 0 1.02-.2 1.41-.59l7.78-7.78 2.81-2.81c.8-.78.8-2.07 0-2.86zM5.41 20L4 18.59l7.72-7.72 1.47 1.35L5.41 20z\"/>\n",
              "  </svg>\n",
              "      </button>\n",
              "      \n",
              "  <style>\n",
              "    .colab-df-container {\n",
              "      display:flex;\n",
              "      flex-wrap:wrap;\n",
              "      gap: 12px;\n",
              "    }\n",
              "\n",
              "    .colab-df-convert {\n",
              "      background-color: #E8F0FE;\n",
              "      border: none;\n",
              "      border-radius: 50%;\n",
              "      cursor: pointer;\n",
              "      display: none;\n",
              "      fill: #1967D2;\n",
              "      height: 32px;\n",
              "      padding: 0 0 0 0;\n",
              "      width: 32px;\n",
              "    }\n",
              "\n",
              "    .colab-df-convert:hover {\n",
              "      background-color: #E2EBFA;\n",
              "      box-shadow: 0px 1px 2px rgba(60, 64, 67, 0.3), 0px 1px 3px 1px rgba(60, 64, 67, 0.15);\n",
              "      fill: #174EA6;\n",
              "    }\n",
              "\n",
              "    [theme=dark] .colab-df-convert {\n",
              "      background-color: #3B4455;\n",
              "      fill: #D2E3FC;\n",
              "    }\n",
              "\n",
              "    [theme=dark] .colab-df-convert:hover {\n",
              "      background-color: #434B5C;\n",
              "      box-shadow: 0px 1px 3px 1px rgba(0, 0, 0, 0.15);\n",
              "      filter: drop-shadow(0px 1px 2px rgba(0, 0, 0, 0.3));\n",
              "      fill: #FFFFFF;\n",
              "    }\n",
              "  </style>\n",
              "\n",
              "      <script>\n",
              "        const buttonEl =\n",
              "          document.querySelector('#df-b873099d-68d1-4cea-a368-31320452734a button.colab-df-convert');\n",
              "        buttonEl.style.display =\n",
              "          google.colab.kernel.accessAllowed ? 'block' : 'none';\n",
              "\n",
              "        async function convertToInteractive(key) {\n",
              "          const element = document.querySelector('#df-b873099d-68d1-4cea-a368-31320452734a');\n",
              "          const dataTable =\n",
              "            await google.colab.kernel.invokeFunction('convertToInteractive',\n",
              "                                                     [key], {});\n",
              "          if (!dataTable) return;\n",
              "\n",
              "          const docLinkHtml = 'Like what you see? Visit the ' +\n",
              "            '<a target=\"_blank\" href=https://colab.research.google.com/notebooks/data_table.ipynb>data table notebook</a>'\n",
              "            + ' to learn more about interactive tables.';\n",
              "          element.innerHTML = '';\n",
              "          dataTable['output_type'] = 'display_data';\n",
              "          await google.colab.output.renderOutput(dataTable, element);\n",
              "          const docLink = document.createElement('div');\n",
              "          docLink.innerHTML = docLinkHtml;\n",
              "          element.appendChild(docLink);\n",
              "        }\n",
              "      </script>\n",
              "    </div>\n",
              "  </div>\n",
              "  "
            ],
            "text/plain": [
              "      toxic\n",
              "1568      0\n",
              "3418      0\n",
              "1168      0\n",
              "951       0\n",
              "1905      1"
            ]
          },
          "metadata": {},
          "output_type": "display_data"
        }
      ],
      "source": [
        "target = pd.read_csv('target (2) (1).csv', index_col=0)\n",
        "display (target.sample(5))"
      ],
      "id": "5IHDCpKD0MNV"
    },
    {
      "cell_type": "code",
      "execution_count": null,
      "metadata": {
        "id": "lQQM4s7b_3CO"
      },
      "outputs": [],
      "source": [
        "target = target['toxic']"
      ],
      "id": "lQQM4s7b_3CO"
    },
    {
      "cell_type": "code",
      "execution_count": null,
      "metadata": {
        "colab": {
          "base_uri": "https://localhost:8080/"
        },
        "id": "3gnRdEqujFoh",
        "outputId": "88467658-2064-4b77-cd81-642f04aeaf02"
      },
      "outputs": [
        {
          "name": "stdout",
          "output_type": "stream",
          "text": [
            "features shape: (4500, 768)\n",
            "target shape: (4500,)\n"
          ]
        }
      ],
      "source": [
        "print('features shape:', features.shape)\n",
        "\n",
        "print('target shape:', target.shape)"
      ],
      "id": "3gnRdEqujFoh"
    },
    {
      "cell_type": "markdown",
      "metadata": {
        "id": "LmzbIgRrpSIR"
      },
      "source": [
        "**Результат** признаки и таргет сохранены как файл, далее повторно загружены как файл "
      ],
      "id": "LmzbIgRrpSIR"
    },
    {
      "cell_type": "code",
      "execution_count": null,
      "metadata": {
        "colab": {
          "base_uri": "https://localhost:8080/"
        },
        "id": "7631c41d",
        "outputId": "81127c52-7d19-4cf4-e8c1-268ba66b7fa2",
        "scrolled": true
      },
      "outputs": [
        {
          "name": "stdout",
          "output_type": "stream",
          "text": [
            "features_train shape: (2700, 768)\n",
            "features_valid shape: (900, 768)\n",
            "features_test shape: (900, 768)\n",
            "target_train shape: (2700,)\n",
            "target_valid shape: (900,)\n",
            "target_test shape: (900,)\n"
          ]
        }
      ],
      "source": [
        "features_train, features_valid_test, target_train, target_valid_test = train_test_split(\n",
        "    features, target, test_size=0.40, random_state=12345, stratify = target)\n",
        "features_valid, features_test, target_valid, target_test = train_test_split(\n",
        "    features_valid_test, target_valid_test, test_size=0.50, random_state=12345, stratify = target_valid_test )\n",
        "print('features_train shape:', features_train.shape)\n",
        "print('features_valid shape:', features_valid.shape)\n",
        "print('features_test shape:', features_test.shape)\n",
        "print('target_train shape:', target_train.shape)\n",
        "print('target_valid shape:', target_valid.shape)\n",
        "print('target_test shape:', target_test.shape)"
      ],
      "id": "7631c41d"
    },
    {
      "cell_type": "code",
      "execution_count": null,
      "metadata": {
        "colab": {
          "base_uri": "https://localhost:8080/"
        },
        "id": "49c7deed",
        "outputId": "6a740678-e6b7-49b1-a818-074873c724c1"
      },
      "outputs": [
        {
          "name": "stdout",
          "output_type": "stream",
          "text": [
            "Accuracy модели логистической регрессии: 0.9888888888888889\n",
            "F1: 0.9473684210526315\n"
          ]
        }
      ],
      "source": [
        "model = LogisticRegression(random_state=12345, solver='liblinear', max_iter=1000)\n",
        "model.fit(features_train, target_train)\n",
        "predictions = model.predict(features_valid)\n",
        "accuracy = accuracy_score(target_valid, predictions)\n",
        "print(\"Accuracy модели логистической регрессии:\", accuracy)\n",
        "print('F1:', f1_score(target_valid,predictions))"
      ],
      "id": "49c7deed"
    },
    {
      "cell_type": "markdown",
      "metadata": {
        "id": "Z11TdVq_9m_o"
      },
      "source": [
        "**Результат** на простой модели логистической регресии достигнута метрика 0, 94, существенно выше требующейся\n"
      ],
      "id": "Z11TdVq_9m_o"
    },
    {
      "cell_type": "code",
      "execution_count": null,
      "metadata": {
        "colab": {
          "base_uri": "https://localhost:8080/"
        },
        "id": "8781ae1c",
        "outputId": "709e37e7-2376-4688-864c-fec156a91a3e"
      },
      "outputs": [
        {
          "name": "stdout",
          "output_type": "stream",
          "text": [
            "DecisionTreeClassifier(class_weight='balanced', max_depth=1, random_state=12345) | глубина= 1 | 0.8598130841121496\n",
            "F1: 0.8598130841121496\n",
            "max_depth = 1 : DecisionTreeClassifier(class_weight='balanced', max_depth=2, random_state=12345) | глубина= 2 | 0.8866995073891626\n",
            "F1: 0.8866995073891626\n",
            "max_depth = 2 : DecisionTreeClassifier(class_weight='balanced', max_depth=3, random_state=12345) | глубина= 3 | 0.9137055837563451\n",
            "F1: 0.9137055837563451\n",
            "max_depth = 3 : DecisionTreeClassifier(class_weight='balanced', max_depth=4, random_state=12345) | глубина= 4 | 0.9175257731958762\n",
            "F1: 0.9175257731958762\n",
            "max_depth = 4 : DecisionTreeClassifier(class_weight='balanced', max_depth=5, random_state=12345) | глубина= 5 | 0.9270833333333333\n",
            "F1: 0.9270833333333333\n",
            "max_depth = 5 : DecisionTreeClassifier(class_weight='balanced', max_depth=6, random_state=12345) | глубина= 6 | 0.9263157894736842\n",
            "F1: 0.9263157894736842\n",
            "max_depth = 6 : DecisionTreeClassifier(class_weight='balanced', max_depth=7, random_state=12345) | глубина= 7 | 0.9263157894736842\n",
            "F1: 0.9263157894736842\n",
            "max_depth = 7 : DecisionTreeClassifier(class_weight='balanced', max_depth=8, random_state=12345) | глубина= 8 | 0.9263157894736842\n",
            "F1: 0.9263157894736842\n",
            "max_depth = 8 : DecisionTreeClassifier(class_weight='balanced', max_depth=9, random_state=12345) | глубина= 9 | 0.9263157894736842\n",
            "F1: 0.9263157894736842\n",
            "max_depth = 9 : DecisionTreeClassifier(class_weight='balanced', max_depth=10,\n",
            "                       random_state=12345) | глубина= 10 | 0.9263157894736842\n",
            "F1: 0.9263157894736842\n",
            "max_depth = 10 : DecisionTreeClassifier(class_weight='balanced', max_depth=11,\n",
            "                       random_state=12345) | глубина= 11 | 0.9263157894736842\n",
            "F1: 0.9263157894736842\n",
            "max_depth = 11 : DecisionTreeClassifier(class_weight='balanced', max_depth=12,\n",
            "                       random_state=12345) | глубина= 12 | 0.9312169312169313\n",
            "F1: 0.9312169312169313\n",
            "max_depth = 12 : DecisionTreeClassifier(class_weight='balanced', max_depth=13,\n",
            "                       random_state=12345) | глубина= 13 | 0.9312169312169313\n",
            "F1: 0.9312169312169313\n",
            "max_depth = 13 : DecisionTreeClassifier(class_weight='balanced', max_depth=14,\n",
            "                       random_state=12345) | глубина= 14 | 0.9411764705882354\n",
            "F1: 0.9411764705882354\n",
            "max_depth = 14 : DecisionTreeClassifier(class_weight='balanced', max_depth=15,\n",
            "                       random_state=12345) | глубина= 15 | 0.9411764705882354\n",
            "F1: 0.9411764705882354\n",
            "max_depth = 15 : DecisionTreeClassifier(class_weight='balanced', max_depth=16,\n",
            "                       random_state=12345) | глубина= 16 | 0.9411764705882354\n",
            "F1: 0.9411764705882354\n",
            "max_depth = 16 : DecisionTreeClassifier(class_weight='balanced', max_depth=17,\n",
            "                       random_state=12345) | глубина= 17 | 0.9411764705882354\n",
            "F1: 0.9411764705882354\n",
            "max_depth = 17 : DecisionTreeClassifier(class_weight='balanced', max_depth=18,\n",
            "                       random_state=12345) | глубина= 18 | 0.9411764705882354\n",
            "F1: 0.9411764705882354\n",
            "max_depth = 18 : DecisionTreeClassifier(class_weight='balanced', max_depth=19,\n",
            "                       random_state=12345) | глубина= 19 | 0.9411764705882354\n",
            "F1: 0.9411764705882354\n",
            "max_depth = 19 : DecisionTreeClassifier(class_weight='balanced', max_depth=20,\n",
            "                       random_state=12345) | глубина= 20 | 0.9411764705882354\n",
            "F1: 0.9411764705882354\n",
            "max_depth = 20 : DecisionTreeClassifier(class_weight='balanced', max_depth=21,\n",
            "                       random_state=12345) | глубина= 21 | 0.9411764705882354\n",
            "F1: 0.9411764705882354\n",
            "max_depth = 21 : DecisionTreeClassifier(class_weight='balanced', max_depth=22,\n",
            "                       random_state=12345) | глубина= 22 | 0.9411764705882354\n",
            "F1: 0.9411764705882354\n",
            "max_depth = 22 : DecisionTreeClassifier(class_weight='balanced', max_depth=23,\n",
            "                       random_state=12345) | глубина= 23 | 0.9411764705882354\n",
            "F1: 0.9411764705882354\n",
            "max_depth = 23 : DecisionTreeClassifier(class_weight='balanced', max_depth=24,\n",
            "                       random_state=12345) | глубина= 24 | 0.9411764705882354\n",
            "F1: 0.9411764705882354\n",
            "max_depth = 24 : DecisionTreeClassifier(class_weight='balanced', max_depth=25,\n",
            "                       random_state=12345) | глубина= 25 | 0.9411764705882354\n",
            "F1: 0.9411764705882354\n",
            "max_depth = 25 : DecisionTreeClassifier(class_weight='balanced', max_depth=26,\n",
            "                       random_state=12345) | глубина= 26 | 0.9411764705882354\n",
            "F1: 0.9411764705882354\n",
            "max_depth = 26 : DecisionTreeClassifier(class_weight='balanced', max_depth=27,\n",
            "                       random_state=12345) | глубина= 27 | 0.9411764705882354\n",
            "F1: 0.9411764705882354\n",
            "max_depth = 27 : DecisionTreeClassifier(class_weight='balanced', max_depth=28,\n",
            "                       random_state=12345) | глубина= 28 | 0.9411764705882354\n",
            "F1: 0.9411764705882354\n",
            "max_depth = 28 : DecisionTreeClassifier(class_weight='balanced', max_depth=29,\n",
            "                       random_state=12345) | глубина= 29 | 0.9411764705882354\n",
            "F1: 0.9411764705882354\n",
            "max_depth = 29 : DecisionTreeClassifier(class_weight='balanced', max_depth=30,\n",
            "                       random_state=12345) | глубина= 30 | 0.9411764705882354\n",
            "F1: 0.9411764705882354\n",
            "max_depth = 30 : DecisionTreeClassifier(class_weight='balanced', max_depth=31,\n",
            "                       random_state=12345) | глубина= 31 | 0.9411764705882354\n",
            "F1: 0.9411764705882354\n",
            "max_depth = 31 : DecisionTreeClassifier(class_weight='balanced', max_depth=32,\n",
            "                       random_state=12345) | глубина= 32 | 0.9411764705882354\n",
            "F1: 0.9411764705882354\n",
            "max_depth = 32 : DecisionTreeClassifier(class_weight='balanced', max_depth=33,\n",
            "                       random_state=12345) | глубина= 33 | 0.9411764705882354\n",
            "F1: 0.9411764705882354\n",
            "max_depth = 33 : DecisionTreeClassifier(class_weight='balanced', max_depth=34,\n",
            "                       random_state=12345) | глубина= 34 | 0.9411764705882354\n",
            "F1: 0.9411764705882354\n",
            "max_depth = 34 : DecisionTreeClassifier(class_weight='balanced', max_depth=35,\n",
            "                       random_state=12345) | глубина= 35 | 0.9411764705882354\n",
            "F1: 0.9411764705882354\n",
            "max_depth = 35 : DecisionTreeClassifier(class_weight='balanced', max_depth=36,\n",
            "                       random_state=12345) | глубина= 36 | 0.9411764705882354\n",
            "F1: 0.9411764705882354\n",
            "max_depth = 36 : DecisionTreeClassifier(class_weight='balanced', max_depth=37,\n",
            "                       random_state=12345) | глубина= 37 | 0.9411764705882354\n",
            "F1: 0.9411764705882354\n",
            "max_depth = 37 : DecisionTreeClassifier(class_weight='balanced', max_depth=38,\n",
            "                       random_state=12345) | глубина= 38 | 0.9411764705882354\n",
            "F1: 0.9411764705882354\n",
            "max_depth = 38 : DecisionTreeClassifier(class_weight='balanced', max_depth=39,\n",
            "                       random_state=12345) | глубина= 39 | 0.9411764705882354\n",
            "F1: 0.9411764705882354\n",
            "max_depth = 39 : DecisionTreeClassifier(class_weight='balanced', max_depth=40,\n",
            "                       random_state=12345) | глубина= 40 | 0.9411764705882354\n",
            "F1: 0.9411764705882354\n",
            "max_depth = 40 : DecisionTreeClassifier(class_weight='balanced', max_depth=41,\n",
            "                       random_state=12345) | глубина= 41 | 0.9411764705882354\n",
            "F1: 0.9411764705882354\n",
            "max_depth = 41 : DecisionTreeClassifier(class_weight='balanced', max_depth=42,\n",
            "                       random_state=12345) | глубина= 42 | 0.9411764705882354\n",
            "F1: 0.9411764705882354\n",
            "max_depth = 42 : DecisionTreeClassifier(class_weight='balanced', max_depth=43,\n",
            "                       random_state=12345) | глубина= 43 | 0.9411764705882354\n",
            "F1: 0.9411764705882354\n",
            "max_depth = 43 : DecisionTreeClassifier(class_weight='balanced', max_depth=44,\n",
            "                       random_state=12345) | глубина= 44 | 0.9411764705882354\n",
            "F1: 0.9411764705882354\n",
            "max_depth = 44 : DecisionTreeClassifier(class_weight='balanced', max_depth=45,\n",
            "                       random_state=12345) | глубина= 45 | 0.9411764705882354\n",
            "F1: 0.9411764705882354\n",
            "max_depth = 45 : DecisionTreeClassifier(class_weight='balanced', max_depth=46,\n",
            "                       random_state=12345) | глубина= 46 | 0.9411764705882354\n",
            "F1: 0.9411764705882354\n",
            "max_depth = 46 : DecisionTreeClassifier(class_weight='balanced', max_depth=47,\n",
            "                       random_state=12345) | глубина= 47 | 0.9411764705882354\n",
            "F1: 0.9411764705882354\n",
            "max_depth = 47 : DecisionTreeClassifier(class_weight='balanced', max_depth=48,\n",
            "                       random_state=12345) | глубина= 48 | 0.9411764705882354\n",
            "F1: 0.9411764705882354\n",
            "max_depth = 48 : DecisionTreeClassifier(class_weight='balanced', max_depth=49,\n",
            "                       random_state=12345) | глубина= 49 | 0.9411764705882354\n",
            "F1: 0.9411764705882354\n",
            "max_depth = 49 : DecisionTreeClassifier(class_weight='balanced', max_depth=50,\n",
            "                       random_state=12345) | глубина= 50 | 0.9411764705882354\n",
            "F1: 0.9411764705882354\n",
            "max_depth = 50 : DecisionTreeClassifier(class_weight='balanced', max_depth=51,\n",
            "                       random_state=12345) | глубина= 51 | 0.9411764705882354\n",
            "F1: 0.9411764705882354\n",
            "max_depth = 51 : DecisionTreeClassifier(class_weight='balanced', max_depth=52,\n",
            "                       random_state=12345) | глубина= 52 | 0.9411764705882354\n",
            "F1: 0.9411764705882354\n",
            "max_depth = 52 : DecisionTreeClassifier(class_weight='balanced', max_depth=53,\n",
            "                       random_state=12345) | глубина= 53 | 0.9411764705882354\n",
            "F1: 0.9411764705882354\n",
            "max_depth = 53 : DecisionTreeClassifier(class_weight='balanced', max_depth=54,\n",
            "                       random_state=12345) | глубина= 54 | 0.9411764705882354\n",
            "F1: 0.9411764705882354\n",
            "max_depth = 54 : DecisionTreeClassifier(class_weight='balanced', max_depth=55,\n",
            "                       random_state=12345) | глубина= 55 | 0.9411764705882354\n",
            "F1: 0.9411764705882354\n",
            "max_depth = 55 : DecisionTreeClassifier(class_weight='balanced', max_depth=56,\n",
            "                       random_state=12345) | глубина= 56 | 0.9411764705882354\n",
            "F1: 0.9411764705882354\n",
            "max_depth = 56 : DecisionTreeClassifier(class_weight='balanced', max_depth=57,\n",
            "                       random_state=12345) | глубина= 57 | 0.9411764705882354\n",
            "F1: 0.9411764705882354\n",
            "max_depth = 57 : DecisionTreeClassifier(class_weight='balanced', max_depth=58,\n",
            "                       random_state=12345) | глубина= 58 | 0.9411764705882354\n",
            "F1: 0.9411764705882354\n",
            "max_depth = 58 : DecisionTreeClassifier(class_weight='balanced', max_depth=59,\n",
            "                       random_state=12345) | глубина= 59 | 0.9411764705882354\n",
            "F1: 0.9411764705882354\n",
            "max_depth = 59 : DecisionTreeClassifier(class_weight='balanced', max_depth=60,\n",
            "                       random_state=12345) | глубина= 60 | 0.9411764705882354\n",
            "F1: 0.9411764705882354\n",
            "max_depth = 60 : DecisionTreeClassifier(class_weight='balanced', max_depth=61,\n",
            "                       random_state=12345) | глубина= 61 | 0.9411764705882354\n",
            "F1: 0.9411764705882354\n",
            "max_depth = 61 : DecisionTreeClassifier(class_weight='balanced', max_depth=62,\n",
            "                       random_state=12345) | глубина= 62 | 0.9411764705882354\n",
            "F1: 0.9411764705882354\n",
            "max_depth = 62 : DecisionTreeClassifier(class_weight='balanced', max_depth=63,\n",
            "                       random_state=12345) | глубина= 63 | 0.9411764705882354\n",
            "F1: 0.9411764705882354\n",
            "max_depth = 63 : DecisionTreeClassifier(class_weight='balanced', max_depth=64,\n",
            "                       random_state=12345) | глубина= 64 | 0.9411764705882354\n",
            "F1: 0.9411764705882354\n",
            "max_depth = 64 : DecisionTreeClassifier(class_weight='balanced', max_depth=65,\n",
            "                       random_state=12345) | глубина= 65 | 0.9411764705882354\n",
            "F1: 0.9411764705882354\n",
            "max_depth = 65 : DecisionTreeClassifier(class_weight='balanced', max_depth=66,\n",
            "                       random_state=12345) | глубина= 66 | 0.9411764705882354\n",
            "F1: 0.9411764705882354\n",
            "max_depth = 66 : DecisionTreeClassifier(class_weight='balanced', max_depth=67,\n",
            "                       random_state=12345) | глубина= 67 | 0.9411764705882354\n",
            "F1: 0.9411764705882354\n",
            "max_depth = 67 : DecisionTreeClassifier(class_weight='balanced', max_depth=68,\n",
            "                       random_state=12345) | глубина= 68 | 0.9411764705882354\n",
            "F1: 0.9411764705882354\n",
            "max_depth = 68 : DecisionTreeClassifier(class_weight='balanced', max_depth=69,\n",
            "                       random_state=12345) | глубина= 69 | 0.9411764705882354\n",
            "F1: 0.9411764705882354\n",
            "max_depth = 69 : DecisionTreeClassifier(class_weight='balanced', max_depth=70,\n",
            "                       random_state=12345) | глубина= 70 | 0.9411764705882354\n",
            "F1: 0.9411764705882354\n",
            "max_depth = 70 : DecisionTreeClassifier(class_weight='balanced', max_depth=71,\n",
            "                       random_state=12345) | глубина= 71 | 0.9411764705882354\n",
            "F1: 0.9411764705882354\n",
            "max_depth = 71 : DecisionTreeClassifier(class_weight='balanced', max_depth=72,\n",
            "                       random_state=12345) | глубина= 72 | 0.9411764705882354\n",
            "F1: 0.9411764705882354\n",
            "max_depth = 72 : DecisionTreeClassifier(class_weight='balanced', max_depth=73,\n",
            "                       random_state=12345) | глубина= 73 | 0.9411764705882354\n",
            "F1: 0.9411764705882354\n",
            "max_depth = 73 : DecisionTreeClassifier(class_weight='balanced', max_depth=74,\n",
            "                       random_state=12345) | глубина= 74 | 0.9411764705882354\n",
            "F1: 0.9411764705882354\n",
            "max_depth = 74 : DecisionTreeClassifier(class_weight='balanced', max_depth=75,\n",
            "                       random_state=12345) | глубина= 75 | 0.9411764705882354\n",
            "F1: 0.9411764705882354\n",
            "max_depth = 75 : DecisionTreeClassifier(class_weight='balanced', max_depth=76,\n",
            "                       random_state=12345) | глубина= 76 | 0.9411764705882354\n",
            "F1: 0.9411764705882354\n",
            "max_depth = 76 : DecisionTreeClassifier(class_weight='balanced', max_depth=77,\n",
            "                       random_state=12345) | глубина= 77 | 0.9411764705882354\n",
            "F1: 0.9411764705882354\n",
            "max_depth = 77 : DecisionTreeClassifier(class_weight='balanced', max_depth=78,\n",
            "                       random_state=12345) | глубина= 78 | 0.9411764705882354\n",
            "F1: 0.9411764705882354\n",
            "max_depth = 78 : DecisionTreeClassifier(class_weight='balanced', max_depth=79,\n",
            "                       random_state=12345) | глубина= 79 | 0.9411764705882354\n",
            "F1: 0.9411764705882354\n",
            "max_depth = 79 : DecisionTreeClassifier(class_weight='balanced', max_depth=80,\n",
            "                       random_state=12345) | глубина= 80 | 0.9411764705882354\n",
            "F1: 0.9411764705882354\n",
            "max_depth = 80 : DecisionTreeClassifier(class_weight='balanced', max_depth=81,\n",
            "                       random_state=12345) | глубина= 81 | 0.9411764705882354\n",
            "F1: 0.9411764705882354\n",
            "max_depth = 81 : DecisionTreeClassifier(class_weight='balanced', max_depth=82,\n",
            "                       random_state=12345) | глубина= 82 | 0.9411764705882354\n",
            "F1: 0.9411764705882354\n",
            "max_depth = 82 : DecisionTreeClassifier(class_weight='balanced', max_depth=83,\n",
            "                       random_state=12345) | глубина= 83 | 0.9411764705882354\n",
            "F1: 0.9411764705882354\n",
            "max_depth = 83 : DecisionTreeClassifier(class_weight='balanced', max_depth=84,\n",
            "                       random_state=12345) | глубина= 84 | 0.9411764705882354\n",
            "F1: 0.9411764705882354\n",
            "max_depth = 84 : DecisionTreeClassifier(class_weight='balanced', max_depth=85,\n",
            "                       random_state=12345) | глубина= 85 | 0.9411764705882354\n",
            "F1: 0.9411764705882354\n",
            "max_depth = 85 : DecisionTreeClassifier(class_weight='balanced', max_depth=86,\n",
            "                       random_state=12345) | глубина= 86 | 0.9411764705882354\n",
            "F1: 0.9411764705882354\n",
            "max_depth = 86 : DecisionTreeClassifier(class_weight='balanced', max_depth=87,\n",
            "                       random_state=12345) | глубина= 87 | 0.9411764705882354\n",
            "F1: 0.9411764705882354\n",
            "max_depth = 87 : DecisionTreeClassifier(class_weight='balanced', max_depth=88,\n",
            "                       random_state=12345) | глубина= 88 | 0.9411764705882354\n",
            "F1: 0.9411764705882354\n",
            "max_depth = 88 : DecisionTreeClassifier(class_weight='balanced', max_depth=89,\n",
            "                       random_state=12345) | глубина= 89 | 0.9411764705882354\n",
            "F1: 0.9411764705882354\n",
            "max_depth = 89 : DecisionTreeClassifier(class_weight='balanced', max_depth=90,\n",
            "                       random_state=12345) | глубина= 90 | 0.9411764705882354\n",
            "F1: 0.9411764705882354\n",
            "max_depth = 90 : DecisionTreeClassifier(class_weight='balanced', max_depth=91,\n",
            "                       random_state=12345) | глубина= 91 | 0.9411764705882354\n",
            "F1: 0.9411764705882354\n",
            "max_depth = 91 : DecisionTreeClassifier(class_weight='balanced', max_depth=92,\n",
            "                       random_state=12345) | глубина= 92 | 0.9411764705882354\n",
            "F1: 0.9411764705882354\n",
            "max_depth = 92 : DecisionTreeClassifier(class_weight='balanced', max_depth=93,\n",
            "                       random_state=12345) | глубина= 93 | 0.9411764705882354\n",
            "F1: 0.9411764705882354\n",
            "max_depth = 93 : DecisionTreeClassifier(class_weight='balanced', max_depth=94,\n",
            "                       random_state=12345) | глубина= 94 | 0.9411764705882354\n",
            "F1: 0.9411764705882354\n",
            "max_depth = 94 : DecisionTreeClassifier(class_weight='balanced', max_depth=95,\n",
            "                       random_state=12345) | глубина= 95 | 0.9411764705882354\n",
            "F1: 0.9411764705882354\n",
            "max_depth = 95 : DecisionTreeClassifier(class_weight='balanced', max_depth=96,\n",
            "                       random_state=12345) | глубина= 96 | 0.9411764705882354\n",
            "F1: 0.9411764705882354\n",
            "max_depth = 96 : DecisionTreeClassifier(class_weight='balanced', max_depth=97,\n",
            "                       random_state=12345) | глубина= 97 | 0.9411764705882354\n",
            "F1: 0.9411764705882354\n",
            "max_depth = 97 : DecisionTreeClassifier(class_weight='balanced', max_depth=98,\n",
            "                       random_state=12345) | глубина= 98 | 0.9411764705882354\n",
            "F1: 0.9411764705882354\n",
            "max_depth = 98 : DecisionTreeClassifier(class_weight='balanced', max_depth=99,\n",
            "                       random_state=12345) | глубина= 99 | 0.9411764705882354\n",
            "F1: 0.9411764705882354\n",
            "max_depth = 99 : максиально достигнутый F1: 0.9411764705882354\n",
            "Cамая эффективная модель - best_model DecisionTreeClassifier(class_weight='balanced', max_depth=14,\n",
            "                       random_state=12345)\n",
            "CPU times: user 1min 21s, sys: 0 ns, total: 1min 21s\n",
            "Wall time: 1min 34s\n"
          ]
        }
      ],
      "source": [
        "%%time\n",
        "best_model = None\n",
        "best_result = 0\n",
        "for depth in range(1, 100):\n",
        "    model = DecisionTreeClassifier(random_state=12345, max_depth=depth, class_weight='balanced')\n",
        "    model.fit(features_train, target_train)\n",
        "    predicted_valid = model.predict(features_valid)\n",
        "    result = f1_score(target_valid, predicted_valid) \n",
        "    print(model, '|', 'глубина=',depth,'|', result)\n",
        "    print(\"F1:\", f1_score(target_valid, predicted_valid))\n",
        "    print(\"max_depth =\", depth, \": \", end='')\n",
        "    if result > best_result:\n",
        "        best_model = model\n",
        "        best_result = result  \n",
        "print(\"максиально достигнутый F1:\", best_result)\n",
        "print('Cамая эффективная модель - best_model',best_model)\n",
        "    \n"
      ],
      "id": "8781ae1c"
    },
    {
      "cell_type": "markdown",
      "metadata": {
        "id": "ynUaXnYBUIaR"
      },
      "source": [
        "**Результат** достигнута нужная метрика, максиально достигнутый F1: 0.9411764705882354\n",
        "Cамая эффективная модель - best_model DecisionTreeClassifier(class_weight='balanced', max_depth=14,\n",
        "                       random_state=12345)"
      ],
      "id": "ynUaXnYBUIaR"
    },
    {
      "cell_type": "code",
      "execution_count": null,
      "metadata": {
        "colab": {
          "base_uri": "https://localhost:8080/"
        },
        "id": "jkJfhfMCsigA",
        "outputId": "0e143f48-c135-47df-909e-193d1b056ee0"
      },
      "outputs": [
        {
          "name": "stdout",
          "output_type": "stream",
          "text": [
            "RandomForestClassifier(class_weight='balanced', max_depth=2, n_estimators=50,\n",
            "                       random_state=12345) | est= 50 | depth= 2 | 0.9246231155778896\n",
            "F1: 0.9246231155778896\n",
            "RandomForestClassifier(class_weight='balanced', max_depth=2, random_state=12345) | est= 100 | depth= 2 | 0.9346733668341709\n",
            "F1: 0.9346733668341709\n",
            "RandomForestClassifier(class_weight='balanced', max_depth=2, n_estimators=150,\n",
            "                       random_state=12345) | est= 150 | depth= 2 | 0.9306930693069306\n",
            "F1: 0.9306930693069306\n",
            "RandomForestClassifier(class_weight='balanced', max_depth=2, n_estimators=200,\n",
            "                       random_state=12345) | est= 200 | depth= 2 | 0.9306930693069306\n",
            "F1: 0.9306930693069306\n",
            "RandomForestClassifier(class_weight='balanced', max_depth=2, n_estimators=250,\n",
            "                       random_state=12345) | est= 250 | depth= 2 | 0.9253731343283582\n",
            "F1: 0.9253731343283582\n",
            "RandomForestClassifier(class_weight='balanced', max_depth=2, n_estimators=300,\n",
            "                       random_state=12345) | est= 300 | depth= 2 | 0.9253731343283582\n",
            "F1: 0.9253731343283582\n",
            "RandomForestClassifier(class_weight='balanced', max_depth=2, n_estimators=350,\n",
            "                       random_state=12345) | est= 350 | depth= 2 | 0.9253731343283582\n",
            "F1: 0.9253731343283582\n",
            "RandomForestClassifier(class_weight='balanced', max_depth=4, n_estimators=50,\n",
            "                       random_state=12345) | est= 50 | depth= 4 | 0.9424083769633508\n",
            "F1: 0.9424083769633508\n",
            "RandomForestClassifier(class_weight='balanced', max_depth=4, random_state=12345) | est= 100 | depth= 4 | 0.9424083769633508\n",
            "F1: 0.9424083769633508\n",
            "RandomForestClassifier(class_weight='balanced', max_depth=4, n_estimators=150,\n",
            "                       random_state=12345) | est= 150 | depth= 4 | 0.9424083769633508\n",
            "F1: 0.9424083769633508\n",
            "RandomForestClassifier(class_weight='balanced', max_depth=4, n_estimators=200,\n",
            "                       random_state=12345) | est= 200 | depth= 4 | 0.9424083769633508\n",
            "F1: 0.9424083769633508\n",
            "RandomForestClassifier(class_weight='balanced', max_depth=4, n_estimators=250,\n",
            "                       random_state=12345) | est= 250 | depth= 4 | 0.9424083769633508\n",
            "F1: 0.9424083769633508\n",
            "RandomForestClassifier(class_weight='balanced', max_depth=4, n_estimators=300,\n",
            "                       random_state=12345) | est= 300 | depth= 4 | 0.9424083769633508\n",
            "F1: 0.9424083769633508\n",
            "RandomForestClassifier(class_weight='balanced', max_depth=4, n_estimators=350,\n",
            "                       random_state=12345) | est= 350 | depth= 4 | 0.9424083769633508\n",
            "F1: 0.9424083769633508\n",
            "RandomForestClassifier(class_weight='balanced', max_depth=6, n_estimators=50,\n",
            "                       random_state=12345) | est= 50 | depth= 6 | 0.9417989417989417\n",
            "F1: 0.9417989417989417\n",
            "RandomForestClassifier(class_weight='balanced', max_depth=6, random_state=12345) | est= 100 | depth= 6 | 0.9473684210526315\n",
            "F1: 0.9473684210526315\n",
            "RandomForestClassifier(class_weight='balanced', max_depth=6, n_estimators=150,\n",
            "                       random_state=12345) | est= 150 | depth= 6 | 0.9473684210526315\n",
            "F1: 0.9473684210526315\n",
            "RandomForestClassifier(class_weight='balanced', max_depth=6, n_estimators=200,\n",
            "                       random_state=12345) | est= 200 | depth= 6 | 0.9473684210526315\n",
            "F1: 0.9473684210526315\n",
            "RandomForestClassifier(class_weight='balanced', max_depth=6, n_estimators=250,\n",
            "                       random_state=12345) | est= 250 | depth= 6 | 0.9424083769633508\n",
            "F1: 0.9424083769633508\n",
            "RandomForestClassifier(class_weight='balanced', max_depth=6, n_estimators=300,\n",
            "                       random_state=12345) | est= 300 | depth= 6 | 0.9473684210526315\n",
            "F1: 0.9473684210526315\n",
            "RandomForestClassifier(class_weight='balanced', max_depth=6, n_estimators=350,\n",
            "                       random_state=12345) | est= 350 | depth= 6 | 0.9473684210526315\n",
            "F1: 0.9473684210526315\n",
            "RandomForestClassifier(class_weight='balanced', max_depth=8, n_estimators=50,\n",
            "                       random_state=12345) | est= 50 | depth= 8 | 0.9361702127659575\n",
            "F1: 0.9361702127659575\n",
            "RandomForestClassifier(class_weight='balanced', max_depth=8, random_state=12345) | est= 100 | depth= 8 | 0.9417989417989417\n",
            "F1: 0.9417989417989417\n",
            "RandomForestClassifier(class_weight='balanced', max_depth=8, n_estimators=150,\n",
            "                       random_state=12345) | est= 150 | depth= 8 | 0.9361702127659575\n",
            "F1: 0.9361702127659575\n",
            "RandomForestClassifier(class_weight='balanced', max_depth=8, n_estimators=200,\n",
            "                       random_state=12345) | est= 200 | depth= 8 | 0.9361702127659575\n",
            "F1: 0.9361702127659575\n",
            "RandomForestClassifier(class_weight='balanced', max_depth=8, n_estimators=250,\n",
            "                       random_state=12345) | est= 250 | depth= 8 | 0.9473684210526315\n",
            "F1: 0.9473684210526315\n",
            "RandomForestClassifier(class_weight='balanced', max_depth=8, n_estimators=300,\n",
            "                       random_state=12345) | est= 300 | depth= 8 | 0.9473684210526315\n",
            "F1: 0.9473684210526315\n",
            "RandomForestClassifier(class_weight='balanced', max_depth=8, n_estimators=350,\n",
            "                       random_state=12345) | est= 350 | depth= 8 | 0.9473684210526315\n",
            "F1: 0.9473684210526315\n",
            "RandomForestClassifier(class_weight='balanced', max_depth=10, n_estimators=50,\n",
            "                       random_state=12345) | est= 50 | depth= 10 | 0.9361702127659575\n",
            "F1: 0.9361702127659575\n",
            "RandomForestClassifier(class_weight='balanced', max_depth=10,\n",
            "                       random_state=12345) | est= 100 | depth= 10 | 0.9361702127659575\n",
            "F1: 0.9361702127659575\n",
            "RandomForestClassifier(class_weight='balanced', max_depth=10, n_estimators=150,\n",
            "                       random_state=12345) | est= 150 | depth= 10 | 0.9361702127659575\n",
            "F1: 0.9361702127659575\n",
            "RandomForestClassifier(class_weight='balanced', max_depth=10, n_estimators=200,\n",
            "                       random_state=12345) | est= 200 | depth= 10 | 0.9361702127659575\n",
            "F1: 0.9361702127659575\n",
            "RandomForestClassifier(class_weight='balanced', max_depth=10, n_estimators=250,\n",
            "                       random_state=12345) | est= 250 | depth= 10 | 0.9417989417989417\n",
            "F1: 0.9417989417989417\n",
            "RandomForestClassifier(class_weight='balanced', max_depth=10, n_estimators=300,\n",
            "                       random_state=12345) | est= 300 | depth= 10 | 0.9417989417989417\n",
            "F1: 0.9417989417989417\n",
            "RandomForestClassifier(class_weight='balanced', max_depth=10, n_estimators=350,\n",
            "                       random_state=12345) | est= 350 | depth= 10 | 0.9417989417989417\n",
            "F1: 0.9417989417989417\n",
            "RandomForestClassifier(class_weight='balanced', max_depth=12, n_estimators=50,\n",
            "                       random_state=12345) | est= 50 | depth= 12 | 0.9361702127659575\n",
            "F1: 0.9361702127659575\n",
            "RandomForestClassifier(class_weight='balanced', max_depth=12,\n",
            "                       random_state=12345) | est= 100 | depth= 12 | 0.9361702127659575\n",
            "F1: 0.9361702127659575\n",
            "RandomForestClassifier(class_weight='balanced', max_depth=12, n_estimators=150,\n",
            "                       random_state=12345) | est= 150 | depth= 12 | 0.9361702127659575\n",
            "F1: 0.9361702127659575\n",
            "RandomForestClassifier(class_weight='balanced', max_depth=12, n_estimators=200,\n",
            "                       random_state=12345) | est= 200 | depth= 12 | 0.9411764705882354\n",
            "F1: 0.9411764705882354\n",
            "RandomForestClassifier(class_weight='balanced', max_depth=12, n_estimators=250,\n",
            "                       random_state=12345) | est= 250 | depth= 12 | 0.9361702127659575\n",
            "F1: 0.9361702127659575\n",
            "RandomForestClassifier(class_weight='balanced', max_depth=12, n_estimators=300,\n",
            "                       random_state=12345) | est= 300 | depth= 12 | 0.9361702127659575\n",
            "F1: 0.9361702127659575\n",
            "RandomForestClassifier(class_weight='balanced', max_depth=12, n_estimators=350,\n",
            "                       random_state=12345) | est= 350 | depth= 12 | 0.9361702127659575\n",
            "F1: 0.9361702127659575\n",
            "RandomForestClassifier(class_weight='balanced', max_depth=14, n_estimators=50,\n",
            "                       random_state=12345) | est= 50 | depth= 14 | 0.9361702127659575\n",
            "F1: 0.9361702127659575\n",
            "RandomForestClassifier(class_weight='balanced', max_depth=14,\n",
            "                       random_state=12345) | est= 100 | depth= 14 | 0.935483870967742\n",
            "F1: 0.935483870967742\n",
            "RandomForestClassifier(class_weight='balanced', max_depth=14, n_estimators=150,\n",
            "                       random_state=12345) | est= 150 | depth= 14 | 0.9361702127659575\n",
            "F1: 0.9361702127659575\n",
            "RandomForestClassifier(class_weight='balanced', max_depth=14, n_estimators=200,\n",
            "                       random_state=12345) | est= 200 | depth= 14 | 0.946236559139785\n",
            "F1: 0.946236559139785\n",
            "RandomForestClassifier(class_weight='balanced', max_depth=14, n_estimators=250,\n",
            "                       random_state=12345) | est= 250 | depth= 14 | 0.9411764705882354\n",
            "F1: 0.9411764705882354\n",
            "RandomForestClassifier(class_weight='balanced', max_depth=14, n_estimators=300,\n",
            "                       random_state=12345) | est= 300 | depth= 14 | 0.9361702127659575\n",
            "F1: 0.9361702127659575\n",
            "RandomForestClassifier(class_weight='balanced', max_depth=14, n_estimators=350,\n",
            "                       random_state=12345) | est= 350 | depth= 14 | 0.9411764705882354\n",
            "F1: 0.9411764705882354\n",
            "RandomForestClassifier(class_weight='balanced', max_depth=16, n_estimators=50,\n",
            "                       random_state=12345) | est= 50 | depth= 16 | 0.9411764705882354\n",
            "F1: 0.9411764705882354\n",
            "RandomForestClassifier(class_weight='balanced', max_depth=16,\n",
            "                       random_state=12345) | est= 100 | depth= 16 | 0.9405405405405406\n",
            "F1: 0.9405405405405406\n",
            "RandomForestClassifier(class_weight='balanced', max_depth=16, n_estimators=150,\n",
            "                       random_state=12345) | est= 150 | depth= 16 | 0.9411764705882354\n",
            "F1: 0.9411764705882354\n",
            "RandomForestClassifier(class_weight='balanced', max_depth=16, n_estimators=200,\n",
            "                       random_state=12345) | est= 200 | depth= 16 | 0.946236559139785\n",
            "F1: 0.946236559139785\n",
            "RandomForestClassifier(class_weight='balanced', max_depth=16, n_estimators=250,\n",
            "                       random_state=12345) | est= 250 | depth= 16 | 0.9411764705882354\n",
            "F1: 0.9411764705882354\n",
            "RandomForestClassifier(class_weight='balanced', max_depth=16, n_estimators=300,\n",
            "                       random_state=12345) | est= 300 | depth= 16 | 0.9411764705882354\n",
            "F1: 0.9411764705882354\n",
            "RandomForestClassifier(class_weight='balanced', max_depth=16, n_estimators=350,\n",
            "                       random_state=12345) | est= 350 | depth= 16 | 0.9411764705882354\n",
            "F1: 0.9411764705882354\n",
            "RandomForestClassifier(class_weight='balanced', max_depth=18, n_estimators=50,\n",
            "                       random_state=12345) | est= 50 | depth= 18 | 0.946236559139785\n",
            "F1: 0.946236559139785\n",
            "RandomForestClassifier(class_weight='balanced', max_depth=18,\n",
            "                       random_state=12345) | est= 100 | depth= 18 | 0.9405405405405406\n",
            "F1: 0.9405405405405406\n",
            "RandomForestClassifier(class_weight='balanced', max_depth=18, n_estimators=150,\n",
            "                       random_state=12345) | est= 150 | depth= 18 | 0.946236559139785\n",
            "F1: 0.946236559139785\n",
            "RandomForestClassifier(class_weight='balanced', max_depth=18, n_estimators=200,\n",
            "                       random_state=12345) | est= 200 | depth= 18 | 0.946236559139785\n",
            "F1: 0.946236559139785\n",
            "RandomForestClassifier(class_weight='balanced', max_depth=18, n_estimators=250,\n",
            "                       random_state=12345) | est= 250 | depth= 18 | 0.9411764705882354\n",
            "F1: 0.9411764705882354\n",
            "RandomForestClassifier(class_weight='balanced', max_depth=18, n_estimators=300,\n",
            "                       random_state=12345) | est= 300 | depth= 18 | 0.9411764705882354\n",
            "F1: 0.9411764705882354\n",
            "RandomForestClassifier(class_weight='balanced', max_depth=18, n_estimators=350,\n",
            "                       random_state=12345) | est= 350 | depth= 18 | 0.9411764705882354\n",
            "F1: 0.9411764705882354\n",
            "RandomForestClassifier(class_weight='balanced', max_depth=20, n_estimators=50,\n",
            "                       random_state=12345) | est= 50 | depth= 20 | 0.9411764705882354\n",
            "F1: 0.9411764705882354\n",
            "RandomForestClassifier(class_weight='balanced', max_depth=20,\n",
            "                       random_state=12345) | est= 100 | depth= 20 | 0.9405405405405406\n",
            "F1: 0.9405405405405406\n",
            "RandomForestClassifier(class_weight='balanced', max_depth=20, n_estimators=150,\n",
            "                       random_state=12345) | est= 150 | depth= 20 | 0.9411764705882354\n",
            "F1: 0.9411764705882354\n",
            "RandomForestClassifier(class_weight='balanced', max_depth=20, n_estimators=200,\n",
            "                       random_state=12345) | est= 200 | depth= 20 | 0.946236559139785\n",
            "F1: 0.946236559139785\n",
            "RandomForestClassifier(class_weight='balanced', max_depth=20, n_estimators=250,\n",
            "                       random_state=12345) | est= 250 | depth= 20 | 0.9411764705882354\n",
            "F1: 0.9411764705882354\n",
            "RandomForestClassifier(class_weight='balanced', max_depth=20, n_estimators=300,\n",
            "                       random_state=12345) | est= 300 | depth= 20 | 0.9411764705882354\n",
            "F1: 0.9411764705882354\n",
            "RandomForestClassifier(class_weight='balanced', max_depth=20, n_estimators=350,\n",
            "                       random_state=12345) | est= 350 | depth= 20 | 0.9411764705882354\n",
            "F1: 0.9411764705882354\n",
            "максимально достгнутый F1: 0.9473684210526315\n",
            "Cамая эффективная модель - best_model RandomForestClassifier(class_weight='balanced', max_depth=6, random_state=12345)\n",
            "CPU times: user 3min 54s, sys: 420 ms, total: 3min 55s\n",
            "Wall time: 4min 7s\n"
          ]
        }
      ],
      "source": [
        "%%time\n",
        "best_model_f = None\n",
        "best_result_f = 0\n",
        "for depth in range(2, 22, 2):\n",
        "    for est in range(50, 351, 50):\n",
        "        model = RandomForestClassifier(random_state=12345, n_estimators=est, max_depth=depth,class_weight='balanced') \n",
        "        model.fit(features_train, target_train) \n",
        "        predicted_valid = model.predict(features_valid)\n",
        "        result = f1_score(target_valid, predicted_valid) \n",
        "        print(model, '|', 'est=',est,'|', 'depth=',depth,'|', result)\n",
        "        print(\"F1:\", f1_score(target_valid, predicted_valid))\n",
        "        if result > best_result_f:\n",
        "            best_model_f = model\n",
        "            best_result_f = result \n",
        "        \n",
        "print(\"максимально достгнутый F1:\", best_result_f)\n",
        "print('Cамая эффективная модель - best_model',best_model_f)"
      ],
      "id": "jkJfhfMCsigA"
    },
    {
      "cell_type": "markdown",
      "metadata": {
        "id": "4uTCM0Y4UqJc"
      },
      "source": [
        "**Результат** Необходимая метрика достигнута, F1: 0.9473684210526315\n",
        "Cамая эффективная модель - best_model RandomForestClassifier(class_weight='balanced', max_depth=6, random_state=12345)"
      ],
      "id": "4uTCM0Y4UqJc"
    },
    {
      "cell_type": "code",
      "execution_count": null,
      "metadata": {
        "colab": {
          "base_uri": "https://localhost:8080/"
        },
        "id": "9tC6_6mhwWiL",
        "outputId": "01a0349b-8c07-4e9e-de61-a8f332130cf9"
      },
      "outputs": [
        {
          "name": "stdout",
          "output_type": "stream",
          "text": [
            "Сравнение результатов разных моделей при испольваниее toxic BERT\n",
            "\n",
            "F1 на обычной модели логистический регрессии: 0.9473684210526315\n",
            "\n",
            "на модели дерева решений с подбором гиперпараметров\n",
            "максиально достигнутый F1: 0.9473684210526315\n",
            "Cамая эффективная модель - best_model RandomForestClassifier(class_weight='balanced', max_depth=6, random_state=12345)\n",
            "\n",
            "на модели случайного леса с подбором гиперпараметров\n",
            "максимально достгнутый F1: 0.9473684210526315\n",
            "Cамая эффективная модель - best_model RandomForestClassifier(class_weight='balanced', max_depth=6, random_state=12345)\n"
          ]
        }
      ],
      "source": [
        "print ('Сравнение результатов разных моделей при испольваниее toxic BERT')\n",
        "print()\n",
        "print('F1 на обычной модели логистический регрессии:', f1_score(target_valid,predictions))\n",
        "print()\n",
        "print ('на модели дерева решений с подбором гиперпараметров')\n",
        "print(\"максиально достигнутый F1:\", best_result)\n",
        "print('Cамая эффективная модель - best_model',best_model)\n",
        "print ()\n",
        "print ('на модели случайного леса с подбором гиперпараметров')\n",
        "print(\"максимально достгнутый F1:\", best_result_f)\n",
        "print('Cамая эффективная модель - best_model',best_model_f)\n",
        "\n"
      ],
      "id": "9tC6_6mhwWiL"
    },
    {
      "cell_type": "markdown",
      "metadata": {
        "id": "a94fM3GO8LFR"
      },
      "source": [
        "**Выводы: специализированная toxic BERT дает существенно высокие показатели F1 на всех моделях**"
      ],
      "id": "a94fM3GO8LFR"
    },
    {
      "cell_type": "markdown",
      "metadata": {
        "id": "Hwr57pGCUsb0"
      },
      "source": [
        "# Работа с данными на основе расчетов TF-IDF"
      ],
      "id": "Hwr57pGCUsb0"
    },
    {
      "cell_type": "code",
      "execution_count": null,
      "metadata": {
        "colab": {
          "base_uri": "https://localhost:8080/"
        },
        "id": "adOmFgI4kHOr",
        "outputId": "01d33350-9bdf-406f-eb8c-617b369133a3"
      },
      "outputs": [
        {
          "output_type": "stream",
          "name": "stdout",
          "text": [
            "CPU times: user 22.2 ms, sys: 1.85 ms, total: 24 ms\n",
            "Wall time: 46 ms\n"
          ]
        },
        {
          "output_type": "stream",
          "name": "stderr",
          "text": [
            "[nltk_data] Downloading package stopwords to /root/nltk_data...\n",
            "[nltk_data]   Unzipping corpora/stopwords.zip.\n"
          ]
        }
      ],
      "source": [
        "%%time\n",
        "corpus = data['text'].values\n",
        "nltk.download('stopwords')\n",
        "\n",
        "stopwords = set(nltk_stopwords.words('english'))"
      ],
      "id": "adOmFgI4kHOr"
    },
    {
      "cell_type": "code",
      "execution_count": null,
      "metadata": {
        "id": "fzX6HC5jxOzo"
      },
      "outputs": [],
      "source": [
        "nlp = spacy.load(\"en_core_web_sm\")"
      ],
      "id": "fzX6HC5jxOzo"
    },
    {
      "cell_type": "code",
      "execution_count": null,
      "metadata": {
        "colab": {
          "base_uri": "https://localhost:8080/"
        },
        "id": "kdXSCSrKMztR",
        "outputId": "d77c132d-f5c9-410e-9144-05347590fc32"
      },
      "outputs": [
        {
          "output_type": "stream",
          "name": "stdout",
          "text": [
            "Исходный текст: Explanation\n",
            "Why the edits made under my username Hardcore Metallica Fan were reverted? They weren't vandalisms, just closure on some GAs after I voted at New York Dolls FAC. And please don't remove the template from the talk page since I'm retired now.89.205.38.27\n"
          ]
        }
      ],
      "source": [
        "def clear_text (text):\n",
        "    text_m = re.sub(r'[^a-zA-Z ]', ' ', text)\n",
        "    text_m = text_m.split()\n",
        "    text_m = \" \".join(text_m)\n",
        "    test_lower = text_m.lower()\n",
        "    text_wo_stop_w = [i for i in test_lower.split() if i not in stopwords]\n",
        "    lemm_text = nlp(\" \".join(text_wo_stop_w))\n",
        "        \n",
        "    return \" \".join([token.lemma_ for token in lemm_text])\n",
        "            \n",
        "print(\"Исходный текст:\", corpus[0])\n",
        "#print(\"Очищенный и лемматизированный текст:\", lemmatize(clear_text(corpus[0])))\n"
      ],
      "id": "kdXSCSrKMztR"
    },
    {
      "cell_type": "code",
      "execution_count": null,
      "metadata": {
        "id": "rrjNGTU8zlZ1"
      },
      "outputs": [],
      "source": [
        "data['text_clear'] = data['text'].apply(clear_text)"
      ],
      "id": "rrjNGTU8zlZ1"
    },
    {
      "cell_type": "code",
      "execution_count": null,
      "metadata": {
        "colab": {
          "base_uri": "https://localhost:8080/",
          "height": 121
        },
        "id": "miWUWjVX5_Xx",
        "outputId": "d116defc-e6a4-4455-cebc-4f14852bd75a"
      },
      "outputs": [
        {
          "output_type": "display_data",
          "data": {
            "text/plain": [
              "149096    history model second generation production his...\n",
              "65996     whatever fact may wiki need online source refe...\n",
              "27382                     upload image article help require\n",
              "154086    john herrington anyone gather much information...\n",
              "27475                                               october\n",
              "Name: text_clear, dtype: object"
            ]
          },
          "metadata": {}
        }
      ],
      "source": [
        "display (data['text_clear'].sample(5))"
      ],
      "id": "miWUWjVX5_Xx"
    },
    {
      "cell_type": "code",
      "execution_count": null,
      "metadata": {
        "colab": {
          "base_uri": "https://localhost:8080/",
          "height": 206
        },
        "id": "e_hdEHt87WGZ",
        "outputId": "f599adac-7796-45d0-e584-b148b897dd7b"
      },
      "outputs": [
        {
          "output_type": "display_data",
          "data": {
            "text/plain": [
              "                                                    text  toxic  \\\n",
              "91151               you just wait \\n\\nyour death is near      1   \n",
              "85616  Of course you're right — the hurly-burly of th...      0   \n",
              "80084  \"\\n I acknowledge it was disruptive, but I sto...      0   \n",
              "15312            Sounds good to me. Shall we vote on it?      0   \n",
              "43737  \"\\nOkay, I'm going to get a meal and then get ...      0   \n",
              "\n",
              "                                              text_clear  \n",
              "91151                                    wait death near  \n",
              "85616  course right hurly burly editing process bear ...  \n",
              "80084  acknowledge disruptive stopped stop harass sto...  \n",
              "15312                              sound good shall vote  \n",
              "43737         okay go get meal get back emerson template  "
            ],
            "text/html": [
              "\n",
              "  <div id=\"df-7a2bac4a-62f7-44e7-aa6b-c96a01e59e9f\">\n",
              "    <div class=\"colab-df-container\">\n",
              "      <div>\n",
              "<style scoped>\n",
              "    .dataframe tbody tr th:only-of-type {\n",
              "        vertical-align: middle;\n",
              "    }\n",
              "\n",
              "    .dataframe tbody tr th {\n",
              "        vertical-align: top;\n",
              "    }\n",
              "\n",
              "    .dataframe thead th {\n",
              "        text-align: right;\n",
              "    }\n",
              "</style>\n",
              "<table border=\"1\" class=\"dataframe\">\n",
              "  <thead>\n",
              "    <tr style=\"text-align: right;\">\n",
              "      <th></th>\n",
              "      <th>text</th>\n",
              "      <th>toxic</th>\n",
              "      <th>text_clear</th>\n",
              "    </tr>\n",
              "  </thead>\n",
              "  <tbody>\n",
              "    <tr>\n",
              "      <th>91151</th>\n",
              "      <td>you just wait \\n\\nyour death is near</td>\n",
              "      <td>1</td>\n",
              "      <td>wait death near</td>\n",
              "    </tr>\n",
              "    <tr>\n",
              "      <th>85616</th>\n",
              "      <td>Of course you're right — the hurly-burly of th...</td>\n",
              "      <td>0</td>\n",
              "      <td>course right hurly burly editing process bear ...</td>\n",
              "    </tr>\n",
              "    <tr>\n",
              "      <th>80084</th>\n",
              "      <td>\"\\n I acknowledge it was disruptive, but I sto...</td>\n",
              "      <td>0</td>\n",
              "      <td>acknowledge disruptive stopped stop harass sto...</td>\n",
              "    </tr>\n",
              "    <tr>\n",
              "      <th>15312</th>\n",
              "      <td>Sounds good to me. Shall we vote on it?</td>\n",
              "      <td>0</td>\n",
              "      <td>sound good shall vote</td>\n",
              "    </tr>\n",
              "    <tr>\n",
              "      <th>43737</th>\n",
              "      <td>\"\\nOkay, I'm going to get a meal and then get ...</td>\n",
              "      <td>0</td>\n",
              "      <td>okay go get meal get back emerson template</td>\n",
              "    </tr>\n",
              "  </tbody>\n",
              "</table>\n",
              "</div>\n",
              "      <button class=\"colab-df-convert\" onclick=\"convertToInteractive('df-7a2bac4a-62f7-44e7-aa6b-c96a01e59e9f')\"\n",
              "              title=\"Convert this dataframe to an interactive table.\"\n",
              "              style=\"display:none;\">\n",
              "        \n",
              "  <svg xmlns=\"http://www.w3.org/2000/svg\" height=\"24px\"viewBox=\"0 0 24 24\"\n",
              "       width=\"24px\">\n",
              "    <path d=\"M0 0h24v24H0V0z\" fill=\"none\"/>\n",
              "    <path d=\"M18.56 5.44l.94 2.06.94-2.06 2.06-.94-2.06-.94-.94-2.06-.94 2.06-2.06.94zm-11 1L8.5 8.5l.94-2.06 2.06-.94-2.06-.94L8.5 2.5l-.94 2.06-2.06.94zm10 10l.94 2.06.94-2.06 2.06-.94-2.06-.94-.94-2.06-.94 2.06-2.06.94z\"/><path d=\"M17.41 7.96l-1.37-1.37c-.4-.4-.92-.59-1.43-.59-.52 0-1.04.2-1.43.59L10.3 9.45l-7.72 7.72c-.78.78-.78 2.05 0 2.83L4 21.41c.39.39.9.59 1.41.59.51 0 1.02-.2 1.41-.59l7.78-7.78 2.81-2.81c.8-.78.8-2.07 0-2.86zM5.41 20L4 18.59l7.72-7.72 1.47 1.35L5.41 20z\"/>\n",
              "  </svg>\n",
              "      </button>\n",
              "      \n",
              "  <style>\n",
              "    .colab-df-container {\n",
              "      display:flex;\n",
              "      flex-wrap:wrap;\n",
              "      gap: 12px;\n",
              "    }\n",
              "\n",
              "    .colab-df-convert {\n",
              "      background-color: #E8F0FE;\n",
              "      border: none;\n",
              "      border-radius: 50%;\n",
              "      cursor: pointer;\n",
              "      display: none;\n",
              "      fill: #1967D2;\n",
              "      height: 32px;\n",
              "      padding: 0 0 0 0;\n",
              "      width: 32px;\n",
              "    }\n",
              "\n",
              "    .colab-df-convert:hover {\n",
              "      background-color: #E2EBFA;\n",
              "      box-shadow: 0px 1px 2px rgba(60, 64, 67, 0.3), 0px 1px 3px 1px rgba(60, 64, 67, 0.15);\n",
              "      fill: #174EA6;\n",
              "    }\n",
              "\n",
              "    [theme=dark] .colab-df-convert {\n",
              "      background-color: #3B4455;\n",
              "      fill: #D2E3FC;\n",
              "    }\n",
              "\n",
              "    [theme=dark] .colab-df-convert:hover {\n",
              "      background-color: #434B5C;\n",
              "      box-shadow: 0px 1px 3px 1px rgba(0, 0, 0, 0.15);\n",
              "      filter: drop-shadow(0px 1px 2px rgba(0, 0, 0, 0.3));\n",
              "      fill: #FFFFFF;\n",
              "    }\n",
              "  </style>\n",
              "\n",
              "      <script>\n",
              "        const buttonEl =\n",
              "          document.querySelector('#df-7a2bac4a-62f7-44e7-aa6b-c96a01e59e9f button.colab-df-convert');\n",
              "        buttonEl.style.display =\n",
              "          google.colab.kernel.accessAllowed ? 'block' : 'none';\n",
              "\n",
              "        async function convertToInteractive(key) {\n",
              "          const element = document.querySelector('#df-7a2bac4a-62f7-44e7-aa6b-c96a01e59e9f');\n",
              "          const dataTable =\n",
              "            await google.colab.kernel.invokeFunction('convertToInteractive',\n",
              "                                                     [key], {});\n",
              "          if (!dataTable) return;\n",
              "\n",
              "          const docLinkHtml = 'Like what you see? Visit the ' +\n",
              "            '<a target=\"_blank\" href=https://colab.research.google.com/notebooks/data_table.ipynb>data table notebook</a>'\n",
              "            + ' to learn more about interactive tables.';\n",
              "          element.innerHTML = '';\n",
              "          dataTable['output_type'] = 'display_data';\n",
              "          await google.colab.output.renderOutput(dataTable, element);\n",
              "          const docLink = document.createElement('div');\n",
              "          docLink.innerHTML = docLinkHtml;\n",
              "          element.appendChild(docLink);\n",
              "        }\n",
              "      </script>\n",
              "    </div>\n",
              "  </div>\n",
              "  "
            ]
          },
          "metadata": {}
        }
      ],
      "source": [
        "display (data.sample(5))"
      ],
      "id": "e_hdEHt87WGZ"
    },
    {
      "cell_type": "code",
      "execution_count": null,
      "metadata": {
        "colab": {
          "base_uri": "https://localhost:8080/",
          "height": 73
        },
        "id": "mYwm-l2l6fdK",
        "outputId": "c0c5c806-40fa-48b6-cd50-d648d158ebbc"
      },
      "outputs": [
        {
          "output_type": "display_data",
          "data": {
            "text/plain": [
              "<IPython.core.display.HTML object>"
            ],
            "text/html": [
              "\n",
              "     <input type=\"file\" id=\"files-e6ceee4e-95d8-4ff7-99fa-ae9cb76ce29c\" name=\"files[]\" multiple disabled\n",
              "        style=\"border:none\" />\n",
              "     <output id=\"result-e6ceee4e-95d8-4ff7-99fa-ae9cb76ce29c\">\n",
              "      Upload widget is only available when the cell has been executed in the\n",
              "      current browser session. Please rerun this cell to enable.\n",
              "      </output>\n",
              "      <script>// Copyright 2017 Google LLC\n",
              "//\n",
              "// Licensed under the Apache License, Version 2.0 (the \"License\");\n",
              "// you may not use this file except in compliance with the License.\n",
              "// You may obtain a copy of the License at\n",
              "//\n",
              "//      http://www.apache.org/licenses/LICENSE-2.0\n",
              "//\n",
              "// Unless required by applicable law or agreed to in writing, software\n",
              "// distributed under the License is distributed on an \"AS IS\" BASIS,\n",
              "// WITHOUT WARRANTIES OR CONDITIONS OF ANY KIND, either express or implied.\n",
              "// See the License for the specific language governing permissions and\n",
              "// limitations under the License.\n",
              "\n",
              "/**\n",
              " * @fileoverview Helpers for google.colab Python module.\n",
              " */\n",
              "(function(scope) {\n",
              "function span(text, styleAttributes = {}) {\n",
              "  const element = document.createElement('span');\n",
              "  element.textContent = text;\n",
              "  for (const key of Object.keys(styleAttributes)) {\n",
              "    element.style[key] = styleAttributes[key];\n",
              "  }\n",
              "  return element;\n",
              "}\n",
              "\n",
              "// Max number of bytes which will be uploaded at a time.\n",
              "const MAX_PAYLOAD_SIZE = 100 * 1024;\n",
              "\n",
              "function _uploadFiles(inputId, outputId) {\n",
              "  const steps = uploadFilesStep(inputId, outputId);\n",
              "  const outputElement = document.getElementById(outputId);\n",
              "  // Cache steps on the outputElement to make it available for the next call\n",
              "  // to uploadFilesContinue from Python.\n",
              "  outputElement.steps = steps;\n",
              "\n",
              "  return _uploadFilesContinue(outputId);\n",
              "}\n",
              "\n",
              "// This is roughly an async generator (not supported in the browser yet),\n",
              "// where there are multiple asynchronous steps and the Python side is going\n",
              "// to poll for completion of each step.\n",
              "// This uses a Promise to block the python side on completion of each step,\n",
              "// then passes the result of the previous step as the input to the next step.\n",
              "function _uploadFilesContinue(outputId) {\n",
              "  const outputElement = document.getElementById(outputId);\n",
              "  const steps = outputElement.steps;\n",
              "\n",
              "  const next = steps.next(outputElement.lastPromiseValue);\n",
              "  return Promise.resolve(next.value.promise).then((value) => {\n",
              "    // Cache the last promise value to make it available to the next\n",
              "    // step of the generator.\n",
              "    outputElement.lastPromiseValue = value;\n",
              "    return next.value.response;\n",
              "  });\n",
              "}\n",
              "\n",
              "/**\n",
              " * Generator function which is called between each async step of the upload\n",
              " * process.\n",
              " * @param {string} inputId Element ID of the input file picker element.\n",
              " * @param {string} outputId Element ID of the output display.\n",
              " * @return {!Iterable<!Object>} Iterable of next steps.\n",
              " */\n",
              "function* uploadFilesStep(inputId, outputId) {\n",
              "  const inputElement = document.getElementById(inputId);\n",
              "  inputElement.disabled = false;\n",
              "\n",
              "  const outputElement = document.getElementById(outputId);\n",
              "  outputElement.innerHTML = '';\n",
              "\n",
              "  const pickedPromise = new Promise((resolve) => {\n",
              "    inputElement.addEventListener('change', (e) => {\n",
              "      resolve(e.target.files);\n",
              "    });\n",
              "  });\n",
              "\n",
              "  const cancel = document.createElement('button');\n",
              "  inputElement.parentElement.appendChild(cancel);\n",
              "  cancel.textContent = 'Cancel upload';\n",
              "  const cancelPromise = new Promise((resolve) => {\n",
              "    cancel.onclick = () => {\n",
              "      resolve(null);\n",
              "    };\n",
              "  });\n",
              "\n",
              "  // Wait for the user to pick the files.\n",
              "  const files = yield {\n",
              "    promise: Promise.race([pickedPromise, cancelPromise]),\n",
              "    response: {\n",
              "      action: 'starting',\n",
              "    }\n",
              "  };\n",
              "\n",
              "  cancel.remove();\n",
              "\n",
              "  // Disable the input element since further picks are not allowed.\n",
              "  inputElement.disabled = true;\n",
              "\n",
              "  if (!files) {\n",
              "    return {\n",
              "      response: {\n",
              "        action: 'complete',\n",
              "      }\n",
              "    };\n",
              "  }\n",
              "\n",
              "  for (const file of files) {\n",
              "    const li = document.createElement('li');\n",
              "    li.append(span(file.name, {fontWeight: 'bold'}));\n",
              "    li.append(span(\n",
              "        `(${file.type || 'n/a'}) - ${file.size} bytes, ` +\n",
              "        `last modified: ${\n",
              "            file.lastModifiedDate ? file.lastModifiedDate.toLocaleDateString() :\n",
              "                                    'n/a'} - `));\n",
              "    const percent = span('0% done');\n",
              "    li.appendChild(percent);\n",
              "\n",
              "    outputElement.appendChild(li);\n",
              "\n",
              "    const fileDataPromise = new Promise((resolve) => {\n",
              "      const reader = new FileReader();\n",
              "      reader.onload = (e) => {\n",
              "        resolve(e.target.result);\n",
              "      };\n",
              "      reader.readAsArrayBuffer(file);\n",
              "    });\n",
              "    // Wait for the data to be ready.\n",
              "    let fileData = yield {\n",
              "      promise: fileDataPromise,\n",
              "      response: {\n",
              "        action: 'continue',\n",
              "      }\n",
              "    };\n",
              "\n",
              "    // Use a chunked sending to avoid message size limits. See b/62115660.\n",
              "    let position = 0;\n",
              "    do {\n",
              "      const length = Math.min(fileData.byteLength - position, MAX_PAYLOAD_SIZE);\n",
              "      const chunk = new Uint8Array(fileData, position, length);\n",
              "      position += length;\n",
              "\n",
              "      const base64 = btoa(String.fromCharCode.apply(null, chunk));\n",
              "      yield {\n",
              "        response: {\n",
              "          action: 'append',\n",
              "          file: file.name,\n",
              "          data: base64,\n",
              "        },\n",
              "      };\n",
              "\n",
              "      let percentDone = fileData.byteLength === 0 ?\n",
              "          100 :\n",
              "          Math.round((position / fileData.byteLength) * 100);\n",
              "      percent.textContent = `${percentDone}% done`;\n",
              "\n",
              "    } while (position < fileData.byteLength);\n",
              "  }\n",
              "\n",
              "  // All done.\n",
              "  yield {\n",
              "    response: {\n",
              "      action: 'complete',\n",
              "    }\n",
              "  };\n",
              "}\n",
              "\n",
              "scope.google = scope.google || {};\n",
              "scope.google.colab = scope.google.colab || {};\n",
              "scope.google.colab._files = {\n",
              "  _uploadFiles,\n",
              "  _uploadFilesContinue,\n",
              "};\n",
              "})(self);\n",
              "</script> "
            ]
          },
          "metadata": {}
        },
        {
          "output_type": "stream",
          "name": "stdout",
          "text": [
            "Saving clean_text.csv to clean_text.csv\n"
          ]
        }
      ],
      "source": [
        "uploaded = files.upload()"
      ],
      "id": "mYwm-l2l6fdK"
    },
    {
      "cell_type": "code",
      "execution_count": null,
      "metadata": {
        "id": "JgyerlLy6f7A"
      },
      "outputs": [],
      "source": [
        "data.to_csv(r'clean_text.csv', sep=',')"
      ],
      "id": "JgyerlLy6f7A"
    },
    {
      "cell_type": "code",
      "execution_count": null,
      "metadata": {
        "colab": {
          "base_uri": "https://localhost:8080/",
          "height": 17
        },
        "id": "4qlyEUI06gG4",
        "outputId": "9b72b482-21ce-49e9-fe84-342bd4f3ba19"
      },
      "outputs": [
        {
          "output_type": "display_data",
          "data": {
            "text/plain": [
              "<IPython.core.display.Javascript object>"
            ],
            "application/javascript": [
              "\n",
              "    async function download(id, filename, size) {\n",
              "      if (!google.colab.kernel.accessAllowed) {\n",
              "        return;\n",
              "      }\n",
              "      const div = document.createElement('div');\n",
              "      const label = document.createElement('label');\n",
              "      label.textContent = `Downloading \"${filename}\": `;\n",
              "      div.appendChild(label);\n",
              "      const progress = document.createElement('progress');\n",
              "      progress.max = size;\n",
              "      div.appendChild(progress);\n",
              "      document.body.appendChild(div);\n",
              "\n",
              "      const buffers = [];\n",
              "      let downloaded = 0;\n",
              "\n",
              "      const channel = await google.colab.kernel.comms.open(id);\n",
              "      // Send a message to notify the kernel that we're ready.\n",
              "      channel.send({})\n",
              "\n",
              "      for await (const message of channel.messages) {\n",
              "        // Send a message to notify the kernel that we're ready.\n",
              "        channel.send({})\n",
              "        if (message.buffers) {\n",
              "          for (const buffer of message.buffers) {\n",
              "            buffers.push(buffer);\n",
              "            downloaded += buffer.byteLength;\n",
              "            progress.value = downloaded;\n",
              "          }\n",
              "        }\n",
              "      }\n",
              "      const blob = new Blob(buffers, {type: 'application/binary'});\n",
              "      const a = document.createElement('a');\n",
              "      a.href = window.URL.createObjectURL(blob);\n",
              "      a.download = filename;\n",
              "      div.appendChild(a);\n",
              "      a.click();\n",
              "      div.remove();\n",
              "    }\n",
              "  "
            ]
          },
          "metadata": {}
        },
        {
          "output_type": "display_data",
          "data": {
            "text/plain": [
              "<IPython.core.display.Javascript object>"
            ],
            "application/javascript": [
              "download(\"download_d363d63c-90a4-4bc5-b62b-56ff63fcd3e3\", \"clean_text.csv\", 102701936)"
            ]
          },
          "metadata": {}
        }
      ],
      "source": [
        "files.download('clean_text.csv')"
      ],
      "id": "4qlyEUI06gG4"
    },
    {
      "cell_type": "code",
      "execution_count": null,
      "metadata": {
        "colab": {
          "base_uri": "https://localhost:8080/",
          "height": 73
        },
        "id": "OU3BGfp6Wm8i",
        "outputId": "d4658086-a4f0-4007-89fd-0d77e07c30d9"
      },
      "outputs": [
        {
          "data": {
            "text/html": [
              "\n",
              "     <input type=\"file\" id=\"files-eee17c94-ff43-4359-a047-b87a9400144a\" name=\"files[]\" multiple disabled\n",
              "        style=\"border:none\" />\n",
              "     <output id=\"result-eee17c94-ff43-4359-a047-b87a9400144a\">\n",
              "      Upload widget is only available when the cell has been executed in the\n",
              "      current browser session. Please rerun this cell to enable.\n",
              "      </output>\n",
              "      <script>// Copyright 2017 Google LLC\n",
              "//\n",
              "// Licensed under the Apache License, Version 2.0 (the \"License\");\n",
              "// you may not use this file except in compliance with the License.\n",
              "// You may obtain a copy of the License at\n",
              "//\n",
              "//      http://www.apache.org/licenses/LICENSE-2.0\n",
              "//\n",
              "// Unless required by applicable law or agreed to in writing, software\n",
              "// distributed under the License is distributed on an \"AS IS\" BASIS,\n",
              "// WITHOUT WARRANTIES OR CONDITIONS OF ANY KIND, either express or implied.\n",
              "// See the License for the specific language governing permissions and\n",
              "// limitations under the License.\n",
              "\n",
              "/**\n",
              " * @fileoverview Helpers for google.colab Python module.\n",
              " */\n",
              "(function(scope) {\n",
              "function span(text, styleAttributes = {}) {\n",
              "  const element = document.createElement('span');\n",
              "  element.textContent = text;\n",
              "  for (const key of Object.keys(styleAttributes)) {\n",
              "    element.style[key] = styleAttributes[key];\n",
              "  }\n",
              "  return element;\n",
              "}\n",
              "\n",
              "// Max number of bytes which will be uploaded at a time.\n",
              "const MAX_PAYLOAD_SIZE = 100 * 1024;\n",
              "\n",
              "function _uploadFiles(inputId, outputId) {\n",
              "  const steps = uploadFilesStep(inputId, outputId);\n",
              "  const outputElement = document.getElementById(outputId);\n",
              "  // Cache steps on the outputElement to make it available for the next call\n",
              "  // to uploadFilesContinue from Python.\n",
              "  outputElement.steps = steps;\n",
              "\n",
              "  return _uploadFilesContinue(outputId);\n",
              "}\n",
              "\n",
              "// This is roughly an async generator (not supported in the browser yet),\n",
              "// where there are multiple asynchronous steps and the Python side is going\n",
              "// to poll for completion of each step.\n",
              "// This uses a Promise to block the python side on completion of each step,\n",
              "// then passes the result of the previous step as the input to the next step.\n",
              "function _uploadFilesContinue(outputId) {\n",
              "  const outputElement = document.getElementById(outputId);\n",
              "  const steps = outputElement.steps;\n",
              "\n",
              "  const next = steps.next(outputElement.lastPromiseValue);\n",
              "  return Promise.resolve(next.value.promise).then((value) => {\n",
              "    // Cache the last promise value to make it available to the next\n",
              "    // step of the generator.\n",
              "    outputElement.lastPromiseValue = value;\n",
              "    return next.value.response;\n",
              "  });\n",
              "}\n",
              "\n",
              "/**\n",
              " * Generator function which is called between each async step of the upload\n",
              " * process.\n",
              " * @param {string} inputId Element ID of the input file picker element.\n",
              " * @param {string} outputId Element ID of the output display.\n",
              " * @return {!Iterable<!Object>} Iterable of next steps.\n",
              " */\n",
              "function* uploadFilesStep(inputId, outputId) {\n",
              "  const inputElement = document.getElementById(inputId);\n",
              "  inputElement.disabled = false;\n",
              "\n",
              "  const outputElement = document.getElementById(outputId);\n",
              "  outputElement.innerHTML = '';\n",
              "\n",
              "  const pickedPromise = new Promise((resolve) => {\n",
              "    inputElement.addEventListener('change', (e) => {\n",
              "      resolve(e.target.files);\n",
              "    });\n",
              "  });\n",
              "\n",
              "  const cancel = document.createElement('button');\n",
              "  inputElement.parentElement.appendChild(cancel);\n",
              "  cancel.textContent = 'Cancel upload';\n",
              "  const cancelPromise = new Promise((resolve) => {\n",
              "    cancel.onclick = () => {\n",
              "      resolve(null);\n",
              "    };\n",
              "  });\n",
              "\n",
              "  // Wait for the user to pick the files.\n",
              "  const files = yield {\n",
              "    promise: Promise.race([pickedPromise, cancelPromise]),\n",
              "    response: {\n",
              "      action: 'starting',\n",
              "    }\n",
              "  };\n",
              "\n",
              "  cancel.remove();\n",
              "\n",
              "  // Disable the input element since further picks are not allowed.\n",
              "  inputElement.disabled = true;\n",
              "\n",
              "  if (!files) {\n",
              "    return {\n",
              "      response: {\n",
              "        action: 'complete',\n",
              "      }\n",
              "    };\n",
              "  }\n",
              "\n",
              "  for (const file of files) {\n",
              "    const li = document.createElement('li');\n",
              "    li.append(span(file.name, {fontWeight: 'bold'}));\n",
              "    li.append(span(\n",
              "        `(${file.type || 'n/a'}) - ${file.size} bytes, ` +\n",
              "        `last modified: ${\n",
              "            file.lastModifiedDate ? file.lastModifiedDate.toLocaleDateString() :\n",
              "                                    'n/a'} - `));\n",
              "    const percent = span('0% done');\n",
              "    li.appendChild(percent);\n",
              "\n",
              "    outputElement.appendChild(li);\n",
              "\n",
              "    const fileDataPromise = new Promise((resolve) => {\n",
              "      const reader = new FileReader();\n",
              "      reader.onload = (e) => {\n",
              "        resolve(e.target.result);\n",
              "      };\n",
              "      reader.readAsArrayBuffer(file);\n",
              "    });\n",
              "    // Wait for the data to be ready.\n",
              "    let fileData = yield {\n",
              "      promise: fileDataPromise,\n",
              "      response: {\n",
              "        action: 'continue',\n",
              "      }\n",
              "    };\n",
              "\n",
              "    // Use a chunked sending to avoid message size limits. See b/62115660.\n",
              "    let position = 0;\n",
              "    do {\n",
              "      const length = Math.min(fileData.byteLength - position, MAX_PAYLOAD_SIZE);\n",
              "      const chunk = new Uint8Array(fileData, position, length);\n",
              "      position += length;\n",
              "\n",
              "      const base64 = btoa(String.fromCharCode.apply(null, chunk));\n",
              "      yield {\n",
              "        response: {\n",
              "          action: 'append',\n",
              "          file: file.name,\n",
              "          data: base64,\n",
              "        },\n",
              "      };\n",
              "\n",
              "      let percentDone = fileData.byteLength === 0 ?\n",
              "          100 :\n",
              "          Math.round((position / fileData.byteLength) * 100);\n",
              "      percent.textContent = `${percentDone}% done`;\n",
              "\n",
              "    } while (position < fileData.byteLength);\n",
              "  }\n",
              "\n",
              "  // All done.\n",
              "  yield {\n",
              "    response: {\n",
              "      action: 'complete',\n",
              "    }\n",
              "  };\n",
              "}\n",
              "\n",
              "scope.google = scope.google || {};\n",
              "scope.google.colab = scope.google.colab || {};\n",
              "scope.google.colab._files = {\n",
              "  _uploadFiles,\n",
              "  _uploadFilesContinue,\n",
              "};\n",
              "})(self);\n",
              "</script> "
            ],
            "text/plain": [
              "<IPython.core.display.HTML object>"
            ]
          },
          "metadata": {},
          "output_type": "display_data"
        },
        {
          "name": "stdout",
          "output_type": "stream",
          "text": [
            "Saving clean_text.csv to clean_text.csv\n"
          ]
        }
      ],
      "source": [
        "uploaded = files.upload()"
      ],
      "id": "OU3BGfp6Wm8i"
    },
    {
      "cell_type": "code",
      "execution_count": null,
      "metadata": {
        "id": "Zou5mbFgXh92"
      },
      "outputs": [],
      "source": [
        "data = pd.read_csv('clean_text.csv')"
      ],
      "id": "Zou5mbFgXh92"
    },
    {
      "cell_type": "code",
      "execution_count": null,
      "metadata": {
        "id": "NeHTIVjNAkfD"
      },
      "outputs": [],
      "source": [
        "train_valid, test = train_test_split(data, random_state=12345, stratify = data['toxic'], test_size=0.20)\n",
        "train, valid = train_test_split(train_valid, random_state=12345, stratify = train_valid['toxic'], test_size=0.25)"
      ],
      "id": "NeHTIVjNAkfD"
    },
    {
      "cell_type": "code",
      "execution_count": null,
      "metadata": {
        "colab": {
          "base_uri": "https://localhost:8080/"
        },
        "id": "KwaxuO88CP1n",
        "outputId": "6b5e3287-95dc-43e7-da7b-e9dcb7ea700e"
      },
      "outputs": [
        {
          "output_type": "stream",
          "name": "stdout",
          "text": [
            "train shape: (95574, 3)\n",
            "valid shape: (31859, 3)\n",
            "test shape: (31859, 3)\n"
          ]
        }
      ],
      "source": [
        "print('train shape:', train.shape)\n",
        "print('valid shape:', valid.shape)\n",
        "print('test shape:', test.shape)"
      ],
      "id": "KwaxuO88CP1n"
    },
    {
      "cell_type": "code",
      "execution_count": null,
      "metadata": {
        "colab": {
          "base_uri": "https://localhost:8080/"
        },
        "id": "iR7uJJg9D4tY",
        "outputId": "b4acba43-c526-4a77-e5cc-a1d1f1846dee"
      },
      "outputs": [
        {
          "output_type": "stream",
          "name": "stdout",
          "text": [
            "CPU times: user 3.46 ms, sys: 986 µs, total: 4.44 ms\n",
            "Wall time: 4.03 ms\n"
          ]
        },
        {
          "output_type": "stream",
          "name": "stderr",
          "text": [
            "[nltk_data] Downloading package stopwords to /root/nltk_data...\n",
            "[nltk_data]   Package stopwords is already up-to-date!\n"
          ]
        }
      ],
      "source": [
        "%%time\n",
        "corpus_train = train['text_clear'].values\n",
        "nltk.download('stopwords')\n",
        "\n",
        "stopwords = set(nltk_stopwords.words('english'))"
      ],
      "id": "iR7uJJg9D4tY"
    },
    {
      "cell_type": "code",
      "execution_count": null,
      "metadata": {
        "colab": {
          "base_uri": "https://localhost:8080/"
        },
        "id": "45fugTnbOY30",
        "outputId": "c2a24958-27fc-4d5d-9923-1c55fc1d69ff"
      },
      "outputs": [
        {
          "output_type": "stream",
          "name": "stdout",
          "text": [
            "CPU times: user 880 µs, sys: 0 ns, total: 880 µs\n",
            "Wall time: 890 µs\n"
          ]
        },
        {
          "output_type": "stream",
          "name": "stderr",
          "text": [
            "[nltk_data] Downloading package stopwords to /root/nltk_data...\n",
            "[nltk_data]   Package stopwords is already up-to-date!\n"
          ]
        }
      ],
      "source": [
        "%%time\n",
        "corpus_valid = valid['text_clear'].values\n",
        "nltk.download('stopwords')\n",
        "\n",
        "stopwords = set(nltk_stopwords.words('english'))"
      ],
      "id": "45fugTnbOY30"
    },
    {
      "cell_type": "code",
      "execution_count": null,
      "metadata": {
        "colab": {
          "base_uri": "https://localhost:8080/"
        },
        "id": "qxKNM3PNOZJN",
        "outputId": "419b6442-2098-4ae0-e9fe-5dfe68b9c619"
      },
      "outputs": [
        {
          "output_type": "stream",
          "name": "stdout",
          "text": [
            "CPU times: user 56 µs, sys: 1.99 ms, total: 2.04 ms\n",
            "Wall time: 1.72 ms\n"
          ]
        },
        {
          "output_type": "stream",
          "name": "stderr",
          "text": [
            "[nltk_data] Downloading package stopwords to /root/nltk_data...\n",
            "[nltk_data]   Package stopwords is already up-to-date!\n"
          ]
        }
      ],
      "source": [
        "%%time\n",
        "corpus_test = test['text_clear'].values\n",
        "nltk.download('stopwords')\n",
        "\n",
        "stopwords = set(nltk_stopwords.words('english'))"
      ],
      "id": "qxKNM3PNOZJN"
    },
    {
      "cell_type": "code",
      "execution_count": null,
      "metadata": {
        "colab": {
          "base_uri": "https://localhost:8080/"
        },
        "id": "2cHgXOr2kh6X",
        "outputId": "53f93b21-5bb2-4e6e-e7e4-6e0cebf49612"
      },
      "outputs": [
        {
          "output_type": "stream",
          "name": "stdout",
          "text": [
            "Размер матрицы test_tf_idf: (95574, 114424)\n",
            "Размер матрицы valid_tf_idf: (31859, 114424)\n",
            "Размер матрицы test_tf_idf: (31859, 114424)\n",
            "CPU times: user 5.23 s, sys: 72.6 ms, total: 5.3 s\n",
            "Wall time: 5.37 s\n"
          ]
        }
      ],
      "source": [
        "%%time\n",
        "count_tf_idf = TfidfVectorizer(stop_words=stopwords)\n",
        "train_tf_idf = count_tf_idf.fit_transform(corpus_train) \n",
        "valid_tf_idf = count_tf_idf.transform(corpus_valid)\n",
        "test_tf_idf = count_tf_idf.transform(corpus_test)\n",
        "\n",
        "print(\"Размер матрицы test_tf_idf:\", train_tf_idf.shape)\n",
        "print(\"Размер матрицы valid_tf_idf:\", valid_tf_idf.shape)\n",
        "print(\"Размер матрицы test_tf_idf:\", test_tf_idf.shape)"
      ],
      "id": "2cHgXOr2kh6X"
    },
    {
      "cell_type": "markdown",
      "metadata": {
        "id": "9X7xYWzHo1bs"
      },
      "source": [
        "**Результат** созданы признаки"
      ],
      "id": "9X7xYWzHo1bs"
    },
    {
      "cell_type": "code",
      "execution_count": null,
      "metadata": {
        "colab": {
          "base_uri": "https://localhost:8080/"
        },
        "id": "lb1qOJ_rnEPS",
        "outputId": "1942ccd6-5c24-485b-e9cb-2e9983122653"
      },
      "outputs": [
        {
          "output_type": "stream",
          "name": "stdout",
          "text": [
            "features_train_tf_idf shape: (95574, 114424)\n",
            "features_valid_tf_idf shape: (31859, 114424)\n",
            "features_test_tf_idf shape: (31859, 114424)\n",
            "target_train_tf_idf shape: (95574,)\n",
            "target_valid_tf_idf shape: (31859,)\n",
            "target_test_tf_idf shape: (31859,)\n"
          ]
        }
      ],
      "source": [
        "features_train_tf_idf = train_tf_idf\n",
        "target_train_tf_idf =  train['toxic']\n",
        "features_valid_tf_idf = valid_tf_idf\n",
        "target_valid_tf_idf =  valid['toxic']\n",
        "features_test_tf_idf = test_tf_idf\n",
        "target_test_tf_idf =  test['toxic']\n",
        "\n",
        "print('features_train_tf_idf shape:', features_train_tf_idf.shape)\n",
        "print('features_valid_tf_idf shape:', features_valid_tf_idf.shape)\n",
        "print('features_test_tf_idf shape:', features_test_tf_idf.shape)\n",
        "print('target_train_tf_idf shape:', target_train_tf_idf.shape)\n",
        "print('target_valid_tf_idf shape:', target_valid_tf_idf.shape)\n",
        "print('target_test_tf_idf shape:', target_test_tf_idf.shape)"
      ],
      "id": "lb1qOJ_rnEPS"
    },
    {
      "cell_type": "markdown",
      "metadata": {
        "id": "04uXjGaOpCUf"
      },
      "source": [
        "**Результат** разделено на тренировочную и тестовую выборки"
      ],
      "id": "04uXjGaOpCUf"
    },
    {
      "cell_type": "code",
      "execution_count": null,
      "metadata": {
        "colab": {
          "base_uri": "https://localhost:8080/"
        },
        "id": "JchiX1ZanYZu",
        "outputId": "fe4492e4-0231-447d-d668-6e871d85cf0f"
      },
      "outputs": [
        {
          "output_type": "stream",
          "name": "stdout",
          "text": [
            "Accuracy модели логистической регрессии: 0.9562447032235789\n",
            "F1: 0.7410846953937593\n",
            "CPU times: user 1.2 s, sys: 897 ms, total: 2.1 s\n",
            "Wall time: 1.11 s\n"
          ]
        }
      ],
      "source": [
        "%%time\n",
        "model = LogisticRegression(random_state=12345, solver='liblinear', max_iter=1000)\n",
        "model.fit(features_train_tf_idf, target_train_tf_idf)\n",
        "predictions_tf_idf = model.predict(features_valid_tf_idf)\n",
        "accuracy_tf_idf = accuracy_score(target_valid_tf_idf, predictions_tf_idf)\n",
        "print(\"Accuracy модели логистической регрессии:\", accuracy_tf_idf)\n",
        "print('F1:', f1_score(target_valid_tf_idf,predictions_tf_idf))\n",
        "\n"
      ],
      "id": "JchiX1ZanYZu"
    },
    {
      "cell_type": "markdown",
      "metadata": {
        "id": "-D409s-J846-"
      },
      "source": [
        "**Результат** метрика F1: 0.74 близкая к нужной\n"
      ],
      "id": "-D409s-J846-"
    },
    {
      "cell_type": "code",
      "execution_count": null,
      "metadata": {
        "id": "_HBYYgkW2FnD"
      },
      "outputs": [],
      "source": [
        "%%time\n",
        "best_model_tf_idf = None\n",
        "best_result_tf_idf = 0\n",
        "for depth in range(2, 22, 2):\n",
        "    for est in range(50, 351, 50):\n",
        "        model = RandomForestClassifier(random_state=12345, n_estimators=est, max_depth=depth,class_weight='balanced') \n",
        "        model.fit(features_train_tf_idf, target_train_tf_idf) \n",
        "        predicted_valid_tf_idf = model.predict(features_valid_tf_idf)\n",
        "        result_tf_idf = f1_score(target_valid_tf_idf, predicted_valid_tf_idf) \n",
        "        print(model, '|', 'est=',est,'|', 'depth=',depth,'|', result_tf_idf)\n",
        "        print(\"F1:\", f1_score(target_valid_tf_idf, predicted_valid_tf_idf))\n",
        "        if result_tf_idf > best_result_tf_idf:\n",
        "            best_model_tf_idf = model\n",
        "            best_result_tf_idf = result_tf_idf \n",
        "        \n",
        "print(\"максимально достгнутый F1:\", best_result_tf_idf)\n",
        "print('Cамая эффективная модель - best_model',best_model_tf_idf)"
      ],
      "id": "_HBYYgkW2FnD"
    },
    {
      "cell_type": "markdown",
      "metadata": {
        "id": "mPbaPxPQS0WP"
      },
      "source": [
        "**Результат** не удалось достигнуть нужной метрики F1"
      ],
      "id": "mPbaPxPQS0WP"
    },
    {
      "cell_type": "code",
      "execution_count": null,
      "metadata": {
        "colab": {
          "base_uri": "https://localhost:8080/"
        },
        "id": "9w6kmm_DQaoa",
        "outputId": "44a9d2f6-4b59-4d17-d492-d592a8b61e66"
      },
      "outputs": [
        {
          "output_type": "stream",
          "name": "stdout",
          "text": [
            "F1: 0.7458691792981019\n",
            "CPU times: user 1.55 s, sys: 1.14 s, total: 2.69 s\n",
            "Wall time: 1.42 s\n"
          ]
        }
      ],
      "source": [
        "%%time\n",
        "model = LogisticRegression(random_state=12345, solver='liblinear',class_weight='balanced')\n",
        "model.fit(features_train_tf_idf, target_train_tf_idf)\n",
        "predictions_tf_idf_valid = model.predict(features_valid_tf_idf)\n",
        "\n",
        "print(\"F1:\", f1_score(target_valid_tf_idf, predictions_tf_idf_valid))\n"
      ],
      "id": "9w6kmm_DQaoa"
    },
    {
      "cell_type": "markdown",
      "metadata": {
        "id": "hICzhRhrSQjP"
      },
      "source": [
        "**Результат** На валидизационной выборке удалось достигнуть метрики F1: 0.745 близкая к нужной,  с параметром class_weight='balanced'"
      ],
      "id": "hICzhRhrSQjP"
    },
    {
      "cell_type": "code",
      "execution_count": null,
      "metadata": {
        "colab": {
          "base_uri": "https://localhost:8080/"
        },
        "id": "hl6zJs5trJzP",
        "outputId": "f34c3897-3239-418a-ccb8-d8e37dff3598"
      },
      "outputs": [
        {
          "output_type": "stream",
          "name": "stdout",
          "text": [
            "F1: 0.6427956619039421\n"
          ]
        }
      ],
      "source": [
        "\n",
        "lgbm = LGBMClassifier()\n",
        "lgbm.fit(features_train_tf_idf, target_train_tf_idf)\n",
        "\n",
        "lgbm_tuned = LGBMClassifier(boosting_type = 'gbdt',\n",
        "                            class_weight = 'balanced',\n",
        "                            min_child_samples = 20,\n",
        "                            num_leaves = 30,\n",
        "                            subsample_for_bin = 20000,\n",
        "                            learning_rate=0.01,\n",
        "                            max_depth=10,\n",
        "                            n_estimators=40,\n",
        "                            colsample_bytree=0.6) \n",
        "lgbm_tuned.fit(features_train_tf_idf, target_train_tf_idf)\n",
        "\n",
        "y_test_pred = lgbm_tuned.predict(features_valid_tf_idf) \n",
        "score = f1_score(target_valid_tf_idf, y_test_pred) \n",
        "\n",
        "print(\"F1:\", score)\n",
        "\n"
      ],
      "id": "hl6zJs5trJzP"
    },
    {
      "cell_type": "markdown",
      "metadata": {
        "id": "VS6Op5317lz-"
      },
      "source": [
        "**Результат** Не удалось добиться нужной метрики F1"
      ],
      "id": "VS6Op5317lz-"
    },
    {
      "cell_type": "code",
      "execution_count": null,
      "metadata": {
        "id": "RKdiyT6xNzYP"
      },
      "outputs": [],
      "source": [
        "%%time\n",
        "best_tf_idf_model = None\n",
        "best_tf_idf_result = 0\n",
        "for depth in range(1, 100):\n",
        "    model = DecisionTreeClassifier(random_state=12345, max_depth=depth, class_weight='balanced')\n",
        "    model.fit(features_train_tf_idf, target_train_tf_idf)\n",
        "    predicted_test_tf_idf = model.predict(features_test_tf_idf)\n",
        "    result_tf_idf = f1_score(target_test_tf_idf, predicted_test_tf_idf) \n",
        "    print(model, '|', 'глубина=',depth,'|', result)\n",
        "    print(\"F1:\", f1_score(target_test_tf_idf, predicted_test_tf_idf))\n",
        "    print(\"max_depth =\", depth, \": \", end='')\n",
        "    if result_tf_idf > best_tf_idf_result:\n",
        "        best_tf_idf_model = model\n",
        "        best_tf_idf_result = result_tf_idf  \n",
        "print(\"максиально достигнутый F1:\", best_tf_idf_result)\n",
        "print('Cамая эффективная модель - best_model',best_tf_idf_model)\n",
        "    "
      ],
      "id": "RKdiyT6xNzYP"
    },
    {
      "cell_type": "markdown",
      "metadata": {
        "id": "gd0Q_H5j0zWl"
      },
      "source": [
        "**Результат** не удалось достигнуть нужной метрики F1"
      ],
      "id": "gd0Q_H5j0zWl"
    },
    {
      "cell_type": "markdown",
      "metadata": {
        "id": "iI4_n3WBu8j9"
      },
      "source": [
        "# Тестирование выбранных моделей BERT"
      ],
      "id": "iI4_n3WBu8j9"
    },
    {
      "cell_type": "code",
      "execution_count": null,
      "metadata": {
        "colab": {
          "base_uri": "https://localhost:8080/"
        },
        "id": "tF2w7HORSh_P",
        "outputId": "faee06f6-43fa-4c7e-a46b-bdc7cd0b80b4"
      },
      "outputs": [
        {
          "name": "stdout",
          "output_type": "stream",
          "text": [
            "Accuracy модели логистической регрессии: 0.99\n",
            "F1 модели логистической регрессии на тестовой выборке : 0.9473684210526315\n"
          ]
        }
      ],
      "source": [
        "model = LogisticRegression(random_state=12345, solver='liblinear', max_iter=1000)\n",
        "model.fit(features_train, target_train)\n",
        "predictions_t = model.predict(features_test)\n",
        "accuracy = accuracy_score(target_test, predictions_t)\n",
        "print(\"Accuracy модели логистической регрессии:\", accuracy)\n",
        "print('F1 модели логистической регрессии на тестовой выборке :', f1_score(target_valid,predictions))"
      ],
      "id": "tF2w7HORSh_P"
    },
    {
      "cell_type": "markdown",
      "metadata": {
        "id": "J_Ih4teFVeig"
      },
      "source": [
        "**Достигнуто** F1 модели логистической регрессии на тестовой выборке : 0.9473684210526315\n"
      ],
      "id": "J_Ih4teFVeig"
    },
    {
      "cell_type": "markdown",
      "metadata": {
        "id": "Be3GnvbdSUSP"
      },
      "source": [
        "# Тестирование других моделей"
      ],
      "id": "Be3GnvbdSUSP"
    },
    {
      "cell_type": "code",
      "execution_count": null,
      "metadata": {
        "colab": {
          "base_uri": "https://localhost:8080/"
        },
        "id": "WTPsC-53xVRb",
        "outputId": "739e4585-b8d9-4546-fb3f-c4a3470eb418"
      },
      "outputs": [
        {
          "output_type": "stream",
          "name": "stdout",
          "text": [
            "F1 на тестовой выборке: 0.7547528517110266\n",
            "CPU times: user 1.61 s, sys: 1.18 s, total: 2.79 s\n",
            "Wall time: 1.46 s\n"
          ]
        }
      ],
      "source": [
        "%%time\n",
        "model = LogisticRegression(random_state=12345, solver='liblinear',class_weight='balanced')\n",
        "model.fit(features_train_tf_idf, target_train_tf_idf)\n",
        "predictions_tf_idf_test = model.predict(features_test_tf_idf)\n",
        "\n",
        "print(\"F1 на тестовой выборке:\", f1_score(target_test_tf_idf, predictions_tf_idf_test))"
      ],
      "id": "WTPsC-53xVRb"
    },
    {
      "cell_type": "markdown",
      "metadata": {
        "id": "J73j_NOePjks"
      },
      "source": [
        "# Выводы по сравнению методов\n",
        "\n"
      ],
      "id": "J73j_NOePjks"
    },
    {
      "cell_type": "markdown",
      "metadata": {
        "id": "NIWVkeVnVjd0"
      },
      "source": [
        "**Специализированная toxic-BERT дает существенно более высокие результаты - метрика более 0,9 достигнута на всех моделях в валидиционной выборке и проверена на тестовой.** Единственный недостаток - модель долго работает. \n",
        "Из-за продолжительности рассчетов приходилось на разных этапах сохранять расчеты отдельно и потом их загружать, поэтому в коде много вспомогательных полей загрузки и выгрузки\n",
        "**При рассчетах TF-IDF в библиотеке sklearn** удалось работать со всем датасетом и достигнуть необходимой метрики F1 на модели логистической регресии с параметром class_weight='balanced', F1 на тестовой выборке: 0.7547528517110266"
      ],
      "id": "NIWVkeVnVjd0"
    },
    {
      "cell_type": "code",
      "execution_count": null,
      "metadata": {
        "id": "fb66bd3f"
      },
      "outputs": [],
      "source": [],
      "id": "fb66bd3f"
    }
  ],
  "metadata": {
    "ExecuteTimeLog": [
      {
        "duration": 2312,
        "start_time": "2023-02-13T07:31:25.623Z"
      },
      {
        "duration": 3,
        "start_time": "2023-02-13T07:31:42.781Z"
      },
      {
        "duration": 1826,
        "start_time": "2023-02-13T07:31:50.406Z"
      },
      {
        "duration": 73,
        "start_time": "2023-02-13T07:40:36.061Z"
      },
      {
        "duration": 75,
        "start_time": "2023-02-13T07:48:13.148Z"
      },
      {
        "duration": 82,
        "start_time": "2023-02-13T08:01:51.260Z"
      },
      {
        "duration": 2740,
        "start_time": "2023-02-13T08:03:10.682Z"
      },
      {
        "duration": 1168,
        "start_time": "2023-02-13T08:03:55.231Z"
      },
      {
        "duration": 80,
        "start_time": "2023-02-13T08:04:35.676Z"
      },
      {
        "duration": 1246,
        "start_time": "2023-02-13T08:07:18.726Z"
      },
      {
        "duration": 3,
        "start_time": "2023-02-13T08:10:45.195Z"
      },
      {
        "duration": 4,
        "start_time": "2023-02-13T08:12:23.005Z"
      },
      {
        "duration": 316,
        "start_time": "2023-02-13T08:12:33.299Z"
      },
      {
        "duration": 405,
        "start_time": "2023-02-13T08:15:12.294Z"
      },
      {
        "duration": 449,
        "start_time": "2023-02-13T08:17:13.853Z"
      },
      {
        "duration": 190,
        "start_time": "2023-02-13T08:17:32.034Z"
      },
      {
        "duration": 189,
        "start_time": "2023-02-13T08:18:46.464Z"
      },
      {
        "duration": 187,
        "start_time": "2023-02-13T08:19:01.032Z"
      },
      {
        "duration": 13,
        "start_time": "2023-02-13T08:21:54.960Z"
      },
      {
        "duration": 87,
        "start_time": "2023-02-13T08:26:36.559Z"
      },
      {
        "duration": 13,
        "start_time": "2023-02-13T08:27:08.801Z"
      },
      {
        "duration": 4,
        "start_time": "2023-02-13T08:27:11.737Z"
      },
      {
        "duration": 436,
        "start_time": "2023-02-13T08:27:14.968Z"
      },
      {
        "duration": 4339,
        "start_time": "2023-02-13T08:27:34.103Z"
      },
      {
        "duration": 6840,
        "start_time": "2023-02-13T08:27:40.640Z"
      },
      {
        "duration": 10365,
        "start_time": "2023-02-13T08:27:50.619Z"
      },
      {
        "duration": 3,
        "start_time": "2023-02-13T08:28:00.986Z"
      },
      {
        "duration": 1714,
        "start_time": "2023-02-13T08:35:47.691Z"
      },
      {
        "duration": 24,
        "start_time": "2023-02-13T08:46:13.059Z"
      },
      {
        "duration": 24,
        "start_time": "2023-02-13T08:46:50.579Z"
      },
      {
        "duration": 85,
        "start_time": "2023-02-13T09:06:46.981Z"
      },
      {
        "duration": 76,
        "start_time": "2023-02-13T09:07:07.388Z"
      },
      {
        "duration": 135,
        "start_time": "2023-02-13T09:18:35.311Z"
      },
      {
        "duration": 78,
        "start_time": "2023-02-13T09:19:01.040Z"
      },
      {
        "duration": 73,
        "start_time": "2023-02-13T09:19:19.908Z"
      },
      {
        "duration": 65,
        "start_time": "2023-02-13T09:19:54.421Z"
      },
      {
        "duration": 113,
        "start_time": "2023-02-13T09:20:15.042Z"
      },
      {
        "duration": 112,
        "start_time": "2023-02-13T09:21:24.872Z"
      },
      {
        "duration": 111,
        "start_time": "2023-02-13T09:30:26.202Z"
      },
      {
        "duration": 77,
        "start_time": "2023-02-13T09:30:46.620Z"
      },
      {
        "duration": 58,
        "start_time": "2023-02-13T09:33:56.703Z"
      },
      {
        "duration": 17,
        "start_time": "2023-02-13T09:37:14.739Z"
      },
      {
        "duration": 63,
        "start_time": "2023-02-13T09:40:25.959Z"
      },
      {
        "duration": 80,
        "start_time": "2023-02-13T09:41:09.044Z"
      },
      {
        "duration": 61,
        "start_time": "2023-02-13T09:42:38.459Z"
      },
      {
        "duration": 61,
        "start_time": "2023-02-13T09:42:54.413Z"
      },
      {
        "duration": 69,
        "start_time": "2023-02-13T09:47:07.606Z"
      },
      {
        "duration": 64,
        "start_time": "2023-02-13T09:48:20.958Z"
      },
      {
        "duration": 65,
        "start_time": "2023-02-13T09:49:46.492Z"
      },
      {
        "duration": 18,
        "start_time": "2023-02-13T09:50:03.737Z"
      },
      {
        "duration": 18,
        "start_time": "2023-02-13T09:52:11.695Z"
      },
      {
        "duration": 18,
        "start_time": "2023-02-13T09:52:28.886Z"
      },
      {
        "duration": 21,
        "start_time": "2023-02-13T09:52:37.808Z"
      },
      {
        "duration": 33,
        "start_time": "2023-02-13T10:50:46.182Z"
      },
      {
        "duration": 44,
        "start_time": "2023-02-13T10:52:38.088Z"
      },
      {
        "duration": 16,
        "start_time": "2023-02-13T10:53:57.604Z"
      },
      {
        "duration": 387,
        "start_time": "2023-02-13T10:53:58.853Z"
      },
      {
        "duration": 94,
        "start_time": "2023-02-13T10:55:47.855Z"
      },
      {
        "duration": 3304,
        "start_time": "2023-02-13T10:55:53.795Z"
      },
      {
        "duration": 179,
        "start_time": "2023-02-13T10:56:26.521Z"
      },
      {
        "duration": 1275,
        "start_time": "2023-02-13T11:02:23.689Z"
      },
      {
        "duration": 1652,
        "start_time": "2023-02-13T11:03:22.065Z"
      },
      {
        "duration": 19,
        "start_time": "2023-02-13T11:05:50.263Z"
      },
      {
        "duration": 71,
        "start_time": "2023-02-13T11:06:13.067Z"
      },
      {
        "duration": 4,
        "start_time": "2023-02-13T11:06:22.006Z"
      },
      {
        "duration": 2825,
        "start_time": "2023-02-13T11:06:22.013Z"
      },
      {
        "duration": 3,
        "start_time": "2023-02-13T11:06:24.839Z"
      },
      {
        "duration": 21,
        "start_time": "2023-02-13T11:06:24.844Z"
      },
      {
        "duration": 7,
        "start_time": "2023-02-13T11:06:24.867Z"
      },
      {
        "duration": 1738,
        "start_time": "2023-02-13T11:06:24.876Z"
      },
      {
        "duration": 2302,
        "start_time": "2023-02-13T11:06:26.616Z"
      },
      {
        "duration": 66,
        "start_time": "2023-02-13T11:06:28.921Z"
      },
      {
        "duration": 179,
        "start_time": "2023-02-13T11:06:28.989Z"
      },
      {
        "duration": 3,
        "start_time": "2023-02-13T11:06:29.171Z"
      },
      {
        "duration": 1115,
        "start_time": "2023-02-13T11:06:29.175Z"
      },
      {
        "duration": 192,
        "start_time": "2023-02-13T11:06:30.292Z"
      },
      {
        "duration": 4553,
        "start_time": "2023-02-13T11:06:30.486Z"
      },
      {
        "duration": 4,
        "start_time": "2023-02-13T11:06:35.044Z"
      },
      {
        "duration": 20,
        "start_time": "2023-02-13T11:06:35.050Z"
      },
      {
        "duration": 25,
        "start_time": "2023-02-13T11:06:35.072Z"
      },
      {
        "duration": 10,
        "start_time": "2023-02-13T11:06:35.098Z"
      },
      {
        "duration": 6448,
        "start_time": "2023-02-13T11:06:35.110Z"
      },
      {
        "duration": 3591,
        "start_time": "2023-02-13T11:06:41.560Z"
      },
      {
        "duration": 4,
        "start_time": "2023-02-13T11:06:45.153Z"
      },
      {
        "duration": 8,
        "start_time": "2023-02-13T11:06:45.159Z"
      },
      {
        "duration": 1421,
        "start_time": "2023-02-13T11:06:45.170Z"
      },
      {
        "duration": 2353,
        "start_time": "2023-02-13T11:06:46.593Z"
      },
      {
        "duration": 0,
        "start_time": "2023-02-13T11:06:48.949Z"
      },
      {
        "duration": 0,
        "start_time": "2023-02-13T11:06:48.950Z"
      },
      {
        "duration": 0,
        "start_time": "2023-02-13T11:06:48.951Z"
      },
      {
        "duration": 0,
        "start_time": "2023-02-13T11:06:48.952Z"
      },
      {
        "duration": 0,
        "start_time": "2023-02-13T11:06:48.953Z"
      },
      {
        "duration": 0,
        "start_time": "2023-02-13T11:06:48.955Z"
      },
      {
        "duration": 0,
        "start_time": "2023-02-13T11:06:48.956Z"
      },
      {
        "duration": 0,
        "start_time": "2023-02-13T11:06:48.957Z"
      },
      {
        "duration": 0,
        "start_time": "2023-02-13T11:06:48.958Z"
      },
      {
        "duration": 0,
        "start_time": "2023-02-13T11:06:48.959Z"
      },
      {
        "duration": 0,
        "start_time": "2023-02-13T11:06:48.961Z"
      },
      {
        "duration": 0,
        "start_time": "2023-02-13T11:06:48.963Z"
      },
      {
        "duration": 0,
        "start_time": "2023-02-13T11:06:48.964Z"
      },
      {
        "duration": 0,
        "start_time": "2023-02-13T11:06:48.965Z"
      },
      {
        "duration": 0,
        "start_time": "2023-02-13T11:06:48.966Z"
      },
      {
        "duration": 0,
        "start_time": "2023-02-13T11:06:48.967Z"
      },
      {
        "duration": 0,
        "start_time": "2023-02-13T11:06:48.969Z"
      },
      {
        "duration": 0,
        "start_time": "2023-02-13T11:06:48.970Z"
      },
      {
        "duration": 0,
        "start_time": "2023-02-13T11:06:48.975Z"
      },
      {
        "duration": 0,
        "start_time": "2023-02-13T11:06:48.976Z"
      },
      {
        "duration": 0,
        "start_time": "2023-02-13T11:06:48.977Z"
      },
      {
        "duration": 19,
        "start_time": "2023-02-13T11:07:32.344Z"
      },
      {
        "duration": 1397,
        "start_time": "2023-02-13T11:08:48.841Z"
      },
      {
        "duration": 1867,
        "start_time": "2023-02-13T11:09:29.222Z"
      },
      {
        "duration": 1790,
        "start_time": "2023-02-13T11:11:09.067Z"
      },
      {
        "duration": 2871,
        "start_time": "2023-02-13T11:18:27.426Z"
      },
      {
        "duration": 3407,
        "start_time": "2023-02-13T11:18:47.429Z"
      },
      {
        "duration": 3640,
        "start_time": "2023-02-13T11:19:15.364Z"
      },
      {
        "duration": 77,
        "start_time": "2023-02-13T11:20:50.741Z"
      },
      {
        "duration": 77,
        "start_time": "2023-02-13T11:21:24.175Z"
      },
      {
        "duration": 76,
        "start_time": "2023-02-13T11:21:37.281Z"
      },
      {
        "duration": 86,
        "start_time": "2023-02-13T11:21:45.877Z"
      },
      {
        "duration": 76,
        "start_time": "2023-02-13T11:22:31.710Z"
      },
      {
        "duration": 83,
        "start_time": "2023-02-13T11:22:38.888Z"
      },
      {
        "duration": 3193,
        "start_time": "2023-02-13T11:28:28.405Z"
      },
      {
        "duration": 1442,
        "start_time": "2023-02-13T11:29:12.889Z"
      },
      {
        "duration": 3074,
        "start_time": "2023-02-13T11:29:49.011Z"
      },
      {
        "duration": 5,
        "start_time": "2023-02-13T11:31:00.037Z"
      },
      {
        "duration": 2914,
        "start_time": "2023-02-13T11:31:00.045Z"
      },
      {
        "duration": 3,
        "start_time": "2023-02-13T11:31:02.961Z"
      },
      {
        "duration": 7,
        "start_time": "2023-02-13T11:31:02.965Z"
      },
      {
        "duration": 11,
        "start_time": "2023-02-13T11:31:02.974Z"
      },
      {
        "duration": 1972,
        "start_time": "2023-02-13T11:31:02.987Z"
      },
      {
        "duration": 2591,
        "start_time": "2023-02-13T11:31:04.961Z"
      },
      {
        "duration": 68,
        "start_time": "2023-02-13T11:31:07.554Z"
      },
      {
        "duration": 191,
        "start_time": "2023-02-13T11:31:07.627Z"
      },
      {
        "duration": 14,
        "start_time": "2023-02-13T11:31:07.820Z"
      },
      {
        "duration": 1317,
        "start_time": "2023-02-13T11:31:07.841Z"
      },
      {
        "duration": 203,
        "start_time": "2023-02-13T11:31:09.160Z"
      },
      {
        "duration": 4609,
        "start_time": "2023-02-13T11:31:09.364Z"
      },
      {
        "duration": 2,
        "start_time": "2023-02-13T11:31:13.977Z"
      },
      {
        "duration": 77,
        "start_time": "2023-02-13T11:31:13.981Z"
      },
      {
        "duration": 40,
        "start_time": "2023-02-13T11:31:14.060Z"
      },
      {
        "duration": 50,
        "start_time": "2023-02-13T11:31:14.102Z"
      },
      {
        "duration": 7583,
        "start_time": "2023-02-13T11:31:14.153Z"
      },
      {
        "duration": 3955,
        "start_time": "2023-02-13T11:31:21.738Z"
      },
      {
        "duration": 4,
        "start_time": "2023-02-13T11:31:25.696Z"
      },
      {
        "duration": 15,
        "start_time": "2023-02-13T11:31:25.701Z"
      },
      {
        "duration": 3928,
        "start_time": "2023-02-13T11:31:25.718Z"
      },
      {
        "duration": 0,
        "start_time": "2023-02-13T11:31:29.648Z"
      },
      {
        "duration": 0,
        "start_time": "2023-02-13T11:31:29.650Z"
      },
      {
        "duration": 0,
        "start_time": "2023-02-13T11:31:29.651Z"
      },
      {
        "duration": 1,
        "start_time": "2023-02-13T11:31:29.652Z"
      },
      {
        "duration": 0,
        "start_time": "2023-02-13T11:31:29.654Z"
      },
      {
        "duration": 0,
        "start_time": "2023-02-13T11:31:29.655Z"
      },
      {
        "duration": 0,
        "start_time": "2023-02-13T11:31:29.656Z"
      },
      {
        "duration": 0,
        "start_time": "2023-02-13T11:31:29.658Z"
      },
      {
        "duration": 0,
        "start_time": "2023-02-13T11:31:29.659Z"
      },
      {
        "duration": 0,
        "start_time": "2023-02-13T11:31:29.660Z"
      },
      {
        "duration": 0,
        "start_time": "2023-02-13T11:31:29.661Z"
      },
      {
        "duration": 0,
        "start_time": "2023-02-13T11:31:29.662Z"
      },
      {
        "duration": 0,
        "start_time": "2023-02-13T11:31:29.664Z"
      },
      {
        "duration": 0,
        "start_time": "2023-02-13T11:31:29.665Z"
      },
      {
        "duration": 0,
        "start_time": "2023-02-13T11:31:29.666Z"
      },
      {
        "duration": 0,
        "start_time": "2023-02-13T11:31:29.667Z"
      },
      {
        "duration": 0,
        "start_time": "2023-02-13T11:31:29.669Z"
      },
      {
        "duration": 0,
        "start_time": "2023-02-13T11:31:29.670Z"
      },
      {
        "duration": 0,
        "start_time": "2023-02-13T11:31:29.671Z"
      },
      {
        "duration": 0,
        "start_time": "2023-02-13T11:31:29.672Z"
      },
      {
        "duration": 0,
        "start_time": "2023-02-13T11:31:29.674Z"
      },
      {
        "duration": 1066,
        "start_time": "2023-02-13T11:34:02.836Z"
      },
      {
        "duration": 20,
        "start_time": "2023-02-13T11:35:09.990Z"
      },
      {
        "duration": 4,
        "start_time": "2023-02-13T11:35:56.294Z"
      },
      {
        "duration": 5,
        "start_time": "2023-02-13T11:36:34.456Z"
      },
      {
        "duration": 775,
        "start_time": "2023-02-13T11:37:46.343Z"
      },
      {
        "duration": 4,
        "start_time": "2023-02-13T11:37:54.295Z"
      },
      {
        "duration": 979,
        "start_time": "2023-02-13T11:38:15.862Z"
      },
      {
        "duration": 15,
        "start_time": "2023-02-13T11:38:22.624Z"
      },
      {
        "duration": 889,
        "start_time": "2023-02-13T11:38:39.206Z"
      },
      {
        "duration": 4,
        "start_time": "2023-02-13T11:38:45.978Z"
      },
      {
        "duration": 2559,
        "start_time": "2023-02-13T11:40:57.112Z"
      },
      {
        "duration": 889,
        "start_time": "2023-02-13T11:42:07.383Z"
      },
      {
        "duration": 4,
        "start_time": "2023-02-13T11:42:30.092Z"
      },
      {
        "duration": 11,
        "start_time": "2023-02-13T11:46:44.918Z"
      },
      {
        "duration": 82,
        "start_time": "2023-02-13T11:46:46.763Z"
      },
      {
        "duration": 4,
        "start_time": "2023-02-13T11:46:59.104Z"
      }
    ],
    "accelerator": "GPU",
    "colab": {
      "provenance": [],
      "include_colab_link": true
    },
    "gpuClass": "standard",
    "kernelspec": {
      "display_name": "Python 3 (ipykernel)",
      "language": "python",
      "name": "python3"
    },
    "language_info": {
      "codemirror_mode": {
        "name": "ipython",
        "version": 3
      },
      "file_extension": ".py",
      "mimetype": "text/x-python",
      "name": "python",
      "nbconvert_exporter": "python",
      "pygments_lexer": "ipython3",
      "version": "3.9.5"
    },
    "toc": {
      "base_numbering": 1,
      "nav_menu": {},
      "number_sections": true,
      "sideBar": true,
      "skip_h1_title": true,
      "title_cell": "Table of Contents",
      "title_sidebar": "Contents",
      "toc_cell": false,
      "toc_position": {},
      "toc_section_display": true,
      "toc_window_display": false
    },
    "toc-showtags": false,
    "widgets": {
      "application/vnd.jupyter.widget-state+json": {
        "0196f8d0b6784f918763a50c541dd57d": {
          "model_module": "@jupyter-widgets/base",
          "model_module_version": "1.2.0",
          "model_name": "LayoutModel",
          "state": {
            "_model_module": "@jupyter-widgets/base",
            "_model_module_version": "1.2.0",
            "_model_name": "LayoutModel",
            "_view_count": null,
            "_view_module": "@jupyter-widgets/base",
            "_view_module_version": "1.2.0",
            "_view_name": "LayoutView",
            "align_content": null,
            "align_items": null,
            "align_self": null,
            "border": null,
            "bottom": null,
            "display": null,
            "flex": null,
            "flex_flow": null,
            "grid_area": null,
            "grid_auto_columns": null,
            "grid_auto_flow": null,
            "grid_auto_rows": null,
            "grid_column": null,
            "grid_gap": null,
            "grid_row": null,
            "grid_template_areas": null,
            "grid_template_columns": null,
            "grid_template_rows": null,
            "height": null,
            "justify_content": null,
            "justify_items": null,
            "left": null,
            "margin": null,
            "max_height": null,
            "max_width": null,
            "min_height": null,
            "min_width": null,
            "object_fit": null,
            "object_position": null,
            "order": null,
            "overflow": null,
            "overflow_x": null,
            "overflow_y": null,
            "padding": null,
            "right": null,
            "top": null,
            "visibility": null,
            "width": null
          }
        },
        "0338efdd80f54e81a7fc443ec4da18b8": {
          "model_module": "@jupyter-widgets/controls",
          "model_module_version": "1.5.0",
          "model_name": "DescriptionStyleModel",
          "state": {
            "_model_module": "@jupyter-widgets/controls",
            "_model_module_version": "1.5.0",
            "_model_name": "DescriptionStyleModel",
            "_view_count": null,
            "_view_module": "@jupyter-widgets/base",
            "_view_module_version": "1.2.0",
            "_view_name": "StyleView",
            "description_width": ""
          }
        },
        "0bb1e04eb69a43eca48c5133a708850e": {
          "model_module": "@jupyter-widgets/controls",
          "model_module_version": "1.5.0",
          "model_name": "ProgressStyleModel",
          "state": {
            "_model_module": "@jupyter-widgets/controls",
            "_model_module_version": "1.5.0",
            "_model_name": "ProgressStyleModel",
            "_view_count": null,
            "_view_module": "@jupyter-widgets/base",
            "_view_module_version": "1.2.0",
            "_view_name": "StyleView",
            "bar_color": null,
            "description_width": ""
          }
        },
        "0c6fe39b9dde4e528ba47731c68a1fe0": {
          "model_module": "@jupyter-widgets/controls",
          "model_module_version": "1.5.0",
          "model_name": "HTMLModel",
          "state": {
            "_dom_classes": [],
            "_model_module": "@jupyter-widgets/controls",
            "_model_module_version": "1.5.0",
            "_model_name": "HTMLModel",
            "_view_count": null,
            "_view_module": "@jupyter-widgets/controls",
            "_view_module_version": "1.5.0",
            "_view_name": "HTMLView",
            "description": "",
            "description_tooltip": null,
            "layout": "IPY_MODEL_56666e58023948bb82f14b6d2587ac52",
            "placeholder": "​",
            "style": "IPY_MODEL_d6767c4268b3464dbc9097d671d16a5a",
            "value": "Downloading (…)okenizer_config.json: 100%"
          }
        },
        "10a7ac23148c4cf7b6fedba71082b422": {
          "model_module": "@jupyter-widgets/controls",
          "model_module_version": "1.5.0",
          "model_name": "HTMLModel",
          "state": {
            "_dom_classes": [],
            "_model_module": "@jupyter-widgets/controls",
            "_model_module_version": "1.5.0",
            "_model_name": "HTMLModel",
            "_view_count": null,
            "_view_module": "@jupyter-widgets/controls",
            "_view_module_version": "1.5.0",
            "_view_name": "HTMLView",
            "description": "",
            "description_tooltip": null,
            "layout": "IPY_MODEL_6c4d304c15274df484d66935eb4af752",
            "placeholder": "​",
            "style": "IPY_MODEL_e9b846c454b340e0864e15f2167713f5",
            "value": " 174/174 [00:00&lt;00:00, 7.71kB/s]"
          }
        },
        "14e3324928b147eb886b05a83d2d03dc": {
          "model_module": "@jupyter-widgets/controls",
          "model_module_version": "1.5.0",
          "model_name": "DescriptionStyleModel",
          "state": {
            "_model_module": "@jupyter-widgets/controls",
            "_model_module_version": "1.5.0",
            "_model_name": "DescriptionStyleModel",
            "_view_count": null,
            "_view_module": "@jupyter-widgets/base",
            "_view_module_version": "1.2.0",
            "_view_name": "StyleView",
            "description_width": ""
          }
        },
        "193611d4d64d4d52a0ad8ff8cc0564a4": {
          "model_module": "@jupyter-widgets/controls",
          "model_module_version": "1.5.0",
          "model_name": "HBoxModel",
          "state": {
            "_dom_classes": [],
            "_model_module": "@jupyter-widgets/controls",
            "_model_module_version": "1.5.0",
            "_model_name": "HBoxModel",
            "_view_count": null,
            "_view_module": "@jupyter-widgets/controls",
            "_view_module_version": "1.5.0",
            "_view_name": "HBoxView",
            "box_style": "",
            "children": [
              "IPY_MODEL_28f04255b956424185080a7d888e78e7",
              "IPY_MODEL_dcbb25898b0f4a5c8f25f42b30b0108a",
              "IPY_MODEL_7af46123dfd44becae123b19a21e3717"
            ],
            "layout": "IPY_MODEL_b4844449db554d29a0b01e85b98819c2"
          }
        },
        "2199b5ad1648459aad9923e28734edee": {
          "model_module": "@jupyter-widgets/controls",
          "model_module_version": "1.5.0",
          "model_name": "DescriptionStyleModel",
          "state": {
            "_model_module": "@jupyter-widgets/controls",
            "_model_module_version": "1.5.0",
            "_model_name": "DescriptionStyleModel",
            "_view_count": null,
            "_view_module": "@jupyter-widgets/base",
            "_view_module_version": "1.2.0",
            "_view_name": "StyleView",
            "description_width": ""
          }
        },
        "26d3f03957bf4b209f55e82b89e203ef": {
          "model_module": "@jupyter-widgets/controls",
          "model_module_version": "1.5.0",
          "model_name": "HTMLModel",
          "state": {
            "_dom_classes": [],
            "_model_module": "@jupyter-widgets/controls",
            "_model_module_version": "1.5.0",
            "_model_name": "HTMLModel",
            "_view_count": null,
            "_view_module": "@jupyter-widgets/controls",
            "_view_module_version": "1.5.0",
            "_view_name": "HTMLView",
            "description": "",
            "description_tooltip": null,
            "layout": "IPY_MODEL_89849455eaa84cffbfb231d6095298dd",
            "placeholder": "​",
            "style": "IPY_MODEL_861c6c475f0343208562062e3030e804",
            "value": " 232k/232k [00:00&lt;00:00, 2.03MB/s]"
          }
        },
        "28f04255b956424185080a7d888e78e7": {
          "model_module": "@jupyter-widgets/controls",
          "model_module_version": "1.5.0",
          "model_name": "HTMLModel",
          "state": {
            "_dom_classes": [],
            "_model_module": "@jupyter-widgets/controls",
            "_model_module_version": "1.5.0",
            "_model_name": "HTMLModel",
            "_view_count": null,
            "_view_module": "@jupyter-widgets/controls",
            "_view_module_version": "1.5.0",
            "_view_name": "HTMLView",
            "description": "",
            "description_tooltip": null,
            "layout": "IPY_MODEL_d76830f4c09242dab7ab2635ea225ede",
            "placeholder": "​",
            "style": "IPY_MODEL_0338efdd80f54e81a7fc443ec4da18b8",
            "value": "100%"
          }
        },
        "2e38273042ba43188f379400bba39b78": {
          "model_module": "@jupyter-widgets/controls",
          "model_module_version": "1.5.0",
          "model_name": "ProgressStyleModel",
          "state": {
            "_model_module": "@jupyter-widgets/controls",
            "_model_module_version": "1.5.0",
            "_model_name": "ProgressStyleModel",
            "_view_count": null,
            "_view_module": "@jupyter-widgets/base",
            "_view_module_version": "1.2.0",
            "_view_name": "StyleView",
            "bar_color": null,
            "description_width": ""
          }
        },
        "2f4f308c071340dca947a3192df0e26e": {
          "model_module": "@jupyter-widgets/controls",
          "model_module_version": "1.5.0",
          "model_name": "HTMLModel",
          "state": {
            "_dom_classes": [],
            "_model_module": "@jupyter-widgets/controls",
            "_model_module_version": "1.5.0",
            "_model_name": "HTMLModel",
            "_view_count": null,
            "_view_module": "@jupyter-widgets/controls",
            "_view_module_version": "1.5.0",
            "_view_name": "HTMLView",
            "description": "",
            "description_tooltip": null,
            "layout": "IPY_MODEL_b529d9608819447199fd32d73388538d",
            "placeholder": "​",
            "style": "IPY_MODEL_3dd46fc67d504a1ebe80a6a78af98457",
            "value": " 112/112 [00:00&lt;00:00, 5.12kB/s]"
          }
        },
        "2f624acc5b8d40a39e5dbf992a4019a1": {
          "model_module": "@jupyter-widgets/controls",
          "model_module_version": "1.5.0",
          "model_name": "DescriptionStyleModel",
          "state": {
            "_model_module": "@jupyter-widgets/controls",
            "_model_module_version": "1.5.0",
            "_model_name": "DescriptionStyleModel",
            "_view_count": null,
            "_view_module": "@jupyter-widgets/base",
            "_view_module_version": "1.2.0",
            "_view_name": "StyleView",
            "description_width": ""
          }
        },
        "2fdb1330bebe4fa094a51c7860a37565": {
          "model_module": "@jupyter-widgets/controls",
          "model_module_version": "1.5.0",
          "model_name": "ProgressStyleModel",
          "state": {
            "_model_module": "@jupyter-widgets/controls",
            "_model_module_version": "1.5.0",
            "_model_name": "ProgressStyleModel",
            "_view_count": null,
            "_view_module": "@jupyter-widgets/base",
            "_view_module_version": "1.2.0",
            "_view_name": "StyleView",
            "bar_color": null,
            "description_width": ""
          }
        },
        "2fe31d2bb80c49d7a385d14acc7f79b9": {
          "model_module": "@jupyter-widgets/base",
          "model_module_version": "1.2.0",
          "model_name": "LayoutModel",
          "state": {
            "_model_module": "@jupyter-widgets/base",
            "_model_module_version": "1.2.0",
            "_model_name": "LayoutModel",
            "_view_count": null,
            "_view_module": "@jupyter-widgets/base",
            "_view_module_version": "1.2.0",
            "_view_name": "LayoutView",
            "align_content": null,
            "align_items": null,
            "align_self": null,
            "border": null,
            "bottom": null,
            "display": null,
            "flex": null,
            "flex_flow": null,
            "grid_area": null,
            "grid_auto_columns": null,
            "grid_auto_flow": null,
            "grid_auto_rows": null,
            "grid_column": null,
            "grid_gap": null,
            "grid_row": null,
            "grid_template_areas": null,
            "grid_template_columns": null,
            "grid_template_rows": null,
            "height": null,
            "justify_content": null,
            "justify_items": null,
            "left": null,
            "margin": null,
            "max_height": null,
            "max_width": null,
            "min_height": null,
            "min_width": null,
            "object_fit": null,
            "object_position": null,
            "order": null,
            "overflow": null,
            "overflow_x": null,
            "overflow_y": null,
            "padding": null,
            "right": null,
            "top": null,
            "visibility": null,
            "width": null
          }
        },
        "317568dd7761463baa1ce2a39e3d51ad": {
          "model_module": "@jupyter-widgets/base",
          "model_module_version": "1.2.0",
          "model_name": "LayoutModel",
          "state": {
            "_model_module": "@jupyter-widgets/base",
            "_model_module_version": "1.2.0",
            "_model_name": "LayoutModel",
            "_view_count": null,
            "_view_module": "@jupyter-widgets/base",
            "_view_module_version": "1.2.0",
            "_view_name": "LayoutView",
            "align_content": null,
            "align_items": null,
            "align_self": null,
            "border": null,
            "bottom": null,
            "display": null,
            "flex": null,
            "flex_flow": null,
            "grid_area": null,
            "grid_auto_columns": null,
            "grid_auto_flow": null,
            "grid_auto_rows": null,
            "grid_column": null,
            "grid_gap": null,
            "grid_row": null,
            "grid_template_areas": null,
            "grid_template_columns": null,
            "grid_template_rows": null,
            "height": null,
            "justify_content": null,
            "justify_items": null,
            "left": null,
            "margin": null,
            "max_height": null,
            "max_width": null,
            "min_height": null,
            "min_width": null,
            "object_fit": null,
            "object_position": null,
            "order": null,
            "overflow": null,
            "overflow_x": null,
            "overflow_y": null,
            "padding": null,
            "right": null,
            "top": null,
            "visibility": null,
            "width": null
          }
        },
        "39aaef04b6eb46c1bcaa199740314b7c": {
          "model_module": "@jupyter-widgets/base",
          "model_module_version": "1.2.0",
          "model_name": "LayoutModel",
          "state": {
            "_model_module": "@jupyter-widgets/base",
            "_model_module_version": "1.2.0",
            "_model_name": "LayoutModel",
            "_view_count": null,
            "_view_module": "@jupyter-widgets/base",
            "_view_module_version": "1.2.0",
            "_view_name": "LayoutView",
            "align_content": null,
            "align_items": null,
            "align_self": null,
            "border": null,
            "bottom": null,
            "display": null,
            "flex": null,
            "flex_flow": null,
            "grid_area": null,
            "grid_auto_columns": null,
            "grid_auto_flow": null,
            "grid_auto_rows": null,
            "grid_column": null,
            "grid_gap": null,
            "grid_row": null,
            "grid_template_areas": null,
            "grid_template_columns": null,
            "grid_template_rows": null,
            "height": null,
            "justify_content": null,
            "justify_items": null,
            "left": null,
            "margin": null,
            "max_height": null,
            "max_width": null,
            "min_height": null,
            "min_width": null,
            "object_fit": null,
            "object_position": null,
            "order": null,
            "overflow": null,
            "overflow_x": null,
            "overflow_y": null,
            "padding": null,
            "right": null,
            "top": null,
            "visibility": null,
            "width": null
          }
        },
        "3dd46fc67d504a1ebe80a6a78af98457": {
          "model_module": "@jupyter-widgets/controls",
          "model_module_version": "1.5.0",
          "model_name": "DescriptionStyleModel",
          "state": {
            "_model_module": "@jupyter-widgets/controls",
            "_model_module_version": "1.5.0",
            "_model_name": "DescriptionStyleModel",
            "_view_count": null,
            "_view_module": "@jupyter-widgets/base",
            "_view_module_version": "1.2.0",
            "_view_name": "StyleView",
            "description_width": ""
          }
        },
        "3e85597c16af48de9ae0ec3fc48c5cc5": {
          "model_module": "@jupyter-widgets/base",
          "model_module_version": "1.2.0",
          "model_name": "LayoutModel",
          "state": {
            "_model_module": "@jupyter-widgets/base",
            "_model_module_version": "1.2.0",
            "_model_name": "LayoutModel",
            "_view_count": null,
            "_view_module": "@jupyter-widgets/base",
            "_view_module_version": "1.2.0",
            "_view_name": "LayoutView",
            "align_content": null,
            "align_items": null,
            "align_self": null,
            "border": null,
            "bottom": null,
            "display": null,
            "flex": null,
            "flex_flow": null,
            "grid_area": null,
            "grid_auto_columns": null,
            "grid_auto_flow": null,
            "grid_auto_rows": null,
            "grid_column": null,
            "grid_gap": null,
            "grid_row": null,
            "grid_template_areas": null,
            "grid_template_columns": null,
            "grid_template_rows": null,
            "height": null,
            "justify_content": null,
            "justify_items": null,
            "left": null,
            "margin": null,
            "max_height": null,
            "max_width": null,
            "min_height": null,
            "min_width": null,
            "object_fit": null,
            "object_position": null,
            "order": null,
            "overflow": null,
            "overflow_x": null,
            "overflow_y": null,
            "padding": null,
            "right": null,
            "top": null,
            "visibility": null,
            "width": null
          }
        },
        "4be4a4148c2744009c907a0ba941bf2d": {
          "model_module": "@jupyter-widgets/controls",
          "model_module_version": "1.5.0",
          "model_name": "ProgressStyleModel",
          "state": {
            "_model_module": "@jupyter-widgets/controls",
            "_model_module_version": "1.5.0",
            "_model_name": "ProgressStyleModel",
            "_view_count": null,
            "_view_module": "@jupyter-widgets/base",
            "_view_module_version": "1.2.0",
            "_view_name": "StyleView",
            "bar_color": null,
            "description_width": ""
          }
        },
        "521a66fe2c514360af32afe9e64b7e4e": {
          "model_module": "@jupyter-widgets/controls",
          "model_module_version": "1.5.0",
          "model_name": "HBoxModel",
          "state": {
            "_dom_classes": [],
            "_model_module": "@jupyter-widgets/controls",
            "_model_module_version": "1.5.0",
            "_model_name": "HBoxModel",
            "_view_count": null,
            "_view_module": "@jupyter-widgets/controls",
            "_view_module_version": "1.5.0",
            "_view_name": "HBoxView",
            "box_style": "",
            "children": [
              "IPY_MODEL_cb1d015d5f144c04963cac51c74fbbef",
              "IPY_MODEL_ef5973e3a0dc4d6190bf60461129a04f",
              "IPY_MODEL_98711f85f62a4643a3702d59c3a0abaf"
            ],
            "layout": "IPY_MODEL_317568dd7761463baa1ce2a39e3d51ad"
          }
        },
        "5439a8a6df094f33820edf8220d90aae": {
          "model_module": "@jupyter-widgets/controls",
          "model_module_version": "1.5.0",
          "model_name": "DescriptionStyleModel",
          "state": {
            "_model_module": "@jupyter-widgets/controls",
            "_model_module_version": "1.5.0",
            "_model_name": "DescriptionStyleModel",
            "_view_count": null,
            "_view_module": "@jupyter-widgets/base",
            "_view_module_version": "1.2.0",
            "_view_name": "StyleView",
            "description_width": ""
          }
        },
        "56666e58023948bb82f14b6d2587ac52": {
          "model_module": "@jupyter-widgets/base",
          "model_module_version": "1.2.0",
          "model_name": "LayoutModel",
          "state": {
            "_model_module": "@jupyter-widgets/base",
            "_model_module_version": "1.2.0",
            "_model_name": "LayoutModel",
            "_view_count": null,
            "_view_module": "@jupyter-widgets/base",
            "_view_module_version": "1.2.0",
            "_view_name": "LayoutView",
            "align_content": null,
            "align_items": null,
            "align_self": null,
            "border": null,
            "bottom": null,
            "display": null,
            "flex": null,
            "flex_flow": null,
            "grid_area": null,
            "grid_auto_columns": null,
            "grid_auto_flow": null,
            "grid_auto_rows": null,
            "grid_column": null,
            "grid_gap": null,
            "grid_row": null,
            "grid_template_areas": null,
            "grid_template_columns": null,
            "grid_template_rows": null,
            "height": null,
            "justify_content": null,
            "justify_items": null,
            "left": null,
            "margin": null,
            "max_height": null,
            "max_width": null,
            "min_height": null,
            "min_width": null,
            "object_fit": null,
            "object_position": null,
            "order": null,
            "overflow": null,
            "overflow_x": null,
            "overflow_y": null,
            "padding": null,
            "right": null,
            "top": null,
            "visibility": null,
            "width": null
          }
        },
        "5a8882cd13ca484ab050102ee6d715a5": {
          "model_module": "@jupyter-widgets/controls",
          "model_module_version": "1.5.0",
          "model_name": "ProgressStyleModel",
          "state": {
            "_model_module": "@jupyter-widgets/controls",
            "_model_module_version": "1.5.0",
            "_model_name": "ProgressStyleModel",
            "_view_count": null,
            "_view_module": "@jupyter-widgets/base",
            "_view_module_version": "1.2.0",
            "_view_name": "StyleView",
            "bar_color": null,
            "description_width": ""
          }
        },
        "6089a05f65004e89a93f7bf2544b81c4": {
          "model_module": "@jupyter-widgets/controls",
          "model_module_version": "1.5.0",
          "model_name": "FloatProgressModel",
          "state": {
            "_dom_classes": [],
            "_model_module": "@jupyter-widgets/controls",
            "_model_module_version": "1.5.0",
            "_model_name": "FloatProgressModel",
            "_view_count": null,
            "_view_module": "@jupyter-widgets/controls",
            "_view_module_version": "1.5.0",
            "_view_name": "ProgressView",
            "bar_style": "success",
            "description": "",
            "description_tooltip": null,
            "layout": "IPY_MODEL_bf9e0b825dfd433fadd36fa5efc51806",
            "max": 231508,
            "min": 0,
            "orientation": "horizontal",
            "style": "IPY_MODEL_4be4a4148c2744009c907a0ba941bf2d",
            "value": 231508
          }
        },
        "6a9060c30dd7408581e969b062fe0d03": {
          "model_module": "@jupyter-widgets/controls",
          "model_module_version": "1.5.0",
          "model_name": "DescriptionStyleModel",
          "state": {
            "_model_module": "@jupyter-widgets/controls",
            "_model_module_version": "1.5.0",
            "_model_name": "DescriptionStyleModel",
            "_view_count": null,
            "_view_module": "@jupyter-widgets/base",
            "_view_module_version": "1.2.0",
            "_view_name": "StyleView",
            "description_width": ""
          }
        },
        "6c4d304c15274df484d66935eb4af752": {
          "model_module": "@jupyter-widgets/base",
          "model_module_version": "1.2.0",
          "model_name": "LayoutModel",
          "state": {
            "_model_module": "@jupyter-widgets/base",
            "_model_module_version": "1.2.0",
            "_model_name": "LayoutModel",
            "_view_count": null,
            "_view_module": "@jupyter-widgets/base",
            "_view_module_version": "1.2.0",
            "_view_name": "LayoutView",
            "align_content": null,
            "align_items": null,
            "align_self": null,
            "border": null,
            "bottom": null,
            "display": null,
            "flex": null,
            "flex_flow": null,
            "grid_area": null,
            "grid_auto_columns": null,
            "grid_auto_flow": null,
            "grid_auto_rows": null,
            "grid_column": null,
            "grid_gap": null,
            "grid_row": null,
            "grid_template_areas": null,
            "grid_template_columns": null,
            "grid_template_rows": null,
            "height": null,
            "justify_content": null,
            "justify_items": null,
            "left": null,
            "margin": null,
            "max_height": null,
            "max_width": null,
            "min_height": null,
            "min_width": null,
            "object_fit": null,
            "object_position": null,
            "order": null,
            "overflow": null,
            "overflow_x": null,
            "overflow_y": null,
            "padding": null,
            "right": null,
            "top": null,
            "visibility": null,
            "width": null
          }
        },
        "6f51c65655094be4918f40e822740b5e": {
          "model_module": "@jupyter-widgets/base",
          "model_module_version": "1.2.0",
          "model_name": "LayoutModel",
          "state": {
            "_model_module": "@jupyter-widgets/base",
            "_model_module_version": "1.2.0",
            "_model_name": "LayoutModel",
            "_view_count": null,
            "_view_module": "@jupyter-widgets/base",
            "_view_module_version": "1.2.0",
            "_view_name": "LayoutView",
            "align_content": null,
            "align_items": null,
            "align_self": null,
            "border": null,
            "bottom": null,
            "display": null,
            "flex": null,
            "flex_flow": null,
            "grid_area": null,
            "grid_auto_columns": null,
            "grid_auto_flow": null,
            "grid_auto_rows": null,
            "grid_column": null,
            "grid_gap": null,
            "grid_row": null,
            "grid_template_areas": null,
            "grid_template_columns": null,
            "grid_template_rows": null,
            "height": null,
            "justify_content": null,
            "justify_items": null,
            "left": null,
            "margin": null,
            "max_height": null,
            "max_width": null,
            "min_height": null,
            "min_width": null,
            "object_fit": null,
            "object_position": null,
            "order": null,
            "overflow": null,
            "overflow_x": null,
            "overflow_y": null,
            "padding": null,
            "right": null,
            "top": null,
            "visibility": null,
            "width": null
          }
        },
        "70e0792a37d048b0ae86a199a7f63428": {
          "model_module": "@jupyter-widgets/controls",
          "model_module_version": "1.5.0",
          "model_name": "HBoxModel",
          "state": {
            "_dom_classes": [],
            "_model_module": "@jupyter-widgets/controls",
            "_model_module_version": "1.5.0",
            "_model_name": "HBoxModel",
            "_view_count": null,
            "_view_module": "@jupyter-widgets/controls",
            "_view_module_version": "1.5.0",
            "_view_name": "HBoxView",
            "box_style": "",
            "children": [
              "IPY_MODEL_f594fbbc2dfa42e383386714d39ab743",
              "IPY_MODEL_fbf7e336238e494e8f2fa7f4722fa975",
              "IPY_MODEL_2f4f308c071340dca947a3192df0e26e"
            ],
            "layout": "IPY_MODEL_bb9f519be45f44cc9d19668ff6e6915b"
          }
        },
        "7156027e2af0463d9475d224ee8e3148": {
          "model_module": "@jupyter-widgets/controls",
          "model_module_version": "1.5.0",
          "model_name": "HTMLModel",
          "state": {
            "_dom_classes": [],
            "_model_module": "@jupyter-widgets/controls",
            "_model_module_version": "1.5.0",
            "_model_name": "HTMLModel",
            "_view_count": null,
            "_view_module": "@jupyter-widgets/controls",
            "_view_module_version": "1.5.0",
            "_view_name": "HTMLView",
            "description": "",
            "description_tooltip": null,
            "layout": "IPY_MODEL_3e85597c16af48de9ae0ec3fc48c5cc5",
            "placeholder": "​",
            "style": "IPY_MODEL_2f624acc5b8d40a39e5dbf992a4019a1",
            "value": " 438M/438M [00:05&lt;00:00, 101MB/s]"
          }
        },
        "7af46123dfd44becae123b19a21e3717": {
          "model_module": "@jupyter-widgets/controls",
          "model_module_version": "1.5.0",
          "model_name": "HTMLModel",
          "state": {
            "_dom_classes": [],
            "_model_module": "@jupyter-widgets/controls",
            "_model_module_version": "1.5.0",
            "_model_name": "HTMLModel",
            "_view_count": null,
            "_view_module": "@jupyter-widgets/controls",
            "_view_module_version": "1.5.0",
            "_view_name": "HTMLView",
            "description": "",
            "description_tooltip": null,
            "layout": "IPY_MODEL_c5946eeb7bce48dd8850be64d343d256",
            "placeholder": "​",
            "style": "IPY_MODEL_eeb39274ff7c40f38f3896591ffa2aec",
            "value": " 45/45 [5:21:43&lt;00:00, 422.79s/it]"
          }
        },
        "7f8958585e50420d86a14e82be29d087": {
          "model_module": "@jupyter-widgets/base",
          "model_module_version": "1.2.0",
          "model_name": "LayoutModel",
          "state": {
            "_model_module": "@jupyter-widgets/base",
            "_model_module_version": "1.2.0",
            "_model_name": "LayoutModel",
            "_view_count": null,
            "_view_module": "@jupyter-widgets/base",
            "_view_module_version": "1.2.0",
            "_view_name": "LayoutView",
            "align_content": null,
            "align_items": null,
            "align_self": null,
            "border": null,
            "bottom": null,
            "display": null,
            "flex": null,
            "flex_flow": null,
            "grid_area": null,
            "grid_auto_columns": null,
            "grid_auto_flow": null,
            "grid_auto_rows": null,
            "grid_column": null,
            "grid_gap": null,
            "grid_row": null,
            "grid_template_areas": null,
            "grid_template_columns": null,
            "grid_template_rows": null,
            "height": null,
            "justify_content": null,
            "justify_items": null,
            "left": null,
            "margin": null,
            "max_height": null,
            "max_width": null,
            "min_height": null,
            "min_width": null,
            "object_fit": null,
            "object_position": null,
            "order": null,
            "overflow": null,
            "overflow_x": null,
            "overflow_y": null,
            "padding": null,
            "right": null,
            "top": null,
            "visibility": null,
            "width": null
          }
        },
        "861c6c475f0343208562062e3030e804": {
          "model_module": "@jupyter-widgets/controls",
          "model_module_version": "1.5.0",
          "model_name": "DescriptionStyleModel",
          "state": {
            "_model_module": "@jupyter-widgets/controls",
            "_model_module_version": "1.5.0",
            "_model_name": "DescriptionStyleModel",
            "_view_count": null,
            "_view_module": "@jupyter-widgets/base",
            "_view_module_version": "1.2.0",
            "_view_name": "StyleView",
            "description_width": ""
          }
        },
        "86f8cbf9d1564a999f4fc5c59e8cc35a": {
          "model_module": "@jupyter-widgets/controls",
          "model_module_version": "1.5.0",
          "model_name": "FloatProgressModel",
          "state": {
            "_dom_classes": [],
            "_model_module": "@jupyter-widgets/controls",
            "_model_module_version": "1.5.0",
            "_model_name": "FloatProgressModel",
            "_view_count": null,
            "_view_module": "@jupyter-widgets/controls",
            "_view_module_version": "1.5.0",
            "_view_name": "ProgressView",
            "bar_style": "success",
            "description": "",
            "description_tooltip": null,
            "layout": "IPY_MODEL_6f51c65655094be4918f40e822740b5e",
            "max": 174,
            "min": 0,
            "orientation": "horizontal",
            "style": "IPY_MODEL_0bb1e04eb69a43eca48c5133a708850e",
            "value": 174
          }
        },
        "88846292ca5c4a99a58fddde2a98cafa": {
          "model_module": "@jupyter-widgets/base",
          "model_module_version": "1.2.0",
          "model_name": "LayoutModel",
          "state": {
            "_model_module": "@jupyter-widgets/base",
            "_model_module_version": "1.2.0",
            "_model_name": "LayoutModel",
            "_view_count": null,
            "_view_module": "@jupyter-widgets/base",
            "_view_module_version": "1.2.0",
            "_view_name": "LayoutView",
            "align_content": null,
            "align_items": null,
            "align_self": null,
            "border": null,
            "bottom": null,
            "display": null,
            "flex": null,
            "flex_flow": null,
            "grid_area": null,
            "grid_auto_columns": null,
            "grid_auto_flow": null,
            "grid_auto_rows": null,
            "grid_column": null,
            "grid_gap": null,
            "grid_row": null,
            "grid_template_areas": null,
            "grid_template_columns": null,
            "grid_template_rows": null,
            "height": null,
            "justify_content": null,
            "justify_items": null,
            "left": null,
            "margin": null,
            "max_height": null,
            "max_width": null,
            "min_height": null,
            "min_width": null,
            "object_fit": null,
            "object_position": null,
            "order": null,
            "overflow": null,
            "overflow_x": null,
            "overflow_y": null,
            "padding": null,
            "right": null,
            "top": null,
            "visibility": null,
            "width": null
          }
        },
        "89849455eaa84cffbfb231d6095298dd": {
          "model_module": "@jupyter-widgets/base",
          "model_module_version": "1.2.0",
          "model_name": "LayoutModel",
          "state": {
            "_model_module": "@jupyter-widgets/base",
            "_model_module_version": "1.2.0",
            "_model_name": "LayoutModel",
            "_view_count": null,
            "_view_module": "@jupyter-widgets/base",
            "_view_module_version": "1.2.0",
            "_view_name": "LayoutView",
            "align_content": null,
            "align_items": null,
            "align_self": null,
            "border": null,
            "bottom": null,
            "display": null,
            "flex": null,
            "flex_flow": null,
            "grid_area": null,
            "grid_auto_columns": null,
            "grid_auto_flow": null,
            "grid_auto_rows": null,
            "grid_column": null,
            "grid_gap": null,
            "grid_row": null,
            "grid_template_areas": null,
            "grid_template_columns": null,
            "grid_template_rows": null,
            "height": null,
            "justify_content": null,
            "justify_items": null,
            "left": null,
            "margin": null,
            "max_height": null,
            "max_width": null,
            "min_height": null,
            "min_width": null,
            "object_fit": null,
            "object_position": null,
            "order": null,
            "overflow": null,
            "overflow_x": null,
            "overflow_y": null,
            "padding": null,
            "right": null,
            "top": null,
            "visibility": null,
            "width": null
          }
        },
        "98711f85f62a4643a3702d59c3a0abaf": {
          "model_module": "@jupyter-widgets/controls",
          "model_module_version": "1.5.0",
          "model_name": "HTMLModel",
          "state": {
            "_dom_classes": [],
            "_model_module": "@jupyter-widgets/controls",
            "_model_module_version": "1.5.0",
            "_model_name": "HTMLModel",
            "_view_count": null,
            "_view_module": "@jupyter-widgets/controls",
            "_view_module_version": "1.5.0",
            "_view_name": "HTMLView",
            "description": "",
            "description_tooltip": null,
            "layout": "IPY_MODEL_da2524e83d1649ca97242f3762a8e296",
            "placeholder": "​",
            "style": "IPY_MODEL_2199b5ad1648459aad9923e28734edee",
            "value": " 811/811 [00:00&lt;00:00, 24.5kB/s]"
          }
        },
        "a702501444d74ba18c5ec1e4ba25768a": {
          "model_module": "@jupyter-widgets/controls",
          "model_module_version": "1.5.0",
          "model_name": "DescriptionStyleModel",
          "state": {
            "_model_module": "@jupyter-widgets/controls",
            "_model_module_version": "1.5.0",
            "_model_name": "DescriptionStyleModel",
            "_view_count": null,
            "_view_module": "@jupyter-widgets/base",
            "_view_module_version": "1.2.0",
            "_view_name": "StyleView",
            "description_width": ""
          }
        },
        "a728a786a6e64608bf07f08a16d33cac": {
          "model_module": "@jupyter-widgets/base",
          "model_module_version": "1.2.0",
          "model_name": "LayoutModel",
          "state": {
            "_model_module": "@jupyter-widgets/base",
            "_model_module_version": "1.2.0",
            "_model_name": "LayoutModel",
            "_view_count": null,
            "_view_module": "@jupyter-widgets/base",
            "_view_module_version": "1.2.0",
            "_view_name": "LayoutView",
            "align_content": null,
            "align_items": null,
            "align_self": null,
            "border": null,
            "bottom": null,
            "display": null,
            "flex": null,
            "flex_flow": null,
            "grid_area": null,
            "grid_auto_columns": null,
            "grid_auto_flow": null,
            "grid_auto_rows": null,
            "grid_column": null,
            "grid_gap": null,
            "grid_row": null,
            "grid_template_areas": null,
            "grid_template_columns": null,
            "grid_template_rows": null,
            "height": null,
            "justify_content": null,
            "justify_items": null,
            "left": null,
            "margin": null,
            "max_height": null,
            "max_width": null,
            "min_height": null,
            "min_width": null,
            "object_fit": null,
            "object_position": null,
            "order": null,
            "overflow": null,
            "overflow_x": null,
            "overflow_y": null,
            "padding": null,
            "right": null,
            "top": null,
            "visibility": null,
            "width": null
          }
        },
        "a7d834e842ad4f16afc9458763012e6c": {
          "model_module": "@jupyter-widgets/base",
          "model_module_version": "1.2.0",
          "model_name": "LayoutModel",
          "state": {
            "_model_module": "@jupyter-widgets/base",
            "_model_module_version": "1.2.0",
            "_model_name": "LayoutModel",
            "_view_count": null,
            "_view_module": "@jupyter-widgets/base",
            "_view_module_version": "1.2.0",
            "_view_name": "LayoutView",
            "align_content": null,
            "align_items": null,
            "align_self": null,
            "border": null,
            "bottom": null,
            "display": null,
            "flex": null,
            "flex_flow": null,
            "grid_area": null,
            "grid_auto_columns": null,
            "grid_auto_flow": null,
            "grid_auto_rows": null,
            "grid_column": null,
            "grid_gap": null,
            "grid_row": null,
            "grid_template_areas": null,
            "grid_template_columns": null,
            "grid_template_rows": null,
            "height": null,
            "justify_content": null,
            "justify_items": null,
            "left": null,
            "margin": null,
            "max_height": null,
            "max_width": null,
            "min_height": null,
            "min_width": null,
            "object_fit": null,
            "object_position": null,
            "order": null,
            "overflow": null,
            "overflow_x": null,
            "overflow_y": null,
            "padding": null,
            "right": null,
            "top": null,
            "visibility": null,
            "width": null
          }
        },
        "abe09e30298b4d418c1f073cf462b125": {
          "model_module": "@jupyter-widgets/controls",
          "model_module_version": "1.5.0",
          "model_name": "FloatProgressModel",
          "state": {
            "_dom_classes": [],
            "_model_module": "@jupyter-widgets/controls",
            "_model_module_version": "1.5.0",
            "_model_name": "FloatProgressModel",
            "_view_count": null,
            "_view_module": "@jupyter-widgets/controls",
            "_view_module_version": "1.5.0",
            "_view_name": "ProgressView",
            "bar_style": "success",
            "description": "",
            "description_tooltip": null,
            "layout": "IPY_MODEL_d1eec3f320904da8b1a545f5d3b94c5b",
            "max": 438033929,
            "min": 0,
            "orientation": "horizontal",
            "style": "IPY_MODEL_5a8882cd13ca484ab050102ee6d715a5",
            "value": 438033929
          }
        },
        "b4844449db554d29a0b01e85b98819c2": {
          "model_module": "@jupyter-widgets/base",
          "model_module_version": "1.2.0",
          "model_name": "LayoutModel",
          "state": {
            "_model_module": "@jupyter-widgets/base",
            "_model_module_version": "1.2.0",
            "_model_name": "LayoutModel",
            "_view_count": null,
            "_view_module": "@jupyter-widgets/base",
            "_view_module_version": "1.2.0",
            "_view_name": "LayoutView",
            "align_content": null,
            "align_items": null,
            "align_self": null,
            "border": null,
            "bottom": null,
            "display": null,
            "flex": null,
            "flex_flow": null,
            "grid_area": null,
            "grid_auto_columns": null,
            "grid_auto_flow": null,
            "grid_auto_rows": null,
            "grid_column": null,
            "grid_gap": null,
            "grid_row": null,
            "grid_template_areas": null,
            "grid_template_columns": null,
            "grid_template_rows": null,
            "height": null,
            "justify_content": null,
            "justify_items": null,
            "left": null,
            "margin": null,
            "max_height": null,
            "max_width": null,
            "min_height": null,
            "min_width": null,
            "object_fit": null,
            "object_position": null,
            "order": null,
            "overflow": null,
            "overflow_x": null,
            "overflow_y": null,
            "padding": null,
            "right": null,
            "top": null,
            "visibility": null,
            "width": null
          }
        },
        "b529d9608819447199fd32d73388538d": {
          "model_module": "@jupyter-widgets/base",
          "model_module_version": "1.2.0",
          "model_name": "LayoutModel",
          "state": {
            "_model_module": "@jupyter-widgets/base",
            "_model_module_version": "1.2.0",
            "_model_name": "LayoutModel",
            "_view_count": null,
            "_view_module": "@jupyter-widgets/base",
            "_view_module_version": "1.2.0",
            "_view_name": "LayoutView",
            "align_content": null,
            "align_items": null,
            "align_self": null,
            "border": null,
            "bottom": null,
            "display": null,
            "flex": null,
            "flex_flow": null,
            "grid_area": null,
            "grid_auto_columns": null,
            "grid_auto_flow": null,
            "grid_auto_rows": null,
            "grid_column": null,
            "grid_gap": null,
            "grid_row": null,
            "grid_template_areas": null,
            "grid_template_columns": null,
            "grid_template_rows": null,
            "height": null,
            "justify_content": null,
            "justify_items": null,
            "left": null,
            "margin": null,
            "max_height": null,
            "max_width": null,
            "min_height": null,
            "min_width": null,
            "object_fit": null,
            "object_position": null,
            "order": null,
            "overflow": null,
            "overflow_x": null,
            "overflow_y": null,
            "padding": null,
            "right": null,
            "top": null,
            "visibility": null,
            "width": null
          }
        },
        "b631ff09652a4e029ed225097392ebd8": {
          "model_module": "@jupyter-widgets/controls",
          "model_module_version": "1.5.0",
          "model_name": "ProgressStyleModel",
          "state": {
            "_model_module": "@jupyter-widgets/controls",
            "_model_module_version": "1.5.0",
            "_model_name": "ProgressStyleModel",
            "_view_count": null,
            "_view_module": "@jupyter-widgets/base",
            "_view_module_version": "1.2.0",
            "_view_name": "StyleView",
            "bar_color": null,
            "description_width": ""
          }
        },
        "b931f19986a448308da3d32a13e20b7e": {
          "model_module": "@jupyter-widgets/controls",
          "model_module_version": "1.5.0",
          "model_name": "HBoxModel",
          "state": {
            "_dom_classes": [],
            "_model_module": "@jupyter-widgets/controls",
            "_model_module_version": "1.5.0",
            "_model_name": "HBoxModel",
            "_view_count": null,
            "_view_module": "@jupyter-widgets/controls",
            "_view_module_version": "1.5.0",
            "_view_name": "HBoxView",
            "box_style": "",
            "children": [
              "IPY_MODEL_ef33d3fbf43b41f583ff0a32db4a6ee8",
              "IPY_MODEL_6089a05f65004e89a93f7bf2544b81c4",
              "IPY_MODEL_26d3f03957bf4b209f55e82b89e203ef"
            ],
            "layout": "IPY_MODEL_2fe31d2bb80c49d7a385d14acc7f79b9"
          }
        },
        "bb9f519be45f44cc9d19668ff6e6915b": {
          "model_module": "@jupyter-widgets/base",
          "model_module_version": "1.2.0",
          "model_name": "LayoutModel",
          "state": {
            "_model_module": "@jupyter-widgets/base",
            "_model_module_version": "1.2.0",
            "_model_name": "LayoutModel",
            "_view_count": null,
            "_view_module": "@jupyter-widgets/base",
            "_view_module_version": "1.2.0",
            "_view_name": "LayoutView",
            "align_content": null,
            "align_items": null,
            "align_self": null,
            "border": null,
            "bottom": null,
            "display": null,
            "flex": null,
            "flex_flow": null,
            "grid_area": null,
            "grid_auto_columns": null,
            "grid_auto_flow": null,
            "grid_auto_rows": null,
            "grid_column": null,
            "grid_gap": null,
            "grid_row": null,
            "grid_template_areas": null,
            "grid_template_columns": null,
            "grid_template_rows": null,
            "height": null,
            "justify_content": null,
            "justify_items": null,
            "left": null,
            "margin": null,
            "max_height": null,
            "max_width": null,
            "min_height": null,
            "min_width": null,
            "object_fit": null,
            "object_position": null,
            "order": null,
            "overflow": null,
            "overflow_x": null,
            "overflow_y": null,
            "padding": null,
            "right": null,
            "top": null,
            "visibility": null,
            "width": null
          }
        },
        "bf672f9d9bdc498393e436149e6b9409": {
          "model_module": "@jupyter-widgets/controls",
          "model_module_version": "1.5.0",
          "model_name": "HBoxModel",
          "state": {
            "_dom_classes": [],
            "_model_module": "@jupyter-widgets/controls",
            "_model_module_version": "1.5.0",
            "_model_name": "HBoxModel",
            "_view_count": null,
            "_view_module": "@jupyter-widgets/controls",
            "_view_module_version": "1.5.0",
            "_view_name": "HBoxView",
            "box_style": "",
            "children": [
              "IPY_MODEL_e704b4db96af4f238acfac523887079e",
              "IPY_MODEL_abe09e30298b4d418c1f073cf462b125",
              "IPY_MODEL_7156027e2af0463d9475d224ee8e3148"
            ],
            "layout": "IPY_MODEL_e00eeafa6359435fbcab81b912394191"
          }
        },
        "bf9e0b825dfd433fadd36fa5efc51806": {
          "model_module": "@jupyter-widgets/base",
          "model_module_version": "1.2.0",
          "model_name": "LayoutModel",
          "state": {
            "_model_module": "@jupyter-widgets/base",
            "_model_module_version": "1.2.0",
            "_model_name": "LayoutModel",
            "_view_count": null,
            "_view_module": "@jupyter-widgets/base",
            "_view_module_version": "1.2.0",
            "_view_name": "LayoutView",
            "align_content": null,
            "align_items": null,
            "align_self": null,
            "border": null,
            "bottom": null,
            "display": null,
            "flex": null,
            "flex_flow": null,
            "grid_area": null,
            "grid_auto_columns": null,
            "grid_auto_flow": null,
            "grid_auto_rows": null,
            "grid_column": null,
            "grid_gap": null,
            "grid_row": null,
            "grid_template_areas": null,
            "grid_template_columns": null,
            "grid_template_rows": null,
            "height": null,
            "justify_content": null,
            "justify_items": null,
            "left": null,
            "margin": null,
            "max_height": null,
            "max_width": null,
            "min_height": null,
            "min_width": null,
            "object_fit": null,
            "object_position": null,
            "order": null,
            "overflow": null,
            "overflow_x": null,
            "overflow_y": null,
            "padding": null,
            "right": null,
            "top": null,
            "visibility": null,
            "width": null
          }
        },
        "c5946eeb7bce48dd8850be64d343d256": {
          "model_module": "@jupyter-widgets/base",
          "model_module_version": "1.2.0",
          "model_name": "LayoutModel",
          "state": {
            "_model_module": "@jupyter-widgets/base",
            "_model_module_version": "1.2.0",
            "_model_name": "LayoutModel",
            "_view_count": null,
            "_view_module": "@jupyter-widgets/base",
            "_view_module_version": "1.2.0",
            "_view_name": "LayoutView",
            "align_content": null,
            "align_items": null,
            "align_self": null,
            "border": null,
            "bottom": null,
            "display": null,
            "flex": null,
            "flex_flow": null,
            "grid_area": null,
            "grid_auto_columns": null,
            "grid_auto_flow": null,
            "grid_auto_rows": null,
            "grid_column": null,
            "grid_gap": null,
            "grid_row": null,
            "grid_template_areas": null,
            "grid_template_columns": null,
            "grid_template_rows": null,
            "height": null,
            "justify_content": null,
            "justify_items": null,
            "left": null,
            "margin": null,
            "max_height": null,
            "max_width": null,
            "min_height": null,
            "min_width": null,
            "object_fit": null,
            "object_position": null,
            "order": null,
            "overflow": null,
            "overflow_x": null,
            "overflow_y": null,
            "padding": null,
            "right": null,
            "top": null,
            "visibility": null,
            "width": null
          }
        },
        "c753f174d1874970a82c95e96573e16e": {
          "model_module": "@jupyter-widgets/base",
          "model_module_version": "1.2.0",
          "model_name": "LayoutModel",
          "state": {
            "_model_module": "@jupyter-widgets/base",
            "_model_module_version": "1.2.0",
            "_model_name": "LayoutModel",
            "_view_count": null,
            "_view_module": "@jupyter-widgets/base",
            "_view_module_version": "1.2.0",
            "_view_name": "LayoutView",
            "align_content": null,
            "align_items": null,
            "align_self": null,
            "border": null,
            "bottom": null,
            "display": null,
            "flex": null,
            "flex_flow": null,
            "grid_area": null,
            "grid_auto_columns": null,
            "grid_auto_flow": null,
            "grid_auto_rows": null,
            "grid_column": null,
            "grid_gap": null,
            "grid_row": null,
            "grid_template_areas": null,
            "grid_template_columns": null,
            "grid_template_rows": null,
            "height": null,
            "justify_content": null,
            "justify_items": null,
            "left": null,
            "margin": null,
            "max_height": null,
            "max_width": null,
            "min_height": null,
            "min_width": null,
            "object_fit": null,
            "object_position": null,
            "order": null,
            "overflow": null,
            "overflow_x": null,
            "overflow_y": null,
            "padding": null,
            "right": null,
            "top": null,
            "visibility": null,
            "width": null
          }
        },
        "cb1d015d5f144c04963cac51c74fbbef": {
          "model_module": "@jupyter-widgets/controls",
          "model_module_version": "1.5.0",
          "model_name": "HTMLModel",
          "state": {
            "_dom_classes": [],
            "_model_module": "@jupyter-widgets/controls",
            "_model_module_version": "1.5.0",
            "_model_name": "HTMLModel",
            "_view_count": null,
            "_view_module": "@jupyter-widgets/controls",
            "_view_module_version": "1.5.0",
            "_view_name": "HTMLView",
            "description": "",
            "description_tooltip": null,
            "layout": "IPY_MODEL_a728a786a6e64608bf07f08a16d33cac",
            "placeholder": "​",
            "style": "IPY_MODEL_5439a8a6df094f33820edf8220d90aae",
            "value": "Downloading (…)lve/main/config.json: 100%"
          }
        },
        "d1eec3f320904da8b1a545f5d3b94c5b": {
          "model_module": "@jupyter-widgets/base",
          "model_module_version": "1.2.0",
          "model_name": "LayoutModel",
          "state": {
            "_model_module": "@jupyter-widgets/base",
            "_model_module_version": "1.2.0",
            "_model_name": "LayoutModel",
            "_view_count": null,
            "_view_module": "@jupyter-widgets/base",
            "_view_module_version": "1.2.0",
            "_view_name": "LayoutView",
            "align_content": null,
            "align_items": null,
            "align_self": null,
            "border": null,
            "bottom": null,
            "display": null,
            "flex": null,
            "flex_flow": null,
            "grid_area": null,
            "grid_auto_columns": null,
            "grid_auto_flow": null,
            "grid_auto_rows": null,
            "grid_column": null,
            "grid_gap": null,
            "grid_row": null,
            "grid_template_areas": null,
            "grid_template_columns": null,
            "grid_template_rows": null,
            "height": null,
            "justify_content": null,
            "justify_items": null,
            "left": null,
            "margin": null,
            "max_height": null,
            "max_width": null,
            "min_height": null,
            "min_width": null,
            "object_fit": null,
            "object_position": null,
            "order": null,
            "overflow": null,
            "overflow_x": null,
            "overflow_y": null,
            "padding": null,
            "right": null,
            "top": null,
            "visibility": null,
            "width": null
          }
        },
        "d6767c4268b3464dbc9097d671d16a5a": {
          "model_module": "@jupyter-widgets/controls",
          "model_module_version": "1.5.0",
          "model_name": "DescriptionStyleModel",
          "state": {
            "_model_module": "@jupyter-widgets/controls",
            "_model_module_version": "1.5.0",
            "_model_name": "DescriptionStyleModel",
            "_view_count": null,
            "_view_module": "@jupyter-widgets/base",
            "_view_module_version": "1.2.0",
            "_view_name": "StyleView",
            "description_width": ""
          }
        },
        "d76830f4c09242dab7ab2635ea225ede": {
          "model_module": "@jupyter-widgets/base",
          "model_module_version": "1.2.0",
          "model_name": "LayoutModel",
          "state": {
            "_model_module": "@jupyter-widgets/base",
            "_model_module_version": "1.2.0",
            "_model_name": "LayoutModel",
            "_view_count": null,
            "_view_module": "@jupyter-widgets/base",
            "_view_module_version": "1.2.0",
            "_view_name": "LayoutView",
            "align_content": null,
            "align_items": null,
            "align_self": null,
            "border": null,
            "bottom": null,
            "display": null,
            "flex": null,
            "flex_flow": null,
            "grid_area": null,
            "grid_auto_columns": null,
            "grid_auto_flow": null,
            "grid_auto_rows": null,
            "grid_column": null,
            "grid_gap": null,
            "grid_row": null,
            "grid_template_areas": null,
            "grid_template_columns": null,
            "grid_template_rows": null,
            "height": null,
            "justify_content": null,
            "justify_items": null,
            "left": null,
            "margin": null,
            "max_height": null,
            "max_width": null,
            "min_height": null,
            "min_width": null,
            "object_fit": null,
            "object_position": null,
            "order": null,
            "overflow": null,
            "overflow_x": null,
            "overflow_y": null,
            "padding": null,
            "right": null,
            "top": null,
            "visibility": null,
            "width": null
          }
        },
        "da2524e83d1649ca97242f3762a8e296": {
          "model_module": "@jupyter-widgets/base",
          "model_module_version": "1.2.0",
          "model_name": "LayoutModel",
          "state": {
            "_model_module": "@jupyter-widgets/base",
            "_model_module_version": "1.2.0",
            "_model_name": "LayoutModel",
            "_view_count": null,
            "_view_module": "@jupyter-widgets/base",
            "_view_module_version": "1.2.0",
            "_view_name": "LayoutView",
            "align_content": null,
            "align_items": null,
            "align_self": null,
            "border": null,
            "bottom": null,
            "display": null,
            "flex": null,
            "flex_flow": null,
            "grid_area": null,
            "grid_auto_columns": null,
            "grid_auto_flow": null,
            "grid_auto_rows": null,
            "grid_column": null,
            "grid_gap": null,
            "grid_row": null,
            "grid_template_areas": null,
            "grid_template_columns": null,
            "grid_template_rows": null,
            "height": null,
            "justify_content": null,
            "justify_items": null,
            "left": null,
            "margin": null,
            "max_height": null,
            "max_width": null,
            "min_height": null,
            "min_width": null,
            "object_fit": null,
            "object_position": null,
            "order": null,
            "overflow": null,
            "overflow_x": null,
            "overflow_y": null,
            "padding": null,
            "right": null,
            "top": null,
            "visibility": null,
            "width": null
          }
        },
        "dcbb25898b0f4a5c8f25f42b30b0108a": {
          "model_module": "@jupyter-widgets/controls",
          "model_module_version": "1.5.0",
          "model_name": "FloatProgressModel",
          "state": {
            "_dom_classes": [],
            "_model_module": "@jupyter-widgets/controls",
            "_model_module_version": "1.5.0",
            "_model_name": "FloatProgressModel",
            "_view_count": null,
            "_view_module": "@jupyter-widgets/controls",
            "_view_module_version": "1.5.0",
            "_view_name": "ProgressView",
            "bar_style": "success",
            "description": "",
            "description_tooltip": null,
            "layout": "IPY_MODEL_39aaef04b6eb46c1bcaa199740314b7c",
            "max": 45,
            "min": 0,
            "orientation": "horizontal",
            "style": "IPY_MODEL_2fdb1330bebe4fa094a51c7860a37565",
            "value": 45
          }
        },
        "e00eeafa6359435fbcab81b912394191": {
          "model_module": "@jupyter-widgets/base",
          "model_module_version": "1.2.0",
          "model_name": "LayoutModel",
          "state": {
            "_model_module": "@jupyter-widgets/base",
            "_model_module_version": "1.2.0",
            "_model_name": "LayoutModel",
            "_view_count": null,
            "_view_module": "@jupyter-widgets/base",
            "_view_module_version": "1.2.0",
            "_view_name": "LayoutView",
            "align_content": null,
            "align_items": null,
            "align_self": null,
            "border": null,
            "bottom": null,
            "display": null,
            "flex": null,
            "flex_flow": null,
            "grid_area": null,
            "grid_auto_columns": null,
            "grid_auto_flow": null,
            "grid_auto_rows": null,
            "grid_column": null,
            "grid_gap": null,
            "grid_row": null,
            "grid_template_areas": null,
            "grid_template_columns": null,
            "grid_template_rows": null,
            "height": null,
            "justify_content": null,
            "justify_items": null,
            "left": null,
            "margin": null,
            "max_height": null,
            "max_width": null,
            "min_height": null,
            "min_width": null,
            "object_fit": null,
            "object_position": null,
            "order": null,
            "overflow": null,
            "overflow_x": null,
            "overflow_y": null,
            "padding": null,
            "right": null,
            "top": null,
            "visibility": null,
            "width": null
          }
        },
        "e4c5fbd6f87a43b0a07b7a70922df39f": {
          "model_module": "@jupyter-widgets/controls",
          "model_module_version": "1.5.0",
          "model_name": "HBoxModel",
          "state": {
            "_dom_classes": [],
            "_model_module": "@jupyter-widgets/controls",
            "_model_module_version": "1.5.0",
            "_model_name": "HBoxModel",
            "_view_count": null,
            "_view_module": "@jupyter-widgets/controls",
            "_view_module_version": "1.5.0",
            "_view_name": "HBoxView",
            "box_style": "",
            "children": [
              "IPY_MODEL_0c6fe39b9dde4e528ba47731c68a1fe0",
              "IPY_MODEL_86f8cbf9d1564a999f4fc5c59e8cc35a",
              "IPY_MODEL_10a7ac23148c4cf7b6fedba71082b422"
            ],
            "layout": "IPY_MODEL_88846292ca5c4a99a58fddde2a98cafa"
          }
        },
        "e704b4db96af4f238acfac523887079e": {
          "model_module": "@jupyter-widgets/controls",
          "model_module_version": "1.5.0",
          "model_name": "HTMLModel",
          "state": {
            "_dom_classes": [],
            "_model_module": "@jupyter-widgets/controls",
            "_model_module_version": "1.5.0",
            "_model_name": "HTMLModel",
            "_view_count": null,
            "_view_module": "@jupyter-widgets/controls",
            "_view_module_version": "1.5.0",
            "_view_name": "HTMLView",
            "description": "",
            "description_tooltip": null,
            "layout": "IPY_MODEL_a7d834e842ad4f16afc9458763012e6c",
            "placeholder": "​",
            "style": "IPY_MODEL_6a9060c30dd7408581e969b062fe0d03",
            "value": "Downloading (…)&quot;pytorch_model.bin&quot;;: 100%"
          }
        },
        "e9b846c454b340e0864e15f2167713f5": {
          "model_module": "@jupyter-widgets/controls",
          "model_module_version": "1.5.0",
          "model_name": "DescriptionStyleModel",
          "state": {
            "_model_module": "@jupyter-widgets/controls",
            "_model_module_version": "1.5.0",
            "_model_name": "DescriptionStyleModel",
            "_view_count": null,
            "_view_module": "@jupyter-widgets/base",
            "_view_module_version": "1.2.0",
            "_view_name": "StyleView",
            "description_width": ""
          }
        },
        "eeb39274ff7c40f38f3896591ffa2aec": {
          "model_module": "@jupyter-widgets/controls",
          "model_module_version": "1.5.0",
          "model_name": "DescriptionStyleModel",
          "state": {
            "_model_module": "@jupyter-widgets/controls",
            "_model_module_version": "1.5.0",
            "_model_name": "DescriptionStyleModel",
            "_view_count": null,
            "_view_module": "@jupyter-widgets/base",
            "_view_module_version": "1.2.0",
            "_view_name": "StyleView",
            "description_width": ""
          }
        },
        "ef33d3fbf43b41f583ff0a32db4a6ee8": {
          "model_module": "@jupyter-widgets/controls",
          "model_module_version": "1.5.0",
          "model_name": "HTMLModel",
          "state": {
            "_dom_classes": [],
            "_model_module": "@jupyter-widgets/controls",
            "_model_module_version": "1.5.0",
            "_model_name": "HTMLModel",
            "_view_count": null,
            "_view_module": "@jupyter-widgets/controls",
            "_view_module_version": "1.5.0",
            "_view_name": "HTMLView",
            "description": "",
            "description_tooltip": null,
            "layout": "IPY_MODEL_0196f8d0b6784f918763a50c541dd57d",
            "placeholder": "​",
            "style": "IPY_MODEL_14e3324928b147eb886b05a83d2d03dc",
            "value": "Downloading (…)solve/main/vocab.txt: 100%"
          }
        },
        "ef5973e3a0dc4d6190bf60461129a04f": {
          "model_module": "@jupyter-widgets/controls",
          "model_module_version": "1.5.0",
          "model_name": "FloatProgressModel",
          "state": {
            "_dom_classes": [],
            "_model_module": "@jupyter-widgets/controls",
            "_model_module_version": "1.5.0",
            "_model_name": "FloatProgressModel",
            "_view_count": null,
            "_view_module": "@jupyter-widgets/controls",
            "_view_module_version": "1.5.0",
            "_view_name": "ProgressView",
            "bar_style": "success",
            "description": "",
            "description_tooltip": null,
            "layout": "IPY_MODEL_c753f174d1874970a82c95e96573e16e",
            "max": 811,
            "min": 0,
            "orientation": "horizontal",
            "style": "IPY_MODEL_2e38273042ba43188f379400bba39b78",
            "value": 811
          }
        },
        "f47a9bdb1bc84dd4b163c647582c0792": {
          "model_module": "@jupyter-widgets/base",
          "model_module_version": "1.2.0",
          "model_name": "LayoutModel",
          "state": {
            "_model_module": "@jupyter-widgets/base",
            "_model_module_version": "1.2.0",
            "_model_name": "LayoutModel",
            "_view_count": null,
            "_view_module": "@jupyter-widgets/base",
            "_view_module_version": "1.2.0",
            "_view_name": "LayoutView",
            "align_content": null,
            "align_items": null,
            "align_self": null,
            "border": null,
            "bottom": null,
            "display": null,
            "flex": null,
            "flex_flow": null,
            "grid_area": null,
            "grid_auto_columns": null,
            "grid_auto_flow": null,
            "grid_auto_rows": null,
            "grid_column": null,
            "grid_gap": null,
            "grid_row": null,
            "grid_template_areas": null,
            "grid_template_columns": null,
            "grid_template_rows": null,
            "height": null,
            "justify_content": null,
            "justify_items": null,
            "left": null,
            "margin": null,
            "max_height": null,
            "max_width": null,
            "min_height": null,
            "min_width": null,
            "object_fit": null,
            "object_position": null,
            "order": null,
            "overflow": null,
            "overflow_x": null,
            "overflow_y": null,
            "padding": null,
            "right": null,
            "top": null,
            "visibility": null,
            "width": null
          }
        },
        "f594fbbc2dfa42e383386714d39ab743": {
          "model_module": "@jupyter-widgets/controls",
          "model_module_version": "1.5.0",
          "model_name": "HTMLModel",
          "state": {
            "_dom_classes": [],
            "_model_module": "@jupyter-widgets/controls",
            "_model_module_version": "1.5.0",
            "_model_name": "HTMLModel",
            "_view_count": null,
            "_view_module": "@jupyter-widgets/controls",
            "_view_module_version": "1.5.0",
            "_view_name": "HTMLView",
            "description": "",
            "description_tooltip": null,
            "layout": "IPY_MODEL_f47a9bdb1bc84dd4b163c647582c0792",
            "placeholder": "​",
            "style": "IPY_MODEL_a702501444d74ba18c5ec1e4ba25768a",
            "value": "Downloading (…)cial_tokens_map.json: 100%"
          }
        },
        "fbf7e336238e494e8f2fa7f4722fa975": {
          "model_module": "@jupyter-widgets/controls",
          "model_module_version": "1.5.0",
          "model_name": "FloatProgressModel",
          "state": {
            "_dom_classes": [],
            "_model_module": "@jupyter-widgets/controls",
            "_model_module_version": "1.5.0",
            "_model_name": "FloatProgressModel",
            "_view_count": null,
            "_view_module": "@jupyter-widgets/controls",
            "_view_module_version": "1.5.0",
            "_view_name": "ProgressView",
            "bar_style": "success",
            "description": "",
            "description_tooltip": null,
            "layout": "IPY_MODEL_7f8958585e50420d86a14e82be29d087",
            "max": 112,
            "min": 0,
            "orientation": "horizontal",
            "style": "IPY_MODEL_b631ff09652a4e029ed225097392ebd8",
            "value": 112
          }
        }
      }
    }
  },
  "nbformat": 4,
  "nbformat_minor": 5
}