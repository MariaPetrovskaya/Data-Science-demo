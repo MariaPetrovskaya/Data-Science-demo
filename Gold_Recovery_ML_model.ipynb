{
  "cells": [
    {
      "cell_type": "markdown",
      "metadata": {
        "id": "view-in-github",
        "colab_type": "text"
      },
      "source": [
        "<a href=\"https://colab.research.google.com/github/MariaPetrovskaya/Data-Science-demo/blob/main/Gold_Recovery_ML_model.ipynb\" target=\"_parent\"><img src=\"https://colab.research.google.com/assets/colab-badge.svg\" alt=\"Open In Colab\"/></a>"
      ]
    },
    {
      "cell_type": "markdown",
      "metadata": {
        "id": "B0rn9OKa6ZHF"
      },
      "source": [
        "# Восстановление золота из руды"
      ]
    },
    {
      "cell_type": "markdown",
      "metadata": {
        "id": "dkGVP9JD6ZHG"
      },
      "source": [
        "Подготовьте прототип модели машинного обучения для «Цифры». Компания разрабатывает решения для эффективной работы промышленных предприятий.\n",
        "\n",
        "Модель должна предсказать коэффициент восстановления золота из золотосодержащей руды. Используйте данные с параметрами добычи и очистки. \n",
        "\n",
        "Модель поможет оптимизировать производство, чтобы не запускать предприятие с убыточными характеристиками.\n",
        "\n",
        "Вам нужно:\n",
        "\n",
        "1. Подготовить данные;\n",
        "2. Провести исследовательский анализ данных;\n",
        "3. Построить и обучить модель.\n",
        "\n",
        "Чтобы выполнить проект, обращайтесь к библиотекам *pandas*, *matplotlib* и *sklearn.* Вам поможет их документация."
      ]
    },
    {
      "cell_type": "markdown",
      "metadata": {
        "id": "T2J597FY6ZHG"
      },
      "source": [
        "## Подготовка данных"
      ]
    },
    {
      "cell_type": "code",
      "execution_count": null,
      "metadata": {
        "id": "a9Zk75Wl6ZHH"
      },
      "outputs": [],
      "source": [
        "import pandas as pd\n",
        "import matplotlib.pyplot as plt\n",
        "import numpy as np\n",
        "from sklearn.linear_model import LinearRegression\n",
        "import seaborn as sn\n",
        "from sklearn.model_selection import train_test_split\n",
        "from sklearn.tree import DecisionTreeRegressor\n",
        "from sklearn.ensemble import RandomForestRegressor\n",
        "\n",
        "from sklearn.model_selection import train_test_split\n",
        "from sklearn.preprocessing import StandardScaler\n",
        "from sklearn.metrics import mean_absolute_error\n",
        "from sklearn.model_selection import cross_val_score\n",
        "\n",
        "from sklearn.metrics import make_scorer\n",
        "\n",
        "from sklearn.dummy import DummyRegressor"
      ]
    },
    {
      "cell_type": "markdown",
      "metadata": {
        "id": "hwoB1_x46ZHK"
      },
      "source": [
        "Загрузка всех библиотек"
      ]
    },
    {
      "cell_type": "code",
      "execution_count": null,
      "metadata": {
        "id": "KkRzvYUT6ZHK",
        "outputId": "0fd12b4d-c87f-426a-87bb-c83d8de7adbc"
      },
      "outputs": [
        {
          "name": "stdout",
          "output_type": "stream",
          "text": [
            "обучающая выборка\n",
            "(14149, 87)\n",
            "<class 'pandas.core.frame.DataFrame'>\n",
            "RangeIndex: 14149 entries, 0 to 14148\n",
            "Data columns (total 87 columns):\n",
            " #   Column                                              Non-Null Count  Dtype  \n",
            "---  ------                                              --------------  -----  \n",
            " 0   date                                                14149 non-null  object \n",
            " 1   final.output.concentrate_ag                         14148 non-null  float64\n",
            " 2   final.output.concentrate_pb                         14148 non-null  float64\n",
            " 3   final.output.concentrate_sol                        13938 non-null  float64\n",
            " 4   final.output.concentrate_au                         14149 non-null  float64\n",
            " 5   final.output.recovery                               14149 non-null  float64\n",
            " 6   final.output.tail_ag                                14149 non-null  float64\n",
            " 7   final.output.tail_pb                                14049 non-null  float64\n",
            " 8   final.output.tail_sol                               14144 non-null  float64\n",
            " 9   final.output.tail_au                                14149 non-null  float64\n",
            " 10  primary_cleaner.input.sulfate                       14129 non-null  float64\n",
            " 11  primary_cleaner.input.depressant                    14117 non-null  float64\n",
            " 12  primary_cleaner.input.feed_size                     14149 non-null  float64\n",
            " 13  primary_cleaner.input.xanthate                      14049 non-null  float64\n",
            " 14  primary_cleaner.output.concentrate_ag               14149 non-null  float64\n",
            " 15  primary_cleaner.output.concentrate_pb               14063 non-null  float64\n",
            " 16  primary_cleaner.output.concentrate_sol              13863 non-null  float64\n",
            " 17  primary_cleaner.output.concentrate_au               14149 non-null  float64\n",
            " 18  primary_cleaner.output.tail_ag                      14148 non-null  float64\n",
            " 19  primary_cleaner.output.tail_pb                      14134 non-null  float64\n",
            " 20  primary_cleaner.output.tail_sol                     14103 non-null  float64\n",
            " 21  primary_cleaner.output.tail_au                      14149 non-null  float64\n",
            " 22  primary_cleaner.state.floatbank8_a_air              14145 non-null  float64\n",
            " 23  primary_cleaner.state.floatbank8_a_level            14148 non-null  float64\n",
            " 24  primary_cleaner.state.floatbank8_b_air              14145 non-null  float64\n",
            " 25  primary_cleaner.state.floatbank8_b_level            14148 non-null  float64\n",
            " 26  primary_cleaner.state.floatbank8_c_air              14147 non-null  float64\n",
            " 27  primary_cleaner.state.floatbank8_c_level            14148 non-null  float64\n",
            " 28  primary_cleaner.state.floatbank8_d_air              14146 non-null  float64\n",
            " 29  primary_cleaner.state.floatbank8_d_level            14148 non-null  float64\n",
            " 30  rougher.calculation.sulfate_to_au_concentrate       14148 non-null  float64\n",
            " 31  rougher.calculation.floatbank10_sulfate_to_au_feed  14148 non-null  float64\n",
            " 32  rougher.calculation.floatbank11_sulfate_to_au_feed  14148 non-null  float64\n",
            " 33  rougher.calculation.au_pb_ratio                     14149 non-null  float64\n",
            " 34  rougher.input.feed_ag                               14149 non-null  float64\n",
            " 35  rougher.input.feed_pb                               14049 non-null  float64\n",
            " 36  rougher.input.feed_rate                             14141 non-null  float64\n",
            " 37  rougher.input.feed_size                             14005 non-null  float64\n",
            " 38  rougher.input.feed_sol                              14071 non-null  float64\n",
            " 39  rougher.input.feed_au                               14149 non-null  float64\n",
            " 40  rougher.input.floatbank10_sulfate                   14120 non-null  float64\n",
            " 41  rougher.input.floatbank10_xanthate                  14141 non-null  float64\n",
            " 42  rougher.input.floatbank11_sulfate                   14113 non-null  float64\n",
            " 43  rougher.input.floatbank11_xanthate                  13721 non-null  float64\n",
            " 44  rougher.output.concentrate_ag                       14149 non-null  float64\n",
            " 45  rougher.output.concentrate_pb                       14149 non-null  float64\n",
            " 46  rougher.output.concentrate_sol                      14127 non-null  float64\n",
            " 47  rougher.output.concentrate_au                       14149 non-null  float64\n",
            " 48  rougher.output.recovery                             14149 non-null  float64\n",
            " 49  rougher.output.tail_ag                              14148 non-null  float64\n",
            " 50  rougher.output.tail_pb                              14149 non-null  float64\n",
            " 51  rougher.output.tail_sol                             14149 non-null  float64\n",
            " 52  rougher.output.tail_au                              14149 non-null  float64\n",
            " 53  rougher.state.floatbank10_a_air                     14148 non-null  float64\n",
            " 54  rougher.state.floatbank10_a_level                   14148 non-null  float64\n",
            " 55  rougher.state.floatbank10_b_air                     14148 non-null  float64\n",
            " 56  rougher.state.floatbank10_b_level                   14148 non-null  float64\n",
            " 57  rougher.state.floatbank10_c_air                     14148 non-null  float64\n",
            " 58  rougher.state.floatbank10_c_level                   14148 non-null  float64\n",
            " 59  rougher.state.floatbank10_d_air                     14149 non-null  float64\n",
            " 60  rougher.state.floatbank10_d_level                   14149 non-null  float64\n",
            " 61  rougher.state.floatbank10_e_air                     13713 non-null  float64\n",
            " 62  rougher.state.floatbank10_e_level                   14149 non-null  float64\n",
            " 63  rougher.state.floatbank10_f_air                     14149 non-null  float64\n",
            " 64  rougher.state.floatbank10_f_level                   14149 non-null  float64\n",
            " 65  secondary_cleaner.output.tail_ag                    14147 non-null  float64\n",
            " 66  secondary_cleaner.output.tail_pb                    14139 non-null  float64\n",
            " 67  secondary_cleaner.output.tail_sol                   12544 non-null  float64\n",
            " 68  secondary_cleaner.output.tail_au                    14149 non-null  float64\n",
            " 69  secondary_cleaner.state.floatbank2_a_air            13932 non-null  float64\n",
            " 70  secondary_cleaner.state.floatbank2_a_level          14148 non-null  float64\n",
            " 71  secondary_cleaner.state.floatbank2_b_air            14128 non-null  float64\n",
            " 72  secondary_cleaner.state.floatbank2_b_level          14148 non-null  float64\n",
            " 73  secondary_cleaner.state.floatbank3_a_air            14145 non-null  float64\n",
            " 74  secondary_cleaner.state.floatbank3_a_level          14148 non-null  float64\n",
            " 75  secondary_cleaner.state.floatbank3_b_air            14148 non-null  float64\n",
            " 76  secondary_cleaner.state.floatbank3_b_level          14148 non-null  float64\n",
            " 77  secondary_cleaner.state.floatbank4_a_air            14143 non-null  float64\n",
            " 78  secondary_cleaner.state.floatbank4_a_level          14148 non-null  float64\n",
            " 79  secondary_cleaner.state.floatbank4_b_air            14148 non-null  float64\n",
            " 80  secondary_cleaner.state.floatbank4_b_level          14148 non-null  float64\n",
            " 81  secondary_cleaner.state.floatbank5_a_air            14148 non-null  float64\n",
            " 82  secondary_cleaner.state.floatbank5_a_level          14148 non-null  float64\n",
            " 83  secondary_cleaner.state.floatbank5_b_air            14148 non-null  float64\n",
            " 84  secondary_cleaner.state.floatbank5_b_level          14148 non-null  float64\n",
            " 85  secondary_cleaner.state.floatbank6_a_air            14147 non-null  float64\n",
            " 86  secondary_cleaner.state.floatbank6_a_level          14148 non-null  float64\n",
            "dtypes: float64(86), object(1)\n",
            "memory usage: 9.4+ MB\n",
            "None\n",
            "\n",
            "\n",
            "тестовая выборка\n",
            "(5290, 53)\n",
            "<class 'pandas.core.frame.DataFrame'>\n",
            "RangeIndex: 5290 entries, 0 to 5289\n",
            "Data columns (total 53 columns):\n",
            " #   Column                                      Non-Null Count  Dtype  \n",
            "---  ------                                      --------------  -----  \n",
            " 0   date                                        5290 non-null   object \n",
            " 1   primary_cleaner.input.sulfate               5286 non-null   float64\n",
            " 2   primary_cleaner.input.depressant            5285 non-null   float64\n",
            " 3   primary_cleaner.input.feed_size             5290 non-null   float64\n",
            " 4   primary_cleaner.input.xanthate              5286 non-null   float64\n",
            " 5   primary_cleaner.state.floatbank8_a_air      5290 non-null   float64\n",
            " 6   primary_cleaner.state.floatbank8_a_level    5290 non-null   float64\n",
            " 7   primary_cleaner.state.floatbank8_b_air      5290 non-null   float64\n",
            " 8   primary_cleaner.state.floatbank8_b_level    5290 non-null   float64\n",
            " 9   primary_cleaner.state.floatbank8_c_air      5290 non-null   float64\n",
            " 10  primary_cleaner.state.floatbank8_c_level    5290 non-null   float64\n",
            " 11  primary_cleaner.state.floatbank8_d_air      5290 non-null   float64\n",
            " 12  primary_cleaner.state.floatbank8_d_level    5290 non-null   float64\n",
            " 13  rougher.input.feed_ag                       5290 non-null   float64\n",
            " 14  rougher.input.feed_pb                       5290 non-null   float64\n",
            " 15  rougher.input.feed_rate                     5287 non-null   float64\n",
            " 16  rougher.input.feed_size                     5289 non-null   float64\n",
            " 17  rougher.input.feed_sol                      5269 non-null   float64\n",
            " 18  rougher.input.feed_au                       5290 non-null   float64\n",
            " 19  rougher.input.floatbank10_sulfate           5285 non-null   float64\n",
            " 20  rougher.input.floatbank10_xanthate          5290 non-null   float64\n",
            " 21  rougher.input.floatbank11_sulfate           5282 non-null   float64\n",
            " 22  rougher.input.floatbank11_xanthate          5265 non-null   float64\n",
            " 23  rougher.state.floatbank10_a_air             5290 non-null   float64\n",
            " 24  rougher.state.floatbank10_a_level           5290 non-null   float64\n",
            " 25  rougher.state.floatbank10_b_air             5290 non-null   float64\n",
            " 26  rougher.state.floatbank10_b_level           5290 non-null   float64\n",
            " 27  rougher.state.floatbank10_c_air             5290 non-null   float64\n",
            " 28  rougher.state.floatbank10_c_level           5290 non-null   float64\n",
            " 29  rougher.state.floatbank10_d_air             5290 non-null   float64\n",
            " 30  rougher.state.floatbank10_d_level           5290 non-null   float64\n",
            " 31  rougher.state.floatbank10_e_air             5290 non-null   float64\n",
            " 32  rougher.state.floatbank10_e_level           5290 non-null   float64\n",
            " 33  rougher.state.floatbank10_f_air             5290 non-null   float64\n",
            " 34  rougher.state.floatbank10_f_level           5290 non-null   float64\n",
            " 35  secondary_cleaner.state.floatbank2_a_air    5287 non-null   float64\n",
            " 36  secondary_cleaner.state.floatbank2_a_level  5290 non-null   float64\n",
            " 37  secondary_cleaner.state.floatbank2_b_air    5288 non-null   float64\n",
            " 38  secondary_cleaner.state.floatbank2_b_level  5290 non-null   float64\n",
            " 39  secondary_cleaner.state.floatbank3_a_air    5281 non-null   float64\n",
            " 40  secondary_cleaner.state.floatbank3_a_level  5290 non-null   float64\n",
            " 41  secondary_cleaner.state.floatbank3_b_air    5290 non-null   float64\n",
            " 42  secondary_cleaner.state.floatbank3_b_level  5290 non-null   float64\n",
            " 43  secondary_cleaner.state.floatbank4_a_air    5290 non-null   float64\n",
            " 44  secondary_cleaner.state.floatbank4_a_level  5290 non-null   float64\n",
            " 45  secondary_cleaner.state.floatbank4_b_air    5290 non-null   float64\n",
            " 46  secondary_cleaner.state.floatbank4_b_level  5290 non-null   float64\n",
            " 47  secondary_cleaner.state.floatbank5_a_air    5290 non-null   float64\n",
            " 48  secondary_cleaner.state.floatbank5_a_level  5290 non-null   float64\n",
            " 49  secondary_cleaner.state.floatbank5_b_air    5290 non-null   float64\n",
            " 50  secondary_cleaner.state.floatbank5_b_level  5290 non-null   float64\n",
            " 51  secondary_cleaner.state.floatbank6_a_air    5290 non-null   float64\n",
            " 52  secondary_cleaner.state.floatbank6_a_level  5290 non-null   float64\n",
            "dtypes: float64(52), object(1)\n",
            "memory usage: 2.1+ MB\n",
            "None\n",
            "\n",
            "\n",
            "исходные данные\n",
            "(19439, 87)\n",
            "<class 'pandas.core.frame.DataFrame'>\n",
            "RangeIndex: 19439 entries, 0 to 19438\n",
            "Data columns (total 87 columns):\n",
            " #   Column                                              Non-Null Count  Dtype  \n",
            "---  ------                                              --------------  -----  \n",
            " 0   date                                                19439 non-null  object \n",
            " 1   final.output.concentrate_ag                         19438 non-null  float64\n",
            " 2   final.output.concentrate_pb                         19438 non-null  float64\n",
            " 3   final.output.concentrate_sol                        19228 non-null  float64\n",
            " 4   final.output.concentrate_au                         19439 non-null  float64\n",
            " 5   final.output.recovery                               19439 non-null  float64\n",
            " 6   final.output.tail_ag                                19438 non-null  float64\n",
            " 7   final.output.tail_pb                                19338 non-null  float64\n",
            " 8   final.output.tail_sol                               19433 non-null  float64\n",
            " 9   final.output.tail_au                                19439 non-null  float64\n",
            " 10  primary_cleaner.input.sulfate                       19415 non-null  float64\n",
            " 11  primary_cleaner.input.depressant                    19402 non-null  float64\n",
            " 12  primary_cleaner.input.feed_size                     19439 non-null  float64\n",
            " 13  primary_cleaner.input.xanthate                      19335 non-null  float64\n",
            " 14  primary_cleaner.output.concentrate_ag               19439 non-null  float64\n",
            " 15  primary_cleaner.output.concentrate_pb               19323 non-null  float64\n",
            " 16  primary_cleaner.output.concentrate_sol              19069 non-null  float64\n",
            " 17  primary_cleaner.output.concentrate_au               19439 non-null  float64\n",
            " 18  primary_cleaner.output.tail_ag                      19435 non-null  float64\n",
            " 19  primary_cleaner.output.tail_pb                      19418 non-null  float64\n",
            " 20  primary_cleaner.output.tail_sol                     19377 non-null  float64\n",
            " 21  primary_cleaner.output.tail_au                      19439 non-null  float64\n",
            " 22  primary_cleaner.state.floatbank8_a_air              19435 non-null  float64\n",
            " 23  primary_cleaner.state.floatbank8_a_level            19438 non-null  float64\n",
            " 24  primary_cleaner.state.floatbank8_b_air              19435 non-null  float64\n",
            " 25  primary_cleaner.state.floatbank8_b_level            19438 non-null  float64\n",
            " 26  primary_cleaner.state.floatbank8_c_air              19437 non-null  float64\n",
            " 27  primary_cleaner.state.floatbank8_c_level            19438 non-null  float64\n",
            " 28  primary_cleaner.state.floatbank8_d_air              19436 non-null  float64\n",
            " 29  primary_cleaner.state.floatbank8_d_level            19438 non-null  float64\n",
            " 30  rougher.calculation.sulfate_to_au_concentrate       19437 non-null  float64\n",
            " 31  rougher.calculation.floatbank10_sulfate_to_au_feed  19437 non-null  float64\n",
            " 32  rougher.calculation.floatbank11_sulfate_to_au_feed  19437 non-null  float64\n",
            " 33  rougher.calculation.au_pb_ratio                     19439 non-null  float64\n",
            " 34  rougher.input.feed_ag                               19439 non-null  float64\n",
            " 35  rougher.input.feed_pb                               19339 non-null  float64\n",
            " 36  rougher.input.feed_rate                             19428 non-null  float64\n",
            " 37  rougher.input.feed_size                             19294 non-null  float64\n",
            " 38  rougher.input.feed_sol                              19340 non-null  float64\n",
            " 39  rougher.input.feed_au                               19439 non-null  float64\n",
            " 40  rougher.input.floatbank10_sulfate                   19405 non-null  float64\n",
            " 41  rougher.input.floatbank10_xanthate                  19431 non-null  float64\n",
            " 42  rougher.input.floatbank11_sulfate                   19395 non-null  float64\n",
            " 43  rougher.input.floatbank11_xanthate                  18986 non-null  float64\n",
            " 44  rougher.output.concentrate_ag                       19439 non-null  float64\n",
            " 45  rougher.output.concentrate_pb                       19439 non-null  float64\n",
            " 46  rougher.output.concentrate_sol                      19416 non-null  float64\n",
            " 47  rougher.output.concentrate_au                       19439 non-null  float64\n",
            " 48  rougher.output.recovery                             19439 non-null  float64\n",
            " 49  rougher.output.tail_ag                              19438 non-null  float64\n",
            " 50  rougher.output.tail_pb                              19439 non-null  float64\n",
            " 51  rougher.output.tail_sol                             19439 non-null  float64\n",
            " 52  rougher.output.tail_au                              19439 non-null  float64\n",
            " 53  rougher.state.floatbank10_a_air                     19438 non-null  float64\n",
            " 54  rougher.state.floatbank10_a_level                   19438 non-null  float64\n",
            " 55  rougher.state.floatbank10_b_air                     19438 non-null  float64\n",
            " 56  rougher.state.floatbank10_b_level                   19438 non-null  float64\n",
            " 57  rougher.state.floatbank10_c_air                     19438 non-null  float64\n",
            " 58  rougher.state.floatbank10_c_level                   19438 non-null  float64\n",
            " 59  rougher.state.floatbank10_d_air                     19439 non-null  float64\n",
            " 60  rougher.state.floatbank10_d_level                   19439 non-null  float64\n",
            " 61  rougher.state.floatbank10_e_air                     19003 non-null  float64\n",
            " 62  rougher.state.floatbank10_e_level                   19439 non-null  float64\n",
            " 63  rougher.state.floatbank10_f_air                     19439 non-null  float64\n",
            " 64  rougher.state.floatbank10_f_level                   19439 non-null  float64\n",
            " 65  secondary_cleaner.output.tail_ag                    19437 non-null  float64\n",
            " 66  secondary_cleaner.output.tail_pb                    19427 non-null  float64\n",
            " 67  secondary_cleaner.output.tail_sol                   17691 non-null  float64\n",
            " 68  secondary_cleaner.output.tail_au                    19439 non-null  float64\n",
            " 69  secondary_cleaner.state.floatbank2_a_air            19219 non-null  float64\n",
            " 70  secondary_cleaner.state.floatbank2_a_level          19438 non-null  float64\n",
            " 71  secondary_cleaner.state.floatbank2_b_air            19416 non-null  float64\n",
            " 72  secondary_cleaner.state.floatbank2_b_level          19438 non-null  float64\n",
            " 73  secondary_cleaner.state.floatbank3_a_air            19426 non-null  float64\n",
            " 74  secondary_cleaner.state.floatbank3_a_level          19438 non-null  float64\n",
            " 75  secondary_cleaner.state.floatbank3_b_air            19438 non-null  float64\n",
            " 76  secondary_cleaner.state.floatbank3_b_level          19438 non-null  float64\n",
            " 77  secondary_cleaner.state.floatbank4_a_air            19433 non-null  float64\n",
            " 78  secondary_cleaner.state.floatbank4_a_level          19438 non-null  float64\n",
            " 79  secondary_cleaner.state.floatbank4_b_air            19438 non-null  float64\n",
            " 80  secondary_cleaner.state.floatbank4_b_level          19438 non-null  float64\n",
            " 81  secondary_cleaner.state.floatbank5_a_air            19438 non-null  float64\n",
            " 82  secondary_cleaner.state.floatbank5_a_level          19438 non-null  float64\n",
            " 83  secondary_cleaner.state.floatbank5_b_air            19438 non-null  float64\n",
            " 84  secondary_cleaner.state.floatbank5_b_level          19438 non-null  float64\n",
            " 85  secondary_cleaner.state.floatbank6_a_air            19437 non-null  float64\n",
            " 86  secondary_cleaner.state.floatbank6_a_level          19438 non-null  float64\n",
            "dtypes: float64(86), object(1)\n",
            "memory usage: 12.9+ MB\n",
            "None\n"
          ]
        }
      ],
      "source": [
        "df_train = pd.read_csv('/datasets/gold_recovery_train_new.csv')\n",
        "data_train = df_train.copy()\n",
        "#\n",
        "print('обучающая выборка')\n",
        "print (data_train.shape)\n",
        "print (data_train.info())\n",
        "#\n",
        "print()\n",
        "print()\n",
        "df_test = pd.read_csv('/datasets/gold_recovery_test_new.csv')\n",
        "data_test = df_test.copy()\n",
        "#display (data_test.head(5))\n",
        "print('тестовая выборка')\n",
        "print (data_test.shape)\n",
        "print (data_test.info())\n",
        "#\n",
        "print()\n",
        "print()\n",
        "df_full = pd.read_csv('/datasets/gold_recovery_full_new.csv')\n",
        "data_full = df_full.copy()\n",
        "#\n",
        "print('исходные данные')\n",
        "print (data_full.shape)\n",
        "print (data_full.info())\n",
        "#"
      ]
    },
    {
      "cell_type": "markdown",
      "metadata": {
        "id": "CPrckVM06ZHL"
      },
      "source": [
        "поиск явных дубликатов "
      ]
    },
    {
      "cell_type": "code",
      "execution_count": null,
      "metadata": {
        "scrolled": true,
        "id": "HMunhb0S6ZHL",
        "outputId": "0a4612d9-d811-4729-eee7-0aedf18e9e1c"
      },
      "outputs": [
        {
          "name": "stdout",
          "output_type": "stream",
          "text": [
            "data_train 0\n",
            "data_test 0\n",
            "data_full 0\n"
          ]
        }
      ],
      "source": [
        "print ('data_train', data_train.duplicated().sum())\n",
        "print ('data_test', data_test.duplicated().sum())\n",
        "print ('data_full', data_full.duplicated().sum())"
      ]
    },
    {
      "cell_type": "markdown",
      "metadata": {
        "id": "FiFvqI-h6ZHM"
      },
      "source": [
        "дубликатов нет"
      ]
    },
    {
      "cell_type": "code",
      "execution_count": null,
      "metadata": {
        "id": "QQo3AwDW6ZHM",
        "outputId": "76eeea03-964c-4edf-c67e-518c37ab60fe"
      },
      "outputs": [
        {
          "data": {
            "text/html": [
              "<div>\n",
              "<style scoped>\n",
              "    .dataframe tbody tr th:only-of-type {\n",
              "        vertical-align: middle;\n",
              "    }\n",
              "\n",
              "    .dataframe tbody tr th {\n",
              "        vertical-align: top;\n",
              "    }\n",
              "\n",
              "    .dataframe thead th {\n",
              "        text-align: right;\n",
              "    }\n",
              "</style>\n",
              "<table border=\"1\" class=\"dataframe\">\n",
              "  <thead>\n",
              "    <tr style=\"text-align: right;\">\n",
              "      <th></th>\n",
              "      <th>date</th>\n",
              "      <th>final.output.concentrate_ag</th>\n",
              "      <th>final.output.concentrate_pb</th>\n",
              "      <th>final.output.concentrate_sol</th>\n",
              "      <th>final.output.concentrate_au</th>\n",
              "      <th>final.output.recovery</th>\n",
              "      <th>final.output.tail_ag</th>\n",
              "      <th>final.output.tail_pb</th>\n",
              "      <th>final.output.tail_sol</th>\n",
              "      <th>final.output.tail_au</th>\n",
              "      <th>...</th>\n",
              "      <th>secondary_cleaner.state.floatbank4_a_air</th>\n",
              "      <th>secondary_cleaner.state.floatbank4_a_level</th>\n",
              "      <th>secondary_cleaner.state.floatbank4_b_air</th>\n",
              "      <th>secondary_cleaner.state.floatbank4_b_level</th>\n",
              "      <th>secondary_cleaner.state.floatbank5_a_air</th>\n",
              "      <th>secondary_cleaner.state.floatbank5_a_level</th>\n",
              "      <th>secondary_cleaner.state.floatbank5_b_air</th>\n",
              "      <th>secondary_cleaner.state.floatbank5_b_level</th>\n",
              "      <th>secondary_cleaner.state.floatbank6_a_air</th>\n",
              "      <th>secondary_cleaner.state.floatbank6_a_level</th>\n",
              "    </tr>\n",
              "  </thead>\n",
              "  <tbody>\n",
              "    <tr>\n",
              "      <th>0</th>\n",
              "      <td>2016-01-15 00:00:00</td>\n",
              "      <td>6.055403</td>\n",
              "      <td>9.889648</td>\n",
              "      <td>5.507324</td>\n",
              "      <td>42.192020</td>\n",
              "      <td>70.541216</td>\n",
              "      <td>10.411962</td>\n",
              "      <td>0.895447</td>\n",
              "      <td>16.904297</td>\n",
              "      <td>2.143149</td>\n",
              "      <td>...</td>\n",
              "      <td>14.016835</td>\n",
              "      <td>-502.488007</td>\n",
              "      <td>12.099931</td>\n",
              "      <td>-504.715942</td>\n",
              "      <td>9.925633</td>\n",
              "      <td>-498.310211</td>\n",
              "      <td>8.079666</td>\n",
              "      <td>-500.470978</td>\n",
              "      <td>14.151341</td>\n",
              "      <td>-605.841980</td>\n",
              "    </tr>\n",
              "    <tr>\n",
              "      <th>1</th>\n",
              "      <td>2016-01-15 01:00:00</td>\n",
              "      <td>6.029369</td>\n",
              "      <td>9.968944</td>\n",
              "      <td>5.257781</td>\n",
              "      <td>42.701629</td>\n",
              "      <td>69.266198</td>\n",
              "      <td>10.462676</td>\n",
              "      <td>0.927452</td>\n",
              "      <td>16.634514</td>\n",
              "      <td>2.224930</td>\n",
              "      <td>...</td>\n",
              "      <td>13.992281</td>\n",
              "      <td>-505.503262</td>\n",
              "      <td>11.950531</td>\n",
              "      <td>-501.331529</td>\n",
              "      <td>10.039245</td>\n",
              "      <td>-500.169983</td>\n",
              "      <td>7.984757</td>\n",
              "      <td>-500.582168</td>\n",
              "      <td>13.998353</td>\n",
              "      <td>-599.787184</td>\n",
              "    </tr>\n",
              "    <tr>\n",
              "      <th>2</th>\n",
              "      <td>2016-01-15 02:00:00</td>\n",
              "      <td>6.055926</td>\n",
              "      <td>10.213995</td>\n",
              "      <td>5.383759</td>\n",
              "      <td>42.657501</td>\n",
              "      <td>68.116445</td>\n",
              "      <td>10.507046</td>\n",
              "      <td>0.953716</td>\n",
              "      <td>16.208849</td>\n",
              "      <td>2.257889</td>\n",
              "      <td>...</td>\n",
              "      <td>14.015015</td>\n",
              "      <td>-502.520901</td>\n",
              "      <td>11.912783</td>\n",
              "      <td>-501.133383</td>\n",
              "      <td>10.070913</td>\n",
              "      <td>-500.129135</td>\n",
              "      <td>8.013877</td>\n",
              "      <td>-500.517572</td>\n",
              "      <td>14.028663</td>\n",
              "      <td>-601.427363</td>\n",
              "    </tr>\n",
              "    <tr>\n",
              "      <th>3</th>\n",
              "      <td>2016-01-15 03:00:00</td>\n",
              "      <td>6.047977</td>\n",
              "      <td>9.977019</td>\n",
              "      <td>4.858634</td>\n",
              "      <td>42.689819</td>\n",
              "      <td>68.347543</td>\n",
              "      <td>10.422762</td>\n",
              "      <td>0.883763</td>\n",
              "      <td>16.532835</td>\n",
              "      <td>2.146849</td>\n",
              "      <td>...</td>\n",
              "      <td>14.036510</td>\n",
              "      <td>-500.857308</td>\n",
              "      <td>11.999550</td>\n",
              "      <td>-501.193686</td>\n",
              "      <td>9.970366</td>\n",
              "      <td>-499.201640</td>\n",
              "      <td>7.977324</td>\n",
              "      <td>-500.255908</td>\n",
              "      <td>14.005551</td>\n",
              "      <td>-599.996129</td>\n",
              "    </tr>\n",
              "    <tr>\n",
              "      <th>4</th>\n",
              "      <td>2016-01-15 04:00:00</td>\n",
              "      <td>6.148599</td>\n",
              "      <td>10.142511</td>\n",
              "      <td>4.939416</td>\n",
              "      <td>42.774141</td>\n",
              "      <td>66.927016</td>\n",
              "      <td>10.360302</td>\n",
              "      <td>0.792826</td>\n",
              "      <td>16.525686</td>\n",
              "      <td>2.055292</td>\n",
              "      <td>...</td>\n",
              "      <td>14.027298</td>\n",
              "      <td>-499.838632</td>\n",
              "      <td>11.953070</td>\n",
              "      <td>-501.053894</td>\n",
              "      <td>9.925709</td>\n",
              "      <td>-501.686727</td>\n",
              "      <td>7.894242</td>\n",
              "      <td>-500.356035</td>\n",
              "      <td>13.996647</td>\n",
              "      <td>-601.496691</td>\n",
              "    </tr>\n",
              "  </tbody>\n",
              "</table>\n",
              "<p>5 rows × 87 columns</p>\n",
              "</div>"
            ],
            "text/plain": [
              "                  date  final.output.concentrate_ag  \\\n",
              "0  2016-01-15 00:00:00                     6.055403   \n",
              "1  2016-01-15 01:00:00                     6.029369   \n",
              "2  2016-01-15 02:00:00                     6.055926   \n",
              "3  2016-01-15 03:00:00                     6.047977   \n",
              "4  2016-01-15 04:00:00                     6.148599   \n",
              "\n",
              "   final.output.concentrate_pb  final.output.concentrate_sol  \\\n",
              "0                     9.889648                      5.507324   \n",
              "1                     9.968944                      5.257781   \n",
              "2                    10.213995                      5.383759   \n",
              "3                     9.977019                      4.858634   \n",
              "4                    10.142511                      4.939416   \n",
              "\n",
              "   final.output.concentrate_au  final.output.recovery  final.output.tail_ag  \\\n",
              "0                    42.192020              70.541216             10.411962   \n",
              "1                    42.701629              69.266198             10.462676   \n",
              "2                    42.657501              68.116445             10.507046   \n",
              "3                    42.689819              68.347543             10.422762   \n",
              "4                    42.774141              66.927016             10.360302   \n",
              "\n",
              "   final.output.tail_pb  final.output.tail_sol  final.output.tail_au  ...  \\\n",
              "0              0.895447              16.904297              2.143149  ...   \n",
              "1              0.927452              16.634514              2.224930  ...   \n",
              "2              0.953716              16.208849              2.257889  ...   \n",
              "3              0.883763              16.532835              2.146849  ...   \n",
              "4              0.792826              16.525686              2.055292  ...   \n",
              "\n",
              "   secondary_cleaner.state.floatbank4_a_air  \\\n",
              "0                                 14.016835   \n",
              "1                                 13.992281   \n",
              "2                                 14.015015   \n",
              "3                                 14.036510   \n",
              "4                                 14.027298   \n",
              "\n",
              "   secondary_cleaner.state.floatbank4_a_level  \\\n",
              "0                                 -502.488007   \n",
              "1                                 -505.503262   \n",
              "2                                 -502.520901   \n",
              "3                                 -500.857308   \n",
              "4                                 -499.838632   \n",
              "\n",
              "   secondary_cleaner.state.floatbank4_b_air  \\\n",
              "0                                 12.099931   \n",
              "1                                 11.950531   \n",
              "2                                 11.912783   \n",
              "3                                 11.999550   \n",
              "4                                 11.953070   \n",
              "\n",
              "   secondary_cleaner.state.floatbank4_b_level  \\\n",
              "0                                 -504.715942   \n",
              "1                                 -501.331529   \n",
              "2                                 -501.133383   \n",
              "3                                 -501.193686   \n",
              "4                                 -501.053894   \n",
              "\n",
              "   secondary_cleaner.state.floatbank5_a_air  \\\n",
              "0                                  9.925633   \n",
              "1                                 10.039245   \n",
              "2                                 10.070913   \n",
              "3                                  9.970366   \n",
              "4                                  9.925709   \n",
              "\n",
              "   secondary_cleaner.state.floatbank5_a_level  \\\n",
              "0                                 -498.310211   \n",
              "1                                 -500.169983   \n",
              "2                                 -500.129135   \n",
              "3                                 -499.201640   \n",
              "4                                 -501.686727   \n",
              "\n",
              "   secondary_cleaner.state.floatbank5_b_air  \\\n",
              "0                                  8.079666   \n",
              "1                                  7.984757   \n",
              "2                                  8.013877   \n",
              "3                                  7.977324   \n",
              "4                                  7.894242   \n",
              "\n",
              "   secondary_cleaner.state.floatbank5_b_level  \\\n",
              "0                                 -500.470978   \n",
              "1                                 -500.582168   \n",
              "2                                 -500.517572   \n",
              "3                                 -500.255908   \n",
              "4                                 -500.356035   \n",
              "\n",
              "   secondary_cleaner.state.floatbank6_a_air  \\\n",
              "0                                 14.151341   \n",
              "1                                 13.998353   \n",
              "2                                 14.028663   \n",
              "3                                 14.005551   \n",
              "4                                 13.996647   \n",
              "\n",
              "   secondary_cleaner.state.floatbank6_a_level  \n",
              "0                                 -605.841980  \n",
              "1                                 -599.787184  \n",
              "2                                 -601.427363  \n",
              "3                                 -599.996129  \n",
              "4                                 -601.496691  \n",
              "\n",
              "[5 rows x 87 columns]"
            ]
          },
          "metadata": {},
          "output_type": "display_data"
        }
      ],
      "source": [
        "display (data_train.head(5))"
      ]
    },
    {
      "cell_type": "markdown",
      "metadata": {
        "id": "e2_YMI536ZHM"
      },
      "source": [
        "Вижу  проблему большого количества строк с пропусками. "
      ]
    },
    {
      "cell_type": "code",
      "execution_count": null,
      "metadata": {
        "id": "rVwcbKA16ZHM"
      },
      "outputs": [],
      "source": [
        "def miss_cell(data_frame):\n",
        "    print('проверка наличия пропусков в данных')\n",
        "    print(data_frame.isna().mean())    "
      ]
    },
    {
      "cell_type": "code",
      "execution_count": null,
      "metadata": {
        "id": "h9ZHLqNL6ZHM",
        "outputId": "343a9fa7-56c1-46f0-8216-81ad0464084d"
      },
      "outputs": [
        {
          "name": "stdout",
          "output_type": "stream",
          "text": [
            "проверка наличия пропусков в данных\n",
            "date                                          0.000000\n",
            "final.output.concentrate_ag                   0.000071\n",
            "final.output.concentrate_pb                   0.000071\n",
            "final.output.concentrate_sol                  0.014913\n",
            "final.output.concentrate_au                   0.000000\n",
            "                                                ...   \n",
            "secondary_cleaner.state.floatbank5_a_level    0.000071\n",
            "secondary_cleaner.state.floatbank5_b_air      0.000071\n",
            "secondary_cleaner.state.floatbank5_b_level    0.000071\n",
            "secondary_cleaner.state.floatbank6_a_air      0.000141\n",
            "secondary_cleaner.state.floatbank6_a_level    0.000071\n",
            "Length: 87, dtype: float64\n"
          ]
        }
      ],
      "source": [
        "miss_cell(data_train)"
      ]
    },
    {
      "cell_type": "code",
      "execution_count": null,
      "metadata": {
        "id": "YgCIhUTM6ZHN",
        "outputId": "54890571-0477-41d8-f1da-b3b0ddbb4356"
      },
      "outputs": [
        {
          "name": "stdout",
          "output_type": "stream",
          "text": [
            "проверка наличия пропусков в данных\n",
            "date                                          0.000000\n",
            "primary_cleaner.input.sulfate                 0.000756\n",
            "primary_cleaner.input.depressant              0.000945\n",
            "primary_cleaner.input.feed_size               0.000000\n",
            "primary_cleaner.input.xanthate                0.000756\n",
            "primary_cleaner.state.floatbank8_a_air        0.000000\n",
            "primary_cleaner.state.floatbank8_a_level      0.000000\n",
            "primary_cleaner.state.floatbank8_b_air        0.000000\n",
            "primary_cleaner.state.floatbank8_b_level      0.000000\n",
            "primary_cleaner.state.floatbank8_c_air        0.000000\n",
            "primary_cleaner.state.floatbank8_c_level      0.000000\n",
            "primary_cleaner.state.floatbank8_d_air        0.000000\n",
            "primary_cleaner.state.floatbank8_d_level      0.000000\n",
            "rougher.input.feed_ag                         0.000000\n",
            "rougher.input.feed_pb                         0.000000\n",
            "rougher.input.feed_rate                       0.000567\n",
            "rougher.input.feed_size                       0.000189\n",
            "rougher.input.feed_sol                        0.003970\n",
            "rougher.input.feed_au                         0.000000\n",
            "rougher.input.floatbank10_sulfate             0.000945\n",
            "rougher.input.floatbank10_xanthate            0.000000\n",
            "rougher.input.floatbank11_sulfate             0.001512\n",
            "rougher.input.floatbank11_xanthate            0.004726\n",
            "rougher.state.floatbank10_a_air               0.000000\n",
            "rougher.state.floatbank10_a_level             0.000000\n",
            "rougher.state.floatbank10_b_air               0.000000\n",
            "rougher.state.floatbank10_b_level             0.000000\n",
            "rougher.state.floatbank10_c_air               0.000000\n",
            "rougher.state.floatbank10_c_level             0.000000\n",
            "rougher.state.floatbank10_d_air               0.000000\n",
            "rougher.state.floatbank10_d_level             0.000000\n",
            "rougher.state.floatbank10_e_air               0.000000\n",
            "rougher.state.floatbank10_e_level             0.000000\n",
            "rougher.state.floatbank10_f_air               0.000000\n",
            "rougher.state.floatbank10_f_level             0.000000\n",
            "secondary_cleaner.state.floatbank2_a_air      0.000567\n",
            "secondary_cleaner.state.floatbank2_a_level    0.000000\n",
            "secondary_cleaner.state.floatbank2_b_air      0.000378\n",
            "secondary_cleaner.state.floatbank2_b_level    0.000000\n",
            "secondary_cleaner.state.floatbank3_a_air      0.001701\n",
            "secondary_cleaner.state.floatbank3_a_level    0.000000\n",
            "secondary_cleaner.state.floatbank3_b_air      0.000000\n",
            "secondary_cleaner.state.floatbank3_b_level    0.000000\n",
            "secondary_cleaner.state.floatbank4_a_air      0.000000\n",
            "secondary_cleaner.state.floatbank4_a_level    0.000000\n",
            "secondary_cleaner.state.floatbank4_b_air      0.000000\n",
            "secondary_cleaner.state.floatbank4_b_level    0.000000\n",
            "secondary_cleaner.state.floatbank5_a_air      0.000000\n",
            "secondary_cleaner.state.floatbank5_a_level    0.000000\n",
            "secondary_cleaner.state.floatbank5_b_air      0.000000\n",
            "secondary_cleaner.state.floatbank5_b_level    0.000000\n",
            "secondary_cleaner.state.floatbank6_a_air      0.000000\n",
            "secondary_cleaner.state.floatbank6_a_level    0.000000\n",
            "dtype: float64\n"
          ]
        }
      ],
      "source": [
        "miss_cell(data_test)"
      ]
    },
    {
      "cell_type": "code",
      "execution_count": null,
      "metadata": {
        "scrolled": true,
        "id": "xiAWSLVe6ZHN",
        "outputId": "0fb0c71a-a2a2-4210-dd7b-6f040957a790"
      },
      "outputs": [
        {
          "name": "stdout",
          "output_type": "stream",
          "text": [
            "проверка наличия пропусков в данных\n",
            "date                                          0.000000\n",
            "final.output.concentrate_ag                   0.000051\n",
            "final.output.concentrate_pb                   0.000051\n",
            "final.output.concentrate_sol                  0.010854\n",
            "final.output.concentrate_au                   0.000000\n",
            "                                                ...   \n",
            "secondary_cleaner.state.floatbank5_a_level    0.000051\n",
            "secondary_cleaner.state.floatbank5_b_air      0.000051\n",
            "secondary_cleaner.state.floatbank5_b_level    0.000051\n",
            "secondary_cleaner.state.floatbank6_a_air      0.000103\n",
            "secondary_cleaner.state.floatbank6_a_level    0.000051\n",
            "Length: 87, dtype: float64\n"
          ]
        }
      ],
      "source": [
        "miss_cell(data_full)"
      ]
    },
    {
      "cell_type": "markdown",
      "metadata": {
        "id": "mzH_zPlq6ZHN"
      },
      "source": [
        "Проверка правильно ли рассчитана что эффективность обогащения: \n",
        "  1) По формуле рассчитана на обучающей выборке для признака rougher.output.recovery.\n",
        "  2) Вычислено MAE между расчётами и значением признака"
      ]
    },
    {
      "cell_type": "code",
      "execution_count": null,
      "metadata": {
        "id": "ux_F2f-_6ZHO",
        "outputId": "ba6741f0-fbeb-4491-885f-3ebdad4f7f20"
      },
      "outputs": [
        {
          "name": "stdout",
          "output_type": "stream",
          "text": [
            "Абсолютная средняя ошибка = 1.0748911125799084e-14\n"
          ]
        }
      ],
      "source": [
        "concentrate_au = data_train['rougher.output.concentrate_au']\n",
        "feed_au = data_train['rougher.input.feed_au']\n",
        "tail_au = data_train['rougher.output.tail_au']\n",
        "output_recovery = data_train['rougher.output.recovery']\n",
        "recovery = concentrate_au * (feed_au - tail_au) / feed_au / (concentrate_au - tail_au) * 100\n",
        "print('Абсолютная средняя ошибка =', mean_absolute_error(output_recovery, recovery))"
      ]
    },
    {
      "cell_type": "markdown",
      "metadata": {
        "id": "QkhCKYZf6ZHO"
      },
      "source": [
        "**Результат** MAE показывает очень малое отклонение, расчетное значение rougher.output.recovery близко с данными из столбца."
      ]
    },
    {
      "cell_type": "markdown",
      "metadata": {
        "id": "a2jFkJYL6ZHP"
      },
      "source": [
        "Столбцы rougher.output.recovery будут и final.output.recovery есть только в обучающей выборке. Они потребуются в дальнейшем как таргеты в тестовой выборке, при составлении моделей. На этом этапе удобно восстановить их в data_test из общего датасета data_full"
      ]
    },
    {
      "cell_type": "code",
      "execution_count": null,
      "metadata": {
        "id": "NokRNEkF6ZHP",
        "outputId": "cce60bb5-d449-4dee-b323-0322c2ae98f3"
      },
      "outputs": [
        {
          "name": "stdout",
          "output_type": "stream",
          "text": [
            "<class 'pandas.core.frame.DataFrame'>\n",
            "Int64Index: 5290 entries, 4682 to 15059\n",
            "Data columns (total 3 columns):\n",
            " #   Column                   Non-Null Count  Dtype  \n",
            "---  ------                   --------------  -----  \n",
            " 0   date                     5290 non-null   object \n",
            " 1   rougher.output.recovery  5290 non-null   float64\n",
            " 2   final.output.recovery    5290 non-null   float64\n",
            "dtypes: float64(2), object(1)\n",
            "memory usage: 165.3+ KB\n",
            "None\n"
          ]
        }
      ],
      "source": [
        "test_data = data_test['date']\n",
        "target_test = data_full.query('date in @test_data')[['date','rougher.output.recovery', 'final.output.recovery']]\n",
        "#print(target_test.head()) \n",
        "print(target_test.info())"
      ]
    },
    {
      "cell_type": "code",
      "execution_count": null,
      "metadata": {
        "id": "NG3yPoSN6ZHP",
        "outputId": "e2fd3c8f-c615-4205-ce05-fb1691fc0e4f"
      },
      "outputs": [
        {
          "name": "stdout",
          "output_type": "stream",
          "text": [
            "<class 'pandas.core.frame.DataFrame'>\n",
            "Int64Index: 5290 entries, 0 to 5289\n",
            "Data columns (total 55 columns):\n",
            " #   Column                                      Non-Null Count  Dtype  \n",
            "---  ------                                      --------------  -----  \n",
            " 0   date                                        5290 non-null   object \n",
            " 1   primary_cleaner.input.sulfate               5286 non-null   float64\n",
            " 2   primary_cleaner.input.depressant            5285 non-null   float64\n",
            " 3   primary_cleaner.input.feed_size             5290 non-null   float64\n",
            " 4   primary_cleaner.input.xanthate              5286 non-null   float64\n",
            " 5   primary_cleaner.state.floatbank8_a_air      5290 non-null   float64\n",
            " 6   primary_cleaner.state.floatbank8_a_level    5290 non-null   float64\n",
            " 7   primary_cleaner.state.floatbank8_b_air      5290 non-null   float64\n",
            " 8   primary_cleaner.state.floatbank8_b_level    5290 non-null   float64\n",
            " 9   primary_cleaner.state.floatbank8_c_air      5290 non-null   float64\n",
            " 10  primary_cleaner.state.floatbank8_c_level    5290 non-null   float64\n",
            " 11  primary_cleaner.state.floatbank8_d_air      5290 non-null   float64\n",
            " 12  primary_cleaner.state.floatbank8_d_level    5290 non-null   float64\n",
            " 13  rougher.input.feed_ag                       5290 non-null   float64\n",
            " 14  rougher.input.feed_pb                       5290 non-null   float64\n",
            " 15  rougher.input.feed_rate                     5287 non-null   float64\n",
            " 16  rougher.input.feed_size                     5289 non-null   float64\n",
            " 17  rougher.input.feed_sol                      5269 non-null   float64\n",
            " 18  rougher.input.feed_au                       5290 non-null   float64\n",
            " 19  rougher.input.floatbank10_sulfate           5285 non-null   float64\n",
            " 20  rougher.input.floatbank10_xanthate          5290 non-null   float64\n",
            " 21  rougher.input.floatbank11_sulfate           5282 non-null   float64\n",
            " 22  rougher.input.floatbank11_xanthate          5265 non-null   float64\n",
            " 23  rougher.state.floatbank10_a_air             5290 non-null   float64\n",
            " 24  rougher.state.floatbank10_a_level           5290 non-null   float64\n",
            " 25  rougher.state.floatbank10_b_air             5290 non-null   float64\n",
            " 26  rougher.state.floatbank10_b_level           5290 non-null   float64\n",
            " 27  rougher.state.floatbank10_c_air             5290 non-null   float64\n",
            " 28  rougher.state.floatbank10_c_level           5290 non-null   float64\n",
            " 29  rougher.state.floatbank10_d_air             5290 non-null   float64\n",
            " 30  rougher.state.floatbank10_d_level           5290 non-null   float64\n",
            " 31  rougher.state.floatbank10_e_air             5290 non-null   float64\n",
            " 32  rougher.state.floatbank10_e_level           5290 non-null   float64\n",
            " 33  rougher.state.floatbank10_f_air             5290 non-null   float64\n",
            " 34  rougher.state.floatbank10_f_level           5290 non-null   float64\n",
            " 35  secondary_cleaner.state.floatbank2_a_air    5287 non-null   float64\n",
            " 36  secondary_cleaner.state.floatbank2_a_level  5290 non-null   float64\n",
            " 37  secondary_cleaner.state.floatbank2_b_air    5288 non-null   float64\n",
            " 38  secondary_cleaner.state.floatbank2_b_level  5290 non-null   float64\n",
            " 39  secondary_cleaner.state.floatbank3_a_air    5281 non-null   float64\n",
            " 40  secondary_cleaner.state.floatbank3_a_level  5290 non-null   float64\n",
            " 41  secondary_cleaner.state.floatbank3_b_air    5290 non-null   float64\n",
            " 42  secondary_cleaner.state.floatbank3_b_level  5290 non-null   float64\n",
            " 43  secondary_cleaner.state.floatbank4_a_air    5290 non-null   float64\n",
            " 44  secondary_cleaner.state.floatbank4_a_level  5290 non-null   float64\n",
            " 45  secondary_cleaner.state.floatbank4_b_air    5290 non-null   float64\n",
            " 46  secondary_cleaner.state.floatbank4_b_level  5290 non-null   float64\n",
            " 47  secondary_cleaner.state.floatbank5_a_air    5290 non-null   float64\n",
            " 48  secondary_cleaner.state.floatbank5_a_level  5290 non-null   float64\n",
            " 49  secondary_cleaner.state.floatbank5_b_air    5290 non-null   float64\n",
            " 50  secondary_cleaner.state.floatbank5_b_level  5290 non-null   float64\n",
            " 51  secondary_cleaner.state.floatbank6_a_air    5290 non-null   float64\n",
            " 52  secondary_cleaner.state.floatbank6_a_level  5290 non-null   float64\n",
            " 53  rougher.output.recovery                     5290 non-null   float64\n",
            " 54  final.output.recovery                       5290 non-null   float64\n",
            "dtypes: float64(54), object(1)\n",
            "memory usage: 2.3+ MB\n",
            "None\n"
          ]
        }
      ],
      "source": [
        "data_test = data_test.merge(target_test, on='date')\n",
        "#print(data_test.head())\n",
        "print(data_test.info())"
      ]
    },
    {
      "cell_type": "markdown",
      "metadata": {
        "id": "6c_fOJ1x6ZHQ"
      },
      "source": [
        "Модели машинного обучения не будут работать с данными где есть пропуски, поэтому принято решение очистить датасет data_train и data_test от пропусков. Первоначально попробовала удалить стороки с пропусками.  "
      ]
    },
    {
      "cell_type": "code",
      "execution_count": null,
      "metadata": {
        "id": "rEkHvF4_6ZHR",
        "outputId": "7ec60587-db1e-4de3-ecc9-8c3b9b200543"
      },
      "outputs": [
        {
          "name": "stdout",
          "output_type": "stream",
          "text": [
            "(11017, 87)\n",
            "<class 'pandas.core.frame.DataFrame'>\n",
            "Int64Index: 11017 entries, 0 to 14148\n",
            "Data columns (total 87 columns):\n",
            " #   Column                                              Non-Null Count  Dtype  \n",
            "---  ------                                              --------------  -----  \n",
            " 0   date                                                11017 non-null  object \n",
            " 1   final.output.concentrate_ag                         11017 non-null  float64\n",
            " 2   final.output.concentrate_pb                         11017 non-null  float64\n",
            " 3   final.output.concentrate_sol                        11017 non-null  float64\n",
            " 4   final.output.concentrate_au                         11017 non-null  float64\n",
            " 5   final.output.recovery                               11017 non-null  float64\n",
            " 6   final.output.tail_ag                                11017 non-null  float64\n",
            " 7   final.output.tail_pb                                11017 non-null  float64\n",
            " 8   final.output.tail_sol                               11017 non-null  float64\n",
            " 9   final.output.tail_au                                11017 non-null  float64\n",
            " 10  primary_cleaner.input.sulfate                       11017 non-null  float64\n",
            " 11  primary_cleaner.input.depressant                    11017 non-null  float64\n",
            " 12  primary_cleaner.input.feed_size                     11017 non-null  float64\n",
            " 13  primary_cleaner.input.xanthate                      11017 non-null  float64\n",
            " 14  primary_cleaner.output.concentrate_ag               11017 non-null  float64\n",
            " 15  primary_cleaner.output.concentrate_pb               11017 non-null  float64\n",
            " 16  primary_cleaner.output.concentrate_sol              11017 non-null  float64\n",
            " 17  primary_cleaner.output.concentrate_au               11017 non-null  float64\n",
            " 18  primary_cleaner.output.tail_ag                      11017 non-null  float64\n",
            " 19  primary_cleaner.output.tail_pb                      11017 non-null  float64\n",
            " 20  primary_cleaner.output.tail_sol                     11017 non-null  float64\n",
            " 21  primary_cleaner.output.tail_au                      11017 non-null  float64\n",
            " 22  primary_cleaner.state.floatbank8_a_air              11017 non-null  float64\n",
            " 23  primary_cleaner.state.floatbank8_a_level            11017 non-null  float64\n",
            " 24  primary_cleaner.state.floatbank8_b_air              11017 non-null  float64\n",
            " 25  primary_cleaner.state.floatbank8_b_level            11017 non-null  float64\n",
            " 26  primary_cleaner.state.floatbank8_c_air              11017 non-null  float64\n",
            " 27  primary_cleaner.state.floatbank8_c_level            11017 non-null  float64\n",
            " 28  primary_cleaner.state.floatbank8_d_air              11017 non-null  float64\n",
            " 29  primary_cleaner.state.floatbank8_d_level            11017 non-null  float64\n",
            " 30  rougher.calculation.sulfate_to_au_concentrate       11017 non-null  float64\n",
            " 31  rougher.calculation.floatbank10_sulfate_to_au_feed  11017 non-null  float64\n",
            " 32  rougher.calculation.floatbank11_sulfate_to_au_feed  11017 non-null  float64\n",
            " 33  rougher.calculation.au_pb_ratio                     11017 non-null  float64\n",
            " 34  rougher.input.feed_ag                               11017 non-null  float64\n",
            " 35  rougher.input.feed_pb                               11017 non-null  float64\n",
            " 36  rougher.input.feed_rate                             11017 non-null  float64\n",
            " 37  rougher.input.feed_size                             11017 non-null  float64\n",
            " 38  rougher.input.feed_sol                              11017 non-null  float64\n",
            " 39  rougher.input.feed_au                               11017 non-null  float64\n",
            " 40  rougher.input.floatbank10_sulfate                   11017 non-null  float64\n",
            " 41  rougher.input.floatbank10_xanthate                  11017 non-null  float64\n",
            " 42  rougher.input.floatbank11_sulfate                   11017 non-null  float64\n",
            " 43  rougher.input.floatbank11_xanthate                  11017 non-null  float64\n",
            " 44  rougher.output.concentrate_ag                       11017 non-null  float64\n",
            " 45  rougher.output.concentrate_pb                       11017 non-null  float64\n",
            " 46  rougher.output.concentrate_sol                      11017 non-null  float64\n",
            " 47  rougher.output.concentrate_au                       11017 non-null  float64\n",
            " 48  rougher.output.recovery                             11017 non-null  float64\n",
            " 49  rougher.output.tail_ag                              11017 non-null  float64\n",
            " 50  rougher.output.tail_pb                              11017 non-null  float64\n",
            " 51  rougher.output.tail_sol                             11017 non-null  float64\n",
            " 52  rougher.output.tail_au                              11017 non-null  float64\n",
            " 53  rougher.state.floatbank10_a_air                     11017 non-null  float64\n",
            " 54  rougher.state.floatbank10_a_level                   11017 non-null  float64\n",
            " 55  rougher.state.floatbank10_b_air                     11017 non-null  float64\n",
            " 56  rougher.state.floatbank10_b_level                   11017 non-null  float64\n",
            " 57  rougher.state.floatbank10_c_air                     11017 non-null  float64\n",
            " 58  rougher.state.floatbank10_c_level                   11017 non-null  float64\n",
            " 59  rougher.state.floatbank10_d_air                     11017 non-null  float64\n",
            " 60  rougher.state.floatbank10_d_level                   11017 non-null  float64\n",
            " 61  rougher.state.floatbank10_e_air                     11017 non-null  float64\n",
            " 62  rougher.state.floatbank10_e_level                   11017 non-null  float64\n",
            " 63  rougher.state.floatbank10_f_air                     11017 non-null  float64\n",
            " 64  rougher.state.floatbank10_f_level                   11017 non-null  float64\n",
            " 65  secondary_cleaner.output.tail_ag                    11017 non-null  float64\n",
            " 66  secondary_cleaner.output.tail_pb                    11017 non-null  float64\n",
            " 67  secondary_cleaner.output.tail_sol                   11017 non-null  float64\n",
            " 68  secondary_cleaner.output.tail_au                    11017 non-null  float64\n",
            " 69  secondary_cleaner.state.floatbank2_a_air            11017 non-null  float64\n",
            " 70  secondary_cleaner.state.floatbank2_a_level          11017 non-null  float64\n",
            " 71  secondary_cleaner.state.floatbank2_b_air            11017 non-null  float64\n",
            " 72  secondary_cleaner.state.floatbank2_b_level          11017 non-null  float64\n",
            " 73  secondary_cleaner.state.floatbank3_a_air            11017 non-null  float64\n",
            " 74  secondary_cleaner.state.floatbank3_a_level          11017 non-null  float64\n",
            " 75  secondary_cleaner.state.floatbank3_b_air            11017 non-null  float64\n",
            " 76  secondary_cleaner.state.floatbank3_b_level          11017 non-null  float64\n",
            " 77  secondary_cleaner.state.floatbank4_a_air            11017 non-null  float64\n",
            " 78  secondary_cleaner.state.floatbank4_a_level          11017 non-null  float64\n",
            " 79  secondary_cleaner.state.floatbank4_b_air            11017 non-null  float64\n",
            " 80  secondary_cleaner.state.floatbank4_b_level          11017 non-null  float64\n",
            " 81  secondary_cleaner.state.floatbank5_a_air            11017 non-null  float64\n",
            " 82  secondary_cleaner.state.floatbank5_a_level          11017 non-null  float64\n",
            " 83  secondary_cleaner.state.floatbank5_b_air            11017 non-null  float64\n",
            " 84  secondary_cleaner.state.floatbank5_b_level          11017 non-null  float64\n",
            " 85  secondary_cleaner.state.floatbank6_a_air            11017 non-null  float64\n",
            " 86  secondary_cleaner.state.floatbank6_a_level          11017 non-null  float64\n",
            "dtypes: float64(86), object(1)\n",
            "memory usage: 7.4+ MB\n",
            "None\n",
            "проверка наличия пропусков в данных\n",
            "date                                          0.0\n",
            "final.output.concentrate_ag                   0.0\n",
            "final.output.concentrate_pb                   0.0\n",
            "final.output.concentrate_sol                  0.0\n",
            "final.output.concentrate_au                   0.0\n",
            "                                             ... \n",
            "secondary_cleaner.state.floatbank5_a_level    0.0\n",
            "secondary_cleaner.state.floatbank5_b_air      0.0\n",
            "secondary_cleaner.state.floatbank5_b_level    0.0\n",
            "secondary_cleaner.state.floatbank6_a_air      0.0\n",
            "secondary_cleaner.state.floatbank6_a_level    0.0\n",
            "Length: 87, dtype: float64\n"
          ]
        }
      ],
      "source": [
        "data_train_dropped = data_train.dropna(axis='index')\n",
        "print (data_train_dropped.shape)\n",
        "print (data_train_dropped.info())\n",
        "miss_cell(data_train_dropped)"
      ]
    },
    {
      "cell_type": "code",
      "execution_count": null,
      "metadata": {
        "id": "QS9SEZq56ZHS",
        "outputId": "48927961-5638-4a6f-d965-8823988641d1"
      },
      "outputs": [
        {
          "name": "stdout",
          "output_type": "stream",
          "text": [
            "22.130336443313542 % процентов выборки удалено\n"
          ]
        }
      ],
      "source": [
        "print((14148-11017)/14148 *100, '% процентов выборки удалено')"
      ]
    },
    {
      "cell_type": "markdown",
      "metadata": {
        "id": "zE5RGAmq6ZHS"
      },
      "source": [
        "**Результат** Удаление всех строк с пропусками прошло успешно, но потери более 22% от выборки, стоит подумать."
      ]
    },
    {
      "cell_type": "code",
      "execution_count": null,
      "metadata": {
        "id": "-OO9clws6ZHT",
        "outputId": "e41f02af-062d-47d1-a012-6cb32859294b"
      },
      "outputs": [
        {
          "name": "stdout",
          "output_type": "stream",
          "text": [
            "(5229, 55)\n",
            "<class 'pandas.core.frame.DataFrame'>\n",
            "Int64Index: 5229 entries, 0 to 5289\n",
            "Data columns (total 55 columns):\n",
            " #   Column                                      Non-Null Count  Dtype  \n",
            "---  ------                                      --------------  -----  \n",
            " 0   date                                        5229 non-null   object \n",
            " 1   primary_cleaner.input.sulfate               5229 non-null   float64\n",
            " 2   primary_cleaner.input.depressant            5229 non-null   float64\n",
            " 3   primary_cleaner.input.feed_size             5229 non-null   float64\n",
            " 4   primary_cleaner.input.xanthate              5229 non-null   float64\n",
            " 5   primary_cleaner.state.floatbank8_a_air      5229 non-null   float64\n",
            " 6   primary_cleaner.state.floatbank8_a_level    5229 non-null   float64\n",
            " 7   primary_cleaner.state.floatbank8_b_air      5229 non-null   float64\n",
            " 8   primary_cleaner.state.floatbank8_b_level    5229 non-null   float64\n",
            " 9   primary_cleaner.state.floatbank8_c_air      5229 non-null   float64\n",
            " 10  primary_cleaner.state.floatbank8_c_level    5229 non-null   float64\n",
            " 11  primary_cleaner.state.floatbank8_d_air      5229 non-null   float64\n",
            " 12  primary_cleaner.state.floatbank8_d_level    5229 non-null   float64\n",
            " 13  rougher.input.feed_ag                       5229 non-null   float64\n",
            " 14  rougher.input.feed_pb                       5229 non-null   float64\n",
            " 15  rougher.input.feed_rate                     5229 non-null   float64\n",
            " 16  rougher.input.feed_size                     5229 non-null   float64\n",
            " 17  rougher.input.feed_sol                      5229 non-null   float64\n",
            " 18  rougher.input.feed_au                       5229 non-null   float64\n",
            " 19  rougher.input.floatbank10_sulfate           5229 non-null   float64\n",
            " 20  rougher.input.floatbank10_xanthate          5229 non-null   float64\n",
            " 21  rougher.input.floatbank11_sulfate           5229 non-null   float64\n",
            " 22  rougher.input.floatbank11_xanthate          5229 non-null   float64\n",
            " 23  rougher.state.floatbank10_a_air             5229 non-null   float64\n",
            " 24  rougher.state.floatbank10_a_level           5229 non-null   float64\n",
            " 25  rougher.state.floatbank10_b_air             5229 non-null   float64\n",
            " 26  rougher.state.floatbank10_b_level           5229 non-null   float64\n",
            " 27  rougher.state.floatbank10_c_air             5229 non-null   float64\n",
            " 28  rougher.state.floatbank10_c_level           5229 non-null   float64\n",
            " 29  rougher.state.floatbank10_d_air             5229 non-null   float64\n",
            " 30  rougher.state.floatbank10_d_level           5229 non-null   float64\n",
            " 31  rougher.state.floatbank10_e_air             5229 non-null   float64\n",
            " 32  rougher.state.floatbank10_e_level           5229 non-null   float64\n",
            " 33  rougher.state.floatbank10_f_air             5229 non-null   float64\n",
            " 34  rougher.state.floatbank10_f_level           5229 non-null   float64\n",
            " 35  secondary_cleaner.state.floatbank2_a_air    5229 non-null   float64\n",
            " 36  secondary_cleaner.state.floatbank2_a_level  5229 non-null   float64\n",
            " 37  secondary_cleaner.state.floatbank2_b_air    5229 non-null   float64\n",
            " 38  secondary_cleaner.state.floatbank2_b_level  5229 non-null   float64\n",
            " 39  secondary_cleaner.state.floatbank3_a_air    5229 non-null   float64\n",
            " 40  secondary_cleaner.state.floatbank3_a_level  5229 non-null   float64\n",
            " 41  secondary_cleaner.state.floatbank3_b_air    5229 non-null   float64\n",
            " 42  secondary_cleaner.state.floatbank3_b_level  5229 non-null   float64\n",
            " 43  secondary_cleaner.state.floatbank4_a_air    5229 non-null   float64\n",
            " 44  secondary_cleaner.state.floatbank4_a_level  5229 non-null   float64\n",
            " 45  secondary_cleaner.state.floatbank4_b_air    5229 non-null   float64\n",
            " 46  secondary_cleaner.state.floatbank4_b_level  5229 non-null   float64\n",
            " 47  secondary_cleaner.state.floatbank5_a_air    5229 non-null   float64\n",
            " 48  secondary_cleaner.state.floatbank5_a_level  5229 non-null   float64\n",
            " 49  secondary_cleaner.state.floatbank5_b_air    5229 non-null   float64\n",
            " 50  secondary_cleaner.state.floatbank5_b_level  5229 non-null   float64\n",
            " 51  secondary_cleaner.state.floatbank6_a_air    5229 non-null   float64\n",
            " 52  secondary_cleaner.state.floatbank6_a_level  5229 non-null   float64\n",
            " 53  rougher.output.recovery                     5229 non-null   float64\n",
            " 54  final.output.recovery                       5229 non-null   float64\n",
            "dtypes: float64(54), object(1)\n",
            "memory usage: 2.2+ MB\n",
            "None\n",
            "проверка наличия пропусков в данных\n",
            "date                                          0.0\n",
            "primary_cleaner.input.sulfate                 0.0\n",
            "primary_cleaner.input.depressant              0.0\n",
            "primary_cleaner.input.feed_size               0.0\n",
            "primary_cleaner.input.xanthate                0.0\n",
            "primary_cleaner.state.floatbank8_a_air        0.0\n",
            "primary_cleaner.state.floatbank8_a_level      0.0\n",
            "primary_cleaner.state.floatbank8_b_air        0.0\n",
            "primary_cleaner.state.floatbank8_b_level      0.0\n",
            "primary_cleaner.state.floatbank8_c_air        0.0\n",
            "primary_cleaner.state.floatbank8_c_level      0.0\n",
            "primary_cleaner.state.floatbank8_d_air        0.0\n",
            "primary_cleaner.state.floatbank8_d_level      0.0\n",
            "rougher.input.feed_ag                         0.0\n",
            "rougher.input.feed_pb                         0.0\n",
            "rougher.input.feed_rate                       0.0\n",
            "rougher.input.feed_size                       0.0\n",
            "rougher.input.feed_sol                        0.0\n",
            "rougher.input.feed_au                         0.0\n",
            "rougher.input.floatbank10_sulfate             0.0\n",
            "rougher.input.floatbank10_xanthate            0.0\n",
            "rougher.input.floatbank11_sulfate             0.0\n",
            "rougher.input.floatbank11_xanthate            0.0\n",
            "rougher.state.floatbank10_a_air               0.0\n",
            "rougher.state.floatbank10_a_level             0.0\n",
            "rougher.state.floatbank10_b_air               0.0\n",
            "rougher.state.floatbank10_b_level             0.0\n",
            "rougher.state.floatbank10_c_air               0.0\n",
            "rougher.state.floatbank10_c_level             0.0\n",
            "rougher.state.floatbank10_d_air               0.0\n",
            "rougher.state.floatbank10_d_level             0.0\n",
            "rougher.state.floatbank10_e_air               0.0\n",
            "rougher.state.floatbank10_e_level             0.0\n",
            "rougher.state.floatbank10_f_air               0.0\n",
            "rougher.state.floatbank10_f_level             0.0\n",
            "secondary_cleaner.state.floatbank2_a_air      0.0\n",
            "secondary_cleaner.state.floatbank2_a_level    0.0\n",
            "secondary_cleaner.state.floatbank2_b_air      0.0\n",
            "secondary_cleaner.state.floatbank2_b_level    0.0\n",
            "secondary_cleaner.state.floatbank3_a_air      0.0\n",
            "secondary_cleaner.state.floatbank3_a_level    0.0\n",
            "secondary_cleaner.state.floatbank3_b_air      0.0\n",
            "secondary_cleaner.state.floatbank3_b_level    0.0\n",
            "secondary_cleaner.state.floatbank4_a_air      0.0\n",
            "secondary_cleaner.state.floatbank4_a_level    0.0\n",
            "secondary_cleaner.state.floatbank4_b_air      0.0\n",
            "secondary_cleaner.state.floatbank4_b_level    0.0\n",
            "secondary_cleaner.state.floatbank5_a_air      0.0\n",
            "secondary_cleaner.state.floatbank5_a_level    0.0\n",
            "secondary_cleaner.state.floatbank5_b_air      0.0\n",
            "secondary_cleaner.state.floatbank5_b_level    0.0\n",
            "secondary_cleaner.state.floatbank6_a_air      0.0\n",
            "secondary_cleaner.state.floatbank6_a_level    0.0\n",
            "rougher.output.recovery                       0.0\n",
            "final.output.recovery                         0.0\n",
            "dtype: float64\n"
          ]
        }
      ],
      "source": [
        "data_test_dropped = data_test.dropna(axis='index')\n",
        "print (data_test_dropped.shape)\n",
        "print (data_test_dropped.info())\n",
        "miss_cell(data_test_dropped)"
      ]
    },
    {
      "cell_type": "markdown",
      "metadata": {
        "id": "QTKvgVEa6ZHT"
      },
      "source": [
        "**Результат** слишком высокий процент при удалении строк с пропусками данных, лучше пойти по другому пути и заменить пропуски на среднее. "
      ]
    },
    {
      "cell_type": "markdown",
      "metadata": {
        "id": "sZg2L-Ye6ZHT"
      },
      "source": [
        "**Замена пропусков на среднее** столбец 'data' удаляется в формате 'строка', в дальнейших расчетах он не предполагается, поэтому создаются новые датасеты без этого столбца и с заменой пропусков на среднее. "
      ]
    },
    {
      "cell_type": "code",
      "execution_count": null,
      "metadata": {
        "id": "bOjV0l4E6ZHT",
        "outputId": "58a48b29-cc87-46f9-e8ec-7c57846719c6"
      },
      "outputs": [
        {
          "name": "stdout",
          "output_type": "stream",
          "text": [
            "проверка наличия пропусков в данных\n",
            "final.output.concentrate_ag                   0.0\n",
            "final.output.concentrate_pb                   0.0\n",
            "final.output.concentrate_sol                  0.0\n",
            "final.output.concentrate_au                   0.0\n",
            "final.output.recovery                         0.0\n",
            "                                             ... \n",
            "secondary_cleaner.state.floatbank5_a_level    0.0\n",
            "secondary_cleaner.state.floatbank5_b_air      0.0\n",
            "secondary_cleaner.state.floatbank5_b_level    0.0\n",
            "secondary_cleaner.state.floatbank6_a_air      0.0\n",
            "secondary_cleaner.state.floatbank6_a_level    0.0\n",
            "Length: 86, dtype: float64\n",
            "<class 'pandas.core.frame.DataFrame'>\n",
            "RangeIndex: 14149 entries, 0 to 14148\n",
            "Data columns (total 86 columns):\n",
            " #   Column                                              Non-Null Count  Dtype  \n",
            "---  ------                                              --------------  -----  \n",
            " 0   final.output.concentrate_ag                         14149 non-null  float64\n",
            " 1   final.output.concentrate_pb                         14149 non-null  float64\n",
            " 2   final.output.concentrate_sol                        14149 non-null  float64\n",
            " 3   final.output.concentrate_au                         14149 non-null  float64\n",
            " 4   final.output.recovery                               14149 non-null  float64\n",
            " 5   final.output.tail_ag                                14149 non-null  float64\n",
            " 6   final.output.tail_pb                                14149 non-null  float64\n",
            " 7   final.output.tail_sol                               14149 non-null  float64\n",
            " 8   final.output.tail_au                                14149 non-null  float64\n",
            " 9   primary_cleaner.input.sulfate                       14149 non-null  float64\n",
            " 10  primary_cleaner.input.depressant                    14149 non-null  float64\n",
            " 11  primary_cleaner.input.feed_size                     14149 non-null  float64\n",
            " 12  primary_cleaner.input.xanthate                      14149 non-null  float64\n",
            " 13  primary_cleaner.output.concentrate_ag               14149 non-null  float64\n",
            " 14  primary_cleaner.output.concentrate_pb               14149 non-null  float64\n",
            " 15  primary_cleaner.output.concentrate_sol              14149 non-null  float64\n",
            " 16  primary_cleaner.output.concentrate_au               14149 non-null  float64\n",
            " 17  primary_cleaner.output.tail_ag                      14149 non-null  float64\n",
            " 18  primary_cleaner.output.tail_pb                      14149 non-null  float64\n",
            " 19  primary_cleaner.output.tail_sol                     14149 non-null  float64\n",
            " 20  primary_cleaner.output.tail_au                      14149 non-null  float64\n",
            " 21  primary_cleaner.state.floatbank8_a_air              14149 non-null  float64\n",
            " 22  primary_cleaner.state.floatbank8_a_level            14149 non-null  float64\n",
            " 23  primary_cleaner.state.floatbank8_b_air              14149 non-null  float64\n",
            " 24  primary_cleaner.state.floatbank8_b_level            14149 non-null  float64\n",
            " 25  primary_cleaner.state.floatbank8_c_air              14149 non-null  float64\n",
            " 26  primary_cleaner.state.floatbank8_c_level            14149 non-null  float64\n",
            " 27  primary_cleaner.state.floatbank8_d_air              14149 non-null  float64\n",
            " 28  primary_cleaner.state.floatbank8_d_level            14149 non-null  float64\n",
            " 29  rougher.calculation.sulfate_to_au_concentrate       14149 non-null  float64\n",
            " 30  rougher.calculation.floatbank10_sulfate_to_au_feed  14149 non-null  float64\n",
            " 31  rougher.calculation.floatbank11_sulfate_to_au_feed  14149 non-null  float64\n",
            " 32  rougher.calculation.au_pb_ratio                     14149 non-null  float64\n",
            " 33  rougher.input.feed_ag                               14149 non-null  float64\n",
            " 34  rougher.input.feed_pb                               14149 non-null  float64\n",
            " 35  rougher.input.feed_rate                             14149 non-null  float64\n",
            " 36  rougher.input.feed_size                             14149 non-null  float64\n",
            " 37  rougher.input.feed_sol                              14149 non-null  float64\n",
            " 38  rougher.input.feed_au                               14149 non-null  float64\n",
            " 39  rougher.input.floatbank10_sulfate                   14149 non-null  float64\n",
            " 40  rougher.input.floatbank10_xanthate                  14149 non-null  float64\n",
            " 41  rougher.input.floatbank11_sulfate                   14149 non-null  float64\n",
            " 42  rougher.input.floatbank11_xanthate                  14149 non-null  float64\n",
            " 43  rougher.output.concentrate_ag                       14149 non-null  float64\n",
            " 44  rougher.output.concentrate_pb                       14149 non-null  float64\n",
            " 45  rougher.output.concentrate_sol                      14149 non-null  float64\n",
            " 46  rougher.output.concentrate_au                       14149 non-null  float64\n",
            " 47  rougher.output.recovery                             14149 non-null  float64\n",
            " 48  rougher.output.tail_ag                              14149 non-null  float64\n",
            " 49  rougher.output.tail_pb                              14149 non-null  float64\n",
            " 50  rougher.output.tail_sol                             14149 non-null  float64\n",
            " 51  rougher.output.tail_au                              14149 non-null  float64\n",
            " 52  rougher.state.floatbank10_a_air                     14149 non-null  float64\n",
            " 53  rougher.state.floatbank10_a_level                   14149 non-null  float64\n",
            " 54  rougher.state.floatbank10_b_air                     14149 non-null  float64\n",
            " 55  rougher.state.floatbank10_b_level                   14149 non-null  float64\n",
            " 56  rougher.state.floatbank10_c_air                     14149 non-null  float64\n",
            " 57  rougher.state.floatbank10_c_level                   14149 non-null  float64\n",
            " 58  rougher.state.floatbank10_d_air                     14149 non-null  float64\n",
            " 59  rougher.state.floatbank10_d_level                   14149 non-null  float64\n",
            " 60  rougher.state.floatbank10_e_air                     14149 non-null  float64\n",
            " 61  rougher.state.floatbank10_e_level                   14149 non-null  float64\n",
            " 62  rougher.state.floatbank10_f_air                     14149 non-null  float64\n",
            " 63  rougher.state.floatbank10_f_level                   14149 non-null  float64\n",
            " 64  secondary_cleaner.output.tail_ag                    14149 non-null  float64\n",
            " 65  secondary_cleaner.output.tail_pb                    14149 non-null  float64\n",
            " 66  secondary_cleaner.output.tail_sol                   14149 non-null  float64\n",
            " 67  secondary_cleaner.output.tail_au                    14149 non-null  float64\n",
            " 68  secondary_cleaner.state.floatbank2_a_air            14149 non-null  float64\n",
            " 69  secondary_cleaner.state.floatbank2_a_level          14149 non-null  float64\n",
            " 70  secondary_cleaner.state.floatbank2_b_air            14149 non-null  float64\n",
            " 71  secondary_cleaner.state.floatbank2_b_level          14149 non-null  float64\n",
            " 72  secondary_cleaner.state.floatbank3_a_air            14149 non-null  float64\n",
            " 73  secondary_cleaner.state.floatbank3_a_level          14149 non-null  float64\n",
            " 74  secondary_cleaner.state.floatbank3_b_air            14149 non-null  float64\n",
            " 75  secondary_cleaner.state.floatbank3_b_level          14149 non-null  float64\n",
            " 76  secondary_cleaner.state.floatbank4_a_air            14149 non-null  float64\n",
            " 77  secondary_cleaner.state.floatbank4_a_level          14149 non-null  float64\n",
            " 78  secondary_cleaner.state.floatbank4_b_air            14149 non-null  float64\n",
            " 79  secondary_cleaner.state.floatbank4_b_level          14149 non-null  float64\n",
            " 80  secondary_cleaner.state.floatbank5_a_air            14149 non-null  float64\n",
            " 81  secondary_cleaner.state.floatbank5_a_level          14149 non-null  float64\n",
            " 82  secondary_cleaner.state.floatbank5_b_air            14149 non-null  float64\n",
            " 83  secondary_cleaner.state.floatbank5_b_level          14149 non-null  float64\n",
            " 84  secondary_cleaner.state.floatbank6_a_air            14149 non-null  float64\n",
            " 85  secondary_cleaner.state.floatbank6_a_level          14149 non-null  float64\n",
            "dtypes: float64(86)\n",
            "memory usage: 9.3 MB\n"
          ]
        }
      ],
      "source": [
        "#data_train_new = cover_cells(data_train)\n",
        "data_train_new = data_train.drop(['date'], axis=1)\n",
        "data_train_new = data_train_new.fillna(data_train_new.mean())\n",
        "\n",
        "miss_cell(data_train_new)\n",
        "data_train_new.info()"
      ]
    },
    {
      "cell_type": "code",
      "execution_count": null,
      "metadata": {
        "id": "698v-t366ZHT",
        "outputId": "682df41f-ac56-4fa6-f2cf-748b39f7fd29"
      },
      "outputs": [
        {
          "name": "stdout",
          "output_type": "stream",
          "text": [
            "проверка наличия пропусков в данных\n",
            "primary_cleaner.input.sulfate                 0.0\n",
            "primary_cleaner.input.depressant              0.0\n",
            "primary_cleaner.input.feed_size               0.0\n",
            "primary_cleaner.input.xanthate                0.0\n",
            "primary_cleaner.state.floatbank8_a_air        0.0\n",
            "primary_cleaner.state.floatbank8_a_level      0.0\n",
            "primary_cleaner.state.floatbank8_b_air        0.0\n",
            "primary_cleaner.state.floatbank8_b_level      0.0\n",
            "primary_cleaner.state.floatbank8_c_air        0.0\n",
            "primary_cleaner.state.floatbank8_c_level      0.0\n",
            "primary_cleaner.state.floatbank8_d_air        0.0\n",
            "primary_cleaner.state.floatbank8_d_level      0.0\n",
            "rougher.input.feed_ag                         0.0\n",
            "rougher.input.feed_pb                         0.0\n",
            "rougher.input.feed_rate                       0.0\n",
            "rougher.input.feed_size                       0.0\n",
            "rougher.input.feed_sol                        0.0\n",
            "rougher.input.feed_au                         0.0\n",
            "rougher.input.floatbank10_sulfate             0.0\n",
            "rougher.input.floatbank10_xanthate            0.0\n",
            "rougher.input.floatbank11_sulfate             0.0\n",
            "rougher.input.floatbank11_xanthate            0.0\n",
            "rougher.state.floatbank10_a_air               0.0\n",
            "rougher.state.floatbank10_a_level             0.0\n",
            "rougher.state.floatbank10_b_air               0.0\n",
            "rougher.state.floatbank10_b_level             0.0\n",
            "rougher.state.floatbank10_c_air               0.0\n",
            "rougher.state.floatbank10_c_level             0.0\n",
            "rougher.state.floatbank10_d_air               0.0\n",
            "rougher.state.floatbank10_d_level             0.0\n",
            "rougher.state.floatbank10_e_air               0.0\n",
            "rougher.state.floatbank10_e_level             0.0\n",
            "rougher.state.floatbank10_f_air               0.0\n",
            "rougher.state.floatbank10_f_level             0.0\n",
            "secondary_cleaner.state.floatbank2_a_air      0.0\n",
            "secondary_cleaner.state.floatbank2_a_level    0.0\n",
            "secondary_cleaner.state.floatbank2_b_air      0.0\n",
            "secondary_cleaner.state.floatbank2_b_level    0.0\n",
            "secondary_cleaner.state.floatbank3_a_air      0.0\n",
            "secondary_cleaner.state.floatbank3_a_level    0.0\n",
            "secondary_cleaner.state.floatbank3_b_air      0.0\n",
            "secondary_cleaner.state.floatbank3_b_level    0.0\n",
            "secondary_cleaner.state.floatbank4_a_air      0.0\n",
            "secondary_cleaner.state.floatbank4_a_level    0.0\n",
            "secondary_cleaner.state.floatbank4_b_air      0.0\n",
            "secondary_cleaner.state.floatbank4_b_level    0.0\n",
            "secondary_cleaner.state.floatbank5_a_air      0.0\n",
            "secondary_cleaner.state.floatbank5_a_level    0.0\n",
            "secondary_cleaner.state.floatbank5_b_air      0.0\n",
            "secondary_cleaner.state.floatbank5_b_level    0.0\n",
            "secondary_cleaner.state.floatbank6_a_air      0.0\n",
            "secondary_cleaner.state.floatbank6_a_level    0.0\n",
            "rougher.output.recovery                       0.0\n",
            "final.output.recovery                         0.0\n",
            "dtype: float64\n",
            "<class 'pandas.core.frame.DataFrame'>\n",
            "Int64Index: 5290 entries, 0 to 5289\n",
            "Data columns (total 54 columns):\n",
            " #   Column                                      Non-Null Count  Dtype  \n",
            "---  ------                                      --------------  -----  \n",
            " 0   primary_cleaner.input.sulfate               5290 non-null   float64\n",
            " 1   primary_cleaner.input.depressant            5290 non-null   float64\n",
            " 2   primary_cleaner.input.feed_size             5290 non-null   float64\n",
            " 3   primary_cleaner.input.xanthate              5290 non-null   float64\n",
            " 4   primary_cleaner.state.floatbank8_a_air      5290 non-null   float64\n",
            " 5   primary_cleaner.state.floatbank8_a_level    5290 non-null   float64\n",
            " 6   primary_cleaner.state.floatbank8_b_air      5290 non-null   float64\n",
            " 7   primary_cleaner.state.floatbank8_b_level    5290 non-null   float64\n",
            " 8   primary_cleaner.state.floatbank8_c_air      5290 non-null   float64\n",
            " 9   primary_cleaner.state.floatbank8_c_level    5290 non-null   float64\n",
            " 10  primary_cleaner.state.floatbank8_d_air      5290 non-null   float64\n",
            " 11  primary_cleaner.state.floatbank8_d_level    5290 non-null   float64\n",
            " 12  rougher.input.feed_ag                       5290 non-null   float64\n",
            " 13  rougher.input.feed_pb                       5290 non-null   float64\n",
            " 14  rougher.input.feed_rate                     5290 non-null   float64\n",
            " 15  rougher.input.feed_size                     5290 non-null   float64\n",
            " 16  rougher.input.feed_sol                      5290 non-null   float64\n",
            " 17  rougher.input.feed_au                       5290 non-null   float64\n",
            " 18  rougher.input.floatbank10_sulfate           5290 non-null   float64\n",
            " 19  rougher.input.floatbank10_xanthate          5290 non-null   float64\n",
            " 20  rougher.input.floatbank11_sulfate           5290 non-null   float64\n",
            " 21  rougher.input.floatbank11_xanthate          5290 non-null   float64\n",
            " 22  rougher.state.floatbank10_a_air             5290 non-null   float64\n",
            " 23  rougher.state.floatbank10_a_level           5290 non-null   float64\n",
            " 24  rougher.state.floatbank10_b_air             5290 non-null   float64\n",
            " 25  rougher.state.floatbank10_b_level           5290 non-null   float64\n",
            " 26  rougher.state.floatbank10_c_air             5290 non-null   float64\n",
            " 27  rougher.state.floatbank10_c_level           5290 non-null   float64\n",
            " 28  rougher.state.floatbank10_d_air             5290 non-null   float64\n",
            " 29  rougher.state.floatbank10_d_level           5290 non-null   float64\n",
            " 30  rougher.state.floatbank10_e_air             5290 non-null   float64\n",
            " 31  rougher.state.floatbank10_e_level           5290 non-null   float64\n",
            " 32  rougher.state.floatbank10_f_air             5290 non-null   float64\n",
            " 33  rougher.state.floatbank10_f_level           5290 non-null   float64\n",
            " 34  secondary_cleaner.state.floatbank2_a_air    5290 non-null   float64\n",
            " 35  secondary_cleaner.state.floatbank2_a_level  5290 non-null   float64\n",
            " 36  secondary_cleaner.state.floatbank2_b_air    5290 non-null   float64\n",
            " 37  secondary_cleaner.state.floatbank2_b_level  5290 non-null   float64\n",
            " 38  secondary_cleaner.state.floatbank3_a_air    5290 non-null   float64\n",
            " 39  secondary_cleaner.state.floatbank3_a_level  5290 non-null   float64\n",
            " 40  secondary_cleaner.state.floatbank3_b_air    5290 non-null   float64\n",
            " 41  secondary_cleaner.state.floatbank3_b_level  5290 non-null   float64\n",
            " 42  secondary_cleaner.state.floatbank4_a_air    5290 non-null   float64\n",
            " 43  secondary_cleaner.state.floatbank4_a_level  5290 non-null   float64\n",
            " 44  secondary_cleaner.state.floatbank4_b_air    5290 non-null   float64\n",
            " 45  secondary_cleaner.state.floatbank4_b_level  5290 non-null   float64\n",
            " 46  secondary_cleaner.state.floatbank5_a_air    5290 non-null   float64\n",
            " 47  secondary_cleaner.state.floatbank5_a_level  5290 non-null   float64\n",
            " 48  secondary_cleaner.state.floatbank5_b_air    5290 non-null   float64\n",
            " 49  secondary_cleaner.state.floatbank5_b_level  5290 non-null   float64\n",
            " 50  secondary_cleaner.state.floatbank6_a_air    5290 non-null   float64\n",
            " 51  secondary_cleaner.state.floatbank6_a_level  5290 non-null   float64\n",
            " 52  rougher.output.recovery                     5290 non-null   float64\n",
            " 53  final.output.recovery                       5290 non-null   float64\n",
            "dtypes: float64(54)\n",
            "memory usage: 2.2 MB\n"
          ]
        }
      ],
      "source": [
        "data_test_new = data_test.drop(['date'], axis=1)\n",
        "data_test_new = data_test_new.fillna(data_test_new.mean())\n",
        "\n",
        "miss_cell(data_test_new)\n",
        "data_test_new.info()"
      ]
    },
    {
      "cell_type": "code",
      "execution_count": null,
      "metadata": {
        "id": "SEzFD5ks6ZHU",
        "outputId": "15a08016-34bf-4c15-b7b8-1e4e26c44f35"
      },
      "outputs": [
        {
          "name": "stdout",
          "output_type": "stream",
          "text": [
            "проверка наличия пропусков в данных\n",
            "final.output.concentrate_ag                   0.0\n",
            "final.output.concentrate_pb                   0.0\n",
            "final.output.concentrate_sol                  0.0\n",
            "final.output.concentrate_au                   0.0\n",
            "final.output.recovery                         0.0\n",
            "                                             ... \n",
            "secondary_cleaner.state.floatbank5_a_level    0.0\n",
            "secondary_cleaner.state.floatbank5_b_air      0.0\n",
            "secondary_cleaner.state.floatbank5_b_level    0.0\n",
            "secondary_cleaner.state.floatbank6_a_air      0.0\n",
            "secondary_cleaner.state.floatbank6_a_level    0.0\n",
            "Length: 86, dtype: float64\n",
            "<class 'pandas.core.frame.DataFrame'>\n",
            "RangeIndex: 19439 entries, 0 to 19438\n",
            "Data columns (total 86 columns):\n",
            " #   Column                                              Non-Null Count  Dtype  \n",
            "---  ------                                              --------------  -----  \n",
            " 0   final.output.concentrate_ag                         19439 non-null  float64\n",
            " 1   final.output.concentrate_pb                         19439 non-null  float64\n",
            " 2   final.output.concentrate_sol                        19439 non-null  float64\n",
            " 3   final.output.concentrate_au                         19439 non-null  float64\n",
            " 4   final.output.recovery                               19439 non-null  float64\n",
            " 5   final.output.tail_ag                                19439 non-null  float64\n",
            " 6   final.output.tail_pb                                19439 non-null  float64\n",
            " 7   final.output.tail_sol                               19439 non-null  float64\n",
            " 8   final.output.tail_au                                19439 non-null  float64\n",
            " 9   primary_cleaner.input.sulfate                       19439 non-null  float64\n",
            " 10  primary_cleaner.input.depressant                    19439 non-null  float64\n",
            " 11  primary_cleaner.input.feed_size                     19439 non-null  float64\n",
            " 12  primary_cleaner.input.xanthate                      19439 non-null  float64\n",
            " 13  primary_cleaner.output.concentrate_ag               19439 non-null  float64\n",
            " 14  primary_cleaner.output.concentrate_pb               19439 non-null  float64\n",
            " 15  primary_cleaner.output.concentrate_sol              19439 non-null  float64\n",
            " 16  primary_cleaner.output.concentrate_au               19439 non-null  float64\n",
            " 17  primary_cleaner.output.tail_ag                      19439 non-null  float64\n",
            " 18  primary_cleaner.output.tail_pb                      19439 non-null  float64\n",
            " 19  primary_cleaner.output.tail_sol                     19439 non-null  float64\n",
            " 20  primary_cleaner.output.tail_au                      19439 non-null  float64\n",
            " 21  primary_cleaner.state.floatbank8_a_air              19439 non-null  float64\n",
            " 22  primary_cleaner.state.floatbank8_a_level            19439 non-null  float64\n",
            " 23  primary_cleaner.state.floatbank8_b_air              19439 non-null  float64\n",
            " 24  primary_cleaner.state.floatbank8_b_level            19439 non-null  float64\n",
            " 25  primary_cleaner.state.floatbank8_c_air              19439 non-null  float64\n",
            " 26  primary_cleaner.state.floatbank8_c_level            19439 non-null  float64\n",
            " 27  primary_cleaner.state.floatbank8_d_air              19439 non-null  float64\n",
            " 28  primary_cleaner.state.floatbank8_d_level            19439 non-null  float64\n",
            " 29  rougher.calculation.sulfate_to_au_concentrate       19439 non-null  float64\n",
            " 30  rougher.calculation.floatbank10_sulfate_to_au_feed  19439 non-null  float64\n",
            " 31  rougher.calculation.floatbank11_sulfate_to_au_feed  19439 non-null  float64\n",
            " 32  rougher.calculation.au_pb_ratio                     19439 non-null  float64\n",
            " 33  rougher.input.feed_ag                               19439 non-null  float64\n",
            " 34  rougher.input.feed_pb                               19439 non-null  float64\n",
            " 35  rougher.input.feed_rate                             19439 non-null  float64\n",
            " 36  rougher.input.feed_size                             19439 non-null  float64\n",
            " 37  rougher.input.feed_sol                              19439 non-null  float64\n",
            " 38  rougher.input.feed_au                               19439 non-null  float64\n",
            " 39  rougher.input.floatbank10_sulfate                   19439 non-null  float64\n",
            " 40  rougher.input.floatbank10_xanthate                  19439 non-null  float64\n",
            " 41  rougher.input.floatbank11_sulfate                   19439 non-null  float64\n",
            " 42  rougher.input.floatbank11_xanthate                  19439 non-null  float64\n",
            " 43  rougher.output.concentrate_ag                       19439 non-null  float64\n",
            " 44  rougher.output.concentrate_pb                       19439 non-null  float64\n",
            " 45  rougher.output.concentrate_sol                      19439 non-null  float64\n",
            " 46  rougher.output.concentrate_au                       19439 non-null  float64\n",
            " 47  rougher.output.recovery                             19439 non-null  float64\n",
            " 48  rougher.output.tail_ag                              19439 non-null  float64\n",
            " 49  rougher.output.tail_pb                              19439 non-null  float64\n",
            " 50  rougher.output.tail_sol                             19439 non-null  float64\n",
            " 51  rougher.output.tail_au                              19439 non-null  float64\n",
            " 52  rougher.state.floatbank10_a_air                     19439 non-null  float64\n",
            " 53  rougher.state.floatbank10_a_level                   19439 non-null  float64\n",
            " 54  rougher.state.floatbank10_b_air                     19439 non-null  float64\n",
            " 55  rougher.state.floatbank10_b_level                   19439 non-null  float64\n",
            " 56  rougher.state.floatbank10_c_air                     19439 non-null  float64\n",
            " 57  rougher.state.floatbank10_c_level                   19439 non-null  float64\n",
            " 58  rougher.state.floatbank10_d_air                     19439 non-null  float64\n",
            " 59  rougher.state.floatbank10_d_level                   19439 non-null  float64\n",
            " 60  rougher.state.floatbank10_e_air                     19439 non-null  float64\n",
            " 61  rougher.state.floatbank10_e_level                   19439 non-null  float64\n",
            " 62  rougher.state.floatbank10_f_air                     19439 non-null  float64\n",
            " 63  rougher.state.floatbank10_f_level                   19439 non-null  float64\n",
            " 64  secondary_cleaner.output.tail_ag                    19439 non-null  float64\n",
            " 65  secondary_cleaner.output.tail_pb                    19439 non-null  float64\n",
            " 66  secondary_cleaner.output.tail_sol                   19439 non-null  float64\n",
            " 67  secondary_cleaner.output.tail_au                    19439 non-null  float64\n",
            " 68  secondary_cleaner.state.floatbank2_a_air            19439 non-null  float64\n",
            " 69  secondary_cleaner.state.floatbank2_a_level          19439 non-null  float64\n",
            " 70  secondary_cleaner.state.floatbank2_b_air            19439 non-null  float64\n",
            " 71  secondary_cleaner.state.floatbank2_b_level          19439 non-null  float64\n",
            " 72  secondary_cleaner.state.floatbank3_a_air            19439 non-null  float64\n",
            " 73  secondary_cleaner.state.floatbank3_a_level          19439 non-null  float64\n",
            " 74  secondary_cleaner.state.floatbank3_b_air            19439 non-null  float64\n",
            " 75  secondary_cleaner.state.floatbank3_b_level          19439 non-null  float64\n",
            " 76  secondary_cleaner.state.floatbank4_a_air            19439 non-null  float64\n",
            " 77  secondary_cleaner.state.floatbank4_a_level          19439 non-null  float64\n",
            " 78  secondary_cleaner.state.floatbank4_b_air            19439 non-null  float64\n",
            " 79  secondary_cleaner.state.floatbank4_b_level          19439 non-null  float64\n",
            " 80  secondary_cleaner.state.floatbank5_a_air            19439 non-null  float64\n",
            " 81  secondary_cleaner.state.floatbank5_a_level          19439 non-null  float64\n",
            " 82  secondary_cleaner.state.floatbank5_b_air            19439 non-null  float64\n",
            " 83  secondary_cleaner.state.floatbank5_b_level          19439 non-null  float64\n",
            " 84  secondary_cleaner.state.floatbank6_a_air            19439 non-null  float64\n",
            " 85  secondary_cleaner.state.floatbank6_a_level          19439 non-null  float64\n",
            "dtypes: float64(86)\n",
            "memory usage: 12.8 MB\n"
          ]
        }
      ],
      "source": [
        "data_full_new = data_full.drop(['date'], axis=1)\n",
        "data_full_new = data_full_new.fillna(data_full_new.mean())\n",
        "\n",
        "miss_cell(data_full_new)\n",
        "data_full_new.info()"
      ]
    },
    {
      "cell_type": "markdown",
      "metadata": {
        "id": "wR06cZye6ZHU"
      },
      "source": [
        "**Результаты:** данные подготовлены для дальнейшей работы, пропуски в количественных переменных заменены на среднее"
      ]
    },
    {
      "cell_type": "markdown",
      "metadata": {
        "id": "2uUmaZRq6ZHV"
      },
      "source": [
        "**ВЫВОДЫ**\n",
        "-  Открыты и изучены файлы и с данными.\n",
        "-  Проверено, что эффективность обогащения рассчитана правильно: проведен  эффективности обогащения на обучающей выборке для признака rougher.output.recovery, оценен MAE между расчётным и фактическим \n",
        "-  Проведена предобработка данных."
      ]
    },
    {
      "cell_type": "markdown",
      "metadata": {
        "id": "-wXWYsn86ZHV"
      },
      "source": [
        "## Анализ данных"
      ]
    },
    {
      "cell_type": "markdown",
      "metadata": {
        "id": "a-GArlXH6ZHV"
      },
      "source": [
        "\n",
        "В тестовой выборке 54 столбца, в обучающей - 86. \n",
        "В обучающей модели нужно оставить только те признаки, которые будут в тестовых данных. \n"
      ]
    },
    {
      "cell_type": "code",
      "execution_count": null,
      "metadata": {
        "id": "fRVgN3k76ZHV",
        "outputId": "0abf4882-b6d3-4b8a-9aa0-8dc77ec2b930"
      },
      "outputs": [
        {
          "data": {
            "text/plain": [
              "Index(['final.output.concentrate_ag', 'final.output.concentrate_au',\n",
              "       'final.output.concentrate_pb', 'final.output.concentrate_sol',\n",
              "       'final.output.tail_ag', 'final.output.tail_au', 'final.output.tail_pb',\n",
              "       'final.output.tail_sol', 'primary_cleaner.output.concentrate_ag',\n",
              "       'primary_cleaner.output.concentrate_au',\n",
              "       'primary_cleaner.output.concentrate_pb',\n",
              "       'primary_cleaner.output.concentrate_sol',\n",
              "       'primary_cleaner.output.tail_ag', 'primary_cleaner.output.tail_au',\n",
              "       'primary_cleaner.output.tail_pb', 'primary_cleaner.output.tail_sol',\n",
              "       'rougher.calculation.au_pb_ratio',\n",
              "       'rougher.calculation.floatbank10_sulfate_to_au_feed',\n",
              "       'rougher.calculation.floatbank11_sulfate_to_au_feed',\n",
              "       'rougher.calculation.sulfate_to_au_concentrate',\n",
              "       'rougher.output.concentrate_ag', 'rougher.output.concentrate_au',\n",
              "       'rougher.output.concentrate_pb', 'rougher.output.concentrate_sol',\n",
              "       'rougher.output.tail_ag', 'rougher.output.tail_au',\n",
              "       'rougher.output.tail_pb', 'rougher.output.tail_sol',\n",
              "       'secondary_cleaner.output.tail_ag', 'secondary_cleaner.output.tail_au',\n",
              "       'secondary_cleaner.output.tail_pb',\n",
              "       'secondary_cleaner.output.tail_sol'],\n",
              "      dtype='object')"
            ]
          },
          "execution_count": 18,
          "metadata": {},
          "output_type": "execute_result"
        }
      ],
      "source": [
        "data_train_new.columns.difference(data_test_new.columns)"
      ]
    },
    {
      "cell_type": "markdown",
      "metadata": {
        "id": "58zxaE286ZHW"
      },
      "source": [
        "Различия между test и train - особенность учебного задания. Признаки в тесте - это те признаки, которые будут доступы в продакшене.При обучении модели можно использовать только те признаки, которые есть в тесте, так как только они будут доступны в проде. Поэтому данные заранее были поделены на части и из теста удалили все лишние признаки."
      ]
    },
    {
      "cell_type": "code",
      "execution_count": null,
      "metadata": {
        "id": "CBR9-uU36ZHW",
        "outputId": "6800b7f1-33e7-4b46-e697-77444c34b4ae"
      },
      "outputs": [
        {
          "name": "stdout",
          "output_type": "stream",
          "text": [
            "<class 'pandas.core.frame.DataFrame'>\n",
            "RangeIndex: 14149 entries, 0 to 14148\n",
            "Data columns (total 32 columns):\n",
            " #   Column                                              Non-Null Count  Dtype  \n",
            "---  ------                                              --------------  -----  \n",
            " 0   final.output.concentrate_ag                         0 non-null      float64\n",
            " 1   final.output.concentrate_au                         0 non-null      float64\n",
            " 2   final.output.concentrate_pb                         0 non-null      float64\n",
            " 3   final.output.concentrate_sol                        0 non-null      float64\n",
            " 4   final.output.tail_ag                                0 non-null      float64\n",
            " 5   final.output.tail_au                                0 non-null      float64\n",
            " 6   final.output.tail_pb                                0 non-null      float64\n",
            " 7   final.output.tail_sol                               0 non-null      float64\n",
            " 8   primary_cleaner.output.concentrate_ag               0 non-null      float64\n",
            " 9   primary_cleaner.output.concentrate_au               0 non-null      float64\n",
            " 10  primary_cleaner.output.concentrate_pb               0 non-null      float64\n",
            " 11  primary_cleaner.output.concentrate_sol              0 non-null      float64\n",
            " 12  primary_cleaner.output.tail_ag                      0 non-null      float64\n",
            " 13  primary_cleaner.output.tail_au                      0 non-null      float64\n",
            " 14  primary_cleaner.output.tail_pb                      0 non-null      float64\n",
            " 15  primary_cleaner.output.tail_sol                     0 non-null      float64\n",
            " 16  rougher.calculation.au_pb_ratio                     0 non-null      float64\n",
            " 17  rougher.calculation.floatbank10_sulfate_to_au_feed  0 non-null      float64\n",
            " 18  rougher.calculation.floatbank11_sulfate_to_au_feed  0 non-null      float64\n",
            " 19  rougher.calculation.sulfate_to_au_concentrate       0 non-null      float64\n",
            " 20  rougher.output.concentrate_ag                       0 non-null      float64\n",
            " 21  rougher.output.concentrate_au                       0 non-null      float64\n",
            " 22  rougher.output.concentrate_pb                       0 non-null      float64\n",
            " 23  rougher.output.concentrate_sol                      0 non-null      float64\n",
            " 24  rougher.output.tail_ag                              0 non-null      float64\n",
            " 25  rougher.output.tail_au                              0 non-null      float64\n",
            " 26  rougher.output.tail_pb                              0 non-null      float64\n",
            " 27  rougher.output.tail_sol                             0 non-null      float64\n",
            " 28  secondary_cleaner.output.tail_ag                    0 non-null      float64\n",
            " 29  secondary_cleaner.output.tail_au                    0 non-null      float64\n",
            " 30  secondary_cleaner.output.tail_pb                    0 non-null      float64\n",
            " 31  secondary_cleaner.output.tail_sol                   0 non-null      float64\n",
            "dtypes: float64(32)\n",
            "memory usage: 3.5 MB\n"
          ]
        }
      ],
      "source": [
        "columns_to_drop = data_train_new.loc[:,'final.output.concentrate_ag':'final.output.concentrate_au']+data_train_new.loc[:,'final.output.tail_ag':'final.output.tail_au']+data_train_new.loc[:,'primary_cleaner.output.concentrate_ag':'primary_cleaner.output.tail_au']+data_train_new.loc[:,'rougher.calculation.sulfate_to_au_concentrate':'rougher.calculation.au_pb_ratio']+data_train_new.loc[:,'rougher.output.concentrate_ag':'rougher.output.concentrate_au']+data_train_new.loc[:,'rougher.output.tail_ag':'rougher.output.tail_au']+data_train_new.loc[:,'secondary_cleaner.output.tail_ag':'secondary_cleaner.output.tail_au']\n",
        "columns_to_drop.info()"
      ]
    },
    {
      "cell_type": "markdown",
      "metadata": {
        "id": "wEQ63Ifk6ZHX"
      },
      "source": [
        "**Результат** составлен список столбцов для удаления из data_train_new"
      ]
    },
    {
      "cell_type": "markdown",
      "metadata": {
        "id": "hpGhGE346ZHX"
      },
      "source": [
        "Анализ показателей в обучающей выборке."
      ]
    },
    {
      "cell_type": "code",
      "execution_count": null,
      "metadata": {
        "id": "vE5NRN-Q6ZHX",
        "outputId": "3f6806dc-3606-452b-c9d4-4da1b05f4eaf"
      },
      "outputs": [
        {
          "data": {
            "image/png": "[encoded data removed]",
            "text/plain": [
              "<Figure size 720x504 with 1 Axes>"
            ]
          },
          "metadata": {
            "needs_background": "light"
          },
          "output_type": "display_data"
        }
      ],
      "source": [
        "plt.figure(figsize=[10,7])\n",
        "\n",
        "plt.hist(data_train_new['rougher.output.recovery'], bins=100)\n",
        "\n",
        "plt.xlim([0, 100])\n",
        "plt.ylim([0, 1000])\n",
        "\n",
        "plt.xlabel(\"эффективность обогащения чернового концентрата \")\n",
        "plt.ylabel(\"количество результатов\")\n",
        "\n",
        "plt.title(\"эффективность обогащения ('rougher.output.recovery')\")\n",
        "plt.show()"
      ]
    },
    {
      "cell_type": "markdown",
      "metadata": {
        "id": "wxzmDsEt6ZHY"
      },
      "source": [
        "По гистограмме видно, что в столбце rougher.output.recovery много нулевых значений, рассмотрим их подробнее."
      ]
    },
    {
      "cell_type": "code",
      "execution_count": null,
      "metadata": {
        "id": "u071NMMC6ZHY",
        "outputId": "4a992ccf-a674-4e6e-fd35-cf8d90d69bd0"
      },
      "outputs": [
        {
          "name": "stdout",
          "output_type": "stream",
          "text": [
            "количество нулевых значений в данных rougher.output.recovery 297\n"
          ]
        },
        {
          "data": {
            "text/html": [
              "<div>\n",
              "<style scoped>\n",
              "    .dataframe tbody tr th:only-of-type {\n",
              "        vertical-align: middle;\n",
              "    }\n",
              "\n",
              "    .dataframe tbody tr th {\n",
              "        vertical-align: top;\n",
              "    }\n",
              "\n",
              "    .dataframe thead th {\n",
              "        text-align: right;\n",
              "    }\n",
              "</style>\n",
              "<table border=\"1\" class=\"dataframe\">\n",
              "  <thead>\n",
              "    <tr style=\"text-align: right;\">\n",
              "      <th></th>\n",
              "      <th>final.output.concentrate_ag</th>\n",
              "      <th>final.output.concentrate_pb</th>\n",
              "      <th>final.output.concentrate_sol</th>\n",
              "      <th>final.output.concentrate_au</th>\n",
              "      <th>final.output.recovery</th>\n",
              "      <th>final.output.tail_ag</th>\n",
              "      <th>final.output.tail_pb</th>\n",
              "      <th>final.output.tail_sol</th>\n",
              "      <th>final.output.tail_au</th>\n",
              "      <th>primary_cleaner.input.sulfate</th>\n",
              "      <th>...</th>\n",
              "      <th>secondary_cleaner.state.floatbank4_a_air</th>\n",
              "      <th>secondary_cleaner.state.floatbank4_a_level</th>\n",
              "      <th>secondary_cleaner.state.floatbank4_b_air</th>\n",
              "      <th>secondary_cleaner.state.floatbank4_b_level</th>\n",
              "      <th>secondary_cleaner.state.floatbank5_a_air</th>\n",
              "      <th>secondary_cleaner.state.floatbank5_a_level</th>\n",
              "      <th>secondary_cleaner.state.floatbank5_b_air</th>\n",
              "      <th>secondary_cleaner.state.floatbank5_b_level</th>\n",
              "      <th>secondary_cleaner.state.floatbank6_a_air</th>\n",
              "      <th>secondary_cleaner.state.floatbank6_a_level</th>\n",
              "    </tr>\n",
              "  </thead>\n",
              "  <tbody>\n",
              "    <tr>\n",
              "      <th>45</th>\n",
              "      <td>4.566664</td>\n",
              "      <td>10.406178</td>\n",
              "      <td>4.588698</td>\n",
              "      <td>46.614456</td>\n",
              "      <td>68.403877</td>\n",
              "      <td>10.705777</td>\n",
              "      <td>1.509070</td>\n",
              "      <td>17.875134</td>\n",
              "      <td>2.509776</td>\n",
              "      <td>131.251366</td>\n",
              "      <td>...</td>\n",
              "      <td>14.025588</td>\n",
              "      <td>-550.404242</td>\n",
              "      <td>12.028925</td>\n",
              "      <td>-550.570104</td>\n",
              "      <td>10.052072</td>\n",
              "      <td>-500.797905</td>\n",
              "      <td>7.984500</td>\n",
              "      <td>-499.581046</td>\n",
              "      <td>11.982025</td>\n",
              "      <td>-599.161228</td>\n",
              "    </tr>\n",
              "    <tr>\n",
              "      <th>46</th>\n",
              "      <td>4.577832</td>\n",
              "      <td>10.691605</td>\n",
              "      <td>5.274175</td>\n",
              "      <td>46.250638</td>\n",
              "      <td>70.675633</td>\n",
              "      <td>10.728531</td>\n",
              "      <td>1.641216</td>\n",
              "      <td>18.349339</td>\n",
              "      <td>2.540843</td>\n",
              "      <td>141.184039</td>\n",
              "      <td>...</td>\n",
              "      <td>14.094808</td>\n",
              "      <td>-550.676337</td>\n",
              "      <td>12.004728</td>\n",
              "      <td>-550.496522</td>\n",
              "      <td>9.953139</td>\n",
              "      <td>-500.330920</td>\n",
              "      <td>8.012074</td>\n",
              "      <td>-500.133530</td>\n",
              "      <td>11.975316</td>\n",
              "      <td>-598.839683</td>\n",
              "    </tr>\n",
              "    <tr>\n",
              "      <th>47</th>\n",
              "      <td>4.591462</td>\n",
              "      <td>10.628846</td>\n",
              "      <td>5.688961</td>\n",
              "      <td>46.663335</td>\n",
              "      <td>55.088448</td>\n",
              "      <td>10.694584</td>\n",
              "      <td>1.671644</td>\n",
              "      <td>17.910312</td>\n",
              "      <td>2.686782</td>\n",
              "      <td>126.397495</td>\n",
              "      <td>...</td>\n",
              "      <td>13.997488</td>\n",
              "      <td>-551.224653</td>\n",
              "      <td>11.971272</td>\n",
              "      <td>-550.095619</td>\n",
              "      <td>9.981163</td>\n",
              "      <td>-502.869109</td>\n",
              "      <td>7.941184</td>\n",
              "      <td>-500.623610</td>\n",
              "      <td>12.018837</td>\n",
              "      <td>-600.916665</td>\n",
              "    </tr>\n",
              "    <tr>\n",
              "      <th>48</th>\n",
              "      <td>5.296830</td>\n",
              "      <td>10.597469</td>\n",
              "      <td>9.202849</td>\n",
              "      <td>44.015642</td>\n",
              "      <td>41.962008</td>\n",
              "      <td>11.975654</td>\n",
              "      <td>1.846558</td>\n",
              "      <td>8.138408</td>\n",
              "      <td>2.889469</td>\n",
              "      <td>69.411904</td>\n",
              "      <td>...</td>\n",
              "      <td>14.006476</td>\n",
              "      <td>-549.388727</td>\n",
              "      <td>11.975967</td>\n",
              "      <td>-550.778624</td>\n",
              "      <td>9.989726</td>\n",
              "      <td>-499.607365</td>\n",
              "      <td>7.958252</td>\n",
              "      <td>-498.882560</td>\n",
              "      <td>11.967977</td>\n",
              "      <td>-599.440603</td>\n",
              "    </tr>\n",
              "    <tr>\n",
              "      <th>49</th>\n",
              "      <td>8.162896</td>\n",
              "      <td>8.877528</td>\n",
              "      <td>9.202849</td>\n",
              "      <td>40.715973</td>\n",
              "      <td>49.884856</td>\n",
              "      <td>10.381465</td>\n",
              "      <td>1.024030</td>\n",
              "      <td>12.974257</td>\n",
              "      <td>2.739224</td>\n",
              "      <td>116.517762</td>\n",
              "      <td>...</td>\n",
              "      <td>13.984906</td>\n",
              "      <td>-550.563329</td>\n",
              "      <td>11.999730</td>\n",
              "      <td>-550.549773</td>\n",
              "      <td>9.941869</td>\n",
              "      <td>-503.282068</td>\n",
              "      <td>8.018850</td>\n",
              "      <td>-500.970716</td>\n",
              "      <td>11.991078</td>\n",
              "      <td>-598.475929</td>\n",
              "    </tr>\n",
              "  </tbody>\n",
              "</table>\n",
              "<p>5 rows × 86 columns</p>\n",
              "</div>"
            ],
            "text/plain": [
              "    final.output.concentrate_ag  final.output.concentrate_pb  \\\n",
              "45                     4.566664                    10.406178   \n",
              "46                     4.577832                    10.691605   \n",
              "47                     4.591462                    10.628846   \n",
              "48                     5.296830                    10.597469   \n",
              "49                     8.162896                     8.877528   \n",
              "\n",
              "    final.output.concentrate_sol  final.output.concentrate_au  \\\n",
              "45                      4.588698                    46.614456   \n",
              "46                      5.274175                    46.250638   \n",
              "47                      5.688961                    46.663335   \n",
              "48                      9.202849                    44.015642   \n",
              "49                      9.202849                    40.715973   \n",
              "\n",
              "    final.output.recovery  final.output.tail_ag  final.output.tail_pb  \\\n",
              "45              68.403877             10.705777              1.509070   \n",
              "46              70.675633             10.728531              1.641216   \n",
              "47              55.088448             10.694584              1.671644   \n",
              "48              41.962008             11.975654              1.846558   \n",
              "49              49.884856             10.381465              1.024030   \n",
              "\n",
              "    final.output.tail_sol  final.output.tail_au  \\\n",
              "45              17.875134              2.509776   \n",
              "46              18.349339              2.540843   \n",
              "47              17.910312              2.686782   \n",
              "48               8.138408              2.889469   \n",
              "49              12.974257              2.739224   \n",
              "\n",
              "    primary_cleaner.input.sulfate  ...  \\\n",
              "45                     131.251366  ...   \n",
              "46                     141.184039  ...   \n",
              "47                     126.397495  ...   \n",
              "48                      69.411904  ...   \n",
              "49                     116.517762  ...   \n",
              "\n",
              "    secondary_cleaner.state.floatbank4_a_air  \\\n",
              "45                                 14.025588   \n",
              "46                                 14.094808   \n",
              "47                                 13.997488   \n",
              "48                                 14.006476   \n",
              "49                                 13.984906   \n",
              "\n",
              "    secondary_cleaner.state.floatbank4_a_level  \\\n",
              "45                                 -550.404242   \n",
              "46                                 -550.676337   \n",
              "47                                 -551.224653   \n",
              "48                                 -549.388727   \n",
              "49                                 -550.563329   \n",
              "\n",
              "    secondary_cleaner.state.floatbank4_b_air  \\\n",
              "45                                 12.028925   \n",
              "46                                 12.004728   \n",
              "47                                 11.971272   \n",
              "48                                 11.975967   \n",
              "49                                 11.999730   \n",
              "\n",
              "    secondary_cleaner.state.floatbank4_b_level  \\\n",
              "45                                 -550.570104   \n",
              "46                                 -550.496522   \n",
              "47                                 -550.095619   \n",
              "48                                 -550.778624   \n",
              "49                                 -550.549773   \n",
              "\n",
              "    secondary_cleaner.state.floatbank5_a_air  \\\n",
              "45                                 10.052072   \n",
              "46                                  9.953139   \n",
              "47                                  9.981163   \n",
              "48                                  9.989726   \n",
              "49                                  9.941869   \n",
              "\n",
              "    secondary_cleaner.state.floatbank5_a_level  \\\n",
              "45                                 -500.797905   \n",
              "46                                 -500.330920   \n",
              "47                                 -502.869109   \n",
              "48                                 -499.607365   \n",
              "49                                 -503.282068   \n",
              "\n",
              "    secondary_cleaner.state.floatbank5_b_air  \\\n",
              "45                                  7.984500   \n",
              "46                                  8.012074   \n",
              "47                                  7.941184   \n",
              "48                                  7.958252   \n",
              "49                                  8.018850   \n",
              "\n",
              "    secondary_cleaner.state.floatbank5_b_level  \\\n",
              "45                                 -499.581046   \n",
              "46                                 -500.133530   \n",
              "47                                 -500.623610   \n",
              "48                                 -498.882560   \n",
              "49                                 -500.970716   \n",
              "\n",
              "    secondary_cleaner.state.floatbank6_a_air  \\\n",
              "45                                 11.982025   \n",
              "46                                 11.975316   \n",
              "47                                 12.018837   \n",
              "48                                 11.967977   \n",
              "49                                 11.991078   \n",
              "\n",
              "    secondary_cleaner.state.floatbank6_a_level  \n",
              "45                                 -599.161228  \n",
              "46                                 -598.839683  \n",
              "47                                 -600.916665  \n",
              "48                                 -599.440603  \n",
              "49                                 -598.475929  \n",
              "\n",
              "[5 rows x 86 columns]"
            ]
          },
          "execution_count": 21,
          "metadata": {},
          "output_type": "execute_result"
        }
      ],
      "source": [
        "print('количество нулевых значений в данных rougher.output.recovery', data_train_new[data_train_new['rougher.output.recovery'] == 0]['rougher.output.recovery'].count())\n",
        "#print(data_train_new[data_train_new['rougher.output.recovery'] == 0].count())\n",
        "data_train_new[data_train_new['rougher.output.recovery'] == 0].head()\n"
      ]
    },
    {
      "cell_type": "code",
      "execution_count": null,
      "metadata": {
        "id": "Gh_SO6eL6ZHZ",
        "outputId": "ceefe12e-c630-47f8-dca2-c1d40a615f42"
      },
      "outputs": [
        {
          "name": "stdout",
          "output_type": "stream",
          "text": [
            "количество нулевых значений в данных rougher.output.concentrate_au 297\n"
          ]
        },
        {
          "data": {
            "text/html": [
              "<div>\n",
              "<style scoped>\n",
              "    .dataframe tbody tr th:only-of-type {\n",
              "        vertical-align: middle;\n",
              "    }\n",
              "\n",
              "    .dataframe tbody tr th {\n",
              "        vertical-align: top;\n",
              "    }\n",
              "\n",
              "    .dataframe thead th {\n",
              "        text-align: right;\n",
              "    }\n",
              "</style>\n",
              "<table border=\"1\" class=\"dataframe\">\n",
              "  <thead>\n",
              "    <tr style=\"text-align: right;\">\n",
              "      <th></th>\n",
              "      <th>final.output.concentrate_ag</th>\n",
              "      <th>final.output.concentrate_pb</th>\n",
              "      <th>final.output.concentrate_sol</th>\n",
              "      <th>final.output.concentrate_au</th>\n",
              "      <th>final.output.recovery</th>\n",
              "      <th>final.output.tail_ag</th>\n",
              "      <th>final.output.tail_pb</th>\n",
              "      <th>final.output.tail_sol</th>\n",
              "      <th>final.output.tail_au</th>\n",
              "      <th>primary_cleaner.input.sulfate</th>\n",
              "      <th>...</th>\n",
              "      <th>secondary_cleaner.state.floatbank4_a_air</th>\n",
              "      <th>secondary_cleaner.state.floatbank4_a_level</th>\n",
              "      <th>secondary_cleaner.state.floatbank4_b_air</th>\n",
              "      <th>secondary_cleaner.state.floatbank4_b_level</th>\n",
              "      <th>secondary_cleaner.state.floatbank5_a_air</th>\n",
              "      <th>secondary_cleaner.state.floatbank5_a_level</th>\n",
              "      <th>secondary_cleaner.state.floatbank5_b_air</th>\n",
              "      <th>secondary_cleaner.state.floatbank5_b_level</th>\n",
              "      <th>secondary_cleaner.state.floatbank6_a_air</th>\n",
              "      <th>secondary_cleaner.state.floatbank6_a_level</th>\n",
              "    </tr>\n",
              "  </thead>\n",
              "  <tbody>\n",
              "    <tr>\n",
              "      <th>45</th>\n",
              "      <td>4.566664</td>\n",
              "      <td>10.406178</td>\n",
              "      <td>4.588698</td>\n",
              "      <td>46.614456</td>\n",
              "      <td>68.403877</td>\n",
              "      <td>10.705777</td>\n",
              "      <td>1.509070</td>\n",
              "      <td>17.875134</td>\n",
              "      <td>2.509776</td>\n",
              "      <td>131.251366</td>\n",
              "      <td>...</td>\n",
              "      <td>14.025588</td>\n",
              "      <td>-550.404242</td>\n",
              "      <td>12.028925</td>\n",
              "      <td>-550.570104</td>\n",
              "      <td>10.052072</td>\n",
              "      <td>-500.797905</td>\n",
              "      <td>7.984500</td>\n",
              "      <td>-499.581046</td>\n",
              "      <td>11.982025</td>\n",
              "      <td>-599.161228</td>\n",
              "    </tr>\n",
              "    <tr>\n",
              "      <th>46</th>\n",
              "      <td>4.577832</td>\n",
              "      <td>10.691605</td>\n",
              "      <td>5.274175</td>\n",
              "      <td>46.250638</td>\n",
              "      <td>70.675633</td>\n",
              "      <td>10.728531</td>\n",
              "      <td>1.641216</td>\n",
              "      <td>18.349339</td>\n",
              "      <td>2.540843</td>\n",
              "      <td>141.184039</td>\n",
              "      <td>...</td>\n",
              "      <td>14.094808</td>\n",
              "      <td>-550.676337</td>\n",
              "      <td>12.004728</td>\n",
              "      <td>-550.496522</td>\n",
              "      <td>9.953139</td>\n",
              "      <td>-500.330920</td>\n",
              "      <td>8.012074</td>\n",
              "      <td>-500.133530</td>\n",
              "      <td>11.975316</td>\n",
              "      <td>-598.839683</td>\n",
              "    </tr>\n",
              "    <tr>\n",
              "      <th>47</th>\n",
              "      <td>4.591462</td>\n",
              "      <td>10.628846</td>\n",
              "      <td>5.688961</td>\n",
              "      <td>46.663335</td>\n",
              "      <td>55.088448</td>\n",
              "      <td>10.694584</td>\n",
              "      <td>1.671644</td>\n",
              "      <td>17.910312</td>\n",
              "      <td>2.686782</td>\n",
              "      <td>126.397495</td>\n",
              "      <td>...</td>\n",
              "      <td>13.997488</td>\n",
              "      <td>-551.224653</td>\n",
              "      <td>11.971272</td>\n",
              "      <td>-550.095619</td>\n",
              "      <td>9.981163</td>\n",
              "      <td>-502.869109</td>\n",
              "      <td>7.941184</td>\n",
              "      <td>-500.623610</td>\n",
              "      <td>12.018837</td>\n",
              "      <td>-600.916665</td>\n",
              "    </tr>\n",
              "    <tr>\n",
              "      <th>48</th>\n",
              "      <td>5.296830</td>\n",
              "      <td>10.597469</td>\n",
              "      <td>9.202849</td>\n",
              "      <td>44.015642</td>\n",
              "      <td>41.962008</td>\n",
              "      <td>11.975654</td>\n",
              "      <td>1.846558</td>\n",
              "      <td>8.138408</td>\n",
              "      <td>2.889469</td>\n",
              "      <td>69.411904</td>\n",
              "      <td>...</td>\n",
              "      <td>14.006476</td>\n",
              "      <td>-549.388727</td>\n",
              "      <td>11.975967</td>\n",
              "      <td>-550.778624</td>\n",
              "      <td>9.989726</td>\n",
              "      <td>-499.607365</td>\n",
              "      <td>7.958252</td>\n",
              "      <td>-498.882560</td>\n",
              "      <td>11.967977</td>\n",
              "      <td>-599.440603</td>\n",
              "    </tr>\n",
              "    <tr>\n",
              "      <th>49</th>\n",
              "      <td>8.162896</td>\n",
              "      <td>8.877528</td>\n",
              "      <td>9.202849</td>\n",
              "      <td>40.715973</td>\n",
              "      <td>49.884856</td>\n",
              "      <td>10.381465</td>\n",
              "      <td>1.024030</td>\n",
              "      <td>12.974257</td>\n",
              "      <td>2.739224</td>\n",
              "      <td>116.517762</td>\n",
              "      <td>...</td>\n",
              "      <td>13.984906</td>\n",
              "      <td>-550.563329</td>\n",
              "      <td>11.999730</td>\n",
              "      <td>-550.549773</td>\n",
              "      <td>9.941869</td>\n",
              "      <td>-503.282068</td>\n",
              "      <td>8.018850</td>\n",
              "      <td>-500.970716</td>\n",
              "      <td>11.991078</td>\n",
              "      <td>-598.475929</td>\n",
              "    </tr>\n",
              "  </tbody>\n",
              "</table>\n",
              "<p>5 rows × 86 columns</p>\n",
              "</div>"
            ],
            "text/plain": [
              "    final.output.concentrate_ag  final.output.concentrate_pb  \\\n",
              "45                     4.566664                    10.406178   \n",
              "46                     4.577832                    10.691605   \n",
              "47                     4.591462                    10.628846   \n",
              "48                     5.296830                    10.597469   \n",
              "49                     8.162896                     8.877528   \n",
              "\n",
              "    final.output.concentrate_sol  final.output.concentrate_au  \\\n",
              "45                      4.588698                    46.614456   \n",
              "46                      5.274175                    46.250638   \n",
              "47                      5.688961                    46.663335   \n",
              "48                      9.202849                    44.015642   \n",
              "49                      9.202849                    40.715973   \n",
              "\n",
              "    final.output.recovery  final.output.tail_ag  final.output.tail_pb  \\\n",
              "45              68.403877             10.705777              1.509070   \n",
              "46              70.675633             10.728531              1.641216   \n",
              "47              55.088448             10.694584              1.671644   \n",
              "48              41.962008             11.975654              1.846558   \n",
              "49              49.884856             10.381465              1.024030   \n",
              "\n",
              "    final.output.tail_sol  final.output.tail_au  \\\n",
              "45              17.875134              2.509776   \n",
              "46              18.349339              2.540843   \n",
              "47              17.910312              2.686782   \n",
              "48               8.138408              2.889469   \n",
              "49              12.974257              2.739224   \n",
              "\n",
              "    primary_cleaner.input.sulfate  ...  \\\n",
              "45                     131.251366  ...   \n",
              "46                     141.184039  ...   \n",
              "47                     126.397495  ...   \n",
              "48                      69.411904  ...   \n",
              "49                     116.517762  ...   \n",
              "\n",
              "    secondary_cleaner.state.floatbank4_a_air  \\\n",
              "45                                 14.025588   \n",
              "46                                 14.094808   \n",
              "47                                 13.997488   \n",
              "48                                 14.006476   \n",
              "49                                 13.984906   \n",
              "\n",
              "    secondary_cleaner.state.floatbank4_a_level  \\\n",
              "45                                 -550.404242   \n",
              "46                                 -550.676337   \n",
              "47                                 -551.224653   \n",
              "48                                 -549.388727   \n",
              "49                                 -550.563329   \n",
              "\n",
              "    secondary_cleaner.state.floatbank4_b_air  \\\n",
              "45                                 12.028925   \n",
              "46                                 12.004728   \n",
              "47                                 11.971272   \n",
              "48                                 11.975967   \n",
              "49                                 11.999730   \n",
              "\n",
              "    secondary_cleaner.state.floatbank4_b_level  \\\n",
              "45                                 -550.570104   \n",
              "46                                 -550.496522   \n",
              "47                                 -550.095619   \n",
              "48                                 -550.778624   \n",
              "49                                 -550.549773   \n",
              "\n",
              "    secondary_cleaner.state.floatbank5_a_air  \\\n",
              "45                                 10.052072   \n",
              "46                                  9.953139   \n",
              "47                                  9.981163   \n",
              "48                                  9.989726   \n",
              "49                                  9.941869   \n",
              "\n",
              "    secondary_cleaner.state.floatbank5_a_level  \\\n",
              "45                                 -500.797905   \n",
              "46                                 -500.330920   \n",
              "47                                 -502.869109   \n",
              "48                                 -499.607365   \n",
              "49                                 -503.282068   \n",
              "\n",
              "    secondary_cleaner.state.floatbank5_b_air  \\\n",
              "45                                  7.984500   \n",
              "46                                  8.012074   \n",
              "47                                  7.941184   \n",
              "48                                  7.958252   \n",
              "49                                  8.018850   \n",
              "\n",
              "    secondary_cleaner.state.floatbank5_b_level  \\\n",
              "45                                 -499.581046   \n",
              "46                                 -500.133530   \n",
              "47                                 -500.623610   \n",
              "48                                 -498.882560   \n",
              "49                                 -500.970716   \n",
              "\n",
              "    secondary_cleaner.state.floatbank6_a_air  \\\n",
              "45                                 11.982025   \n",
              "46                                 11.975316   \n",
              "47                                 12.018837   \n",
              "48                                 11.967977   \n",
              "49                                 11.991078   \n",
              "\n",
              "    secondary_cleaner.state.floatbank6_a_level  \n",
              "45                                 -599.161228  \n",
              "46                                 -598.839683  \n",
              "47                                 -600.916665  \n",
              "48                                 -599.440603  \n",
              "49                                 -598.475929  \n",
              "\n",
              "[5 rows x 86 columns]"
            ]
          },
          "execution_count": 22,
          "metadata": {},
          "output_type": "execute_result"
        }
      ],
      "source": [
        "print('количество нулевых значений в данных rougher.output.concentrate_au', data_train_new[data_train_new['rougher.output.concentrate_au'] == 0]['rougher.output.concentrate_au'].count())\n",
        "#print(data_train_new[data_train_new['rougher.output.concentrate_au'] == 0].count())\n",
        "data_train_new[data_train_new['rougher.output.concentrate_au'] == 0].head()"
      ]
    },
    {
      "cell_type": "code",
      "execution_count": null,
      "metadata": {
        "id": "UYctV1uo6ZHZ",
        "outputId": "a8fe6c96-e516-4f3a-905d-a7fdf361823a"
      },
      "outputs": [
        {
          "data": {
            "text/html": [
              "<div>\n",
              "<style scoped>\n",
              "    .dataframe tbody tr th:only-of-type {\n",
              "        vertical-align: middle;\n",
              "    }\n",
              "\n",
              "    .dataframe tbody tr th {\n",
              "        vertical-align: top;\n",
              "    }\n",
              "\n",
              "    .dataframe thead th {\n",
              "        text-align: right;\n",
              "    }\n",
              "</style>\n",
              "<table border=\"1\" class=\"dataframe\">\n",
              "  <thead>\n",
              "    <tr style=\"text-align: right;\">\n",
              "      <th></th>\n",
              "      <th>final.output.concentrate_ag</th>\n",
              "      <th>final.output.concentrate_pb</th>\n",
              "      <th>final.output.concentrate_sol</th>\n",
              "      <th>final.output.concentrate_au</th>\n",
              "      <th>final.output.recovery</th>\n",
              "      <th>final.output.tail_ag</th>\n",
              "      <th>final.output.tail_pb</th>\n",
              "      <th>final.output.tail_sol</th>\n",
              "      <th>final.output.tail_au</th>\n",
              "      <th>primary_cleaner.input.sulfate</th>\n",
              "      <th>...</th>\n",
              "      <th>secondary_cleaner.state.floatbank4_a_air</th>\n",
              "      <th>secondary_cleaner.state.floatbank4_a_level</th>\n",
              "      <th>secondary_cleaner.state.floatbank4_b_air</th>\n",
              "      <th>secondary_cleaner.state.floatbank4_b_level</th>\n",
              "      <th>secondary_cleaner.state.floatbank5_a_air</th>\n",
              "      <th>secondary_cleaner.state.floatbank5_a_level</th>\n",
              "      <th>secondary_cleaner.state.floatbank5_b_air</th>\n",
              "      <th>secondary_cleaner.state.floatbank5_b_level</th>\n",
              "      <th>secondary_cleaner.state.floatbank6_a_air</th>\n",
              "      <th>secondary_cleaner.state.floatbank6_a_level</th>\n",
              "    </tr>\n",
              "  </thead>\n",
              "  <tbody>\n",
              "  </tbody>\n",
              "</table>\n",
              "<p>0 rows × 86 columns</p>\n",
              "</div>"
            ],
            "text/plain": [
              "Empty DataFrame\n",
              "Columns: [final.output.concentrate_ag, final.output.concentrate_pb, final.output.concentrate_sol, final.output.concentrate_au, final.output.recovery, final.output.tail_ag, final.output.tail_pb, final.output.tail_sol, final.output.tail_au, primary_cleaner.input.sulfate, primary_cleaner.input.depressant, primary_cleaner.input.feed_size, primary_cleaner.input.xanthate, primary_cleaner.output.concentrate_ag, primary_cleaner.output.concentrate_pb, primary_cleaner.output.concentrate_sol, primary_cleaner.output.concentrate_au, primary_cleaner.output.tail_ag, primary_cleaner.output.tail_pb, primary_cleaner.output.tail_sol, primary_cleaner.output.tail_au, primary_cleaner.state.floatbank8_a_air, primary_cleaner.state.floatbank8_a_level, primary_cleaner.state.floatbank8_b_air, primary_cleaner.state.floatbank8_b_level, primary_cleaner.state.floatbank8_c_air, primary_cleaner.state.floatbank8_c_level, primary_cleaner.state.floatbank8_d_air, primary_cleaner.state.floatbank8_d_level, rougher.calculation.sulfate_to_au_concentrate, rougher.calculation.floatbank10_sulfate_to_au_feed, rougher.calculation.floatbank11_sulfate_to_au_feed, rougher.calculation.au_pb_ratio, rougher.input.feed_ag, rougher.input.feed_pb, rougher.input.feed_rate, rougher.input.feed_size, rougher.input.feed_sol, rougher.input.feed_au, rougher.input.floatbank10_sulfate, rougher.input.floatbank10_xanthate, rougher.input.floatbank11_sulfate, rougher.input.floatbank11_xanthate, rougher.output.concentrate_ag, rougher.output.concentrate_pb, rougher.output.concentrate_sol, rougher.output.concentrate_au, rougher.output.recovery, rougher.output.tail_ag, rougher.output.tail_pb, rougher.output.tail_sol, rougher.output.tail_au, rougher.state.floatbank10_a_air, rougher.state.floatbank10_a_level, rougher.state.floatbank10_b_air, rougher.state.floatbank10_b_level, rougher.state.floatbank10_c_air, rougher.state.floatbank10_c_level, rougher.state.floatbank10_d_air, rougher.state.floatbank10_d_level, rougher.state.floatbank10_e_air, rougher.state.floatbank10_e_level, rougher.state.floatbank10_f_air, rougher.state.floatbank10_f_level, secondary_cleaner.output.tail_ag, secondary_cleaner.output.tail_pb, secondary_cleaner.output.tail_sol, secondary_cleaner.output.tail_au, secondary_cleaner.state.floatbank2_a_air, secondary_cleaner.state.floatbank2_a_level, secondary_cleaner.state.floatbank2_b_air, secondary_cleaner.state.floatbank2_b_level, secondary_cleaner.state.floatbank3_a_air, secondary_cleaner.state.floatbank3_a_level, secondary_cleaner.state.floatbank3_b_air, secondary_cleaner.state.floatbank3_b_level, secondary_cleaner.state.floatbank4_a_air, secondary_cleaner.state.floatbank4_a_level, secondary_cleaner.state.floatbank4_b_air, secondary_cleaner.state.floatbank4_b_level, secondary_cleaner.state.floatbank5_a_air, secondary_cleaner.state.floatbank5_a_level, secondary_cleaner.state.floatbank5_b_air, secondary_cleaner.state.floatbank5_b_level, secondary_cleaner.state.floatbank6_a_air, secondary_cleaner.state.floatbank6_a_level]\n",
              "Index: []\n",
              "\n",
              "[0 rows x 86 columns]"
            ]
          },
          "execution_count": 23,
          "metadata": {},
          "output_type": "execute_result"
        }
      ],
      "source": [
        "data_train_new = data_train_new.drop(data_train_new[data_train_new['rougher.output.recovery'] == 0].index)\n",
        "data_train_new[data_train_new['rougher.output.recovery'] == 0].head()\n",
        "data_train_new[data_train_new['rougher.output.concentrate_au'] == 0].head()"
      ]
    },
    {
      "cell_type": "markdown",
      "metadata": {
        "id": "wwG5t1s26ZHZ"
      },
      "source": [
        "**Результат** удалены 297 строк с нулевым значением 'rougher.output.recovery'"
      ]
    },
    {
      "cell_type": "code",
      "execution_count": null,
      "metadata": {
        "id": "KpDdWej66ZHZ",
        "outputId": "575031d6-bcc3-4edf-91fc-2b8903bca9db"
      },
      "outputs": [
        {
          "data": {
            "image/png": "[encoded data removed]",
            "text/plain": [
              "<Figure size 720x504 with 1 Axes>"
            ]
          },
          "metadata": {
            "needs_background": "light"
          },
          "output_type": "display_data"
        }
      ],
      "source": [
        "plt.figure(figsize=[10,7])\n",
        "\n",
        "plt.hist(data_train_new['final.output.recovery'], bins=100)\n",
        "\n",
        "plt.xlim([0, 100])\n",
        "plt.ylim([0, 1000])\n",
        "\n",
        "plt.xlabel(\"эффективность обогащения финального концентрата \")\n",
        "plt.ylabel(\"количество результатов\")\n",
        "\n",
        "plt.title(\"финальная эффективность обогащения ('final.output.recovery')\")\n",
        "plt.show()"
      ]
    },
    {
      "cell_type": "markdown",
      "metadata": {
        "id": "hvwK2-DB6ZHa"
      },
      "source": [
        "Концентрация веществ на этапах обработки по данным в data_train_new"
      ]
    },
    {
      "cell_type": "code",
      "execution_count": null,
      "metadata": {
        "id": "ay3X7WGE6ZHa",
        "outputId": "c042ad3f-f820-41ad-d866-851bfef5c7a7"
      },
      "outputs": [
        {
          "name": "stdout",
          "output_type": "stream",
          "text": [
            "количество нулевых значений в данных final.output.recovery 57\n"
          ]
        },
        {
          "data": {
            "text/html": [
              "<div>\n",
              "<style scoped>\n",
              "    .dataframe tbody tr th:only-of-type {\n",
              "        vertical-align: middle;\n",
              "    }\n",
              "\n",
              "    .dataframe tbody tr th {\n",
              "        vertical-align: top;\n",
              "    }\n",
              "\n",
              "    .dataframe thead th {\n",
              "        text-align: right;\n",
              "    }\n",
              "</style>\n",
              "<table border=\"1\" class=\"dataframe\">\n",
              "  <thead>\n",
              "    <tr style=\"text-align: right;\">\n",
              "      <th></th>\n",
              "      <th>final.output.concentrate_ag</th>\n",
              "      <th>final.output.concentrate_pb</th>\n",
              "      <th>final.output.concentrate_sol</th>\n",
              "      <th>final.output.concentrate_au</th>\n",
              "      <th>final.output.recovery</th>\n",
              "      <th>final.output.tail_ag</th>\n",
              "      <th>final.output.tail_pb</th>\n",
              "      <th>final.output.tail_sol</th>\n",
              "      <th>final.output.tail_au</th>\n",
              "      <th>primary_cleaner.input.sulfate</th>\n",
              "      <th>...</th>\n",
              "      <th>secondary_cleaner.state.floatbank4_a_air</th>\n",
              "      <th>secondary_cleaner.state.floatbank4_a_level</th>\n",
              "      <th>secondary_cleaner.state.floatbank4_b_air</th>\n",
              "      <th>secondary_cleaner.state.floatbank4_b_level</th>\n",
              "      <th>secondary_cleaner.state.floatbank5_a_air</th>\n",
              "      <th>secondary_cleaner.state.floatbank5_a_level</th>\n",
              "      <th>secondary_cleaner.state.floatbank5_b_air</th>\n",
              "      <th>secondary_cleaner.state.floatbank5_b_level</th>\n",
              "      <th>secondary_cleaner.state.floatbank6_a_air</th>\n",
              "      <th>secondary_cleaner.state.floatbank6_a_level</th>\n",
              "    </tr>\n",
              "  </thead>\n",
              "  <tbody>\n",
              "    <tr>\n",
              "      <th>644</th>\n",
              "      <td>0.0</td>\n",
              "      <td>0.0</td>\n",
              "      <td>0.0</td>\n",
              "      <td>0.0</td>\n",
              "      <td>0.0</td>\n",
              "      <td>8.894029</td>\n",
              "      <td>0.843584</td>\n",
              "      <td>15.417342</td>\n",
              "      <td>1.779052</td>\n",
              "      <td>133.610147</td>\n",
              "      <td>...</td>\n",
              "      <td>21.991762</td>\n",
              "      <td>-399.587122</td>\n",
              "      <td>21.988937</td>\n",
              "      <td>-401.366408</td>\n",
              "      <td>22.995012</td>\n",
              "      <td>-399.370680</td>\n",
              "      <td>20.966863</td>\n",
              "      <td>-399.308354</td>\n",
              "      <td>24.987274</td>\n",
              "      <td>-399.619808</td>\n",
              "    </tr>\n",
              "    <tr>\n",
              "      <th>1193</th>\n",
              "      <td>0.0</td>\n",
              "      <td>0.0</td>\n",
              "      <td>0.0</td>\n",
              "      <td>0.0</td>\n",
              "      <td>0.0</td>\n",
              "      <td>10.817313</td>\n",
              "      <td>1.462800</td>\n",
              "      <td>16.407607</td>\n",
              "      <td>2.984504</td>\n",
              "      <td>111.502432</td>\n",
              "      <td>...</td>\n",
              "      <td>11.979352</td>\n",
              "      <td>-453.431061</td>\n",
              "      <td>12.003445</td>\n",
              "      <td>-450.179844</td>\n",
              "      <td>11.982937</td>\n",
              "      <td>-449.856468</td>\n",
              "      <td>9.927727</td>\n",
              "      <td>-450.521700</td>\n",
              "      <td>19.971682</td>\n",
              "      <td>-500.685521</td>\n",
              "    </tr>\n",
              "    <tr>\n",
              "      <th>1194</th>\n",
              "      <td>0.0</td>\n",
              "      <td>0.0</td>\n",
              "      <td>0.0</td>\n",
              "      <td>0.0</td>\n",
              "      <td>0.0</td>\n",
              "      <td>10.436792</td>\n",
              "      <td>1.207636</td>\n",
              "      <td>17.800392</td>\n",
              "      <td>2.747294</td>\n",
              "      <td>110.586754</td>\n",
              "      <td>...</td>\n",
              "      <td>12.034636</td>\n",
              "      <td>-446.590944</td>\n",
              "      <td>12.130405</td>\n",
              "      <td>-449.684812</td>\n",
              "      <td>11.844983</td>\n",
              "      <td>-450.881424</td>\n",
              "      <td>9.916784</td>\n",
              "      <td>-449.542871</td>\n",
              "      <td>20.004767</td>\n",
              "      <td>-500.137068</td>\n",
              "    </tr>\n",
              "    <tr>\n",
              "      <th>1195</th>\n",
              "      <td>0.0</td>\n",
              "      <td>0.0</td>\n",
              "      <td>0.0</td>\n",
              "      <td>0.0</td>\n",
              "      <td>0.0</td>\n",
              "      <td>10.637073</td>\n",
              "      <td>1.405778</td>\n",
              "      <td>17.195897</td>\n",
              "      <td>2.791440</td>\n",
              "      <td>104.202288</td>\n",
              "      <td>...</td>\n",
              "      <td>12.016716</td>\n",
              "      <td>-496.613149</td>\n",
              "      <td>12.055535</td>\n",
              "      <td>-496.908551</td>\n",
              "      <td>12.091144</td>\n",
              "      <td>-496.404140</td>\n",
              "      <td>9.976074</td>\n",
              "      <td>-496.783155</td>\n",
              "      <td>19.921634</td>\n",
              "      <td>-500.769011</td>\n",
              "    </tr>\n",
              "    <tr>\n",
              "      <th>1196</th>\n",
              "      <td>0.0</td>\n",
              "      <td>0.0</td>\n",
              "      <td>0.0</td>\n",
              "      <td>0.0</td>\n",
              "      <td>0.0</td>\n",
              "      <td>10.530320</td>\n",
              "      <td>1.461550</td>\n",
              "      <td>17.556860</td>\n",
              "      <td>2.682127</td>\n",
              "      <td>102.438023</td>\n",
              "      <td>...</td>\n",
              "      <td>11.993898</td>\n",
              "      <td>-500.427824</td>\n",
              "      <td>12.083824</td>\n",
              "      <td>-500.162537</td>\n",
              "      <td>12.078809</td>\n",
              "      <td>-499.903743</td>\n",
              "      <td>10.075259</td>\n",
              "      <td>-499.540325</td>\n",
              "      <td>20.039788</td>\n",
              "      <td>-499.932405</td>\n",
              "    </tr>\n",
              "  </tbody>\n",
              "</table>\n",
              "<p>5 rows × 86 columns</p>\n",
              "</div>"
            ],
            "text/plain": [
              "      final.output.concentrate_ag  final.output.concentrate_pb  \\\n",
              "644                           0.0                          0.0   \n",
              "1193                          0.0                          0.0   \n",
              "1194                          0.0                          0.0   \n",
              "1195                          0.0                          0.0   \n",
              "1196                          0.0                          0.0   \n",
              "\n",
              "      final.output.concentrate_sol  final.output.concentrate_au  \\\n",
              "644                            0.0                          0.0   \n",
              "1193                           0.0                          0.0   \n",
              "1194                           0.0                          0.0   \n",
              "1195                           0.0                          0.0   \n",
              "1196                           0.0                          0.0   \n",
              "\n",
              "      final.output.recovery  final.output.tail_ag  final.output.tail_pb  \\\n",
              "644                     0.0              8.894029              0.843584   \n",
              "1193                    0.0             10.817313              1.462800   \n",
              "1194                    0.0             10.436792              1.207636   \n",
              "1195                    0.0             10.637073              1.405778   \n",
              "1196                    0.0             10.530320              1.461550   \n",
              "\n",
              "      final.output.tail_sol  final.output.tail_au  \\\n",
              "644               15.417342              1.779052   \n",
              "1193              16.407607              2.984504   \n",
              "1194              17.800392              2.747294   \n",
              "1195              17.195897              2.791440   \n",
              "1196              17.556860              2.682127   \n",
              "\n",
              "      primary_cleaner.input.sulfate  ...  \\\n",
              "644                      133.610147  ...   \n",
              "1193                     111.502432  ...   \n",
              "1194                     110.586754  ...   \n",
              "1195                     104.202288  ...   \n",
              "1196                     102.438023  ...   \n",
              "\n",
              "      secondary_cleaner.state.floatbank4_a_air  \\\n",
              "644                                  21.991762   \n",
              "1193                                 11.979352   \n",
              "1194                                 12.034636   \n",
              "1195                                 12.016716   \n",
              "1196                                 11.993898   \n",
              "\n",
              "      secondary_cleaner.state.floatbank4_a_level  \\\n",
              "644                                  -399.587122   \n",
              "1193                                 -453.431061   \n",
              "1194                                 -446.590944   \n",
              "1195                                 -496.613149   \n",
              "1196                                 -500.427824   \n",
              "\n",
              "      secondary_cleaner.state.floatbank4_b_air  \\\n",
              "644                                  21.988937   \n",
              "1193                                 12.003445   \n",
              "1194                                 12.130405   \n",
              "1195                                 12.055535   \n",
              "1196                                 12.083824   \n",
              "\n",
              "      secondary_cleaner.state.floatbank4_b_level  \\\n",
              "644                                  -401.366408   \n",
              "1193                                 -450.179844   \n",
              "1194                                 -449.684812   \n",
              "1195                                 -496.908551   \n",
              "1196                                 -500.162537   \n",
              "\n",
              "      secondary_cleaner.state.floatbank5_a_air  \\\n",
              "644                                  22.995012   \n",
              "1193                                 11.982937   \n",
              "1194                                 11.844983   \n",
              "1195                                 12.091144   \n",
              "1196                                 12.078809   \n",
              "\n",
              "      secondary_cleaner.state.floatbank5_a_level  \\\n",
              "644                                  -399.370680   \n",
              "1193                                 -449.856468   \n",
              "1194                                 -450.881424   \n",
              "1195                                 -496.404140   \n",
              "1196                                 -499.903743   \n",
              "\n",
              "      secondary_cleaner.state.floatbank5_b_air  \\\n",
              "644                                  20.966863   \n",
              "1193                                  9.927727   \n",
              "1194                                  9.916784   \n",
              "1195                                  9.976074   \n",
              "1196                                 10.075259   \n",
              "\n",
              "      secondary_cleaner.state.floatbank5_b_level  \\\n",
              "644                                  -399.308354   \n",
              "1193                                 -450.521700   \n",
              "1194                                 -449.542871   \n",
              "1195                                 -496.783155   \n",
              "1196                                 -499.540325   \n",
              "\n",
              "      secondary_cleaner.state.floatbank6_a_air  \\\n",
              "644                                  24.987274   \n",
              "1193                                 19.971682   \n",
              "1194                                 20.004767   \n",
              "1195                                 19.921634   \n",
              "1196                                 20.039788   \n",
              "\n",
              "      secondary_cleaner.state.floatbank6_a_level  \n",
              "644                                  -399.619808  \n",
              "1193                                 -500.685521  \n",
              "1194                                 -500.137068  \n",
              "1195                                 -500.769011  \n",
              "1196                                 -499.932405  \n",
              "\n",
              "[5 rows x 86 columns]"
            ]
          },
          "execution_count": 25,
          "metadata": {},
          "output_type": "execute_result"
        }
      ],
      "source": [
        "print('количество нулевых значений в данных final.output.recovery', data_train_new[data_train_new['final.output.recovery'] == 0]['final.output.recovery'].count())\n",
        "#data_train_new[data_train_new['final.output.recovery'] == 0]['final.output.recovery'].count()\n",
        "#print(data_train_new[data_train_new['final.output.recovery'] == 0].count())\n",
        "\n",
        "data_train_new[data_train_new['final.output.recovery'] == 0].head()"
      ]
    },
    {
      "cell_type": "code",
      "execution_count": null,
      "metadata": {
        "id": "JJniX_K_6ZHa",
        "outputId": "0b42a0b4-fa65-4b80-8f96-1275b3724073"
      },
      "outputs": [
        {
          "data": {
            "text/html": [
              "<div>\n",
              "<style scoped>\n",
              "    .dataframe tbody tr th:only-of-type {\n",
              "        vertical-align: middle;\n",
              "    }\n",
              "\n",
              "    .dataframe tbody tr th {\n",
              "        vertical-align: top;\n",
              "    }\n",
              "\n",
              "    .dataframe thead th {\n",
              "        text-align: right;\n",
              "    }\n",
              "</style>\n",
              "<table border=\"1\" class=\"dataframe\">\n",
              "  <thead>\n",
              "    <tr style=\"text-align: right;\">\n",
              "      <th></th>\n",
              "      <th>final.output.concentrate_ag</th>\n",
              "      <th>final.output.concentrate_pb</th>\n",
              "      <th>final.output.concentrate_sol</th>\n",
              "      <th>final.output.concentrate_au</th>\n",
              "      <th>final.output.recovery</th>\n",
              "      <th>final.output.tail_ag</th>\n",
              "      <th>final.output.tail_pb</th>\n",
              "      <th>final.output.tail_sol</th>\n",
              "      <th>final.output.tail_au</th>\n",
              "      <th>primary_cleaner.input.sulfate</th>\n",
              "      <th>...</th>\n",
              "      <th>secondary_cleaner.state.floatbank4_a_air</th>\n",
              "      <th>secondary_cleaner.state.floatbank4_a_level</th>\n",
              "      <th>secondary_cleaner.state.floatbank4_b_air</th>\n",
              "      <th>secondary_cleaner.state.floatbank4_b_level</th>\n",
              "      <th>secondary_cleaner.state.floatbank5_a_air</th>\n",
              "      <th>secondary_cleaner.state.floatbank5_a_level</th>\n",
              "      <th>secondary_cleaner.state.floatbank5_b_air</th>\n",
              "      <th>secondary_cleaner.state.floatbank5_b_level</th>\n",
              "      <th>secondary_cleaner.state.floatbank6_a_air</th>\n",
              "      <th>secondary_cleaner.state.floatbank6_a_level</th>\n",
              "    </tr>\n",
              "  </thead>\n",
              "  <tbody>\n",
              "  </tbody>\n",
              "</table>\n",
              "<p>0 rows × 86 columns</p>\n",
              "</div>"
            ],
            "text/plain": [
              "Empty DataFrame\n",
              "Columns: [final.output.concentrate_ag, final.output.concentrate_pb, final.output.concentrate_sol, final.output.concentrate_au, final.output.recovery, final.output.tail_ag, final.output.tail_pb, final.output.tail_sol, final.output.tail_au, primary_cleaner.input.sulfate, primary_cleaner.input.depressant, primary_cleaner.input.feed_size, primary_cleaner.input.xanthate, primary_cleaner.output.concentrate_ag, primary_cleaner.output.concentrate_pb, primary_cleaner.output.concentrate_sol, primary_cleaner.output.concentrate_au, primary_cleaner.output.tail_ag, primary_cleaner.output.tail_pb, primary_cleaner.output.tail_sol, primary_cleaner.output.tail_au, primary_cleaner.state.floatbank8_a_air, primary_cleaner.state.floatbank8_a_level, primary_cleaner.state.floatbank8_b_air, primary_cleaner.state.floatbank8_b_level, primary_cleaner.state.floatbank8_c_air, primary_cleaner.state.floatbank8_c_level, primary_cleaner.state.floatbank8_d_air, primary_cleaner.state.floatbank8_d_level, rougher.calculation.sulfate_to_au_concentrate, rougher.calculation.floatbank10_sulfate_to_au_feed, rougher.calculation.floatbank11_sulfate_to_au_feed, rougher.calculation.au_pb_ratio, rougher.input.feed_ag, rougher.input.feed_pb, rougher.input.feed_rate, rougher.input.feed_size, rougher.input.feed_sol, rougher.input.feed_au, rougher.input.floatbank10_sulfate, rougher.input.floatbank10_xanthate, rougher.input.floatbank11_sulfate, rougher.input.floatbank11_xanthate, rougher.output.concentrate_ag, rougher.output.concentrate_pb, rougher.output.concentrate_sol, rougher.output.concentrate_au, rougher.output.recovery, rougher.output.tail_ag, rougher.output.tail_pb, rougher.output.tail_sol, rougher.output.tail_au, rougher.state.floatbank10_a_air, rougher.state.floatbank10_a_level, rougher.state.floatbank10_b_air, rougher.state.floatbank10_b_level, rougher.state.floatbank10_c_air, rougher.state.floatbank10_c_level, rougher.state.floatbank10_d_air, rougher.state.floatbank10_d_level, rougher.state.floatbank10_e_air, rougher.state.floatbank10_e_level, rougher.state.floatbank10_f_air, rougher.state.floatbank10_f_level, secondary_cleaner.output.tail_ag, secondary_cleaner.output.tail_pb, secondary_cleaner.output.tail_sol, secondary_cleaner.output.tail_au, secondary_cleaner.state.floatbank2_a_air, secondary_cleaner.state.floatbank2_a_level, secondary_cleaner.state.floatbank2_b_air, secondary_cleaner.state.floatbank2_b_level, secondary_cleaner.state.floatbank3_a_air, secondary_cleaner.state.floatbank3_a_level, secondary_cleaner.state.floatbank3_b_air, secondary_cleaner.state.floatbank3_b_level, secondary_cleaner.state.floatbank4_a_air, secondary_cleaner.state.floatbank4_a_level, secondary_cleaner.state.floatbank4_b_air, secondary_cleaner.state.floatbank4_b_level, secondary_cleaner.state.floatbank5_a_air, secondary_cleaner.state.floatbank5_a_level, secondary_cleaner.state.floatbank5_b_air, secondary_cleaner.state.floatbank5_b_level, secondary_cleaner.state.floatbank6_a_air, secondary_cleaner.state.floatbank6_a_level]\n",
              "Index: []\n",
              "\n",
              "[0 rows x 86 columns]"
            ]
          },
          "execution_count": 26,
          "metadata": {},
          "output_type": "execute_result"
        }
      ],
      "source": [
        "data_train_new = data_train_new.drop(data_train_new[data_train_new['final.output.recovery'] == 0].index)\n",
        "data_train_new[data_train_new['final.output.recovery'] == 0].head()"
      ]
    },
    {
      "cell_type": "markdown",
      "metadata": {
        "id": "n_MnzBN46ZHa"
      },
      "source": [
        "**Результат** обнаружено и удалено 57 строк с нулевыми значениями в final.output.recovery"
      ]
    },
    {
      "cell_type": "code",
      "execution_count": null,
      "metadata": {
        "id": "5swQBZqR6ZHa",
        "outputId": "c47ae00a-2baf-4210-da4e-e55e0d4011a7"
      },
      "outputs": [
        {
          "name": "stdout",
          "output_type": "stream",
          "text": [
            "количество нулевых значений в данных primary_cleaner.output.concentrate_au 70\n"
          ]
        }
      ],
      "source": [
        "print('количество нулевых значений в данных primary_cleaner.output.concentrate_au', data_train_new[data_train_new['primary_cleaner.output.concentrate_au'] == 0]['primary_cleaner.output.concentrate_au'].count())"
      ]
    },
    {
      "cell_type": "code",
      "execution_count": null,
      "metadata": {
        "id": "02V2V8Cp6ZHb",
        "outputId": "24747e59-6bc0-425e-c83e-43f013abd959"
      },
      "outputs": [
        {
          "name": "stdout",
          "output_type": "stream",
          "text": [
            "количество нулевых значений в данных secondary_cleaner.output.tail_au 707\n"
          ]
        }
      ],
      "source": [
        "print('количество нулевых значений в данных secondary_cleaner.output.tail_au', data_train_new[data_train_new['secondary_cleaner.output.tail_au'] == 0]['secondary_cleaner.output.tail_au'].count())"
      ]
    },
    {
      "cell_type": "markdown",
      "metadata": {
        "id": "i1QbTyA06ZHb"
      },
      "source": [
        "посчитано количество нулевых значений в primary_cleaner.output.concentrate_au и secondary_cleaner.output.tail_au"
      ]
    },
    {
      "cell_type": "code",
      "execution_count": null,
      "metadata": {
        "id": "Kaa5jh-S6ZHb",
        "outputId": "4f941204-6388-4939-ae44-3080baf26630"
      },
      "outputs": [
        {
          "name": "stdout",
          "output_type": "stream",
          "text": [
            "<class 'pandas.core.frame.DataFrame'>\n",
            "Int64Index: 13795 entries, 0 to 14148\n",
            "Data columns (total 86 columns):\n",
            " #   Column                                              Non-Null Count  Dtype  \n",
            "---  ------                                              --------------  -----  \n",
            " 0   final.output.concentrate_ag                         13795 non-null  float64\n",
            " 1   final.output.concentrate_pb                         13795 non-null  float64\n",
            " 2   final.output.concentrate_sol                        13795 non-null  float64\n",
            " 3   final.output.concentrate_au                         13795 non-null  float64\n",
            " 4   final.output.recovery                               13795 non-null  float64\n",
            " 5   final.output.tail_ag                                13795 non-null  float64\n",
            " 6   final.output.tail_pb                                13795 non-null  float64\n",
            " 7   final.output.tail_sol                               13795 non-null  float64\n",
            " 8   final.output.tail_au                                13795 non-null  float64\n",
            " 9   primary_cleaner.input.sulfate                       13795 non-null  float64\n",
            " 10  primary_cleaner.input.depressant                    13795 non-null  float64\n",
            " 11  primary_cleaner.input.feed_size                     13795 non-null  float64\n",
            " 12  primary_cleaner.input.xanthate                      13795 non-null  float64\n",
            " 13  primary_cleaner.output.concentrate_ag               13795 non-null  float64\n",
            " 14  primary_cleaner.output.concentrate_pb               13795 non-null  float64\n",
            " 15  primary_cleaner.output.concentrate_sol              13795 non-null  float64\n",
            " 16  primary_cleaner.output.concentrate_au               13795 non-null  float64\n",
            " 17  primary_cleaner.output.tail_ag                      13795 non-null  float64\n",
            " 18  primary_cleaner.output.tail_pb                      13795 non-null  float64\n",
            " 19  primary_cleaner.output.tail_sol                     13795 non-null  float64\n",
            " 20  primary_cleaner.output.tail_au                      13795 non-null  float64\n",
            " 21  primary_cleaner.state.floatbank8_a_air              13795 non-null  float64\n",
            " 22  primary_cleaner.state.floatbank8_a_level            13795 non-null  float64\n",
            " 23  primary_cleaner.state.floatbank8_b_air              13795 non-null  float64\n",
            " 24  primary_cleaner.state.floatbank8_b_level            13795 non-null  float64\n",
            " 25  primary_cleaner.state.floatbank8_c_air              13795 non-null  float64\n",
            " 26  primary_cleaner.state.floatbank8_c_level            13795 non-null  float64\n",
            " 27  primary_cleaner.state.floatbank8_d_air              13795 non-null  float64\n",
            " 28  primary_cleaner.state.floatbank8_d_level            13795 non-null  float64\n",
            " 29  rougher.calculation.sulfate_to_au_concentrate       13795 non-null  float64\n",
            " 30  rougher.calculation.floatbank10_sulfate_to_au_feed  13795 non-null  float64\n",
            " 31  rougher.calculation.floatbank11_sulfate_to_au_feed  13795 non-null  float64\n",
            " 32  rougher.calculation.au_pb_ratio                     13795 non-null  float64\n",
            " 33  rougher.input.feed_ag                               13795 non-null  float64\n",
            " 34  rougher.input.feed_pb                               13795 non-null  float64\n",
            " 35  rougher.input.feed_rate                             13795 non-null  float64\n",
            " 36  rougher.input.feed_size                             13795 non-null  float64\n",
            " 37  rougher.input.feed_sol                              13795 non-null  float64\n",
            " 38  rougher.input.feed_au                               13795 non-null  float64\n",
            " 39  rougher.input.floatbank10_sulfate                   13795 non-null  float64\n",
            " 40  rougher.input.floatbank10_xanthate                  13795 non-null  float64\n",
            " 41  rougher.input.floatbank11_sulfate                   13795 non-null  float64\n",
            " 42  rougher.input.floatbank11_xanthate                  13795 non-null  float64\n",
            " 43  rougher.output.concentrate_ag                       13795 non-null  float64\n",
            " 44  rougher.output.concentrate_pb                       13795 non-null  float64\n",
            " 45  rougher.output.concentrate_sol                      13795 non-null  float64\n",
            " 46  rougher.output.concentrate_au                       13795 non-null  float64\n",
            " 47  rougher.output.recovery                             13795 non-null  float64\n",
            " 48  rougher.output.tail_ag                              13795 non-null  float64\n",
            " 49  rougher.output.tail_pb                              13795 non-null  float64\n",
            " 50  rougher.output.tail_sol                             13795 non-null  float64\n",
            " 51  rougher.output.tail_au                              13795 non-null  float64\n",
            " 52  rougher.state.floatbank10_a_air                     13795 non-null  float64\n",
            " 53  rougher.state.floatbank10_a_level                   13795 non-null  float64\n",
            " 54  rougher.state.floatbank10_b_air                     13795 non-null  float64\n",
            " 55  rougher.state.floatbank10_b_level                   13795 non-null  float64\n",
            " 56  rougher.state.floatbank10_c_air                     13795 non-null  float64\n",
            " 57  rougher.state.floatbank10_c_level                   13795 non-null  float64\n",
            " 58  rougher.state.floatbank10_d_air                     13795 non-null  float64\n",
            " 59  rougher.state.floatbank10_d_level                   13795 non-null  float64\n",
            " 60  rougher.state.floatbank10_e_air                     13795 non-null  float64\n",
            " 61  rougher.state.floatbank10_e_level                   13795 non-null  float64\n",
            " 62  rougher.state.floatbank10_f_air                     13795 non-null  float64\n",
            " 63  rougher.state.floatbank10_f_level                   13795 non-null  float64\n",
            " 64  secondary_cleaner.output.tail_ag                    13795 non-null  float64\n",
            " 65  secondary_cleaner.output.tail_pb                    13795 non-null  float64\n",
            " 66  secondary_cleaner.output.tail_sol                   13795 non-null  float64\n",
            " 67  secondary_cleaner.output.tail_au                    13795 non-null  float64\n",
            " 68  secondary_cleaner.state.floatbank2_a_air            13795 non-null  float64\n",
            " 69  secondary_cleaner.state.floatbank2_a_level          13795 non-null  float64\n",
            " 70  secondary_cleaner.state.floatbank2_b_air            13795 non-null  float64\n",
            " 71  secondary_cleaner.state.floatbank2_b_level          13795 non-null  float64\n",
            " 72  secondary_cleaner.state.floatbank3_a_air            13795 non-null  float64\n",
            " 73  secondary_cleaner.state.floatbank3_a_level          13795 non-null  float64\n",
            " 74  secondary_cleaner.state.floatbank3_b_air            13795 non-null  float64\n",
            " 75  secondary_cleaner.state.floatbank3_b_level          13795 non-null  float64\n",
            " 76  secondary_cleaner.state.floatbank4_a_air            13795 non-null  float64\n",
            " 77  secondary_cleaner.state.floatbank4_a_level          13795 non-null  float64\n",
            " 78  secondary_cleaner.state.floatbank4_b_air            13795 non-null  float64\n",
            " 79  secondary_cleaner.state.floatbank4_b_level          13795 non-null  float64\n",
            " 80  secondary_cleaner.state.floatbank5_a_air            13795 non-null  float64\n",
            " 81  secondary_cleaner.state.floatbank5_a_level          13795 non-null  float64\n",
            " 82  secondary_cleaner.state.floatbank5_b_air            13795 non-null  float64\n",
            " 83  secondary_cleaner.state.floatbank5_b_level          13795 non-null  float64\n",
            " 84  secondary_cleaner.state.floatbank6_a_air            13795 non-null  float64\n",
            " 85  secondary_cleaner.state.floatbank6_a_level          13795 non-null  float64\n",
            "dtypes: float64(86)\n",
            "memory usage: 9.2 MB\n"
          ]
        }
      ],
      "source": [
        "data_train_new.info()"
      ]
    },
    {
      "cell_type": "markdown",
      "metadata": {
        "id": "unIXhNLr6ZHb"
      },
      "source": [
        "**Результаты** Датасеты подготовлены к дальнейшей работе: удалены строки с нулевыми (отсутствующими данными) "
      ]
    },
    {
      "cell_type": "markdown",
      "metadata": {
        "id": "CNvnPlba6ZHb"
      },
      "source": [
        "**Исследование изменений концентрация металлов (Au, Ag, Pb) на различных этапах очистки**"
      ]
    },
    {
      "cell_type": "code",
      "execution_count": null,
      "metadata": {
        "id": "5BbxdCFq6ZHc",
        "outputId": "3015f92e-c946-48e8-f75b-e9f0706d7cc6"
      },
      "outputs": [
        {
          "data": {
            "image/png": "[encoded data removed]",
            "text/plain": [
              "<Figure size 720x504 with 1 Axes>"
            ]
          },
          "metadata": {
            "needs_background": "light"
          },
          "output_type": "display_data"
        }
      ],
      "source": [
        "plt.figure(figsize=[10,7]) \n",
        "plt.hist(data_train_new['rougher.input.feed_au'], bins=100, label = 'сырье на входе', alpha=.5)\n",
        "plt.hist(data_train_new['final.output.concentrate_au'], bins=100, label = 'финальный этап', alpha=.5)\n",
        "plt.hist(data_train_new['primary_cleaner.output.concentrate_au'], bins=100, label = 'первичная очистка', alpha=.5)\n",
        "plt.hist(data_train_new['rougher.output.concentrate_au'], bins=100, label = 'сырье на выходе', alpha=.5)\n",
        "\n",
        "plt.xlim([0, 55])\n",
        "plt.ylim([0, 2000])\n",
        "\n",
        "plt.xlabel(\"концентрация золота на выходе\")\n",
        "plt.ylabel(\"количество результатов\")\n",
        "\n",
        "plt.legend(loc='upper right', fontsize='large')\n",
        "\n",
        "plt.title(\"распределение концентрации золота на различных этапах очистки\")\n",
        "plt.show()"
      ]
    },
    {
      "cell_type": "markdown",
      "metadata": {
        "id": "SztzDCKe6ZHc"
      },
      "source": [
        "**Результат** На графиках видно повышение концентрации золота с каждым этапом очистки. "
      ]
    },
    {
      "cell_type": "code",
      "execution_count": null,
      "metadata": {
        "id": "BfVCyk-W6ZHc",
        "outputId": "71f5ce5b-7aa4-4f44-ea49-5b172fbf76ac"
      },
      "outputs": [
        {
          "data": {
            "image/png": "[encoded data removed]",
            "text/plain": [
              "<Figure size 720x504 with 1 Axes>"
            ]
          },
          "metadata": {
            "needs_background": "light"
          },
          "output_type": "display_data"
        }
      ],
      "source": [
        "plt.figure(figsize=[10,7])\n",
        "plt.hist(data_train_new['rougher.input.feed_ag'], bins=100, label = 'сырье на входе', alpha=.5)\n",
        "plt.hist(data_train_new['final.output.concentrate_ag'], bins=100, label = 'финальный этап', alpha=.5)\n",
        "plt.hist(data_train_new['primary_cleaner.output.concentrate_ag'], bins=100, label = 'первичная очистка', alpha=.5)\n",
        "plt.hist(data_train_new['rougher.output.concentrate_ag'], bins=100, label = 'сырье на выходе', alpha=.5)\n",
        "\n",
        "plt.xlim([0, 25])\n",
        "plt.ylim([0, 800])\n",
        "\n",
        "plt.xlabel(\"концентрация серебра на выходе этапов\")\n",
        "plt.ylabel(\"количество результатов\")\n",
        "\n",
        "plt.legend(loc='upper right', fontsize='large')\n",
        "\n",
        "plt.title(\"распределения концентрации серебра на различных этапах очистки\")\n",
        "plt.show()"
      ]
    },
    {
      "cell_type": "markdown",
      "metadata": {
        "id": "e5MAa5DX6ZHd"
      },
      "source": [
        "Конецентрация серебра наиболее низкая на финальном этапе. Целевым металом является золото, оно очищается от всех прочих, включая серебро."
      ]
    },
    {
      "cell_type": "code",
      "execution_count": null,
      "metadata": {
        "id": "67C_TYu56ZHd",
        "outputId": "f13c6887-284f-4c1b-c657-3088386b7ce4"
      },
      "outputs": [
        {
          "data": {
            "image/png": "[encoded data removed]",
            "text/plain": [
              "<Figure size 720x504 with 1 Axes>"
            ]
          },
          "metadata": {
            "needs_background": "light"
          },
          "output_type": "display_data"
        }
      ],
      "source": [
        "plt.figure(figsize=[10,7])\n",
        "plt.hist(data_train_new['rougher.input.feed_pb'], bins=100, label = 'сырье на входе', alpha=.5)\n",
        "plt.hist(data_train_new['final.output.concentrate_pb'], bins=100, label = 'финальный этап', alpha=.5)\n",
        "plt.hist(data_train_new['primary_cleaner.output.concentrate_pb'], bins=100, label = 'первичная очистка', alpha=.5)\n",
        "plt.hist(data_train_new['rougher.output.concentrate_pb'], bins=100, label = 'сырье на выходе', alpha=.5)\n",
        "\n",
        "plt.xlim([0, 20])\n",
        "plt.ylim([0, 800])\n",
        "\n",
        "plt.xlabel(\"концентрация свинца на выходе этапов\")\n",
        "plt.ylabel(\"количество результатов\")\n",
        "\n",
        "plt.legend(loc='upper right', fontsize='large')\n",
        "\n",
        "plt.title(\"Распределения концентрации свинца на различных этапах очистки\")\n",
        "plt.show()"
      ]
    },
    {
      "cell_type": "markdown",
      "metadata": {
        "id": "FRtDKkTT6ZHe"
      },
      "source": [
        "**Распределения размеров гранул сырья на обучающей и тестовой выборках**\n"
      ]
    },
    {
      "cell_type": "code",
      "execution_count": null,
      "metadata": {
        "id": "vDXlHqcX6ZHe",
        "outputId": "aa67b936-dbf4-41ce-8efb-7f7c8811dd0d"
      },
      "outputs": [
        {
          "data": {
            "image/png": "[encoded data removed]",
            "text/plain": [
              "<Figure size 432x288 with 1 Axes>"
            ]
          },
          "metadata": {},
          "output_type": "display_data"
        }
      ],
      "source": [
        "sn.set(style='dark')\n",
        "res = sn.kdeplot(data_train_new['rougher.input.feed_size'],shade=True,cmap=\"Oranges_r\")\n",
        "res = sn.kdeplot(data_test_new['rougher.input.feed_size'],shade=True,cmap=\"Blues\")\n",
        "plt.xlabel(\"размер гранул сырья\")\n",
        "plt.ylabel(\"количество результатов\")\n",
        "\n",
        "\n",
        "\n",
        "plt.title(\"распределения гранул сырья перед флотацией\")\n",
        "plt.show()"
      ]
    },
    {
      "cell_type": "markdown",
      "metadata": {
        "id": "6GKogNLb6ZHf"
      },
      "source": [
        "На этапе перед флотацией распределения по форме похожи, но отличаются по количеству (что понятно, т.к. у выборок разные размеры) "
      ]
    },
    {
      "cell_type": "code",
      "execution_count": null,
      "metadata": {
        "id": "luXKb1Li6ZHf",
        "outputId": "940c6745-5869-4263-8476-7c1b2876631e"
      },
      "outputs": [
        {
          "data": {
            "image/png": "[encoded data removed]",
            "text/plain": [
              "<Figure size 432x288 with 1 Axes>"
            ]
          },
          "metadata": {},
          "output_type": "display_data"
        }
      ],
      "source": [
        "sn.set(style='dark')\n",
        "res = sn.kdeplot(data_test_new['primary_cleaner.input.feed_size'],shade=True,cmap=\"Oranges_r\")\n",
        "res = sn.kdeplot(data_train_new['primary_cleaner.input.feed_size'],shade=True,cmap=\"Blues\")\n",
        "plt.xlabel(\"размер гранул сырья\")\n",
        "plt.ylabel(\"количество результатов\")\n",
        "\n",
        "plt.title(\"распределения гранул сырья перед первичной очисткой\")\n",
        "plt.show()"
      ]
    },
    {
      "cell_type": "markdown",
      "metadata": {
        "id": "sVi7FeIN6ZHg"
      },
      "source": [
        "Распределения перед первичной очисткой похожи на нормальные распределения с центром примерно в одном месте, иллюстрируют соответсвие выборок"
      ]
    },
    {
      "cell_type": "markdown",
      "metadata": {
        "id": "W8UpdEGb6ZHg"
      },
      "source": [
        "В обучающей выборке нет столбцов с суммарными концентрациями, их нужно добавить\n"
      ]
    },
    {
      "cell_type": "markdown",
      "metadata": {
        "id": "51Ii0-uB6ZHg"
      },
      "source": [
        "На этапе сырья "
      ]
    },
    {
      "cell_type": "code",
      "execution_count": null,
      "metadata": {
        "id": "MpjFlerv6ZHh"
      },
      "outputs": [],
      "source": [
        "rougher_output_concentrate_sum_train = (data_train_new['rougher.output.concentrate_au'] + \n",
        "                                        data_train_new['rougher.output.concentrate_ag'] + \n",
        "                                        data_train_new['rougher.output.concentrate_pb'] +\n",
        "                                        data_train_new['rougher.output.concentrate_sol'])"
      ]
    },
    {
      "cell_type": "markdown",
      "metadata": {
        "id": "ISGk90fE6ZHh"
      },
      "source": [
        "В черновом концентрате "
      ]
    },
    {
      "cell_type": "code",
      "execution_count": null,
      "metadata": {
        "id": "BgUW-YW46ZHh"
      },
      "outputs": [],
      "source": [
        "primary_cleaner_output_concentrate_sum_train = (data_train_new['primary_cleaner.output.concentrate_au'] + \n",
        "                                                data_train_new['primary_cleaner.output.concentrate_ag'] + \n",
        "                                                data_train_new['primary_cleaner.output.concentrate_pb'] +\n",
        "                                                data_train_new['primary_cleaner.output.concentrate_sol'])"
      ]
    },
    {
      "cell_type": "markdown",
      "metadata": {
        "id": "3OfSKFsE6ZHh"
      },
      "source": [
        "На финальном этапе "
      ]
    },
    {
      "cell_type": "code",
      "execution_count": null,
      "metadata": {
        "id": "N-LPpbs26ZHh"
      },
      "outputs": [],
      "source": [
        "final_output_concentrate_sum_train = (data_train_new['final.output.concentrate_au'] + \n",
        "                                      data_train_new['final.output.concentrate_ag'] + \n",
        "                                      data_train_new['final.output.concentrate_pb'] +\n",
        "                                      data_train_new['final.output.concentrate_sol'])"
      ]
    },
    {
      "cell_type": "code",
      "execution_count": null,
      "metadata": {
        "id": "RjXzA3_k6ZHi",
        "outputId": "008171c9-c21d-43d6-a8fb-134436010818"
      },
      "outputs": [
        {
          "data": {
            "image/png": "[encoded data removed]",
            "text/plain": [
              "<Figure size 720x504 with 1 Axes>"
            ]
          },
          "metadata": {},
          "output_type": "display_data"
        }
      ],
      "source": [
        "plt.figure(figsize=[10,7])\n",
        "\n",
        "plt.hist(final_output_concentrate_sum_train, bins=100, label = 'финальный этап', alpha=.5)\n",
        "plt.hist(primary_cleaner_output_concentrate_sum_train, bins=100, label = 'первичная очистка', alpha=.5)\n",
        "plt.hist(rougher_output_concentrate_sum_train, bins=100, label = 'сырье', alpha=.5)\n",
        "\n",
        "plt.xlim([0, 100])\n",
        "plt.ylim([0, 2000])\n",
        "\n",
        "plt.xlabel(\"суммарная концентраця\")\n",
        "plt.ylabel(\"количество результатов\")\n",
        "\n",
        "plt.legend(loc='upper left', fontsize='large')\n",
        "\n",
        "plt.title(\"распределение суммарных концентраций на разных этапах очистки\")\n",
        "plt.show()"
      ]
    },
    {
      "cell_type": "markdown",
      "metadata": {
        "id": "maMWnpgM6ZHi"
      },
      "source": [
        "Виден выброс нулевого значения label = 'первичная очистка' - primary_cleaner_output. Ранее замечено количество нулевых значений в данных primary_cleaner.output.concentrate_au 70). Удалим их на этом этапе."
      ]
    },
    {
      "cell_type": "code",
      "execution_count": null,
      "metadata": {
        "id": "txLN4ke96ZHi",
        "outputId": "d7a54873-10e5-42b0-8c1f-4e069fabfbc8"
      },
      "outputs": [
        {
          "data": {
            "text/html": [
              "<div>\n",
              "<style scoped>\n",
              "    .dataframe tbody tr th:only-of-type {\n",
              "        vertical-align: middle;\n",
              "    }\n",
              "\n",
              "    .dataframe tbody tr th {\n",
              "        vertical-align: top;\n",
              "    }\n",
              "\n",
              "    .dataframe thead th {\n",
              "        text-align: right;\n",
              "    }\n",
              "</style>\n",
              "<table border=\"1\" class=\"dataframe\">\n",
              "  <thead>\n",
              "    <tr style=\"text-align: right;\">\n",
              "      <th></th>\n",
              "      <th>final.output.concentrate_ag</th>\n",
              "      <th>final.output.concentrate_pb</th>\n",
              "      <th>final.output.concentrate_sol</th>\n",
              "      <th>final.output.concentrate_au</th>\n",
              "      <th>final.output.recovery</th>\n",
              "      <th>final.output.tail_ag</th>\n",
              "      <th>final.output.tail_pb</th>\n",
              "      <th>final.output.tail_sol</th>\n",
              "      <th>final.output.tail_au</th>\n",
              "      <th>primary_cleaner.input.sulfate</th>\n",
              "      <th>...</th>\n",
              "      <th>secondary_cleaner.state.floatbank4_a_air</th>\n",
              "      <th>secondary_cleaner.state.floatbank4_a_level</th>\n",
              "      <th>secondary_cleaner.state.floatbank4_b_air</th>\n",
              "      <th>secondary_cleaner.state.floatbank4_b_level</th>\n",
              "      <th>secondary_cleaner.state.floatbank5_a_air</th>\n",
              "      <th>secondary_cleaner.state.floatbank5_a_level</th>\n",
              "      <th>secondary_cleaner.state.floatbank5_b_air</th>\n",
              "      <th>secondary_cleaner.state.floatbank5_b_level</th>\n",
              "      <th>secondary_cleaner.state.floatbank6_a_air</th>\n",
              "      <th>secondary_cleaner.state.floatbank6_a_level</th>\n",
              "    </tr>\n",
              "  </thead>\n",
              "  <tbody>\n",
              "  </tbody>\n",
              "</table>\n",
              "<p>0 rows × 86 columns</p>\n",
              "</div>"
            ],
            "text/plain": [
              "Empty DataFrame\n",
              "Columns: [final.output.concentrate_ag, final.output.concentrate_pb, final.output.concentrate_sol, final.output.concentrate_au, final.output.recovery, final.output.tail_ag, final.output.tail_pb, final.output.tail_sol, final.output.tail_au, primary_cleaner.input.sulfate, primary_cleaner.input.depressant, primary_cleaner.input.feed_size, primary_cleaner.input.xanthate, primary_cleaner.output.concentrate_ag, primary_cleaner.output.concentrate_pb, primary_cleaner.output.concentrate_sol, primary_cleaner.output.concentrate_au, primary_cleaner.output.tail_ag, primary_cleaner.output.tail_pb, primary_cleaner.output.tail_sol, primary_cleaner.output.tail_au, primary_cleaner.state.floatbank8_a_air, primary_cleaner.state.floatbank8_a_level, primary_cleaner.state.floatbank8_b_air, primary_cleaner.state.floatbank8_b_level, primary_cleaner.state.floatbank8_c_air, primary_cleaner.state.floatbank8_c_level, primary_cleaner.state.floatbank8_d_air, primary_cleaner.state.floatbank8_d_level, rougher.calculation.sulfate_to_au_concentrate, rougher.calculation.floatbank10_sulfate_to_au_feed, rougher.calculation.floatbank11_sulfate_to_au_feed, rougher.calculation.au_pb_ratio, rougher.input.feed_ag, rougher.input.feed_pb, rougher.input.feed_rate, rougher.input.feed_size, rougher.input.feed_sol, rougher.input.feed_au, rougher.input.floatbank10_sulfate, rougher.input.floatbank10_xanthate, rougher.input.floatbank11_sulfate, rougher.input.floatbank11_xanthate, rougher.output.concentrate_ag, rougher.output.concentrate_pb, rougher.output.concentrate_sol, rougher.output.concentrate_au, rougher.output.recovery, rougher.output.tail_ag, rougher.output.tail_pb, rougher.output.tail_sol, rougher.output.tail_au, rougher.state.floatbank10_a_air, rougher.state.floatbank10_a_level, rougher.state.floatbank10_b_air, rougher.state.floatbank10_b_level, rougher.state.floatbank10_c_air, rougher.state.floatbank10_c_level, rougher.state.floatbank10_d_air, rougher.state.floatbank10_d_level, rougher.state.floatbank10_e_air, rougher.state.floatbank10_e_level, rougher.state.floatbank10_f_air, rougher.state.floatbank10_f_level, secondary_cleaner.output.tail_ag, secondary_cleaner.output.tail_pb, secondary_cleaner.output.tail_sol, secondary_cleaner.output.tail_au, secondary_cleaner.state.floatbank2_a_air, secondary_cleaner.state.floatbank2_a_level, secondary_cleaner.state.floatbank2_b_air, secondary_cleaner.state.floatbank2_b_level, secondary_cleaner.state.floatbank3_a_air, secondary_cleaner.state.floatbank3_a_level, secondary_cleaner.state.floatbank3_b_air, secondary_cleaner.state.floatbank3_b_level, secondary_cleaner.state.floatbank4_a_air, secondary_cleaner.state.floatbank4_a_level, secondary_cleaner.state.floatbank4_b_air, secondary_cleaner.state.floatbank4_b_level, secondary_cleaner.state.floatbank5_a_air, secondary_cleaner.state.floatbank5_a_level, secondary_cleaner.state.floatbank5_b_air, secondary_cleaner.state.floatbank5_b_level, secondary_cleaner.state.floatbank6_a_air, secondary_cleaner.state.floatbank6_a_level]\n",
              "Index: []\n",
              "\n",
              "[0 rows x 86 columns]"
            ]
          },
          "execution_count": 39,
          "metadata": {},
          "output_type": "execute_result"
        }
      ],
      "source": [
        "data_train_new = data_train_new.drop(data_train_new[data_train_new['primary_cleaner.output.concentrate_au'] == 0].index)\n",
        "data_train_new[data_train_new['primary_cleaner.output.concentrate_au'] == 0].head()"
      ]
    },
    {
      "cell_type": "markdown",
      "metadata": {
        "id": "vY6e6ZR26ZHj"
      },
      "source": [
        "**ВЫВОДЫ**\n",
        "-  Выявлена разница в признаках между выборками.\n",
        "-  Составлен список столбцов для удаления из data_train_new\n",
        "-  Датасеты подготовлены к дальнейшей работе: удалены строки с нулевыми (отсутствующими данными)\n",
        "-  Рассмотрено изменение концентрации металлов (Au, Ag, Pb) на различных этапах очистки.\n",
        "-  Проведено сравнение распределения размеров гранул сырья на обучающей и тестовой выборках.\n",
        "-  Исследована суммарная концентрацию всех веществ на разных стадиях: в сырье, в черновом и финальном концентратах. "
      ]
    },
    {
      "cell_type": "markdown",
      "metadata": {
        "id": "23Orr6jK6ZHj"
      },
      "source": [
        "## Модели"
      ]
    },
    {
      "cell_type": "markdown",
      "metadata": {
        "id": "2WloxsKF6ZHk"
      },
      "source": [
        "Выделим столбцы из тестовой выборки, по которым будет обучаться модель: создадим новый датасет data_train_model. (Столбец data ранее был удален). "
      ]
    },
    {
      "cell_type": "code",
      "execution_count": null,
      "metadata": {
        "id": "Om-rSUkK6ZHk",
        "outputId": "8f8032e3-2e49-4cf3-cd56-5005ed5f4d10"
      },
      "outputs": [
        {
          "name": "stdout",
          "output_type": "stream",
          "text": [
            "<class 'pandas.core.frame.DataFrame'>\n",
            "Int64Index: 13725 entries, 0 to 14148\n",
            "Data columns (total 54 columns):\n",
            " #   Column                                      Non-Null Count  Dtype  \n",
            "---  ------                                      --------------  -----  \n",
            " 0   final.output.recovery                       13725 non-null  float64\n",
            " 1   primary_cleaner.input.sulfate               13725 non-null  float64\n",
            " 2   primary_cleaner.input.depressant            13725 non-null  float64\n",
            " 3   primary_cleaner.input.feed_size             13725 non-null  float64\n",
            " 4   primary_cleaner.input.xanthate              13725 non-null  float64\n",
            " 5   primary_cleaner.state.floatbank8_a_air      13725 non-null  float64\n",
            " 6   primary_cleaner.state.floatbank8_a_level    13725 non-null  float64\n",
            " 7   primary_cleaner.state.floatbank8_b_air      13725 non-null  float64\n",
            " 8   primary_cleaner.state.floatbank8_b_level    13725 non-null  float64\n",
            " 9   primary_cleaner.state.floatbank8_c_air      13725 non-null  float64\n",
            " 10  primary_cleaner.state.floatbank8_c_level    13725 non-null  float64\n",
            " 11  primary_cleaner.state.floatbank8_d_air      13725 non-null  float64\n",
            " 12  primary_cleaner.state.floatbank8_d_level    13725 non-null  float64\n",
            " 13  rougher.input.feed_ag                       13725 non-null  float64\n",
            " 14  rougher.input.feed_pb                       13725 non-null  float64\n",
            " 15  rougher.input.feed_rate                     13725 non-null  float64\n",
            " 16  rougher.input.feed_size                     13725 non-null  float64\n",
            " 17  rougher.input.feed_sol                      13725 non-null  float64\n",
            " 18  rougher.input.feed_au                       13725 non-null  float64\n",
            " 19  rougher.input.floatbank10_sulfate           13725 non-null  float64\n",
            " 20  rougher.input.floatbank10_xanthate          13725 non-null  float64\n",
            " 21  rougher.input.floatbank11_sulfate           13725 non-null  float64\n",
            " 22  rougher.input.floatbank11_xanthate          13725 non-null  float64\n",
            " 23  rougher.output.recovery                     13725 non-null  float64\n",
            " 24  rougher.state.floatbank10_a_air             13725 non-null  float64\n",
            " 25  rougher.state.floatbank10_a_level           13725 non-null  float64\n",
            " 26  rougher.state.floatbank10_b_air             13725 non-null  float64\n",
            " 27  rougher.state.floatbank10_b_level           13725 non-null  float64\n",
            " 28  rougher.state.floatbank10_c_air             13725 non-null  float64\n",
            " 29  rougher.state.floatbank10_c_level           13725 non-null  float64\n",
            " 30  rougher.state.floatbank10_d_air             13725 non-null  float64\n",
            " 31  rougher.state.floatbank10_d_level           13725 non-null  float64\n",
            " 32  rougher.state.floatbank10_e_air             13725 non-null  float64\n",
            " 33  rougher.state.floatbank10_e_level           13725 non-null  float64\n",
            " 34  rougher.state.floatbank10_f_air             13725 non-null  float64\n",
            " 35  rougher.state.floatbank10_f_level           13725 non-null  float64\n",
            " 36  secondary_cleaner.state.floatbank2_a_air    13725 non-null  float64\n",
            " 37  secondary_cleaner.state.floatbank2_a_level  13725 non-null  float64\n",
            " 38  secondary_cleaner.state.floatbank2_b_air    13725 non-null  float64\n",
            " 39  secondary_cleaner.state.floatbank2_b_level  13725 non-null  float64\n",
            " 40  secondary_cleaner.state.floatbank3_a_air    13725 non-null  float64\n",
            " 41  secondary_cleaner.state.floatbank3_a_level  13725 non-null  float64\n",
            " 42  secondary_cleaner.state.floatbank3_b_air    13725 non-null  float64\n",
            " 43  secondary_cleaner.state.floatbank3_b_level  13725 non-null  float64\n",
            " 44  secondary_cleaner.state.floatbank4_a_air    13725 non-null  float64\n",
            " 45  secondary_cleaner.state.floatbank4_a_level  13725 non-null  float64\n",
            " 46  secondary_cleaner.state.floatbank4_b_air    13725 non-null  float64\n",
            " 47  secondary_cleaner.state.floatbank4_b_level  13725 non-null  float64\n",
            " 48  secondary_cleaner.state.floatbank5_a_air    13725 non-null  float64\n",
            " 49  secondary_cleaner.state.floatbank5_a_level  13725 non-null  float64\n",
            " 50  secondary_cleaner.state.floatbank5_b_air    13725 non-null  float64\n",
            " 51  secondary_cleaner.state.floatbank5_b_level  13725 non-null  float64\n",
            " 52  secondary_cleaner.state.floatbank6_a_air    13725 non-null  float64\n",
            " 53  secondary_cleaner.state.floatbank6_a_level  13725 non-null  float64\n",
            "dtypes: float64(54)\n",
            "memory usage: 5.8 MB\n",
            "None\n"
          ]
        }
      ],
      "source": [
        "columns_to_delete=set(columns_to_drop.columns)\n",
        "data_train_model = data_train_new.drop(columns_to_delete, axis=1)\n",
        "print(data_train_model.info())"
      ]
    },
    {
      "cell_type": "markdown",
      "metadata": {
        "id": "537klEwn6ZHk"
      },
      "source": [
        "**Результат** подготовлен новый датасет data_train_model"
      ]
    },
    {
      "cell_type": "markdown",
      "metadata": {
        "id": "U46IP68Q6ZHk"
      },
      "source": [
        "Для предсказания rougher.output.recovery будут использоватся данные из стобцов этапа rougher. Для вычисления final.output.recovery будут использованы все столбцы из тестовой выборки."
      ]
    },
    {
      "cell_type": "markdown",
      "metadata": {
        "id": "4m2vVFgk6ZHk"
      },
      "source": [
        "Обнаружена проблема не совпадения порядка столбцов train и test "
      ]
    },
    {
      "cell_type": "code",
      "execution_count": null,
      "metadata": {
        "id": "EKH0FUgs6ZHk",
        "outputId": "6109fe9b-e9a6-4dcf-9240-9ba087a41c92"
      },
      "outputs": [
        {
          "name": "stdout",
          "output_type": "stream",
          "text": [
            "final.output.recovery\n",
            "primary_cleaner.input.sulfate\n",
            "primary_cleaner.input.depressant\n",
            "primary_cleaner.input.feed_size\n",
            "primary_cleaner.input.xanthate\n",
            "primary_cleaner.state.floatbank8_a_air\n",
            "primary_cleaner.state.floatbank8_a_level\n",
            "primary_cleaner.state.floatbank8_b_air\n",
            "primary_cleaner.state.floatbank8_b_level\n",
            "primary_cleaner.state.floatbank8_c_air\n",
            "primary_cleaner.state.floatbank8_c_level\n",
            "primary_cleaner.state.floatbank8_d_air\n",
            "primary_cleaner.state.floatbank8_d_level\n",
            "rougher.input.feed_ag\n",
            "rougher.input.feed_pb\n",
            "rougher.input.feed_rate\n",
            "rougher.input.feed_size\n",
            "rougher.input.feed_sol\n",
            "rougher.input.feed_au\n",
            "rougher.input.floatbank10_sulfate\n",
            "rougher.input.floatbank10_xanthate\n",
            "rougher.input.floatbank11_sulfate\n",
            "rougher.input.floatbank11_xanthate\n",
            "rougher.output.recovery\n",
            "rougher.state.floatbank10_a_air\n",
            "rougher.state.floatbank10_a_level\n",
            "rougher.state.floatbank10_b_air\n",
            "rougher.state.floatbank10_b_level\n",
            "rougher.state.floatbank10_c_air\n",
            "rougher.state.floatbank10_c_level\n",
            "rougher.state.floatbank10_d_air\n",
            "rougher.state.floatbank10_d_level\n",
            "rougher.state.floatbank10_e_air\n",
            "rougher.state.floatbank10_e_level\n",
            "rougher.state.floatbank10_f_air\n",
            "rougher.state.floatbank10_f_level\n",
            "secondary_cleaner.state.floatbank2_a_air\n",
            "secondary_cleaner.state.floatbank2_a_level\n",
            "secondary_cleaner.state.floatbank2_b_air\n",
            "secondary_cleaner.state.floatbank2_b_level\n",
            "secondary_cleaner.state.floatbank3_a_air\n",
            "secondary_cleaner.state.floatbank3_a_level\n",
            "secondary_cleaner.state.floatbank3_b_air\n",
            "secondary_cleaner.state.floatbank3_b_level\n",
            "secondary_cleaner.state.floatbank4_a_air\n",
            "secondary_cleaner.state.floatbank4_a_level\n",
            "secondary_cleaner.state.floatbank4_b_air\n",
            "secondary_cleaner.state.floatbank4_b_level\n",
            "secondary_cleaner.state.floatbank5_a_air\n",
            "secondary_cleaner.state.floatbank5_a_level\n",
            "secondary_cleaner.state.floatbank5_b_air\n",
            "secondary_cleaner.state.floatbank5_b_level\n",
            "secondary_cleaner.state.floatbank6_a_air\n",
            "secondary_cleaner.state.floatbank6_a_level\n"
          ]
        }
      ],
      "source": [
        "for column in data_train_model:\n",
        "    print(column)"
      ]
    },
    {
      "cell_type": "code",
      "execution_count": null,
      "metadata": {
        "id": "s6VAAm7m6ZHl",
        "outputId": "d430e07e-391c-48bc-ff2b-1eda87d5c104"
      },
      "outputs": [
        {
          "name": "stdout",
          "output_type": "stream",
          "text": [
            "primary_cleaner.input.sulfate\n",
            "primary_cleaner.input.depressant\n",
            "primary_cleaner.input.feed_size\n",
            "primary_cleaner.input.xanthate\n",
            "primary_cleaner.state.floatbank8_a_air\n",
            "primary_cleaner.state.floatbank8_a_level\n",
            "primary_cleaner.state.floatbank8_b_air\n",
            "primary_cleaner.state.floatbank8_b_level\n",
            "primary_cleaner.state.floatbank8_c_air\n",
            "primary_cleaner.state.floatbank8_c_level\n",
            "primary_cleaner.state.floatbank8_d_air\n",
            "primary_cleaner.state.floatbank8_d_level\n",
            "rougher.input.feed_ag\n",
            "rougher.input.feed_pb\n",
            "rougher.input.feed_rate\n",
            "rougher.input.feed_size\n",
            "rougher.input.feed_sol\n",
            "rougher.input.feed_au\n",
            "rougher.input.floatbank10_sulfate\n",
            "rougher.input.floatbank10_xanthate\n",
            "rougher.input.floatbank11_sulfate\n",
            "rougher.input.floatbank11_xanthate\n",
            "rougher.state.floatbank10_a_air\n",
            "rougher.state.floatbank10_a_level\n",
            "rougher.state.floatbank10_b_air\n",
            "rougher.state.floatbank10_b_level\n",
            "rougher.state.floatbank10_c_air\n",
            "rougher.state.floatbank10_c_level\n",
            "rougher.state.floatbank10_d_air\n",
            "rougher.state.floatbank10_d_level\n",
            "rougher.state.floatbank10_e_air\n",
            "rougher.state.floatbank10_e_level\n",
            "rougher.state.floatbank10_f_air\n",
            "rougher.state.floatbank10_f_level\n",
            "secondary_cleaner.state.floatbank2_a_air\n",
            "secondary_cleaner.state.floatbank2_a_level\n",
            "secondary_cleaner.state.floatbank2_b_air\n",
            "secondary_cleaner.state.floatbank2_b_level\n",
            "secondary_cleaner.state.floatbank3_a_air\n",
            "secondary_cleaner.state.floatbank3_a_level\n",
            "secondary_cleaner.state.floatbank3_b_air\n",
            "secondary_cleaner.state.floatbank3_b_level\n",
            "secondary_cleaner.state.floatbank4_a_air\n",
            "secondary_cleaner.state.floatbank4_a_level\n",
            "secondary_cleaner.state.floatbank4_b_air\n",
            "secondary_cleaner.state.floatbank4_b_level\n",
            "secondary_cleaner.state.floatbank5_a_air\n",
            "secondary_cleaner.state.floatbank5_a_level\n",
            "secondary_cleaner.state.floatbank5_b_air\n",
            "secondary_cleaner.state.floatbank5_b_level\n",
            "secondary_cleaner.state.floatbank6_a_air\n",
            "secondary_cleaner.state.floatbank6_a_level\n",
            "rougher.output.recovery\n",
            "final.output.recovery\n",
            "CPU times: user 2.26 ms, sys: 293 µs, total: 2.55 ms\n",
            "Wall time: 1.46 ms\n"
          ]
        }
      ],
      "source": [
        "%%time\n",
        "for column in data_test_new:\n",
        "    print(column)"
      ]
    },
    {
      "cell_type": "markdown",
      "metadata": {
        "id": "XetKocXW6ZHl"
      },
      "source": [
        "Установим в data_train_model такой де порядок столбцов, как и в data_test_new"
      ]
    },
    {
      "cell_type": "code",
      "execution_count": null,
      "metadata": {
        "id": "YR1611Dq6ZHl",
        "outputId": "1e8240d8-f0bc-4f3a-a7da-a2ddf6eb601a"
      },
      "outputs": [
        {
          "name": "stdout",
          "output_type": "stream",
          "text": [
            "<class 'pandas.core.frame.DataFrame'>\n",
            "Int64Index: 13725 entries, 0 to 14148\n",
            "Data columns (total 54 columns):\n",
            " #   Column                                      Non-Null Count  Dtype  \n",
            "---  ------                                      --------------  -----  \n",
            " 0   primary_cleaner.input.sulfate               13725 non-null  float64\n",
            " 1   primary_cleaner.input.depressant            13725 non-null  float64\n",
            " 2   primary_cleaner.input.feed_size             13725 non-null  float64\n",
            " 3   primary_cleaner.input.xanthate              13725 non-null  float64\n",
            " 4   primary_cleaner.state.floatbank8_a_air      13725 non-null  float64\n",
            " 5   primary_cleaner.state.floatbank8_a_level    13725 non-null  float64\n",
            " 6   primary_cleaner.state.floatbank8_b_air      13725 non-null  float64\n",
            " 7   primary_cleaner.state.floatbank8_b_level    13725 non-null  float64\n",
            " 8   primary_cleaner.state.floatbank8_c_air      13725 non-null  float64\n",
            " 9   primary_cleaner.state.floatbank8_c_level    13725 non-null  float64\n",
            " 10  primary_cleaner.state.floatbank8_d_air      13725 non-null  float64\n",
            " 11  primary_cleaner.state.floatbank8_d_level    13725 non-null  float64\n",
            " 12  rougher.input.feed_ag                       13725 non-null  float64\n",
            " 13  rougher.input.feed_pb                       13725 non-null  float64\n",
            " 14  rougher.input.feed_rate                     13725 non-null  float64\n",
            " 15  rougher.input.feed_size                     13725 non-null  float64\n",
            " 16  rougher.input.feed_sol                      13725 non-null  float64\n",
            " 17  rougher.input.feed_au                       13725 non-null  float64\n",
            " 18  rougher.input.floatbank10_sulfate           13725 non-null  float64\n",
            " 19  rougher.input.floatbank10_xanthate          13725 non-null  float64\n",
            " 20  rougher.input.floatbank11_sulfate           13725 non-null  float64\n",
            " 21  rougher.input.floatbank11_xanthate          13725 non-null  float64\n",
            " 22  rougher.state.floatbank10_a_air             13725 non-null  float64\n",
            " 23  rougher.state.floatbank10_a_level           13725 non-null  float64\n",
            " 24  rougher.state.floatbank10_b_air             13725 non-null  float64\n",
            " 25  rougher.state.floatbank10_b_level           13725 non-null  float64\n",
            " 26  rougher.state.floatbank10_c_air             13725 non-null  float64\n",
            " 27  rougher.state.floatbank10_c_level           13725 non-null  float64\n",
            " 28  rougher.state.floatbank10_d_air             13725 non-null  float64\n",
            " 29  rougher.state.floatbank10_d_level           13725 non-null  float64\n",
            " 30  rougher.state.floatbank10_e_air             13725 non-null  float64\n",
            " 31  rougher.state.floatbank10_e_level           13725 non-null  float64\n",
            " 32  rougher.state.floatbank10_f_air             13725 non-null  float64\n",
            " 33  rougher.state.floatbank10_f_level           13725 non-null  float64\n",
            " 34  secondary_cleaner.state.floatbank2_a_air    13725 non-null  float64\n",
            " 35  secondary_cleaner.state.floatbank2_a_level  13725 non-null  float64\n",
            " 36  secondary_cleaner.state.floatbank2_b_air    13725 non-null  float64\n",
            " 37  secondary_cleaner.state.floatbank2_b_level  13725 non-null  float64\n",
            " 38  secondary_cleaner.state.floatbank3_a_air    13725 non-null  float64\n",
            " 39  secondary_cleaner.state.floatbank3_a_level  13725 non-null  float64\n",
            " 40  secondary_cleaner.state.floatbank3_b_air    13725 non-null  float64\n",
            " 41  secondary_cleaner.state.floatbank3_b_level  13725 non-null  float64\n",
            " 42  secondary_cleaner.state.floatbank4_a_air    13725 non-null  float64\n",
            " 43  secondary_cleaner.state.floatbank4_a_level  13725 non-null  float64\n",
            " 44  secondary_cleaner.state.floatbank4_b_air    13725 non-null  float64\n",
            " 45  secondary_cleaner.state.floatbank4_b_level  13725 non-null  float64\n",
            " 46  secondary_cleaner.state.floatbank5_a_air    13725 non-null  float64\n",
            " 47  secondary_cleaner.state.floatbank5_a_level  13725 non-null  float64\n",
            " 48  secondary_cleaner.state.floatbank5_b_air    13725 non-null  float64\n",
            " 49  secondary_cleaner.state.floatbank5_b_level  13725 non-null  float64\n",
            " 50  secondary_cleaner.state.floatbank6_a_air    13725 non-null  float64\n",
            " 51  secondary_cleaner.state.floatbank6_a_level  13725 non-null  float64\n",
            " 52  rougher.output.recovery                     13725 non-null  float64\n",
            " 53  final.output.recovery                       13725 non-null  float64\n",
            "dtypes: float64(54)\n",
            "memory usage: 5.8 MB\n",
            "None\n",
            "CPU times: user 9.05 ms, sys: 4.15 ms, total: 13.2 ms\n",
            "Wall time: 12.5 ms\n"
          ]
        }
      ],
      "source": [
        "%%time\n",
        "data_train_model = data_train_model.reindex(columns=['primary_cleaner.input.sulfate','primary_cleaner.input.depressant','primary_cleaner.input.feed_size','primary_cleaner.input.xanthate',\n",
        "'primary_cleaner.state.floatbank8_a_air',\n",
        "'primary_cleaner.state.floatbank8_a_level',\n",
        "'primary_cleaner.state.floatbank8_b_air',\n",
        "'primary_cleaner.state.floatbank8_b_level',\n",
        "'primary_cleaner.state.floatbank8_c_air',\n",
        "'primary_cleaner.state.floatbank8_c_level',\n",
        "'primary_cleaner.state.floatbank8_d_air',\n",
        "'primary_cleaner.state.floatbank8_d_level',\n",
        "'rougher.input.feed_ag',\n",
        "'rougher.input.feed_pb',\n",
        "'rougher.input.feed_rate',\n",
        "'rougher.input.feed_size',\n",
        "'rougher.input.feed_sol',\n",
        "'rougher.input.feed_au',\n",
        "'rougher.input.floatbank10_sulfate',\n",
        "'rougher.input.floatbank10_xanthate',\n",
        "'rougher.input.floatbank11_sulfate',\n",
        "'rougher.input.floatbank11_xanthate',\n",
        "'rougher.state.floatbank10_a_air',\n",
        "'rougher.state.floatbank10_a_level',\n",
        "'rougher.state.floatbank10_b_air',\n",
        "'rougher.state.floatbank10_b_level',\n",
        "'rougher.state.floatbank10_c_air',\n",
        "'rougher.state.floatbank10_c_level',\n",
        "'rougher.state.floatbank10_d_air',\n",
        "'rougher.state.floatbank10_d_level',\n",
        "'rougher.state.floatbank10_e_air',\n",
        "'rougher.state.floatbank10_e_level',\n",
        "'rougher.state.floatbank10_f_air',\n",
        "'rougher.state.floatbank10_f_level',\n",
        "'secondary_cleaner.state.floatbank2_a_air',\n",
        "'secondary_cleaner.state.floatbank2_a_level',\n",
        "'secondary_cleaner.state.floatbank2_b_air',\n",
        "'secondary_cleaner.state.floatbank2_b_level',\n",
        "'secondary_cleaner.state.floatbank3_a_air',\n",
        "'secondary_cleaner.state.floatbank3_a_level',\n",
        "'secondary_cleaner.state.floatbank3_b_air',\n",
        "'secondary_cleaner.state.floatbank3_b_level',\n",
        "'secondary_cleaner.state.floatbank4_a_air',\n",
        "'secondary_cleaner.state.floatbank4_a_level',\n",
        "'secondary_cleaner.state.floatbank4_b_air',\n",
        "'secondary_cleaner.state.floatbank4_b_level',\n",
        "'secondary_cleaner.state.floatbank5_a_air',\n",
        "'secondary_cleaner.state.floatbank5_a_level',\n",
        "'secondary_cleaner.state.floatbank5_b_air',\n",
        "'secondary_cleaner.state.floatbank5_b_level',\n",
        "'secondary_cleaner.state.floatbank6_a_air',\n",
        "'secondary_cleaner.state.floatbank6_a_level',\n",
        "'rougher.output.recovery',\n",
        "'final.output.recovery'])\n",
        "print(data_train_model.info())\n"
      ]
    },
    {
      "cell_type": "code",
      "execution_count": null,
      "metadata": {
        "id": "mSlHTBhD6ZHm",
        "outputId": "b30a98a8-3658-4a51-bfb9-f4ca57d4a479"
      },
      "outputs": [
        {
          "name": "stdout",
          "output_type": "stream",
          "text": [
            "CPU times: user 3 µs, sys: 0 ns, total: 3 µs\n",
            "Wall time: 5.72 µs\n"
          ]
        }
      ],
      "source": [
        "%%time\n",
        "def part_sMAPE (final_real, final_predicted):\n",
        "    n = final_real.shape[0]\n",
        "    return ((2*abs(final_real - final_predicted)/ (abs(final_real) + abs(final_predicted))).sum() * 100 / n)"
      ]
    },
    {
      "cell_type": "code",
      "execution_count": null,
      "metadata": {
        "id": "LnPAZMQP6ZHm",
        "outputId": "abda1b4a-3ecf-422a-b201-06c47797eb44"
      },
      "outputs": [
        {
          "name": "stdout",
          "output_type": "stream",
          "text": [
            "CPU times: user 2 µs, sys: 0 ns, total: 2 µs\n",
            "Wall time: 5.01 µs\n"
          ]
        }
      ],
      "source": [
        "%%time\n",
        "def sMAPE_score(rougher,final):\n",
        "    return rougher * 0.25 + final * 0.75"
      ]
    },
    {
      "cell_type": "markdown",
      "metadata": {
        "id": "1Y27Cd2w6ZHn"
      },
      "source": [
        "**Результат** созданы функции для расчета основной метрики"
      ]
    },
    {
      "cell_type": "code",
      "execution_count": null,
      "metadata": {
        "id": "Qhq2jDzR6ZHo",
        "outputId": "e5f2dd77-799d-48c9-c8bb-58771e1d364b"
      },
      "outputs": [
        {
          "name": "stdout",
          "output_type": "stream",
          "text": [
            "CPU times: user 2.91 ms, sys: 0 ns, total: 2.91 ms\n",
            "Wall time: 2.85 ms\n"
          ]
        }
      ],
      "source": [
        "%%time\n",
        "target_train_final=data_train_model['final.output.recovery']\n",
        "target_valid_final=data_test_new['final.output.recovery']\n",
        "features_train_final=data_train_model.drop(['final.output.recovery'] , axis=1)\n",
        "features_valid_final=data_test_new.drop(['final.output.recovery'] , axis=1)"
      ]
    },
    {
      "cell_type": "code",
      "execution_count": null,
      "metadata": {
        "id": "wZ62JYqS6ZHo",
        "outputId": "28b3b0a3-efc6-4870-e027-c8e6bc774400"
      },
      "outputs": [
        {
          "name": "stdout",
          "output_type": "stream",
          "text": [
            "CPU times: user 448 µs, sys: 4.08 ms, total: 4.53 ms\n",
            "Wall time: 4.41 ms\n"
          ]
        }
      ],
      "source": [
        "%%time\n",
        "target_train_rougher=data_train_model['rougher.output.recovery']\n",
        "target_valid_rougher=data_test_new['rougher.output.recovery']\n",
        "features_train_rougher=data_train_model.drop(['rougher.output.recovery'] , axis=1)\n",
        "features_valid_rougher=data_test_new.drop(['rougher.output.recovery'] , axis=1)"
      ]
    },
    {
      "cell_type": "code",
      "execution_count": null,
      "metadata": {
        "id": "XtqU4_T-6ZHp",
        "outputId": "ac785c60-ec86-41e4-f351-dc09f0a910dd"
      },
      "outputs": [
        {
          "name": "stdout",
          "output_type": "stream",
          "text": [
            "-9.262576923255029\n",
            "CPU times: user 3min 57s, sys: 620 ms, total: 3min 57s\n",
            "Wall time: 3min 58s\n"
          ]
        }
      ],
      "source": [
        "%%time\n",
        "model = RandomForestRegressor(random_state=12345)\n",
        "scores = cross_val_score(model, features_train_final, target_train_final, cv=5, scoring = make_scorer(part_sMAPE, greater_is_better=False))\n",
        "final_score = pd.Series(scores).mean()\n",
        "print(final_score)\n",
        "\n"
      ]
    },
    {
      "cell_type": "markdown",
      "metadata": {
        "id": "ITCHiuvB6ZHp"
      },
      "source": [
        "настройка параметра scoring для частного sMAPE"
      ]
    },
    {
      "cell_type": "markdown",
      "metadata": {
        "id": "KRaD_mrd6ZHq"
      },
      "source": [
        "**Модель 1 : линейная регрессия**"
      ]
    },
    {
      "cell_type": "markdown",
      "metadata": {
        "id": "WgQ_tqHz6ZHq"
      },
      "source": [
        "для прогноза эффективности обогащения финального концентрата final.output.recovery"
      ]
    },
    {
      "cell_type": "code",
      "execution_count": null,
      "metadata": {
        "id": "-QnvqkDB6ZHq",
        "outputId": "05d17391-9650-47a6-a9d4-6d4d2e92b391"
      },
      "outputs": [
        {
          "name": "stdout",
          "output_type": "stream",
          "text": [
            "final.output.recovery\n",
            "метрика частного sMAPE LinearRegression = 8.397958813079292\n"
          ]
        }
      ],
      "source": [
        "model = LinearRegression()\n",
        "regressor = LinearRegression()\n",
        "model.fit(features_train_final, target_train_final)\n",
        "scores = cross_val_score(model, features_train_final, target_train_final, cv=5, scoring = make_scorer(part_sMAPE, greater_is_better=False))\n",
        "final_score = pd.Series(scores).mean()\n",
        "\n",
        "print(\"final.output.recovery\")\n",
        "print('метрика частного sMAPE LinearRegression =', - final_score)\n"
      ]
    },
    {
      "cell_type": "markdown",
      "metadata": {
        "id": "9x7RRoPr6ZHr"
      },
      "source": [
        "для прогноза эффективности обогащения чернового концентрата rougher.output.recovery"
      ]
    },
    {
      "cell_type": "code",
      "execution_count": null,
      "metadata": {
        "id": "DY0JZUwY6ZHr",
        "outputId": "e38a50a2-ca86-4435-96a3-5c8cd07adc19"
      },
      "outputs": [
        {
          "name": "stdout",
          "output_type": "stream",
          "text": [
            "rougher.output.recovery\n",
            "метрика частного sMAPE LinearRegression = 5.839112136627217\n"
          ]
        }
      ],
      "source": [
        "model = LinearRegression()\n",
        "regressor = LinearRegression()\n",
        "model.fit(features_train_rougher, target_train_rougher)\n",
        "scores = cross_val_score(model, features_train_rougher, target_train_rougher, cv=5, scoring = make_scorer(part_sMAPE, greater_is_better=False))\n",
        "rougher_score = pd.Series(scores).mean()\n",
        "\n",
        "print(\"rougher.output.recovery\") \n",
        "print('метрика частного sMAPE LinearRegression =',- cross_val_score(regressor, features_train_rougher, target_train_rougher, cv=5, scoring=make_scorer(part_sMAPE, greater_is_better=False)).mean())\n"
      ]
    },
    {
      "cell_type": "markdown",
      "metadata": {
        "id": "q55rJYde6ZHr"
      },
      "source": [
        "основная метрика"
      ]
    },
    {
      "cell_type": "code",
      "execution_count": null,
      "metadata": {
        "id": "1ynshwS86ZHs",
        "outputId": "8f370dfa-963c-4223-9fdf-8b7dacd8d16f"
      },
      "outputs": [
        {
          "name": "stdout",
          "output_type": "stream",
          "text": [
            "основная метрика\n",
            "sMAPE для линейной регресии 7.7582471439662735\n"
          ]
        }
      ],
      "source": [
        "print('основная метрика')\n",
        "res1 = sMAPE_score(rougher_score, final_score)\n",
        "print('sMAPE для линейной регресии',- res1)"
      ]
    },
    {
      "cell_type": "markdown",
      "metadata": {
        "id": "JI8gJ7gx6ZHt"
      },
      "source": [
        "**Модель 2: Линейная регрессия и использованием StandardScaler**"
      ]
    },
    {
      "cell_type": "code",
      "execution_count": null,
      "metadata": {
        "id": "GabZZuDI6ZHt",
        "outputId": "f04a133a-42b3-4fa3-f49a-4b018172a262"
      },
      "outputs": [
        {
          "name": "stdout",
          "output_type": "stream",
          "text": [
            "[[ -3.43155241  -2.53095978 -12.06938263 ...  -3.60681753  13.64108896\n",
            "  -10.56048065]\n",
            " [ -3.43251096  -2.51603009 -12.06938263 ...  -3.61149594  13.64552363\n",
            "  -10.56464313]\n",
            " [ -3.43369668  -2.42535905 -12.06938263 ...  -3.61056904  13.64432232\n",
            "  -10.56465812]\n",
            " ...\n",
            " [ -3.44559283  -2.72413546 -14.04085016 ...  -3.42824384  13.71749793\n",
            "  -10.53242447]\n",
            " [ -3.45003943  -2.72155299 -14.04085016 ...  -3.42753742  13.71815197\n",
            "  -10.51719817]\n",
            " [ -3.45241956  -2.71312676 -14.04085016 ...  -3.42826065  13.71920219\n",
            "  -10.52259858]]\n",
            "final.output.recovery\n",
            "метрика частного sMAPE LinearRegression = 8.397958813079292\n"
          ]
        }
      ],
      "source": [
        "model = LinearRegression()\n",
        "scaler = StandardScaler()\n",
        "scaled_data = scaler.fit_transform(features_train_final, target_train_final)\n",
        "print(scaler.transform(scaled_data))\n",
        "model.fit(features_train_final, target_train_final)\n",
        "scscores = cross_val_score(model, features_train_final, target_train_final, cv=5, scoring = make_scorer(part_sMAPE, greater_is_better=False))\n",
        "final_scscore = pd.Series(scscores).mean()\n",
        "\n",
        "print(\"final.output.recovery\")\n",
        "print('метрика частного sMAPE LinearRegression =', - final_scscore)\n",
        "\n"
      ]
    },
    {
      "cell_type": "code",
      "execution_count": null,
      "metadata": {
        "scrolled": true,
        "id": "W9k7l4Wv6ZHt",
        "outputId": "63dcb345-7b96-4160-f8f0-a512d96f213c"
      },
      "outputs": [
        {
          "name": "stdout",
          "output_type": "stream",
          "text": [
            "[[ -3.43155241  -2.53095978 -12.06938263 ...  -3.60681753  13.64108896\n",
            "   -7.15128271]\n",
            " [ -3.43251096  -2.51603009 -12.06938263 ...  -3.61149594  13.64552363\n",
            "   -7.16606891]\n",
            " [ -3.43369668  -2.42535905 -12.06938263 ...  -3.61056904  13.64432232\n",
            "   -7.17940242]\n",
            " ...\n",
            " [ -3.44559283  -2.72413546 -14.04085016 ...  -3.42824384  13.71749793\n",
            "   -7.19232428]\n",
            " [ -3.45003943  -2.72155299 -14.04085016 ...  -3.42753742  13.71815197\n",
            "   -7.20947536]\n",
            " [ -3.45241956  -2.71312676 -14.04085016 ...  -3.42826065  13.71920219\n",
            "   -7.15429513]]\n",
            "rougher.output.recovery\n",
            "метрика частного sMAPE LinearRegression = 5.839112136627217\n"
          ]
        }
      ],
      "source": [
        "model = LinearRegression()\n",
        "scaler = StandardScaler()\n",
        "scaled_data = scaler.fit_transform(features_train_rougher, target_train_rougher)\n",
        "print(scaler.transform(scaled_data))\n",
        "model.fit(features_train_rougher, target_train_rougher)\n",
        "rouscores = cross_val_score(model, features_train_rougher, target_train_rougher, cv=5, scoring = make_scorer(part_sMAPE, greater_is_better=False))\n",
        "rouscore = pd.Series(rouscores).mean()\n",
        "\n",
        "print(\"rougher.output.recovery\")\n",
        "print('метрика частного sMAPE LinearRegression =', - rouscore)\n"
      ]
    },
    {
      "cell_type": "code",
      "execution_count": null,
      "metadata": {
        "id": "ikPnnozq6ZHt",
        "outputId": "39260eea-0be2-4024-a1a7-676f6d9e9652"
      },
      "outputs": [
        {
          "name": "stdout",
          "output_type": "stream",
          "text": [
            "основная метрика\n",
            "sMAPE для линейной регресии 7.7582471439662735\n"
          ]
        }
      ],
      "source": [
        "print('основная метрика')\n",
        "res1 = sMAPE_score(rouscore, final_scscore)\n",
        "print('sMAPE для линейной регресии',- res1)"
      ]
    },
    {
      "cell_type": "markdown",
      "metadata": {
        "id": "0CwdYDH56ZHu"
      },
      "source": [
        "Проверяем на простой модели линейной регрессии и с StandardScaler. Влияния StandardScaler не наблюдается. "
      ]
    },
    {
      "cell_type": "markdown",
      "metadata": {
        "id": "13uZ3yeK6ZHu"
      },
      "source": [
        "**Модель 3 \"Случайный лес\" с меняющимися гиперпараметрами**"
      ]
    },
    {
      "cell_type": "code",
      "execution_count": null,
      "metadata": {
        "id": "PVpUZeUW6ZHu",
        "outputId": "78e307ae-6bd5-4a3c-f82d-7bae5d3fd8ed"
      },
      "outputs": [
        {
          "name": "stdout",
          "output_type": "stream",
          "text": [
            "final.output.recovery\n",
            "метрика частного sMAPE RandomForestRegressor = 8.096701848280457\n",
            "rougher.output.recovery\n",
            "метрика частного sMAPE RandomForestRegressor = 5.99913931685752\n",
            "основная метрика sMAPE 7.5723112154247225\n",
            "final.output.recovery\n",
            "метрика частного sMAPE RandomForestRegressor = 8.056016047733399\n",
            "rougher.output.recovery\n",
            "метрика частного sMAPE RandomForestRegressor = 5.944878097670286\n",
            "основная метрика sMAPE 7.528231560217621\n",
            "final.output.recovery\n",
            "метрика частного sMAPE RandomForestRegressor = 8.044179424150375\n",
            "rougher.output.recovery\n",
            "метрика частного sMAPE RandomForestRegressor = 5.9316949111967965\n",
            "основная метрика sMAPE 7.51605829591198\n",
            "final.output.recovery\n",
            "метрика частного sMAPE RandomForestRegressor = 8.006463018378051\n",
            "rougher.output.recovery\n",
            "метрика частного sMAPE RandomForestRegressor = 5.901626179351243\n",
            "основная метрика sMAPE 7.48025380862135\n",
            "final.output.recovery\n",
            "метрика частного sMAPE RandomForestRegressor = 8.02360388274622\n",
            "rougher.output.recovery\n",
            "метрика частного sMAPE RandomForestRegressor = 5.89831305043945\n",
            "основная метрика sMAPE 7.492281174669527\n",
            "final.output.recovery\n",
            "метрика частного sMAPE RandomForestRegressor = 8.01106674603478\n",
            "rougher.output.recovery\n",
            "метрика частного sMAPE RandomForestRegressor = 5.903479743244596\n",
            "основная метрика sMAPE 7.4841699953372345\n",
            "final.output.recovery\n",
            "метрика частного sMAPE RandomForestRegressor = 8.011521340022714\n",
            "rougher.output.recovery\n",
            "метрика частного sMAPE RandomForestRegressor = 5.9149079840727286\n",
            "основная метрика sMAPE 7.487368001035218\n",
            "final.output.recovery\n",
            "метрика частного sMAPE RandomForestRegressor = 8.00818718293062\n",
            "rougher.output.recovery\n",
            "метрика частного sMAPE RandomForestRegressor = 5.920150417280475\n",
            "основная метрика sMAPE 7.486177991518083\n",
            "final.output.recovery\n",
            "метрика частного sMAPE RandomForestRegressor = 8.005940215220289\n",
            "rougher.output.recovery\n",
            "метрика частного sMAPE RandomForestRegressor = 5.919749132159173\n",
            "основная метрика sMAPE 7.484392444455009\n",
            "final.output.recovery\n",
            "метрика частного sMAPE RandomForestRegressor = 7.9639908610579555\n",
            "rougher.output.recovery\n",
            "метрика частного sMAPE RandomForestRegressor = 5.7876813666238265\n",
            "основная метрика sMAPE 7.419913487449423\n",
            "final.output.recovery\n",
            "метрика частного sMAPE RandomForestRegressor = 7.906490622106006\n",
            "rougher.output.recovery\n",
            "метрика частного sMAPE RandomForestRegressor = 5.735202306521764\n",
            "основная метрика sMAPE 7.363668543209945\n",
            "final.output.recovery\n",
            "метрика частного sMAPE RandomForestRegressor = 7.89031061328495\n",
            "rougher.output.recovery\n",
            "метрика частного sMAPE RandomForestRegressor = 5.719401027220753\n",
            "основная метрика sMAPE 7.347583216768902\n",
            "final.output.recovery\n",
            "метрика частного sMAPE RandomForestRegressor = 7.840199905283088\n",
            "rougher.output.recovery\n",
            "метрика частного sMAPE RandomForestRegressor = 5.6894087191406255\n",
            "основная метрика sMAPE 7.302502108747473\n",
            "final.output.recovery\n",
            "метрика частного sMAPE RandomForestRegressor = 7.84145846553295\n",
            "rougher.output.recovery\n",
            "метрика частного sMAPE RandomForestRegressor = 5.706277240557367\n",
            "основная метрика sMAPE 7.307663159289054\n",
            "final.output.recovery\n",
            "метрика частного sMAPE RandomForestRegressor = 7.815433215704594\n",
            "rougher.output.recovery\n",
            "метрика частного sMAPE RandomForestRegressor = 5.704621857087227\n",
            "основная метрика sMAPE 7.287730376050252\n",
            "final.output.recovery\n",
            "метрика частного sMAPE RandomForestRegressor = 7.8067987893040165\n",
            "rougher.output.recovery\n",
            "метрика частного sMAPE RandomForestRegressor = 5.701850639754533\n",
            "основная метрика sMAPE 7.280561751916645\n",
            "final.output.recovery\n",
            "метрика частного sMAPE RandomForestRegressor = 7.811966706325471\n",
            "rougher.output.recovery\n",
            "метрика частного sMAPE RandomForestRegressor = 5.7047895843655105\n",
            "основная метрика sMAPE 7.285172425835481\n",
            "final.output.recovery\n",
            "метрика частного sMAPE RandomForestRegressor = 7.80927576907109\n",
            "rougher.output.recovery\n",
            "метрика частного sMAPE RandomForestRegressor = 5.717035414889368\n",
            "основная метрика sMAPE 7.286215680525659\n",
            "final.output.recovery\n",
            "метрика частного sMAPE RandomForestRegressor = 8.795150179807681\n",
            "rougher.output.recovery\n",
            "метрика частного sMAPE RandomForestRegressor = 5.343083224985256\n",
            "основная метрика sMAPE 7.932133441102075\n",
            "final.output.recovery\n",
            "метрика частного sMAPE RandomForestRegressor = 8.498868953802166\n",
            "rougher.output.recovery\n",
            "метрика частного sMAPE RandomForestRegressor = 5.290448526767767\n",
            "основная метрика sMAPE 7.696763847043567\n",
            "final.output.recovery\n",
            "метрика частного sMAPE RandomForestRegressor = 8.341437737154049\n",
            "rougher.output.recovery\n",
            "метрика частного sMAPE RandomForestRegressor = 5.327495003913083\n",
            "основная метрика sMAPE 7.587952053843807\n",
            "final.output.recovery\n",
            "метрика частного sMAPE RandomForestRegressor = 8.416970513387742\n",
            "rougher.output.recovery\n",
            "метрика частного sMAPE RandomForestRegressor = 5.2723245642817735\n",
            "основная метрика sMAPE 7.63080902611125\n",
            "final.output.recovery\n",
            "метрика частного sMAPE RandomForestRegressor = 8.325773655785008\n",
            "rougher.output.recovery\n",
            "метрика частного sMAPE RandomForestRegressor = 5.281863492665985\n",
            "основная метрика sMAPE 7.564796115005253\n",
            "final.output.recovery\n",
            "метрика частного sMAPE RandomForestRegressor = 8.252368198164241\n",
            "rougher.output.recovery\n",
            "метрика частного sMAPE RandomForestRegressor = 5.288893706652385\n",
            "основная метрика sMAPE 7.511499575286277\n",
            "final.output.recovery\n",
            "метрика частного sMAPE RandomForestRegressor = 8.187411795410531\n",
            "rougher.output.recovery\n",
            "метрика частного sMAPE RandomForestRegressor = 5.29946409474651\n",
            "основная метрика sMAPE 7.465424870244526\n",
            "final.output.recovery\n",
            "метрика частного sMAPE RandomForestRegressor = 8.177466699642029\n",
            "rougher.output.recovery\n",
            "метрика частного sMAPE RandomForestRegressor = 5.311723334513897\n",
            "основная метрика sMAPE 7.461030858359996\n",
            "final.output.recovery\n",
            "метрика частного sMAPE RandomForestRegressor = 8.173126626649696\n",
            "rougher.output.recovery\n",
            "метрика частного sMAPE RandomForestRegressor = 5.315543102026495\n",
            "основная метрика sMAPE 7.458730745493895\n",
            "final.output.recovery\n",
            "метрика частного sMAPE RandomForestRegressor = 9.22473458459552\n",
            "rougher.output.recovery\n",
            "метрика частного sMAPE RandomForestRegressor = 5.552748607946865\n",
            "основная метрика sMAPE 8.306738090433356\n",
            "final.output.recovery\n",
            "метрика частного sMAPE RandomForestRegressor = 8.793493556134868\n",
            "rougher.output.recovery\n",
            "метрика частного sMAPE RandomForestRegressor = 5.427042332501213\n",
            "основная метрика sMAPE 7.9518807502264535\n",
            "final.output.recovery\n",
            "метрика частного sMAPE RandomForestRegressor = 8.720922116241153\n",
            "rougher.output.recovery\n",
            "метрика частного sMAPE RandomForestRegressor = 5.391289428970664\n",
            "основная метрика sMAPE 7.888513944423531\n",
            "final.output.recovery\n",
            "метрика частного sMAPE RandomForestRegressor = 8.789984584754864\n",
            "rougher.output.recovery\n",
            "метрика частного sMAPE RandomForestRegressor = 5.3384541266626\n",
            "основная метрика sMAPE 7.927101970231798\n",
            "final.output.recovery\n",
            "метрика частного sMAPE RandomForestRegressor = 8.770097923390335\n",
            "rougher.output.recovery\n",
            "метрика частного sMAPE RandomForestRegressor = 5.309420066435081\n",
            "основная метрика sMAPE 7.904928459151521\n",
            "final.output.recovery\n",
            "метрика частного sMAPE RandomForestRegressor = 8.71384707650267\n",
            "rougher.output.recovery\n",
            "метрика частного sMAPE RandomForestRegressor = 5.319114087957421\n",
            "основная метрика sMAPE 7.865163829366358\n",
            "final.output.recovery\n",
            "метрика частного sMAPE RandomForestRegressor = 8.613341085434035\n",
            "rougher.output.recovery\n",
            "метрика частного sMAPE RandomForestRegressor = 5.317472409473214\n",
            "основная метрика sMAPE 7.78937391644383\n",
            "final.output.recovery\n",
            "метрика частного sMAPE RandomForestRegressor = 8.596342698252041\n",
            "rougher.output.recovery\n",
            "метрика частного sMAPE RandomForestRegressor = 5.328790403947687\n",
            "основная метрика sMAPE 7.779454624675953\n",
            "final.output.recovery\n",
            "метрика частного sMAPE RandomForestRegressor = 8.590739128582655\n",
            "rougher.output.recovery\n",
            "метрика частного sMAPE RandomForestRegressor = 5.304421006653358\n",
            "основная метрика sMAPE 7.76915959810033\n",
            "Cамая эффективная модель - best_mod RandomForestRegressor(max_depth=4, n_estimators=35, random_state=12345)\n",
            "sMAPE наилучшей модели: 7.280561751916645\n",
            "CPU times: user 28min 44s, sys: 1.47 s, total: 28min 46s\n",
            "Wall time: 28min 49s\n"
          ]
        }
      ],
      "source": [
        "%%time\n",
        "\n",
        "best_mod = None\n",
        "best_res = 100\n",
        "best_dep = 0\n",
        "for depth in range(2, 10, 2):\n",
        "    for est in range(5, 50, 5):\n",
        "        model = RandomForestRegressor(n_estimators=est, \n",
        "        max_depth=depth, random_state=12345)\n",
        "        model.fit(features_train_final, target_train_final)\n",
        "        scores_for = cross_val_score(model, features_train_final, target_train_final, cv=5, scoring = make_scorer(part_sMAPE, greater_is_better=False))\n",
        "        final_forest = pd.Series(scores_for).mean()\n",
        "        \n",
        "        print(\"final.output.recovery\")\n",
        "        print('метрика частного sMAPE RandomForestRegressor =', - final_forest)\n",
        "\n",
        "        model = RandomForestRegressor(n_estimators=est, \n",
        "        max_depth=depth, random_state=12345)\n",
        "        model.fit(features_train_rougher, target_train_rougher)\n",
        "        scores_for = cross_val_score(model, features_train_rougher, target_train_rougher, cv=5, scoring = make_scorer(part_sMAPE, greater_is_better=False))\n",
        "        rougher_forest = pd.Series(scores_for).mean()\n",
        "        \n",
        "        print(\"rougher.output.recovery\")\n",
        "        print('метрика частного sMAPE RandomForestRegressor =',- rougher_forest)\n",
        "        forest_result = -(sMAPE_score(rougher_forest, final_forest))\n",
        "        print('основная метрика sMAPE',forest_result)\n",
        "        if forest_result < best_res:\n",
        "            best_mod = model\n",
        "            best_res = forest_result\n",
        "            best_deр = depth\n",
        "print('Cамая эффективная модель - best_mod',best_mod)\n",
        "print(\"sMAPE наилучшей модели:\", best_res)"
      ]
    },
    {
      "cell_type": "markdown",
      "metadata": {
        "id": "yd3ZodUC6ZHu"
      },
      "source": [
        "**Модель 4: Дерево решений с меняющимися гиперпараметрами**"
      ]
    },
    {
      "cell_type": "code",
      "execution_count": null,
      "metadata": {
        "id": "mgu8nSMR6ZHw",
        "outputId": "f2a99615-016e-4446-ea29-9770236ef5c0"
      },
      "outputs": [
        {
          "name": "stdout",
          "output_type": "stream",
          "text": [
            "final.output.recovery\n",
            "метрика частного sMAPE DecisionTreeRegressor = 8.397958813079292\n",
            "rougher.output.recovery\n",
            "метрика частного sMAPE DecisionTreeRegressor = 5.839112136627217\n",
            "основная метрика sMAPE 8.667599328911317\n",
            "final.output.recovery\n",
            "метрика частного sMAPE DecisionTreeRegressor = 8.397958813079292\n",
            "rougher.output.recovery\n",
            "метрика частного sMAPE DecisionTreeRegressor = 5.839112136627217\n",
            "основная метрика sMAPE 7.740375988606353\n",
            "final.output.recovery\n",
            "метрика частного sMAPE DecisionTreeRegressor = 8.397958813079292\n",
            "rougher.output.recovery\n",
            "метрика частного sMAPE DecisionTreeRegressor = 5.839112136627217\n",
            "основная метрика sMAPE 7.772390869672057\n",
            "final.output.recovery\n",
            "метрика частного sMAPE DecisionTreeRegressor = 8.397958813079292\n",
            "rougher.output.recovery\n",
            "метрика частного sMAPE DecisionTreeRegressor = 5.839112136627217\n",
            "основная метрика sMAPE 7.983415154986233\n",
            "final.output.recovery\n",
            "метрика частного sMAPE DecisionTreeRegressor = 8.397958813079292\n",
            "rougher.output.recovery\n",
            "метрика частного sMAPE DecisionTreeRegressor = 5.839112136627217\n",
            "основная метрика sMAPE 8.372368769177639\n",
            "final.output.recovery\n",
            "метрика частного sMAPE DecisionTreeRegressor = 8.397958813079292\n",
            "rougher.output.recovery\n",
            "метрика частного sMAPE DecisionTreeRegressor = 5.839112136627217\n",
            "основная метрика sMAPE 9.066937337779315\n",
            "final.output.recovery\n",
            "метрика частного sMAPE DecisionTreeRegressor = 8.397958813079292\n",
            "rougher.output.recovery\n",
            "метрика частного sMAPE DecisionTreeRegressor = 5.839112136627217\n",
            "основная метрика sMAPE 10.09300623496899\n",
            "final.output.recovery\n",
            "метрика частного sMAPE DecisionTreeRegressor = 8.397958813079292\n",
            "rougher.output.recovery\n",
            "метрика частного sMAPE DecisionTreeRegressor = 5.839112136627217\n",
            "основная метрика sMAPE 10.149220339562978\n",
            "final.output.recovery\n",
            "метрика частного sMAPE DecisionTreeRegressor = 8.397958813079292\n",
            "rougher.output.recovery\n",
            "метрика частного sMAPE DecisionTreeRegressor = 5.839112136627217\n",
            "основная метрика sMAPE 10.598371144440296\n",
            "Cамая эффективная модель - best_mod DecisionTreeRegressor(max_depth=2, random_state=12345)\n",
            "sMAPE наилучшей модели: 7.740375988606353\n",
            "CPU times: user 40.7 s, sys: 15.2 s, total: 56 s\n",
            "Wall time: 56.3 s\n"
          ]
        }
      ],
      "source": [
        "%%time\n",
        "\n",
        "best_model = None\n",
        "best_result = 100\n",
        "best_depth = 0\n",
        "for depth in range(1, 10):\n",
        "    model = DecisionTreeRegressor(max_depth=depth, random_state=12345)\n",
        "    model.fit(features_train_final, target_train_final)\n",
        "    scores = cross_val_score(model, features_train_final, target_train_final, cv=5, scoring = make_scorer(part_sMAPE, greater_is_better=False))\n",
        "    final_tree = pd.Series(scores).mean()\n",
        "   \n",
        "    print(\"final.output.recovery\")\n",
        "    print('метрика частного sMAPE DecisionTreeRegressor =', - cross_val_score(regressor, features_train_final, target_train_final, cv=5, scoring=make_scorer(part_sMAPE, greater_is_better=False)).mean())\n",
        "    \n",
        "    model = DecisionTreeRegressor(max_depth=depth, random_state=12345)\n",
        "    model.fit(features_train_rougher, target_train_rougher)\n",
        "    scores = cross_val_score(model, features_train_rougher, target_train_rougher, cv=5, scoring = make_scorer(part_sMAPE, greater_is_better=False))\n",
        "    rougher_tree= pd.Series(scores).mean()\n",
        "    \n",
        "    print(\"rougher.output.recovery\")\n",
        "    print('метрика частного sMAPE DecisionTreeRegressor =',- cross_val_score(regressor, features_train_rougher, target_train_rougher, cv=5, scoring=make_scorer(part_sMAPE, greater_is_better=False)).mean())\n",
        "    tree_result = -(sMAPE_score(rougher_tree, final_tree))\n",
        "    print('основная метрика sMAPE',tree_result)\n",
        "    if tree_result < best_result:\n",
        "        best_model = model\n",
        "        best_result = tree_result\n",
        "        best_deрth = depth\n",
        "print('Cамая эффективная модель - best_mod',best_model)\n",
        "print(\"sMAPE наилучшей модели:\", best_result)"
      ]
    },
    {
      "cell_type": "markdown",
      "metadata": {
        "id": "_7uLCXf-6ZHx"
      },
      "source": [
        "**Выбор модели**"
      ]
    },
    {
      "cell_type": "markdown",
      "metadata": {
        "id": "MtXkwjre6ZHy"
      },
      "source": [
        "По условиям проекта основная метрика sMAPE. По этому критерию самая эффективная модель - best_mod RandomForestRegressor(max_depth=4, n_estimators=35, random_state=12345)\n",
        "sMAPE наилучшей модели: 7.280561751916645"
      ]
    },
    {
      "cell_type": "code",
      "execution_count": null,
      "metadata": {
        "id": "U7Psazbu6ZHz",
        "outputId": "a06d669f-bff7-4b87-bcb5-394735a6afdd"
      },
      "outputs": [
        {
          "name": "stdout",
          "output_type": "stream",
          "text": [
            "final.output.recovery\n",
            "метрика частного sMAPE RandomForestRegressor на трейне выборке = 7.8067987893040165\n",
            "final.output.recovery\n",
            "метрика частного sMAPE RandomForestRegressor на тестовой выборке = 8.12267110081735\n",
            "\n",
            "rougher.output.recovery\n",
            "метрика частного sMAPE RandomForestRegressor на трейне выборке = 5.701850639754533\n",
            "\n",
            "rougher.output.recovery\n",
            "метрика частного sMAPE RandomForestRegressor на тестовой выборке = 7.814444079821192\n",
            "\n",
            "основная метрика sMAPE на трейне выборке 7.280561751916645\n",
            "основная метрика sMAPE на тестовой выборке 8.04561434556831\n"
          ]
        }
      ],
      "source": [
        "model = RandomForestRegressor(n_estimators=35, \n",
        "max_depth=4, random_state=12345)\n",
        "model.fit(features_train_final, target_train_final)\n",
        "scores_for1 = cross_val_score(model, features_train_final, target_train_final, cv=5, scoring = make_scorer(part_sMAPE, greater_is_better=False))\n",
        "final_forest1 = pd.Series(scores_for1).mean()\n",
        "print(\"final.output.recovery\")\n",
        "print('метрика частного sMAPE RandomForestRegressor на трейне выборке =', - final_forest1)\n",
        "predicted_final = model.predict(features_valid_final)\n",
        "res_fin = part_sMAPE(target_valid_final, predicted_final)\n",
        "print(\"final.output.recovery\")\n",
        "print('метрика частного sMAPE RandomForestRegressor на тестовой выборке =', res_fin)\n",
        "print()\n",
        "model = RandomForestRegressor(n_estimators=35, \n",
        "max_depth=4, random_state=12345)\n",
        "model.fit(features_train_rougher, target_train_rougher)\n",
        "scores_for1 = cross_val_score(model, features_train_rougher, target_train_rougher, cv=5, scoring = make_scorer(part_sMAPE, greater_is_better=False))\n",
        "rougher_forest1 = pd.Series(scores_for1).mean()\n",
        "print(\"rougher.output.recovery\")\n",
        "print('метрика частного sMAPE RandomForestRegressor на трейне выборке =',- rougher_forest1)\n",
        "print()\n",
        "predicted_rougher = model.predict(features_valid_rougher)\n",
        "res_rou = part_sMAPE(target_valid_rougher, predicted_rougher)\n",
        "print(\"rougher.output.recovery\")\n",
        "print('метрика частного sMAPE RandomForestRegressor на тестовой выборке =', res_rou)\n",
        "print()\n",
        "forest_result1 = -(sMAPE_score(rougher_forest1, final_forest1))\n",
        "print('основная метрика sMAPE на трейне выборке',forest_result1)\n",
        "forest_result2 = (sMAPE_score(res_rou, res_fin))\n",
        "print('основная метрика sMAPE на тестовой выборке',forest_result2)"
      ]
    },
    {
      "cell_type": "code",
      "execution_count": null,
      "metadata": {
        "id": "ujwRgJ9m6ZH0",
        "outputId": "01072470-8ee6-43b1-fcf3-13f3cb9670d5"
      },
      "outputs": [
        {
          "name": "stdout",
          "output_type": "stream",
          "text": [
            "final.output DummyRegressor метрика частного sMAPE 10.086634972028312\n",
            "rougher.output DummyRegressor метрика частного sMAPE 9.064360592154268\n",
            "основная метрика DummyRegressor 9.8310663770598\n"
          ]
        }
      ],
      "source": [
        "model = DummyRegressor()\n",
        "model.fit(features_train_final, target_train_final)\n",
        "predicted_final_dum = model.predict(features_valid_final)\n",
        "dum_fin = part_sMAPE(target_valid_final, predicted_final_dum)\n",
        "print('final.output DummyRegressor метрика частного sMAPE',dum_fin)\n",
        "model = DummyRegressor()\n",
        "model.fit(features_train_rougher, target_train_rougher)\n",
        "predicted_rougher_dum = model.predict(features_valid_rougher)\n",
        "dum_roug = part_sMAPE(target_valid_rougher, predicted_rougher_dum)\n",
        "print('rougher.output DummyRegressor метрика частного sMAPE',dum_roug)\n",
        "dummi = (sMAPE_score(dum_roug, dum_fin))\n",
        "print('основная метрика DummyRegressor',dummi)"
      ]
    },
    {
      "cell_type": "markdown",
      "metadata": {
        "id": "pWDvTS-l6ZH1"
      },
      "source": [
        "**Общие выводы**\n",
        "1.  Открыты и изучены файлы.\n",
        "2.  Проведена предобработка данных\n",
        "3.  Проведена проверка что эффективность обогащения рассчитана правильно.\n",
        "4.  Проанализированы признаки, недоступные в тестовой выборке. \n",
        "5. Рассмотрено изменение концентрация металлов (Au, Ag, Pb) на различных этапах очистки. \n",
        "6. Рассмотрено распределения размеров гранул сырья на обучающей и тестовой выборках. \n",
        "7. Изучена суммарную концентрацию всех веществ на разных стадиях: в сырье, в черновом и финальном концентратах.\n",
        "8.   Напишите функцию для вычисления итоговой sMAPE.\n",
        "9.  Обучены 4 разные модели. \n",
        "10. Выбрана лучшая модель и проверена на тестовой выборке. \n"
      ]
    }
  ],
  "metadata": {
    "ExecuteTimeLog": [
      {
        "duration": 1058,
        "start_time": "2022-12-12T07:26:34.556Z"
      },
      {
        "duration": 107,
        "start_time": "2022-12-12T07:33:23.409Z"
      },
      {
        "duration": 4,
        "start_time": "2022-12-12T07:33:33.689Z"
      },
      {
        "duration": 15,
        "start_time": "2022-12-12T07:33:37.289Z"
      },
      {
        "duration": 2566,
        "start_time": "2022-12-12T07:35:30.998Z"
      },
      {
        "duration": 934,
        "start_time": "2022-12-12T07:38:50.950Z"
      },
      {
        "duration": 692,
        "start_time": "2022-12-12T07:39:20.181Z"
      },
      {
        "duration": 665,
        "start_time": "2022-12-12T07:40:33.406Z"
      },
      {
        "duration": 362,
        "start_time": "2022-12-12T07:41:57.704Z"
      },
      {
        "duration": 693,
        "start_time": "2022-12-12T07:42:21.658Z"
      },
      {
        "duration": 656,
        "start_time": "2022-12-12T07:43:50.014Z"
      },
      {
        "duration": 748,
        "start_time": "2022-12-12T07:47:00.536Z"
      },
      {
        "duration": 205,
        "start_time": "2022-12-12T09:31:44.327Z"
      },
      {
        "duration": 23,
        "start_time": "2022-12-12T11:19:07.640Z"
      },
      {
        "duration": 37,
        "start_time": "2022-12-12T11:19:33.743Z"
      },
      {
        "duration": 24,
        "start_time": "2022-12-12T11:19:54.693Z"
      },
      {
        "duration": 1173,
        "start_time": "2022-12-12T11:27:25.309Z"
      },
      {
        "duration": 787,
        "start_time": "2022-12-12T11:27:26.485Z"
      },
      {
        "duration": 267,
        "start_time": "2022-12-12T11:27:27.274Z"
      },
      {
        "duration": 29,
        "start_time": "2022-12-12T11:27:27.543Z"
      },
      {
        "duration": 22,
        "start_time": "2022-12-12T11:27:27.573Z"
      },
      {
        "duration": 50,
        "start_time": "2022-12-12T11:27:27.597Z"
      },
      {
        "duration": 29,
        "start_time": "2022-12-12T11:30:26.069Z"
      },
      {
        "duration": 215,
        "start_time": "2022-12-12T11:34:32.528Z"
      },
      {
        "duration": 4,
        "start_time": "2022-12-12T11:35:18.178Z"
      },
      {
        "duration": 123,
        "start_time": "2022-12-12T11:35:26.772Z"
      },
      {
        "duration": 35,
        "start_time": "2022-12-12T11:39:13.610Z"
      },
      {
        "duration": 79,
        "start_time": "2022-12-12T12:08:59.256Z"
      },
      {
        "duration": 9,
        "start_time": "2022-12-12T12:09:12.102Z"
      },
      {
        "duration": 88,
        "start_time": "2022-12-12T12:09:32.016Z"
      },
      {
        "duration": 6305,
        "start_time": "2022-12-12T12:16:32.342Z"
      },
      {
        "duration": 82,
        "start_time": "2022-12-12T12:17:25.376Z"
      },
      {
        "duration": 112,
        "start_time": "2022-12-12T12:18:09.522Z"
      },
      {
        "duration": 53,
        "start_time": "2022-12-12T12:19:01.542Z"
      },
      {
        "duration": 1194,
        "start_time": "2022-12-12T12:19:25.739Z"
      },
      {
        "duration": 775,
        "start_time": "2022-12-12T12:19:26.935Z"
      },
      {
        "duration": 259,
        "start_time": "2022-12-12T12:19:27.712Z"
      },
      {
        "duration": 29,
        "start_time": "2022-12-12T12:19:27.973Z"
      },
      {
        "duration": 6633,
        "start_time": "2022-12-12T12:19:28.004Z"
      },
      {
        "duration": 40,
        "start_time": "2022-12-12T12:19:34.639Z"
      },
      {
        "duration": 56,
        "start_time": "2022-12-12T12:19:34.682Z"
      },
      {
        "duration": 209,
        "start_time": "2022-12-12T12:19:34.740Z"
      },
      {
        "duration": 9,
        "start_time": "2022-12-12T12:22:21.996Z"
      },
      {
        "duration": 16,
        "start_time": "2022-12-12T12:22:49.828Z"
      },
      {
        "duration": 9,
        "start_time": "2022-12-12T12:22:58.231Z"
      },
      {
        "duration": 10,
        "start_time": "2022-12-12T12:23:09.088Z"
      },
      {
        "duration": 89,
        "start_time": "2022-12-12T12:23:36.696Z"
      },
      {
        "duration": 85,
        "start_time": "2022-12-12T12:23:47.362Z"
      },
      {
        "duration": 1218,
        "start_time": "2022-12-12T12:24:09.026Z"
      },
      {
        "duration": 930,
        "start_time": "2022-12-12T12:24:10.250Z"
      },
      {
        "duration": 279,
        "start_time": "2022-12-12T12:24:11.182Z"
      },
      {
        "duration": 29,
        "start_time": "2022-12-12T12:24:11.463Z"
      },
      {
        "duration": 80,
        "start_time": "2022-12-12T12:24:11.494Z"
      },
      {
        "duration": 27,
        "start_time": "2022-12-12T12:24:11.576Z"
      },
      {
        "duration": 53,
        "start_time": "2022-12-12T12:24:11.605Z"
      },
      {
        "duration": 1278,
        "start_time": "2022-12-12T12:25:00.409Z"
      },
      {
        "duration": 886,
        "start_time": "2022-12-12T12:25:01.690Z"
      },
      {
        "duration": 284,
        "start_time": "2022-12-12T12:25:02.578Z"
      },
      {
        "duration": 35,
        "start_time": "2022-12-12T12:25:02.865Z"
      },
      {
        "duration": 57,
        "start_time": "2022-12-12T12:25:02.902Z"
      },
      {
        "duration": 26,
        "start_time": "2022-12-12T12:25:02.962Z"
      },
      {
        "duration": 64,
        "start_time": "2022-12-12T12:25:02.990Z"
      },
      {
        "duration": 1313,
        "start_time": "2022-12-12T12:26:18.476Z"
      },
      {
        "duration": 901,
        "start_time": "2022-12-12T12:26:19.791Z"
      },
      {
        "duration": 266,
        "start_time": "2022-12-12T12:26:20.695Z"
      },
      {
        "duration": 45,
        "start_time": "2022-12-12T12:26:20.964Z"
      },
      {
        "duration": 32,
        "start_time": "2022-12-12T12:26:21.023Z"
      },
      {
        "duration": 26,
        "start_time": "2022-12-12T12:26:21.057Z"
      },
      {
        "duration": 55,
        "start_time": "2022-12-12T12:26:21.085Z"
      },
      {
        "duration": 54462,
        "start_time": "2022-12-12T12:26:21.142Z"
      },
      {
        "duration": 100,
        "start_time": "2022-12-12T12:33:13.904Z"
      },
      {
        "duration": 1225,
        "start_time": "2022-12-12T12:37:40.748Z"
      },
      {
        "duration": 3,
        "start_time": "2022-12-12T12:38:42.802Z"
      },
      {
        "duration": 1583,
        "start_time": "2022-12-12T12:38:49.529Z"
      },
      {
        "duration": 124,
        "start_time": "2022-12-12T12:39:17.655Z"
      },
      {
        "duration": 32,
        "start_time": "2022-12-12T13:12:52.644Z"
      },
      {
        "duration": 29,
        "start_time": "2022-12-12T13:13:51.259Z"
      },
      {
        "duration": 4,
        "start_time": "2022-12-12T13:15:44.344Z"
      },
      {
        "duration": 17,
        "start_time": "2022-12-12T13:15:52.714Z"
      },
      {
        "duration": 24,
        "start_time": "2022-12-12T13:17:36.802Z"
      },
      {
        "duration": 29,
        "start_time": "2022-12-12T13:17:51.133Z"
      },
      {
        "duration": 4,
        "start_time": "2022-12-12T13:19:51.768Z"
      },
      {
        "duration": 25,
        "start_time": "2022-12-12T13:20:02.939Z"
      },
      {
        "duration": 1116,
        "start_time": "2022-12-12T13:20:17.415Z"
      },
      {
        "duration": 790,
        "start_time": "2022-12-12T13:20:18.533Z"
      },
      {
        "duration": 247,
        "start_time": "2022-12-12T13:20:19.325Z"
      },
      {
        "duration": 28,
        "start_time": "2022-12-12T13:20:19.574Z"
      },
      {
        "duration": 44,
        "start_time": "2022-12-12T13:20:19.603Z"
      },
      {
        "duration": 21,
        "start_time": "2022-12-12T13:20:19.648Z"
      },
      {
        "duration": 26,
        "start_time": "2022-12-12T13:20:19.671Z"
      },
      {
        "duration": 136,
        "start_time": "2022-12-12T13:20:19.699Z"
      },
      {
        "duration": 3,
        "start_time": "2022-12-12T13:22:26.581Z"
      },
      {
        "duration": 1272,
        "start_time": "2022-12-13T09:40:53.136Z"
      },
      {
        "duration": 3542,
        "start_time": "2022-12-13T09:40:54.410Z"
      },
      {
        "duration": 264,
        "start_time": "2022-12-13T09:40:57.954Z"
      },
      {
        "duration": 35,
        "start_time": "2022-12-13T09:40:58.221Z"
      },
      {
        "duration": 36,
        "start_time": "2022-12-13T09:40:58.258Z"
      },
      {
        "duration": 3,
        "start_time": "2022-12-13T09:40:58.297Z"
      },
      {
        "duration": 29,
        "start_time": "2022-12-13T09:40:58.302Z"
      },
      {
        "duration": 48,
        "start_time": "2022-12-13T09:40:58.333Z"
      },
      {
        "duration": 154,
        "start_time": "2022-12-13T09:40:58.383Z"
      },
      {
        "duration": 1278,
        "start_time": "2022-12-13T12:32:18.293Z"
      },
      {
        "duration": 914,
        "start_time": "2022-12-13T12:32:19.573Z"
      },
      {
        "duration": 290,
        "start_time": "2022-12-13T12:32:20.489Z"
      },
      {
        "duration": 30,
        "start_time": "2022-12-13T12:32:20.781Z"
      },
      {
        "duration": 53,
        "start_time": "2022-12-13T12:32:20.814Z"
      },
      {
        "duration": 4,
        "start_time": "2022-12-13T12:32:20.869Z"
      },
      {
        "duration": 33,
        "start_time": "2022-12-13T12:32:20.875Z"
      },
      {
        "duration": 23,
        "start_time": "2022-12-13T12:32:20.910Z"
      },
      {
        "duration": 152,
        "start_time": "2022-12-13T12:32:20.934Z"
      },
      {
        "duration": 50,
        "start_time": "2022-12-13T12:33:43.294Z"
      },
      {
        "duration": 4,
        "start_time": "2022-12-13T12:35:13.057Z"
      },
      {
        "duration": 1131,
        "start_time": "2022-12-13T12:42:49.186Z"
      },
      {
        "duration": 811,
        "start_time": "2022-12-13T12:42:50.319Z"
      },
      {
        "duration": 243,
        "start_time": "2022-12-13T12:42:51.132Z"
      },
      {
        "duration": 28,
        "start_time": "2022-12-13T12:42:51.377Z"
      },
      {
        "duration": 50,
        "start_time": "2022-12-13T12:42:51.406Z"
      },
      {
        "duration": 4,
        "start_time": "2022-12-13T12:42:51.458Z"
      },
      {
        "duration": 30,
        "start_time": "2022-12-13T12:42:51.464Z"
      },
      {
        "duration": 24,
        "start_time": "2022-12-13T12:42:51.496Z"
      },
      {
        "duration": 44767,
        "start_time": "2022-12-13T12:42:51.523Z"
      },
      {
        "duration": 46569,
        "start_time": "2022-12-13T12:44:47.695Z"
      },
      {
        "duration": 1221,
        "start_time": "2022-12-13T16:10:54.116Z"
      },
      {
        "duration": 2223,
        "start_time": "2022-12-13T16:10:55.339Z"
      },
      {
        "duration": 232,
        "start_time": "2022-12-13T16:10:57.564Z"
      },
      {
        "duration": 36,
        "start_time": "2022-12-13T16:10:57.798Z"
      },
      {
        "duration": 37,
        "start_time": "2022-12-13T16:10:57.836Z"
      },
      {
        "duration": 3,
        "start_time": "2022-12-13T16:10:57.875Z"
      },
      {
        "duration": 45,
        "start_time": "2022-12-13T16:10:57.880Z"
      },
      {
        "duration": 28,
        "start_time": "2022-12-13T16:10:57.927Z"
      },
      {
        "duration": 38530,
        "start_time": "2022-12-13T16:11:37.264Z"
      },
      {
        "duration": 90,
        "start_time": "2022-12-13T16:14:27.809Z"
      },
      {
        "duration": 3,
        "start_time": "2022-12-13T16:14:49.926Z"
      },
      {
        "duration": 439,
        "start_time": "2022-12-13T16:14:53.053Z"
      },
      {
        "duration": 3,
        "start_time": "2022-12-13T16:15:13.676Z"
      },
      {
        "duration": 4,
        "start_time": "2022-12-13T16:17:15.975Z"
      },
      {
        "duration": 1058,
        "start_time": "2022-12-13T16:20:18.783Z"
      },
      {
        "duration": 749,
        "start_time": "2022-12-13T16:20:19.844Z"
      },
      {
        "duration": 246,
        "start_time": "2022-12-13T16:20:20.595Z"
      },
      {
        "duration": 28,
        "start_time": "2022-12-13T16:20:20.843Z"
      },
      {
        "duration": 9,
        "start_time": "2022-12-13T16:20:20.872Z"
      },
      {
        "duration": 1044,
        "start_time": "2022-12-13T16:20:20.882Z"
      },
      {
        "duration": 28,
        "start_time": "2022-12-13T16:20:21.928Z"
      },
      {
        "duration": 6,
        "start_time": "2022-12-13T16:20:21.957Z"
      },
      {
        "duration": 39,
        "start_time": "2022-12-13T16:20:21.965Z"
      },
      {
        "duration": 30,
        "start_time": "2022-12-13T16:20:22.007Z"
      },
      {
        "duration": 1085,
        "start_time": "2022-12-13T16:20:58.459Z"
      },
      {
        "duration": 725,
        "start_time": "2022-12-13T16:20:59.546Z"
      },
      {
        "duration": 253,
        "start_time": "2022-12-13T16:21:00.273Z"
      },
      {
        "duration": 28,
        "start_time": "2022-12-13T16:21:00.528Z"
      },
      {
        "duration": 4,
        "start_time": "2022-12-13T16:21:00.558Z"
      },
      {
        "duration": 583,
        "start_time": "2022-12-13T16:21:00.564Z"
      },
      {
        "duration": 26,
        "start_time": "2022-12-13T16:21:01.149Z"
      },
      {
        "duration": 4,
        "start_time": "2022-12-13T16:21:01.177Z"
      },
      {
        "duration": 48,
        "start_time": "2022-12-13T16:21:01.183Z"
      },
      {
        "duration": 28,
        "start_time": "2022-12-13T16:21:01.234Z"
      },
      {
        "duration": 38096,
        "start_time": "2022-12-13T16:21:01.264Z"
      },
      {
        "duration": 1135,
        "start_time": "2022-12-13T16:22:50.338Z"
      },
      {
        "duration": 735,
        "start_time": "2022-12-13T16:22:51.476Z"
      },
      {
        "duration": 256,
        "start_time": "2022-12-13T16:22:52.213Z"
      },
      {
        "duration": 27,
        "start_time": "2022-12-13T16:22:52.472Z"
      },
      {
        "duration": 3,
        "start_time": "2022-12-13T16:22:52.500Z"
      },
      {
        "duration": 464,
        "start_time": "2022-12-13T16:22:52.505Z"
      },
      {
        "duration": 26,
        "start_time": "2022-12-13T16:22:52.970Z"
      },
      {
        "duration": 25,
        "start_time": "2022-12-13T16:22:52.998Z"
      },
      {
        "duration": 24,
        "start_time": "2022-12-13T16:22:53.025Z"
      },
      {
        "duration": 22,
        "start_time": "2022-12-13T16:22:53.051Z"
      },
      {
        "duration": 40054,
        "start_time": "2022-12-13T16:22:53.075Z"
      },
      {
        "duration": 101,
        "start_time": "2022-12-13T16:27:46.049Z"
      },
      {
        "duration": 3,
        "start_time": "2022-12-13T16:28:04.810Z"
      },
      {
        "duration": 1115,
        "start_time": "2022-12-13T16:28:19.809Z"
      },
      {
        "duration": 732,
        "start_time": "2022-12-13T16:28:20.927Z"
      },
      {
        "duration": 247,
        "start_time": "2022-12-13T16:28:21.661Z"
      },
      {
        "duration": 34,
        "start_time": "2022-12-13T16:28:21.909Z"
      },
      {
        "duration": 3,
        "start_time": "2022-12-13T16:28:21.945Z"
      },
      {
        "duration": 20,
        "start_time": "2022-12-13T16:28:21.949Z"
      },
      {
        "duration": 56,
        "start_time": "2022-12-13T16:28:21.971Z"
      },
      {
        "duration": 4,
        "start_time": "2022-12-13T16:28:22.029Z"
      },
      {
        "duration": 26,
        "start_time": "2022-12-13T16:28:22.034Z"
      },
      {
        "duration": 24,
        "start_time": "2022-12-13T16:28:22.061Z"
      },
      {
        "duration": 37582,
        "start_time": "2022-12-13T16:28:22.087Z"
      },
      {
        "duration": 73,
        "start_time": "2022-12-13T16:29:16.993Z"
      },
      {
        "duration": 3,
        "start_time": "2022-12-13T16:29:38.357Z"
      },
      {
        "duration": 4,
        "start_time": "2022-12-13T16:30:05.964Z"
      },
      {
        "duration": 1084,
        "start_time": "2022-12-13T16:30:17.853Z"
      },
      {
        "duration": 709,
        "start_time": "2022-12-13T16:30:18.939Z"
      },
      {
        "duration": 237,
        "start_time": "2022-12-13T16:30:19.650Z"
      },
      {
        "duration": 34,
        "start_time": "2022-12-13T16:30:19.889Z"
      },
      {
        "duration": 3,
        "start_time": "2022-12-13T16:30:19.924Z"
      },
      {
        "duration": 462,
        "start_time": "2022-12-13T16:30:19.929Z"
      },
      {
        "duration": 44,
        "start_time": "2022-12-13T16:30:20.392Z"
      },
      {
        "duration": 3,
        "start_time": "2022-12-13T16:30:20.438Z"
      },
      {
        "duration": 25,
        "start_time": "2022-12-13T16:30:20.443Z"
      },
      {
        "duration": 30,
        "start_time": "2022-12-13T16:30:20.470Z"
      },
      {
        "duration": 37338,
        "start_time": "2022-12-13T16:30:20.502Z"
      },
      {
        "duration": 1134,
        "start_time": "2022-12-13T16:31:45.801Z"
      },
      {
        "duration": 702,
        "start_time": "2022-12-13T16:31:46.937Z"
      },
      {
        "duration": 238,
        "start_time": "2022-12-13T16:31:47.641Z"
      },
      {
        "duration": 41,
        "start_time": "2022-12-13T16:31:47.882Z"
      },
      {
        "duration": 3,
        "start_time": "2022-12-13T16:31:47.925Z"
      },
      {
        "duration": 935,
        "start_time": "2022-12-13T16:31:47.929Z"
      },
      {
        "duration": 26,
        "start_time": "2022-12-13T16:31:48.866Z"
      },
      {
        "duration": 3,
        "start_time": "2022-12-13T16:31:48.894Z"
      },
      {
        "duration": 21,
        "start_time": "2022-12-13T16:31:48.922Z"
      },
      {
        "duration": 21,
        "start_time": "2022-12-13T16:31:48.946Z"
      },
      {
        "duration": 37618,
        "start_time": "2022-12-13T16:31:48.968Z"
      },
      {
        "duration": 1094,
        "start_time": "2022-12-13T16:32:39.635Z"
      },
      {
        "duration": 693,
        "start_time": "2022-12-13T16:32:40.731Z"
      },
      {
        "duration": 243,
        "start_time": "2022-12-13T16:32:41.425Z"
      },
      {
        "duration": 28,
        "start_time": "2022-12-13T16:32:41.671Z"
      },
      {
        "duration": 3,
        "start_time": "2022-12-13T16:32:41.700Z"
      },
      {
        "duration": 535,
        "start_time": "2022-12-13T16:32:41.704Z"
      },
      {
        "duration": 25,
        "start_time": "2022-12-13T16:32:42.241Z"
      },
      {
        "duration": 3,
        "start_time": "2022-12-13T16:32:42.267Z"
      },
      {
        "duration": 25,
        "start_time": "2022-12-13T16:32:42.271Z"
      },
      {
        "duration": 38,
        "start_time": "2022-12-13T16:32:42.298Z"
      },
      {
        "duration": 37514,
        "start_time": "2022-12-13T16:32:42.337Z"
      },
      {
        "duration": 3,
        "start_time": "2022-12-13T16:35:08.254Z"
      },
      {
        "duration": 1168,
        "start_time": "2022-12-13T16:35:19.290Z"
      },
      {
        "duration": 754,
        "start_time": "2022-12-13T16:35:20.460Z"
      },
      {
        "duration": 247,
        "start_time": "2022-12-13T16:35:21.216Z"
      },
      {
        "duration": 30,
        "start_time": "2022-12-13T16:35:21.466Z"
      },
      {
        "duration": 3,
        "start_time": "2022-12-13T16:35:21.498Z"
      },
      {
        "duration": 25,
        "start_time": "2022-12-13T16:35:21.522Z"
      },
      {
        "duration": 26,
        "start_time": "2022-12-13T16:35:21.549Z"
      },
      {
        "duration": 4,
        "start_time": "2022-12-13T16:35:21.577Z"
      },
      {
        "duration": 56,
        "start_time": "2022-12-13T16:35:21.582Z"
      },
      {
        "duration": 29,
        "start_time": "2022-12-13T16:35:21.641Z"
      },
      {
        "duration": 37608,
        "start_time": "2022-12-13T16:35:21.672Z"
      },
      {
        "duration": 1158,
        "start_time": "2022-12-13T16:36:50.699Z"
      },
      {
        "duration": 777,
        "start_time": "2022-12-13T16:36:51.859Z"
      },
      {
        "duration": 239,
        "start_time": "2022-12-13T16:36:52.638Z"
      },
      {
        "duration": 28,
        "start_time": "2022-12-13T16:36:52.880Z"
      },
      {
        "duration": 3,
        "start_time": "2022-12-13T16:36:52.922Z"
      },
      {
        "duration": 107,
        "start_time": "2022-12-13T16:36:52.927Z"
      },
      {
        "duration": 0,
        "start_time": "2022-12-13T16:36:53.036Z"
      },
      {
        "duration": 0,
        "start_time": "2022-12-13T16:36:53.037Z"
      },
      {
        "duration": 0,
        "start_time": "2022-12-13T16:36:53.038Z"
      },
      {
        "duration": 0,
        "start_time": "2022-12-13T16:36:53.039Z"
      },
      {
        "duration": 0,
        "start_time": "2022-12-13T16:36:53.041Z"
      },
      {
        "duration": 3,
        "start_time": "2022-12-13T16:37:35.202Z"
      },
      {
        "duration": 3,
        "start_time": "2022-12-13T16:38:05.397Z"
      },
      {
        "duration": 1134,
        "start_time": "2022-12-13T16:38:21.333Z"
      },
      {
        "duration": 746,
        "start_time": "2022-12-13T16:38:22.469Z"
      },
      {
        "duration": 243,
        "start_time": "2022-12-13T16:38:23.217Z"
      },
      {
        "duration": 30,
        "start_time": "2022-12-13T16:38:23.462Z"
      },
      {
        "duration": 3,
        "start_time": "2022-12-13T16:38:23.493Z"
      },
      {
        "duration": 471,
        "start_time": "2022-12-13T16:38:23.498Z"
      },
      {
        "duration": 28,
        "start_time": "2022-12-13T16:38:23.971Z"
      },
      {
        "duration": 21,
        "start_time": "2022-12-13T16:38:24.001Z"
      },
      {
        "duration": 29,
        "start_time": "2022-12-13T16:38:24.024Z"
      },
      {
        "duration": 42,
        "start_time": "2022-12-13T16:38:24.056Z"
      },
      {
        "duration": 37295,
        "start_time": "2022-12-13T16:38:24.099Z"
      },
      {
        "duration": 1095,
        "start_time": "2022-12-13T16:39:45.933Z"
      },
      {
        "duration": 757,
        "start_time": "2022-12-13T16:39:47.030Z"
      },
      {
        "duration": 252,
        "start_time": "2022-12-13T16:39:47.789Z"
      },
      {
        "duration": 27,
        "start_time": "2022-12-13T16:39:48.044Z"
      },
      {
        "duration": 68,
        "start_time": "2022-12-13T16:39:48.073Z"
      },
      {
        "duration": 0,
        "start_time": "2022-12-13T16:39:48.143Z"
      },
      {
        "duration": 0,
        "start_time": "2022-12-13T16:39:48.144Z"
      },
      {
        "duration": 0,
        "start_time": "2022-12-13T16:39:48.145Z"
      },
      {
        "duration": 0,
        "start_time": "2022-12-13T16:39:48.146Z"
      },
      {
        "duration": 0,
        "start_time": "2022-12-13T16:39:48.148Z"
      },
      {
        "duration": 0,
        "start_time": "2022-12-13T16:39:48.149Z"
      },
      {
        "duration": 1094,
        "start_time": "2022-12-13T16:41:56.434Z"
      },
      {
        "duration": 745,
        "start_time": "2022-12-13T16:41:57.529Z"
      },
      {
        "duration": 242,
        "start_time": "2022-12-13T16:41:58.276Z"
      },
      {
        "duration": 28,
        "start_time": "2022-12-13T16:41:58.523Z"
      },
      {
        "duration": 3,
        "start_time": "2022-12-13T16:41:58.553Z"
      },
      {
        "duration": 10,
        "start_time": "2022-12-13T16:41:58.558Z"
      },
      {
        "duration": 52,
        "start_time": "2022-12-13T16:41:58.570Z"
      },
      {
        "duration": 4,
        "start_time": "2022-12-13T16:41:58.624Z"
      },
      {
        "duration": 24,
        "start_time": "2022-12-13T16:41:58.629Z"
      },
      {
        "duration": 24,
        "start_time": "2022-12-13T16:41:58.656Z"
      },
      {
        "duration": 37440,
        "start_time": "2022-12-13T16:41:58.682Z"
      },
      {
        "duration": 6,
        "start_time": "2022-12-13T16:43:11.153Z"
      },
      {
        "duration": 6,
        "start_time": "2022-12-13T16:43:16.664Z"
      },
      {
        "duration": 33,
        "start_time": "2022-12-13T16:44:13.805Z"
      },
      {
        "duration": 1134,
        "start_time": "2022-12-13T16:45:23.255Z"
      },
      {
        "duration": 731,
        "start_time": "2022-12-13T16:45:24.391Z"
      },
      {
        "duration": 235,
        "start_time": "2022-12-13T16:45:25.123Z"
      },
      {
        "duration": 30,
        "start_time": "2022-12-13T16:45:25.360Z"
      },
      {
        "duration": 3,
        "start_time": "2022-12-13T16:45:25.392Z"
      },
      {
        "duration": 32,
        "start_time": "2022-12-13T16:45:25.397Z"
      },
      {
        "duration": 8,
        "start_time": "2022-12-13T16:45:25.431Z"
      },
      {
        "duration": 8,
        "start_time": "2022-12-13T16:45:25.440Z"
      },
      {
        "duration": 32,
        "start_time": "2022-12-13T16:45:25.450Z"
      },
      {
        "duration": 3,
        "start_time": "2022-12-13T16:45:25.484Z"
      },
      {
        "duration": 22,
        "start_time": "2022-12-13T16:45:25.521Z"
      },
      {
        "duration": 23,
        "start_time": "2022-12-13T16:45:25.544Z"
      },
      {
        "duration": 39553,
        "start_time": "2022-12-13T16:45:25.569Z"
      },
      {
        "duration": 8,
        "start_time": "2022-12-13T16:56:37.896Z"
      },
      {
        "duration": 7,
        "start_time": "2022-12-13T17:05:50.851Z"
      },
      {
        "duration": 1149,
        "start_time": "2022-12-13T17:06:06.597Z"
      },
      {
        "duration": 779,
        "start_time": "2022-12-13T17:06:07.748Z"
      },
      {
        "duration": 254,
        "start_time": "2022-12-13T17:06:08.529Z"
      },
      {
        "duration": 36,
        "start_time": "2022-12-13T17:06:08.787Z"
      },
      {
        "duration": 7,
        "start_time": "2022-12-13T17:06:08.825Z"
      },
      {
        "duration": 24,
        "start_time": "2022-12-13T17:06:08.834Z"
      },
      {
        "duration": 8,
        "start_time": "2022-12-13T17:06:08.861Z"
      },
      {
        "duration": 7,
        "start_time": "2022-12-13T17:06:08.871Z"
      },
      {
        "duration": 8,
        "start_time": "2022-12-13T17:06:08.879Z"
      },
      {
        "duration": 60,
        "start_time": "2022-12-13T17:06:08.889Z"
      },
      {
        "duration": 3,
        "start_time": "2022-12-13T17:06:08.950Z"
      },
      {
        "duration": 26,
        "start_time": "2022-12-13T17:06:08.955Z"
      },
      {
        "duration": 44,
        "start_time": "2022-12-13T17:06:08.983Z"
      },
      {
        "duration": 38828,
        "start_time": "2022-12-13T17:06:09.028Z"
      },
      {
        "duration": 33,
        "start_time": "2022-12-13T17:09:59.863Z"
      },
      {
        "duration": 3,
        "start_time": "2022-12-13T17:29:16.398Z"
      },
      {
        "duration": 186,
        "start_time": "2022-12-13T17:30:21.137Z"
      },
      {
        "duration": 4,
        "start_time": "2022-12-13T17:31:06.105Z"
      },
      {
        "duration": 25,
        "start_time": "2022-12-13T17:32:03.063Z"
      },
      {
        "duration": 1223,
        "start_time": "2022-12-13T17:32:20.093Z"
      },
      {
        "duration": 769,
        "start_time": "2022-12-13T17:32:21.319Z"
      },
      {
        "duration": 261,
        "start_time": "2022-12-13T17:32:22.089Z"
      },
      {
        "duration": 29,
        "start_time": "2022-12-13T17:32:22.351Z"
      },
      {
        "duration": 11,
        "start_time": "2022-12-13T17:32:22.382Z"
      },
      {
        "duration": 48,
        "start_time": "2022-12-13T17:32:22.395Z"
      },
      {
        "duration": 23,
        "start_time": "2022-12-13T17:32:22.445Z"
      },
      {
        "duration": 52,
        "start_time": "2022-12-13T17:32:22.471Z"
      },
      {
        "duration": 39,
        "start_time": "2022-12-13T17:32:22.525Z"
      },
      {
        "duration": 85,
        "start_time": "2022-12-13T17:32:22.566Z"
      },
      {
        "duration": 13,
        "start_time": "2022-12-13T17:32:22.654Z"
      },
      {
        "duration": 61,
        "start_time": "2022-12-13T17:32:22.670Z"
      },
      {
        "duration": 9,
        "start_time": "2022-12-13T17:32:22.733Z"
      },
      {
        "duration": 195,
        "start_time": "2022-12-13T17:32:22.745Z"
      },
      {
        "duration": 0,
        "start_time": "2022-12-13T17:32:22.946Z"
      },
      {
        "duration": 0,
        "start_time": "2022-12-13T17:32:22.947Z"
      },
      {
        "duration": 0,
        "start_time": "2022-12-13T17:32:22.949Z"
      },
      {
        "duration": 3,
        "start_time": "2022-12-13T17:32:40.797Z"
      },
      {
        "duration": 21,
        "start_time": "2022-12-13T17:32:44.194Z"
      },
      {
        "duration": 1190,
        "start_time": "2022-12-13T17:32:54.740Z"
      },
      {
        "duration": 768,
        "start_time": "2022-12-13T17:32:55.932Z"
      },
      {
        "duration": 257,
        "start_time": "2022-12-13T17:32:56.702Z"
      },
      {
        "duration": 30,
        "start_time": "2022-12-13T17:32:56.962Z"
      },
      {
        "duration": 3,
        "start_time": "2022-12-13T17:32:56.994Z"
      },
      {
        "duration": 27,
        "start_time": "2022-12-13T17:32:56.999Z"
      },
      {
        "duration": 7,
        "start_time": "2022-12-13T17:32:57.028Z"
      },
      {
        "duration": 9,
        "start_time": "2022-12-13T17:32:57.036Z"
      },
      {
        "duration": 9,
        "start_time": "2022-12-13T17:32:57.047Z"
      },
      {
        "duration": 61,
        "start_time": "2022-12-13T17:32:57.060Z"
      },
      {
        "duration": 3,
        "start_time": "2022-12-13T17:32:57.124Z"
      },
      {
        "duration": 23,
        "start_time": "2022-12-13T17:32:57.129Z"
      },
      {
        "duration": 3,
        "start_time": "2022-12-13T17:32:57.154Z"
      },
      {
        "duration": 125,
        "start_time": "2022-12-13T17:32:57.159Z"
      },
      {
        "duration": 0,
        "start_time": "2022-12-13T17:32:57.285Z"
      },
      {
        "duration": 0,
        "start_time": "2022-12-13T17:32:57.286Z"
      },
      {
        "duration": 0,
        "start_time": "2022-12-13T17:32:57.287Z"
      },
      {
        "duration": 15,
        "start_time": "2022-12-13T17:33:16.986Z"
      },
      {
        "duration": 22,
        "start_time": "2022-12-13T17:33:18.348Z"
      },
      {
        "duration": 1106,
        "start_time": "2022-12-13T17:33:28.646Z"
      },
      {
        "duration": 795,
        "start_time": "2022-12-13T17:33:29.754Z"
      },
      {
        "duration": 245,
        "start_time": "2022-12-13T17:33:30.552Z"
      },
      {
        "duration": 45,
        "start_time": "2022-12-13T17:33:30.800Z"
      },
      {
        "duration": 4,
        "start_time": "2022-12-13T17:33:30.847Z"
      },
      {
        "duration": 43,
        "start_time": "2022-12-13T17:33:30.852Z"
      },
      {
        "duration": 41,
        "start_time": "2022-12-13T17:33:30.897Z"
      },
      {
        "duration": 25,
        "start_time": "2022-12-13T17:33:30.939Z"
      },
      {
        "duration": 24,
        "start_time": "2022-12-13T17:33:30.966Z"
      },
      {
        "duration": 55,
        "start_time": "2022-12-13T17:33:30.993Z"
      },
      {
        "duration": 6,
        "start_time": "2022-12-13T17:33:31.050Z"
      },
      {
        "duration": 60,
        "start_time": "2022-12-13T17:33:31.058Z"
      },
      {
        "duration": 7,
        "start_time": "2022-12-13T17:33:31.120Z"
      },
      {
        "duration": 38,
        "start_time": "2022-12-13T17:33:31.129Z"
      },
      {
        "duration": 68,
        "start_time": "2022-12-13T17:33:31.169Z"
      },
      {
        "duration": 70,
        "start_time": "2022-12-13T17:33:31.239Z"
      },
      {
        "duration": 38872,
        "start_time": "2022-12-13T17:33:31.311Z"
      },
      {
        "duration": 14,
        "start_time": "2022-12-13T17:34:23.148Z"
      },
      {
        "duration": 24,
        "start_time": "2022-12-13T17:35:08.543Z"
      },
      {
        "duration": 189,
        "start_time": "2022-12-13T17:40:02.407Z"
      },
      {
        "duration": 75,
        "start_time": "2022-12-13T17:40:29.057Z"
      },
      {
        "duration": 71,
        "start_time": "2022-12-13T17:44:27.368Z"
      },
      {
        "duration": 3,
        "start_time": "2022-12-13T17:44:51.005Z"
      },
      {
        "duration": 1320,
        "start_time": "2022-12-13T17:44:57.237Z"
      },
      {
        "duration": 1137,
        "start_time": "2022-12-13T17:45:31.797Z"
      },
      {
        "duration": 773,
        "start_time": "2022-12-13T17:45:32.936Z"
      },
      {
        "duration": 308,
        "start_time": "2022-12-13T17:45:33.711Z"
      },
      {
        "duration": 42,
        "start_time": "2022-12-13T17:45:34.021Z"
      },
      {
        "duration": 34,
        "start_time": "2022-12-13T17:45:34.065Z"
      },
      {
        "duration": 27,
        "start_time": "2022-12-13T17:45:34.102Z"
      },
      {
        "duration": 24,
        "start_time": "2022-12-13T17:45:34.132Z"
      },
      {
        "duration": 14,
        "start_time": "2022-12-13T17:45:34.158Z"
      },
      {
        "duration": 14,
        "start_time": "2022-12-13T17:45:34.174Z"
      },
      {
        "duration": 59,
        "start_time": "2022-12-13T17:45:34.191Z"
      },
      {
        "duration": 4,
        "start_time": "2022-12-13T17:45:34.253Z"
      },
      {
        "duration": 51,
        "start_time": "2022-12-13T17:45:34.260Z"
      },
      {
        "duration": 9,
        "start_time": "2022-12-13T17:45:34.314Z"
      },
      {
        "duration": 1273,
        "start_time": "2022-12-13T17:45:34.326Z"
      },
      {
        "duration": 0,
        "start_time": "2022-12-13T17:45:35.601Z"
      },
      {
        "duration": 0,
        "start_time": "2022-12-13T17:45:35.602Z"
      },
      {
        "duration": 0,
        "start_time": "2022-12-13T17:45:35.603Z"
      },
      {
        "duration": 4,
        "start_time": "2022-12-13T17:46:12.635Z"
      },
      {
        "duration": 1077,
        "start_time": "2022-12-13T17:46:27.767Z"
      },
      {
        "duration": 754,
        "start_time": "2022-12-13T17:46:28.846Z"
      },
      {
        "duration": 245,
        "start_time": "2022-12-13T17:46:29.602Z"
      },
      {
        "duration": 39,
        "start_time": "2022-12-13T17:46:29.849Z"
      },
      {
        "duration": 4,
        "start_time": "2022-12-13T17:46:29.890Z"
      },
      {
        "duration": 33,
        "start_time": "2022-12-13T17:46:29.896Z"
      },
      {
        "duration": 7,
        "start_time": "2022-12-13T17:46:29.931Z"
      },
      {
        "duration": 8,
        "start_time": "2022-12-13T17:46:29.940Z"
      },
      {
        "duration": 7,
        "start_time": "2022-12-13T17:46:29.950Z"
      },
      {
        "duration": 69,
        "start_time": "2022-12-13T17:46:29.960Z"
      },
      {
        "duration": 3,
        "start_time": "2022-12-13T17:46:30.031Z"
      },
      {
        "duration": 44,
        "start_time": "2022-12-13T17:46:30.035Z"
      },
      {
        "duration": 4,
        "start_time": "2022-12-13T17:46:30.080Z"
      },
      {
        "duration": 245,
        "start_time": "2022-12-13T17:46:30.086Z"
      },
      {
        "duration": 0,
        "start_time": "2022-12-13T17:46:30.340Z"
      },
      {
        "duration": 0,
        "start_time": "2022-12-13T17:46:30.341Z"
      },
      {
        "duration": 0,
        "start_time": "2022-12-13T17:46:30.342Z"
      },
      {
        "duration": 74,
        "start_time": "2022-12-13T17:47:06.568Z"
      },
      {
        "duration": 4,
        "start_time": "2022-12-13T17:47:44.514Z"
      },
      {
        "duration": 4,
        "start_time": "2022-12-13T18:21:00.498Z"
      },
      {
        "duration": 101,
        "start_time": "2022-12-13T18:21:28.580Z"
      },
      {
        "duration": 4,
        "start_time": "2022-12-13T18:21:56.050Z"
      },
      {
        "duration": 3,
        "start_time": "2022-12-13T18:22:26.380Z"
      },
      {
        "duration": 4,
        "start_time": "2022-12-13T18:30:06.981Z"
      },
      {
        "duration": 1114,
        "start_time": "2022-12-13T18:30:15.533Z"
      },
      {
        "duration": 750,
        "start_time": "2022-12-13T18:30:16.649Z"
      },
      {
        "duration": 239,
        "start_time": "2022-12-13T18:30:17.400Z"
      },
      {
        "duration": 27,
        "start_time": "2022-12-13T18:30:17.640Z"
      },
      {
        "duration": 3,
        "start_time": "2022-12-13T18:30:17.668Z"
      },
      {
        "duration": 15,
        "start_time": "2022-12-13T18:30:17.672Z"
      },
      {
        "duration": 6,
        "start_time": "2022-12-13T18:30:17.689Z"
      },
      {
        "duration": 31,
        "start_time": "2022-12-13T18:30:17.696Z"
      },
      {
        "duration": 9,
        "start_time": "2022-12-13T18:30:17.728Z"
      },
      {
        "duration": 31,
        "start_time": "2022-12-13T18:30:17.739Z"
      },
      {
        "duration": 4,
        "start_time": "2022-12-13T18:30:17.771Z"
      },
      {
        "duration": 48,
        "start_time": "2022-12-13T18:30:17.777Z"
      },
      {
        "duration": 4,
        "start_time": "2022-12-13T18:30:17.827Z"
      },
      {
        "duration": 138,
        "start_time": "2022-12-13T18:30:17.834Z"
      },
      {
        "duration": 0,
        "start_time": "2022-12-13T18:30:17.974Z"
      },
      {
        "duration": 0,
        "start_time": "2022-12-13T18:30:17.975Z"
      },
      {
        "duration": 0,
        "start_time": "2022-12-13T18:30:17.977Z"
      },
      {
        "duration": 3,
        "start_time": "2022-12-13T18:31:02.138Z"
      },
      {
        "duration": 3,
        "start_time": "2022-12-13T18:31:18.115Z"
      },
      {
        "duration": 4,
        "start_time": "2022-12-13T18:34:56.019Z"
      },
      {
        "duration": 1209,
        "start_time": "2022-12-13T18:35:19.542Z"
      },
      {
        "duration": 831,
        "start_time": "2022-12-13T18:35:20.754Z"
      },
      {
        "duration": 293,
        "start_time": "2022-12-13T18:35:21.587Z"
      },
      {
        "duration": 51,
        "start_time": "2022-12-13T18:35:21.882Z"
      },
      {
        "duration": 4,
        "start_time": "2022-12-13T18:35:21.935Z"
      },
      {
        "duration": 19,
        "start_time": "2022-12-13T18:35:21.940Z"
      },
      {
        "duration": 7,
        "start_time": "2022-12-13T18:35:21.961Z"
      },
      {
        "duration": 10,
        "start_time": "2022-12-13T18:35:21.969Z"
      },
      {
        "duration": 12,
        "start_time": "2022-12-13T18:35:21.981Z"
      },
      {
        "duration": 35,
        "start_time": "2022-12-13T18:35:22.027Z"
      },
      {
        "duration": 3,
        "start_time": "2022-12-13T18:35:22.064Z"
      },
      {
        "duration": 27,
        "start_time": "2022-12-13T18:35:22.069Z"
      },
      {
        "duration": 4,
        "start_time": "2022-12-13T18:35:22.098Z"
      },
      {
        "duration": 72,
        "start_time": "2022-12-13T18:35:22.121Z"
      },
      {
        "duration": 31,
        "start_time": "2022-12-13T18:35:22.195Z"
      },
      {
        "duration": 45,
        "start_time": "2022-12-13T18:35:22.230Z"
      },
      {
        "duration": 42532,
        "start_time": "2022-12-13T18:35:22.277Z"
      },
      {
        "duration": 68,
        "start_time": "2022-12-13T18:37:30.092Z"
      },
      {
        "duration": 1467,
        "start_time": "2022-12-13T18:37:51.184Z"
      },
      {
        "duration": 916,
        "start_time": "2022-12-13T18:37:52.653Z"
      },
      {
        "duration": 355,
        "start_time": "2022-12-13T18:37:53.571Z"
      },
      {
        "duration": 41,
        "start_time": "2022-12-13T18:37:53.929Z"
      },
      {
        "duration": 11,
        "start_time": "2022-12-13T18:37:53.972Z"
      },
      {
        "duration": 28,
        "start_time": "2022-12-13T18:37:53.985Z"
      },
      {
        "duration": 23,
        "start_time": "2022-12-13T18:37:54.015Z"
      },
      {
        "duration": 132,
        "start_time": "2022-12-13T18:37:54.047Z"
      },
      {
        "duration": 35,
        "start_time": "2022-12-13T18:37:54.181Z"
      },
      {
        "duration": 131,
        "start_time": "2022-12-13T18:37:54.220Z"
      },
      {
        "duration": 6,
        "start_time": "2022-12-13T18:37:54.355Z"
      },
      {
        "duration": 83,
        "start_time": "2022-12-13T18:37:54.364Z"
      },
      {
        "duration": 11,
        "start_time": "2022-12-13T18:37:54.450Z"
      },
      {
        "duration": 89,
        "start_time": "2022-12-13T18:37:54.464Z"
      },
      {
        "duration": 34,
        "start_time": "2022-12-13T18:37:54.555Z"
      },
      {
        "duration": 60,
        "start_time": "2022-12-13T18:37:54.591Z"
      },
      {
        "duration": 1376,
        "start_time": "2022-12-13T18:38:33.209Z"
      },
      {
        "duration": 971,
        "start_time": "2022-12-13T18:38:34.587Z"
      },
      {
        "duration": 274,
        "start_time": "2022-12-13T18:38:35.563Z"
      },
      {
        "duration": 49,
        "start_time": "2022-12-13T18:38:35.841Z"
      },
      {
        "duration": 4,
        "start_time": "2022-12-13T18:38:35.892Z"
      },
      {
        "duration": 68,
        "start_time": "2022-12-13T18:38:35.898Z"
      },
      {
        "duration": 21,
        "start_time": "2022-12-13T18:38:35.968Z"
      },
      {
        "duration": 30,
        "start_time": "2022-12-13T18:38:35.991Z"
      },
      {
        "duration": 58,
        "start_time": "2022-12-13T18:38:36.024Z"
      },
      {
        "duration": 64,
        "start_time": "2022-12-13T18:38:36.084Z"
      },
      {
        "duration": 4,
        "start_time": "2022-12-13T18:38:36.150Z"
      },
      {
        "duration": 53,
        "start_time": "2022-12-13T18:38:36.156Z"
      },
      {
        "duration": 4,
        "start_time": "2022-12-13T18:38:36.211Z"
      },
      {
        "duration": 94,
        "start_time": "2022-12-13T18:38:36.223Z"
      },
      {
        "duration": 26,
        "start_time": "2022-12-13T18:38:36.319Z"
      },
      {
        "duration": 40,
        "start_time": "2022-12-13T18:38:36.348Z"
      },
      {
        "duration": 41010,
        "start_time": "2022-12-13T18:38:36.390Z"
      },
      {
        "duration": 66,
        "start_time": "2022-12-13T18:39:24.898Z"
      },
      {
        "duration": 4,
        "start_time": "2022-12-13T18:39:59.356Z"
      },
      {
        "duration": 5,
        "start_time": "2022-12-13T18:40:03.980Z"
      },
      {
        "duration": 54,
        "start_time": "2022-12-13T18:40:07.399Z"
      },
      {
        "duration": 3,
        "start_time": "2022-12-13T18:41:08.791Z"
      },
      {
        "duration": 1435,
        "start_time": "2022-12-13T18:41:13.955Z"
      },
      {
        "duration": 4,
        "start_time": "2022-12-13T18:51:05.725Z"
      },
      {
        "duration": 3,
        "start_time": "2022-12-13T18:51:08.985Z"
      },
      {
        "duration": 1162,
        "start_time": "2022-12-13T18:51:11.031Z"
      },
      {
        "duration": 4,
        "start_time": "2022-12-13T18:53:20.836Z"
      },
      {
        "duration": 1142,
        "start_time": "2022-12-13T18:53:25.166Z"
      },
      {
        "duration": 4,
        "start_time": "2022-12-13T18:54:08.382Z"
      },
      {
        "duration": 46,
        "start_time": "2022-12-13T18:54:12.204Z"
      },
      {
        "duration": 47,
        "start_time": "2022-12-13T18:56:39.760Z"
      },
      {
        "duration": 11,
        "start_time": "2022-12-13T18:58:29.783Z"
      },
      {
        "duration": 1126,
        "start_time": "2022-12-13T18:59:04.807Z"
      },
      {
        "duration": 742,
        "start_time": "2022-12-13T18:59:05.936Z"
      },
      {
        "duration": 235,
        "start_time": "2022-12-13T18:59:06.680Z"
      },
      {
        "duration": 26,
        "start_time": "2022-12-13T18:59:06.922Z"
      },
      {
        "duration": 3,
        "start_time": "2022-12-13T18:59:06.950Z"
      },
      {
        "duration": 12,
        "start_time": "2022-12-13T18:59:06.954Z"
      },
      {
        "duration": 5,
        "start_time": "2022-12-13T18:59:06.967Z"
      },
      {
        "duration": 9,
        "start_time": "2022-12-13T18:59:06.974Z"
      },
      {
        "duration": 8,
        "start_time": "2022-12-13T18:59:06.984Z"
      },
      {
        "duration": 31,
        "start_time": "2022-12-13T18:59:07.021Z"
      },
      {
        "duration": 4,
        "start_time": "2022-12-13T18:59:07.054Z"
      },
      {
        "duration": 42,
        "start_time": "2022-12-13T18:59:07.059Z"
      },
      {
        "duration": 5,
        "start_time": "2022-12-13T18:59:07.103Z"
      },
      {
        "duration": 144,
        "start_time": "2022-12-13T18:59:07.111Z"
      },
      {
        "duration": 0,
        "start_time": "2022-12-13T18:59:07.257Z"
      },
      {
        "duration": 0,
        "start_time": "2022-12-13T18:59:07.258Z"
      },
      {
        "duration": 0,
        "start_time": "2022-12-13T18:59:07.259Z"
      },
      {
        "duration": 12,
        "start_time": "2022-12-13T18:59:36.048Z"
      },
      {
        "duration": 1098,
        "start_time": "2022-12-13T19:00:11.725Z"
      },
      {
        "duration": 740,
        "start_time": "2022-12-13T19:00:12.826Z"
      },
      {
        "duration": 235,
        "start_time": "2022-12-13T19:00:13.567Z"
      },
      {
        "duration": 35,
        "start_time": "2022-12-13T19:00:13.803Z"
      },
      {
        "duration": 3,
        "start_time": "2022-12-13T19:00:13.840Z"
      },
      {
        "duration": 17,
        "start_time": "2022-12-13T19:00:13.845Z"
      },
      {
        "duration": 7,
        "start_time": "2022-12-13T19:00:13.863Z"
      },
      {
        "duration": 10,
        "start_time": "2022-12-13T19:00:13.872Z"
      },
      {
        "duration": 11,
        "start_time": "2022-12-13T19:00:13.883Z"
      },
      {
        "duration": 55,
        "start_time": "2022-12-13T19:00:13.897Z"
      },
      {
        "duration": 4,
        "start_time": "2022-12-13T19:00:13.954Z"
      },
      {
        "duration": 34,
        "start_time": "2022-12-13T19:00:13.959Z"
      },
      {
        "duration": 3,
        "start_time": "2022-12-13T19:00:13.994Z"
      },
      {
        "duration": 102,
        "start_time": "2022-12-13T19:00:13.998Z"
      },
      {
        "duration": 30,
        "start_time": "2022-12-13T19:00:14.103Z"
      },
      {
        "duration": 38,
        "start_time": "2022-12-13T19:00:14.135Z"
      },
      {
        "duration": 37607,
        "start_time": "2022-12-13T19:00:14.176Z"
      },
      {
        "duration": 44,
        "start_time": "2022-12-13T19:01:44.457Z"
      },
      {
        "duration": 1166,
        "start_time": "2022-12-14T06:33:34.935Z"
      },
      {
        "duration": 2751,
        "start_time": "2022-12-14T06:33:36.103Z"
      },
      {
        "duration": 266,
        "start_time": "2022-12-14T06:33:38.856Z"
      },
      {
        "duration": 45,
        "start_time": "2022-12-14T06:33:39.125Z"
      },
      {
        "duration": 3,
        "start_time": "2022-12-14T06:33:39.172Z"
      },
      {
        "duration": 26,
        "start_time": "2022-12-14T06:33:39.178Z"
      },
      {
        "duration": 24,
        "start_time": "2022-12-14T06:33:39.206Z"
      },
      {
        "duration": 24,
        "start_time": "2022-12-14T06:33:39.232Z"
      },
      {
        "duration": 15,
        "start_time": "2022-12-14T06:33:39.259Z"
      },
      {
        "duration": 49,
        "start_time": "2022-12-14T06:33:39.277Z"
      },
      {
        "duration": 4,
        "start_time": "2022-12-14T06:33:39.327Z"
      },
      {
        "duration": 53,
        "start_time": "2022-12-14T06:33:39.333Z"
      },
      {
        "duration": 4,
        "start_time": "2022-12-14T06:33:39.389Z"
      },
      {
        "duration": 164,
        "start_time": "2022-12-14T06:33:39.395Z"
      },
      {
        "duration": 0,
        "start_time": "2022-12-14T06:33:39.561Z"
      },
      {
        "duration": 0,
        "start_time": "2022-12-14T06:33:39.562Z"
      },
      {
        "duration": 0,
        "start_time": "2022-12-14T06:33:39.563Z"
      },
      {
        "duration": 57,
        "start_time": "2022-12-14T06:36:05.749Z"
      },
      {
        "duration": 44,
        "start_time": "2022-12-14T06:38:51.216Z"
      },
      {
        "duration": 4,
        "start_time": "2022-12-14T06:39:03.467Z"
      },
      {
        "duration": 46,
        "start_time": "2022-12-14T06:39:08.067Z"
      },
      {
        "duration": 4,
        "start_time": "2022-12-14T06:39:27.610Z"
      },
      {
        "duration": 47,
        "start_time": "2022-12-14T06:39:34.180Z"
      },
      {
        "duration": 54,
        "start_time": "2022-12-14T06:41:54.730Z"
      },
      {
        "duration": 60,
        "start_time": "2022-12-14T06:41:58.824Z"
      },
      {
        "duration": 37,
        "start_time": "2022-12-14T06:42:10.581Z"
      },
      {
        "duration": 7444,
        "start_time": "2022-12-14T06:43:21.634Z"
      },
      {
        "duration": 7762,
        "start_time": "2022-12-14T06:43:44.168Z"
      },
      {
        "duration": 54,
        "start_time": "2022-12-14T06:56:01.297Z"
      },
      {
        "duration": 4,
        "start_time": "2022-12-14T06:58:07.839Z"
      },
      {
        "duration": 106,
        "start_time": "2022-12-14T06:58:50.261Z"
      },
      {
        "duration": 1181,
        "start_time": "2022-12-14T06:59:06.910Z"
      },
      {
        "duration": 834,
        "start_time": "2022-12-14T06:59:08.093Z"
      },
      {
        "duration": 273,
        "start_time": "2022-12-14T06:59:08.929Z"
      },
      {
        "duration": 32,
        "start_time": "2022-12-14T06:59:09.204Z"
      },
      {
        "duration": 17,
        "start_time": "2022-12-14T06:59:09.238Z"
      },
      {
        "duration": 17,
        "start_time": "2022-12-14T06:59:09.257Z"
      },
      {
        "duration": 10,
        "start_time": "2022-12-14T06:59:09.276Z"
      },
      {
        "duration": 7,
        "start_time": "2022-12-14T06:59:09.288Z"
      },
      {
        "duration": 8,
        "start_time": "2022-12-14T06:59:09.297Z"
      },
      {
        "duration": 67,
        "start_time": "2022-12-14T06:59:09.307Z"
      },
      {
        "duration": 4,
        "start_time": "2022-12-14T06:59:09.376Z"
      },
      {
        "duration": 25,
        "start_time": "2022-12-14T06:59:09.382Z"
      },
      {
        "duration": 4,
        "start_time": "2022-12-14T06:59:09.410Z"
      },
      {
        "duration": 206,
        "start_time": "2022-12-14T06:59:09.415Z"
      },
      {
        "duration": 0,
        "start_time": "2022-12-14T06:59:09.624Z"
      },
      {
        "duration": 0,
        "start_time": "2022-12-14T06:59:09.625Z"
      },
      {
        "duration": 0,
        "start_time": "2022-12-14T06:59:09.627Z"
      },
      {
        "duration": 39,
        "start_time": "2022-12-14T07:00:39.938Z"
      },
      {
        "duration": 39,
        "start_time": "2022-12-14T07:11:26.776Z"
      },
      {
        "duration": 37,
        "start_time": "2022-12-14T07:14:49.961Z"
      },
      {
        "duration": 54,
        "start_time": "2022-12-14T07:15:00.534Z"
      },
      {
        "duration": 1182,
        "start_time": "2022-12-14T07:15:47.344Z"
      },
      {
        "duration": 856,
        "start_time": "2022-12-14T07:15:48.529Z"
      },
      {
        "duration": 269,
        "start_time": "2022-12-14T07:15:49.386Z"
      },
      {
        "duration": 40,
        "start_time": "2022-12-14T07:15:49.659Z"
      },
      {
        "duration": 3,
        "start_time": "2022-12-14T07:15:49.701Z"
      },
      {
        "duration": 13,
        "start_time": "2022-12-14T07:15:49.705Z"
      },
      {
        "duration": 35,
        "start_time": "2022-12-14T07:15:49.720Z"
      },
      {
        "duration": 13,
        "start_time": "2022-12-14T07:15:49.757Z"
      },
      {
        "duration": 8,
        "start_time": "2022-12-14T07:15:49.772Z"
      },
      {
        "duration": 36,
        "start_time": "2022-12-14T07:15:49.783Z"
      },
      {
        "duration": 36,
        "start_time": "2022-12-14T07:15:49.821Z"
      },
      {
        "duration": 36,
        "start_time": "2022-12-14T07:15:49.860Z"
      },
      {
        "duration": 72,
        "start_time": "2022-12-14T07:15:49.898Z"
      },
      {
        "duration": 26,
        "start_time": "2022-12-14T07:15:49.973Z"
      },
      {
        "duration": 89,
        "start_time": "2022-12-14T07:15:50.001Z"
      },
      {
        "duration": 45246,
        "start_time": "2022-12-14T07:15:50.092Z"
      },
      {
        "duration": 5,
        "start_time": "2022-12-14T07:16:59.054Z"
      },
      {
        "duration": 1103,
        "start_time": "2022-12-14T07:17:17.109Z"
      },
      {
        "duration": 831,
        "start_time": "2022-12-14T07:17:18.214Z"
      },
      {
        "duration": 375,
        "start_time": "2022-12-14T07:17:19.048Z"
      },
      {
        "duration": 41,
        "start_time": "2022-12-14T07:17:19.426Z"
      },
      {
        "duration": 2,
        "start_time": "2022-12-14T07:17:19.469Z"
      },
      {
        "duration": 32,
        "start_time": "2022-12-14T07:17:19.473Z"
      },
      {
        "duration": 19,
        "start_time": "2022-12-14T07:17:19.507Z"
      },
      {
        "duration": 51,
        "start_time": "2022-12-14T07:17:19.528Z"
      },
      {
        "duration": 10,
        "start_time": "2022-12-14T07:17:19.581Z"
      },
      {
        "duration": 81,
        "start_time": "2022-12-14T07:17:19.594Z"
      },
      {
        "duration": 4,
        "start_time": "2022-12-14T07:17:19.677Z"
      },
      {
        "duration": 38,
        "start_time": "2022-12-14T07:17:19.683Z"
      },
      {
        "duration": 86,
        "start_time": "2022-12-14T07:17:19.723Z"
      },
      {
        "duration": 56,
        "start_time": "2022-12-14T07:17:19.811Z"
      },
      {
        "duration": 69,
        "start_time": "2022-12-14T07:17:19.869Z"
      },
      {
        "duration": 45156,
        "start_time": "2022-12-14T07:17:19.939Z"
      },
      {
        "duration": 1197,
        "start_time": "2022-12-14T07:18:49.158Z"
      },
      {
        "duration": 862,
        "start_time": "2022-12-14T07:18:50.357Z"
      },
      {
        "duration": 274,
        "start_time": "2022-12-14T07:18:51.222Z"
      },
      {
        "duration": 35,
        "start_time": "2022-12-14T07:18:51.499Z"
      },
      {
        "duration": 21,
        "start_time": "2022-12-14T07:18:51.536Z"
      },
      {
        "duration": 14,
        "start_time": "2022-12-14T07:18:51.559Z"
      },
      {
        "duration": 7,
        "start_time": "2022-12-14T07:18:51.575Z"
      },
      {
        "duration": 10,
        "start_time": "2022-12-14T07:18:51.584Z"
      },
      {
        "duration": 8,
        "start_time": "2022-12-14T07:18:51.595Z"
      },
      {
        "duration": 72,
        "start_time": "2022-12-14T07:18:51.606Z"
      },
      {
        "duration": 4,
        "start_time": "2022-12-14T07:18:51.680Z"
      },
      {
        "duration": 29,
        "start_time": "2022-12-14T07:18:51.685Z"
      },
      {
        "duration": 73,
        "start_time": "2022-12-14T07:18:51.716Z"
      },
      {
        "duration": 24,
        "start_time": "2022-12-14T07:18:51.791Z"
      },
      {
        "duration": 77,
        "start_time": "2022-12-14T07:18:51.817Z"
      },
      {
        "duration": 44931,
        "start_time": "2022-12-14T07:18:51.896Z"
      },
      {
        "duration": 144,
        "start_time": "2022-12-14T07:30:39.300Z"
      },
      {
        "duration": 473,
        "start_time": "2022-12-14T07:32:21.224Z"
      },
      {
        "duration": 614,
        "start_time": "2022-12-14T07:32:38.247Z"
      },
      {
        "duration": 672,
        "start_time": "2022-12-14T07:33:52.927Z"
      },
      {
        "duration": 576,
        "start_time": "2022-12-14T07:34:20.937Z"
      },
      {
        "duration": 714,
        "start_time": "2022-12-14T07:34:31.625Z"
      },
      {
        "duration": 590,
        "start_time": "2022-12-14T07:34:40.073Z"
      },
      {
        "duration": 570,
        "start_time": "2022-12-14T07:36:36.466Z"
      },
      {
        "duration": 759,
        "start_time": "2022-12-14T07:37:01.060Z"
      },
      {
        "duration": 584,
        "start_time": "2022-12-14T07:37:07.668Z"
      },
      {
        "duration": 625,
        "start_time": "2022-12-14T07:37:15.809Z"
      },
      {
        "duration": 843,
        "start_time": "2022-12-14T07:37:25.135Z"
      },
      {
        "duration": 1494,
        "start_time": "2022-12-14T07:37:53.808Z"
      },
      {
        "duration": 879,
        "start_time": "2022-12-14T07:37:55.304Z"
      },
      {
        "duration": 289,
        "start_time": "2022-12-14T07:37:56.185Z"
      },
      {
        "duration": 25,
        "start_time": "2022-12-14T07:37:56.477Z"
      },
      {
        "duration": 3,
        "start_time": "2022-12-14T07:37:56.503Z"
      },
      {
        "duration": 11,
        "start_time": "2022-12-14T07:37:56.508Z"
      },
      {
        "duration": 6,
        "start_time": "2022-12-14T07:37:56.521Z"
      },
      {
        "duration": 16,
        "start_time": "2022-12-14T07:37:56.555Z"
      },
      {
        "duration": 7,
        "start_time": "2022-12-14T07:37:56.574Z"
      },
      {
        "duration": 32,
        "start_time": "2022-12-14T07:37:56.584Z"
      },
      {
        "duration": 4,
        "start_time": "2022-12-14T07:37:56.618Z"
      },
      {
        "duration": 61,
        "start_time": "2022-12-14T07:37:56.624Z"
      },
      {
        "duration": 45,
        "start_time": "2022-12-14T07:37:56.687Z"
      },
      {
        "duration": 28,
        "start_time": "2022-12-14T07:37:56.758Z"
      },
      {
        "duration": 70,
        "start_time": "2022-12-14T07:37:56.788Z"
      },
      {
        "duration": 712,
        "start_time": "2022-12-14T07:37:56.861Z"
      },
      {
        "duration": 42849,
        "start_time": "2022-12-14T07:37:57.574Z"
      },
      {
        "duration": 32,
        "start_time": "2022-12-14T07:56:12.690Z"
      },
      {
        "duration": 55,
        "start_time": "2022-12-14T08:09:49.633Z"
      },
      {
        "duration": 30,
        "start_time": "2022-12-14T08:10:25.933Z"
      },
      {
        "duration": 60,
        "start_time": "2022-12-14T08:11:16.254Z"
      },
      {
        "duration": 1524,
        "start_time": "2022-12-14T10:57:15.542Z"
      },
      {
        "duration": 918,
        "start_time": "2022-12-14T10:57:17.068Z"
      },
      {
        "duration": 283,
        "start_time": "2022-12-14T10:57:17.989Z"
      },
      {
        "duration": 27,
        "start_time": "2022-12-14T10:57:18.275Z"
      },
      {
        "duration": 3,
        "start_time": "2022-12-14T10:57:18.304Z"
      },
      {
        "duration": 37,
        "start_time": "2022-12-14T10:57:18.309Z"
      },
      {
        "duration": 32,
        "start_time": "2022-12-14T10:57:18.348Z"
      },
      {
        "duration": 12,
        "start_time": "2022-12-14T10:57:18.382Z"
      },
      {
        "duration": 29,
        "start_time": "2022-12-14T10:57:18.396Z"
      },
      {
        "duration": 49,
        "start_time": "2022-12-14T10:57:18.428Z"
      },
      {
        "duration": 4,
        "start_time": "2022-12-14T10:57:18.479Z"
      },
      {
        "duration": 30,
        "start_time": "2022-12-14T10:57:18.485Z"
      },
      {
        "duration": 83,
        "start_time": "2022-12-14T10:57:18.517Z"
      },
      {
        "duration": 31,
        "start_time": "2022-12-14T10:57:18.602Z"
      },
      {
        "duration": 86,
        "start_time": "2022-12-14T10:57:18.634Z"
      },
      {
        "duration": 44,
        "start_time": "2022-12-14T10:57:18.722Z"
      },
      {
        "duration": 137,
        "start_time": "2022-12-14T10:57:18.769Z"
      },
      {
        "duration": 0,
        "start_time": "2022-12-14T10:57:18.908Z"
      },
      {
        "duration": 0,
        "start_time": "2022-12-14T10:57:18.909Z"
      },
      {
        "duration": 11,
        "start_time": "2022-12-14T11:15:11.385Z"
      },
      {
        "duration": 20,
        "start_time": "2022-12-14T11:15:30.038Z"
      },
      {
        "duration": 15,
        "start_time": "2022-12-14T11:15:55.926Z"
      },
      {
        "duration": 10,
        "start_time": "2022-12-14T11:16:28.798Z"
      },
      {
        "duration": 15,
        "start_time": "2022-12-14T11:17:02.235Z"
      },
      {
        "duration": 627,
        "start_time": "2022-12-14T11:17:40.667Z"
      },
      {
        "duration": 49,
        "start_time": "2022-12-14T11:18:11.938Z"
      },
      {
        "duration": 120,
        "start_time": "2022-12-14T11:18:24.506Z"
      },
      {
        "duration": 17,
        "start_time": "2022-12-14T11:19:23.714Z"
      },
      {
        "duration": 78,
        "start_time": "2022-12-14T11:22:02.373Z"
      },
      {
        "duration": 63,
        "start_time": "2022-12-14T11:26:27.155Z"
      },
      {
        "duration": 16,
        "start_time": "2022-12-14T11:27:05.002Z"
      },
      {
        "duration": 16,
        "start_time": "2022-12-14T11:28:52.204Z"
      },
      {
        "duration": 16,
        "start_time": "2022-12-14T11:29:48.127Z"
      },
      {
        "duration": 13,
        "start_time": "2022-12-14T11:30:12.182Z"
      },
      {
        "duration": 895,
        "start_time": "2022-12-14T11:32:29.117Z"
      },
      {
        "duration": 16,
        "start_time": "2022-12-14T11:32:43.507Z"
      },
      {
        "duration": 36,
        "start_time": "2022-12-14T11:35:54.171Z"
      },
      {
        "duration": 53,
        "start_time": "2022-12-14T11:38:59.223Z"
      },
      {
        "duration": 17,
        "start_time": "2022-12-14T11:39:12.004Z"
      },
      {
        "duration": 20,
        "start_time": "2022-12-14T11:39:26.056Z"
      },
      {
        "duration": 13,
        "start_time": "2022-12-14T11:39:50.512Z"
      },
      {
        "duration": 13,
        "start_time": "2022-12-14T11:40:09.614Z"
      },
      {
        "duration": 37,
        "start_time": "2022-12-14T11:41:03.840Z"
      },
      {
        "duration": 14,
        "start_time": "2022-12-14T11:44:18.667Z"
      },
      {
        "duration": 61,
        "start_time": "2022-12-14T11:50:56.944Z"
      },
      {
        "duration": 4,
        "start_time": "2022-12-14T12:05:17.383Z"
      },
      {
        "duration": 4,
        "start_time": "2022-12-14T12:07:58.396Z"
      },
      {
        "duration": 4,
        "start_time": "2022-12-14T12:11:43.904Z"
      },
      {
        "duration": 4,
        "start_time": "2022-12-14T12:52:23.124Z"
      },
      {
        "duration": 59,
        "start_time": "2022-12-14T12:57:23.246Z"
      },
      {
        "duration": 49,
        "start_time": "2022-12-14T13:06:33.766Z"
      },
      {
        "duration": 254,
        "start_time": "2022-12-14T13:07:07.075Z"
      },
      {
        "duration": 1606,
        "start_time": "2022-12-14T13:07:32.606Z"
      },
      {
        "duration": 1079,
        "start_time": "2022-12-14T13:07:34.215Z"
      },
      {
        "duration": 348,
        "start_time": "2022-12-14T13:07:35.297Z"
      },
      {
        "duration": 44,
        "start_time": "2022-12-14T13:07:35.648Z"
      },
      {
        "duration": 4,
        "start_time": "2022-12-14T13:07:35.694Z"
      },
      {
        "duration": 16,
        "start_time": "2022-12-14T13:07:35.700Z"
      },
      {
        "duration": 8,
        "start_time": "2022-12-14T13:07:35.718Z"
      },
      {
        "duration": 51,
        "start_time": "2022-12-14T13:07:35.728Z"
      },
      {
        "duration": 11,
        "start_time": "2022-12-14T13:07:35.780Z"
      },
      {
        "duration": 37,
        "start_time": "2022-12-14T13:07:35.795Z"
      },
      {
        "duration": 27,
        "start_time": "2022-12-14T13:07:35.834Z"
      },
      {
        "duration": 37,
        "start_time": "2022-12-14T13:07:35.867Z"
      },
      {
        "duration": 61,
        "start_time": "2022-12-14T13:07:35.906Z"
      },
      {
        "duration": 34,
        "start_time": "2022-12-14T13:07:35.974Z"
      },
      {
        "duration": 113,
        "start_time": "2022-12-14T13:07:36.010Z"
      },
      {
        "duration": 71,
        "start_time": "2022-12-14T13:07:36.126Z"
      },
      {
        "duration": 6,
        "start_time": "2022-12-14T13:07:36.199Z"
      },
      {
        "duration": 175,
        "start_time": "2022-12-14T13:07:36.208Z"
      },
      {
        "duration": 0,
        "start_time": "2022-12-14T13:07:36.386Z"
      },
      {
        "duration": 0,
        "start_time": "2022-12-14T13:07:36.387Z"
      },
      {
        "duration": 0,
        "start_time": "2022-12-14T13:07:36.389Z"
      },
      {
        "duration": 1526,
        "start_time": "2022-12-14T13:08:00.469Z"
      },
      {
        "duration": 900,
        "start_time": "2022-12-14T13:08:01.997Z"
      },
      {
        "duration": 286,
        "start_time": "2022-12-14T13:08:02.899Z"
      },
      {
        "duration": 28,
        "start_time": "2022-12-14T13:08:03.188Z"
      },
      {
        "duration": 3,
        "start_time": "2022-12-14T13:08:03.219Z"
      },
      {
        "duration": 38,
        "start_time": "2022-12-14T13:08:03.225Z"
      },
      {
        "duration": 9,
        "start_time": "2022-12-14T13:08:03.266Z"
      },
      {
        "duration": 20,
        "start_time": "2022-12-14T13:08:03.277Z"
      },
      {
        "duration": 9,
        "start_time": "2022-12-14T13:08:03.299Z"
      },
      {
        "duration": 61,
        "start_time": "2022-12-14T13:08:03.310Z"
      },
      {
        "duration": 4,
        "start_time": "2022-12-14T13:08:03.374Z"
      },
      {
        "duration": 26,
        "start_time": "2022-12-14T13:08:03.382Z"
      },
      {
        "duration": 97,
        "start_time": "2022-12-14T13:08:03.410Z"
      },
      {
        "duration": 50,
        "start_time": "2022-12-14T13:08:03.510Z"
      },
      {
        "duration": 75,
        "start_time": "2022-12-14T13:08:03.566Z"
      },
      {
        "duration": 63,
        "start_time": "2022-12-14T13:08:03.643Z"
      },
      {
        "duration": 6,
        "start_time": "2022-12-14T13:08:03.709Z"
      },
      {
        "duration": 75,
        "start_time": "2022-12-14T13:08:03.717Z"
      },
      {
        "duration": 1,
        "start_time": "2022-12-14T13:08:03.794Z"
      },
      {
        "duration": 0,
        "start_time": "2022-12-14T13:08:03.796Z"
      },
      {
        "duration": 0,
        "start_time": "2022-12-14T13:08:03.798Z"
      },
      {
        "duration": 360,
        "start_time": "2022-12-14T13:09:27.983Z"
      },
      {
        "duration": 757,
        "start_time": "2022-12-14T13:09:33.037Z"
      },
      {
        "duration": 334,
        "start_time": "2022-12-14T13:09:56.908Z"
      },
      {
        "duration": 315,
        "start_time": "2022-12-14T13:11:00.327Z"
      },
      {
        "duration": 340,
        "start_time": "2022-12-14T13:11:20.251Z"
      },
      {
        "duration": 25,
        "start_time": "2022-12-14T13:45:57.720Z"
      },
      {
        "duration": 26,
        "start_time": "2022-12-14T13:47:45.509Z"
      },
      {
        "duration": 55,
        "start_time": "2022-12-14T13:50:56.895Z"
      },
      {
        "duration": 56,
        "start_time": "2022-12-14T13:51:25.976Z"
      },
      {
        "duration": 76,
        "start_time": "2022-12-14T13:54:29.207Z"
      },
      {
        "duration": 119,
        "start_time": "2022-12-14T13:55:00.740Z"
      },
      {
        "duration": 13,
        "start_time": "2022-12-14T13:56:23.810Z"
      },
      {
        "duration": 10,
        "start_time": "2022-12-14T13:57:07.416Z"
      },
      {
        "duration": 11,
        "start_time": "2022-12-14T13:57:36.161Z"
      },
      {
        "duration": 10,
        "start_time": "2022-12-14T13:58:12.431Z"
      },
      {
        "duration": 14,
        "start_time": "2022-12-14T13:58:48.439Z"
      },
      {
        "duration": 4,
        "start_time": "2022-12-14T13:59:36.391Z"
      },
      {
        "duration": 986,
        "start_time": "2022-12-14T14:00:04.560Z"
      },
      {
        "duration": 11,
        "start_time": "2022-12-14T14:00:37.513Z"
      },
      {
        "duration": 14,
        "start_time": "2022-12-14T14:03:29.347Z"
      },
      {
        "duration": 38,
        "start_time": "2022-12-14T14:04:19.431Z"
      },
      {
        "duration": 13,
        "start_time": "2022-12-14T14:05:26.784Z"
      },
      {
        "duration": 10,
        "start_time": "2022-12-14T14:05:55.878Z"
      },
      {
        "duration": 29,
        "start_time": "2022-12-14T14:06:08.545Z"
      },
      {
        "duration": 54,
        "start_time": "2022-12-14T14:10:24.267Z"
      },
      {
        "duration": 17,
        "start_time": "2022-12-14T14:11:09.587Z"
      },
      {
        "duration": 46,
        "start_time": "2022-12-14T14:11:24.268Z"
      },
      {
        "duration": 56,
        "start_time": "2022-12-14T14:12:19.136Z"
      },
      {
        "duration": 27,
        "start_time": "2022-12-14T14:12:38.114Z"
      },
      {
        "duration": 18,
        "start_time": "2022-12-14T14:14:01.954Z"
      },
      {
        "duration": 36,
        "start_time": "2022-12-14T14:14:10.515Z"
      },
      {
        "duration": 34,
        "start_time": "2022-12-14T14:14:53.679Z"
      },
      {
        "duration": 29,
        "start_time": "2022-12-14T14:18:31.962Z"
      },
      {
        "duration": 21,
        "start_time": "2022-12-14T14:19:33.444Z"
      },
      {
        "duration": 15,
        "start_time": "2022-12-14T14:27:55.907Z"
      },
      {
        "duration": 293,
        "start_time": "2022-12-14T14:28:17.676Z"
      },
      {
        "duration": 1605,
        "start_time": "2022-12-14T14:39:44.258Z"
      },
      {
        "duration": 878,
        "start_time": "2022-12-14T14:39:45.866Z"
      },
      {
        "duration": 308,
        "start_time": "2022-12-14T14:39:46.747Z"
      },
      {
        "duration": 27,
        "start_time": "2022-12-14T14:39:47.057Z"
      },
      {
        "duration": 4,
        "start_time": "2022-12-14T14:39:47.086Z"
      },
      {
        "duration": 17,
        "start_time": "2022-12-14T14:39:47.093Z"
      },
      {
        "duration": 9,
        "start_time": "2022-12-14T14:39:47.112Z"
      },
      {
        "duration": 44,
        "start_time": "2022-12-14T14:39:47.122Z"
      },
      {
        "duration": 9,
        "start_time": "2022-12-14T14:39:47.168Z"
      },
      {
        "duration": 35,
        "start_time": "2022-12-14T14:39:47.180Z"
      },
      {
        "duration": 4,
        "start_time": "2022-12-14T14:39:47.217Z"
      },
      {
        "duration": 22,
        "start_time": "2022-12-14T14:39:47.255Z"
      },
      {
        "duration": 77,
        "start_time": "2022-12-14T14:39:47.279Z"
      },
      {
        "duration": 31,
        "start_time": "2022-12-14T14:39:47.358Z"
      },
      {
        "duration": 86,
        "start_time": "2022-12-14T14:39:47.391Z"
      },
      {
        "duration": 43,
        "start_time": "2022-12-14T14:39:47.478Z"
      },
      {
        "duration": 5,
        "start_time": "2022-12-14T14:39:47.523Z"
      },
      {
        "duration": 342,
        "start_time": "2022-12-14T14:39:47.530Z"
      },
      {
        "duration": 29,
        "start_time": "2022-12-14T14:39:47.873Z"
      },
      {
        "duration": 30,
        "start_time": "2022-12-14T14:39:47.904Z"
      },
      {
        "duration": 36,
        "start_time": "2022-12-14T14:39:47.936Z"
      },
      {
        "duration": 318,
        "start_time": "2022-12-14T14:39:47.974Z"
      },
      {
        "duration": 700,
        "start_time": "2022-12-14T14:39:48.294Z"
      },
      {
        "duration": 44091,
        "start_time": "2022-12-14T14:39:48.997Z"
      },
      {
        "duration": 30,
        "start_time": "2022-12-14T14:42:39.532Z"
      },
      {
        "duration": 20,
        "start_time": "2022-12-14T14:47:10.906Z"
      },
      {
        "duration": 23,
        "start_time": "2022-12-14T14:48:50.064Z"
      },
      {
        "duration": 17,
        "start_time": "2022-12-14T14:49:18.113Z"
      },
      {
        "duration": 1505,
        "start_time": "2022-12-14T14:49:37.031Z"
      },
      {
        "duration": 835,
        "start_time": "2022-12-14T14:49:38.538Z"
      },
      {
        "duration": 260,
        "start_time": "2022-12-14T14:49:39.375Z"
      },
      {
        "duration": 37,
        "start_time": "2022-12-14T14:49:39.638Z"
      },
      {
        "duration": 3,
        "start_time": "2022-12-14T14:49:39.678Z"
      },
      {
        "duration": 30,
        "start_time": "2022-12-14T14:49:39.683Z"
      },
      {
        "duration": 11,
        "start_time": "2022-12-14T14:49:39.715Z"
      },
      {
        "duration": 27,
        "start_time": "2022-12-14T14:49:39.728Z"
      },
      {
        "duration": 9,
        "start_time": "2022-12-14T14:49:39.758Z"
      },
      {
        "duration": 41,
        "start_time": "2022-12-14T14:49:39.770Z"
      },
      {
        "duration": 4,
        "start_time": "2022-12-14T14:49:39.812Z"
      },
      {
        "duration": 51,
        "start_time": "2022-12-14T14:49:39.817Z"
      },
      {
        "duration": 56,
        "start_time": "2022-12-14T14:49:39.870Z"
      },
      {
        "duration": 48,
        "start_time": "2022-12-14T14:49:39.928Z"
      },
      {
        "duration": 88,
        "start_time": "2022-12-14T14:49:39.978Z"
      },
      {
        "duration": 41,
        "start_time": "2022-12-14T14:49:40.068Z"
      },
      {
        "duration": 4,
        "start_time": "2022-12-14T14:49:40.111Z"
      },
      {
        "duration": 326,
        "start_time": "2022-12-14T14:49:40.117Z"
      },
      {
        "duration": 34,
        "start_time": "2022-12-14T14:49:40.445Z"
      },
      {
        "duration": 26,
        "start_time": "2022-12-14T14:49:40.481Z"
      },
      {
        "duration": 17,
        "start_time": "2022-12-14T14:49:40.509Z"
      },
      {
        "duration": 327,
        "start_time": "2022-12-14T14:49:40.528Z"
      },
      {
        "duration": 31,
        "start_time": "2022-12-14T14:49:40.857Z"
      },
      {
        "duration": 21,
        "start_time": "2022-12-14T14:49:40.890Z"
      },
      {
        "duration": 718,
        "start_time": "2022-12-14T14:49:40.913Z"
      },
      {
        "duration": 43883,
        "start_time": "2022-12-14T14:49:41.634Z"
      },
      {
        "duration": 17,
        "start_time": "2022-12-14T14:52:02.376Z"
      },
      {
        "duration": 1492,
        "start_time": "2022-12-14T14:52:25.143Z"
      },
      {
        "duration": 863,
        "start_time": "2022-12-14T14:52:26.637Z"
      },
      {
        "duration": 262,
        "start_time": "2022-12-14T14:52:27.502Z"
      },
      {
        "duration": 28,
        "start_time": "2022-12-14T14:52:27.766Z"
      },
      {
        "duration": 3,
        "start_time": "2022-12-14T14:52:27.796Z"
      },
      {
        "duration": 15,
        "start_time": "2022-12-14T14:52:27.801Z"
      },
      {
        "duration": 42,
        "start_time": "2022-12-14T14:52:27.818Z"
      },
      {
        "duration": 14,
        "start_time": "2022-12-14T14:52:27.862Z"
      },
      {
        "duration": 10,
        "start_time": "2022-12-14T14:52:27.879Z"
      },
      {
        "duration": 66,
        "start_time": "2022-12-14T14:52:27.893Z"
      },
      {
        "duration": 5,
        "start_time": "2022-12-14T14:52:27.961Z"
      },
      {
        "duration": 27,
        "start_time": "2022-12-14T14:52:27.968Z"
      },
      {
        "duration": 86,
        "start_time": "2022-12-14T14:52:27.997Z"
      },
      {
        "duration": 31,
        "start_time": "2022-12-14T14:52:28.085Z"
      },
      {
        "duration": 90,
        "start_time": "2022-12-14T14:52:28.118Z"
      },
      {
        "duration": 54,
        "start_time": "2022-12-14T14:52:28.210Z"
      },
      {
        "duration": 5,
        "start_time": "2022-12-14T14:52:28.266Z"
      },
      {
        "duration": 317,
        "start_time": "2022-12-14T14:52:28.273Z"
      },
      {
        "duration": 32,
        "start_time": "2022-12-14T14:52:28.591Z"
      },
      {
        "duration": 46,
        "start_time": "2022-12-14T14:52:28.625Z"
      },
      {
        "duration": 19,
        "start_time": "2022-12-14T14:52:28.673Z"
      },
      {
        "duration": 328,
        "start_time": "2022-12-14T14:52:28.694Z"
      },
      {
        "duration": 40,
        "start_time": "2022-12-14T14:52:29.024Z"
      },
      {
        "duration": 20,
        "start_time": "2022-12-14T14:52:29.065Z"
      },
      {
        "duration": 699,
        "start_time": "2022-12-14T14:52:29.087Z"
      },
      {
        "duration": 43182,
        "start_time": "2022-12-14T14:52:29.788Z"
      },
      {
        "duration": 17,
        "start_time": "2022-12-14T14:53:28.313Z"
      },
      {
        "duration": 1492,
        "start_time": "2022-12-14T14:53:52.120Z"
      },
      {
        "duration": 864,
        "start_time": "2022-12-14T14:53:53.615Z"
      },
      {
        "duration": 322,
        "start_time": "2022-12-14T14:53:54.481Z"
      },
      {
        "duration": 34,
        "start_time": "2022-12-14T14:53:54.806Z"
      },
      {
        "duration": 14,
        "start_time": "2022-12-14T14:53:54.842Z"
      },
      {
        "duration": 23,
        "start_time": "2022-12-14T14:53:54.858Z"
      },
      {
        "duration": 7,
        "start_time": "2022-12-14T14:53:54.883Z"
      },
      {
        "duration": 11,
        "start_time": "2022-12-14T14:53:54.892Z"
      },
      {
        "duration": 8,
        "start_time": "2022-12-14T14:53:54.905Z"
      },
      {
        "duration": 71,
        "start_time": "2022-12-14T14:53:54.916Z"
      },
      {
        "duration": 4,
        "start_time": "2022-12-14T14:53:54.989Z"
      },
      {
        "duration": 26,
        "start_time": "2022-12-14T14:53:54.996Z"
      },
      {
        "duration": 84,
        "start_time": "2022-12-14T14:53:55.024Z"
      },
      {
        "duration": 54,
        "start_time": "2022-12-14T14:53:55.110Z"
      },
      {
        "duration": 72,
        "start_time": "2022-12-14T14:53:55.166Z"
      },
      {
        "duration": 58,
        "start_time": "2022-12-14T14:53:55.240Z"
      },
      {
        "duration": 4,
        "start_time": "2022-12-14T14:53:55.300Z"
      },
      {
        "duration": 323,
        "start_time": "2022-12-14T14:53:55.306Z"
      },
      {
        "duration": 40,
        "start_time": "2022-12-14T14:53:55.631Z"
      },
      {
        "duration": 28,
        "start_time": "2022-12-14T14:53:55.673Z"
      },
      {
        "duration": 19,
        "start_time": "2022-12-14T14:53:55.702Z"
      },
      {
        "duration": 316,
        "start_time": "2022-12-14T14:53:55.722Z"
      },
      {
        "duration": 39,
        "start_time": "2022-12-14T14:53:56.040Z"
      },
      {
        "duration": 22,
        "start_time": "2022-12-14T14:53:56.081Z"
      },
      {
        "duration": 715,
        "start_time": "2022-12-14T14:53:56.104Z"
      },
      {
        "duration": 45466,
        "start_time": "2022-12-14T14:53:56.820Z"
      },
      {
        "duration": 21,
        "start_time": "2022-12-14T14:55:47.075Z"
      },
      {
        "duration": 1579,
        "start_time": "2022-12-14T14:56:08.335Z"
      },
      {
        "duration": 930,
        "start_time": "2022-12-14T14:56:09.919Z"
      },
      {
        "duration": 319,
        "start_time": "2022-12-14T14:56:10.851Z"
      },
      {
        "duration": 30,
        "start_time": "2022-12-14T14:56:11.172Z"
      },
      {
        "duration": 3,
        "start_time": "2022-12-14T14:56:11.204Z"
      },
      {
        "duration": 14,
        "start_time": "2022-12-14T14:56:11.209Z"
      },
      {
        "duration": 35,
        "start_time": "2022-12-14T14:56:11.225Z"
      },
      {
        "duration": 17,
        "start_time": "2022-12-14T14:56:11.263Z"
      },
      {
        "duration": 9,
        "start_time": "2022-12-14T14:56:11.284Z"
      },
      {
        "duration": 70,
        "start_time": "2022-12-14T14:56:11.295Z"
      },
      {
        "duration": 4,
        "start_time": "2022-12-14T14:56:11.368Z"
      },
      {
        "duration": 26,
        "start_time": "2022-12-14T14:56:11.374Z"
      },
      {
        "duration": 89,
        "start_time": "2022-12-14T14:56:11.402Z"
      },
      {
        "duration": 30,
        "start_time": "2022-12-14T14:56:11.493Z"
      },
      {
        "duration": 84,
        "start_time": "2022-12-14T14:56:11.525Z"
      },
      {
        "duration": 57,
        "start_time": "2022-12-14T14:56:11.611Z"
      },
      {
        "duration": 5,
        "start_time": "2022-12-14T14:56:11.670Z"
      },
      {
        "duration": 328,
        "start_time": "2022-12-14T14:56:11.677Z"
      },
      {
        "duration": 30,
        "start_time": "2022-12-14T14:56:12.007Z"
      },
      {
        "duration": 38,
        "start_time": "2022-12-14T14:56:12.057Z"
      },
      {
        "duration": 17,
        "start_time": "2022-12-14T14:56:12.097Z"
      },
      {
        "duration": 373,
        "start_time": "2022-12-14T14:56:12.116Z"
      },
      {
        "duration": 32,
        "start_time": "2022-12-14T14:56:12.491Z"
      },
      {
        "duration": 37,
        "start_time": "2022-12-14T14:56:12.525Z"
      },
      {
        "duration": 780,
        "start_time": "2022-12-14T14:56:12.565Z"
      },
      {
        "duration": 49121,
        "start_time": "2022-12-14T14:56:13.347Z"
      },
      {
        "duration": 1928,
        "start_time": "2022-12-14T15:00:00.765Z"
      },
      {
        "duration": 973,
        "start_time": "2022-12-14T15:00:02.695Z"
      },
      {
        "duration": 302,
        "start_time": "2022-12-14T15:00:03.670Z"
      },
      {
        "duration": 34,
        "start_time": "2022-12-14T15:00:03.976Z"
      },
      {
        "duration": 4,
        "start_time": "2022-12-14T15:00:04.012Z"
      },
      {
        "duration": 37,
        "start_time": "2022-12-14T15:00:04.018Z"
      },
      {
        "duration": 13,
        "start_time": "2022-12-14T15:00:04.059Z"
      },
      {
        "duration": 24,
        "start_time": "2022-12-14T15:00:04.075Z"
      },
      {
        "duration": 15,
        "start_time": "2022-12-14T15:00:04.101Z"
      },
      {
        "duration": 67,
        "start_time": "2022-12-14T15:00:04.118Z"
      },
      {
        "duration": 4,
        "start_time": "2022-12-14T15:00:04.187Z"
      },
      {
        "duration": 35,
        "start_time": "2022-12-14T15:00:04.193Z"
      },
      {
        "duration": 94,
        "start_time": "2022-12-14T15:00:04.229Z"
      },
      {
        "duration": 62,
        "start_time": "2022-12-14T15:00:04.324Z"
      },
      {
        "duration": 84,
        "start_time": "2022-12-14T15:00:04.388Z"
      },
      {
        "duration": 44,
        "start_time": "2022-12-14T15:00:04.475Z"
      },
      {
        "duration": 6,
        "start_time": "2022-12-14T15:00:04.521Z"
      },
      {
        "duration": 471,
        "start_time": "2022-12-14T15:00:04.530Z"
      },
      {
        "duration": 28,
        "start_time": "2022-12-14T15:00:05.003Z"
      },
      {
        "duration": 57,
        "start_time": "2022-12-14T15:00:05.032Z"
      },
      {
        "duration": 24,
        "start_time": "2022-12-14T15:00:05.091Z"
      },
      {
        "duration": 373,
        "start_time": "2022-12-14T15:00:05.117Z"
      },
      {
        "duration": 29,
        "start_time": "2022-12-14T15:00:05.493Z"
      },
      {
        "duration": 43,
        "start_time": "2022-12-14T15:00:05.525Z"
      },
      {
        "duration": 795,
        "start_time": "2022-12-14T15:00:05.571Z"
      },
      {
        "duration": 48777,
        "start_time": "2022-12-14T15:00:06.368Z"
      },
      {
        "duration": 5,
        "start_time": "2022-12-14T15:16:22.885Z"
      },
      {
        "duration": 122,
        "start_time": "2022-12-14T15:18:21.764Z"
      },
      {
        "duration": 12,
        "start_time": "2022-12-14T15:18:43.915Z"
      },
      {
        "duration": 6,
        "start_time": "2022-12-14T15:19:27.036Z"
      },
      {
        "duration": 17,
        "start_time": "2022-12-14T15:24:08.106Z"
      },
      {
        "duration": 1470,
        "start_time": "2022-12-14T15:32:00.572Z"
      },
      {
        "duration": 879,
        "start_time": "2022-12-14T15:32:02.044Z"
      },
      {
        "duration": 263,
        "start_time": "2022-12-14T15:32:02.925Z"
      },
      {
        "duration": 26,
        "start_time": "2022-12-14T15:32:03.190Z"
      },
      {
        "duration": 3,
        "start_time": "2022-12-14T15:32:03.218Z"
      },
      {
        "duration": 15,
        "start_time": "2022-12-14T15:32:03.223Z"
      },
      {
        "duration": 8,
        "start_time": "2022-12-14T15:32:03.255Z"
      },
      {
        "duration": 19,
        "start_time": "2022-12-14T15:32:03.265Z"
      },
      {
        "duration": 7,
        "start_time": "2022-12-14T15:32:03.286Z"
      },
      {
        "duration": 59,
        "start_time": "2022-12-14T15:32:03.296Z"
      },
      {
        "duration": 8,
        "start_time": "2022-12-14T15:32:03.357Z"
      },
      {
        "duration": 30,
        "start_time": "2022-12-14T15:32:03.368Z"
      },
      {
        "duration": 72,
        "start_time": "2022-12-14T15:32:03.399Z"
      },
      {
        "duration": 32,
        "start_time": "2022-12-14T15:32:03.473Z"
      },
      {
        "duration": 102,
        "start_time": "2022-12-14T15:32:03.507Z"
      },
      {
        "duration": 58,
        "start_time": "2022-12-14T15:32:03.611Z"
      },
      {
        "duration": 5,
        "start_time": "2022-12-14T15:32:03.671Z"
      },
      {
        "duration": 367,
        "start_time": "2022-12-14T15:32:03.678Z"
      },
      {
        "duration": 41,
        "start_time": "2022-12-14T15:32:04.047Z"
      },
      {
        "duration": 23,
        "start_time": "2022-12-14T15:32:04.090Z"
      },
      {
        "duration": 16,
        "start_time": "2022-12-14T15:32:04.114Z"
      },
      {
        "duration": 369,
        "start_time": "2022-12-14T15:32:04.156Z"
      },
      {
        "duration": 53,
        "start_time": "2022-12-14T15:32:04.527Z"
      },
      {
        "duration": 30,
        "start_time": "2022-12-14T15:32:04.582Z"
      },
      {
        "duration": 12,
        "start_time": "2022-12-14T15:32:04.614Z"
      },
      {
        "duration": 20,
        "start_time": "2022-12-14T15:32:04.628Z"
      },
      {
        "duration": 141,
        "start_time": "2022-12-14T15:32:04.662Z"
      },
      {
        "duration": 677,
        "start_time": "2022-12-14T15:32:04.806Z"
      },
      {
        "duration": 46453,
        "start_time": "2022-12-14T15:32:05.485Z"
      },
      {
        "duration": 585,
        "start_time": "2022-12-14T15:35:15.766Z"
      },
      {
        "duration": 741,
        "start_time": "2022-12-14T15:35:32.696Z"
      },
      {
        "duration": 597,
        "start_time": "2022-12-14T15:40:35.458Z"
      },
      {
        "duration": 601,
        "start_time": "2022-12-14T15:40:48.228Z"
      },
      {
        "duration": 826,
        "start_time": "2022-12-14T16:03:12.211Z"
      },
      {
        "duration": 675,
        "start_time": "2022-12-14T16:03:49.584Z"
      },
      {
        "duration": 787,
        "start_time": "2022-12-14T16:03:57.433Z"
      },
      {
        "duration": 468,
        "start_time": "2022-12-14T16:07:12.839Z"
      },
      {
        "duration": 5,
        "start_time": "2022-12-14T16:22:06.103Z"
      },
      {
        "duration": 4,
        "start_time": "2022-12-14T16:22:12.493Z"
      },
      {
        "duration": 75,
        "start_time": "2022-12-14T16:22:19.065Z"
      },
      {
        "duration": 547,
        "start_time": "2022-12-14T16:25:04.476Z"
      },
      {
        "duration": 4,
        "start_time": "2022-12-14T16:25:17.997Z"
      },
      {
        "duration": 1506,
        "start_time": "2022-12-14T16:25:25.032Z"
      },
      {
        "duration": 820,
        "start_time": "2022-12-14T16:25:26.540Z"
      },
      {
        "duration": 254,
        "start_time": "2022-12-14T16:25:27.365Z"
      },
      {
        "duration": 34,
        "start_time": "2022-12-14T16:25:27.622Z"
      },
      {
        "duration": 4,
        "start_time": "2022-12-14T16:25:27.658Z"
      },
      {
        "duration": 13,
        "start_time": "2022-12-14T16:25:27.664Z"
      },
      {
        "duration": 7,
        "start_time": "2022-12-14T16:25:27.678Z"
      },
      {
        "duration": 18,
        "start_time": "2022-12-14T16:25:27.687Z"
      },
      {
        "duration": 8,
        "start_time": "2022-12-14T16:25:27.708Z"
      },
      {
        "duration": 69,
        "start_time": "2022-12-14T16:25:27.717Z"
      },
      {
        "duration": 3,
        "start_time": "2022-12-14T16:25:27.788Z"
      },
      {
        "duration": 27,
        "start_time": "2022-12-14T16:25:27.793Z"
      },
      {
        "duration": 77,
        "start_time": "2022-12-14T16:25:27.822Z"
      },
      {
        "duration": 29,
        "start_time": "2022-12-14T16:25:27.901Z"
      },
      {
        "duration": 83,
        "start_time": "2022-12-14T16:25:27.931Z"
      },
      {
        "duration": 59,
        "start_time": "2022-12-14T16:25:28.016Z"
      },
      {
        "duration": 4,
        "start_time": "2022-12-14T16:25:28.077Z"
      },
      {
        "duration": 322,
        "start_time": "2022-12-14T16:25:28.083Z"
      },
      {
        "duration": 25,
        "start_time": "2022-12-14T16:25:28.409Z"
      },
      {
        "duration": 41,
        "start_time": "2022-12-14T16:25:28.436Z"
      },
      {
        "duration": 19,
        "start_time": "2022-12-14T16:25:28.478Z"
      },
      {
        "duration": 311,
        "start_time": "2022-12-14T16:25:28.499Z"
      },
      {
        "duration": 26,
        "start_time": "2022-12-14T16:25:28.812Z"
      },
      {
        "duration": 33,
        "start_time": "2022-12-14T16:25:28.839Z"
      },
      {
        "duration": 6,
        "start_time": "2022-12-14T16:25:28.874Z"
      },
      {
        "duration": 10,
        "start_time": "2022-12-14T16:25:28.882Z"
      },
      {
        "duration": 125,
        "start_time": "2022-12-14T16:25:28.897Z"
      },
      {
        "duration": 587,
        "start_time": "2022-12-14T16:25:29.024Z"
      },
      {
        "duration": 586,
        "start_time": "2022-12-14T16:25:29.614Z"
      },
      {
        "duration": 731,
        "start_time": "2022-12-14T16:25:30.202Z"
      },
      {
        "duration": 735,
        "start_time": "2022-12-14T16:25:30.936Z"
      },
      {
        "duration": 452,
        "start_time": "2022-12-14T16:25:31.674Z"
      },
      {
        "duration": 5,
        "start_time": "2022-12-14T16:25:32.127Z"
      },
      {
        "duration": 24,
        "start_time": "2022-12-14T16:25:32.134Z"
      },
      {
        "duration": 15,
        "start_time": "2022-12-14T16:25:32.160Z"
      },
      {
        "duration": 724,
        "start_time": "2022-12-14T16:25:32.177Z"
      },
      {
        "duration": 41871,
        "start_time": "2022-12-14T16:25:32.903Z"
      },
      {
        "duration": 604,
        "start_time": "2022-12-14T16:26:15.414Z"
      },
      {
        "duration": 20,
        "start_time": "2022-12-14T16:34:39.938Z"
      },
      {
        "duration": 1377,
        "start_time": "2022-12-14T16:35:31.993Z"
      },
      {
        "duration": 805,
        "start_time": "2022-12-14T16:35:33.372Z"
      },
      {
        "duration": 246,
        "start_time": "2022-12-14T16:35:34.179Z"
      },
      {
        "duration": 41,
        "start_time": "2022-12-14T16:35:34.427Z"
      },
      {
        "duration": 3,
        "start_time": "2022-12-14T16:35:34.469Z"
      },
      {
        "duration": 16,
        "start_time": "2022-12-14T16:35:34.473Z"
      },
      {
        "duration": 6,
        "start_time": "2022-12-14T16:35:34.490Z"
      },
      {
        "duration": 13,
        "start_time": "2022-12-14T16:35:34.498Z"
      },
      {
        "duration": 7,
        "start_time": "2022-12-14T16:35:34.513Z"
      },
      {
        "duration": 61,
        "start_time": "2022-12-14T16:35:34.522Z"
      },
      {
        "duration": 3,
        "start_time": "2022-12-14T16:35:34.585Z"
      },
      {
        "duration": 24,
        "start_time": "2022-12-14T16:35:34.590Z"
      },
      {
        "duration": 90,
        "start_time": "2022-12-14T16:35:34.617Z"
      },
      {
        "duration": 57,
        "start_time": "2022-12-14T16:35:34.709Z"
      },
      {
        "duration": 87,
        "start_time": "2022-12-14T16:35:34.768Z"
      },
      {
        "duration": 41,
        "start_time": "2022-12-14T16:35:34.857Z"
      },
      {
        "duration": 4,
        "start_time": "2022-12-14T16:35:34.899Z"
      },
      {
        "duration": 319,
        "start_time": "2022-12-14T16:35:34.905Z"
      },
      {
        "duration": 32,
        "start_time": "2022-12-14T16:35:35.227Z"
      },
      {
        "duration": 33,
        "start_time": "2022-12-14T16:35:35.261Z"
      },
      {
        "duration": 19,
        "start_time": "2022-12-14T16:35:35.296Z"
      },
      {
        "duration": 306,
        "start_time": "2022-12-14T16:35:35.316Z"
      },
      {
        "duration": 38,
        "start_time": "2022-12-14T16:35:35.624Z"
      },
      {
        "duration": 32,
        "start_time": "2022-12-14T16:35:35.663Z"
      },
      {
        "duration": 5,
        "start_time": "2022-12-14T16:35:35.698Z"
      },
      {
        "duration": 7,
        "start_time": "2022-12-14T16:35:35.705Z"
      },
      {
        "duration": 122,
        "start_time": "2022-12-14T16:35:35.714Z"
      },
      {
        "duration": 597,
        "start_time": "2022-12-14T16:35:35.840Z"
      },
      {
        "duration": 607,
        "start_time": "2022-12-14T16:35:36.439Z"
      },
      {
        "duration": 716,
        "start_time": "2022-12-14T16:35:37.048Z"
      },
      {
        "duration": 727,
        "start_time": "2022-12-14T16:35:37.766Z"
      },
      {
        "duration": 446,
        "start_time": "2022-12-14T16:35:38.494Z"
      },
      {
        "duration": 5,
        "start_time": "2022-12-14T16:35:38.942Z"
      },
      {
        "duration": 15,
        "start_time": "2022-12-14T16:35:38.948Z"
      },
      {
        "duration": 9,
        "start_time": "2022-12-14T16:35:38.965Z"
      },
      {
        "duration": 800,
        "start_time": "2022-12-14T16:35:38.975Z"
      },
      {
        "duration": 16,
        "start_time": "2022-12-14T16:35:39.777Z"
      },
      {
        "duration": 42035,
        "start_time": "2022-12-14T16:35:39.795Z"
      },
      {
        "duration": 13,
        "start_time": "2022-12-14T16:45:08.975Z"
      },
      {
        "duration": 4,
        "start_time": "2022-12-14T16:47:16.933Z"
      },
      {
        "duration": 4,
        "start_time": "2022-12-14T16:49:28.752Z"
      },
      {
        "duration": 5,
        "start_time": "2022-12-14T16:51:17.831Z"
      },
      {
        "duration": 1397,
        "start_time": "2022-12-14T16:56:41.303Z"
      },
      {
        "duration": 809,
        "start_time": "2022-12-14T16:56:42.702Z"
      },
      {
        "duration": 278,
        "start_time": "2022-12-14T16:56:43.513Z"
      },
      {
        "duration": 24,
        "start_time": "2022-12-14T16:56:43.794Z"
      },
      {
        "duration": 3,
        "start_time": "2022-12-14T16:56:43.820Z"
      },
      {
        "duration": 13,
        "start_time": "2022-12-14T16:56:43.824Z"
      },
      {
        "duration": 22,
        "start_time": "2022-12-14T16:56:43.839Z"
      },
      {
        "duration": 15,
        "start_time": "2022-12-14T16:56:43.863Z"
      },
      {
        "duration": 9,
        "start_time": "2022-12-14T16:56:43.880Z"
      },
      {
        "duration": 33,
        "start_time": "2022-12-14T16:56:43.892Z"
      },
      {
        "duration": 28,
        "start_time": "2022-12-14T16:56:43.927Z"
      },
      {
        "duration": 24,
        "start_time": "2022-12-14T16:56:43.957Z"
      },
      {
        "duration": 74,
        "start_time": "2022-12-14T16:56:43.983Z"
      },
      {
        "duration": 28,
        "start_time": "2022-12-14T16:56:44.059Z"
      },
      {
        "duration": 87,
        "start_time": "2022-12-14T16:56:44.089Z"
      },
      {
        "duration": 43,
        "start_time": "2022-12-14T16:56:44.177Z"
      },
      {
        "duration": 4,
        "start_time": "2022-12-14T16:56:44.222Z"
      },
      {
        "duration": 365,
        "start_time": "2022-12-14T16:56:44.227Z"
      },
      {
        "duration": 24,
        "start_time": "2022-12-14T16:56:44.594Z"
      },
      {
        "duration": 44,
        "start_time": "2022-12-14T16:56:44.620Z"
      },
      {
        "duration": 18,
        "start_time": "2022-12-14T16:56:44.666Z"
      },
      {
        "duration": 317,
        "start_time": "2022-12-14T16:56:44.687Z"
      },
      {
        "duration": 29,
        "start_time": "2022-12-14T16:56:45.006Z"
      },
      {
        "duration": 36,
        "start_time": "2022-12-14T16:56:45.037Z"
      },
      {
        "duration": 7,
        "start_time": "2022-12-14T16:56:45.075Z"
      },
      {
        "duration": 9,
        "start_time": "2022-12-14T16:56:45.084Z"
      },
      {
        "duration": 127,
        "start_time": "2022-12-14T16:56:45.096Z"
      },
      {
        "duration": 632,
        "start_time": "2022-12-14T16:56:45.228Z"
      },
      {
        "duration": 596,
        "start_time": "2022-12-14T16:56:45.861Z"
      },
      {
        "duration": 728,
        "start_time": "2022-12-14T16:56:46.458Z"
      },
      {
        "duration": 692,
        "start_time": "2022-12-14T16:56:47.188Z"
      },
      {
        "duration": 451,
        "start_time": "2022-12-14T16:56:47.882Z"
      },
      {
        "duration": 4,
        "start_time": "2022-12-14T16:56:48.335Z"
      },
      {
        "duration": 14,
        "start_time": "2022-12-14T16:56:48.341Z"
      },
      {
        "duration": 6,
        "start_time": "2022-12-14T16:56:48.356Z"
      },
      {
        "duration": 734,
        "start_time": "2022-12-14T16:56:48.364Z"
      },
      {
        "duration": 18,
        "start_time": "2022-12-14T16:56:49.100Z"
      },
      {
        "duration": 11,
        "start_time": "2022-12-14T16:56:49.120Z"
      },
      {
        "duration": 28,
        "start_time": "2022-12-14T16:56:49.132Z"
      },
      {
        "duration": 51,
        "start_time": "2022-12-14T16:56:49.163Z"
      },
      {
        "duration": 0,
        "start_time": "2022-12-14T16:56:49.216Z"
      },
      {
        "duration": 0,
        "start_time": "2022-12-14T16:56:49.218Z"
      },
      {
        "duration": 0,
        "start_time": "2022-12-14T16:56:49.219Z"
      },
      {
        "duration": 0,
        "start_time": "2022-12-14T16:56:49.221Z"
      },
      {
        "duration": 50,
        "start_time": "2022-12-14T16:57:52.925Z"
      },
      {
        "duration": 109,
        "start_time": "2022-12-14T16:59:24.194Z"
      },
      {
        "duration": 6,
        "start_time": "2022-12-14T17:00:21.298Z"
      },
      {
        "duration": 1430,
        "start_time": "2022-12-14T17:00:40.264Z"
      },
      {
        "duration": 814,
        "start_time": "2022-12-14T17:00:41.696Z"
      },
      {
        "duration": 249,
        "start_time": "2022-12-14T17:00:42.512Z"
      },
      {
        "duration": 26,
        "start_time": "2022-12-14T17:00:42.763Z"
      },
      {
        "duration": 3,
        "start_time": "2022-12-14T17:00:42.791Z"
      },
      {
        "duration": 12,
        "start_time": "2022-12-14T17:00:42.796Z"
      },
      {
        "duration": 9,
        "start_time": "2022-12-14T17:00:42.810Z"
      },
      {
        "duration": 41,
        "start_time": "2022-12-14T17:00:42.821Z"
      },
      {
        "duration": 8,
        "start_time": "2022-12-14T17:00:42.864Z"
      },
      {
        "duration": 36,
        "start_time": "2022-12-14T17:00:42.875Z"
      },
      {
        "duration": 4,
        "start_time": "2022-12-14T17:00:42.913Z"
      },
      {
        "duration": 59,
        "start_time": "2022-12-14T17:00:42.918Z"
      },
      {
        "duration": 55,
        "start_time": "2022-12-14T17:00:42.979Z"
      },
      {
        "duration": 49,
        "start_time": "2022-12-14T17:00:43.035Z"
      },
      {
        "duration": 88,
        "start_time": "2022-12-14T17:00:43.086Z"
      },
      {
        "duration": 41,
        "start_time": "2022-12-14T17:00:43.176Z"
      },
      {
        "duration": 4,
        "start_time": "2022-12-14T17:00:43.219Z"
      },
      {
        "duration": 323,
        "start_time": "2022-12-14T17:00:43.224Z"
      },
      {
        "duration": 30,
        "start_time": "2022-12-14T17:00:43.549Z"
      },
      {
        "duration": 23,
        "start_time": "2022-12-14T17:00:43.580Z"
      },
      {
        "duration": 16,
        "start_time": "2022-12-14T17:00:43.605Z"
      },
      {
        "duration": 329,
        "start_time": "2022-12-14T17:00:43.623Z"
      },
      {
        "duration": 24,
        "start_time": "2022-12-14T17:00:43.955Z"
      },
      {
        "duration": 22,
        "start_time": "2022-12-14T17:00:43.981Z"
      },
      {
        "duration": 5,
        "start_time": "2022-12-14T17:00:44.004Z"
      },
      {
        "duration": 15,
        "start_time": "2022-12-14T17:00:44.010Z"
      },
      {
        "duration": 120,
        "start_time": "2022-12-14T17:00:44.027Z"
      },
      {
        "duration": 624,
        "start_time": "2022-12-14T17:00:44.154Z"
      },
      {
        "duration": 586,
        "start_time": "2022-12-14T17:00:44.780Z"
      },
      {
        "duration": 712,
        "start_time": "2022-12-14T17:00:45.368Z"
      },
      {
        "duration": 683,
        "start_time": "2022-12-14T17:00:46.082Z"
      },
      {
        "duration": 448,
        "start_time": "2022-12-14T17:00:46.766Z"
      },
      {
        "duration": 5,
        "start_time": "2022-12-14T17:00:47.215Z"
      },
      {
        "duration": 10,
        "start_time": "2022-12-14T17:00:47.222Z"
      },
      {
        "duration": 6,
        "start_time": "2022-12-14T17:00:47.234Z"
      },
      {
        "duration": 707,
        "start_time": "2022-12-14T17:00:47.242Z"
      },
      {
        "duration": 16,
        "start_time": "2022-12-14T17:00:47.954Z"
      },
      {
        "duration": 10,
        "start_time": "2022-12-14T17:00:47.972Z"
      },
      {
        "duration": 37,
        "start_time": "2022-12-14T17:00:47.983Z"
      },
      {
        "duration": 51,
        "start_time": "2022-12-14T17:00:48.022Z"
      },
      {
        "duration": 0,
        "start_time": "2022-12-14T17:00:48.075Z"
      },
      {
        "duration": 0,
        "start_time": "2022-12-14T17:00:48.076Z"
      },
      {
        "duration": 0,
        "start_time": "2022-12-14T17:00:48.077Z"
      },
      {
        "duration": 0,
        "start_time": "2022-12-14T17:00:48.078Z"
      },
      {
        "duration": 115,
        "start_time": "2022-12-14T17:01:20.431Z"
      },
      {
        "duration": 4,
        "start_time": "2022-12-14T17:02:05.846Z"
      },
      {
        "duration": 1419,
        "start_time": "2022-12-14T17:02:15.301Z"
      },
      {
        "duration": 823,
        "start_time": "2022-12-14T17:02:16.722Z"
      },
      {
        "duration": 256,
        "start_time": "2022-12-14T17:02:17.547Z"
      },
      {
        "duration": 26,
        "start_time": "2022-12-14T17:02:17.805Z"
      },
      {
        "duration": 3,
        "start_time": "2022-12-14T17:02:17.833Z"
      },
      {
        "duration": 28,
        "start_time": "2022-12-14T17:02:17.838Z"
      },
      {
        "duration": 7,
        "start_time": "2022-12-14T17:02:17.868Z"
      },
      {
        "duration": 14,
        "start_time": "2022-12-14T17:02:17.877Z"
      },
      {
        "duration": 7,
        "start_time": "2022-12-14T17:02:17.893Z"
      },
      {
        "duration": 58,
        "start_time": "2022-12-14T17:02:17.903Z"
      },
      {
        "duration": 4,
        "start_time": "2022-12-14T17:02:17.963Z"
      },
      {
        "duration": 32,
        "start_time": "2022-12-14T17:02:17.968Z"
      },
      {
        "duration": 84,
        "start_time": "2022-12-14T17:02:18.002Z"
      },
      {
        "duration": 34,
        "start_time": "2022-12-14T17:02:18.088Z"
      },
      {
        "duration": 90,
        "start_time": "2022-12-14T17:02:18.124Z"
      },
      {
        "duration": 56,
        "start_time": "2022-12-14T17:02:18.216Z"
      },
      {
        "duration": 4,
        "start_time": "2022-12-14T17:02:18.274Z"
      },
      {
        "duration": 318,
        "start_time": "2022-12-14T17:02:18.280Z"
      },
      {
        "duration": 26,
        "start_time": "2022-12-14T17:02:18.600Z"
      },
      {
        "duration": 49,
        "start_time": "2022-12-14T17:02:18.628Z"
      },
      {
        "duration": 17,
        "start_time": "2022-12-14T17:02:18.679Z"
      },
      {
        "duration": 300,
        "start_time": "2022-12-14T17:02:18.698Z"
      },
      {
        "duration": 25,
        "start_time": "2022-12-14T17:02:19.001Z"
      },
      {
        "duration": 37,
        "start_time": "2022-12-14T17:02:19.029Z"
      },
      {
        "duration": 6,
        "start_time": "2022-12-14T17:02:19.068Z"
      },
      {
        "duration": 10,
        "start_time": "2022-12-14T17:02:19.076Z"
      },
      {
        "duration": 119,
        "start_time": "2022-12-14T17:02:19.088Z"
      },
      {
        "duration": 576,
        "start_time": "2022-12-14T17:02:19.211Z"
      },
      {
        "duration": 590,
        "start_time": "2022-12-14T17:02:19.789Z"
      },
      {
        "duration": 721,
        "start_time": "2022-12-14T17:02:20.381Z"
      },
      {
        "duration": 819,
        "start_time": "2022-12-14T17:02:21.104Z"
      },
      {
        "duration": 450,
        "start_time": "2022-12-14T17:02:21.925Z"
      },
      {
        "duration": 5,
        "start_time": "2022-12-14T17:02:22.377Z"
      },
      {
        "duration": 17,
        "start_time": "2022-12-14T17:02:22.383Z"
      },
      {
        "duration": 14,
        "start_time": "2022-12-14T17:02:22.402Z"
      },
      {
        "duration": 734,
        "start_time": "2022-12-14T17:02:22.417Z"
      },
      {
        "duration": 16,
        "start_time": "2022-12-14T17:02:23.153Z"
      },
      {
        "duration": 10,
        "start_time": "2022-12-14T17:02:23.171Z"
      },
      {
        "duration": 15,
        "start_time": "2022-12-14T17:02:23.182Z"
      },
      {
        "duration": 11,
        "start_time": "2022-12-14T17:02:23.199Z"
      },
      {
        "duration": 10,
        "start_time": "2022-12-14T17:02:23.212Z"
      },
      {
        "duration": 9,
        "start_time": "2022-12-14T17:02:23.224Z"
      },
      {
        "duration": 2825,
        "start_time": "2022-12-14T17:02:23.234Z"
      },
      {
        "duration": 49,
        "start_time": "2022-12-14T17:05:17.763Z"
      },
      {
        "duration": 160,
        "start_time": "2022-12-14T17:05:36.495Z"
      },
      {
        "duration": 4,
        "start_time": "2022-12-14T17:06:57.614Z"
      },
      {
        "duration": 1469,
        "start_time": "2022-12-14T17:07:09.458Z"
      },
      {
        "duration": 831,
        "start_time": "2022-12-14T17:07:10.929Z"
      },
      {
        "duration": 255,
        "start_time": "2022-12-14T17:07:11.762Z"
      },
      {
        "duration": 25,
        "start_time": "2022-12-14T17:07:12.019Z"
      },
      {
        "duration": 3,
        "start_time": "2022-12-14T17:07:12.055Z"
      },
      {
        "duration": 19,
        "start_time": "2022-12-14T17:07:12.060Z"
      },
      {
        "duration": 7,
        "start_time": "2022-12-14T17:07:12.081Z"
      },
      {
        "duration": 11,
        "start_time": "2022-12-14T17:07:12.089Z"
      },
      {
        "duration": 8,
        "start_time": "2022-12-14T17:07:12.102Z"
      },
      {
        "duration": 63,
        "start_time": "2022-12-14T17:07:12.112Z"
      },
      {
        "duration": 4,
        "start_time": "2022-12-14T17:07:12.177Z"
      },
      {
        "duration": 23,
        "start_time": "2022-12-14T17:07:12.183Z"
      },
      {
        "duration": 79,
        "start_time": "2022-12-14T17:07:12.208Z"
      },
      {
        "duration": 30,
        "start_time": "2022-12-14T17:07:12.290Z"
      },
      {
        "duration": 90,
        "start_time": "2022-12-14T17:07:12.322Z"
      },
      {
        "duration": 54,
        "start_time": "2022-12-14T17:07:12.414Z"
      },
      {
        "duration": 5,
        "start_time": "2022-12-14T17:07:12.470Z"
      },
      {
        "duration": 310,
        "start_time": "2022-12-14T17:07:12.476Z"
      },
      {
        "duration": 24,
        "start_time": "2022-12-14T17:07:12.788Z"
      },
      {
        "duration": 44,
        "start_time": "2022-12-14T17:07:12.814Z"
      },
      {
        "duration": 16,
        "start_time": "2022-12-14T17:07:12.860Z"
      },
      {
        "duration": 294,
        "start_time": "2022-12-14T17:07:12.878Z"
      },
      {
        "duration": 27,
        "start_time": "2022-12-14T17:07:13.174Z"
      },
      {
        "duration": 18,
        "start_time": "2022-12-14T17:07:13.202Z"
      },
      {
        "duration": 5,
        "start_time": "2022-12-14T17:07:13.222Z"
      },
      {
        "duration": 31,
        "start_time": "2022-12-14T17:07:13.228Z"
      },
      {
        "duration": 116,
        "start_time": "2022-12-14T17:07:13.261Z"
      },
      {
        "duration": 594,
        "start_time": "2022-12-14T17:07:13.379Z"
      },
      {
        "duration": 603,
        "start_time": "2022-12-14T17:07:13.974Z"
      },
      {
        "duration": 749,
        "start_time": "2022-12-14T17:07:14.579Z"
      },
      {
        "duration": 691,
        "start_time": "2022-12-14T17:07:15.330Z"
      },
      {
        "duration": 450,
        "start_time": "2022-12-14T17:07:16.023Z"
      },
      {
        "duration": 5,
        "start_time": "2022-12-14T17:07:16.475Z"
      },
      {
        "duration": 45,
        "start_time": "2022-12-14T17:07:16.482Z"
      },
      {
        "duration": 35,
        "start_time": "2022-12-14T17:07:16.529Z"
      },
      {
        "duration": 703,
        "start_time": "2022-12-14T17:07:16.566Z"
      },
      {
        "duration": 14,
        "start_time": "2022-12-14T17:07:17.271Z"
      },
      {
        "duration": 10,
        "start_time": "2022-12-14T17:07:17.287Z"
      },
      {
        "duration": 10,
        "start_time": "2022-12-14T17:07:17.298Z"
      },
      {
        "duration": 6,
        "start_time": "2022-12-14T17:07:17.309Z"
      },
      {
        "duration": 5,
        "start_time": "2022-12-14T17:07:17.319Z"
      },
      {
        "duration": 31,
        "start_time": "2022-12-14T17:07:17.326Z"
      },
      {
        "duration": 2704,
        "start_time": "2022-12-14T17:07:17.359Z"
      },
      {
        "duration": 1451,
        "start_time": "2022-12-14T17:17:45.002Z"
      },
      {
        "duration": 817,
        "start_time": "2022-12-14T17:17:46.455Z"
      },
      {
        "duration": 254,
        "start_time": "2022-12-14T17:17:47.274Z"
      },
      {
        "duration": 38,
        "start_time": "2022-12-14T17:17:47.530Z"
      },
      {
        "duration": 3,
        "start_time": "2022-12-14T17:17:47.571Z"
      },
      {
        "duration": 23,
        "start_time": "2022-12-14T17:17:47.575Z"
      },
      {
        "duration": 8,
        "start_time": "2022-12-14T17:17:47.601Z"
      },
      {
        "duration": 17,
        "start_time": "2022-12-14T17:17:47.611Z"
      },
      {
        "duration": 28,
        "start_time": "2022-12-14T17:17:47.630Z"
      },
      {
        "duration": 41,
        "start_time": "2022-12-14T17:17:47.660Z"
      },
      {
        "duration": 4,
        "start_time": "2022-12-14T17:17:47.703Z"
      },
      {
        "duration": 48,
        "start_time": "2022-12-14T17:17:47.709Z"
      },
      {
        "duration": 53,
        "start_time": "2022-12-14T17:17:47.759Z"
      },
      {
        "duration": 52,
        "start_time": "2022-12-14T17:17:47.815Z"
      },
      {
        "duration": 66,
        "start_time": "2022-12-14T17:17:47.868Z"
      },
      {
        "duration": 40,
        "start_time": "2022-12-14T17:17:47.954Z"
      },
      {
        "duration": 4,
        "start_time": "2022-12-14T17:17:47.996Z"
      },
      {
        "duration": 308,
        "start_time": "2022-12-14T17:17:48.002Z"
      },
      {
        "duration": 26,
        "start_time": "2022-12-14T17:17:48.312Z"
      },
      {
        "duration": 36,
        "start_time": "2022-12-14T17:17:48.340Z"
      },
      {
        "duration": 16,
        "start_time": "2022-12-14T17:17:48.378Z"
      },
      {
        "duration": 313,
        "start_time": "2022-12-14T17:17:48.396Z"
      },
      {
        "duration": 44,
        "start_time": "2022-12-14T17:17:48.710Z"
      },
      {
        "duration": 20,
        "start_time": "2022-12-14T17:17:48.756Z"
      },
      {
        "duration": 5,
        "start_time": "2022-12-14T17:17:48.778Z"
      },
      {
        "duration": 7,
        "start_time": "2022-12-14T17:17:48.785Z"
      },
      {
        "duration": 121,
        "start_time": "2022-12-14T17:17:48.793Z"
      },
      {
        "duration": 607,
        "start_time": "2022-12-14T17:17:48.916Z"
      },
      {
        "duration": 571,
        "start_time": "2022-12-14T17:17:49.525Z"
      },
      {
        "duration": 841,
        "start_time": "2022-12-14T17:17:50.098Z"
      },
      {
        "duration": 737,
        "start_time": "2022-12-14T17:17:50.942Z"
      },
      {
        "duration": 524,
        "start_time": "2022-12-14T17:17:51.681Z"
      },
      {
        "duration": 5,
        "start_time": "2022-12-14T17:17:52.207Z"
      },
      {
        "duration": 18,
        "start_time": "2022-12-14T17:17:52.213Z"
      },
      {
        "duration": 20,
        "start_time": "2022-12-14T17:17:52.233Z"
      },
      {
        "duration": 792,
        "start_time": "2022-12-14T17:17:52.255Z"
      },
      {
        "duration": 20,
        "start_time": "2022-12-14T17:17:53.049Z"
      },
      {
        "duration": 11,
        "start_time": "2022-12-14T17:17:53.071Z"
      },
      {
        "duration": 8,
        "start_time": "2022-12-14T17:17:53.083Z"
      },
      {
        "duration": 7,
        "start_time": "2022-12-14T17:17:53.093Z"
      },
      {
        "duration": 8,
        "start_time": "2022-12-14T17:17:53.104Z"
      },
      {
        "duration": 7,
        "start_time": "2022-12-14T17:17:53.113Z"
      },
      {
        "duration": 2740,
        "start_time": "2022-12-14T17:17:53.122Z"
      },
      {
        "duration": 1412,
        "start_time": "2022-12-14T17:25:51.770Z"
      },
      {
        "duration": 827,
        "start_time": "2022-12-14T17:25:53.184Z"
      },
      {
        "duration": 259,
        "start_time": "2022-12-14T17:25:54.013Z"
      },
      {
        "duration": 26,
        "start_time": "2022-12-14T17:25:54.274Z"
      },
      {
        "duration": 4,
        "start_time": "2022-12-14T17:25:54.302Z"
      },
      {
        "duration": 14,
        "start_time": "2022-12-14T17:25:54.307Z"
      },
      {
        "duration": 8,
        "start_time": "2022-12-14T17:25:54.322Z"
      },
      {
        "duration": 10,
        "start_time": "2022-12-14T17:25:54.356Z"
      },
      {
        "duration": 9,
        "start_time": "2022-12-14T17:25:54.368Z"
      },
      {
        "duration": 32,
        "start_time": "2022-12-14T17:25:54.380Z"
      },
      {
        "duration": 4,
        "start_time": "2022-12-14T17:25:54.414Z"
      },
      {
        "duration": 63,
        "start_time": "2022-12-14T17:25:54.420Z"
      },
      {
        "duration": 103,
        "start_time": "2022-12-14T17:25:54.485Z"
      },
      {
        "duration": 41,
        "start_time": "2022-12-14T17:25:54.590Z"
      },
      {
        "duration": 79,
        "start_time": "2022-12-14T17:25:54.633Z"
      },
      {
        "duration": 59,
        "start_time": "2022-12-14T17:25:54.714Z"
      },
      {
        "duration": 4,
        "start_time": "2022-12-14T17:25:54.775Z"
      },
      {
        "duration": 323,
        "start_time": "2022-12-14T17:25:54.781Z"
      },
      {
        "duration": 25,
        "start_time": "2022-12-14T17:25:55.106Z"
      },
      {
        "duration": 44,
        "start_time": "2022-12-14T17:25:55.132Z"
      },
      {
        "duration": 16,
        "start_time": "2022-12-14T17:25:55.178Z"
      },
      {
        "duration": 306,
        "start_time": "2022-12-14T17:25:55.196Z"
      },
      {
        "duration": 27,
        "start_time": "2022-12-14T17:25:55.504Z"
      },
      {
        "duration": 38,
        "start_time": "2022-12-14T17:25:55.533Z"
      },
      {
        "duration": 7,
        "start_time": "2022-12-14T17:25:55.572Z"
      },
      {
        "duration": 21,
        "start_time": "2022-12-14T17:25:55.580Z"
      },
      {
        "duration": 134,
        "start_time": "2022-12-14T17:25:55.603Z"
      },
      {
        "duration": 611,
        "start_time": "2022-12-14T17:25:55.741Z"
      },
      {
        "duration": 620,
        "start_time": "2022-12-14T17:25:56.355Z"
      },
      {
        "duration": 750,
        "start_time": "2022-12-14T17:25:56.977Z"
      },
      {
        "duration": 736,
        "start_time": "2022-12-14T17:25:57.729Z"
      },
      {
        "duration": 482,
        "start_time": "2022-12-14T17:25:58.467Z"
      },
      {
        "duration": 7,
        "start_time": "2022-12-14T17:25:58.952Z"
      },
      {
        "duration": 15,
        "start_time": "2022-12-14T17:25:58.961Z"
      },
      {
        "duration": 7,
        "start_time": "2022-12-14T17:25:58.978Z"
      },
      {
        "duration": 755,
        "start_time": "2022-12-14T17:25:58.987Z"
      },
      {
        "duration": 23,
        "start_time": "2022-12-14T17:25:59.744Z"
      },
      {
        "duration": 10,
        "start_time": "2022-12-14T17:25:59.768Z"
      },
      {
        "duration": 10,
        "start_time": "2022-12-14T17:25:59.780Z"
      },
      {
        "duration": 10,
        "start_time": "2022-12-14T17:25:59.792Z"
      },
      {
        "duration": 8,
        "start_time": "2022-12-14T17:25:59.804Z"
      },
      {
        "duration": 6,
        "start_time": "2022-12-14T17:25:59.814Z"
      },
      {
        "duration": 3043,
        "start_time": "2022-12-14T17:25:59.822Z"
      },
      {
        "duration": 1440,
        "start_time": "2022-12-14T17:54:30.726Z"
      },
      {
        "duration": 818,
        "start_time": "2022-12-14T17:54:32.168Z"
      },
      {
        "duration": 243,
        "start_time": "2022-12-14T17:54:32.988Z"
      },
      {
        "duration": 35,
        "start_time": "2022-12-14T17:54:33.233Z"
      },
      {
        "duration": 3,
        "start_time": "2022-12-14T17:54:33.270Z"
      },
      {
        "duration": 12,
        "start_time": "2022-12-14T17:54:33.275Z"
      },
      {
        "duration": 6,
        "start_time": "2022-12-14T17:54:33.289Z"
      },
      {
        "duration": 11,
        "start_time": "2022-12-14T17:54:33.296Z"
      },
      {
        "duration": 7,
        "start_time": "2022-12-14T17:54:33.309Z"
      },
      {
        "duration": 61,
        "start_time": "2022-12-14T17:54:33.318Z"
      },
      {
        "duration": 4,
        "start_time": "2022-12-14T17:54:33.380Z"
      },
      {
        "duration": 23,
        "start_time": "2022-12-14T17:54:33.386Z"
      },
      {
        "duration": 76,
        "start_time": "2022-12-14T17:54:33.410Z"
      },
      {
        "duration": 29,
        "start_time": "2022-12-14T17:54:33.489Z"
      },
      {
        "duration": 83,
        "start_time": "2022-12-14T17:54:33.520Z"
      },
      {
        "duration": 53,
        "start_time": "2022-12-14T17:54:33.605Z"
      },
      {
        "duration": 4,
        "start_time": "2022-12-14T17:54:33.660Z"
      },
      {
        "duration": 320,
        "start_time": "2022-12-14T17:54:33.666Z"
      },
      {
        "duration": 25,
        "start_time": "2022-12-14T17:54:33.987Z"
      },
      {
        "duration": 42,
        "start_time": "2022-12-14T17:54:34.014Z"
      },
      {
        "duration": 16,
        "start_time": "2022-12-14T17:54:34.058Z"
      },
      {
        "duration": 294,
        "start_time": "2022-12-14T17:54:34.076Z"
      },
      {
        "duration": 24,
        "start_time": "2022-12-14T17:54:34.372Z"
      },
      {
        "duration": 15,
        "start_time": "2022-12-14T17:54:34.398Z"
      },
      {
        "duration": 5,
        "start_time": "2022-12-14T17:54:34.415Z"
      },
      {
        "duration": 34,
        "start_time": "2022-12-14T17:54:34.421Z"
      },
      {
        "duration": 117,
        "start_time": "2022-12-14T17:54:34.458Z"
      },
      {
        "duration": 583,
        "start_time": "2022-12-14T17:54:34.578Z"
      },
      {
        "duration": 587,
        "start_time": "2022-12-14T17:54:35.163Z"
      },
      {
        "duration": 695,
        "start_time": "2022-12-14T17:54:35.752Z"
      },
      {
        "duration": 691,
        "start_time": "2022-12-14T17:54:36.449Z"
      },
      {
        "duration": 433,
        "start_time": "2022-12-14T17:54:37.141Z"
      },
      {
        "duration": 4,
        "start_time": "2022-12-14T17:54:37.576Z"
      },
      {
        "duration": 14,
        "start_time": "2022-12-14T17:54:37.582Z"
      },
      {
        "duration": 8,
        "start_time": "2022-12-14T17:54:37.597Z"
      },
      {
        "duration": 697,
        "start_time": "2022-12-14T17:54:37.607Z"
      },
      {
        "duration": 16,
        "start_time": "2022-12-14T17:54:38.306Z"
      },
      {
        "duration": 7,
        "start_time": "2022-12-14T17:54:38.324Z"
      },
      {
        "duration": 51,
        "start_time": "2022-12-14T17:54:38.332Z"
      },
      {
        "duration": 0,
        "start_time": "2022-12-14T17:54:38.385Z"
      },
      {
        "duration": 0,
        "start_time": "2022-12-14T17:54:38.386Z"
      },
      {
        "duration": 0,
        "start_time": "2022-12-14T17:54:38.388Z"
      },
      {
        "duration": 0,
        "start_time": "2022-12-14T17:54:38.389Z"
      },
      {
        "duration": 0,
        "start_time": "2022-12-14T17:54:38.391Z"
      },
      {
        "duration": 0,
        "start_time": "2022-12-14T17:54:38.392Z"
      },
      {
        "duration": 0,
        "start_time": "2022-12-14T17:54:38.393Z"
      },
      {
        "duration": 1467,
        "start_time": "2022-12-14T17:54:59.931Z"
      },
      {
        "duration": 815,
        "start_time": "2022-12-14T17:55:01.400Z"
      },
      {
        "duration": 255,
        "start_time": "2022-12-14T17:55:02.220Z"
      },
      {
        "duration": 25,
        "start_time": "2022-12-14T17:55:02.477Z"
      },
      {
        "duration": 3,
        "start_time": "2022-12-14T17:55:02.505Z"
      },
      {
        "duration": 12,
        "start_time": "2022-12-14T17:55:02.509Z"
      },
      {
        "duration": 18,
        "start_time": "2022-12-14T17:55:02.523Z"
      },
      {
        "duration": 10,
        "start_time": "2022-12-14T17:55:02.555Z"
      },
      {
        "duration": 14,
        "start_time": "2022-12-14T17:55:02.567Z"
      },
      {
        "duration": 38,
        "start_time": "2022-12-14T17:55:02.582Z"
      },
      {
        "duration": 3,
        "start_time": "2022-12-14T17:55:02.622Z"
      },
      {
        "duration": 46,
        "start_time": "2022-12-14T17:55:02.627Z"
      },
      {
        "duration": 59,
        "start_time": "2022-12-14T17:55:02.675Z"
      },
      {
        "duration": 46,
        "start_time": "2022-12-14T17:55:02.736Z"
      },
      {
        "duration": 94,
        "start_time": "2022-12-14T17:55:02.784Z"
      },
      {
        "duration": 40,
        "start_time": "2022-12-14T17:55:02.880Z"
      },
      {
        "duration": 5,
        "start_time": "2022-12-14T17:55:02.921Z"
      },
      {
        "duration": 323,
        "start_time": "2022-12-14T17:55:02.928Z"
      },
      {
        "duration": 29,
        "start_time": "2022-12-14T17:55:03.255Z"
      },
      {
        "duration": 29,
        "start_time": "2022-12-14T17:55:03.286Z"
      },
      {
        "duration": 48,
        "start_time": "2022-12-14T17:55:03.317Z"
      },
      {
        "duration": 290,
        "start_time": "2022-12-14T17:55:03.367Z"
      },
      {
        "duration": 27,
        "start_time": "2022-12-14T17:55:03.659Z"
      },
      {
        "duration": 25,
        "start_time": "2022-12-14T17:55:03.687Z"
      },
      {
        "duration": 7,
        "start_time": "2022-12-14T17:55:03.714Z"
      },
      {
        "duration": 50,
        "start_time": "2022-12-14T17:55:03.722Z"
      },
      {
        "duration": 98,
        "start_time": "2022-12-14T17:55:03.777Z"
      },
      {
        "duration": 578,
        "start_time": "2022-12-14T17:55:03.876Z"
      },
      {
        "duration": 593,
        "start_time": "2022-12-14T17:55:04.456Z"
      },
      {
        "duration": 699,
        "start_time": "2022-12-14T17:55:05.050Z"
      },
      {
        "duration": 666,
        "start_time": "2022-12-14T17:55:05.751Z"
      },
      {
        "duration": 446,
        "start_time": "2022-12-14T17:55:06.418Z"
      },
      {
        "duration": 4,
        "start_time": "2022-12-14T17:55:06.866Z"
      },
      {
        "duration": 15,
        "start_time": "2022-12-14T17:55:06.872Z"
      },
      {
        "duration": 7,
        "start_time": "2022-12-14T17:55:06.889Z"
      },
      {
        "duration": 710,
        "start_time": "2022-12-14T17:55:06.898Z"
      },
      {
        "duration": 17,
        "start_time": "2022-12-14T17:55:07.610Z"
      },
      {
        "duration": 7,
        "start_time": "2022-12-14T17:55:07.629Z"
      },
      {
        "duration": 41,
        "start_time": "2022-12-14T17:55:07.656Z"
      },
      {
        "duration": 0,
        "start_time": "2022-12-14T17:55:07.699Z"
      },
      {
        "duration": 0,
        "start_time": "2022-12-14T17:55:07.700Z"
      },
      {
        "duration": 0,
        "start_time": "2022-12-14T17:55:07.701Z"
      },
      {
        "duration": 0,
        "start_time": "2022-12-14T17:55:07.702Z"
      },
      {
        "duration": 0,
        "start_time": "2022-12-14T17:55:07.703Z"
      },
      {
        "duration": 0,
        "start_time": "2022-12-14T17:55:07.704Z"
      },
      {
        "duration": 0,
        "start_time": "2022-12-14T17:55:07.705Z"
      },
      {
        "duration": 48,
        "start_time": "2022-12-14T17:55:20.442Z"
      },
      {
        "duration": 51,
        "start_time": "2022-12-14T17:55:23.381Z"
      },
      {
        "duration": 45,
        "start_time": "2022-12-14T17:55:28.801Z"
      },
      {
        "duration": 5,
        "start_time": "2022-12-14T17:55:55.671Z"
      },
      {
        "duration": 285,
        "start_time": "2022-12-14T18:29:36.117Z"
      },
      {
        "duration": 265,
        "start_time": "2022-12-14T18:29:58.017Z"
      },
      {
        "duration": 592,
        "start_time": "2022-12-14T18:32:06.516Z"
      },
      {
        "duration": 736,
        "start_time": "2022-12-14T18:32:41.654Z"
      },
      {
        "duration": 553,
        "start_time": "2022-12-14T18:34:11.093Z"
      },
      {
        "duration": 565,
        "start_time": "2022-12-14T18:34:19.009Z"
      },
      {
        "duration": 713,
        "start_time": "2022-12-14T18:34:58.071Z"
      },
      {
        "duration": 584,
        "start_time": "2022-12-14T18:36:37.647Z"
      },
      {
        "duration": 777,
        "start_time": "2022-12-14T18:36:53.935Z"
      },
      {
        "duration": 585,
        "start_time": "2022-12-14T18:37:18.967Z"
      },
      {
        "duration": 690,
        "start_time": "2022-12-14T18:39:11.336Z"
      },
      {
        "duration": 894,
        "start_time": "2022-12-14T18:39:38.477Z"
      },
      {
        "duration": 446,
        "start_time": "2022-12-14T18:41:19.400Z"
      },
      {
        "duration": 451,
        "start_time": "2022-12-14T18:42:21.942Z"
      },
      {
        "duration": 584,
        "start_time": "2022-12-14T18:42:28.862Z"
      },
      {
        "duration": 585,
        "start_time": "2022-12-14T18:44:25.933Z"
      },
      {
        "duration": 548,
        "start_time": "2022-12-14T18:44:35.897Z"
      },
      {
        "duration": 710,
        "start_time": "2022-12-14T18:44:50.409Z"
      },
      {
        "duration": 577,
        "start_time": "2022-12-14T18:46:21.748Z"
      },
      {
        "duration": 77,
        "start_time": "2022-12-14T19:00:28.776Z"
      },
      {
        "duration": 1465,
        "start_time": "2022-12-15T06:28:49.278Z"
      },
      {
        "duration": 2132,
        "start_time": "2022-12-15T06:28:50.745Z"
      },
      {
        "duration": 225,
        "start_time": "2022-12-15T06:28:52.879Z"
      },
      {
        "duration": 30,
        "start_time": "2022-12-15T06:28:53.106Z"
      },
      {
        "duration": 2,
        "start_time": "2022-12-15T06:28:53.138Z"
      },
      {
        "duration": 12,
        "start_time": "2022-12-15T06:28:53.142Z"
      },
      {
        "duration": 6,
        "start_time": "2022-12-15T06:28:53.156Z"
      },
      {
        "duration": 19,
        "start_time": "2022-12-15T06:28:53.164Z"
      },
      {
        "duration": 29,
        "start_time": "2022-12-15T06:28:53.184Z"
      },
      {
        "duration": 32,
        "start_time": "2022-12-15T06:28:53.216Z"
      },
      {
        "duration": 4,
        "start_time": "2022-12-15T06:28:53.249Z"
      },
      {
        "duration": 27,
        "start_time": "2022-12-15T06:28:53.254Z"
      },
      {
        "duration": 75,
        "start_time": "2022-12-15T06:28:53.282Z"
      },
      {
        "duration": 29,
        "start_time": "2022-12-15T06:28:53.358Z"
      },
      {
        "duration": 84,
        "start_time": "2022-12-15T06:28:53.388Z"
      },
      {
        "duration": 57,
        "start_time": "2022-12-15T06:28:53.474Z"
      },
      {
        "duration": 262,
        "start_time": "2022-12-15T06:28:53.533Z"
      },
      {
        "duration": 26,
        "start_time": "2022-12-15T06:28:53.797Z"
      },
      {
        "duration": 25,
        "start_time": "2022-12-15T06:28:53.825Z"
      },
      {
        "duration": 15,
        "start_time": "2022-12-15T06:28:53.851Z"
      },
      {
        "duration": 269,
        "start_time": "2022-12-15T06:28:53.868Z"
      },
      {
        "duration": 24,
        "start_time": "2022-12-15T06:28:54.139Z"
      },
      {
        "duration": 27,
        "start_time": "2022-12-15T06:28:54.164Z"
      },
      {
        "duration": 4,
        "start_time": "2022-12-15T06:28:54.193Z"
      },
      {
        "duration": 17,
        "start_time": "2022-12-15T06:28:54.199Z"
      },
      {
        "duration": 105,
        "start_time": "2022-12-15T06:28:54.218Z"
      },
      {
        "duration": 543,
        "start_time": "2022-12-15T06:28:54.325Z"
      },
      {
        "duration": 503,
        "start_time": "2022-12-15T06:28:54.871Z"
      },
      {
        "duration": 642,
        "start_time": "2022-12-15T06:28:55.376Z"
      },
      {
        "duration": 615,
        "start_time": "2022-12-15T06:28:56.020Z"
      },
      {
        "duration": 441,
        "start_time": "2022-12-15T06:28:56.637Z"
      },
      {
        "duration": 4,
        "start_time": "2022-12-15T06:28:57.080Z"
      },
      {
        "duration": 8,
        "start_time": "2022-12-15T06:28:57.086Z"
      },
      {
        "duration": 7,
        "start_time": "2022-12-15T06:28:57.095Z"
      },
      {
        "duration": 634,
        "start_time": "2022-12-15T06:28:57.112Z"
      },
      {
        "duration": 14,
        "start_time": "2022-12-15T06:28:57.747Z"
      },
      {
        "duration": 3,
        "start_time": "2022-12-15T06:28:57.763Z"
      },
      {
        "duration": 9,
        "start_time": "2022-12-15T06:28:57.767Z"
      },
      {
        "duration": 9,
        "start_time": "2022-12-15T06:28:57.777Z"
      },
      {
        "duration": 4,
        "start_time": "2022-12-15T06:28:57.787Z"
      },
      {
        "duration": 4,
        "start_time": "2022-12-15T06:28:57.813Z"
      },
      {
        "duration": 6,
        "start_time": "2022-12-15T06:28:57.819Z"
      },
      {
        "duration": 5,
        "start_time": "2022-12-15T06:28:57.827Z"
      },
      {
        "duration": 2684,
        "start_time": "2022-12-15T06:28:57.833Z"
      },
      {
        "duration": 367,
        "start_time": "2022-12-15T06:29:00.520Z"
      },
      {
        "duration": 74,
        "start_time": "2022-12-15T06:39:05.770Z"
      },
      {
        "duration": 1711,
        "start_time": "2022-12-15T06:40:05.077Z"
      },
      {
        "duration": 813,
        "start_time": "2022-12-15T06:40:06.790Z"
      },
      {
        "duration": 265,
        "start_time": "2022-12-15T06:40:07.605Z"
      },
      {
        "duration": 45,
        "start_time": "2022-12-15T06:40:07.873Z"
      },
      {
        "duration": 3,
        "start_time": "2022-12-15T06:40:07.921Z"
      },
      {
        "duration": 23,
        "start_time": "2022-12-15T06:40:07.927Z"
      },
      {
        "duration": 27,
        "start_time": "2022-12-15T06:40:07.952Z"
      },
      {
        "duration": 29,
        "start_time": "2022-12-15T06:40:07.981Z"
      },
      {
        "duration": 44,
        "start_time": "2022-12-15T06:40:08.012Z"
      },
      {
        "duration": 141,
        "start_time": "2022-12-15T06:40:08.059Z"
      },
      {
        "duration": 0,
        "start_time": "2022-12-15T06:40:08.203Z"
      },
      {
        "duration": 0,
        "start_time": "2022-12-15T06:40:08.203Z"
      },
      {
        "duration": 0,
        "start_time": "2022-12-15T06:40:08.204Z"
      },
      {
        "duration": 0,
        "start_time": "2022-12-15T06:40:08.205Z"
      },
      {
        "duration": 0,
        "start_time": "2022-12-15T06:40:08.207Z"
      },
      {
        "duration": 0,
        "start_time": "2022-12-15T06:40:08.208Z"
      },
      {
        "duration": 0,
        "start_time": "2022-12-15T06:40:08.209Z"
      },
      {
        "duration": 0,
        "start_time": "2022-12-15T06:40:08.210Z"
      },
      {
        "duration": 0,
        "start_time": "2022-12-15T06:40:08.211Z"
      },
      {
        "duration": 0,
        "start_time": "2022-12-15T06:40:08.213Z"
      },
      {
        "duration": 0,
        "start_time": "2022-12-15T06:40:08.214Z"
      },
      {
        "duration": 0,
        "start_time": "2022-12-15T06:40:08.216Z"
      },
      {
        "duration": 0,
        "start_time": "2022-12-15T06:40:08.217Z"
      },
      {
        "duration": 0,
        "start_time": "2022-12-15T06:40:08.219Z"
      },
      {
        "duration": 0,
        "start_time": "2022-12-15T06:40:08.220Z"
      },
      {
        "duration": 0,
        "start_time": "2022-12-15T06:40:08.221Z"
      },
      {
        "duration": 0,
        "start_time": "2022-12-15T06:40:08.223Z"
      },
      {
        "duration": 0,
        "start_time": "2022-12-15T06:40:08.225Z"
      },
      {
        "duration": 0,
        "start_time": "2022-12-15T06:40:08.227Z"
      },
      {
        "duration": 0,
        "start_time": "2022-12-15T06:40:08.228Z"
      },
      {
        "duration": 0,
        "start_time": "2022-12-15T06:40:08.230Z"
      },
      {
        "duration": 0,
        "start_time": "2022-12-15T06:40:08.230Z"
      },
      {
        "duration": 0,
        "start_time": "2022-12-15T06:40:08.232Z"
      },
      {
        "duration": 0,
        "start_time": "2022-12-15T06:40:08.233Z"
      },
      {
        "duration": 0,
        "start_time": "2022-12-15T06:40:08.234Z"
      },
      {
        "duration": 0,
        "start_time": "2022-12-15T06:40:08.235Z"
      },
      {
        "duration": 0,
        "start_time": "2022-12-15T06:40:08.237Z"
      },
      {
        "duration": 0,
        "start_time": "2022-12-15T06:40:08.238Z"
      },
      {
        "duration": 0,
        "start_time": "2022-12-15T06:40:08.240Z"
      },
      {
        "duration": 0,
        "start_time": "2022-12-15T06:40:08.242Z"
      },
      {
        "duration": 0,
        "start_time": "2022-12-15T06:40:08.243Z"
      },
      {
        "duration": 0,
        "start_time": "2022-12-15T06:40:08.244Z"
      },
      {
        "duration": 0,
        "start_time": "2022-12-15T06:40:08.246Z"
      },
      {
        "duration": 1,
        "start_time": "2022-12-15T06:40:08.247Z"
      },
      {
        "duration": 0,
        "start_time": "2022-12-15T06:40:08.249Z"
      },
      {
        "duration": 0,
        "start_time": "2022-12-15T06:40:08.250Z"
      },
      {
        "duration": 71,
        "start_time": "2022-12-15T06:41:14.776Z"
      },
      {
        "duration": 71,
        "start_time": "2022-12-15T06:41:19.940Z"
      },
      {
        "duration": 18,
        "start_time": "2022-12-15T06:41:56.571Z"
      },
      {
        "duration": 106,
        "start_time": "2022-12-15T06:55:30.946Z"
      },
      {
        "duration": 13,
        "start_time": "2022-12-15T06:55:59.361Z"
      },
      {
        "duration": 16,
        "start_time": "2022-12-15T06:56:59.110Z"
      },
      {
        "duration": 17,
        "start_time": "2022-12-15T06:58:50.239Z"
      },
      {
        "duration": 12,
        "start_time": "2022-12-15T07:00:09.451Z"
      },
      {
        "duration": 14,
        "start_time": "2022-12-15T07:01:38.068Z"
      },
      {
        "duration": 13,
        "start_time": "2022-12-15T07:02:59.450Z"
      },
      {
        "duration": 13,
        "start_time": "2022-12-15T07:04:37.405Z"
      },
      {
        "duration": 14,
        "start_time": "2022-12-15T07:06:07.169Z"
      },
      {
        "duration": 16,
        "start_time": "2022-12-15T07:21:36.246Z"
      },
      {
        "duration": 14,
        "start_time": "2022-12-15T07:22:22.890Z"
      },
      {
        "duration": 18,
        "start_time": "2022-12-15T07:22:56.978Z"
      },
      {
        "duration": 21,
        "start_time": "2022-12-15T07:23:38.434Z"
      },
      {
        "duration": 19,
        "start_time": "2022-12-15T07:25:52.569Z"
      },
      {
        "duration": 1357,
        "start_time": "2022-12-15T07:27:23.036Z"
      },
      {
        "duration": 714,
        "start_time": "2022-12-15T07:27:24.395Z"
      },
      {
        "duration": 213,
        "start_time": "2022-12-15T07:27:25.112Z"
      },
      {
        "duration": 23,
        "start_time": "2022-12-15T07:27:25.327Z"
      },
      {
        "duration": 70,
        "start_time": "2022-12-15T07:27:25.352Z"
      },
      {
        "duration": 41,
        "start_time": "2022-12-15T07:27:25.424Z"
      },
      {
        "duration": 28,
        "start_time": "2022-12-15T07:27:25.467Z"
      },
      {
        "duration": 45,
        "start_time": "2022-12-15T07:27:25.497Z"
      },
      {
        "duration": 9,
        "start_time": "2022-12-15T07:27:25.544Z"
      },
      {
        "duration": 26,
        "start_time": "2022-12-15T07:27:25.556Z"
      },
      {
        "duration": 31,
        "start_time": "2022-12-15T07:27:25.583Z"
      },
      {
        "duration": 17,
        "start_time": "2022-12-15T07:27:25.616Z"
      },
      {
        "duration": 60,
        "start_time": "2022-12-15T07:27:25.634Z"
      },
      {
        "duration": 18,
        "start_time": "2022-12-15T07:27:25.696Z"
      },
      {
        "duration": 49,
        "start_time": "2022-12-15T07:27:25.716Z"
      },
      {
        "duration": 82,
        "start_time": "2022-12-15T07:27:25.767Z"
      },
      {
        "duration": 27,
        "start_time": "2022-12-15T07:27:25.850Z"
      },
      {
        "duration": 74,
        "start_time": "2022-12-15T07:27:25.879Z"
      },
      {
        "duration": 34,
        "start_time": "2022-12-15T07:27:25.955Z"
      },
      {
        "duration": 270,
        "start_time": "2022-12-15T07:27:25.991Z"
      },
      {
        "duration": 23,
        "start_time": "2022-12-15T07:27:26.263Z"
      },
      {
        "duration": 37,
        "start_time": "2022-12-15T07:27:26.288Z"
      },
      {
        "duration": 28,
        "start_time": "2022-12-15T07:27:26.327Z"
      },
      {
        "duration": 252,
        "start_time": "2022-12-15T07:27:26.357Z"
      },
      {
        "duration": 24,
        "start_time": "2022-12-15T07:27:26.610Z"
      },
      {
        "duration": 13,
        "start_time": "2022-12-15T07:27:26.636Z"
      },
      {
        "duration": 13,
        "start_time": "2022-12-15T07:27:26.651Z"
      },
      {
        "duration": 22,
        "start_time": "2022-12-15T07:27:26.668Z"
      },
      {
        "duration": 124,
        "start_time": "2022-12-15T07:27:26.692Z"
      },
      {
        "duration": 540,
        "start_time": "2022-12-15T07:27:26.818Z"
      },
      {
        "duration": 513,
        "start_time": "2022-12-15T07:27:27.360Z"
      },
      {
        "duration": 624,
        "start_time": "2022-12-15T07:27:27.874Z"
      },
      {
        "duration": 630,
        "start_time": "2022-12-15T07:27:28.500Z"
      },
      {
        "duration": 414,
        "start_time": "2022-12-15T07:27:29.132Z"
      },
      {
        "duration": 4,
        "start_time": "2022-12-15T07:27:29.548Z"
      },
      {
        "duration": 10,
        "start_time": "2022-12-15T07:27:29.554Z"
      },
      {
        "duration": 5,
        "start_time": "2022-12-15T07:27:29.565Z"
      },
      {
        "duration": 663,
        "start_time": "2022-12-15T07:27:29.571Z"
      },
      {
        "duration": 20,
        "start_time": "2022-12-15T07:27:30.236Z"
      },
      {
        "duration": 14,
        "start_time": "2022-12-15T07:27:30.258Z"
      },
      {
        "duration": 24,
        "start_time": "2022-12-15T07:27:30.275Z"
      },
      {
        "duration": 34,
        "start_time": "2022-12-15T07:27:30.301Z"
      },
      {
        "duration": 22,
        "start_time": "2022-12-15T07:27:30.338Z"
      },
      {
        "duration": 28,
        "start_time": "2022-12-15T07:27:30.363Z"
      },
      {
        "duration": 19,
        "start_time": "2022-12-15T07:27:30.395Z"
      },
      {
        "duration": 22,
        "start_time": "2022-12-15T07:27:30.416Z"
      },
      {
        "duration": 2673,
        "start_time": "2022-12-15T07:27:30.441Z"
      },
      {
        "duration": 346,
        "start_time": "2022-12-15T07:27:33.116Z"
      },
      {
        "duration": 19,
        "start_time": "2022-12-15T07:31:50.452Z"
      },
      {
        "duration": 1360,
        "start_time": "2022-12-15T07:32:58.874Z"
      },
      {
        "duration": 774,
        "start_time": "2022-12-15T07:33:00.237Z"
      },
      {
        "duration": 217,
        "start_time": "2022-12-15T07:33:01.013Z"
      },
      {
        "duration": 25,
        "start_time": "2022-12-15T07:33:01.232Z"
      },
      {
        "duration": 20,
        "start_time": "2022-12-15T07:33:01.258Z"
      },
      {
        "duration": 26,
        "start_time": "2022-12-15T07:33:01.280Z"
      },
      {
        "duration": 30,
        "start_time": "2022-12-15T07:33:01.307Z"
      },
      {
        "duration": 34,
        "start_time": "2022-12-15T07:33:01.339Z"
      },
      {
        "duration": 32,
        "start_time": "2022-12-15T07:33:01.375Z"
      },
      {
        "duration": 41,
        "start_time": "2022-12-15T07:33:01.410Z"
      },
      {
        "duration": 89,
        "start_time": "2022-12-15T07:33:01.452Z"
      },
      {
        "duration": 54,
        "start_time": "2022-12-15T07:33:01.542Z"
      },
      {
        "duration": 52,
        "start_time": "2022-12-15T07:33:01.598Z"
      },
      {
        "duration": 6,
        "start_time": "2022-12-15T07:33:01.651Z"
      },
      {
        "duration": 71,
        "start_time": "2022-12-15T07:33:01.659Z"
      },
      {
        "duration": 75,
        "start_time": "2022-12-15T07:33:01.732Z"
      },
      {
        "duration": 29,
        "start_time": "2022-12-15T07:33:01.809Z"
      },
      {
        "duration": 73,
        "start_time": "2022-12-15T07:33:01.840Z"
      },
      {
        "duration": 35,
        "start_time": "2022-12-15T07:33:01.914Z"
      },
      {
        "duration": 280,
        "start_time": "2022-12-15T07:33:01.951Z"
      },
      {
        "duration": 23,
        "start_time": "2022-12-15T07:33:02.233Z"
      },
      {
        "duration": 29,
        "start_time": "2022-12-15T07:33:02.258Z"
      },
      {
        "duration": 55,
        "start_time": "2022-12-15T07:33:02.289Z"
      },
      {
        "duration": 275,
        "start_time": "2022-12-15T07:33:02.346Z"
      },
      {
        "duration": 25,
        "start_time": "2022-12-15T07:33:02.623Z"
      },
      {
        "duration": 60,
        "start_time": "2022-12-15T07:33:02.650Z"
      },
      {
        "duration": 5,
        "start_time": "2022-12-15T07:33:02.712Z"
      },
      {
        "duration": 11,
        "start_time": "2022-12-15T07:33:02.720Z"
      },
      {
        "duration": 107,
        "start_time": "2022-12-15T07:33:02.733Z"
      },
      {
        "duration": 600,
        "start_time": "2022-12-15T07:33:02.842Z"
      },
      {
        "duration": 525,
        "start_time": "2022-12-15T07:33:03.444Z"
      },
      {
        "duration": 644,
        "start_time": "2022-12-15T07:33:03.970Z"
      },
      {
        "duration": 678,
        "start_time": "2022-12-15T07:33:04.616Z"
      },
      {
        "duration": 451,
        "start_time": "2022-12-15T07:33:05.295Z"
      },
      {
        "duration": 5,
        "start_time": "2022-12-15T07:33:05.748Z"
      },
      {
        "duration": 41,
        "start_time": "2022-12-15T07:33:05.756Z"
      },
      {
        "duration": 15,
        "start_time": "2022-12-15T07:33:05.800Z"
      },
      {
        "duration": 691,
        "start_time": "2022-12-15T07:33:05.817Z"
      },
      {
        "duration": 15,
        "start_time": "2022-12-15T07:33:06.512Z"
      },
      {
        "duration": 23,
        "start_time": "2022-12-15T07:33:06.528Z"
      },
      {
        "duration": 56,
        "start_time": "2022-12-15T07:33:06.553Z"
      },
      {
        "duration": 47,
        "start_time": "2022-12-15T07:33:06.611Z"
      },
      {
        "duration": 6,
        "start_time": "2022-12-15T07:33:06.660Z"
      },
      {
        "duration": 11,
        "start_time": "2022-12-15T07:33:06.668Z"
      },
      {
        "duration": 8,
        "start_time": "2022-12-15T07:33:06.680Z"
      },
      {
        "duration": 10,
        "start_time": "2022-12-15T07:33:06.690Z"
      },
      {
        "duration": 3113,
        "start_time": "2022-12-15T07:33:06.702Z"
      },
      {
        "duration": 319,
        "start_time": "2022-12-15T07:33:09.817Z"
      },
      {
        "duration": 1413,
        "start_time": "2022-12-15T08:28:43.599Z"
      },
      {
        "duration": 715,
        "start_time": "2022-12-15T08:28:45.014Z"
      },
      {
        "duration": 230,
        "start_time": "2022-12-15T08:28:45.732Z"
      },
      {
        "duration": 25,
        "start_time": "2022-12-15T08:28:45.964Z"
      },
      {
        "duration": 3,
        "start_time": "2022-12-15T08:28:45.991Z"
      },
      {
        "duration": 24,
        "start_time": "2022-12-15T08:28:45.996Z"
      },
      {
        "duration": 7,
        "start_time": "2022-12-15T08:28:46.022Z"
      },
      {
        "duration": 11,
        "start_time": "2022-12-15T08:28:46.030Z"
      },
      {
        "duration": 8,
        "start_time": "2022-12-15T08:28:46.043Z"
      },
      {
        "duration": 24,
        "start_time": "2022-12-15T08:28:46.053Z"
      },
      {
        "duration": 19,
        "start_time": "2022-12-15T08:28:46.114Z"
      },
      {
        "duration": 30,
        "start_time": "2022-12-15T08:28:46.134Z"
      },
      {
        "duration": 4,
        "start_time": "2022-12-15T08:28:46.166Z"
      },
      {
        "duration": 57,
        "start_time": "2022-12-15T08:28:46.172Z"
      },
      {
        "duration": 51,
        "start_time": "2022-12-15T08:28:46.231Z"
      },
      {
        "duration": 58,
        "start_time": "2022-12-15T08:28:46.284Z"
      },
      {
        "duration": 90,
        "start_time": "2022-12-15T08:28:46.344Z"
      },
      {
        "duration": 41,
        "start_time": "2022-12-15T08:28:46.436Z"
      },
      {
        "duration": 303,
        "start_time": "2022-12-15T08:28:46.479Z"
      },
      {
        "duration": 40,
        "start_time": "2022-12-15T08:28:46.785Z"
      },
      {
        "duration": 37,
        "start_time": "2022-12-15T08:28:46.827Z"
      },
      {
        "duration": 27,
        "start_time": "2022-12-15T08:28:46.866Z"
      },
      {
        "duration": 286,
        "start_time": "2022-12-15T08:28:46.895Z"
      },
      {
        "duration": 34,
        "start_time": "2022-12-15T08:28:47.183Z"
      },
      {
        "duration": 16,
        "start_time": "2022-12-15T08:28:47.218Z"
      },
      {
        "duration": 5,
        "start_time": "2022-12-15T08:28:47.236Z"
      },
      {
        "duration": 9,
        "start_time": "2022-12-15T08:28:47.242Z"
      },
      {
        "duration": 121,
        "start_time": "2022-12-15T08:28:47.255Z"
      },
      {
        "duration": 540,
        "start_time": "2022-12-15T08:28:47.377Z"
      },
      {
        "duration": 534,
        "start_time": "2022-12-15T08:28:47.919Z"
      },
      {
        "duration": 670,
        "start_time": "2022-12-15T08:28:48.455Z"
      },
      {
        "duration": 679,
        "start_time": "2022-12-15T08:28:49.127Z"
      },
      {
        "duration": 470,
        "start_time": "2022-12-15T08:28:49.808Z"
      },
      {
        "duration": 7,
        "start_time": "2022-12-15T08:28:50.281Z"
      },
      {
        "duration": 30,
        "start_time": "2022-12-15T08:28:50.290Z"
      },
      {
        "duration": 23,
        "start_time": "2022-12-15T08:28:50.322Z"
      },
      {
        "duration": 734,
        "start_time": "2022-12-15T08:28:50.347Z"
      },
      {
        "duration": 15,
        "start_time": "2022-12-15T08:28:51.084Z"
      },
      {
        "duration": 13,
        "start_time": "2022-12-15T08:28:51.101Z"
      },
      {
        "duration": 7,
        "start_time": "2022-12-15T08:28:51.116Z"
      },
      {
        "duration": 16,
        "start_time": "2022-12-15T08:28:51.125Z"
      },
      {
        "duration": 7,
        "start_time": "2022-12-15T08:28:51.143Z"
      },
      {
        "duration": 10,
        "start_time": "2022-12-15T08:28:51.152Z"
      },
      {
        "duration": 15,
        "start_time": "2022-12-15T08:28:51.164Z"
      },
      {
        "duration": 33,
        "start_time": "2022-12-15T08:28:51.180Z"
      },
      {
        "duration": 3399,
        "start_time": "2022-12-15T08:28:51.215Z"
      },
      {
        "duration": 355,
        "start_time": "2022-12-15T08:28:54.616Z"
      },
      {
        "duration": 44,
        "start_time": "2022-12-15T08:36:40.717Z"
      },
      {
        "duration": 1368,
        "start_time": "2022-12-15T08:48:44.454Z"
      },
      {
        "duration": 706,
        "start_time": "2022-12-15T08:48:45.824Z"
      },
      {
        "duration": 220,
        "start_time": "2022-12-15T08:48:46.532Z"
      },
      {
        "duration": 26,
        "start_time": "2022-12-15T08:48:46.754Z"
      },
      {
        "duration": 4,
        "start_time": "2022-12-15T08:48:46.782Z"
      },
      {
        "duration": 28,
        "start_time": "2022-12-15T08:48:46.788Z"
      },
      {
        "duration": 8,
        "start_time": "2022-12-15T08:48:46.818Z"
      },
      {
        "duration": 10,
        "start_time": "2022-12-15T08:48:46.828Z"
      },
      {
        "duration": 9,
        "start_time": "2022-12-15T08:48:46.840Z"
      },
      {
        "duration": 21,
        "start_time": "2022-12-15T08:48:46.853Z"
      },
      {
        "duration": 58,
        "start_time": "2022-12-15T08:48:46.875Z"
      },
      {
        "duration": 38,
        "start_time": "2022-12-15T08:48:46.935Z"
      },
      {
        "duration": 4,
        "start_time": "2022-12-15T08:48:46.976Z"
      },
      {
        "duration": 54,
        "start_time": "2022-12-15T08:48:46.983Z"
      },
      {
        "duration": 75,
        "start_time": "2022-12-15T08:48:47.040Z"
      },
      {
        "duration": 35,
        "start_time": "2022-12-15T08:48:47.117Z"
      },
      {
        "duration": 98,
        "start_time": "2022-12-15T08:48:47.155Z"
      },
      {
        "duration": 132,
        "start_time": "2022-12-15T08:48:47.256Z"
      },
      {
        "duration": 0,
        "start_time": "2022-12-15T08:48:47.390Z"
      },
      {
        "duration": 0,
        "start_time": "2022-12-15T08:48:47.392Z"
      },
      {
        "duration": 0,
        "start_time": "2022-12-15T08:48:47.393Z"
      },
      {
        "duration": 0,
        "start_time": "2022-12-15T08:48:47.394Z"
      },
      {
        "duration": 0,
        "start_time": "2022-12-15T08:48:47.395Z"
      },
      {
        "duration": 0,
        "start_time": "2022-12-15T08:48:47.396Z"
      },
      {
        "duration": 0,
        "start_time": "2022-12-15T08:48:47.398Z"
      },
      {
        "duration": 0,
        "start_time": "2022-12-15T08:48:47.398Z"
      },
      {
        "duration": 0,
        "start_time": "2022-12-15T08:48:47.412Z"
      },
      {
        "duration": 1,
        "start_time": "2022-12-15T08:48:47.413Z"
      },
      {
        "duration": 0,
        "start_time": "2022-12-15T08:48:47.415Z"
      },
      {
        "duration": 0,
        "start_time": "2022-12-15T08:48:47.416Z"
      },
      {
        "duration": 0,
        "start_time": "2022-12-15T08:48:47.417Z"
      },
      {
        "duration": 0,
        "start_time": "2022-12-15T08:48:47.418Z"
      },
      {
        "duration": 0,
        "start_time": "2022-12-15T08:48:47.419Z"
      },
      {
        "duration": 0,
        "start_time": "2022-12-15T08:48:47.420Z"
      },
      {
        "duration": 0,
        "start_time": "2022-12-15T08:48:47.422Z"
      },
      {
        "duration": 0,
        "start_time": "2022-12-15T08:48:47.424Z"
      },
      {
        "duration": 0,
        "start_time": "2022-12-15T08:48:47.425Z"
      },
      {
        "duration": 0,
        "start_time": "2022-12-15T08:48:47.426Z"
      },
      {
        "duration": 0,
        "start_time": "2022-12-15T08:48:47.427Z"
      },
      {
        "duration": 0,
        "start_time": "2022-12-15T08:48:47.428Z"
      },
      {
        "duration": 0,
        "start_time": "2022-12-15T08:48:47.429Z"
      },
      {
        "duration": 0,
        "start_time": "2022-12-15T08:48:47.430Z"
      },
      {
        "duration": 0,
        "start_time": "2022-12-15T08:48:47.431Z"
      },
      {
        "duration": 0,
        "start_time": "2022-12-15T08:48:47.432Z"
      },
      {
        "duration": 0,
        "start_time": "2022-12-15T08:48:47.433Z"
      },
      {
        "duration": 0,
        "start_time": "2022-12-15T08:48:47.434Z"
      },
      {
        "duration": 0,
        "start_time": "2022-12-15T08:48:47.435Z"
      },
      {
        "duration": 1337,
        "start_time": "2022-12-15T08:57:15.187Z"
      },
      {
        "duration": 723,
        "start_time": "2022-12-15T08:57:16.526Z"
      },
      {
        "duration": 227,
        "start_time": "2022-12-15T08:57:17.251Z"
      },
      {
        "duration": 35,
        "start_time": "2022-12-15T08:57:17.479Z"
      },
      {
        "duration": 3,
        "start_time": "2022-12-15T08:57:17.516Z"
      },
      {
        "duration": 13,
        "start_time": "2022-12-15T08:57:17.521Z"
      },
      {
        "duration": 7,
        "start_time": "2022-12-15T08:57:17.535Z"
      },
      {
        "duration": 10,
        "start_time": "2022-12-15T08:57:17.544Z"
      },
      {
        "duration": 8,
        "start_time": "2022-12-15T08:57:17.556Z"
      },
      {
        "duration": 57,
        "start_time": "2022-12-15T08:57:17.566Z"
      },
      {
        "duration": 17,
        "start_time": "2022-12-15T08:57:17.624Z"
      },
      {
        "duration": 26,
        "start_time": "2022-12-15T08:57:17.643Z"
      },
      {
        "duration": 3,
        "start_time": "2022-12-15T08:57:17.670Z"
      },
      {
        "duration": 55,
        "start_time": "2022-12-15T08:57:17.675Z"
      },
      {
        "duration": 53,
        "start_time": "2022-12-15T08:57:17.732Z"
      },
      {
        "duration": 47,
        "start_time": "2022-12-15T08:57:17.787Z"
      },
      {
        "duration": 77,
        "start_time": "2022-12-15T08:57:17.836Z"
      },
      {
        "duration": 113,
        "start_time": "2022-12-15T08:57:17.915Z"
      },
      {
        "duration": 0,
        "start_time": "2022-12-15T08:57:18.030Z"
      },
      {
        "duration": 0,
        "start_time": "2022-12-15T08:57:18.031Z"
      },
      {
        "duration": 0,
        "start_time": "2022-12-15T08:57:18.032Z"
      },
      {
        "duration": 0,
        "start_time": "2022-12-15T08:57:18.033Z"
      },
      {
        "duration": 0,
        "start_time": "2022-12-15T08:57:18.034Z"
      },
      {
        "duration": 0,
        "start_time": "2022-12-15T08:57:18.035Z"
      },
      {
        "duration": 0,
        "start_time": "2022-12-15T08:57:18.036Z"
      },
      {
        "duration": 0,
        "start_time": "2022-12-15T08:57:18.037Z"
      },
      {
        "duration": 0,
        "start_time": "2022-12-15T08:57:18.038Z"
      },
      {
        "duration": 0,
        "start_time": "2022-12-15T08:57:18.039Z"
      },
      {
        "duration": 0,
        "start_time": "2022-12-15T08:57:18.040Z"
      },
      {
        "duration": 0,
        "start_time": "2022-12-15T08:57:18.041Z"
      },
      {
        "duration": 0,
        "start_time": "2022-12-15T08:57:18.042Z"
      },
      {
        "duration": 0,
        "start_time": "2022-12-15T08:57:18.043Z"
      },
      {
        "duration": 0,
        "start_time": "2022-12-15T08:57:18.044Z"
      },
      {
        "duration": 0,
        "start_time": "2022-12-15T08:57:18.045Z"
      },
      {
        "duration": 0,
        "start_time": "2022-12-15T08:57:18.046Z"
      },
      {
        "duration": 0,
        "start_time": "2022-12-15T08:57:18.047Z"
      },
      {
        "duration": 0,
        "start_time": "2022-12-15T08:57:18.048Z"
      },
      {
        "duration": 0,
        "start_time": "2022-12-15T08:57:18.049Z"
      },
      {
        "duration": 0,
        "start_time": "2022-12-15T08:57:18.051Z"
      },
      {
        "duration": 0,
        "start_time": "2022-12-15T08:57:18.051Z"
      },
      {
        "duration": 0,
        "start_time": "2022-12-15T08:57:18.052Z"
      },
      {
        "duration": 0,
        "start_time": "2022-12-15T08:57:18.053Z"
      },
      {
        "duration": 0,
        "start_time": "2022-12-15T08:57:18.054Z"
      },
      {
        "duration": 0,
        "start_time": "2022-12-15T08:57:18.055Z"
      },
      {
        "duration": 0,
        "start_time": "2022-12-15T08:57:18.056Z"
      },
      {
        "duration": 0,
        "start_time": "2022-12-15T08:57:18.057Z"
      },
      {
        "duration": 0,
        "start_time": "2022-12-15T08:57:18.058Z"
      },
      {
        "duration": 39,
        "start_time": "2022-12-15T08:59:33.025Z"
      },
      {
        "duration": 275,
        "start_time": "2022-12-15T08:59:59.820Z"
      },
      {
        "duration": 26,
        "start_time": "2022-12-15T09:00:06.514Z"
      },
      {
        "duration": 39,
        "start_time": "2022-12-15T09:00:10.069Z"
      },
      {
        "duration": 18,
        "start_time": "2022-12-15T09:00:13.154Z"
      },
      {
        "duration": 272,
        "start_time": "2022-12-15T09:00:23.816Z"
      },
      {
        "duration": 27,
        "start_time": "2022-12-15T09:00:33.605Z"
      },
      {
        "duration": 16,
        "start_time": "2022-12-15T09:00:37.150Z"
      },
      {
        "duration": 6,
        "start_time": "2022-12-15T09:01:07.749Z"
      },
      {
        "duration": 8,
        "start_time": "2022-12-15T09:01:10.449Z"
      },
      {
        "duration": 106,
        "start_time": "2022-12-15T09:01:13.611Z"
      },
      {
        "duration": 575,
        "start_time": "2022-12-15T09:01:24.127Z"
      },
      {
        "duration": 636,
        "start_time": "2022-12-15T09:01:29.892Z"
      },
      {
        "duration": 689,
        "start_time": "2022-12-15T09:01:34.573Z"
      },
      {
        "duration": 637,
        "start_time": "2022-12-15T09:01:38.631Z"
      },
      {
        "duration": 440,
        "start_time": "2022-12-15T09:01:43.166Z"
      },
      {
        "duration": 5,
        "start_time": "2022-12-15T09:01:50.105Z"
      },
      {
        "duration": 4,
        "start_time": "2022-12-15T09:01:54.560Z"
      },
      {
        "duration": 5,
        "start_time": "2022-12-15T09:01:58.801Z"
      },
      {
        "duration": 707,
        "start_time": "2022-12-15T09:02:02.423Z"
      },
      {
        "duration": 18,
        "start_time": "2022-12-15T09:02:13.259Z"
      },
      {
        "duration": 13,
        "start_time": "2022-12-15T09:26:49.662Z"
      },
      {
        "duration": 13,
        "start_time": "2022-12-15T09:27:12.884Z"
      },
      {
        "duration": 21,
        "start_time": "2022-12-15T09:33:34.328Z"
      },
      {
        "duration": 42,
        "start_time": "2022-12-15T09:34:44.428Z"
      },
      {
        "duration": 32,
        "start_time": "2022-12-15T09:35:21.726Z"
      },
      {
        "duration": 29,
        "start_time": "2022-12-15T09:36:06.814Z"
      },
      {
        "duration": 44,
        "start_time": "2022-12-15T09:36:25.468Z"
      },
      {
        "duration": 1520,
        "start_time": "2022-12-15T09:50:58.311Z"
      },
      {
        "duration": 2145,
        "start_time": "2022-12-15T09:50:59.833Z"
      },
      {
        "duration": 214,
        "start_time": "2022-12-15T09:51:01.979Z"
      },
      {
        "duration": 28,
        "start_time": "2022-12-15T09:51:02.195Z"
      },
      {
        "duration": 3,
        "start_time": "2022-12-15T09:51:02.225Z"
      },
      {
        "duration": 34,
        "start_time": "2022-12-15T09:51:02.229Z"
      },
      {
        "duration": 22,
        "start_time": "2022-12-15T09:51:02.265Z"
      },
      {
        "duration": 42,
        "start_time": "2022-12-15T09:51:02.289Z"
      },
      {
        "duration": 15,
        "start_time": "2022-12-15T09:51:02.333Z"
      },
      {
        "duration": 51,
        "start_time": "2022-12-15T09:51:02.351Z"
      },
      {
        "duration": 17,
        "start_time": "2022-12-15T09:51:02.404Z"
      },
      {
        "duration": 50,
        "start_time": "2022-12-15T09:51:02.422Z"
      },
      {
        "duration": 4,
        "start_time": "2022-12-15T09:51:02.473Z"
      },
      {
        "duration": 51,
        "start_time": "2022-12-15T09:51:02.479Z"
      },
      {
        "duration": 73,
        "start_time": "2022-12-15T09:51:02.532Z"
      },
      {
        "duration": 29,
        "start_time": "2022-12-15T09:51:02.606Z"
      },
      {
        "duration": 62,
        "start_time": "2022-12-15T09:51:02.637Z"
      },
      {
        "duration": 35,
        "start_time": "2022-12-15T09:51:02.713Z"
      },
      {
        "duration": 280,
        "start_time": "2022-12-15T09:51:02.750Z"
      },
      {
        "duration": 25,
        "start_time": "2022-12-15T09:51:03.032Z"
      },
      {
        "duration": 25,
        "start_time": "2022-12-15T09:51:03.059Z"
      },
      {
        "duration": 45,
        "start_time": "2022-12-15T09:51:03.086Z"
      },
      {
        "duration": 265,
        "start_time": "2022-12-15T09:51:03.132Z"
      },
      {
        "duration": 35,
        "start_time": "2022-12-15T09:51:03.398Z"
      },
      {
        "duration": 14,
        "start_time": "2022-12-15T09:51:03.434Z"
      },
      {
        "duration": 24,
        "start_time": "2022-12-15T09:51:03.450Z"
      },
      {
        "duration": 27,
        "start_time": "2022-12-15T09:51:03.476Z"
      },
      {
        "duration": 109,
        "start_time": "2022-12-15T09:51:03.507Z"
      },
      {
        "duration": 525,
        "start_time": "2022-12-15T09:51:03.618Z"
      },
      {
        "duration": 558,
        "start_time": "2022-12-15T09:51:04.145Z"
      },
      {
        "duration": 639,
        "start_time": "2022-12-15T09:51:04.705Z"
      },
      {
        "duration": 637,
        "start_time": "2022-12-15T09:51:05.346Z"
      },
      {
        "duration": 437,
        "start_time": "2022-12-15T09:51:05.985Z"
      },
      {
        "duration": 5,
        "start_time": "2022-12-15T09:51:06.424Z"
      },
      {
        "duration": 30,
        "start_time": "2022-12-15T09:51:06.430Z"
      },
      {
        "duration": 14,
        "start_time": "2022-12-15T09:51:06.461Z"
      },
      {
        "duration": 704,
        "start_time": "2022-12-15T09:51:06.477Z"
      },
      {
        "duration": 14,
        "start_time": "2022-12-15T09:51:07.183Z"
      },
      {
        "duration": 57,
        "start_time": "2022-12-15T09:51:07.198Z"
      },
      {
        "duration": 0,
        "start_time": "2022-12-15T09:51:07.257Z"
      },
      {
        "duration": 0,
        "start_time": "2022-12-15T09:51:07.258Z"
      },
      {
        "duration": 0,
        "start_time": "2022-12-15T09:51:07.260Z"
      },
      {
        "duration": 0,
        "start_time": "2022-12-15T09:51:07.261Z"
      },
      {
        "duration": 0,
        "start_time": "2022-12-15T09:51:07.262Z"
      },
      {
        "duration": 1,
        "start_time": "2022-12-15T09:51:07.263Z"
      },
      {
        "duration": 0,
        "start_time": "2022-12-15T09:51:07.265Z"
      },
      {
        "duration": 0,
        "start_time": "2022-12-15T09:51:07.266Z"
      },
      {
        "duration": 0,
        "start_time": "2022-12-15T09:51:07.267Z"
      },
      {
        "duration": 123,
        "start_time": "2022-12-15T09:51:36.239Z"
      },
      {
        "duration": 32,
        "start_time": "2022-12-15T09:51:47.988Z"
      },
      {
        "duration": 1353,
        "start_time": "2022-12-15T09:52:13.875Z"
      },
      {
        "duration": 661,
        "start_time": "2022-12-15T09:52:15.230Z"
      },
      {
        "duration": 229,
        "start_time": "2022-12-15T09:52:15.892Z"
      },
      {
        "duration": 27,
        "start_time": "2022-12-15T09:52:16.123Z"
      },
      {
        "duration": 3,
        "start_time": "2022-12-15T09:52:16.151Z"
      },
      {
        "duration": 13,
        "start_time": "2022-12-15T09:52:16.155Z"
      },
      {
        "duration": 7,
        "start_time": "2022-12-15T09:52:16.169Z"
      },
      {
        "duration": 39,
        "start_time": "2022-12-15T09:52:16.177Z"
      },
      {
        "duration": 7,
        "start_time": "2022-12-15T09:52:16.218Z"
      },
      {
        "duration": 21,
        "start_time": "2022-12-15T09:52:16.228Z"
      },
      {
        "duration": 19,
        "start_time": "2022-12-15T09:52:16.251Z"
      },
      {
        "duration": 69,
        "start_time": "2022-12-15T09:52:16.272Z"
      },
      {
        "duration": 3,
        "start_time": "2022-12-15T09:52:16.344Z"
      },
      {
        "duration": 33,
        "start_time": "2022-12-15T09:52:16.349Z"
      },
      {
        "duration": 74,
        "start_time": "2022-12-15T09:52:16.384Z"
      },
      {
        "duration": 29,
        "start_time": "2022-12-15T09:52:16.460Z"
      },
      {
        "duration": 65,
        "start_time": "2022-12-15T09:52:16.512Z"
      },
      {
        "duration": 54,
        "start_time": "2022-12-15T09:52:16.579Z"
      },
      {
        "duration": 281,
        "start_time": "2022-12-15T09:52:16.635Z"
      },
      {
        "duration": 28,
        "start_time": "2022-12-15T09:52:16.918Z"
      },
      {
        "duration": 32,
        "start_time": "2022-12-15T09:52:16.949Z"
      },
      {
        "duration": 50,
        "start_time": "2022-12-15T09:52:16.984Z"
      },
      {
        "duration": 304,
        "start_time": "2022-12-15T09:52:17.036Z"
      },
      {
        "duration": 25,
        "start_time": "2022-12-15T09:52:17.342Z"
      },
      {
        "duration": 17,
        "start_time": "2022-12-15T09:52:17.369Z"
      },
      {
        "duration": 27,
        "start_time": "2022-12-15T09:52:17.387Z"
      },
      {
        "duration": 6,
        "start_time": "2022-12-15T09:52:17.416Z"
      },
      {
        "duration": 111,
        "start_time": "2022-12-15T09:52:17.428Z"
      },
      {
        "duration": 631,
        "start_time": "2022-12-15T09:52:17.541Z"
      },
      {
        "duration": 562,
        "start_time": "2022-12-15T09:52:18.174Z"
      },
      {
        "duration": 713,
        "start_time": "2022-12-15T09:52:18.738Z"
      },
      {
        "duration": 689,
        "start_time": "2022-12-15T09:52:19.453Z"
      },
      {
        "duration": 504,
        "start_time": "2022-12-15T09:52:20.145Z"
      },
      {
        "duration": 5,
        "start_time": "2022-12-15T09:52:20.651Z"
      },
      {
        "duration": 23,
        "start_time": "2022-12-15T09:52:20.657Z"
      },
      {
        "duration": 13,
        "start_time": "2022-12-15T09:52:20.682Z"
      },
      {
        "duration": 660,
        "start_time": "2022-12-15T09:52:20.697Z"
      },
      {
        "duration": 14,
        "start_time": "2022-12-15T09:52:21.359Z"
      },
      {
        "duration": 140,
        "start_time": "2022-12-15T09:52:21.374Z"
      },
      {
        "duration": 0,
        "start_time": "2022-12-15T09:52:21.516Z"
      },
      {
        "duration": 0,
        "start_time": "2022-12-15T09:52:21.517Z"
      },
      {
        "duration": 0,
        "start_time": "2022-12-15T09:52:21.518Z"
      },
      {
        "duration": 0,
        "start_time": "2022-12-15T09:52:21.520Z"
      },
      {
        "duration": 0,
        "start_time": "2022-12-15T09:52:21.521Z"
      },
      {
        "duration": 0,
        "start_time": "2022-12-15T09:52:21.522Z"
      },
      {
        "duration": 0,
        "start_time": "2022-12-15T09:52:21.523Z"
      },
      {
        "duration": 0,
        "start_time": "2022-12-15T09:52:21.524Z"
      },
      {
        "duration": 0,
        "start_time": "2022-12-15T09:52:21.525Z"
      },
      {
        "duration": 42,
        "start_time": "2022-12-15T09:53:10.046Z"
      },
      {
        "duration": 33,
        "start_time": "2022-12-15T09:53:22.948Z"
      },
      {
        "duration": 30,
        "start_time": "2022-12-15T09:53:41.701Z"
      },
      {
        "duration": 5,
        "start_time": "2022-12-15T09:58:56.051Z"
      },
      {
        "duration": 16,
        "start_time": "2022-12-15T09:59:29.238Z"
      },
      {
        "duration": 35,
        "start_time": "2022-12-15T10:07:40.787Z"
      },
      {
        "duration": 1345,
        "start_time": "2022-12-15T10:08:10.449Z"
      },
      {
        "duration": 698,
        "start_time": "2022-12-15T10:08:11.796Z"
      },
      {
        "duration": 232,
        "start_time": "2022-12-15T10:08:12.495Z"
      },
      {
        "duration": 23,
        "start_time": "2022-12-15T10:08:12.729Z"
      },
      {
        "duration": 3,
        "start_time": "2022-12-15T10:08:12.753Z"
      },
      {
        "duration": 13,
        "start_time": "2022-12-15T10:08:12.757Z"
      },
      {
        "duration": 7,
        "start_time": "2022-12-15T10:08:12.772Z"
      },
      {
        "duration": 35,
        "start_time": "2022-12-15T10:08:12.780Z"
      },
      {
        "duration": 8,
        "start_time": "2022-12-15T10:08:12.817Z"
      },
      {
        "duration": 20,
        "start_time": "2022-12-15T10:08:12.827Z"
      },
      {
        "duration": 17,
        "start_time": "2022-12-15T10:08:12.848Z"
      },
      {
        "duration": 52,
        "start_time": "2022-12-15T10:08:12.866Z"
      },
      {
        "duration": 4,
        "start_time": "2022-12-15T10:08:12.919Z"
      },
      {
        "duration": 35,
        "start_time": "2022-12-15T10:08:12.925Z"
      },
      {
        "duration": 70,
        "start_time": "2022-12-15T10:08:12.961Z"
      },
      {
        "duration": 29,
        "start_time": "2022-12-15T10:08:13.032Z"
      },
      {
        "duration": 79,
        "start_time": "2022-12-15T10:08:13.062Z"
      },
      {
        "duration": 41,
        "start_time": "2022-12-15T10:08:13.142Z"
      },
      {
        "duration": 266,
        "start_time": "2022-12-15T10:08:13.185Z"
      },
      {
        "duration": 24,
        "start_time": "2022-12-15T10:08:13.453Z"
      },
      {
        "duration": 38,
        "start_time": "2022-12-15T10:08:13.478Z"
      },
      {
        "duration": 17,
        "start_time": "2022-12-15T10:08:13.517Z"
      },
      {
        "duration": 271,
        "start_time": "2022-12-15T10:08:13.536Z"
      },
      {
        "duration": 24,
        "start_time": "2022-12-15T10:08:13.812Z"
      },
      {
        "duration": 15,
        "start_time": "2022-12-15T10:08:13.838Z"
      },
      {
        "duration": 6,
        "start_time": "2022-12-15T10:08:13.855Z"
      },
      {
        "duration": 14,
        "start_time": "2022-12-15T10:08:13.863Z"
      },
      {
        "duration": 120,
        "start_time": "2022-12-15T10:08:13.882Z"
      },
      {
        "duration": 523,
        "start_time": "2022-12-15T10:08:14.004Z"
      },
      {
        "duration": 562,
        "start_time": "2022-12-15T10:08:14.529Z"
      },
      {
        "duration": 635,
        "start_time": "2022-12-15T10:08:15.093Z"
      },
      {
        "duration": 664,
        "start_time": "2022-12-15T10:08:15.730Z"
      },
      {
        "duration": 426,
        "start_time": "2022-12-15T10:08:16.396Z"
      },
      {
        "duration": 4,
        "start_time": "2022-12-15T10:08:16.824Z"
      },
      {
        "duration": 6,
        "start_time": "2022-12-15T10:08:16.830Z"
      },
      {
        "duration": 9,
        "start_time": "2022-12-15T10:08:16.837Z"
      },
      {
        "duration": 656,
        "start_time": "2022-12-15T10:08:16.848Z"
      },
      {
        "duration": 18,
        "start_time": "2022-12-15T10:08:17.506Z"
      },
      {
        "duration": 17,
        "start_time": "2022-12-15T10:08:17.526Z"
      },
      {
        "duration": 4,
        "start_time": "2022-12-15T10:08:17.545Z"
      },
      {
        "duration": 12,
        "start_time": "2022-12-15T10:08:17.551Z"
      },
      {
        "duration": 7,
        "start_time": "2022-12-15T10:08:17.565Z"
      },
      {
        "duration": 39,
        "start_time": "2022-12-15T10:08:17.574Z"
      },
      {
        "duration": 8,
        "start_time": "2022-12-15T10:08:17.614Z"
      },
      {
        "duration": 9,
        "start_time": "2022-12-15T10:08:17.624Z"
      },
      {
        "duration": 9,
        "start_time": "2022-12-15T10:08:17.634Z"
      },
      {
        "duration": 2869,
        "start_time": "2022-12-15T10:08:17.645Z"
      },
      {
        "duration": 327,
        "start_time": "2022-12-15T10:08:20.518Z"
      },
      {
        "duration": 72,
        "start_time": "2022-12-15T10:16:36.138Z"
      },
      {
        "duration": 24,
        "start_time": "2022-12-15T10:26:40.107Z"
      },
      {
        "duration": 16,
        "start_time": "2022-12-15T10:27:32.375Z"
      },
      {
        "duration": 7,
        "start_time": "2022-12-15T10:30:05.378Z"
      },
      {
        "duration": 18,
        "start_time": "2022-12-15T10:35:13.866Z"
      },
      {
        "duration": 18,
        "start_time": "2022-12-15T10:35:52.025Z"
      },
      {
        "duration": 238,
        "start_time": "2022-12-15T10:39:13.381Z"
      },
      {
        "duration": 75,
        "start_time": "2022-12-15T10:39:32.553Z"
      },
      {
        "duration": 287,
        "start_time": "2022-12-15T10:40:01.832Z"
      },
      {
        "duration": 205,
        "start_time": "2022-12-15T10:43:34.310Z"
      },
      {
        "duration": 1422,
        "start_time": "2022-12-15T12:33:27.230Z"
      },
      {
        "duration": 715,
        "start_time": "2022-12-15T12:33:28.654Z"
      },
      {
        "duration": 247,
        "start_time": "2022-12-15T12:33:29.371Z"
      },
      {
        "duration": 27,
        "start_time": "2022-12-15T12:33:29.627Z"
      },
      {
        "duration": 3,
        "start_time": "2022-12-15T12:33:29.656Z"
      },
      {
        "duration": 12,
        "start_time": "2022-12-15T12:33:29.661Z"
      },
      {
        "duration": 8,
        "start_time": "2022-12-15T12:33:29.675Z"
      },
      {
        "duration": 34,
        "start_time": "2022-12-15T12:33:29.685Z"
      },
      {
        "duration": 10,
        "start_time": "2022-12-15T12:33:29.721Z"
      },
      {
        "duration": 40,
        "start_time": "2022-12-15T12:33:29.737Z"
      },
      {
        "duration": 51,
        "start_time": "2022-12-15T12:33:29.780Z"
      },
      {
        "duration": 34,
        "start_time": "2022-12-15T12:33:29.833Z"
      },
      {
        "duration": 4,
        "start_time": "2022-12-15T12:33:29.869Z"
      },
      {
        "duration": 53,
        "start_time": "2022-12-15T12:33:29.875Z"
      },
      {
        "duration": 55,
        "start_time": "2022-12-15T12:33:29.931Z"
      },
      {
        "duration": 53,
        "start_time": "2022-12-15T12:33:29.988Z"
      },
      {
        "duration": 87,
        "start_time": "2022-12-15T12:33:30.043Z"
      },
      {
        "duration": 45,
        "start_time": "2022-12-15T12:33:30.133Z"
      },
      {
        "duration": 359,
        "start_time": "2022-12-15T12:33:30.181Z"
      },
      {
        "duration": 40,
        "start_time": "2022-12-15T12:33:30.542Z"
      },
      {
        "duration": 54,
        "start_time": "2022-12-15T12:33:30.583Z"
      },
      {
        "duration": 49,
        "start_time": "2022-12-15T12:33:30.639Z"
      },
      {
        "duration": 270,
        "start_time": "2022-12-15T12:33:30.689Z"
      },
      {
        "duration": 30,
        "start_time": "2022-12-15T12:33:30.960Z"
      },
      {
        "duration": 38,
        "start_time": "2022-12-15T12:33:30.993Z"
      },
      {
        "duration": 6,
        "start_time": "2022-12-15T12:33:31.033Z"
      },
      {
        "duration": 41,
        "start_time": "2022-12-15T12:33:31.041Z"
      },
      {
        "duration": 101,
        "start_time": "2022-12-15T12:33:31.088Z"
      },
      {
        "duration": 566,
        "start_time": "2022-12-15T12:33:31.190Z"
      },
      {
        "duration": 570,
        "start_time": "2022-12-15T12:33:31.758Z"
      },
      {
        "duration": 669,
        "start_time": "2022-12-15T12:33:32.330Z"
      },
      {
        "duration": 666,
        "start_time": "2022-12-15T12:33:33.001Z"
      },
      {
        "duration": 468,
        "start_time": "2022-12-15T12:33:33.669Z"
      },
      {
        "duration": 5,
        "start_time": "2022-12-15T12:33:34.139Z"
      },
      {
        "duration": 9,
        "start_time": "2022-12-15T12:33:34.146Z"
      },
      {
        "duration": 7,
        "start_time": "2022-12-15T12:33:34.157Z"
      },
      {
        "duration": 783,
        "start_time": "2022-12-15T12:33:34.165Z"
      },
      {
        "duration": 17,
        "start_time": "2022-12-15T12:33:34.950Z"
      },
      {
        "duration": 17,
        "start_time": "2022-12-15T12:33:34.969Z"
      },
      {
        "duration": 35,
        "start_time": "2022-12-15T12:33:34.988Z"
      },
      {
        "duration": 1011,
        "start_time": "2022-12-15T12:33:35.026Z"
      },
      {
        "duration": 79,
        "start_time": "2022-12-15T12:33:36.041Z"
      },
      {
        "duration": 44,
        "start_time": "2022-12-15T12:33:36.123Z"
      },
      {
        "duration": 73,
        "start_time": "2022-12-15T12:33:36.169Z"
      },
      {
        "duration": 10,
        "start_time": "2022-12-15T12:33:36.244Z"
      },
      {
        "duration": 10,
        "start_time": "2022-12-15T12:33:36.256Z"
      },
      {
        "duration": 8,
        "start_time": "2022-12-15T12:33:36.269Z"
      },
      {
        "duration": 14,
        "start_time": "2022-12-15T12:33:36.278Z"
      },
      {
        "duration": 4628,
        "start_time": "2022-12-15T12:33:36.293Z"
      },
      {
        "duration": 432,
        "start_time": "2022-12-15T12:33:40.927Z"
      },
      {
        "duration": 517,
        "start_time": "2022-12-15T12:34:32.304Z"
      },
      {
        "duration": 3354440,
        "start_time": "2022-12-15T13:07:01.904Z"
      },
      {
        "duration": 86,
        "start_time": "2022-12-15T14:15:31.380Z"
      },
      {
        "duration": 72,
        "start_time": "2022-12-15T14:15:45.658Z"
      },
      {
        "duration": 11,
        "start_time": "2022-12-15T14:16:16.312Z"
      },
      {
        "duration": 7,
        "start_time": "2022-12-15T14:17:56.697Z"
      },
      {
        "duration": 12,
        "start_time": "2022-12-15T14:47:19.017Z"
      },
      {
        "duration": 20,
        "start_time": "2022-12-15T14:48:32.054Z"
      },
      {
        "duration": 1350,
        "start_time": "2022-12-15T14:49:04.158Z"
      },
      {
        "duration": 703,
        "start_time": "2022-12-15T14:49:05.511Z"
      },
      {
        "duration": 223,
        "start_time": "2022-12-15T14:49:06.216Z"
      },
      {
        "duration": 24,
        "start_time": "2022-12-15T14:49:06.441Z"
      },
      {
        "duration": 3,
        "start_time": "2022-12-15T14:49:06.467Z"
      },
      {
        "duration": 12,
        "start_time": "2022-12-15T14:49:06.471Z"
      },
      {
        "duration": 28,
        "start_time": "2022-12-15T14:49:06.485Z"
      },
      {
        "duration": 9,
        "start_time": "2022-12-15T14:49:06.514Z"
      },
      {
        "duration": 7,
        "start_time": "2022-12-15T14:49:06.525Z"
      },
      {
        "duration": 22,
        "start_time": "2022-12-15T14:49:06.535Z"
      },
      {
        "duration": 58,
        "start_time": "2022-12-15T14:49:06.559Z"
      },
      {
        "duration": 35,
        "start_time": "2022-12-15T14:49:06.619Z"
      },
      {
        "duration": 3,
        "start_time": "2022-12-15T14:49:06.656Z"
      },
      {
        "duration": 35,
        "start_time": "2022-12-15T14:49:06.661Z"
      },
      {
        "duration": 59,
        "start_time": "2022-12-15T14:49:06.713Z"
      },
      {
        "duration": 58,
        "start_time": "2022-12-15T14:49:06.773Z"
      },
      {
        "duration": 86,
        "start_time": "2022-12-15T14:49:06.833Z"
      },
      {
        "duration": 46,
        "start_time": "2022-12-15T14:49:06.921Z"
      },
      {
        "duration": 278,
        "start_time": "2022-12-15T14:49:06.969Z"
      },
      {
        "duration": 24,
        "start_time": "2022-12-15T14:49:07.249Z"
      },
      {
        "duration": 41,
        "start_time": "2022-12-15T14:49:07.274Z"
      },
      {
        "duration": 18,
        "start_time": "2022-12-15T14:49:07.317Z"
      },
      {
        "duration": 282,
        "start_time": "2022-12-15T14:49:07.337Z"
      },
      {
        "duration": 26,
        "start_time": "2022-12-15T14:49:07.621Z"
      },
      {
        "duration": 16,
        "start_time": "2022-12-15T14:49:07.649Z"
      },
      {
        "duration": 5,
        "start_time": "2022-12-15T14:49:07.667Z"
      },
      {
        "duration": 16,
        "start_time": "2022-12-15T14:49:07.673Z"
      },
      {
        "duration": 102,
        "start_time": "2022-12-15T14:49:07.715Z"
      },
      {
        "duration": 542,
        "start_time": "2022-12-15T14:49:07.818Z"
      },
      {
        "duration": 556,
        "start_time": "2022-12-15T14:49:08.362Z"
      },
      {
        "duration": 658,
        "start_time": "2022-12-15T14:49:08.920Z"
      },
      {
        "duration": 663,
        "start_time": "2022-12-15T14:49:09.580Z"
      },
      {
        "duration": 485,
        "start_time": "2022-12-15T14:49:10.245Z"
      },
      {
        "duration": 4,
        "start_time": "2022-12-15T14:49:10.731Z"
      },
      {
        "duration": 8,
        "start_time": "2022-12-15T14:49:10.737Z"
      },
      {
        "duration": 6,
        "start_time": "2022-12-15T14:49:10.746Z"
      },
      {
        "duration": 681,
        "start_time": "2022-12-15T14:49:10.753Z"
      },
      {
        "duration": 15,
        "start_time": "2022-12-15T14:49:11.436Z"
      },
      {
        "duration": 15,
        "start_time": "2022-12-15T14:49:11.453Z"
      },
      {
        "duration": 8,
        "start_time": "2022-12-15T14:49:11.470Z"
      },
      {
        "duration": 40,
        "start_time": "2022-12-15T14:49:11.480Z"
      },
      {
        "duration": 19,
        "start_time": "2022-12-15T14:49:11.521Z"
      },
      {
        "duration": 7,
        "start_time": "2022-12-15T14:49:11.542Z"
      },
      {
        "duration": 350,
        "start_time": "2022-12-15T14:49:11.550Z"
      },
      {
        "duration": 0,
        "start_time": "2022-12-15T14:49:11.902Z"
      },
      {
        "duration": 0,
        "start_time": "2022-12-15T14:49:11.913Z"
      },
      {
        "duration": 0,
        "start_time": "2022-12-15T14:49:11.914Z"
      },
      {
        "duration": 0,
        "start_time": "2022-12-15T14:49:11.915Z"
      },
      {
        "duration": 0,
        "start_time": "2022-12-15T14:49:11.917Z"
      },
      {
        "duration": 0,
        "start_time": "2022-12-15T14:49:11.918Z"
      },
      {
        "duration": 0,
        "start_time": "2022-12-15T14:49:11.919Z"
      },
      {
        "duration": 0,
        "start_time": "2022-12-15T14:49:11.921Z"
      },
      {
        "duration": 0,
        "start_time": "2022-12-15T14:49:11.922Z"
      },
      {
        "duration": 0,
        "start_time": "2022-12-15T14:49:11.923Z"
      },
      {
        "duration": 207,
        "start_time": "2022-12-15T14:50:21.606Z"
      },
      {
        "duration": 1345,
        "start_time": "2022-12-15T14:53:26.005Z"
      },
      {
        "duration": 717,
        "start_time": "2022-12-15T14:53:27.352Z"
      },
      {
        "duration": 229,
        "start_time": "2022-12-15T14:53:28.070Z"
      },
      {
        "duration": 31,
        "start_time": "2022-12-15T14:53:28.301Z"
      },
      {
        "duration": 2,
        "start_time": "2022-12-15T14:53:28.334Z"
      },
      {
        "duration": 13,
        "start_time": "2022-12-15T14:53:28.338Z"
      },
      {
        "duration": 6,
        "start_time": "2022-12-15T14:53:28.352Z"
      },
      {
        "duration": 11,
        "start_time": "2022-12-15T14:53:28.360Z"
      },
      {
        "duration": 9,
        "start_time": "2022-12-15T14:53:28.372Z"
      },
      {
        "duration": 46,
        "start_time": "2022-12-15T14:53:28.384Z"
      },
      {
        "duration": 17,
        "start_time": "2022-12-15T14:53:28.431Z"
      },
      {
        "duration": 29,
        "start_time": "2022-12-15T14:53:28.450Z"
      },
      {
        "duration": 3,
        "start_time": "2022-12-15T14:53:28.480Z"
      },
      {
        "duration": 49,
        "start_time": "2022-12-15T14:53:28.485Z"
      },
      {
        "duration": 52,
        "start_time": "2022-12-15T14:53:28.535Z"
      },
      {
        "duration": 44,
        "start_time": "2022-12-15T14:53:28.588Z"
      },
      {
        "duration": 61,
        "start_time": "2022-12-15T14:53:28.634Z"
      },
      {
        "duration": 41,
        "start_time": "2022-12-15T14:53:28.712Z"
      },
      {
        "duration": 273,
        "start_time": "2022-12-15T14:53:28.755Z"
      },
      {
        "duration": 23,
        "start_time": "2022-12-15T14:53:29.029Z"
      },
      {
        "duration": 23,
        "start_time": "2022-12-15T14:53:29.054Z"
      },
      {
        "duration": 41,
        "start_time": "2022-12-15T14:53:29.078Z"
      },
      {
        "duration": 260,
        "start_time": "2022-12-15T14:53:29.121Z"
      },
      {
        "duration": 31,
        "start_time": "2022-12-15T14:53:29.383Z"
      },
      {
        "duration": 15,
        "start_time": "2022-12-15T14:53:29.415Z"
      },
      {
        "duration": 5,
        "start_time": "2022-12-15T14:53:29.431Z"
      },
      {
        "duration": 8,
        "start_time": "2022-12-15T14:53:29.437Z"
      },
      {
        "duration": 113,
        "start_time": "2022-12-15T14:53:29.448Z"
      },
      {
        "duration": 550,
        "start_time": "2022-12-15T14:53:29.563Z"
      },
      {
        "duration": 619,
        "start_time": "2022-12-15T14:53:30.114Z"
      },
      {
        "duration": 664,
        "start_time": "2022-12-15T14:53:30.735Z"
      },
      {
        "duration": 669,
        "start_time": "2022-12-15T14:53:31.401Z"
      },
      {
        "duration": 442,
        "start_time": "2022-12-15T14:53:32.072Z"
      },
      {
        "duration": 5,
        "start_time": "2022-12-15T14:53:32.517Z"
      },
      {
        "duration": 16,
        "start_time": "2022-12-15T14:53:32.523Z"
      },
      {
        "duration": 8,
        "start_time": "2022-12-15T14:53:32.540Z"
      },
      {
        "duration": 702,
        "start_time": "2022-12-15T14:53:32.549Z"
      },
      {
        "duration": 15,
        "start_time": "2022-12-15T14:53:33.253Z"
      },
      {
        "duration": 15,
        "start_time": "2022-12-15T14:53:33.269Z"
      },
      {
        "duration": 26,
        "start_time": "2022-12-15T14:53:33.286Z"
      },
      {
        "duration": 10,
        "start_time": "2022-12-15T14:53:33.314Z"
      },
      {
        "duration": 23,
        "start_time": "2022-12-15T14:53:33.326Z"
      },
      {
        "duration": 11,
        "start_time": "2022-12-15T14:53:33.350Z"
      },
      {
        "duration": 436,
        "start_time": "2022-12-15T14:53:33.363Z"
      },
      {
        "duration": 0,
        "start_time": "2022-12-15T14:53:33.813Z"
      },
      {
        "duration": 0,
        "start_time": "2022-12-15T14:53:33.814Z"
      },
      {
        "duration": 0,
        "start_time": "2022-12-15T14:53:33.815Z"
      },
      {
        "duration": 0,
        "start_time": "2022-12-15T14:53:33.816Z"
      },
      {
        "duration": 0,
        "start_time": "2022-12-15T14:53:33.818Z"
      },
      {
        "duration": 0,
        "start_time": "2022-12-15T14:53:33.819Z"
      },
      {
        "duration": 0,
        "start_time": "2022-12-15T14:53:33.820Z"
      },
      {
        "duration": 0,
        "start_time": "2022-12-15T14:53:33.821Z"
      },
      {
        "duration": 0,
        "start_time": "2022-12-15T14:53:33.823Z"
      },
      {
        "duration": 0,
        "start_time": "2022-12-15T14:53:33.824Z"
      },
      {
        "duration": 27,
        "start_time": "2022-12-15T14:55:55.253Z"
      },
      {
        "duration": 20,
        "start_time": "2022-12-15T14:56:00.920Z"
      },
      {
        "duration": 1321,
        "start_time": "2022-12-15T14:56:14.944Z"
      },
      {
        "duration": 736,
        "start_time": "2022-12-15T14:56:16.267Z"
      },
      {
        "duration": 231,
        "start_time": "2022-12-15T14:56:17.005Z"
      },
      {
        "duration": 25,
        "start_time": "2022-12-15T14:56:17.238Z"
      },
      {
        "duration": 6,
        "start_time": "2022-12-15T14:56:17.265Z"
      },
      {
        "duration": 15,
        "start_time": "2022-12-15T14:56:17.273Z"
      },
      {
        "duration": 23,
        "start_time": "2022-12-15T14:56:17.290Z"
      },
      {
        "duration": 8,
        "start_time": "2022-12-15T14:56:17.315Z"
      },
      {
        "duration": 7,
        "start_time": "2022-12-15T14:56:17.325Z"
      },
      {
        "duration": 26,
        "start_time": "2022-12-15T14:56:17.333Z"
      },
      {
        "duration": 19,
        "start_time": "2022-12-15T14:56:17.361Z"
      },
      {
        "duration": 59,
        "start_time": "2022-12-15T14:56:17.382Z"
      },
      {
        "duration": 3,
        "start_time": "2022-12-15T14:56:17.443Z"
      },
      {
        "duration": 28,
        "start_time": "2022-12-15T14:56:17.449Z"
      },
      {
        "duration": 75,
        "start_time": "2022-12-15T14:56:17.479Z"
      },
      {
        "duration": 26,
        "start_time": "2022-12-15T14:56:17.556Z"
      },
      {
        "duration": 81,
        "start_time": "2022-12-15T14:56:17.584Z"
      },
      {
        "duration": 51,
        "start_time": "2022-12-15T14:56:17.666Z"
      },
      {
        "duration": 265,
        "start_time": "2022-12-15T14:56:17.719Z"
      },
      {
        "duration": 31,
        "start_time": "2022-12-15T14:56:17.985Z"
      },
      {
        "duration": 23,
        "start_time": "2022-12-15T14:56:18.018Z"
      },
      {
        "duration": 20,
        "start_time": "2022-12-15T14:56:18.043Z"
      },
      {
        "duration": 275,
        "start_time": "2022-12-15T14:56:18.065Z"
      },
      {
        "duration": 23,
        "start_time": "2022-12-15T14:56:18.342Z"
      },
      {
        "duration": 17,
        "start_time": "2022-12-15T14:56:18.367Z"
      },
      {
        "duration": 5,
        "start_time": "2022-12-15T14:56:18.386Z"
      },
      {
        "duration": 7,
        "start_time": "2022-12-15T14:56:18.413Z"
      },
      {
        "duration": 116,
        "start_time": "2022-12-15T14:56:18.422Z"
      },
      {
        "duration": 561,
        "start_time": "2022-12-15T14:56:18.540Z"
      },
      {
        "duration": 552,
        "start_time": "2022-12-15T14:56:19.103Z"
      },
      {
        "duration": 670,
        "start_time": "2022-12-15T14:56:19.656Z"
      },
      {
        "duration": 677,
        "start_time": "2022-12-15T14:56:20.328Z"
      },
      {
        "duration": 441,
        "start_time": "2022-12-15T14:56:21.007Z"
      },
      {
        "duration": 4,
        "start_time": "2022-12-15T14:56:21.450Z"
      },
      {
        "duration": 6,
        "start_time": "2022-12-15T14:56:21.456Z"
      },
      {
        "duration": 6,
        "start_time": "2022-12-15T14:56:21.464Z"
      },
      {
        "duration": 673,
        "start_time": "2022-12-15T14:56:21.471Z"
      },
      {
        "duration": 15,
        "start_time": "2022-12-15T14:56:22.147Z"
      },
      {
        "duration": 16,
        "start_time": "2022-12-15T14:56:22.164Z"
      },
      {
        "duration": 32,
        "start_time": "2022-12-15T14:56:22.181Z"
      },
      {
        "duration": 9,
        "start_time": "2022-12-15T14:56:22.217Z"
      },
      {
        "duration": 18,
        "start_time": "2022-12-15T14:56:22.228Z"
      },
      {
        "duration": 7,
        "start_time": "2022-12-15T14:56:22.248Z"
      },
      {
        "duration": 164,
        "start_time": "2022-12-15T14:56:22.257Z"
      },
      {
        "duration": 3414571,
        "start_time": "2022-12-15T14:56:22.514Z"
      },
      {
        "duration": 4,
        "start_time": "2022-12-15T15:53:17.087Z"
      },
      {
        "duration": 33,
        "start_time": "2022-12-15T15:53:17.093Z"
      },
      {
        "duration": 7,
        "start_time": "2022-12-15T15:53:17.131Z"
      },
      {
        "duration": 4,
        "start_time": "2022-12-15T15:53:17.140Z"
      },
      {
        "duration": 9,
        "start_time": "2022-12-15T15:53:17.146Z"
      },
      {
        "duration": 8,
        "start_time": "2022-12-15T15:53:17.156Z"
      },
      {
        "duration": 4,
        "start_time": "2022-12-15T15:53:17.165Z"
      },
      {
        "duration": 5055,
        "start_time": "2022-12-15T15:53:17.171Z"
      },
      {
        "duration": 495,
        "start_time": "2022-12-15T15:53:22.232Z"
      },
      {
        "duration": 2773,
        "start_time": "2022-12-15T16:40:17.437Z"
      },
      {
        "duration": 2806,
        "start_time": "2022-12-15T16:41:52.108Z"
      },
      {
        "duration": 2736,
        "start_time": "2022-12-15T16:42:39.503Z"
      },
      {
        "duration": 3290583,
        "start_time": "2022-12-15T16:43:40.054Z"
      },
      {
        "duration": 182,
        "start_time": "2022-12-15T17:50:27.835Z"
      },
      {
        "duration": 33,
        "start_time": "2022-12-15T17:50:35.586Z"
      },
      {
        "duration": 74,
        "start_time": "2022-12-15T17:51:20.643Z"
      },
      {
        "duration": 207,
        "start_time": "2022-12-15T17:51:23.613Z"
      },
      {
        "duration": 27,
        "start_time": "2022-12-15T17:52:11.190Z"
      },
      {
        "duration": 1363811,
        "start_time": "2022-12-15T18:00:22.640Z"
      },
      {
        "duration": 180,
        "start_time": "2022-12-15T18:35:18.521Z"
      },
      {
        "duration": 1012,
        "start_time": "2022-12-15T18:38:36.838Z"
      },
      {
        "duration": 996,
        "start_time": "2022-12-15T18:40:29.810Z"
      },
      {
        "duration": 58,
        "start_time": "2022-12-15T18:42:04.357Z"
      },
      {
        "duration": 1022,
        "start_time": "2022-12-15T18:42:25.721Z"
      },
      {
        "duration": 6,
        "start_time": "2022-12-15T18:52:57.615Z"
      },
      {
        "duration": 89468,
        "start_time": "2022-12-15T18:53:21.723Z"
      },
      {
        "duration": 1516,
        "start_time": "2022-12-16T06:24:26.156Z"
      },
      {
        "duration": 2110,
        "start_time": "2022-12-16T06:24:28.696Z"
      },
      {
        "duration": 220,
        "start_time": "2022-12-16T06:24:35.457Z"
      },
      {
        "duration": 261,
        "start_time": "2022-12-16T06:58:10.229Z"
      },
      {
        "duration": 25,
        "start_time": "2022-12-16T06:58:14.493Z"
      },
      {
        "duration": 3,
        "start_time": "2022-12-16T06:58:18.488Z"
      },
      {
        "duration": 8,
        "start_time": "2022-12-16T06:58:22.122Z"
      },
      {
        "duration": 9,
        "start_time": "2022-12-16T06:58:26.701Z"
      },
      {
        "duration": 24,
        "start_time": "2022-12-16T06:58:31.189Z"
      },
      {
        "duration": 23,
        "start_time": "2022-12-16T06:58:34.812Z"
      },
      {
        "duration": 36,
        "start_time": "2022-12-16T06:58:40.313Z"
      },
      {
        "duration": 21,
        "start_time": "2022-12-16T06:58:44.520Z"
      },
      {
        "duration": 53,
        "start_time": "2022-12-16T06:58:48.694Z"
      },
      {
        "duration": 26,
        "start_time": "2022-12-16T06:58:51.880Z"
      },
      {
        "duration": 61,
        "start_time": "2022-12-16T06:58:55.208Z"
      },
      {
        "duration": 42,
        "start_time": "2022-12-16T06:59:04.781Z"
      },
      {
        "duration": 253,
        "start_time": "2022-12-16T06:59:21.141Z"
      },
      {
        "duration": 25,
        "start_time": "2022-12-16T06:59:37.169Z"
      },
      {
        "duration": 24,
        "start_time": "2022-12-16T06:59:40.996Z"
      },
      {
        "duration": 23,
        "start_time": "2022-12-16T06:59:44.653Z"
      },
      {
        "duration": 242,
        "start_time": "2022-12-16T06:59:48.690Z"
      },
      {
        "duration": 23,
        "start_time": "2022-12-16T06:59:52.843Z"
      },
      {
        "duration": 14,
        "start_time": "2022-12-16T06:59:59.063Z"
      },
      {
        "duration": 5,
        "start_time": "2022-12-16T07:00:06.245Z"
      },
      {
        "duration": 5,
        "start_time": "2022-12-16T07:00:09.740Z"
      },
      {
        "duration": 92,
        "start_time": "2022-12-16T07:00:12.270Z"
      },
      {
        "duration": 514,
        "start_time": "2022-12-16T07:00:30.542Z"
      },
      {
        "duration": 536,
        "start_time": "2022-12-16T07:00:34.198Z"
      },
      {
        "duration": 601,
        "start_time": "2022-12-16T07:00:39.551Z"
      },
      {
        "duration": 527,
        "start_time": "2022-12-16T07:00:43.298Z"
      },
      {
        "duration": 622,
        "start_time": "2022-12-16T07:00:47.529Z"
      },
      {
        "duration": 545,
        "start_time": "2022-12-16T07:00:52.568Z"
      },
      {
        "duration": 4,
        "start_time": "2022-12-16T07:00:59.825Z"
      },
      {
        "duration": 5,
        "start_time": "2022-12-16T07:01:03.157Z"
      },
      {
        "duration": 4,
        "start_time": "2022-12-16T07:01:06.643Z"
      },
      {
        "duration": 518,
        "start_time": "2022-12-16T07:01:11.065Z"
      },
      {
        "duration": 16,
        "start_time": "2022-12-16T07:01:15.834Z"
      },
      {
        "duration": 15,
        "start_time": "2022-12-16T07:01:24.408Z"
      },
      {
        "duration": 7,
        "start_time": "2022-12-16T07:01:36.487Z"
      },
      {
        "duration": 8,
        "start_time": "2022-12-16T07:01:43.115Z"
      },
      {
        "duration": 19,
        "start_time": "2022-12-16T07:01:55.705Z"
      },
      {
        "duration": 1188,
        "start_time": "2022-12-16T07:02:04.491Z"
      },
      {
        "duration": 17,
        "start_time": "2022-12-16T07:04:09.434Z"
      },
      {
        "duration": 1126,
        "start_time": "2022-12-16T07:04:13.055Z"
      },
      {
        "duration": 5,
        "start_time": "2022-12-16T07:04:23.058Z"
      },
      {
        "duration": 672,
        "start_time": "2022-12-16T07:04:27.029Z"
      },
      {
        "duration": 210,
        "start_time": "2022-12-16T07:04:32.014Z"
      },
      {
        "duration": 19,
        "start_time": "2022-12-16T07:04:35.985Z"
      },
      {
        "duration": 3,
        "start_time": "2022-12-16T07:04:40.540Z"
      },
      {
        "duration": 9,
        "start_time": "2022-12-16T07:04:42.993Z"
      },
      {
        "duration": 10,
        "start_time": "2022-12-16T07:04:47.031Z"
      },
      {
        "duration": 8,
        "start_time": "2022-12-16T07:04:52.228Z"
      },
      {
        "duration": 21,
        "start_time": "2022-12-16T07:04:56.627Z"
      },
      {
        "duration": 27,
        "start_time": "2022-12-16T07:05:10.274Z"
      },
      {
        "duration": 29,
        "start_time": "2022-12-16T07:05:43.709Z"
      },
      {
        "duration": 3,
        "start_time": "2022-12-16T07:05:49.344Z"
      },
      {
        "duration": 20,
        "start_time": "2022-12-16T07:05:51.665Z"
      },
      {
        "duration": 46,
        "start_time": "2022-12-16T07:05:55.600Z"
      },
      {
        "duration": 25,
        "start_time": "2022-12-16T07:05:59.280Z"
      },
      {
        "duration": 54,
        "start_time": "2022-12-16T07:06:03.476Z"
      },
      {
        "duration": 35,
        "start_time": "2022-12-16T07:06:12.793Z"
      },
      {
        "duration": 244,
        "start_time": "2022-12-16T07:06:17.055Z"
      },
      {
        "duration": 25,
        "start_time": "2022-12-16T07:06:23.096Z"
      },
      {
        "duration": 24,
        "start_time": "2022-12-16T07:06:28.451Z"
      },
      {
        "duration": 16,
        "start_time": "2022-12-16T07:06:32.940Z"
      },
      {
        "duration": 247,
        "start_time": "2022-12-16T07:06:38.318Z"
      },
      {
        "duration": 26,
        "start_time": "2022-12-16T07:06:41.884Z"
      },
      {
        "duration": 16,
        "start_time": "2022-12-16T07:06:45.428Z"
      },
      {
        "duration": 6,
        "start_time": "2022-12-16T07:06:49.084Z"
      },
      {
        "duration": 6,
        "start_time": "2022-12-16T07:06:51.165Z"
      },
      {
        "duration": 127,
        "start_time": "2022-12-16T07:06:54.764Z"
      },
      {
        "duration": 536,
        "start_time": "2022-12-16T07:07:02.495Z"
      },
      {
        "duration": 518,
        "start_time": "2022-12-16T07:07:11.167Z"
      },
      {
        "duration": 619,
        "start_time": "2022-12-16T07:07:14.869Z"
      },
      {
        "duration": 529,
        "start_time": "2022-12-16T07:07:17.952Z"
      },
      {
        "duration": 654,
        "start_time": "2022-12-16T07:07:21.822Z"
      },
      {
        "duration": 533,
        "start_time": "2022-12-16T07:07:26.032Z"
      },
      {
        "duration": 6,
        "start_time": "2022-12-16T07:07:30.294Z"
      },
      {
        "duration": 4,
        "start_time": "2022-12-16T07:07:33.736Z"
      },
      {
        "duration": 4,
        "start_time": "2022-12-16T07:07:35.367Z"
      },
      {
        "duration": 514,
        "start_time": "2022-12-16T07:07:43.523Z"
      },
      {
        "duration": 15,
        "start_time": "2022-12-16T07:07:48.101Z"
      },
      {
        "duration": 16,
        "start_time": "2022-12-16T07:07:52.917Z"
      },
      {
        "duration": 7,
        "start_time": "2022-12-16T07:08:00.681Z"
      },
      {
        "duration": 6,
        "start_time": "2022-12-16T07:08:06.001Z"
      },
      {
        "duration": 17,
        "start_time": "2022-12-16T07:08:12.099Z"
      },
      {
        "duration": 1101,
        "start_time": "2022-12-16T07:08:18.038Z"
      },
      {
        "duration": 1745,
        "start_time": "2022-12-16T07:09:49.663Z"
      },
      {
        "duration": 714,
        "start_time": "2022-12-16T07:09:51.410Z"
      },
      {
        "duration": 232,
        "start_time": "2022-12-16T07:09:52.125Z"
      },
      {
        "duration": 26,
        "start_time": "2022-12-16T07:09:52.359Z"
      },
      {
        "duration": 3,
        "start_time": "2022-12-16T07:09:52.386Z"
      },
      {
        "duration": 25,
        "start_time": "2022-12-16T07:09:52.391Z"
      },
      {
        "duration": 9,
        "start_time": "2022-12-16T07:09:52.417Z"
      },
      {
        "duration": 10,
        "start_time": "2022-12-16T07:09:52.429Z"
      },
      {
        "duration": 8,
        "start_time": "2022-12-16T07:09:52.441Z"
      },
      {
        "duration": 20,
        "start_time": "2022-12-16T07:09:52.453Z"
      },
      {
        "duration": 57,
        "start_time": "2022-12-16T07:09:52.474Z"
      },
      {
        "duration": 28,
        "start_time": "2022-12-16T07:09:52.533Z"
      },
      {
        "duration": 4,
        "start_time": "2022-12-16T07:09:52.563Z"
      },
      {
        "duration": 50,
        "start_time": "2022-12-16T07:09:52.569Z"
      },
      {
        "duration": 51,
        "start_time": "2022-12-16T07:09:52.621Z"
      },
      {
        "duration": 42,
        "start_time": "2022-12-16T07:09:52.673Z"
      },
      {
        "duration": 60,
        "start_time": "2022-12-16T07:09:52.716Z"
      },
      {
        "duration": 69,
        "start_time": "2022-12-16T07:09:52.778Z"
      },
      {
        "duration": 279,
        "start_time": "2022-12-16T07:09:52.849Z"
      },
      {
        "duration": 24,
        "start_time": "2022-12-16T07:09:53.130Z"
      },
      {
        "duration": 30,
        "start_time": "2022-12-16T07:09:53.156Z"
      },
      {
        "duration": 36,
        "start_time": "2022-12-16T07:09:53.187Z"
      },
      {
        "duration": 278,
        "start_time": "2022-12-16T07:09:53.225Z"
      },
      {
        "duration": 26,
        "start_time": "2022-12-16T07:09:53.513Z"
      },
      {
        "duration": 15,
        "start_time": "2022-12-16T07:09:53.541Z"
      },
      {
        "duration": 5,
        "start_time": "2022-12-16T07:09:53.558Z"
      },
      {
        "duration": 8,
        "start_time": "2022-12-16T07:09:53.565Z"
      },
      {
        "duration": 118,
        "start_time": "2022-12-16T07:09:53.577Z"
      },
      {
        "duration": 541,
        "start_time": "2022-12-16T07:09:53.697Z"
      },
      {
        "duration": 556,
        "start_time": "2022-12-16T07:09:54.240Z"
      },
      {
        "duration": 665,
        "start_time": "2022-12-16T07:09:54.798Z"
      },
      {
        "duration": 648,
        "start_time": "2022-12-16T07:09:55.464Z"
      },
      {
        "duration": 418,
        "start_time": "2022-12-16T07:09:56.113Z"
      },
      {
        "duration": 4,
        "start_time": "2022-12-16T07:09:56.533Z"
      },
      {
        "duration": 7,
        "start_time": "2022-12-16T07:09:56.538Z"
      },
      {
        "duration": 5,
        "start_time": "2022-12-16T07:09:56.546Z"
      },
      {
        "duration": 655,
        "start_time": "2022-12-16T07:09:56.553Z"
      },
      {
        "duration": 16,
        "start_time": "2022-12-16T07:09:57.209Z"
      },
      {
        "duration": 15,
        "start_time": "2022-12-16T07:09:57.227Z"
      },
      {
        "duration": 8,
        "start_time": "2022-12-16T07:09:57.244Z"
      },
      {
        "duration": 8,
        "start_time": "2022-12-16T07:09:57.253Z"
      },
      {
        "duration": 53,
        "start_time": "2022-12-16T07:09:57.263Z"
      },
      {
        "duration": 6,
        "start_time": "2022-12-16T07:09:57.318Z"
      },
      {
        "duration": 91,
        "start_time": "2022-12-16T07:09:57.326Z"
      },
      {
        "duration": 278,
        "start_time": "2022-12-16T07:09:57.420Z"
      },
      {
        "duration": 0,
        "start_time": "2022-12-16T07:09:57.700Z"
      },
      {
        "duration": 0,
        "start_time": "2022-12-16T07:09:57.712Z"
      },
      {
        "duration": 0,
        "start_time": "2022-12-16T07:09:57.714Z"
      },
      {
        "duration": 0,
        "start_time": "2022-12-16T07:09:57.715Z"
      },
      {
        "duration": 7,
        "start_time": "2022-12-16T07:11:57.202Z"
      },
      {
        "duration": 147,
        "start_time": "2022-12-16T07:12:03.570Z"
      },
      {
        "duration": 58,
        "start_time": "2022-12-16T07:17:21.959Z"
      },
      {
        "duration": 152,
        "start_time": "2022-12-16T07:17:32.570Z"
      },
      {
        "duration": 6,
        "start_time": "2022-12-16T08:08:11.238Z"
      },
      {
        "duration": 143,
        "start_time": "2022-12-16T08:10:17.271Z"
      },
      {
        "duration": 46,
        "start_time": "2022-12-16T08:10:48.772Z"
      },
      {
        "duration": 128,
        "start_time": "2022-12-16T08:11:59.084Z"
      },
      {
        "duration": 275,
        "start_time": "2022-12-16T08:15:48.843Z"
      },
      {
        "duration": 328,
        "start_time": "2022-12-16T08:16:37.986Z"
      },
      {
        "duration": 74,
        "start_time": "2022-12-16T08:19:10.065Z"
      },
      {
        "duration": 3,
        "start_time": "2022-12-16T08:19:32.205Z"
      },
      {
        "duration": 6,
        "start_time": "2022-12-16T08:19:35.433Z"
      },
      {
        "duration": 7,
        "start_time": "2022-12-16T08:19:38.490Z"
      },
      {
        "duration": 78,
        "start_time": "2022-12-16T08:19:47.257Z"
      },
      {
        "duration": 397,
        "start_time": "2022-12-16T08:22:14.423Z"
      },
      {
        "duration": 11,
        "start_time": "2022-12-16T08:23:52.160Z"
      },
      {
        "duration": 48,
        "start_time": "2022-12-16T08:24:24.069Z"
      },
      {
        "duration": 579,
        "start_time": "2022-12-16T08:26:39.033Z"
      },
      {
        "duration": 447,
        "start_time": "2022-12-16T08:27:47.568Z"
      },
      {
        "duration": 291,
        "start_time": "2022-12-16T08:28:35.429Z"
      },
      {
        "duration": 198586,
        "start_time": "2022-12-16T08:36:15.703Z"
      },
      {
        "duration": 1341,
        "start_time": "2022-12-16T08:46:56.853Z"
      },
      {
        "duration": 740,
        "start_time": "2022-12-16T08:46:58.196Z"
      },
      {
        "duration": 227,
        "start_time": "2022-12-16T08:46:58.939Z"
      },
      {
        "duration": 26,
        "start_time": "2022-12-16T08:46:59.168Z"
      },
      {
        "duration": 3,
        "start_time": "2022-12-16T08:46:59.212Z"
      },
      {
        "duration": 14,
        "start_time": "2022-12-16T08:46:59.217Z"
      },
      {
        "duration": 6,
        "start_time": "2022-12-16T08:46:59.233Z"
      },
      {
        "duration": 14,
        "start_time": "2022-12-16T08:46:59.241Z"
      },
      {
        "duration": 8,
        "start_time": "2022-12-16T08:46:59.257Z"
      },
      {
        "duration": 53,
        "start_time": "2022-12-16T08:46:59.268Z"
      },
      {
        "duration": 19,
        "start_time": "2022-12-16T08:46:59.323Z"
      },
      {
        "duration": 30,
        "start_time": "2022-12-16T08:46:59.344Z"
      },
      {
        "duration": 4,
        "start_time": "2022-12-16T08:46:59.376Z"
      },
      {
        "duration": 27,
        "start_time": "2022-12-16T08:46:59.414Z"
      },
      {
        "duration": 71,
        "start_time": "2022-12-16T08:46:59.442Z"
      },
      {
        "duration": 32,
        "start_time": "2022-12-16T08:46:59.515Z"
      },
      {
        "duration": 81,
        "start_time": "2022-12-16T08:46:59.549Z"
      },
      {
        "duration": 45,
        "start_time": "2022-12-16T08:46:59.632Z"
      },
      {
        "duration": 293,
        "start_time": "2022-12-16T08:46:59.679Z"
      },
      {
        "duration": 24,
        "start_time": "2022-12-16T08:46:59.973Z"
      },
      {
        "duration": 34,
        "start_time": "2022-12-16T08:46:59.999Z"
      },
      {
        "duration": 41,
        "start_time": "2022-12-16T08:47:00.035Z"
      },
      {
        "duration": 367,
        "start_time": "2022-12-16T08:47:00.078Z"
      },
      {
        "duration": 34,
        "start_time": "2022-12-16T08:47:00.447Z"
      },
      {
        "duration": 59,
        "start_time": "2022-12-16T08:47:00.483Z"
      },
      {
        "duration": 26,
        "start_time": "2022-12-16T08:47:00.543Z"
      },
      {
        "duration": 25,
        "start_time": "2022-12-16T08:47:00.571Z"
      },
      {
        "duration": 132,
        "start_time": "2022-12-16T08:47:00.599Z"
      },
      {
        "duration": 557,
        "start_time": "2022-12-16T08:47:00.732Z"
      },
      {
        "duration": 567,
        "start_time": "2022-12-16T08:47:01.291Z"
      },
      {
        "duration": 692,
        "start_time": "2022-12-16T08:47:01.859Z"
      },
      {
        "duration": 713,
        "start_time": "2022-12-16T08:47:02.553Z"
      },
      {
        "duration": 459,
        "start_time": "2022-12-16T08:47:03.268Z"
      },
      {
        "duration": 4,
        "start_time": "2022-12-16T08:47:03.729Z"
      },
      {
        "duration": 9,
        "start_time": "2022-12-16T08:47:03.735Z"
      },
      {
        "duration": 6,
        "start_time": "2022-12-16T08:47:03.745Z"
      },
      {
        "duration": 676,
        "start_time": "2022-12-16T08:47:03.753Z"
      },
      {
        "duration": 16,
        "start_time": "2022-12-16T08:47:04.431Z"
      },
      {
        "duration": 16,
        "start_time": "2022-12-16T08:47:04.449Z"
      },
      {
        "duration": 10,
        "start_time": "2022-12-16T08:47:04.466Z"
      },
      {
        "duration": 38,
        "start_time": "2022-12-16T08:47:04.478Z"
      },
      {
        "duration": 20,
        "start_time": "2022-12-16T08:47:04.519Z"
      },
      {
        "duration": 5,
        "start_time": "2022-12-16T08:47:04.541Z"
      },
      {
        "duration": 26,
        "start_time": "2022-12-16T08:47:04.548Z"
      },
      {
        "duration": 19,
        "start_time": "2022-12-16T08:47:04.576Z"
      },
      {
        "duration": 616,
        "start_time": "2022-12-16T08:47:04.598Z"
      },
      {
        "duration": 609,
        "start_time": "2022-12-16T08:47:05.216Z"
      },
      {
        "duration": 201197,
        "start_time": "2022-12-16T08:47:05.829Z"
      },
      {
        "duration": 170,
        "start_time": "2022-12-16T08:50:27.027Z"
      },
      {
        "duration": 89630,
        "start_time": "2022-12-16T08:50:27.199Z"
      },
      {
        "duration": 3,
        "start_time": "2022-12-16T08:51:56.831Z"
      },
      {
        "duration": 120,
        "start_time": "2022-12-16T08:57:08.994Z"
      },
      {
        "duration": 330,
        "start_time": "2022-12-16T08:58:13.390Z"
      },
      {
        "duration": 474,
        "start_time": "2022-12-16T08:59:01.248Z"
      },
      {
        "duration": 200609,
        "start_time": "2022-12-16T09:01:53.376Z"
      },
      {
        "duration": 268,
        "start_time": "2022-12-16T09:05:29.054Z"
      },
      {
        "duration": 309,
        "start_time": "2022-12-16T09:08:21.605Z"
      },
      {
        "duration": 3,
        "start_time": "2022-12-16T09:13:29.836Z"
      },
      {
        "duration": 445,
        "start_time": "2022-12-16T09:13:34.076Z"
      },
      {
        "duration": 198836,
        "start_time": "2022-12-16T09:13:42.717Z"
      },
      {
        "duration": 567,
        "start_time": "2022-12-16T09:17:01.555Z"
      },
      {
        "duration": 78,
        "start_time": "2022-12-16T09:21:06.562Z"
      },
      {
        "duration": 77,
        "start_time": "2022-12-16T09:21:55.529Z"
      },
      {
        "duration": 69,
        "start_time": "2022-12-16T09:22:41.167Z"
      },
      {
        "duration": 92,
        "start_time": "2022-12-16T09:23:07.415Z"
      },
      {
        "duration": 3,
        "start_time": "2022-12-16T09:24:57.710Z"
      },
      {
        "duration": 441,
        "start_time": "2022-12-16T09:25:59.079Z"
      },
      {
        "duration": 587,
        "start_time": "2022-12-16T09:26:51.336Z"
      },
      {
        "duration": 437,
        "start_time": "2022-12-16T09:27:40.587Z"
      },
      {
        "duration": 466,
        "start_time": "2022-12-16T09:29:08.047Z"
      },
      {
        "duration": 199824,
        "start_time": "2022-12-16T09:30:09.193Z"
      },
      {
        "duration": 202569,
        "start_time": "2022-12-16T09:42:34.578Z"
      },
      {
        "duration": 72,
        "start_time": "2022-12-16T10:12:38.090Z"
      },
      {
        "duration": 8399,
        "start_time": "2022-12-16T10:15:00.224Z"
      },
      {
        "duration": 8553,
        "start_time": "2022-12-16T10:30:49.461Z"
      },
      {
        "duration": 677,
        "start_time": "2022-12-16T10:32:31.536Z"
      },
      {
        "duration": 200892,
        "start_time": "2022-12-16T10:33:19.878Z"
      },
      {
        "duration": 3,
        "start_time": "2022-12-16T11:37:05.239Z"
      },
      {
        "duration": 3,
        "start_time": "2022-12-16T11:37:07.567Z"
      },
      {
        "duration": 5,
        "start_time": "2022-12-16T11:37:11.741Z"
      },
      {
        "duration": 5,
        "start_time": "2022-12-16T11:37:19.394Z"
      },
      {
        "duration": 7848,
        "start_time": "2022-12-16T11:37:30.143Z"
      },
      {
        "duration": 67,
        "start_time": "2022-12-16T11:40:23.602Z"
      },
      {
        "duration": 76,
        "start_time": "2022-12-16T11:40:36.954Z"
      },
      {
        "duration": 72,
        "start_time": "2022-12-16T11:41:08.983Z"
      },
      {
        "duration": 1138,
        "start_time": "2022-12-16T11:41:29.882Z"
      },
      {
        "duration": 10477,
        "start_time": "2022-12-16T11:44:12.541Z"
      },
      {
        "duration": 3,
        "start_time": "2022-12-16T11:50:18.048Z"
      },
      {
        "duration": 4,
        "start_time": "2022-12-16T11:52:28.244Z"
      },
      {
        "duration": 8173,
        "start_time": "2022-12-16T12:02:59.194Z"
      },
      {
        "duration": 7080,
        "start_time": "2022-12-16T12:03:20.554Z"
      },
      {
        "duration": 4,
        "start_time": "2022-12-16T12:03:40.798Z"
      },
      {
        "duration": 1644,
        "start_time": "2022-12-16T12:04:37.835Z"
      },
      {
        "duration": 768,
        "start_time": "2022-12-16T12:04:39.481Z"
      },
      {
        "duration": 313,
        "start_time": "2022-12-16T12:04:40.251Z"
      },
      {
        "duration": 24,
        "start_time": "2022-12-16T12:04:40.566Z"
      },
      {
        "duration": 2,
        "start_time": "2022-12-16T12:04:40.592Z"
      },
      {
        "duration": 8,
        "start_time": "2022-12-16T12:04:40.613Z"
      },
      {
        "duration": 5,
        "start_time": "2022-12-16T12:04:40.623Z"
      },
      {
        "duration": 10,
        "start_time": "2022-12-16T12:04:40.630Z"
      },
      {
        "duration": 8,
        "start_time": "2022-12-16T12:04:40.642Z"
      },
      {
        "duration": 60,
        "start_time": "2022-12-16T12:04:40.654Z"
      },
      {
        "duration": 18,
        "start_time": "2022-12-16T12:04:40.715Z"
      },
      {
        "duration": 30,
        "start_time": "2022-12-16T12:04:40.735Z"
      },
      {
        "duration": 4,
        "start_time": "2022-12-16T12:04:40.767Z"
      },
      {
        "duration": 59,
        "start_time": "2022-12-16T12:04:40.773Z"
      },
      {
        "duration": 56,
        "start_time": "2022-12-16T12:04:40.834Z"
      },
      {
        "duration": 51,
        "start_time": "2022-12-16T12:04:40.892Z"
      },
      {
        "duration": 96,
        "start_time": "2022-12-16T12:04:40.945Z"
      },
      {
        "duration": 70,
        "start_time": "2022-12-16T12:04:41.043Z"
      },
      {
        "duration": 320,
        "start_time": "2022-12-16T12:04:41.115Z"
      },
      {
        "duration": 25,
        "start_time": "2022-12-16T12:04:41.437Z"
      },
      {
        "duration": 30,
        "start_time": "2022-12-16T12:04:41.464Z"
      },
      {
        "duration": 19,
        "start_time": "2022-12-16T12:04:41.513Z"
      },
      {
        "duration": 275,
        "start_time": "2022-12-16T12:04:41.534Z"
      },
      {
        "duration": 35,
        "start_time": "2022-12-16T12:04:41.811Z"
      },
      {
        "duration": 17,
        "start_time": "2022-12-16T12:04:41.848Z"
      },
      {
        "duration": 5,
        "start_time": "2022-12-16T12:04:41.867Z"
      },
      {
        "duration": 14,
        "start_time": "2022-12-16T12:04:41.873Z"
      },
      {
        "duration": 106,
        "start_time": "2022-12-16T12:04:41.917Z"
      },
      {
        "duration": 555,
        "start_time": "2022-12-16T12:04:42.025Z"
      },
      {
        "duration": 574,
        "start_time": "2022-12-16T12:04:42.582Z"
      },
      {
        "duration": 659,
        "start_time": "2022-12-16T12:04:43.158Z"
      },
      {
        "duration": 654,
        "start_time": "2022-12-16T12:04:43.819Z"
      },
      {
        "duration": 471,
        "start_time": "2022-12-16T12:04:44.475Z"
      },
      {
        "duration": 5,
        "start_time": "2022-12-16T12:04:44.948Z"
      },
      {
        "duration": 17,
        "start_time": "2022-12-16T12:04:44.954Z"
      },
      {
        "duration": 8,
        "start_time": "2022-12-16T12:04:44.973Z"
      },
      {
        "duration": 676,
        "start_time": "2022-12-16T12:04:44.983Z"
      },
      {
        "duration": 16,
        "start_time": "2022-12-16T12:04:45.661Z"
      },
      {
        "duration": 16,
        "start_time": "2022-12-16T12:04:45.679Z"
      },
      {
        "duration": 11,
        "start_time": "2022-12-16T12:04:45.713Z"
      },
      {
        "duration": 11,
        "start_time": "2022-12-16T12:04:45.725Z"
      },
      {
        "duration": 20,
        "start_time": "2022-12-16T12:04:45.738Z"
      },
      {
        "duration": 4,
        "start_time": "2022-12-16T12:04:45.760Z"
      },
      {
        "duration": 13,
        "start_time": "2022-12-16T12:04:45.766Z"
      },
      {
        "duration": 32,
        "start_time": "2022-12-16T12:04:45.782Z"
      },
      {
        "duration": 10,
        "start_time": "2022-12-16T12:04:45.816Z"
      },
      {
        "duration": 15,
        "start_time": "2022-12-16T12:04:45.828Z"
      },
      {
        "duration": 437,
        "start_time": "2022-12-16T12:04:45.845Z"
      },
      {
        "duration": 0,
        "start_time": "2022-12-16T12:04:46.284Z"
      },
      {
        "duration": 0,
        "start_time": "2022-12-16T12:04:46.285Z"
      },
      {
        "duration": 0,
        "start_time": "2022-12-16T12:04:46.285Z"
      },
      {
        "duration": 0,
        "start_time": "2022-12-16T12:04:46.286Z"
      },
      {
        "duration": 0,
        "start_time": "2022-12-16T12:04:46.287Z"
      },
      {
        "duration": 0,
        "start_time": "2022-12-16T12:04:46.289Z"
      },
      {
        "duration": 0,
        "start_time": "2022-12-16T12:04:46.290Z"
      },
      {
        "duration": 0,
        "start_time": "2022-12-16T12:04:46.291Z"
      },
      {
        "duration": 0,
        "start_time": "2022-12-16T12:04:46.291Z"
      },
      {
        "duration": 481,
        "start_time": "2022-12-16T12:06:50.135Z"
      },
      {
        "duration": 5,
        "start_time": "2022-12-16T12:10:19.161Z"
      },
      {
        "duration": 1464,
        "start_time": "2022-12-16T12:10:31.714Z"
      },
      {
        "duration": 766,
        "start_time": "2022-12-16T12:10:33.180Z"
      },
      {
        "duration": 233,
        "start_time": "2022-12-16T12:10:33.948Z"
      },
      {
        "duration": 37,
        "start_time": "2022-12-16T12:10:34.183Z"
      },
      {
        "duration": 3,
        "start_time": "2022-12-16T12:10:34.222Z"
      },
      {
        "duration": 24,
        "start_time": "2022-12-16T12:10:34.227Z"
      },
      {
        "duration": 8,
        "start_time": "2022-12-16T12:10:34.254Z"
      },
      {
        "duration": 18,
        "start_time": "2022-12-16T12:10:34.264Z"
      },
      {
        "duration": 30,
        "start_time": "2022-12-16T12:10:34.284Z"
      },
      {
        "duration": 27,
        "start_time": "2022-12-16T12:10:34.317Z"
      },
      {
        "duration": 21,
        "start_time": "2022-12-16T12:10:34.346Z"
      },
      {
        "duration": 66,
        "start_time": "2022-12-16T12:10:34.369Z"
      },
      {
        "duration": 3,
        "start_time": "2022-12-16T12:10:34.437Z"
      },
      {
        "duration": 29,
        "start_time": "2022-12-16T12:10:34.442Z"
      },
      {
        "duration": 85,
        "start_time": "2022-12-16T12:10:34.473Z"
      },
      {
        "duration": 32,
        "start_time": "2022-12-16T12:10:34.560Z"
      },
      {
        "duration": 87,
        "start_time": "2022-12-16T12:10:34.593Z"
      },
      {
        "duration": 84,
        "start_time": "2022-12-16T12:10:34.683Z"
      },
      {
        "duration": 274,
        "start_time": "2022-12-16T12:10:34.768Z"
      },
      {
        "duration": 24,
        "start_time": "2022-12-16T12:10:35.044Z"
      },
      {
        "duration": 44,
        "start_time": "2022-12-16T12:10:35.070Z"
      },
      {
        "duration": 19,
        "start_time": "2022-12-16T12:10:35.116Z"
      },
      {
        "duration": 284,
        "start_time": "2022-12-16T12:10:35.137Z"
      },
      {
        "duration": 41,
        "start_time": "2022-12-16T12:10:35.423Z"
      },
      {
        "duration": 16,
        "start_time": "2022-12-16T12:10:35.466Z"
      },
      {
        "duration": 7,
        "start_time": "2022-12-16T12:10:35.484Z"
      },
      {
        "duration": 7,
        "start_time": "2022-12-16T12:10:35.514Z"
      },
      {
        "duration": 119,
        "start_time": "2022-12-16T12:10:35.525Z"
      },
      {
        "duration": 564,
        "start_time": "2022-12-16T12:10:35.645Z"
      },
      {
        "duration": 576,
        "start_time": "2022-12-16T12:10:36.212Z"
      },
      {
        "duration": 705,
        "start_time": "2022-12-16T12:10:36.789Z"
      },
      {
        "duration": 686,
        "start_time": "2022-12-16T12:10:37.496Z"
      },
      {
        "duration": 427,
        "start_time": "2022-12-16T12:10:38.184Z"
      },
      {
        "duration": 5,
        "start_time": "2022-12-16T12:10:38.613Z"
      },
      {
        "duration": 10,
        "start_time": "2022-12-16T12:10:38.619Z"
      },
      {
        "duration": 8,
        "start_time": "2022-12-16T12:10:38.631Z"
      },
      {
        "duration": 728,
        "start_time": "2022-12-16T12:10:38.640Z"
      },
      {
        "duration": 15,
        "start_time": "2022-12-16T12:10:39.370Z"
      },
      {
        "duration": 38,
        "start_time": "2022-12-16T12:10:39.387Z"
      },
      {
        "duration": 8,
        "start_time": "2022-12-16T12:10:39.427Z"
      },
      {
        "duration": 25,
        "start_time": "2022-12-16T12:10:39.436Z"
      },
      {
        "duration": 21,
        "start_time": "2022-12-16T12:10:39.462Z"
      },
      {
        "duration": 28,
        "start_time": "2022-12-16T12:10:39.485Z"
      },
      {
        "duration": 3,
        "start_time": "2022-12-16T12:10:39.515Z"
      },
      {
        "duration": 10,
        "start_time": "2022-12-16T12:10:39.520Z"
      },
      {
        "duration": 22,
        "start_time": "2022-12-16T12:10:39.532Z"
      },
      {
        "duration": 25,
        "start_time": "2022-12-16T12:10:39.556Z"
      },
      {
        "duration": 410,
        "start_time": "2022-12-16T12:10:39.583Z"
      },
      {
        "duration": 0,
        "start_time": "2022-12-16T12:10:39.994Z"
      },
      {
        "duration": 0,
        "start_time": "2022-12-16T12:10:39.996Z"
      },
      {
        "duration": 0,
        "start_time": "2022-12-16T12:10:39.997Z"
      },
      {
        "duration": 0,
        "start_time": "2022-12-16T12:10:39.998Z"
      },
      {
        "duration": 0,
        "start_time": "2022-12-16T12:10:40.013Z"
      },
      {
        "duration": 0,
        "start_time": "2022-12-16T12:10:40.014Z"
      },
      {
        "duration": 0,
        "start_time": "2022-12-16T12:10:40.015Z"
      },
      {
        "duration": 0,
        "start_time": "2022-12-16T12:10:40.016Z"
      },
      {
        "duration": 0,
        "start_time": "2022-12-16T12:10:40.017Z"
      },
      {
        "duration": 2692,
        "start_time": "2022-12-16T12:14:37.823Z"
      },
      {
        "duration": 3122,
        "start_time": "2022-12-16T12:15:07.093Z"
      },
      {
        "duration": 2357,
        "start_time": "2022-12-16T12:15:34.456Z"
      },
      {
        "duration": 2365,
        "start_time": "2022-12-16T12:15:41.148Z"
      },
      {
        "duration": 3,
        "start_time": "2022-12-16T12:15:48.644Z"
      },
      {
        "duration": 3,
        "start_time": "2022-12-16T12:16:04.548Z"
      },
      {
        "duration": 265854,
        "start_time": "2022-12-16T12:31:37.066Z"
      },
      {
        "duration": 3699,
        "start_time": "2022-12-16T12:51:52.817Z"
      },
      {
        "duration": 5,
        "start_time": "2022-12-16T12:52:03.236Z"
      },
      {
        "duration": 2617,
        "start_time": "2022-12-16T12:53:23.507Z"
      },
      {
        "duration": 4,
        "start_time": "2022-12-16T12:53:34.418Z"
      },
      {
        "duration": 2759,
        "start_time": "2022-12-16T13:02:04.945Z"
      },
      {
        "duration": 2804,
        "start_time": "2022-12-16T13:03:27.389Z"
      },
      {
        "duration": 255985,
        "start_time": "2022-12-16T13:07:19.029Z"
      },
      {
        "duration": 1477708,
        "start_time": "2022-12-16T13:53:24.745Z"
      },
      {
        "duration": 1560,
        "start_time": "2022-12-17T07:17:07.146Z"
      },
      {
        "duration": 2565,
        "start_time": "2022-12-17T07:17:08.709Z"
      },
      {
        "duration": 248,
        "start_time": "2022-12-17T07:17:11.279Z"
      },
      {
        "duration": 27,
        "start_time": "2022-12-17T07:17:11.536Z"
      },
      {
        "duration": 3,
        "start_time": "2022-12-17T07:17:11.565Z"
      },
      {
        "duration": 22,
        "start_time": "2022-12-17T07:17:11.569Z"
      },
      {
        "duration": 12,
        "start_time": "2022-12-17T07:17:11.593Z"
      },
      {
        "duration": 14,
        "start_time": "2022-12-17T07:17:11.607Z"
      },
      {
        "duration": 8,
        "start_time": "2022-12-17T07:17:11.638Z"
      },
      {
        "duration": 28,
        "start_time": "2022-12-17T07:17:11.648Z"
      },
      {
        "duration": 26,
        "start_time": "2022-12-17T07:17:11.678Z"
      },
      {
        "duration": 63,
        "start_time": "2022-12-17T07:17:11.706Z"
      },
      {
        "duration": 4,
        "start_time": "2022-12-17T07:17:11.771Z"
      },
      {
        "duration": 45,
        "start_time": "2022-12-17T07:17:11.778Z"
      },
      {
        "duration": 50,
        "start_time": "2022-12-17T07:17:11.825Z"
      },
      {
        "duration": 26,
        "start_time": "2022-12-17T07:17:11.877Z"
      },
      {
        "duration": 97,
        "start_time": "2022-12-17T07:17:11.905Z"
      },
      {
        "duration": 57,
        "start_time": "2022-12-17T07:17:12.004Z"
      },
      {
        "duration": 295,
        "start_time": "2022-12-17T07:17:12.063Z"
      },
      {
        "duration": 27,
        "start_time": "2022-12-17T07:17:12.360Z"
      },
      {
        "duration": 48,
        "start_time": "2022-12-17T07:17:12.389Z"
      },
      {
        "duration": 21,
        "start_time": "2022-12-17T07:17:12.440Z"
      },
      {
        "duration": 365,
        "start_time": "2022-12-17T07:17:12.463Z"
      },
      {
        "duration": 27,
        "start_time": "2022-12-17T07:17:12.830Z"
      },
      {
        "duration": 14,
        "start_time": "2022-12-17T07:17:12.859Z"
      },
      {
        "duration": 5,
        "start_time": "2022-12-17T07:17:12.874Z"
      },
      {
        "duration": 6,
        "start_time": "2022-12-17T07:17:12.884Z"
      },
      {
        "duration": 124,
        "start_time": "2022-12-17T07:17:12.891Z"
      },
      {
        "duration": 613,
        "start_time": "2022-12-17T07:17:13.017Z"
      },
      {
        "duration": 598,
        "start_time": "2022-12-17T07:17:13.632Z"
      },
      {
        "duration": 717,
        "start_time": "2022-12-17T07:17:14.235Z"
      },
      {
        "duration": 741,
        "start_time": "2022-12-17T07:17:14.954Z"
      },
      {
        "duration": 486,
        "start_time": "2022-12-17T07:17:15.697Z"
      },
      {
        "duration": 5,
        "start_time": "2022-12-17T07:17:16.185Z"
      },
      {
        "duration": 9,
        "start_time": "2022-12-17T07:17:16.191Z"
      },
      {
        "duration": 8,
        "start_time": "2022-12-17T07:17:16.202Z"
      },
      {
        "duration": 784,
        "start_time": "2022-12-17T07:17:16.212Z"
      },
      {
        "duration": 16,
        "start_time": "2022-12-17T07:17:16.998Z"
      },
      {
        "duration": 27,
        "start_time": "2022-12-17T07:17:17.015Z"
      },
      {
        "duration": 7,
        "start_time": "2022-12-17T07:17:17.044Z"
      },
      {
        "duration": 28,
        "start_time": "2022-12-17T07:17:17.053Z"
      },
      {
        "duration": 24,
        "start_time": "2022-12-17T07:17:17.083Z"
      },
      {
        "duration": 3,
        "start_time": "2022-12-17T07:17:17.109Z"
      },
      {
        "duration": 21,
        "start_time": "2022-12-17T07:17:17.114Z"
      },
      {
        "duration": 4,
        "start_time": "2022-12-17T07:17:17.138Z"
      },
      {
        "duration": 21,
        "start_time": "2022-12-17T07:17:17.144Z"
      },
      {
        "duration": 24,
        "start_time": "2022-12-17T07:17:17.167Z"
      },
      {
        "duration": 3543,
        "start_time": "2022-12-17T07:17:17.193Z"
      },
      {
        "duration": 3493,
        "start_time": "2022-12-17T07:17:20.741Z"
      },
      {
        "duration": 5,
        "start_time": "2022-12-17T07:17:24.237Z"
      },
      {
        "duration": 4194,
        "start_time": "2022-12-17T07:17:24.244Z"
      },
      {
        "duration": 3001,
        "start_time": "2022-12-17T07:17:28.440Z"
      },
      {
        "duration": 93,
        "start_time": "2022-12-17T07:17:31.443Z"
      },
      {
        "duration": 292397,
        "start_time": "2022-12-17T07:17:31.538Z"
      },
      {
        "duration": 1649616,
        "start_time": "2022-12-17T07:22:23.938Z"
      },
      {
        "duration": 108141,
        "start_time": "2022-12-17T07:49:53.556Z"
      },
      {
        "duration": 49,
        "start_time": "2022-12-17T07:51:41.701Z"
      },
      {
        "duration": 38,
        "start_time": "2022-12-17T07:55:47.504Z"
      },
      {
        "duration": 277058,
        "start_time": "2022-12-17T07:56:19.525Z"
      },
      {
        "duration": 272891,
        "start_time": "2022-12-17T08:16:47.270Z"
      },
      {
        "duration": 391422,
        "start_time": "2022-12-17T08:39:00.417Z"
      },
      {
        "duration": 277794,
        "start_time": "2022-12-17T08:48:33.532Z"
      },
      {
        "duration": 278458,
        "start_time": "2022-12-17T08:54:38.058Z"
      },
      {
        "duration": 379262,
        "start_time": "2022-12-17T09:01:36.831Z"
      },
      {
        "duration": 381417,
        "start_time": "2022-12-17T09:13:43.555Z"
      },
      {
        "duration": 383729,
        "start_time": "2022-12-17T09:27:26.054Z"
      },
      {
        "duration": 9258,
        "start_time": "2022-12-17T09:44:46.912Z"
      },
      {
        "duration": 164890,
        "start_time": "2022-12-17T09:45:33.734Z"
      },
      {
        "duration": 0,
        "start_time": "2022-12-17T09:54:08.861Z"
      },
      {
        "duration": 25138,
        "start_time": "2022-12-17T09:54:12.700Z"
      },
      {
        "duration": 48714,
        "start_time": "2022-12-17T09:55:20.784Z"
      },
      {
        "duration": 1363,
        "start_time": "2022-12-17T11:59:51.774Z"
      },
      {
        "duration": 719,
        "start_time": "2022-12-17T11:59:53.139Z"
      },
      {
        "duration": 239,
        "start_time": "2022-12-17T11:59:53.860Z"
      },
      {
        "duration": 37,
        "start_time": "2022-12-17T11:59:54.101Z"
      },
      {
        "duration": 3,
        "start_time": "2022-12-17T11:59:54.140Z"
      },
      {
        "duration": 40,
        "start_time": "2022-12-17T11:59:54.144Z"
      },
      {
        "duration": 23,
        "start_time": "2022-12-17T11:59:54.186Z"
      },
      {
        "duration": 35,
        "start_time": "2022-12-17T11:59:54.211Z"
      },
      {
        "duration": 25,
        "start_time": "2022-12-17T11:59:54.248Z"
      },
      {
        "duration": 50,
        "start_time": "2022-12-17T11:59:54.276Z"
      },
      {
        "duration": 24,
        "start_time": "2022-12-17T11:59:54.328Z"
      },
      {
        "duration": 40,
        "start_time": "2022-12-17T11:59:54.354Z"
      },
      {
        "duration": 4,
        "start_time": "2022-12-17T11:59:54.396Z"
      },
      {
        "duration": 50,
        "start_time": "2022-12-17T11:59:54.401Z"
      },
      {
        "duration": 52,
        "start_time": "2022-12-17T11:59:54.453Z"
      },
      {
        "duration": 49,
        "start_time": "2022-12-17T11:59:54.506Z"
      },
      {
        "duration": 66,
        "start_time": "2022-12-17T11:59:54.557Z"
      },
      {
        "duration": 45,
        "start_time": "2022-12-17T11:59:54.636Z"
      },
      {
        "duration": 302,
        "start_time": "2022-12-17T11:59:54.683Z"
      },
      {
        "duration": 26,
        "start_time": "2022-12-17T11:59:54.986Z"
      },
      {
        "duration": 45,
        "start_time": "2022-12-17T11:59:55.013Z"
      },
      {
        "duration": 26,
        "start_time": "2022-12-17T11:59:55.060Z"
      },
      {
        "duration": 275,
        "start_time": "2022-12-17T11:59:55.088Z"
      },
      {
        "duration": 24,
        "start_time": "2022-12-17T11:59:55.365Z"
      },
      {
        "duration": 36,
        "start_time": "2022-12-17T11:59:55.390Z"
      },
      {
        "duration": 10,
        "start_time": "2022-12-17T11:59:55.428Z"
      },
      {
        "duration": 20,
        "start_time": "2022-12-17T11:59:55.439Z"
      },
      {
        "duration": 95,
        "start_time": "2022-12-17T11:59:55.463Z"
      },
      {
        "duration": 572,
        "start_time": "2022-12-17T11:59:55.560Z"
      },
      {
        "duration": 610,
        "start_time": "2022-12-17T11:59:56.135Z"
      },
      {
        "duration": 677,
        "start_time": "2022-12-17T11:59:56.747Z"
      },
      {
        "duration": 678,
        "start_time": "2022-12-17T11:59:57.426Z"
      },
      {
        "duration": 452,
        "start_time": "2022-12-17T11:59:58.106Z"
      },
      {
        "duration": 4,
        "start_time": "2022-12-17T11:59:58.560Z"
      },
      {
        "duration": 14,
        "start_time": "2022-12-17T11:59:58.566Z"
      },
      {
        "duration": 15,
        "start_time": "2022-12-17T11:59:58.581Z"
      },
      {
        "duration": 704,
        "start_time": "2022-12-17T11:59:58.598Z"
      },
      {
        "duration": 16,
        "start_time": "2022-12-17T11:59:59.305Z"
      },
      {
        "duration": 49,
        "start_time": "2022-12-17T11:59:59.322Z"
      },
      {
        "duration": 14,
        "start_time": "2022-12-17T11:59:59.373Z"
      },
      {
        "duration": 33,
        "start_time": "2022-12-17T11:59:59.389Z"
      },
      {
        "duration": 63,
        "start_time": "2022-12-17T11:59:59.424Z"
      },
      {
        "duration": 17,
        "start_time": "2022-12-17T11:59:59.489Z"
      },
      {
        "duration": 15,
        "start_time": "2022-12-17T11:59:59.508Z"
      },
      {
        "duration": 19,
        "start_time": "2022-12-17T11:59:59.525Z"
      },
      {
        "duration": 19,
        "start_time": "2022-12-17T11:59:59.546Z"
      },
      {
        "duration": 58,
        "start_time": "2022-12-17T11:59:59.566Z"
      },
      {
        "duration": 3113,
        "start_time": "2022-12-17T11:59:59.626Z"
      },
      {
        "duration": 2897,
        "start_time": "2022-12-17T12:00:02.744Z"
      },
      {
        "duration": 93,
        "start_time": "2022-12-17T12:00:05.644Z"
      },
      {
        "duration": 3396,
        "start_time": "2022-12-17T12:00:05.740Z"
      },
      {
        "duration": 3103,
        "start_time": "2022-12-17T12:00:09.138Z"
      },
      {
        "duration": 93,
        "start_time": "2022-12-17T12:00:12.244Z"
      },
      {
        "duration": 280401,
        "start_time": "2022-12-17T12:00:12.339Z"
      },
      {
        "duration": 60396,
        "start_time": "2022-12-17T12:04:52.742Z"
      },
      {
        "duration": 36398,
        "start_time": "2022-12-17T12:05:53.139Z"
      },
      {
        "duration": 93,
        "start_time": "2022-12-17T12:06:29.543Z"
      },
      {
        "duration": 17,
        "start_time": "2022-12-17T12:06:29.637Z"
      },
      {
        "duration": 1373,
        "start_time": "2022-12-17T12:21:01.273Z"
      },
      {
        "duration": 790,
        "start_time": "2022-12-17T12:21:02.648Z"
      },
      {
        "duration": 239,
        "start_time": "2022-12-17T12:21:03.440Z"
      },
      {
        "duration": 24,
        "start_time": "2022-12-17T12:21:03.682Z"
      },
      {
        "duration": 6,
        "start_time": "2022-12-17T12:21:03.708Z"
      },
      {
        "duration": 25,
        "start_time": "2022-12-17T12:21:03.715Z"
      },
      {
        "duration": 7,
        "start_time": "2022-12-17T12:21:03.742Z"
      },
      {
        "duration": 16,
        "start_time": "2022-12-17T12:21:03.751Z"
      },
      {
        "duration": 14,
        "start_time": "2022-12-17T12:21:03.769Z"
      },
      {
        "duration": 26,
        "start_time": "2022-12-17T12:21:03.787Z"
      },
      {
        "duration": 36,
        "start_time": "2022-12-17T12:21:03.816Z"
      },
      {
        "duration": 39,
        "start_time": "2022-12-17T12:21:03.854Z"
      },
      {
        "duration": 3,
        "start_time": "2022-12-17T12:21:03.896Z"
      },
      {
        "duration": 56,
        "start_time": "2022-12-17T12:21:03.903Z"
      },
      {
        "duration": 58,
        "start_time": "2022-12-17T12:21:03.961Z"
      },
      {
        "duration": 33,
        "start_time": "2022-12-17T12:21:04.035Z"
      },
      {
        "duration": 81,
        "start_time": "2022-12-17T12:21:04.069Z"
      },
      {
        "duration": 47,
        "start_time": "2022-12-17T12:21:04.152Z"
      },
      {
        "duration": 299,
        "start_time": "2022-12-17T12:21:04.201Z"
      },
      {
        "duration": 33,
        "start_time": "2022-12-17T12:21:04.502Z"
      },
      {
        "duration": 26,
        "start_time": "2022-12-17T12:21:04.537Z"
      },
      {
        "duration": 24,
        "start_time": "2022-12-17T12:21:04.564Z"
      },
      {
        "duration": 305,
        "start_time": "2022-12-17T12:21:04.590Z"
      },
      {
        "duration": 44,
        "start_time": "2022-12-17T12:21:04.896Z"
      },
      {
        "duration": 18,
        "start_time": "2022-12-17T12:21:04.944Z"
      },
      {
        "duration": 16,
        "start_time": "2022-12-17T12:21:04.964Z"
      },
      {
        "duration": 46,
        "start_time": "2022-12-17T12:21:04.981Z"
      },
      {
        "duration": 104,
        "start_time": "2022-12-17T12:21:05.031Z"
      },
      {
        "duration": 551,
        "start_time": "2022-12-17T12:21:05.137Z"
      },
      {
        "duration": 570,
        "start_time": "2022-12-17T12:21:05.691Z"
      },
      {
        "duration": 721,
        "start_time": "2022-12-17T12:21:06.263Z"
      },
      {
        "duration": 686,
        "start_time": "2022-12-17T12:21:06.985Z"
      },
      {
        "duration": 453,
        "start_time": "2022-12-17T12:21:07.673Z"
      },
      {
        "duration": 9,
        "start_time": "2022-12-17T12:21:08.128Z"
      },
      {
        "duration": 7,
        "start_time": "2022-12-17T12:21:08.138Z"
      },
      {
        "duration": 8,
        "start_time": "2022-12-17T12:21:08.147Z"
      },
      {
        "duration": 674,
        "start_time": "2022-12-17T12:21:08.156Z"
      },
      {
        "duration": 17,
        "start_time": "2022-12-17T12:21:08.831Z"
      },
      {
        "duration": 27,
        "start_time": "2022-12-17T12:21:08.849Z"
      },
      {
        "duration": 9,
        "start_time": "2022-12-17T12:21:08.877Z"
      },
      {
        "duration": 10,
        "start_time": "2022-12-17T12:21:08.888Z"
      },
      {
        "duration": 43,
        "start_time": "2022-12-17T12:21:08.900Z"
      },
      {
        "duration": 3,
        "start_time": "2022-12-17T12:21:08.945Z"
      },
      {
        "duration": 10,
        "start_time": "2022-12-17T12:21:08.950Z"
      },
      {
        "duration": 7,
        "start_time": "2022-12-17T12:21:08.961Z"
      },
      {
        "duration": 13,
        "start_time": "2022-12-17T12:21:08.970Z"
      },
      {
        "duration": 15,
        "start_time": "2022-12-17T12:21:08.985Z"
      },
      {
        "duration": 3241,
        "start_time": "2022-12-17T12:21:09.001Z"
      },
      {
        "duration": 3299,
        "start_time": "2022-12-17T12:21:12.245Z"
      },
      {
        "duration": 4,
        "start_time": "2022-12-17T12:21:15.637Z"
      },
      {
        "duration": 2894,
        "start_time": "2022-12-17T12:21:15.643Z"
      },
      {
        "duration": 2894,
        "start_time": "2022-12-17T12:21:18.542Z"
      },
      {
        "duration": 5,
        "start_time": "2022-12-17T12:21:21.439Z"
      },
      {
        "duration": 282699,
        "start_time": "2022-12-17T12:21:21.536Z"
      },
      {
        "duration": 60003,
        "start_time": "2022-12-17T12:26:04.238Z"
      },
      {
        "duration": 36194,
        "start_time": "2022-12-17T12:27:04.243Z"
      },
      {
        "duration": 9,
        "start_time": "2022-12-18T12:31:51.968Z"
      },
      {
        "duration": 243,
        "start_time": "2022-12-18T12:32:20.271Z"
      },
      {
        "duration": 1481,
        "start_time": "2022-12-18T13:46:02.213Z"
      },
      {
        "duration": 2659,
        "start_time": "2022-12-18T13:46:03.695Z"
      },
      {
        "duration": 215,
        "start_time": "2022-12-18T13:46:06.355Z"
      },
      {
        "duration": 26,
        "start_time": "2022-12-18T13:46:06.572Z"
      },
      {
        "duration": 3,
        "start_time": "2022-12-18T13:46:06.599Z"
      },
      {
        "duration": 21,
        "start_time": "2022-12-18T13:46:06.603Z"
      },
      {
        "duration": 22,
        "start_time": "2022-12-18T13:46:06.626Z"
      },
      {
        "duration": 35,
        "start_time": "2022-12-18T13:46:06.649Z"
      },
      {
        "duration": 21,
        "start_time": "2022-12-18T13:46:06.685Z"
      },
      {
        "duration": 43,
        "start_time": "2022-12-18T13:46:06.708Z"
      },
      {
        "duration": 21,
        "start_time": "2022-12-18T13:46:06.752Z"
      },
      {
        "duration": 32,
        "start_time": "2022-12-18T13:46:06.774Z"
      },
      {
        "duration": 10,
        "start_time": "2022-12-18T13:46:06.808Z"
      },
      {
        "duration": 38,
        "start_time": "2022-12-18T13:46:06.819Z"
      },
      {
        "duration": 56,
        "start_time": "2022-12-18T13:46:06.859Z"
      },
      {
        "duration": 24,
        "start_time": "2022-12-18T13:46:06.917Z"
      },
      {
        "duration": 76,
        "start_time": "2022-12-18T13:46:06.942Z"
      },
      {
        "duration": 35,
        "start_time": "2022-12-18T13:46:07.020Z"
      },
      {
        "duration": 251,
        "start_time": "2022-12-18T13:46:07.056Z"
      },
      {
        "duration": 23,
        "start_time": "2022-12-18T13:46:07.308Z"
      },
      {
        "duration": 48,
        "start_time": "2022-12-18T13:46:07.332Z"
      },
      {
        "duration": 17,
        "start_time": "2022-12-18T13:46:07.381Z"
      },
      {
        "duration": 254,
        "start_time": "2022-12-18T13:46:07.399Z"
      },
      {
        "duration": 24,
        "start_time": "2022-12-18T13:46:07.654Z"
      },
      {
        "duration": 31,
        "start_time": "2022-12-18T13:46:07.679Z"
      },
      {
        "duration": 17,
        "start_time": "2022-12-18T13:46:07.712Z"
      },
      {
        "duration": 20,
        "start_time": "2022-12-18T13:46:07.730Z"
      },
      {
        "duration": 96,
        "start_time": "2022-12-18T13:46:07.754Z"
      },
      {
        "duration": 482,
        "start_time": "2022-12-18T13:46:07.852Z"
      },
      {
        "duration": 499,
        "start_time": "2022-12-18T13:46:08.335Z"
      },
      {
        "duration": 600,
        "start_time": "2022-12-18T13:46:08.836Z"
      },
      {
        "duration": 603,
        "start_time": "2022-12-18T13:46:09.438Z"
      },
      {
        "duration": 420,
        "start_time": "2022-12-18T13:46:10.043Z"
      },
      {
        "duration": 5,
        "start_time": "2022-12-18T13:46:10.465Z"
      },
      {
        "duration": 7,
        "start_time": "2022-12-18T13:46:10.471Z"
      },
      {
        "duration": 17,
        "start_time": "2022-12-18T13:46:10.480Z"
      },
      {
        "duration": 621,
        "start_time": "2022-12-18T13:46:10.499Z"
      },
      {
        "duration": 14,
        "start_time": "2022-12-18T13:46:11.122Z"
      },
      {
        "duration": 14,
        "start_time": "2022-12-18T13:46:11.138Z"
      },
      {
        "duration": 29,
        "start_time": "2022-12-18T13:46:11.154Z"
      },
      {
        "duration": 21,
        "start_time": "2022-12-18T13:46:11.184Z"
      },
      {
        "duration": 32,
        "start_time": "2022-12-18T13:46:11.206Z"
      },
      {
        "duration": 51,
        "start_time": "2022-12-18T13:46:11.240Z"
      },
      {
        "duration": 23,
        "start_time": "2022-12-18T13:46:11.293Z"
      },
      {
        "duration": 23,
        "start_time": "2022-12-18T13:46:11.318Z"
      },
      {
        "duration": 36,
        "start_time": "2022-12-18T13:46:11.342Z"
      },
      {
        "duration": 32,
        "start_time": "2022-12-18T13:46:11.380Z"
      },
      {
        "duration": 2986,
        "start_time": "2022-12-18T13:46:11.414Z"
      },
      {
        "duration": 3099,
        "start_time": "2022-12-18T13:46:14.406Z"
      },
      {
        "duration": 5,
        "start_time": "2022-12-18T13:46:17.597Z"
      },
      {
        "duration": 2801,
        "start_time": "2022-12-18T13:46:17.604Z"
      },
      {
        "duration": 2897,
        "start_time": "2022-12-18T13:46:20.409Z"
      },
      {
        "duration": 6,
        "start_time": "2022-12-18T13:46:23.398Z"
      },
      {
        "duration": 256592,
        "start_time": "2022-12-18T13:46:23.406Z"
      },
      {
        "duration": 61900,
        "start_time": "2022-12-18T13:50:40.000Z"
      },
      {
        "duration": 33998,
        "start_time": "2022-12-18T13:51:41.902Z"
      },
      {
        "duration": 0,
        "start_time": "2022-12-18T13:52:16.102Z"
      },
      {
        "duration": 9,
        "start_time": "2022-12-18T13:52:43.987Z"
      },
      {
        "duration": 11,
        "start_time": "2022-12-18T13:53:24.632Z"
      },
      {
        "duration": 5,
        "start_time": "2022-12-18T13:56:11.968Z"
      },
      {
        "duration": 48,
        "start_time": "2022-12-18T14:09:50.325Z"
      },
      {
        "duration": 584,
        "start_time": "2022-12-18T14:21:11.099Z"
      },
      {
        "duration": 678,
        "start_time": "2022-12-18T14:28:31.149Z"
      },
      {
        "duration": 605,
        "start_time": "2022-12-18T14:31:30.227Z"
      },
      {
        "duration": 16,
        "start_time": "2022-12-18T14:45:33.158Z"
      },
      {
        "duration": 11,
        "start_time": "2022-12-18T14:47:51.022Z"
      },
      {
        "duration": 54,
        "start_time": "2022-12-18T14:54:13.097Z"
      },
      {
        "duration": 15,
        "start_time": "2022-12-18T14:54:58.705Z"
      },
      {
        "duration": 11,
        "start_time": "2022-12-18T14:57:26.542Z"
      },
      {
        "duration": 12,
        "start_time": "2022-12-18T14:58:09.754Z"
      },
      {
        "duration": 4,
        "start_time": "2022-12-18T14:58:28.317Z"
      },
      {
        "duration": 10,
        "start_time": "2022-12-18T16:10:12.150Z"
      },
      {
        "duration": 10,
        "start_time": "2022-12-18T16:11:27.918Z"
      },
      {
        "duration": 9,
        "start_time": "2022-12-18T16:11:37.244Z"
      },
      {
        "duration": 4,
        "start_time": "2022-12-18T16:12:29.230Z"
      },
      {
        "duration": 6641,
        "start_time": "2022-12-18T16:13:25.649Z"
      },
      {
        "duration": 3514,
        "start_time": "2022-12-18T16:14:45.840Z"
      },
      {
        "duration": 3408,
        "start_time": "2022-12-18T16:16:32.209Z"
      },
      {
        "duration": 1748,
        "start_time": "2022-12-19T06:39:53.682Z"
      },
      {
        "duration": 2938,
        "start_time": "2022-12-19T06:39:55.432Z"
      },
      {
        "duration": 255,
        "start_time": "2022-12-19T06:39:58.372Z"
      },
      {
        "duration": 27,
        "start_time": "2022-12-19T06:39:58.629Z"
      },
      {
        "duration": 3,
        "start_time": "2022-12-19T06:39:58.658Z"
      },
      {
        "duration": 15,
        "start_time": "2022-12-19T06:39:58.663Z"
      },
      {
        "duration": 6,
        "start_time": "2022-12-19T06:39:58.680Z"
      },
      {
        "duration": 40,
        "start_time": "2022-12-19T06:39:58.688Z"
      },
      {
        "duration": 8,
        "start_time": "2022-12-19T06:39:58.730Z"
      },
      {
        "duration": 23,
        "start_time": "2022-12-19T06:39:58.741Z"
      },
      {
        "duration": 18,
        "start_time": "2022-12-19T06:39:58.766Z"
      },
      {
        "duration": 55,
        "start_time": "2022-12-19T06:39:58.786Z"
      },
      {
        "duration": 4,
        "start_time": "2022-12-19T06:39:58.844Z"
      },
      {
        "duration": 29,
        "start_time": "2022-12-19T06:39:58.849Z"
      },
      {
        "duration": 78,
        "start_time": "2022-12-19T06:39:58.879Z"
      },
      {
        "duration": 29,
        "start_time": "2022-12-19T06:39:58.958Z"
      },
      {
        "duration": 82,
        "start_time": "2022-12-19T06:39:58.989Z"
      },
      {
        "duration": 5,
        "start_time": "2022-12-19T06:39:59.073Z"
      },
      {
        "duration": 61,
        "start_time": "2022-12-19T06:39:59.079Z"
      },
      {
        "duration": 320,
        "start_time": "2022-12-19T06:39:59.142Z"
      },
      {
        "duration": 25,
        "start_time": "2022-12-19T06:39:59.464Z"
      },
      {
        "duration": 43,
        "start_time": "2022-12-19T06:39:59.491Z"
      },
      {
        "duration": 19,
        "start_time": "2022-12-19T06:39:59.536Z"
      },
      {
        "duration": 380,
        "start_time": "2022-12-19T06:39:59.557Z"
      },
      {
        "duration": 25,
        "start_time": "2022-12-19T06:39:59.939Z"
      },
      {
        "duration": 14,
        "start_time": "2022-12-19T06:39:59.966Z"
      },
      {
        "duration": 5,
        "start_time": "2022-12-19T06:39:59.982Z"
      },
      {
        "duration": 14,
        "start_time": "2022-12-19T06:40:00.017Z"
      },
      {
        "duration": 20,
        "start_time": "2022-12-19T06:40:00.033Z"
      },
      {
        "duration": 776,
        "start_time": "2022-12-19T06:40:00.055Z"
      },
      {
        "duration": 870,
        "start_time": "2022-12-19T06:40:00.833Z"
      },
      {
        "duration": 753,
        "start_time": "2022-12-19T06:40:01.705Z"
      },
      {
        "duration": 872,
        "start_time": "2022-12-19T06:40:02.460Z"
      },
      {
        "duration": 4115,
        "start_time": "2022-12-19T06:40:03.334Z"
      },
      {
        "duration": 3978,
        "start_time": "2022-12-19T06:40:07.451Z"
      },
      {
        "duration": 507,
        "start_time": "2022-12-19T06:40:11.431Z"
      },
      {
        "duration": 4,
        "start_time": "2022-12-19T06:40:11.940Z"
      },
      {
        "duration": 11,
        "start_time": "2022-12-19T06:40:11.946Z"
      },
      {
        "duration": 8,
        "start_time": "2022-12-19T06:40:11.958Z"
      },
      {
        "duration": 658,
        "start_time": "2022-12-19T06:40:11.968Z"
      },
      {
        "duration": 17,
        "start_time": "2022-12-19T06:40:12.628Z"
      },
      {
        "duration": 16,
        "start_time": "2022-12-19T06:40:12.647Z"
      },
      {
        "duration": 10,
        "start_time": "2022-12-19T06:40:12.665Z"
      },
      {
        "duration": 38,
        "start_time": "2022-12-19T06:40:12.677Z"
      },
      {
        "duration": 28,
        "start_time": "2022-12-19T06:40:12.721Z"
      },
      {
        "duration": 4,
        "start_time": "2022-12-19T06:40:12.751Z"
      },
      {
        "duration": 7,
        "start_time": "2022-12-19T06:40:12.756Z"
      },
      {
        "duration": 7,
        "start_time": "2022-12-19T06:40:12.765Z"
      },
      {
        "duration": 8,
        "start_time": "2022-12-19T06:40:12.774Z"
      },
      {
        "duration": 30,
        "start_time": "2022-12-19T06:40:12.783Z"
      },
      {
        "duration": 4600,
        "start_time": "2022-12-19T06:40:12.817Z"
      },
      {
        "duration": 4504,
        "start_time": "2022-12-19T06:40:17.422Z"
      },
      {
        "duration": 4,
        "start_time": "2022-12-19T06:40:21.930Z"
      },
      {
        "duration": 4383,
        "start_time": "2022-12-19T06:40:21.936Z"
      },
      {
        "duration": 5401,
        "start_time": "2022-12-19T06:40:26.325Z"
      },
      {
        "duration": 81,
        "start_time": "2022-12-19T06:40:31.730Z"
      },
      {
        "duration": 311017,
        "start_time": "2022-12-19T06:40:31.813Z"
      },
      {
        "duration": 1503,
        "start_time": "2022-12-19T06:47:03.376Z"
      },
      {
        "duration": 897,
        "start_time": "2022-12-19T06:47:04.882Z"
      },
      {
        "duration": 287,
        "start_time": "2022-12-19T06:47:05.785Z"
      },
      {
        "duration": 41,
        "start_time": "2022-12-19T06:47:06.074Z"
      },
      {
        "duration": 10,
        "start_time": "2022-12-19T06:47:06.117Z"
      },
      {
        "duration": 14,
        "start_time": "2022-12-19T06:47:06.132Z"
      },
      {
        "duration": 10,
        "start_time": "2022-12-19T06:47:06.148Z"
      },
      {
        "duration": 10,
        "start_time": "2022-12-19T06:47:06.160Z"
      },
      {
        "duration": 10,
        "start_time": "2022-12-19T06:47:06.173Z"
      },
      {
        "duration": 61,
        "start_time": "2022-12-19T06:47:06.185Z"
      },
      {
        "duration": 24,
        "start_time": "2022-12-19T06:47:06.248Z"
      },
      {
        "duration": 55,
        "start_time": "2022-12-19T06:47:06.275Z"
      },
      {
        "duration": 5,
        "start_time": "2022-12-19T06:47:06.332Z"
      },
      {
        "duration": 50,
        "start_time": "2022-12-19T06:47:06.340Z"
      },
      {
        "duration": 81,
        "start_time": "2022-12-19T06:47:06.392Z"
      },
      {
        "duration": 45,
        "start_time": "2022-12-19T06:47:06.475Z"
      },
      {
        "duration": 77,
        "start_time": "2022-12-19T06:47:06.526Z"
      },
      {
        "duration": 6,
        "start_time": "2022-12-19T06:47:06.612Z"
      },
      {
        "duration": 105,
        "start_time": "2022-12-19T06:47:06.620Z"
      },
      {
        "duration": 360,
        "start_time": "2022-12-19T06:47:06.732Z"
      },
      {
        "duration": 40,
        "start_time": "2022-12-19T06:47:07.094Z"
      },
      {
        "duration": 44,
        "start_time": "2022-12-19T06:47:07.136Z"
      },
      {
        "duration": 23,
        "start_time": "2022-12-19T06:47:07.182Z"
      },
      {
        "duration": 428,
        "start_time": "2022-12-19T06:47:07.207Z"
      },
      {
        "duration": 26,
        "start_time": "2022-12-19T06:47:07.637Z"
      },
      {
        "duration": 18,
        "start_time": "2022-12-19T06:47:07.665Z"
      },
      {
        "duration": 50,
        "start_time": "2022-12-19T06:47:07.688Z"
      },
      {
        "duration": 28,
        "start_time": "2022-12-19T06:47:07.739Z"
      },
      {
        "duration": 50,
        "start_time": "2022-12-19T06:47:07.769Z"
      },
      {
        "duration": 875,
        "start_time": "2022-12-19T06:47:07.823Z"
      },
      {
        "duration": 905,
        "start_time": "2022-12-19T06:47:08.700Z"
      },
      {
        "duration": 774,
        "start_time": "2022-12-19T06:47:09.607Z"
      },
      {
        "duration": 890,
        "start_time": "2022-12-19T06:47:10.384Z"
      },
      {
        "duration": 552,
        "start_time": "2022-12-19T06:47:11.275Z"
      },
      {
        "duration": 0,
        "start_time": "2022-12-19T06:47:11.829Z"
      },
      {
        "duration": 0,
        "start_time": "2022-12-19T06:47:11.832Z"
      },
      {
        "duration": 0,
        "start_time": "2022-12-19T06:47:11.834Z"
      },
      {
        "duration": 0,
        "start_time": "2022-12-19T06:47:11.835Z"
      },
      {
        "duration": 0,
        "start_time": "2022-12-19T06:47:11.837Z"
      },
      {
        "duration": 0,
        "start_time": "2022-12-19T06:47:11.839Z"
      },
      {
        "duration": 0,
        "start_time": "2022-12-19T06:47:11.841Z"
      },
      {
        "duration": 0,
        "start_time": "2022-12-19T06:47:11.843Z"
      },
      {
        "duration": 0,
        "start_time": "2022-12-19T06:47:11.845Z"
      },
      {
        "duration": 0,
        "start_time": "2022-12-19T06:47:11.846Z"
      },
      {
        "duration": 0,
        "start_time": "2022-12-19T06:47:11.848Z"
      },
      {
        "duration": 0,
        "start_time": "2022-12-19T06:47:11.850Z"
      },
      {
        "duration": 1,
        "start_time": "2022-12-19T06:47:11.851Z"
      },
      {
        "duration": 0,
        "start_time": "2022-12-19T06:47:11.854Z"
      },
      {
        "duration": 0,
        "start_time": "2022-12-19T06:47:11.855Z"
      },
      {
        "duration": 0,
        "start_time": "2022-12-19T06:47:11.856Z"
      },
      {
        "duration": 0,
        "start_time": "2022-12-19T06:47:11.858Z"
      },
      {
        "duration": 0,
        "start_time": "2022-12-19T06:47:11.860Z"
      },
      {
        "duration": 0,
        "start_time": "2022-12-19T06:47:11.861Z"
      },
      {
        "duration": 0,
        "start_time": "2022-12-19T06:47:11.863Z"
      },
      {
        "duration": 0,
        "start_time": "2022-12-19T06:47:11.864Z"
      },
      {
        "duration": 0,
        "start_time": "2022-12-19T06:47:11.865Z"
      },
      {
        "duration": 0,
        "start_time": "2022-12-19T06:47:11.866Z"
      },
      {
        "duration": 1,
        "start_time": "2022-12-19T06:47:11.914Z"
      },
      {
        "duration": 0,
        "start_time": "2022-12-19T06:47:11.916Z"
      },
      {
        "duration": 438,
        "start_time": "2022-12-19T06:48:45.248Z"
      },
      {
        "duration": 469,
        "start_time": "2022-12-19T06:49:54.091Z"
      },
      {
        "duration": 529,
        "start_time": "2022-12-19T06:51:12.353Z"
      },
      {
        "duration": 388,
        "start_time": "2022-12-19T06:51:41.460Z"
      },
      {
        "duration": 544,
        "start_time": "2022-12-19T06:52:36.572Z"
      },
      {
        "duration": 645,
        "start_time": "2022-12-19T07:45:31.294Z"
      },
      {
        "duration": 456,
        "start_time": "2022-12-19T07:47:47.171Z"
      },
      {
        "duration": 546,
        "start_time": "2022-12-19T07:48:26.560Z"
      },
      {
        "duration": 82,
        "start_time": "2022-12-19T08:36:00.020Z"
      },
      {
        "duration": 1503,
        "start_time": "2022-12-19T08:36:47.502Z"
      },
      {
        "duration": 834,
        "start_time": "2022-12-19T08:36:49.007Z"
      },
      {
        "duration": 261,
        "start_time": "2022-12-19T08:36:49.843Z"
      },
      {
        "duration": 30,
        "start_time": "2022-12-19T08:36:50.112Z"
      },
      {
        "duration": 3,
        "start_time": "2022-12-19T08:36:50.143Z"
      },
      {
        "duration": 24,
        "start_time": "2022-12-19T08:36:50.148Z"
      },
      {
        "duration": 18,
        "start_time": "2022-12-19T08:36:50.175Z"
      },
      {
        "duration": 21,
        "start_time": "2022-12-19T08:36:50.196Z"
      },
      {
        "duration": 33,
        "start_time": "2022-12-19T08:36:50.219Z"
      },
      {
        "duration": 122,
        "start_time": "2022-12-19T08:36:50.255Z"
      },
      {
        "duration": 21,
        "start_time": "2022-12-19T08:36:50.380Z"
      },
      {
        "duration": 47,
        "start_time": "2022-12-19T08:36:50.403Z"
      },
      {
        "duration": 5,
        "start_time": "2022-12-19T08:36:50.451Z"
      },
      {
        "duration": 42,
        "start_time": "2022-12-19T08:36:50.457Z"
      },
      {
        "duration": 64,
        "start_time": "2022-12-19T08:36:50.501Z"
      },
      {
        "duration": 62,
        "start_time": "2022-12-19T08:36:50.568Z"
      },
      {
        "duration": 87,
        "start_time": "2022-12-19T08:36:50.632Z"
      },
      {
        "duration": 6,
        "start_time": "2022-12-19T08:36:50.721Z"
      },
      {
        "duration": 53,
        "start_time": "2022-12-19T08:36:50.728Z"
      },
      {
        "duration": 314,
        "start_time": "2022-12-19T08:36:50.783Z"
      },
      {
        "duration": 34,
        "start_time": "2022-12-19T08:36:51.099Z"
      },
      {
        "duration": 32,
        "start_time": "2022-12-19T08:36:51.135Z"
      },
      {
        "duration": 39,
        "start_time": "2022-12-19T08:36:51.168Z"
      },
      {
        "duration": 393,
        "start_time": "2022-12-19T08:36:51.213Z"
      },
      {
        "duration": 28,
        "start_time": "2022-12-19T08:36:51.608Z"
      },
      {
        "duration": 16,
        "start_time": "2022-12-19T08:36:51.638Z"
      },
      {
        "duration": 8,
        "start_time": "2022-12-19T08:36:51.656Z"
      },
      {
        "duration": 15,
        "start_time": "2022-12-19T08:36:51.668Z"
      },
      {
        "duration": 39,
        "start_time": "2022-12-19T08:36:51.684Z"
      },
      {
        "duration": 782,
        "start_time": "2022-12-19T08:36:51.725Z"
      },
      {
        "duration": 842,
        "start_time": "2022-12-19T08:36:52.509Z"
      },
      {
        "duration": 702,
        "start_time": "2022-12-19T08:36:53.353Z"
      },
      {
        "duration": 865,
        "start_time": "2022-12-19T08:36:54.057Z"
      },
      {
        "duration": 503,
        "start_time": "2022-12-19T08:36:54.924Z"
      },
      {
        "duration": 482,
        "start_time": "2022-12-19T08:36:55.428Z"
      },
      {
        "duration": 501,
        "start_time": "2022-12-19T08:36:55.912Z"
      },
      {
        "duration": 6,
        "start_time": "2022-12-19T08:36:56.416Z"
      },
      {
        "duration": 11,
        "start_time": "2022-12-19T08:36:56.424Z"
      },
      {
        "duration": 21,
        "start_time": "2022-12-19T08:36:56.437Z"
      },
      {
        "duration": 691,
        "start_time": "2022-12-19T08:36:56.461Z"
      },
      {
        "duration": 23,
        "start_time": "2022-12-19T08:36:57.155Z"
      },
      {
        "duration": 37,
        "start_time": "2022-12-19T08:36:57.180Z"
      },
      {
        "duration": 10,
        "start_time": "2022-12-19T08:36:57.220Z"
      },
      {
        "duration": 33,
        "start_time": "2022-12-19T08:36:57.233Z"
      },
      {
        "duration": 19,
        "start_time": "2022-12-19T08:36:57.269Z"
      },
      {
        "duration": 4,
        "start_time": "2022-12-19T08:36:57.290Z"
      },
      {
        "duration": 8,
        "start_time": "2022-12-19T08:36:57.311Z"
      },
      {
        "duration": 13,
        "start_time": "2022-12-19T08:36:57.321Z"
      },
      {
        "duration": 18,
        "start_time": "2022-12-19T08:36:57.336Z"
      },
      {
        "duration": 15,
        "start_time": "2022-12-19T08:36:57.356Z"
      },
      {
        "duration": 5740,
        "start_time": "2022-12-19T08:36:57.373Z"
      },
      {
        "duration": 4104,
        "start_time": "2022-12-19T08:37:03.115Z"
      },
      {
        "duration": 5,
        "start_time": "2022-12-19T08:37:07.221Z"
      },
      {
        "duration": 3890,
        "start_time": "2022-12-19T08:37:07.228Z"
      },
      {
        "duration": 2697,
        "start_time": "2022-12-19T08:37:11.120Z"
      },
      {
        "duration": 92,
        "start_time": "2022-12-19T08:37:13.823Z"
      },
      {
        "duration": 307910,
        "start_time": "2022-12-19T08:37:13.917Z"
      },
      {
        "duration": 91989,
        "start_time": "2022-12-19T08:42:21.831Z"
      },
      {
        "duration": 43122,
        "start_time": "2022-12-19T08:43:53.827Z"
      },
      {
        "duration": 340,
        "start_time": "2022-12-19T09:58:08.734Z"
      },
      {
        "duration": 3,
        "start_time": "2022-12-19T09:58:22.899Z"
      },
      {
        "duration": 3239,
        "start_time": "2022-12-19T09:58:30.574Z"
      },
      {
        "duration": 3096,
        "start_time": "2022-12-19T09:58:34.118Z"
      },
      {
        "duration": 3090,
        "start_time": "2022-12-19T09:58:38.726Z"
      },
      {
        "duration": 4,
        "start_time": "2022-12-19T09:58:44.167Z"
      },
      {
        "duration": 282533,
        "start_time": "2022-12-19T09:58:48.684Z"
      },
      {
        "duration": 35697,
        "start_time": "2022-12-19T10:05:39.623Z"
      },
      {
        "duration": 63602,
        "start_time": "2022-12-19T10:07:18.414Z"
      },
      {
        "duration": 3694,
        "start_time": "2022-12-19T10:08:22.021Z"
      },
      {
        "duration": 3397,
        "start_time": "2022-12-19T10:08:29.519Z"
      },
      {
        "duration": 3307,
        "start_time": "2022-12-19T10:08:32.918Z"
      },
      {
        "duration": 3588,
        "start_time": "2022-12-19T10:08:36.227Z"
      },
      {
        "duration": 6,
        "start_time": "2022-12-19T10:21:49.592Z"
      },
      {
        "duration": 52,
        "start_time": "2022-12-19T10:58:37.288Z"
      },
      {
        "duration": 6,
        "start_time": "2022-12-19T10:59:12.861Z"
      },
      {
        "duration": 17,
        "start_time": "2022-12-19T10:59:27.451Z"
      },
      {
        "duration": 72,
        "start_time": "2022-12-19T10:59:51.010Z"
      },
      {
        "duration": 57,
        "start_time": "2022-12-19T11:02:54.870Z"
      },
      {
        "duration": 46,
        "start_time": "2022-12-19T11:04:05.835Z"
      },
      {
        "duration": 53,
        "start_time": "2022-12-19T11:04:33.645Z"
      },
      {
        "duration": 58,
        "start_time": "2022-12-19T11:05:09.320Z"
      },
      {
        "duration": 0,
        "start_time": "2022-12-19T11:06:48.768Z"
      },
      {
        "duration": 1499,
        "start_time": "2022-12-19T11:08:06.405Z"
      },
      {
        "duration": 799,
        "start_time": "2022-12-19T11:08:07.906Z"
      },
      {
        "duration": 257,
        "start_time": "2022-12-19T11:08:08.707Z"
      },
      {
        "duration": 26,
        "start_time": "2022-12-19T11:08:08.966Z"
      },
      {
        "duration": 19,
        "start_time": "2022-12-19T11:08:08.994Z"
      },
      {
        "duration": 20,
        "start_time": "2022-12-19T11:08:09.016Z"
      },
      {
        "duration": 9,
        "start_time": "2022-12-19T11:08:09.038Z"
      },
      {
        "duration": 12,
        "start_time": "2022-12-19T11:08:09.049Z"
      },
      {
        "duration": 8,
        "start_time": "2022-12-19T11:08:09.063Z"
      },
      {
        "duration": 54,
        "start_time": "2022-12-19T11:08:09.073Z"
      },
      {
        "duration": 19,
        "start_time": "2022-12-19T11:08:09.129Z"
      },
      {
        "duration": 33,
        "start_time": "2022-12-19T11:08:09.149Z"
      },
      {
        "duration": 4,
        "start_time": "2022-12-19T11:08:09.183Z"
      },
      {
        "duration": 25,
        "start_time": "2022-12-19T11:08:09.213Z"
      },
      {
        "duration": 84,
        "start_time": "2022-12-19T11:08:09.240Z"
      },
      {
        "duration": 38,
        "start_time": "2022-12-19T11:08:09.326Z"
      },
      {
        "duration": 88,
        "start_time": "2022-12-19T11:08:09.366Z"
      },
      {
        "duration": 7,
        "start_time": "2022-12-19T11:08:09.456Z"
      },
      {
        "duration": 63,
        "start_time": "2022-12-19T11:08:09.464Z"
      },
      {
        "duration": 308,
        "start_time": "2022-12-19T11:08:09.529Z"
      },
      {
        "duration": 26,
        "start_time": "2022-12-19T11:08:09.839Z"
      },
      {
        "duration": 28,
        "start_time": "2022-12-19T11:08:09.867Z"
      },
      {
        "duration": 20,
        "start_time": "2022-12-19T11:08:09.913Z"
      },
      {
        "duration": 404,
        "start_time": "2022-12-19T11:08:09.935Z"
      },
      {
        "duration": 31,
        "start_time": "2022-12-19T11:08:10.341Z"
      },
      {
        "duration": 41,
        "start_time": "2022-12-19T11:08:10.374Z"
      },
      {
        "duration": 6,
        "start_time": "2022-12-19T11:08:10.417Z"
      },
      {
        "duration": 11,
        "start_time": "2022-12-19T11:08:10.427Z"
      },
      {
        "duration": 24,
        "start_time": "2022-12-19T11:08:10.440Z"
      },
      {
        "duration": 798,
        "start_time": "2022-12-19T11:08:10.467Z"
      },
      {
        "duration": 888,
        "start_time": "2022-12-19T11:08:11.267Z"
      },
      {
        "duration": 765,
        "start_time": "2022-12-19T11:08:12.157Z"
      },
      {
        "duration": 888,
        "start_time": "2022-12-19T11:08:12.924Z"
      },
      {
        "duration": 408,
        "start_time": "2022-12-19T11:08:13.813Z"
      },
      {
        "duration": 537,
        "start_time": "2022-12-19T11:08:14.223Z"
      },
      {
        "duration": 450,
        "start_time": "2022-12-19T11:08:14.762Z"
      },
      {
        "duration": 5,
        "start_time": "2022-12-19T11:08:15.213Z"
      },
      {
        "duration": 9,
        "start_time": "2022-12-19T11:08:15.220Z"
      },
      {
        "duration": 7,
        "start_time": "2022-12-19T11:08:15.231Z"
      },
      {
        "duration": 607,
        "start_time": "2022-12-19T11:08:15.240Z"
      },
      {
        "duration": 16,
        "start_time": "2022-12-19T11:08:15.850Z"
      },
      {
        "duration": 20,
        "start_time": "2022-12-19T11:08:15.868Z"
      },
      {
        "duration": 29,
        "start_time": "2022-12-19T11:08:15.890Z"
      },
      {
        "duration": 12,
        "start_time": "2022-12-19T11:08:15.920Z"
      },
      {
        "duration": 23,
        "start_time": "2022-12-19T11:08:15.934Z"
      },
      {
        "duration": 4,
        "start_time": "2022-12-19T11:08:15.958Z"
      },
      {
        "duration": 7,
        "start_time": "2022-12-19T11:08:15.963Z"
      },
      {
        "duration": 40,
        "start_time": "2022-12-19T11:08:15.972Z"
      },
      {
        "duration": 10,
        "start_time": "2022-12-19T11:08:16.014Z"
      },
      {
        "duration": 51979,
        "start_time": "2022-12-19T11:08:16.026Z"
      },
      {
        "duration": 0,
        "start_time": "2022-12-19T11:09:08.007Z"
      },
      {
        "duration": 0,
        "start_time": "2022-12-19T11:09:08.012Z"
      },
      {
        "duration": 0,
        "start_time": "2022-12-19T11:09:08.013Z"
      },
      {
        "duration": 0,
        "start_time": "2022-12-19T11:09:08.015Z"
      },
      {
        "duration": 0,
        "start_time": "2022-12-19T11:09:08.016Z"
      },
      {
        "duration": 0,
        "start_time": "2022-12-19T11:09:08.017Z"
      },
      {
        "duration": 0,
        "start_time": "2022-12-19T11:09:08.018Z"
      },
      {
        "duration": 0,
        "start_time": "2022-12-19T11:09:08.020Z"
      },
      {
        "duration": 0,
        "start_time": "2022-12-19T11:09:08.020Z"
      },
      {
        "duration": 255724,
        "start_time": "2022-12-19T11:09:53.420Z"
      },
      {
        "duration": 1247,
        "start_time": "2022-12-19T12:35:01.274Z"
      },
      {
        "duration": 1399,
        "start_time": "2022-12-19T12:35:21.616Z"
      },
      {
        "duration": 4138,
        "start_time": "2022-12-19T12:35:38.186Z"
      },
      {
        "duration": 4378,
        "start_time": "2022-12-19T12:39:36.938Z"
      },
      {
        "duration": 4130,
        "start_time": "2022-12-19T12:41:03.685Z"
      },
      {
        "duration": 4803,
        "start_time": "2022-12-19T12:44:57.811Z"
      },
      {
        "duration": 3,
        "start_time": "2022-12-19T12:48:46.265Z"
      },
      {
        "duration": 5,
        "start_time": "2022-12-19T12:49:18.159Z"
      },
      {
        "duration": 4649,
        "start_time": "2022-12-19T12:49:48.164Z"
      },
      {
        "duration": 2518,
        "start_time": "2022-12-19T12:50:44.006Z"
      },
      {
        "duration": 2880,
        "start_time": "2022-12-19T12:51:34.634Z"
      },
      {
        "duration": 2798,
        "start_time": "2022-12-19T14:05:33.016Z"
      },
      {
        "duration": 3213,
        "start_time": "2022-12-19T14:07:03.109Z"
      },
      {
        "duration": 228,
        "start_time": "2022-12-19T14:07:12.295Z"
      },
      {
        "duration": 2861,
        "start_time": "2022-12-19T14:07:51.154Z"
      },
      {
        "duration": 2953,
        "start_time": "2022-12-19T14:08:36.459Z"
      },
      {
        "duration": 4,
        "start_time": "2022-12-19T14:08:45.884Z"
      },
      {
        "duration": 30962,
        "start_time": "2022-12-19T14:22:18.751Z"
      },
      {
        "duration": 1114519,
        "start_time": "2022-12-19T14:24:58.199Z"
      },
      {
        "duration": 1379,
        "start_time": "2022-12-19T18:55:59.368Z"
      },
      {
        "duration": 820,
        "start_time": "2022-12-19T18:56:00.749Z"
      },
      {
        "duration": 268,
        "start_time": "2022-12-19T18:56:01.570Z"
      },
      {
        "duration": 27,
        "start_time": "2022-12-19T18:56:01.840Z"
      },
      {
        "duration": 3,
        "start_time": "2022-12-19T18:56:01.868Z"
      },
      {
        "duration": 20,
        "start_time": "2022-12-19T18:56:01.874Z"
      },
      {
        "duration": 33,
        "start_time": "2022-12-19T18:56:01.896Z"
      },
      {
        "duration": 20,
        "start_time": "2022-12-19T18:56:01.931Z"
      },
      {
        "duration": 9,
        "start_time": "2022-12-19T18:56:01.953Z"
      },
      {
        "duration": 35,
        "start_time": "2022-12-19T18:56:01.965Z"
      },
      {
        "duration": 28,
        "start_time": "2022-12-19T18:56:02.002Z"
      },
      {
        "duration": 39,
        "start_time": "2022-12-19T18:56:02.032Z"
      },
      {
        "duration": 4,
        "start_time": "2022-12-19T18:56:02.072Z"
      },
      {
        "duration": 48,
        "start_time": "2022-12-19T18:56:02.077Z"
      },
      {
        "duration": 64,
        "start_time": "2022-12-19T18:56:02.127Z"
      },
      {
        "duration": 45,
        "start_time": "2022-12-19T18:56:02.193Z"
      },
      {
        "duration": 92,
        "start_time": "2022-12-19T18:56:02.240Z"
      },
      {
        "duration": 6,
        "start_time": "2022-12-19T18:56:02.334Z"
      },
      {
        "duration": 48,
        "start_time": "2022-12-19T18:56:02.342Z"
      },
      {
        "duration": 322,
        "start_time": "2022-12-19T18:56:02.392Z"
      },
      {
        "duration": 26,
        "start_time": "2022-12-19T18:56:02.724Z"
      },
      {
        "duration": 30,
        "start_time": "2022-12-19T18:56:02.752Z"
      },
      {
        "duration": 42,
        "start_time": "2022-12-19T18:56:02.783Z"
      },
      {
        "duration": 364,
        "start_time": "2022-12-19T18:56:02.828Z"
      },
      {
        "duration": 39,
        "start_time": "2022-12-19T18:56:03.194Z"
      },
      {
        "duration": 15,
        "start_time": "2022-12-19T18:56:03.235Z"
      },
      {
        "duration": 5,
        "start_time": "2022-12-19T18:56:03.251Z"
      },
      {
        "duration": 5,
        "start_time": "2022-12-19T18:56:03.260Z"
      },
      {
        "duration": 18,
        "start_time": "2022-12-19T18:56:03.267Z"
      },
      {
        "duration": 770,
        "start_time": "2022-12-19T18:56:03.287Z"
      },
      {
        "duration": 929,
        "start_time": "2022-12-19T18:56:04.060Z"
      },
      {
        "duration": 770,
        "start_time": "2022-12-19T18:56:04.991Z"
      },
      {
        "duration": 924,
        "start_time": "2022-12-19T18:56:05.764Z"
      },
      {
        "duration": 431,
        "start_time": "2022-12-19T18:56:06.691Z"
      },
      {
        "duration": 511,
        "start_time": "2022-12-19T18:56:07.125Z"
      },
      {
        "duration": 456,
        "start_time": "2022-12-19T18:56:07.638Z"
      },
      {
        "duration": 5,
        "start_time": "2022-12-19T18:56:08.096Z"
      },
      {
        "duration": 4,
        "start_time": "2022-12-19T18:56:08.118Z"
      },
      {
        "duration": 12,
        "start_time": "2022-12-19T18:56:08.124Z"
      },
      {
        "duration": 637,
        "start_time": "2022-12-19T18:56:08.137Z"
      },
      {
        "duration": 16,
        "start_time": "2022-12-19T18:56:08.776Z"
      },
      {
        "duration": 39,
        "start_time": "2022-12-19T18:56:08.794Z"
      },
      {
        "duration": 12,
        "start_time": "2022-12-19T18:56:08.835Z"
      },
      {
        "duration": 7,
        "start_time": "2022-12-19T18:56:08.849Z"
      },
      {
        "duration": 24,
        "start_time": "2022-12-19T18:56:08.857Z"
      },
      {
        "duration": 3,
        "start_time": "2022-12-19T18:56:08.883Z"
      },
      {
        "duration": 38,
        "start_time": "2022-12-19T18:56:08.888Z"
      },
      {
        "duration": 10,
        "start_time": "2022-12-19T18:56:08.928Z"
      },
      {
        "duration": 19,
        "start_time": "2022-12-19T18:56:08.939Z"
      },
      {
        "duration": 1425,
        "start_time": "2022-12-19T18:57:10.207Z"
      },
      {
        "duration": 809,
        "start_time": "2022-12-19T18:57:11.634Z"
      },
      {
        "duration": 245,
        "start_time": "2022-12-19T18:57:12.445Z"
      },
      {
        "duration": 38,
        "start_time": "2022-12-19T18:57:12.693Z"
      },
      {
        "duration": 3,
        "start_time": "2022-12-19T18:57:12.734Z"
      },
      {
        "duration": 20,
        "start_time": "2022-12-19T18:57:12.738Z"
      },
      {
        "duration": 13,
        "start_time": "2022-12-19T18:57:12.760Z"
      },
      {
        "duration": 17,
        "start_time": "2022-12-19T18:57:12.775Z"
      },
      {
        "duration": 8,
        "start_time": "2022-12-19T18:57:12.794Z"
      },
      {
        "duration": 42,
        "start_time": "2022-12-19T18:57:12.804Z"
      },
      {
        "duration": 18,
        "start_time": "2022-12-19T18:57:12.848Z"
      },
      {
        "duration": 29,
        "start_time": "2022-12-19T18:57:12.868Z"
      },
      {
        "duration": 8,
        "start_time": "2022-12-19T18:57:12.912Z"
      },
      {
        "duration": 35,
        "start_time": "2022-12-19T18:57:12.921Z"
      },
      {
        "duration": 66,
        "start_time": "2022-12-19T18:57:12.958Z"
      },
      {
        "duration": 28,
        "start_time": "2022-12-19T18:57:13.026Z"
      },
      {
        "duration": 93,
        "start_time": "2022-12-19T18:57:13.055Z"
      },
      {
        "duration": 5,
        "start_time": "2022-12-19T18:57:13.151Z"
      },
      {
        "duration": 66,
        "start_time": "2022-12-19T18:57:13.158Z"
      },
      {
        "duration": 299,
        "start_time": "2022-12-19T18:57:13.228Z"
      },
      {
        "duration": 25,
        "start_time": "2022-12-19T18:57:13.528Z"
      },
      {
        "duration": 24,
        "start_time": "2022-12-19T18:57:13.555Z"
      },
      {
        "duration": 48,
        "start_time": "2022-12-19T18:57:13.581Z"
      },
      {
        "duration": 355,
        "start_time": "2022-12-19T18:57:13.631Z"
      },
      {
        "duration": 45,
        "start_time": "2022-12-19T18:57:13.988Z"
      },
      {
        "duration": 16,
        "start_time": "2022-12-19T18:57:14.035Z"
      },
      {
        "duration": 5,
        "start_time": "2022-12-19T18:57:14.052Z"
      },
      {
        "duration": 13,
        "start_time": "2022-12-19T18:57:14.060Z"
      },
      {
        "duration": 22,
        "start_time": "2022-12-19T18:57:14.074Z"
      },
      {
        "duration": 752,
        "start_time": "2022-12-19T18:57:14.097Z"
      },
      {
        "duration": 844,
        "start_time": "2022-12-19T18:57:14.851Z"
      },
      {
        "duration": 753,
        "start_time": "2022-12-19T18:57:15.697Z"
      },
      {
        "duration": 931,
        "start_time": "2022-12-19T18:57:16.451Z"
      },
      {
        "duration": 424,
        "start_time": "2022-12-19T18:57:17.384Z"
      },
      {
        "duration": 479,
        "start_time": "2022-12-19T18:57:17.813Z"
      },
      {
        "duration": 407,
        "start_time": "2022-12-19T18:57:18.294Z"
      },
      {
        "duration": 16,
        "start_time": "2022-12-19T18:57:18.704Z"
      },
      {
        "duration": 6,
        "start_time": "2022-12-19T18:57:18.727Z"
      },
      {
        "duration": 6,
        "start_time": "2022-12-19T18:57:18.734Z"
      },
      {
        "duration": 592,
        "start_time": "2022-12-19T18:57:18.742Z"
      },
      {
        "duration": 17,
        "start_time": "2022-12-19T18:57:19.336Z"
      },
      {
        "duration": 17,
        "start_time": "2022-12-19T18:57:19.356Z"
      },
      {
        "duration": 19,
        "start_time": "2022-12-19T18:57:19.375Z"
      },
      {
        "duration": 10,
        "start_time": "2022-12-19T18:57:19.412Z"
      },
      {
        "duration": 29,
        "start_time": "2022-12-19T18:57:19.423Z"
      },
      {
        "duration": 4,
        "start_time": "2022-12-19T18:57:19.454Z"
      },
      {
        "duration": 15,
        "start_time": "2022-12-19T18:57:19.459Z"
      },
      {
        "duration": 11,
        "start_time": "2022-12-19T18:57:19.476Z"
      },
      {
        "duration": 18,
        "start_time": "2022-12-19T18:57:19.488Z"
      },
      {
        "duration": 3707,
        "start_time": "2022-12-19T19:01:45.316Z"
      },
      {
        "duration": 88,
        "start_time": "2022-12-19T19:01:49.030Z"
      },
      {
        "duration": 137,
        "start_time": "2022-12-19T19:01:49.126Z"
      },
      {
        "duration": 1,
        "start_time": "2022-12-19T19:01:49.265Z"
      },
      {
        "duration": 0,
        "start_time": "2022-12-19T19:01:49.267Z"
      },
      {
        "duration": 0,
        "start_time": "2022-12-19T19:01:49.268Z"
      },
      {
        "duration": 0,
        "start_time": "2022-12-19T19:01:49.269Z"
      },
      {
        "duration": 0,
        "start_time": "2022-12-19T19:01:49.272Z"
      },
      {
        "duration": 4826,
        "start_time": "2022-12-19T19:02:13.298Z"
      },
      {
        "duration": 1435,
        "start_time": "2022-12-19T19:02:31.983Z"
      },
      {
        "duration": 771,
        "start_time": "2022-12-19T19:02:33.420Z"
      },
      {
        "duration": 248,
        "start_time": "2022-12-19T19:02:34.192Z"
      },
      {
        "duration": 29,
        "start_time": "2022-12-19T19:02:34.442Z"
      },
      {
        "duration": 3,
        "start_time": "2022-12-19T19:02:34.472Z"
      },
      {
        "duration": 13,
        "start_time": "2022-12-19T19:02:34.477Z"
      },
      {
        "duration": 25,
        "start_time": "2022-12-19T19:02:34.492Z"
      },
      {
        "duration": 13,
        "start_time": "2022-12-19T19:02:34.519Z"
      },
      {
        "duration": 8,
        "start_time": "2022-12-19T19:02:34.533Z"
      },
      {
        "duration": 23,
        "start_time": "2022-12-19T19:02:34.544Z"
      },
      {
        "duration": 47,
        "start_time": "2022-12-19T19:02:34.569Z"
      },
      {
        "duration": 31,
        "start_time": "2022-12-19T19:02:34.618Z"
      },
      {
        "duration": 4,
        "start_time": "2022-12-19T19:02:34.651Z"
      },
      {
        "duration": 27,
        "start_time": "2022-12-19T19:02:34.656Z"
      },
      {
        "duration": 73,
        "start_time": "2022-12-19T19:02:34.685Z"
      },
      {
        "duration": 26,
        "start_time": "2022-12-19T19:02:34.760Z"
      },
      {
        "duration": 86,
        "start_time": "2022-12-19T19:02:34.787Z"
      },
      {
        "duration": 6,
        "start_time": "2022-12-19T19:02:34.875Z"
      },
      {
        "duration": 69,
        "start_time": "2022-12-19T19:02:34.882Z"
      },
      {
        "duration": 287,
        "start_time": "2022-12-19T19:02:34.954Z"
      },
      {
        "duration": 25,
        "start_time": "2022-12-19T19:02:35.244Z"
      },
      {
        "duration": 43,
        "start_time": "2022-12-19T19:02:35.271Z"
      },
      {
        "duration": 19,
        "start_time": "2022-12-19T19:02:35.316Z"
      },
      {
        "duration": 371,
        "start_time": "2022-12-19T19:02:35.337Z"
      },
      {
        "duration": 28,
        "start_time": "2022-12-19T19:02:35.712Z"
      },
      {
        "duration": 22,
        "start_time": "2022-12-19T19:02:35.742Z"
      },
      {
        "duration": 6,
        "start_time": "2022-12-19T19:02:35.765Z"
      },
      {
        "duration": 8,
        "start_time": "2022-12-19T19:02:35.775Z"
      },
      {
        "duration": 16,
        "start_time": "2022-12-19T19:02:35.813Z"
      },
      {
        "duration": 790,
        "start_time": "2022-12-19T19:02:35.831Z"
      },
      {
        "duration": 777,
        "start_time": "2022-12-19T19:02:36.623Z"
      },
      {
        "duration": 703,
        "start_time": "2022-12-19T19:02:37.402Z"
      },
      {
        "duration": 862,
        "start_time": "2022-12-19T19:02:38.112Z"
      },
      {
        "duration": 442,
        "start_time": "2022-12-19T19:02:38.976Z"
      },
      {
        "duration": 507,
        "start_time": "2022-12-19T19:02:39.420Z"
      },
      {
        "duration": 468,
        "start_time": "2022-12-19T19:02:39.929Z"
      },
      {
        "duration": 14,
        "start_time": "2022-12-19T19:02:40.398Z"
      },
      {
        "duration": 5,
        "start_time": "2022-12-19T19:02:40.414Z"
      },
      {
        "duration": 16,
        "start_time": "2022-12-19T19:02:40.421Z"
      },
      {
        "duration": 617,
        "start_time": "2022-12-19T19:02:40.438Z"
      },
      {
        "duration": 18,
        "start_time": "2022-12-19T19:02:41.058Z"
      },
      {
        "duration": 37,
        "start_time": "2022-12-19T19:02:41.078Z"
      },
      {
        "duration": 7,
        "start_time": "2022-12-19T19:02:41.118Z"
      },
      {
        "duration": 34,
        "start_time": "2022-12-19T19:02:41.127Z"
      },
      {
        "duration": 34,
        "start_time": "2022-12-19T19:02:41.163Z"
      },
      {
        "duration": 14,
        "start_time": "2022-12-19T19:02:41.199Z"
      },
      {
        "duration": 26,
        "start_time": "2022-12-19T19:02:41.215Z"
      },
      {
        "duration": 16,
        "start_time": "2022-12-19T19:02:41.242Z"
      },
      {
        "duration": 26,
        "start_time": "2022-12-19T19:02:41.260Z"
      },
      {
        "duration": 258504,
        "start_time": "2022-12-19T19:02:41.288Z"
      },
      {
        "duration": 8029,
        "start_time": "2022-12-19T19:06:59.794Z"
      },
      {
        "duration": 9518,
        "start_time": "2022-12-19T19:07:07.913Z"
      },
      {
        "duration": 5,
        "start_time": "2022-12-19T19:07:17.432Z"
      },
      {
        "duration": 208,
        "start_time": "2022-12-19T19:07:17.515Z"
      },
      {
        "duration": 0,
        "start_time": "2022-12-19T19:07:17.726Z"
      },
      {
        "duration": 0,
        "start_time": "2022-12-19T19:07:17.727Z"
      },
      {
        "duration": 0,
        "start_time": "2022-12-19T19:07:17.728Z"
      },
      {
        "duration": 1396,
        "start_time": "2022-12-19T19:15:11.019Z"
      },
      {
        "duration": 762,
        "start_time": "2022-12-19T19:15:12.417Z"
      },
      {
        "duration": 248,
        "start_time": "2022-12-19T19:15:13.181Z"
      },
      {
        "duration": 26,
        "start_time": "2022-12-19T19:15:13.432Z"
      },
      {
        "duration": 3,
        "start_time": "2022-12-19T19:15:13.460Z"
      },
      {
        "duration": 11,
        "start_time": "2022-12-19T19:15:13.465Z"
      },
      {
        "duration": 37,
        "start_time": "2022-12-19T19:15:13.478Z"
      },
      {
        "duration": 10,
        "start_time": "2022-12-19T19:15:13.517Z"
      },
      {
        "duration": 17,
        "start_time": "2022-12-19T19:15:13.528Z"
      },
      {
        "duration": 25,
        "start_time": "2022-12-19T19:15:13.549Z"
      },
      {
        "duration": 40,
        "start_time": "2022-12-19T19:15:13.575Z"
      },
      {
        "duration": 30,
        "start_time": "2022-12-19T19:15:13.617Z"
      },
      {
        "duration": 4,
        "start_time": "2022-12-19T19:15:13.649Z"
      },
      {
        "duration": 27,
        "start_time": "2022-12-19T19:15:13.655Z"
      },
      {
        "duration": 79,
        "start_time": "2022-12-19T19:15:13.684Z"
      },
      {
        "duration": 26,
        "start_time": "2022-12-19T19:15:13.764Z"
      },
      {
        "duration": 82,
        "start_time": "2022-12-19T19:15:13.792Z"
      },
      {
        "duration": 5,
        "start_time": "2022-12-19T19:15:13.876Z"
      },
      {
        "duration": 63,
        "start_time": "2022-12-19T19:15:13.883Z"
      },
      {
        "duration": 287,
        "start_time": "2022-12-19T19:15:13.947Z"
      },
      {
        "duration": 25,
        "start_time": "2022-12-19T19:15:14.235Z"
      },
      {
        "duration": 23,
        "start_time": "2022-12-19T19:15:14.261Z"
      },
      {
        "duration": 42,
        "start_time": "2022-12-19T19:15:14.287Z"
      },
      {
        "duration": 329,
        "start_time": "2022-12-19T19:15:14.331Z"
      },
      {
        "duration": 26,
        "start_time": "2022-12-19T19:15:14.663Z"
      },
      {
        "duration": 29,
        "start_time": "2022-12-19T19:15:14.691Z"
      },
      {
        "duration": 6,
        "start_time": "2022-12-19T19:15:14.722Z"
      },
      {
        "duration": 6,
        "start_time": "2022-12-19T19:15:14.731Z"
      },
      {
        "duration": 18,
        "start_time": "2022-12-19T19:15:14.738Z"
      },
      {
        "duration": 739,
        "start_time": "2022-12-19T19:15:14.758Z"
      },
      {
        "duration": 816,
        "start_time": "2022-12-19T19:15:15.499Z"
      },
      {
        "duration": 762,
        "start_time": "2022-12-19T19:15:16.316Z"
      },
      {
        "duration": 845,
        "start_time": "2022-12-19T19:15:17.080Z"
      },
      {
        "duration": 379,
        "start_time": "2022-12-19T19:15:17.927Z"
      },
      {
        "duration": 474,
        "start_time": "2022-12-19T19:15:18.312Z"
      },
      {
        "duration": 419,
        "start_time": "2022-12-19T19:15:18.787Z"
      },
      {
        "duration": 5,
        "start_time": "2022-12-19T19:15:19.211Z"
      },
      {
        "duration": 12,
        "start_time": "2022-12-19T19:15:19.217Z"
      },
      {
        "duration": 8,
        "start_time": "2022-12-19T19:15:19.230Z"
      },
      {
        "duration": 611,
        "start_time": "2022-12-19T19:15:19.240Z"
      },
      {
        "duration": 17,
        "start_time": "2022-12-19T19:15:19.853Z"
      },
      {
        "duration": 41,
        "start_time": "2022-12-19T19:15:19.872Z"
      },
      {
        "duration": 6,
        "start_time": "2022-12-19T19:15:19.916Z"
      },
      {
        "duration": 11,
        "start_time": "2022-12-19T19:15:19.926Z"
      },
      {
        "duration": 19,
        "start_time": "2022-12-19T19:15:19.938Z"
      },
      {
        "duration": 3,
        "start_time": "2022-12-19T19:15:19.959Z"
      },
      {
        "duration": 8,
        "start_time": "2022-12-19T19:15:19.963Z"
      },
      {
        "duration": 39,
        "start_time": "2022-12-19T19:15:19.973Z"
      },
      {
        "duration": 10,
        "start_time": "2022-12-19T19:15:20.014Z"
      },
      {
        "duration": 254439,
        "start_time": "2022-12-19T19:15:20.026Z"
      },
      {
        "duration": 5093,
        "start_time": "2022-12-19T19:19:39.829Z"
      },
      {
        "duration": 13,
        "start_time": "2022-12-19T19:19:44.934Z"
      },
      {
        "duration": 1557,
        "start_time": "2022-12-20T05:59:06.973Z"
      },
      {
        "duration": 4836,
        "start_time": "2022-12-20T05:59:14.590Z"
      },
      {
        "duration": 265,
        "start_time": "2022-12-20T05:59:24.061Z"
      },
      {
        "duration": 26,
        "start_time": "2022-12-20T05:59:27.773Z"
      },
      {
        "duration": 5,
        "start_time": "2022-12-20T05:59:31.598Z"
      },
      {
        "duration": 12,
        "start_time": "2022-12-20T05:59:34.411Z"
      },
      {
        "duration": 8,
        "start_time": "2022-12-20T05:59:38.708Z"
      },
      {
        "duration": 14,
        "start_time": "2022-12-20T05:59:43.612Z"
      },
      {
        "duration": 9,
        "start_time": "2022-12-20T05:59:49.598Z"
      },
      {
        "duration": 38,
        "start_time": "2022-12-20T05:59:56.686Z"
      },
      {
        "duration": 21,
        "start_time": "2022-12-20T06:00:03.278Z"
      },
      {
        "duration": 37,
        "start_time": "2022-12-20T06:00:09.612Z"
      },
      {
        "duration": 4,
        "start_time": "2022-12-20T06:00:15.833Z"
      },
      {
        "duration": 27,
        "start_time": "2022-12-20T06:00:19.265Z"
      },
      {
        "duration": 62,
        "start_time": "2022-12-20T06:00:28.466Z"
      },
      {
        "duration": 34,
        "start_time": "2022-12-20T06:00:35.326Z"
      },
      {
        "duration": 65,
        "start_time": "2022-12-20T06:00:41.337Z"
      },
      {
        "duration": 7,
        "start_time": "2022-12-20T06:01:00.643Z"
      },
      {
        "duration": 56,
        "start_time": "2022-12-20T06:01:15.179Z"
      },
      {
        "duration": 300,
        "start_time": "2022-12-20T06:01:23.333Z"
      },
      {
        "duration": 27,
        "start_time": "2022-12-20T06:01:30.455Z"
      },
      {
        "duration": 34,
        "start_time": "2022-12-20T06:01:34.329Z"
      },
      {
        "duration": 21,
        "start_time": "2022-12-20T06:01:38.341Z"
      },
      {
        "duration": 26,
        "start_time": "2022-12-20T06:02:04.947Z"
      },
      {
        "duration": 16,
        "start_time": "2022-12-20T06:02:08.392Z"
      },
      {
        "duration": 6,
        "start_time": "2022-12-20T06:02:22.532Z"
      },
      {
        "duration": 7,
        "start_time": "2022-12-20T06:02:25.164Z"
      },
      {
        "duration": 94,
        "start_time": "2022-12-20T06:02:28.542Z"
      },
      {
        "duration": 767,
        "start_time": "2022-12-20T06:02:38.676Z"
      },
      {
        "duration": 752,
        "start_time": "2022-12-20T06:02:43.998Z"
      },
      {
        "duration": 889,
        "start_time": "2022-12-20T06:05:57.543Z"
      },
      {
        "duration": 520,
        "start_time": "2022-12-20T06:06:02.526Z"
      },
      {
        "duration": 556,
        "start_time": "2022-12-20T06:06:08.480Z"
      },
      {
        "duration": 520,
        "start_time": "2022-12-20T06:06:13.193Z"
      },
      {
        "duration": 17,
        "start_time": "2022-12-20T06:06:23.508Z"
      },
      {
        "duration": 5,
        "start_time": "2022-12-20T06:06:26.896Z"
      },
      {
        "duration": 5,
        "start_time": "2022-12-20T06:06:29.887Z"
      },
      {
        "duration": 776,
        "start_time": "2022-12-20T06:06:34.163Z"
      },
      {
        "duration": 17,
        "start_time": "2022-12-20T06:06:43.928Z"
      },
      {
        "duration": 17,
        "start_time": "2022-12-20T06:06:55.888Z"
      },
      {
        "duration": 7,
        "start_time": "2022-12-20T06:07:05.675Z"
      },
      {
        "duration": 9,
        "start_time": "2022-12-20T06:07:10.286Z"
      },
      {
        "duration": 20,
        "start_time": "2022-12-20T06:07:17.284Z"
      },
      {
        "duration": 4,
        "start_time": "2022-12-20T06:07:37.704Z"
      },
      {
        "duration": 3,
        "start_time": "2022-12-20T06:07:40.393Z"
      },
      {
        "duration": 9,
        "start_time": "2022-12-20T06:07:45.331Z"
      },
      {
        "duration": 17,
        "start_time": "2022-12-20T06:07:47.908Z"
      },
      {
        "duration": 265084,
        "start_time": "2022-12-20T06:07:54.984Z"
      },
      {
        "duration": 8,
        "start_time": "2022-12-20T06:12:24.039Z"
      },
      {
        "duration": 2532,
        "start_time": "2022-12-20T06:12:45.686Z"
      },
      {
        "duration": 4297,
        "start_time": "2022-12-20T06:12:56.337Z"
      },
      {
        "duration": 4,
        "start_time": "2022-12-20T06:13:07.872Z"
      },
      {
        "duration": 1607,
        "start_time": "2022-12-20T08:25:35.639Z"
      },
      {
        "duration": 841,
        "start_time": "2022-12-20T08:25:37.249Z"
      },
      {
        "duration": 288,
        "start_time": "2022-12-20T08:25:38.092Z"
      },
      {
        "duration": 41,
        "start_time": "2022-12-20T08:25:38.381Z"
      },
      {
        "duration": 5,
        "start_time": "2022-12-20T08:25:38.428Z"
      },
      {
        "duration": 20,
        "start_time": "2022-12-20T08:25:38.436Z"
      },
      {
        "duration": 7,
        "start_time": "2022-12-20T08:25:38.458Z"
      },
      {
        "duration": 11,
        "start_time": "2022-12-20T08:25:38.467Z"
      },
      {
        "duration": 9,
        "start_time": "2022-12-20T08:25:38.480Z"
      },
      {
        "duration": 43,
        "start_time": "2022-12-20T08:25:38.491Z"
      },
      {
        "duration": 26,
        "start_time": "2022-12-20T08:25:38.535Z"
      },
      {
        "duration": 61,
        "start_time": "2022-12-20T08:25:38.563Z"
      },
      {
        "duration": 8,
        "start_time": "2022-12-20T08:25:38.626Z"
      },
      {
        "duration": 65,
        "start_time": "2022-12-20T08:25:38.640Z"
      },
      {
        "duration": 69,
        "start_time": "2022-12-20T08:25:38.707Z"
      },
      {
        "duration": 38,
        "start_time": "2022-12-20T08:25:38.778Z"
      },
      {
        "duration": 68,
        "start_time": "2022-12-20T08:25:38.826Z"
      },
      {
        "duration": 6,
        "start_time": "2022-12-20T08:25:38.896Z"
      },
      {
        "duration": 49,
        "start_time": "2022-12-20T08:25:38.912Z"
      },
      {
        "duration": 312,
        "start_time": "2022-12-20T08:25:38.963Z"
      },
      {
        "duration": 50,
        "start_time": "2022-12-20T08:25:39.276Z"
      },
      {
        "duration": 31,
        "start_time": "2022-12-20T08:25:39.328Z"
      },
      {
        "duration": 22,
        "start_time": "2022-12-20T08:25:39.361Z"
      },
      {
        "duration": 420,
        "start_time": "2022-12-20T08:25:39.385Z"
      },
      {
        "duration": 39,
        "start_time": "2022-12-20T08:25:39.812Z"
      },
      {
        "duration": 25,
        "start_time": "2022-12-20T08:25:39.854Z"
      },
      {
        "duration": 7,
        "start_time": "2022-12-20T08:25:39.881Z"
      },
      {
        "duration": 27,
        "start_time": "2022-12-20T08:25:39.890Z"
      },
      {
        "duration": 22,
        "start_time": "2022-12-20T08:25:39.919Z"
      },
      {
        "duration": 830,
        "start_time": "2022-12-20T08:25:39.943Z"
      },
      {
        "duration": 926,
        "start_time": "2022-12-20T08:25:40.775Z"
      },
      {
        "duration": 852,
        "start_time": "2022-12-20T08:25:41.702Z"
      },
      {
        "duration": 947,
        "start_time": "2022-12-20T08:25:42.555Z"
      },
      {
        "duration": 439,
        "start_time": "2022-12-20T08:25:43.504Z"
      },
      {
        "duration": 584,
        "start_time": "2022-12-20T08:25:43.945Z"
      },
      {
        "duration": 526,
        "start_time": "2022-12-20T08:25:44.532Z"
      },
      {
        "duration": 5,
        "start_time": "2022-12-20T08:25:45.060Z"
      },
      {
        "duration": 20,
        "start_time": "2022-12-20T08:25:45.067Z"
      },
      {
        "duration": 12,
        "start_time": "2022-12-20T08:25:45.089Z"
      },
      {
        "duration": 677,
        "start_time": "2022-12-20T08:25:45.103Z"
      },
      {
        "duration": 17,
        "start_time": "2022-12-20T08:25:45.784Z"
      },
      {
        "duration": 23,
        "start_time": "2022-12-20T08:25:45.819Z"
      },
      {
        "duration": 8,
        "start_time": "2022-12-20T08:25:45.847Z"
      },
      {
        "duration": 9,
        "start_time": "2022-12-20T08:25:45.857Z"
      },
      {
        "duration": 46,
        "start_time": "2022-12-20T08:25:45.868Z"
      },
      {
        "duration": 4,
        "start_time": "2022-12-20T08:25:45.916Z"
      },
      {
        "duration": 27,
        "start_time": "2022-12-20T08:25:45.921Z"
      },
      {
        "duration": 11,
        "start_time": "2022-12-20T08:25:45.950Z"
      },
      {
        "duration": 17,
        "start_time": "2022-12-20T08:25:45.962Z"
      },
      {
        "duration": 1548,
        "start_time": "2022-12-20T08:30:12.695Z"
      },
      {
        "duration": 812,
        "start_time": "2022-12-20T08:30:14.245Z"
      },
      {
        "duration": 271,
        "start_time": "2022-12-20T08:30:15.059Z"
      },
      {
        "duration": 27,
        "start_time": "2022-12-20T08:30:15.332Z"
      },
      {
        "duration": 5,
        "start_time": "2022-12-20T08:30:15.361Z"
      },
      {
        "duration": 20,
        "start_time": "2022-12-20T08:30:15.368Z"
      },
      {
        "duration": 26,
        "start_time": "2022-12-20T08:30:15.390Z"
      },
      {
        "duration": 40,
        "start_time": "2022-12-20T08:30:15.422Z"
      },
      {
        "duration": 13,
        "start_time": "2022-12-20T08:30:15.464Z"
      },
      {
        "duration": 32,
        "start_time": "2022-12-20T08:30:15.481Z"
      },
      {
        "duration": 24,
        "start_time": "2022-12-20T08:30:15.515Z"
      },
      {
        "duration": 36,
        "start_time": "2022-12-20T08:30:15.540Z"
      },
      {
        "duration": 3,
        "start_time": "2022-12-20T08:30:15.578Z"
      },
      {
        "duration": 178,
        "start_time": "2022-12-20T08:30:15.583Z"
      },
      {
        "duration": 145,
        "start_time": "2022-12-20T08:30:15.762Z"
      },
      {
        "duration": 72,
        "start_time": "2022-12-20T08:30:15.909Z"
      },
      {
        "duration": 76,
        "start_time": "2022-12-20T08:30:15.983Z"
      },
      {
        "duration": 6,
        "start_time": "2022-12-20T08:30:16.061Z"
      },
      {
        "duration": 77,
        "start_time": "2022-12-20T08:30:16.068Z"
      },
      {
        "duration": 320,
        "start_time": "2022-12-20T08:30:16.147Z"
      },
      {
        "duration": 25,
        "start_time": "2022-12-20T08:30:16.469Z"
      },
      {
        "duration": 55,
        "start_time": "2022-12-20T08:30:16.495Z"
      },
      {
        "duration": 34,
        "start_time": "2022-12-20T08:30:16.554Z"
      },
      {
        "duration": 555,
        "start_time": "2022-12-20T08:30:16.590Z"
      },
      {
        "duration": 28,
        "start_time": "2022-12-20T08:30:17.147Z"
      },
      {
        "duration": 40,
        "start_time": "2022-12-20T08:30:17.177Z"
      },
      {
        "duration": 7,
        "start_time": "2022-12-20T08:30:17.218Z"
      },
      {
        "duration": 15,
        "start_time": "2022-12-20T08:30:17.231Z"
      },
      {
        "duration": 26,
        "start_time": "2022-12-20T08:30:17.248Z"
      },
      {
        "duration": 810,
        "start_time": "2022-12-20T08:30:17.275Z"
      },
      {
        "duration": 887,
        "start_time": "2022-12-20T08:30:18.087Z"
      },
      {
        "duration": 825,
        "start_time": "2022-12-20T08:30:18.977Z"
      },
      {
        "duration": 925,
        "start_time": "2022-12-20T08:30:19.803Z"
      },
      {
        "duration": 385,
        "start_time": "2022-12-20T08:30:20.730Z"
      },
      {
        "duration": 520,
        "start_time": "2022-12-20T08:30:21.122Z"
      },
      {
        "duration": 455,
        "start_time": "2022-12-20T08:30:21.644Z"
      },
      {
        "duration": 17,
        "start_time": "2022-12-20T08:30:22.101Z"
      },
      {
        "duration": 52,
        "start_time": "2022-12-20T08:30:22.122Z"
      },
      {
        "duration": 63,
        "start_time": "2022-12-20T08:30:22.177Z"
      },
      {
        "duration": 665,
        "start_time": "2022-12-20T08:30:22.243Z"
      },
      {
        "duration": 23,
        "start_time": "2022-12-20T08:30:22.910Z"
      },
      {
        "duration": 43,
        "start_time": "2022-12-20T08:30:22.935Z"
      },
      {
        "duration": 12,
        "start_time": "2022-12-20T08:30:22.980Z"
      },
      {
        "duration": 38,
        "start_time": "2022-12-20T08:30:22.993Z"
      },
      {
        "duration": 28,
        "start_time": "2022-12-20T08:30:23.033Z"
      },
      {
        "duration": 21,
        "start_time": "2022-12-20T08:30:23.063Z"
      },
      {
        "duration": 24,
        "start_time": "2022-12-20T08:30:23.086Z"
      },
      {
        "duration": 40,
        "start_time": "2022-12-20T08:30:23.112Z"
      },
      {
        "duration": 33,
        "start_time": "2022-12-20T08:30:23.153Z"
      },
      {
        "duration": 1553,
        "start_time": "2022-12-20T08:34:10.495Z"
      },
      {
        "duration": 836,
        "start_time": "2022-12-20T08:34:12.050Z"
      },
      {
        "duration": 283,
        "start_time": "2022-12-20T08:34:12.888Z"
      },
      {
        "duration": 25,
        "start_time": "2022-12-20T08:34:13.173Z"
      },
      {
        "duration": 13,
        "start_time": "2022-12-20T08:34:13.199Z"
      },
      {
        "duration": 10,
        "start_time": "2022-12-20T08:34:13.214Z"
      },
      {
        "duration": 33,
        "start_time": "2022-12-20T08:34:13.227Z"
      },
      {
        "duration": 10,
        "start_time": "2022-12-20T08:34:13.262Z"
      },
      {
        "duration": 9,
        "start_time": "2022-12-20T08:34:13.273Z"
      },
      {
        "duration": 48,
        "start_time": "2022-12-20T08:34:13.285Z"
      },
      {
        "duration": 29,
        "start_time": "2022-12-20T08:34:13.335Z"
      },
      {
        "duration": 58,
        "start_time": "2022-12-20T08:34:13.366Z"
      },
      {
        "duration": 4,
        "start_time": "2022-12-20T08:34:13.427Z"
      },
      {
        "duration": 46,
        "start_time": "2022-12-20T08:34:13.433Z"
      },
      {
        "duration": 76,
        "start_time": "2022-12-20T08:34:13.481Z"
      },
      {
        "duration": 43,
        "start_time": "2022-12-20T08:34:13.559Z"
      },
      {
        "duration": 85,
        "start_time": "2022-12-20T08:34:13.616Z"
      },
      {
        "duration": 6,
        "start_time": "2022-12-20T08:34:13.703Z"
      },
      {
        "duration": 85,
        "start_time": "2022-12-20T08:34:13.712Z"
      },
      {
        "duration": 309,
        "start_time": "2022-12-20T08:34:13.799Z"
      },
      {
        "duration": 33,
        "start_time": "2022-12-20T08:34:14.110Z"
      },
      {
        "duration": 30,
        "start_time": "2022-12-20T08:34:14.145Z"
      },
      {
        "duration": 42,
        "start_time": "2022-12-20T08:34:14.177Z"
      },
      {
        "duration": 385,
        "start_time": "2022-12-20T08:34:14.227Z"
      },
      {
        "duration": 33,
        "start_time": "2022-12-20T08:34:14.613Z"
      },
      {
        "duration": 17,
        "start_time": "2022-12-20T08:34:14.648Z"
      },
      {
        "duration": 5,
        "start_time": "2022-12-20T08:34:14.667Z"
      },
      {
        "duration": 42,
        "start_time": "2022-12-20T08:34:14.676Z"
      },
      {
        "duration": 19,
        "start_time": "2022-12-20T08:34:14.721Z"
      },
      {
        "duration": 805,
        "start_time": "2022-12-20T08:34:14.742Z"
      },
      {
        "duration": 920,
        "start_time": "2022-12-20T08:34:15.549Z"
      },
      {
        "duration": 908,
        "start_time": "2022-12-20T08:34:16.471Z"
      },
      {
        "duration": 951,
        "start_time": "2022-12-20T08:34:17.382Z"
      },
      {
        "duration": 459,
        "start_time": "2022-12-20T08:34:18.336Z"
      },
      {
        "duration": 564,
        "start_time": "2022-12-20T08:34:18.796Z"
      },
      {
        "duration": 539,
        "start_time": "2022-12-20T08:34:19.363Z"
      },
      {
        "duration": 5,
        "start_time": "2022-12-20T08:34:19.904Z"
      },
      {
        "duration": 37,
        "start_time": "2022-12-20T08:34:19.911Z"
      },
      {
        "duration": 6,
        "start_time": "2022-12-20T08:34:19.950Z"
      },
      {
        "duration": 688,
        "start_time": "2022-12-20T08:34:19.958Z"
      },
      {
        "duration": 18,
        "start_time": "2022-12-20T08:34:20.649Z"
      },
      {
        "duration": 17,
        "start_time": "2022-12-20T08:34:20.669Z"
      },
      {
        "duration": 35,
        "start_time": "2022-12-20T08:34:20.688Z"
      },
      {
        "duration": 34,
        "start_time": "2022-12-20T08:34:20.725Z"
      },
      {
        "duration": 33,
        "start_time": "2022-12-20T08:34:20.761Z"
      },
      {
        "duration": 4,
        "start_time": "2022-12-20T08:34:20.797Z"
      },
      {
        "duration": 5,
        "start_time": "2022-12-20T08:34:20.803Z"
      },
      {
        "duration": 46,
        "start_time": "2022-12-20T08:34:20.810Z"
      },
      {
        "duration": 15,
        "start_time": "2022-12-20T08:34:20.858Z"
      },
      {
        "duration": 135,
        "start_time": "2022-12-20T08:34:20.875Z"
      },
      {
        "duration": 0,
        "start_time": "2022-12-20T08:34:21.015Z"
      },
      {
        "duration": 0,
        "start_time": "2022-12-20T08:34:21.017Z"
      },
      {
        "duration": 0,
        "start_time": "2022-12-20T08:34:21.026Z"
      },
      {
        "duration": 0,
        "start_time": "2022-12-20T08:34:21.031Z"
      },
      {
        "duration": 0,
        "start_time": "2022-12-20T08:34:21.036Z"
      },
      {
        "duration": 0,
        "start_time": "2022-12-20T08:34:21.037Z"
      },
      {
        "duration": 281040,
        "start_time": "2022-12-20T08:35:07.665Z"
      },
      {
        "duration": 2659,
        "start_time": "2022-12-20T08:41:57.967Z"
      },
      {
        "duration": 3987,
        "start_time": "2022-12-20T08:42:06.334Z"
      },
      {
        "duration": 6,
        "start_time": "2022-12-20T08:42:19.446Z"
      },
      {
        "duration": 139,
        "start_time": "2022-12-20T15:31:04.408Z"
      },
      {
        "duration": 1585,
        "start_time": "2022-12-20T15:31:18.752Z"
      },
      {
        "duration": 2201,
        "start_time": "2022-12-20T15:31:20.339Z"
      },
      {
        "duration": 220,
        "start_time": "2022-12-20T15:31:22.542Z"
      },
      {
        "duration": 29,
        "start_time": "2022-12-20T15:31:22.764Z"
      },
      {
        "duration": 3,
        "start_time": "2022-12-20T15:31:22.794Z"
      },
      {
        "duration": 12,
        "start_time": "2022-12-20T15:31:22.798Z"
      },
      {
        "duration": 6,
        "start_time": "2022-12-20T15:31:22.812Z"
      },
      {
        "duration": 10,
        "start_time": "2022-12-20T15:31:22.819Z"
      },
      {
        "duration": 7,
        "start_time": "2022-12-20T15:31:22.831Z"
      },
      {
        "duration": 52,
        "start_time": "2022-12-20T15:31:22.840Z"
      },
      {
        "duration": 16,
        "start_time": "2022-12-20T15:31:22.893Z"
      },
      {
        "duration": 29,
        "start_time": "2022-12-20T15:31:22.911Z"
      },
      {
        "duration": 4,
        "start_time": "2022-12-20T15:31:22.941Z"
      },
      {
        "duration": 47,
        "start_time": "2022-12-20T15:31:22.947Z"
      },
      {
        "duration": 50,
        "start_time": "2022-12-20T15:31:22.995Z"
      },
      {
        "duration": 43,
        "start_time": "2022-12-20T15:31:23.046Z"
      },
      {
        "duration": 58,
        "start_time": "2022-12-20T15:31:23.091Z"
      },
      {
        "duration": 5,
        "start_time": "2022-12-20T15:31:23.151Z"
      },
      {
        "duration": 54,
        "start_time": "2022-12-20T15:31:23.157Z"
      },
      {
        "duration": 267,
        "start_time": "2022-12-20T15:31:23.213Z"
      },
      {
        "duration": 21,
        "start_time": "2022-12-20T15:31:23.481Z"
      },
      {
        "duration": 25,
        "start_time": "2022-12-20T15:31:23.504Z"
      },
      {
        "duration": 17,
        "start_time": "2022-12-20T15:31:23.531Z"
      },
      {
        "duration": 353,
        "start_time": "2022-12-20T15:31:23.549Z"
      },
      {
        "duration": 32,
        "start_time": "2022-12-20T15:31:23.904Z"
      },
      {
        "duration": 16,
        "start_time": "2022-12-20T15:31:23.938Z"
      },
      {
        "duration": 5,
        "start_time": "2022-12-20T15:31:23.979Z"
      },
      {
        "duration": 11,
        "start_time": "2022-12-20T15:31:23.989Z"
      },
      {
        "duration": 27,
        "start_time": "2022-12-20T15:31:24.002Z"
      },
      {
        "duration": 669,
        "start_time": "2022-12-20T15:31:24.031Z"
      },
      {
        "duration": 748,
        "start_time": "2022-12-20T15:31:24.702Z"
      },
      {
        "duration": 668,
        "start_time": "2022-12-20T15:31:25.452Z"
      },
      {
        "duration": 741,
        "start_time": "2022-12-20T15:31:26.121Z"
      },
      {
        "duration": 377,
        "start_time": "2022-12-20T15:31:26.863Z"
      },
      {
        "duration": 426,
        "start_time": "2022-12-20T15:31:27.242Z"
      },
      {
        "duration": 478,
        "start_time": "2022-12-20T15:31:27.669Z"
      },
      {
        "duration": 3,
        "start_time": "2022-12-20T15:31:28.149Z"
      },
      {
        "duration": 50,
        "start_time": "2022-12-20T15:31:28.154Z"
      },
      {
        "duration": 27,
        "start_time": "2022-12-20T15:31:28.206Z"
      },
      {
        "duration": 555,
        "start_time": "2022-12-20T15:31:28.235Z"
      },
      {
        "duration": 16,
        "start_time": "2022-12-20T15:31:28.791Z"
      },
      {
        "duration": 25,
        "start_time": "2022-12-20T15:31:28.808Z"
      },
      {
        "duration": 7,
        "start_time": "2022-12-20T15:31:28.834Z"
      },
      {
        "duration": 36,
        "start_time": "2022-12-20T15:31:28.842Z"
      },
      {
        "duration": 22,
        "start_time": "2022-12-20T15:31:28.880Z"
      },
      {
        "duration": 3,
        "start_time": "2022-12-20T15:31:28.904Z"
      },
      {
        "duration": 9,
        "start_time": "2022-12-20T15:31:28.908Z"
      },
      {
        "duration": 28,
        "start_time": "2022-12-20T15:31:28.918Z"
      },
      {
        "duration": 21,
        "start_time": "2022-12-20T15:31:28.948Z"
      },
      {
        "duration": 1412,
        "start_time": "2022-12-20T15:40:37.336Z"
      },
      {
        "duration": 698,
        "start_time": "2022-12-20T15:40:38.750Z"
      },
      {
        "duration": 229,
        "start_time": "2022-12-20T15:40:39.450Z"
      },
      {
        "duration": 23,
        "start_time": "2022-12-20T15:40:39.681Z"
      },
      {
        "duration": 3,
        "start_time": "2022-12-20T15:40:39.705Z"
      },
      {
        "duration": 12,
        "start_time": "2022-12-20T15:40:39.709Z"
      },
      {
        "duration": 6,
        "start_time": "2022-12-20T15:40:39.722Z"
      },
      {
        "duration": 10,
        "start_time": "2022-12-20T15:40:39.729Z"
      },
      {
        "duration": 7,
        "start_time": "2022-12-20T15:40:39.740Z"
      },
      {
        "duration": 24,
        "start_time": "2022-12-20T15:40:39.780Z"
      },
      {
        "duration": 17,
        "start_time": "2022-12-20T15:40:39.805Z"
      },
      {
        "duration": 29,
        "start_time": "2022-12-20T15:40:39.824Z"
      },
      {
        "duration": 3,
        "start_time": "2022-12-20T15:40:39.879Z"
      },
      {
        "duration": 26,
        "start_time": "2022-12-20T15:40:39.884Z"
      },
      {
        "duration": 69,
        "start_time": "2022-12-20T15:40:39.911Z"
      },
      {
        "duration": 30,
        "start_time": "2022-12-20T15:40:39.982Z"
      },
      {
        "duration": 86,
        "start_time": "2022-12-20T15:40:40.014Z"
      },
      {
        "duration": 5,
        "start_time": "2022-12-20T15:40:40.102Z"
      },
      {
        "duration": 54,
        "start_time": "2022-12-20T15:40:40.109Z"
      },
      {
        "duration": 266,
        "start_time": "2022-12-20T15:40:40.165Z"
      },
      {
        "duration": 24,
        "start_time": "2022-12-20T15:40:40.432Z"
      },
      {
        "duration": 41,
        "start_time": "2022-12-20T15:40:40.458Z"
      },
      {
        "duration": 18,
        "start_time": "2022-12-20T15:40:40.501Z"
      },
      {
        "duration": 353,
        "start_time": "2022-12-20T15:40:40.521Z"
      },
      {
        "duration": 26,
        "start_time": "2022-12-20T15:40:40.878Z"
      },
      {
        "duration": 16,
        "start_time": "2022-12-20T15:40:40.906Z"
      },
      {
        "duration": 5,
        "start_time": "2022-12-20T15:40:40.923Z"
      },
      {
        "duration": 10,
        "start_time": "2022-12-20T15:40:40.932Z"
      },
      {
        "duration": 48,
        "start_time": "2022-12-20T15:40:40.943Z"
      },
      {
        "duration": 730,
        "start_time": "2022-12-20T15:40:40.993Z"
      },
      {
        "duration": 833,
        "start_time": "2022-12-20T15:40:41.724Z"
      },
      {
        "duration": 774,
        "start_time": "2022-12-20T15:40:42.559Z"
      },
      {
        "duration": 982,
        "start_time": "2022-12-20T15:40:43.335Z"
      },
      {
        "duration": 466,
        "start_time": "2022-12-20T15:40:44.319Z"
      },
      {
        "duration": 511,
        "start_time": "2022-12-20T15:40:44.787Z"
      },
      {
        "duration": 458,
        "start_time": "2022-12-20T15:40:45.300Z"
      },
      {
        "duration": 4,
        "start_time": "2022-12-20T15:40:45.761Z"
      },
      {
        "duration": 33,
        "start_time": "2022-12-20T15:40:45.767Z"
      },
      {
        "duration": 36,
        "start_time": "2022-12-20T15:40:45.802Z"
      },
      {
        "duration": 593,
        "start_time": "2022-12-20T15:40:45.839Z"
      },
      {
        "duration": 17,
        "start_time": "2022-12-20T15:40:46.434Z"
      },
      {
        "duration": 33,
        "start_time": "2022-12-20T15:40:46.452Z"
      },
      {
        "duration": 35,
        "start_time": "2022-12-20T15:40:46.486Z"
      },
      {
        "duration": 23,
        "start_time": "2022-12-20T15:40:46.523Z"
      },
      {
        "duration": 44,
        "start_time": "2022-12-20T15:40:46.548Z"
      },
      {
        "duration": 41,
        "start_time": "2022-12-20T15:40:46.593Z"
      },
      {
        "duration": 27,
        "start_time": "2022-12-20T15:40:46.636Z"
      },
      {
        "duration": 42,
        "start_time": "2022-12-20T15:40:46.665Z"
      },
      {
        "duration": 55,
        "start_time": "2022-12-20T15:40:46.709Z"
      },
      {
        "duration": 1087,
        "start_time": "2022-12-20T15:44:38.696Z"
      },
      {
        "duration": 3097,
        "start_time": "2022-12-20T15:44:39.785Z"
      },
      {
        "duration": 94,
        "start_time": "2022-12-20T15:44:42.886Z"
      },
      {
        "duration": 1373,
        "start_time": "2022-12-20T15:47:20.167Z"
      },
      {
        "duration": 727,
        "start_time": "2022-12-20T15:47:21.542Z"
      },
      {
        "duration": 255,
        "start_time": "2022-12-20T15:47:22.273Z"
      },
      {
        "duration": 30,
        "start_time": "2022-12-20T15:47:22.531Z"
      },
      {
        "duration": 16,
        "start_time": "2022-12-20T15:47:22.563Z"
      },
      {
        "duration": 14,
        "start_time": "2022-12-20T15:47:22.581Z"
      },
      {
        "duration": 7,
        "start_time": "2022-12-20T15:47:22.596Z"
      },
      {
        "duration": 11,
        "start_time": "2022-12-20T15:47:22.605Z"
      },
      {
        "duration": 9,
        "start_time": "2022-12-20T15:47:22.618Z"
      },
      {
        "duration": 56,
        "start_time": "2022-12-20T15:47:22.629Z"
      },
      {
        "duration": 18,
        "start_time": "2022-12-20T15:47:22.687Z"
      },
      {
        "duration": 31,
        "start_time": "2022-12-20T15:47:22.707Z"
      },
      {
        "duration": 4,
        "start_time": "2022-12-20T15:47:22.739Z"
      },
      {
        "duration": 56,
        "start_time": "2022-12-20T15:47:22.744Z"
      },
      {
        "duration": 53,
        "start_time": "2022-12-20T15:47:22.801Z"
      },
      {
        "duration": 46,
        "start_time": "2022-12-20T15:47:22.856Z"
      },
      {
        "duration": 75,
        "start_time": "2022-12-20T15:47:22.904Z"
      },
      {
        "duration": 5,
        "start_time": "2022-12-20T15:47:22.980Z"
      },
      {
        "duration": 43,
        "start_time": "2022-12-20T15:47:22.986Z"
      },
      {
        "duration": 270,
        "start_time": "2022-12-20T15:47:23.031Z"
      },
      {
        "duration": 26,
        "start_time": "2022-12-20T15:47:23.303Z"
      },
      {
        "duration": 46,
        "start_time": "2022-12-20T15:47:23.331Z"
      },
      {
        "duration": 20,
        "start_time": "2022-12-20T15:47:23.379Z"
      },
      {
        "duration": 338,
        "start_time": "2022-12-20T15:47:23.401Z"
      },
      {
        "duration": 26,
        "start_time": "2022-12-20T15:47:23.740Z"
      },
      {
        "duration": 24,
        "start_time": "2022-12-20T15:47:23.768Z"
      },
      {
        "duration": 6,
        "start_time": "2022-12-20T15:47:23.795Z"
      },
      {
        "duration": 19,
        "start_time": "2022-12-20T15:47:23.803Z"
      },
      {
        "duration": 32,
        "start_time": "2022-12-20T15:47:23.824Z"
      },
      {
        "duration": 708,
        "start_time": "2022-12-20T15:47:23.858Z"
      },
      {
        "duration": 775,
        "start_time": "2022-12-20T15:47:24.568Z"
      },
      {
        "duration": 705,
        "start_time": "2022-12-20T15:47:25.345Z"
      },
      {
        "duration": 814,
        "start_time": "2022-12-20T15:47:26.052Z"
      },
      {
        "duration": 404,
        "start_time": "2022-12-20T15:47:26.868Z"
      },
      {
        "duration": 434,
        "start_time": "2022-12-20T15:47:27.277Z"
      },
      {
        "duration": 449,
        "start_time": "2022-12-20T15:47:27.712Z"
      },
      {
        "duration": 4,
        "start_time": "2022-12-20T15:47:28.163Z"
      },
      {
        "duration": 11,
        "start_time": "2022-12-20T15:47:28.168Z"
      },
      {
        "duration": 8,
        "start_time": "2022-12-20T15:47:28.180Z"
      },
      {
        "duration": 544,
        "start_time": "2022-12-20T15:47:28.189Z"
      },
      {
        "duration": 14,
        "start_time": "2022-12-20T15:47:28.735Z"
      },
      {
        "duration": 46,
        "start_time": "2022-12-20T15:47:28.751Z"
      },
      {
        "duration": 23,
        "start_time": "2022-12-20T15:47:28.799Z"
      },
      {
        "duration": 31,
        "start_time": "2022-12-20T15:47:28.824Z"
      },
      {
        "duration": 48,
        "start_time": "2022-12-20T15:47:28.859Z"
      },
      {
        "duration": 35,
        "start_time": "2022-12-20T15:47:28.908Z"
      },
      {
        "duration": 31,
        "start_time": "2022-12-20T15:47:28.944Z"
      },
      {
        "duration": 68,
        "start_time": "2022-12-20T15:47:28.977Z"
      },
      {
        "duration": 58,
        "start_time": "2022-12-20T15:47:29.047Z"
      },
      {
        "duration": 1574,
        "start_time": "2022-12-20T15:50:42.244Z"
      },
      {
        "duration": 876,
        "start_time": "2022-12-20T15:50:43.820Z"
      },
      {
        "duration": 260,
        "start_time": "2022-12-20T15:50:44.698Z"
      },
      {
        "duration": 39,
        "start_time": "2022-12-20T15:50:44.961Z"
      },
      {
        "duration": 24,
        "start_time": "2022-12-20T15:50:45.002Z"
      },
      {
        "duration": 45,
        "start_time": "2022-12-20T15:50:45.028Z"
      },
      {
        "duration": 29,
        "start_time": "2022-12-20T15:50:45.075Z"
      },
      {
        "duration": 34,
        "start_time": "2022-12-20T15:50:45.106Z"
      },
      {
        "duration": 8,
        "start_time": "2022-12-20T15:50:45.142Z"
      },
      {
        "duration": 22,
        "start_time": "2022-12-20T15:50:45.153Z"
      },
      {
        "duration": 20,
        "start_time": "2022-12-20T15:50:45.177Z"
      },
      {
        "duration": 34,
        "start_time": "2022-12-20T15:50:45.199Z"
      },
      {
        "duration": 4,
        "start_time": "2022-12-20T15:50:45.235Z"
      },
      {
        "duration": 48,
        "start_time": "2022-12-20T15:50:45.240Z"
      },
      {
        "duration": 55,
        "start_time": "2022-12-20T15:50:45.289Z"
      },
      {
        "duration": 46,
        "start_time": "2022-12-20T15:50:45.346Z"
      },
      {
        "duration": 59,
        "start_time": "2022-12-20T15:50:45.394Z"
      },
      {
        "duration": 24,
        "start_time": "2022-12-20T15:50:45.455Z"
      },
      {
        "duration": 39,
        "start_time": "2022-12-20T15:50:45.480Z"
      },
      {
        "duration": 275,
        "start_time": "2022-12-20T15:50:45.521Z"
      },
      {
        "duration": 23,
        "start_time": "2022-12-20T15:50:45.798Z"
      },
      {
        "duration": 22,
        "start_time": "2022-12-20T15:50:45.822Z"
      },
      {
        "duration": 41,
        "start_time": "2022-12-20T15:50:45.846Z"
      },
      {
        "duration": 356,
        "start_time": "2022-12-20T15:50:45.889Z"
      },
      {
        "duration": 34,
        "start_time": "2022-12-20T15:50:46.248Z"
      },
      {
        "duration": 39,
        "start_time": "2022-12-20T15:50:46.284Z"
      },
      {
        "duration": 28,
        "start_time": "2022-12-20T15:50:46.325Z"
      },
      {
        "duration": 58,
        "start_time": "2022-12-20T15:50:46.356Z"
      },
      {
        "duration": 57,
        "start_time": "2022-12-20T15:50:46.416Z"
      },
      {
        "duration": 711,
        "start_time": "2022-12-20T15:50:46.475Z"
      },
      {
        "duration": 817,
        "start_time": "2022-12-20T15:50:47.188Z"
      },
      {
        "duration": 688,
        "start_time": "2022-12-20T15:50:48.007Z"
      },
      {
        "duration": 802,
        "start_time": "2022-12-20T15:50:48.697Z"
      },
      {
        "duration": 365,
        "start_time": "2022-12-20T15:50:49.501Z"
      },
      {
        "duration": 469,
        "start_time": "2022-12-20T15:50:49.868Z"
      },
      {
        "duration": 393,
        "start_time": "2022-12-20T15:50:50.339Z"
      },
      {
        "duration": 4,
        "start_time": "2022-12-20T15:50:50.734Z"
      },
      {
        "duration": 10,
        "start_time": "2022-12-20T15:50:50.740Z"
      },
      {
        "duration": 19,
        "start_time": "2022-12-20T15:50:50.751Z"
      },
      {
        "duration": 556,
        "start_time": "2022-12-20T15:50:50.772Z"
      },
      {
        "duration": 16,
        "start_time": "2022-12-20T15:50:51.330Z"
      },
      {
        "duration": 30,
        "start_time": "2022-12-20T15:50:51.348Z"
      },
      {
        "duration": 6,
        "start_time": "2022-12-20T15:50:51.380Z"
      },
      {
        "duration": 11,
        "start_time": "2022-12-20T15:50:51.388Z"
      },
      {
        "duration": 23,
        "start_time": "2022-12-20T15:50:51.401Z"
      },
      {
        "duration": 5,
        "start_time": "2022-12-20T15:50:51.425Z"
      },
      {
        "duration": 19,
        "start_time": "2022-12-20T15:50:51.432Z"
      },
      {
        "duration": 30,
        "start_time": "2022-12-20T15:50:51.453Z"
      },
      {
        "duration": 17,
        "start_time": "2022-12-20T15:50:51.485Z"
      },
      {
        "duration": 169,
        "start_time": "2022-12-20T15:50:51.503Z"
      },
      {
        "duration": 1610,
        "start_time": "2022-12-20T15:50:51.674Z"
      },
      {
        "duration": 2693,
        "start_time": "2022-12-20T15:50:53.286Z"
      },
      {
        "duration": 5,
        "start_time": "2022-12-20T15:50:55.987Z"
      },
      {
        "duration": 1345,
        "start_time": "2022-12-20T16:00:17.502Z"
      },
      {
        "duration": 750,
        "start_time": "2022-12-20T16:00:18.849Z"
      },
      {
        "duration": 239,
        "start_time": "2022-12-20T16:00:19.602Z"
      },
      {
        "duration": 36,
        "start_time": "2022-12-20T16:00:19.843Z"
      },
      {
        "duration": 2,
        "start_time": "2022-12-20T16:00:19.881Z"
      },
      {
        "duration": 19,
        "start_time": "2022-12-20T16:00:19.885Z"
      },
      {
        "duration": 7,
        "start_time": "2022-12-20T16:00:19.906Z"
      },
      {
        "duration": 9,
        "start_time": "2022-12-20T16:00:19.915Z"
      },
      {
        "duration": 7,
        "start_time": "2022-12-20T16:00:19.928Z"
      },
      {
        "duration": 48,
        "start_time": "2022-12-20T16:00:19.936Z"
      },
      {
        "duration": 19,
        "start_time": "2022-12-20T16:00:19.986Z"
      },
      {
        "duration": 30,
        "start_time": "2022-12-20T16:00:20.007Z"
      },
      {
        "duration": 3,
        "start_time": "2022-12-20T16:00:20.039Z"
      },
      {
        "duration": 56,
        "start_time": "2022-12-20T16:00:20.044Z"
      },
      {
        "duration": 57,
        "start_time": "2022-12-20T16:00:20.101Z"
      },
      {
        "duration": 42,
        "start_time": "2022-12-20T16:00:20.159Z"
      },
      {
        "duration": 62,
        "start_time": "2022-12-20T16:00:20.203Z"
      },
      {
        "duration": 5,
        "start_time": "2022-12-20T16:00:20.278Z"
      },
      {
        "duration": 45,
        "start_time": "2022-12-20T16:00:20.285Z"
      },
      {
        "duration": 264,
        "start_time": "2022-12-20T16:00:20.331Z"
      },
      {
        "duration": 24,
        "start_time": "2022-12-20T16:00:20.596Z"
      },
      {
        "duration": 25,
        "start_time": "2022-12-20T16:00:20.622Z"
      },
      {
        "duration": 42,
        "start_time": "2022-12-20T16:00:20.649Z"
      },
      {
        "duration": 325,
        "start_time": "2022-12-20T16:00:20.692Z"
      },
      {
        "duration": 29,
        "start_time": "2022-12-20T16:00:21.019Z"
      },
      {
        "duration": 32,
        "start_time": "2022-12-20T16:00:21.049Z"
      },
      {
        "duration": 8,
        "start_time": "2022-12-20T16:00:21.086Z"
      },
      {
        "duration": 13,
        "start_time": "2022-12-20T16:00:21.095Z"
      },
      {
        "duration": 22,
        "start_time": "2022-12-20T16:00:21.110Z"
      },
      {
        "duration": 645,
        "start_time": "2022-12-20T16:00:21.133Z"
      },
      {
        "duration": 784,
        "start_time": "2022-12-20T16:00:21.780Z"
      },
      {
        "duration": 640,
        "start_time": "2022-12-20T16:00:22.566Z"
      },
      {
        "duration": 741,
        "start_time": "2022-12-20T16:00:23.208Z"
      },
      {
        "duration": 389,
        "start_time": "2022-12-20T16:00:23.951Z"
      },
      {
        "duration": 430,
        "start_time": "2022-12-20T16:00:24.341Z"
      },
      {
        "duration": 467,
        "start_time": "2022-12-20T16:00:24.772Z"
      },
      {
        "duration": 3,
        "start_time": "2022-12-20T16:00:25.241Z"
      },
      {
        "duration": 11,
        "start_time": "2022-12-20T16:00:25.246Z"
      },
      {
        "duration": 25,
        "start_time": "2022-12-20T16:00:25.258Z"
      },
      {
        "duration": 595,
        "start_time": "2022-12-20T16:00:25.285Z"
      },
      {
        "duration": 16,
        "start_time": "2022-12-20T16:00:25.882Z"
      },
      {
        "duration": 17,
        "start_time": "2022-12-20T16:00:25.900Z"
      },
      {
        "duration": 16,
        "start_time": "2022-12-20T16:00:25.920Z"
      },
      {
        "duration": 13,
        "start_time": "2022-12-20T16:00:25.938Z"
      },
      {
        "duration": 39,
        "start_time": "2022-12-20T16:00:25.953Z"
      },
      {
        "duration": 3,
        "start_time": "2022-12-20T16:00:25.994Z"
      },
      {
        "duration": 34,
        "start_time": "2022-12-20T16:00:25.999Z"
      },
      {
        "duration": 32,
        "start_time": "2022-12-20T16:00:26.034Z"
      },
      {
        "duration": 17,
        "start_time": "2022-12-20T16:00:26.068Z"
      },
      {
        "duration": 235124,
        "start_time": "2022-12-20T16:00:26.087Z"
      },
      {
        "duration": 3780,
        "start_time": "2022-12-20T16:04:21.212Z"
      },
      {
        "duration": 5085,
        "start_time": "2022-12-20T16:04:24.994Z"
      },
      {
        "duration": 6,
        "start_time": "2022-12-20T16:04:30.081Z"
      },
      {
        "duration": 1710361,
        "start_time": "2022-12-20T16:04:30.092Z"
      },
      {
        "duration": 50024,
        "start_time": "2022-12-20T16:33:00.455Z"
      },
      {
        "duration": 32602,
        "start_time": "2022-12-20T16:33:50.483Z"
      },
      {
        "duration": 37093,
        "start_time": "2022-12-20T16:44:43.984Z"
      },
      {
        "duration": 61895,
        "start_time": "2022-12-20T16:47:07.984Z"
      },
      {
        "duration": 71,
        "start_time": "2022-12-20T17:03:17.262Z"
      },
      {
        "duration": 53339,
        "start_time": "2022-12-20T17:04:32.255Z"
      },
      {
        "duration": 54080,
        "start_time": "2022-12-20T17:16:31.789Z"
      },
      {
        "duration": 54404,
        "start_time": "2022-12-20T17:22:41.498Z"
      },
      {
        "duration": 71,
        "start_time": "2022-12-20T17:29:03.907Z"
      },
      {
        "duration": 4,
        "start_time": "2022-12-20T17:32:03.829Z"
      },
      {
        "duration": 6,
        "start_time": "2022-12-20T17:40:15.251Z"
      },
      {
        "duration": 7,
        "start_time": "2022-12-20T17:44:48.143Z"
      },
      {
        "duration": 7,
        "start_time": "2022-12-20T17:45:28.569Z"
      },
      {
        "duration": 6,
        "start_time": "2022-12-20T19:04:02.832Z"
      },
      {
        "duration": 9,
        "start_time": "2022-12-20T19:04:43.684Z"
      },
      {
        "duration": 7,
        "start_time": "2022-12-20T19:07:31.568Z"
      },
      {
        "duration": 118,
        "start_time": "2022-12-20T19:11:25.076Z"
      },
      {
        "duration": 15,
        "start_time": "2022-12-20T19:11:58.386Z"
      },
      {
        "duration": 10,
        "start_time": "2022-12-20T19:13:14.024Z"
      },
      {
        "duration": 9,
        "start_time": "2022-12-20T19:15:50.556Z"
      },
      {
        "duration": 13,
        "start_time": "2022-12-20T19:22:01.535Z"
      },
      {
        "duration": 28,
        "start_time": "2022-12-20T19:22:43.478Z"
      },
      {
        "duration": 24,
        "start_time": "2022-12-20T19:22:54.469Z"
      },
      {
        "duration": 28,
        "start_time": "2022-12-20T19:23:12.367Z"
      },
      {
        "duration": 2150,
        "start_time": "2022-12-20T19:23:40.032Z"
      },
      {
        "duration": 27,
        "start_time": "2022-12-20T19:24:06.255Z"
      },
      {
        "duration": 1312,
        "start_time": "2022-12-20T19:24:34.167Z"
      },
      {
        "duration": 1771,
        "start_time": "2022-12-20T19:25:55.111Z"
      },
      {
        "duration": 1435,
        "start_time": "2022-12-20T19:29:18.547Z"
      },
      {
        "duration": 1229,
        "start_time": "2022-12-20T19:30:47.849Z"
      },
      {
        "duration": 4,
        "start_time": "2022-12-20T19:32:11.749Z"
      },
      {
        "duration": 1612,
        "start_time": "2022-12-22T13:14:26.458Z"
      },
      {
        "duration": 0,
        "start_time": "2022-12-22T13:14:28.073Z"
      },
      {
        "duration": 0,
        "start_time": "2022-12-22T13:14:28.075Z"
      },
      {
        "duration": 0,
        "start_time": "2022-12-22T13:14:28.076Z"
      },
      {
        "duration": 0,
        "start_time": "2022-12-22T13:14:28.077Z"
      },
      {
        "duration": 0,
        "start_time": "2022-12-22T13:14:28.078Z"
      },
      {
        "duration": 0,
        "start_time": "2022-12-22T13:14:28.079Z"
      },
      {
        "duration": 0,
        "start_time": "2022-12-22T13:14:28.080Z"
      },
      {
        "duration": 0,
        "start_time": "2022-12-22T13:14:28.082Z"
      },
      {
        "duration": 0,
        "start_time": "2022-12-22T13:14:28.083Z"
      },
      {
        "duration": 0,
        "start_time": "2022-12-22T13:14:28.084Z"
      },
      {
        "duration": 0,
        "start_time": "2022-12-22T13:14:28.085Z"
      },
      {
        "duration": 0,
        "start_time": "2022-12-22T13:14:28.087Z"
      },
      {
        "duration": 0,
        "start_time": "2022-12-22T13:14:28.088Z"
      },
      {
        "duration": 0,
        "start_time": "2022-12-22T13:14:28.089Z"
      },
      {
        "duration": 0,
        "start_time": "2022-12-22T13:14:28.090Z"
      },
      {
        "duration": 0,
        "start_time": "2022-12-22T13:14:28.092Z"
      },
      {
        "duration": 0,
        "start_time": "2022-12-22T13:14:28.093Z"
      },
      {
        "duration": 0,
        "start_time": "2022-12-22T13:14:28.094Z"
      },
      {
        "duration": 0,
        "start_time": "2022-12-22T13:14:28.095Z"
      },
      {
        "duration": 0,
        "start_time": "2022-12-22T13:14:28.096Z"
      },
      {
        "duration": 0,
        "start_time": "2022-12-22T13:14:28.097Z"
      },
      {
        "duration": 0,
        "start_time": "2022-12-22T13:14:28.098Z"
      },
      {
        "duration": 0,
        "start_time": "2022-12-22T13:14:28.099Z"
      },
      {
        "duration": 0,
        "start_time": "2022-12-22T13:14:28.100Z"
      },
      {
        "duration": 0,
        "start_time": "2022-12-22T13:14:28.101Z"
      },
      {
        "duration": 0,
        "start_time": "2022-12-22T13:14:28.103Z"
      },
      {
        "duration": 0,
        "start_time": "2022-12-22T13:14:28.104Z"
      },
      {
        "duration": 0,
        "start_time": "2022-12-22T13:14:28.105Z"
      },
      {
        "duration": 0,
        "start_time": "2022-12-22T13:14:28.106Z"
      },
      {
        "duration": 0,
        "start_time": "2022-12-22T13:14:28.107Z"
      },
      {
        "duration": 0,
        "start_time": "2022-12-22T13:14:28.108Z"
      },
      {
        "duration": 0,
        "start_time": "2022-12-22T13:14:28.109Z"
      },
      {
        "duration": 0,
        "start_time": "2022-12-22T13:14:28.110Z"
      },
      {
        "duration": 0,
        "start_time": "2022-12-22T13:14:28.111Z"
      },
      {
        "duration": 0,
        "start_time": "2022-12-22T13:14:28.112Z"
      },
      {
        "duration": 0,
        "start_time": "2022-12-22T13:14:28.113Z"
      },
      {
        "duration": 0,
        "start_time": "2022-12-22T13:14:28.114Z"
      },
      {
        "duration": 0,
        "start_time": "2022-12-22T13:14:28.115Z"
      },
      {
        "duration": 0,
        "start_time": "2022-12-22T13:14:28.178Z"
      },
      {
        "duration": 0,
        "start_time": "2022-12-22T13:14:28.180Z"
      },
      {
        "duration": 0,
        "start_time": "2022-12-22T13:14:28.181Z"
      },
      {
        "duration": 0,
        "start_time": "2022-12-22T13:14:28.182Z"
      },
      {
        "duration": 0,
        "start_time": "2022-12-22T13:14:28.183Z"
      },
      {
        "duration": 0,
        "start_time": "2022-12-22T13:14:28.184Z"
      },
      {
        "duration": 0,
        "start_time": "2022-12-22T13:14:28.185Z"
      },
      {
        "duration": 0,
        "start_time": "2022-12-22T13:14:28.186Z"
      },
      {
        "duration": 0,
        "start_time": "2022-12-22T13:14:28.186Z"
      },
      {
        "duration": 0,
        "start_time": "2022-12-22T13:14:28.187Z"
      },
      {
        "duration": 0,
        "start_time": "2022-12-22T13:14:28.188Z"
      },
      {
        "duration": 0,
        "start_time": "2022-12-22T13:14:28.189Z"
      },
      {
        "duration": 0,
        "start_time": "2022-12-22T13:14:28.190Z"
      },
      {
        "duration": 0,
        "start_time": "2022-12-22T13:14:28.191Z"
      },
      {
        "duration": 0,
        "start_time": "2022-12-22T13:14:28.192Z"
      },
      {
        "duration": 0,
        "start_time": "2022-12-22T13:14:28.193Z"
      },
      {
        "duration": 0,
        "start_time": "2022-12-22T13:14:28.194Z"
      },
      {
        "duration": 0,
        "start_time": "2022-12-22T13:14:28.195Z"
      },
      {
        "duration": 0,
        "start_time": "2022-12-22T13:14:28.196Z"
      },
      {
        "duration": 102,
        "start_time": "2022-12-22T13:17:30.340Z"
      },
      {
        "duration": 9,
        "start_time": "2022-12-22T13:18:13.577Z"
      },
      {
        "duration": 30,
        "start_time": "2022-12-22T13:18:31.249Z"
      },
      {
        "duration": 1362,
        "start_time": "2022-12-22T13:18:52.236Z"
      },
      {
        "duration": 1934,
        "start_time": "2022-12-22T13:18:53.601Z"
      },
      {
        "duration": 224,
        "start_time": "2022-12-22T13:18:55.537Z"
      },
      {
        "duration": 28,
        "start_time": "2022-12-22T13:18:55.763Z"
      },
      {
        "duration": 2,
        "start_time": "2022-12-22T13:18:55.793Z"
      },
      {
        "duration": 22,
        "start_time": "2022-12-22T13:18:55.797Z"
      },
      {
        "duration": 6,
        "start_time": "2022-12-22T13:18:55.820Z"
      },
      {
        "duration": 26,
        "start_time": "2022-12-22T13:18:55.828Z"
      },
      {
        "duration": 110,
        "start_time": "2022-12-22T13:18:55.855Z"
      },
      {
        "duration": 0,
        "start_time": "2022-12-22T13:18:55.968Z"
      },
      {
        "duration": 0,
        "start_time": "2022-12-22T13:18:55.969Z"
      },
      {
        "duration": 0,
        "start_time": "2022-12-22T13:18:55.970Z"
      },
      {
        "duration": 0,
        "start_time": "2022-12-22T13:18:55.977Z"
      },
      {
        "duration": 0,
        "start_time": "2022-12-22T13:18:55.978Z"
      },
      {
        "duration": 0,
        "start_time": "2022-12-22T13:18:55.979Z"
      },
      {
        "duration": 0,
        "start_time": "2022-12-22T13:18:55.980Z"
      },
      {
        "duration": 0,
        "start_time": "2022-12-22T13:18:55.982Z"
      },
      {
        "duration": 0,
        "start_time": "2022-12-22T13:18:55.983Z"
      },
      {
        "duration": 0,
        "start_time": "2022-12-22T13:18:55.984Z"
      },
      {
        "duration": 0,
        "start_time": "2022-12-22T13:18:55.985Z"
      },
      {
        "duration": 0,
        "start_time": "2022-12-22T13:18:55.986Z"
      },
      {
        "duration": 0,
        "start_time": "2022-12-22T13:18:55.987Z"
      },
      {
        "duration": 0,
        "start_time": "2022-12-22T13:18:55.988Z"
      },
      {
        "duration": 0,
        "start_time": "2022-12-22T13:18:55.988Z"
      },
      {
        "duration": 0,
        "start_time": "2022-12-22T13:18:55.989Z"
      },
      {
        "duration": 0,
        "start_time": "2022-12-22T13:18:55.990Z"
      },
      {
        "duration": 0,
        "start_time": "2022-12-22T13:18:55.991Z"
      },
      {
        "duration": 0,
        "start_time": "2022-12-22T13:18:55.992Z"
      },
      {
        "duration": 0,
        "start_time": "2022-12-22T13:18:55.994Z"
      },
      {
        "duration": 0,
        "start_time": "2022-12-22T13:18:55.995Z"
      },
      {
        "duration": 0,
        "start_time": "2022-12-22T13:18:55.995Z"
      },
      {
        "duration": 0,
        "start_time": "2022-12-22T13:18:55.996Z"
      },
      {
        "duration": 0,
        "start_time": "2022-12-22T13:18:55.997Z"
      },
      {
        "duration": 0,
        "start_time": "2022-12-22T13:18:55.998Z"
      },
      {
        "duration": 0,
        "start_time": "2022-12-22T13:18:55.999Z"
      },
      {
        "duration": 0,
        "start_time": "2022-12-22T13:18:56.000Z"
      },
      {
        "duration": 0,
        "start_time": "2022-12-22T13:18:56.000Z"
      },
      {
        "duration": 0,
        "start_time": "2022-12-22T13:18:56.001Z"
      },
      {
        "duration": 0,
        "start_time": "2022-12-22T13:18:56.002Z"
      },
      {
        "duration": 0,
        "start_time": "2022-12-22T13:18:56.003Z"
      },
      {
        "duration": 0,
        "start_time": "2022-12-22T13:18:56.004Z"
      },
      {
        "duration": 0,
        "start_time": "2022-12-22T13:18:56.005Z"
      },
      {
        "duration": 0,
        "start_time": "2022-12-22T13:18:56.006Z"
      },
      {
        "duration": 0,
        "start_time": "2022-12-22T13:18:56.007Z"
      },
      {
        "duration": 0,
        "start_time": "2022-12-22T13:18:56.008Z"
      },
      {
        "duration": 0,
        "start_time": "2022-12-22T13:18:56.008Z"
      },
      {
        "duration": 0,
        "start_time": "2022-12-22T13:18:56.009Z"
      },
      {
        "duration": 0,
        "start_time": "2022-12-22T13:18:56.010Z"
      },
      {
        "duration": 0,
        "start_time": "2022-12-22T13:18:56.012Z"
      },
      {
        "duration": 0,
        "start_time": "2022-12-22T13:18:56.013Z"
      },
      {
        "duration": 0,
        "start_time": "2022-12-22T13:18:56.014Z"
      },
      {
        "duration": 0,
        "start_time": "2022-12-22T13:18:56.015Z"
      },
      {
        "duration": 0,
        "start_time": "2022-12-22T13:18:56.016Z"
      },
      {
        "duration": 0,
        "start_time": "2022-12-22T13:18:56.078Z"
      },
      {
        "duration": 0,
        "start_time": "2022-12-22T13:18:56.079Z"
      },
      {
        "duration": 0,
        "start_time": "2022-12-22T13:18:56.080Z"
      },
      {
        "duration": 0,
        "start_time": "2022-12-22T13:18:56.081Z"
      },
      {
        "duration": 0,
        "start_time": "2022-12-22T13:18:56.082Z"
      },
      {
        "duration": 4,
        "start_time": "2022-12-22T13:21:39.263Z"
      },
      {
        "duration": 1293,
        "start_time": "2022-12-22T13:21:47.300Z"
      },
      {
        "duration": 718,
        "start_time": "2022-12-22T13:21:48.595Z"
      },
      {
        "duration": 220,
        "start_time": "2022-12-22T13:21:49.314Z"
      },
      {
        "duration": 22,
        "start_time": "2022-12-22T13:21:49.536Z"
      },
      {
        "duration": 18,
        "start_time": "2022-12-22T13:21:49.560Z"
      },
      {
        "duration": 8,
        "start_time": "2022-12-22T13:21:49.579Z"
      },
      {
        "duration": 5,
        "start_time": "2022-12-22T13:21:49.588Z"
      },
      {
        "duration": 8,
        "start_time": "2022-12-22T13:21:49.595Z"
      },
      {
        "duration": 7,
        "start_time": "2022-12-22T13:21:49.604Z"
      },
      {
        "duration": 23,
        "start_time": "2022-12-22T13:21:49.613Z"
      },
      {
        "duration": 56,
        "start_time": "2022-12-22T13:21:49.638Z"
      },
      {
        "duration": 31,
        "start_time": "2022-12-22T13:21:49.696Z"
      },
      {
        "duration": 3,
        "start_time": "2022-12-22T13:21:49.728Z"
      },
      {
        "duration": 56,
        "start_time": "2022-12-22T13:21:49.733Z"
      },
      {
        "duration": 51,
        "start_time": "2022-12-22T13:21:49.791Z"
      },
      {
        "duration": 51,
        "start_time": "2022-12-22T13:21:49.843Z"
      },
      {
        "duration": 61,
        "start_time": "2022-12-22T13:21:49.895Z"
      },
      {
        "duration": 21,
        "start_time": "2022-12-22T13:21:49.958Z"
      },
      {
        "duration": 42,
        "start_time": "2022-12-22T13:21:49.981Z"
      },
      {
        "duration": 279,
        "start_time": "2022-12-22T13:21:50.025Z"
      },
      {
        "duration": 21,
        "start_time": "2022-12-22T13:21:50.306Z"
      },
      {
        "duration": 23,
        "start_time": "2022-12-22T13:21:50.329Z"
      },
      {
        "duration": 41,
        "start_time": "2022-12-22T13:21:50.353Z"
      },
      {
        "duration": 317,
        "start_time": "2022-12-22T13:21:50.395Z"
      },
      {
        "duration": 24,
        "start_time": "2022-12-22T13:21:50.714Z"
      },
      {
        "duration": 39,
        "start_time": "2022-12-22T13:21:50.740Z"
      },
      {
        "duration": 5,
        "start_time": "2022-12-22T13:21:50.780Z"
      },
      {
        "duration": 7,
        "start_time": "2022-12-22T13:21:50.788Z"
      },
      {
        "duration": 16,
        "start_time": "2022-12-22T13:21:50.797Z"
      },
      {
        "duration": 653,
        "start_time": "2022-12-22T13:21:50.815Z"
      },
      {
        "duration": 737,
        "start_time": "2022-12-22T13:21:51.469Z"
      },
      {
        "duration": 664,
        "start_time": "2022-12-22T13:21:52.208Z"
      },
      {
        "duration": 386,
        "start_time": "2022-12-22T13:21:52.874Z"
      },
      {
        "duration": 382,
        "start_time": "2022-12-22T13:21:53.261Z"
      },
      {
        "duration": 4,
        "start_time": "2022-12-22T13:21:53.644Z"
      },
      {
        "duration": 10,
        "start_time": "2022-12-22T13:21:53.650Z"
      },
      {
        "duration": 8,
        "start_time": "2022-12-22T13:21:53.661Z"
      },
      {
        "duration": 659,
        "start_time": "2022-12-22T13:21:53.670Z"
      },
      {
        "duration": 14,
        "start_time": "2022-12-22T13:21:54.330Z"
      },
      {
        "duration": 14,
        "start_time": "2022-12-22T13:21:54.345Z"
      },
      {
        "duration": 24,
        "start_time": "2022-12-22T13:21:54.360Z"
      },
      {
        "duration": 7,
        "start_time": "2022-12-22T13:21:54.385Z"
      },
      {
        "duration": 18,
        "start_time": "2022-12-22T13:21:54.394Z"
      },
      {
        "duration": 4,
        "start_time": "2022-12-22T13:21:54.413Z"
      },
      {
        "duration": 10,
        "start_time": "2022-12-22T13:21:54.418Z"
      },
      {
        "duration": 10,
        "start_time": "2022-12-22T13:21:54.430Z"
      },
      {
        "duration": 41,
        "start_time": "2022-12-22T13:21:54.442Z"
      },
      {
        "duration": 1336,
        "start_time": "2022-12-22T13:25:21.078Z"
      },
      {
        "duration": 710,
        "start_time": "2022-12-22T13:25:22.415Z"
      },
      {
        "duration": 220,
        "start_time": "2022-12-22T13:25:23.127Z"
      },
      {
        "duration": 31,
        "start_time": "2022-12-22T13:25:23.349Z"
      },
      {
        "duration": 3,
        "start_time": "2022-12-22T13:25:23.381Z"
      },
      {
        "duration": 13,
        "start_time": "2022-12-22T13:25:23.386Z"
      },
      {
        "duration": 6,
        "start_time": "2022-12-22T13:25:23.400Z"
      },
      {
        "duration": 10,
        "start_time": "2022-12-22T13:25:23.408Z"
      },
      {
        "duration": 7,
        "start_time": "2022-12-22T13:25:23.419Z"
      },
      {
        "duration": 54,
        "start_time": "2022-12-22T13:25:23.429Z"
      },
      {
        "duration": 17,
        "start_time": "2022-12-22T13:25:23.485Z"
      },
      {
        "duration": 29,
        "start_time": "2022-12-22T13:25:23.504Z"
      },
      {
        "duration": 4,
        "start_time": "2022-12-22T13:25:23.534Z"
      },
      {
        "duration": 45,
        "start_time": "2022-12-22T13:25:23.539Z"
      },
      {
        "duration": 49,
        "start_time": "2022-12-22T13:25:23.585Z"
      },
      {
        "duration": 43,
        "start_time": "2022-12-22T13:25:23.635Z"
      },
      {
        "duration": 59,
        "start_time": "2022-12-22T13:25:23.679Z"
      },
      {
        "duration": 5,
        "start_time": "2022-12-22T13:25:23.739Z"
      },
      {
        "duration": 56,
        "start_time": "2022-12-22T13:25:23.745Z"
      },
      {
        "duration": 286,
        "start_time": "2022-12-22T13:25:23.802Z"
      },
      {
        "duration": 24,
        "start_time": "2022-12-22T13:25:24.090Z"
      },
      {
        "duration": 23,
        "start_time": "2022-12-22T13:25:24.115Z"
      },
      {
        "duration": 16,
        "start_time": "2022-12-22T13:25:24.139Z"
      },
      {
        "duration": 317,
        "start_time": "2022-12-22T13:25:24.156Z"
      },
      {
        "duration": 21,
        "start_time": "2022-12-22T13:25:24.478Z"
      },
      {
        "duration": 14,
        "start_time": "2022-12-22T13:25:24.501Z"
      },
      {
        "duration": 4,
        "start_time": "2022-12-22T13:25:24.516Z"
      },
      {
        "duration": 9,
        "start_time": "2022-12-22T13:25:24.523Z"
      },
      {
        "duration": 15,
        "start_time": "2022-12-22T13:25:24.533Z"
      },
      {
        "duration": 634,
        "start_time": "2022-12-22T13:25:24.549Z"
      },
      {
        "duration": 712,
        "start_time": "2022-12-22T13:25:25.184Z"
      },
      {
        "duration": 610,
        "start_time": "2022-12-22T13:25:25.897Z"
      },
      {
        "duration": 347,
        "start_time": "2022-12-22T13:25:26.509Z"
      },
      {
        "duration": 403,
        "start_time": "2022-12-22T13:25:26.858Z"
      },
      {
        "duration": 4,
        "start_time": "2022-12-22T13:25:27.262Z"
      },
      {
        "duration": 11,
        "start_time": "2022-12-22T13:25:27.267Z"
      },
      {
        "duration": 6,
        "start_time": "2022-12-22T13:25:27.279Z"
      },
      {
        "duration": 609,
        "start_time": "2022-12-22T13:25:27.287Z"
      },
      {
        "duration": 13,
        "start_time": "2022-12-22T13:25:27.898Z"
      },
      {
        "duration": 18,
        "start_time": "2022-12-22T13:25:27.913Z"
      },
      {
        "duration": 8,
        "start_time": "2022-12-22T13:25:27.933Z"
      },
      {
        "duration": 21,
        "start_time": "2022-12-22T13:25:27.942Z"
      },
      {
        "duration": 18,
        "start_time": "2022-12-22T13:25:27.978Z"
      },
      {
        "duration": 12,
        "start_time": "2022-12-22T13:25:27.997Z"
      },
      {
        "duration": 29,
        "start_time": "2022-12-22T13:25:28.011Z"
      },
      {
        "duration": 25,
        "start_time": "2022-12-22T13:25:28.041Z"
      },
      {
        "duration": 28,
        "start_time": "2022-12-22T13:25:28.068Z"
      },
      {
        "duration": 1860,
        "start_time": "2022-12-22T13:29:23.324Z"
      },
      {
        "duration": 2993,
        "start_time": "2022-12-22T13:29:25.186Z"
      },
      {
        "duration": 4,
        "start_time": "2022-12-22T13:29:28.180Z"
      },
      {
        "duration": 1696,
        "start_time": "2022-12-22T13:29:28.185Z"
      },
      {
        "duration": 1601,
        "start_time": "2022-12-22T13:29:29.882Z"
      },
      {
        "duration": 5,
        "start_time": "2022-12-22T13:29:31.485Z"
      },
      {
        "duration": 1278,
        "start_time": "2022-12-22T13:40:31.334Z"
      },
      {
        "duration": 729,
        "start_time": "2022-12-22T13:40:32.614Z"
      },
      {
        "duration": 218,
        "start_time": "2022-12-22T13:40:33.344Z"
      },
      {
        "duration": 31,
        "start_time": "2022-12-22T13:40:33.564Z"
      },
      {
        "duration": 2,
        "start_time": "2022-12-22T13:40:33.597Z"
      },
      {
        "duration": 14,
        "start_time": "2022-12-22T13:40:33.601Z"
      },
      {
        "duration": 7,
        "start_time": "2022-12-22T13:40:33.617Z"
      },
      {
        "duration": 10,
        "start_time": "2022-12-22T13:40:33.625Z"
      },
      {
        "duration": 9,
        "start_time": "2022-12-22T13:40:33.636Z"
      },
      {
        "duration": 47,
        "start_time": "2022-12-22T13:40:33.647Z"
      },
      {
        "duration": 16,
        "start_time": "2022-12-22T13:40:33.696Z"
      },
      {
        "duration": 38,
        "start_time": "2022-12-22T13:40:33.713Z"
      },
      {
        "duration": 4,
        "start_time": "2022-12-22T13:40:33.752Z"
      },
      {
        "duration": 39,
        "start_time": "2022-12-22T13:40:33.757Z"
      },
      {
        "duration": 48,
        "start_time": "2022-12-22T13:40:33.799Z"
      },
      {
        "duration": 45,
        "start_time": "2022-12-22T13:40:33.849Z"
      },
      {
        "duration": 65,
        "start_time": "2022-12-22T13:40:33.895Z"
      },
      {
        "duration": 5,
        "start_time": "2022-12-22T13:40:33.978Z"
      },
      {
        "duration": 73,
        "start_time": "2022-12-22T13:40:33.985Z"
      },
      {
        "duration": 250,
        "start_time": "2022-12-22T13:40:34.060Z"
      },
      {
        "duration": 20,
        "start_time": "2022-12-22T13:40:34.312Z"
      },
      {
        "duration": 49,
        "start_time": "2022-12-22T13:40:34.333Z"
      },
      {
        "duration": 18,
        "start_time": "2022-12-22T13:40:34.384Z"
      },
      {
        "duration": 312,
        "start_time": "2022-12-22T13:40:34.403Z"
      },
      {
        "duration": 22,
        "start_time": "2022-12-22T13:40:34.717Z"
      },
      {
        "duration": 37,
        "start_time": "2022-12-22T13:40:34.740Z"
      },
      {
        "duration": 10,
        "start_time": "2022-12-22T13:40:34.778Z"
      },
      {
        "duration": 21,
        "start_time": "2022-12-22T13:40:34.791Z"
      },
      {
        "duration": 21,
        "start_time": "2022-12-22T13:40:34.814Z"
      },
      {
        "duration": 606,
        "start_time": "2022-12-22T13:40:34.837Z"
      },
      {
        "duration": 700,
        "start_time": "2022-12-22T13:40:35.444Z"
      },
      {
        "duration": 620,
        "start_time": "2022-12-22T13:40:36.146Z"
      },
      {
        "duration": 397,
        "start_time": "2022-12-22T13:40:36.768Z"
      },
      {
        "duration": 484,
        "start_time": "2022-12-22T13:40:37.168Z"
      },
      {
        "duration": 3,
        "start_time": "2022-12-22T13:40:37.654Z"
      },
      {
        "duration": 14,
        "start_time": "2022-12-22T13:40:37.659Z"
      },
      {
        "duration": 12,
        "start_time": "2022-12-22T13:40:37.674Z"
      },
      {
        "duration": 631,
        "start_time": "2022-12-22T13:40:37.687Z"
      },
      {
        "duration": 14,
        "start_time": "2022-12-22T13:40:38.320Z"
      },
      {
        "duration": 20,
        "start_time": "2022-12-22T13:40:38.336Z"
      },
      {
        "duration": 21,
        "start_time": "2022-12-22T13:40:38.358Z"
      },
      {
        "duration": 9,
        "start_time": "2022-12-22T13:40:38.380Z"
      },
      {
        "duration": 28,
        "start_time": "2022-12-22T13:40:38.390Z"
      },
      {
        "duration": 11,
        "start_time": "2022-12-22T13:40:38.419Z"
      },
      {
        "duration": 30,
        "start_time": "2022-12-22T13:40:38.432Z"
      },
      {
        "duration": 37,
        "start_time": "2022-12-22T13:40:38.464Z"
      },
      {
        "duration": 22,
        "start_time": "2022-12-22T13:40:38.502Z"
      },
      {
        "duration": 1318,
        "start_time": "2022-12-22T13:54:56.621Z"
      },
      {
        "duration": 727,
        "start_time": "2022-12-22T13:54:57.941Z"
      },
      {
        "duration": 240,
        "start_time": "2022-12-22T13:54:58.669Z"
      },
      {
        "duration": 24,
        "start_time": "2022-12-22T13:54:58.911Z"
      },
      {
        "duration": 2,
        "start_time": "2022-12-22T13:54:58.936Z"
      },
      {
        "duration": 13,
        "start_time": "2022-12-22T13:54:58.940Z"
      },
      {
        "duration": 6,
        "start_time": "2022-12-22T13:54:58.954Z"
      },
      {
        "duration": 24,
        "start_time": "2022-12-22T13:54:58.961Z"
      },
      {
        "duration": 11,
        "start_time": "2022-12-22T13:54:58.986Z"
      },
      {
        "duration": 22,
        "start_time": "2022-12-22T13:54:59.000Z"
      },
      {
        "duration": 18,
        "start_time": "2022-12-22T13:54:59.024Z"
      },
      {
        "duration": 58,
        "start_time": "2022-12-22T13:54:59.044Z"
      },
      {
        "duration": 3,
        "start_time": "2022-12-22T13:54:59.103Z"
      },
      {
        "duration": 23,
        "start_time": "2022-12-22T13:54:59.108Z"
      },
      {
        "duration": 71,
        "start_time": "2022-12-22T13:54:59.133Z"
      },
      {
        "duration": 25,
        "start_time": "2022-12-22T13:54:59.205Z"
      },
      {
        "duration": 70,
        "start_time": "2022-12-22T13:54:59.232Z"
      },
      {
        "duration": 5,
        "start_time": "2022-12-22T13:54:59.303Z"
      },
      {
        "duration": 44,
        "start_time": "2022-12-22T13:54:59.309Z"
      },
      {
        "duration": 269,
        "start_time": "2022-12-22T13:54:59.354Z"
      },
      {
        "duration": 22,
        "start_time": "2022-12-22T13:54:59.624Z"
      },
      {
        "duration": 34,
        "start_time": "2022-12-22T13:54:59.648Z"
      },
      {
        "duration": 17,
        "start_time": "2022-12-22T13:54:59.684Z"
      },
      {
        "duration": 316,
        "start_time": "2022-12-22T13:54:59.703Z"
      },
      {
        "duration": 25,
        "start_time": "2022-12-22T13:55:00.021Z"
      },
      {
        "duration": 31,
        "start_time": "2022-12-22T13:55:00.048Z"
      },
      {
        "duration": 20,
        "start_time": "2022-12-22T13:55:00.080Z"
      },
      {
        "duration": 27,
        "start_time": "2022-12-22T13:55:00.103Z"
      },
      {
        "duration": 37,
        "start_time": "2022-12-22T13:55:00.132Z"
      },
      {
        "duration": 628,
        "start_time": "2022-12-22T13:55:00.170Z"
      },
      {
        "duration": 729,
        "start_time": "2022-12-22T13:55:00.800Z"
      },
      {
        "duration": 613,
        "start_time": "2022-12-22T13:55:01.531Z"
      },
      {
        "duration": 404,
        "start_time": "2022-12-22T13:55:02.145Z"
      },
      {
        "duration": 428,
        "start_time": "2022-12-22T13:55:02.551Z"
      },
      {
        "duration": 3,
        "start_time": "2022-12-22T13:55:02.981Z"
      },
      {
        "duration": 19,
        "start_time": "2022-12-22T13:55:02.986Z"
      },
      {
        "duration": 9,
        "start_time": "2022-12-22T13:55:03.006Z"
      },
      {
        "duration": 619,
        "start_time": "2022-12-22T13:55:03.017Z"
      },
      {
        "duration": 14,
        "start_time": "2022-12-22T13:55:03.638Z"
      },
      {
        "duration": 26,
        "start_time": "2022-12-22T13:55:03.653Z"
      },
      {
        "duration": 7,
        "start_time": "2022-12-22T13:55:03.681Z"
      },
      {
        "duration": 13,
        "start_time": "2022-12-22T13:55:03.689Z"
      },
      {
        "duration": 17,
        "start_time": "2022-12-22T13:55:03.704Z"
      },
      {
        "duration": 4,
        "start_time": "2022-12-22T13:55:03.722Z"
      },
      {
        "duration": 10,
        "start_time": "2022-12-22T13:55:03.727Z"
      },
      {
        "duration": 11,
        "start_time": "2022-12-22T13:55:03.738Z"
      },
      {
        "duration": 30,
        "start_time": "2022-12-22T13:55:03.750Z"
      },
      {
        "duration": 169,
        "start_time": "2022-12-22T13:55:03.781Z"
      },
      {
        "duration": 1529,
        "start_time": "2022-12-22T13:55:03.952Z"
      },
      {
        "duration": 3000,
        "start_time": "2022-12-22T13:55:05.483Z"
      },
      {
        "duration": 93,
        "start_time": "2022-12-22T13:55:08.486Z"
      },
      {
        "duration": 1600,
        "start_time": "2022-12-22T13:55:08.581Z"
      },
      {
        "duration": 1398,
        "start_time": "2022-12-22T13:55:10.182Z"
      },
      {
        "duration": 5,
        "start_time": "2022-12-22T13:55:11.582Z"
      },
      {
        "duration": 1307,
        "start_time": "2022-12-22T13:58:05.825Z"
      },
      {
        "duration": 713,
        "start_time": "2022-12-22T13:58:07.134Z"
      },
      {
        "duration": 216,
        "start_time": "2022-12-22T13:58:07.848Z"
      },
      {
        "duration": 31,
        "start_time": "2022-12-22T13:58:08.066Z"
      },
      {
        "duration": 3,
        "start_time": "2022-12-22T13:58:08.098Z"
      },
      {
        "duration": 11,
        "start_time": "2022-12-22T13:58:08.102Z"
      },
      {
        "duration": 5,
        "start_time": "2022-12-22T13:58:08.115Z"
      },
      {
        "duration": 11,
        "start_time": "2022-12-22T13:58:08.121Z"
      },
      {
        "duration": 6,
        "start_time": "2022-12-22T13:58:08.133Z"
      },
      {
        "duration": 48,
        "start_time": "2022-12-22T13:58:08.142Z"
      },
      {
        "duration": 15,
        "start_time": "2022-12-22T13:58:08.192Z"
      },
      {
        "duration": 28,
        "start_time": "2022-12-22T13:58:08.209Z"
      },
      {
        "duration": 3,
        "start_time": "2022-12-22T13:58:08.239Z"
      },
      {
        "duration": 54,
        "start_time": "2022-12-22T13:58:08.244Z"
      },
      {
        "duration": 49,
        "start_time": "2022-12-22T13:58:08.299Z"
      },
      {
        "duration": 38,
        "start_time": "2022-12-22T13:58:08.349Z"
      },
      {
        "duration": 58,
        "start_time": "2022-12-22T13:58:08.389Z"
      },
      {
        "duration": 5,
        "start_time": "2022-12-22T13:58:08.449Z"
      },
      {
        "duration": 51,
        "start_time": "2022-12-22T13:58:08.455Z"
      },
      {
        "duration": 251,
        "start_time": "2022-12-22T13:58:08.507Z"
      },
      {
        "duration": 28,
        "start_time": "2022-12-22T13:58:08.760Z"
      },
      {
        "duration": 26,
        "start_time": "2022-12-22T13:58:08.789Z"
      },
      {
        "duration": 17,
        "start_time": "2022-12-22T13:58:08.817Z"
      },
      {
        "duration": 322,
        "start_time": "2022-12-22T13:58:08.835Z"
      },
      {
        "duration": 30,
        "start_time": "2022-12-22T13:58:09.159Z"
      },
      {
        "duration": 14,
        "start_time": "2022-12-22T13:58:09.191Z"
      },
      {
        "duration": 5,
        "start_time": "2022-12-22T13:58:09.207Z"
      },
      {
        "duration": 28,
        "start_time": "2022-12-22T13:58:09.215Z"
      },
      {
        "duration": 26,
        "start_time": "2022-12-22T13:58:09.245Z"
      },
      {
        "duration": 607,
        "start_time": "2022-12-22T13:58:09.273Z"
      },
      {
        "duration": 708,
        "start_time": "2022-12-22T13:58:09.882Z"
      },
      {
        "duration": 628,
        "start_time": "2022-12-22T13:58:10.592Z"
      },
      {
        "duration": 423,
        "start_time": "2022-12-22T13:58:11.222Z"
      },
      {
        "duration": 395,
        "start_time": "2022-12-22T13:58:11.647Z"
      },
      {
        "duration": 4,
        "start_time": "2022-12-22T13:58:12.043Z"
      },
      {
        "duration": 11,
        "start_time": "2022-12-22T13:58:12.048Z"
      },
      {
        "duration": 7,
        "start_time": "2022-12-22T13:58:12.060Z"
      },
      {
        "duration": 613,
        "start_time": "2022-12-22T13:58:12.068Z"
      },
      {
        "duration": 14,
        "start_time": "2022-12-22T13:58:12.683Z"
      },
      {
        "duration": 27,
        "start_time": "2022-12-22T13:58:12.699Z"
      },
      {
        "duration": 12,
        "start_time": "2022-12-22T13:58:12.728Z"
      },
      {
        "duration": 15,
        "start_time": "2022-12-22T13:58:12.741Z"
      },
      {
        "duration": 27,
        "start_time": "2022-12-22T13:58:12.758Z"
      },
      {
        "duration": 19,
        "start_time": "2022-12-22T13:58:12.786Z"
      },
      {
        "duration": 25,
        "start_time": "2022-12-22T13:58:12.806Z"
      },
      {
        "duration": 26,
        "start_time": "2022-12-22T13:58:12.833Z"
      },
      {
        "duration": 23,
        "start_time": "2022-12-22T13:58:12.861Z"
      },
      {
        "duration": 1362,
        "start_time": "2022-12-22T14:01:16.155Z"
      },
      {
        "duration": 1328,
        "start_time": "2022-12-22T14:02:10.894Z"
      },
      {
        "duration": 715,
        "start_time": "2022-12-22T14:02:12.224Z"
      },
      {
        "duration": 222,
        "start_time": "2022-12-22T14:02:12.941Z"
      },
      {
        "duration": 31,
        "start_time": "2022-12-22T14:02:13.165Z"
      },
      {
        "duration": 3,
        "start_time": "2022-12-22T14:02:13.197Z"
      },
      {
        "duration": 15,
        "start_time": "2022-12-22T14:02:13.201Z"
      },
      {
        "duration": 5,
        "start_time": "2022-12-22T14:02:13.218Z"
      },
      {
        "duration": 12,
        "start_time": "2022-12-22T14:02:13.224Z"
      },
      {
        "duration": 7,
        "start_time": "2022-12-22T14:02:13.237Z"
      },
      {
        "duration": 45,
        "start_time": "2022-12-22T14:02:13.246Z"
      },
      {
        "duration": 16,
        "start_time": "2022-12-22T14:02:13.292Z"
      },
      {
        "duration": 27,
        "start_time": "2022-12-22T14:02:13.309Z"
      },
      {
        "duration": 3,
        "start_time": "2022-12-22T14:02:13.337Z"
      },
      {
        "duration": 46,
        "start_time": "2022-12-22T14:02:13.341Z"
      },
      {
        "duration": 49,
        "start_time": "2022-12-22T14:02:13.388Z"
      },
      {
        "duration": 44,
        "start_time": "2022-12-22T14:02:13.439Z"
      },
      {
        "duration": 60,
        "start_time": "2022-12-22T14:02:13.484Z"
      },
      {
        "duration": 4,
        "start_time": "2022-12-22T14:02:13.546Z"
      },
      {
        "duration": 59,
        "start_time": "2022-12-22T14:02:13.552Z"
      },
      {
        "duration": 254,
        "start_time": "2022-12-22T14:02:13.613Z"
      },
      {
        "duration": 27,
        "start_time": "2022-12-22T14:02:13.869Z"
      },
      {
        "duration": 20,
        "start_time": "2022-12-22T14:02:13.897Z"
      },
      {
        "duration": 17,
        "start_time": "2022-12-22T14:02:13.918Z"
      },
      {
        "duration": 366,
        "start_time": "2022-12-22T14:02:13.936Z"
      },
      {
        "duration": 24,
        "start_time": "2022-12-22T14:02:14.303Z"
      },
      {
        "duration": 14,
        "start_time": "2022-12-22T14:02:14.329Z"
      },
      {
        "duration": 4,
        "start_time": "2022-12-22T14:02:14.345Z"
      },
      {
        "duration": 4,
        "start_time": "2022-12-22T14:02:14.353Z"
      },
      {
        "duration": 14,
        "start_time": "2022-12-22T14:02:14.377Z"
      },
      {
        "duration": 637,
        "start_time": "2022-12-22T14:02:14.392Z"
      },
      {
        "duration": 727,
        "start_time": "2022-12-22T14:02:15.030Z"
      },
      {
        "duration": 615,
        "start_time": "2022-12-22T14:02:15.758Z"
      },
      {
        "duration": 381,
        "start_time": "2022-12-22T14:02:16.374Z"
      },
      {
        "duration": 406,
        "start_time": "2022-12-22T14:02:16.756Z"
      },
      {
        "duration": 3,
        "start_time": "2022-12-22T14:02:17.164Z"
      },
      {
        "duration": 12,
        "start_time": "2022-12-22T14:02:17.169Z"
      },
      {
        "duration": 5,
        "start_time": "2022-12-22T14:02:17.183Z"
      },
      {
        "duration": 625,
        "start_time": "2022-12-22T14:02:17.189Z"
      },
      {
        "duration": 14,
        "start_time": "2022-12-22T14:02:17.815Z"
      },
      {
        "duration": 21,
        "start_time": "2022-12-22T14:02:17.830Z"
      },
      {
        "duration": 25,
        "start_time": "2022-12-22T14:02:17.852Z"
      },
      {
        "duration": 7,
        "start_time": "2022-12-22T14:02:17.879Z"
      },
      {
        "duration": 19,
        "start_time": "2022-12-22T14:02:17.889Z"
      },
      {
        "duration": 4,
        "start_time": "2022-12-22T14:02:17.910Z"
      },
      {
        "duration": 7,
        "start_time": "2022-12-22T14:02:17.915Z"
      },
      {
        "duration": 8,
        "start_time": "2022-12-22T14:02:17.924Z"
      },
      {
        "duration": 11,
        "start_time": "2022-12-22T14:02:17.934Z"
      },
      {
        "duration": 190,
        "start_time": "2022-12-22T14:02:17.946Z"
      },
      {
        "duration": 1340,
        "start_time": "2022-12-22T14:02:18.138Z"
      },
      {
        "duration": 2799,
        "start_time": "2022-12-22T14:02:19.480Z"
      },
      {
        "duration": 3,
        "start_time": "2022-12-22T14:02:22.281Z"
      },
      {
        "duration": 1297,
        "start_time": "2022-12-22T14:02:22.286Z"
      },
      {
        "duration": 1794,
        "start_time": "2022-12-22T14:02:23.584Z"
      },
      {
        "duration": 3,
        "start_time": "2022-12-22T14:02:25.380Z"
      },
      {
        "duration": 1729764,
        "start_time": "2022-12-22T14:02:25.385Z"
      },
      {
        "duration": 56427,
        "start_time": "2022-12-22T14:31:15.150Z"
      },
      {
        "duration": 55788,
        "start_time": "2022-12-22T14:32:11.579Z"
      },
      {
        "duration": 12,
        "start_time": "2022-12-22T14:33:07.368Z"
      },
      {
        "duration": 238975,
        "start_time": "2022-12-22T14:33:28.204Z"
      },
      {
        "duration": 84,
        "start_time": "2022-12-22T14:37:27.181Z"
      },
      {
        "duration": 0,
        "start_time": "2022-12-22T14:37:27.267Z"
      }
    ],
    "kernelspec": {
      "display_name": "Python 3 (ipykernel)",
      "language": "python",
      "name": "python3"
    },
    "language_info": {
      "codemirror_mode": {
        "name": "ipython",
        "version": 3
      },
      "file_extension": ".py",
      "mimetype": "text/x-python",
      "name": "python",
      "nbconvert_exporter": "python",
      "pygments_lexer": "ipython3",
      "version": "3.9.5"
    },
    "toc": {
      "base_numbering": 1,
      "nav_menu": {},
      "number_sections": true,
      "sideBar": true,
      "skip_h1_title": true,
      "title_cell": "Содержание",
      "title_sidebar": "Contents",
      "toc_cell": true,
      "toc_position": {
        "height": "396px",
        "left": "853px",
        "top": "111.125px",
        "width": "212px"
      },
      "toc_section_display": true,
      "toc_window_display": true
    },
    "colab": {
      "provenance": [],
      "include_colab_link": true
    }
  },
  "nbformat": 4,
  "nbformat_minor": 0
}