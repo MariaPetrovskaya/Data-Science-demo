{
  "cells": [
    {
      "cell_type": "markdown",
      "metadata": {
        "id": "view-in-github",
        "colab_type": "text"
      },
      "source": [
        "<a href=\"https://colab.research.google.com/github/MariaPetrovskaya/Data-Science-demo/blob/main/mashine_learning_in_banking_case/mashine_learning_in_banking_case.ipynb\" target=\"_parent\"><img src=\"https://colab.research.google.com/assets/colab-badge.svg\" alt=\"Open In Colab\"/></a>"
      ]
    },
    {
      "cell_type": "markdown",
      "metadata": {
        "toc": true,
        "id": "CmYZBNJhB1wc"
      },
      "source": [
        "<h1>Содержание<span class=\"tocSkip\"></span></h1>\n",
        "<div class=\"toc\"><ul class=\"toc-item\"><li><span><a href=\"#Подготовка-данных\" data-toc-modified-id=\"Подготовка-данных-1\"><span class=\"toc-item-num\">1&nbsp;&nbsp;</span>Подготовка данных</a></span></li><li><span><a href=\"#Исследование-задачи\" data-toc-modified-id=\"Исследование-задачи-2\"><span class=\"toc-item-num\">2&nbsp;&nbsp;</span>Исследование задачи</a></span></li><li><span><a href=\"#Борьба-с-дисбалансом\" data-toc-modified-id=\"Борьба-с-дисбалансом-3\"><span class=\"toc-item-num\">3&nbsp;&nbsp;</span>Борьба с дисбалансом</a></span></li><li><span><a href=\"#Тестирование-модели\" data-toc-modified-id=\"Тестирование-модели-4\"><span class=\"toc-item-num\">4&nbsp;&nbsp;</span>Тестирование модели</a></span></li></ul></div>"
      ]
    },
    {
      "cell_type": "markdown",
      "metadata": {
        "id": "PrtxVd_uB1wj"
      },
      "source": [
        "# Отток клиентов"
      ]
    },
    {
      "cell_type": "markdown",
      "metadata": {
        "id": "4KWJwRBkB1wk"
      },
      "source": [
        "Из «Бета-Банка» стали уходить клиенты. Каждый месяц. Немного, но заметно. Банковские маркетологи посчитали: сохранять текущих клиентов дешевле, чем привлекать новых.\n",
        "\n",
        "Нужно спрогнозировать, уйдёт клиент из банка в ближайшее время или нет. Вам предоставлены исторические данные о поведении клиентов и расторжении договоров с банком. \n",
        "\n",
        "Постройте модель с предельно большим значением *F1*-меры. Чтобы сдать проект успешно, нужно довести метрику до 0.59. Проверьте *F1*-меру на тестовой выборке самостоятельно.\n",
        "\n",
        "Дополнительно измеряйте *AUC-ROC*, сравнивайте её значение с *F1*-мерой.\n",
        "\n",
        "Источник данных: [https://www.kaggle.com/barelydedicated/bank-customer-churn-modeling](https://www.kaggle.com/barelydedicated/bank-customer-churn-modeling)"
      ]
    },
    {
      "cell_type": "markdown",
      "metadata": {
        "id": "F0lh2WiRB1wl"
      },
      "source": [
        "<b> Цели и задачи проекта: </b>\n",
        "\n",
        "Составить модель, прогнозирующую уход клиента из «Бета-Банка»\n",
        "\n",
        "<b> Данные: </b>\n",
        "\n",
        "Датасет (10000 строк) с данными о клиентах банка по признакам: \n",
        " - RowNumber — индекс строки в данных\n",
        " - CustomerId — уникальный идентификатор клиента\n",
        " - Surname — фамилия\n",
        " - CreditScore — кредитный рейтинг\n",
        " - Geography — страна проживания\n",
        " - Gender — пол\n",
        " - Age — возраст\n",
        " - Tenure — сколько лет человек является клиентом банка\n",
        " - Balance — баланс на счёте\n",
        " - NumOfProducts — количество продуктов банка, используемых клиентом\n",
        " - HasCrCard — наличие кредитной карты\n",
        " - IsActiveMember — активность клиента\n",
        " - EstimatedSalary — предполагаемая зарплата\n",
        " \n",
        "<b> Целевой признак: </b>  Exited — факт ухода клиента\n",
        "\n",
        "<b> План работы: </b>\n",
        "\n",
        "- Чтение и предварительная обработка данных \n",
        "- Анализ проблемы дисбаланса данных \n",
        "- Применение методов борьбы с дисбалансов\n",
        "- Выбор оптимального алгоритма, прогнозирующего уход клиента \n",
        "- Тестирование выбранного алгоритма\n",
        "- Выводы "
      ]
    },
    {
      "cell_type": "markdown",
      "metadata": {
        "id": "wMuzb39jB1wm"
      },
      "source": [
        "## Подготовка данных"
      ]
    },
    {
      "cell_type": "code",
      "execution_count": null,
      "metadata": {
        "id": "LCLxamp_B1wm"
      },
      "outputs": [],
      "source": [
        "import pandas as pd\n",
        "import numpy as np\n",
        "import matplotlib.pyplot as plt\n",
        "from sklearn.model_selection import train_test_split\n",
        "from sklearn.metrics import mean_squared_error\n",
        "from sklearn.ensemble import RandomForestClassifier\n",
        "from sklearn.tree import DecisionTreeClassifier\n",
        "from sklearn.metrics import accuracy_score\n",
        "from joblib import dump\n",
        "from sklearn.linear_model import LogisticRegression\n",
        "from sklearn.dummy import DummyClassifier\n",
        "from sklearn.preprocessing import StandardScaler\n",
        "from sklearn.metrics import confusion_matrix\n",
        "from sklearn.metrics import recall_score\n",
        "from sklearn.metrics import precision_score\n",
        "from sklearn.metrics import f1_score\n",
        "from sklearn.utils import shuffle\n",
        "from sklearn.metrics import roc_auc_score\n",
        "from sklearn.metrics import roc_curve\n",
        "from sklearn.metrics import mean_squared_error\n",
        "from sklearn.metrics import r2_score\n",
        "from sklearn.metrics import mean_absolute_error\n",
        "from sklearn.metrics import precision_recall_curve"
      ]
    },
    {
      "cell_type": "markdown",
      "metadata": {
        "id": "-n5yFv4CB1wp"
      },
      "source": [
        "Загрузка всех библиотек "
      ]
    },
    {
      "cell_type": "code",
      "execution_count": null,
      "metadata": {
        "id": "cH2PRnl7B1wq",
        "outputId": "014f8059-3389-4758-fff3-30b83051337b"
      },
      "outputs": [
        {
          "data": {
            "text/html": [
              "<div>\n",
              "<style scoped>\n",
              "    .dataframe tbody tr th:only-of-type {\n",
              "        vertical-align: middle;\n",
              "    }\n",
              "\n",
              "    .dataframe tbody tr th {\n",
              "        vertical-align: top;\n",
              "    }\n",
              "\n",
              "    .dataframe thead th {\n",
              "        text-align: right;\n",
              "    }\n",
              "</style>\n",
              "<table border=\"1\" class=\"dataframe\">\n",
              "  <thead>\n",
              "    <tr style=\"text-align: right;\">\n",
              "      <th></th>\n",
              "      <th>RowNumber</th>\n",
              "      <th>CustomerId</th>\n",
              "      <th>Surname</th>\n",
              "      <th>CreditScore</th>\n",
              "      <th>Geography</th>\n",
              "      <th>Gender</th>\n",
              "      <th>Age</th>\n",
              "      <th>Tenure</th>\n",
              "      <th>Balance</th>\n",
              "      <th>NumOfProducts</th>\n",
              "      <th>HasCrCard</th>\n",
              "      <th>IsActiveMember</th>\n",
              "      <th>EstimatedSalary</th>\n",
              "      <th>Exited</th>\n",
              "    </tr>\n",
              "  </thead>\n",
              "  <tbody>\n",
              "    <tr>\n",
              "      <th>0</th>\n",
              "      <td>1</td>\n",
              "      <td>15634602</td>\n",
              "      <td>Hargrave</td>\n",
              "      <td>619</td>\n",
              "      <td>France</td>\n",
              "      <td>Female</td>\n",
              "      <td>42</td>\n",
              "      <td>2.0</td>\n",
              "      <td>0.00</td>\n",
              "      <td>1</td>\n",
              "      <td>1</td>\n",
              "      <td>1</td>\n",
              "      <td>101348.88</td>\n",
              "      <td>1</td>\n",
              "    </tr>\n",
              "    <tr>\n",
              "      <th>1</th>\n",
              "      <td>2</td>\n",
              "      <td>15647311</td>\n",
              "      <td>Hill</td>\n",
              "      <td>608</td>\n",
              "      <td>Spain</td>\n",
              "      <td>Female</td>\n",
              "      <td>41</td>\n",
              "      <td>1.0</td>\n",
              "      <td>83807.86</td>\n",
              "      <td>1</td>\n",
              "      <td>0</td>\n",
              "      <td>1</td>\n",
              "      <td>112542.58</td>\n",
              "      <td>0</td>\n",
              "    </tr>\n",
              "    <tr>\n",
              "      <th>2</th>\n",
              "      <td>3</td>\n",
              "      <td>15619304</td>\n",
              "      <td>Onio</td>\n",
              "      <td>502</td>\n",
              "      <td>France</td>\n",
              "      <td>Female</td>\n",
              "      <td>42</td>\n",
              "      <td>8.0</td>\n",
              "      <td>159660.80</td>\n",
              "      <td>3</td>\n",
              "      <td>1</td>\n",
              "      <td>0</td>\n",
              "      <td>113931.57</td>\n",
              "      <td>1</td>\n",
              "    </tr>\n",
              "    <tr>\n",
              "      <th>3</th>\n",
              "      <td>4</td>\n",
              "      <td>15701354</td>\n",
              "      <td>Boni</td>\n",
              "      <td>699</td>\n",
              "      <td>France</td>\n",
              "      <td>Female</td>\n",
              "      <td>39</td>\n",
              "      <td>1.0</td>\n",
              "      <td>0.00</td>\n",
              "      <td>2</td>\n",
              "      <td>0</td>\n",
              "      <td>0</td>\n",
              "      <td>93826.63</td>\n",
              "      <td>0</td>\n",
              "    </tr>\n",
              "    <tr>\n",
              "      <th>4</th>\n",
              "      <td>5</td>\n",
              "      <td>15737888</td>\n",
              "      <td>Mitchell</td>\n",
              "      <td>850</td>\n",
              "      <td>Spain</td>\n",
              "      <td>Female</td>\n",
              "      <td>43</td>\n",
              "      <td>2.0</td>\n",
              "      <td>125510.82</td>\n",
              "      <td>1</td>\n",
              "      <td>1</td>\n",
              "      <td>1</td>\n",
              "      <td>79084.10</td>\n",
              "      <td>0</td>\n",
              "    </tr>\n",
              "  </tbody>\n",
              "</table>\n",
              "</div>"
            ],
            "text/plain": [
              "   RowNumber  CustomerId   Surname  CreditScore Geography  Gender  Age  \\\n",
              "0          1    15634602  Hargrave          619    France  Female   42   \n",
              "1          2    15647311      Hill          608     Spain  Female   41   \n",
              "2          3    15619304      Onio          502    France  Female   42   \n",
              "3          4    15701354      Boni          699    France  Female   39   \n",
              "4          5    15737888  Mitchell          850     Spain  Female   43   \n",
              "\n",
              "   Tenure    Balance  NumOfProducts  HasCrCard  IsActiveMember  \\\n",
              "0     2.0       0.00              1          1               1   \n",
              "1     1.0   83807.86              1          0               1   \n",
              "2     8.0  159660.80              3          1               0   \n",
              "3     1.0       0.00              2          0               0   \n",
              "4     2.0  125510.82              1          1               1   \n",
              "\n",
              "   EstimatedSalary  Exited  \n",
              "0        101348.88       1  \n",
              "1        112542.58       0  \n",
              "2        113931.57       1  \n",
              "3         93826.63       0  \n",
              "4         79084.10       0  "
            ]
          },
          "metadata": {},
          "output_type": "display_data"
        },
        {
          "name": "stdout",
          "output_type": "stream",
          "text": [
            "<class 'pandas.core.frame.DataFrame'>\n",
            "RangeIndex: 10000 entries, 0 to 9999\n",
            "Data columns (total 14 columns):\n",
            " #   Column           Non-Null Count  Dtype  \n",
            "---  ------           --------------  -----  \n",
            " 0   RowNumber        10000 non-null  int64  \n",
            " 1   CustomerId       10000 non-null  int64  \n",
            " 2   Surname          10000 non-null  object \n",
            " 3   CreditScore      10000 non-null  int64  \n",
            " 4   Geography        10000 non-null  object \n",
            " 5   Gender           10000 non-null  object \n",
            " 6   Age              10000 non-null  int64  \n",
            " 7   Tenure           9091 non-null   float64\n",
            " 8   Balance          10000 non-null  float64\n",
            " 9   NumOfProducts    10000 non-null  int64  \n",
            " 10  HasCrCard        10000 non-null  int64  \n",
            " 11  IsActiveMember   10000 non-null  int64  \n",
            " 12  EstimatedSalary  10000 non-null  float64\n",
            " 13  Exited           10000 non-null  int64  \n",
            "dtypes: float64(3), int64(8), object(3)\n",
            "memory usage: 1.1+ MB\n",
            "None\n",
            "0\n"
          ]
        }
      ],
      "source": [
        "df = pd.read_csv('/datasets/Churn.csv')\n",
        "data = df.copy()\n",
        "display (data.head(5))\n",
        "print (data.info())\n",
        "print (data.duplicated().sum())"
      ]
    },
    {
      "cell_type": "markdown",
      "metadata": {
        "id": "vTGlA3yjB1wt"
      },
      "source": [
        "Открытие файла и изучение его. **Выводы** Проверка на явные дубликаты - дубликатов нет.\n",
        "Есть пропуски в столбце Tenure (сколько лет человек является клиентом банка - новые клиенты?) Дополнительно смотрю значения столбца Tenure \n"
      ]
    },
    {
      "cell_type": "code",
      "execution_count": null,
      "metadata": {
        "id": "-pHDJXPaB1wu",
        "outputId": "1ab8eaec-d49e-46d5-b116-02e8bf878182"
      },
      "outputs": [
        {
          "name": "stdout",
          "output_type": "stream",
          "text": [
            "[ 2.  1.  8.  7.  4.  6.  3. 10.  5.  9.  0. nan]\n"
          ]
        }
      ],
      "source": [
        "print(data['Tenure'].unique())"
      ]
    },
    {
      "cell_type": "markdown",
      "metadata": {
        "id": "XYe5uhS4B1wv"
      },
      "source": [
        "Присутствуют значения и 0, и nan. "
      ]
    },
    {
      "cell_type": "code",
      "execution_count": null,
      "metadata": {
        "id": "xIc-kQW2B1wv",
        "outputId": "86749ae2-c3a0-4685-df5f-8f4d5d5eb93d"
      },
      "outputs": [
        {
          "name": "stdout",
          "output_type": "stream",
          "text": [
            "[1 0]\n",
            "        RowNumber  CustomerId  Surname  CreditScore  Geography  Gender   Age  \\\n",
            "Exited                                                                         \n",
            "0            7963        7963     7963         7963       7963    7963  7963   \n",
            "1            2037        2037     2037         2037       2037    2037  2037   \n",
            "\n",
            "        Tenure  Balance  NumOfProducts  HasCrCard  IsActiveMember  \\\n",
            "Exited                                                              \n",
            "0         7237     7963           7963       7963            7963   \n",
            "1         1854     2037           2037       2037            2037   \n",
            "\n",
            "        EstimatedSalary  \n",
            "Exited                   \n",
            "0                  7963  \n",
            "1                  2037  \n"
          ]
        }
      ],
      "source": [
        "print(data['Exited'].unique())\n",
        "\n",
        "print(data.groupby(data['Exited']).count())"
      ]
    },
    {
      "cell_type": "code",
      "execution_count": null,
      "metadata": {
        "id": "gUU8hq5aB1wv",
        "outputId": "dbb79dd4-e79a-41e0-8300-e026fca030d1"
      },
      "outputs": [
        {
          "name": "stdout",
          "output_type": "stream",
          "text": [
            "[ 2.  1.  8.  7.  4.  6.  3. 10.  5.  9.  0.]\n"
          ]
        }
      ],
      "source": [
        "data['Tenure']= data['Tenure'].fillna(0)\n",
        "print(data['Tenure'].unique())"
      ]
    },
    {
      "cell_type": "code",
      "execution_count": null,
      "metadata": {
        "id": "gBvTIFozB1ww",
        "outputId": "d8c2d3b4-cadf-4989-d52c-7dc1fe0bde43"
      },
      "outputs": [
        {
          "name": "stdout",
          "output_type": "stream",
          "text": [
            "[1 0]\n"
          ]
        }
      ],
      "source": [
        "print(data['IsActiveMember'].unique())"
      ]
    },
    {
      "cell_type": "markdown",
      "metadata": {
        "id": "0fHMETQ7B1wx"
      },
      "source": [
        "Интересно, что за значения в столбце активности клиента. **Вывод** [1 0] Булиевы. "
      ]
    },
    {
      "cell_type": "code",
      "execution_count": null,
      "metadata": {
        "id": "bL7OUSKmB1wx",
        "outputId": "22e9bf25-0646-4276-bbf5-53fbfdd03b74"
      },
      "outputs": [
        {
          "name": "stdout",
          "output_type": "stream",
          "text": [
            "['Female' 'Male']\n"
          ]
        }
      ],
      "source": [
        "print(data['Gender'].unique())"
      ]
    },
    {
      "cell_type": "markdown",
      "metadata": {
        "id": "z1-W7QG1B1wx"
      },
      "source": [
        "Значения в стобце Gender решила обработать в числовые значения, в один новый столбец.  "
      ]
    },
    {
      "cell_type": "code",
      "execution_count": null,
      "metadata": {
        "id": "N9UQcnlXB1wx",
        "outputId": "92347005-ab14-4b7d-93da-3b367778c33d"
      },
      "outputs": [
        {
          "name": "stdout",
          "output_type": "stream",
          "text": [
            "    Male\n",
            "0      0\n",
            "1      0\n",
            "2      0\n",
            "3      0\n",
            "4      0\n",
            "5      1\n",
            "6      1\n",
            "7      0\n",
            "8      1\n",
            "9      1\n",
            "10     1\n",
            "11     1\n",
            "12     0\n",
            "13     0\n",
            "14     0\n",
            "15     1\n",
            "16     1\n",
            "17     0\n",
            "18     1\n",
            "19     0\n"
          ]
        },
        {
          "data": {
            "text/html": [
              "<div>\n",
              "<style scoped>\n",
              "    .dataframe tbody tr th:only-of-type {\n",
              "        vertical-align: middle;\n",
              "    }\n",
              "\n",
              "    .dataframe tbody tr th {\n",
              "        vertical-align: top;\n",
              "    }\n",
              "\n",
              "    .dataframe thead th {\n",
              "        text-align: right;\n",
              "    }\n",
              "</style>\n",
              "<table border=\"1\" class=\"dataframe\">\n",
              "  <thead>\n",
              "    <tr style=\"text-align: right;\">\n",
              "      <th></th>\n",
              "      <th>RowNumber</th>\n",
              "      <th>CustomerId</th>\n",
              "      <th>Surname</th>\n",
              "      <th>CreditScore</th>\n",
              "      <th>Geography</th>\n",
              "      <th>Gender</th>\n",
              "      <th>Age</th>\n",
              "      <th>Tenure</th>\n",
              "      <th>Balance</th>\n",
              "      <th>NumOfProducts</th>\n",
              "      <th>HasCrCard</th>\n",
              "      <th>IsActiveMember</th>\n",
              "      <th>EstimatedSalary</th>\n",
              "      <th>Exited</th>\n",
              "      <th>Male</th>\n",
              "    </tr>\n",
              "  </thead>\n",
              "  <tbody>\n",
              "    <tr>\n",
              "      <th>0</th>\n",
              "      <td>1</td>\n",
              "      <td>15634602</td>\n",
              "      <td>Hargrave</td>\n",
              "      <td>619</td>\n",
              "      <td>France</td>\n",
              "      <td>Female</td>\n",
              "      <td>42</td>\n",
              "      <td>2.0</td>\n",
              "      <td>0.00</td>\n",
              "      <td>1</td>\n",
              "      <td>1</td>\n",
              "      <td>1</td>\n",
              "      <td>101348.88</td>\n",
              "      <td>1</td>\n",
              "      <td>0</td>\n",
              "    </tr>\n",
              "    <tr>\n",
              "      <th>1</th>\n",
              "      <td>2</td>\n",
              "      <td>15647311</td>\n",
              "      <td>Hill</td>\n",
              "      <td>608</td>\n",
              "      <td>Spain</td>\n",
              "      <td>Female</td>\n",
              "      <td>41</td>\n",
              "      <td>1.0</td>\n",
              "      <td>83807.86</td>\n",
              "      <td>1</td>\n",
              "      <td>0</td>\n",
              "      <td>1</td>\n",
              "      <td>112542.58</td>\n",
              "      <td>0</td>\n",
              "      <td>0</td>\n",
              "    </tr>\n",
              "    <tr>\n",
              "      <th>2</th>\n",
              "      <td>3</td>\n",
              "      <td>15619304</td>\n",
              "      <td>Onio</td>\n",
              "      <td>502</td>\n",
              "      <td>France</td>\n",
              "      <td>Female</td>\n",
              "      <td>42</td>\n",
              "      <td>8.0</td>\n",
              "      <td>159660.80</td>\n",
              "      <td>3</td>\n",
              "      <td>1</td>\n",
              "      <td>0</td>\n",
              "      <td>113931.57</td>\n",
              "      <td>1</td>\n",
              "      <td>0</td>\n",
              "    </tr>\n",
              "    <tr>\n",
              "      <th>3</th>\n",
              "      <td>4</td>\n",
              "      <td>15701354</td>\n",
              "      <td>Boni</td>\n",
              "      <td>699</td>\n",
              "      <td>France</td>\n",
              "      <td>Female</td>\n",
              "      <td>39</td>\n",
              "      <td>1.0</td>\n",
              "      <td>0.00</td>\n",
              "      <td>2</td>\n",
              "      <td>0</td>\n",
              "      <td>0</td>\n",
              "      <td>93826.63</td>\n",
              "      <td>0</td>\n",
              "      <td>0</td>\n",
              "    </tr>\n",
              "    <tr>\n",
              "      <th>4</th>\n",
              "      <td>5</td>\n",
              "      <td>15737888</td>\n",
              "      <td>Mitchell</td>\n",
              "      <td>850</td>\n",
              "      <td>Spain</td>\n",
              "      <td>Female</td>\n",
              "      <td>43</td>\n",
              "      <td>2.0</td>\n",
              "      <td>125510.82</td>\n",
              "      <td>1</td>\n",
              "      <td>1</td>\n",
              "      <td>1</td>\n",
              "      <td>79084.10</td>\n",
              "      <td>0</td>\n",
              "      <td>0</td>\n",
              "    </tr>\n",
              "  </tbody>\n",
              "</table>\n",
              "</div>"
            ],
            "text/plain": [
              "   RowNumber  CustomerId   Surname  CreditScore Geography  Gender  Age  \\\n",
              "0          1    15634602  Hargrave          619    France  Female   42   \n",
              "1          2    15647311      Hill          608     Spain  Female   41   \n",
              "2          3    15619304      Onio          502    France  Female   42   \n",
              "3          4    15701354      Boni          699    France  Female   39   \n",
              "4          5    15737888  Mitchell          850     Spain  Female   43   \n",
              "\n",
              "   Tenure    Balance  NumOfProducts  HasCrCard  IsActiveMember  \\\n",
              "0     2.0       0.00              1          1               1   \n",
              "1     1.0   83807.86              1          0               1   \n",
              "2     8.0  159660.80              3          1               0   \n",
              "3     1.0       0.00              2          0               0   \n",
              "4     2.0  125510.82              1          1               1   \n",
              "\n",
              "   EstimatedSalary  Exited  Male  \n",
              "0        101348.88       1     0  \n",
              "1        112542.58       0     0  \n",
              "2        113931.57       1     0  \n",
              "3         93826.63       0     0  \n",
              "4         79084.10       0     0  "
            ]
          },
          "metadata": {},
          "output_type": "display_data"
        }
      ],
      "source": [
        "data['Male']= pd.get_dummies(data['Gender'], drop_first=True)\n",
        "print(pd.get_dummies(data['Gender'], drop_first=True).head(20))\n",
        "display (data.head(5)) "
      ]
    },
    {
      "cell_type": "markdown",
      "metadata": {
        "id": "t0mRq_tgB1wy"
      },
      "source": [
        "**Проведена обработка** Колонка Gender преобразована в колонку 'Male' техникой OHE и добавлена в датафрейм"
      ]
    },
    {
      "cell_type": "code",
      "execution_count": null,
      "metadata": {
        "id": "mnKKTi1lB1wy",
        "outputId": "0a9a9686-77d4-49a6-dfe8-edd7a14af4bd"
      },
      "outputs": [
        {
          "name": "stdout",
          "output_type": "stream",
          "text": [
            "['France' 'Spain' 'Germany']\n"
          ]
        }
      ],
      "source": [
        "print(data['Geography'].unique())"
      ]
    },
    {
      "cell_type": "markdown",
      "metadata": {
        "id": "geyZOcAZB1wy"
      },
      "source": [
        "Значений всего 3. В них с точки зрения исследования может быть практический смысл. Требуется их перекодировать. Логично будет добавить 3 столбца с названиями стран. \"drop_first=True\" в этом случае решила не применять. "
      ]
    },
    {
      "cell_type": "code",
      "execution_count": null,
      "metadata": {
        "id": "W2k2Sbu1B1wz"
      },
      "outputs": [],
      "source": [
        "print(pd.get_dummies(data['Geography']))\n",
        "print(pd.get_dummies(data, columns= ['Geography']))\n",
        "print(data.head())\n",
        "data_new = pd.get_dummies(data, columns= ['Geography'])\n",
        "print(data_new.head())"
      ]
    },
    {
      "cell_type": "markdown",
      "metadata": {
        "id": "OJKarBD5B1wz"
      },
      "source": [
        "## Исследование задачи"
      ]
    },
    {
      "cell_type": "code",
      "execution_count": null,
      "metadata": {
        "id": "YrcA9YYNB1wz",
        "outputId": "910bd1b9-cfbb-462f-bbd0-f5eb76cb2f2a"
      },
      "outputs": [
        {
          "name": "stdout",
          "output_type": "stream",
          "text": [
            "features_train shape: (6000, 11)\n",
            "features_valid shape: (2000, 11)\n",
            "features_test shape: (2000, 11)\n",
            "target_train shape: (6000,)\n",
            "target_valid shape: (2000,)\n",
            "target_test shape: (2000,)\n"
          ]
        }
      ],
      "source": [
        "features = data_new.drop(['Exited','RowNumber','CustomerId','Surname','Gender', 'Geography_Spain' ], axis=1)\n",
        "target = data_new['Exited']\n",
        "features_train, features_valid_test, target_train, target_valid_test = train_test_split(\n",
        "    features, target, test_size=0.40, random_state=12345)\n",
        "features_valid, features_test, target_valid, target_test = train_test_split(\n",
        "    features_valid_test, target_valid_test, test_size=0.50, random_state=12345)\n",
        "print('features_train shape:', features_train.shape)\n",
        "print('features_valid shape:', features_valid.shape)\n",
        "print('features_test shape:', features_test.shape)\n",
        "print('target_train shape:', target_train.shape)\n",
        "print('target_valid shape:', target_valid.shape)\n",
        "print('target_test shape:', target_test.shape)"
      ]
    },
    {
      "cell_type": "markdown",
      "metadata": {
        "id": "BySqC41GB1w0"
      },
      "source": [
        "**Результаты** Без учета дисбаланса, данные разбиты на 3 части: обучающая выборка (60%), валидизационная (20%), тестовая (20%). Убраны столбцы с несущественной для исследования информацией (имена, порядковые номера) а также столбецы 'Geography_Spain' и 'Gender', т.к. дублируют оставшиеся "
      ]
    },
    {
      "cell_type": "code",
      "execution_count": null,
      "metadata": {
        "id": "yTQjVvGUB1w0",
        "outputId": "d67a6003-7a57-4624-a874-ea60bbe7a1b4"
      },
      "outputs": [
        {
          "name": "stdout",
          "output_type": "stream",
          "text": [
            "Recall= 0.04784688995215311\n",
            "Precision 0.3389830508474576\n",
            "F1 0.08385744234800838\n",
            "Accuracy модели логистической регрессии: 0.7815\n"
          ]
        }
      ],
      "source": [
        "model = LogisticRegression(random_state=12345, solver='liblinear', max_iter=1000)\n",
        "model.fit(features_train, target_train)\n",
        "predictions_valid = model.predict(features_valid)\n",
        "accuracy = accuracy_score(target_valid, predictions_valid)\n",
        "print('Recall=',recall_score(target_valid, predictions_valid))\n",
        "print('Precision', precision_score(target_valid,predictions_valid))\n",
        "print('F1',f1_score(target_valid,predictions_valid))\n",
        "print(\"Accuracy модели логистической регрессии:\", accuracy)"
      ]
    },
    {
      "cell_type": "markdown",
      "metadata": {
        "id": "dPKTCErTB1w1"
      },
      "source": [
        "**Результаты** Без учета дисбаланса классов применена модель логистической регрессии и посчитана Accuracy модели (не показательная метрика в данном случае, как оказалось) и другие метрики (ниже чем нужно). "
      ]
    },
    {
      "cell_type": "code",
      "execution_count": null,
      "metadata": {
        "id": "sH28uSp0B1w2",
        "outputId": "3611a75e-3bf6-41d6-fd05-0854a8b1e7fa"
      },
      "outputs": [
        {
          "name": "stdout",
          "output_type": "stream",
          "text": [
            "Recall= 0.4138755980861244\n",
            "Precision 0.7792792792792793\n",
            "F1 0.5406249999999999\n",
            "Accuracy модели дерево решений: 0.853\n"
          ]
        }
      ],
      "source": [
        "model = DecisionTreeClassifier(random_state=12345, max_depth=5)\n",
        "model.fit(features_train, target_train)\n",
        "predictions_valid = model.predict(features_valid)\n",
        "accuracy = accuracy_score(target_valid, predictions_valid)\n",
        "print('Recall=',recall_score(target_valid, predictions_valid))\n",
        "print('Precision', precision_score(target_valid,predictions_valid))\n",
        "print('F1',f1_score(target_valid,predictions_valid))\n",
        "print(\"Accuracy модели дерево решений:\", accuracy)"
      ]
    },
    {
      "cell_type": "markdown",
      "metadata": {
        "id": "2WSf35qZB1w2"
      },
      "source": [
        "**Результаты** Без учета дисбаланса классов применена модель \"дерево решений\".  Accuracy выше, чем у логистической регрессии "
      ]
    },
    {
      "cell_type": "code",
      "execution_count": null,
      "metadata": {
        "id": "UNGNSHRiB1w2",
        "outputId": "b88fb0b4-32d1-4687-c4b9-30b300f507b2"
      },
      "outputs": [
        {
          "name": "stdout",
          "output_type": "stream",
          "text": [
            "Accuracy константной модели 0.7963\n"
          ]
        }
      ],
      "source": [
        "target_pred_constant = pd.Series(0, index=target.index)\n",
        "\n",
        "print('Accuracy константной модели',accuracy_score(target, target_pred_constant))"
      ]
    },
    {
      "cell_type": "markdown",
      "metadata": {
        "id": "GJaxbOXKB1w3"
      },
      "source": [
        "**Оценка моделей в сравнении с константной** для сравнения применена константная модель: любому объекту она прогнозирует target=0 (по смыслу - клиент не уйдет из банка). Поскольку в целевых признаках дисбаланс 1\\4 она тоже дает хороший результат, даже выше, чем регрессия. Значит модели не очень информативны в данном случае, и надо учитывать дисбаланс и применять другие метрики. "
      ]
    },
    {
      "cell_type": "markdown",
      "metadata": {
        "id": "brRGvvHOB1w3"
      },
      "source": [
        "## Борьба с дисбалансом"
      ]
    },
    {
      "cell_type": "markdown",
      "metadata": {
        "id": "PVa0z2zUB1w3"
      },
      "source": [
        "**Решение** 1) Масштабируем числовые признаки 2)Пробуем разные модели с вариациями гиперпараметров с учетом дисбаланса."
      ]
    },
    {
      "cell_type": "code",
      "execution_count": null,
      "metadata": {
        "scrolled": true,
        "id": "P1HlbQTwB1w4"
      },
      "outputs": [],
      "source": [
        "numeric = ['CreditScore', 'Age', 'Tenure', 'Balance', 'NumOfProducts', 'EstimatedSalary']\n",
        "\n",
        "scaler = StandardScaler()\n",
        "scaler.fit(features_train[numeric])\n",
        "features_train[numeric] = scaler.transform(features_train[numeric])\n",
        "features_valid[numeric]= scaler.transform(features_valid[numeric])\n",
        "features_test[numeric]= scaler.transform(features_test[numeric])\n",
        "pd.options.mode.chained_assignment = None\n",
        "print(features_train.head(5))\n",
        "print(features_train.shape) \n",
        "print(data_new.head(5))"
      ]
    },
    {
      "cell_type": "markdown",
      "metadata": {
        "id": "RfORBGeZB1w4"
      },
      "source": [
        "**Стандартизация данных** Числовые данные в колонках датасета разной рамерности. Применяем один из методов масштабирования — стандартизацию данных. В результатах настораживает появление отрицательных значений. Уточнила, это допускается."
      ]
    },
    {
      "cell_type": "code",
      "execution_count": null,
      "metadata": {
        "id": "VD0NI2gzB1w4",
        "outputId": "2635d0ec-b25a-4eb5-89ca-9bec169f9bb6"
      },
      "outputs": [
        {
          "name": "stdout",
          "output_type": "stream",
          "text": [
            "DecisionTreeClassifier(class_weight='balanced', max_depth=1, random_state=12345) | глубина= 1 | 0.4994903160040775\n",
            "F1: 0.4994903160040775\n",
            "max_depth = 1 : Recall= 0.5861244019138756\n",
            "Precision 0.4351687388987567\n",
            "матрицa ошибок [[1264  318]\n",
            " [ 173  245]]\n",
            "DecisionTreeClassifier(class_weight='balanced', max_depth=2, random_state=12345) | глубина= 2 | 0.541015625\n",
            "F1: 0.541015625\n",
            "max_depth = 2 : Recall= 0.6626794258373205\n",
            "Precision 0.4570957095709571\n",
            "матрицa ошибок [[1253  329]\n",
            " [ 141  277]]\n",
            "DecisionTreeClassifier(class_weight='balanced', max_depth=3, random_state=12345) | глубина= 3 | 0.541015625\n",
            "F1: 0.541015625\n",
            "max_depth = 3 : Recall= 0.6626794258373205\n",
            "Precision 0.4570957095709571\n",
            "матрицa ошибок [[1253  329]\n",
            " [ 141  277]]\n",
            "DecisionTreeClassifier(class_weight='balanced', max_depth=4, random_state=12345) | глубина= 4 | 0.5277777777777778\n",
            "F1: 0.5277777777777778\n",
            "max_depth = 4 : Recall= 0.7727272727272727\n",
            "Precision 0.40074441687344914\n",
            "матрицa ошибок [[1099  483]\n",
            " [  95  323]]\n",
            "DecisionTreeClassifier(class_weight='balanced', max_depth=5, random_state=12345) | глубина= 5 | 0.5963791267305644\n",
            "F1: 0.5963791267305644\n",
            "max_depth = 5 : Recall= 0.6698564593301436\n",
            "Precision 0.5374280230326296\n",
            "матрицa ошибок [[1341  241]\n",
            " [ 138  280]]\n",
            "DecisionTreeClassifier(class_weight='balanced', max_depth=6, random_state=12345) | глубина= 6 | 0.5581835383159887\n",
            "F1: 0.5581835383159887\n",
            "max_depth = 6 : Recall= 0.7057416267942583\n",
            "Precision 0.4616588419405321\n",
            "матрицa ошибок [[1238  344]\n",
            " [ 123  295]]\n",
            "DecisionTreeClassifier(class_weight='balanced', max_depth=7, random_state=12345) | глубина= 7 | 0.5559999999999999\n",
            "F1: 0.5559999999999999\n",
            "max_depth = 7 : Recall= 0.6650717703349283\n",
            "Precision 0.47766323024054985\n",
            "матрицa ошибок [[1278  304]\n",
            " [ 140  278]]\n",
            "DecisionTreeClassifier(class_weight='balanced', max_depth=8, random_state=12345) | глубина= 8 | 0.5434995112414467\n",
            "F1: 0.5434995112414467\n",
            "max_depth = 8 : Recall= 0.6650717703349283\n",
            "Precision 0.45950413223140496\n",
            "матрицa ошибок [[1255  327]\n",
            " [ 140  278]]\n",
            "DecisionTreeClassifier(class_weight='balanced', max_depth=9, random_state=12345) | глубина= 9 | 0.5302593659942364\n",
            "F1: 0.5302593659942364\n",
            "max_depth = 9 : Recall= 0.6602870813397129\n",
            "Precision 0.44301765650080255\n",
            "матрицa ошибок [[1235  347]\n",
            " [ 142  276]]\n",
            "DecisionTreeClassifier(class_weight='balanced', max_depth=10,\n",
            "                       random_state=12345) | глубина= 10 | 0.5117187500000001\n",
            "F1: 0.5117187500000001\n",
            "max_depth = 10 : Recall= 0.6267942583732058\n",
            "Precision 0.43234323432343236\n",
            "матрицa ошибок [[1238  344]\n",
            " [ 156  262]]\n",
            "DecisionTreeClassifier(class_weight='balanced', max_depth=11,\n",
            "                       random_state=12345) | глубина= 11 | 0.5146909827760892\n",
            "F1: 0.5146909827760892\n",
            "max_depth = 11 : Recall= 0.6076555023923444\n",
            "Precision 0.44639718804920914\n",
            "матрицa ошибок [[1267  315]\n",
            " [ 164  254]]\n",
            "DecisionTreeClassifier(class_weight='balanced', max_depth=12,\n",
            "                       random_state=12345) | глубина= 12 | 0.48547717842323657\n",
            "F1: 0.48547717842323657\n",
            "max_depth = 12 : Recall= 0.5598086124401914\n",
            "Precision 0.42857142857142855\n",
            "матрицa ошибок [[1270  312]\n",
            " [ 184  234]]\n",
            "DecisionTreeClassifier(class_weight='balanced', max_depth=13,\n",
            "                       random_state=12345) | глубина= 13 | 0.4912663755458515\n",
            "F1: 0.4912663755458515\n",
            "max_depth = 13 : Recall= 0.5382775119617225\n",
            "Precision 0.45180722891566266\n",
            "матрицa ошибок [[1309  273]\n",
            " [ 193  225]]\n",
            "DecisionTreeClassifier(class_weight='balanced', max_depth=14,\n",
            "                       random_state=12345) | глубина= 14 | 0.4849162011173185\n",
            "F1: 0.4849162011173185\n",
            "max_depth = 14 : Recall= 0.5191387559808612\n",
            "Precision 0.4549266247379455\n",
            "матрицa ошибок [[1322  260]\n",
            " [ 201  217]]\n",
            "DecisionTreeClassifier(class_weight='balanced', max_depth=15,\n",
            "                       random_state=12345) | глубина= 15 | 0.46223224351747466\n",
            "F1: 0.46223224351747466\n",
            "max_depth = 15 : Recall= 0.4904306220095694\n",
            "Precision 0.43710021321961623\n",
            "матрицa ошибок [[1318  264]\n",
            " [ 213  205]]\n",
            "DecisionTreeClassifier(class_weight='balanced', max_depth=16,\n",
            "                       random_state=12345) | глубина= 16 | 0.4662721893491124\n",
            "F1: 0.4662721893491124\n",
            "max_depth = 16 : Recall= 0.47129186602870815\n",
            "Precision 0.4613583138173302\n",
            "матрицa ошибок [[1352  230]\n",
            " [ 221  197]]\n",
            "DecisionTreeClassifier(class_weight='balanced', max_depth=17,\n",
            "                       random_state=12345) | глубина= 17 | 0.4626334519572954\n",
            "F1: 0.4626334519572954\n",
            "max_depth = 17 : Recall= 0.4665071770334928\n",
            "Precision 0.4588235294117647\n",
            "матрицa ошибок [[1352  230]\n",
            " [ 223  195]]\n",
            "DecisionTreeClassifier(class_weight='balanced', max_depth=18,\n",
            "                       random_state=12345) | глубина= 18 | 0.46043165467625896\n",
            "F1: 0.46043165467625896\n",
            "max_depth = 18 : Recall= 0.45933014354066987\n",
            "Precision 0.46153846153846156\n",
            "матрицa ошибок [[1358  224]\n",
            " [ 226  192]]\n",
            "DecisionTreeClassifier(class_weight='balanced', max_depth=19,\n",
            "                       random_state=12345) | глубина= 19 | 0.44957472660996356\n",
            "F1: 0.44957472660996356\n",
            "max_depth = 19 : Recall= 0.44258373205741625\n",
            "Precision 0.4567901234567901\n",
            "матрицa ошибок [[1362  220]\n",
            " [ 233  185]]\n",
            "DecisionTreeClassifier(class_weight='balanced', max_depth=20,\n",
            "                       random_state=12345) | глубина= 20 | 0.45818181818181813\n",
            "F1: 0.45818181818181813\n",
            "max_depth = 20 : Recall= 0.45215311004784686\n",
            "Precision 0.4643734643734644\n",
            "матрицa ошибок [[1364  218]\n",
            " [ 229  189]]\n",
            "DecisionTreeClassifier(class_weight='balanced', max_depth=21,\n",
            "                       random_state=12345) | глубина= 21 | 0.45686512758201697\n",
            "F1: 0.45686512758201697\n",
            "max_depth = 21 : Recall= 0.44976076555023925\n",
            "Precision 0.4641975308641975\n",
            "матрицa ошибок [[1365  217]\n",
            " [ 230  188]]\n",
            "DecisionTreeClassifier(class_weight='balanced', max_depth=22,\n",
            "                       random_state=12345) | глубина= 22 | 0.46041412911084045\n",
            "F1: 0.46041412911084045\n",
            "max_depth = 22 : Recall= 0.45215311004784686\n",
            "Precision 0.46898263027295284\n",
            "матрицa ошибок [[1368  214]\n",
            " [ 229  189]]\n",
            "DecisionTreeClassifier(class_weight='balanced', max_depth=23,\n",
            "                       random_state=12345) | глубина= 23 | 0.46041412911084045\n",
            "F1: 0.46041412911084045\n",
            "max_depth = 23 : Recall= 0.45215311004784686\n",
            "Precision 0.46898263027295284\n",
            "матрицa ошибок [[1368  214]\n",
            " [ 229  189]]\n",
            "DecisionTreeClassifier(class_weight='balanced', max_depth=24,\n",
            "                       random_state=12345) | глубина= 24 | 0.46041412911084045\n",
            "F1: 0.46041412911084045\n",
            "max_depth = 24 : Recall= 0.45215311004784686\n",
            "Precision 0.46898263027295284\n",
            "матрицa ошибок [[1368  214]\n",
            " [ 229  189]]\n",
            "DecisionTreeClassifier(class_weight='balanced', max_depth=25,\n",
            "                       random_state=12345) | глубина= 25 | 0.46041412911084045\n",
            "F1: 0.46041412911084045\n",
            "max_depth = 25 : Recall= 0.45215311004784686\n",
            "Precision 0.46898263027295284\n",
            "матрицa ошибок [[1368  214]\n",
            " [ 229  189]]\n",
            "DecisionTreeClassifier(class_weight='balanced', max_depth=26,\n",
            "                       random_state=12345) | глубина= 26 | 0.46041412911084045\n",
            "F1: 0.46041412911084045\n",
            "max_depth = 26 : Recall= 0.45215311004784686\n",
            "Precision 0.46898263027295284\n",
            "матрицa ошибок [[1368  214]\n",
            " [ 229  189]]\n",
            "DecisionTreeClassifier(class_weight='balanced', max_depth=27,\n",
            "                       random_state=12345) | глубина= 27 | 0.46041412911084045\n",
            "F1: 0.46041412911084045\n",
            "max_depth = 27 : Recall= 0.45215311004784686\n",
            "Precision 0.46898263027295284\n",
            "матрицa ошибок [[1368  214]\n",
            " [ 229  189]]\n",
            "DecisionTreeClassifier(class_weight='balanced', max_depth=28,\n",
            "                       random_state=12345) | глубина= 28 | 0.46041412911084045\n",
            "F1: 0.46041412911084045\n",
            "max_depth = 28 : Recall= 0.45215311004784686\n",
            "Precision 0.46898263027295284\n",
            "матрицa ошибок [[1368  214]\n",
            " [ 229  189]]\n",
            "DecisionTreeClassifier(class_weight='balanced', max_depth=29,\n",
            "                       random_state=12345) | глубина= 29 | 0.46041412911084045\n",
            "F1: 0.46041412911084045\n",
            "max_depth = 29 : Recall= 0.45215311004784686\n",
            "Precision 0.46898263027295284\n",
            "матрицa ошибок [[1368  214]\n",
            " [ 229  189]]\n",
            "DecisionTreeClassifier(class_weight='balanced', max_depth=30,\n",
            "                       random_state=12345) | глубина= 30 | 0.46041412911084045\n",
            "F1: 0.46041412911084045\n",
            "max_depth = 30 : Recall= 0.45215311004784686\n",
            "Precision 0.46898263027295284\n",
            "матрицa ошибок [[1368  214]\n",
            " [ 229  189]]\n",
            "DecisionTreeClassifier(class_weight='balanced', max_depth=31,\n",
            "                       random_state=12345) | глубина= 31 | 0.46041412911084045\n",
            "F1: 0.46041412911084045\n",
            "max_depth = 31 : Recall= 0.45215311004784686\n",
            "Precision 0.46898263027295284\n",
            "матрицa ошибок [[1368  214]\n",
            " [ 229  189]]\n",
            "DecisionTreeClassifier(class_weight='balanced', max_depth=32,\n",
            "                       random_state=12345) | глубина= 32 | 0.46041412911084045\n",
            "F1: 0.46041412911084045\n",
            "max_depth = 32 : Recall= 0.45215311004784686\n",
            "Precision 0.46898263027295284\n",
            "матрицa ошибок [[1368  214]\n",
            " [ 229  189]]\n",
            "DecisionTreeClassifier(class_weight='balanced', max_depth=33,\n",
            "                       random_state=12345) | глубина= 33 | 0.46041412911084045\n",
            "F1: 0.46041412911084045\n",
            "max_depth = 33 : Recall= 0.45215311004784686\n",
            "Precision 0.46898263027295284\n",
            "матрицa ошибок [[1368  214]\n",
            " [ 229  189]]\n",
            "DecisionTreeClassifier(class_weight='balanced', max_depth=34,\n",
            "                       random_state=12345) | глубина= 34 | 0.46041412911084045\n",
            "F1: 0.46041412911084045\n",
            "max_depth = 34 : Recall= 0.45215311004784686\n",
            "Precision 0.46898263027295284\n",
            "матрицa ошибок [[1368  214]\n",
            " [ 229  189]]\n",
            "DecisionTreeClassifier(class_weight='balanced', max_depth=35,\n",
            "                       random_state=12345) | глубина= 35 | 0.46041412911084045\n",
            "F1: 0.46041412911084045\n",
            "max_depth = 35 : Recall= 0.45215311004784686\n",
            "Precision 0.46898263027295284\n",
            "матрицa ошибок [[1368  214]\n",
            " [ 229  189]]\n",
            "DecisionTreeClassifier(class_weight='balanced', max_depth=36,\n",
            "                       random_state=12345) | глубина= 36 | 0.46041412911084045\n",
            "F1: 0.46041412911084045\n",
            "max_depth = 36 : Recall= 0.45215311004784686\n",
            "Precision 0.46898263027295284\n",
            "матрицa ошибок [[1368  214]\n",
            " [ 229  189]]\n",
            "DecisionTreeClassifier(class_weight='balanced', max_depth=37,\n",
            "                       random_state=12345) | глубина= 37 | 0.46041412911084045\n",
            "F1: 0.46041412911084045\n",
            "max_depth = 37 : Recall= 0.45215311004784686\n",
            "Precision 0.46898263027295284\n",
            "матрицa ошибок [[1368  214]\n",
            " [ 229  189]]\n",
            "DecisionTreeClassifier(class_weight='balanced', max_depth=38,\n",
            "                       random_state=12345) | глубина= 38 | 0.46041412911084045\n",
            "F1: 0.46041412911084045\n",
            "max_depth = 38 : Recall= 0.45215311004784686\n",
            "Precision 0.46898263027295284\n",
            "матрицa ошибок [[1368  214]\n",
            " [ 229  189]]\n",
            "DecisionTreeClassifier(class_weight='balanced', max_depth=39,\n",
            "                       random_state=12345) | глубина= 39 | 0.46041412911084045\n",
            "F1: 0.46041412911084045\n",
            "max_depth = 39 : Recall= 0.45215311004784686\n",
            "Precision 0.46898263027295284\n",
            "матрицa ошибок [[1368  214]\n",
            " [ 229  189]]\n",
            "DecisionTreeClassifier(class_weight='balanced', max_depth=40,\n",
            "                       random_state=12345) | глубина= 40 | 0.46041412911084045\n",
            "F1: 0.46041412911084045\n",
            "max_depth = 40 : Recall= 0.45215311004784686\n",
            "Precision 0.46898263027295284\n",
            "матрицa ошибок [[1368  214]\n",
            " [ 229  189]]\n",
            "DecisionTreeClassifier(class_weight='balanced', max_depth=41,\n",
            "                       random_state=12345) | глубина= 41 | 0.46041412911084045\n",
            "F1: 0.46041412911084045\n",
            "max_depth = 41 : Recall= 0.45215311004784686\n",
            "Precision 0.46898263027295284\n",
            "матрицa ошибок [[1368  214]\n",
            " [ 229  189]]\n",
            "DecisionTreeClassifier(class_weight='balanced', max_depth=42,\n",
            "                       random_state=12345) | глубина= 42 | 0.46041412911084045\n",
            "F1: 0.46041412911084045\n",
            "max_depth = 42 : Recall= 0.45215311004784686\n",
            "Precision 0.46898263027295284\n",
            "матрицa ошибок [[1368  214]\n",
            " [ 229  189]]\n",
            "DecisionTreeClassifier(class_weight='balanced', max_depth=43,\n",
            "                       random_state=12345) | глубина= 43 | 0.46041412911084045\n",
            "F1: 0.46041412911084045\n",
            "max_depth = 43 : Recall= 0.45215311004784686\n",
            "Precision 0.46898263027295284\n",
            "матрицa ошибок [[1368  214]\n",
            " [ 229  189]]\n",
            "DecisionTreeClassifier(class_weight='balanced', max_depth=44,\n",
            "                       random_state=12345) | глубина= 44 | 0.46041412911084045\n",
            "F1: 0.46041412911084045\n",
            "max_depth = 44 : Recall= 0.45215311004784686\n",
            "Precision 0.46898263027295284\n",
            "матрицa ошибок [[1368  214]\n",
            " [ 229  189]]\n",
            "DecisionTreeClassifier(class_weight='balanced', max_depth=45,\n",
            "                       random_state=12345) | глубина= 45 | 0.46041412911084045\n",
            "F1: 0.46041412911084045\n",
            "max_depth = 45 : Recall= 0.45215311004784686\n",
            "Precision 0.46898263027295284\n",
            "матрицa ошибок [[1368  214]\n",
            " [ 229  189]]\n",
            "DecisionTreeClassifier(class_weight='balanced', max_depth=46,\n",
            "                       random_state=12345) | глубина= 46 | 0.46041412911084045\n",
            "F1: 0.46041412911084045\n",
            "max_depth = 46 : Recall= 0.45215311004784686\n",
            "Precision 0.46898263027295284\n",
            "матрицa ошибок [[1368  214]\n",
            " [ 229  189]]\n",
            "DecisionTreeClassifier(class_weight='balanced', max_depth=47,\n",
            "                       random_state=12345) | глубина= 47 | 0.46041412911084045\n",
            "F1: 0.46041412911084045\n",
            "max_depth = 47 : Recall= 0.45215311004784686\n",
            "Precision 0.46898263027295284\n",
            "матрицa ошибок [[1368  214]\n",
            " [ 229  189]]\n",
            "DecisionTreeClassifier(class_weight='balanced', max_depth=48,\n",
            "                       random_state=12345) | глубина= 48 | 0.46041412911084045\n",
            "F1: 0.46041412911084045\n",
            "max_depth = 48 : Recall= 0.45215311004784686\n",
            "Precision 0.46898263027295284\n",
            "матрицa ошибок [[1368  214]\n",
            " [ 229  189]]\n",
            "DecisionTreeClassifier(class_weight='balanced', max_depth=49,\n",
            "                       random_state=12345) | глубина= 49 | 0.46041412911084045\n",
            "F1: 0.46041412911084045\n",
            "max_depth = 49 : Recall= 0.45215311004784686\n",
            "Precision 0.46898263027295284\n",
            "матрицa ошибок [[1368  214]\n",
            " [ 229  189]]\n",
            "DecisionTreeClassifier(class_weight='balanced', max_depth=50,\n",
            "                       random_state=12345) | глубина= 50 | 0.46041412911084045\n",
            "F1: 0.46041412911084045\n",
            "max_depth = 50 : Recall= 0.45215311004784686\n",
            "Precision 0.46898263027295284\n",
            "матрицa ошибок [[1368  214]\n",
            " [ 229  189]]\n",
            "DecisionTreeClassifier(class_weight='balanced', max_depth=51,\n",
            "                       random_state=12345) | глубина= 51 | 0.46041412911084045\n",
            "F1: 0.46041412911084045\n",
            "max_depth = 51 : Recall= 0.45215311004784686\n",
            "Precision 0.46898263027295284\n",
            "матрицa ошибок [[1368  214]\n",
            " [ 229  189]]\n",
            "DecisionTreeClassifier(class_weight='balanced', max_depth=52,\n",
            "                       random_state=12345) | глубина= 52 | 0.46041412911084045\n",
            "F1: 0.46041412911084045\n",
            "max_depth = 52 : Recall= 0.45215311004784686\n",
            "Precision 0.46898263027295284\n",
            "матрицa ошибок [[1368  214]\n",
            " [ 229  189]]\n",
            "DecisionTreeClassifier(class_weight='balanced', max_depth=53,\n",
            "                       random_state=12345) | глубина= 53 | 0.46041412911084045\n",
            "F1: 0.46041412911084045\n",
            "max_depth = 53 : Recall= 0.45215311004784686\n",
            "Precision 0.46898263027295284\n",
            "матрицa ошибок [[1368  214]\n",
            " [ 229  189]]\n",
            "DecisionTreeClassifier(class_weight='balanced', max_depth=54,\n",
            "                       random_state=12345) | глубина= 54 | 0.46041412911084045\n",
            "F1: 0.46041412911084045\n",
            "max_depth = 54 : Recall= 0.45215311004784686\n",
            "Precision 0.46898263027295284\n",
            "матрицa ошибок [[1368  214]\n",
            " [ 229  189]]\n",
            "DecisionTreeClassifier(class_weight='balanced', max_depth=55,\n",
            "                       random_state=12345) | глубина= 55 | 0.46041412911084045\n",
            "F1: 0.46041412911084045\n",
            "max_depth = 55 : Recall= 0.45215311004784686\n",
            "Precision 0.46898263027295284\n",
            "матрицa ошибок [[1368  214]\n",
            " [ 229  189]]\n",
            "DecisionTreeClassifier(class_weight='balanced', max_depth=56,\n",
            "                       random_state=12345) | глубина= 56 | 0.46041412911084045\n",
            "F1: 0.46041412911084045\n",
            "max_depth = 56 : Recall= 0.45215311004784686\n",
            "Precision 0.46898263027295284\n",
            "матрицa ошибок [[1368  214]\n",
            " [ 229  189]]\n",
            "DecisionTreeClassifier(class_weight='balanced', max_depth=57,\n",
            "                       random_state=12345) | глубина= 57 | 0.46041412911084045\n",
            "F1: 0.46041412911084045\n",
            "max_depth = 57 : Recall= 0.45215311004784686\n",
            "Precision 0.46898263027295284\n",
            "матрицa ошибок [[1368  214]\n",
            " [ 229  189]]\n",
            "DecisionTreeClassifier(class_weight='balanced', max_depth=58,\n",
            "                       random_state=12345) | глубина= 58 | 0.46041412911084045\n",
            "F1: 0.46041412911084045\n",
            "max_depth = 58 : Recall= 0.45215311004784686\n",
            "Precision 0.46898263027295284\n",
            "матрицa ошибок [[1368  214]\n",
            " [ 229  189]]\n",
            "DecisionTreeClassifier(class_weight='balanced', max_depth=59,\n",
            "                       random_state=12345) | глубина= 59 | 0.46041412911084045\n",
            "F1: 0.46041412911084045\n",
            "max_depth = 59 : Recall= 0.45215311004784686\n",
            "Precision 0.46898263027295284\n",
            "матрицa ошибок [[1368  214]\n",
            " [ 229  189]]\n",
            "DecisionTreeClassifier(class_weight='balanced', max_depth=60,\n",
            "                       random_state=12345) | глубина= 60 | 0.46041412911084045\n",
            "F1: 0.46041412911084045\n",
            "max_depth = 60 : Recall= 0.45215311004784686\n",
            "Precision 0.46898263027295284\n",
            "матрицa ошибок [[1368  214]\n",
            " [ 229  189]]\n",
            "DecisionTreeClassifier(class_weight='balanced', max_depth=61,\n",
            "                       random_state=12345) | глубина= 61 | 0.46041412911084045\n",
            "F1: 0.46041412911084045\n",
            "max_depth = 61 : Recall= 0.45215311004784686\n",
            "Precision 0.46898263027295284\n",
            "матрицa ошибок [[1368  214]\n",
            " [ 229  189]]\n",
            "DecisionTreeClassifier(class_weight='balanced', max_depth=62,\n",
            "                       random_state=12345) | глубина= 62 | 0.46041412911084045\n",
            "F1: 0.46041412911084045\n",
            "max_depth = 62 : Recall= 0.45215311004784686\n",
            "Precision 0.46898263027295284\n",
            "матрицa ошибок [[1368  214]\n",
            " [ 229  189]]\n",
            "DecisionTreeClassifier(class_weight='balanced', max_depth=63,\n",
            "                       random_state=12345) | глубина= 63 | 0.46041412911084045\n",
            "F1: 0.46041412911084045\n",
            "max_depth = 63 : Recall= 0.45215311004784686\n",
            "Precision 0.46898263027295284\n",
            "матрицa ошибок [[1368  214]\n",
            " [ 229  189]]\n",
            "DecisionTreeClassifier(class_weight='balanced', max_depth=64,\n",
            "                       random_state=12345) | глубина= 64 | 0.46041412911084045\n",
            "F1: 0.46041412911084045\n",
            "max_depth = 64 : Recall= 0.45215311004784686\n",
            "Precision 0.46898263027295284\n",
            "матрицa ошибок [[1368  214]\n",
            " [ 229  189]]\n",
            "DecisionTreeClassifier(class_weight='balanced', max_depth=65,\n",
            "                       random_state=12345) | глубина= 65 | 0.46041412911084045\n",
            "F1: 0.46041412911084045\n",
            "max_depth = 65 : Recall= 0.45215311004784686\n",
            "Precision 0.46898263027295284\n",
            "матрицa ошибок [[1368  214]\n",
            " [ 229  189]]\n",
            "DecisionTreeClassifier(class_weight='balanced', max_depth=66,\n",
            "                       random_state=12345) | глубина= 66 | 0.46041412911084045\n",
            "F1: 0.46041412911084045\n",
            "max_depth = 66 : Recall= 0.45215311004784686\n",
            "Precision 0.46898263027295284\n",
            "матрицa ошибок [[1368  214]\n",
            " [ 229  189]]\n",
            "DecisionTreeClassifier(class_weight='balanced', max_depth=67,\n",
            "                       random_state=12345) | глубина= 67 | 0.46041412911084045\n",
            "F1: 0.46041412911084045\n",
            "max_depth = 67 : Recall= 0.45215311004784686\n",
            "Precision 0.46898263027295284\n",
            "матрицa ошибок [[1368  214]\n",
            " [ 229  189]]\n",
            "DecisionTreeClassifier(class_weight='balanced', max_depth=68,\n",
            "                       random_state=12345) | глубина= 68 | 0.46041412911084045\n",
            "F1: 0.46041412911084045\n",
            "max_depth = 68 : Recall= 0.45215311004784686\n",
            "Precision 0.46898263027295284\n",
            "матрицa ошибок [[1368  214]\n",
            " [ 229  189]]\n",
            "DecisionTreeClassifier(class_weight='balanced', max_depth=69,\n",
            "                       random_state=12345) | глубина= 69 | 0.46041412911084045\n",
            "F1: 0.46041412911084045\n",
            "max_depth = 69 : Recall= 0.45215311004784686\n",
            "Precision 0.46898263027295284\n",
            "матрицa ошибок [[1368  214]\n",
            " [ 229  189]]\n",
            "DecisionTreeClassifier(class_weight='balanced', max_depth=70,\n",
            "                       random_state=12345) | глубина= 70 | 0.46041412911084045\n",
            "F1: 0.46041412911084045\n",
            "max_depth = 70 : Recall= 0.45215311004784686\n",
            "Precision 0.46898263027295284\n",
            "матрицa ошибок [[1368  214]\n",
            " [ 229  189]]\n",
            "DecisionTreeClassifier(class_weight='balanced', max_depth=71,\n",
            "                       random_state=12345) | глубина= 71 | 0.46041412911084045\n",
            "F1: 0.46041412911084045\n",
            "max_depth = 71 : Recall= 0.45215311004784686\n",
            "Precision 0.46898263027295284\n",
            "матрицa ошибок [[1368  214]\n",
            " [ 229  189]]\n",
            "DecisionTreeClassifier(class_weight='balanced', max_depth=72,\n",
            "                       random_state=12345) | глубина= 72 | 0.46041412911084045\n",
            "F1: 0.46041412911084045\n",
            "max_depth = 72 : Recall= 0.45215311004784686\n",
            "Precision 0.46898263027295284\n",
            "матрицa ошибок [[1368  214]\n",
            " [ 229  189]]\n",
            "DecisionTreeClassifier(class_weight='balanced', max_depth=73,\n",
            "                       random_state=12345) | глубина= 73 | 0.46041412911084045\n",
            "F1: 0.46041412911084045\n",
            "max_depth = 73 : Recall= 0.45215311004784686\n",
            "Precision 0.46898263027295284\n",
            "матрицa ошибок [[1368  214]\n",
            " [ 229  189]]\n",
            "DecisionTreeClassifier(class_weight='balanced', max_depth=74,\n",
            "                       random_state=12345) | глубина= 74 | 0.46041412911084045\n",
            "F1: 0.46041412911084045\n",
            "max_depth = 74 : Recall= 0.45215311004784686\n",
            "Precision 0.46898263027295284\n",
            "матрицa ошибок [[1368  214]\n",
            " [ 229  189]]\n",
            "DecisionTreeClassifier(class_weight='balanced', max_depth=75,\n",
            "                       random_state=12345) | глубина= 75 | 0.46041412911084045\n",
            "F1: 0.46041412911084045\n",
            "max_depth = 75 : Recall= 0.45215311004784686\n",
            "Precision 0.46898263027295284\n",
            "матрицa ошибок [[1368  214]\n",
            " [ 229  189]]\n",
            "DecisionTreeClassifier(class_weight='balanced', max_depth=76,\n",
            "                       random_state=12345) | глубина= 76 | 0.46041412911084045\n",
            "F1: 0.46041412911084045\n",
            "max_depth = 76 : Recall= 0.45215311004784686\n",
            "Precision 0.46898263027295284\n",
            "матрицa ошибок [[1368  214]\n",
            " [ 229  189]]\n",
            "DecisionTreeClassifier(class_weight='balanced', max_depth=77,\n",
            "                       random_state=12345) | глубина= 77 | 0.46041412911084045\n",
            "F1: 0.46041412911084045\n",
            "max_depth = 77 : Recall= 0.45215311004784686\n",
            "Precision 0.46898263027295284\n",
            "матрицa ошибок [[1368  214]\n",
            " [ 229  189]]\n",
            "DecisionTreeClassifier(class_weight='balanced', max_depth=78,\n",
            "                       random_state=12345) | глубина= 78 | 0.46041412911084045\n",
            "F1: 0.46041412911084045\n",
            "max_depth = 78 : Recall= 0.45215311004784686\n",
            "Precision 0.46898263027295284\n",
            "матрицa ошибок [[1368  214]\n",
            " [ 229  189]]\n",
            "DecisionTreeClassifier(class_weight='balanced', max_depth=79,\n",
            "                       random_state=12345) | глубина= 79 | 0.46041412911084045\n",
            "F1: 0.46041412911084045\n",
            "max_depth = 79 : Recall= 0.45215311004784686\n",
            "Precision 0.46898263027295284\n",
            "матрицa ошибок [[1368  214]\n",
            " [ 229  189]]\n",
            "DecisionTreeClassifier(class_weight='balanced', max_depth=80,\n",
            "                       random_state=12345) | глубина= 80 | 0.46041412911084045\n",
            "F1: 0.46041412911084045\n",
            "max_depth = 80 : Recall= 0.45215311004784686\n",
            "Precision 0.46898263027295284\n",
            "матрицa ошибок [[1368  214]\n",
            " [ 229  189]]\n",
            "DecisionTreeClassifier(class_weight='balanced', max_depth=81,\n",
            "                       random_state=12345) | глубина= 81 | 0.46041412911084045\n",
            "F1: 0.46041412911084045\n",
            "max_depth = 81 : Recall= 0.45215311004784686\n",
            "Precision 0.46898263027295284\n",
            "матрицa ошибок [[1368  214]\n",
            " [ 229  189]]\n",
            "DecisionTreeClassifier(class_weight='balanced', max_depth=82,\n",
            "                       random_state=12345) | глубина= 82 | 0.46041412911084045\n",
            "F1: 0.46041412911084045\n",
            "max_depth = 82 : Recall= 0.45215311004784686\n",
            "Precision 0.46898263027295284\n",
            "матрицa ошибок [[1368  214]\n",
            " [ 229  189]]\n",
            "DecisionTreeClassifier(class_weight='balanced', max_depth=83,\n",
            "                       random_state=12345) | глубина= 83 | 0.46041412911084045\n",
            "F1: 0.46041412911084045\n",
            "max_depth = 83 : Recall= 0.45215311004784686\n",
            "Precision 0.46898263027295284\n",
            "матрицa ошибок [[1368  214]\n",
            " [ 229  189]]\n",
            "DecisionTreeClassifier(class_weight='balanced', max_depth=84,\n",
            "                       random_state=12345) | глубина= 84 | 0.46041412911084045\n",
            "F1: 0.46041412911084045\n",
            "max_depth = 84 : Recall= 0.45215311004784686\n",
            "Precision 0.46898263027295284\n",
            "матрицa ошибок [[1368  214]\n",
            " [ 229  189]]\n",
            "DecisionTreeClassifier(class_weight='balanced', max_depth=85,\n",
            "                       random_state=12345) | глубина= 85 | 0.46041412911084045\n",
            "F1: 0.46041412911084045\n",
            "max_depth = 85 : Recall= 0.45215311004784686\n",
            "Precision 0.46898263027295284\n",
            "матрицa ошибок [[1368  214]\n",
            " [ 229  189]]\n",
            "DecisionTreeClassifier(class_weight='balanced', max_depth=86,\n",
            "                       random_state=12345) | глубина= 86 | 0.46041412911084045\n",
            "F1: 0.46041412911084045\n",
            "max_depth = 86 : Recall= 0.45215311004784686\n",
            "Precision 0.46898263027295284\n",
            "матрицa ошибок [[1368  214]\n",
            " [ 229  189]]\n",
            "DecisionTreeClassifier(class_weight='balanced', max_depth=87,\n",
            "                       random_state=12345) | глубина= 87 | 0.46041412911084045\n",
            "F1: 0.46041412911084045\n",
            "max_depth = 87 : Recall= 0.45215311004784686\n",
            "Precision 0.46898263027295284\n",
            "матрицa ошибок [[1368  214]\n",
            " [ 229  189]]\n",
            "DecisionTreeClassifier(class_weight='balanced', max_depth=88,\n",
            "                       random_state=12345) | глубина= 88 | 0.46041412911084045\n",
            "F1: 0.46041412911084045\n",
            "max_depth = 88 : Recall= 0.45215311004784686\n",
            "Precision 0.46898263027295284\n",
            "матрицa ошибок [[1368  214]\n",
            " [ 229  189]]\n",
            "DecisionTreeClassifier(class_weight='balanced', max_depth=89,\n",
            "                       random_state=12345) | глубина= 89 | 0.46041412911084045\n",
            "F1: 0.46041412911084045\n",
            "max_depth = 89 : Recall= 0.45215311004784686\n",
            "Precision 0.46898263027295284\n",
            "матрицa ошибок [[1368  214]\n",
            " [ 229  189]]\n",
            "DecisionTreeClassifier(class_weight='balanced', max_depth=90,\n",
            "                       random_state=12345) | глубина= 90 | 0.46041412911084045\n",
            "F1: 0.46041412911084045\n",
            "max_depth = 90 : Recall= 0.45215311004784686\n",
            "Precision 0.46898263027295284\n",
            "матрицa ошибок [[1368  214]\n",
            " [ 229  189]]\n",
            "DecisionTreeClassifier(class_weight='balanced', max_depth=91,\n",
            "                       random_state=12345) | глубина= 91 | 0.46041412911084045\n",
            "F1: 0.46041412911084045\n",
            "max_depth = 91 : Recall= 0.45215311004784686\n",
            "Precision 0.46898263027295284\n",
            "матрицa ошибок [[1368  214]\n",
            " [ 229  189]]\n",
            "DecisionTreeClassifier(class_weight='balanced', max_depth=92,\n",
            "                       random_state=12345) | глубина= 92 | 0.46041412911084045\n",
            "F1: 0.46041412911084045\n",
            "max_depth = 92 : Recall= 0.45215311004784686\n",
            "Precision 0.46898263027295284\n",
            "матрицa ошибок [[1368  214]\n",
            " [ 229  189]]\n",
            "DecisionTreeClassifier(class_weight='balanced', max_depth=93,\n",
            "                       random_state=12345) | глубина= 93 | 0.46041412911084045\n",
            "F1: 0.46041412911084045\n",
            "max_depth = 93 : Recall= 0.45215311004784686\n",
            "Precision 0.46898263027295284\n",
            "матрицa ошибок [[1368  214]\n",
            " [ 229  189]]\n",
            "DecisionTreeClassifier(class_weight='balanced', max_depth=94,\n",
            "                       random_state=12345) | глубина= 94 | 0.46041412911084045\n",
            "F1: 0.46041412911084045\n",
            "max_depth = 94 : Recall= 0.45215311004784686\n",
            "Precision 0.46898263027295284\n",
            "матрицa ошибок [[1368  214]\n",
            " [ 229  189]]\n",
            "DecisionTreeClassifier(class_weight='balanced', max_depth=95,\n",
            "                       random_state=12345) | глубина= 95 | 0.46041412911084045\n",
            "F1: 0.46041412911084045\n",
            "max_depth = 95 : Recall= 0.45215311004784686\n",
            "Precision 0.46898263027295284\n",
            "матрицa ошибок [[1368  214]\n",
            " [ 229  189]]\n",
            "DecisionTreeClassifier(class_weight='balanced', max_depth=96,\n",
            "                       random_state=12345) | глубина= 96 | 0.46041412911084045\n",
            "F1: 0.46041412911084045\n",
            "max_depth = 96 : Recall= 0.45215311004784686\n",
            "Precision 0.46898263027295284\n",
            "матрицa ошибок [[1368  214]\n",
            " [ 229  189]]\n",
            "DecisionTreeClassifier(class_weight='balanced', max_depth=97,\n",
            "                       random_state=12345) | глубина= 97 | 0.46041412911084045\n",
            "F1: 0.46041412911084045\n",
            "max_depth = 97 : Recall= 0.45215311004784686\n",
            "Precision 0.46898263027295284\n",
            "матрицa ошибок [[1368  214]\n",
            " [ 229  189]]\n",
            "DecisionTreeClassifier(class_weight='balanced', max_depth=98,\n",
            "                       random_state=12345) | глубина= 98 | 0.46041412911084045\n",
            "F1: 0.46041412911084045\n",
            "max_depth = 98 : Recall= 0.45215311004784686\n",
            "Precision 0.46898263027295284\n",
            "матрицa ошибок [[1368  214]\n",
            " [ 229  189]]\n",
            "DecisionTreeClassifier(class_weight='balanced', max_depth=99,\n",
            "                       random_state=12345) | глубина= 99 | 0.46041412911084045\n",
            "F1: 0.46041412911084045\n",
            "max_depth = 99 : Recall= 0.45215311004784686\n",
            "Precision 0.46898263027295284\n",
            "матрицa ошибок [[1368  214]\n",
            " [ 229  189]]\n",
            "F1: 0.5963791267305644\n",
            "Cамая эффективная модель - best_model DecisionTreeClassifier(class_weight='balanced', max_depth=5, random_state=12345)\n",
            "   RowNumber  CustomerId   Surname  CreditScore  Gender  Age  Tenure  \\\n",
            "0          1    15634602  Hargrave          619  Female   42     2.0   \n",
            "1          2    15647311      Hill          608  Female   41     1.0   \n",
            "2          3    15619304      Onio          502  Female   42     8.0   \n",
            "3          4    15701354      Boni          699  Female   39     1.0   \n",
            "4          5    15737888  Mitchell          850  Female   43     2.0   \n",
            "\n",
            "     Balance  NumOfProducts  HasCrCard  IsActiveMember  EstimatedSalary  \\\n",
            "0       0.00              1          1               1        101348.88   \n",
            "1   83807.86              1          0               1        112542.58   \n",
            "2  159660.80              3          1               0        113931.57   \n",
            "3       0.00              2          0               0         93826.63   \n",
            "4  125510.82              1          1               1         79084.10   \n",
            "\n",
            "   Exited  Male  Geography_France  Geography_Germany  Geography_Spain  \n",
            "0       1     0                 1                  0                0  \n",
            "1       0     0                 0                  0                1  \n",
            "2       1     0                 1                  0                0  \n",
            "3       0     0                 1                  0                0  \n",
            "4       0     0                 0                  0                1  \n",
            "CPU times: user 3.68 s, sys: 131 ms, total: 3.81 s\n",
            "Wall time: 3.93 s\n"
          ]
        }
      ],
      "source": [
        "%%time\n",
        "best_model = None\n",
        "best_result = 0\n",
        "for depth in range(1, 100):\n",
        "    model = DecisionTreeClassifier(random_state=12345, max_depth=depth, class_weight='balanced')\n",
        "    model.fit(features_train, target_train)\n",
        "    predicted_valid = model.predict(features_valid)\n",
        "    result = f1_score(target_valid, predicted_valid) \n",
        "    print(model, '|', 'глубина=',depth,'|', result)\n",
        "    print(\"F1:\", f1_score(target_valid, predicted_valid))\n",
        "    print(\"max_depth =\", depth, \": \", end='')\n",
        "    print('Recall=',recall_score(target_valid, predicted_valid))\n",
        "    print('Precision', precision_score(target_valid,predicted_valid))\n",
        "    print('матрицa ошибок',confusion_matrix(target_valid, predicted_valid))\n",
        "    if result > best_result:\n",
        "        best_model = model\n",
        "        best_result = result  \n",
        "print(\"F1:\", best_result)\n",
        "print('Cамая эффективная модель - best_model',best_model)\n",
        "    \n",
        "print(data_new.head())    "
      ]
    },
    {
      "cell_type": "markdown",
      "metadata": {
        "id": "RIFT1H8bB1w6"
      },
      "source": [
        "**Решение** Был проведен подбор гиперпараметров к модели DecisionTreeClassifier\n",
        "с учетом дисбаланса, добавлено (class_weight='balanced')\n",
        "Самой эффективной по метрике F1 оказалась модель с  max_depth=5, \n",
        "(глубина= 5 )\n",
        "F1: 0.5963791267305644\n",
        "max_depth = 5 : \n",
        "Recall= 0.6698564593301436\n",
        "Precision 0.5374280230326296\n",
        "матрицa ошибок \n",
        "[[1341  241]\n",
        " [ 138  280]]\n",
        " Исходя их практической задачи, в предполагаю что в матрице ошибок важнее мининизировать (FN в левом нижнем углу) и увеличить Recall."
      ]
    },
    {
      "cell_type": "markdown",
      "metadata": {
        "id": "j-qVkhVIB1w7"
      },
      "source": [
        "С учетом дисбаланса попробуем применить class_weight='balanced' на других моделях"
      ]
    },
    {
      "cell_type": "code",
      "execution_count": null,
      "metadata": {
        "id": "ddE5W9buB1w7",
        "outputId": "24c1556f-7dd5-4c89-cabc-8a46483f2a9e"
      },
      "outputs": [
        {
          "name": "stdout",
          "output_type": "stream",
          "text": [
            "Recall= 0.6842105263157895\n",
            "Precision 0.3803191489361702\n",
            "матрицa ошибок [[1116  466]\n",
            " [ 132  286]]\n",
            "F1: 0.4888888888888888\n"
          ]
        }
      ],
      "source": [
        "model = LogisticRegression(random_state=12345, solver='liblinear',class_weight='balanced')\n",
        "model.fit(features_train, target_train)\n",
        "predictions_valid = model.predict(features_valid)\n",
        "print('Recall=',recall_score(target_valid, predictions_valid))\n",
        "print('Precision', precision_score(target_valid,predictions_valid))\n",
        "print('матрицa ошибок',confusion_matrix(target_valid, predictions_valid))\n",
        "print(\"F1:\", f1_score(target_valid, predictions_valid))"
      ]
    },
    {
      "cell_type": "markdown",
      "metadata": {
        "id": "-hSww_U3B1w8"
      },
      "source": [
        "**Решение** Применено взвешивание классов в модели логистической регрессии, F1 меньше целевого значения, другие метрики и матрица ошибок тоже недостаточные. "
      ]
    },
    {
      "cell_type": "code",
      "execution_count": null,
      "metadata": {
        "id": "dKMTxSYAB1w9",
        "outputId": "4c26a157-9708-4cfb-f13a-ac6019045894"
      },
      "outputs": [
        {
          "name": "stdout",
          "output_type": "stream",
          "text": [
            "RandomForestClassifier(class_weight='balanced', max_depth=2, n_estimators=50,\n",
            "                       random_state=12345) | est= 50 | depth= 2 | 0.5575304022450888\n",
            "F1: 0.5575304022450888\n",
            "RandomForestClassifier(class_weight='balanced', max_depth=2, random_state=12345) | est= 100 | depth= 2 | 0.5762394761459307\n",
            "F1: 0.5762394761459307\n",
            "RandomForestClassifier(class_weight='balanced', max_depth=2, n_estimators=150,\n",
            "                       random_state=12345) | est= 150 | depth= 2 | 0.576303317535545\n",
            "F1: 0.576303317535545\n",
            "RandomForestClassifier(class_weight='balanced', max_depth=2, n_estimators=200,\n",
            "                       random_state=12345) | est= 200 | depth= 2 | 0.5765258215962441\n",
            "F1: 0.5765258215962441\n",
            "RandomForestClassifier(class_weight='balanced', max_depth=2, n_estimators=250,\n",
            "                       random_state=12345) | est= 250 | depth= 2 | 0.5767790262172284\n",
            "F1: 0.5767790262172284\n",
            "RandomForestClassifier(class_weight='balanced', max_depth=2, n_estimators=300,\n",
            "                       random_state=12345) | est= 300 | depth= 2 | 0.5751633986928104\n",
            "F1: 0.5751633986928104\n",
            "RandomForestClassifier(class_weight='balanced', max_depth=2, n_estimators=350,\n",
            "                       random_state=12345) | est= 350 | depth= 2 | 0.5765595463137997\n",
            "F1: 0.5765595463137997\n",
            "RandomForestClassifier(class_weight='balanced', max_depth=4, n_estimators=50,\n",
            "                       random_state=12345) | est= 50 | depth= 4 | 0.5916824196597354\n",
            "F1: 0.5916824196597354\n",
            "RandomForestClassifier(class_weight='balanced', max_depth=4, random_state=12345) | est= 100 | depth= 4 | 0.603448275862069\n",
            "F1: 0.603448275862069\n",
            "RandomForestClassifier(class_weight='balanced', max_depth=4, n_estimators=150,\n",
            "                       random_state=12345) | est= 150 | depth= 4 | 0.5998071359691417\n",
            "F1: 0.5998071359691417\n",
            "RandomForestClassifier(class_weight='balanced', max_depth=4, n_estimators=200,\n",
            "                       random_state=12345) | est= 200 | depth= 4 | 0.5988372093023255\n",
            "F1: 0.5988372093023255\n",
            "RandomForestClassifier(class_weight='balanced', max_depth=4, n_estimators=250,\n",
            "                       random_state=12345) | est= 250 | depth= 4 | 0.5928085519922254\n",
            "F1: 0.5928085519922254\n",
            "RandomForestClassifier(class_weight='balanced', max_depth=4, n_estimators=300,\n",
            "                       random_state=12345) | est= 300 | depth= 4 | 0.5932367149758453\n",
            "F1: 0.5932367149758453\n",
            "RandomForestClassifier(class_weight='balanced', max_depth=4, n_estimators=350,\n",
            "                       random_state=12345) | est= 350 | depth= 4 | 0.5951690821256038\n",
            "F1: 0.5951690821256038\n",
            "RandomForestClassifier(class_weight='balanced', max_depth=6, n_estimators=50,\n",
            "                       random_state=12345) | est= 50 | depth= 6 | 0.6119554204660587\n",
            "F1: 0.6119554204660587\n",
            "RandomForestClassifier(class_weight='balanced', max_depth=6, random_state=12345) | est= 100 | depth= 6 | 0.6150712830957231\n",
            "F1: 0.6150712830957231\n",
            "RandomForestClassifier(class_weight='balanced', max_depth=6, n_estimators=150,\n",
            "                       random_state=12345) | est= 150 | depth= 6 | 0.6153846153846153\n",
            "F1: 0.6153846153846153\n",
            "RandomForestClassifier(class_weight='balanced', max_depth=6, n_estimators=200,\n",
            "                       random_state=12345) | est= 200 | depth= 6 | 0.6171310629514963\n",
            "F1: 0.6171310629514963\n",
            "RandomForestClassifier(class_weight='balanced', max_depth=6, n_estimators=250,\n",
            "                       random_state=12345) | est= 250 | depth= 6 | 0.615702479338843\n",
            "F1: 0.615702479338843\n",
            "RandomForestClassifier(class_weight='balanced', max_depth=6, n_estimators=300,\n",
            "                       random_state=12345) | est= 300 | depth= 6 | 0.6131687242798354\n",
            "F1: 0.6131687242798354\n",
            "RandomForestClassifier(class_weight='balanced', max_depth=6, n_estimators=350,\n",
            "                       random_state=12345) | est= 350 | depth= 6 | 0.6191950464396284\n",
            "F1: 0.6191950464396284\n",
            "RandomForestClassifier(class_weight='balanced', max_depth=8, n_estimators=50,\n",
            "                       random_state=12345) | est= 50 | depth= 8 | 0.6229508196721312\n",
            "F1: 0.6229508196721312\n",
            "RandomForestClassifier(class_weight='balanced', max_depth=8, random_state=12345) | est= 100 | depth= 8 | 0.6240352811466373\n",
            "F1: 0.6240352811466373\n",
            "RandomForestClassifier(class_weight='balanced', max_depth=8, n_estimators=150,\n",
            "                       random_state=12345) | est= 150 | depth= 8 | 0.6190998902305158\n",
            "F1: 0.6190998902305158\n",
            "RandomForestClassifier(class_weight='balanced', max_depth=8, n_estimators=200,\n",
            "                       random_state=12345) | est= 200 | depth= 8 | 0.623490669593853\n",
            "F1: 0.623490669593853\n",
            "RandomForestClassifier(class_weight='balanced', max_depth=8, n_estimators=250,\n",
            "                       random_state=12345) | est= 250 | depth= 8 | 0.6214442013129103\n",
            "F1: 0.6214442013129103\n",
            "RandomForestClassifier(class_weight='balanced', max_depth=8, n_estimators=300,\n",
            "                       random_state=12345) | est= 300 | depth= 8 | 0.6197802197802197\n",
            "F1: 0.6197802197802197\n",
            "RandomForestClassifier(class_weight='balanced', max_depth=8, n_estimators=350,\n",
            "                       random_state=12345) | est= 350 | depth= 8 | 0.6189427312775331\n",
            "F1: 0.6189427312775331\n",
            "RandomForestClassifier(class_weight='balanced', max_depth=10, n_estimators=50,\n",
            "                       random_state=12345) | est= 50 | depth= 10 | 0.6201923076923078\n",
            "F1: 0.6201923076923078\n",
            "RandomForestClassifier(class_weight='balanced', max_depth=10,\n",
            "                       random_state=12345) | est= 100 | depth= 10 | 0.6207729468599034\n",
            "F1: 0.6207729468599034\n",
            "RandomForestClassifier(class_weight='balanced', max_depth=10, n_estimators=150,\n",
            "                       random_state=12345) | est= 150 | depth= 10 | 0.6211936662606576\n",
            "F1: 0.6211936662606576\n",
            "RandomForestClassifier(class_weight='balanced', max_depth=10, n_estimators=200,\n",
            "                       random_state=12345) | est= 200 | depth= 10 | 0.6174334140435835\n",
            "F1: 0.6174334140435835\n",
            "RandomForestClassifier(class_weight='balanced', max_depth=10, n_estimators=250,\n",
            "                       random_state=12345) | est= 250 | depth= 10 | 0.6174334140435835\n",
            "F1: 0.6174334140435835\n",
            "RandomForestClassifier(class_weight='balanced', max_depth=10, n_estimators=300,\n",
            "                       random_state=12345) | est= 300 | depth= 10 | 0.6207729468599034\n",
            "F1: 0.6207729468599034\n",
            "RandomForestClassifier(class_weight='balanced', max_depth=10, n_estimators=350,\n",
            "                       random_state=12345) | est= 350 | depth= 10 | 0.6153846153846154\n",
            "F1: 0.6153846153846154\n",
            "RandomForestClassifier(class_weight='balanced', max_depth=12, n_estimators=50,\n",
            "                       random_state=12345) | est= 50 | depth= 12 | 0.6050198150594451\n",
            "F1: 0.6050198150594451\n",
            "RandomForestClassifier(class_weight='balanced', max_depth=12,\n",
            "                       random_state=12345) | est= 100 | depth= 12 | 0.6137566137566137\n",
            "F1: 0.6137566137566137\n",
            "RandomForestClassifier(class_weight='balanced', max_depth=12, n_estimators=150,\n",
            "                       random_state=12345) | est= 150 | depth= 12 | 0.6137566137566137\n",
            "F1: 0.6137566137566137\n",
            "RandomForestClassifier(class_weight='balanced', max_depth=12, n_estimators=200,\n",
            "                       random_state=12345) | est= 200 | depth= 12 | 0.6103038309114927\n",
            "F1: 0.6103038309114927\n",
            "RandomForestClassifier(class_weight='balanced', max_depth=12, n_estimators=250,\n",
            "                       random_state=12345) | est= 250 | depth= 12 | 0.6086956521739131\n",
            "F1: 0.6086956521739131\n",
            "RandomForestClassifier(class_weight='balanced', max_depth=12, n_estimators=300,\n",
            "                       random_state=12345) | est= 300 | depth= 12 | 0.6060606060606061\n",
            "F1: 0.6060606060606061\n",
            "RandomForestClassifier(class_weight='balanced', max_depth=12, n_estimators=350,\n",
            "                       random_state=12345) | est= 350 | depth= 12 | 0.612565445026178\n",
            "F1: 0.612565445026178\n",
            "RandomForestClassifier(class_weight='balanced', max_depth=14, n_estimators=50,\n",
            "                       random_state=12345) | est= 50 | depth= 14 | 0.5952045133991537\n",
            "F1: 0.5952045133991537\n",
            "RandomForestClassifier(class_weight='balanced', max_depth=14,\n",
            "                       random_state=12345) | est= 100 | depth= 14 | 0.6005665722379603\n",
            "F1: 0.6005665722379603\n",
            "RandomForestClassifier(class_weight='balanced', max_depth=14, n_estimators=150,\n",
            "                       random_state=12345) | est= 150 | depth= 14 | 0.6047819971870605\n",
            "F1: 0.6047819971870605\n",
            "RandomForestClassifier(class_weight='balanced', max_depth=14, n_estimators=200,\n",
            "                       random_state=12345) | est= 200 | depth= 14 | 0.6077032810271041\n",
            "F1: 0.6077032810271041\n",
            "RandomForestClassifier(class_weight='balanced', max_depth=14, n_estimators=250,\n",
            "                       random_state=12345) | est= 250 | depth= 14 | 0.6059743954480797\n",
            "F1: 0.6059743954480797\n",
            "RandomForestClassifier(class_weight='balanced', max_depth=14, n_estimators=300,\n",
            "                       random_state=12345) | est= 300 | depth= 14 | 0.6045845272206303\n",
            "F1: 0.6045845272206303\n",
            "RandomForestClassifier(class_weight='balanced', max_depth=14, n_estimators=350,\n",
            "                       random_state=12345) | est= 350 | depth= 14 | 0.6077032810271041\n",
            "F1: 0.6077032810271041\n",
            "RandomForestClassifier(class_weight='balanced', max_depth=16, n_estimators=50,\n",
            "                       random_state=12345) | est= 50 | depth= 16 | 0.5710102489019033\n",
            "F1: 0.5710102489019033\n",
            "RandomForestClassifier(class_weight='balanced', max_depth=16,\n",
            "                       random_state=12345) | est= 100 | depth= 16 | 0.5852941176470587\n",
            "F1: 0.5852941176470587\n",
            "RandomForestClassifier(class_weight='balanced', max_depth=16, n_estimators=150,\n",
            "                       random_state=12345) | est= 150 | depth= 16 | 0.5941176470588235\n",
            "F1: 0.5941176470588235\n",
            "RandomForestClassifier(class_weight='balanced', max_depth=16, n_estimators=200,\n",
            "                       random_state=12345) | est= 200 | depth= 16 | 0.5908419497784343\n",
            "F1: 0.5908419497784343\n",
            "RandomForestClassifier(class_weight='balanced', max_depth=16, n_estimators=250,\n",
            "                       random_state=12345) | est= 250 | depth= 16 | 0.5845697329376854\n",
            "F1: 0.5845697329376854\n",
            "RandomForestClassifier(class_weight='balanced', max_depth=16, n_estimators=300,\n",
            "                       random_state=12345) | est= 300 | depth= 16 | 0.5908419497784343\n",
            "F1: 0.5908419497784343\n",
            "RandomForestClassifier(class_weight='balanced', max_depth=16, n_estimators=350,\n",
            "                       random_state=12345) | est= 350 | depth= 16 | 0.588410104011887\n",
            "F1: 0.588410104011887\n",
            "RandomForestClassifier(class_weight='balanced', max_depth=18, n_estimators=50,\n",
            "                       random_state=12345) | est= 50 | depth= 18 | 0.5697151424287856\n",
            "F1: 0.5697151424287856\n",
            "RandomForestClassifier(class_weight='balanced', max_depth=18,\n",
            "                       random_state=12345) | est= 100 | depth= 18 | 0.5852187028657616\n",
            "F1: 0.5852187028657616\n",
            "RandomForestClassifier(class_weight='balanced', max_depth=18, n_estimators=150,\n",
            "                       random_state=12345) | est= 150 | depth= 18 | 0.5843373493975904\n",
            "F1: 0.5843373493975904\n",
            "RandomForestClassifier(class_weight='balanced', max_depth=18, n_estimators=200,\n",
            "                       random_state=12345) | est= 200 | depth= 18 | 0.5735963581183612\n",
            "F1: 0.5735963581183612\n",
            "RandomForestClassifier(class_weight='balanced', max_depth=18, n_estimators=250,\n",
            "                       random_state=12345) | est= 250 | depth= 18 | 0.5766312594840668\n",
            "F1: 0.5766312594840668\n",
            "RandomForestClassifier(class_weight='balanced', max_depth=18, n_estimators=300,\n",
            "                       random_state=12345) | est= 300 | depth= 18 | 0.5731707317073171\n",
            "F1: 0.5731707317073171\n",
            "RandomForestClassifier(class_weight='balanced', max_depth=18, n_estimators=350,\n",
            "                       random_state=12345) | est= 350 | depth= 18 | 0.5787878787878789\n",
            "F1: 0.5787878787878789\n",
            "RandomForestClassifier(class_weight='balanced', max_depth=20, n_estimators=50,\n",
            "                       random_state=12345) | est= 50 | depth= 20 | 0.563338301043219\n",
            "F1: 0.563338301043219\n",
            "RandomForestClassifier(class_weight='balanced', max_depth=20,\n",
            "                       random_state=12345) | est= 100 | depth= 20 | 0.5688622754491017\n",
            "F1: 0.5688622754491017\n",
            "RandomForestClassifier(class_weight='balanced', max_depth=20, n_estimators=150,\n",
            "                       random_state=12345) | est= 150 | depth= 20 | 0.5744680851063829\n",
            "F1: 0.5744680851063829\n",
            "RandomForestClassifier(class_weight='balanced', max_depth=20, n_estimators=200,\n",
            "                       random_state=12345) | est= 200 | depth= 20 | 0.5722983257229833\n",
            "F1: 0.5722983257229833\n",
            "RandomForestClassifier(class_weight='balanced', max_depth=20, n_estimators=250,\n",
            "                       random_state=12345) | est= 250 | depth= 20 | 0.5670731707317073\n",
            "F1: 0.5670731707317073\n",
            "RandomForestClassifier(class_weight='balanced', max_depth=20, n_estimators=300,\n",
            "                       random_state=12345) | est= 300 | depth= 20 | 0.5705614567526556\n",
            "F1: 0.5705614567526556\n",
            "RandomForestClassifier(class_weight='balanced', max_depth=20, n_estimators=350,\n",
            "                       random_state=12345) | est= 350 | depth= 20 | 0.5727272727272728\n",
            "F1: 0.5727272727272728\n",
            "F1: 0.6240352811466373\n",
            "Cамая эффективная модель - best_model RandomForestClassifier(class_weight='balanced', max_depth=8, random_state=12345)\n",
            "CPU times: user 1min 11s, sys: 636 ms, total: 1min 12s\n",
            "Wall time: 1min 12s\n"
          ]
        }
      ],
      "source": [
        "%%time\n",
        "best_model = None\n",
        "best_result = 0\n",
        "for depth in range(2, 22, 2):\n",
        "    for est in range(50, 351, 50):\n",
        "        model = RandomForestClassifier(random_state=12345, n_estimators=est, max_depth=depth,class_weight='balanced') \n",
        "        model.fit(features_train, target_train) \n",
        "        predicted_valid = model.predict(features_valid)\n",
        "        result = f1_score(target_valid, predicted_valid) \n",
        "        print(model, '|', 'est=',est,'|', 'depth=',depth,'|', result)\n",
        "        print(\"F1:\", f1_score(target_valid, predicted_valid))\n",
        "        if result > best_result:\n",
        "            best_model = model\n",
        "            best_result = result \n",
        "        \n",
        "print(\"F1:\", best_result)\n",
        "print('Cамая эффективная модель - best_model',best_model)"
      ]
    },
    {
      "cell_type": "markdown",
      "metadata": {
        "id": "AzMGefMvB1w-"
      },
      "source": [
        "**Решение** Попробуем другие методы борьбы с дисбалансом "
      ]
    },
    {
      "cell_type": "code",
      "execution_count": null,
      "metadata": {
        "id": "ofjHRkIWB1w-",
        "outputId": "7fc2d256-1083-4dbc-acfe-fe9457c0135a"
      },
      "outputs": [
        {
          "name": "stdout",
          "output_type": "stream",
          "text": [
            "Recall= 0.6842105263157895\n",
            "Precision 0.3803191489361702\n",
            "F1: 0.4888888888888888\n"
          ]
        }
      ],
      "source": [
        "def upsample(features, target, repeat):\n",
        "    features_zeros = features[target == 0]\n",
        "    features_ones = features[target == 1]\n",
        "    target_zeros = target[target == 0]\n",
        "    target_ones = target[target == 1]\n",
        "\n",
        "    features_upsampled = pd.concat([features_zeros] + [features_ones] * repeat)\n",
        "    target_upsampled = pd.concat([target_zeros] + [target_ones] * repeat)\n",
        "    \n",
        "    features_upsampled, target_upsampled = shuffle(\n",
        "        features_upsampled, target_upsampled, random_state=12345)\n",
        "    \n",
        "    return features_upsampled, target_upsampled\n",
        "\n",
        "features_upsampled, target_upsampled = upsample(features_train, target_train, 4)\n",
        "\n",
        "model = LogisticRegression(random_state=12345, solver='liblinear', max_iter=1000)\n",
        "model.fit(features_upsampled, target_upsampled)\n",
        "predictions_valid = model.predict(features_valid)\n",
        "print('Recall=',recall_score(target_valid, predictions_valid))\n",
        "print('Precision', precision_score(target_valid,predictions_valid))\n",
        "print(\"F1:\", f1_score(target_valid, predictions_valid))"
      ]
    },
    {
      "cell_type": "markdown",
      "metadata": {
        "id": "SziBPfbzB1w-"
      },
      "source": [
        "**Выводы** Методом upsampling  на модели LogisticRegression не удалось достигнуть целевого значения F1. "
      ]
    },
    {
      "cell_type": "code",
      "execution_count": null,
      "metadata": {
        "id": "muhDeF8jB1w-",
        "outputId": "667ccd20-cba8-4905-e397-1fc53f29167d"
      },
      "outputs": [
        {
          "name": "stdout",
          "output_type": "stream",
          "text": [
            "Recall= 0.6818181818181818\n",
            "Precision 0.3820375335120643\n",
            "F1: 0.4896907216494845\n"
          ]
        }
      ],
      "source": [
        "def downsample(features, target, fraction):\n",
        "    features_zeros = features[target == 0]\n",
        "    features_ones = features[target == 1]\n",
        "    target_zeros = target[target == 0]\n",
        "    target_ones = target[target == 1]\n",
        "\n",
        "    features_downsampled = pd.concat(\n",
        "        [features_zeros.sample(frac=fraction, random_state=12345)] + [features_ones])\n",
        "    target_downsampled = pd.concat(\n",
        "        [target_zeros.sample(frac=fraction, random_state=12345)] + [target_ones])\n",
        "    \n",
        "    features_downsampled, target_downsampled = shuffle(\n",
        "        features_downsampled, target_downsampled, random_state=12345)\n",
        "    \n",
        "    return features_downsampled, target_downsampled\n",
        "\n",
        "features_downsampled, target_downsampled = downsample(features_train, target_train, 0.25)\n",
        "\n",
        "model = LogisticRegression(random_state=12345, solver='liblinear', max_iter=1000)\n",
        "model.fit(features_downsampled, target_downsampled)\n",
        "predictions_valid = model.predict(features_valid)\n",
        "print('Recall=',recall_score(target_valid, predictions_valid))\n",
        "print('Precision', precision_score(target_valid,predictions_valid))\n",
        "print(\"F1:\", f1_score(target_valid, predictions_valid))"
      ]
    },
    {
      "cell_type": "markdown",
      "metadata": {
        "id": "2e-GBZW5B1w-"
      },
      "source": [
        "**Вывод** метод downsampling на LogisticRegression тоже не дал целевого F1.  "
      ]
    },
    {
      "cell_type": "markdown",
      "metadata": {
        "id": "Ud6uJCE-B1w_"
      },
      "source": [
        "**Общий вывод по решению проблемы дисбаланса** Подходящий результат (F1 от 0,59) удалось получить в 2 случаях: \n",
        "- DecisionTreeClassifier ((class_weight='balanced', max_depth=5, random_state=12345)\n",
        "- RandomForestClassifier(class_weight='balanced', max_depth=8, random_state=12345, est= 100 )\n"
      ]
    },
    {
      "cell_type": "markdown",
      "metadata": {
        "id": "0FHcxICKB1w_"
      },
      "source": [
        "## Тестирование модели"
      ]
    },
    {
      "cell_type": "markdown",
      "metadata": {
        "id": "rMh54EErB1w_"
      },
      "source": [
        "**тестирование модели RandomForestClassifier**"
      ]
    },
    {
      "cell_type": "code",
      "execution_count": null,
      "metadata": {
        "id": "1VZZlJwxB1w_",
        "outputId": "fb79340a-b29e-4e30-9594-8599b3a1d2e3"
      },
      "outputs": [
        {
          "name": "stdout",
          "output_type": "stream",
          "text": [
            "F1: 0.5989304812834224\n",
            "CPU times: user 647 ms, sys: 44 ms, total: 691 ms\n",
            "Wall time: 716 ms\n"
          ]
        }
      ],
      "source": [
        "%%time\n",
        "model = RandomForestClassifier(class_weight='balanced', max_depth=8, random_state=12345, n_estimators=100)\n",
        "model.fit(features_train, target_train)\n",
        "test_predictions = model.predict(features_test)\n",
        "accuracy_score(target_test, test_predictions)\n",
        "accuracy_test=accuracy_score(target_test, test_predictions)\n",
        "print(\"F1:\", f1_score(target_test, test_predictions)) "
      ]
    },
    {
      "cell_type": "markdown",
      "metadata": {
        "id": "EPDNS75RB1xA"
      },
      "source": [
        "**Выводы:** На тестовой выборке модели F1 модели RandomForestClassifier достигает целевого уровня 0,59"
      ]
    },
    {
      "cell_type": "code",
      "execution_count": null,
      "metadata": {
        "id": "8sZcnxY4B1xA",
        "outputId": "fc9b6b16-00cf-4874-aa15-195fb42d5ae6"
      },
      "outputs": [
        {
          "name": "stdout",
          "output_type": "stream",
          "text": [
            "Порог = 0.20 | Точность = 0.285, Полнота = 0.945\n",
            "Порог = 0.22 | Точность = 0.299, Полнота = 0.938\n",
            "Порог = 0.24 | Точность = 0.310, Полнота = 0.916\n",
            "Порог = 0.26 | Точность = 0.326, Полнота = 0.904\n",
            "Порог = 0.28 | Точность = 0.345, Полнота = 0.900\n",
            "Порог = 0.30 | Точность = 0.359, Полнота = 0.883\n",
            "Порог = 0.32 | Точность = 0.374, Полнота = 0.856\n",
            "Порог = 0.34 | Точность = 0.400, Полнота = 0.847\n",
            "Порог = 0.36 | Точность = 0.427, Полнота = 0.840\n",
            "Порог = 0.38 | Точность = 0.443, Полнота = 0.813\n",
            "Порог = 0.40 | Точность = 0.464, Полнота = 0.792\n",
            "Порог = 0.42 | Точность = 0.479, Полнота = 0.766\n",
            "Порог = 0.44 | Точность = 0.499, Полнота = 0.742\n",
            "Порог = 0.46 | Точность = 0.527, Полнота = 0.722\n",
            "Порог = 0.48 | Точность = 0.554, Полнота = 0.696\n",
            "Порог = 0.50 | Точность = 0.579, Полнота = 0.677\n",
            "Порог = 0.52 | Точность = 0.598, Полнота = 0.665\n",
            "Порог = 0.54 | Точность = 0.618, Полнота = 0.641\n",
            "Порог = 0.56 | Точность = 0.636, Полнота = 0.605\n",
            "Порог = 0.58 | Точность = 0.648, Полнота = 0.591\n",
            "Порог = 0.60 | Точность = 0.667, Полнота = 0.555\n",
            "Порог = 0.62 | Точность = 0.700, Полнота = 0.531\n",
            "Порог = 0.64 | Точность = 0.710, Полнота = 0.505\n",
            "Порог = 0.66 | Точность = 0.731, Полнота = 0.481\n",
            "Порог = 0.68 | Точность = 0.772, Полнота = 0.462\n"
          ]
        },
        {
          "data": {
            "image/png": "[encoded data removed]",
            "text/plain": [
              "<Figure size 432x432 with 1 Axes>"
            ]
          },
          "metadata": {
            "needs_background": "light"
          },
          "output_type": "display_data"
        },
        {
          "name": "stdout",
          "output_type": "stream",
          "text": [
            "CPU times: user 778 ms, sys: 23.9 ms, total: 802 ms\n",
            "Wall time: 808 ms\n"
          ]
        }
      ],
      "source": [
        "%%time\n",
        "model = RandomForestClassifier(class_weight='balanced', max_depth=8, random_state=12345, n_estimators=100)\n",
        "model.fit(features_train, target_train)\n",
        "probabilities_valid = model.predict_proba(features_valid)\n",
        "probabilities_one_valid = probabilities_valid[:, 1]\n",
        "\n",
        "for threshold in np.arange(0.2, 0.7, 0.02):\n",
        "    predicted_valid = probabilities_one_valid > threshold\n",
        "    precision = precision_score(target_valid, predicted_valid)\n",
        "    recall = recall_score(target_valid, predicted_valid)\n",
        "\n",
        "    print(\"Порог = {:.2f} | Точность = {:.3f}, Полнота = {:.3f}\".format(\n",
        "        threshold, precision, recall))\n",
        "    \n",
        "precision, recall, thresholds = precision_recall_curve(target_valid, probabilities_valid[:, 1])\n",
        "plt.figure(figsize=(6, 6))\n",
        "plt.step(recall, precision, where='post')\n",
        "plt.xlabel('Recall')\n",
        "plt.ylabel('Precision')\n",
        "plt.ylim([0.0, 1.05])\n",
        "plt.xlim([0.0, 1.0])\n",
        "plt.title('Кривая Precision-Recall')\n",
        "plt.show()     "
      ]
    },
    {
      "cell_type": "markdown",
      "metadata": {
        "id": "HkwP3blRB1xA"
      },
      "source": [
        "**Исследование precision_recall_curve** Чем выше кривая, тем лучше модель. По умолчанию порог 0,5, смотрим соотношения точности и полноты меняя значения порога. "
      ]
    },
    {
      "cell_type": "code",
      "execution_count": null,
      "metadata": {
        "id": "LhT_wPpuB1xA",
        "outputId": "cd770b2d-4da5-4571-f3d1-d25f5257d796"
      },
      "outputs": [
        {
          "name": "stdout",
          "output_type": "stream",
          "text": [
            "0.85216006629607\n"
          ]
        },
        {
          "data": {
            "image/png": "[encoded data removed]",
            "text/plain": [
              "<Figure size 432x288 with 1 Axes>"
            ]
          },
          "metadata": {
            "needs_background": "light"
          },
          "output_type": "display_data"
        },
        {
          "name": "stdout",
          "output_type": "stream",
          "text": [
            "CPU times: user 681 ms, sys: 7.96 ms, total: 689 ms\n",
            "Wall time: 702 ms\n"
          ]
        }
      ],
      "source": [
        "%%time\n",
        "model = RandomForestClassifier(class_weight='balanced', max_depth=8, random_state=12345, n_estimators=100)\n",
        "model.fit(features_train, target_train)\n",
        "\n",
        "probabilities_valid = model.predict_proba(features_valid)\n",
        "probabilities_one_valid = probabilities_valid[:, 1]\n",
        "\n",
        "auc_roc = roc_auc_score(target_valid, probabilities_one_valid) \n",
        "\n",
        "print(auc_roc)\n",
        "\n",
        "fpr, tpr, thresholds = roc_curve(target_valid, probabilities_one_valid)\n",
        "plt.figure()\n",
        "plt.plot(fpr, tpr)\n",
        "plt.xlim([0.0, 1.0])\n",
        "plt.ylim([0.0, 1.0])\n",
        "plt.xlabel('False Positive Rate')\n",
        "plt.ylabel('True Positive Rate')\n",
        "plt.title('ROC-кривая')\n",
        "plt.show()"
      ]
    },
    {
      "cell_type": "markdown",
      "metadata": {
        "id": "cqttgMdFB1xB"
      },
      "source": [
        "**Исследование auc_roc** Площадь под ROC-кривой =  0.85 (доля пар объектов которые алгоритм верно упорядочил). Это хороший результат, подтверждает выбор модели.(В идеальном случае = 1)"
      ]
    },
    {
      "cell_type": "markdown",
      "metadata": {
        "id": "pA3srRfAB1xB"
      },
      "source": [
        "**тестирование модели DecisionTreeClassifier**"
      ]
    },
    {
      "cell_type": "code",
      "execution_count": null,
      "metadata": {
        "id": "S6edMmgCB1xB",
        "outputId": "92c4f525-42c4-4ce3-ff8a-6e79e3d78ce8"
      },
      "outputs": [
        {
          "name": "stdout",
          "output_type": "stream",
          "text": [
            "F1: 0.5809128630705395\n",
            "CPU times: user 24.2 ms, sys: 3.99 ms, total: 28.2 ms\n",
            "Wall time: 37.6 ms\n"
          ]
        }
      ],
      "source": [
        "%%time\n",
        "model = DecisionTreeClassifier(max_depth=5, class_weight='balanced')\n",
        "model.fit(features_train, target_train)\n",
        "test_predictions = model.predict(features_test)\n",
        "accuracy_score(target_test, test_predictions)\n",
        "accuracy_test=accuracy_score(target_test, test_predictions)\n",
        "print(\"F1:\", f1_score(target_test, test_predictions)) \n",
        " "
      ]
    },
    {
      "cell_type": "markdown",
      "metadata": {
        "id": "9-bPtlwkB1xB"
      },
      "source": [
        "Проверка выбранной модели на тестовой выборке: F1 несколько снился с 0.59 до 0.58 по сравнению с валидизационной выборкой. "
      ]
    },
    {
      "cell_type": "code",
      "execution_count": null,
      "metadata": {
        "scrolled": false,
        "id": "J2wOfYDZB1xB",
        "outputId": "a63aaba3-dd48-4a56-d878-1b91e56a91ba"
      },
      "outputs": [
        {
          "name": "stdout",
          "output_type": "stream",
          "text": [
            "Порог = 0.20 | Точность = 0.295, Полнота = 0.928\n",
            "Порог = 0.22 | Точность = 0.295, Полнота = 0.928\n",
            "Порог = 0.24 | Точность = 0.295, Полнота = 0.928\n",
            "Порог = 0.26 | Точность = 0.335, Полнота = 0.878\n",
            "Порог = 0.28 | Точность = 0.335, Полнота = 0.878\n",
            "Порог = 0.30 | Точность = 0.335, Полнота = 0.878\n",
            "Порог = 0.32 | Точность = 0.335, Полнота = 0.878\n",
            "Порог = 0.34 | Точность = 0.335, Полнота = 0.878\n",
            "Порог = 0.36 | Точность = 0.362, Полнота = 0.844\n",
            "Порог = 0.38 | Точность = 0.362, Полнота = 0.844\n",
            "Порог = 0.40 | Точность = 0.362, Полнота = 0.844\n",
            "Порог = 0.42 | Точность = 0.362, Полнота = 0.844\n",
            "Порог = 0.44 | Точность = 0.410, Полнота = 0.770\n",
            "Порог = 0.46 | Точность = 0.537, Полнота = 0.670\n",
            "Порог = 0.48 | Точность = 0.537, Полнота = 0.670\n",
            "Порог = 0.50 | Точность = 0.537, Полнота = 0.670\n",
            "Порог = 0.52 | Точность = 0.537, Полнота = 0.670\n",
            "Порог = 0.54 | Точность = 0.537, Полнота = 0.670\n",
            "Порог = 0.56 | Точность = 0.537, Полнота = 0.670\n",
            "Порог = 0.58 | Точность = 0.580, Полнота = 0.639\n",
            "Порог = 0.60 | Точность = 0.580, Полнота = 0.639\n",
            "Порог = 0.62 | Точность = 0.580, Полнота = 0.639\n",
            "Порог = 0.64 | Точность = 0.580, Полнота = 0.639\n",
            "Порог = 0.66 | Точность = 0.580, Полнота = 0.639\n",
            "Порог = 0.68 | Точность = 0.732, Полнота = 0.450\n"
          ]
        },
        {
          "data": {
            "image/png": "[encoded data removed]",
            "text/plain": [
              "<Figure size 432x432 with 1 Axes>"
            ]
          },
          "metadata": {
            "needs_background": "light"
          },
          "output_type": "display_data"
        },
        {
          "name": "stdout",
          "output_type": "stream",
          "text": [
            "CPU times: user 291 ms, sys: 28 ms, total: 319 ms\n",
            "Wall time: 329 ms\n"
          ]
        }
      ],
      "source": [
        "%%time\n",
        "model = DecisionTreeClassifier(max_depth=5, class_weight='balanced')\n",
        "model.fit(features_train, target_train)\n",
        "probabilities_valid = model.predict_proba(features_valid)\n",
        "probabilities_one_valid = probabilities_valid[:, 1]\n",
        "\n",
        "for threshold in np.arange(0.2, 0.7, 0.02):\n",
        "    predicted_valid = probabilities_one_valid > threshold\n",
        "    precision = precision_score(target_valid, predicted_valid)\n",
        "    recall = recall_score(target_valid, predicted_valid)\n",
        "\n",
        "    print(\"Порог = {:.2f} | Точность = {:.3f}, Полнота = {:.3f}\".format(\n",
        "        threshold, precision, recall))\n",
        "    \n",
        "precision, recall, thresholds = precision_recall_curve(target_valid, probabilities_valid[:, 1])\n",
        "plt.figure(figsize=(6, 6))\n",
        "plt.step(recall, precision, where='post')\n",
        "plt.xlabel('Recall')\n",
        "plt.ylabel('Precision')\n",
        "plt.ylim([0.0, 1.05])\n",
        "plt.xlim([0.0, 1.0])\n",
        "plt.title('Кривая Precision-Recall')\n",
        "plt.show()     "
      ]
    },
    {
      "cell_type": "markdown",
      "metadata": {
        "id": "8af1RK2CB1xC"
      },
      "source": [
        "**Исследование precision_recall_curve** Чем выше кривая, тем лучше модель. По умолчанию порог 0,5, смотрим соотношения точности и полноты меняя значения порога. "
      ]
    },
    {
      "cell_type": "code",
      "execution_count": null,
      "metadata": {
        "id": "35iBiTmfB1xC",
        "outputId": "0d248c84-e4b0-46a2-deb7-e771e55e5fc0"
      },
      "outputs": [
        {
          "name": "stdout",
          "output_type": "stream",
          "text": [
            "0.8310244134068074\n"
          ]
        },
        {
          "data": {
            "image/png": "[encoded data removed]",
            "text/plain": [
              "<Figure size 432x288 with 1 Axes>"
            ]
          },
          "metadata": {
            "needs_background": "light"
          },
          "output_type": "display_data"
        },
        {
          "name": "stdout",
          "output_type": "stream",
          "text": [
            "CPU times: user 186 ms, sys: 28 ms, total: 214 ms\n",
            "Wall time: 221 ms\n"
          ]
        }
      ],
      "source": [
        "%%time\n",
        "model = DecisionTreeClassifier(max_depth=5, class_weight='balanced')\n",
        "model.fit(features_train, target_train)\n",
        "\n",
        "probabilities_valid = model.predict_proba(features_valid)\n",
        "probabilities_one_valid = probabilities_valid[:, 1]\n",
        "\n",
        "auc_roc = roc_auc_score(target_valid, probabilities_one_valid) \n",
        "\n",
        "print(auc_roc)\n",
        "\n",
        "fpr, tpr, thresholds = roc_curve(target_valid, probabilities_one_valid)\n",
        "plt.figure()\n",
        "plt.plot(fpr, tpr)\n",
        "plt.xlim([0.0, 1.0])\n",
        "plt.ylim([0.0, 1.0])\n",
        "plt.xlabel('False Positive Rate')\n",
        "plt.ylabel('True Positive Rate')\n",
        "plt.title('ROC-кривая')\n",
        "plt.show()"
      ]
    },
    {
      "cell_type": "markdown",
      "metadata": {
        "id": "ejWwD51LB1xC"
      },
      "source": [
        "**Исследование auc_roc** Площадь под ROC-кривой =  0.83. Относительно хороший результат.(В идеальном случае = 1), но меньше, чем у RandomForestClassifier. "
      ]
    },
    {
      "cell_type": "markdown",
      "metadata": {
        "id": "ofcVZxbJB1xC"
      },
      "source": [
        "**Общие выводы**\n",
        "-  изучены данные и проведена предварительная обработка\n",
        "-  выявлен дисбаланс\n",
        "-  проверены разные модели с перебором гиперпараметров\n",
        "-  с учетом дисбаланса, требуюшегося показателя F1 на тестовых выборка удалось достичь на 2 моделях:\n",
        "   - DecisionTreeClassifier ((class_weight='balanced', max_depth=5, random_state=12345)\n",
        "   - RandomForestClassifier(class_weight='balanced', max_depth=8, random_state=12345, est= 100 )\n",
        "-  эта модели была простестированы, исследованы Аuc_Roc и Rrecision_recall_curve\n",
        "-  на тестовой выборке показатель F1 выше 0,59 сохранился только на модели RandomForestClassifier(class_weight='balanced', max_depth=8, random_state=12345, est= 100 )\n",
        "-  другие методы борьбы с дисбалансом (downsampling, upsampling на модели LogisticRegression) не дали нужный F1. "
      ]
    }
  ],
  "metadata": {
    "ExecuteTimeLog": [
      {
        "duration": 1148,
        "start_time": "2022-11-17T10:14:11.828Z"
      },
      {
        "duration": 192,
        "start_time": "2022-11-17T10:17:00.859Z"
      },
      {
        "duration": 5,
        "start_time": "2022-11-17T10:54:53.459Z"
      },
      {
        "duration": 4,
        "start_time": "2022-11-17T10:58:42.860Z"
      },
      {
        "duration": 12,
        "start_time": "2022-11-17T11:01:01.313Z"
      },
      {
        "duration": 116,
        "start_time": "2022-11-17T11:06:42.216Z"
      },
      {
        "duration": 14,
        "start_time": "2022-11-17T11:06:54.468Z"
      },
      {
        "duration": 4,
        "start_time": "2022-11-17T11:22:16.922Z"
      },
      {
        "duration": 76,
        "start_time": "2022-11-17T11:23:22.475Z"
      },
      {
        "duration": 4,
        "start_time": "2022-11-17T11:26:35.132Z"
      },
      {
        "duration": 49,
        "start_time": "2022-11-17T13:04:55.730Z"
      },
      {
        "duration": 3,
        "start_time": "2022-11-17T13:08:05.134Z"
      },
      {
        "duration": 75,
        "start_time": "2022-11-17T13:08:22.363Z"
      },
      {
        "duration": 68,
        "start_time": "2022-11-17T13:08:36.659Z"
      },
      {
        "duration": 73,
        "start_time": "2022-11-17T13:08:55.491Z"
      },
      {
        "duration": 89,
        "start_time": "2022-11-17T13:09:07.570Z"
      },
      {
        "duration": 7,
        "start_time": "2022-11-17T13:10:58.017Z"
      },
      {
        "duration": 1140,
        "start_time": "2022-11-17T13:11:13.051Z"
      },
      {
        "duration": 66,
        "start_time": "2022-11-17T13:11:20.031Z"
      },
      {
        "duration": 1244,
        "start_time": "2022-11-17T13:11:30.900Z"
      },
      {
        "duration": 103,
        "start_time": "2022-11-17T13:11:32.147Z"
      },
      {
        "duration": 5,
        "start_time": "2022-11-17T13:11:32.252Z"
      },
      {
        "duration": 30,
        "start_time": "2022-11-17T13:11:32.258Z"
      },
      {
        "duration": 21,
        "start_time": "2022-11-17T13:11:32.291Z"
      },
      {
        "duration": 32,
        "start_time": "2022-11-17T13:11:32.313Z"
      },
      {
        "duration": 8,
        "start_time": "2022-11-17T13:11:32.346Z"
      },
      {
        "duration": 6,
        "start_time": "2022-11-17T13:12:01.649Z"
      },
      {
        "duration": 74,
        "start_time": "2022-11-17T13:16:00.050Z"
      },
      {
        "duration": 9,
        "start_time": "2022-11-17T13:16:11.344Z"
      },
      {
        "duration": 24,
        "start_time": "2022-11-17T13:17:07.229Z"
      },
      {
        "duration": 104,
        "start_time": "2022-11-17T13:23:57.105Z"
      },
      {
        "duration": 12,
        "start_time": "2022-11-17T13:25:33.426Z"
      },
      {
        "duration": 15,
        "start_time": "2022-11-17T13:26:03.786Z"
      },
      {
        "duration": 22,
        "start_time": "2022-11-17T13:33:25.955Z"
      },
      {
        "duration": 10,
        "start_time": "2022-11-17T13:37:33.246Z"
      },
      {
        "duration": 13,
        "start_time": "2022-11-17T13:37:47.496Z"
      },
      {
        "duration": 12,
        "start_time": "2022-11-17T13:41:30.334Z"
      },
      {
        "duration": 18,
        "start_time": "2022-11-17T13:41:44.047Z"
      },
      {
        "duration": 12,
        "start_time": "2022-11-17T13:46:54.376Z"
      },
      {
        "duration": 8,
        "start_time": "2022-11-17T13:48:58.707Z"
      },
      {
        "duration": 8,
        "start_time": "2022-11-17T13:49:18.734Z"
      },
      {
        "duration": 7,
        "start_time": "2022-11-17T13:50:09.128Z"
      },
      {
        "duration": 5,
        "start_time": "2022-11-17T13:51:15.647Z"
      },
      {
        "duration": 5,
        "start_time": "2022-11-17T13:51:44.856Z"
      },
      {
        "duration": 17,
        "start_time": "2022-11-17T13:51:54.596Z"
      },
      {
        "duration": 6,
        "start_time": "2022-11-17T13:52:49.997Z"
      },
      {
        "duration": 24,
        "start_time": "2022-11-17T13:53:08.518Z"
      },
      {
        "duration": 19,
        "start_time": "2022-11-17T13:59:05.096Z"
      },
      {
        "duration": 29,
        "start_time": "2022-11-17T13:59:13.648Z"
      },
      {
        "duration": 31,
        "start_time": "2022-11-17T13:59:17.976Z"
      },
      {
        "duration": 34,
        "start_time": "2022-11-17T13:59:51.046Z"
      },
      {
        "duration": 30,
        "start_time": "2022-11-17T14:00:38.286Z"
      },
      {
        "duration": 31,
        "start_time": "2022-11-17T14:03:46.438Z"
      },
      {
        "duration": 4,
        "start_time": "2022-11-17T14:13:21.535Z"
      },
      {
        "duration": 7,
        "start_time": "2022-11-17T14:24:27.554Z"
      },
      {
        "duration": 1107,
        "start_time": "2022-11-17T14:26:43.058Z"
      },
      {
        "duration": 67,
        "start_time": "2022-11-17T14:27:15.566Z"
      },
      {
        "duration": 9,
        "start_time": "2022-11-17T14:27:38.393Z"
      },
      {
        "duration": 21,
        "start_time": "2022-11-17T14:28:11.235Z"
      },
      {
        "duration": 1172,
        "start_time": "2022-11-17T14:29:01.416Z"
      },
      {
        "duration": 87,
        "start_time": "2022-11-17T14:30:09.166Z"
      },
      {
        "duration": 67,
        "start_time": "2022-11-17T17:25:44.532Z"
      },
      {
        "duration": 52,
        "start_time": "2022-11-17T17:25:57.556Z"
      },
      {
        "duration": 1162,
        "start_time": "2022-11-17T17:26:08.791Z"
      },
      {
        "duration": 202,
        "start_time": "2022-11-17T17:26:09.956Z"
      },
      {
        "duration": 4,
        "start_time": "2022-11-17T17:26:10.160Z"
      },
      {
        "duration": 23,
        "start_time": "2022-11-17T17:26:10.167Z"
      },
      {
        "duration": 7,
        "start_time": "2022-11-17T17:26:10.192Z"
      },
      {
        "duration": 14,
        "start_time": "2022-11-17T17:26:10.201Z"
      },
      {
        "duration": 8,
        "start_time": "2022-11-17T17:26:10.217Z"
      },
      {
        "duration": 25,
        "start_time": "2022-11-17T17:26:10.227Z"
      },
      {
        "duration": 4,
        "start_time": "2022-11-17T17:26:10.254Z"
      },
      {
        "duration": 53,
        "start_time": "2022-11-17T17:26:10.263Z"
      },
      {
        "duration": 0,
        "start_time": "2022-11-17T17:26:10.318Z"
      },
      {
        "duration": 0,
        "start_time": "2022-11-17T17:26:10.320Z"
      },
      {
        "duration": 53,
        "start_time": "2022-11-17T17:26:35.334Z"
      },
      {
        "duration": 50,
        "start_time": "2022-11-17T17:26:52.547Z"
      },
      {
        "duration": 1154,
        "start_time": "2022-11-17T17:27:22.719Z"
      },
      {
        "duration": 68,
        "start_time": "2022-11-17T17:27:23.876Z"
      },
      {
        "duration": 5,
        "start_time": "2022-11-17T17:27:23.945Z"
      },
      {
        "duration": 13,
        "start_time": "2022-11-17T17:27:23.952Z"
      },
      {
        "duration": 6,
        "start_time": "2022-11-17T17:27:23.967Z"
      },
      {
        "duration": 7,
        "start_time": "2022-11-17T17:27:23.975Z"
      },
      {
        "duration": 28,
        "start_time": "2022-11-17T17:27:23.984Z"
      },
      {
        "duration": 20,
        "start_time": "2022-11-17T17:27:24.014Z"
      },
      {
        "duration": 4,
        "start_time": "2022-11-17T17:27:24.036Z"
      },
      {
        "duration": 49,
        "start_time": "2022-11-17T17:27:24.042Z"
      },
      {
        "duration": 0,
        "start_time": "2022-11-17T17:27:24.093Z"
      },
      {
        "duration": 0,
        "start_time": "2022-11-17T17:27:24.094Z"
      },
      {
        "duration": 7,
        "start_time": "2022-11-17T17:28:20.409Z"
      },
      {
        "duration": 9,
        "start_time": "2022-11-17T17:28:29.702Z"
      },
      {
        "duration": 8,
        "start_time": "2022-11-17T17:28:35.327Z"
      },
      {
        "duration": 210,
        "start_time": "2022-11-17T18:57:23.793Z"
      },
      {
        "duration": 212,
        "start_time": "2022-11-17T18:57:58.692Z"
      },
      {
        "duration": 13,
        "start_time": "2022-11-17T18:58:44.480Z"
      },
      {
        "duration": 100,
        "start_time": "2022-11-17T19:00:00.867Z"
      },
      {
        "duration": 13,
        "start_time": "2022-11-17T19:00:21.759Z"
      },
      {
        "duration": 44,
        "start_time": "2022-11-17T19:01:03.924Z"
      },
      {
        "duration": 13,
        "start_time": "2022-11-17T19:01:25.660Z"
      },
      {
        "duration": 12,
        "start_time": "2022-11-17T19:18:27.511Z"
      },
      {
        "duration": 12,
        "start_time": "2022-11-17T19:19:13.216Z"
      },
      {
        "duration": 11,
        "start_time": "2022-11-17T19:20:01.049Z"
      },
      {
        "duration": 32,
        "start_time": "2022-11-17T19:20:52.034Z"
      },
      {
        "duration": 31,
        "start_time": "2022-11-17T19:25:48.980Z"
      },
      {
        "duration": 19,
        "start_time": "2022-11-17T19:26:34.703Z"
      },
      {
        "duration": 19,
        "start_time": "2022-11-17T19:27:53.474Z"
      },
      {
        "duration": 18,
        "start_time": "2022-11-17T19:28:32.781Z"
      },
      {
        "duration": 24,
        "start_time": "2022-11-17T19:32:02.258Z"
      },
      {
        "duration": 19,
        "start_time": "2022-11-17T19:32:27.105Z"
      },
      {
        "duration": 16,
        "start_time": "2022-11-17T19:32:54.997Z"
      },
      {
        "duration": 7,
        "start_time": "2022-11-17T19:33:28.781Z"
      },
      {
        "duration": 6,
        "start_time": "2022-11-17T19:33:48.991Z"
      },
      {
        "duration": 1115,
        "start_time": "2022-11-17T19:34:36.897Z"
      },
      {
        "duration": 65,
        "start_time": "2022-11-17T19:34:38.014Z"
      },
      {
        "duration": 4,
        "start_time": "2022-11-17T19:34:38.081Z"
      },
      {
        "duration": 16,
        "start_time": "2022-11-17T19:34:38.087Z"
      },
      {
        "duration": 6,
        "start_time": "2022-11-17T19:34:38.104Z"
      },
      {
        "duration": 4,
        "start_time": "2022-11-17T19:34:38.111Z"
      },
      {
        "duration": 6,
        "start_time": "2022-11-17T19:34:38.117Z"
      },
      {
        "duration": 19,
        "start_time": "2022-11-17T19:34:38.125Z"
      },
      {
        "duration": 3,
        "start_time": "2022-11-17T19:34:38.146Z"
      },
      {
        "duration": 13,
        "start_time": "2022-11-17T19:34:38.152Z"
      },
      {
        "duration": 59,
        "start_time": "2022-11-17T19:34:38.166Z"
      },
      {
        "duration": 7,
        "start_time": "2022-11-17T19:35:39.102Z"
      },
      {
        "duration": 10,
        "start_time": "2022-11-17T19:36:33.239Z"
      },
      {
        "duration": 107,
        "start_time": "2022-11-17T19:37:01.509Z"
      },
      {
        "duration": 11,
        "start_time": "2022-11-17T19:37:07.696Z"
      },
      {
        "duration": 45,
        "start_time": "2022-11-17T19:40:19.219Z"
      },
      {
        "duration": 607,
        "start_time": "2022-11-17T19:40:30.322Z"
      },
      {
        "duration": 986,
        "start_time": "2022-11-17T19:41:09.484Z"
      },
      {
        "duration": 797,
        "start_time": "2022-11-17T19:42:31.283Z"
      },
      {
        "duration": 720,
        "start_time": "2022-11-17T19:42:46.235Z"
      },
      {
        "duration": 713,
        "start_time": "2022-11-17T19:43:22.730Z"
      },
      {
        "duration": 756,
        "start_time": "2022-11-17T19:43:57.077Z"
      },
      {
        "duration": 753,
        "start_time": "2022-11-17T19:44:12.534Z"
      },
      {
        "duration": 10,
        "start_time": "2022-11-17T19:44:21.758Z"
      },
      {
        "duration": 11,
        "start_time": "2022-11-17T19:44:25.223Z"
      },
      {
        "duration": 12,
        "start_time": "2022-11-17T19:44:56.498Z"
      },
      {
        "duration": 6,
        "start_time": "2022-11-17T19:45:20.967Z"
      },
      {
        "duration": 1091,
        "start_time": "2022-11-17T19:45:51.498Z"
      },
      {
        "duration": 66,
        "start_time": "2022-11-17T19:45:52.591Z"
      },
      {
        "duration": 4,
        "start_time": "2022-11-17T19:45:52.658Z"
      },
      {
        "duration": 12,
        "start_time": "2022-11-17T19:45:52.664Z"
      },
      {
        "duration": 5,
        "start_time": "2022-11-17T19:45:52.678Z"
      },
      {
        "duration": 6,
        "start_time": "2022-11-17T19:45:52.684Z"
      },
      {
        "duration": 22,
        "start_time": "2022-11-17T19:45:52.691Z"
      },
      {
        "duration": 20,
        "start_time": "2022-11-17T19:45:52.715Z"
      },
      {
        "duration": 4,
        "start_time": "2022-11-17T19:45:52.736Z"
      },
      {
        "duration": 7,
        "start_time": "2022-11-17T19:45:52.742Z"
      },
      {
        "duration": 11,
        "start_time": "2022-11-17T19:45:52.751Z"
      },
      {
        "duration": 69,
        "start_time": "2022-11-17T19:45:52.764Z"
      },
      {
        "duration": 1025,
        "start_time": "2022-11-18T06:32:21.531Z"
      },
      {
        "duration": 211,
        "start_time": "2022-11-18T06:32:22.558Z"
      },
      {
        "duration": 4,
        "start_time": "2022-11-18T06:32:22.770Z"
      },
      {
        "duration": 14,
        "start_time": "2022-11-18T06:32:22.776Z"
      },
      {
        "duration": 8,
        "start_time": "2022-11-18T06:32:22.791Z"
      },
      {
        "duration": 28,
        "start_time": "2022-11-18T06:32:22.800Z"
      },
      {
        "duration": 15,
        "start_time": "2022-11-18T06:32:22.830Z"
      },
      {
        "duration": 27,
        "start_time": "2022-11-18T06:32:22.847Z"
      },
      {
        "duration": 9,
        "start_time": "2022-11-18T06:32:22.875Z"
      },
      {
        "duration": 16,
        "start_time": "2022-11-18T06:32:22.887Z"
      },
      {
        "duration": 19,
        "start_time": "2022-11-18T06:32:22.905Z"
      },
      {
        "duration": 54,
        "start_time": "2022-11-18T06:32:22.925Z"
      },
      {
        "duration": 101,
        "start_time": "2022-11-18T06:33:29.348Z"
      },
      {
        "duration": 15,
        "start_time": "2022-11-18T06:34:07.421Z"
      },
      {
        "duration": 48,
        "start_time": "2022-11-18T06:35:09.913Z"
      },
      {
        "duration": 42,
        "start_time": "2022-11-18T06:35:20.433Z"
      },
      {
        "duration": 1106,
        "start_time": "2022-11-18T06:35:38.744Z"
      },
      {
        "duration": 66,
        "start_time": "2022-11-18T06:35:39.852Z"
      },
      {
        "duration": 4,
        "start_time": "2022-11-18T06:35:39.919Z"
      },
      {
        "duration": 11,
        "start_time": "2022-11-18T06:35:39.926Z"
      },
      {
        "duration": 6,
        "start_time": "2022-11-18T06:35:39.938Z"
      },
      {
        "duration": 32,
        "start_time": "2022-11-18T06:35:39.945Z"
      },
      {
        "duration": 4,
        "start_time": "2022-11-18T06:35:39.979Z"
      },
      {
        "duration": 20,
        "start_time": "2022-11-18T06:35:39.984Z"
      },
      {
        "duration": 4,
        "start_time": "2022-11-18T06:35:40.005Z"
      },
      {
        "duration": 42,
        "start_time": "2022-11-18T06:35:40.011Z"
      },
      {
        "duration": 0,
        "start_time": "2022-11-18T06:35:40.055Z"
      },
      {
        "duration": 0,
        "start_time": "2022-11-18T06:35:40.057Z"
      },
      {
        "duration": 67,
        "start_time": "2022-11-18T06:36:00.257Z"
      },
      {
        "duration": 48,
        "start_time": "2022-11-18T06:37:11.671Z"
      },
      {
        "duration": 7,
        "start_time": "2022-11-18T06:37:21.550Z"
      },
      {
        "duration": 69,
        "start_time": "2022-11-18T06:37:42.182Z"
      },
      {
        "duration": 1095,
        "start_time": "2022-11-18T06:37:57.404Z"
      },
      {
        "duration": 67,
        "start_time": "2022-11-18T06:37:58.501Z"
      },
      {
        "duration": 5,
        "start_time": "2022-11-18T06:37:58.569Z"
      },
      {
        "duration": 11,
        "start_time": "2022-11-18T06:37:58.576Z"
      },
      {
        "duration": 6,
        "start_time": "2022-11-18T06:37:58.589Z"
      },
      {
        "duration": 12,
        "start_time": "2022-11-18T06:37:58.597Z"
      },
      {
        "duration": 16,
        "start_time": "2022-11-18T06:37:58.611Z"
      },
      {
        "duration": 21,
        "start_time": "2022-11-18T06:37:58.628Z"
      },
      {
        "duration": 4,
        "start_time": "2022-11-18T06:37:58.651Z"
      },
      {
        "duration": 50,
        "start_time": "2022-11-18T06:37:58.676Z"
      },
      {
        "duration": 0,
        "start_time": "2022-11-18T06:37:58.728Z"
      },
      {
        "duration": 0,
        "start_time": "2022-11-18T06:37:58.729Z"
      },
      {
        "duration": 53,
        "start_time": "2022-11-18T06:46:03.485Z"
      },
      {
        "duration": 99,
        "start_time": "2022-11-18T06:47:05.981Z"
      },
      {
        "duration": 49,
        "start_time": "2022-11-18T06:53:14.647Z"
      },
      {
        "duration": 44,
        "start_time": "2022-11-18T06:54:29.797Z"
      },
      {
        "duration": 40,
        "start_time": "2022-11-18T06:54:58.867Z"
      },
      {
        "duration": 84,
        "start_time": "2022-11-18T06:55:15.428Z"
      },
      {
        "duration": 49,
        "start_time": "2022-11-18T06:56:38.339Z"
      },
      {
        "duration": 50,
        "start_time": "2022-11-18T06:56:44.922Z"
      },
      {
        "duration": 46,
        "start_time": "2022-11-18T06:57:25.511Z"
      },
      {
        "duration": 15,
        "start_time": "2022-11-18T06:58:23.292Z"
      },
      {
        "duration": 21,
        "start_time": "2022-11-18T07:12:18.233Z"
      },
      {
        "duration": 1028,
        "start_time": "2022-11-18T07:15:29.604Z"
      },
      {
        "duration": 69,
        "start_time": "2022-11-18T07:15:30.634Z"
      },
      {
        "duration": 3,
        "start_time": "2022-11-18T07:15:30.708Z"
      },
      {
        "duration": 132,
        "start_time": "2022-11-18T07:15:30.713Z"
      },
      {
        "duration": 49,
        "start_time": "2022-11-18T07:15:30.846Z"
      },
      {
        "duration": 30,
        "start_time": "2022-11-18T07:15:30.897Z"
      },
      {
        "duration": 21,
        "start_time": "2022-11-18T07:15:30.928Z"
      },
      {
        "duration": 51,
        "start_time": "2022-11-18T07:15:30.950Z"
      },
      {
        "duration": 20,
        "start_time": "2022-11-18T07:15:31.003Z"
      },
      {
        "duration": 31,
        "start_time": "2022-11-18T07:15:31.024Z"
      },
      {
        "duration": 20,
        "start_time": "2022-11-18T07:15:31.057Z"
      },
      {
        "duration": 64,
        "start_time": "2022-11-18T07:15:31.078Z"
      },
      {
        "duration": 3,
        "start_time": "2022-11-18T07:16:20.648Z"
      },
      {
        "duration": 12,
        "start_time": "2022-11-18T07:16:27.858Z"
      },
      {
        "duration": 1085,
        "start_time": "2022-11-18T07:17:08.033Z"
      },
      {
        "duration": 804,
        "start_time": "2022-11-18T07:17:47.531Z"
      },
      {
        "duration": 748,
        "start_time": "2022-11-18T07:18:30.844Z"
      },
      {
        "duration": 13,
        "start_time": "2022-11-18T07:19:03.481Z"
      },
      {
        "duration": 13,
        "start_time": "2022-11-18T07:19:19.996Z"
      },
      {
        "duration": 11,
        "start_time": "2022-11-18T07:19:32.101Z"
      },
      {
        "duration": 867,
        "start_time": "2022-11-18T07:19:40.765Z"
      },
      {
        "duration": 1059,
        "start_time": "2022-11-18T07:19:48.485Z"
      },
      {
        "duration": 66,
        "start_time": "2022-11-18T07:19:49.546Z"
      },
      {
        "duration": 3,
        "start_time": "2022-11-18T07:19:49.614Z"
      },
      {
        "duration": 15,
        "start_time": "2022-11-18T07:19:49.618Z"
      },
      {
        "duration": 4,
        "start_time": "2022-11-18T07:19:49.635Z"
      },
      {
        "duration": 3,
        "start_time": "2022-11-18T07:19:49.641Z"
      },
      {
        "duration": 6,
        "start_time": "2022-11-18T07:19:49.645Z"
      },
      {
        "duration": 37,
        "start_time": "2022-11-18T07:19:49.652Z"
      },
      {
        "duration": 3,
        "start_time": "2022-11-18T07:19:49.691Z"
      },
      {
        "duration": 25,
        "start_time": "2022-11-18T07:19:49.695Z"
      },
      {
        "duration": 10,
        "start_time": "2022-11-18T07:19:49.721Z"
      },
      {
        "duration": 51,
        "start_time": "2022-11-18T07:19:49.732Z"
      },
      {
        "duration": 26,
        "start_time": "2022-11-18T07:21:06.027Z"
      },
      {
        "duration": 26,
        "start_time": "2022-11-18T07:22:19.862Z"
      },
      {
        "duration": 37,
        "start_time": "2022-11-18T07:22:57.628Z"
      },
      {
        "duration": 12,
        "start_time": "2022-11-18T07:50:14.636Z"
      },
      {
        "duration": 52,
        "start_time": "2022-11-18T07:50:44.995Z"
      },
      {
        "duration": 13,
        "start_time": "2022-11-18T07:51:00.316Z"
      },
      {
        "duration": 48,
        "start_time": "2022-11-18T07:51:05.033Z"
      },
      {
        "duration": 1149,
        "start_time": "2022-11-18T07:51:27.701Z"
      },
      {
        "duration": 68,
        "start_time": "2022-11-18T07:51:28.852Z"
      },
      {
        "duration": 4,
        "start_time": "2022-11-18T07:51:28.921Z"
      },
      {
        "duration": 12,
        "start_time": "2022-11-18T07:51:28.927Z"
      },
      {
        "duration": 5,
        "start_time": "2022-11-18T07:51:28.940Z"
      },
      {
        "duration": 5,
        "start_time": "2022-11-18T07:51:28.947Z"
      },
      {
        "duration": 28,
        "start_time": "2022-11-18T07:51:28.953Z"
      },
      {
        "duration": 19,
        "start_time": "2022-11-18T07:51:28.982Z"
      },
      {
        "duration": 4,
        "start_time": "2022-11-18T07:51:29.003Z"
      },
      {
        "duration": 40,
        "start_time": "2022-11-18T07:51:29.009Z"
      },
      {
        "duration": 29,
        "start_time": "2022-11-18T07:51:29.050Z"
      },
      {
        "duration": 96,
        "start_time": "2022-11-18T07:51:29.081Z"
      },
      {
        "duration": 22,
        "start_time": "2022-11-18T08:53:43.778Z"
      },
      {
        "duration": 3,
        "start_time": "2022-11-18T09:06:40.843Z"
      },
      {
        "duration": 4,
        "start_time": "2022-11-18T09:06:43.543Z"
      },
      {
        "duration": 27,
        "start_time": "2022-11-18T09:11:26.629Z"
      },
      {
        "duration": 28,
        "start_time": "2022-11-18T09:18:27.766Z"
      },
      {
        "duration": 5,
        "start_time": "2022-11-18T09:24:07.124Z"
      },
      {
        "duration": 44,
        "start_time": "2022-11-18T09:44:58.594Z"
      },
      {
        "duration": 130,
        "start_time": "2022-11-18T09:45:42.818Z"
      },
      {
        "duration": 3,
        "start_time": "2022-11-18T09:46:02.247Z"
      },
      {
        "duration": 1251,
        "start_time": "2022-11-18T09:46:14.181Z"
      },
      {
        "duration": 73,
        "start_time": "2022-11-18T09:46:15.434Z"
      },
      {
        "duration": 4,
        "start_time": "2022-11-18T09:46:15.509Z"
      },
      {
        "duration": 52,
        "start_time": "2022-11-18T09:46:15.515Z"
      },
      {
        "duration": 6,
        "start_time": "2022-11-18T09:46:15.569Z"
      },
      {
        "duration": 17,
        "start_time": "2022-11-18T09:46:15.576Z"
      },
      {
        "duration": 9,
        "start_time": "2022-11-18T09:46:15.595Z"
      },
      {
        "duration": 20,
        "start_time": "2022-11-18T09:46:15.605Z"
      },
      {
        "duration": 4,
        "start_time": "2022-11-18T09:46:15.626Z"
      },
      {
        "duration": 38,
        "start_time": "2022-11-18T09:46:15.632Z"
      },
      {
        "duration": 20,
        "start_time": "2022-11-18T09:46:15.671Z"
      },
      {
        "duration": 32,
        "start_time": "2022-11-18T09:46:15.693Z"
      },
      {
        "duration": 167,
        "start_time": "2022-11-18T09:46:15.727Z"
      },
      {
        "duration": 10,
        "start_time": "2022-11-18T09:46:15.896Z"
      },
      {
        "duration": 33,
        "start_time": "2022-11-18T09:46:15.908Z"
      },
      {
        "duration": 46,
        "start_time": "2022-11-18T09:46:15.943Z"
      },
      {
        "duration": 27,
        "start_time": "2022-11-18T09:47:38.873Z"
      },
      {
        "duration": 138,
        "start_time": "2022-11-18T11:34:23.582Z"
      },
      {
        "duration": 440,
        "start_time": "2022-11-18T11:34:54.901Z"
      },
      {
        "duration": 435,
        "start_time": "2022-11-18T11:35:55.041Z"
      },
      {
        "duration": 492,
        "start_time": "2022-11-18T11:36:48.872Z"
      },
      {
        "duration": 112,
        "start_time": "2022-11-18T11:41:28.370Z"
      },
      {
        "duration": 3,
        "start_time": "2022-11-18T11:42:04.057Z"
      },
      {
        "duration": 525,
        "start_time": "2022-11-18T11:42:16.712Z"
      },
      {
        "duration": 475,
        "start_time": "2022-11-18T11:43:57.534Z"
      },
      {
        "duration": 537,
        "start_time": "2022-11-18T11:47:31.591Z"
      },
      {
        "duration": 24,
        "start_time": "2022-11-18T11:48:16.503Z"
      },
      {
        "duration": 19,
        "start_time": "2022-11-18T11:56:21.235Z"
      },
      {
        "duration": 19,
        "start_time": "2022-11-18T11:56:35.658Z"
      },
      {
        "duration": 18,
        "start_time": "2022-11-18T11:56:53.759Z"
      },
      {
        "duration": 4,
        "start_time": "2022-11-18T11:57:23.560Z"
      },
      {
        "duration": 563,
        "start_time": "2022-11-18T11:57:35.789Z"
      },
      {
        "duration": 534,
        "start_time": "2022-11-18T11:58:01.270Z"
      },
      {
        "duration": 556,
        "start_time": "2022-11-18T12:12:35.851Z"
      },
      {
        "duration": 28,
        "start_time": "2022-11-18T12:20:05.271Z"
      },
      {
        "duration": 4,
        "start_time": "2022-11-18T14:39:49.542Z"
      },
      {
        "duration": 606,
        "start_time": "2022-11-18T14:42:27.834Z"
      },
      {
        "duration": 1112,
        "start_time": "2022-11-18T14:45:04.571Z"
      },
      {
        "duration": 77,
        "start_time": "2022-11-18T14:45:05.685Z"
      },
      {
        "duration": 4,
        "start_time": "2022-11-18T14:45:05.763Z"
      },
      {
        "duration": 15,
        "start_time": "2022-11-18T14:45:05.769Z"
      },
      {
        "duration": 11,
        "start_time": "2022-11-18T14:45:05.785Z"
      },
      {
        "duration": 5,
        "start_time": "2022-11-18T14:45:05.797Z"
      },
      {
        "duration": 10,
        "start_time": "2022-11-18T14:45:05.803Z"
      },
      {
        "duration": 20,
        "start_time": "2022-11-18T14:45:05.814Z"
      },
      {
        "duration": 5,
        "start_time": "2022-11-18T14:45:05.836Z"
      },
      {
        "duration": 53,
        "start_time": "2022-11-18T14:45:05.844Z"
      },
      {
        "duration": 13,
        "start_time": "2022-11-18T14:45:05.898Z"
      },
      {
        "duration": 66,
        "start_time": "2022-11-18T14:45:05.913Z"
      },
      {
        "duration": 207,
        "start_time": "2022-11-18T14:45:05.981Z"
      },
      {
        "duration": 5,
        "start_time": "2022-11-18T14:45:06.190Z"
      },
      {
        "duration": 31,
        "start_time": "2022-11-18T14:45:06.196Z"
      },
      {
        "duration": 582,
        "start_time": "2022-11-18T14:45:06.229Z"
      },
      {
        "duration": 27,
        "start_time": "2022-11-18T14:45:06.813Z"
      },
      {
        "duration": 673,
        "start_time": "2022-11-18T14:45:06.841Z"
      },
      {
        "duration": 24,
        "start_time": "2022-11-18T14:52:39.242Z"
      },
      {
        "duration": 115,
        "start_time": "2022-11-18T15:00:49.104Z"
      },
      {
        "duration": 5,
        "start_time": "2022-11-18T15:01:34.209Z"
      },
      {
        "duration": 56,
        "start_time": "2022-11-18T15:01:43.059Z"
      },
      {
        "duration": 23,
        "start_time": "2022-11-18T15:06:00.574Z"
      },
      {
        "duration": 4,
        "start_time": "2022-11-18T15:08:49.403Z"
      },
      {
        "duration": 4,
        "start_time": "2022-11-18T15:10:13.239Z"
      },
      {
        "duration": 200,
        "start_time": "2022-11-18T15:10:38.406Z"
      },
      {
        "duration": 11,
        "start_time": "2022-11-18T15:15:49.695Z"
      },
      {
        "duration": 12,
        "start_time": "2022-11-18T15:15:53.463Z"
      },
      {
        "duration": 6,
        "start_time": "2022-11-18T15:16:09.744Z"
      },
      {
        "duration": 25,
        "start_time": "2022-11-18T15:16:36.135Z"
      },
      {
        "duration": 111,
        "start_time": "2022-11-18T15:19:05.570Z"
      },
      {
        "duration": 4,
        "start_time": "2022-11-18T15:20:01.608Z"
      },
      {
        "duration": 140,
        "start_time": "2022-11-18T15:20:16.738Z"
      },
      {
        "duration": 100,
        "start_time": "2022-11-18T15:21:07.679Z"
      },
      {
        "duration": 104,
        "start_time": "2022-11-18T15:22:05.684Z"
      },
      {
        "duration": 400,
        "start_time": "2022-11-18T15:23:31.970Z"
      },
      {
        "duration": 1281,
        "start_time": "2022-11-18T15:23:40.620Z"
      },
      {
        "duration": 67,
        "start_time": "2022-11-18T15:23:41.903Z"
      },
      {
        "duration": 4,
        "start_time": "2022-11-18T15:23:41.971Z"
      },
      {
        "duration": 51,
        "start_time": "2022-11-18T15:23:41.977Z"
      },
      {
        "duration": 54,
        "start_time": "2022-11-18T15:23:42.030Z"
      },
      {
        "duration": 12,
        "start_time": "2022-11-18T15:23:42.086Z"
      },
      {
        "duration": 21,
        "start_time": "2022-11-18T15:23:42.100Z"
      },
      {
        "duration": 25,
        "start_time": "2022-11-18T15:23:42.122Z"
      },
      {
        "duration": 4,
        "start_time": "2022-11-18T15:23:42.149Z"
      },
      {
        "duration": 61,
        "start_time": "2022-11-18T15:23:42.155Z"
      },
      {
        "duration": 12,
        "start_time": "2022-11-18T15:23:42.218Z"
      },
      {
        "duration": 48,
        "start_time": "2022-11-18T15:23:42.231Z"
      },
      {
        "duration": 207,
        "start_time": "2022-11-18T15:23:42.280Z"
      },
      {
        "duration": 5,
        "start_time": "2022-11-18T15:23:42.489Z"
      },
      {
        "duration": 39,
        "start_time": "2022-11-18T15:23:42.495Z"
      },
      {
        "duration": 596,
        "start_time": "2022-11-18T15:23:42.537Z"
      },
      {
        "duration": 27,
        "start_time": "2022-11-18T15:23:43.135Z"
      },
      {
        "duration": 677,
        "start_time": "2022-11-18T15:23:43.164Z"
      },
      {
        "duration": 44,
        "start_time": "2022-11-18T15:23:43.843Z"
      },
      {
        "duration": 209,
        "start_time": "2022-11-18T15:23:43.890Z"
      },
      {
        "duration": 183,
        "start_time": "2022-11-18T15:23:44.101Z"
      },
      {
        "duration": 413,
        "start_time": "2022-11-18T15:23:44.286Z"
      },
      {
        "duration": 297,
        "start_time": "2022-11-18T15:23:44.702Z"
      },
      {
        "duration": 131,
        "start_time": "2022-11-18T15:29:14.846Z"
      },
      {
        "duration": 5,
        "start_time": "2022-11-18T15:31:10.647Z"
      },
      {
        "duration": 12,
        "start_time": "2022-11-18T15:32:05.841Z"
      },
      {
        "duration": 12888,
        "start_time": "2022-11-18T15:38:40.359Z"
      },
      {
        "duration": 252,
        "start_time": "2022-11-18T15:42:52.493Z"
      },
      {
        "duration": 165,
        "start_time": "2022-11-18T15:43:53.955Z"
      },
      {
        "duration": 159,
        "start_time": "2022-11-18T15:44:39.033Z"
      },
      {
        "duration": 14036,
        "start_time": "2022-11-18T15:44:54.479Z"
      },
      {
        "duration": 28,
        "start_time": "2022-11-18T16:39:17.816Z"
      },
      {
        "duration": 33,
        "start_time": "2022-11-18T16:40:44.328Z"
      },
      {
        "duration": 1376,
        "start_time": "2022-11-19T06:43:16.422Z"
      },
      {
        "duration": 120,
        "start_time": "2022-11-19T06:43:17.800Z"
      },
      {
        "duration": 4,
        "start_time": "2022-11-19T06:43:17.922Z"
      },
      {
        "duration": 13,
        "start_time": "2022-11-19T06:43:17.928Z"
      },
      {
        "duration": 13,
        "start_time": "2022-11-19T06:43:17.943Z"
      },
      {
        "duration": 10,
        "start_time": "2022-11-19T06:43:17.958Z"
      },
      {
        "duration": 10,
        "start_time": "2022-11-19T06:43:17.970Z"
      },
      {
        "duration": 33,
        "start_time": "2022-11-19T06:43:17.982Z"
      },
      {
        "duration": 4,
        "start_time": "2022-11-19T06:43:18.017Z"
      },
      {
        "duration": 33,
        "start_time": "2022-11-19T06:43:18.023Z"
      },
      {
        "duration": 11,
        "start_time": "2022-11-19T06:43:18.058Z"
      },
      {
        "duration": 57,
        "start_time": "2022-11-19T06:43:18.071Z"
      },
      {
        "duration": 110,
        "start_time": "2022-11-19T06:43:18.200Z"
      },
      {
        "duration": 5,
        "start_time": "2022-11-19T06:43:18.312Z"
      },
      {
        "duration": 30,
        "start_time": "2022-11-19T06:43:18.319Z"
      },
      {
        "duration": 524,
        "start_time": "2022-11-19T06:43:18.350Z"
      },
      {
        "duration": 40,
        "start_time": "2022-11-19T06:43:18.876Z"
      },
      {
        "duration": 638,
        "start_time": "2022-11-19T06:43:18.917Z"
      },
      {
        "duration": 44,
        "start_time": "2022-11-19T06:43:19.556Z"
      },
      {
        "duration": 147,
        "start_time": "2022-11-19T06:43:19.601Z"
      },
      {
        "duration": 247,
        "start_time": "2022-11-19T06:43:19.750Z"
      },
      {
        "duration": 326,
        "start_time": "2022-11-19T06:43:19.999Z"
      },
      {
        "duration": 259,
        "start_time": "2022-11-19T06:43:20.327Z"
      },
      {
        "duration": 109,
        "start_time": "2022-11-19T06:43:20.588Z"
      },
      {
        "duration": 115,
        "start_time": "2022-11-19T06:43:20.699Z"
      },
      {
        "duration": 12468,
        "start_time": "2022-11-19T06:43:20.817Z"
      },
      {
        "duration": 533,
        "start_time": "2022-11-19T06:46:22.527Z"
      },
      {
        "duration": 24,
        "start_time": "2022-11-19T06:49:44.391Z"
      },
      {
        "duration": 22,
        "start_time": "2022-11-19T06:50:21.684Z"
      },
      {
        "duration": 36,
        "start_time": "2022-11-19T06:53:00.862Z"
      },
      {
        "duration": 87,
        "start_time": "2022-11-19T06:54:25.316Z"
      },
      {
        "duration": 85,
        "start_time": "2022-11-19T06:55:30.813Z"
      },
      {
        "duration": 262,
        "start_time": "2022-11-19T06:57:09.612Z"
      },
      {
        "duration": 12387,
        "start_time": "2022-11-19T06:57:30.571Z"
      },
      {
        "duration": 19,
        "start_time": "2022-11-19T07:15:12.407Z"
      },
      {
        "duration": 180,
        "start_time": "2022-11-19T07:15:34.640Z"
      },
      {
        "duration": 3394,
        "start_time": "2022-11-19T07:16:47.541Z"
      },
      {
        "duration": 335,
        "start_time": "2022-11-19T07:22:37.182Z"
      },
      {
        "duration": 5,
        "start_time": "2022-11-19T07:23:38.765Z"
      },
      {
        "duration": 14755,
        "start_time": "2022-11-19T07:24:43.634Z"
      },
      {
        "duration": 309,
        "start_time": "2022-11-19T07:25:56.909Z"
      },
      {
        "duration": 14523,
        "start_time": "2022-11-19T07:26:49.332Z"
      },
      {
        "duration": 14855,
        "start_time": "2022-11-19T07:31:18.769Z"
      },
      {
        "duration": 81,
        "start_time": "2022-11-19T08:10:54.895Z"
      },
      {
        "duration": 15807,
        "start_time": "2022-11-19T08:16:41.486Z"
      },
      {
        "duration": 42,
        "start_time": "2022-11-19T08:30:07.050Z"
      },
      {
        "duration": 475,
        "start_time": "2022-11-19T08:31:06.798Z"
      },
      {
        "duration": 12207,
        "start_time": "2022-11-19T08:32:13.994Z"
      },
      {
        "duration": 13685,
        "start_time": "2022-11-19T08:35:45.539Z"
      },
      {
        "duration": 35066,
        "start_time": "2022-11-19T08:36:54.852Z"
      },
      {
        "duration": 131174,
        "start_time": "2022-11-19T08:40:08.872Z"
      },
      {
        "duration": 121468,
        "start_time": "2022-11-19T08:48:53.369Z"
      },
      {
        "duration": 3235,
        "start_time": "2022-11-19T16:07:30.900Z"
      },
      {
        "duration": 3872,
        "start_time": "2022-11-19T16:12:38.863Z"
      },
      {
        "duration": 31115,
        "start_time": "2022-11-19T16:24:58.285Z"
      },
      {
        "duration": 49,
        "start_time": "2022-11-20T07:25:18.946Z"
      },
      {
        "duration": 1532,
        "start_time": "2022-11-20T07:25:28.295Z"
      },
      {
        "duration": 294,
        "start_time": "2022-11-20T07:25:29.829Z"
      },
      {
        "duration": 0,
        "start_time": "2022-11-20T07:25:30.125Z"
      },
      {
        "duration": 0,
        "start_time": "2022-11-20T07:25:30.126Z"
      },
      {
        "duration": 0,
        "start_time": "2022-11-20T07:25:30.127Z"
      },
      {
        "duration": 0,
        "start_time": "2022-11-20T07:25:30.128Z"
      },
      {
        "duration": 0,
        "start_time": "2022-11-20T07:25:30.129Z"
      },
      {
        "duration": 0,
        "start_time": "2022-11-20T07:25:30.130Z"
      },
      {
        "duration": 0,
        "start_time": "2022-11-20T07:25:30.131Z"
      },
      {
        "duration": 0,
        "start_time": "2022-11-20T07:25:30.132Z"
      },
      {
        "duration": 0,
        "start_time": "2022-11-20T07:25:30.133Z"
      },
      {
        "duration": 0,
        "start_time": "2022-11-20T07:25:30.135Z"
      },
      {
        "duration": 0,
        "start_time": "2022-11-20T07:25:30.135Z"
      },
      {
        "duration": 0,
        "start_time": "2022-11-20T07:25:30.136Z"
      },
      {
        "duration": 0,
        "start_time": "2022-11-20T07:25:30.137Z"
      },
      {
        "duration": 0,
        "start_time": "2022-11-20T07:25:30.138Z"
      },
      {
        "duration": 0,
        "start_time": "2022-11-20T07:25:30.139Z"
      },
      {
        "duration": 0,
        "start_time": "2022-11-20T07:25:30.140Z"
      },
      {
        "duration": 0,
        "start_time": "2022-11-20T07:25:30.142Z"
      },
      {
        "duration": 0,
        "start_time": "2022-11-20T07:25:30.142Z"
      },
      {
        "duration": 0,
        "start_time": "2022-11-20T07:25:30.143Z"
      },
      {
        "duration": 0,
        "start_time": "2022-11-20T07:25:30.145Z"
      },
      {
        "duration": 0,
        "start_time": "2022-11-20T07:25:30.145Z"
      },
      {
        "duration": 0,
        "start_time": "2022-11-20T07:25:30.146Z"
      },
      {
        "duration": 0,
        "start_time": "2022-11-20T07:25:30.147Z"
      },
      {
        "duration": 0,
        "start_time": "2022-11-20T07:25:30.148Z"
      },
      {
        "duration": 0,
        "start_time": "2022-11-20T07:25:30.149Z"
      },
      {
        "duration": 0,
        "start_time": "2022-11-20T07:25:30.150Z"
      },
      {
        "duration": 65,
        "start_time": "2022-11-20T07:26:59.738Z"
      },
      {
        "duration": 1477,
        "start_time": "2022-11-20T07:28:31.810Z"
      },
      {
        "duration": 75,
        "start_time": "2022-11-20T07:28:33.289Z"
      },
      {
        "duration": 5,
        "start_time": "2022-11-20T07:28:33.366Z"
      },
      {
        "duration": 15,
        "start_time": "2022-11-20T07:28:33.373Z"
      },
      {
        "duration": 7,
        "start_time": "2022-11-20T07:28:33.391Z"
      },
      {
        "duration": 25,
        "start_time": "2022-11-20T07:28:33.399Z"
      },
      {
        "duration": 19,
        "start_time": "2022-11-20T07:28:33.426Z"
      },
      {
        "duration": 21,
        "start_time": "2022-11-20T07:28:33.447Z"
      },
      {
        "duration": 4,
        "start_time": "2022-11-20T07:28:33.471Z"
      },
      {
        "duration": 47,
        "start_time": "2022-11-20T07:28:33.477Z"
      },
      {
        "duration": 19,
        "start_time": "2022-11-20T07:28:33.526Z"
      },
      {
        "duration": 84,
        "start_time": "2022-11-20T07:28:33.547Z"
      },
      {
        "duration": 102,
        "start_time": "2022-11-20T07:28:33.635Z"
      },
      {
        "duration": 6,
        "start_time": "2022-11-20T07:28:33.740Z"
      },
      {
        "duration": 28,
        "start_time": "2022-11-20T07:28:33.748Z"
      },
      {
        "duration": 722,
        "start_time": "2022-11-20T07:28:33.778Z"
      },
      {
        "duration": 49,
        "start_time": "2022-11-20T07:28:34.502Z"
      },
      {
        "duration": 188,
        "start_time": "2022-11-20T07:28:34.553Z"
      },
      {
        "duration": 97,
        "start_time": "2022-11-20T07:28:34.743Z"
      },
      {
        "duration": 16142,
        "start_time": "2022-11-20T07:28:34.842Z"
      },
      {
        "duration": 34728,
        "start_time": "2022-11-20T07:28:50.986Z"
      },
      {
        "duration": 126,
        "start_time": "2022-11-20T07:29:25.715Z"
      },
      {
        "duration": 183,
        "start_time": "2022-11-20T07:29:25.846Z"
      },
      {
        "duration": 320,
        "start_time": "2022-11-20T07:29:26.032Z"
      },
      {
        "duration": 268,
        "start_time": "2022-11-20T07:29:26.354Z"
      },
      {
        "duration": 22,
        "start_time": "2022-11-20T07:29:26.623Z"
      },
      {
        "duration": 206,
        "start_time": "2022-11-20T07:29:26.647Z"
      },
      {
        "duration": 13473,
        "start_time": "2022-11-20T07:29:26.856Z"
      },
      {
        "duration": 115,
        "start_time": "2022-11-20T07:30:18.317Z"
      },
      {
        "duration": 3736,
        "start_time": "2022-11-20T07:32:00.150Z"
      },
      {
        "duration": 13,
        "start_time": "2022-11-20T12:18:14.554Z"
      },
      {
        "duration": 19,
        "start_time": "2022-11-20T12:23:43.976Z"
      },
      {
        "duration": 5,
        "start_time": "2022-11-20T12:24:19.551Z"
      },
      {
        "duration": 39,
        "start_time": "2022-11-20T12:26:01.597Z"
      },
      {
        "duration": 36,
        "start_time": "2022-11-20T12:39:26.262Z"
      },
      {
        "duration": 3774,
        "start_time": "2022-11-20T12:41:25.254Z"
      },
      {
        "duration": 108,
        "start_time": "2022-11-20T12:50:02.554Z"
      },
      {
        "duration": 46,
        "start_time": "2022-11-20T12:54:07.279Z"
      },
      {
        "duration": 34752,
        "start_time": "2022-11-20T12:56:21.322Z"
      },
      {
        "duration": 34650,
        "start_time": "2022-11-20T13:01:01.538Z"
      },
      {
        "duration": 61,
        "start_time": "2022-11-20T13:01:36.190Z"
      },
      {
        "duration": 1385,
        "start_time": "2022-11-20T13:03:00.079Z"
      },
      {
        "duration": 71,
        "start_time": "2022-11-20T13:03:01.467Z"
      },
      {
        "duration": 5,
        "start_time": "2022-11-20T13:03:01.540Z"
      },
      {
        "duration": 33,
        "start_time": "2022-11-20T13:03:01.548Z"
      },
      {
        "duration": 31,
        "start_time": "2022-11-20T13:03:01.584Z"
      },
      {
        "duration": 10,
        "start_time": "2022-11-20T13:03:01.617Z"
      },
      {
        "duration": 17,
        "start_time": "2022-11-20T13:03:01.629Z"
      },
      {
        "duration": 27,
        "start_time": "2022-11-20T13:03:01.648Z"
      },
      {
        "duration": 4,
        "start_time": "2022-11-20T13:03:01.677Z"
      },
      {
        "duration": 39,
        "start_time": "2022-11-20T13:03:01.683Z"
      },
      {
        "duration": 12,
        "start_time": "2022-11-20T13:03:01.724Z"
      },
      {
        "duration": 87,
        "start_time": "2022-11-20T13:03:01.738Z"
      },
      {
        "duration": 126,
        "start_time": "2022-11-20T13:03:01.827Z"
      },
      {
        "duration": 26,
        "start_time": "2022-11-20T13:03:01.955Z"
      },
      {
        "duration": 68,
        "start_time": "2022-11-20T13:03:01.983Z"
      },
      {
        "duration": 189,
        "start_time": "2022-11-20T13:03:02.053Z"
      },
      {
        "duration": 82,
        "start_time": "2022-11-20T13:03:02.243Z"
      },
      {
        "duration": 34859,
        "start_time": "2022-11-20T13:03:02.326Z"
      },
      {
        "duration": 235,
        "start_time": "2022-11-20T13:03:37.187Z"
      },
      {
        "duration": 101,
        "start_time": "2022-11-20T13:03:37.424Z"
      },
      {
        "duration": 321,
        "start_time": "2022-11-20T13:03:37.530Z"
      },
      {
        "duration": 293,
        "start_time": "2022-11-20T13:03:37.853Z"
      },
      {
        "duration": 13,
        "start_time": "2022-11-20T13:03:38.148Z"
      },
      {
        "duration": 160,
        "start_time": "2022-11-20T13:03:38.163Z"
      },
      {
        "duration": 12726,
        "start_time": "2022-11-20T13:03:38.326Z"
      },
      {
        "duration": 71,
        "start_time": "2022-11-20T13:13:06.107Z"
      },
      {
        "duration": 3897,
        "start_time": "2022-11-20T13:17:45.237Z"
      },
      {
        "duration": 3743,
        "start_time": "2022-11-20T13:20:30.569Z"
      },
      {
        "duration": 92,
        "start_time": "2022-11-20T13:30:05.932Z"
      },
      {
        "duration": 190,
        "start_time": "2022-11-20T13:33:38.053Z"
      },
      {
        "duration": 288,
        "start_time": "2022-11-20T13:34:14.222Z"
      },
      {
        "duration": 4,
        "start_time": "2022-11-20T13:41:38.252Z"
      },
      {
        "duration": 3,
        "start_time": "2022-11-20T13:41:45.529Z"
      },
      {
        "duration": 3,
        "start_time": "2022-11-20T13:42:47.685Z"
      },
      {
        "duration": 4,
        "start_time": "2022-11-20T13:46:26.455Z"
      },
      {
        "duration": 21,
        "start_time": "2022-11-20T13:48:30.714Z"
      },
      {
        "duration": 20,
        "start_time": "2022-11-20T13:48:58.867Z"
      },
      {
        "duration": 20,
        "start_time": "2022-11-20T13:50:45.623Z"
      },
      {
        "duration": 61,
        "start_time": "2022-11-20T13:52:13.588Z"
      },
      {
        "duration": 128,
        "start_time": "2022-11-20T13:53:56.144Z"
      },
      {
        "duration": 112,
        "start_time": "2022-11-20T15:32:31.104Z"
      },
      {
        "duration": 112,
        "start_time": "2022-11-20T15:33:39.875Z"
      },
      {
        "duration": 133,
        "start_time": "2022-11-20T15:34:53.442Z"
      },
      {
        "duration": 179,
        "start_time": "2022-11-20T15:35:29.981Z"
      },
      {
        "duration": 144,
        "start_time": "2022-11-20T15:42:57.655Z"
      },
      {
        "duration": 6,
        "start_time": "2022-11-20T15:46:46.819Z"
      },
      {
        "duration": 170,
        "start_time": "2022-11-20T15:46:56.337Z"
      },
      {
        "duration": 243,
        "start_time": "2022-11-20T15:48:14.762Z"
      },
      {
        "duration": 161,
        "start_time": "2022-11-20T15:49:17.302Z"
      },
      {
        "duration": 24,
        "start_time": "2022-11-20T15:58:17.138Z"
      },
      {
        "duration": 23,
        "start_time": "2022-11-20T15:58:38.264Z"
      },
      {
        "duration": 1325,
        "start_time": "2022-11-20T16:00:54.913Z"
      },
      {
        "duration": 72,
        "start_time": "2022-11-20T16:00:56.240Z"
      },
      {
        "duration": 5,
        "start_time": "2022-11-20T16:00:56.315Z"
      },
      {
        "duration": 15,
        "start_time": "2022-11-20T16:00:56.323Z"
      },
      {
        "duration": 8,
        "start_time": "2022-11-20T16:00:56.340Z"
      },
      {
        "duration": 4,
        "start_time": "2022-11-20T16:00:56.349Z"
      },
      {
        "duration": 8,
        "start_time": "2022-11-20T16:00:56.355Z"
      },
      {
        "duration": 21,
        "start_time": "2022-11-20T16:00:56.364Z"
      },
      {
        "duration": 4,
        "start_time": "2022-11-20T16:00:56.386Z"
      },
      {
        "duration": 58,
        "start_time": "2022-11-20T16:00:56.392Z"
      },
      {
        "duration": 13,
        "start_time": "2022-11-20T16:00:56.452Z"
      },
      {
        "duration": 60,
        "start_time": "2022-11-20T16:00:56.466Z"
      },
      {
        "duration": 110,
        "start_time": "2022-11-20T16:00:56.528Z"
      },
      {
        "duration": 5,
        "start_time": "2022-11-20T16:00:56.639Z"
      },
      {
        "duration": 37,
        "start_time": "2022-11-20T16:00:56.645Z"
      },
      {
        "duration": 3714,
        "start_time": "2022-11-20T16:00:56.683Z"
      },
      {
        "duration": 126,
        "start_time": "2022-11-20T16:01:00.399Z"
      },
      {
        "duration": 34166,
        "start_time": "2022-11-20T16:01:00.528Z"
      },
      {
        "duration": 126,
        "start_time": "2022-11-20T16:01:34.696Z"
      },
      {
        "duration": 112,
        "start_time": "2022-11-20T16:01:34.823Z"
      },
      {
        "duration": 196,
        "start_time": "2022-11-20T16:01:34.937Z"
      },
      {
        "duration": 192,
        "start_time": "2022-11-20T16:01:35.135Z"
      },
      {
        "duration": 146,
        "start_time": "2022-11-20T16:01:35.328Z"
      },
      {
        "duration": 1336,
        "start_time": "2022-11-20T16:02:25.993Z"
      },
      {
        "duration": 72,
        "start_time": "2022-11-20T16:02:27.331Z"
      },
      {
        "duration": 4,
        "start_time": "2022-11-20T16:02:27.404Z"
      },
      {
        "duration": 269,
        "start_time": "2022-11-20T16:02:27.410Z"
      },
      {
        "duration": 22,
        "start_time": "2022-11-20T16:02:27.681Z"
      },
      {
        "duration": 18,
        "start_time": "2022-11-20T16:02:27.705Z"
      },
      {
        "duration": 32,
        "start_time": "2022-11-20T16:02:27.724Z"
      },
      {
        "duration": 41,
        "start_time": "2022-11-20T16:02:27.758Z"
      },
      {
        "duration": 47,
        "start_time": "2022-11-20T16:02:27.800Z"
      },
      {
        "duration": 69,
        "start_time": "2022-11-20T16:02:27.850Z"
      },
      {
        "duration": 33,
        "start_time": "2022-11-20T16:02:27.921Z"
      },
      {
        "duration": 74,
        "start_time": "2022-11-20T16:02:27.956Z"
      },
      {
        "duration": 26,
        "start_time": "2022-11-20T16:02:28.121Z"
      },
      {
        "duration": 5,
        "start_time": "2022-11-20T16:02:28.149Z"
      },
      {
        "duration": 86,
        "start_time": "2022-11-20T16:02:28.156Z"
      },
      {
        "duration": 3956,
        "start_time": "2022-11-20T16:02:28.245Z"
      },
      {
        "duration": 120,
        "start_time": "2022-11-20T16:02:32.203Z"
      },
      {
        "duration": 32887,
        "start_time": "2022-11-20T16:02:32.325Z"
      },
      {
        "duration": 110,
        "start_time": "2022-11-20T16:03:05.214Z"
      },
      {
        "duration": 197,
        "start_time": "2022-11-20T16:03:05.325Z"
      },
      {
        "duration": 116,
        "start_time": "2022-11-20T16:03:05.525Z"
      },
      {
        "duration": 195,
        "start_time": "2022-11-20T16:03:05.643Z"
      },
      {
        "duration": 157,
        "start_time": "2022-11-20T16:03:05.840Z"
      },
      {
        "duration": 27,
        "start_time": "2022-11-20T16:33:35.800Z"
      },
      {
        "duration": 1300,
        "start_time": "2022-11-20T17:18:58.441Z"
      },
      {
        "duration": 70,
        "start_time": "2022-11-20T17:18:59.743Z"
      },
      {
        "duration": 4,
        "start_time": "2022-11-20T17:18:59.814Z"
      },
      {
        "duration": 12,
        "start_time": "2022-11-20T17:18:59.820Z"
      },
      {
        "duration": 6,
        "start_time": "2022-11-20T17:18:59.833Z"
      },
      {
        "duration": 12,
        "start_time": "2022-11-20T17:18:59.841Z"
      },
      {
        "duration": 6,
        "start_time": "2022-11-20T17:18:59.855Z"
      },
      {
        "duration": 23,
        "start_time": "2022-11-20T17:18:59.862Z"
      },
      {
        "duration": 4,
        "start_time": "2022-11-20T17:18:59.886Z"
      },
      {
        "duration": 57,
        "start_time": "2022-11-20T17:18:59.892Z"
      },
      {
        "duration": 12,
        "start_time": "2022-11-20T17:18:59.951Z"
      },
      {
        "duration": 63,
        "start_time": "2022-11-20T17:18:59.964Z"
      },
      {
        "duration": 116,
        "start_time": "2022-11-20T17:19:00.028Z"
      },
      {
        "duration": 4,
        "start_time": "2022-11-20T17:19:00.146Z"
      },
      {
        "duration": 43,
        "start_time": "2022-11-20T17:19:00.152Z"
      },
      {
        "duration": 3782,
        "start_time": "2022-11-20T17:19:00.196Z"
      },
      {
        "duration": 52,
        "start_time": "2022-11-20T17:19:03.980Z"
      },
      {
        "duration": 32991,
        "start_time": "2022-11-20T17:19:04.123Z"
      },
      {
        "duration": 108,
        "start_time": "2022-11-20T17:19:37.115Z"
      },
      {
        "duration": 114,
        "start_time": "2022-11-20T17:19:37.225Z"
      },
      {
        "duration": 263,
        "start_time": "2022-11-20T17:19:37.340Z"
      },
      {
        "duration": 189,
        "start_time": "2022-11-20T17:19:37.604Z"
      },
      {
        "duration": 141,
        "start_time": "2022-11-20T17:19:37.795Z"
      },
      {
        "duration": 43,
        "start_time": "2022-11-21T07:00:57.530Z"
      },
      {
        "duration": 1618,
        "start_time": "2022-11-21T07:01:09.918Z"
      },
      {
        "duration": 107,
        "start_time": "2022-11-21T07:01:11.538Z"
      },
      {
        "duration": 4,
        "start_time": "2022-11-21T07:01:11.647Z"
      },
      {
        "duration": 11,
        "start_time": "2022-11-21T07:01:11.653Z"
      },
      {
        "duration": 4,
        "start_time": "2022-11-21T07:01:11.665Z"
      },
      {
        "duration": 6,
        "start_time": "2022-11-21T07:01:11.670Z"
      },
      {
        "duration": 11,
        "start_time": "2022-11-21T07:01:11.677Z"
      },
      {
        "duration": 39,
        "start_time": "2022-11-21T07:01:11.689Z"
      },
      {
        "duration": 3,
        "start_time": "2022-11-21T07:01:11.730Z"
      },
      {
        "duration": 32,
        "start_time": "2022-11-21T07:01:11.735Z"
      },
      {
        "duration": 11,
        "start_time": "2022-11-21T07:01:11.769Z"
      },
      {
        "duration": 143,
        "start_time": "2022-11-21T07:01:11.782Z"
      },
      {
        "duration": 112,
        "start_time": "2022-11-21T07:01:11.928Z"
      },
      {
        "duration": 5,
        "start_time": "2022-11-21T07:01:12.042Z"
      },
      {
        "duration": 46,
        "start_time": "2022-11-21T07:01:12.048Z"
      },
      {
        "duration": 3599,
        "start_time": "2022-11-21T07:01:12.096Z"
      },
      {
        "duration": 126,
        "start_time": "2022-11-21T07:01:15.696Z"
      },
      {
        "duration": 31638,
        "start_time": "2022-11-21T07:01:15.824Z"
      },
      {
        "duration": 68,
        "start_time": "2022-11-21T07:01:47.464Z"
      },
      {
        "duration": 197,
        "start_time": "2022-11-21T07:01:47.625Z"
      },
      {
        "duration": 110,
        "start_time": "2022-11-21T07:01:47.824Z"
      },
      {
        "duration": 178,
        "start_time": "2022-11-21T07:01:47.936Z"
      },
      {
        "duration": 125,
        "start_time": "2022-11-21T07:01:48.121Z"
      },
      {
        "duration": 1265,
        "start_time": "2022-11-21T07:07:03.356Z"
      },
      {
        "duration": 68,
        "start_time": "2022-11-21T07:07:04.623Z"
      },
      {
        "duration": 4,
        "start_time": "2022-11-21T07:07:04.692Z"
      },
      {
        "duration": 17,
        "start_time": "2022-11-21T07:07:04.698Z"
      },
      {
        "duration": 19,
        "start_time": "2022-11-21T07:07:04.717Z"
      },
      {
        "duration": 8,
        "start_time": "2022-11-21T07:07:04.738Z"
      },
      {
        "duration": 7,
        "start_time": "2022-11-21T07:07:04.748Z"
      },
      {
        "duration": 17,
        "start_time": "2022-11-21T07:07:04.757Z"
      },
      {
        "duration": 3,
        "start_time": "2022-11-21T07:07:04.776Z"
      },
      {
        "duration": 35,
        "start_time": "2022-11-21T07:07:04.781Z"
      },
      {
        "duration": 13,
        "start_time": "2022-11-21T07:07:04.820Z"
      },
      {
        "duration": 187,
        "start_time": "2022-11-21T07:07:04.834Z"
      },
      {
        "duration": 23,
        "start_time": "2022-11-21T07:07:05.023Z"
      },
      {
        "duration": 4,
        "start_time": "2022-11-21T07:07:05.048Z"
      },
      {
        "duration": 37,
        "start_time": "2022-11-21T07:07:05.055Z"
      },
      {
        "duration": 3590,
        "start_time": "2022-11-21T07:07:05.094Z"
      },
      {
        "duration": 38,
        "start_time": "2022-11-21T07:07:08.686Z"
      },
      {
        "duration": 31916,
        "start_time": "2022-11-21T07:07:08.726Z"
      },
      {
        "duration": 81,
        "start_time": "2022-11-21T07:07:40.643Z"
      },
      {
        "duration": 197,
        "start_time": "2022-11-21T07:07:40.726Z"
      },
      {
        "duration": 114,
        "start_time": "2022-11-21T07:07:40.926Z"
      },
      {
        "duration": 180,
        "start_time": "2022-11-21T07:07:41.042Z"
      },
      {
        "duration": 130,
        "start_time": "2022-11-21T07:07:41.223Z"
      },
      {
        "duration": 26,
        "start_time": "2022-11-21T07:13:26.772Z"
      },
      {
        "duration": 26,
        "start_time": "2022-11-21T07:14:34.113Z"
      },
      {
        "duration": 38,
        "start_time": "2022-11-21T07:17:02.664Z"
      },
      {
        "duration": 25,
        "start_time": "2022-11-21T07:18:08.820Z"
      },
      {
        "duration": 69426,
        "start_time": "2022-11-21T07:19:04.656Z"
      },
      {
        "duration": 90,
        "start_time": "2022-11-21T07:37:32.336Z"
      },
      {
        "duration": 26,
        "start_time": "2022-11-21T07:38:53.404Z"
      },
      {
        "duration": 57,
        "start_time": "2022-11-21T07:46:13.013Z"
      },
      {
        "duration": 49,
        "start_time": "2022-11-21T07:52:13.318Z"
      },
      {
        "duration": 47,
        "start_time": "2022-11-21T07:57:14.077Z"
      },
      {
        "duration": 85,
        "start_time": "2022-11-21T07:58:04.040Z"
      },
      {
        "duration": 177,
        "start_time": "2022-11-21T07:59:51.500Z"
      },
      {
        "duration": 468,
        "start_time": "2022-11-21T08:01:26.710Z"
      },
      {
        "duration": 43,
        "start_time": "2022-11-21T08:05:15.435Z"
      },
      {
        "duration": 618,
        "start_time": "2022-11-21T08:06:01.460Z"
      },
      {
        "duration": 568,
        "start_time": "2022-11-21T08:19:19.647Z"
      },
      {
        "duration": 677,
        "start_time": "2022-11-21T09:07:44.453Z"
      },
      {
        "duration": 780,
        "start_time": "2022-11-21T09:08:42.615Z"
      },
      {
        "duration": 683,
        "start_time": "2022-11-21T09:09:43.591Z"
      },
      {
        "duration": 83,
        "start_time": "2022-11-21T09:12:54.742Z"
      },
      {
        "duration": 212,
        "start_time": "2022-11-21T09:13:08.601Z"
      },
      {
        "duration": 1254,
        "start_time": "2022-11-21T09:22:52.938Z"
      },
      {
        "duration": 68,
        "start_time": "2022-11-21T09:22:54.193Z"
      },
      {
        "duration": 4,
        "start_time": "2022-11-21T09:22:54.262Z"
      },
      {
        "duration": 20,
        "start_time": "2022-11-21T09:22:54.268Z"
      },
      {
        "duration": 13,
        "start_time": "2022-11-21T09:22:54.289Z"
      },
      {
        "duration": 7,
        "start_time": "2022-11-21T09:22:54.303Z"
      },
      {
        "duration": 13,
        "start_time": "2022-11-21T09:22:54.312Z"
      },
      {
        "duration": 22,
        "start_time": "2022-11-21T09:22:54.327Z"
      },
      {
        "duration": 4,
        "start_time": "2022-11-21T09:22:54.351Z"
      },
      {
        "duration": 34,
        "start_time": "2022-11-21T09:22:54.358Z"
      },
      {
        "duration": 27,
        "start_time": "2022-11-21T09:22:54.394Z"
      },
      {
        "duration": 34,
        "start_time": "2022-11-21T09:22:54.423Z"
      },
      {
        "duration": 111,
        "start_time": "2022-11-21T09:22:54.522Z"
      },
      {
        "duration": 5,
        "start_time": "2022-11-21T09:22:54.634Z"
      },
      {
        "duration": 44,
        "start_time": "2022-11-21T09:22:54.640Z"
      },
      {
        "duration": 3750,
        "start_time": "2022-11-21T09:22:54.686Z"
      },
      {
        "duration": 85,
        "start_time": "2022-11-21T09:22:58.438Z"
      },
      {
        "duration": 70422,
        "start_time": "2022-11-21T09:22:58.525Z"
      },
      {
        "duration": 85,
        "start_time": "2022-11-21T09:24:08.949Z"
      },
      {
        "duration": 106,
        "start_time": "2022-11-21T09:24:09.122Z"
      },
      {
        "duration": 558,
        "start_time": "2022-11-21T09:24:09.230Z"
      },
      {
        "duration": 657,
        "start_time": "2022-11-21T09:24:09.790Z"
      },
      {
        "duration": 580,
        "start_time": "2022-11-21T09:24:10.449Z"
      },
      {
        "duration": 21,
        "start_time": "2022-11-21T09:24:11.031Z"
      },
      {
        "duration": 211,
        "start_time": "2022-11-21T09:24:11.054Z"
      },
      {
        "duration": 131,
        "start_time": "2022-11-21T09:24:11.267Z"
      },
      {
        "duration": 1239,
        "start_time": "2022-11-21T11:08:26.272Z"
      },
      {
        "duration": 73,
        "start_time": "2022-11-21T11:08:27.513Z"
      },
      {
        "duration": 4,
        "start_time": "2022-11-21T11:08:27.587Z"
      },
      {
        "duration": 13,
        "start_time": "2022-11-21T11:08:27.593Z"
      },
      {
        "duration": 5,
        "start_time": "2022-11-21T11:08:27.608Z"
      },
      {
        "duration": 9,
        "start_time": "2022-11-21T11:08:27.614Z"
      },
      {
        "duration": 8,
        "start_time": "2022-11-21T11:08:27.625Z"
      },
      {
        "duration": 19,
        "start_time": "2022-11-21T11:08:27.635Z"
      },
      {
        "duration": 4,
        "start_time": "2022-11-21T11:08:27.655Z"
      },
      {
        "duration": 66,
        "start_time": "2022-11-21T11:08:27.662Z"
      },
      {
        "duration": 19,
        "start_time": "2022-11-21T11:08:27.729Z"
      },
      {
        "duration": 181,
        "start_time": "2022-11-21T11:08:27.750Z"
      },
      {
        "duration": 96,
        "start_time": "2022-11-21T11:08:27.934Z"
      },
      {
        "duration": 5,
        "start_time": "2022-11-21T11:08:28.032Z"
      },
      {
        "duration": 47,
        "start_time": "2022-11-21T11:08:28.039Z"
      },
      {
        "duration": 3940,
        "start_time": "2022-11-21T11:08:28.087Z"
      },
      {
        "duration": 101,
        "start_time": "2022-11-21T11:08:32.029Z"
      },
      {
        "duration": 72342,
        "start_time": "2022-11-21T11:08:32.132Z"
      },
      {
        "duration": 250,
        "start_time": "2022-11-21T11:09:44.476Z"
      },
      {
        "duration": 202,
        "start_time": "2022-11-21T11:09:44.728Z"
      },
      {
        "duration": 720,
        "start_time": "2022-11-21T11:09:44.933Z"
      },
      {
        "duration": 815,
        "start_time": "2022-11-21T11:09:45.655Z"
      },
      {
        "duration": 706,
        "start_time": "2022-11-21T11:09:46.472Z"
      },
      {
        "duration": 43,
        "start_time": "2022-11-21T11:09:47.180Z"
      },
      {
        "duration": 336,
        "start_time": "2022-11-21T11:09:47.226Z"
      },
      {
        "duration": 228,
        "start_time": "2022-11-21T11:09:47.564Z"
      }
    ],
    "kernelspec": {
      "display_name": "Python 3.10.6 64-bit",
      "language": "python",
      "name": "python3"
    },
    "language_info": {
      "codemirror_mode": {
        "name": "ipython",
        "version": 3
      },
      "file_extension": ".py",
      "mimetype": "text/x-python",
      "name": "python",
      "nbconvert_exporter": "python",
      "pygments_lexer": "ipython3",
      "version": "3.10.6"
    },
    "toc": {
      "base_numbering": 1,
      "nav_menu": {},
      "number_sections": true,
      "sideBar": true,
      "skip_h1_title": true,
      "title_cell": "Содержание",
      "title_sidebar": "Contents",
      "toc_cell": true,
      "toc_position": {
        "height": "calc(100% - 180px)",
        "left": "10px",
        "top": "150px",
        "width": "165px"
      },
      "toc_section_display": true,
      "toc_window_display": true
    },
    "vscode": {
      "interpreter": {
        "hash": "afb734500600fd355917ca529030176ea0ca205570884b88f2f6f7d791fd3fbe"
      }
    },
    "colab": {
      "provenance": [],
      "include_colab_link": true
    }
  },
  "nbformat": 4,
  "nbformat_minor": 0
}