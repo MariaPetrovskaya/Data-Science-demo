{
  "cells": [
    {
      "cell_type": "markdown",
      "metadata": {
        "id": "view-in-github",
        "colab_type": "text"
      },
      "source": [
        "<a href=\"https://colab.research.google.com/github/MariaPetrovskaya/Data-Science-demo/blob/main/Car_price_prediction_models.ipynb\" target=\"_parent\"><img src=\"https://colab.research.google.com/assets/colab-badge.svg\" alt=\"Open In Colab\"/></a>"
      ]
    },
    {
      "cell_type": "markdown",
      "metadata": {
        "id": "zldKON1zkDma"
      },
      "source": [
        "# Определение стоимости автомобилей"
      ]
    },
    {
      "cell_type": "markdown",
      "metadata": {
        "id": "NS5XyfBHkDmb"
      },
      "source": [
        "Сервис по продаже автомобилей с пробегом «Не бит, не крашен» разрабатывает приложение для привлечения новых клиентов. В нём можно быстро узнать рыночную стоимость своего автомобиля. В вашем распоряжении исторические данные: технические характеристики, комплектации и цены автомобилей. Вам нужно построить модель для определения стоимости. \n",
        "\n",
        "Заказчику важны:\n",
        "\n",
        "- качество предсказания;\n",
        "- скорость предсказания;\n",
        "- время обучения."
      ]
    },
    {
      "cell_type": "markdown",
      "metadata": {
        "id": "BZDcO-HRkDmd"
      },
      "source": [
        "## Подготовка данных"
      ]
    },
    {
      "cell_type": "code",
      "execution_count": null,
      "metadata": {
        "id": "jLf350jjkDme"
      },
      "outputs": [],
      "source": [
        "import pandas as pd\n",
        "import matplotlib.pyplot as plt\n",
        "import numpy as np\n",
        "\n",
        "from sklearn.model_selection import train_test_split\n",
        "from sklearn.linear_model import LinearRegression\n",
        "from sklearn.metrics import accuracy_score\n",
        "from sklearn.metrics import mean_squared_error\n",
        "from sklearn.tree import DecisionTreeRegressor\n",
        "from sklearn.ensemble import RandomForestRegressor\n",
        "from catboost import CatBoostRegressor\n",
        "from sklearn import metrics\n",
        "import lightgbm as ltb\n",
        "from sklearn.preprocessing import StandardScaler"
      ]
    },
    {
      "cell_type": "markdown",
      "metadata": {
        "id": "9ZjLjyXBkDmg"
      },
      "source": [
        "<b> Результат: </b>загрузка всех библиотек"
      ]
    },
    {
      "cell_type": "code",
      "execution_count": null,
      "metadata": {
        "id": "QGV1I0NfkDmg",
        "outputId": "288f553d-1ac0-4526-dbed-c99207265867"
      },
      "outputs": [
        {
          "name": "stdout",
          "output_type": "stream",
          "text": [
            "загрузка и знакомство с данными\n",
            "(354369, 16)\n",
            "<class 'pandas.core.frame.DataFrame'>\n",
            "RangeIndex: 354369 entries, 0 to 354368\n",
            "Data columns (total 16 columns):\n",
            " #   Column             Non-Null Count   Dtype \n",
            "---  ------             --------------   ----- \n",
            " 0   DateCrawled        354369 non-null  object\n",
            " 1   Price              354369 non-null  int64 \n",
            " 2   VehicleType        316879 non-null  object\n",
            " 3   RegistrationYear   354369 non-null  int64 \n",
            " 4   Gearbox            334536 non-null  object\n",
            " 5   Power              354369 non-null  int64 \n",
            " 6   Model              334664 non-null  object\n",
            " 7   Kilometer          354369 non-null  int64 \n",
            " 8   RegistrationMonth  354369 non-null  int64 \n",
            " 9   FuelType           321474 non-null  object\n",
            " 10  Brand              354369 non-null  object\n",
            " 11  Repaired           283215 non-null  object\n",
            " 12  DateCreated        354369 non-null  object\n",
            " 13  NumberOfPictures   354369 non-null  int64 \n",
            " 14  PostalCode         354369 non-null  int64 \n",
            " 15  LastSeen           354369 non-null  object\n",
            "dtypes: int64(7), object(9)\n",
            "memory usage: 43.3+ MB\n",
            "None\n",
            "           DateCrawled  Price VehicleType  RegistrationYear Gearbox  Power  \\\n",
            "0  2016-03-24 11:52:17    480         NaN              1993  manual      0   \n",
            "1  2016-03-24 10:58:45  18300       coupe              2011  manual    190   \n",
            "2  2016-03-14 12:52:21   9800         suv              2004    auto    163   \n",
            "3  2016-03-17 16:54:04   1500       small              2001  manual     75   \n",
            "4  2016-03-31 17:25:20   3600       small              2008  manual     69   \n",
            "\n",
            "   Model  Kilometer  RegistrationMonth  FuelType       Brand Repaired  \\\n",
            "0   golf     150000                  0    petrol  volkswagen      NaN   \n",
            "1    NaN     125000                  5  gasoline        audi      yes   \n",
            "2  grand     125000                  8  gasoline        jeep      NaN   \n",
            "3   golf     150000                  6    petrol  volkswagen       no   \n",
            "4  fabia      90000                  7  gasoline       skoda       no   \n",
            "\n",
            "           DateCreated  NumberOfPictures  PostalCode             LastSeen  \n",
            "0  2016-03-24 00:00:00                 0       70435  2016-04-07 03:16:57  \n",
            "1  2016-03-24 00:00:00                 0       66954  2016-04-07 01:46:50  \n",
            "2  2016-03-14 00:00:00                 0       90480  2016-04-05 12:47:46  \n",
            "3  2016-03-17 00:00:00                 0       91074  2016-03-17 17:40:17  \n",
            "4  2016-03-31 00:00:00                 0       60437  2016-04-06 10:17:21  \n"
          ]
        }
      ],
      "source": [
        "df = pd.read_csv('/datasets/autos.csv')\n",
        "data  = df.copy()\n",
        "#\n",
        "print('загрузка и знакомство с данными')\n",
        "print (data.shape)\n",
        "print (data.info())\n",
        "print (data.head())"
      ]
    },
    {
      "cell_type": "markdown",
      "metadata": {
        "id": "Xjd7YBNhkDmk"
      },
      "source": [
        "<b> Результат: </b>Загружены данные и просмотрена основная информация по датасету. В данных 354369 строки и 16 столбцов, в некоторых столбцах есть пропуски данных "
      ]
    },
    {
      "cell_type": "code",
      "execution_count": null,
      "metadata": {
        "id": "LVHcv9hokDmk",
        "outputId": "e0a110a5-2e9b-4df3-8302-33227e11f4bb"
      },
      "outputs": [
        {
          "name": "stdout",
          "output_type": "stream",
          "text": [
            "Index(['DateCrawled', 'Price', 'VehicleType', 'RegistrationYear', 'Gearbox',\n",
            "       'Power', 'Model', 'Kilometer', 'RegistrationMonth', 'FuelType', 'Brand',\n",
            "       'Repaired', 'DateCreated', 'NumberOfPictures', 'PostalCode',\n",
            "       'LastSeen'],\n",
            "      dtype='object')\n"
          ]
        }
      ],
      "source": [
        "print(data.columns)"
      ]
    },
    {
      "cell_type": "code",
      "execution_count": null,
      "metadata": {
        "id": "Wz51lg3VkDmk",
        "outputId": "420a6714-5ecb-42f9-82e7-39fb2d149d4c"
      },
      "outputs": [
        {
          "name": "stdout",
          "output_type": "stream",
          "text": [
            "Index(['date_crawled', 'рrice', 'vehicle_type', 'registration_year', 'gearbox',\n",
            "       'power', 'model', 'kilometer', 'registration_month', 'fuel_type',\n",
            "       'brand', 'repaired', 'date_created', 'number_of_pictures',\n",
            "       'postal_code', 'last_seen'],\n",
            "      dtype='object')\n"
          ]
        }
      ],
      "source": [
        "data=data.rename(columns={'DateCrawled':'date_crawled', 'Price':'рrice', 'VehicleType':'vehicle_type', 'RegistrationYear':'registration_year', 'Gearbox':'gearbox',\n",
        "       'Power':'power', 'Model':'model', 'Kilometer':'kilometer', 'RegistrationMonth':'registration_month', 'FuelType':'fuel_type', 'Brand':'brand',\n",
        "       'Repaired':'repaired', 'DateCreated':'date_created', 'NumberOfPictures':'number_of_pictures', 'PostalCode':'postal_code',\n",
        "       'LastSeen':'last_seen'\n",
        "})\n",
        "print(data.columns)"
      ]
    },
    {
      "cell_type": "markdown",
      "metadata": {
        "id": "qKyIoFozkDml"
      },
      "source": [
        "<b> Результат: </b>изменено название столбцов на нижний регистр"
      ]
    },
    {
      "cell_type": "code",
      "execution_count": null,
      "metadata": {
        "id": "m7gdSEpYkDml",
        "outputId": "a9f8799c-dc9a-4913-9501-08b7ab384523"
      },
      "outputs": [
        {
          "name": "stdout",
          "output_type": "stream",
          "text": [
            "4\n"
          ]
        }
      ],
      "source": [
        "print (data.duplicated().sum())"
      ]
    },
    {
      "cell_type": "markdown",
      "metadata": {
        "id": "W0AM5_qvkDml"
      },
      "source": [
        "проверка на явные дубликаты: выявлено 4"
      ]
    },
    {
      "cell_type": "code",
      "execution_count": null,
      "metadata": {
        "id": "GCUzY_oekDml",
        "outputId": "497c7a21-c1a4-46ae-a50b-d51a1b2292e4"
      },
      "outputs": [
        {
          "name": "stdout",
          "output_type": "stream",
          "text": [
            "после удаления дубликатов (354365, 16)\n",
            "<class 'pandas.core.frame.DataFrame'>\n",
            "RangeIndex: 354365 entries, 0 to 354364\n",
            "Data columns (total 16 columns):\n",
            " #   Column              Non-Null Count   Dtype \n",
            "---  ------              --------------   ----- \n",
            " 0   date_crawled        354365 non-null  object\n",
            " 1   рrice               354365 non-null  int64 \n",
            " 2   vehicle_type        316875 non-null  object\n",
            " 3   registration_year   354365 non-null  int64 \n",
            " 4   gearbox             334532 non-null  object\n",
            " 5   power               354365 non-null  int64 \n",
            " 6   model               334660 non-null  object\n",
            " 7   kilometer           354365 non-null  int64 \n",
            " 8   registration_month  354365 non-null  int64 \n",
            " 9   fuel_type           321470 non-null  object\n",
            " 10  brand               354365 non-null  object\n",
            " 11  repaired            283211 non-null  object\n",
            " 12  date_created        354365 non-null  object\n",
            " 13  number_of_pictures  354365 non-null  int64 \n",
            " 14  postal_code         354365 non-null  int64 \n",
            " 15  last_seen           354365 non-null  object\n",
            "dtypes: int64(7), object(9)\n",
            "memory usage: 43.3+ MB\n",
            "None\n"
          ]
        }
      ],
      "source": [
        "data = data.drop_duplicates().reset_index(drop=True)\n",
        "print ('после удаления дубликатов',data.shape)\n",
        "print (data.info())"
      ]
    },
    {
      "cell_type": "markdown",
      "metadata": {
        "id": "HYz0cNI4kDmm"
      },
      "source": [
        "<b> Результат: </b> удалены 4 явных дубликата"
      ]
    },
    {
      "cell_type": "code",
      "execution_count": null,
      "metadata": {
        "id": "hiDOdGm_kDmm",
        "outputId": "abd03dbd-fb42-4a8a-f572-449153471324"
      },
      "outputs": [
        {
          "name": "stdout",
          "output_type": "stream",
          "text": [
            "2016-03-24 14:49:47    7\n",
            "2016-03-19 21:49:56    6\n",
            "2016-03-26 22:57:31    6\n",
            "2016-03-31 16:50:28    5\n",
            "2016-03-05 14:44:30    5\n",
            "                      ..\n",
            "2016-03-19 20:57:29    1\n",
            "2016-03-23 20:56:15    1\n",
            "2016-03-25 17:50:05    1\n",
            "2016-03-22 11:56:27    1\n",
            "2016-03-17 03:36:24    1\n",
            "Name: date_crawled, Length: 271174, dtype: int64\n",
            "['2016-03-24 11:52:17' '2016-03-24 10:58:45' '2016-03-14 12:52:21' ...\n",
            " '2016-03-21 09:50:58' '2016-03-14 17:48:27' '2016-03-19 18:57:12']\n"
          ]
        }
      ],
      "source": [
        "print(data['date_crawled'].value_counts())\n",
        "print(data['date_crawled'].unique())"
      ]
    },
    {
      "cell_type": "markdown",
      "metadata": {
        "id": "QFiuTYfYkDmm"
      },
      "source": [
        "<b> Результат: </b> рассмотено содержание столбца 'date_crawled' - дата скачивания анкеты из базы. Для модели цены это не нужный параметр, повторы возможны, оставяляем как есть"
      ]
    },
    {
      "cell_type": "code",
      "execution_count": null,
      "metadata": {
        "id": "zldZoKjekDmm",
        "outputId": "3f807cfd-ddb3-4d4a-acea-7a12b02034c9"
      },
      "outputs": [
        {
          "name": "stdout",
          "output_type": "stream",
          "text": [
            "0        10772\n",
            "500       5670\n",
            "1500      5394\n",
            "1000      4648\n",
            "1200      4594\n",
            "         ...  \n",
            "13180        1\n",
            "10879        1\n",
            "2683         1\n",
            "634          1\n",
            "8188         1\n",
            "Name: рrice, Length: 3731, dtype: int64\n",
            "[  480 18300  9800 ... 12395 18429 10985]\n",
            "минимальная цена продажи 0\n",
            "максимальная цена продажи 20000\n",
            "средняя цена продажи 4416.679830118663\n"
          ]
        }
      ],
      "source": [
        "print(data['рrice'].value_counts())\n",
        "print(data['рrice'].unique())\n",
        "print('минимальная цена продажи', data['рrice'].min())\n",
        "print('максимальная цена продажи', data['рrice'].max())\n",
        "print('средняя цена продажи', data['рrice'].mean())"
      ]
    },
    {
      "cell_type": "markdown",
      "metadata": {
        "id": "38xe---FkDmn"
      },
      "source": [
        "<b> Результат: </b> рассмотено содержание столбца 'рrice' - цена в евро, в модели это будет таргет. Формат подходящий int64. Пропусков нет, но много нулевых значений и сомнительно низких.  "
      ]
    },
    {
      "cell_type": "code",
      "execution_count": null,
      "metadata": {
        "id": "t_HvGTlUkDmn",
        "outputId": "4b6bdd15-81d5-448f-81e6-4ec194315644"
      },
      "outputs": [
        {
          "data": {
            "image/png": "[encoded data removed]",
            "text/plain": [
              "<Figure size 720x504 with 1 Axes>"
            ]
          },
          "metadata": {
            "needs_background": "light"
          },
          "output_type": "display_data"
        }
      ],
      "source": [
        "plt.figure(figsize=[10,7])\n",
        "\n",
        "plt.hist(data['рrice'], bins=100)\n",
        "\n",
        "plt.xlim([0, 21000])\n",
        "plt.ylim([0, 20000])\n",
        "\n",
        "plt.xlabel(\"цена продажи автомобиля \")\n",
        "plt.ylabel(\"количество результатов\")\n",
        "\n",
        "plt.title(\"цены продажи автомобилей ('рrice')\")\n",
        "plt.show()"
      ]
    },
    {
      "cell_type": "markdown",
      "metadata": {
        "id": "9eSF43jgkDmn"
      },
      "source": [
        "похоже на распределение Пуассона"
      ]
    },
    {
      "cell_type": "markdown",
      "metadata": {
        "id": "hFHI7dLjkDmn"
      },
      "source": [
        "цена продажи не может быть нулевой по сути сделки. Это аномальные значения, лучше их убрать из датасета"
      ]
    },
    {
      "cell_type": "code",
      "execution_count": null,
      "metadata": {
        "id": "ZCXez7VLkDmo",
        "outputId": "f4407ac8-19fb-40a8-f7aa-3ac4e584efc1"
      },
      "outputs": [
        {
          "name": "stdout",
          "output_type": "stream",
          "text": [
            "после удаления рrice=0 (343593, 16)\n",
            "<class 'pandas.core.frame.DataFrame'>\n",
            "RangeIndex: 343593 entries, 0 to 343592\n",
            "Data columns (total 16 columns):\n",
            " #   Column              Non-Null Count   Dtype \n",
            "---  ------              --------------   ----- \n",
            " 0   date_crawled        343593 non-null  object\n",
            " 1   рrice               343593 non-null  int64 \n",
            " 2   vehicle_type        309843 non-null  object\n",
            " 3   registration_year   343593 non-null  int64 \n",
            " 4   gearbox             326238 non-null  object\n",
            " 5   power               343593 non-null  int64 \n",
            " 6   model               326072 non-null  object\n",
            " 7   kilometer           343593 non-null  int64 \n",
            " 8   registration_month  343593 non-null  int64 \n",
            " 9   fuel_type           314134 non-null  object\n",
            " 10  brand               343593 non-null  object\n",
            " 11  repaired            277727 non-null  object\n",
            " 12  date_created        343593 non-null  object\n",
            " 13  number_of_pictures  343593 non-null  int64 \n",
            " 14  postal_code         343593 non-null  int64 \n",
            " 15  last_seen           343593 non-null  object\n",
            "dtypes: int64(7), object(9)\n",
            "memory usage: 41.9+ MB\n",
            "None\n"
          ]
        }
      ],
      "source": [
        "data = data.drop(data[data['рrice'] == 0].index).reset_index(drop=True)\n",
        "print ('после удаления рrice=0',data.shape)\n",
        "print (data.info())\n",
        "\n"
      ]
    },
    {
      "cell_type": "markdown",
      "metadata": {
        "id": "_aIR-8IRkDmp"
      },
      "source": [
        "<b> Результат: </b> удалены строки с нулевыми значениями в  столбце 'рrice', переустановлена индексация.  "
      ]
    },
    {
      "cell_type": "code",
      "execution_count": null,
      "metadata": {
        "id": "e3nmGtK_kDmp",
        "outputId": "1bd3d4a1-b9ce-4344-e73b-9866e0e138e5"
      },
      "outputs": [
        {
          "name": "stdout",
          "output_type": "stream",
          "text": [
            "[1993 2011 2004 2001 2008 1995 2014 1998 2005 1910 2016 2007 2009 2002\n",
            " 2018 1997 1990 2017 1981 2003 1994 1991 1984 2006 1999 2012 2010 2000\n",
            " 1992 2013 1996 1985 1989 2015 1982 1976 1983 1973 1969 1971 1987 1986\n",
            " 1988 1980 1970 1965 1945 1925 1974 1979 1955 1978 1972 1968 1977 1961\n",
            " 1966 1975 1963 1964 1960 5000 1958 1967 1959 1956 3200 1000 1941 9999\n",
            " 8888 1500 2200 4100 1962 1929 1957 1940 3000 2066 1949 2019 1937 1951\n",
            " 1800 1953 1954 1234 8000 5300 9000 2900 6000 5900 5911 1400 1950 4000\n",
            " 1948 1952 8500 1932 1255 3700 3800 4800 1942 7000 1935 1933 1936 6500\n",
            " 1923 2290 1930 1001 9450 1944 2500 1943 1934 1938 1928 5555 5600 1600\n",
            " 1111 2222 1039 1300 2800 1931 4500 1602 7800 1947 1927 7100 8200 1946]\n",
            "2000    23072\n",
            "1999    21994\n",
            "2005    21524\n",
            "2006    19679\n",
            "2001    19653\n",
            "        ...  \n",
            "1949        1\n",
            "2222        1\n",
            "5300        1\n",
            "8888        1\n",
            "2290        1\n",
            "Name: registration_year, Length: 140, dtype: int64\n",
            "минимальное значение 1000\n",
            "максимальное значение 9999\n",
            "среднее 2004.0898301187742\n"
          ]
        }
      ],
      "source": [
        "\n",
        "print(data['registration_year'].unique())\n",
        "print(data['registration_year'].value_counts())\n",
        "print('минимальное значение', data['registration_year'].min())\n",
        "print('максимальное значение', data['registration_year'].max())\n",
        "print('среднее', data['registration_year'].mean())"
      ]
    },
    {
      "cell_type": "code",
      "execution_count": null,
      "metadata": {
        "id": "SK23SiwWkDmq",
        "outputId": "3c844159-6b2b-4ea2-aedf-57fe4952f135"
      },
      "outputs": [
        {
          "data": {
            "image/png": "[encoded data removed]",
            "text/plain": [
              "<Figure size 720x504 with 1 Axes>"
            ]
          },
          "metadata": {
            "needs_background": "light"
          },
          "output_type": "display_data"
        }
      ],
      "source": [
        "plt.figure(figsize=[10,7])\n",
        "\n",
        "plt.hist(data['registration_year'], bins=100)\n",
        "\n",
        "plt.xlim([1000, 10000])\n",
        "plt.ylim([0, 25000])\n",
        "\n",
        "plt.xlabel(\"год регистрации\")\n",
        "plt.ylabel(\"количество результатов\")\n",
        "\n",
        "plt.title(\"год регистрации автомобилей ('registration_year')\")\n",
        "plt.show()"
      ]
    },
    {
      "cell_type": "code",
      "execution_count": null,
      "metadata": {
        "id": "31cNpEFkkDmq",
        "outputId": "a6ce12c2-87f4-484f-e3b8-bb3f6bef1cf7"
      },
      "outputs": [
        {
          "name": "stdout",
          "output_type": "stream",
          "text": [
            "дата последней активности пользователя 2016-04-07 14:58:51\n",
            "дата создания последней анкеты 2016-04-07 00:00:00\n"
          ]
        }
      ],
      "source": [
        "print('дата последней активности пользователя',data['last_seen'].max())\n",
        "print('дата создания последней анкеты',data['date_created'].max())"
      ]
    },
    {
      "cell_type": "markdown",
      "metadata": {
        "id": "OvA4_BIUkDmq"
      },
      "source": [
        "В столбце \"год регистрации\" много неадекватных данных. Принимаю решение оставить только реалистичный диапазон - 1980-2016 (вижу на гистограмме, что основные данные там. Даже если и возможны авто 1910, их ценообразование другое и в модели они будут мешать. "
      ]
    },
    {
      "cell_type": "code",
      "execution_count": null,
      "metadata": {
        "scrolled": true,
        "id": "CcDB66kVkDmr",
        "outputId": "8a6c907b-b57c-419e-fb88-3af1531c963a"
      },
      "outputs": [
        {
          "name": "stdout",
          "output_type": "stream",
          "text": [
            "после удаления до 1980 (340427, 16)\n",
            "<class 'pandas.core.frame.DataFrame'>\n",
            "RangeIndex: 340427 entries, 0 to 340426\n",
            "Data columns (total 16 columns):\n",
            " #   Column              Non-Null Count   Dtype \n",
            "---  ------              --------------   ----- \n",
            " 0   date_crawled        340427 non-null  object\n",
            " 1   рrice               340427 non-null  int64 \n",
            " 2   vehicle_type        306986 non-null  object\n",
            " 3   registration_year   340427 non-null  int64 \n",
            " 4   gearbox             323666 non-null  object\n",
            " 5   power               340427 non-null  int64 \n",
            " 6   model               323658 non-null  object\n",
            " 7   kilometer           340427 non-null  int64 \n",
            " 8   registration_month  340427 non-null  int64 \n",
            " 9   fuel_type           311561 non-null  object\n",
            " 10  brand               340427 non-null  object\n",
            " 11  repaired            275490 non-null  object\n",
            " 12  date_created        340427 non-null  object\n",
            " 13  number_of_pictures  340427 non-null  int64 \n",
            " 14  postal_code         340427 non-null  int64 \n",
            " 15  last_seen           340427 non-null  object\n",
            "dtypes: int64(7), object(9)\n",
            "memory usage: 41.6+ MB\n",
            "None\n"
          ]
        }
      ],
      "source": [
        "data = data.drop(data[data['registration_year'] < 1980].index).reset_index(drop=True)\n",
        "print ('после удаления до 1980',data.shape)\n",
        "print (data.info())"
      ]
    },
    {
      "cell_type": "code",
      "execution_count": null,
      "metadata": {
        "id": "YYlrH4OGkDmr",
        "outputId": "1118c4a6-224c-46fd-a86f-178eb61a2229"
      },
      "outputs": [
        {
          "name": "stdout",
          "output_type": "stream",
          "text": [
            "после удаления после 2016 (326648, 16)\n",
            "<class 'pandas.core.frame.DataFrame'>\n",
            "RangeIndex: 326648 entries, 0 to 326647\n",
            "Data columns (total 16 columns):\n",
            " #   Column              Non-Null Count   Dtype \n",
            "---  ------              --------------   ----- \n",
            " 0   date_crawled        326648 non-null  object\n",
            " 1   рrice               326648 non-null  int64 \n",
            " 2   vehicle_type        306967 non-null  object\n",
            " 3   registration_year   326648 non-null  int64 \n",
            " 4   gearbox             311594 non-null  object\n",
            " 5   power               326648 non-null  int64 \n",
            " 6   model               311738 non-null  object\n",
            " 7   kilometer           326648 non-null  int64 \n",
            " 8   registration_month  326648 non-null  int64 \n",
            " 9   fuel_type           303023 non-null  object\n",
            " 10  brand               326648 non-null  object\n",
            " 11  repaired            267651 non-null  object\n",
            " 12  date_created        326648 non-null  object\n",
            " 13  number_of_pictures  326648 non-null  int64 \n",
            " 14  postal_code         326648 non-null  int64 \n",
            " 15  last_seen           326648 non-null  object\n",
            "dtypes: int64(7), object(9)\n",
            "memory usage: 39.9+ MB\n",
            "None\n"
          ]
        }
      ],
      "source": [
        "data = data.drop(data[data['registration_year'] > 2016].index).reset_index(drop=True)\n",
        "print ('после удаления после 2016',data.shape)\n",
        "print (data.info())"
      ]
    },
    {
      "cell_type": "code",
      "execution_count": null,
      "metadata": {
        "id": "pPCGsjFDkDms",
        "outputId": "0e08ae7f-8345-41db-ff29-ff496aa10224"
      },
      "outputs": [
        {
          "data": {
            "image/png": "[encoded data removed]",
            "text/plain": [
              "<Figure size 720x504 with 1 Axes>"
            ]
          },
          "metadata": {
            "needs_background": "light"
          },
          "output_type": "display_data"
        }
      ],
      "source": [
        "plt.figure(figsize=[10,7])\n",
        "\n",
        "plt.hist(data['registration_year'], bins=100)\n",
        "\n",
        "plt.xlim([1975, 2020])\n",
        "plt.ylim([0, 25000])\n",
        "\n",
        "plt.xlabel(\"год регистрации\")\n",
        "plt.ylabel(\"количество результатов\")\n",
        "\n",
        "plt.title(\"год регистрации автомобилей ('registration_year')\")\n",
        "plt.show()"
      ]
    },
    {
      "cell_type": "code",
      "execution_count": null,
      "metadata": {
        "id": "BqI842gikDms",
        "outputId": "b22976ae-072d-4e65-8625-14d236bd722e"
      },
      "outputs": [
        {
          "name": "stdout",
          "output_type": "stream",
          "text": [
            "[    0   190   163    75    69   102   109   125   101   105   140   115\n",
            "   131    60   136   160   231    50   118   193    99   113   218   122\n",
            "   129    70   306    95    61   177   170    55   143   286   232   150\n",
            "   156    80    82    90   155    54   185    87   180    86    84   224\n",
            "   235   200   178   265    77   110   144   120   116   184   126   204\n",
            "    88   194    64   305   197   179   250    45   313    41   165    98\n",
            "   130   114   211    56   201   213    58   107    83   174   100   220\n",
            "    73   192    68    66   299    74    52   147   310    71    97    65\n",
            "   239   203     5   300   103    85   258   320    63    81   148   145\n",
            "   280   260   104   188   333   186   117   141   132   234   158    39\n",
            "    92    51   135    59   230    53   209    43   146    67   106   166\n",
            "   276   344    72   249   237   245   111   326   279   138   175    96\n",
            "   226    37   301   334   128   133   124    33   219   241   167    94\n",
            "   182   196   238  1398   228   112    48   272   139    79   256   243\n",
            "   252   396   340   121   345    44   187   289   222   198   284   450\n",
            "   233   387   347   172    57   137   212   476   314     7    47   173\n",
            "   290   207   205   171    78    91    89   349    40   108   325    76\n",
            "   350   953    93   142   343   199   119   164    16   264   152   367\n",
            "   240   208   210    46   435  1001   225   127    26   176   161   603\n",
            "   307   354    35   206   771   355   273   223   255   151    30   123\n",
            "   154   149  7515  1400   268   620   400   275     2   242  1779   285\n",
            "   162   328  1753   329   134   420   247   168   215   360   330   283\n",
            "   500    62    34   183   254    15   321   315   952   169    18   600\n",
            "   181   426   379    22   157    42   195   553     4   309   507   381\n",
            "   271   440   189   401  2729   236  1240  1704   521     1  1900   270\n",
            "   159   292   515  1200   303    29    38  1993    14   216   610   504\n",
            "    49   267   331   261  1011   253   696 10520   376   227   311    27\n",
            "   217    20   322    10  1999    11  1056    25   394    12   298   296\n",
            "  1659   294   551  6920   246    17  1625   363   390   221  1367   259\n",
            "   606    24  1597   266   374   392     9   405   601   430   295     8\n",
            "   411   900   541  7512   382 10218  7544   999   287    19   214   751\n",
            "   297  1090   457   282   602   388   385    23     6  5411   335  1360\n",
            "   202  3750   805  1062  2017   750  1024 11530  1796   269   460  1002\n",
            "   288  1780 12012 17932   316  2005  1800  1399   191   278   380   257\n",
            "   449  1256   153    21  1653   520   560   281 12510     3  1500   386\n",
            "    32  1202  2016  1436  1405   671   274  1288  1055 10912  6226  1115\n",
            "   277  1105   341  1223  2340  8404  1968   338   445  1920   517  4400\n",
            " 10710 10522   431  1164 11509   371  1501   428 11635   304   348  1703\n",
            "   370  1995   579 10000   580   408    31   358  1403   489  5575   262\n",
            " 19211   585   353   490   352  1801  1000   346   550  3199   800  7508\n",
            "  1312  1937   950  4700  1600  3454 19208   251   850   337   365   700\n",
            "  2331  2789   487    36   519  2461  6006  3500  5815  6018  1781  1503\n",
            "   612  1596   229  1506  5809 15020  1300  5867  2172  1598 17410  1363\n",
            "   584  1054   851  1339   318   510   525    28  1151   685  6011   317\n",
            "   703  1771 15001   514   362   332   324  6045   308  6010   475   903\n",
            "   640  2000   248   651  2799   368 17011   505  1103  1521   398  1998\n",
            " 10311   409  1230 17019 12684  8259  1895  1317   871   909  1595   776\n",
            " 17700 11011  1199   459   357  1162  1120 15033  1896   339   361   574\n",
            "  6512   454   650 13616   604 16312  1082   336 20000   416  1401  1021\n",
            "  1870 13636  1250  6012   323  1158  2009   902  6062  1275   572   244\n",
            "   399  1016   743  1221  2402  1362   544   645   907   702  1003  1432\n",
            "  9013   442  1017 15017 10910  1992   540  2018 11025  1433  1701  2792\n",
            "  1502  1239  1390 14009  1160 11111  1783  9007   923  1149   754  1988\n",
            "  2004  5420  1793   356   364 12512  7511  1299   293 19312  1079  1689\n",
            "   998    13  1100  1933   508 16311   682  1922  7529   732  2389  1005\n",
            "  1707  1416  1700  8500  1012 10110   421  4507  1631  7518   377  1004\n",
            "  1799  9012  2007  2598  1548  1241]\n",
            "0       31968\n",
            "75      22073\n",
            "60      14671\n",
            "150     13710\n",
            "101     12394\n",
            "        ...  \n",
            "1339        1\n",
            "572         1\n",
            "1596        1\n",
            "416         1\n",
            "6006        1\n",
            "Name: power, Length: 678, dtype: int64\n",
            "минимальное значение 0\n",
            "максимальное значение 20000\n",
            "среднее 112.22064730229482\n"
          ]
        }
      ],
      "source": [
        "print(data['power'].unique())\n",
        "print(data['power'].value_counts())\n",
        "print('минимальное значение', data['power'].min())\n",
        "print('максимальное значение', data['power'].max())\n",
        "print('среднее', data['power'].mean())"
      ]
    },
    {
      "cell_type": "markdown",
      "metadata": {
        "id": "2VyhhyalkDmt"
      },
      "source": [
        " В столбце power много нулевых значений, чего фактически быть не может. Большие значения тоже сомнительные."
      ]
    },
    {
      "cell_type": "code",
      "execution_count": null,
      "metadata": {
        "id": "RansC3mgkDmt",
        "outputId": "7a3c99f6-199c-4d1e-e0ca-63ba3c82700d"
      },
      "outputs": [
        {
          "data": {
            "image/png": "[encoded data removed]",
            "text/plain": [
              "<Figure size 720x504 with 1 Axes>"
            ]
          },
          "metadata": {
            "needs_background": "light"
          },
          "output_type": "display_data"
        }
      ],
      "source": [
        "plt.figure(figsize=[10,7])\n",
        "\n",
        "plt.hist(data['power'], bins=100)\n",
        "\n",
        "plt.xlim([0, 20000])\n",
        "plt.ylim([0, 25000])\n",
        "\n",
        "plt.xlabel(\"мощность автомобиля\")\n",
        "plt.ylabel(\"количество результатов\")\n",
        "\n",
        "plt.title(\"мощность автомобилей ('power')\")\n",
        "plt.show()"
      ]
    },
    {
      "cell_type": "markdown",
      "metadata": {
        "id": "qzg9oEUvkDmu"
      },
      "source": [
        "по запросу от Яндекса: \"На сегодняшний день самым мощным легковым автомобилем в мире назван Dagger GT компании TranStar Racing LLC... мощность его двигателя превышает 2000 лошадиных сил - 2028 л. с\""
      ]
    },
    {
      "cell_type": "markdown",
      "metadata": {
        "id": "zujAjkRhkDmu"
      },
      "source": [
        "план подготовки данных: убрать все нулевые значения, убрать все значения больше 2100."
      ]
    },
    {
      "cell_type": "code",
      "execution_count": null,
      "metadata": {
        "id": "M-Na13o6kDmu",
        "outputId": "f9682bad-a67e-44e1-af0f-a5cadc0d3b74"
      },
      "outputs": [
        {
          "name": "stdout",
          "output_type": "stream",
          "text": [
            "после удаления power = 0 (294680, 16)\n",
            "<class 'pandas.core.frame.DataFrame'>\n",
            "RangeIndex: 294680 entries, 0 to 294679\n",
            "Data columns (total 16 columns):\n",
            " #   Column              Non-Null Count   Dtype \n",
            "---  ------              --------------   ----- \n",
            " 0   date_crawled        294680 non-null  object\n",
            " 1   рrice               294680 non-null  int64 \n",
            " 2   vehicle_type        283656 non-null  object\n",
            " 3   registration_year   294680 non-null  int64 \n",
            " 4   gearbox             289371 non-null  object\n",
            " 5   power               294680 non-null  int64 \n",
            " 6   model               283894 non-null  object\n",
            " 7   kilometer           294680 non-null  int64 \n",
            " 8   registration_month  294680 non-null  int64 \n",
            " 9   fuel_type           279186 non-null  object\n",
            " 10  brand               294680 non-null  object\n",
            " 11  repaired            252023 non-null  object\n",
            " 12  date_created        294680 non-null  object\n",
            " 13  number_of_pictures  294680 non-null  int64 \n",
            " 14  postal_code         294680 non-null  int64 \n",
            " 15  last_seen           294680 non-null  object\n",
            "dtypes: int64(7), object(9)\n",
            "memory usage: 36.0+ MB\n",
            "None\n"
          ]
        }
      ],
      "source": [
        "data = data.drop(data[data['power'] == 0].index).reset_index(drop=True)\n",
        "print ('после удаления power = 0',data.shape)\n",
        "print (data.info())"
      ]
    },
    {
      "cell_type": "code",
      "execution_count": null,
      "metadata": {
        "id": "iuD7Q6zCkDmv",
        "outputId": "261ba23a-6aab-40fd-9ed3-21b994b24ad4"
      },
      "outputs": [
        {
          "name": "stdout",
          "output_type": "stream",
          "text": [
            "7.61943605049962 % удаленных значений\n"
          ]
        }
      ],
      "source": [
        "print((323646-298986)/323646*100,'% удаленных значений')"
      ]
    },
    {
      "cell_type": "code",
      "execution_count": null,
      "metadata": {
        "id": "uAfnpJJ1kDmv",
        "outputId": "9c4cf7e6-8f18-479b-c6ae-79b1b9212e4b"
      },
      "outputs": [
        {
          "name": "stdout",
          "output_type": "stream",
          "text": [
            "после удаления power > 2100 (294590, 16)\n",
            "<class 'pandas.core.frame.DataFrame'>\n",
            "RangeIndex: 294590 entries, 0 to 294589\n",
            "Data columns (total 16 columns):\n",
            " #   Column              Non-Null Count   Dtype \n",
            "---  ------              --------------   ----- \n",
            " 0   date_crawled        294590 non-null  object\n",
            " 1   рrice               294590 non-null  int64 \n",
            " 2   vehicle_type        283571 non-null  object\n",
            " 3   registration_year   294590 non-null  int64 \n",
            " 4   gearbox             289285 non-null  object\n",
            " 5   power               294590 non-null  int64 \n",
            " 6   model               283812 non-null  object\n",
            " 7   kilometer           294590 non-null  int64 \n",
            " 8   registration_month  294590 non-null  int64 \n",
            " 9   fuel_type           279113 non-null  object\n",
            " 10  brand               294590 non-null  object\n",
            " 11  repaired            251970 non-null  object\n",
            " 12  date_created        294590 non-null  object\n",
            " 13  number_of_pictures  294590 non-null  int64 \n",
            " 14  postal_code         294590 non-null  int64 \n",
            " 15  last_seen           294590 non-null  object\n",
            "dtypes: int64(7), object(9)\n",
            "memory usage: 36.0+ MB\n",
            "None\n"
          ]
        }
      ],
      "source": [
        "data = data.drop(data[data['power'] > 2100].index).reset_index(drop=True)\n",
        "print ('после удаления power > 2100',data.shape)\n",
        "print (data.info())"
      ]
    },
    {
      "cell_type": "code",
      "execution_count": null,
      "metadata": {
        "id": "v8Z-WseQkDmv",
        "outputId": "f9b1cec3-bd19-4184-8ebd-6c6f19cffe30"
      },
      "outputs": [
        {
          "name": "stdout",
          "output_type": "stream",
          "text": [
            "0.031105135357508376 % удаленных значений\n"
          ]
        }
      ],
      "source": [
        "print((298986-298893)/298986*100,'% удаленных значений')"
      ]
    },
    {
      "cell_type": "code",
      "execution_count": null,
      "metadata": {
        "id": "nporkY15kDmw",
        "outputId": "4b5fdb52-be00-48c8-e794-c9a04ffc7806"
      },
      "outputs": [
        {
          "name": "stdout",
          "output_type": "stream",
          "text": [
            "[125000 150000  90000  30000  70000 100000  60000   5000  20000  80000\n",
            "  50000  40000  10000]\n",
            "150000    196164\n",
            "125000     31643\n",
            "100000     12588\n",
            "90000      10187\n",
            "80000       8904\n",
            "70000       7683\n",
            "60000       6729\n",
            "50000       5562\n",
            "40000       4441\n",
            "30000       3843\n",
            "20000       3214\n",
            "5000        2738\n",
            "10000        894\n",
            "Name: kilometer, dtype: int64\n"
          ]
        }
      ],
      "source": [
        "print(data['kilometer'].unique())\n",
        "print(data['kilometer'].value_counts())\n"
      ]
    },
    {
      "cell_type": "code",
      "execution_count": null,
      "metadata": {
        "scrolled": true,
        "id": "HP9uQnsIkDmw",
        "outputId": "cb108baf-e18e-4a78-83b7-713b606845d7"
      },
      "outputs": [
        {
          "data": {
            "image/png": "[encoded data removed]",
            "text/plain": [
              "<Figure size 720x504 with 1 Axes>"
            ]
          },
          "metadata": {
            "needs_background": "light"
          },
          "output_type": "display_data"
        }
      ],
      "source": [
        "plt.figure(figsize=[10,7])\n",
        "\n",
        "plt.hist(data['kilometer'], bins=100)\n",
        "\n",
        "plt.xlim([0, 160000])\n",
        "plt.ylim([0, 250000])\n",
        "\n",
        "plt.xlabel(\"пробег автомобиля\")\n",
        "plt.ylabel(\"количество результатов\")\n",
        "\n",
        "plt.title(\"пробег автомобилей ('kilometer')\")\n",
        "plt.show()"
      ]
    },
    {
      "cell_type": "markdown",
      "metadata": {
        "id": "yj0SYqShkDmw"
      },
      "source": [
        "<b> Результат: </b> количественная переменная kilometer собиралась в датасет как дискретная (не по счетчику, а по достижению заданной цифры). Тем не менее данные полные и могут быть использованы в модели."
      ]
    },
    {
      "cell_type": "code",
      "execution_count": null,
      "metadata": {
        "id": "akyXh0WakDmx",
        "outputId": "eb60e2f0-3ba2-41b1-9212-ec2616da35ce"
      },
      "outputs": [
        {
          "name": "stdout",
          "output_type": "stream",
          "text": [
            "[ 5  8  6  7 10  0 12 11  2  3  1  4  9]\n",
            "3     30227\n",
            "6     27411\n",
            "4     25640\n",
            "5     25506\n",
            "7     23541\n",
            "10    22899\n",
            "12    21206\n",
            "11    20998\n",
            "9     20896\n",
            "1     20042\n",
            "8     19660\n",
            "2     18750\n",
            "0     17814\n",
            "Name: registration_month, dtype: int64\n"
          ]
        }
      ],
      "source": [
        "print(data['registration_month'].unique())\n",
        "print(data['registration_month'].value_counts())"
      ]
    },
    {
      "cell_type": "markdown",
      "metadata": {
        "id": "dXQU4q4mkDmx"
      },
      "source": [
        "**Результат**: переменная registration_month может влиять только на стоимость новых автомобилей (в зависимости от гарантийных сроков производителей). Основной массив автомобилей в датасете старше. В связи с этим использовать эти данные в модели не целесообразно."
      ]
    },
    {
      "cell_type": "markdown",
      "metadata": {
        "id": "Hck-2UUZkDmx"
      },
      "source": [
        "**Остались без преобразования столбцы**:date_created,number_of_pictures,postal_code - это не характеристики автомобиля как такого, а параметры размещения сервиса по продаже. Влияние этих параметров на цену автомобиля в общем случае не ожидается, поэтому в модель их включать не целесообразно"
      ]
    },
    {
      "cell_type": "markdown",
      "metadata": {
        "id": "w88LEfPvkDmx"
      },
      "source": [
        "**некоторые модели могуть работать с категориальными переменными без преобразования. Зафиксируем 2 версии датасета для дальнейшей работы**"
      ]
    },
    {
      "cell_type": "code",
      "execution_count": null,
      "metadata": {
        "id": "NP06-fk-kDmy",
        "outputId": "6db0f080-f1c0-463a-ba49-f39deaeb49fe"
      },
      "outputs": [
        {
          "name": "stdout",
          "output_type": "stream",
          "text": [
            "датасет до преобразования категориальных переменных (294590, 16)\n",
            "<class 'pandas.core.frame.DataFrame'>\n",
            "RangeIndex: 294590 entries, 0 to 294589\n",
            "Data columns (total 16 columns):\n",
            " #   Column              Non-Null Count   Dtype \n",
            "---  ------              --------------   ----- \n",
            " 0   date_crawled        294590 non-null  object\n",
            " 1   рrice               294590 non-null  int64 \n",
            " 2   vehicle_type        283571 non-null  object\n",
            " 3   registration_year   294590 non-null  int64 \n",
            " 4   gearbox             289285 non-null  object\n",
            " 5   power               294590 non-null  int64 \n",
            " 6   model               283812 non-null  object\n",
            " 7   kilometer           294590 non-null  int64 \n",
            " 8   registration_month  294590 non-null  int64 \n",
            " 9   fuel_type           279113 non-null  object\n",
            " 10  brand               294590 non-null  object\n",
            " 11  repaired            251970 non-null  object\n",
            " 12  date_created        294590 non-null  object\n",
            " 13  number_of_pictures  294590 non-null  int64 \n",
            " 14  postal_code         294590 non-null  int64 \n",
            " 15  last_seen           294590 non-null  object\n",
            "dtypes: int64(7), object(9)\n",
            "memory usage: 36.0+ MB\n",
            "None\n"
          ]
        }
      ],
      "source": [
        "print ('датасет до преобразования категориальных переменных',data.shape)\n",
        "print (data.info())"
      ]
    },
    {
      "cell_type": "code",
      "execution_count": null,
      "metadata": {
        "id": "MNGU1dArkDm0",
        "outputId": "3c8e706d-a168-42ec-e0be-657cafe04141"
      },
      "outputs": [
        {
          "name": "stdout",
          "output_type": "stream",
          "text": [
            "копия датасета, где сохранятся категориальные переменные (294590, 16)\n",
            "<class 'pandas.core.frame.DataFrame'>\n",
            "RangeIndex: 294590 entries, 0 to 294589\n",
            "Data columns (total 16 columns):\n",
            " #   Column              Non-Null Count   Dtype \n",
            "---  ------              --------------   ----- \n",
            " 0   date_crawled        294590 non-null  object\n",
            " 1   рrice               294590 non-null  int64 \n",
            " 2   vehicle_type        283571 non-null  object\n",
            " 3   registration_year   294590 non-null  int64 \n",
            " 4   gearbox             289285 non-null  object\n",
            " 5   power               294590 non-null  int64 \n",
            " 6   model               283812 non-null  object\n",
            " 7   kilometer           294590 non-null  int64 \n",
            " 8   registration_month  294590 non-null  int64 \n",
            " 9   fuel_type           279113 non-null  object\n",
            " 10  brand               294590 non-null  object\n",
            " 11  repaired            251970 non-null  object\n",
            " 12  date_created        294590 non-null  object\n",
            " 13  number_of_pictures  294590 non-null  int64 \n",
            " 14  postal_code         294590 non-null  int64 \n",
            " 15  last_seen           294590 non-null  object\n",
            "dtypes: int64(7), object(9)\n",
            "memory usage: 36.0+ MB\n",
            "None\n"
          ]
        }
      ],
      "source": [
        "data_cat  = data.copy()\n",
        "print ('копия датасета, где сохранятся категориальные переменные',data_cat.shape)\n",
        "print (data_cat.info())"
      ]
    },
    {
      "cell_type": "markdown",
      "metadata": {
        "id": "tFINL7WPkDm1"
      },
      "source": [
        "**Замена категориальных переменных**"
      ]
    },
    {
      "cell_type": "code",
      "execution_count": null,
      "metadata": {
        "id": "yExpFdJAkDm1",
        "outputId": "cf6e2b2f-a2b9-4a32-ef1a-9611ba81e0db"
      },
      "outputs": [
        {
          "name": "stdout",
          "output_type": "stream",
          "text": [
            "sedan          82348\n",
            "small          69940\n",
            "wagon          59242\n",
            "bus            26153\n",
            "convertible    18450\n",
            "coupe          14195\n",
            "suv            10836\n",
            "other           2407\n",
            "Name: vehicle_type, dtype: int64\n",
            "['coupe' 'suv' 'small' 'sedan' 'convertible' 'bus' 'wagon' nan 'other']\n"
          ]
        }
      ],
      "source": [
        "print(data['vehicle_type'].value_counts())\n",
        "print(data['vehicle_type'].unique())"
      ]
    },
    {
      "cell_type": "markdown",
      "metadata": {
        "id": "CrlVYHHDkDm1"
      },
      "source": [
        "<b> Результат: </b> категориальная переменная, но ожидаемо существенная для влияния на цену продажи. "
      ]
    },
    {
      "cell_type": "markdown",
      "metadata": {
        "id": "QZdZK6IwkDm2"
      },
      "source": [
        "План подготовки такой: заменить nan на 'other', далее перекодировать на несколько столбцов"
      ]
    },
    {
      "cell_type": "code",
      "execution_count": null,
      "metadata": {
        "id": "CAS1bPackDm2",
        "outputId": "5422dab1-57bd-406f-c507-31505eb8b457"
      },
      "outputs": [
        {
          "name": "stdout",
          "output_type": "stream",
          "text": [
            "['coupe' 'suv' 'small' 'sedan' 'convertible' 'bus' 'wagon' 'other']\n"
          ]
        }
      ],
      "source": [
        "data['vehicle_type']= data['vehicle_type'].fillna('other')\n",
        "print(data['vehicle_type'].unique())"
      ]
    },
    {
      "cell_type": "code",
      "execution_count": null,
      "metadata": {
        "id": "VIybQZtvkDm2",
        "outputId": "739cd3e6-7cdb-40b7-ccb5-2a1ac5f0eae2"
      },
      "outputs": [
        {
          "name": "stdout",
          "output_type": "stream",
          "text": [
            "          date_crawled  рrice  registration_year gearbox  power  model  \\\n",
            "0  2016-03-24 10:58:45  18300               2011  manual    190    NaN   \n",
            "1  2016-03-14 12:52:21   9800               2004    auto    163  grand   \n",
            "2  2016-03-17 16:54:04   1500               2001  manual     75   golf   \n",
            "3  2016-03-31 17:25:20   3600               2008  manual     69  fabia   \n",
            "4  2016-04-04 17:36:23    650               1995  manual    102    3er   \n",
            "\n",
            "   kilometer  registration_month fuel_type       brand  ... postal_code  \\\n",
            "0     125000                   5  gasoline        audi  ...       66954   \n",
            "1     125000                   8  gasoline        jeep  ...       90480   \n",
            "2     150000                   6    petrol  volkswagen  ...       91074   \n",
            "3      90000                   7  gasoline       skoda  ...       60437   \n",
            "4     150000                  10    petrol         bmw  ...       33775   \n",
            "\n",
            "             last_seen  vehicle_type_bus  vehicle_type_convertible  \\\n",
            "0  2016-04-07 01:46:50                 0                         0   \n",
            "1  2016-04-05 12:47:46                 0                         0   \n",
            "2  2016-03-17 17:40:17                 0                         0   \n",
            "3  2016-04-06 10:17:21                 0                         0   \n",
            "4  2016-04-06 19:17:07                 0                         0   \n",
            "\n",
            "  vehicle_type_coupe  vehicle_type_other  vehicle_type_sedan  \\\n",
            "0                  1                   0                   0   \n",
            "1                  0                   0                   0   \n",
            "2                  0                   0                   0   \n",
            "3                  0                   0                   0   \n",
            "4                  0                   0                   1   \n",
            "\n",
            "   vehicle_type_small  vehicle_type_suv  vehicle_type_wagon  \n",
            "0                   0                 0                   0  \n",
            "1                   0                 1                   0  \n",
            "2                   1                 0                   0  \n",
            "3                   1                 0                   0  \n",
            "4                   0                 0                   0  \n",
            "\n",
            "[5 rows x 23 columns]\n"
          ]
        }
      ],
      "source": [
        "data = pd.get_dummies(data, columns= ['vehicle_type'])\n",
        "print(data.head())"
      ]
    },
    {
      "cell_type": "code",
      "execution_count": null,
      "metadata": {
        "id": "_bGczj8RkDm2",
        "outputId": "e75ac214-d1c1-40bf-d87b-815551fab25b"
      },
      "outputs": [
        {
          "name": "stdout",
          "output_type": "stream",
          "text": [
            "['manual' 'auto' nan]\n",
            "manual    230811\n",
            "auto       58474\n",
            "Name: gearbox, dtype: int64\n",
            "4.905374315759782 % пропущенных значений\n"
          ]
        }
      ],
      "source": [
        "print(data['gearbox'].unique())\n",
        "print(data['gearbox'].value_counts())\n",
        "print((340341-323646)/340341*100,'% пропущенных значений')\n"
      ]
    },
    {
      "cell_type": "markdown",
      "metadata": {
        "id": "V7thYi3TkDm3"
      },
      "source": [
        "Коробка передач - важный параметр при выборе автомобиля. Он не может быть не известен. Значит данные неполные. План подготовки такой: убрать строки с nan (меньше 5 %), далее перекодировать на 2 столбца"
      ]
    },
    {
      "cell_type": "code",
      "execution_count": null,
      "metadata": {
        "id": "PpfjGygbkDm3",
        "outputId": "feafa3c0-fd17-44a5-eba8-97c0b0c94cd9"
      },
      "outputs": [
        {
          "name": "stdout",
          "output_type": "stream",
          "text": [
            "после удаления nan в gearbox (289285, 23)\n",
            "['manual' 'auto']\n",
            "<class 'pandas.core.frame.DataFrame'>\n",
            "RangeIndex: 289285 entries, 0 to 289284\n",
            "Data columns (total 23 columns):\n",
            " #   Column                    Non-Null Count   Dtype \n",
            "---  ------                    --------------   ----- \n",
            " 0   date_crawled              289285 non-null  object\n",
            " 1   рrice                     289285 non-null  int64 \n",
            " 2   registration_year         289285 non-null  int64 \n",
            " 3   gearbox                   289285 non-null  object\n",
            " 4   power                     289285 non-null  int64 \n",
            " 5   model                     279176 non-null  object\n",
            " 6   kilometer                 289285 non-null  int64 \n",
            " 7   registration_month        289285 non-null  int64 \n",
            " 8   fuel_type                 275033 non-null  object\n",
            " 9   brand                     289285 non-null  object\n",
            " 10  repaired                  249070 non-null  object\n",
            " 11  date_created              289285 non-null  object\n",
            " 12  number_of_pictures        289285 non-null  int64 \n",
            " 13  postal_code               289285 non-null  int64 \n",
            " 14  last_seen                 289285 non-null  object\n",
            " 15  vehicle_type_bus          289285 non-null  uint8 \n",
            " 16  vehicle_type_convertible  289285 non-null  uint8 \n",
            " 17  vehicle_type_coupe        289285 non-null  uint8 \n",
            " 18  vehicle_type_other        289285 non-null  uint8 \n",
            " 19  vehicle_type_sedan        289285 non-null  uint8 \n",
            " 20  vehicle_type_small        289285 non-null  uint8 \n",
            " 21  vehicle_type_suv          289285 non-null  uint8 \n",
            " 22  vehicle_type_wagon        289285 non-null  uint8 \n",
            "dtypes: int64(7), object(8), uint8(8)\n",
            "memory usage: 35.3+ MB\n",
            "None\n"
          ]
        }
      ],
      "source": [
        "\n",
        "data = data.dropna(subset=['gearbox']).reset_index(drop=True)\n",
        "print ('после удаления nan в gearbox',data.shape)\n",
        "print(data['gearbox'].unique())\n",
        "print (data.info())"
      ]
    },
    {
      "cell_type": "code",
      "execution_count": null,
      "metadata": {
        "id": "zBwxCTrRkDm3",
        "outputId": "92cd23f1-b96d-466f-d361-d76447339a86"
      },
      "outputs": [
        {
          "name": "stdout",
          "output_type": "stream",
          "text": [
            "          date_crawled  рrice  registration_year  power  model  kilometer  \\\n",
            "0  2016-03-24 10:58:45  18300               2011    190    NaN     125000   \n",
            "1  2016-03-14 12:52:21   9800               2004    163  grand     125000   \n",
            "2  2016-03-17 16:54:04   1500               2001     75   golf     150000   \n",
            "3  2016-03-31 17:25:20   3600               2008     69  fabia      90000   \n",
            "4  2016-04-04 17:36:23    650               1995    102    3er     150000   \n",
            "\n",
            "   registration_month fuel_type       brand repaired  ... vehicle_type_bus  \\\n",
            "0                   5  gasoline        audi      yes  ...                0   \n",
            "1                   8  gasoline        jeep      NaN  ...                0   \n",
            "2                   6    petrol  volkswagen       no  ...                0   \n",
            "3                   7  gasoline       skoda       no  ...                0   \n",
            "4                  10    petrol         bmw      yes  ...                0   \n",
            "\n",
            "   vehicle_type_convertible  vehicle_type_coupe vehicle_type_other  \\\n",
            "0                         0                   1                  0   \n",
            "1                         0                   0                  0   \n",
            "2                         0                   0                  0   \n",
            "3                         0                   0                  0   \n",
            "4                         0                   0                  0   \n",
            "\n",
            "   vehicle_type_sedan  vehicle_type_small  vehicle_type_suv  \\\n",
            "0                   0                   0                 0   \n",
            "1                   0                   0                 1   \n",
            "2                   0                   1                 0   \n",
            "3                   0                   1                 0   \n",
            "4                   1                   0                 0   \n",
            "\n",
            "   vehicle_type_wagon  gearbox_auto  gearbox_manual  \n",
            "0                   0             0               1  \n",
            "1                   0             1               0  \n",
            "2                   0             0               1  \n",
            "3                   0             0               1  \n",
            "4                   0             0               1  \n",
            "\n",
            "[5 rows x 24 columns]\n"
          ]
        }
      ],
      "source": [
        "data = pd.get_dummies(data, columns= ['gearbox'])\n",
        "print(data.head())"
      ]
    },
    {
      "cell_type": "markdown",
      "metadata": {
        "id": "TWPfFSr3kDm3"
      },
      "source": [
        "**Результат:** столбец с категориальной переменной gearbox преобразован в 2 числовых. "
      ]
    },
    {
      "cell_type": "code",
      "execution_count": null,
      "metadata": {
        "id": "kub7Tjc3kDm3",
        "outputId": "d58a4e5e-8b35-435f-9d15-9f8a0c8c9839"
      },
      "outputs": [
        {
          "name": "stdout",
          "output_type": "stream",
          "text": [
            "[nan 'grand' 'golf' 'fabia' '3er' '2_reihe' 'c_max' '3_reihe' 'passat'\n",
            " 'navara' 'twingo' 'a_klasse' 'scirocco' '5er' 'arosa' 'other' 'civic'\n",
            " 'transporter' 'punto' 'e_klasse' 'clio' 'kadett' 'one' 'fortwo' '1er'\n",
            " 'b_klasse' 'a8' 'jetta' 'fiesta' 'c_klasse' 'micra' 'vito' 'sprinter'\n",
            " 'astra' '156' 'escort' 'forester' 'xc_reihe' 'scenic' 'a1' 'focus' 'a4'\n",
            " 'tt' 'a6' 'jazz' 'omega' 'polo' 'slk' '7er' 'combo' 'corsa' '80' '147'\n",
            " 'z_reihe' 'sorento' 'ibiza' 'mustang' 'eos' 'touran' 'getz' 'insignia'\n",
            " 'ka' 'almera' 'megane' 'a3' 'lupo' 'r19' 'caddy' 'mondeo' 'cordoba'\n",
            " 'colt' 'impreza' 'vectra' 'berlingo' 'tiguan' '6_reihe' 'c4' 'panda' 'up'\n",
            " 'i_reihe' 'ceed' 'kangoo' '5_reihe' 'yeti' 'octavia' 'zafira' 'mii'\n",
            " 'rx_reihe' '6er' 'modus' 'fox' 'matiz' 'beetle' 'rio' 'touareg' 'logan'\n",
            " 'spider' 'cuore' 's_max' 'a2' 'galaxy' 'c3' 'viano' 's_klasse' '1_reihe'\n",
            " 'sharan' 'avensis' 'roomster' 'sl' 'santa' 'leon' 'cooper' '4_reihe' 'a5'\n",
            " 'sportage' 'laguna' 'ptcruiser' 'clk' 'primera' 'espace' 'exeo' '159'\n",
            " 'transit' 'juke' 'x_reihe' 'v40' 'carisma' 'accord' 'corolla' 'lanos'\n",
            " 'phaeton' 'verso' 'swift' 'rav' 'qashqai' 'picanto' 'boxster' 'stilo'\n",
            " 'alhambra' 'mx_reihe' 'roadster' 'ypsilon' 'galant' 'justy' '90' 'sirion'\n",
            " 'signum' 'crossfire' 'agila' 'duster' 'v50' 'meriva' 'c_reihe' 'v_klasse'\n",
            " 'm_klasse' 'yaris' 'c5' 'aygo' 'seicento' 'cc' 'carnival' '911' 'bora'\n",
            " 'forfour' 'cl' 'tigra' '300c' '500' '100' 'cr_reihe' 'spark' 'kuga'\n",
            " 'x_type' 'ducato' 's_type' 'x_trail' 'toledo' 'altea' 'voyager' 'calibra'\n",
            " 'v70' 'bravo' 'c1' 'citigo' 'jimny' 'cayenne' 'wrangler' 'lybra' 'lancer'\n",
            " 'captiva' 'fusion' 'discovery' 'freelander' 'sandero' 'q7' 'note'\n",
            " 'antara' '900' 'cherokee' 'kaefer' 'clubman' 'defender' 'cx_reihe'\n",
            " 'legacy' 'pajero' 'auris' 'c2' 'niva' 's60' 'm_reihe' 'nubira' 'vivaro'\n",
            " 'tucson' 'g_klasse' 'lodgy' 'range_rover' '601' '850' 'superb' 'q3'\n",
            " 'serie_2' 'glk' 'charade' 'croma' 'outlander' 'doblo' 'musa' '9000'\n",
            " 'kalos' 'v60' '200' '145' 'b_max' 'range_rover_sport' 'aveo' 'move'\n",
            " 'rangerover' 'q5' 'range_rover_evoque' 'materia' 'delta' 'terios' 'gl'\n",
            " 'kalina' 'elefantino' 'i3' 'samara' 'amarok' 'kappa']\n",
            "golf                  24304\n",
            "other                 19167\n",
            "3er                   17215\n",
            "polo                  10509\n",
            "corsa                  9889\n",
            "                      ...  \n",
            "kalina                    5\n",
            "samara                    5\n",
            "serie_2                   2\n",
            "rangerover                2\n",
            "range_rover_evoque        2\n",
            "Name: model, Length: 248, dtype: int64\n"
          ]
        }
      ],
      "source": [
        "print(data['model'].unique())\n",
        "print(data['model'].value_counts())"
      ]
    },
    {
      "cell_type": "code",
      "execution_count": null,
      "metadata": {
        "id": "5cYUWndakDm4",
        "outputId": "5d377913-bb62-4d09-cce2-8c36f2bd1bc3"
      },
      "outputs": [
        {
          "name": "stdout",
          "output_type": "stream",
          "text": [
            "['other' 'grand' 'golf' 'fabia' '3er' '2_reihe' 'c_max' '3_reihe' 'passat'\n",
            " 'navara' 'twingo' 'a_klasse' 'scirocco' '5er' 'arosa' 'civic'\n",
            " 'transporter' 'punto' 'e_klasse' 'clio' 'kadett' 'one' 'fortwo' '1er'\n",
            " 'b_klasse' 'a8' 'jetta' 'fiesta' 'c_klasse' 'micra' 'vito' 'sprinter'\n",
            " 'astra' '156' 'escort' 'forester' 'xc_reihe' 'scenic' 'a1' 'focus' 'a4'\n",
            " 'tt' 'a6' 'jazz' 'omega' 'polo' 'slk' '7er' 'combo' 'corsa' '80' '147'\n",
            " 'z_reihe' 'sorento' 'ibiza' 'mustang' 'eos' 'touran' 'getz' 'insignia'\n",
            " 'ka' 'almera' 'megane' 'a3' 'lupo' 'r19' 'caddy' 'mondeo' 'cordoba'\n",
            " 'colt' 'impreza' 'vectra' 'berlingo' 'tiguan' '6_reihe' 'c4' 'panda' 'up'\n",
            " 'i_reihe' 'ceed' 'kangoo' '5_reihe' 'yeti' 'octavia' 'zafira' 'mii'\n",
            " 'rx_reihe' '6er' 'modus' 'fox' 'matiz' 'beetle' 'rio' 'touareg' 'logan'\n",
            " 'spider' 'cuore' 's_max' 'a2' 'galaxy' 'c3' 'viano' 's_klasse' '1_reihe'\n",
            " 'sharan' 'avensis' 'roomster' 'sl' 'santa' 'leon' 'cooper' '4_reihe' 'a5'\n",
            " 'sportage' 'laguna' 'ptcruiser' 'clk' 'primera' 'espace' 'exeo' '159'\n",
            " 'transit' 'juke' 'x_reihe' 'v40' 'carisma' 'accord' 'corolla' 'lanos'\n",
            " 'phaeton' 'verso' 'swift' 'rav' 'qashqai' 'picanto' 'boxster' 'stilo'\n",
            " 'alhambra' 'mx_reihe' 'roadster' 'ypsilon' 'galant' 'justy' '90' 'sirion'\n",
            " 'signum' 'crossfire' 'agila' 'duster' 'v50' 'meriva' 'c_reihe' 'v_klasse'\n",
            " 'm_klasse' 'yaris' 'c5' 'aygo' 'seicento' 'cc' 'carnival' '911' 'bora'\n",
            " 'forfour' 'cl' 'tigra' '300c' '500' '100' 'cr_reihe' 'spark' 'kuga'\n",
            " 'x_type' 'ducato' 's_type' 'x_trail' 'toledo' 'altea' 'voyager' 'calibra'\n",
            " 'v70' 'bravo' 'c1' 'citigo' 'jimny' 'cayenne' 'wrangler' 'lybra' 'lancer'\n",
            " 'captiva' 'fusion' 'discovery' 'freelander' 'sandero' 'q7' 'note'\n",
            " 'antara' '900' 'cherokee' 'kaefer' 'clubman' 'defender' 'cx_reihe'\n",
            " 'legacy' 'pajero' 'auris' 'c2' 'niva' 's60' 'm_reihe' 'nubira' 'vivaro'\n",
            " 'tucson' 'g_klasse' 'lodgy' 'range_rover' '601' '850' 'superb' 'q3'\n",
            " 'serie_2' 'glk' 'charade' 'croma' 'outlander' 'doblo' 'musa' '9000'\n",
            " 'kalos' 'v60' '200' '145' 'b_max' 'range_rover_sport' 'aveo' 'move'\n",
            " 'rangerover' 'q5' 'range_rover_evoque' 'materia' 'delta' 'terios' 'gl'\n",
            " 'kalina' 'elefantino' 'i3' 'samara' 'amarok' 'kappa']\n"
          ]
        }
      ],
      "source": [
        "data['model']= data['model'].fillna('other')\n",
        "print(data['model'].unique())"
      ]
    },
    {
      "cell_type": "code",
      "execution_count": null,
      "metadata": {
        "id": "_gRChRkrkDm7",
        "outputId": "61c4b0e2-271d-4499-9005-92470867e452"
      },
      "outputs": [
        {
          "name": "stdout",
          "output_type": "stream",
          "text": [
            "          date_crawled  рrice  registration_year  power  kilometer  \\\n",
            "0  2016-03-24 10:58:45  18300               2011    190     125000   \n",
            "1  2016-03-14 12:52:21   9800               2004    163     125000   \n",
            "2  2016-03-17 16:54:04   1500               2001     75     150000   \n",
            "3  2016-03-31 17:25:20   3600               2008     69      90000   \n",
            "4  2016-04-04 17:36:23    650               1995    102     150000   \n",
            "\n",
            "   registration_month fuel_type       brand repaired         date_created  \\\n",
            "0                   5  gasoline        audi      yes  2016-03-24 00:00:00   \n",
            "1                   8  gasoline        jeep      NaN  2016-03-14 00:00:00   \n",
            "2                   6    petrol  volkswagen       no  2016-03-17 00:00:00   \n",
            "3                   7  gasoline       skoda       no  2016-03-31 00:00:00   \n",
            "4                  10    petrol         bmw      yes  2016-04-04 00:00:00   \n",
            "\n",
            "   ...  model_wrangler  model_x_reihe model_x_trail  model_x_type  \\\n",
            "0  ...               0              0             0             0   \n",
            "1  ...               0              0             0             0   \n",
            "2  ...               0              0             0             0   \n",
            "3  ...               0              0             0             0   \n",
            "4  ...               0              0             0             0   \n",
            "\n",
            "   model_xc_reihe  model_yaris  model_yeti  model_ypsilon  model_z_reihe  \\\n",
            "0               0            0           0              0              0   \n",
            "1               0            0           0              0              0   \n",
            "2               0            0           0              0              0   \n",
            "3               0            0           0              0              0   \n",
            "4               0            0           0              0              0   \n",
            "\n",
            "   model_zafira  \n",
            "0             0  \n",
            "1             0  \n",
            "2             0  \n",
            "3             0  \n",
            "4             0  \n",
            "\n",
            "[5 rows x 271 columns]\n"
          ]
        }
      ],
      "source": [
        "data = pd.get_dummies(data, columns= ['model'])\n",
        "print(data.head())\n",
        "\n"
      ]
    },
    {
      "cell_type": "markdown",
      "metadata": {
        "id": "Snatbh6ykDm8"
      },
      "source": [
        "<b> Результат: </b> категориальная переменная model преобразована методом One Hot Encoding в набор количественных данных"
      ]
    },
    {
      "cell_type": "code",
      "execution_count": null,
      "metadata": {
        "id": "XsxHwmKjkDm8",
        "outputId": "a7a14e4d-f140-4f4d-daca-abdb2db5953b"
      },
      "outputs": [
        {
          "name": "stdout",
          "output_type": "stream",
          "text": [
            "['gasoline' 'petrol' nan 'lpg' 'other' 'hybrid' 'cng' 'electric']\n",
            "petrol      182779\n",
            "gasoline     86817\n",
            "lpg           4607\n",
            "cng            478\n",
            "hybrid         201\n",
            "other           80\n",
            "electric        71\n",
            "Name: fuel_type, dtype: int64\n"
          ]
        }
      ],
      "source": [
        "print(data['fuel_type'].unique())\n",
        "print(data['fuel_type'].value_counts())"
      ]
    },
    {
      "cell_type": "markdown",
      "metadata": {
        "id": "RY3DxkRqkDm8"
      },
      "source": [
        "План подготовки данных такой: заменить nan на 'other', трансформировать категории в столбцы с числовыми данными"
      ]
    },
    {
      "cell_type": "code",
      "execution_count": null,
      "metadata": {
        "id": "uiB2_P80kDm9",
        "outputId": "67fff621-3558-48a1-9aa7-f8f306940a76"
      },
      "outputs": [
        {
          "name": "stdout",
          "output_type": "stream",
          "text": [
            "['gasoline' 'petrol' 'other' 'lpg' 'hybrid' 'cng' 'electric']\n"
          ]
        }
      ],
      "source": [
        "data['fuel_type']= data['fuel_type'].fillna('other')\n",
        "print(data['fuel_type'].unique())"
      ]
    },
    {
      "cell_type": "code",
      "execution_count": null,
      "metadata": {
        "id": "7OjFok9JkDm9",
        "outputId": "702e4c25-3754-4d0b-aa16-4e5f2f8ffad9"
      },
      "outputs": [
        {
          "name": "stdout",
          "output_type": "stream",
          "text": [
            "          date_crawled  рrice  registration_year  power  kilometer  \\\n",
            "0  2016-03-24 10:58:45  18300               2011    190     125000   \n",
            "1  2016-03-14 12:52:21   9800               2004    163     125000   \n",
            "2  2016-03-17 16:54:04   1500               2001     75     150000   \n",
            "3  2016-03-31 17:25:20   3600               2008     69      90000   \n",
            "4  2016-04-04 17:36:23    650               1995    102     150000   \n",
            "\n",
            "   registration_month       brand repaired         date_created  \\\n",
            "0                   5        audi      yes  2016-03-24 00:00:00   \n",
            "1                   8        jeep      NaN  2016-03-14 00:00:00   \n",
            "2                   6  volkswagen       no  2016-03-17 00:00:00   \n",
            "3                   7       skoda       no  2016-03-31 00:00:00   \n",
            "4                  10         bmw      yes  2016-04-04 00:00:00   \n",
            "\n",
            "   number_of_pictures  ...  model_ypsilon model_z_reihe  model_zafira  \\\n",
            "0                   0  ...              0             0             0   \n",
            "1                   0  ...              0             0             0   \n",
            "2                   0  ...              0             0             0   \n",
            "3                   0  ...              0             0             0   \n",
            "4                   0  ...              0             0             0   \n",
            "\n",
            "   fuel_type_cng  fuel_type_electric  fuel_type_gasoline  fuel_type_hybrid  \\\n",
            "0              0                   0                   1                 0   \n",
            "1              0                   0                   1                 0   \n",
            "2              0                   0                   0                 0   \n",
            "3              0                   0                   1                 0   \n",
            "4              0                   0                   0                 0   \n",
            "\n",
            "   fuel_type_lpg  fuel_type_other  fuel_type_petrol  \n",
            "0              0                0                 0  \n",
            "1              0                0                 0  \n",
            "2              0                0                 1  \n",
            "3              0                0                 0  \n",
            "4              0                0                 1  \n",
            "\n",
            "[5 rows x 277 columns]\n"
          ]
        }
      ],
      "source": [
        "data = pd.get_dummies(data, columns= ['fuel_type'])\n",
        "print(data.head())"
      ]
    },
    {
      "cell_type": "markdown",
      "metadata": {
        "id": "a5ZSlcl_kDm9"
      },
      "source": [
        "<b> Результат: </b> категориальная переменная fuel_type преобразована методом One Hot Encoding в набор количественных данных"
      ]
    },
    {
      "cell_type": "code",
      "execution_count": null,
      "metadata": {
        "id": "8JhczMYckDm9",
        "outputId": "fcd55299-7560-47ab-b17d-9fab332edc1b"
      },
      "outputs": [
        {
          "name": "stdout",
          "output_type": "stream",
          "text": [
            "['audi' 'jeep' 'volkswagen' 'skoda' 'bmw' 'peugeot' 'ford' 'mazda'\n",
            " 'nissan' 'renault' 'mercedes_benz' 'seat' 'honda' 'fiat' 'opel' 'mini'\n",
            " 'smart' 'hyundai' 'sonstige_autos' 'alfa_romeo' 'subaru' 'volvo'\n",
            " 'mitsubishi' 'kia' 'suzuki' 'lancia' 'citroen' 'toyota' 'chevrolet'\n",
            " 'dacia' 'daihatsu' 'chrysler' 'jaguar' 'daewoo' 'rover' 'porsche' 'saab'\n",
            " 'land_rover' 'trabant' 'lada']\n",
            "volkswagen        62653\n",
            "bmw               31871\n",
            "opel              31661\n",
            "mercedes_benz     26677\n",
            "audi              25345\n",
            "ford              20183\n",
            "renault           13658\n",
            "peugeot            9245\n",
            "fiat               7381\n",
            "seat               5786\n",
            "skoda              4908\n",
            "mazda              4666\n",
            "citroen            4158\n",
            "nissan             3969\n",
            "toyota             3957\n",
            "smart              3799\n",
            "hyundai            3079\n",
            "mini               2926\n",
            "volvo              2751\n",
            "mitsubishi         2467\n",
            "honda              2327\n",
            "kia                2060\n",
            "suzuki             1935\n",
            "alfa_romeo         1908\n",
            "sonstige_autos     1421\n",
            "chevrolet          1382\n",
            "chrysler           1139\n",
            "dacia               794\n",
            "subaru              637\n",
            "daihatsu            601\n",
            "porsche             586\n",
            "jeep                550\n",
            "saab                465\n",
            "land_rover          446\n",
            "jaguar              428\n",
            "daewoo              407\n",
            "lancia              368\n",
            "rover               356\n",
            "trabant             195\n",
            "lada                140\n",
            "Name: brand, dtype: int64\n"
          ]
        }
      ],
      "source": [
        "print(data['brand'].unique())\n",
        "print(data['brand'].value_counts())"
      ]
    },
    {
      "cell_type": "code",
      "execution_count": null,
      "metadata": {
        "id": "q7DjSl2SkDm_",
        "outputId": "082f1180-e5e0-4e8b-efdf-a2b413d95949"
      },
      "outputs": [
        {
          "name": "stdout",
          "output_type": "stream",
          "text": [
            "          date_crawled  рrice  registration_year  power  kilometer  \\\n",
            "0  2016-03-24 10:58:45  18300               2011    190     125000   \n",
            "1  2016-03-14 12:52:21   9800               2004    163     125000   \n",
            "2  2016-03-17 16:54:04   1500               2001     75     150000   \n",
            "3  2016-03-31 17:25:20   3600               2008     69      90000   \n",
            "4  2016-04-04 17:36:23    650               1995    102     150000   \n",
            "\n",
            "   registration_month repaired         date_created  number_of_pictures  \\\n",
            "0                   5      yes  2016-03-24 00:00:00                   0   \n",
            "1                   8      NaN  2016-03-14 00:00:00                   0   \n",
            "2                   6       no  2016-03-17 00:00:00                   0   \n",
            "3                   7       no  2016-03-31 00:00:00                   0   \n",
            "4                  10      yes  2016-04-04 00:00:00                   0   \n",
            "\n",
            "   postal_code  ... brand_seat  brand_skoda  brand_smart  \\\n",
            "0        66954  ...          0            0            0   \n",
            "1        90480  ...          0            0            0   \n",
            "2        91074  ...          0            0            0   \n",
            "3        60437  ...          0            1            0   \n",
            "4        33775  ...          0            0            0   \n",
            "\n",
            "   brand_sonstige_autos  brand_subaru  brand_suzuki  brand_toyota  \\\n",
            "0                     0             0             0             0   \n",
            "1                     0             0             0             0   \n",
            "2                     0             0             0             0   \n",
            "3                     0             0             0             0   \n",
            "4                     0             0             0             0   \n",
            "\n",
            "   brand_trabant  brand_volkswagen  brand_volvo  \n",
            "0              0                 0            0  \n",
            "1              0                 0            0  \n",
            "2              0                 1            0  \n",
            "3              0                 0            0  \n",
            "4              0                 0            0  \n",
            "\n",
            "[5 rows x 316 columns]\n"
          ]
        }
      ],
      "source": [
        "data = pd.get_dummies(data, columns= ['brand'])\n",
        "print(data.head())"
      ]
    },
    {
      "cell_type": "markdown",
      "metadata": {
        "id": "vVPIgyK1kDnA"
      },
      "source": [
        "**Результат**: категориальная переменная brand преобразована методом One Hot Encoding в набор количественных данных"
      ]
    },
    {
      "cell_type": "code",
      "execution_count": null,
      "metadata": {
        "id": "CXl6kx6OkDnA",
        "outputId": "4e7820d0-4b74-43f4-c2d0-c1827d14386b"
      },
      "outputs": [
        {
          "name": "stdout",
          "output_type": "stream",
          "text": [
            "['yes' nan 'no']\n",
            "no     220858\n",
            "yes     28212\n",
            "Name: repaired, dtype: int64\n"
          ]
        }
      ],
      "source": [
        "print(data['repaired'].unique())\n",
        "print(data['repaired'].value_counts())"
      ]
    },
    {
      "cell_type": "code",
      "execution_count": null,
      "metadata": {
        "id": "71QbENaKkDnA",
        "outputId": "b8a0b5ae-4afe-4c25-edaa-3ad034a71bdd"
      },
      "outputs": [
        {
          "name": "stdout",
          "output_type": "stream",
          "text": [
            "['yes' 'other' 'no']\n"
          ]
        }
      ],
      "source": [
        "data['repaired']= data['repaired'].fillna('other')\n",
        "print(data['repaired'].unique())"
      ]
    },
    {
      "cell_type": "code",
      "execution_count": null,
      "metadata": {
        "id": "smAMdN6pkDnA",
        "outputId": "b85faf40-7f06-4206-efc0-315bd7c4b176"
      },
      "outputs": [
        {
          "name": "stdout",
          "output_type": "stream",
          "text": [
            "          date_crawled  рrice  registration_year  power  kilometer  \\\n",
            "0  2016-03-24 10:58:45  18300               2011    190     125000   \n",
            "1  2016-03-14 12:52:21   9800               2004    163     125000   \n",
            "2  2016-03-17 16:54:04   1500               2001     75     150000   \n",
            "3  2016-03-31 17:25:20   3600               2008     69      90000   \n",
            "4  2016-04-04 17:36:23    650               1995    102     150000   \n",
            "\n",
            "   registration_month         date_created  number_of_pictures  postal_code  \\\n",
            "0                   5  2016-03-24 00:00:00                   0        66954   \n",
            "1                   8  2016-03-14 00:00:00                   0        90480   \n",
            "2                   6  2016-03-17 00:00:00                   0        91074   \n",
            "3                   7  2016-03-31 00:00:00                   0        60437   \n",
            "4                  10  2016-04-04 00:00:00                   0        33775   \n",
            "\n",
            "             last_seen  ...  brand_sonstige_autos  brand_subaru  brand_suzuki  \\\n",
            "0  2016-04-07 01:46:50  ...                     0             0             0   \n",
            "1  2016-04-05 12:47:46  ...                     0             0             0   \n",
            "2  2016-03-17 17:40:17  ...                     0             0             0   \n",
            "3  2016-04-06 10:17:21  ...                     0             0             0   \n",
            "4  2016-04-06 19:17:07  ...                     0             0             0   \n",
            "\n",
            "   brand_toyota  brand_trabant  brand_volkswagen  brand_volvo  repaired_no  \\\n",
            "0             0              0                 0            0            0   \n",
            "1             0              0                 0            0            0   \n",
            "2             0              0                 1            0            1   \n",
            "3             0              0                 0            0            1   \n",
            "4             0              0                 0            0            0   \n",
            "\n",
            "   repaired_other  repaired_yes  \n",
            "0               0             1  \n",
            "1               1             0  \n",
            "2               0             0  \n",
            "3               0             0  \n",
            "4               0             1  \n",
            "\n",
            "[5 rows x 318 columns]\n"
          ]
        }
      ],
      "source": [
        "data = pd.get_dummies(data, columns= ['repaired'])\n",
        "print(data.head())"
      ]
    },
    {
      "cell_type": "markdown",
      "metadata": {
        "id": "2PQ4JSfFkDnB"
      },
      "source": [
        "**Результат**: категориальная переменная repaired преобразована методом One Hot Encoding в набор количественных данных"
      ]
    },
    {
      "cell_type": "markdown",
      "metadata": {
        "id": "vaPq3eQCkDnC"
      },
      "source": [
        "## Обучение моделей"
      ]
    },
    {
      "cell_type": "code",
      "execution_count": null,
      "metadata": {
        "id": "o4mLTxR1kDnC",
        "outputId": "2a495f56-bd30-4d7b-81b9-d2fd69ad321a"
      },
      "outputs": [
        {
          "name": "stdout",
          "output_type": "stream",
          "text": [
            "датасет после преобразований (289285, 318)\n"
          ]
        }
      ],
      "source": [
        "print('датасет после преобразований',data.shape)\n",
        "\n",
        "\n"
      ]
    },
    {
      "cell_type": "code",
      "execution_count": null,
      "metadata": {
        "id": "shVp7ibekDnC",
        "outputId": "52d4cc54-a118-4b4e-d6f5-ae4737bb2599"
      },
      "outputs": [
        {
          "name": "stdout",
          "output_type": "stream",
          "text": [
            "<class 'pandas.core.frame.DataFrame'>\n",
            "RangeIndex: 289285 entries, 0 to 289284\n",
            "Columns: 318 entries, date_crawled to repaired_yes\n",
            "dtypes: int64(7), object(3), uint8(308)\n",
            "memory usage: 107.0+ MB\n",
            "None\n"
          ]
        }
      ],
      "source": [
        "print(data.info())\n"
      ]
    },
    {
      "cell_type": "code",
      "execution_count": null,
      "metadata": {
        "id": "jjxvtLcYkDnE",
        "outputId": "c471ad77-f96b-4fa7-8f04-dc3428eb0e92"
      },
      "outputs": [
        {
          "name": "stdout",
          "output_type": "stream",
          "text": [
            "date_crawled\n",
            "рrice\n",
            "registration_year\n",
            "power\n",
            "kilometer\n",
            "registration_month\n",
            "date_created\n",
            "number_of_pictures\n",
            "postal_code\n",
            "last_seen\n",
            "vehicle_type_bus\n",
            "vehicle_type_convertible\n",
            "vehicle_type_coupe\n",
            "vehicle_type_other\n",
            "vehicle_type_sedan\n",
            "vehicle_type_small\n",
            "vehicle_type_suv\n",
            "vehicle_type_wagon\n",
            "gearbox_auto\n",
            "gearbox_manual\n",
            "model_100\n",
            "model_145\n",
            "model_147\n",
            "model_156\n",
            "model_159\n",
            "model_1_reihe\n",
            "model_1er\n",
            "model_200\n",
            "model_2_reihe\n",
            "model_300c\n",
            "model_3_reihe\n",
            "model_3er\n",
            "model_4_reihe\n",
            "model_500\n",
            "model_5_reihe\n",
            "model_5er\n",
            "model_601\n",
            "model_6_reihe\n",
            "model_6er\n",
            "model_7er\n",
            "model_80\n",
            "model_850\n",
            "model_90\n",
            "model_900\n",
            "model_9000\n",
            "model_911\n",
            "model_a1\n",
            "model_a2\n",
            "model_a3\n",
            "model_a4\n",
            "model_a5\n",
            "model_a6\n",
            "model_a8\n",
            "model_a_klasse\n",
            "model_accord\n",
            "model_agila\n",
            "model_alhambra\n",
            "model_almera\n",
            "model_altea\n",
            "model_amarok\n",
            "model_antara\n",
            "model_arosa\n",
            "model_astra\n",
            "model_auris\n",
            "model_avensis\n",
            "model_aveo\n",
            "model_aygo\n",
            "model_b_klasse\n",
            "model_b_max\n",
            "model_beetle\n",
            "model_berlingo\n",
            "model_bora\n",
            "model_boxster\n",
            "model_bravo\n",
            "model_c1\n",
            "model_c2\n",
            "model_c3\n",
            "model_c4\n",
            "model_c5\n",
            "model_c_klasse\n",
            "model_c_max\n",
            "model_c_reihe\n",
            "model_caddy\n",
            "model_calibra\n",
            "model_captiva\n",
            "model_carisma\n",
            "model_carnival\n",
            "model_cayenne\n",
            "model_cc\n",
            "model_ceed\n",
            "model_charade\n",
            "model_cherokee\n",
            "model_citigo\n",
            "model_civic\n",
            "model_cl\n",
            "model_clio\n",
            "model_clk\n",
            "model_clubman\n",
            "model_colt\n",
            "model_combo\n",
            "model_cooper\n",
            "model_cordoba\n",
            "model_corolla\n",
            "model_corsa\n",
            "model_cr_reihe\n",
            "model_croma\n",
            "model_crossfire\n",
            "model_cuore\n",
            "model_cx_reihe\n",
            "model_defender\n",
            "model_delta\n",
            "model_discovery\n",
            "model_doblo\n",
            "model_ducato\n",
            "model_duster\n",
            "model_e_klasse\n",
            "model_elefantino\n",
            "model_eos\n",
            "model_escort\n",
            "model_espace\n",
            "model_exeo\n",
            "model_fabia\n",
            "model_fiesta\n",
            "model_focus\n",
            "model_forester\n",
            "model_forfour\n",
            "model_fortwo\n",
            "model_fox\n",
            "model_freelander\n",
            "model_fusion\n",
            "model_g_klasse\n",
            "model_galant\n",
            "model_galaxy\n",
            "model_getz\n",
            "model_gl\n",
            "model_glk\n",
            "model_golf\n",
            "model_grand\n",
            "model_i3\n",
            "model_i_reihe\n",
            "model_ibiza\n",
            "model_impreza\n",
            "model_insignia\n",
            "model_jazz\n",
            "model_jetta\n",
            "model_jimny\n",
            "model_juke\n",
            "model_justy\n",
            "model_ka\n",
            "model_kadett\n",
            "model_kaefer\n",
            "model_kalina\n",
            "model_kalos\n",
            "model_kangoo\n",
            "model_kappa\n",
            "model_kuga\n",
            "model_laguna\n",
            "model_lancer\n",
            "model_lanos\n",
            "model_legacy\n",
            "model_leon\n",
            "model_lodgy\n",
            "model_logan\n",
            "model_lupo\n",
            "model_lybra\n",
            "model_m_klasse\n",
            "model_m_reihe\n",
            "model_materia\n",
            "model_matiz\n",
            "model_megane\n",
            "model_meriva\n",
            "model_micra\n",
            "model_mii\n",
            "model_modus\n",
            "model_mondeo\n",
            "model_move\n",
            "model_musa\n",
            "model_mustang\n",
            "model_mx_reihe\n",
            "model_navara\n",
            "model_niva\n",
            "model_note\n",
            "model_nubira\n",
            "model_octavia\n",
            "model_omega\n",
            "model_one\n",
            "model_other\n",
            "model_outlander\n",
            "model_pajero\n",
            "model_panda\n",
            "model_passat\n",
            "model_phaeton\n",
            "model_picanto\n",
            "model_polo\n",
            "model_primera\n",
            "model_ptcruiser\n",
            "model_punto\n",
            "model_q3\n",
            "model_q5\n",
            "model_q7\n",
            "model_qashqai\n",
            "model_r19\n",
            "model_range_rover\n",
            "model_range_rover_evoque\n",
            "model_range_rover_sport\n",
            "model_rangerover\n",
            "model_rav\n",
            "model_rio\n",
            "model_roadster\n",
            "model_roomster\n",
            "model_rx_reihe\n",
            "model_s60\n",
            "model_s_klasse\n",
            "model_s_max\n",
            "model_s_type\n",
            "model_samara\n",
            "model_sandero\n",
            "model_santa\n",
            "model_scenic\n",
            "model_scirocco\n",
            "model_seicento\n",
            "model_serie_2\n",
            "model_sharan\n",
            "model_signum\n",
            "model_sirion\n",
            "model_sl\n",
            "model_slk\n",
            "model_sorento\n",
            "model_spark\n",
            "model_spider\n",
            "model_sportage\n",
            "model_sprinter\n",
            "model_stilo\n",
            "model_superb\n",
            "model_swift\n",
            "model_terios\n",
            "model_tigra\n",
            "model_tiguan\n",
            "model_toledo\n",
            "model_touareg\n",
            "model_touran\n",
            "model_transit\n",
            "model_transporter\n",
            "model_tt\n",
            "model_tucson\n",
            "model_twingo\n",
            "model_up\n",
            "model_v40\n",
            "model_v50\n",
            "model_v60\n",
            "model_v70\n",
            "model_v_klasse\n",
            "model_vectra\n",
            "model_verso\n",
            "model_viano\n",
            "model_vito\n",
            "model_vivaro\n",
            "model_voyager\n",
            "model_wrangler\n",
            "model_x_reihe\n",
            "model_x_trail\n",
            "model_x_type\n",
            "model_xc_reihe\n",
            "model_yaris\n",
            "model_yeti\n",
            "model_ypsilon\n",
            "model_z_reihe\n",
            "model_zafira\n",
            "fuel_type_cng\n",
            "fuel_type_electric\n",
            "fuel_type_gasoline\n",
            "fuel_type_hybrid\n",
            "fuel_type_lpg\n",
            "fuel_type_other\n",
            "fuel_type_petrol\n",
            "brand_alfa_romeo\n",
            "brand_audi\n",
            "brand_bmw\n",
            "brand_chevrolet\n",
            "brand_chrysler\n",
            "brand_citroen\n",
            "brand_dacia\n",
            "brand_daewoo\n",
            "brand_daihatsu\n",
            "brand_fiat\n",
            "brand_ford\n",
            "brand_honda\n",
            "brand_hyundai\n",
            "brand_jaguar\n",
            "brand_jeep\n",
            "brand_kia\n",
            "brand_lada\n",
            "brand_lancia\n",
            "brand_land_rover\n",
            "brand_mazda\n",
            "brand_mercedes_benz\n",
            "brand_mini\n",
            "brand_mitsubishi\n",
            "brand_nissan\n",
            "brand_opel\n",
            "brand_peugeot\n",
            "brand_porsche\n",
            "brand_renault\n",
            "brand_rover\n",
            "brand_saab\n",
            "brand_seat\n",
            "brand_skoda\n",
            "brand_smart\n",
            "brand_sonstige_autos\n",
            "brand_subaru\n",
            "brand_suzuki\n",
            "brand_toyota\n",
            "brand_trabant\n",
            "brand_volkswagen\n",
            "brand_volvo\n",
            "repaired_no\n",
            "repaired_other\n",
            "repaired_yes\n"
          ]
        }
      ],
      "source": [
        "for column in data:\n",
        "    print(column)"
      ]
    },
    {
      "cell_type": "code",
      "execution_count": null,
      "metadata": {
        "id": "21MlH9TEkDnF"
      },
      "outputs": [],
      "source": [
        "features = data.drop(['рrice','date_crawled','registration_month','date_created','number_of_pictures', 'postal_code', 'last_seen' ], axis=1)\n",
        "target = data['рrice']"
      ]
    },
    {
      "cell_type": "code",
      "execution_count": null,
      "metadata": {
        "id": "JJWeax73kDnF",
        "outputId": "517ed56b-4eea-4ba8-c707-a58c9265cc45"
      },
      "outputs": [
        {
          "name": "stdout",
          "output_type": "stream",
          "text": [
            "features_train shape: (173571, 311)\n",
            "features_valid shape: (57857, 311)\n",
            "features_test shape: (57857, 311)\n",
            "target_train shape: (173571,)\n",
            "target_valid shape: (57857,)\n",
            "target_test shape: (57857,)\n"
          ]
        }
      ],
      "source": [
        "features_train, features_valid_test, target_train, target_valid_test = train_test_split(\n",
        "    features, target, test_size=0.40, random_state=12345)\n",
        "features_valid, features_test, target_valid, target_test = train_test_split(\n",
        "    features_valid_test, target_valid_test, test_size=0.50, random_state=12345)\n",
        "print('features_train shape:', features_train.shape)\n",
        "print('features_valid shape:', features_valid.shape)\n",
        "print('features_test shape:', features_test.shape)\n",
        "print('target_train shape:', target_train.shape)\n",
        "print('target_valid shape:', target_valid.shape)\n",
        "print('target_test shape:', target_test.shape)\n"
      ]
    },
    {
      "cell_type": "code",
      "execution_count": null,
      "metadata": {
        "id": "PlXTYJFIkDnG",
        "outputId": "622200bb-0b64-4947-c2fe-0c9b86494240"
      },
      "outputs": [
        {
          "name": "stdout",
          "output_type": "stream",
          "text": [
            "CPU times: user 21.2 s, sys: 19.2 s, total: 40.4 s\n",
            "Wall time: 40.7 s\n"
          ]
        },
        {
          "data": {
            "text/plain": [
              "LinearRegression(normalize=True)"
            ]
          },
          "execution_count": 50,
          "metadata": {},
          "output_type": "execute_result"
        }
      ],
      "source": [
        "%%time\n",
        "model = LinearRegression(normalize=True)\n",
        "model.fit(features_train,target_train) \n"
      ]
    },
    {
      "cell_type": "code",
      "execution_count": null,
      "metadata": {
        "id": "cD4LmBTvkDnG",
        "outputId": "e8977dfe-596f-4da0-c065-c9fc7b14e577"
      },
      "outputs": [
        {
          "name": "stdout",
          "output_type": "stream",
          "text": [
            "RMSE модели линейной регрессии на валидационной выборке: 2543.1275105647856\n",
            "CPU times: user 137 ms, sys: 139 ms, total: 276 ms\n",
            "Wall time: 284 ms\n"
          ]
        }
      ],
      "source": [
        "%%time\n",
        "predictions_valid= model.predict(features_valid) \n",
        "result = mean_squared_error(target_valid, predictions_valid)**0.5\n",
        "print(\"RMSE модели линейной регрессии на валидационной выборке:\", result)"
      ]
    },
    {
      "cell_type": "markdown",
      "metadata": {
        "id": "Z2dqX6B4kDnG"
      },
      "source": [
        "**Результат** простая модель линейной регресии не достигла необходимой метрики RMSE меньше 2500"
      ]
    },
    {
      "cell_type": "code",
      "execution_count": null,
      "metadata": {
        "id": "R2XLitmCkDnG",
        "outputId": "0df3da01-759f-4a68-b5cb-81ac9650f809"
      },
      "outputs": [
        {
          "name": "stdout",
          "output_type": "stream",
          "text": [
            "['registration_year', 'power', 'kilometer', 'vehicle_type_bus', 'vehicle_type_convertible', 'vehicle_type_coupe', 'vehicle_type_other', 'vehicle_type_sedan', 'vehicle_type_small', 'vehicle_type_suv', 'vehicle_type_wagon', 'gearbox_auto', 'gearbox_manual', 'model_100', 'model_145', 'model_147', 'model_156', 'model_159', 'model_1_reihe', 'model_1er', 'model_200', 'model_2_reihe', 'model_300c', 'model_3_reihe', 'model_3er', 'model_4_reihe', 'model_500', 'model_5_reihe', 'model_5er', 'model_601', 'model_6_reihe', 'model_6er', 'model_7er', 'model_80', 'model_850', 'model_90', 'model_900', 'model_9000', 'model_911', 'model_a1', 'model_a2', 'model_a3', 'model_a4', 'model_a5', 'model_a6', 'model_a8', 'model_a_klasse', 'model_accord', 'model_agila', 'model_alhambra', 'model_almera', 'model_altea', 'model_amarok', 'model_antara', 'model_arosa', 'model_astra', 'model_auris', 'model_avensis', 'model_aveo', 'model_aygo', 'model_b_klasse', 'model_b_max', 'model_beetle', 'model_berlingo', 'model_bora', 'model_boxster', 'model_bravo', 'model_c1', 'model_c2', 'model_c3', 'model_c4', 'model_c5', 'model_c_klasse', 'model_c_max', 'model_c_reihe', 'model_caddy', 'model_calibra', 'model_captiva', 'model_carisma', 'model_carnival', 'model_cayenne', 'model_cc', 'model_ceed', 'model_charade', 'model_cherokee', 'model_citigo', 'model_civic', 'model_cl', 'model_clio', 'model_clk', 'model_clubman', 'model_colt', 'model_combo', 'model_cooper', 'model_cordoba', 'model_corolla', 'model_corsa', 'model_cr_reihe', 'model_croma', 'model_crossfire', 'model_cuore', 'model_cx_reihe', 'model_defender', 'model_delta', 'model_discovery', 'model_doblo', 'model_ducato', 'model_duster', 'model_e_klasse', 'model_elefantino', 'model_eos', 'model_escort', 'model_espace', 'model_exeo', 'model_fabia', 'model_fiesta', 'model_focus', 'model_forester', 'model_forfour', 'model_fortwo', 'model_fox', 'model_freelander', 'model_fusion', 'model_g_klasse', 'model_galant', 'model_galaxy', 'model_getz', 'model_gl', 'model_glk', 'model_golf', 'model_grand', 'model_i3', 'model_i_reihe', 'model_ibiza', 'model_impreza', 'model_insignia', 'model_jazz', 'model_jetta', 'model_jimny', 'model_juke', 'model_justy', 'model_ka', 'model_kadett', 'model_kaefer', 'model_kalina', 'model_kalos', 'model_kangoo', 'model_kappa', 'model_kuga', 'model_laguna', 'model_lancer', 'model_lanos', 'model_legacy', 'model_leon', 'model_lodgy', 'model_logan', 'model_lupo', 'model_lybra', 'model_m_klasse', 'model_m_reihe', 'model_materia', 'model_matiz', 'model_megane', 'model_meriva', 'model_micra', 'model_mii', 'model_modus', 'model_mondeo', 'model_move', 'model_musa', 'model_mustang', 'model_mx_reihe', 'model_navara', 'model_niva', 'model_note', 'model_nubira', 'model_octavia', 'model_omega', 'model_one', 'model_other', 'model_outlander', 'model_pajero', 'model_panda', 'model_passat', 'model_phaeton', 'model_picanto', 'model_polo', 'model_primera', 'model_ptcruiser', 'model_punto', 'model_q3', 'model_q5', 'model_q7', 'model_qashqai', 'model_r19', 'model_range_rover', 'model_range_rover_evoque', 'model_range_rover_sport', 'model_rangerover', 'model_rav', 'model_rio', 'model_roadster', 'model_roomster', 'model_rx_reihe', 'model_s60', 'model_s_klasse', 'model_s_max', 'model_s_type', 'model_samara', 'model_sandero', 'model_santa', 'model_scenic', 'model_scirocco', 'model_seicento', 'model_serie_2', 'model_sharan', 'model_signum', 'model_sirion', 'model_sl', 'model_slk', 'model_sorento', 'model_spark', 'model_spider', 'model_sportage', 'model_sprinter', 'model_stilo', 'model_superb', 'model_swift', 'model_terios', 'model_tigra', 'model_tiguan', 'model_toledo', 'model_touareg', 'model_touran', 'model_transit', 'model_transporter', 'model_tt', 'model_tucson', 'model_twingo', 'model_up', 'model_v40', 'model_v50', 'model_v60', 'model_v70', 'model_v_klasse', 'model_vectra', 'model_verso', 'model_viano', 'model_vito', 'model_vivaro', 'model_voyager', 'model_wrangler', 'model_x_reihe', 'model_x_trail', 'model_x_type', 'model_xc_reihe', 'model_yaris', 'model_yeti', 'model_ypsilon', 'model_z_reihe', 'model_zafira', 'fuel_type_cng', 'fuel_type_electric', 'fuel_type_gasoline', 'fuel_type_hybrid', 'fuel_type_lpg', 'fuel_type_other', 'fuel_type_petrol', 'brand_alfa_romeo', 'brand_audi', 'brand_bmw', 'brand_chevrolet', 'brand_chrysler', 'brand_citroen', 'brand_dacia', 'brand_daewoo', 'brand_daihatsu', 'brand_fiat', 'brand_ford', 'brand_honda', 'brand_hyundai', 'brand_jaguar', 'brand_jeep', 'brand_kia', 'brand_lada', 'brand_lancia', 'brand_land_rover', 'brand_mazda', 'brand_mercedes_benz', 'brand_mini', 'brand_mitsubishi', 'brand_nissan', 'brand_opel', 'brand_peugeot', 'brand_porsche', 'brand_renault', 'brand_rover', 'brand_saab', 'brand_seat', 'brand_skoda', 'brand_smart', 'brand_sonstige_autos', 'brand_subaru', 'brand_suzuki', 'brand_toyota', 'brand_trabant', 'brand_volkswagen', 'brand_volvo', 'repaired_no', 'repaired_other', 'repaired_yes']\n"
          ]
        }
      ],
      "source": [
        "numeric =[]\n",
        "for column in features:\n",
        "    numeric.append(column)\n",
        "print(numeric)    "
      ]
    },
    {
      "cell_type": "code",
      "execution_count": null,
      "metadata": {
        "id": "1cPG-1IskDnH",
        "outputId": "cce4dd9a-378b-4e25-cea9-9f34334f5338"
      },
      "outputs": [
        {
          "name": "stderr",
          "output_type": "stream",
          "text": [
            "<timed exec>:3: SettingWithCopyWarning: \n",
            "A value is trying to be set on a copy of a slice from a DataFrame.\n",
            "Try using .loc[row_indexer,col_indexer] = value instead\n",
            "\n",
            "See the caveats in the documentation: https://pandas.pydata.org/pandas-docs/stable/user_guide/indexing.html#returning-a-view-versus-a-copy\n",
            "/opt/conda/lib/python3.9/site-packages/pandas/core/indexing.py:1738: SettingWithCopyWarning: \n",
            "A value is trying to be set on a copy of a slice from a DataFrame.\n",
            "Try using .loc[row_indexer,col_indexer] = value instead\n",
            "\n",
            "See the caveats in the documentation: https://pandas.pydata.org/pandas-docs/stable/user_guide/indexing.html#returning-a-view-versus-a-copy\n",
            "  self._setitem_single_column(loc, value[:, i].tolist(), pi)\n",
            "<timed exec>:4: SettingWithCopyWarning: \n",
            "A value is trying to be set on a copy of a slice from a DataFrame.\n",
            "Try using .loc[row_indexer,col_indexer] = value instead\n",
            "\n",
            "See the caveats in the documentation: https://pandas.pydata.org/pandas-docs/stable/user_guide/indexing.html#returning-a-view-versus-a-copy\n",
            "/opt/conda/lib/python3.9/site-packages/pandas/core/indexing.py:1738: SettingWithCopyWarning: \n",
            "A value is trying to be set on a copy of a slice from a DataFrame.\n",
            "Try using .loc[row_indexer,col_indexer] = value instead\n",
            "\n",
            "See the caveats in the documentation: https://pandas.pydata.org/pandas-docs/stable/user_guide/indexing.html#returning-a-view-versus-a-copy\n",
            "  self._setitem_single_column(loc, value[:, i].tolist(), pi)\n",
            "<timed exec>:5: SettingWithCopyWarning: \n",
            "A value is trying to be set on a copy of a slice from a DataFrame.\n",
            "Try using .loc[row_indexer,col_indexer] = value instead\n",
            "\n",
            "See the caveats in the documentation: https://pandas.pydata.org/pandas-docs/stable/user_guide/indexing.html#returning-a-view-versus-a-copy\n",
            "/opt/conda/lib/python3.9/site-packages/pandas/core/indexing.py:1738: SettingWithCopyWarning: \n",
            "A value is trying to be set on a copy of a slice from a DataFrame.\n",
            "Try using .loc[row_indexer,col_indexer] = value instead\n",
            "\n",
            "See the caveats in the documentation: https://pandas.pydata.org/pandas-docs/stable/user_guide/indexing.html#returning-a-view-versus-a-copy\n",
            "  self._setitem_single_column(loc, value[:, i].tolist(), pi)\n"
          ]
        },
        {
          "name": "stdout",
          "output_type": "stream",
          "text": [
            "        registration_year     power  kilometer  vehicle_type_bus  \\\n",
            "87754           -0.688672 -0.744338  -0.098564         -0.313329   \n",
            "180694           0.669237 -0.425190   0.587093         -0.313329   \n",
            "97784           -0.858411  0.005660   0.587093         -0.313329   \n",
            "8766             0.499498 -0.201787   0.587093         -0.313329   \n",
            "168414           1.178453  0.229063   0.587093         -0.313329   \n",
            "...                   ...       ...        ...               ...   \n",
            "158838          -3.743967 -0.265616   0.587093         -0.313329   \n",
            "47873           -1.197888  0.292893   0.587093          3.191530   \n",
            "86398            1.687669  0.771615  -2.155533         -0.313329   \n",
            "77285            0.160021  0.771615   0.587093         -0.313329   \n",
            "217570           1.008714 -0.026255  -1.332745         -0.313329   \n",
            "\n",
            "        vehicle_type_convertible  vehicle_type_coupe  vehicle_type_other  \\\n",
            "87754                  -0.257803           -0.224793           -0.208858   \n",
            "180694                 -0.257803           -0.224793           -0.208858   \n",
            "97784                  -0.257803           -0.224793           -0.208858   \n",
            "8766                   -0.257803           -0.224793           -0.208858   \n",
            "168414                 -0.257803           -0.224793           -0.208858   \n",
            "...                          ...                 ...                 ...   \n",
            "158838                 -0.257803           -0.224793           -0.208858   \n",
            "47873                  -0.257803           -0.224793           -0.208858   \n",
            "86398                  -0.257803           -0.224793           -0.208858   \n",
            "77285                  -0.257803            4.448532           -0.208858   \n",
            "217570                 -0.257803           -0.224793           -0.208858   \n",
            "\n",
            "        vehicle_type_sedan  vehicle_type_small  vehicle_type_suv  ...  \\\n",
            "87754            -0.625562            1.788781         -0.194725  ...   \n",
            "180694            1.598561           -0.559040         -0.194725  ...   \n",
            "97784             1.598561           -0.559040         -0.194725  ...   \n",
            "8766             -0.625562           -0.559040         -0.194725  ...   \n",
            "168414           -0.625562           -0.559040         -0.194725  ...   \n",
            "...                    ...                 ...               ...  ...   \n",
            "158838            1.598561           -0.559040         -0.194725  ...   \n",
            "47873            -0.625562           -0.559040         -0.194725  ...   \n",
            "86398            -0.625562           -0.559040         -0.194725  ...   \n",
            "77285            -0.625562           -0.559040         -0.194725  ...   \n",
            "217570           -0.625562           -0.559040         -0.194725  ...   \n",
            "\n",
            "        brand_sonstige_autos  brand_subaru  brand_suzuki  brand_toyota  \\\n",
            "87754              -0.069065     -0.047819     -0.083016     -0.117985   \n",
            "180694             -0.069065     -0.047819     -0.083016     -0.117985   \n",
            "97784              -0.069065     -0.047819     -0.083016     -0.117985   \n",
            "8766               -0.069065     -0.047819     -0.083016     -0.117985   \n",
            "168414             -0.069065     -0.047819     -0.083016     -0.117985   \n",
            "...                      ...           ...           ...           ...   \n",
            "158838             -0.069065     -0.047819     -0.083016     -0.117985   \n",
            "47873              -0.069065     -0.047819     -0.083016     -0.117985   \n",
            "86398              -0.069065     -0.047819     -0.083016     -0.117985   \n",
            "77285              -0.069065     -0.047819     -0.083016     -0.117985   \n",
            "217570             -0.069065     -0.047819     -0.083016     -0.117985   \n",
            "\n",
            "        brand_trabant  brand_volkswagen  brand_volvo  repaired_no  \\\n",
            "87754       -0.026083          1.902742    -0.098266     0.555639   \n",
            "180694      -0.026083         -0.525557    -0.098266     0.555639   \n",
            "97784       -0.026083         -0.525557    -0.098266     0.555639   \n",
            "8766        -0.026083         -0.525557    -0.098266     0.555639   \n",
            "168414      -0.026083         -0.525557    -0.098266     0.555639   \n",
            "...               ...               ...          ...          ...   \n",
            "158838      -0.026083         -0.525557    -0.098266    -1.799728   \n",
            "47873       -0.026083          1.902742    -0.098266    -1.799728   \n",
            "86398       -0.026083         -0.525557    -0.098266     0.555639   \n",
            "77285       -0.026083         -0.525557    -0.098266    -1.799728   \n",
            "217570      -0.026083         -0.525557    -0.098266     0.555639   \n",
            "\n",
            "        repaired_other  repaired_yes  \n",
            "87754        -0.401096     -0.328349  \n",
            "180694       -0.401096     -0.328349  \n",
            "97784        -0.401096     -0.328349  \n",
            "8766         -0.401096     -0.328349  \n",
            "168414       -0.401096     -0.328349  \n",
            "...                ...           ...  \n",
            "158838       -0.401096      3.045544  \n",
            "47873        -0.401096      3.045544  \n",
            "86398        -0.401096     -0.328349  \n",
            "77285        -0.401096      3.045544  \n",
            "217570       -0.401096     -0.328349  \n",
            "\n",
            "[173571 rows x 311 columns]\n",
            "CPU times: user 15 s, sys: 4.82 s, total: 19.8 s\n",
            "Wall time: 19.8 s\n"
          ]
        }
      ],
      "source": [
        "%%time\n",
        "scaler = StandardScaler()\n",
        "scaler.fit(features_train[numeric])\n",
        "features_train[numeric] = scaler.transform(features_train[numeric])\n",
        "features_valid[numeric]= scaler.transform(features_valid[numeric])\n",
        "features_test[numeric]= scaler.transform(features_test[numeric])\n",
        "pd.options.mode.chained_assignment = None\n",
        "print(features_train) \n"
      ]
    },
    {
      "cell_type": "code",
      "execution_count": null,
      "metadata": {
        "id": "19FWjxn-kDnI",
        "outputId": "f60bbd02-b3b1-453b-ea41-45efcdd01a0a"
      },
      "outputs": [
        {
          "name": "stdout",
          "output_type": "stream",
          "text": [
            "CPU times: user 17.8 s, sys: 14.8 s, total: 32.6 s\n",
            "Wall time: 32.6 s\n"
          ]
        },
        {
          "data": {
            "text/plain": [
              "LinearRegression(normalize=True)"
            ]
          },
          "execution_count": 54,
          "metadata": {},
          "output_type": "execute_result"
        }
      ],
      "source": [
        "%%time\n",
        "model = LinearRegression(normalize=True)\n",
        "model.fit(features_train,target_train) "
      ]
    },
    {
      "cell_type": "code",
      "execution_count": null,
      "metadata": {
        "id": "0htqdOcbkDnI",
        "outputId": "2400f472-3739-416f-969d-09e41f755aca"
      },
      "outputs": [
        {
          "name": "stdout",
          "output_type": "stream",
          "text": [
            "RMSE модели линейной регрессии на валидационной выборке: 2542.9446961718\n",
            "CPU times: user 82.2 ms, sys: 86.9 ms, total: 169 ms\n",
            "Wall time: 190 ms\n"
          ]
        }
      ],
      "source": [
        "%%time\n",
        "predictions_valid= model.predict(features_valid) \n",
        "result = mean_squared_error(target_valid, predictions_valid)**0.5\n",
        "print(\"RMSE модели линейной регрессии на валидационной выборке:\", result)"
      ]
    },
    {
      "cell_type": "code",
      "execution_count": null,
      "metadata": {
        "id": "m3PyJW26kDnK"
      },
      "outputs": [],
      "source": [
        "%%time\n",
        "best_mod = None\n",
        "best_res = 3000\n",
        "best_dep = 0\n",
        "for depth in range(2, 10, 2):\n",
        "    for est in range(5, 50, 5):\n",
        "        model = RandomForestRegressor(n_estimators=est, \n",
        "        max_depth=depth, random_state=12345) \n",
        "        print(model)\n",
        "        print('время обучения модели')\n",
        "        %timeit model.fit(features_train, target_train)\n",
        "        print('время предсказания')\n",
        "        %timeit model.predict(features_valid)\n",
        "        preditions_forest = model.predict(features_valid) \n",
        "        res_forest = mean_squared_error(target_valid, preditions_forest)**0.5\n",
        "        print(\"RMSE модели случайного леса на валидационной выборке:\", res_forest)\n",
        "        if res_forest < best_res:\n",
        "            best_mod = model\n",
        "            best_res = res_forest\n",
        "            best_deр = depth\n",
        "print('Cамая эффективная модель - best_mod',best_mod)\n",
        "print(\"RMSE наилучшей модели:\", best_res)"
      ]
    },
    {
      "cell_type": "markdown",
      "metadata": {
        "id": "xb-R7UW9kDnK"
      },
      "source": [
        "**но от добавления счетчиков внутри цикла общий Wall time стал 2h 25min 32s!!!!** "
      ]
    },
    {
      "cell_type": "markdown",
      "metadata": {
        "id": "VsLTviZxkDnL"
      },
      "source": [
        "**Результат** модель случайного леса с перебором гиперпараметров достигает необходимой метрики RMSE меньше 2500, best_mod RandomForestRegressor(max_depth=8, n_estimators=45, random_state=12345)\n",
        "RMSE наилучшей модели: 1997.83  Wall time: 15min 5s"
      ]
    },
    {
      "cell_type": "code",
      "execution_count": null,
      "metadata": {
        "id": "gbVOx_KjkDnL"
      },
      "outputs": [],
      "source": [
        "%%time\n",
        "\n",
        "best_model = None\n",
        "best_result = 3000\n",
        "best_depth = 0\n",
        "for depth in range(1, 50):\n",
        "    model = DecisionTreeRegressor(max_depth=depth, random_state=12345)\n",
        "    print(model)\n",
        "    %timeit model.fit(features_train, target_train)\n",
        "    print('время обучения модели')\n",
        "    %timeit model.predict(features_valid)\n",
        "    predictions_valid= model.predict(features_valid)\n",
        "    print('время предсказания')\n",
        "    result_tree = mean_squared_error(target_valid, predictions_valid)**0.5\n",
        "    print(\"RMSE модели дерева решений на валидационной выборке:\", result_tree)\n",
        "    if result_tree < best_result:\n",
        "            best_model = model\n",
        "            best_result = result_tree\n",
        "            best_deрth = depth\n",
        "print('Cамая эффективная модель - best_mod',best_model)\n",
        "print(\"RMSE наилучшей модели:\", best_result)"
      ]
    },
    {
      "cell_type": "markdown",
      "metadata": {
        "id": "P4uE3PYfkDnM"
      },
      "source": [
        "После добавления счетчиков Wall time всей ячейки стал  32min 51s "
      ]
    },
    {
      "cell_type": "markdown",
      "metadata": {
        "id": "o5u1Ps7ykDnM"
      },
      "source": [
        "**Результат** модель дерева решений с перебором гиперпараметров достигает необходимой метрики RMSE меньше 2500, best_mod DecisionTreeRegressor(max_depth=19, random_state=12345)\n",
        "RMSE наилучшей модели: 1805.46, Wall time: 3min 6s"
      ]
    },
    {
      "cell_type": "markdown",
      "metadata": {
        "id": "AXNzumKqkDnM"
      },
      "source": [
        "**Попробуем модели, которые могут работоть с датасетами содержащими категориальные переменные**"
      ]
    },
    {
      "cell_type": "code",
      "execution_count": null,
      "metadata": {
        "id": "kOzrsYaAkDnM",
        "outputId": "5a45fd19-cb40-428c-d48e-2ed16b7fa497"
      },
      "outputs": [
        {
          "name": "stdout",
          "output_type": "stream",
          "text": [
            "date_crawled\n",
            "рrice\n",
            "vehicle_type\n",
            "registration_year\n",
            "gearbox\n",
            "power\n",
            "model\n",
            "kilometer\n",
            "registration_month\n",
            "fuel_type\n",
            "brand\n",
            "repaired\n",
            "date_created\n",
            "number_of_pictures\n",
            "postal_code\n",
            "last_seen\n"
          ]
        }
      ],
      "source": [
        "for column in data_cat:\n",
        "    print(column)"
      ]
    },
    {
      "cell_type": "code",
      "execution_count": null,
      "metadata": {
        "id": "JwvtM7takDnN"
      },
      "outputs": [],
      "source": [
        "data_good_cat=data_cat.drop(['date_crawled','registration_month','date_created','number_of_pictures', 'postal_code', 'last_seen'], axis=1)"
      ]
    },
    {
      "cell_type": "code",
      "execution_count": null,
      "metadata": {
        "id": "mNJs4iw_kDnN",
        "outputId": "b165be32-29e0-422b-aa03-970e87084877"
      },
      "outputs": [
        {
          "name": "stdout",
          "output_type": "stream",
          "text": [
            "(294590, 10)\n",
            "<class 'pandas.core.frame.DataFrame'>\n",
            "RangeIndex: 294590 entries, 0 to 294589\n",
            "Data columns (total 10 columns):\n",
            " #   Column             Non-Null Count   Dtype \n",
            "---  ------             --------------   ----- \n",
            " 0   рrice              294590 non-null  int64 \n",
            " 1   vehicle_type       283571 non-null  object\n",
            " 2   registration_year  294590 non-null  int64 \n",
            " 3   gearbox            289285 non-null  object\n",
            " 4   power              294590 non-null  int64 \n",
            " 5   model              283812 non-null  object\n",
            " 6   kilometer          294590 non-null  int64 \n",
            " 7   fuel_type          279113 non-null  object\n",
            " 8   brand              294590 non-null  object\n",
            " 9   repaired           251970 non-null  object\n",
            "dtypes: int64(4), object(6)\n",
            "memory usage: 22.5+ MB\n",
            "None\n"
          ]
        }
      ],
      "source": [
        "print(data_good_cat.shape)\n",
        "print(data_good_cat.info())"
      ]
    },
    {
      "cell_type": "code",
      "execution_count": null,
      "metadata": {
        "id": "hjZJmWBgkDnN",
        "outputId": "f8ca8931-8a7b-42aa-8752-862ba01ac273"
      },
      "outputs": [
        {
          "name": "stdout",
          "output_type": "stream",
          "text": [
            "рrice                    0\n",
            "vehicle_type         11019\n",
            "registration_year        0\n",
            "gearbox               5305\n",
            "power                    0\n",
            "model                10778\n",
            "kilometer                0\n",
            "fuel_type            15477\n",
            "brand                    0\n",
            "repaired             42620\n",
            "dtype: int64\n"
          ]
        }
      ],
      "source": [
        "print(data_good_cat.isna().sum()) "
      ]
    },
    {
      "cell_type": "code",
      "execution_count": null,
      "metadata": {
        "id": "9mMP7MRykDnN",
        "outputId": "3dc83148-7dc9-4874-fbd7-be0601119879"
      },
      "outputs": [
        {
          "name": "stdout",
          "output_type": "stream",
          "text": [
            "['coupe' 'suv' 'small' 'sedan' 'convertible' 'bus' 'wagon' 'other']\n"
          ]
        }
      ],
      "source": [
        "data_good_cat['vehicle_type']= data_good_cat['vehicle_type'].fillna('other')\n",
        "print(data_good_cat['vehicle_type'].unique())"
      ]
    },
    {
      "cell_type": "code",
      "execution_count": null,
      "metadata": {
        "id": "EsLWVDEDkDnO",
        "outputId": "4c3b1509-f5f7-4786-b084-1f19c41a50e5"
      },
      "outputs": [
        {
          "name": "stdout",
          "output_type": "stream",
          "text": [
            "['manual' 'auto' nan]\n",
            "['manual' 'auto' 'other']\n"
          ]
        }
      ],
      "source": [
        "print(data_good_cat['gearbox'].unique())\n",
        "data_good_cat['gearbox']= data_good_cat['gearbox'].fillna('other')\n",
        "print(data_good_cat['gearbox'].unique())"
      ]
    },
    {
      "cell_type": "code",
      "execution_count": null,
      "metadata": {
        "id": "0e4LlGivkDnO",
        "outputId": "a9fb34c8-7063-4b17-e535-515610159c13"
      },
      "outputs": [
        {
          "name": "stdout",
          "output_type": "stream",
          "text": [
            "['other' 'grand' 'golf' 'fabia' '3er' '2_reihe' 'c_max' '3_reihe' 'passat'\n",
            " 'navara' 'polo' 'twingo' 'a_klasse' 'scirocco' '5er' 'arosa' 'civic'\n",
            " 'transporter' 'punto' 'e_klasse' 'clio' 'kadett' 'one' 'fortwo' '1er'\n",
            " 'b_klasse' 'a8' 'jetta' 'fiesta' 'c_klasse' 'micra' 'vito' 'sprinter'\n",
            " 'astra' '156' 'escort' 'forester' 'xc_reihe' 'scenic' 'ka' 'a1' 'focus'\n",
            " 'a4' 'tt' 'a6' 'jazz' 'omega' 'slk' '7er' 'combo' 'corsa' '80' '147'\n",
            " 'z_reihe' 'sorento' 'ibiza' 'mustang' 'eos' 'touran' 'getz' 'insignia'\n",
            " 'almera' 'megane' 'a3' 'lupo' 'r19' 'caddy' 'mondeo' 'cordoba' 'colt'\n",
            " 'impreza' 'vectra' 'berlingo' 'tiguan' '6_reihe' 'c4' 'panda' 'up'\n",
            " 'i_reihe' 'ceed' 'kangoo' '5_reihe' 'yeti' 'octavia' 'zafira' 'mii'\n",
            " 'rx_reihe' '6er' 'modus' 'fox' 'matiz' 'beetle' 'rio' 'touareg' 'logan'\n",
            " 'spider' 'cuore' 's_max' 'a2' 'galaxy' 'c3' 'viano' 's_klasse' '1_reihe'\n",
            " 'sharan' 'avensis' 'roomster' 'sl' 'santa' 'leon' 'cooper' '4_reihe' 'a5'\n",
            " 'sportage' 'laguna' 'ptcruiser' 'clk' 'primera' 'espace' 'exeo' '159'\n",
            " 'transit' 'juke' 'x_reihe' 'v40' 'carisma' 'accord' 'corolla' 'lanos'\n",
            " 'phaeton' 'verso' 'swift' 'rav' 'qashqai' 'picanto' 'boxster' 'superb'\n",
            " 'stilo' 'alhambra' 'mx_reihe' 'roadster' 'ypsilon' 'galant' 'justy' '90'\n",
            " 'sirion' 'signum' 'crossfire' 'agila' 'duster' 'v50' 'meriva' 'c_reihe'\n",
            " 'v_klasse' 'm_klasse' 'yaris' 'c5' 'aygo' 'seicento' 'cc' 'carnival'\n",
            " 'fusion' '911' 'bora' 'forfour' 'cl' 'tigra' '300c' '500' '100'\n",
            " 'cr_reihe' 'spark' 'kuga' 'x_type' 'ducato' 's_type' 'x_trail' 'toledo'\n",
            " 'altea' 'voyager' 'calibra' 'v70' 'bravo' 'tucson' 'c1' 'citigo' 'jimny'\n",
            " 'cayenne' 'wrangler' 'lybra' 'lancer' 'captiva' 'discovery' 'freelander'\n",
            " 'sandero' 'q7' 'note' 'antara' '900' 'cherokee' 'kaefer' 'clubman'\n",
            " 'defender' 'cx_reihe' 'legacy' 'pajero' 'auris' 'c2' 'niva' 's60'\n",
            " 'm_reihe' 'nubira' 'vivaro' 'g_klasse' 'lodgy' 'range_rover' '601' '850'\n",
            " 'q3' 'serie_2' 'glk' 'charade' 'croma' 'outlander' 'doblo' 'musa' '9000'\n",
            " 'kalos' 'v60' '200' '145' 'b_max' 'range_rover_sport' 'aveo' 'move'\n",
            " 'rangerover' 'q5' 'range_rover_evoque' 'materia' 'delta' 'terios' 'gl'\n",
            " 'kalina' 'elefantino' 'i3' 'samara' 'amarok' 'kappa']\n"
          ]
        }
      ],
      "source": [
        "data_good_cat['model']= data_good_cat['model'].fillna('other')\n",
        "print(data_good_cat['model'].unique())"
      ]
    },
    {
      "cell_type": "code",
      "execution_count": null,
      "metadata": {
        "id": "ekeOcP06kDnO"
      },
      "outputs": [],
      "source": [
        "data_good_cat['fuel_type']= data_good_cat['fuel_type'].fillna('other')\n",
        "print(data_good_cat['fuel_type'].unique())"
      ]
    },
    {
      "cell_type": "code",
      "execution_count": null,
      "metadata": {
        "id": "CD1MfEjSkDnO"
      },
      "outputs": [],
      "source": [
        "data_good_cat['repaired']= data_good_cat['repaired'].fillna('other')\n",
        "print(data_good_cat['repaired'].unique())"
      ]
    },
    {
      "cell_type": "code",
      "execution_count": null,
      "metadata": {
        "id": "QRRCDJZykDnP"
      },
      "outputs": [],
      "source": [
        "print(data_good_cat.isna().sum()) "
      ]
    },
    {
      "cell_type": "code",
      "execution_count": null,
      "metadata": {
        "id": "2yDOvyIUkDnP"
      },
      "outputs": [],
      "source": [
        "features_train_cat, features_valid_test_cat, target_train_cat, target_valid_test_cat = train_test_split(\n",
        "    data_good_cat.drop('рrice',axis=1), data_good_cat.рrice, test_size=0.40, random_state=12345)\n",
        "features_valid_cat, features_test_cat, target_valid_cat, target_test_cat = train_test_split(\n",
        "    features_valid_test_cat, target_valid_test_cat, test_size=0.50, random_state=12345)\n",
        "print('features_train_cat shape:', features_train_cat.shape)\n",
        "print('features_valid_cat shape:', features_valid_cat.shape)\n",
        "print('features_test_cat shape:', features_test_cat.shape)\n",
        "print('target_train_cat shape:', target_train_cat.shape)\n",
        "print('target_valid_cat shape:', target_valid_cat.shape)\n",
        "print('target_test_cat shape:', target_test_cat.shape)\n"
      ]
    },
    {
      "cell_type": "code",
      "execution_count": null,
      "metadata": {
        "id": "0OB407fakDnQ"
      },
      "outputs": [],
      "source": [
        "%%time\n",
        "\n",
        "cat_features = ['vehicle_type', 'gearbox',\n",
        "                'model', 'kilometer','fuel_type', 'brand', 'repaired']\n",
        "\n",
        "model = CatBoostRegressor(loss_function=\"RMSE\", iterations=150) \n",
        "\n",
        "model.fit(features_train_cat, target_train_cat, cat_features=cat_features)\n",
        "print('время обучения модели')\n"
      ]
    },
    {
      "cell_type": "code",
      "execution_count": null,
      "metadata": {
        "id": "CMQTpZA_kDnQ"
      },
      "outputs": [],
      "source": [
        "%%time\n",
        "pred_valid = model.predict(features_valid_cat)\n",
        "print('время предсказания')\n",
        "result_cat = mean_squared_error(target_valid_cat, pred_valid)**0.5\n",
        "print(\"RMSE cat на валидационной выборке:\", result_cat)"
      ]
    },
    {
      "cell_type": "markdown",
      "metadata": {
        "id": "dBRFQFH6kDnR"
      },
      "source": [
        "**Результат** модель CatBoost достигает необходимой метрики RMSE меньше 2500, RMSE на валидационной выборке: 1614.37 Wall time обучения 13.2 s предсказания 99 ms"
      ]
    },
    {
      "cell_type": "code",
      "execution_count": null,
      "metadata": {
        "id": "jF5UO85YkDnR"
      },
      "outputs": [],
      "source": [
        "%%time\n",
        "\n",
        "cat_features = ['vehicle_type', 'gearbox',\n",
        "                'model', 'fuel_type', 'brand', 'repaired']\n",
        "\n",
        "model = CatBoostRegressor(loss_function=\"RMSE\", iterations=150) \n",
        "\n",
        "model.fit(features_train_cat, target_train_cat, cat_features=cat_features)\n",
        "print('время обучения модели')\n"
      ]
    },
    {
      "cell_type": "code",
      "execution_count": null,
      "metadata": {
        "id": "y4TmgWLekDnS"
      },
      "outputs": [],
      "source": [
        "%%time\n",
        "pred_valid = model.predict(features_valid_cat) \n",
        "print('время предсказания')\n",
        "result_cat2 = mean_squared_error(target_valid_cat, pred_valid)**0.5\n",
        "print(\"RMSE cat на валидационной выборке:\", result_cat2)"
      ]
    },
    {
      "cell_type": "markdown",
      "metadata": {
        "id": "zOsZW1CskDnS"
      },
      "source": [
        "Результат модель CatBoost достигает необходимой метрики RMSE меньше 2500, RMSE на валидационной выборке: 1610.28 Wall time обучения 11.6 s предсказания 75.1 ms"
      ]
    },
    {
      "cell_type": "markdown",
      "metadata": {
        "id": "hEdKNfkbkDnS"
      },
      "source": [
        "Второй вариант удачнее по метрике и по времени"
      ]
    },
    {
      "cell_type": "code",
      "execution_count": null,
      "metadata": {
        "scrolled": true,
        "id": "4eJWkGnUkDnX"
      },
      "outputs": [],
      "source": [
        "data_light= data_good_cat.copy()\n",
        "print(data_light.shape)\n",
        "print(data_light.info())"
      ]
    },
    {
      "cell_type": "markdown",
      "metadata": {
        "id": "MWMmu4l2kDnX"
      },
      "source": [
        "Для работы с LGBMRegressor требуется преобразовать формат столбцов object в  category"
      ]
    },
    {
      "cell_type": "code",
      "execution_count": null,
      "metadata": {
        "id": "aVmoK22nkDnY"
      },
      "outputs": [],
      "source": [
        "cols_to_change =['vehicle_type', 'gearbox', 'model', 'fuel_type', 'brand', 'repaired']\n",
        "for col in cols_to_change:\n",
        "    data_light[col] = data_light[col].astype('category')\n",
        "\n",
        "print(data_light.shape)\n",
        "print(data_light.info())\n"
      ]
    },
    {
      "cell_type": "code",
      "execution_count": null,
      "metadata": {
        "id": "IgsY6yG0kDnY"
      },
      "outputs": [],
      "source": [
        "features_train_light, features_valid_test_light, target_train_light, target_valid_test_light = train_test_split(\n",
        "    data_light.drop('рrice',axis=1), data_light.рrice, test_size=0.40, random_state=12345)\n",
        "features_valid_light, features_test_light, target_valid_light, target_test_light = train_test_split(\n",
        "    features_valid_test_light, target_valid_test_light, test_size=0.50, random_state=12345)\n",
        "print('features_train_light shape:', features_train_light.shape)\n",
        "print('features_valid_light shape:', features_valid_light.shape)\n",
        "print('features_test_light shape:', features_test_light.shape)\n",
        "print('target_train_light shape:', target_train_light.shape)\n",
        "print('target_valid_light shape:', target_valid_light.shape)\n",
        "print('target_test_light shape:', target_test_light.shape)"
      ]
    },
    {
      "cell_type": "code",
      "execution_count": null,
      "metadata": {
        "id": "RiNhOSigkDnY"
      },
      "outputs": [],
      "source": [
        "%%time\n",
        "model = ltb.LGBMRegressor()\n",
        "model.fit(features_train_light, target_train_light)\n",
        "print('время обучения модели')\n",
        "print(model)\n",
        "expected_y  = target_valid_light\n"
      ]
    },
    {
      "cell_type": "code",
      "execution_count": null,
      "metadata": {
        "id": "lhnHjQm6kDnZ"
      },
      "outputs": [],
      "source": [
        "%%time\n",
        "predicted_y = model.predict(features_valid_light)\n",
        "print('время предсказания')\n",
        "result_ltb = mean_squared_error(expected_y, predicted_y)**0.5\n",
        "print(\"RMSE ltb.LGBMRegressor на валидационной выборке:\", result_ltb)\n"
      ]
    },
    {
      "cell_type": "markdown",
      "metadata": {
        "id": "_gAMdkVhkDnZ"
      },
      "source": [
        "**Результат** модель LGBMRegressor достигает необходимой метрики RMSE меньше 2500, RMSE на валидационной выборке: 1537.84 Wall time обучения 41.7 s, предсказания 705 ms"
      ]
    },
    {
      "cell_type": "markdown",
      "metadata": {
        "id": "7nuQ5M40kDnZ"
      },
      "source": [
        "## Анализ моделей"
      ]
    },
    {
      "cell_type": "code",
      "execution_count": null,
      "metadata": {
        "id": "844i_QMKkDnZ"
      },
      "outputs": [],
      "source": [
        "\n",
        "print('модель случайный лес с перебором гиперпараметров')\n",
        "print('Cамая эффективная модель - best_mod',best_mod)\n",
        "print(\"RMSE наилучшей модели:\", best_res)\n",
        "print ('Wall time: 15min 5s (без счетчиков внутри цикла)')\n",
        "print()\n",
        "print()\n",
        "print('модель дерево решений с перебором гиперпараметров')\n",
        "print('Cамая эффективная модель - best_mod',best_model)\n",
        "print(\"RMSE наилучшей модели:\", best_result)\n",
        "print ('Wall time: 3min 6s (без счетчиков внутри цикла)')\n",
        "print()\n",
        "print()\n",
        "print('модель CatBoostRegressor вариант 1')\n",
        "print(result_cat)\n",
        "print ('Wall time обучения 13.2 s предсказания 99 ms')\n",
        "print()\n",
        "print()\n",
        "print('модель CatBoostRegressor вариант 2')\n",
        "print(result_cat2)\n",
        "print ('Wall time обучения 11.6 s предсказания 75.1 ms ')\n",
        "print()\n",
        "print()\n",
        "print('модель LGBMRegressor')\n",
        "print(result_ltb)\n",
        "print ('Wall time: Wall time обучения 41.7 s, предсказания 705 ms')"
      ]
    },
    {
      "cell_type": "markdown",
      "metadata": {
        "id": "W_6teK4YkDna"
      },
      "source": [
        "По результатам обучения 4 модели достигают необходимой метрики RMSE меньше 2500\n",
        "- **Работающие только с числовыми данными:**\n",
        "- модель случайного леса с перебором гиперпараметров, самый эффективный вариант best_mod RandomForestRegressor(max_depth=8, n_estimators=45, random_state=12345)\n",
        "RMSE наилучшей модели: 1997.83\n",
        "Wall time: 15min 5s\n",
        "- модель дерева решений с перебором гиперпараметров, самый эффективный вариант best_mod DecisionTreeRegressor(max_depth=19, random_state=12345)\n",
        "RMSE наилучшей модели: 1805.46\n",
        "Wall time: 3min 6s\n",
        "- **Работающие непосредственно с категориальными данными:**\n",
        "- модель CatBoost достигает необходимой метрики, RMSE 1610.2868196166744\n",
        "Wall time обучения 11.6 s предсказания 75.1 ms\n",
        "- модель LGBMRegressor достигает необходимой метрики, RMSE на валидационной выборке: 1571.977953169544\n",
        "Wall time: Wall time обучения 41.7 s, предсказания 705 ms"
      ]
    },
    {
      "cell_type": "markdown",
      "metadata": {
        "id": "nICFZY3jkDna"
      },
      "source": [
        "**По условиям задания** \n",
        "Заказчику важны:\n",
        "\n",
        "- качество предсказания;\n",
        "- скорость предсказания;\n",
        "- время обучения.\n",
        "\n",
        "По этим критериям эффективнее оказались модели работающие непосредственно с категориальными переменными:\n",
        "- качество предсказания: LGBMRegressor;\n",
        "- скорость предсказания: CatBoostRegressor;\n",
        "- время обучения: CatBoostRegressor.  "
      ]
    },
    {
      "cell_type": "markdown",
      "metadata": {
        "id": "VVa4kK_6kDna"
      },
      "source": [
        "По сумме критериев выбираю CatBoostRegressor - скорость существенно выше, при это метрики незначительно уступают LGBMRegressor "
      ]
    },
    {
      "cell_type": "markdown",
      "metadata": {
        "id": "9ho1O5DckDna"
      },
      "source": [
        "Попробуем на тестовой выборке выбранную модель. Поскольку все эти модели работают с разными модификациями датасета, вызовем их справочно на печать."
      ]
    },
    {
      "cell_type": "code",
      "execution_count": null,
      "metadata": {
        "id": "s9UJRtjJkDnb"
      },
      "outputs": [],
      "source": [
        "print('features_train_cat shape:', features_train_cat.shape)\n",
        "print('features_valid_cat shape:', features_valid_cat.shape)\n",
        "print('features_test_cat shape:', features_test_cat.shape)\n",
        "print('target_train_cat shape:', target_train_cat.shape)\n",
        "print('target_valid_cat shape:', target_valid_cat.shape)\n",
        "print('target_test_cat shape:', target_test_cat.shape)\n"
      ]
    },
    {
      "cell_type": "code",
      "execution_count": null,
      "metadata": {
        "id": "XIkJlGmtkDnb"
      },
      "outputs": [],
      "source": [
        "%%time\n",
        "\n",
        "cat_features = ['vehicle_type', 'gearbox',\n",
        "               'model', 'fuel_type', 'brand', 'repaired']\n",
        "\n",
        "model = CatBoostRegressor(loss_function=\"RMSE\", iterations=150) \n",
        "\n",
        "model.fit(features_train_cat, target_train_cat, cat_features=cat_features)\n",
        "print('время обучения модели')\n"
      ]
    },
    {
      "cell_type": "code",
      "execution_count": null,
      "metadata": {
        "id": "eyTTu9TfkDnb"
      },
      "outputs": [],
      "source": [
        "%%time\n",
        "pred_test = model.predict(features_test_cat)\n",
        "print('время предсказания')\n",
        "result_cat_test = mean_squared_error(target_test_cat, pred_test)**0.5\n",
        "print(\"RMSE cat на тестовой выборке:\", result_cat_test)"
      ]
    },
    {
      "cell_type": "markdown",
      "metadata": {
        "id": "kTk6KlIBkDnb"
      },
      "source": [
        "**Результат** модель CatBoostRegressor достигает необходимой метрики RMSE меньше 2500, RMSE на тестовой выборке: 1609.32, Wall time обучения 10.9 s предсказания 88.9 ms"
      ]
    },
    {
      "cell_type": "markdown",
      "metadata": {
        "id": "LWC6my-AkDnc"
      },
      "source": [
        "**Общие выводы** из рассмотренных моделей для предсказания цены автомобиля оказалась самой удобной и эффективной модель CatBoostRegressor\n",
        "- качество предсказания - существенно лучше критериев менее 2500;\n",
        "- скорость предсказания - минимальная;\n",
        "- время обучения - минимальное;\n",
        "- также эта модель удобна с точки зрения сокращения времени предобработки данных."
      ]
    }
  ],
  "metadata": {
    "ExecuteTimeLog": [
      {
        "duration": 780,
        "start_time": "2023-01-18T15:08:29.529Z"
      },
      {
        "duration": 1325,
        "start_time": "2023-01-18T15:10:06.951Z"
      },
      {
        "duration": 467,
        "start_time": "2023-01-18T15:15:32.911Z"
      },
      {
        "duration": 3,
        "start_time": "2023-01-18T15:22:49.302Z"
      },
      {
        "duration": 575,
        "start_time": "2023-01-18T15:29:15.290Z"
      },
      {
        "duration": 581,
        "start_time": "2023-01-18T15:30:31.096Z"
      },
      {
        "duration": 78,
        "start_time": "2023-01-18T15:32:08.938Z"
      },
      {
        "duration": 33,
        "start_time": "2023-01-18T15:48:16.266Z"
      },
      {
        "duration": 34,
        "start_time": "2023-01-18T15:49:35.442Z"
      },
      {
        "duration": 34,
        "start_time": "2023-01-18T15:50:33.627Z"
      },
      {
        "duration": 675,
        "start_time": "2023-01-18T15:51:14.725Z"
      },
      {
        "duration": 976,
        "start_time": "2023-01-18T15:51:15.402Z"
      },
      {
        "duration": 5,
        "start_time": "2023-01-18T15:51:16.380Z"
      },
      {
        "duration": 85,
        "start_time": "2023-01-18T15:51:16.387Z"
      },
      {
        "duration": 465,
        "start_time": "2023-01-18T15:51:16.475Z"
      },
      {
        "duration": 581,
        "start_time": "2023-01-18T15:51:16.941Z"
      },
      {
        "duration": 778,
        "start_time": "2023-01-19T08:46:44.435Z"
      },
      {
        "duration": 2954,
        "start_time": "2023-01-19T08:46:45.215Z"
      },
      {
        "duration": 3,
        "start_time": "2023-01-19T08:46:48.171Z"
      },
      {
        "duration": 82,
        "start_time": "2023-01-19T08:46:48.176Z"
      },
      {
        "duration": 414,
        "start_time": "2023-01-19T08:46:48.260Z"
      },
      {
        "duration": 518,
        "start_time": "2023-01-19T08:46:48.676Z"
      },
      {
        "duration": 387,
        "start_time": "2023-01-19T08:46:49.195Z"
      },
      {
        "duration": 12,
        "start_time": "2023-01-19T08:51:03.681Z"
      },
      {
        "duration": 637,
        "start_time": "2023-01-19T08:52:00.292Z"
      },
      {
        "duration": 87,
        "start_time": "2023-01-19T08:55:44.146Z"
      },
      {
        "duration": 11,
        "start_time": "2023-01-19T08:55:54.571Z"
      },
      {
        "duration": 279,
        "start_time": "2023-01-19T09:21:50.646Z"
      },
      {
        "duration": 301,
        "start_time": "2023-01-19T09:22:48.595Z"
      },
      {
        "duration": 583,
        "start_time": "2023-01-19T09:23:09.845Z"
      },
      {
        "duration": 922,
        "start_time": "2023-01-19T09:23:10.430Z"
      },
      {
        "duration": 4,
        "start_time": "2023-01-19T09:23:11.357Z"
      },
      {
        "duration": 184,
        "start_time": "2023-01-19T09:23:11.362Z"
      },
      {
        "duration": 438,
        "start_time": "2023-01-19T09:23:11.548Z"
      },
      {
        "duration": 644,
        "start_time": "2023-01-19T09:23:11.992Z"
      },
      {
        "duration": 346,
        "start_time": "2023-01-19T09:23:12.638Z"
      },
      {
        "duration": 13,
        "start_time": "2023-01-19T09:23:12.986Z"
      },
      {
        "duration": 292,
        "start_time": "2023-01-19T09:23:13.001Z"
      },
      {
        "duration": 281,
        "start_time": "2023-01-19T09:25:20.628Z"
      },
      {
        "duration": 12,
        "start_time": "2023-01-19T09:26:30.379Z"
      },
      {
        "duration": 13,
        "start_time": "2023-01-19T09:27:24.221Z"
      },
      {
        "duration": 15,
        "start_time": "2023-01-19T09:28:06.397Z"
      },
      {
        "duration": 326,
        "start_time": "2023-01-19T09:28:39.631Z"
      },
      {
        "duration": 15,
        "start_time": "2023-01-19T09:31:24.794Z"
      },
      {
        "duration": 18,
        "start_time": "2023-01-19T09:31:46.445Z"
      },
      {
        "duration": 934,
        "start_time": "2023-01-20T09:14:57.362Z"
      },
      {
        "duration": 1361,
        "start_time": "2023-01-20T09:14:58.298Z"
      },
      {
        "duration": 3,
        "start_time": "2023-01-20T09:14:59.661Z"
      },
      {
        "duration": 100,
        "start_time": "2023-01-20T09:14:59.666Z"
      },
      {
        "duration": 489,
        "start_time": "2023-01-20T09:14:59.768Z"
      },
      {
        "duration": 720,
        "start_time": "2023-01-20T09:15:00.258Z"
      },
      {
        "duration": 394,
        "start_time": "2023-01-20T09:15:00.979Z"
      },
      {
        "duration": 13,
        "start_time": "2023-01-20T09:15:01.375Z"
      },
      {
        "duration": 338,
        "start_time": "2023-01-20T09:15:01.390Z"
      },
      {
        "duration": 72,
        "start_time": "2023-01-20T09:16:51.453Z"
      },
      {
        "duration": 67,
        "start_time": "2023-01-20T09:18:10.935Z"
      },
      {
        "duration": 64,
        "start_time": "2023-01-20T09:18:45.404Z"
      },
      {
        "duration": 121,
        "start_time": "2023-01-20T09:21:08.484Z"
      },
      {
        "duration": 184,
        "start_time": "2023-01-20T09:21:25.070Z"
      },
      {
        "duration": 226,
        "start_time": "2023-01-20T09:26:37.160Z"
      },
      {
        "duration": 50,
        "start_time": "2023-01-20T09:26:50.383Z"
      },
      {
        "duration": 191,
        "start_time": "2023-01-20T09:26:59.263Z"
      },
      {
        "duration": 266,
        "start_time": "2023-01-20T09:34:42.939Z"
      },
      {
        "duration": 83,
        "start_time": "2023-01-20T09:38:24.653Z"
      },
      {
        "duration": 644,
        "start_time": "2023-01-20T11:14:50.915Z"
      },
      {
        "duration": 1078,
        "start_time": "2023-01-20T11:14:51.561Z"
      },
      {
        "duration": 4,
        "start_time": "2023-01-20T11:14:52.641Z"
      },
      {
        "duration": 73,
        "start_time": "2023-01-20T11:14:52.653Z"
      },
      {
        "duration": 513,
        "start_time": "2023-01-20T11:14:52.728Z"
      },
      {
        "duration": 728,
        "start_time": "2023-01-20T11:14:53.243Z"
      },
      {
        "duration": 408,
        "start_time": "2023-01-20T11:14:53.973Z"
      },
      {
        "duration": 14,
        "start_time": "2023-01-20T11:14:54.383Z"
      },
      {
        "duration": 324,
        "start_time": "2023-01-20T11:14:54.399Z"
      },
      {
        "duration": 272,
        "start_time": "2023-01-20T11:14:54.725Z"
      },
      {
        "duration": 69,
        "start_time": "2023-01-20T11:14:54.999Z"
      },
      {
        "duration": 640,
        "start_time": "2023-01-20T12:53:01.315Z"
      },
      {
        "duration": 1042,
        "start_time": "2023-01-20T12:53:01.958Z"
      },
      {
        "duration": 4,
        "start_time": "2023-01-20T12:53:03.001Z"
      },
      {
        "duration": 88,
        "start_time": "2023-01-20T12:53:03.008Z"
      },
      {
        "duration": 476,
        "start_time": "2023-01-20T12:53:03.098Z"
      },
      {
        "duration": 650,
        "start_time": "2023-01-20T12:53:03.576Z"
      },
      {
        "duration": 358,
        "start_time": "2023-01-20T12:53:04.227Z"
      },
      {
        "duration": 16,
        "start_time": "2023-01-20T12:53:04.586Z"
      },
      {
        "duration": 324,
        "start_time": "2023-01-20T12:53:04.604Z"
      },
      {
        "duration": 252,
        "start_time": "2023-01-20T12:53:04.931Z"
      },
      {
        "duration": 50,
        "start_time": "2023-01-20T12:53:05.184Z"
      },
      {
        "duration": 42,
        "start_time": "2023-01-20T12:59:07.176Z"
      },
      {
        "duration": 90,
        "start_time": "2023-01-20T13:04:18.002Z"
      },
      {
        "duration": 105,
        "start_time": "2023-01-20T13:05:29.148Z"
      },
      {
        "duration": 135,
        "start_time": "2023-01-20T13:06:23.611Z"
      },
      {
        "duration": 13,
        "start_time": "2023-01-20T13:08:28.925Z"
      },
      {
        "duration": 12,
        "start_time": "2023-01-20T13:08:51.167Z"
      },
      {
        "duration": 1248,
        "start_time": "2023-01-20T13:10:38.752Z"
      },
      {
        "duration": 613,
        "start_time": "2023-01-20T13:11:11.475Z"
      },
      {
        "duration": 1056,
        "start_time": "2023-01-20T13:11:12.090Z"
      },
      {
        "duration": 8,
        "start_time": "2023-01-20T13:11:13.148Z"
      },
      {
        "duration": 101,
        "start_time": "2023-01-20T13:11:13.157Z"
      },
      {
        "duration": 493,
        "start_time": "2023-01-20T13:11:13.260Z"
      },
      {
        "duration": 699,
        "start_time": "2023-01-20T13:11:13.755Z"
      },
      {
        "duration": 378,
        "start_time": "2023-01-20T13:11:14.456Z"
      },
      {
        "duration": 20,
        "start_time": "2023-01-20T13:11:14.836Z"
      },
      {
        "duration": 298,
        "start_time": "2023-01-20T13:11:14.857Z"
      },
      {
        "duration": 250,
        "start_time": "2023-01-20T13:11:15.158Z"
      },
      {
        "duration": 57,
        "start_time": "2023-01-20T13:11:15.410Z"
      },
      {
        "duration": 42,
        "start_time": "2023-01-20T13:11:15.469Z"
      },
      {
        "duration": 119,
        "start_time": "2023-01-20T13:12:35.808Z"
      },
      {
        "duration": 8,
        "start_time": "2023-01-20T13:15:27.679Z"
      },
      {
        "duration": 10,
        "start_time": "2023-01-20T13:16:58.206Z"
      },
      {
        "duration": 300,
        "start_time": "2023-01-20T13:21:22.270Z"
      },
      {
        "duration": 395,
        "start_time": "2023-01-20T13:21:58.065Z"
      },
      {
        "duration": 373,
        "start_time": "2023-01-20T13:22:23.896Z"
      },
      {
        "duration": 11,
        "start_time": "2023-01-20T13:24:19.098Z"
      },
      {
        "duration": 276,
        "start_time": "2023-01-20T13:24:50.945Z"
      },
      {
        "duration": 366,
        "start_time": "2023-01-20T13:38:31.871Z"
      },
      {
        "duration": 245,
        "start_time": "2023-01-20T13:41:36.897Z"
      },
      {
        "duration": 389,
        "start_time": "2023-01-20T13:42:39.618Z"
      },
      {
        "duration": 62,
        "start_time": "2023-01-20T13:51:02.946Z"
      },
      {
        "duration": 5,
        "start_time": "2023-01-20T15:07:35.165Z"
      },
      {
        "duration": 172,
        "start_time": "2023-01-20T15:08:03.762Z"
      },
      {
        "duration": 251,
        "start_time": "2023-01-20T15:13:46.782Z"
      },
      {
        "duration": 270,
        "start_time": "2023-01-20T15:14:10.484Z"
      },
      {
        "duration": 6,
        "start_time": "2023-01-20T15:18:01.141Z"
      },
      {
        "duration": 82,
        "start_time": "2023-01-20T15:18:20.204Z"
      },
      {
        "duration": 143,
        "start_time": "2023-01-20T15:24:59.470Z"
      },
      {
        "duration": 18,
        "start_time": "2023-01-20T15:30:48.458Z"
      },
      {
        "duration": 73,
        "start_time": "2023-01-20T15:33:33.655Z"
      },
      {
        "duration": 20,
        "start_time": "2023-01-20T15:35:10.564Z"
      },
      {
        "duration": 437,
        "start_time": "2023-01-20T15:47:40.213Z"
      },
      {
        "duration": 67,
        "start_time": "2023-01-20T15:57:33.769Z"
      },
      {
        "duration": 595,
        "start_time": "2023-01-20T17:08:38.114Z"
      },
      {
        "duration": 1066,
        "start_time": "2023-01-20T17:08:38.711Z"
      },
      {
        "duration": 4,
        "start_time": "2023-01-20T17:08:39.779Z"
      },
      {
        "duration": 82,
        "start_time": "2023-01-20T17:08:39.785Z"
      },
      {
        "duration": 470,
        "start_time": "2023-01-20T17:08:39.868Z"
      },
      {
        "duration": 682,
        "start_time": "2023-01-20T17:08:40.340Z"
      },
      {
        "duration": 391,
        "start_time": "2023-01-20T17:08:41.024Z"
      },
      {
        "duration": 13,
        "start_time": "2023-01-20T17:08:41.417Z"
      },
      {
        "duration": 324,
        "start_time": "2023-01-20T17:08:41.431Z"
      },
      {
        "duration": 248,
        "start_time": "2023-01-20T17:08:41.759Z"
      },
      {
        "duration": 56,
        "start_time": "2023-01-20T17:08:42.008Z"
      },
      {
        "duration": 48,
        "start_time": "2023-01-20T17:08:42.066Z"
      },
      {
        "duration": 134,
        "start_time": "2023-01-20T17:08:42.115Z"
      },
      {
        "duration": 12,
        "start_time": "2023-01-20T17:08:42.253Z"
      },
      {
        "duration": 287,
        "start_time": "2023-01-20T17:08:42.266Z"
      },
      {
        "duration": 334,
        "start_time": "2023-01-20T17:08:42.554Z"
      },
      {
        "duration": 196,
        "start_time": "2023-01-20T17:08:42.890Z"
      },
      {
        "duration": 333,
        "start_time": "2023-01-20T17:08:43.088Z"
      },
      {
        "duration": 57,
        "start_time": "2023-01-20T17:08:43.423Z"
      },
      {
        "duration": 224,
        "start_time": "2023-01-20T17:08:43.482Z"
      },
      {
        "duration": 110,
        "start_time": "2023-01-20T17:08:43.707Z"
      },
      {
        "duration": 13,
        "start_time": "2023-01-20T17:08:43.819Z"
      },
      {
        "duration": 294,
        "start_time": "2023-01-20T17:08:43.833Z"
      },
      {
        "duration": 245,
        "start_time": "2023-01-20T17:18:30.024Z"
      },
      {
        "duration": 4,
        "start_time": "2023-01-20T17:21:13.687Z"
      },
      {
        "duration": 5,
        "start_time": "2023-01-20T17:21:57.436Z"
      },
      {
        "duration": 199,
        "start_time": "2023-01-20T17:22:37.328Z"
      },
      {
        "duration": 164,
        "start_time": "2023-01-20T17:23:36.728Z"
      },
      {
        "duration": 282,
        "start_time": "2023-01-20T17:23:57.260Z"
      },
      {
        "duration": 4,
        "start_time": "2023-01-20T17:25:57.323Z"
      },
      {
        "duration": 47,
        "start_time": "2023-01-20T17:29:38.959Z"
      },
      {
        "duration": 828,
        "start_time": "2023-01-21T05:32:42.175Z"
      },
      {
        "duration": 3392,
        "start_time": "2023-01-21T05:32:43.006Z"
      },
      {
        "duration": 4,
        "start_time": "2023-01-21T05:32:46.399Z"
      },
      {
        "duration": 77,
        "start_time": "2023-01-21T05:32:46.405Z"
      },
      {
        "duration": 457,
        "start_time": "2023-01-21T05:32:46.483Z"
      },
      {
        "duration": 674,
        "start_time": "2023-01-21T05:32:46.941Z"
      },
      {
        "duration": 341,
        "start_time": "2023-01-21T05:32:47.617Z"
      },
      {
        "duration": 13,
        "start_time": "2023-01-21T05:32:47.960Z"
      },
      {
        "duration": 315,
        "start_time": "2023-01-21T05:32:47.975Z"
      },
      {
        "duration": 241,
        "start_time": "2023-01-21T05:32:48.293Z"
      },
      {
        "duration": 56,
        "start_time": "2023-01-21T05:32:48.535Z"
      },
      {
        "duration": 44,
        "start_time": "2023-01-21T05:32:48.592Z"
      },
      {
        "duration": 112,
        "start_time": "2023-01-21T05:32:48.639Z"
      },
      {
        "duration": 14,
        "start_time": "2023-01-21T05:32:48.758Z"
      },
      {
        "duration": 305,
        "start_time": "2023-01-21T05:32:48.774Z"
      },
      {
        "duration": 326,
        "start_time": "2023-01-21T05:32:49.081Z"
      },
      {
        "duration": 204,
        "start_time": "2023-01-21T05:32:49.408Z"
      },
      {
        "duration": 322,
        "start_time": "2023-01-21T05:32:49.614Z"
      },
      {
        "duration": 56,
        "start_time": "2023-01-21T05:32:49.937Z"
      },
      {
        "duration": 223,
        "start_time": "2023-01-21T05:32:49.995Z"
      },
      {
        "duration": 110,
        "start_time": "2023-01-21T05:32:50.219Z"
      },
      {
        "duration": 22,
        "start_time": "2023-01-21T05:32:50.331Z"
      },
      {
        "duration": 317,
        "start_time": "2023-01-21T05:32:50.355Z"
      },
      {
        "duration": 269,
        "start_time": "2023-01-21T05:32:50.674Z"
      },
      {
        "duration": 6,
        "start_time": "2023-01-21T05:32:50.947Z"
      },
      {
        "duration": 176,
        "start_time": "2023-01-21T05:32:50.955Z"
      },
      {
        "duration": 4,
        "start_time": "2023-01-21T05:32:51.132Z"
      },
      {
        "duration": 51,
        "start_time": "2023-01-21T05:32:51.147Z"
      },
      {
        "duration": 634,
        "start_time": "2023-01-21T05:34:07.478Z"
      },
      {
        "duration": 1001,
        "start_time": "2023-01-21T05:34:08.114Z"
      },
      {
        "duration": 4,
        "start_time": "2023-01-21T05:34:09.117Z"
      },
      {
        "duration": 80,
        "start_time": "2023-01-21T05:34:09.123Z"
      },
      {
        "duration": 431,
        "start_time": "2023-01-21T05:34:09.205Z"
      },
      {
        "duration": 662,
        "start_time": "2023-01-21T05:34:09.637Z"
      },
      {
        "duration": 385,
        "start_time": "2023-01-21T05:34:10.300Z"
      },
      {
        "duration": 12,
        "start_time": "2023-01-21T05:34:10.687Z"
      },
      {
        "duration": 325,
        "start_time": "2023-01-21T05:34:10.700Z"
      },
      {
        "duration": 260,
        "start_time": "2023-01-21T05:34:11.028Z"
      },
      {
        "duration": 46,
        "start_time": "2023-01-21T05:34:11.290Z"
      },
      {
        "duration": 60,
        "start_time": "2023-01-21T05:34:11.338Z"
      },
      {
        "duration": 145,
        "start_time": "2023-01-21T05:34:11.399Z"
      },
      {
        "duration": 24,
        "start_time": "2023-01-21T05:34:11.546Z"
      },
      {
        "duration": 302,
        "start_time": "2023-01-21T05:34:11.572Z"
      },
      {
        "duration": 327,
        "start_time": "2023-01-21T05:34:11.875Z"
      },
      {
        "duration": 201,
        "start_time": "2023-01-21T05:34:12.203Z"
      },
      {
        "duration": 335,
        "start_time": "2023-01-21T05:34:12.406Z"
      },
      {
        "duration": 60,
        "start_time": "2023-01-21T05:34:12.742Z"
      },
      {
        "duration": 235,
        "start_time": "2023-01-21T05:34:12.804Z"
      },
      {
        "duration": 101,
        "start_time": "2023-01-21T05:34:13.041Z"
      },
      {
        "duration": 18,
        "start_time": "2023-01-21T05:34:13.144Z"
      },
      {
        "duration": 286,
        "start_time": "2023-01-21T05:34:13.164Z"
      },
      {
        "duration": 253,
        "start_time": "2023-01-21T05:34:13.456Z"
      },
      {
        "duration": 4,
        "start_time": "2023-01-21T05:34:13.710Z"
      },
      {
        "duration": 191,
        "start_time": "2023-01-21T05:34:13.715Z"
      },
      {
        "duration": 4,
        "start_time": "2023-01-21T05:34:13.907Z"
      },
      {
        "duration": 78,
        "start_time": "2023-01-21T05:34:13.913Z"
      },
      {
        "duration": 470,
        "start_time": "2023-01-21T05:34:47.003Z"
      },
      {
        "duration": 79,
        "start_time": "2023-01-21T05:35:24.826Z"
      },
      {
        "duration": 11,
        "start_time": "2023-01-21T05:35:50.826Z"
      },
      {
        "duration": 12,
        "start_time": "2023-01-21T05:36:07.465Z"
      },
      {
        "duration": 10,
        "start_time": "2023-01-21T05:36:17.005Z"
      },
      {
        "duration": 11,
        "start_time": "2023-01-21T05:36:21.606Z"
      },
      {
        "duration": 628,
        "start_time": "2023-01-21T05:36:31.130Z"
      },
      {
        "duration": 970,
        "start_time": "2023-01-21T05:36:31.761Z"
      },
      {
        "duration": 4,
        "start_time": "2023-01-21T05:36:32.733Z"
      },
      {
        "duration": 73,
        "start_time": "2023-01-21T05:36:32.738Z"
      },
      {
        "duration": 469,
        "start_time": "2023-01-21T05:36:32.813Z"
      },
      {
        "duration": 688,
        "start_time": "2023-01-21T05:36:33.284Z"
      },
      {
        "duration": 327,
        "start_time": "2023-01-21T05:36:33.974Z"
      },
      {
        "duration": 11,
        "start_time": "2023-01-21T05:36:34.303Z"
      },
      {
        "duration": 295,
        "start_time": "2023-01-21T05:36:34.316Z"
      },
      {
        "duration": 242,
        "start_time": "2023-01-21T05:36:34.613Z"
      },
      {
        "duration": 50,
        "start_time": "2023-01-21T05:36:34.857Z"
      },
      {
        "duration": 63,
        "start_time": "2023-01-21T05:36:34.909Z"
      },
      {
        "duration": 112,
        "start_time": "2023-01-21T05:36:34.974Z"
      },
      {
        "duration": 12,
        "start_time": "2023-01-21T05:36:35.087Z"
      },
      {
        "duration": 330,
        "start_time": "2023-01-21T05:36:35.100Z"
      },
      {
        "duration": 306,
        "start_time": "2023-01-21T05:36:35.431Z"
      },
      {
        "duration": 218,
        "start_time": "2023-01-21T05:36:35.738Z"
      },
      {
        "duration": 325,
        "start_time": "2023-01-21T05:36:35.958Z"
      },
      {
        "duration": 43,
        "start_time": "2023-01-21T05:36:36.284Z"
      },
      {
        "duration": 231,
        "start_time": "2023-01-21T05:36:36.329Z"
      },
      {
        "duration": 106,
        "start_time": "2023-01-21T05:36:36.562Z"
      },
      {
        "duration": 12,
        "start_time": "2023-01-21T05:36:36.670Z"
      },
      {
        "duration": 267,
        "start_time": "2023-01-21T05:36:36.684Z"
      },
      {
        "duration": 242,
        "start_time": "2023-01-21T05:36:36.954Z"
      },
      {
        "duration": 4,
        "start_time": "2023-01-21T05:36:37.197Z"
      },
      {
        "duration": 169,
        "start_time": "2023-01-21T05:36:37.203Z"
      },
      {
        "duration": 3,
        "start_time": "2023-01-21T05:36:37.373Z"
      },
      {
        "duration": 47,
        "start_time": "2023-01-21T05:36:37.379Z"
      },
      {
        "duration": 498,
        "start_time": "2023-01-21T05:36:37.427Z"
      },
      {
        "duration": 10,
        "start_time": "2023-01-21T05:43:34.892Z"
      },
      {
        "duration": 306,
        "start_time": "2023-01-21T05:47:23.021Z"
      },
      {
        "duration": 306,
        "start_time": "2023-01-21T05:47:55.150Z"
      },
      {
        "duration": 56,
        "start_time": "2023-01-21T05:51:59.378Z"
      },
      {
        "duration": 765,
        "start_time": "2023-01-21T08:06:05.346Z"
      },
      {
        "duration": 1115,
        "start_time": "2023-01-21T08:06:06.113Z"
      },
      {
        "duration": 3,
        "start_time": "2023-01-21T08:06:07.230Z"
      },
      {
        "duration": 62,
        "start_time": "2023-01-21T08:06:07.238Z"
      },
      {
        "duration": 429,
        "start_time": "2023-01-21T08:06:07.301Z"
      },
      {
        "duration": 612,
        "start_time": "2023-01-21T08:06:07.731Z"
      },
      {
        "duration": 336,
        "start_time": "2023-01-21T08:06:08.345Z"
      },
      {
        "duration": 11,
        "start_time": "2023-01-21T08:06:08.683Z"
      },
      {
        "duration": 274,
        "start_time": "2023-01-21T08:06:08.696Z"
      },
      {
        "duration": 213,
        "start_time": "2023-01-21T08:06:08.972Z"
      },
      {
        "duration": 38,
        "start_time": "2023-01-21T08:06:09.187Z"
      },
      {
        "duration": 40,
        "start_time": "2023-01-21T08:06:09.227Z"
      },
      {
        "duration": 117,
        "start_time": "2023-01-21T08:06:09.268Z"
      },
      {
        "duration": 11,
        "start_time": "2023-01-21T08:06:09.386Z"
      },
      {
        "duration": 265,
        "start_time": "2023-01-21T08:06:09.398Z"
      },
      {
        "duration": 289,
        "start_time": "2023-01-21T08:06:09.664Z"
      },
      {
        "duration": 177,
        "start_time": "2023-01-21T08:06:09.954Z"
      },
      {
        "duration": 295,
        "start_time": "2023-01-21T08:06:10.137Z"
      },
      {
        "duration": 37,
        "start_time": "2023-01-21T08:06:10.436Z"
      },
      {
        "duration": 185,
        "start_time": "2023-01-21T08:06:10.474Z"
      },
      {
        "duration": 100,
        "start_time": "2023-01-21T08:06:10.660Z"
      },
      {
        "duration": 12,
        "start_time": "2023-01-21T08:06:10.761Z"
      },
      {
        "duration": 250,
        "start_time": "2023-01-21T08:06:10.774Z"
      },
      {
        "duration": 227,
        "start_time": "2023-01-21T08:06:11.026Z"
      },
      {
        "duration": 3,
        "start_time": "2023-01-21T08:06:11.255Z"
      },
      {
        "duration": 157,
        "start_time": "2023-01-21T08:06:11.259Z"
      },
      {
        "duration": 3,
        "start_time": "2023-01-21T08:06:11.417Z"
      },
      {
        "duration": 43,
        "start_time": "2023-01-21T08:06:11.423Z"
      },
      {
        "duration": 515,
        "start_time": "2023-01-21T08:06:11.468Z"
      },
      {
        "duration": 9,
        "start_time": "2023-01-21T08:06:11.985Z"
      },
      {
        "duration": 263,
        "start_time": "2023-01-21T08:06:11.995Z"
      },
      {
        "duration": 7,
        "start_time": "2023-01-21T08:06:29.954Z"
      },
      {
        "duration": 34,
        "start_time": "2023-01-21T08:13:31.976Z"
      },
      {
        "duration": 27,
        "start_time": "2023-01-21T08:20:39.592Z"
      },
      {
        "duration": 315,
        "start_time": "2023-01-21T08:22:13.946Z"
      },
      {
        "duration": 38,
        "start_time": "2023-01-21T08:25:58.864Z"
      },
      {
        "duration": 317,
        "start_time": "2023-01-21T08:27:55.439Z"
      },
      {
        "duration": 37,
        "start_time": "2023-01-21T08:34:30.755Z"
      },
      {
        "duration": 323,
        "start_time": "2023-01-21T08:36:00.840Z"
      },
      {
        "duration": 819,
        "start_time": "2023-01-21T13:10:21.886Z"
      },
      {
        "duration": 1264,
        "start_time": "2023-01-21T13:10:22.707Z"
      },
      {
        "duration": 4,
        "start_time": "2023-01-21T13:10:23.977Z"
      },
      {
        "duration": 90,
        "start_time": "2023-01-21T13:10:23.983Z"
      },
      {
        "duration": 496,
        "start_time": "2023-01-21T13:10:24.075Z"
      },
      {
        "duration": 647,
        "start_time": "2023-01-21T13:10:24.573Z"
      },
      {
        "duration": 318,
        "start_time": "2023-01-21T13:10:25.222Z"
      },
      {
        "duration": 13,
        "start_time": "2023-01-21T13:10:25.541Z"
      },
      {
        "duration": 301,
        "start_time": "2023-01-21T13:10:25.557Z"
      },
      {
        "duration": 235,
        "start_time": "2023-01-21T13:10:25.859Z"
      },
      {
        "duration": 47,
        "start_time": "2023-01-21T13:10:26.096Z"
      },
      {
        "duration": 52,
        "start_time": "2023-01-21T13:10:26.145Z"
      },
      {
        "duration": 111,
        "start_time": "2023-01-21T13:10:26.199Z"
      },
      {
        "duration": 11,
        "start_time": "2023-01-21T13:10:26.311Z"
      },
      {
        "duration": 339,
        "start_time": "2023-01-21T13:10:26.324Z"
      },
      {
        "duration": 313,
        "start_time": "2023-01-21T13:10:26.665Z"
      },
      {
        "duration": 186,
        "start_time": "2023-01-21T13:10:26.979Z"
      },
      {
        "duration": 259,
        "start_time": "2023-01-21T13:10:27.167Z"
      },
      {
        "duration": 45,
        "start_time": "2023-01-21T13:10:27.427Z"
      },
      {
        "duration": 209,
        "start_time": "2023-01-21T13:10:27.474Z"
      },
      {
        "duration": 112,
        "start_time": "2023-01-21T13:10:27.685Z"
      },
      {
        "duration": 14,
        "start_time": "2023-01-21T13:10:27.799Z"
      },
      {
        "duration": 271,
        "start_time": "2023-01-21T13:10:27.815Z"
      },
      {
        "duration": 237,
        "start_time": "2023-01-21T13:10:28.094Z"
      },
      {
        "duration": 4,
        "start_time": "2023-01-21T13:10:28.333Z"
      },
      {
        "duration": 173,
        "start_time": "2023-01-21T13:10:28.339Z"
      },
      {
        "duration": 3,
        "start_time": "2023-01-21T13:10:28.515Z"
      },
      {
        "duration": 48,
        "start_time": "2023-01-21T13:10:28.519Z"
      },
      {
        "duration": 522,
        "start_time": "2023-01-21T13:10:28.568Z"
      },
      {
        "duration": 8,
        "start_time": "2023-01-21T13:10:29.093Z"
      },
      {
        "duration": 263,
        "start_time": "2023-01-21T13:10:29.102Z"
      },
      {
        "duration": 8,
        "start_time": "2023-01-21T13:10:29.366Z"
      },
      {
        "duration": 52,
        "start_time": "2023-01-21T13:10:29.375Z"
      },
      {
        "duration": 31,
        "start_time": "2023-01-21T13:10:29.428Z"
      },
      {
        "duration": 335,
        "start_time": "2023-01-21T13:10:29.460Z"
      },
      {
        "duration": 43,
        "start_time": "2023-01-21T13:10:29.796Z"
      },
      {
        "duration": 339,
        "start_time": "2023-01-21T13:10:29.841Z"
      },
      {
        "duration": 39,
        "start_time": "2023-01-21T13:10:30.182Z"
      },
      {
        "duration": 337,
        "start_time": "2023-01-21T13:10:30.222Z"
      },
      {
        "duration": 69,
        "start_time": "2023-01-21T13:15:41.194Z"
      },
      {
        "duration": 6,
        "start_time": "2023-01-21T13:15:59.317Z"
      },
      {
        "duration": 95,
        "start_time": "2023-01-21T13:16:11.423Z"
      },
      {
        "duration": 23,
        "start_time": "2023-01-21T13:17:54.001Z"
      },
      {
        "duration": 11,
        "start_time": "2023-01-21T13:18:24.657Z"
      },
      {
        "duration": 11,
        "start_time": "2023-01-21T13:19:16.858Z"
      },
      {
        "duration": 15,
        "start_time": "2023-01-21T13:19:59.991Z"
      },
      {
        "duration": 11,
        "start_time": "2023-01-21T13:20:42.955Z"
      },
      {
        "duration": 10,
        "start_time": "2023-01-21T13:20:50.144Z"
      },
      {
        "duration": 17,
        "start_time": "2023-01-21T13:21:20.035Z"
      },
      {
        "duration": 3,
        "start_time": "2023-01-21T13:23:13.729Z"
      },
      {
        "duration": 14,
        "start_time": "2023-01-21T13:23:28.016Z"
      },
      {
        "duration": 27,
        "start_time": "2023-01-21T13:25:54.818Z"
      },
      {
        "duration": 1255,
        "start_time": "2023-01-21T13:31:48.668Z"
      },
      {
        "duration": 954,
        "start_time": "2023-01-21T13:31:49.925Z"
      },
      {
        "duration": 3,
        "start_time": "2023-01-21T13:31:50.881Z"
      },
      {
        "duration": 71,
        "start_time": "2023-01-21T13:31:50.886Z"
      },
      {
        "duration": 445,
        "start_time": "2023-01-21T13:31:50.958Z"
      },
      {
        "duration": 658,
        "start_time": "2023-01-21T13:31:51.405Z"
      },
      {
        "duration": 351,
        "start_time": "2023-01-21T13:31:52.065Z"
      },
      {
        "duration": 12,
        "start_time": "2023-01-21T13:31:52.418Z"
      },
      {
        "duration": 291,
        "start_time": "2023-01-21T13:31:52.432Z"
      },
      {
        "duration": 229,
        "start_time": "2023-01-21T13:31:52.725Z"
      },
      {
        "duration": 49,
        "start_time": "2023-01-21T13:31:52.955Z"
      },
      {
        "duration": 34,
        "start_time": "2023-01-21T13:31:53.006Z"
      },
      {
        "duration": 118,
        "start_time": "2023-01-21T13:31:53.042Z"
      },
      {
        "duration": 11,
        "start_time": "2023-01-21T13:31:53.162Z"
      },
      {
        "duration": 266,
        "start_time": "2023-01-21T13:31:53.174Z"
      },
      {
        "duration": 245,
        "start_time": "2023-01-21T13:31:53.442Z"
      },
      {
        "duration": 205,
        "start_time": "2023-01-21T13:31:53.688Z"
      },
      {
        "duration": 312,
        "start_time": "2023-01-21T13:31:53.894Z"
      },
      {
        "duration": 53,
        "start_time": "2023-01-21T13:31:54.208Z"
      },
      {
        "duration": 236,
        "start_time": "2023-01-21T13:31:54.263Z"
      },
      {
        "duration": 130,
        "start_time": "2023-01-21T13:31:54.500Z"
      },
      {
        "duration": 13,
        "start_time": "2023-01-21T13:31:54.631Z"
      },
      {
        "duration": 331,
        "start_time": "2023-01-21T13:31:54.646Z"
      },
      {
        "duration": 255,
        "start_time": "2023-01-21T13:31:54.978Z"
      },
      {
        "duration": 4,
        "start_time": "2023-01-21T13:31:55.235Z"
      },
      {
        "duration": 174,
        "start_time": "2023-01-21T13:31:55.241Z"
      },
      {
        "duration": 4,
        "start_time": "2023-01-21T13:31:55.416Z"
      },
      {
        "duration": 40,
        "start_time": "2023-01-21T13:31:55.423Z"
      },
      {
        "duration": 502,
        "start_time": "2023-01-21T13:31:55.465Z"
      },
      {
        "duration": 8,
        "start_time": "2023-01-21T13:31:55.969Z"
      },
      {
        "duration": 271,
        "start_time": "2023-01-21T13:31:55.978Z"
      },
      {
        "duration": 8,
        "start_time": "2023-01-21T13:31:56.251Z"
      },
      {
        "duration": 49,
        "start_time": "2023-01-21T13:31:56.260Z"
      },
      {
        "duration": 31,
        "start_time": "2023-01-21T13:31:56.311Z"
      },
      {
        "duration": 325,
        "start_time": "2023-01-21T13:31:56.344Z"
      },
      {
        "duration": 47,
        "start_time": "2023-01-21T13:31:56.670Z"
      },
      {
        "duration": 321,
        "start_time": "2023-01-21T13:31:56.719Z"
      },
      {
        "duration": 38,
        "start_time": "2023-01-21T13:31:57.042Z"
      },
      {
        "duration": 314,
        "start_time": "2023-01-21T13:31:57.094Z"
      },
      {
        "duration": 3,
        "start_time": "2023-01-21T13:31:57.410Z"
      },
      {
        "duration": 18,
        "start_time": "2023-01-21T13:31:57.416Z"
      },
      {
        "duration": 29,
        "start_time": "2023-01-21T13:31:57.436Z"
      },
      {
        "duration": 480,
        "start_time": "2023-01-21T13:31:57.494Z"
      },
      {
        "duration": 356,
        "start_time": "2023-01-21T14:19:29.503Z"
      },
      {
        "duration": 98,
        "start_time": "2023-01-21T14:25:17.186Z"
      },
      {
        "duration": 1253,
        "start_time": "2023-01-21T14:26:29.733Z"
      },
      {
        "duration": 1039,
        "start_time": "2023-01-21T14:26:30.988Z"
      },
      {
        "duration": 3,
        "start_time": "2023-01-21T14:26:32.029Z"
      },
      {
        "duration": 86,
        "start_time": "2023-01-21T14:26:32.034Z"
      },
      {
        "duration": 491,
        "start_time": "2023-01-21T14:26:32.122Z"
      },
      {
        "duration": 706,
        "start_time": "2023-01-21T14:26:32.615Z"
      },
      {
        "duration": 379,
        "start_time": "2023-01-21T14:26:33.323Z"
      },
      {
        "duration": 13,
        "start_time": "2023-01-21T14:26:33.704Z"
      },
      {
        "duration": 320,
        "start_time": "2023-01-21T14:26:33.718Z"
      },
      {
        "duration": 318,
        "start_time": "2023-01-21T14:26:34.042Z"
      },
      {
        "duration": 59,
        "start_time": "2023-01-21T14:26:34.362Z"
      },
      {
        "duration": 35,
        "start_time": "2023-01-21T14:26:34.422Z"
      },
      {
        "duration": 127,
        "start_time": "2023-01-21T14:26:34.458Z"
      },
      {
        "duration": 17,
        "start_time": "2023-01-21T14:26:34.586Z"
      },
      {
        "duration": 275,
        "start_time": "2023-01-21T14:26:34.605Z"
      },
      {
        "duration": 261,
        "start_time": "2023-01-21T14:26:34.881Z"
      },
      {
        "duration": 213,
        "start_time": "2023-01-21T14:26:35.144Z"
      },
      {
        "duration": 246,
        "start_time": "2023-01-21T14:26:35.358Z"
      },
      {
        "duration": 46,
        "start_time": "2023-01-21T14:26:35.606Z"
      },
      {
        "duration": 236,
        "start_time": "2023-01-21T14:26:35.654Z"
      },
      {
        "duration": 141,
        "start_time": "2023-01-21T14:26:35.893Z"
      },
      {
        "duration": 19,
        "start_time": "2023-01-21T14:26:36.037Z"
      },
      {
        "duration": 369,
        "start_time": "2023-01-21T14:26:36.058Z"
      },
      {
        "duration": 257,
        "start_time": "2023-01-21T14:26:36.429Z"
      },
      {
        "duration": 8,
        "start_time": "2023-01-21T14:26:36.687Z"
      },
      {
        "duration": 162,
        "start_time": "2023-01-21T14:26:36.696Z"
      },
      {
        "duration": 3,
        "start_time": "2023-01-21T14:26:36.860Z"
      },
      {
        "duration": 56,
        "start_time": "2023-01-21T14:26:36.866Z"
      },
      {
        "duration": 513,
        "start_time": "2023-01-21T14:26:36.924Z"
      },
      {
        "duration": 9,
        "start_time": "2023-01-21T14:26:37.439Z"
      },
      {
        "duration": 261,
        "start_time": "2023-01-21T14:26:37.450Z"
      },
      {
        "duration": 9,
        "start_time": "2023-01-21T14:26:37.713Z"
      },
      {
        "duration": 39,
        "start_time": "2023-01-21T14:26:37.723Z"
      },
      {
        "duration": 51,
        "start_time": "2023-01-21T14:26:37.764Z"
      },
      {
        "duration": 337,
        "start_time": "2023-01-21T14:26:37.817Z"
      },
      {
        "duration": 48,
        "start_time": "2023-01-21T14:26:38.156Z"
      },
      {
        "duration": 342,
        "start_time": "2023-01-21T14:26:38.206Z"
      },
      {
        "duration": 44,
        "start_time": "2023-01-21T14:26:38.549Z"
      },
      {
        "duration": 335,
        "start_time": "2023-01-21T14:26:38.595Z"
      },
      {
        "duration": 4,
        "start_time": "2023-01-21T14:26:38.932Z"
      },
      {
        "duration": 23,
        "start_time": "2023-01-21T14:26:38.938Z"
      },
      {
        "duration": 50,
        "start_time": "2023-01-21T14:26:38.962Z"
      },
      {
        "duration": 116,
        "start_time": "2023-01-21T14:26:39.014Z"
      },
      {
        "duration": 0,
        "start_time": "2023-01-21T14:26:39.131Z"
      },
      {
        "duration": 217,
        "start_time": "2023-01-21T14:32:27.545Z"
      },
      {
        "duration": 365,
        "start_time": "2023-01-21T14:32:32.913Z"
      },
      {
        "duration": 16161,
        "start_time": "2023-01-21T14:32:49.540Z"
      },
      {
        "duration": 35,
        "start_time": "2023-01-21T15:05:14.081Z"
      },
      {
        "duration": 988268,
        "start_time": "2023-01-21T15:10:35.735Z"
      },
      {
        "duration": 94903,
        "start_time": "2023-01-21T15:32:01.915Z"
      },
      {
        "duration": 989433,
        "start_time": "2023-01-21T15:42:04.561Z"
      },
      {
        "duration": 1475,
        "start_time": "2023-01-22T03:48:22.434Z"
      },
      {
        "duration": 2884,
        "start_time": "2023-01-22T03:48:23.911Z"
      },
      {
        "duration": 3,
        "start_time": "2023-01-22T03:48:26.796Z"
      },
      {
        "duration": 67,
        "start_time": "2023-01-22T03:48:26.801Z"
      },
      {
        "duration": 403,
        "start_time": "2023-01-22T03:48:26.870Z"
      },
      {
        "duration": 614,
        "start_time": "2023-01-22T03:48:27.275Z"
      },
      {
        "duration": 303,
        "start_time": "2023-01-22T03:48:27.890Z"
      },
      {
        "duration": 12,
        "start_time": "2023-01-22T03:48:28.195Z"
      },
      {
        "duration": 286,
        "start_time": "2023-01-22T03:48:28.209Z"
      },
      {
        "duration": 226,
        "start_time": "2023-01-22T03:48:28.497Z"
      },
      {
        "duration": 11,
        "start_time": "2023-01-22T03:48:28.725Z"
      },
      {
        "duration": 253,
        "start_time": "2023-01-22T03:48:28.747Z"
      },
      {
        "duration": 216,
        "start_time": "2023-01-22T03:48:29.002Z"
      },
      {
        "duration": 188,
        "start_time": "2023-01-22T03:48:29.220Z"
      },
      {
        "duration": 313,
        "start_time": "2023-01-22T03:48:29.409Z"
      },
      {
        "duration": 12,
        "start_time": "2023-01-22T03:48:29.723Z"
      },
      {
        "duration": 262,
        "start_time": "2023-01-22T03:48:29.737Z"
      },
      {
        "duration": 199,
        "start_time": "2023-01-22T03:48:30.001Z"
      },
      {
        "duration": 3,
        "start_time": "2023-01-22T03:48:30.202Z"
      },
      {
        "duration": 220,
        "start_time": "2023-01-22T03:48:30.206Z"
      },
      {
        "duration": 3,
        "start_time": "2023-01-22T03:48:30.428Z"
      },
      {
        "duration": 28,
        "start_time": "2023-01-22T03:48:30.432Z"
      },
      {
        "duration": 268,
        "start_time": "2023-01-22T03:48:30.461Z"
      },
      {
        "duration": 17,
        "start_time": "2023-01-22T03:48:30.731Z"
      },
      {
        "duration": 42,
        "start_time": "2023-01-22T03:48:30.749Z"
      },
      {
        "duration": 54,
        "start_time": "2023-01-22T03:48:30.792Z"
      },
      {
        "duration": 116,
        "start_time": "2023-01-22T03:48:30.847Z"
      },
      {
        "duration": 40,
        "start_time": "2023-01-22T03:48:30.967Z"
      },
      {
        "duration": 268,
        "start_time": "2023-01-22T03:48:31.008Z"
      },
      {
        "duration": 99,
        "start_time": "2023-01-22T03:48:31.278Z"
      },
      {
        "duration": 44,
        "start_time": "2023-01-22T03:48:31.379Z"
      },
      {
        "duration": 523,
        "start_time": "2023-01-22T03:48:31.424Z"
      },
      {
        "duration": 40,
        "start_time": "2023-01-22T03:48:31.949Z"
      },
      {
        "duration": 36,
        "start_time": "2023-01-22T03:48:31.991Z"
      },
      {
        "duration": 307,
        "start_time": "2023-01-22T03:48:32.030Z"
      },
      {
        "duration": 46,
        "start_time": "2023-01-22T03:48:32.339Z"
      },
      {
        "duration": 361,
        "start_time": "2023-01-22T03:48:32.387Z"
      },
      {
        "duration": 39,
        "start_time": "2023-01-22T03:48:32.750Z"
      },
      {
        "duration": 346,
        "start_time": "2023-01-22T03:48:32.791Z"
      },
      {
        "duration": 9,
        "start_time": "2023-01-22T03:48:33.139Z"
      },
      {
        "duration": 27,
        "start_time": "2023-01-22T03:48:33.150Z"
      },
      {
        "duration": 36,
        "start_time": "2023-01-22T03:48:33.179Z"
      },
      {
        "duration": 228,
        "start_time": "2023-01-22T03:48:33.216Z"
      },
      {
        "duration": 350,
        "start_time": "2023-01-22T03:48:33.447Z"
      },
      {
        "duration": 15057,
        "start_time": "2023-01-22T03:48:33.798Z"
      },
      {
        "duration": 959833,
        "start_time": "2023-01-22T03:48:48.858Z"
      },
      {
        "duration": 22,
        "start_time": "2023-01-22T04:12:35.307Z"
      },
      {
        "duration": 69,
        "start_time": "2023-01-22T04:16:51.238Z"
      },
      {
        "duration": 1252,
        "start_time": "2023-01-22T04:20:09.375Z"
      },
      {
        "duration": 944,
        "start_time": "2023-01-22T04:20:10.629Z"
      },
      {
        "duration": 4,
        "start_time": "2023-01-22T04:20:11.574Z"
      },
      {
        "duration": 77,
        "start_time": "2023-01-22T04:20:11.580Z"
      },
      {
        "duration": 426,
        "start_time": "2023-01-22T04:20:11.659Z"
      },
      {
        "duration": 622,
        "start_time": "2023-01-22T04:20:12.087Z"
      },
      {
        "duration": 317,
        "start_time": "2023-01-22T04:20:12.710Z"
      },
      {
        "duration": 21,
        "start_time": "2023-01-22T04:20:13.029Z"
      },
      {
        "duration": 268,
        "start_time": "2023-01-22T04:20:13.052Z"
      },
      {
        "duration": 230,
        "start_time": "2023-01-22T04:20:13.323Z"
      },
      {
        "duration": 11,
        "start_time": "2023-01-22T04:20:13.555Z"
      },
      {
        "duration": 261,
        "start_time": "2023-01-22T04:20:13.567Z"
      },
      {
        "duration": 201,
        "start_time": "2023-01-22T04:20:13.830Z"
      },
      {
        "duration": 213,
        "start_time": "2023-01-22T04:20:14.032Z"
      },
      {
        "duration": 315,
        "start_time": "2023-01-22T04:20:14.247Z"
      },
      {
        "duration": 12,
        "start_time": "2023-01-22T04:20:14.563Z"
      },
      {
        "duration": 261,
        "start_time": "2023-01-22T04:20:14.576Z"
      },
      {
        "duration": 205,
        "start_time": "2023-01-22T04:20:14.839Z"
      },
      {
        "duration": 4,
        "start_time": "2023-01-22T04:20:15.047Z"
      },
      {
        "duration": 236,
        "start_time": "2023-01-22T04:20:15.052Z"
      },
      {
        "duration": 4,
        "start_time": "2023-01-22T04:20:15.290Z"
      },
      {
        "duration": 18,
        "start_time": "2023-01-22T04:20:15.296Z"
      },
      {
        "duration": 252,
        "start_time": "2023-01-22T04:20:15.315Z"
      },
      {
        "duration": 8,
        "start_time": "2023-01-22T04:20:15.568Z"
      },
      {
        "duration": 120,
        "start_time": "2023-01-22T04:20:15.577Z"
      },
      {
        "duration": 128,
        "start_time": "2023-01-22T04:20:15.699Z"
      },
      {
        "duration": 68,
        "start_time": "2023-01-22T04:20:15.828Z"
      },
      {
        "duration": 46,
        "start_time": "2023-01-22T04:20:15.900Z"
      },
      {
        "duration": 116,
        "start_time": "2023-01-22T04:20:15.949Z"
      },
      {
        "duration": 38,
        "start_time": "2023-01-22T04:20:16.067Z"
      },
      {
        "duration": 259,
        "start_time": "2023-01-22T04:20:16.107Z"
      },
      {
        "duration": 99,
        "start_time": "2023-01-22T04:20:16.368Z"
      },
      {
        "duration": 40,
        "start_time": "2023-01-22T04:20:16.469Z"
      },
      {
        "duration": 526,
        "start_time": "2023-01-22T04:20:16.511Z"
      },
      {
        "duration": 41,
        "start_time": "2023-01-22T04:20:17.039Z"
      },
      {
        "duration": 32,
        "start_time": "2023-01-22T04:20:17.082Z"
      },
      {
        "duration": 312,
        "start_time": "2023-01-22T04:20:17.116Z"
      },
      {
        "duration": 48,
        "start_time": "2023-01-22T04:20:17.430Z"
      },
      {
        "duration": 344,
        "start_time": "2023-01-22T04:20:17.480Z"
      },
      {
        "duration": 40,
        "start_time": "2023-01-22T04:20:17.825Z"
      },
      {
        "duration": 331,
        "start_time": "2023-01-22T04:20:17.867Z"
      },
      {
        "duration": 4,
        "start_time": "2023-01-22T04:20:18.199Z"
      },
      {
        "duration": 18,
        "start_time": "2023-01-22T04:20:18.204Z"
      },
      {
        "duration": 38,
        "start_time": "2023-01-22T04:20:18.223Z"
      },
      {
        "duration": 221,
        "start_time": "2023-01-22T04:20:18.262Z"
      },
      {
        "duration": 343,
        "start_time": "2023-01-22T04:20:18.484Z"
      },
      {
        "duration": 15821,
        "start_time": "2023-01-22T04:20:18.828Z"
      },
      {
        "duration": 976431,
        "start_time": "2023-01-22T04:20:34.653Z"
      },
      {
        "duration": 58571,
        "start_time": "2023-01-22T04:55:41.601Z"
      },
      {
        "duration": 212590,
        "start_time": "2023-01-22T04:57:22.358Z"
      },
      {
        "duration": 68,
        "start_time": "2023-01-22T05:27:32.824Z"
      },
      {
        "duration": 4,
        "start_time": "2023-01-22T05:29:17.654Z"
      },
      {
        "duration": 144,
        "start_time": "2023-01-22T05:48:14.541Z"
      },
      {
        "duration": 6798,
        "start_time": "2023-01-22T05:49:24.902Z"
      },
      {
        "duration": 2714,
        "start_time": "2023-01-22T05:50:32.806Z"
      },
      {
        "duration": 2884,
        "start_time": "2023-01-22T05:51:42.422Z"
      },
      {
        "duration": 211,
        "start_time": "2023-01-22T05:53:03.693Z"
      },
      {
        "duration": 2915,
        "start_time": "2023-01-22T05:53:45.610Z"
      },
      {
        "duration": 2803,
        "start_time": "2023-01-22T05:56:59.035Z"
      },
      {
        "duration": 11,
        "start_time": "2023-01-22T06:03:12.556Z"
      },
      {
        "duration": 2085,
        "start_time": "2023-01-22T06:04:37.312Z"
      },
      {
        "duration": 75,
        "start_time": "2023-01-22T06:14:39.331Z"
      },
      {
        "duration": 35,
        "start_time": "2023-01-22T06:14:50.997Z"
      },
      {
        "duration": 11,
        "start_time": "2023-01-22T06:15:16.737Z"
      },
      {
        "duration": 42,
        "start_time": "2023-01-22T06:17:13.018Z"
      },
      {
        "duration": 14,
        "start_time": "2023-01-22T06:18:51.581Z"
      },
      {
        "duration": 16,
        "start_time": "2023-01-22T06:19:14.610Z"
      },
      {
        "duration": 4,
        "start_time": "2023-01-22T06:19:51.880Z"
      },
      {
        "duration": 73,
        "start_time": "2023-01-22T06:20:36.433Z"
      },
      {
        "duration": 73,
        "start_time": "2023-01-22T06:22:21.339Z"
      },
      {
        "duration": 2008,
        "start_time": "2023-01-22T06:22:53.468Z"
      },
      {
        "duration": 1786,
        "start_time": "2023-01-22T09:55:06.181Z"
      },
      {
        "duration": 1384,
        "start_time": "2023-01-22T09:55:07.969Z"
      },
      {
        "duration": 5,
        "start_time": "2023-01-22T09:55:09.355Z"
      },
      {
        "duration": 86,
        "start_time": "2023-01-22T09:55:09.362Z"
      },
      {
        "duration": 639,
        "start_time": "2023-01-22T09:55:09.450Z"
      },
      {
        "duration": 769,
        "start_time": "2023-01-22T09:55:10.091Z"
      },
      {
        "duration": 426,
        "start_time": "2023-01-22T09:55:10.862Z"
      },
      {
        "duration": 16,
        "start_time": "2023-01-22T09:55:11.290Z"
      },
      {
        "duration": 369,
        "start_time": "2023-01-22T09:55:11.308Z"
      },
      {
        "duration": 260,
        "start_time": "2023-01-22T09:55:11.683Z"
      },
      {
        "duration": 12,
        "start_time": "2023-01-22T09:55:11.945Z"
      },
      {
        "duration": 337,
        "start_time": "2023-01-22T09:55:11.959Z"
      },
      {
        "duration": 241,
        "start_time": "2023-01-22T09:55:12.298Z"
      },
      {
        "duration": 229,
        "start_time": "2023-01-22T09:55:12.541Z"
      },
      {
        "duration": 375,
        "start_time": "2023-01-22T09:55:12.772Z"
      },
      {
        "duration": 14,
        "start_time": "2023-01-22T09:55:13.149Z"
      },
      {
        "duration": 323,
        "start_time": "2023-01-22T09:55:13.165Z"
      },
      {
        "duration": 225,
        "start_time": "2023-01-22T09:55:13.490Z"
      },
      {
        "duration": 4,
        "start_time": "2023-01-22T09:55:13.717Z"
      },
      {
        "duration": 233,
        "start_time": "2023-01-22T09:55:13.723Z"
      },
      {
        "duration": 4,
        "start_time": "2023-01-22T09:55:13.958Z"
      },
      {
        "duration": 24,
        "start_time": "2023-01-22T09:55:13.964Z"
      },
      {
        "duration": 309,
        "start_time": "2023-01-22T09:55:13.990Z"
      },
      {
        "duration": 9,
        "start_time": "2023-01-22T09:55:14.301Z"
      },
      {
        "duration": 130,
        "start_time": "2023-01-22T09:55:14.312Z"
      },
      {
        "duration": 162,
        "start_time": "2023-01-22T09:55:14.444Z"
      },
      {
        "duration": 47,
        "start_time": "2023-01-22T09:55:14.608Z"
      },
      {
        "duration": 56,
        "start_time": "2023-01-22T09:55:14.660Z"
      },
      {
        "duration": 128,
        "start_time": "2023-01-22T09:55:14.718Z"
      },
      {
        "duration": 54,
        "start_time": "2023-01-22T09:55:14.848Z"
      },
      {
        "duration": 285,
        "start_time": "2023-01-22T09:55:14.903Z"
      },
      {
        "duration": 107,
        "start_time": "2023-01-22T09:55:15.190Z"
      },
      {
        "duration": 52,
        "start_time": "2023-01-22T09:55:15.299Z"
      },
      {
        "duration": 859,
        "start_time": "2023-01-22T09:55:15.353Z"
      },
      {
        "duration": 50,
        "start_time": "2023-01-22T09:55:16.215Z"
      },
      {
        "duration": 54,
        "start_time": "2023-01-22T09:55:16.267Z"
      },
      {
        "duration": 344,
        "start_time": "2023-01-22T09:55:16.323Z"
      },
      {
        "duration": 55,
        "start_time": "2023-01-22T09:55:16.669Z"
      },
      {
        "duration": 375,
        "start_time": "2023-01-22T09:55:16.725Z"
      },
      {
        "duration": 48,
        "start_time": "2023-01-22T09:55:17.101Z"
      },
      {
        "duration": 355,
        "start_time": "2023-01-22T09:55:17.151Z"
      },
      {
        "duration": 4,
        "start_time": "2023-01-22T09:55:17.508Z"
      },
      {
        "duration": 41,
        "start_time": "2023-01-22T09:55:17.514Z"
      },
      {
        "duration": 61,
        "start_time": "2023-01-22T09:55:17.557Z"
      },
      {
        "duration": 247,
        "start_time": "2023-01-22T09:55:17.620Z"
      },
      {
        "duration": 404,
        "start_time": "2023-01-22T09:55:17.869Z"
      },
      {
        "duration": 23612,
        "start_time": "2023-01-22T09:55:18.274Z"
      },
      {
        "duration": 1103369,
        "start_time": "2023-01-22T09:55:41.888Z"
      },
      {
        "duration": 245992,
        "start_time": "2023-01-22T10:14:05.259Z"
      },
      {
        "duration": 5,
        "start_time": "2023-01-22T10:18:11.254Z"
      },
      {
        "duration": 39,
        "start_time": "2023-01-22T10:18:11.261Z"
      },
      {
        "duration": 97,
        "start_time": "2023-01-22T10:18:11.302Z"
      },
      {
        "duration": 1451,
        "start_time": "2023-01-22T10:18:11.401Z"
      },
      {
        "duration": 1284,
        "start_time": "2023-01-22T10:22:47.097Z"
      },
      {
        "duration": 78,
        "start_time": "2023-01-22T10:27:39.158Z"
      },
      {
        "duration": 93,
        "start_time": "2023-01-22T10:33:54.647Z"
      },
      {
        "duration": 60,
        "start_time": "2023-01-22T10:34:20.168Z"
      },
      {
        "duration": 2354,
        "start_time": "2023-01-22T10:34:27.659Z"
      },
      {
        "duration": 12339,
        "start_time": "2023-01-22T10:36:13.111Z"
      },
      {
        "duration": 87,
        "start_time": "2023-01-22T11:04:46.613Z"
      },
      {
        "duration": 61,
        "start_time": "2023-01-22T11:05:23.210Z"
      },
      {
        "duration": 10111,
        "start_time": "2023-01-22T11:06:36.290Z"
      },
      {
        "duration": 12810,
        "start_time": "2023-01-22T11:10:13.306Z"
      },
      {
        "duration": 50,
        "start_time": "2023-01-22T11:39:36.669Z"
      },
      {
        "duration": 3,
        "start_time": "2023-01-22T11:48:39.088Z"
      },
      {
        "duration": 37,
        "start_time": "2023-01-22T11:49:20.802Z"
      },
      {
        "duration": 10,
        "start_time": "2023-01-22T13:17:36.663Z"
      },
      {
        "duration": 13,
        "start_time": "2023-01-22T13:18:29.482Z"
      },
      {
        "duration": 206,
        "start_time": "2023-01-22T13:24:19.552Z"
      },
      {
        "duration": 166,
        "start_time": "2023-01-22T13:25:53.084Z"
      },
      {
        "duration": 264,
        "start_time": "2023-01-22T13:26:15.414Z"
      },
      {
        "duration": 222,
        "start_time": "2023-01-22T13:26:53.182Z"
      },
      {
        "duration": 84,
        "start_time": "2023-01-22T13:28:38.394Z"
      },
      {
        "duration": 4,
        "start_time": "2023-01-22T13:29:04.900Z"
      },
      {
        "duration": 32,
        "start_time": "2023-01-22T13:29:09.859Z"
      },
      {
        "duration": 4,
        "start_time": "2023-01-22T13:29:34.678Z"
      },
      {
        "duration": 23,
        "start_time": "2023-01-22T13:31:31.714Z"
      },
      {
        "duration": 1678,
        "start_time": "2023-01-22T13:34:24.228Z"
      },
      {
        "duration": 1317,
        "start_time": "2023-01-22T13:34:25.908Z"
      },
      {
        "duration": 4,
        "start_time": "2023-01-22T13:34:27.227Z"
      },
      {
        "duration": 99,
        "start_time": "2023-01-22T13:34:27.233Z"
      },
      {
        "duration": 603,
        "start_time": "2023-01-22T13:34:27.334Z"
      },
      {
        "duration": 809,
        "start_time": "2023-01-22T13:34:27.939Z"
      },
      {
        "duration": 437,
        "start_time": "2023-01-22T13:34:28.750Z"
      },
      {
        "duration": 22,
        "start_time": "2023-01-22T13:34:29.190Z"
      },
      {
        "duration": 392,
        "start_time": "2023-01-22T13:34:29.214Z"
      },
      {
        "duration": 326,
        "start_time": "2023-01-22T13:34:29.611Z"
      },
      {
        "duration": 15,
        "start_time": "2023-01-22T13:34:29.940Z"
      },
      {
        "duration": 443,
        "start_time": "2023-01-22T13:34:29.957Z"
      },
      {
        "duration": 263,
        "start_time": "2023-01-22T13:34:30.402Z"
      },
      {
        "duration": 247,
        "start_time": "2023-01-22T13:34:30.667Z"
      },
      {
        "duration": 318,
        "start_time": "2023-01-22T13:34:30.917Z"
      },
      {
        "duration": 15,
        "start_time": "2023-01-22T13:34:31.237Z"
      },
      {
        "duration": 381,
        "start_time": "2023-01-22T13:34:31.254Z"
      },
      {
        "duration": 276,
        "start_time": "2023-01-22T13:34:31.637Z"
      },
      {
        "duration": 4,
        "start_time": "2023-01-22T13:34:31.915Z"
      },
      {
        "duration": 280,
        "start_time": "2023-01-22T13:34:31.921Z"
      },
      {
        "duration": 4,
        "start_time": "2023-01-22T13:34:32.203Z"
      },
      {
        "duration": 55,
        "start_time": "2023-01-22T13:34:32.209Z"
      },
      {
        "duration": 376,
        "start_time": "2023-01-22T13:34:32.266Z"
      },
      {
        "duration": 9,
        "start_time": "2023-01-22T13:34:32.644Z"
      },
      {
        "duration": 157,
        "start_time": "2023-01-22T13:34:32.654Z"
      },
      {
        "duration": 173,
        "start_time": "2023-01-22T13:34:32.813Z"
      },
      {
        "duration": 51,
        "start_time": "2023-01-22T13:34:32.992Z"
      },
      {
        "duration": 60,
        "start_time": "2023-01-22T13:34:33.047Z"
      },
      {
        "duration": 129,
        "start_time": "2023-01-22T13:34:33.109Z"
      },
      {
        "duration": 63,
        "start_time": "2023-01-22T13:34:33.240Z"
      },
      {
        "duration": 317,
        "start_time": "2023-01-22T13:34:33.305Z"
      },
      {
        "duration": 118,
        "start_time": "2023-01-22T13:34:33.624Z"
      },
      {
        "duration": 65,
        "start_time": "2023-01-22T13:34:33.744Z"
      },
      {
        "duration": 829,
        "start_time": "2023-01-22T13:34:33.810Z"
      },
      {
        "duration": 68,
        "start_time": "2023-01-22T13:34:34.641Z"
      },
      {
        "duration": 39,
        "start_time": "2023-01-22T13:34:34.711Z"
      },
      {
        "duration": 361,
        "start_time": "2023-01-22T13:34:34.752Z"
      },
      {
        "duration": 49,
        "start_time": "2023-01-22T13:34:35.115Z"
      },
      {
        "duration": 371,
        "start_time": "2023-01-22T13:34:35.166Z"
      },
      {
        "duration": 65,
        "start_time": "2023-01-22T13:34:35.539Z"
      },
      {
        "duration": 371,
        "start_time": "2023-01-22T13:34:35.606Z"
      },
      {
        "duration": 22,
        "start_time": "2023-01-22T13:34:35.979Z"
      },
      {
        "duration": 56,
        "start_time": "2023-01-22T13:34:36.003Z"
      },
      {
        "duration": 31,
        "start_time": "2023-01-22T13:34:36.061Z"
      },
      {
        "duration": 243,
        "start_time": "2023-01-22T13:34:36.106Z"
      },
      {
        "duration": 428,
        "start_time": "2023-01-22T13:34:36.350Z"
      },
      {
        "duration": 27815,
        "start_time": "2023-01-22T13:34:36.779Z"
      },
      {
        "duration": 1773,
        "start_time": "2023-01-22T13:35:39.421Z"
      },
      {
        "duration": 1215,
        "start_time": "2023-01-22T13:35:41.197Z"
      },
      {
        "duration": 5,
        "start_time": "2023-01-22T13:35:42.416Z"
      },
      {
        "duration": 144,
        "start_time": "2023-01-22T13:35:42.425Z"
      },
      {
        "duration": 546,
        "start_time": "2023-01-22T13:35:42.571Z"
      },
      {
        "duration": 823,
        "start_time": "2023-01-22T13:35:43.120Z"
      },
      {
        "duration": 427,
        "start_time": "2023-01-22T13:35:43.947Z"
      },
      {
        "duration": 19,
        "start_time": "2023-01-22T13:35:44.377Z"
      },
      {
        "duration": 359,
        "start_time": "2023-01-22T13:35:44.398Z"
      },
      {
        "duration": 274,
        "start_time": "2023-01-22T13:35:44.761Z"
      },
      {
        "duration": 13,
        "start_time": "2023-01-22T13:35:45.037Z"
      },
      {
        "duration": 428,
        "start_time": "2023-01-22T13:35:45.052Z"
      },
      {
        "duration": 244,
        "start_time": "2023-01-22T13:35:45.485Z"
      },
      {
        "duration": 276,
        "start_time": "2023-01-22T13:35:45.732Z"
      },
      {
        "duration": 306,
        "start_time": "2023-01-22T13:35:46.010Z"
      },
      {
        "duration": 17,
        "start_time": "2023-01-22T13:35:46.318Z"
      },
      {
        "duration": 337,
        "start_time": "2023-01-22T13:35:46.337Z"
      },
      {
        "duration": 245,
        "start_time": "2023-01-22T13:35:46.676Z"
      },
      {
        "duration": 4,
        "start_time": "2023-01-22T13:35:46.924Z"
      },
      {
        "duration": 275,
        "start_time": "2023-01-22T13:35:46.929Z"
      },
      {
        "duration": 4,
        "start_time": "2023-01-22T13:35:47.206Z"
      },
      {
        "duration": 44,
        "start_time": "2023-01-22T13:35:47.212Z"
      },
      {
        "duration": 320,
        "start_time": "2023-01-22T13:35:47.258Z"
      },
      {
        "duration": 9,
        "start_time": "2023-01-22T13:35:47.584Z"
      },
      {
        "duration": 154,
        "start_time": "2023-01-22T13:35:47.595Z"
      },
      {
        "duration": 163,
        "start_time": "2023-01-22T13:35:47.751Z"
      },
      {
        "duration": 48,
        "start_time": "2023-01-22T13:35:47.917Z"
      },
      {
        "duration": 51,
        "start_time": "2023-01-22T13:35:47.969Z"
      },
      {
        "duration": 151,
        "start_time": "2023-01-22T13:35:48.022Z"
      },
      {
        "duration": 56,
        "start_time": "2023-01-22T13:35:48.175Z"
      },
      {
        "duration": 308,
        "start_time": "2023-01-22T13:35:48.233Z"
      },
      {
        "duration": 109,
        "start_time": "2023-01-22T13:35:48.543Z"
      },
      {
        "duration": 68,
        "start_time": "2023-01-22T13:35:48.654Z"
      },
      {
        "duration": 933,
        "start_time": "2023-01-22T13:35:48.724Z"
      },
      {
        "duration": 67,
        "start_time": "2023-01-22T13:35:49.660Z"
      },
      {
        "duration": 55,
        "start_time": "2023-01-22T13:35:49.729Z"
      },
      {
        "duration": 376,
        "start_time": "2023-01-22T13:35:49.787Z"
      },
      {
        "duration": 58,
        "start_time": "2023-01-22T13:35:50.165Z"
      },
      {
        "duration": 383,
        "start_time": "2023-01-22T13:35:50.225Z"
      },
      {
        "duration": 52,
        "start_time": "2023-01-22T13:35:50.610Z"
      },
      {
        "duration": 407,
        "start_time": "2023-01-22T13:35:50.664Z"
      },
      {
        "duration": 13,
        "start_time": "2023-01-22T13:35:51.073Z"
      },
      {
        "duration": 52,
        "start_time": "2023-01-22T13:35:51.088Z"
      },
      {
        "duration": 60,
        "start_time": "2023-01-22T13:35:51.142Z"
      },
      {
        "duration": 247,
        "start_time": "2023-01-22T13:35:51.204Z"
      },
      {
        "duration": 426,
        "start_time": "2023-01-22T13:35:51.453Z"
      },
      {
        "duration": 24310,
        "start_time": "2023-01-22T13:35:51.885Z"
      },
      {
        "duration": 1876,
        "start_time": "2023-01-22T13:36:49.271Z"
      },
      {
        "duration": 1296,
        "start_time": "2023-01-22T13:36:51.149Z"
      },
      {
        "duration": 4,
        "start_time": "2023-01-22T13:36:52.447Z"
      },
      {
        "duration": 110,
        "start_time": "2023-01-22T13:36:52.455Z"
      },
      {
        "duration": 576,
        "start_time": "2023-01-22T13:36:52.567Z"
      },
      {
        "duration": 799,
        "start_time": "2023-01-22T13:36:53.145Z"
      },
      {
        "duration": 421,
        "start_time": "2023-01-22T13:36:53.946Z"
      },
      {
        "duration": 23,
        "start_time": "2023-01-22T13:36:54.370Z"
      },
      {
        "duration": 345,
        "start_time": "2023-01-22T13:36:54.395Z"
      },
      {
        "duration": 337,
        "start_time": "2023-01-22T13:36:54.743Z"
      },
      {
        "duration": 15,
        "start_time": "2023-01-22T13:36:55.084Z"
      },
      {
        "duration": 418,
        "start_time": "2023-01-22T13:36:55.101Z"
      },
      {
        "duration": 241,
        "start_time": "2023-01-22T13:36:55.521Z"
      },
      {
        "duration": 272,
        "start_time": "2023-01-22T13:36:55.764Z"
      },
      {
        "duration": 320,
        "start_time": "2023-01-22T13:36:56.038Z"
      },
      {
        "duration": 30,
        "start_time": "2023-01-22T13:36:56.361Z"
      },
      {
        "duration": 329,
        "start_time": "2023-01-22T13:36:56.393Z"
      },
      {
        "duration": 246,
        "start_time": "2023-01-22T13:36:56.724Z"
      },
      {
        "duration": 12,
        "start_time": "2023-01-22T13:36:56.972Z"
      },
      {
        "duration": 312,
        "start_time": "2023-01-22T13:36:56.986Z"
      },
      {
        "duration": 4,
        "start_time": "2023-01-22T13:36:57.300Z"
      },
      {
        "duration": 29,
        "start_time": "2023-01-22T13:36:57.306Z"
      },
      {
        "duration": 466,
        "start_time": "2023-01-22T13:36:57.338Z"
      },
      {
        "duration": 10,
        "start_time": "2023-01-22T13:36:57.807Z"
      },
      {
        "duration": 205,
        "start_time": "2023-01-22T13:36:57.818Z"
      },
      {
        "duration": 184,
        "start_time": "2023-01-22T13:36:58.026Z"
      },
      {
        "duration": 50,
        "start_time": "2023-01-22T13:36:58.212Z"
      },
      {
        "duration": 50,
        "start_time": "2023-01-22T13:36:58.266Z"
      },
      {
        "duration": 148,
        "start_time": "2023-01-22T13:36:58.318Z"
      },
      {
        "duration": 79,
        "start_time": "2023-01-22T13:36:58.468Z"
      },
      {
        "duration": 321,
        "start_time": "2023-01-22T13:36:58.548Z"
      },
      {
        "duration": 121,
        "start_time": "2023-01-22T13:36:58.871Z"
      },
      {
        "duration": 54,
        "start_time": "2023-01-22T13:36:58.994Z"
      },
      {
        "duration": 908,
        "start_time": "2023-01-22T13:36:59.051Z"
      },
      {
        "duration": 63,
        "start_time": "2023-01-22T13:36:59.961Z"
      },
      {
        "duration": 82,
        "start_time": "2023-01-22T13:37:00.027Z"
      },
      {
        "duration": 374,
        "start_time": "2023-01-22T13:37:00.111Z"
      },
      {
        "duration": 50,
        "start_time": "2023-01-22T13:37:00.488Z"
      },
      {
        "duration": 384,
        "start_time": "2023-01-22T13:37:00.540Z"
      },
      {
        "duration": 60,
        "start_time": "2023-01-22T13:37:00.926Z"
      },
      {
        "duration": 387,
        "start_time": "2023-01-22T13:37:00.989Z"
      },
      {
        "duration": 6,
        "start_time": "2023-01-22T13:37:01.379Z"
      },
      {
        "duration": 43,
        "start_time": "2023-01-22T13:37:01.387Z"
      },
      {
        "duration": 61,
        "start_time": "2023-01-22T13:37:01.432Z"
      },
      {
        "duration": 245,
        "start_time": "2023-01-22T13:37:01.498Z"
      },
      {
        "duration": 421,
        "start_time": "2023-01-22T13:37:01.745Z"
      },
      {
        "duration": 22031,
        "start_time": "2023-01-22T13:37:02.168Z"
      },
      {
        "duration": 1143111,
        "start_time": "2023-01-22T13:37:24.201Z"
      },
      {
        "duration": 253035,
        "start_time": "2023-01-22T13:56:27.314Z"
      },
      {
        "duration": 6,
        "start_time": "2023-01-22T14:00:40.351Z"
      },
      {
        "duration": 42,
        "start_time": "2023-01-22T14:00:40.359Z"
      },
      {
        "duration": 93,
        "start_time": "2023-01-22T14:00:40.403Z"
      },
      {
        "duration": 98,
        "start_time": "2023-01-22T14:00:40.498Z"
      },
      {
        "duration": 134,
        "start_time": "2023-01-22T14:00:40.599Z"
      },
      {
        "duration": 73,
        "start_time": "2023-01-22T14:00:40.735Z"
      },
      {
        "duration": 98,
        "start_time": "2023-01-22T14:00:40.810Z"
      },
      {
        "duration": 10105,
        "start_time": "2023-01-22T14:00:40.911Z"
      },
      {
        "duration": 9,
        "start_time": "2023-01-22T14:00:51.019Z"
      },
      {
        "duration": 239,
        "start_time": "2023-01-22T14:00:51.030Z"
      },
      {
        "duration": 13,
        "start_time": "2023-01-22T14:00:51.271Z"
      },
      {
        "duration": 99,
        "start_time": "2023-01-22T14:00:51.286Z"
      },
      {
        "duration": 3,
        "start_time": "2023-01-22T14:00:51.387Z"
      },
      {
        "duration": 149,
        "start_time": "2023-01-22T14:00:51.391Z"
      },
      {
        "duration": 24,
        "start_time": "2023-01-22T14:39:14.116Z"
      },
      {
        "duration": 1826,
        "start_time": "2023-01-22T15:57:09.958Z"
      },
      {
        "duration": 48,
        "start_time": "2023-01-22T15:57:28.836Z"
      },
      {
        "duration": 154,
        "start_time": "2023-01-22T15:57:52.311Z"
      },
      {
        "duration": 1561,
        "start_time": "2023-01-22T15:58:00.876Z"
      },
      {
        "duration": 1477,
        "start_time": "2023-01-22T15:58:02.440Z"
      },
      {
        "duration": 3,
        "start_time": "2023-01-22T15:58:03.919Z"
      },
      {
        "duration": 87,
        "start_time": "2023-01-22T15:58:03.924Z"
      },
      {
        "duration": 525,
        "start_time": "2023-01-22T15:58:04.013Z"
      },
      {
        "duration": 750,
        "start_time": "2023-01-22T15:58:04.539Z"
      },
      {
        "duration": 414,
        "start_time": "2023-01-22T15:58:05.291Z"
      },
      {
        "duration": 15,
        "start_time": "2023-01-22T15:58:05.707Z"
      },
      {
        "duration": 358,
        "start_time": "2023-01-22T15:58:05.724Z"
      },
      {
        "duration": 271,
        "start_time": "2023-01-22T15:58:06.084Z"
      },
      {
        "duration": 13,
        "start_time": "2023-01-22T15:58:06.357Z"
      },
      {
        "duration": 398,
        "start_time": "2023-01-22T15:58:06.384Z"
      },
      {
        "duration": 225,
        "start_time": "2023-01-22T15:58:06.784Z"
      },
      {
        "duration": 217,
        "start_time": "2023-01-22T15:58:07.013Z"
      },
      {
        "duration": 336,
        "start_time": "2023-01-22T15:58:07.232Z"
      },
      {
        "duration": 25,
        "start_time": "2023-01-22T15:58:07.570Z"
      },
      {
        "duration": 331,
        "start_time": "2023-01-22T15:58:07.597Z"
      },
      {
        "duration": 247,
        "start_time": "2023-01-22T15:58:07.930Z"
      },
      {
        "duration": 6,
        "start_time": "2023-01-22T15:58:08.179Z"
      },
      {
        "duration": 255,
        "start_time": "2023-01-22T15:58:08.187Z"
      },
      {
        "duration": 5,
        "start_time": "2023-01-22T15:58:08.444Z"
      },
      {
        "duration": 34,
        "start_time": "2023-01-22T15:58:08.451Z"
      },
      {
        "duration": 350,
        "start_time": "2023-01-22T15:58:08.488Z"
      },
      {
        "duration": 10,
        "start_time": "2023-01-22T15:58:08.841Z"
      },
      {
        "duration": 217,
        "start_time": "2023-01-22T15:58:08.853Z"
      },
      {
        "duration": 170,
        "start_time": "2023-01-22T15:58:09.073Z"
      },
      {
        "duration": 77,
        "start_time": "2023-01-22T15:58:09.245Z"
      },
      {
        "duration": 63,
        "start_time": "2023-01-22T15:58:09.325Z"
      },
      {
        "duration": 158,
        "start_time": "2023-01-22T15:58:09.391Z"
      },
      {
        "duration": 76,
        "start_time": "2023-01-22T15:58:09.552Z"
      },
      {
        "duration": 382,
        "start_time": "2023-01-22T15:58:09.631Z"
      },
      {
        "duration": 127,
        "start_time": "2023-01-22T15:58:10.015Z"
      },
      {
        "duration": 72,
        "start_time": "2023-01-22T15:58:10.145Z"
      },
      {
        "duration": 966,
        "start_time": "2023-01-22T15:58:10.221Z"
      },
      {
        "duration": 80,
        "start_time": "2023-01-22T15:58:11.190Z"
      },
      {
        "duration": 44,
        "start_time": "2023-01-22T15:58:11.272Z"
      },
      {
        "duration": 362,
        "start_time": "2023-01-22T15:58:11.318Z"
      },
      {
        "duration": 63,
        "start_time": "2023-01-22T15:58:11.684Z"
      },
      {
        "duration": 397,
        "start_time": "2023-01-22T15:58:11.749Z"
      },
      {
        "duration": 57,
        "start_time": "2023-01-22T15:58:12.147Z"
      },
      {
        "duration": 396,
        "start_time": "2023-01-22T15:58:12.212Z"
      },
      {
        "duration": 5,
        "start_time": "2023-01-22T15:58:12.610Z"
      },
      {
        "duration": 36,
        "start_time": "2023-01-22T15:58:12.617Z"
      },
      {
        "duration": 57,
        "start_time": "2023-01-22T15:58:12.655Z"
      },
      {
        "duration": 250,
        "start_time": "2023-01-22T15:58:12.714Z"
      },
      {
        "duration": 470,
        "start_time": "2023-01-22T15:58:12.966Z"
      },
      {
        "duration": 31067,
        "start_time": "2023-01-22T15:58:13.438Z"
      },
      {
        "duration": 1109323,
        "start_time": "2023-01-22T15:58:44.585Z"
      },
      {
        "duration": 248128,
        "start_time": "2023-01-22T16:17:13.912Z"
      },
      {
        "duration": 5,
        "start_time": "2023-01-22T16:21:22.041Z"
      },
      {
        "duration": 40,
        "start_time": "2023-01-22T16:21:22.048Z"
      },
      {
        "duration": 134,
        "start_time": "2023-01-22T16:21:22.091Z"
      },
      {
        "duration": 78,
        "start_time": "2023-01-22T16:21:22.227Z"
      },
      {
        "duration": 117,
        "start_time": "2023-01-22T16:21:22.306Z"
      },
      {
        "duration": 68,
        "start_time": "2023-01-22T16:21:22.425Z"
      },
      {
        "duration": 92,
        "start_time": "2023-01-22T16:21:22.495Z"
      },
      {
        "duration": 9957,
        "start_time": "2023-01-22T16:21:22.589Z"
      },
      {
        "duration": 8,
        "start_time": "2023-01-22T16:21:32.548Z"
      },
      {
        "duration": 236,
        "start_time": "2023-01-22T16:21:32.558Z"
      },
      {
        "duration": 2,
        "start_time": "2023-01-22T16:21:32.796Z"
      },
      {
        "duration": 95,
        "start_time": "2023-01-22T16:21:32.800Z"
      },
      {
        "duration": 45,
        "start_time": "2023-01-22T16:21:32.897Z"
      },
      {
        "duration": 0,
        "start_time": "2023-01-22T16:21:32.944Z"
      },
      {
        "duration": 46,
        "start_time": "2023-01-22T16:22:24.685Z"
      },
      {
        "duration": 124,
        "start_time": "2023-01-22T16:23:05.723Z"
      },
      {
        "duration": 4,
        "start_time": "2023-01-22T16:24:21.709Z"
      },
      {
        "duration": 38,
        "start_time": "2023-01-22T16:25:32.553Z"
      },
      {
        "duration": 15,
        "start_time": "2023-01-22T16:27:39.855Z"
      },
      {
        "duration": 3,
        "start_time": "2023-01-22T16:27:52.319Z"
      },
      {
        "duration": 34,
        "start_time": "2023-01-22T16:27:57.080Z"
      },
      {
        "duration": 11,
        "start_time": "2023-01-22T18:01:42.359Z"
      },
      {
        "duration": 24,
        "start_time": "2023-01-22T18:01:53.284Z"
      },
      {
        "duration": 230,
        "start_time": "2023-01-22T18:02:55.070Z"
      },
      {
        "duration": 133,
        "start_time": "2023-01-22T18:03:23.026Z"
      },
      {
        "duration": 195,
        "start_time": "2023-01-22T18:05:02.028Z"
      },
      {
        "duration": 390,
        "start_time": "2023-01-22T18:05:32.976Z"
      },
      {
        "duration": 129,
        "start_time": "2023-01-22T18:07:47.917Z"
      },
      {
        "duration": 200,
        "start_time": "2023-01-22T18:09:05.244Z"
      },
      {
        "duration": 53,
        "start_time": "2023-01-22T18:10:56.035Z"
      },
      {
        "duration": 0,
        "start_time": "2023-01-22T18:17:22.327Z"
      },
      {
        "duration": 374703,
        "start_time": "2023-01-22T18:19:21.534Z"
      },
      {
        "duration": 483021,
        "start_time": "2023-01-22T18:30:08.276Z"
      },
      {
        "duration": 1579,
        "start_time": "2023-01-22T23:49:06.303Z"
      },
      {
        "duration": 2969,
        "start_time": "2023-01-22T23:49:07.884Z"
      },
      {
        "duration": 4,
        "start_time": "2023-01-22T23:49:10.854Z"
      },
      {
        "duration": 73,
        "start_time": "2023-01-22T23:49:10.860Z"
      },
      {
        "duration": 468,
        "start_time": "2023-01-22T23:49:10.935Z"
      },
      {
        "duration": 655,
        "start_time": "2023-01-22T23:49:11.405Z"
      },
      {
        "duration": 376,
        "start_time": "2023-01-22T23:49:12.062Z"
      },
      {
        "duration": 15,
        "start_time": "2023-01-22T23:49:12.440Z"
      },
      {
        "duration": 339,
        "start_time": "2023-01-22T23:49:12.456Z"
      },
      {
        "duration": 234,
        "start_time": "2023-01-22T23:49:12.797Z"
      },
      {
        "duration": 14,
        "start_time": "2023-01-22T23:49:13.033Z"
      },
      {
        "duration": 377,
        "start_time": "2023-01-22T23:49:13.049Z"
      },
      {
        "duration": 214,
        "start_time": "2023-01-22T23:49:13.428Z"
      },
      {
        "duration": 184,
        "start_time": "2023-01-22T23:49:13.646Z"
      },
      {
        "duration": 267,
        "start_time": "2023-01-22T23:49:13.832Z"
      },
      {
        "duration": 14,
        "start_time": "2023-01-22T23:49:14.101Z"
      },
      {
        "duration": 285,
        "start_time": "2023-01-22T23:49:14.117Z"
      },
      {
        "duration": 188,
        "start_time": "2023-01-22T23:49:14.404Z"
      },
      {
        "duration": 4,
        "start_time": "2023-01-22T23:49:14.594Z"
      },
      {
        "duration": 175,
        "start_time": "2023-01-22T23:49:14.600Z"
      },
      {
        "duration": 3,
        "start_time": "2023-01-22T23:49:14.782Z"
      },
      {
        "duration": 18,
        "start_time": "2023-01-22T23:49:14.786Z"
      },
      {
        "duration": 269,
        "start_time": "2023-01-22T23:49:14.805Z"
      },
      {
        "duration": 7,
        "start_time": "2023-01-22T23:49:15.081Z"
      },
      {
        "duration": 100,
        "start_time": "2023-01-22T23:49:15.090Z"
      },
      {
        "duration": 116,
        "start_time": "2023-01-22T23:49:15.192Z"
      },
      {
        "duration": 48,
        "start_time": "2023-01-22T23:49:15.311Z"
      },
      {
        "duration": 46,
        "start_time": "2023-01-22T23:49:15.361Z"
      },
      {
        "duration": 112,
        "start_time": "2023-01-22T23:49:15.408Z"
      },
      {
        "duration": 39,
        "start_time": "2023-01-22T23:49:15.521Z"
      },
      {
        "duration": 253,
        "start_time": "2023-01-22T23:49:15.562Z"
      },
      {
        "duration": 96,
        "start_time": "2023-01-22T23:49:15.817Z"
      },
      {
        "duration": 39,
        "start_time": "2023-01-22T23:49:15.915Z"
      },
      {
        "duration": 743,
        "start_time": "2023-01-22T23:49:15.956Z"
      },
      {
        "duration": 39,
        "start_time": "2023-01-22T23:49:16.701Z"
      },
      {
        "duration": 48,
        "start_time": "2023-01-22T23:49:16.742Z"
      },
      {
        "duration": 312,
        "start_time": "2023-01-22T23:49:16.792Z"
      },
      {
        "duration": 40,
        "start_time": "2023-01-22T23:49:17.106Z"
      },
      {
        "duration": 355,
        "start_time": "2023-01-22T23:49:17.149Z"
      },
      {
        "duration": 36,
        "start_time": "2023-01-22T23:49:17.505Z"
      },
      {
        "duration": 351,
        "start_time": "2023-01-22T23:49:17.547Z"
      },
      {
        "duration": 3,
        "start_time": "2023-01-22T23:49:17.900Z"
      },
      {
        "duration": 20,
        "start_time": "2023-01-22T23:49:17.904Z"
      },
      {
        "duration": 58,
        "start_time": "2023-01-22T23:49:17.926Z"
      },
      {
        "duration": 236,
        "start_time": "2023-01-22T23:49:17.986Z"
      },
      {
        "duration": 396,
        "start_time": "2023-01-22T23:49:18.224Z"
      },
      {
        "duration": 19263,
        "start_time": "2023-01-22T23:49:18.622Z"
      },
      {
        "duration": 1146179,
        "start_time": "2023-01-22T23:49:37.886Z"
      },
      {
        "duration": 250237,
        "start_time": "2023-01-23T00:08:44.068Z"
      },
      {
        "duration": 5,
        "start_time": "2023-01-23T00:12:54.307Z"
      },
      {
        "duration": 42,
        "start_time": "2023-01-23T00:12:54.314Z"
      },
      {
        "duration": 73,
        "start_time": "2023-01-23T00:12:54.358Z"
      },
      {
        "duration": 72,
        "start_time": "2023-01-23T00:12:54.433Z"
      },
      {
        "duration": 92,
        "start_time": "2023-01-23T00:12:54.507Z"
      },
      {
        "duration": 42,
        "start_time": "2023-01-23T00:12:54.601Z"
      },
      {
        "duration": 86,
        "start_time": "2023-01-23T00:12:54.645Z"
      },
      {
        "duration": 8904,
        "start_time": "2023-01-23T00:12:54.733Z"
      },
      {
        "duration": 57,
        "start_time": "2023-01-23T00:13:03.639Z"
      },
      {
        "duration": 121,
        "start_time": "2023-01-23T00:13:03.698Z"
      },
      {
        "duration": 3,
        "start_time": "2023-01-23T00:13:03.820Z"
      },
      {
        "duration": 70,
        "start_time": "2023-01-23T00:13:03.824Z"
      },
      {
        "duration": 355890,
        "start_time": "2023-01-23T00:13:03.896Z"
      },
      {
        "duration": 6,
        "start_time": "2023-01-23T00:22:22.375Z"
      },
      {
        "duration": 98,
        "start_time": "2023-01-23T00:25:19.459Z"
      },
      {
        "duration": 111,
        "start_time": "2023-01-23T00:26:00.188Z"
      },
      {
        "duration": 8729,
        "start_time": "2023-01-23T00:26:42.971Z"
      },
      {
        "duration": 47,
        "start_time": "2023-01-23T00:29:59.129Z"
      },
      {
        "duration": 319874,
        "start_time": "2023-01-23T00:30:43.408Z"
      },
      {
        "duration": 10,
        "start_time": "2023-01-23T00:38:07.326Z"
      },
      {
        "duration": 6,
        "start_time": "2023-01-23T00:39:10.360Z"
      },
      {
        "duration": 87,
        "start_time": "2023-01-23T00:39:44.526Z"
      },
      {
        "duration": 1524,
        "start_time": "2023-01-23T00:40:18.273Z"
      },
      {
        "duration": 1244,
        "start_time": "2023-01-23T00:40:19.800Z"
      },
      {
        "duration": 5,
        "start_time": "2023-01-23T00:40:21.046Z"
      },
      {
        "duration": 90,
        "start_time": "2023-01-23T00:40:21.053Z"
      },
      {
        "duration": 513,
        "start_time": "2023-01-23T00:40:21.145Z"
      },
      {
        "duration": 834,
        "start_time": "2023-01-23T00:40:21.660Z"
      },
      {
        "duration": 419,
        "start_time": "2023-01-23T00:40:22.496Z"
      },
      {
        "duration": 15,
        "start_time": "2023-01-23T00:40:22.917Z"
      },
      {
        "duration": 333,
        "start_time": "2023-01-23T00:40:22.934Z"
      },
      {
        "duration": 260,
        "start_time": "2023-01-23T00:40:23.271Z"
      },
      {
        "duration": 13,
        "start_time": "2023-01-23T00:40:23.533Z"
      },
      {
        "duration": 394,
        "start_time": "2023-01-23T00:40:23.548Z"
      },
      {
        "duration": 228,
        "start_time": "2023-01-23T00:40:23.944Z"
      },
      {
        "duration": 224,
        "start_time": "2023-01-23T00:40:24.180Z"
      },
      {
        "duration": 274,
        "start_time": "2023-01-23T00:40:24.407Z"
      },
      {
        "duration": 19,
        "start_time": "2023-01-23T00:40:24.684Z"
      },
      {
        "duration": 315,
        "start_time": "2023-01-23T00:40:24.706Z"
      },
      {
        "duration": 216,
        "start_time": "2023-01-23T00:40:25.024Z"
      },
      {
        "duration": 4,
        "start_time": "2023-01-23T00:40:25.242Z"
      },
      {
        "duration": 198,
        "start_time": "2023-01-23T00:40:25.249Z"
      },
      {
        "duration": 5,
        "start_time": "2023-01-23T00:40:25.449Z"
      },
      {
        "duration": 29,
        "start_time": "2023-01-23T00:40:25.456Z"
      },
      {
        "duration": 370,
        "start_time": "2023-01-23T00:40:25.487Z"
      },
      {
        "duration": 8,
        "start_time": "2023-01-23T00:40:25.859Z"
      },
      {
        "duration": 106,
        "start_time": "2023-01-23T00:40:25.881Z"
      },
      {
        "duration": 155,
        "start_time": "2023-01-23T00:40:25.989Z"
      },
      {
        "duration": 56,
        "start_time": "2023-01-23T00:40:26.146Z"
      },
      {
        "duration": 38,
        "start_time": "2023-01-23T00:40:26.208Z"
      },
      {
        "duration": 185,
        "start_time": "2023-01-23T00:40:26.249Z"
      },
      {
        "duration": 63,
        "start_time": "2023-01-23T00:40:26.436Z"
      },
      {
        "duration": 280,
        "start_time": "2023-01-23T00:40:26.501Z"
      },
      {
        "duration": 123,
        "start_time": "2023-01-23T00:40:26.784Z"
      },
      {
        "duration": 43,
        "start_time": "2023-01-23T00:40:26.910Z"
      },
      {
        "duration": 866,
        "start_time": "2023-01-23T00:40:26.955Z"
      },
      {
        "duration": 39,
        "start_time": "2023-01-23T00:40:27.823Z"
      },
      {
        "duration": 51,
        "start_time": "2023-01-23T00:40:27.864Z"
      },
      {
        "duration": 361,
        "start_time": "2023-01-23T00:40:27.917Z"
      },
      {
        "duration": 48,
        "start_time": "2023-01-23T00:40:28.281Z"
      },
      {
        "duration": 381,
        "start_time": "2023-01-23T00:40:28.331Z"
      },
      {
        "duration": 45,
        "start_time": "2023-01-23T00:40:28.715Z"
      },
      {
        "duration": 374,
        "start_time": "2023-01-23T00:40:28.762Z"
      },
      {
        "duration": 5,
        "start_time": "2023-01-23T00:40:29.138Z"
      },
      {
        "duration": 27,
        "start_time": "2023-01-23T00:40:29.145Z"
      },
      {
        "duration": 34,
        "start_time": "2023-01-23T00:40:29.184Z"
      },
      {
        "duration": 262,
        "start_time": "2023-01-23T00:40:29.221Z"
      },
      {
        "duration": 408,
        "start_time": "2023-01-23T00:40:29.485Z"
      },
      {
        "duration": 1156941,
        "start_time": "2023-01-23T00:41:34.692Z"
      },
      {
        "duration": 235759,
        "start_time": "2023-01-23T01:00:51.636Z"
      },
      {
        "duration": 5,
        "start_time": "2023-01-23T01:04:47.396Z"
      },
      {
        "duration": 30,
        "start_time": "2023-01-23T01:04:47.402Z"
      },
      {
        "duration": 71,
        "start_time": "2023-01-23T01:04:47.434Z"
      },
      {
        "duration": 79,
        "start_time": "2023-01-23T01:04:47.508Z"
      },
      {
        "duration": 90,
        "start_time": "2023-01-23T01:04:47.591Z"
      },
      {
        "duration": 44,
        "start_time": "2023-01-23T01:04:47.683Z"
      },
      {
        "duration": 115,
        "start_time": "2023-01-23T01:04:47.729Z"
      },
      {
        "duration": 9618,
        "start_time": "2023-01-23T01:04:47.845Z"
      },
      {
        "duration": 78,
        "start_time": "2023-01-23T01:04:57.465Z"
      },
      {
        "duration": 144,
        "start_time": "2023-01-23T01:04:57.546Z"
      },
      {
        "duration": 3,
        "start_time": "2023-01-23T01:04:57.699Z"
      },
      {
        "duration": 50,
        "start_time": "2023-01-23T01:04:57.704Z"
      },
      {
        "duration": 410951,
        "start_time": "2023-01-23T01:04:57.756Z"
      },
      {
        "duration": 76,
        "start_time": "2023-01-23T01:11:48.709Z"
      },
      {
        "duration": 34299,
        "start_time": "2023-01-23T01:12:12.395Z"
      },
      {
        "duration": 5308,
        "start_time": "2023-01-23T01:12:46.697Z"
      },
      {
        "duration": 5002,
        "start_time": "2023-01-23T01:14:07.594Z"
      },
      {
        "duration": 5,
        "start_time": "2023-01-23T01:15:16.906Z"
      },
      {
        "duration": 9963,
        "start_time": "2023-01-23T01:18:43.335Z"
      },
      {
        "duration": 6,
        "start_time": "2023-01-23T01:19:45.525Z"
      },
      {
        "duration": 354789,
        "start_time": "2023-01-23T01:22:07.511Z"
      },
      {
        "duration": 1720,
        "start_time": "2023-01-23T05:21:10.363Z"
      },
      {
        "duration": 1250,
        "start_time": "2023-01-23T05:21:12.085Z"
      },
      {
        "duration": 4,
        "start_time": "2023-01-23T05:21:13.337Z"
      },
      {
        "duration": 66,
        "start_time": "2023-01-23T05:21:13.343Z"
      },
      {
        "duration": 442,
        "start_time": "2023-01-23T05:21:13.411Z"
      },
      {
        "duration": 650,
        "start_time": "2023-01-23T05:21:13.855Z"
      },
      {
        "duration": 376,
        "start_time": "2023-01-23T05:21:14.507Z"
      },
      {
        "duration": 13,
        "start_time": "2023-01-23T05:21:14.885Z"
      },
      {
        "duration": 328,
        "start_time": "2023-01-23T05:21:14.900Z"
      },
      {
        "duration": 220,
        "start_time": "2023-01-23T05:21:15.231Z"
      },
      {
        "duration": 11,
        "start_time": "2023-01-23T05:21:15.453Z"
      },
      {
        "duration": 371,
        "start_time": "2023-01-23T05:21:15.466Z"
      },
      {
        "duration": 185,
        "start_time": "2023-01-23T05:21:15.839Z"
      },
      {
        "duration": 189,
        "start_time": "2023-01-23T05:21:16.027Z"
      },
      {
        "duration": 320,
        "start_time": "2023-01-23T05:21:16.218Z"
      },
      {
        "duration": 14,
        "start_time": "2023-01-23T05:21:16.539Z"
      },
      {
        "duration": 295,
        "start_time": "2023-01-23T05:21:16.555Z"
      },
      {
        "duration": 201,
        "start_time": "2023-01-23T05:21:16.852Z"
      },
      {
        "duration": 3,
        "start_time": "2023-01-23T05:21:17.055Z"
      },
      {
        "duration": 178,
        "start_time": "2023-01-23T05:21:17.060Z"
      },
      {
        "duration": 3,
        "start_time": "2023-01-23T05:21:17.240Z"
      },
      {
        "duration": 15,
        "start_time": "2023-01-23T05:21:17.245Z"
      },
      {
        "duration": 326,
        "start_time": "2023-01-23T05:21:17.262Z"
      },
      {
        "duration": 8,
        "start_time": "2023-01-23T05:21:17.590Z"
      },
      {
        "duration": 107,
        "start_time": "2023-01-23T05:21:17.599Z"
      },
      {
        "duration": 124,
        "start_time": "2023-01-23T05:21:17.708Z"
      },
      {
        "duration": 42,
        "start_time": "2023-01-23T05:21:17.834Z"
      },
      {
        "duration": 56,
        "start_time": "2023-01-23T05:21:17.881Z"
      },
      {
        "duration": 116,
        "start_time": "2023-01-23T05:21:17.940Z"
      },
      {
        "duration": 42,
        "start_time": "2023-01-23T05:21:18.059Z"
      },
      {
        "duration": 305,
        "start_time": "2023-01-23T05:21:18.103Z"
      },
      {
        "duration": 109,
        "start_time": "2023-01-23T05:21:18.410Z"
      },
      {
        "duration": 52,
        "start_time": "2023-01-23T05:21:18.526Z"
      },
      {
        "duration": 703,
        "start_time": "2023-01-23T05:21:18.580Z"
      },
      {
        "duration": 56,
        "start_time": "2023-01-23T05:21:19.285Z"
      },
      {
        "duration": 38,
        "start_time": "2023-01-23T05:21:19.343Z"
      },
      {
        "duration": 370,
        "start_time": "2023-01-23T05:21:19.383Z"
      },
      {
        "duration": 43,
        "start_time": "2023-01-23T05:21:19.755Z"
      },
      {
        "duration": 342,
        "start_time": "2023-01-23T05:21:19.799Z"
      },
      {
        "duration": 36,
        "start_time": "2023-01-23T05:21:20.143Z"
      },
      {
        "duration": 376,
        "start_time": "2023-01-23T05:21:20.181Z"
      },
      {
        "duration": 11,
        "start_time": "2023-01-23T05:21:20.559Z"
      },
      {
        "duration": 59,
        "start_time": "2023-01-23T05:21:20.571Z"
      },
      {
        "duration": 87,
        "start_time": "2023-01-23T05:21:20.632Z"
      },
      {
        "duration": 235,
        "start_time": "2023-01-23T05:21:20.722Z"
      },
      {
        "duration": 383,
        "start_time": "2023-01-23T05:21:20.959Z"
      },
      {
        "duration": 24091,
        "start_time": "2023-01-23T05:21:21.344Z"
      },
      {
        "duration": 1022515,
        "start_time": "2023-01-23T05:21:45.437Z"
      },
      {
        "duration": 227987,
        "start_time": "2023-01-23T05:38:47.954Z"
      },
      {
        "duration": 5,
        "start_time": "2023-01-23T05:42:35.942Z"
      },
      {
        "duration": 25,
        "start_time": "2023-01-23T05:42:35.948Z"
      },
      {
        "duration": 77,
        "start_time": "2023-01-23T05:42:35.974Z"
      },
      {
        "duration": 58,
        "start_time": "2023-01-23T05:42:36.052Z"
      },
      {
        "duration": 90,
        "start_time": "2023-01-23T05:42:36.111Z"
      },
      {
        "duration": 51,
        "start_time": "2023-01-23T05:42:36.203Z"
      },
      {
        "duration": 90,
        "start_time": "2023-01-23T05:42:36.256Z"
      },
      {
        "duration": 8770,
        "start_time": "2023-01-23T05:42:36.348Z"
      },
      {
        "duration": 57,
        "start_time": "2023-01-23T05:42:45.120Z"
      },
      {
        "duration": 140,
        "start_time": "2023-01-23T05:42:45.178Z"
      },
      {
        "duration": 7,
        "start_time": "2023-01-23T05:42:45.320Z"
      },
      {
        "duration": 47,
        "start_time": "2023-01-23T05:42:45.329Z"
      },
      {
        "duration": 360064,
        "start_time": "2023-01-23T05:42:45.378Z"
      },
      {
        "duration": 5,
        "start_time": "2023-01-23T05:48:45.443Z"
      },
      {
        "duration": 4815,
        "start_time": "2023-01-23T05:48:45.450Z"
      },
      {
        "duration": 6,
        "start_time": "2023-01-23T05:48:50.267Z"
      },
      {
        "duration": 8765,
        "start_time": "2023-01-23T05:48:50.275Z"
      },
      {
        "duration": 7,
        "start_time": "2023-01-23T05:48:59.042Z"
      },
      {
        "duration": 0,
        "start_time": "2023-01-23T06:00:53.106Z"
      },
      {
        "duration": 0,
        "start_time": "2023-01-23T06:00:53.107Z"
      },
      {
        "duration": 0,
        "start_time": "2023-01-23T06:00:53.108Z"
      },
      {
        "duration": 4878,
        "start_time": "2023-01-23T06:12:09.304Z"
      },
      {
        "duration": 349803,
        "start_time": "2023-01-23T06:13:15.727Z"
      },
      {
        "duration": 1512,
        "start_time": "2023-01-24T13:40:26.524Z"
      },
      {
        "duration": 847,
        "start_time": "2023-01-24T13:40:28.038Z"
      },
      {
        "duration": 4,
        "start_time": "2023-01-24T13:40:28.886Z"
      },
      {
        "duration": 67,
        "start_time": "2023-01-24T13:40:28.892Z"
      },
      {
        "duration": 409,
        "start_time": "2023-01-24T13:40:28.961Z"
      },
      {
        "duration": 582,
        "start_time": "2023-01-24T13:40:29.371Z"
      },
      {
        "duration": 273,
        "start_time": "2023-01-24T13:40:29.955Z"
      },
      {
        "duration": 13,
        "start_time": "2023-01-24T13:40:30.236Z"
      },
      {
        "duration": 303,
        "start_time": "2023-01-24T13:40:30.250Z"
      },
      {
        "duration": 226,
        "start_time": "2023-01-24T13:40:30.556Z"
      },
      {
        "duration": 10,
        "start_time": "2023-01-24T13:40:30.784Z"
      },
      {
        "duration": 336,
        "start_time": "2023-01-24T13:40:30.796Z"
      },
      {
        "duration": 185,
        "start_time": "2023-01-24T13:40:31.136Z"
      },
      {
        "duration": 187,
        "start_time": "2023-01-24T13:40:31.323Z"
      },
      {
        "duration": 243,
        "start_time": "2023-01-24T13:40:31.512Z"
      },
      {
        "duration": 11,
        "start_time": "2023-01-24T13:40:31.757Z"
      },
      {
        "duration": 259,
        "start_time": "2023-01-24T13:40:31.769Z"
      },
      {
        "duration": 187,
        "start_time": "2023-01-24T13:40:32.029Z"
      },
      {
        "duration": 3,
        "start_time": "2023-01-24T13:40:32.218Z"
      },
      {
        "duration": 240,
        "start_time": "2023-01-24T13:40:32.223Z"
      },
      {
        "duration": 3,
        "start_time": "2023-01-24T13:40:32.465Z"
      },
      {
        "duration": 41,
        "start_time": "2023-01-24T13:40:32.470Z"
      },
      {
        "duration": 298,
        "start_time": "2023-01-24T13:40:32.513Z"
      },
      {
        "duration": 7,
        "start_time": "2023-01-24T13:40:32.813Z"
      },
      {
        "duration": 131,
        "start_time": "2023-01-24T13:40:32.822Z"
      },
      {
        "duration": 121,
        "start_time": "2023-01-24T13:40:32.954Z"
      },
      {
        "duration": 31,
        "start_time": "2023-01-24T13:40:33.076Z"
      },
      {
        "duration": 43,
        "start_time": "2023-01-24T13:40:33.111Z"
      },
      {
        "duration": 104,
        "start_time": "2023-01-24T13:40:33.156Z"
      },
      {
        "duration": 31,
        "start_time": "2023-01-24T13:40:33.261Z"
      },
      {
        "duration": 272,
        "start_time": "2023-01-24T13:40:33.293Z"
      },
      {
        "duration": 87,
        "start_time": "2023-01-24T13:40:33.567Z"
      },
      {
        "duration": 34,
        "start_time": "2023-01-24T13:40:33.656Z"
      },
      {
        "duration": 289,
        "start_time": "2023-01-24T13:40:33.692Z"
      },
      {
        "duration": 31,
        "start_time": "2023-01-24T13:40:33.982Z"
      },
      {
        "duration": 51,
        "start_time": "2023-01-24T13:40:34.015Z"
      },
      {
        "duration": 299,
        "start_time": "2023-01-24T13:40:34.068Z"
      },
      {
        "duration": 35,
        "start_time": "2023-01-24T13:40:34.369Z"
      },
      {
        "duration": 318,
        "start_time": "2023-01-24T13:40:34.406Z"
      },
      {
        "duration": 33,
        "start_time": "2023-01-24T13:40:34.725Z"
      },
      {
        "duration": 321,
        "start_time": "2023-01-24T13:40:34.760Z"
      },
      {
        "duration": 3,
        "start_time": "2023-01-24T13:40:35.083Z"
      },
      {
        "duration": 27,
        "start_time": "2023-01-24T13:40:35.088Z"
      },
      {
        "duration": 54,
        "start_time": "2023-01-24T13:40:35.117Z"
      },
      {
        "duration": 224,
        "start_time": "2023-01-24T13:40:35.173Z"
      },
      {
        "duration": 366,
        "start_time": "2023-01-24T13:40:35.400Z"
      },
      {
        "duration": 15373,
        "start_time": "2023-01-24T13:40:35.768Z"
      },
      {
        "duration": 996612,
        "start_time": "2023-01-24T13:40:51.143Z"
      },
      {
        "duration": 215028,
        "start_time": "2023-01-24T13:57:27.757Z"
      },
      {
        "duration": 6,
        "start_time": "2023-01-24T14:01:02.786Z"
      },
      {
        "duration": 49,
        "start_time": "2023-01-24T14:01:02.795Z"
      },
      {
        "duration": 1663,
        "start_time": "2023-01-24T14:01:02.847Z"
      },
      {
        "duration": 99,
        "start_time": "2023-01-24T14:01:04.512Z"
      },
      {
        "duration": 116,
        "start_time": "2023-01-24T14:01:04.613Z"
      },
      {
        "duration": 74,
        "start_time": "2023-01-24T14:01:04.731Z"
      },
      {
        "duration": 95,
        "start_time": "2023-01-24T14:01:04.807Z"
      },
      {
        "duration": 8342,
        "start_time": "2023-01-24T14:01:04.903Z"
      },
      {
        "duration": 73,
        "start_time": "2023-01-24T14:01:13.247Z"
      },
      {
        "duration": 118,
        "start_time": "2023-01-24T14:01:13.322Z"
      },
      {
        "duration": 50,
        "start_time": "2023-01-24T14:01:13.442Z"
      },
      {
        "duration": 354952,
        "start_time": "2023-01-24T14:01:13.493Z"
      },
      {
        "duration": 5,
        "start_time": "2023-01-24T14:07:08.447Z"
      },
      {
        "duration": 4610,
        "start_time": "2023-01-24T14:07:08.453Z"
      },
      {
        "duration": 6,
        "start_time": "2023-01-24T14:07:13.065Z"
      },
      {
        "duration": 8479,
        "start_time": "2023-01-24T14:07:13.073Z"
      },
      {
        "duration": 5,
        "start_time": "2023-01-24T14:07:21.554Z"
      },
      {
        "duration": 340778,
        "start_time": "2023-01-24T14:07:21.561Z"
      },
      {
        "duration": 45,
        "start_time": "2023-01-25T02:59:54.877Z"
      },
      {
        "duration": 1808,
        "start_time": "2023-01-25T03:00:01.234Z"
      },
      {
        "duration": 3198,
        "start_time": "2023-01-25T03:00:07.679Z"
      },
      {
        "duration": 4,
        "start_time": "2023-01-25T03:00:19.996Z"
      },
      {
        "duration": 934,
        "start_time": "2023-01-25T03:00:26.037Z"
      },
      {
        "duration": 4,
        "start_time": "2023-01-25T03:00:45.036Z"
      },
      {
        "duration": 64,
        "start_time": "2023-01-25T03:00:52.599Z"
      },
      {
        "duration": 383,
        "start_time": "2023-01-25T03:00:57.245Z"
      },
      {
        "duration": 38,
        "start_time": "2023-01-25T03:01:09.015Z"
      },
      {
        "duration": 653,
        "start_time": "2023-01-25T03:01:16.101Z"
      },
      {
        "duration": 348,
        "start_time": "2023-01-25T03:01:21.106Z"
      },
      {
        "duration": 14,
        "start_time": "2023-01-25T03:01:27.373Z"
      },
      {
        "duration": 276,
        "start_time": "2023-01-25T03:01:47.578Z"
      },
      {
        "duration": 211,
        "start_time": "2023-01-25T03:01:54.891Z"
      },
      {
        "duration": 11,
        "start_time": "2023-01-25T03:02:04.824Z"
      },
      {
        "duration": 326,
        "start_time": "2023-01-25T03:02:17.098Z"
      },
      {
        "duration": 176,
        "start_time": "2023-01-25T03:02:23.005Z"
      },
      {
        "duration": 5,
        "start_time": "2023-01-25T03:06:52.894Z"
      },
      {
        "duration": 25,
        "start_time": "2023-01-25T03:07:09.698Z"
      },
      {
        "duration": 29,
        "start_time": "2023-01-25T03:08:21.996Z"
      },
      {
        "duration": 43,
        "start_time": "2023-01-25T03:10:33.464Z"
      },
      {
        "duration": 169,
        "start_time": "2023-01-25T03:15:18.427Z"
      },
      {
        "duration": 165,
        "start_time": "2023-01-25T03:16:27.793Z"
      },
      {
        "duration": 169,
        "start_time": "2023-01-25T03:16:32.700Z"
      },
      {
        "duration": 294,
        "start_time": "2023-01-25T03:17:23.471Z"
      },
      {
        "duration": 258,
        "start_time": "2023-01-25T03:17:45.285Z"
      },
      {
        "duration": 14,
        "start_time": "2023-01-25T03:17:58.132Z"
      },
      {
        "duration": 270,
        "start_time": "2023-01-25T03:18:08.089Z"
      },
      {
        "duration": 169,
        "start_time": "2023-01-25T03:18:14.538Z"
      },
      {
        "duration": 4,
        "start_time": "2023-01-25T03:18:19.766Z"
      },
      {
        "duration": 185,
        "start_time": "2023-01-25T03:18:24.390Z"
      },
      {
        "duration": 4,
        "start_time": "2023-01-25T03:18:31.714Z"
      },
      {
        "duration": 8,
        "start_time": "2023-01-25T03:18:37.182Z"
      },
      {
        "duration": 269,
        "start_time": "2023-01-25T03:18:45.472Z"
      },
      {
        "duration": 8,
        "start_time": "2023-01-25T03:21:02.308Z"
      },
      {
        "duration": 256,
        "start_time": "2023-01-25T03:21:09.766Z"
      },
      {
        "duration": 85,
        "start_time": "2023-01-25T03:21:48.726Z"
      },
      {
        "duration": 86,
        "start_time": "2023-01-25T03:22:02.969Z"
      },
      {
        "duration": 103,
        "start_time": "2023-01-25T03:22:06.556Z"
      },
      {
        "duration": 36,
        "start_time": "2023-01-25T03:22:17.312Z"
      },
      {
        "duration": 33,
        "start_time": "2023-01-25T03:22:36.032Z"
      },
      {
        "duration": 104,
        "start_time": "2023-01-25T03:22:41.477Z"
      },
      {
        "duration": 30,
        "start_time": "2023-01-25T03:26:15.397Z"
      },
      {
        "duration": 41,
        "start_time": "2023-01-25T03:26:27.683Z"
      },
      {
        "duration": 131,
        "start_time": "2023-01-25T03:26:34.365Z"
      },
      {
        "duration": 77,
        "start_time": "2023-01-25T03:26:42.297Z"
      },
      {
        "duration": 11,
        "start_time": "2023-01-25T03:26:54.256Z"
      },
      {
        "duration": 1270,
        "start_time": "2023-01-25T03:27:03.661Z"
      },
      {
        "duration": 1268,
        "start_time": "2023-01-25T03:27:18.424Z"
      },
      {
        "duration": 103,
        "start_time": "2023-01-25T03:27:27.331Z"
      },
      {
        "duration": 84,
        "start_time": "2023-01-25T03:27:31.572Z"
      },
      {
        "duration": 1069,
        "start_time": "2023-01-25T03:27:38.806Z"
      },
      {
        "duration": 1107,
        "start_time": "2023-01-25T03:28:06.582Z"
      },
      {
        "duration": 1396,
        "start_time": "2023-01-25T03:28:54.511Z"
      },
      {
        "duration": 922,
        "start_time": "2023-01-25T03:28:55.910Z"
      },
      {
        "duration": 3,
        "start_time": "2023-01-25T03:28:56.834Z"
      },
      {
        "duration": 77,
        "start_time": "2023-01-25T03:28:56.838Z"
      },
      {
        "duration": 420,
        "start_time": "2023-01-25T03:28:56.917Z"
      },
      {
        "duration": 626,
        "start_time": "2023-01-25T03:28:57.338Z"
      },
      {
        "duration": 343,
        "start_time": "2023-01-25T03:28:57.966Z"
      },
      {
        "duration": 12,
        "start_time": "2023-01-25T03:28:58.311Z"
      },
      {
        "duration": 329,
        "start_time": "2023-01-25T03:28:58.324Z"
      },
      {
        "duration": 218,
        "start_time": "2023-01-25T03:28:58.656Z"
      },
      {
        "duration": 10,
        "start_time": "2023-01-25T03:28:58.875Z"
      },
      {
        "duration": 494,
        "start_time": "2023-01-25T03:28:58.892Z"
      },
      {
        "duration": 45,
        "start_time": "2023-01-25T03:28:59.388Z"
      },
      {
        "duration": 192,
        "start_time": "2023-01-25T03:28:59.435Z"
      },
      {
        "duration": 181,
        "start_time": "2023-01-25T03:28:59.628Z"
      },
      {
        "duration": 284,
        "start_time": "2023-01-25T03:28:59.810Z"
      },
      {
        "duration": 12,
        "start_time": "2023-01-25T03:29:00.096Z"
      },
      {
        "duration": 312,
        "start_time": "2023-01-25T03:29:00.110Z"
      },
      {
        "duration": 183,
        "start_time": "2023-01-25T03:29:00.424Z"
      },
      {
        "duration": 4,
        "start_time": "2023-01-25T03:29:00.608Z"
      },
      {
        "duration": 247,
        "start_time": "2023-01-25T03:29:00.614Z"
      },
      {
        "duration": 3,
        "start_time": "2023-01-25T03:29:00.863Z"
      },
      {
        "duration": 28,
        "start_time": "2023-01-25T03:29:00.868Z"
      },
      {
        "duration": 337,
        "start_time": "2023-01-25T03:29:00.898Z"
      },
      {
        "duration": 8,
        "start_time": "2023-01-25T03:29:01.237Z"
      },
      {
        "duration": 158,
        "start_time": "2023-01-25T03:29:01.248Z"
      },
      {
        "duration": 606,
        "start_time": "2023-01-25T03:29:01.408Z"
      },
      {
        "duration": 35,
        "start_time": "2023-01-25T03:29:02.018Z"
      },
      {
        "duration": 42,
        "start_time": "2023-01-25T03:29:02.055Z"
      },
      {
        "duration": 114,
        "start_time": "2023-01-25T03:29:02.099Z"
      },
      {
        "duration": 36,
        "start_time": "2023-01-25T03:29:02.215Z"
      },
      {
        "duration": 256,
        "start_time": "2023-01-25T03:29:02.253Z"
      },
      {
        "duration": 97,
        "start_time": "2023-01-25T03:29:02.511Z"
      },
      {
        "duration": 51,
        "start_time": "2023-01-25T03:29:02.610Z"
      },
      {
        "duration": 59,
        "start_time": "2023-01-25T03:29:02.664Z"
      },
      {
        "duration": 571,
        "start_time": "2023-01-25T03:29:02.725Z"
      },
      {
        "duration": 38,
        "start_time": "2023-01-25T03:29:03.297Z"
      },
      {
        "duration": 33,
        "start_time": "2023-01-25T03:29:03.337Z"
      },
      {
        "duration": 337,
        "start_time": "2023-01-25T03:29:03.372Z"
      },
      {
        "duration": 41,
        "start_time": "2023-01-25T03:29:03.711Z"
      },
      {
        "duration": 344,
        "start_time": "2023-01-25T03:29:03.754Z"
      },
      {
        "duration": 38,
        "start_time": "2023-01-25T03:29:04.100Z"
      },
      {
        "duration": 340,
        "start_time": "2023-01-25T03:29:04.140Z"
      },
      {
        "duration": 9,
        "start_time": "2023-01-25T03:29:04.482Z"
      },
      {
        "duration": 18,
        "start_time": "2023-01-25T03:29:04.492Z"
      },
      {
        "duration": 32,
        "start_time": "2023-01-25T03:29:04.512Z"
      },
      {
        "duration": 249,
        "start_time": "2023-01-25T03:29:04.546Z"
      },
      {
        "duration": 371,
        "start_time": "2023-01-25T03:29:04.796Z"
      },
      {
        "duration": 15129,
        "start_time": "2023-01-25T03:29:05.169Z"
      },
      {
        "duration": 1397,
        "start_time": "2023-01-25T03:36:47.660Z"
      },
      {
        "duration": 937,
        "start_time": "2023-01-25T03:36:49.059Z"
      },
      {
        "duration": 4,
        "start_time": "2023-01-25T03:36:49.997Z"
      },
      {
        "duration": 90,
        "start_time": "2023-01-25T03:36:50.002Z"
      },
      {
        "duration": 473,
        "start_time": "2023-01-25T03:36:50.094Z"
      },
      {
        "duration": 621,
        "start_time": "2023-01-25T03:36:50.571Z"
      },
      {
        "duration": 343,
        "start_time": "2023-01-25T03:36:51.194Z"
      },
      {
        "duration": 12,
        "start_time": "2023-01-25T03:36:51.539Z"
      },
      {
        "duration": 313,
        "start_time": "2023-01-25T03:36:51.552Z"
      },
      {
        "duration": 230,
        "start_time": "2023-01-25T03:36:51.868Z"
      },
      {
        "duration": 11,
        "start_time": "2023-01-25T03:36:52.100Z"
      },
      {
        "duration": 364,
        "start_time": "2023-01-25T03:36:52.112Z"
      },
      {
        "duration": 43,
        "start_time": "2023-01-25T03:36:52.477Z"
      },
      {
        "duration": 182,
        "start_time": "2023-01-25T03:36:52.521Z"
      },
      {
        "duration": 213,
        "start_time": "2023-01-25T03:36:52.705Z"
      },
      {
        "duration": 282,
        "start_time": "2023-01-25T03:36:52.919Z"
      },
      {
        "duration": 15,
        "start_time": "2023-01-25T03:36:53.203Z"
      },
      {
        "duration": 296,
        "start_time": "2023-01-25T03:36:53.219Z"
      },
      {
        "duration": 177,
        "start_time": "2023-01-25T03:36:53.517Z"
      },
      {
        "duration": 4,
        "start_time": "2023-01-25T03:36:53.696Z"
      },
      {
        "duration": 209,
        "start_time": "2023-01-25T03:36:53.702Z"
      },
      {
        "duration": 4,
        "start_time": "2023-01-25T03:36:53.913Z"
      },
      {
        "duration": 16,
        "start_time": "2023-01-25T03:36:53.919Z"
      },
      {
        "duration": 285,
        "start_time": "2023-01-25T03:36:53.936Z"
      },
      {
        "duration": 8,
        "start_time": "2023-01-25T03:36:54.223Z"
      },
      {
        "duration": 102,
        "start_time": "2023-01-25T03:36:54.232Z"
      },
      {
        "duration": 114,
        "start_time": "2023-01-25T03:36:54.335Z"
      },
      {
        "duration": 42,
        "start_time": "2023-01-25T03:36:54.452Z"
      },
      {
        "duration": 33,
        "start_time": "2023-01-25T03:36:54.497Z"
      },
      {
        "duration": 119,
        "start_time": "2023-01-25T03:36:54.532Z"
      },
      {
        "duration": 49,
        "start_time": "2023-01-25T03:36:54.653Z"
      },
      {
        "duration": 245,
        "start_time": "2023-01-25T03:36:54.704Z"
      },
      {
        "duration": 100,
        "start_time": "2023-01-25T03:36:54.951Z"
      },
      {
        "duration": 50,
        "start_time": "2023-01-25T03:36:55.053Z"
      },
      {
        "duration": 31,
        "start_time": "2023-01-25T03:36:55.105Z"
      },
      {
        "duration": 540,
        "start_time": "2023-01-25T03:36:55.138Z"
      },
      {
        "duration": 50,
        "start_time": "2023-01-25T03:36:55.679Z"
      },
      {
        "duration": 31,
        "start_time": "2023-01-25T03:36:55.731Z"
      },
      {
        "duration": 341,
        "start_time": "2023-01-25T03:36:55.764Z"
      },
      {
        "duration": 49,
        "start_time": "2023-01-25T03:36:56.107Z"
      },
      {
        "duration": 373,
        "start_time": "2023-01-25T03:36:56.158Z"
      },
      {
        "duration": 34,
        "start_time": "2023-01-25T03:36:56.533Z"
      },
      {
        "duration": 41,
        "start_time": "2023-01-25T03:36:56.569Z"
      },
      {
        "duration": 324,
        "start_time": "2023-01-25T03:36:56.612Z"
      },
      {
        "duration": 3,
        "start_time": "2023-01-25T03:36:56.938Z"
      },
      {
        "duration": 18,
        "start_time": "2023-01-25T03:36:56.942Z"
      },
      {
        "duration": 49,
        "start_time": "2023-01-25T03:36:56.962Z"
      },
      {
        "duration": 231,
        "start_time": "2023-01-25T03:36:57.013Z"
      },
      {
        "duration": 355,
        "start_time": "2023-01-25T03:36:57.246Z"
      },
      {
        "duration": 15908,
        "start_time": "2023-01-25T03:36:57.602Z"
      },
      {
        "duration": 945715,
        "start_time": "2023-01-25T03:37:13.598Z"
      },
      {
        "duration": 211286,
        "start_time": "2023-01-25T03:52:59.315Z"
      },
      {
        "duration": 5,
        "start_time": "2023-01-25T03:56:30.603Z"
      },
      {
        "duration": 44,
        "start_time": "2023-01-25T03:56:30.610Z"
      },
      {
        "duration": 58,
        "start_time": "2023-01-25T03:56:30.656Z"
      },
      {
        "duration": 64,
        "start_time": "2023-01-25T03:56:30.716Z"
      },
      {
        "duration": 93,
        "start_time": "2023-01-25T03:56:30.781Z"
      },
      {
        "duration": 51,
        "start_time": "2023-01-25T03:56:30.876Z"
      },
      {
        "duration": 83,
        "start_time": "2023-01-25T03:56:30.929Z"
      },
      {
        "duration": 8732,
        "start_time": "2023-01-25T03:56:31.014Z"
      },
      {
        "duration": 75,
        "start_time": "2023-01-25T03:56:39.748Z"
      },
      {
        "duration": 114,
        "start_time": "2023-01-25T03:56:39.825Z"
      },
      {
        "duration": 37,
        "start_time": "2023-01-25T03:56:39.940Z"
      },
      {
        "duration": 476715,
        "start_time": "2023-01-25T03:56:39.991Z"
      },
      {
        "duration": 5,
        "start_time": "2023-01-25T04:04:36.708Z"
      },
      {
        "duration": 4509,
        "start_time": "2023-01-25T04:04:36.715Z"
      },
      {
        "duration": 5,
        "start_time": "2023-01-25T04:04:41.226Z"
      },
      {
        "duration": 8789,
        "start_time": "2023-01-25T04:04:41.233Z"
      },
      {
        "duration": 6,
        "start_time": "2023-01-25T04:04:50.023Z"
      },
      {
        "duration": 289169,
        "start_time": "2023-01-25T04:04:50.031Z"
      },
      {
        "duration": 90,
        "start_time": "2023-01-25T04:09:39.205Z"
      },
      {
        "duration": 0,
        "start_time": "2023-01-25T04:09:39.299Z"
      },
      {
        "duration": 0,
        "start_time": "2023-01-25T04:09:39.300Z"
      },
      {
        "duration": 0,
        "start_time": "2023-01-25T04:09:39.301Z"
      },
      {
        "duration": 21036,
        "start_time": "2023-01-25T04:11:38.866Z"
      },
      {
        "duration": 303,
        "start_time": "2023-01-25T04:11:59.906Z"
      },
      {
        "duration": 14638,
        "start_time": "2023-01-25T04:15:23.261Z"
      },
      {
        "duration": 310,
        "start_time": "2023-01-25T04:15:37.901Z"
      },
      {
        "duration": 14826,
        "start_time": "2023-01-25T04:16:00.139Z"
      },
      {
        "duration": 99,
        "start_time": "2023-01-25T04:16:14.967Z"
      },
      {
        "duration": 3,
        "start_time": "2023-01-25T04:16:47.704Z"
      },
      {
        "duration": 17094,
        "start_time": "2023-01-25T04:17:29.565Z"
      },
      {
        "duration": 136,
        "start_time": "2023-01-25T04:17:46.662Z"
      },
      {
        "duration": 16203,
        "start_time": "2023-01-25T04:19:47.368Z"
      },
      {
        "duration": 117,
        "start_time": "2023-01-25T04:20:03.573Z"
      },
      {
        "duration": 141,
        "start_time": "2023-01-25T04:20:57.156Z"
      },
      {
        "duration": 16615,
        "start_time": "2023-01-25T04:25:14.858Z"
      },
      {
        "duration": 21,
        "start_time": "2023-01-25T04:25:45.605Z"
      },
      {
        "duration": 116,
        "start_time": "2023-01-25T04:27:03.206Z"
      },
      {
        "duration": 1715,
        "start_time": "2023-01-25T04:35:19.437Z"
      },
      {
        "duration": 1536,
        "start_time": "2023-01-25T04:36:22.909Z"
      },
      {
        "duration": 45,
        "start_time": "2023-01-25T04:39:15.329Z"
      },
      {
        "duration": 86,
        "start_time": "2023-01-25T04:39:38.707Z"
      },
      {
        "duration": 277,
        "start_time": "2023-01-25T04:41:31.150Z"
      },
      {
        "duration": 82,
        "start_time": "2023-01-25T04:44:20.892Z"
      },
      {
        "duration": 76,
        "start_time": "2023-01-25T04:44:49.309Z"
      },
      {
        "duration": 73,
        "start_time": "2023-01-25T04:47:06.581Z"
      },
      {
        "duration": 78,
        "start_time": "2023-01-25T04:48:12.062Z"
      },
      {
        "duration": 37,
        "start_time": "2023-01-25T04:51:23.997Z"
      },
      {
        "duration": 87,
        "start_time": "2023-01-25T04:51:33.374Z"
      },
      {
        "duration": 88,
        "start_time": "2023-01-25T04:51:45.293Z"
      },
      {
        "duration": 313,
        "start_time": "2023-01-25T04:52:45.885Z"
      },
      {
        "duration": 38,
        "start_time": "2023-01-25T04:53:13.766Z"
      },
      {
        "duration": 109,
        "start_time": "2023-01-25T04:53:48.381Z"
      },
      {
        "duration": 3,
        "start_time": "2023-01-25T04:55:54.097Z"
      },
      {
        "duration": 3,
        "start_time": "2023-01-25T04:56:28.512Z"
      },
      {
        "duration": 34,
        "start_time": "2023-01-25T04:56:49.494Z"
      },
      {
        "duration": 96,
        "start_time": "2023-01-25T04:57:01.075Z"
      },
      {
        "duration": 87,
        "start_time": "2023-01-25T04:57:03.364Z"
      },
      {
        "duration": 80,
        "start_time": "2023-01-25T04:57:34.202Z"
      },
      {
        "duration": 80,
        "start_time": "2023-01-25T04:58:12.925Z"
      },
      {
        "duration": 32,
        "start_time": "2023-01-25T05:07:27.673Z"
      },
      {
        "duration": 74,
        "start_time": "2023-01-25T05:07:37.121Z"
      },
      {
        "duration": 14,
        "start_time": "2023-01-25T05:08:38.502Z"
      },
      {
        "duration": 241,
        "start_time": "2023-01-25T05:08:47.766Z"
      },
      {
        "duration": 30,
        "start_time": "2023-01-25T05:10:02.980Z"
      },
      {
        "duration": 79,
        "start_time": "2023-01-25T05:10:11.731Z"
      },
      {
        "duration": 3,
        "start_time": "2023-01-25T05:10:24.697Z"
      },
      {
        "duration": 4,
        "start_time": "2023-01-25T05:12:13.313Z"
      },
      {
        "duration": 90,
        "start_time": "2023-01-25T05:12:20.400Z"
      },
      {
        "duration": 81,
        "start_time": "2023-01-25T05:13:08.033Z"
      },
      {
        "duration": 1374,
        "start_time": "2023-01-25T05:19:11.484Z"
      },
      {
        "duration": 920,
        "start_time": "2023-01-25T05:19:12.860Z"
      },
      {
        "duration": 11,
        "start_time": "2023-01-25T05:19:13.781Z"
      },
      {
        "duration": 62,
        "start_time": "2023-01-25T05:19:13.794Z"
      },
      {
        "duration": 435,
        "start_time": "2023-01-25T05:19:13.857Z"
      },
      {
        "duration": 612,
        "start_time": "2023-01-25T05:19:14.293Z"
      },
      {
        "duration": 367,
        "start_time": "2023-01-25T05:19:14.907Z"
      },
      {
        "duration": 17,
        "start_time": "2023-01-25T05:19:15.276Z"
      },
      {
        "duration": 307,
        "start_time": "2023-01-25T05:19:15.295Z"
      },
      {
        "duration": 232,
        "start_time": "2023-01-25T05:19:15.605Z"
      },
      {
        "duration": 11,
        "start_time": "2023-01-25T05:19:15.838Z"
      },
      {
        "duration": 444,
        "start_time": "2023-01-25T05:19:15.851Z"
      },
      {
        "duration": 42,
        "start_time": "2023-01-25T05:19:16.297Z"
      },
      {
        "duration": 217,
        "start_time": "2023-01-25T05:19:16.340Z"
      },
      {
        "duration": 201,
        "start_time": "2023-01-25T05:19:16.558Z"
      },
      {
        "duration": 295,
        "start_time": "2023-01-25T05:19:16.761Z"
      },
      {
        "duration": 15,
        "start_time": "2023-01-25T05:19:17.058Z"
      },
      {
        "duration": 290,
        "start_time": "2023-01-25T05:19:17.075Z"
      },
      {
        "duration": 180,
        "start_time": "2023-01-25T05:19:17.367Z"
      },
      {
        "duration": 3,
        "start_time": "2023-01-25T05:19:17.548Z"
      },
      {
        "duration": 163,
        "start_time": "2023-01-25T05:19:17.553Z"
      },
      {
        "duration": 3,
        "start_time": "2023-01-25T05:19:17.718Z"
      },
      {
        "duration": 13,
        "start_time": "2023-01-25T05:19:17.723Z"
      },
      {
        "duration": 288,
        "start_time": "2023-01-25T05:19:17.738Z"
      },
      {
        "duration": 7,
        "start_time": "2023-01-25T05:19:18.028Z"
      },
      {
        "duration": 110,
        "start_time": "2023-01-25T05:19:18.037Z"
      },
      {
        "duration": 115,
        "start_time": "2023-01-25T05:19:18.149Z"
      },
      {
        "duration": 44,
        "start_time": "2023-01-25T05:19:18.269Z"
      },
      {
        "duration": 41,
        "start_time": "2023-01-25T05:19:18.315Z"
      },
      {
        "duration": 112,
        "start_time": "2023-01-25T05:19:18.358Z"
      },
      {
        "duration": 57,
        "start_time": "2023-01-25T05:19:18.472Z"
      },
      {
        "duration": 246,
        "start_time": "2023-01-25T05:19:18.532Z"
      },
      {
        "duration": 87,
        "start_time": "2023-01-25T05:19:18.791Z"
      },
      {
        "duration": 47,
        "start_time": "2023-01-25T05:19:18.880Z"
      },
      {
        "duration": 30,
        "start_time": "2023-01-25T05:19:18.929Z"
      },
      {
        "duration": 644,
        "start_time": "2023-01-25T05:19:18.960Z"
      },
      {
        "duration": 41,
        "start_time": "2023-01-25T05:19:19.606Z"
      },
      {
        "duration": 46,
        "start_time": "2023-01-25T05:19:19.649Z"
      },
      {
        "duration": 307,
        "start_time": "2023-01-25T05:19:19.697Z"
      },
      {
        "duration": 43,
        "start_time": "2023-01-25T05:19:20.006Z"
      },
      {
        "duration": 340,
        "start_time": "2023-01-25T05:19:20.052Z"
      },
      {
        "duration": 41,
        "start_time": "2023-01-25T05:19:20.393Z"
      },
      {
        "duration": 52,
        "start_time": "2023-01-25T05:19:20.436Z"
      },
      {
        "duration": 336,
        "start_time": "2023-01-25T05:19:20.489Z"
      },
      {
        "duration": 3,
        "start_time": "2023-01-25T05:19:20.827Z"
      },
      {
        "duration": 43,
        "start_time": "2023-01-25T05:19:20.833Z"
      },
      {
        "duration": 43,
        "start_time": "2023-01-25T05:19:20.878Z"
      },
      {
        "duration": 233,
        "start_time": "2023-01-25T05:19:20.923Z"
      },
      {
        "duration": 373,
        "start_time": "2023-01-25T05:19:21.158Z"
      },
      {
        "duration": 15661,
        "start_time": "2023-01-25T05:19:21.533Z"
      },
      {
        "duration": 297,
        "start_time": "2023-01-25T05:19:37.196Z"
      },
      {
        "duration": 4,
        "start_time": "2023-01-25T05:19:37.496Z"
      },
      {
        "duration": 19649,
        "start_time": "2023-01-25T05:19:37.592Z"
      },
      {
        "duration": 228,
        "start_time": "2023-01-25T05:19:57.243Z"
      },
      {
        "duration": 1375,
        "start_time": "2023-01-25T05:20:42.794Z"
      },
      {
        "duration": 908,
        "start_time": "2023-01-25T05:20:44.171Z"
      },
      {
        "duration": 4,
        "start_time": "2023-01-25T05:20:45.081Z"
      },
      {
        "duration": 69,
        "start_time": "2023-01-25T05:20:45.093Z"
      },
      {
        "duration": 421,
        "start_time": "2023-01-25T05:20:45.164Z"
      },
      {
        "duration": 615,
        "start_time": "2023-01-25T05:20:45.587Z"
      },
      {
        "duration": 357,
        "start_time": "2023-01-25T05:20:46.204Z"
      },
      {
        "duration": 12,
        "start_time": "2023-01-25T05:20:46.562Z"
      },
      {
        "duration": 291,
        "start_time": "2023-01-25T05:20:46.576Z"
      },
      {
        "duration": 225,
        "start_time": "2023-01-25T05:20:46.870Z"
      },
      {
        "duration": 12,
        "start_time": "2023-01-25T05:20:47.097Z"
      },
      {
        "duration": 385,
        "start_time": "2023-01-25T05:20:47.111Z"
      },
      {
        "duration": 47,
        "start_time": "2023-01-25T05:20:47.498Z"
      },
      {
        "duration": 194,
        "start_time": "2023-01-25T05:20:47.547Z"
      },
      {
        "duration": 180,
        "start_time": "2023-01-25T05:20:47.743Z"
      },
      {
        "duration": 277,
        "start_time": "2023-01-25T05:20:47.925Z"
      },
      {
        "duration": 13,
        "start_time": "2023-01-25T05:20:48.204Z"
      },
      {
        "duration": 282,
        "start_time": "2023-01-25T05:20:48.219Z"
      },
      {
        "duration": 191,
        "start_time": "2023-01-25T05:20:48.502Z"
      },
      {
        "duration": 3,
        "start_time": "2023-01-25T05:20:48.695Z"
      },
      {
        "duration": 179,
        "start_time": "2023-01-25T05:20:48.700Z"
      },
      {
        "duration": 12,
        "start_time": "2023-01-25T05:20:48.881Z"
      },
      {
        "duration": 28,
        "start_time": "2023-01-25T05:20:48.895Z"
      },
      {
        "duration": 276,
        "start_time": "2023-01-25T05:20:48.925Z"
      },
      {
        "duration": 10,
        "start_time": "2023-01-25T05:20:49.202Z"
      },
      {
        "duration": 111,
        "start_time": "2023-01-25T05:20:49.222Z"
      },
      {
        "duration": 134,
        "start_time": "2023-01-25T05:20:49.335Z"
      },
      {
        "duration": 43,
        "start_time": "2023-01-25T05:20:49.473Z"
      },
      {
        "duration": 32,
        "start_time": "2023-01-25T05:20:49.518Z"
      },
      {
        "duration": 127,
        "start_time": "2023-01-25T05:20:49.551Z"
      },
      {
        "duration": 39,
        "start_time": "2023-01-25T05:20:49.680Z"
      },
      {
        "duration": 256,
        "start_time": "2023-01-25T05:20:49.720Z"
      },
      {
        "duration": 96,
        "start_time": "2023-01-25T05:20:49.977Z"
      },
      {
        "duration": 56,
        "start_time": "2023-01-25T05:20:50.075Z"
      },
      {
        "duration": 48,
        "start_time": "2023-01-25T05:20:50.133Z"
      },
      {
        "duration": 561,
        "start_time": "2023-01-25T05:20:50.182Z"
      },
      {
        "duration": 34,
        "start_time": "2023-01-25T05:20:50.744Z"
      },
      {
        "duration": 51,
        "start_time": "2023-01-25T05:20:50.780Z"
      },
      {
        "duration": 296,
        "start_time": "2023-01-25T05:20:50.833Z"
      },
      {
        "duration": 38,
        "start_time": "2023-01-25T05:20:51.131Z"
      },
      {
        "duration": 330,
        "start_time": "2023-01-25T05:20:51.170Z"
      },
      {
        "duration": 34,
        "start_time": "2023-01-25T05:20:51.501Z"
      },
      {
        "duration": 30,
        "start_time": "2023-01-25T05:20:51.537Z"
      },
      {
        "duration": 353,
        "start_time": "2023-01-25T05:20:51.569Z"
      },
      {
        "duration": 4,
        "start_time": "2023-01-25T05:20:51.923Z"
      },
      {
        "duration": 43,
        "start_time": "2023-01-25T05:20:51.928Z"
      },
      {
        "duration": 48,
        "start_time": "2023-01-25T05:20:51.973Z"
      },
      {
        "duration": 224,
        "start_time": "2023-01-25T05:20:52.023Z"
      },
      {
        "duration": 368,
        "start_time": "2023-01-25T05:20:52.249Z"
      },
      {
        "duration": 15477,
        "start_time": "2023-01-25T05:20:52.619Z"
      },
      {
        "duration": 296,
        "start_time": "2023-01-25T05:21:08.098Z"
      },
      {
        "duration": 5,
        "start_time": "2023-01-25T05:21:08.396Z"
      },
      {
        "duration": 17334,
        "start_time": "2023-01-25T05:21:08.402Z"
      },
      {
        "duration": 232,
        "start_time": "2023-01-25T05:21:25.738Z"
      },
      {
        "duration": 1410,
        "start_time": "2023-01-25T05:27:17.291Z"
      },
      {
        "duration": 926,
        "start_time": "2023-01-25T05:27:18.703Z"
      },
      {
        "duration": 4,
        "start_time": "2023-01-25T05:27:19.630Z"
      },
      {
        "duration": 78,
        "start_time": "2023-01-25T05:27:19.635Z"
      },
      {
        "duration": 444,
        "start_time": "2023-01-25T05:27:19.714Z"
      },
      {
        "duration": 620,
        "start_time": "2023-01-25T05:27:20.159Z"
      },
      {
        "duration": 391,
        "start_time": "2023-01-25T05:27:20.780Z"
      },
      {
        "duration": 20,
        "start_time": "2023-01-25T05:27:21.173Z"
      },
      {
        "duration": 342,
        "start_time": "2023-01-25T05:27:21.194Z"
      },
      {
        "duration": 260,
        "start_time": "2023-01-25T05:27:21.541Z"
      },
      {
        "duration": 12,
        "start_time": "2023-01-25T05:27:21.803Z"
      },
      {
        "duration": 379,
        "start_time": "2023-01-25T05:27:21.817Z"
      },
      {
        "duration": 42,
        "start_time": "2023-01-25T05:27:22.198Z"
      },
      {
        "duration": 208,
        "start_time": "2023-01-25T05:27:22.242Z"
      },
      {
        "duration": 223,
        "start_time": "2023-01-25T05:27:22.452Z"
      },
      {
        "duration": 286,
        "start_time": "2023-01-25T05:27:22.677Z"
      },
      {
        "duration": 27,
        "start_time": "2023-01-25T05:27:22.965Z"
      },
      {
        "duration": 279,
        "start_time": "2023-01-25T05:27:22.994Z"
      },
      {
        "duration": 179,
        "start_time": "2023-01-25T05:27:23.275Z"
      },
      {
        "duration": 3,
        "start_time": "2023-01-25T05:27:23.457Z"
      },
      {
        "duration": 173,
        "start_time": "2023-01-25T05:27:23.461Z"
      },
      {
        "duration": 3,
        "start_time": "2023-01-25T05:27:23.636Z"
      },
      {
        "duration": 17,
        "start_time": "2023-01-25T05:27:23.641Z"
      },
      {
        "duration": 297,
        "start_time": "2023-01-25T05:27:23.659Z"
      },
      {
        "duration": 8,
        "start_time": "2023-01-25T05:27:23.958Z"
      },
      {
        "duration": 101,
        "start_time": "2023-01-25T05:27:23.967Z"
      },
      {
        "duration": 115,
        "start_time": "2023-01-25T05:27:24.071Z"
      },
      {
        "duration": 38,
        "start_time": "2023-01-25T05:27:24.194Z"
      },
      {
        "duration": 29,
        "start_time": "2023-01-25T05:27:24.233Z"
      },
      {
        "duration": 122,
        "start_time": "2023-01-25T05:27:24.264Z"
      },
      {
        "duration": 38,
        "start_time": "2023-01-25T05:27:24.388Z"
      },
      {
        "duration": 248,
        "start_time": "2023-01-25T05:27:24.428Z"
      },
      {
        "duration": 103,
        "start_time": "2023-01-25T05:27:24.678Z"
      },
      {
        "duration": 41,
        "start_time": "2023-01-25T05:27:24.792Z"
      },
      {
        "duration": 32,
        "start_time": "2023-01-25T05:27:24.835Z"
      },
      {
        "duration": 620,
        "start_time": "2023-01-25T05:27:24.869Z"
      },
      {
        "duration": 54,
        "start_time": "2023-01-25T05:27:25.492Z"
      },
      {
        "duration": 45,
        "start_time": "2023-01-25T05:27:25.548Z"
      },
      {
        "duration": 309,
        "start_time": "2023-01-25T05:27:25.595Z"
      },
      {
        "duration": 58,
        "start_time": "2023-01-25T05:27:25.905Z"
      },
      {
        "duration": 346,
        "start_time": "2023-01-25T05:27:25.965Z"
      },
      {
        "duration": 34,
        "start_time": "2023-01-25T05:27:26.313Z"
      },
      {
        "duration": 44,
        "start_time": "2023-01-25T05:27:26.348Z"
      },
      {
        "duration": 316,
        "start_time": "2023-01-25T05:27:26.393Z"
      },
      {
        "duration": 4,
        "start_time": "2023-01-25T05:27:26.711Z"
      },
      {
        "duration": 28,
        "start_time": "2023-01-25T05:27:26.717Z"
      },
      {
        "duration": 56,
        "start_time": "2023-01-25T05:27:26.747Z"
      },
      {
        "duration": 220,
        "start_time": "2023-01-25T05:27:26.805Z"
      },
      {
        "duration": 361,
        "start_time": "2023-01-25T05:27:27.033Z"
      },
      {
        "duration": 15608,
        "start_time": "2023-01-25T05:27:27.396Z"
      },
      {
        "duration": 302,
        "start_time": "2023-01-25T05:27:43.092Z"
      },
      {
        "duration": 5,
        "start_time": "2023-01-25T05:27:43.396Z"
      },
      {
        "duration": 17895,
        "start_time": "2023-01-25T05:27:43.403Z"
      },
      {
        "duration": 240,
        "start_time": "2023-01-25T05:28:01.300Z"
      },
      {
        "duration": 1462,
        "start_time": "2023-01-25T05:30:02.619Z"
      },
      {
        "duration": 942,
        "start_time": "2023-01-25T05:30:04.083Z"
      },
      {
        "duration": 4,
        "start_time": "2023-01-25T05:30:05.026Z"
      },
      {
        "duration": 78,
        "start_time": "2023-01-25T05:30:05.032Z"
      },
      {
        "duration": 469,
        "start_time": "2023-01-25T05:30:05.112Z"
      },
      {
        "duration": 721,
        "start_time": "2023-01-25T05:30:05.583Z"
      },
      {
        "duration": 369,
        "start_time": "2023-01-25T05:30:06.306Z"
      },
      {
        "duration": 15,
        "start_time": "2023-01-25T05:30:06.677Z"
      },
      {
        "duration": 311,
        "start_time": "2023-01-25T05:30:06.694Z"
      },
      {
        "duration": 231,
        "start_time": "2023-01-25T05:30:07.009Z"
      },
      {
        "duration": 10,
        "start_time": "2023-01-25T05:30:07.243Z"
      },
      {
        "duration": 365,
        "start_time": "2023-01-25T05:30:07.255Z"
      },
      {
        "duration": 43,
        "start_time": "2023-01-25T05:30:07.622Z"
      },
      {
        "duration": 201,
        "start_time": "2023-01-25T05:30:07.667Z"
      },
      {
        "duration": 216,
        "start_time": "2023-01-25T05:30:07.869Z"
      },
      {
        "duration": 293,
        "start_time": "2023-01-25T05:30:08.087Z"
      },
      {
        "duration": 16,
        "start_time": "2023-01-25T05:30:08.381Z"
      },
      {
        "duration": 276,
        "start_time": "2023-01-25T05:30:08.398Z"
      },
      {
        "duration": 192,
        "start_time": "2023-01-25T05:30:08.676Z"
      },
      {
        "duration": 3,
        "start_time": "2023-01-25T05:30:08.870Z"
      },
      {
        "duration": 200,
        "start_time": "2023-01-25T05:30:08.875Z"
      },
      {
        "duration": 3,
        "start_time": "2023-01-25T05:30:09.077Z"
      },
      {
        "duration": 18,
        "start_time": "2023-01-25T05:30:09.082Z"
      },
      {
        "duration": 295,
        "start_time": "2023-01-25T05:30:09.101Z"
      },
      {
        "duration": 8,
        "start_time": "2023-01-25T05:30:09.398Z"
      },
      {
        "duration": 107,
        "start_time": "2023-01-25T05:30:09.408Z"
      },
      {
        "duration": 116,
        "start_time": "2023-01-25T05:30:09.516Z"
      },
      {
        "duration": 37,
        "start_time": "2023-01-25T05:30:09.636Z"
      },
      {
        "duration": 46,
        "start_time": "2023-01-25T05:30:09.674Z"
      },
      {
        "duration": 124,
        "start_time": "2023-01-25T05:30:09.722Z"
      },
      {
        "duration": 46,
        "start_time": "2023-01-25T05:30:09.848Z"
      },
      {
        "duration": 262,
        "start_time": "2023-01-25T05:30:09.896Z"
      },
      {
        "duration": 101,
        "start_time": "2023-01-25T05:30:10.160Z"
      },
      {
        "duration": 49,
        "start_time": "2023-01-25T05:30:10.263Z"
      },
      {
        "duration": 34,
        "start_time": "2023-01-25T05:30:10.314Z"
      },
      {
        "duration": 543,
        "start_time": "2023-01-25T05:30:10.350Z"
      },
      {
        "duration": 39,
        "start_time": "2023-01-25T05:30:10.894Z"
      },
      {
        "duration": 31,
        "start_time": "2023-01-25T05:30:10.934Z"
      },
      {
        "duration": 321,
        "start_time": "2023-01-25T05:30:10.966Z"
      },
      {
        "duration": 40,
        "start_time": "2023-01-25T05:30:11.292Z"
      },
      {
        "duration": 346,
        "start_time": "2023-01-25T05:30:11.333Z"
      },
      {
        "duration": 39,
        "start_time": "2023-01-25T05:30:11.681Z"
      },
      {
        "duration": 32,
        "start_time": "2023-01-25T05:30:11.722Z"
      },
      {
        "duration": 333,
        "start_time": "2023-01-25T05:30:11.756Z"
      },
      {
        "duration": 3,
        "start_time": "2023-01-25T05:30:12.091Z"
      },
      {
        "duration": 40,
        "start_time": "2023-01-25T05:30:12.096Z"
      },
      {
        "duration": 32,
        "start_time": "2023-01-25T05:30:12.138Z"
      },
      {
        "duration": 220,
        "start_time": "2023-01-25T05:30:12.172Z"
      },
      {
        "duration": 359,
        "start_time": "2023-01-25T05:30:12.394Z"
      },
      {
        "duration": 20541,
        "start_time": "2023-01-25T05:30:12.755Z"
      },
      {
        "duration": 295,
        "start_time": "2023-01-25T05:30:33.298Z"
      },
      {
        "duration": 4,
        "start_time": "2023-01-25T05:30:33.594Z"
      },
      {
        "duration": 17927,
        "start_time": "2023-01-25T05:30:33.600Z"
      },
      {
        "duration": 238,
        "start_time": "2023-01-25T05:30:51.529Z"
      },
      {
        "duration": 1463,
        "start_time": "2023-01-25T05:38:06.142Z"
      },
      {
        "duration": 937,
        "start_time": "2023-01-25T05:38:07.608Z"
      },
      {
        "duration": 4,
        "start_time": "2023-01-25T05:38:08.546Z"
      },
      {
        "duration": 76,
        "start_time": "2023-01-25T05:38:08.552Z"
      },
      {
        "duration": 475,
        "start_time": "2023-01-25T05:38:08.629Z"
      },
      {
        "duration": 637,
        "start_time": "2023-01-25T05:38:09.105Z"
      },
      {
        "duration": 361,
        "start_time": "2023-01-25T05:38:09.744Z"
      },
      {
        "duration": 14,
        "start_time": "2023-01-25T05:38:10.107Z"
      },
      {
        "duration": 313,
        "start_time": "2023-01-25T05:38:10.122Z"
      },
      {
        "duration": 222,
        "start_time": "2023-01-25T05:38:10.438Z"
      },
      {
        "duration": 17,
        "start_time": "2023-01-25T05:38:10.662Z"
      },
      {
        "duration": 346,
        "start_time": "2023-01-25T05:38:10.692Z"
      },
      {
        "duration": 39,
        "start_time": "2023-01-25T05:38:11.039Z"
      },
      {
        "duration": 201,
        "start_time": "2023-01-25T05:38:11.079Z"
      },
      {
        "duration": 185,
        "start_time": "2023-01-25T05:38:11.282Z"
      },
      {
        "duration": 298,
        "start_time": "2023-01-25T05:38:11.469Z"
      },
      {
        "duration": 14,
        "start_time": "2023-01-25T05:38:11.769Z"
      },
      {
        "duration": 276,
        "start_time": "2023-01-25T05:38:11.792Z"
      },
      {
        "duration": 188,
        "start_time": "2023-01-25T05:38:12.070Z"
      },
      {
        "duration": 4,
        "start_time": "2023-01-25T05:38:12.260Z"
      },
      {
        "duration": 166,
        "start_time": "2023-01-25T05:38:12.265Z"
      },
      {
        "duration": 4,
        "start_time": "2023-01-25T05:38:12.433Z"
      },
      {
        "duration": 11,
        "start_time": "2023-01-25T05:38:12.438Z"
      },
      {
        "duration": 299,
        "start_time": "2023-01-25T05:38:12.450Z"
      },
      {
        "duration": 8,
        "start_time": "2023-01-25T05:38:12.751Z"
      },
      {
        "duration": 99,
        "start_time": "2023-01-25T05:38:12.761Z"
      },
      {
        "duration": 117,
        "start_time": "2023-01-25T05:38:12.862Z"
      },
      {
        "duration": 50,
        "start_time": "2023-01-25T05:38:12.983Z"
      },
      {
        "duration": 31,
        "start_time": "2023-01-25T05:38:13.035Z"
      },
      {
        "duration": 126,
        "start_time": "2023-01-25T05:38:13.068Z"
      },
      {
        "duration": 37,
        "start_time": "2023-01-25T05:38:13.196Z"
      },
      {
        "duration": 260,
        "start_time": "2023-01-25T05:38:13.234Z"
      },
      {
        "duration": 100,
        "start_time": "2023-01-25T05:38:13.495Z"
      },
      {
        "duration": 37,
        "start_time": "2023-01-25T05:38:13.597Z"
      },
      {
        "duration": 31,
        "start_time": "2023-01-25T05:38:13.636Z"
      },
      {
        "duration": 536,
        "start_time": "2023-01-25T05:38:13.669Z"
      },
      {
        "duration": 36,
        "start_time": "2023-01-25T05:38:14.207Z"
      },
      {
        "duration": 37,
        "start_time": "2023-01-25T05:38:14.245Z"
      },
      {
        "duration": 299,
        "start_time": "2023-01-25T05:38:14.293Z"
      },
      {
        "duration": 61,
        "start_time": "2023-01-25T05:38:14.594Z"
      },
      {
        "duration": 329,
        "start_time": "2023-01-25T05:38:14.657Z"
      },
      {
        "duration": 41,
        "start_time": "2023-01-25T05:38:14.987Z"
      },
      {
        "duration": 41,
        "start_time": "2023-01-25T05:38:15.030Z"
      },
      {
        "duration": 327,
        "start_time": "2023-01-25T05:38:15.073Z"
      },
      {
        "duration": 3,
        "start_time": "2023-01-25T05:38:15.401Z"
      },
      {
        "duration": 19,
        "start_time": "2023-01-25T05:38:15.406Z"
      },
      {
        "duration": 66,
        "start_time": "2023-01-25T05:38:15.427Z"
      },
      {
        "duration": 216,
        "start_time": "2023-01-25T05:38:15.494Z"
      },
      {
        "duration": 403,
        "start_time": "2023-01-25T05:38:15.712Z"
      },
      {
        "duration": 18086,
        "start_time": "2023-01-25T05:38:16.117Z"
      },
      {
        "duration": 301,
        "start_time": "2023-01-25T05:38:34.292Z"
      },
      {
        "duration": 3,
        "start_time": "2023-01-25T05:38:34.595Z"
      },
      {
        "duration": 18248,
        "start_time": "2023-01-25T05:38:34.600Z"
      },
      {
        "duration": 19543,
        "start_time": "2023-01-25T05:38:52.850Z"
      },
      {
        "duration": 201,
        "start_time": "2023-01-25T05:39:12.395Z"
      },
      {
        "duration": 946823,
        "start_time": "2023-01-25T05:39:12.597Z"
      },
      {
        "duration": 199427,
        "start_time": "2023-01-25T05:54:59.421Z"
      },
      {
        "duration": 3,
        "start_time": "2023-01-25T05:58:18.850Z"
      },
      {
        "duration": 179,
        "start_time": "2023-01-25T05:58:18.855Z"
      },
      {
        "duration": 59,
        "start_time": "2023-01-25T05:58:19.035Z"
      },
      {
        "duration": 53,
        "start_time": "2023-01-25T05:58:19.096Z"
      },
      {
        "duration": 93,
        "start_time": "2023-01-25T05:58:19.150Z"
      },
      {
        "duration": 48,
        "start_time": "2023-01-25T05:58:19.245Z"
      },
      {
        "duration": 73,
        "start_time": "2023-01-25T05:58:19.295Z"
      },
      {
        "duration": 9349,
        "start_time": "2023-01-25T05:58:19.370Z"
      },
      {
        "duration": 56,
        "start_time": "2023-01-25T05:58:28.721Z"
      },
      {
        "duration": 126,
        "start_time": "2023-01-25T05:58:28.779Z"
      },
      {
        "duration": 43,
        "start_time": "2023-01-25T05:58:28.906Z"
      },
      {
        "duration": 6255,
        "start_time": "2023-01-25T05:58:28.951Z"
      },
      {
        "duration": 6,
        "start_time": "2023-01-25T05:58:35.209Z"
      },
      {
        "duration": 4418,
        "start_time": "2023-01-25T05:58:35.217Z"
      },
      {
        "duration": 5,
        "start_time": "2023-01-25T05:58:39.636Z"
      },
      {
        "duration": 8851,
        "start_time": "2023-01-25T05:58:39.643Z"
      },
      {
        "duration": 5,
        "start_time": "2023-01-25T05:58:48.496Z"
      },
      {
        "duration": 4115,
        "start_time": "2023-01-25T05:58:48.503Z"
      },
      {
        "duration": 1556,
        "start_time": "2023-01-25T08:04:37.437Z"
      },
      {
        "duration": 3027,
        "start_time": "2023-01-25T08:04:38.994Z"
      },
      {
        "duration": 3,
        "start_time": "2023-01-25T08:04:42.026Z"
      },
      {
        "duration": 77,
        "start_time": "2023-01-25T08:04:42.031Z"
      },
      {
        "duration": 382,
        "start_time": "2023-01-25T08:04:42.110Z"
      },
      {
        "duration": 601,
        "start_time": "2023-01-25T08:04:42.494Z"
      },
      {
        "duration": 297,
        "start_time": "2023-01-25T08:04:43.097Z"
      },
      {
        "duration": 12,
        "start_time": "2023-01-25T08:04:43.396Z"
      },
      {
        "duration": 280,
        "start_time": "2023-01-25T08:04:43.411Z"
      },
      {
        "duration": 237,
        "start_time": "2023-01-25T08:04:43.693Z"
      },
      {
        "duration": 15,
        "start_time": "2023-01-25T08:04:43.932Z"
      },
      {
        "duration": 320,
        "start_time": "2023-01-25T08:04:43.949Z"
      },
      {
        "duration": 46,
        "start_time": "2023-01-25T08:04:44.270Z"
      },
      {
        "duration": 199,
        "start_time": "2023-01-25T08:04:44.318Z"
      },
      {
        "duration": 262,
        "start_time": "2023-01-25T08:04:44.518Z"
      },
      {
        "duration": 270,
        "start_time": "2023-01-25T08:04:44.781Z"
      },
      {
        "duration": 12,
        "start_time": "2023-01-25T08:04:45.054Z"
      },
      {
        "duration": 251,
        "start_time": "2023-01-25T08:04:45.068Z"
      },
      {
        "duration": 197,
        "start_time": "2023-01-25T08:04:45.321Z"
      },
      {
        "duration": 3,
        "start_time": "2023-01-25T08:04:45.520Z"
      },
      {
        "duration": 186,
        "start_time": "2023-01-25T08:04:45.524Z"
      },
      {
        "duration": 4,
        "start_time": "2023-01-25T08:04:45.711Z"
      },
      {
        "duration": 15,
        "start_time": "2023-01-25T08:04:45.716Z"
      },
      {
        "duration": 256,
        "start_time": "2023-01-25T08:04:45.732Z"
      },
      {
        "duration": 7,
        "start_time": "2023-01-25T08:04:45.989Z"
      },
      {
        "duration": 112,
        "start_time": "2023-01-25T08:04:45.998Z"
      },
      {
        "duration": 130,
        "start_time": "2023-01-25T08:04:46.114Z"
      },
      {
        "duration": 39,
        "start_time": "2023-01-25T08:04:46.245Z"
      },
      {
        "duration": 32,
        "start_time": "2023-01-25T08:04:46.286Z"
      },
      {
        "duration": 99,
        "start_time": "2023-01-25T08:04:46.320Z"
      },
      {
        "duration": 46,
        "start_time": "2023-01-25T08:04:46.421Z"
      },
      {
        "duration": 240,
        "start_time": "2023-01-25T08:04:46.469Z"
      },
      {
        "duration": 88,
        "start_time": "2023-01-25T08:04:46.711Z"
      },
      {
        "duration": 46,
        "start_time": "2023-01-25T08:04:46.800Z"
      },
      {
        "duration": 37,
        "start_time": "2023-01-25T08:04:46.848Z"
      },
      {
        "duration": 514,
        "start_time": "2023-01-25T08:04:46.886Z"
      },
      {
        "duration": 42,
        "start_time": "2023-01-25T08:04:47.402Z"
      },
      {
        "duration": 28,
        "start_time": "2023-01-25T08:04:47.445Z"
      },
      {
        "duration": 298,
        "start_time": "2023-01-25T08:04:47.475Z"
      },
      {
        "duration": 40,
        "start_time": "2023-01-25T08:04:47.775Z"
      },
      {
        "duration": 318,
        "start_time": "2023-01-25T08:04:47.817Z"
      },
      {
        "duration": 52,
        "start_time": "2023-01-25T08:04:48.137Z"
      },
      {
        "duration": 31,
        "start_time": "2023-01-25T08:04:48.190Z"
      },
      {
        "duration": 323,
        "start_time": "2023-01-25T08:04:48.222Z"
      },
      {
        "duration": 3,
        "start_time": "2023-01-25T08:04:48.546Z"
      },
      {
        "duration": 22,
        "start_time": "2023-01-25T08:04:48.550Z"
      },
      {
        "duration": 30,
        "start_time": "2023-01-25T08:04:48.574Z"
      },
      {
        "duration": 227,
        "start_time": "2023-01-25T08:04:48.605Z"
      },
      {
        "duration": 343,
        "start_time": "2023-01-25T08:04:48.833Z"
      },
      {
        "duration": 17875,
        "start_time": "2023-01-25T08:04:49.177Z"
      },
      {
        "duration": 296,
        "start_time": "2023-01-25T08:05:07.053Z"
      },
      {
        "duration": 94,
        "start_time": "2023-01-25T08:05:07.351Z"
      },
      {
        "duration": 17866,
        "start_time": "2023-01-25T08:05:07.446Z"
      },
      {
        "duration": 15731,
        "start_time": "2023-01-25T08:05:25.314Z"
      },
      {
        "duration": 200,
        "start_time": "2023-01-25T08:05:41.047Z"
      },
      {
        "duration": 905083,
        "start_time": "2023-01-25T08:05:41.250Z"
      },
      {
        "duration": 186200,
        "start_time": "2023-01-25T08:20:46.334Z"
      },
      {
        "duration": 13,
        "start_time": "2023-01-25T08:23:52.546Z"
      },
      {
        "duration": 85,
        "start_time": "2023-01-25T08:23:52.560Z"
      },
      {
        "duration": 65,
        "start_time": "2023-01-25T08:23:52.647Z"
      },
      {
        "duration": 88,
        "start_time": "2023-01-25T08:23:52.714Z"
      },
      {
        "duration": 57,
        "start_time": "2023-01-25T08:23:52.804Z"
      },
      {
        "duration": 94,
        "start_time": "2023-01-25T08:23:52.863Z"
      },
      {
        "duration": 8817,
        "start_time": "2023-01-25T08:23:52.958Z"
      },
      {
        "duration": 63,
        "start_time": "2023-01-25T08:24:01.777Z"
      },
      {
        "duration": 116,
        "start_time": "2023-01-25T08:24:01.844Z"
      },
      {
        "duration": 38,
        "start_time": "2023-01-25T08:24:01.961Z"
      },
      {
        "duration": 4257,
        "start_time": "2023-01-25T08:24:02.001Z"
      },
      {
        "duration": 5,
        "start_time": "2023-01-25T08:24:06.260Z"
      },
      {
        "duration": 4244,
        "start_time": "2023-01-25T08:24:06.266Z"
      },
      {
        "duration": 5,
        "start_time": "2023-01-25T08:24:10.512Z"
      },
      {
        "duration": 9054,
        "start_time": "2023-01-25T08:24:10.518Z"
      },
      {
        "duration": 5,
        "start_time": "2023-01-25T08:24:19.574Z"
      },
      {
        "duration": 4577,
        "start_time": "2023-01-25T08:24:19.580Z"
      },
      {
        "duration": 5,
        "start_time": "2023-01-25T08:24:24.161Z"
      },
      {
        "duration": 94,
        "start_time": "2023-01-25T08:24:24.167Z"
      },
      {
        "duration": 0,
        "start_time": "2023-01-25T08:24:24.263Z"
      },
      {
        "duration": 1327,
        "start_time": "2023-01-25T08:24:44.910Z"
      },
      {
        "duration": 78,
        "start_time": "2023-01-25T08:26:49.235Z"
      },
      {
        "duration": 1173,
        "start_time": "2023-01-25T08:27:16.080Z"
      },
      {
        "duration": 1294,
        "start_time": "2023-01-25T08:27:53.450Z"
      },
      {
        "duration": 84,
        "start_time": "2023-01-25T08:30:22.874Z"
      },
      {
        "duration": 25,
        "start_time": "2023-01-25T08:31:49.185Z"
      },
      {
        "duration": 26,
        "start_time": "2023-01-25T08:32:37.189Z"
      },
      {
        "duration": 32,
        "start_time": "2023-01-25T08:33:31.493Z"
      },
      {
        "duration": 25,
        "start_time": "2023-01-25T08:34:18.947Z"
      },
      {
        "duration": 37,
        "start_time": "2023-01-25T08:35:46.304Z"
      },
      {
        "duration": 35,
        "start_time": "2023-01-25T08:36:01.525Z"
      },
      {
        "duration": 24,
        "start_time": "2023-01-25T08:38:04.120Z"
      },
      {
        "duration": 51,
        "start_time": "2023-01-25T08:38:22.388Z"
      },
      {
        "duration": 50,
        "start_time": "2023-01-25T08:39:19.076Z"
      },
      {
        "duration": 65,
        "start_time": "2023-01-25T08:39:38.709Z"
      },
      {
        "duration": 80,
        "start_time": "2023-01-25T08:42:24.501Z"
      },
      {
        "duration": 7419,
        "start_time": "2023-01-25T08:42:59.748Z"
      },
      {
        "duration": 82,
        "start_time": "2023-01-25T08:45:08.302Z"
      },
      {
        "duration": 7175,
        "start_time": "2023-01-25T08:46:39.259Z"
      },
      {
        "duration": 22,
        "start_time": "2023-01-25T08:52:57.003Z"
      },
      {
        "duration": 35,
        "start_time": "2023-01-25T08:53:02.866Z"
      },
      {
        "duration": 4313,
        "start_time": "2023-01-25T08:53:09.335Z"
      },
      {
        "duration": 23,
        "start_time": "2023-01-25T08:55:24.245Z"
      },
      {
        "duration": 39,
        "start_time": "2023-01-25T08:55:30.399Z"
      },
      {
        "duration": 351320,
        "start_time": "2023-01-25T08:55:38.341Z"
      },
      {
        "duration": 4,
        "start_time": "2023-01-25T09:02:37.904Z"
      },
      {
        "duration": 6764,
        "start_time": "2023-01-25T09:04:42.375Z"
      },
      {
        "duration": 4,
        "start_time": "2023-01-25T09:07:11.102Z"
      },
      {
        "duration": 11,
        "start_time": "2023-01-25T09:09:07.774Z"
      },
      {
        "duration": 9,
        "start_time": "2023-01-25T09:09:10.858Z"
      },
      {
        "duration": 10,
        "start_time": "2023-01-25T09:09:30.173Z"
      },
      {
        "duration": 5,
        "start_time": "2023-01-25T09:09:45.743Z"
      },
      {
        "duration": 9,
        "start_time": "2023-01-25T09:12:40.257Z"
      },
      {
        "duration": 8,
        "start_time": "2023-01-25T09:14:20.945Z"
      },
      {
        "duration": 10,
        "start_time": "2023-01-25T09:18:23.114Z"
      },
      {
        "duration": 70,
        "start_time": "2023-01-25T09:27:56.171Z"
      },
      {
        "duration": 7717,
        "start_time": "2023-01-25T09:30:03.388Z"
      },
      {
        "duration": 1714,
        "start_time": "2023-01-25T15:30:37.868Z"
      },
      {
        "duration": 1237,
        "start_time": "2023-01-25T15:30:39.584Z"
      },
      {
        "duration": 3,
        "start_time": "2023-01-25T15:30:40.823Z"
      },
      {
        "duration": 79,
        "start_time": "2023-01-25T15:30:40.827Z"
      },
      {
        "duration": 403,
        "start_time": "2023-01-25T15:30:40.908Z"
      },
      {
        "duration": 795,
        "start_time": "2023-01-25T15:30:41.312Z"
      },
      {
        "duration": 326,
        "start_time": "2023-01-25T15:30:42.109Z"
      },
      {
        "duration": 14,
        "start_time": "2023-01-25T15:30:42.437Z"
      },
      {
        "duration": 305,
        "start_time": "2023-01-25T15:30:42.453Z"
      },
      {
        "duration": 431,
        "start_time": "2023-01-25T15:30:42.760Z"
      },
      {
        "duration": 18,
        "start_time": "2023-01-25T15:30:43.193Z"
      },
      {
        "duration": 360,
        "start_time": "2023-01-25T15:30:43.213Z"
      },
      {
        "duration": 48,
        "start_time": "2023-01-25T15:30:43.575Z"
      },
      {
        "duration": 390,
        "start_time": "2023-01-25T15:30:43.625Z"
      },
      {
        "duration": 425,
        "start_time": "2023-01-25T15:30:44.017Z"
      },
      {
        "duration": 284,
        "start_time": "2023-01-25T15:30:44.443Z"
      },
      {
        "duration": 13,
        "start_time": "2023-01-25T15:30:44.728Z"
      },
      {
        "duration": 273,
        "start_time": "2023-01-25T15:30:44.742Z"
      },
      {
        "duration": 367,
        "start_time": "2023-01-25T15:30:45.016Z"
      },
      {
        "duration": 3,
        "start_time": "2023-01-25T15:30:45.385Z"
      },
      {
        "duration": 366,
        "start_time": "2023-01-25T15:30:45.390Z"
      },
      {
        "duration": 4,
        "start_time": "2023-01-25T15:30:45.757Z"
      },
      {
        "duration": 12,
        "start_time": "2023-01-25T15:30:45.762Z"
      },
      {
        "duration": 283,
        "start_time": "2023-01-25T15:30:45.775Z"
      },
      {
        "duration": 8,
        "start_time": "2023-01-25T15:30:46.059Z"
      },
      {
        "duration": 270,
        "start_time": "2023-01-25T15:30:46.068Z"
      },
      {
        "duration": 280,
        "start_time": "2023-01-25T15:30:46.340Z"
      },
      {
        "duration": 28,
        "start_time": "2023-01-25T15:30:46.625Z"
      },
      {
        "duration": 63,
        "start_time": "2023-01-25T15:30:46.654Z"
      },
      {
        "duration": 160,
        "start_time": "2023-01-25T15:30:46.719Z"
      },
      {
        "duration": 29,
        "start_time": "2023-01-25T15:30:46.880Z"
      },
      {
        "duration": 441,
        "start_time": "2023-01-25T15:30:46.911Z"
      },
      {
        "duration": 86,
        "start_time": "2023-01-25T15:30:47.354Z"
      },
      {
        "duration": 32,
        "start_time": "2023-01-25T15:30:47.441Z"
      },
      {
        "duration": 55,
        "start_time": "2023-01-25T15:30:47.474Z"
      },
      {
        "duration": 255,
        "start_time": "2023-01-25T15:30:47.531Z"
      },
      {
        "duration": 36,
        "start_time": "2023-01-25T15:30:47.788Z"
      },
      {
        "duration": 47,
        "start_time": "2023-01-25T15:30:47.826Z"
      },
      {
        "duration": 309,
        "start_time": "2023-01-25T15:30:47.875Z"
      },
      {
        "duration": 37,
        "start_time": "2023-01-25T15:30:48.186Z"
      },
      {
        "duration": 325,
        "start_time": "2023-01-25T15:30:48.225Z"
      },
      {
        "duration": 25,
        "start_time": "2023-01-25T15:30:48.552Z"
      },
      {
        "duration": 43,
        "start_time": "2023-01-25T15:30:48.579Z"
      },
      {
        "duration": 322,
        "start_time": "2023-01-25T15:30:48.624Z"
      },
      {
        "duration": 3,
        "start_time": "2023-01-25T15:30:48.948Z"
      },
      {
        "duration": 40,
        "start_time": "2023-01-25T15:30:48.952Z"
      },
      {
        "duration": 53,
        "start_time": "2023-01-25T15:30:48.994Z"
      },
      {
        "duration": 104,
        "start_time": "2023-01-25T15:30:49.049Z"
      },
      {
        "duration": 440,
        "start_time": "2023-01-25T15:30:49.155Z"
      },
      {
        "duration": 16307,
        "start_time": "2023-01-25T15:30:49.603Z"
      },
      {
        "duration": 299,
        "start_time": "2023-01-25T15:31:05.912Z"
      },
      {
        "duration": 5,
        "start_time": "2023-01-25T15:31:06.303Z"
      },
      {
        "duration": 6512,
        "start_time": "2023-01-25T15:31:06.310Z"
      },
      {
        "duration": 78,
        "start_time": "2023-01-25T15:57:45.764Z"
      },
      {
        "duration": 79,
        "start_time": "2023-01-25T16:05:31.645Z"
      },
      {
        "duration": 1690,
        "start_time": "2023-01-25T16:11:29.593Z"
      },
      {
        "duration": 3391,
        "start_time": "2023-01-25T16:11:31.285Z"
      },
      {
        "duration": 4,
        "start_time": "2023-01-25T16:11:34.677Z"
      },
      {
        "duration": 81,
        "start_time": "2023-01-25T16:11:34.683Z"
      },
      {
        "duration": 440,
        "start_time": "2023-01-25T16:11:34.766Z"
      },
      {
        "duration": 677,
        "start_time": "2023-01-25T16:11:35.207Z"
      },
      {
        "duration": 346,
        "start_time": "2023-01-25T16:11:35.886Z"
      },
      {
        "duration": 13,
        "start_time": "2023-01-25T16:11:36.238Z"
      },
      {
        "duration": 310,
        "start_time": "2023-01-25T16:11:36.252Z"
      },
      {
        "duration": 244,
        "start_time": "2023-01-25T16:11:36.565Z"
      },
      {
        "duration": 12,
        "start_time": "2023-01-25T16:11:36.811Z"
      },
      {
        "duration": 362,
        "start_time": "2023-01-25T16:11:36.824Z"
      },
      {
        "duration": 59,
        "start_time": "2023-01-25T16:11:37.187Z"
      },
      {
        "duration": 211,
        "start_time": "2023-01-25T16:11:37.248Z"
      },
      {
        "duration": 227,
        "start_time": "2023-01-25T16:11:37.461Z"
      },
      {
        "duration": 302,
        "start_time": "2023-01-25T16:11:37.690Z"
      },
      {
        "duration": 14,
        "start_time": "2023-01-25T16:11:37.994Z"
      },
      {
        "duration": 346,
        "start_time": "2023-01-25T16:11:38.010Z"
      },
      {
        "duration": 226,
        "start_time": "2023-01-25T16:11:38.358Z"
      },
      {
        "duration": 4,
        "start_time": "2023-01-25T16:11:38.586Z"
      },
      {
        "duration": 207,
        "start_time": "2023-01-25T16:11:38.592Z"
      },
      {
        "duration": 4,
        "start_time": "2023-01-25T16:11:38.801Z"
      },
      {
        "duration": 23,
        "start_time": "2023-01-25T16:11:38.807Z"
      },
      {
        "duration": 349,
        "start_time": "2023-01-25T16:11:38.838Z"
      },
      {
        "duration": 9,
        "start_time": "2023-01-25T16:11:39.189Z"
      },
      {
        "duration": 122,
        "start_time": "2023-01-25T16:11:39.200Z"
      },
      {
        "duration": 134,
        "start_time": "2023-01-25T16:11:39.324Z"
      },
      {
        "duration": 38,
        "start_time": "2023-01-25T16:11:39.462Z"
      },
      {
        "duration": 44,
        "start_time": "2023-01-25T16:11:39.502Z"
      },
      {
        "duration": 112,
        "start_time": "2023-01-25T16:11:39.547Z"
      },
      {
        "duration": 47,
        "start_time": "2023-01-25T16:11:39.660Z"
      },
      {
        "duration": 284,
        "start_time": "2023-01-25T16:11:39.709Z"
      },
      {
        "duration": 101,
        "start_time": "2023-01-25T16:11:39.995Z"
      },
      {
        "duration": 76,
        "start_time": "2023-01-25T16:11:40.098Z"
      },
      {
        "duration": 34,
        "start_time": "2023-01-25T16:11:40.176Z"
      },
      {
        "duration": 528,
        "start_time": "2023-01-25T16:11:40.212Z"
      },
      {
        "duration": 44,
        "start_time": "2023-01-25T16:11:40.742Z"
      },
      {
        "duration": 51,
        "start_time": "2023-01-25T16:11:40.788Z"
      },
      {
        "duration": 305,
        "start_time": "2023-01-25T16:11:40.846Z"
      },
      {
        "duration": 42,
        "start_time": "2023-01-25T16:11:41.153Z"
      },
      {
        "duration": 326,
        "start_time": "2023-01-25T16:11:41.197Z"
      },
      {
        "duration": 41,
        "start_time": "2023-01-25T16:11:41.525Z"
      },
      {
        "duration": 41,
        "start_time": "2023-01-25T16:11:41.568Z"
      },
      {
        "duration": 322,
        "start_time": "2023-01-25T16:11:41.611Z"
      },
      {
        "duration": 3,
        "start_time": "2023-01-25T16:11:41.937Z"
      },
      {
        "duration": 20,
        "start_time": "2023-01-25T16:11:41.941Z"
      },
      {
        "duration": 31,
        "start_time": "2023-01-25T16:11:41.963Z"
      },
      {
        "duration": 246,
        "start_time": "2023-01-25T16:11:41.996Z"
      },
      {
        "duration": 371,
        "start_time": "2023-01-25T16:11:42.244Z"
      },
      {
        "duration": 16425,
        "start_time": "2023-01-25T16:11:42.617Z"
      },
      {
        "duration": 298,
        "start_time": "2023-01-25T16:11:59.045Z"
      },
      {
        "duration": 94,
        "start_time": "2023-01-25T16:11:59.345Z"
      },
      {
        "duration": 19415,
        "start_time": "2023-01-25T16:11:59.440Z"
      },
      {
        "duration": 15790,
        "start_time": "2023-01-25T16:12:18.857Z"
      },
      {
        "duration": 289,
        "start_time": "2023-01-25T16:12:34.649Z"
      },
      {
        "duration": 1547,
        "start_time": "2023-01-25T16:14:46.915Z"
      },
      {
        "duration": 1045,
        "start_time": "2023-01-25T16:14:48.464Z"
      },
      {
        "duration": 4,
        "start_time": "2023-01-25T16:14:49.511Z"
      },
      {
        "duration": 84,
        "start_time": "2023-01-25T16:14:49.516Z"
      },
      {
        "duration": 481,
        "start_time": "2023-01-25T16:14:49.602Z"
      },
      {
        "duration": 729,
        "start_time": "2023-01-25T16:14:50.085Z"
      },
      {
        "duration": 388,
        "start_time": "2023-01-25T16:14:50.816Z"
      },
      {
        "duration": 13,
        "start_time": "2023-01-25T16:14:51.207Z"
      },
      {
        "duration": 328,
        "start_time": "2023-01-25T16:14:51.222Z"
      },
      {
        "duration": 249,
        "start_time": "2023-01-25T16:14:51.553Z"
      },
      {
        "duration": 16,
        "start_time": "2023-01-25T16:14:51.804Z"
      },
      {
        "duration": 370,
        "start_time": "2023-01-25T16:14:51.821Z"
      },
      {
        "duration": 63,
        "start_time": "2023-01-25T16:14:52.192Z"
      },
      {
        "duration": 237,
        "start_time": "2023-01-25T16:14:52.257Z"
      },
      {
        "duration": 250,
        "start_time": "2023-01-25T16:14:52.496Z"
      },
      {
        "duration": 297,
        "start_time": "2023-01-25T16:14:52.748Z"
      },
      {
        "duration": 14,
        "start_time": "2023-01-25T16:14:53.047Z"
      },
      {
        "duration": 297,
        "start_time": "2023-01-25T16:14:53.063Z"
      },
      {
        "duration": 203,
        "start_time": "2023-01-25T16:14:53.362Z"
      },
      {
        "duration": 4,
        "start_time": "2023-01-25T16:14:53.567Z"
      },
      {
        "duration": 224,
        "start_time": "2023-01-25T16:14:53.573Z"
      },
      {
        "duration": 4,
        "start_time": "2023-01-25T16:14:53.799Z"
      },
      {
        "duration": 24,
        "start_time": "2023-01-25T16:14:53.804Z"
      },
      {
        "duration": 286,
        "start_time": "2023-01-25T16:14:53.830Z"
      },
      {
        "duration": 9,
        "start_time": "2023-01-25T16:14:54.118Z"
      },
      {
        "duration": 120,
        "start_time": "2023-01-25T16:14:54.139Z"
      },
      {
        "duration": 144,
        "start_time": "2023-01-25T16:14:54.260Z"
      },
      {
        "duration": 55,
        "start_time": "2023-01-25T16:14:54.409Z"
      },
      {
        "duration": 39,
        "start_time": "2023-01-25T16:14:54.466Z"
      },
      {
        "duration": 120,
        "start_time": "2023-01-25T16:14:54.507Z"
      },
      {
        "duration": 50,
        "start_time": "2023-01-25T16:14:54.628Z"
      },
      {
        "duration": 313,
        "start_time": "2023-01-25T16:14:54.680Z"
      },
      {
        "duration": 96,
        "start_time": "2023-01-25T16:14:54.995Z"
      },
      {
        "duration": 52,
        "start_time": "2023-01-25T16:14:55.093Z"
      },
      {
        "duration": 41,
        "start_time": "2023-01-25T16:14:55.147Z"
      },
      {
        "duration": 603,
        "start_time": "2023-01-25T16:14:55.189Z"
      },
      {
        "duration": 51,
        "start_time": "2023-01-25T16:14:55.794Z"
      },
      {
        "duration": 35,
        "start_time": "2023-01-25T16:14:55.847Z"
      },
      {
        "duration": 316,
        "start_time": "2023-01-25T16:14:55.883Z"
      },
      {
        "duration": 53,
        "start_time": "2023-01-25T16:14:56.201Z"
      },
      {
        "duration": 326,
        "start_time": "2023-01-25T16:14:56.256Z"
      },
      {
        "duration": 56,
        "start_time": "2023-01-25T16:14:56.584Z"
      },
      {
        "duration": 58,
        "start_time": "2023-01-25T16:14:56.642Z"
      },
      {
        "duration": 335,
        "start_time": "2023-01-25T16:14:56.737Z"
      },
      {
        "duration": 3,
        "start_time": "2023-01-25T16:14:57.074Z"
      },
      {
        "duration": 65,
        "start_time": "2023-01-25T16:14:57.079Z"
      },
      {
        "duration": 29,
        "start_time": "2023-01-25T16:14:57.146Z"
      },
      {
        "duration": 334,
        "start_time": "2023-01-25T16:14:57.177Z"
      },
      {
        "duration": 348,
        "start_time": "2023-01-25T16:14:57.512Z"
      },
      {
        "duration": 17281,
        "start_time": "2023-01-25T16:14:57.862Z"
      },
      {
        "duration": 294,
        "start_time": "2023-01-25T16:15:15.145Z"
      },
      {
        "duration": 95,
        "start_time": "2023-01-25T16:15:15.442Z"
      },
      {
        "duration": 18659,
        "start_time": "2023-01-25T16:15:15.539Z"
      },
      {
        "duration": 16638,
        "start_time": "2023-01-25T16:15:34.199Z"
      },
      {
        "duration": 203,
        "start_time": "2023-01-25T16:15:50.839Z"
      },
      {
        "duration": 98,
        "start_time": "2023-01-25T16:15:51.045Z"
      },
      {
        "duration": 38,
        "start_time": "2023-01-25T16:15:51.144Z"
      },
      {
        "duration": 211718,
        "start_time": "2023-01-25T16:15:51.183Z"
      },
      {
        "duration": 4,
        "start_time": "2023-01-25T16:19:22.902Z"
      },
      {
        "duration": 23,
        "start_time": "2023-01-25T16:19:22.908Z"
      },
      {
        "duration": 73,
        "start_time": "2023-01-25T16:19:22.933Z"
      },
      {
        "duration": 76,
        "start_time": "2023-01-25T16:19:23.007Z"
      },
      {
        "duration": 32,
        "start_time": "2023-01-25T16:19:23.085Z"
      },
      {
        "duration": 62,
        "start_time": "2023-01-25T16:19:23.118Z"
      },
      {
        "duration": 34,
        "start_time": "2023-01-25T16:19:23.183Z"
      },
      {
        "duration": 47,
        "start_time": "2023-01-25T16:19:23.219Z"
      },
      {
        "duration": 33,
        "start_time": "2023-01-25T16:19:23.269Z"
      },
      {
        "duration": 90,
        "start_time": "2023-01-25T16:19:23.303Z"
      },
      {
        "duration": 93,
        "start_time": "2023-01-25T16:19:23.395Z"
      },
      {
        "duration": 11447,
        "start_time": "2023-01-25T16:19:23.489Z"
      },
      {
        "duration": 10796,
        "start_time": "2023-01-25T16:19:34.938Z"
      },
      {
        "duration": 81,
        "start_time": "2023-01-25T16:19:45.736Z"
      },
      {
        "duration": 158,
        "start_time": "2023-01-25T16:19:45.818Z"
      },
      {
        "duration": 48,
        "start_time": "2023-01-25T16:19:45.977Z"
      },
      {
        "duration": 12006,
        "start_time": "2023-01-25T16:19:46.038Z"
      },
      {
        "duration": 8,
        "start_time": "2023-01-25T16:19:58.046Z"
      },
      {
        "duration": 13,
        "start_time": "2023-01-25T16:19:58.057Z"
      },
      {
        "duration": 11132,
        "start_time": "2023-01-25T16:19:58.072Z"
      },
      {
        "duration": 1516,
        "start_time": "2023-01-25T17:06:06.457Z"
      },
      {
        "duration": 1082,
        "start_time": "2023-01-25T17:06:07.976Z"
      },
      {
        "duration": 4,
        "start_time": "2023-01-25T17:06:09.060Z"
      },
      {
        "duration": 89,
        "start_time": "2023-01-25T17:06:09.066Z"
      },
      {
        "duration": 503,
        "start_time": "2023-01-25T17:06:09.156Z"
      },
      {
        "duration": 707,
        "start_time": "2023-01-25T17:06:09.660Z"
      },
      {
        "duration": 375,
        "start_time": "2023-01-25T17:06:10.368Z"
      },
      {
        "duration": 14,
        "start_time": "2023-01-25T17:06:10.745Z"
      },
      {
        "duration": 336,
        "start_time": "2023-01-25T17:06:10.761Z"
      },
      {
        "duration": 255,
        "start_time": "2023-01-25T17:06:11.100Z"
      },
      {
        "duration": 13,
        "start_time": "2023-01-25T17:06:11.357Z"
      },
      {
        "duration": 378,
        "start_time": "2023-01-25T17:06:11.371Z"
      },
      {
        "duration": 54,
        "start_time": "2023-01-25T17:06:11.751Z"
      },
      {
        "duration": 245,
        "start_time": "2023-01-25T17:06:11.806Z"
      },
      {
        "duration": 252,
        "start_time": "2023-01-25T17:06:12.052Z"
      },
      {
        "duration": 384,
        "start_time": "2023-01-25T17:06:12.306Z"
      },
      {
        "duration": 20,
        "start_time": "2023-01-25T17:06:12.692Z"
      },
      {
        "duration": 321,
        "start_time": "2023-01-25T17:06:12.716Z"
      },
      {
        "duration": 204,
        "start_time": "2023-01-25T17:06:13.039Z"
      },
      {
        "duration": 5,
        "start_time": "2023-01-25T17:06:13.245Z"
      },
      {
        "duration": 230,
        "start_time": "2023-01-25T17:06:13.252Z"
      },
      {
        "duration": 4,
        "start_time": "2023-01-25T17:06:13.484Z"
      },
      {
        "duration": 21,
        "start_time": "2023-01-25T17:06:13.490Z"
      },
      {
        "duration": 307,
        "start_time": "2023-01-25T17:06:13.512Z"
      },
      {
        "duration": 16,
        "start_time": "2023-01-25T17:06:13.822Z"
      },
      {
        "duration": 133,
        "start_time": "2023-01-25T17:06:13.840Z"
      },
      {
        "duration": 187,
        "start_time": "2023-01-25T17:06:13.976Z"
      },
      {
        "duration": 44,
        "start_time": "2023-01-25T17:06:14.168Z"
      },
      {
        "duration": 56,
        "start_time": "2023-01-25T17:06:14.213Z"
      },
      {
        "duration": 122,
        "start_time": "2023-01-25T17:06:14.271Z"
      },
      {
        "duration": 84,
        "start_time": "2023-01-25T17:06:14.394Z"
      },
      {
        "duration": 275,
        "start_time": "2023-01-25T17:06:14.480Z"
      },
      {
        "duration": 102,
        "start_time": "2023-01-25T17:06:14.757Z"
      },
      {
        "duration": 49,
        "start_time": "2023-01-25T17:06:14.861Z"
      },
      {
        "duration": 50,
        "start_time": "2023-01-25T17:06:14.912Z"
      },
      {
        "duration": 569,
        "start_time": "2023-01-25T17:06:14.964Z"
      },
      {
        "duration": 44,
        "start_time": "2023-01-25T17:06:15.538Z"
      },
      {
        "duration": 69,
        "start_time": "2023-01-25T17:06:15.584Z"
      },
      {
        "duration": 311,
        "start_time": "2023-01-25T17:06:15.655Z"
      },
      {
        "duration": 54,
        "start_time": "2023-01-25T17:06:15.968Z"
      },
      {
        "duration": 374,
        "start_time": "2023-01-25T17:06:16.024Z"
      },
      {
        "duration": 77,
        "start_time": "2023-01-25T17:06:16.400Z"
      },
      {
        "duration": 32,
        "start_time": "2023-01-25T17:06:16.479Z"
      },
      {
        "duration": 350,
        "start_time": "2023-01-25T17:06:16.513Z"
      },
      {
        "duration": 4,
        "start_time": "2023-01-25T17:06:16.865Z"
      },
      {
        "duration": 28,
        "start_time": "2023-01-25T17:06:16.871Z"
      },
      {
        "duration": 50,
        "start_time": "2023-01-25T17:06:16.902Z"
      },
      {
        "duration": 249,
        "start_time": "2023-01-25T17:06:16.960Z"
      },
      {
        "duration": 388,
        "start_time": "2023-01-25T17:06:17.210Z"
      },
      {
        "duration": 22447,
        "start_time": "2023-01-25T17:06:17.600Z"
      },
      {
        "duration": 299,
        "start_time": "2023-01-25T17:06:40.048Z"
      },
      {
        "duration": 89,
        "start_time": "2023-01-25T17:06:40.350Z"
      },
      {
        "duration": 19639,
        "start_time": "2023-01-25T17:06:40.441Z"
      },
      {
        "duration": 27365,
        "start_time": "2023-01-25T17:07:00.082Z"
      },
      {
        "duration": 293,
        "start_time": "2023-01-25T17:07:27.450Z"
      },
      {
        "duration": 1517,
        "start_time": "2023-01-25T17:13:13.562Z"
      },
      {
        "duration": 1140,
        "start_time": "2023-01-25T17:13:15.081Z"
      },
      {
        "duration": 4,
        "start_time": "2023-01-25T17:13:16.222Z"
      },
      {
        "duration": 70,
        "start_time": "2023-01-25T17:13:16.237Z"
      },
      {
        "duration": 572,
        "start_time": "2023-01-25T17:13:16.309Z"
      },
      {
        "duration": 857,
        "start_time": "2023-01-25T17:13:16.883Z"
      },
      {
        "duration": 433,
        "start_time": "2023-01-25T17:13:17.742Z"
      },
      {
        "duration": 22,
        "start_time": "2023-01-25T17:13:18.178Z"
      },
      {
        "duration": 338,
        "start_time": "2023-01-25T17:13:18.202Z"
      },
      {
        "duration": 260,
        "start_time": "2023-01-25T17:13:18.542Z"
      },
      {
        "duration": 12,
        "start_time": "2023-01-25T17:13:18.805Z"
      },
      {
        "duration": 380,
        "start_time": "2023-01-25T17:13:18.818Z"
      },
      {
        "duration": 59,
        "start_time": "2023-01-25T17:13:19.199Z"
      },
      {
        "duration": 242,
        "start_time": "2023-01-25T17:13:19.260Z"
      },
      {
        "duration": 235,
        "start_time": "2023-01-25T17:13:19.503Z"
      },
      {
        "duration": 305,
        "start_time": "2023-01-25T17:13:19.740Z"
      },
      {
        "duration": 14,
        "start_time": "2023-01-25T17:13:20.046Z"
      },
      {
        "duration": 302,
        "start_time": "2023-01-25T17:13:20.061Z"
      },
      {
        "duration": 242,
        "start_time": "2023-01-25T17:13:20.365Z"
      },
      {
        "duration": 4,
        "start_time": "2023-01-25T17:13:20.609Z"
      },
      {
        "duration": 257,
        "start_time": "2023-01-25T17:13:20.616Z"
      },
      {
        "duration": 4,
        "start_time": "2023-01-25T17:13:20.875Z"
      },
      {
        "duration": 15,
        "start_time": "2023-01-25T17:13:20.880Z"
      },
      {
        "duration": 326,
        "start_time": "2023-01-25T17:13:20.898Z"
      },
      {
        "duration": 16,
        "start_time": "2023-01-25T17:13:21.226Z"
      },
      {
        "duration": 122,
        "start_time": "2023-01-25T17:13:21.244Z"
      },
      {
        "duration": 176,
        "start_time": "2023-01-25T17:13:21.368Z"
      },
      {
        "duration": 53,
        "start_time": "2023-01-25T17:13:21.550Z"
      },
      {
        "duration": 55,
        "start_time": "2023-01-25T17:13:21.605Z"
      },
      {
        "duration": 136,
        "start_time": "2023-01-25T17:13:21.663Z"
      },
      {
        "duration": 58,
        "start_time": "2023-01-25T17:13:21.801Z"
      },
      {
        "duration": 286,
        "start_time": "2023-01-25T17:13:21.861Z"
      },
      {
        "duration": 96,
        "start_time": "2023-01-25T17:13:22.149Z"
      },
      {
        "duration": 44,
        "start_time": "2023-01-25T17:13:22.246Z"
      },
      {
        "duration": 52,
        "start_time": "2023-01-25T17:13:22.292Z"
      },
      {
        "duration": 602,
        "start_time": "2023-01-25T17:13:22.345Z"
      },
      {
        "duration": 46,
        "start_time": "2023-01-25T17:13:22.949Z"
      },
      {
        "duration": 47,
        "start_time": "2023-01-25T17:13:22.997Z"
      },
      {
        "duration": 319,
        "start_time": "2023-01-25T17:13:23.046Z"
      },
      {
        "duration": 53,
        "start_time": "2023-01-25T17:13:23.367Z"
      },
      {
        "duration": 346,
        "start_time": "2023-01-25T17:13:23.422Z"
      },
      {
        "duration": 46,
        "start_time": "2023-01-25T17:13:23.770Z"
      },
      {
        "duration": 44,
        "start_time": "2023-01-25T17:13:23.817Z"
      },
      {
        "duration": 328,
        "start_time": "2023-01-25T17:13:23.862Z"
      },
      {
        "duration": 5,
        "start_time": "2023-01-25T17:13:24.192Z"
      },
      {
        "duration": 35,
        "start_time": "2023-01-25T17:13:24.199Z"
      },
      {
        "duration": 40,
        "start_time": "2023-01-25T17:13:24.236Z"
      },
      {
        "duration": 227,
        "start_time": "2023-01-25T17:13:24.277Z"
      },
      {
        "duration": 368,
        "start_time": "2023-01-25T17:13:24.506Z"
      },
      {
        "duration": 30870,
        "start_time": "2023-01-25T17:13:24.876Z"
      },
      {
        "duration": 391,
        "start_time": "2023-01-25T17:13:55.750Z"
      },
      {
        "duration": 5,
        "start_time": "2023-01-25T17:13:56.143Z"
      },
      {
        "duration": 19306,
        "start_time": "2023-01-25T17:13:56.150Z"
      },
      {
        "duration": 22187,
        "start_time": "2023-01-25T17:14:15.457Z"
      },
      {
        "duration": 194,
        "start_time": "2023-01-25T17:14:37.649Z"
      },
      {
        "duration": 1518,
        "start_time": "2023-01-25T17:16:55.332Z"
      },
      {
        "duration": 1242,
        "start_time": "2023-01-25T17:16:56.852Z"
      },
      {
        "duration": 4,
        "start_time": "2023-01-25T17:16:58.099Z"
      },
      {
        "duration": 96,
        "start_time": "2023-01-25T17:16:58.104Z"
      },
      {
        "duration": 483,
        "start_time": "2023-01-25T17:16:58.202Z"
      },
      {
        "duration": 715,
        "start_time": "2023-01-25T17:16:58.688Z"
      },
      {
        "duration": 390,
        "start_time": "2023-01-25T17:16:59.405Z"
      },
      {
        "duration": 15,
        "start_time": "2023-01-25T17:16:59.797Z"
      },
      {
        "duration": 334,
        "start_time": "2023-01-25T17:16:59.815Z"
      },
      {
        "duration": 271,
        "start_time": "2023-01-25T17:17:00.151Z"
      },
      {
        "duration": 15,
        "start_time": "2023-01-25T17:17:00.424Z"
      },
      {
        "duration": 424,
        "start_time": "2023-01-25T17:17:00.441Z"
      },
      {
        "duration": 49,
        "start_time": "2023-01-25T17:17:00.866Z"
      },
      {
        "duration": 230,
        "start_time": "2023-01-25T17:17:00.917Z"
      },
      {
        "duration": 221,
        "start_time": "2023-01-25T17:17:01.149Z"
      },
      {
        "duration": 316,
        "start_time": "2023-01-25T17:17:01.372Z"
      },
      {
        "duration": 15,
        "start_time": "2023-01-25T17:17:01.690Z"
      },
      {
        "duration": 344,
        "start_time": "2023-01-25T17:17:01.707Z"
      },
      {
        "duration": 211,
        "start_time": "2023-01-25T17:17:02.053Z"
      },
      {
        "duration": 4,
        "start_time": "2023-01-25T17:17:02.266Z"
      },
      {
        "duration": 250,
        "start_time": "2023-01-25T17:17:02.272Z"
      },
      {
        "duration": 19,
        "start_time": "2023-01-25T17:17:02.525Z"
      },
      {
        "duration": 26,
        "start_time": "2023-01-25T17:17:02.546Z"
      },
      {
        "duration": 366,
        "start_time": "2023-01-25T17:17:02.574Z"
      },
      {
        "duration": 9,
        "start_time": "2023-01-25T17:17:02.941Z"
      },
      {
        "duration": 145,
        "start_time": "2023-01-25T17:17:02.952Z"
      },
      {
        "duration": 156,
        "start_time": "2023-01-25T17:17:03.101Z"
      },
      {
        "duration": 47,
        "start_time": "2023-01-25T17:17:03.259Z"
      },
      {
        "duration": 70,
        "start_time": "2023-01-25T17:17:03.309Z"
      },
      {
        "duration": 132,
        "start_time": "2023-01-25T17:17:03.381Z"
      },
      {
        "duration": 53,
        "start_time": "2023-01-25T17:17:03.515Z"
      },
      {
        "duration": 294,
        "start_time": "2023-01-25T17:17:03.569Z"
      },
      {
        "duration": 112,
        "start_time": "2023-01-25T17:17:03.865Z"
      },
      {
        "duration": 59,
        "start_time": "2023-01-25T17:17:03.979Z"
      },
      {
        "duration": 61,
        "start_time": "2023-01-25T17:17:04.042Z"
      },
      {
        "duration": 712,
        "start_time": "2023-01-25T17:17:04.105Z"
      },
      {
        "duration": 62,
        "start_time": "2023-01-25T17:17:04.819Z"
      },
      {
        "duration": 58,
        "start_time": "2023-01-25T17:17:04.883Z"
      },
      {
        "duration": 330,
        "start_time": "2023-01-25T17:17:04.944Z"
      },
      {
        "duration": 64,
        "start_time": "2023-01-25T17:17:05.276Z"
      },
      {
        "duration": 340,
        "start_time": "2023-01-25T17:17:05.342Z"
      },
      {
        "duration": 54,
        "start_time": "2023-01-25T17:17:05.684Z"
      },
      {
        "duration": 36,
        "start_time": "2023-01-25T17:17:05.740Z"
      },
      {
        "duration": 341,
        "start_time": "2023-01-25T17:17:05.778Z"
      },
      {
        "duration": 3,
        "start_time": "2023-01-25T17:17:06.121Z"
      },
      {
        "duration": 32,
        "start_time": "2023-01-25T17:17:06.126Z"
      },
      {
        "duration": 43,
        "start_time": "2023-01-25T17:17:06.160Z"
      },
      {
        "duration": 240,
        "start_time": "2023-01-25T17:17:06.205Z"
      },
      {
        "duration": 388,
        "start_time": "2023-01-25T17:17:06.447Z"
      },
      {
        "duration": 24006,
        "start_time": "2023-01-25T17:17:06.838Z"
      },
      {
        "duration": 392,
        "start_time": "2023-01-25T17:17:30.847Z"
      },
      {
        "duration": 4,
        "start_time": "2023-01-25T17:17:31.241Z"
      },
      {
        "duration": 19387,
        "start_time": "2023-01-25T17:17:31.247Z"
      },
      {
        "duration": 40312,
        "start_time": "2023-01-25T17:17:50.638Z"
      },
      {
        "duration": 294,
        "start_time": "2023-01-25T17:18:30.952Z"
      },
      {
        "duration": 1633,
        "start_time": "2023-01-25T17:27:23.051Z"
      },
      {
        "duration": 1145,
        "start_time": "2023-01-25T17:27:24.686Z"
      },
      {
        "duration": 8,
        "start_time": "2023-01-25T17:27:25.833Z"
      },
      {
        "duration": 109,
        "start_time": "2023-01-25T17:27:25.844Z"
      },
      {
        "duration": 512,
        "start_time": "2023-01-25T17:27:25.955Z"
      },
      {
        "duration": 706,
        "start_time": "2023-01-25T17:27:26.469Z"
      },
      {
        "duration": 417,
        "start_time": "2023-01-25T17:27:27.177Z"
      },
      {
        "duration": 15,
        "start_time": "2023-01-25T17:27:27.596Z"
      },
      {
        "duration": 307,
        "start_time": "2023-01-25T17:27:27.612Z"
      },
      {
        "duration": 291,
        "start_time": "2023-01-25T17:27:27.922Z"
      },
      {
        "duration": 24,
        "start_time": "2023-01-25T17:27:28.214Z"
      },
      {
        "duration": 344,
        "start_time": "2023-01-25T17:27:28.240Z"
      },
      {
        "duration": 60,
        "start_time": "2023-01-25T17:27:28.586Z"
      },
      {
        "duration": 211,
        "start_time": "2023-01-25T17:27:28.648Z"
      },
      {
        "duration": 208,
        "start_time": "2023-01-25T17:27:28.861Z"
      },
      {
        "duration": 279,
        "start_time": "2023-01-25T17:27:29.070Z"
      },
      {
        "duration": 13,
        "start_time": "2023-01-25T17:27:29.351Z"
      },
      {
        "duration": 307,
        "start_time": "2023-01-25T17:27:29.365Z"
      },
      {
        "duration": 219,
        "start_time": "2023-01-25T17:27:29.674Z"
      },
      {
        "duration": 4,
        "start_time": "2023-01-25T17:27:29.894Z"
      },
      {
        "duration": 216,
        "start_time": "2023-01-25T17:27:29.899Z"
      },
      {
        "duration": 3,
        "start_time": "2023-01-25T17:27:30.117Z"
      },
      {
        "duration": 30,
        "start_time": "2023-01-25T17:27:30.137Z"
      },
      {
        "duration": 296,
        "start_time": "2023-01-25T17:27:30.169Z"
      },
      {
        "duration": 8,
        "start_time": "2023-01-25T17:27:30.466Z"
      },
      {
        "duration": 169,
        "start_time": "2023-01-25T17:27:30.476Z"
      },
      {
        "duration": 166,
        "start_time": "2023-01-25T17:27:30.648Z"
      },
      {
        "duration": 42,
        "start_time": "2023-01-25T17:27:30.818Z"
      },
      {
        "duration": 69,
        "start_time": "2023-01-25T17:27:30.863Z"
      },
      {
        "duration": 122,
        "start_time": "2023-01-25T17:27:30.934Z"
      },
      {
        "duration": 42,
        "start_time": "2023-01-25T17:27:31.057Z"
      },
      {
        "duration": 292,
        "start_time": "2023-01-25T17:27:31.101Z"
      },
      {
        "duration": 112,
        "start_time": "2023-01-25T17:27:31.395Z"
      },
      {
        "duration": 50,
        "start_time": "2023-01-25T17:27:31.508Z"
      },
      {
        "duration": 39,
        "start_time": "2023-01-25T17:27:31.560Z"
      },
      {
        "duration": 601,
        "start_time": "2023-01-25T17:27:31.601Z"
      },
      {
        "duration": 49,
        "start_time": "2023-01-25T17:27:32.204Z"
      },
      {
        "duration": 58,
        "start_time": "2023-01-25T17:27:32.255Z"
      },
      {
        "duration": 347,
        "start_time": "2023-01-25T17:27:32.315Z"
      },
      {
        "duration": 52,
        "start_time": "2023-01-25T17:27:32.664Z"
      },
      {
        "duration": 352,
        "start_time": "2023-01-25T17:27:32.718Z"
      },
      {
        "duration": 41,
        "start_time": "2023-01-25T17:27:33.072Z"
      },
      {
        "duration": 49,
        "start_time": "2023-01-25T17:27:33.115Z"
      },
      {
        "duration": 366,
        "start_time": "2023-01-25T17:27:33.166Z"
      },
      {
        "duration": 4,
        "start_time": "2023-01-25T17:27:33.534Z"
      },
      {
        "duration": 24,
        "start_time": "2023-01-25T17:27:33.540Z"
      },
      {
        "duration": 42,
        "start_time": "2023-01-25T17:27:33.566Z"
      },
      {
        "duration": 256,
        "start_time": "2023-01-25T17:27:33.613Z"
      },
      {
        "duration": 418,
        "start_time": "2023-01-25T17:27:33.871Z"
      },
      {
        "duration": 41648,
        "start_time": "2023-01-25T17:27:34.291Z"
      },
      {
        "duration": 404,
        "start_time": "2023-01-25T17:28:15.941Z"
      },
      {
        "duration": 7,
        "start_time": "2023-01-25T17:28:16.347Z"
      },
      {
        "duration": 19599,
        "start_time": "2023-01-25T17:28:16.356Z"
      },
      {
        "duration": 27685,
        "start_time": "2023-01-25T17:28:35.958Z"
      },
      {
        "duration": 294,
        "start_time": "2023-01-25T17:29:03.645Z"
      },
      {
        "duration": 1497,
        "start_time": "2023-01-25T17:35:15.352Z"
      },
      {
        "duration": 1089,
        "start_time": "2023-01-25T17:35:16.851Z"
      },
      {
        "duration": 4,
        "start_time": "2023-01-25T17:35:17.942Z"
      },
      {
        "duration": 92,
        "start_time": "2023-01-25T17:35:17.948Z"
      },
      {
        "duration": 541,
        "start_time": "2023-01-25T17:35:18.042Z"
      },
      {
        "duration": 741,
        "start_time": "2023-01-25T17:35:18.585Z"
      },
      {
        "duration": 416,
        "start_time": "2023-01-25T17:35:19.328Z"
      },
      {
        "duration": 13,
        "start_time": "2023-01-25T17:35:19.746Z"
      },
      {
        "duration": 342,
        "start_time": "2023-01-25T17:35:19.761Z"
      },
      {
        "duration": 278,
        "start_time": "2023-01-25T17:35:20.107Z"
      },
      {
        "duration": 13,
        "start_time": "2023-01-25T17:35:20.387Z"
      },
      {
        "duration": 423,
        "start_time": "2023-01-25T17:35:20.402Z"
      },
      {
        "duration": 53,
        "start_time": "2023-01-25T17:35:20.827Z"
      },
      {
        "duration": 240,
        "start_time": "2023-01-25T17:35:20.882Z"
      },
      {
        "duration": 246,
        "start_time": "2023-01-25T17:35:21.124Z"
      },
      {
        "duration": 393,
        "start_time": "2023-01-25T17:35:21.372Z"
      },
      {
        "duration": 15,
        "start_time": "2023-01-25T17:35:21.766Z"
      },
      {
        "duration": 317,
        "start_time": "2023-01-25T17:35:21.782Z"
      },
      {
        "duration": 209,
        "start_time": "2023-01-25T17:35:22.101Z"
      },
      {
        "duration": 4,
        "start_time": "2023-01-25T17:35:22.312Z"
      },
      {
        "duration": 307,
        "start_time": "2023-01-25T17:35:22.318Z"
      },
      {
        "duration": 16,
        "start_time": "2023-01-25T17:35:22.627Z"
      },
      {
        "duration": 92,
        "start_time": "2023-01-25T17:35:22.646Z"
      },
      {
        "duration": 397,
        "start_time": "2023-01-25T17:35:22.740Z"
      },
      {
        "duration": 9,
        "start_time": "2023-01-25T17:35:23.139Z"
      },
      {
        "duration": 141,
        "start_time": "2023-01-25T17:35:23.150Z"
      },
      {
        "duration": 169,
        "start_time": "2023-01-25T17:35:23.292Z"
      },
      {
        "duration": 48,
        "start_time": "2023-01-25T17:35:23.465Z"
      },
      {
        "duration": 122,
        "start_time": "2023-01-25T17:35:23.515Z"
      },
      {
        "duration": 134,
        "start_time": "2023-01-25T17:35:23.640Z"
      },
      {
        "duration": 47,
        "start_time": "2023-01-25T17:35:23.777Z"
      },
      {
        "duration": 291,
        "start_time": "2023-01-25T17:35:23.837Z"
      },
      {
        "duration": 108,
        "start_time": "2023-01-25T17:35:24.130Z"
      },
      {
        "duration": 48,
        "start_time": "2023-01-25T17:35:24.240Z"
      },
      {
        "duration": 52,
        "start_time": "2023-01-25T17:35:24.290Z"
      },
      {
        "duration": 722,
        "start_time": "2023-01-25T17:35:24.344Z"
      },
      {
        "duration": 47,
        "start_time": "2023-01-25T17:35:25.068Z"
      },
      {
        "duration": 49,
        "start_time": "2023-01-25T17:35:25.117Z"
      },
      {
        "duration": 332,
        "start_time": "2023-01-25T17:35:25.168Z"
      },
      {
        "duration": 56,
        "start_time": "2023-01-25T17:35:25.501Z"
      },
      {
        "duration": 344,
        "start_time": "2023-01-25T17:35:25.559Z"
      },
      {
        "duration": 45,
        "start_time": "2023-01-25T17:35:25.905Z"
      },
      {
        "duration": 37,
        "start_time": "2023-01-25T17:35:25.952Z"
      },
      {
        "duration": 367,
        "start_time": "2023-01-25T17:35:25.991Z"
      },
      {
        "duration": 3,
        "start_time": "2023-01-25T17:35:26.360Z"
      },
      {
        "duration": 38,
        "start_time": "2023-01-25T17:35:26.365Z"
      },
      {
        "duration": 47,
        "start_time": "2023-01-25T17:35:26.405Z"
      },
      {
        "duration": 237,
        "start_time": "2023-01-25T17:35:26.454Z"
      },
      {
        "duration": 386,
        "start_time": "2023-01-25T17:35:26.693Z"
      },
      {
        "duration": 27069,
        "start_time": "2023-01-25T17:35:27.080Z"
      },
      {
        "duration": 305,
        "start_time": "2023-01-25T17:35:54.238Z"
      },
      {
        "duration": 92,
        "start_time": "2023-01-25T17:35:54.545Z"
      },
      {
        "duration": 19810,
        "start_time": "2023-01-25T17:35:54.639Z"
      },
      {
        "duration": 35795,
        "start_time": "2023-01-25T17:36:14.451Z"
      },
      {
        "duration": 291,
        "start_time": "2023-01-25T17:36:50.249Z"
      },
      {
        "duration": 178,
        "start_time": "2023-01-25T17:40:53.893Z"
      },
      {
        "duration": 1620,
        "start_time": "2023-01-25T17:41:05.877Z"
      },
      {
        "duration": 1187,
        "start_time": "2023-01-25T17:41:07.499Z"
      },
      {
        "duration": 4,
        "start_time": "2023-01-25T17:41:08.688Z"
      },
      {
        "duration": 96,
        "start_time": "2023-01-25T17:41:08.694Z"
      },
      {
        "duration": 531,
        "start_time": "2023-01-25T17:41:08.793Z"
      },
      {
        "duration": 774,
        "start_time": "2023-01-25T17:41:09.326Z"
      },
      {
        "duration": 418,
        "start_time": "2023-01-25T17:41:10.101Z"
      },
      {
        "duration": 33,
        "start_time": "2023-01-25T17:41:10.522Z"
      },
      {
        "duration": 358,
        "start_time": "2023-01-25T17:41:10.557Z"
      },
      {
        "duration": 287,
        "start_time": "2023-01-25T17:41:10.919Z"
      },
      {
        "duration": 13,
        "start_time": "2023-01-25T17:41:11.209Z"
      },
      {
        "duration": 430,
        "start_time": "2023-01-25T17:41:11.224Z"
      },
      {
        "duration": 54,
        "start_time": "2023-01-25T17:41:11.656Z"
      },
      {
        "duration": 245,
        "start_time": "2023-01-25T17:41:11.712Z"
      },
      {
        "duration": 238,
        "start_time": "2023-01-25T17:41:11.959Z"
      },
      {
        "duration": 362,
        "start_time": "2023-01-25T17:41:12.199Z"
      },
      {
        "duration": 18,
        "start_time": "2023-01-25T17:41:12.563Z"
      },
      {
        "duration": 380,
        "start_time": "2023-01-25T17:41:12.583Z"
      },
      {
        "duration": 223,
        "start_time": "2023-01-25T17:41:12.965Z"
      },
      {
        "duration": 4,
        "start_time": "2023-01-25T17:41:13.190Z"
      },
      {
        "duration": 261,
        "start_time": "2023-01-25T17:41:13.196Z"
      },
      {
        "duration": 4,
        "start_time": "2023-01-25T17:41:13.459Z"
      },
      {
        "duration": 23,
        "start_time": "2023-01-25T17:41:13.465Z"
      },
      {
        "duration": 301,
        "start_time": "2023-01-25T17:41:13.490Z"
      },
      {
        "duration": 9,
        "start_time": "2023-01-25T17:41:13.793Z"
      },
      {
        "duration": 135,
        "start_time": "2023-01-25T17:41:13.804Z"
      },
      {
        "duration": 152,
        "start_time": "2023-01-25T17:41:13.945Z"
      },
      {
        "duration": 68,
        "start_time": "2023-01-25T17:41:14.102Z"
      },
      {
        "duration": 44,
        "start_time": "2023-01-25T17:41:14.172Z"
      },
      {
        "duration": 134,
        "start_time": "2023-01-25T17:41:14.218Z"
      },
      {
        "duration": 45,
        "start_time": "2023-01-25T17:41:14.354Z"
      },
      {
        "duration": 318,
        "start_time": "2023-01-25T17:41:14.401Z"
      },
      {
        "duration": 120,
        "start_time": "2023-01-25T17:41:14.720Z"
      },
      {
        "duration": 66,
        "start_time": "2023-01-25T17:41:14.842Z"
      },
      {
        "duration": 47,
        "start_time": "2023-01-25T17:41:14.910Z"
      },
      {
        "duration": 596,
        "start_time": "2023-01-25T17:41:14.959Z"
      },
      {
        "duration": 48,
        "start_time": "2023-01-25T17:41:15.560Z"
      },
      {
        "duration": 52,
        "start_time": "2023-01-25T17:41:15.610Z"
      },
      {
        "duration": 317,
        "start_time": "2023-01-25T17:41:15.664Z"
      },
      {
        "duration": 56,
        "start_time": "2023-01-25T17:41:15.983Z"
      },
      {
        "duration": 343,
        "start_time": "2023-01-25T17:41:16.051Z"
      },
      {
        "duration": 73,
        "start_time": "2023-01-25T17:41:16.396Z"
      },
      {
        "duration": 40,
        "start_time": "2023-01-25T17:41:16.471Z"
      },
      {
        "duration": 343,
        "start_time": "2023-01-25T17:41:16.513Z"
      },
      {
        "duration": 4,
        "start_time": "2023-01-25T17:41:16.857Z"
      },
      {
        "duration": 29,
        "start_time": "2023-01-25T17:41:16.863Z"
      },
      {
        "duration": 53,
        "start_time": "2023-01-25T17:41:16.894Z"
      },
      {
        "duration": 224,
        "start_time": "2023-01-25T17:41:16.953Z"
      },
      {
        "duration": 395,
        "start_time": "2023-01-25T17:41:17.179Z"
      },
      {
        "duration": 47871,
        "start_time": "2023-01-25T17:41:17.576Z"
      },
      {
        "duration": 303,
        "start_time": "2023-01-25T17:42:05.450Z"
      },
      {
        "duration": 80,
        "start_time": "2023-01-25T17:42:05.761Z"
      },
      {
        "duration": 21498,
        "start_time": "2023-01-25T17:42:05.848Z"
      },
      {
        "duration": 39805,
        "start_time": "2023-01-25T17:42:27.348Z"
      },
      {
        "duration": 293,
        "start_time": "2023-01-25T17:43:07.155Z"
      },
      {
        "duration": 1551,
        "start_time": "2023-01-25T17:45:46.226Z"
      },
      {
        "duration": 1173,
        "start_time": "2023-01-25T17:45:47.779Z"
      },
      {
        "duration": 3,
        "start_time": "2023-01-25T17:45:48.955Z"
      },
      {
        "duration": 100,
        "start_time": "2023-01-25T17:45:48.960Z"
      },
      {
        "duration": 534,
        "start_time": "2023-01-25T17:45:49.062Z"
      },
      {
        "duration": 778,
        "start_time": "2023-01-25T17:45:49.598Z"
      },
      {
        "duration": 444,
        "start_time": "2023-01-25T17:45:50.378Z"
      },
      {
        "duration": 31,
        "start_time": "2023-01-25T17:45:50.824Z"
      },
      {
        "duration": 333,
        "start_time": "2023-01-25T17:45:50.857Z"
      },
      {
        "duration": 286,
        "start_time": "2023-01-25T17:45:51.194Z"
      },
      {
        "duration": 14,
        "start_time": "2023-01-25T17:45:51.481Z"
      },
      {
        "duration": 396,
        "start_time": "2023-01-25T17:45:51.497Z"
      },
      {
        "duration": 70,
        "start_time": "2023-01-25T17:45:51.895Z"
      },
      {
        "duration": 227,
        "start_time": "2023-01-25T17:45:51.967Z"
      },
      {
        "duration": 255,
        "start_time": "2023-01-25T17:45:52.196Z"
      },
      {
        "duration": 423,
        "start_time": "2023-01-25T17:45:52.453Z"
      },
      {
        "duration": 17,
        "start_time": "2023-01-25T17:45:52.878Z"
      },
      {
        "duration": 313,
        "start_time": "2023-01-25T17:45:52.896Z"
      },
      {
        "duration": 253,
        "start_time": "2023-01-25T17:45:53.212Z"
      },
      {
        "duration": 4,
        "start_time": "2023-01-25T17:45:53.468Z"
      },
      {
        "duration": 238,
        "start_time": "2023-01-25T17:45:53.474Z"
      },
      {
        "duration": 4,
        "start_time": "2023-01-25T17:45:53.714Z"
      },
      {
        "duration": 25,
        "start_time": "2023-01-25T17:45:53.720Z"
      },
      {
        "duration": 311,
        "start_time": "2023-01-25T17:45:53.752Z"
      },
      {
        "duration": 8,
        "start_time": "2023-01-25T17:45:54.064Z"
      },
      {
        "duration": 137,
        "start_time": "2023-01-25T17:45:54.074Z"
      },
      {
        "duration": 158,
        "start_time": "2023-01-25T17:45:54.213Z"
      },
      {
        "duration": 45,
        "start_time": "2023-01-25T17:45:54.377Z"
      },
      {
        "duration": 57,
        "start_time": "2023-01-25T17:45:54.438Z"
      },
      {
        "duration": 122,
        "start_time": "2023-01-25T17:45:54.498Z"
      },
      {
        "duration": 58,
        "start_time": "2023-01-25T17:45:54.621Z"
      },
      {
        "duration": 349,
        "start_time": "2023-01-25T17:45:54.682Z"
      },
      {
        "duration": 106,
        "start_time": "2023-01-25T17:45:55.033Z"
      },
      {
        "duration": 50,
        "start_time": "2023-01-25T17:45:55.147Z"
      },
      {
        "duration": 63,
        "start_time": "2023-01-25T17:45:55.198Z"
      },
      {
        "duration": 591,
        "start_time": "2023-01-25T17:45:55.263Z"
      },
      {
        "duration": 60,
        "start_time": "2023-01-25T17:45:55.856Z"
      },
      {
        "duration": 72,
        "start_time": "2023-01-25T17:45:55.918Z"
      },
      {
        "duration": 360,
        "start_time": "2023-01-25T17:45:55.992Z"
      },
      {
        "duration": 60,
        "start_time": "2023-01-25T17:45:56.359Z"
      },
      {
        "duration": 359,
        "start_time": "2023-01-25T17:45:56.421Z"
      },
      {
        "duration": 41,
        "start_time": "2023-01-25T17:45:56.782Z"
      },
      {
        "duration": 42,
        "start_time": "2023-01-25T17:45:56.837Z"
      },
      {
        "duration": 352,
        "start_time": "2023-01-25T17:45:56.881Z"
      },
      {
        "duration": 5,
        "start_time": "2023-01-25T17:45:57.235Z"
      },
      {
        "duration": 28,
        "start_time": "2023-01-25T17:45:57.247Z"
      },
      {
        "duration": 38,
        "start_time": "2023-01-25T17:45:57.277Z"
      },
      {
        "duration": 242,
        "start_time": "2023-01-25T17:45:57.316Z"
      },
      {
        "duration": 397,
        "start_time": "2023-01-25T17:45:57.560Z"
      },
      {
        "duration": 1615,
        "start_time": "2023-01-25T17:46:51.594Z"
      },
      {
        "duration": 1200,
        "start_time": "2023-01-25T17:46:53.211Z"
      },
      {
        "duration": 4,
        "start_time": "2023-01-25T17:46:54.412Z"
      },
      {
        "duration": 88,
        "start_time": "2023-01-25T17:46:54.419Z"
      },
      {
        "duration": 544,
        "start_time": "2023-01-25T17:46:54.510Z"
      },
      {
        "duration": 760,
        "start_time": "2023-01-25T17:46:55.056Z"
      },
      {
        "duration": 388,
        "start_time": "2023-01-25T17:46:55.817Z"
      },
      {
        "duration": 14,
        "start_time": "2023-01-25T17:46:56.207Z"
      },
      {
        "duration": 347,
        "start_time": "2023-01-25T17:46:56.223Z"
      },
      {
        "duration": 287,
        "start_time": "2023-01-25T17:46:56.573Z"
      },
      {
        "duration": 13,
        "start_time": "2023-01-25T17:46:56.862Z"
      },
      {
        "duration": 397,
        "start_time": "2023-01-25T17:46:56.876Z"
      },
      {
        "duration": 66,
        "start_time": "2023-01-25T17:46:57.275Z"
      },
      {
        "duration": 231,
        "start_time": "2023-01-25T17:46:57.343Z"
      },
      {
        "duration": 230,
        "start_time": "2023-01-25T17:46:57.576Z"
      },
      {
        "duration": 312,
        "start_time": "2023-01-25T17:46:57.808Z"
      },
      {
        "duration": 30,
        "start_time": "2023-01-25T17:46:58.123Z"
      },
      {
        "duration": 335,
        "start_time": "2023-01-25T17:46:58.155Z"
      },
      {
        "duration": 212,
        "start_time": "2023-01-25T17:46:58.492Z"
      },
      {
        "duration": 4,
        "start_time": "2023-01-25T17:46:58.706Z"
      },
      {
        "duration": 206,
        "start_time": "2023-01-25T17:46:58.713Z"
      },
      {
        "duration": 4,
        "start_time": "2023-01-25T17:46:58.921Z"
      },
      {
        "duration": 17,
        "start_time": "2023-01-25T17:46:58.942Z"
      },
      {
        "duration": 293,
        "start_time": "2023-01-25T17:46:58.961Z"
      },
      {
        "duration": 10,
        "start_time": "2023-01-25T17:46:59.256Z"
      },
      {
        "duration": 130,
        "start_time": "2023-01-25T17:46:59.267Z"
      },
      {
        "duration": 160,
        "start_time": "2023-01-25T17:46:59.399Z"
      },
      {
        "duration": 42,
        "start_time": "2023-01-25T17:46:59.564Z"
      },
      {
        "duration": 54,
        "start_time": "2023-01-25T17:46:59.608Z"
      },
      {
        "duration": 113,
        "start_time": "2023-01-25T17:46:59.664Z"
      },
      {
        "duration": 43,
        "start_time": "2023-01-25T17:46:59.779Z"
      },
      {
        "duration": 279,
        "start_time": "2023-01-25T17:46:59.837Z"
      },
      {
        "duration": 106,
        "start_time": "2023-01-25T17:47:00.118Z"
      },
      {
        "duration": 54,
        "start_time": "2023-01-25T17:47:00.226Z"
      },
      {
        "duration": 35,
        "start_time": "2023-01-25T17:47:00.281Z"
      },
      {
        "duration": 681,
        "start_time": "2023-01-25T17:47:00.318Z"
      },
      {
        "duration": 64,
        "start_time": "2023-01-25T17:47:01.001Z"
      },
      {
        "duration": 34,
        "start_time": "2023-01-25T17:47:01.067Z"
      },
      {
        "duration": 361,
        "start_time": "2023-01-25T17:47:01.103Z"
      },
      {
        "duration": 50,
        "start_time": "2023-01-25T17:47:01.466Z"
      },
      {
        "duration": 378,
        "start_time": "2023-01-25T17:47:01.518Z"
      },
      {
        "duration": 45,
        "start_time": "2023-01-25T17:47:01.898Z"
      },
      {
        "duration": 101,
        "start_time": "2023-01-25T17:47:01.948Z"
      },
      {
        "duration": 335,
        "start_time": "2023-01-25T17:47:02.051Z"
      },
      {
        "duration": 5,
        "start_time": "2023-01-25T17:47:02.390Z"
      },
      {
        "duration": 47,
        "start_time": "2023-01-25T17:47:02.397Z"
      },
      {
        "duration": 54,
        "start_time": "2023-01-25T17:47:02.453Z"
      },
      {
        "duration": 236,
        "start_time": "2023-01-25T17:47:02.509Z"
      },
      {
        "duration": 423,
        "start_time": "2023-01-25T17:47:02.748Z"
      },
      {
        "duration": 42068,
        "start_time": "2023-01-25T17:47:03.173Z"
      },
      {
        "duration": 307,
        "start_time": "2023-01-25T17:47:45.244Z"
      },
      {
        "duration": 4,
        "start_time": "2023-01-25T17:47:45.553Z"
      },
      {
        "duration": 20918,
        "start_time": "2023-01-25T17:47:45.558Z"
      },
      {
        "duration": 36670,
        "start_time": "2023-01-25T17:48:06.477Z"
      },
      {
        "duration": 303,
        "start_time": "2023-01-25T17:48:43.154Z"
      },
      {
        "duration": 21284,
        "start_time": "2023-01-25T17:48:43.461Z"
      },
      {
        "duration": 38,
        "start_time": "2023-01-25T17:49:04.750Z"
      },
      {
        "duration": 0,
        "start_time": "2023-01-25T17:49:04.790Z"
      },
      {
        "duration": 0,
        "start_time": "2023-01-25T17:49:04.791Z"
      },
      {
        "duration": 0,
        "start_time": "2023-01-25T17:49:04.792Z"
      },
      {
        "duration": 0,
        "start_time": "2023-01-25T17:49:04.793Z"
      },
      {
        "duration": 0,
        "start_time": "2023-01-25T17:49:04.794Z"
      },
      {
        "duration": 0,
        "start_time": "2023-01-25T17:49:04.795Z"
      },
      {
        "duration": 0,
        "start_time": "2023-01-25T17:49:04.796Z"
      },
      {
        "duration": 0,
        "start_time": "2023-01-25T17:49:04.797Z"
      },
      {
        "duration": 0,
        "start_time": "2023-01-25T17:49:04.799Z"
      },
      {
        "duration": 0,
        "start_time": "2023-01-25T17:49:04.800Z"
      },
      {
        "duration": 0,
        "start_time": "2023-01-25T17:49:04.801Z"
      },
      {
        "duration": 0,
        "start_time": "2023-01-25T17:49:04.801Z"
      },
      {
        "duration": 0,
        "start_time": "2023-01-25T17:49:04.802Z"
      },
      {
        "duration": 0,
        "start_time": "2023-01-25T17:49:04.803Z"
      },
      {
        "duration": 0,
        "start_time": "2023-01-25T17:49:04.804Z"
      },
      {
        "duration": 0,
        "start_time": "2023-01-25T17:49:04.805Z"
      },
      {
        "duration": 0,
        "start_time": "2023-01-25T17:49:04.806Z"
      },
      {
        "duration": 0,
        "start_time": "2023-01-25T17:49:04.807Z"
      },
      {
        "duration": 0,
        "start_time": "2023-01-25T17:49:04.808Z"
      },
      {
        "duration": 0,
        "start_time": "2023-01-25T17:49:04.809Z"
      },
      {
        "duration": 21650,
        "start_time": "2023-01-25T17:49:58.863Z"
      },
      {
        "duration": 1583,
        "start_time": "2023-01-25T17:53:10.957Z"
      },
      {
        "duration": 1248,
        "start_time": "2023-01-25T17:53:12.542Z"
      },
      {
        "duration": 4,
        "start_time": "2023-01-25T17:53:13.792Z"
      },
      {
        "duration": 84,
        "start_time": "2023-01-25T17:53:13.798Z"
      },
      {
        "duration": 549,
        "start_time": "2023-01-25T17:53:13.885Z"
      },
      {
        "duration": 795,
        "start_time": "2023-01-25T17:53:14.438Z"
      },
      {
        "duration": 452,
        "start_time": "2023-01-25T17:53:15.239Z"
      },
      {
        "duration": 14,
        "start_time": "2023-01-25T17:53:15.693Z"
      },
      {
        "duration": 364,
        "start_time": "2023-01-25T17:53:15.709Z"
      },
      {
        "duration": 312,
        "start_time": "2023-01-25T17:53:16.075Z"
      },
      {
        "duration": 14,
        "start_time": "2023-01-25T17:53:16.389Z"
      },
      {
        "duration": 452,
        "start_time": "2023-01-25T17:53:16.406Z"
      },
      {
        "duration": 54,
        "start_time": "2023-01-25T17:53:16.860Z"
      },
      {
        "duration": 238,
        "start_time": "2023-01-25T17:53:16.918Z"
      },
      {
        "duration": 238,
        "start_time": "2023-01-25T17:53:17.158Z"
      },
      {
        "duration": 319,
        "start_time": "2023-01-25T17:53:17.398Z"
      },
      {
        "duration": 29,
        "start_time": "2023-01-25T17:53:17.718Z"
      },
      {
        "duration": 324,
        "start_time": "2023-01-25T17:53:17.750Z"
      },
      {
        "duration": 240,
        "start_time": "2023-01-25T17:53:18.079Z"
      },
      {
        "duration": 4,
        "start_time": "2023-01-25T17:53:18.321Z"
      },
      {
        "duration": 238,
        "start_time": "2023-01-25T17:53:18.327Z"
      },
      {
        "duration": 4,
        "start_time": "2023-01-25T17:53:18.567Z"
      },
      {
        "duration": 36,
        "start_time": "2023-01-25T17:53:18.573Z"
      },
      {
        "duration": 339,
        "start_time": "2023-01-25T17:53:18.610Z"
      },
      {
        "duration": 10,
        "start_time": "2023-01-25T17:53:18.952Z"
      },
      {
        "duration": 151,
        "start_time": "2023-01-25T17:53:18.963Z"
      },
      {
        "duration": 160,
        "start_time": "2023-01-25T17:53:19.117Z"
      },
      {
        "duration": 62,
        "start_time": "2023-01-25T17:53:19.279Z"
      },
      {
        "duration": 63,
        "start_time": "2023-01-25T17:53:19.343Z"
      },
      {
        "duration": 143,
        "start_time": "2023-01-25T17:53:19.408Z"
      },
      {
        "duration": 47,
        "start_time": "2023-01-25T17:53:19.553Z"
      },
      {
        "duration": 335,
        "start_time": "2023-01-25T17:53:19.602Z"
      },
      {
        "duration": 118,
        "start_time": "2023-01-25T17:53:19.941Z"
      },
      {
        "duration": 51,
        "start_time": "2023-01-25T17:53:20.061Z"
      },
      {
        "duration": 60,
        "start_time": "2023-01-25T17:53:20.114Z"
      },
      {
        "duration": 654,
        "start_time": "2023-01-25T17:53:20.176Z"
      },
      {
        "duration": 60,
        "start_time": "2023-01-25T17:53:20.831Z"
      },
      {
        "duration": 57,
        "start_time": "2023-01-25T17:53:20.893Z"
      },
      {
        "duration": 307,
        "start_time": "2023-01-25T17:53:20.952Z"
      },
      {
        "duration": 48,
        "start_time": "2023-01-25T17:53:21.261Z"
      },
      {
        "duration": 366,
        "start_time": "2023-01-25T17:53:21.314Z"
      },
      {
        "duration": 62,
        "start_time": "2023-01-25T17:53:21.682Z"
      },
      {
        "duration": 58,
        "start_time": "2023-01-25T17:53:21.746Z"
      },
      {
        "duration": 356,
        "start_time": "2023-01-25T17:53:21.806Z"
      },
      {
        "duration": 5,
        "start_time": "2023-01-25T17:53:22.163Z"
      },
      {
        "duration": 21,
        "start_time": "2023-01-25T17:53:22.169Z"
      },
      {
        "duration": 62,
        "start_time": "2023-01-25T17:53:22.192Z"
      },
      {
        "duration": 228,
        "start_time": "2023-01-25T17:53:22.256Z"
      },
      {
        "duration": 446,
        "start_time": "2023-01-25T17:53:22.487Z"
      },
      {
        "duration": 41728,
        "start_time": "2023-01-25T17:53:22.937Z"
      },
      {
        "duration": 312,
        "start_time": "2023-01-25T17:54:04.741Z"
      },
      {
        "duration": 82,
        "start_time": "2023-01-25T17:54:05.056Z"
      },
      {
        "duration": 20736,
        "start_time": "2023-01-25T17:54:05.140Z"
      },
      {
        "duration": 39383,
        "start_time": "2023-01-25T17:54:25.878Z"
      },
      {
        "duration": 287,
        "start_time": "2023-01-25T17:55:05.263Z"
      },
      {
        "duration": 21289,
        "start_time": "2023-01-25T17:55:05.553Z"
      },
      {
        "duration": 43,
        "start_time": "2023-01-25T17:55:26.845Z"
      },
      {
        "duration": 0,
        "start_time": "2023-01-25T17:55:26.890Z"
      },
      {
        "duration": 0,
        "start_time": "2023-01-25T17:55:26.891Z"
      },
      {
        "duration": 0,
        "start_time": "2023-01-25T17:55:26.892Z"
      },
      {
        "duration": 0,
        "start_time": "2023-01-25T17:55:26.893Z"
      },
      {
        "duration": 0,
        "start_time": "2023-01-25T17:55:26.895Z"
      },
      {
        "duration": 0,
        "start_time": "2023-01-25T17:55:26.896Z"
      },
      {
        "duration": 0,
        "start_time": "2023-01-25T17:55:26.897Z"
      },
      {
        "duration": 0,
        "start_time": "2023-01-25T17:55:26.899Z"
      },
      {
        "duration": 0,
        "start_time": "2023-01-25T17:55:26.900Z"
      },
      {
        "duration": 0,
        "start_time": "2023-01-25T17:55:26.901Z"
      },
      {
        "duration": 0,
        "start_time": "2023-01-25T17:55:26.902Z"
      },
      {
        "duration": 0,
        "start_time": "2023-01-25T17:55:26.903Z"
      },
      {
        "duration": 0,
        "start_time": "2023-01-25T17:55:26.904Z"
      },
      {
        "duration": 0,
        "start_time": "2023-01-25T17:55:26.905Z"
      },
      {
        "duration": 0,
        "start_time": "2023-01-25T17:55:26.906Z"
      },
      {
        "duration": 0,
        "start_time": "2023-01-25T17:55:26.908Z"
      },
      {
        "duration": 0,
        "start_time": "2023-01-25T17:55:26.911Z"
      },
      {
        "duration": 0,
        "start_time": "2023-01-25T17:55:26.913Z"
      },
      {
        "duration": 0,
        "start_time": "2023-01-25T17:55:26.914Z"
      },
      {
        "duration": 0,
        "start_time": "2023-01-25T17:55:26.915Z"
      },
      {
        "duration": 8732334,
        "start_time": "2023-01-25T17:58:06.552Z"
      },
      {
        "duration": 79,
        "start_time": "2023-01-25T20:23:38.888Z"
      },
      {
        "duration": 1,
        "start_time": "2023-01-25T20:23:38.968Z"
      },
      {
        "duration": 0,
        "start_time": "2023-01-25T20:23:38.970Z"
      },
      {
        "duration": 1971336,
        "start_time": "2023-01-25T20:24:28.013Z"
      },
      {
        "duration": 5,
        "start_time": "2023-01-25T21:00:56.816Z"
      },
      {
        "duration": 16,
        "start_time": "2023-01-25T21:01:02.534Z"
      },
      {
        "duration": 87,
        "start_time": "2023-01-25T21:01:05.196Z"
      },
      {
        "duration": 73,
        "start_time": "2023-01-25T21:01:09.661Z"
      },
      {
        "duration": 39,
        "start_time": "2023-01-25T21:01:13.206Z"
      },
      {
        "duration": 51,
        "start_time": "2023-01-25T21:01:16.796Z"
      },
      {
        "duration": 38,
        "start_time": "2023-01-25T21:01:19.867Z"
      },
      {
        "duration": 34,
        "start_time": "2023-01-25T21:01:23.781Z"
      },
      {
        "duration": 56,
        "start_time": "2023-01-25T21:01:27.554Z"
      },
      {
        "duration": 99,
        "start_time": "2023-01-25T21:01:31.272Z"
      },
      {
        "duration": 93,
        "start_time": "2023-01-25T21:01:41.696Z"
      },
      {
        "duration": 111650,
        "start_time": "2023-01-25T21:01:46.586Z"
      },
      {
        "duration": 13235,
        "start_time": "2023-01-25T21:06:10.055Z"
      },
      {
        "duration": 103,
        "start_time": "2023-01-25T21:06:33.675Z"
      },
      {
        "duration": 11573,
        "start_time": "2023-01-25T21:07:35.077Z"
      },
      {
        "duration": 78,
        "start_time": "2023-01-25T21:07:46.653Z"
      },
      {
        "duration": 99,
        "start_time": "2023-01-25T21:08:01.654Z"
      },
      {
        "duration": 176,
        "start_time": "2023-01-25T21:08:07.388Z"
      },
      {
        "duration": 59,
        "start_time": "2023-01-25T21:08:13.047Z"
      },
      {
        "duration": 41662,
        "start_time": "2023-01-25T21:09:11.896Z"
      },
      {
        "duration": 709,
        "start_time": "2023-01-25T21:09:53.561Z"
      },
      {
        "duration": 11,
        "start_time": "2023-01-25T21:13:26.468Z"
      },
      {
        "duration": 10,
        "start_time": "2023-01-25T21:15:21.551Z"
      },
      {
        "duration": 8,
        "start_time": "2023-01-25T21:17:13.063Z"
      },
      {
        "duration": 10878,
        "start_time": "2023-01-25T21:19:41.816Z"
      },
      {
        "duration": 93,
        "start_time": "2023-01-25T21:19:56.127Z"
      },
      {
        "duration": 93,
        "start_time": "2023-01-25T21:21:14.912Z"
      },
      {
        "duration": 1571,
        "start_time": "2023-01-26T16:26:46.536Z"
      },
      {
        "duration": 1357,
        "start_time": "2023-01-26T16:26:48.109Z"
      },
      {
        "duration": 4,
        "start_time": "2023-01-26T16:26:49.468Z"
      },
      {
        "duration": 101,
        "start_time": "2023-01-26T16:26:49.474Z"
      },
      {
        "duration": 508,
        "start_time": "2023-01-26T16:26:49.577Z"
      },
      {
        "duration": 798,
        "start_time": "2023-01-26T16:26:50.087Z"
      },
      {
        "duration": 436,
        "start_time": "2023-01-26T16:26:50.887Z"
      },
      {
        "duration": 40,
        "start_time": "2023-01-26T16:26:51.324Z"
      },
      {
        "duration": 329,
        "start_time": "2023-01-26T16:26:51.367Z"
      },
      {
        "duration": 299,
        "start_time": "2023-01-26T16:26:51.699Z"
      },
      {
        "duration": 12,
        "start_time": "2023-01-26T16:26:52.000Z"
      },
      {
        "duration": 402,
        "start_time": "2023-01-26T16:26:52.014Z"
      },
      {
        "duration": 68,
        "start_time": "2023-01-26T16:26:52.418Z"
      },
      {
        "duration": 233,
        "start_time": "2023-01-26T16:26:52.488Z"
      },
      {
        "duration": 241,
        "start_time": "2023-01-26T16:26:52.723Z"
      },
      {
        "duration": 321,
        "start_time": "2023-01-26T16:26:52.966Z"
      },
      {
        "duration": 13,
        "start_time": "2023-01-26T16:26:53.288Z"
      },
      {
        "duration": 329,
        "start_time": "2023-01-26T16:26:53.303Z"
      },
      {
        "duration": 256,
        "start_time": "2023-01-26T16:26:53.634Z"
      },
      {
        "duration": 4,
        "start_time": "2023-01-26T16:26:53.892Z"
      },
      {
        "duration": 242,
        "start_time": "2023-01-26T16:26:53.898Z"
      },
      {
        "duration": 16,
        "start_time": "2023-01-26T16:26:54.142Z"
      },
      {
        "duration": 13,
        "start_time": "2023-01-26T16:26:54.166Z"
      },
      {
        "duration": 306,
        "start_time": "2023-01-26T16:26:54.181Z"
      },
      {
        "duration": 8,
        "start_time": "2023-01-26T16:26:54.489Z"
      },
      {
        "duration": 140,
        "start_time": "2023-01-26T16:26:54.499Z"
      },
      {
        "duration": 148,
        "start_time": "2023-01-26T16:26:54.641Z"
      },
      {
        "duration": 43,
        "start_time": "2023-01-26T16:26:54.794Z"
      },
      {
        "duration": 48,
        "start_time": "2023-01-26T16:26:54.858Z"
      },
      {
        "duration": 134,
        "start_time": "2023-01-26T16:26:54.908Z"
      },
      {
        "duration": 51,
        "start_time": "2023-01-26T16:26:55.044Z"
      },
      {
        "duration": 294,
        "start_time": "2023-01-26T16:26:55.097Z"
      },
      {
        "duration": 106,
        "start_time": "2023-01-26T16:26:55.393Z"
      },
      {
        "duration": 44,
        "start_time": "2023-01-26T16:26:55.501Z"
      },
      {
        "duration": 33,
        "start_time": "2023-01-26T16:26:55.562Z"
      },
      {
        "duration": 633,
        "start_time": "2023-01-26T16:26:55.597Z"
      },
      {
        "duration": 64,
        "start_time": "2023-01-26T16:26:56.231Z"
      },
      {
        "duration": 35,
        "start_time": "2023-01-26T16:26:56.297Z"
      },
      {
        "duration": 331,
        "start_time": "2023-01-26T16:26:56.333Z"
      },
      {
        "duration": 49,
        "start_time": "2023-01-26T16:26:56.666Z"
      },
      {
        "duration": 332,
        "start_time": "2023-01-26T16:26:56.717Z"
      },
      {
        "duration": 53,
        "start_time": "2023-01-26T16:26:57.053Z"
      },
      {
        "duration": 32,
        "start_time": "2023-01-26T16:26:57.107Z"
      },
      {
        "duration": 332,
        "start_time": "2023-01-26T16:26:57.154Z"
      },
      {
        "duration": 6,
        "start_time": "2023-01-26T16:26:57.488Z"
      },
      {
        "duration": 35,
        "start_time": "2023-01-26T16:26:57.496Z"
      },
      {
        "duration": 44,
        "start_time": "2023-01-26T16:26:57.533Z"
      },
      {
        "duration": 237,
        "start_time": "2023-01-26T16:26:57.587Z"
      },
      {
        "duration": 379,
        "start_time": "2023-01-26T16:26:57.826Z"
      },
      {
        "duration": 40760,
        "start_time": "2023-01-26T16:26:58.207Z"
      },
      {
        "duration": 290,
        "start_time": "2023-01-26T16:27:38.969Z"
      },
      {
        "duration": 5,
        "start_time": "2023-01-26T16:27:39.261Z"
      },
      {
        "duration": 19945,
        "start_time": "2023-01-26T16:27:39.268Z"
      },
      {
        "duration": 32647,
        "start_time": "2023-01-26T16:27:59.214Z"
      },
      {
        "duration": 206,
        "start_time": "2023-01-26T16:28:31.864Z"
      },
      {
        "duration": 320829,
        "start_time": "2023-01-26T16:28:32.077Z"
      },
      {
        "duration": 32138,
        "start_time": "2023-01-26T16:33:52.908Z"
      },
      {
        "duration": 5,
        "start_time": "2023-01-26T16:34:25.047Z"
      },
      {
        "duration": 35,
        "start_time": "2023-01-26T16:34:25.060Z"
      },
      {
        "duration": 83,
        "start_time": "2023-01-26T16:34:25.097Z"
      },
      {
        "duration": 82,
        "start_time": "2023-01-26T16:34:25.182Z"
      },
      {
        "duration": 64,
        "start_time": "2023-01-26T16:34:25.270Z"
      },
      {
        "duration": 56,
        "start_time": "2023-01-26T16:34:25.336Z"
      },
      {
        "duration": 37,
        "start_time": "2023-01-26T16:34:25.394Z"
      },
      {
        "duration": 64,
        "start_time": "2023-01-26T16:34:25.432Z"
      },
      {
        "duration": 0,
        "start_time": "2023-01-26T16:34:25.499Z"
      },
      {
        "duration": 0,
        "start_time": "2023-01-26T16:34:25.500Z"
      },
      {
        "duration": 0,
        "start_time": "2023-01-26T16:34:25.502Z"
      },
      {
        "duration": 0,
        "start_time": "2023-01-26T16:34:25.503Z"
      },
      {
        "duration": 1,
        "start_time": "2023-01-26T16:34:25.503Z"
      },
      {
        "duration": 0,
        "start_time": "2023-01-26T16:34:25.504Z"
      },
      {
        "duration": 0,
        "start_time": "2023-01-26T16:34:25.505Z"
      },
      {
        "duration": 0,
        "start_time": "2023-01-26T16:34:25.506Z"
      },
      {
        "duration": 0,
        "start_time": "2023-01-26T16:34:25.507Z"
      },
      {
        "duration": 0,
        "start_time": "2023-01-26T16:34:25.509Z"
      },
      {
        "duration": 0,
        "start_time": "2023-01-26T16:34:25.510Z"
      },
      {
        "duration": 0,
        "start_time": "2023-01-26T16:34:25.511Z"
      },
      {
        "duration": 0,
        "start_time": "2023-01-26T16:34:25.512Z"
      },
      {
        "duration": 0,
        "start_time": "2023-01-26T16:34:25.513Z"
      },
      {
        "duration": 0,
        "start_time": "2023-01-26T16:34:25.515Z"
      },
      {
        "duration": 0,
        "start_time": "2023-01-26T16:34:25.516Z"
      }
    ],
    "kernelspec": {
      "display_name": "Python 3 (ipykernel)",
      "language": "python",
      "name": "python3"
    },
    "language_info": {
      "codemirror_mode": {
        "name": "ipython",
        "version": 3
      },
      "file_extension": ".py",
      "mimetype": "text/x-python",
      "name": "python",
      "nbconvert_exporter": "python",
      "pygments_lexer": "ipython3",
      "version": "3.9.5"
    },
    "toc": {
      "base_numbering": 1,
      "nav_menu": {},
      "number_sections": true,
      "sideBar": true,
      "skip_h1_title": true,
      "title_cell": "Table of Contents",
      "title_sidebar": "Contents",
      "toc_cell": false,
      "toc_position": {},
      "toc_section_display": true,
      "toc_window_display": false
    },
    "colab": {
      "provenance": [],
      "include_colab_link": true
    }
  },
  "nbformat": 4,
  "nbformat_minor": 0
}