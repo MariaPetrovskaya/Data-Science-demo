{
  "cells": [
    {
      "cell_type": "markdown",
      "metadata": {
        "id": "view-in-github",
        "colab_type": "text"
      },
      "source": [
        "<a href=\"https://colab.research.google.com/github/MariaPetrovskaya/Data-Science-demo/blob/main/mashine%20learning%20in%20business%20case/mashine_learning_in_business_case.ipynb\" target=\"_parent\"><img src=\"https://colab.research.google.com/assets/colab-badge.svg\" alt=\"Open In Colab\"/></a>"
      ]
    },
    {
      "cell_type": "markdown",
      "metadata": {
        "id": "WwnP3FisQXFe"
      },
      "source": [
        "# Выбор локации для скважины"
      ]
    },
    {
      "cell_type": "markdown",
      "metadata": {
        "id": "oQIW5zwfQXFl"
      },
      "source": [
        "Допустим, вы работаете в добывающей компании «ГлавРосГосНефть». Нужно решить, где бурить новую скважину.\n",
        "\n",
        "Вам предоставлены пробы нефти в трёх регионах: в каждом 10 000 месторождений, где измерили качество нефти и объём её запасов. Постройте модель машинного обучения, которая поможет определить регион, где добыча принесёт наибольшую прибыль. Проанализируйте возможную прибыль и риски техникой *Bootstrap.*\n",
        "\n",
        "Шаги для выбора локации:\n",
        "\n",
        "- В избранном регионе ищут месторождения, для каждого определяют значения признаков;\n",
        "- Строят модель и оценивают объём запасов;\n",
        "- Выбирают месторождения с самым высокими оценками значений. Количество месторождений зависит от бюджета компании и стоимости разработки одной скважины;\n",
        "- Прибыль равна суммарной прибыли отобранных месторождений."
      ]
    },
    {
      "cell_type": "markdown",
      "metadata": {
        "id": "qoX65zF6QXFn"
      },
      "source": [
        "## Загрузка и подготовка данных"
      ]
    },
    {
      "cell_type": "code",
      "execution_count": null,
      "metadata": {
        "id": "j_vGnlgqQXFo"
      },
      "outputs": [],
      "source": [
        "import pandas as pd\n",
        "from sklearn.linear_model import LinearRegression\n",
        "from sklearn.metrics import accuracy_score\n",
        "from sklearn.model_selection import train_test_split\n",
        "from sklearn.metrics import mean_squared_error\n",
        "import numpy as np\n"
      ]
    },
    {
      "cell_type": "markdown",
      "metadata": {
        "id": "tYyWprKHQXFq"
      },
      "source": [
        "**Результат** загрузка всех библиотек "
      ]
    },
    {
      "cell_type": "code",
      "execution_count": null,
      "metadata": {
        "id": "NC18Xy9sQXFr",
        "outputId": "0cdf770b-ad0d-44d7-8b8c-4273c093236d"
      },
      "outputs": [
        {
          "data": {
            "text/html": [
              "<div>\n",
              "<style scoped>\n",
              "    .dataframe tbody tr th:only-of-type {\n",
              "        vertical-align: middle;\n",
              "    }\n",
              "\n",
              "    .dataframe tbody tr th {\n",
              "        vertical-align: top;\n",
              "    }\n",
              "\n",
              "    .dataframe thead th {\n",
              "        text-align: right;\n",
              "    }\n",
              "</style>\n",
              "<table border=\"1\" class=\"dataframe\">\n",
              "  <thead>\n",
              "    <tr style=\"text-align: right;\">\n",
              "      <th></th>\n",
              "      <th>id</th>\n",
              "      <th>f0</th>\n",
              "      <th>f1</th>\n",
              "      <th>f2</th>\n",
              "      <th>product</th>\n",
              "    </tr>\n",
              "  </thead>\n",
              "  <tbody>\n",
              "    <tr>\n",
              "      <th>0</th>\n",
              "      <td>txEyH</td>\n",
              "      <td>0.705745</td>\n",
              "      <td>-0.497823</td>\n",
              "      <td>1.221170</td>\n",
              "      <td>105.280062</td>\n",
              "    </tr>\n",
              "    <tr>\n",
              "      <th>1</th>\n",
              "      <td>2acmU</td>\n",
              "      <td>1.334711</td>\n",
              "      <td>-0.340164</td>\n",
              "      <td>4.365080</td>\n",
              "      <td>73.037750</td>\n",
              "    </tr>\n",
              "    <tr>\n",
              "      <th>2</th>\n",
              "      <td>409Wp</td>\n",
              "      <td>1.022732</td>\n",
              "      <td>0.151990</td>\n",
              "      <td>1.419926</td>\n",
              "      <td>85.265647</td>\n",
              "    </tr>\n",
              "    <tr>\n",
              "      <th>3</th>\n",
              "      <td>iJLyR</td>\n",
              "      <td>-0.032172</td>\n",
              "      <td>0.139033</td>\n",
              "      <td>2.978566</td>\n",
              "      <td>168.620776</td>\n",
              "    </tr>\n",
              "    <tr>\n",
              "      <th>4</th>\n",
              "      <td>Xdl7t</td>\n",
              "      <td>1.988431</td>\n",
              "      <td>0.155413</td>\n",
              "      <td>4.751769</td>\n",
              "      <td>154.036647</td>\n",
              "    </tr>\n",
              "  </tbody>\n",
              "</table>\n",
              "</div>"
            ],
            "text/plain": [
              "      id        f0        f1        f2     product\n",
              "0  txEyH  0.705745 -0.497823  1.221170  105.280062\n",
              "1  2acmU  1.334711 -0.340164  4.365080   73.037750\n",
              "2  409Wp  1.022732  0.151990  1.419926   85.265647\n",
              "3  iJLyR -0.032172  0.139033  2.978566  168.620776\n",
              "4  Xdl7t  1.988431  0.155413  4.751769  154.036647"
            ]
          },
          "metadata": {},
          "output_type": "display_data"
        },
        {
          "name": "stdout",
          "output_type": "stream",
          "text": [
            "<class 'pandas.core.frame.DataFrame'>\n",
            "RangeIndex: 100000 entries, 0 to 99999\n",
            "Data columns (total 5 columns):\n",
            " #   Column   Non-Null Count   Dtype  \n",
            "---  ------   --------------   -----  \n",
            " 0   id       100000 non-null  object \n",
            " 1   f0       100000 non-null  float64\n",
            " 2   f1       100000 non-null  float64\n",
            " 3   f2       100000 non-null  float64\n",
            " 4   product  100000 non-null  float64\n",
            "dtypes: float64(4), object(1)\n",
            "memory usage: 3.8+ MB\n",
            "None\n",
            "data0 0\n"
          ]
        },
        {
          "data": {
            "text/html": [
              "<div>\n",
              "<style scoped>\n",
              "    .dataframe tbody tr th:only-of-type {\n",
              "        vertical-align: middle;\n",
              "    }\n",
              "\n",
              "    .dataframe tbody tr th {\n",
              "        vertical-align: top;\n",
              "    }\n",
              "\n",
              "    .dataframe thead th {\n",
              "        text-align: right;\n",
              "    }\n",
              "</style>\n",
              "<table border=\"1\" class=\"dataframe\">\n",
              "  <thead>\n",
              "    <tr style=\"text-align: right;\">\n",
              "      <th></th>\n",
              "      <th>id</th>\n",
              "      <th>f0</th>\n",
              "      <th>f1</th>\n",
              "      <th>f2</th>\n",
              "      <th>product</th>\n",
              "    </tr>\n",
              "  </thead>\n",
              "  <tbody>\n",
              "    <tr>\n",
              "      <th>0</th>\n",
              "      <td>kBEdx</td>\n",
              "      <td>-15.001348</td>\n",
              "      <td>-8.276000</td>\n",
              "      <td>-0.005876</td>\n",
              "      <td>3.179103</td>\n",
              "    </tr>\n",
              "    <tr>\n",
              "      <th>1</th>\n",
              "      <td>62mP7</td>\n",
              "      <td>14.272088</td>\n",
              "      <td>-3.475083</td>\n",
              "      <td>0.999183</td>\n",
              "      <td>26.953261</td>\n",
              "    </tr>\n",
              "    <tr>\n",
              "      <th>2</th>\n",
              "      <td>vyE1P</td>\n",
              "      <td>6.263187</td>\n",
              "      <td>-5.948386</td>\n",
              "      <td>5.001160</td>\n",
              "      <td>134.766305</td>\n",
              "    </tr>\n",
              "    <tr>\n",
              "      <th>3</th>\n",
              "      <td>KcrkZ</td>\n",
              "      <td>-13.081196</td>\n",
              "      <td>-11.506057</td>\n",
              "      <td>4.999415</td>\n",
              "      <td>137.945408</td>\n",
              "    </tr>\n",
              "    <tr>\n",
              "      <th>4</th>\n",
              "      <td>AHL4O</td>\n",
              "      <td>12.702195</td>\n",
              "      <td>-8.147433</td>\n",
              "      <td>5.004363</td>\n",
              "      <td>134.766305</td>\n",
              "    </tr>\n",
              "  </tbody>\n",
              "</table>\n",
              "</div>"
            ],
            "text/plain": [
              "      id         f0         f1        f2     product\n",
              "0  kBEdx -15.001348  -8.276000 -0.005876    3.179103\n",
              "1  62mP7  14.272088  -3.475083  0.999183   26.953261\n",
              "2  vyE1P   6.263187  -5.948386  5.001160  134.766305\n",
              "3  KcrkZ -13.081196 -11.506057  4.999415  137.945408\n",
              "4  AHL4O  12.702195  -8.147433  5.004363  134.766305"
            ]
          },
          "metadata": {},
          "output_type": "display_data"
        },
        {
          "name": "stdout",
          "output_type": "stream",
          "text": [
            "<class 'pandas.core.frame.DataFrame'>\n",
            "RangeIndex: 100000 entries, 0 to 99999\n",
            "Data columns (total 5 columns):\n",
            " #   Column   Non-Null Count   Dtype  \n",
            "---  ------   --------------   -----  \n",
            " 0   id       100000 non-null  object \n",
            " 1   f0       100000 non-null  float64\n",
            " 2   f1       100000 non-null  float64\n",
            " 3   f2       100000 non-null  float64\n",
            " 4   product  100000 non-null  float64\n",
            "dtypes: float64(4), object(1)\n",
            "memory usage: 3.8+ MB\n",
            "None\n",
            "data1 0\n"
          ]
        },
        {
          "data": {
            "text/html": [
              "<div>\n",
              "<style scoped>\n",
              "    .dataframe tbody tr th:only-of-type {\n",
              "        vertical-align: middle;\n",
              "    }\n",
              "\n",
              "    .dataframe tbody tr th {\n",
              "        vertical-align: top;\n",
              "    }\n",
              "\n",
              "    .dataframe thead th {\n",
              "        text-align: right;\n",
              "    }\n",
              "</style>\n",
              "<table border=\"1\" class=\"dataframe\">\n",
              "  <thead>\n",
              "    <tr style=\"text-align: right;\">\n",
              "      <th></th>\n",
              "      <th>id</th>\n",
              "      <th>f0</th>\n",
              "      <th>f1</th>\n",
              "      <th>f2</th>\n",
              "      <th>product</th>\n",
              "    </tr>\n",
              "  </thead>\n",
              "  <tbody>\n",
              "    <tr>\n",
              "      <th>0</th>\n",
              "      <td>fwXo0</td>\n",
              "      <td>-1.146987</td>\n",
              "      <td>0.963328</td>\n",
              "      <td>-0.828965</td>\n",
              "      <td>27.758673</td>\n",
              "    </tr>\n",
              "    <tr>\n",
              "      <th>1</th>\n",
              "      <td>WJtFt</td>\n",
              "      <td>0.262778</td>\n",
              "      <td>0.269839</td>\n",
              "      <td>-2.530187</td>\n",
              "      <td>56.069697</td>\n",
              "    </tr>\n",
              "    <tr>\n",
              "      <th>2</th>\n",
              "      <td>ovLUW</td>\n",
              "      <td>0.194587</td>\n",
              "      <td>0.289035</td>\n",
              "      <td>-5.586433</td>\n",
              "      <td>62.871910</td>\n",
              "    </tr>\n",
              "    <tr>\n",
              "      <th>3</th>\n",
              "      <td>q6cA6</td>\n",
              "      <td>2.236060</td>\n",
              "      <td>-0.553760</td>\n",
              "      <td>0.930038</td>\n",
              "      <td>114.572842</td>\n",
              "    </tr>\n",
              "    <tr>\n",
              "      <th>4</th>\n",
              "      <td>WPMUX</td>\n",
              "      <td>-0.515993</td>\n",
              "      <td>1.716266</td>\n",
              "      <td>5.899011</td>\n",
              "      <td>149.600746</td>\n",
              "    </tr>\n",
              "  </tbody>\n",
              "</table>\n",
              "</div>"
            ],
            "text/plain": [
              "      id        f0        f1        f2     product\n",
              "0  fwXo0 -1.146987  0.963328 -0.828965   27.758673\n",
              "1  WJtFt  0.262778  0.269839 -2.530187   56.069697\n",
              "2  ovLUW  0.194587  0.289035 -5.586433   62.871910\n",
              "3  q6cA6  2.236060 -0.553760  0.930038  114.572842\n",
              "4  WPMUX -0.515993  1.716266  5.899011  149.600746"
            ]
          },
          "metadata": {},
          "output_type": "display_data"
        },
        {
          "name": "stdout",
          "output_type": "stream",
          "text": [
            "<class 'pandas.core.frame.DataFrame'>\n",
            "RangeIndex: 100000 entries, 0 to 99999\n",
            "Data columns (total 5 columns):\n",
            " #   Column   Non-Null Count   Dtype  \n",
            "---  ------   --------------   -----  \n",
            " 0   id       100000 non-null  object \n",
            " 1   f0       100000 non-null  float64\n",
            " 2   f1       100000 non-null  float64\n",
            " 3   f2       100000 non-null  float64\n",
            " 4   product  100000 non-null  float64\n",
            "dtypes: float64(4), object(1)\n",
            "memory usage: 3.8+ MB\n",
            "None\n",
            "data2 0\n"
          ]
        }
      ],
      "source": [
        "df0 = pd.read_csv('/datasets/geo_data_0.csv')\n",
        "data0 = df0.copy()\n",
        "display (data0.head(5))\n",
        "print (data0.info())\n",
        "print ('data0', data0.duplicated().sum())\n",
        "df1 = pd.read_csv('/datasets/geo_data_1.csv')\n",
        "data1 = df1.copy()\n",
        "display (data1.head(5))\n",
        "print (data1.info())\n",
        "print ('data1', data1.duplicated().sum())\n",
        "df2 = pd.read_csv('/datasets/geo_data_2.csv')\n",
        "data2 = df2.copy()\n",
        "display (data2.head(5))\n",
        "print (data2.info())\n",
        "print ('data2', data2.duplicated().sum())"
      ]
    },
    {
      "cell_type": "markdown",
      "metadata": {
        "id": "6Mg52wZKQXFt"
      },
      "source": [
        "**Результат** выгрузка датасетов и проверка на пропуски и явные дубликаты: пропусков и явных дубликатов не выявлено"
      ]
    },
    {
      "cell_type": "markdown",
      "metadata": {
        "id": "0hDxYeINQXFt"
      },
      "source": [
        "## Обучение и проверка модели"
      ]
    },
    {
      "cell_type": "markdown",
      "metadata": {
        "id": "QPDHn06SQXFu"
      },
      "source": [
        "**Модель для первого региона (датасет geo_data_0)**"
      ]
    },
    {
      "cell_type": "code",
      "execution_count": null,
      "metadata": {
        "id": "WyJnjOcaQXFv",
        "outputId": "9d838f3b-218b-4a68-a9c1-44e5afe1451b"
      },
      "outputs": [
        {
          "name": "stdout",
          "output_type": "stream",
          "text": [
            "features0_train shape: (75000, 3)\n",
            "features0_valid shape: (25000, 3)\n",
            "target0_train shape: (75000,)\n",
            "target0_valid shape: (25000,)\n"
          ]
        }
      ],
      "source": [
        "features0 = data0.drop(['product', 'id'], axis=1)\n",
        "target0 = data0['product'] \n",
        "features0_train, features0_valid, target0_train, target0_valid = train_test_split(\n",
        "    features0, target0, test_size=0.25, random_state=12345)\n",
        "print('features0_train shape:', features0_train.shape)\n",
        "print('features0_valid shape:', features0_valid.shape)\n",
        "print('target0_train shape:', target0_train.shape)\n",
        "print('target0_valid shape:', target0_valid.shape)\n"
      ]
    },
    {
      "cell_type": "markdown",
      "metadata": {
        "id": "L5ejOrA2QXFw"
      },
      "source": [
        "**Результат** датасет разбит на тренировочную и валидизационную выборки"
      ]
    },
    {
      "cell_type": "code",
      "execution_count": null,
      "metadata": {
        "id": "8Pxo0J90QXFx",
        "outputId": "043f962e-a1cb-4158-8918-3b9c292c0065"
      },
      "outputs": [
        {
          "name": "stdout",
          "output_type": "stream",
          "text": [
            "RMSE модели линейной регрессии на валидационной выборке первого датасета: 37.5794217150813\n",
            "Проверям количество скважин с одинаковым ID:  fiKDv    2\n",
            "74z30    2\n",
            "bsk9y    2\n",
            "Tdehs    2\n",
            "bxg6G    2\n",
            "        ..\n",
            "sdMKv    1\n",
            "eRSc1    1\n",
            "5xhRD    1\n",
            "lyZfY    1\n",
            "BjxgP    1\n",
            "Name: id, Length: 99990, dtype: int64\n",
            "Предсказания (predictions ):     predictions0_valid\n",
            "0           95.894952\n",
            "1           77.572583\n",
            "2           77.892640\n",
            "3           90.175134\n",
            "4           70.510088\n",
            "(25000, 1)\n",
            "Правильные ответы (target):     target0_valid\n",
            "0      10.038645\n",
            "1     114.551489\n",
            "2     132.603635\n",
            "3     169.072125\n",
            "4     122.325180\n",
            "(25000, 1)\n",
            "Предсказания и правильные ответы в одном датасете:     target0_valid  predictions0_valid\n",
            "0      10.038645           95.894952\n",
            "1     114.551489           77.572583\n",
            "2     132.603635           77.892640\n",
            "3     169.072125           90.175134\n",
            "4     122.325180           70.510088\n",
            "5      37.735331           69.127076\n",
            "6     139.227191          125.106759\n",
            "7      72.491987           87.643849\n",
            "8      11.465993           86.035871\n",
            "9     110.562031           98.655311\n",
            "(25000, 2)\n"
          ]
        }
      ],
      "source": [
        "model = LinearRegression(normalize=True)\n",
        "model.fit(features0_train,target0_train) \n",
        "predictions0_valid= model.predict(features0_valid) \n",
        "result = mean_squared_error(target0_valid, predictions0_valid)**0.5\n",
        "print(\"RMSE модели линейной регрессии на валидационной выборке первого датасета:\", result)\n",
        "predictions0_valid = pd.Series(predictions0_valid)\n",
        "target0_valid = pd.Series(target0_valid)\n",
        "#print('предсказания на валидационной выборке', predictions0_valid.head())\n",
        "#print (predictions0_valid.shape)\n",
        "#print('правильные ответы на валидационной выборке', target0_valid.head())\n",
        "#print (target0_valid.shape)\n",
        "print('Проверям количество скважин с одинаковым ID: ', data0['id'].value_counts())\n",
        "target0_valid_df = target0_valid.to_frame(name='target0_valid')\n",
        "target0_valid_df = target0_valid_df.reset_index(drop=True)\n",
        "predictions0_valid_df = predictions0_valid.to_frame(name='predictions0_valid')\n",
        "result0 = pd.concat([target0_valid_df, predictions0_valid_df], axis= 1 )\n",
        "print ('Предсказания (predictions ): ', predictions0_valid_df.head())\n",
        "print(predictions0_valid_df.shape)\n",
        "print ('Правильные ответы (target): ', target0_valid_df.head())\n",
        "print(target0_valid_df.shape)\n",
        "print('Предсказания и правильные ответы в одном датасете: ', result0.head(10))\n",
        "print(result0.shape)"
      ]
    },
    {
      "cell_type": "markdown",
      "metadata": {
        "id": "PLg-jyJJQXFy"
      },
      "source": [
        "**Результат** \n",
        "1. RMSE : метрика, которая сообщает нам квадратный корень из средней квадратичной разницы между прогнозируемыми значениями и фактическими значениями в наборе данных. Чем ниже RMSE, тем лучше модель соответствует набору данных. Получается возможное отклонение на 37+тыс. баррелей. Стоит подумать.\n",
        "2. Проверила количество скважин с одинаковым ID в датасете - несущественное, можно игнорировать. \n",
        "3. Предсказания (predictions )и правильные ответы (target) на валидационной выборке собраны в один датасет result0"
      ]
    },
    {
      "cell_type": "markdown",
      "metadata": {
        "id": "wm9Vv79LQXFy"
      },
      "source": [
        "**Модель для второго региона (датасет geo_data_1)**"
      ]
    },
    {
      "cell_type": "code",
      "execution_count": null,
      "metadata": {
        "id": "taU_QoinQXFz",
        "outputId": "204c3f53-9063-49b2-93c7-bd3e5963471d"
      },
      "outputs": [
        {
          "name": "stdout",
          "output_type": "stream",
          "text": [
            "features1_train shape: (75000, 3)\n",
            "features1_valid shape: (25000, 3)\n",
            "target1_train shape: (75000,)\n",
            "target1_valid shape: (25000,)\n",
            "wt4Uk    2\n",
            "LHZR0    2\n",
            "5ltQ6    2\n",
            "bfPNe    2\n",
            "J1dt7    1\n",
            "        ..\n",
            "Pm2Ct    1\n",
            "LbdPC    1\n",
            "CPhgE    1\n",
            "LtsA5    1\n",
            "uk68n    1\n",
            "Name: id, Length: 99996, dtype: int64\n"
          ]
        }
      ],
      "source": [
        "features1 = data1.drop(['product', 'id'], axis=1)\n",
        "target1 = data1['product'] \n",
        "features1_train, features1_valid, target1_train, target1_valid = train_test_split(\n",
        "    features1, target1, test_size=0.25, random_state=12345)\n",
        "print('features1_train shape:', features0_train.shape)\n",
        "print('features1_valid shape:', features0_valid.shape)\n",
        "print('target1_train shape:', target0_train.shape)\n",
        "print('target1_valid shape:', target0_valid.shape)\n",
        "print(data1['id'].value_counts())\n"
      ]
    },
    {
      "cell_type": "markdown",
      "metadata": {
        "id": "7qG8AhWSQXFz"
      },
      "source": [
        "**Результат** датасет разбит на тренировочную и валидизационную выборки "
      ]
    },
    {
      "cell_type": "code",
      "execution_count": null,
      "metadata": {
        "id": "vN0_1ha7QXF0",
        "outputId": "6052d8b7-80c1-4c91-e415-674662b4872b"
      },
      "outputs": [
        {
          "name": "stdout",
          "output_type": "stream",
          "text": [
            "RMSE модели линейной регрессии на валидационной выборке второго датасета: 0.8930992867756168\n",
            "Проверям количество скважин с одинаковым ID:  wt4Uk    2\n",
            "LHZR0    2\n",
            "5ltQ6    2\n",
            "bfPNe    2\n",
            "J1dt7    1\n",
            "        ..\n",
            "Pm2Ct    1\n",
            "LbdPC    1\n",
            "CPhgE    1\n",
            "LtsA5    1\n",
            "uk68n    1\n",
            "Name: id, Length: 99996, dtype: int64\n",
            "Предсказания (predictions ):     predictions1_valid\n",
            "0           82.663314\n",
            "1           54.431786\n",
            "2           29.748760\n",
            "3           53.552133\n",
            "4            1.243856\n",
            "(25000, 1)\n",
            "Правильные ответы (target):     target1_valid\n",
            "0      80.859783\n",
            "1      53.906522\n",
            "2      30.132364\n",
            "3      53.906522\n",
            "4       0.000000\n",
            "(25000, 1)\n",
            "Предсказания и правильные ответы в одном датасете:     target1_valid  predictions1_valid\n",
            "0      80.859783           82.663314\n",
            "1      53.906522           54.431786\n",
            "2      30.132364           29.748760\n",
            "3      53.906522           53.552133\n",
            "4       0.000000            1.243856\n",
            "5     110.992147          111.438490\n",
            "6     137.945408          137.134374\n",
            "7      84.038886           82.888902\n",
            "8     110.992147          110.897311\n",
            "9      26.953261           29.219306\n",
            "(25000, 2)\n"
          ]
        }
      ],
      "source": [
        "model = LinearRegression(normalize=True)\n",
        "model.fit(features1_train,target1_train) \n",
        "predictions1_valid= model.predict(features1_valid) \n",
        "result1 = mean_squared_error(target1_valid, predictions1_valid)**0.5 \n",
        "print(\"RMSE модели линейной регрессии на валидационной выборке второго датасета:\", result1)\n",
        "predictions1_valid = pd.Series(predictions1_valid)\n",
        "target1_valid = pd.Series(target1_valid)\n",
        "print('Проверям количество скважин с одинаковым ID: ', data1['id'].value_counts())\n",
        "target1_valid_df = target1_valid.to_frame(name='target1_valid')\n",
        "target1_valid_df = target1_valid_df.reset_index(drop=True)\n",
        "predictions1_valid_df = predictions1_valid.to_frame(name='predictions1_valid')\n",
        "result1 = pd.concat([target1_valid_df, predictions1_valid_df], axis= 1 )\n",
        "print ('Предсказания (predictions ): ', predictions1_valid_df.head())\n",
        "print(predictions1_valid_df.shape)\n",
        "print ('Правильные ответы (target): ', target1_valid_df.head())\n",
        "print(target1_valid_df.shape)\n",
        "print('Предсказания и правильные ответы в одном датасете: ', result1.head(10))\n",
        "print(result1.shape)"
      ]
    },
    {
      "cell_type": "markdown",
      "metadata": {
        "id": "71kLUCuKQXF0"
      },
      "source": [
        "**Результат** \n",
        "1. RMSE 0.89 (тыс. баррелей), относительно небольшой. На выводе фактические данные и предсказанные похожи, результаты на этом датасете гораздо более предсказуемы.\n",
        "2. Проверила количество скважин с одинаковым ID в датасете - несущественное, можно игнорировать. \n",
        "3. Предсказания (predictions )и правильные ответы (target) на валидационной выборке собраны в один датасет result1"
      ]
    },
    {
      "cell_type": "markdown",
      "metadata": {
        "id": "OvFYknTnQXF1"
      },
      "source": [
        "**Модель для третьего региона (датасет geo_data_2)**"
      ]
    },
    {
      "cell_type": "code",
      "execution_count": null,
      "metadata": {
        "id": "2lH7780IQXF1",
        "outputId": "dbdd9ed4-8d38-436b-dc16-5c4bf10e1bf7"
      },
      "outputs": [
        {
          "name": "stdout",
          "output_type": "stream",
          "text": [
            "features2_train shape: (75000, 3)\n",
            "features2_valid shape: (25000, 3)\n",
            "target2_train shape: (75000,)\n",
            "target2_valid shape: (25000,)\n",
            "Vcm5J    2\n",
            "VF7Jo    2\n",
            "xCHr8    2\n",
            "KUPhW    2\n",
            "OOsLW    1\n",
            "        ..\n",
            "Wj6tX    1\n",
            "fwr2o    1\n",
            "jAppI    1\n",
            "2nvJQ    1\n",
            "ppzre    1\n",
            "Name: id, Length: 99996, dtype: int64\n"
          ]
        }
      ],
      "source": [
        "features2 = data2.drop(['product', 'id'], axis=1)\n",
        "target2 = data2['product'] \n",
        "features2_train, features2_valid, target2_train, target2_valid = train_test_split(\n",
        "    features2, target2, test_size=0.25, random_state=12345)\n",
        "print('features2_train shape:', features0_train.shape)\n",
        "print('features2_valid shape:', features0_valid.shape)\n",
        "print('target2_train shape:', target0_train.shape)\n",
        "print('target2_valid shape:', target0_valid.shape)\n",
        "print(data2['id'].value_counts())\n"
      ]
    },
    {
      "cell_type": "markdown",
      "metadata": {
        "id": "hb1LuvM1QXF1"
      },
      "source": [
        "**Результат** Датасет разбит на тренировочную и валидизационную выборки"
      ]
    },
    {
      "cell_type": "code",
      "execution_count": null,
      "metadata": {
        "id": "sNn4Ud9mQXF1",
        "outputId": "f26a1bc7-5dd2-4634-a94f-ebca50633926"
      },
      "outputs": [
        {
          "name": "stdout",
          "output_type": "stream",
          "text": [
            "RMSE модели линейной регрессии на валидационной выборке третьего датасета: 40.02970873393434\n",
            "Проверям количество скважин с одинаковым ID:  Vcm5J    2\n",
            "VF7Jo    2\n",
            "xCHr8    2\n",
            "KUPhW    2\n",
            "OOsLW    1\n",
            "        ..\n",
            "Wj6tX    1\n",
            "fwr2o    1\n",
            "jAppI    1\n",
            "2nvJQ    1\n",
            "ppzre    1\n",
            "Name: id, Length: 99996, dtype: int64\n",
            "Предсказания (predictions ):     predictions2_valid\n",
            "0           93.599633\n",
            "1           75.105159\n",
            "2           90.066809\n",
            "3          105.162375\n",
            "4          115.303310\n",
            "(25000, 1)\n",
            "Правильные ответы (target):     target2_valid\n",
            "0      61.212375\n",
            "1      41.850118\n",
            "2      57.776581\n",
            "3     100.053761\n",
            "4     109.897122\n",
            "(25000, 1)\n",
            "Предсказания и правильные ответы в одном датасете:     target2_valid  predictions2_valid\n",
            "0      61.212375           93.599633\n",
            "1      41.850118           75.105159\n",
            "2      57.776581           90.066809\n",
            "3     100.053761          105.162375\n",
            "4     109.897122          115.303310\n",
            "5     105.904629          121.939197\n",
            "6      51.646180          119.053040\n",
            "7     173.162121           75.396575\n",
            "8     113.143072          111.400543\n",
            "9      56.803215           84.029320\n",
            "(25000, 2)\n"
          ]
        }
      ],
      "source": [
        "model = LinearRegression(normalize=True)\n",
        "model.fit(features2_train,target2_train) \n",
        "predictions2_valid= model.predict(features2_valid) \n",
        "result2 = mean_squared_error(target2_valid, predictions2_valid)**0.5\n",
        "print(\"RMSE модели линейной регрессии на валидационной выборке третьего датасета:\", result2)\n",
        "predictions2_valid = pd.Series(predictions2_valid)\n",
        "target2_valid = pd.Series(target2_valid)\n",
        "print('Проверям количество скважин с одинаковым ID: ', data2['id'].value_counts())\n",
        "target2_valid_df = target2_valid.to_frame(name='target2_valid')\n",
        "target2_valid_df = target2_valid_df.reset_index(drop=True)\n",
        "predictions2_valid_df = predictions2_valid.to_frame(name='predictions2_valid')\n",
        "result2 = pd.concat([target2_valid_df, predictions2_valid_df], axis= 1 )\n",
        "print ('Предсказания (predictions ): ', predictions2_valid_df.head())\n",
        "print(predictions2_valid_df.shape)\n",
        "print ('Правильные ответы (target): ', target2_valid_df.head())\n",
        "print(target2_valid_df.shape)\n",
        "print('Предсказания и правильные ответы в одном датасете: ', result2.head(10))\n",
        "print(result2.shape)"
      ]
    },
    {
      "cell_type": "markdown",
      "metadata": {
        "id": "F9H9H3HOQXF2"
      },
      "source": [
        "**Результат** \n",
        "1. RMSE на этом датасете слишком высокий: возможное отклонение на 40+тыс. баррелей. Стоит подумать.\n",
        "2. Проверила количество скважин с одинаковым ID в датасете - несущественное, можно игнорировать.\n",
        "3. Предсказания (predictions )и правильные ответы (target) на валидационной выборке собраны в один датасет result1"
      ]
    },
    {
      "cell_type": "markdown",
      "metadata": {
        "id": "By3gz0tIQXF3"
      },
      "source": [
        "**Выводы по моделям для разных регионов** \n",
        "\n",
        "С точки зрения адекватности модели, только по второму региону есть хорошие метрики, первый и третий - вряд ли модель отражает закономерности\n"
      ]
    },
    {
      "cell_type": "markdown",
      "metadata": {
        "id": "TnsBU2JNQXF3"
      },
      "source": [
        "## Подготовка к расчёту прибыли"
      ]
    },
    {
      "cell_type": "code",
      "execution_count": null,
      "metadata": {
        "id": "d8O6d74RQXF3"
      },
      "outputs": [],
      "source": [
        "probs = 500\n",
        "selective = 200\n",
        "invest = 10000000000\n",
        "price  = 450000 #за 1000 баррелей\n",
        "\n"
      ]
    },
    {
      "cell_type": "markdown",
      "metadata": {
        "id": "MWbm50n5QXF4"
      },
      "source": [
        "**Результат** Ключевые значения для расчётов сохранены в отдельных переменных"
      ]
    },
    {
      "cell_type": "code",
      "execution_count": null,
      "metadata": {
        "id": "QwFY8MWDQXF4",
        "outputId": "40003fed-79ee-4d23-c425-e40172cecfd9"
      },
      "outputs": [
        {
          "name": "stdout",
          "output_type": "stream",
          "text": [
            "средняя стоимость разработки 1 скважины, при условии что их выбрано 200: \n",
            "50000000.0\n",
            "достаточный объём сырья для безубыточной разработки новой скважины, ROI = 0, c одной шахты, в тыс. баррелей: \n",
            "111.11111111111111\n",
            "достаточный объём сырья для безубыточной разработки новой скважины, ROI = 0, суммарный по региону: \n",
            "22222.222222222223\n"
          ]
        }
      ],
      "source": [
        "print ('средняя стоимость разработки 1 скважины, при условии что их выбрано 200: ')\n",
        "print(invest/selective)\n",
        "print ('достаточный объём сырья для безубыточной разработки новой скважины, ROI = 0, c одной шахты, в тыс. баррелей: ')\n",
        "print(invest/selective/price)\n",
        "print ('достаточный объём сырья для безубыточной разработки новой скважины, ROI = 0, суммарный по региону: ')\n",
        "print (invest/price)"
      ]
    },
    {
      "cell_type": "markdown",
      "metadata": {
        "id": "QA2Qj9tLQXF4"
      },
      "source": [
        "**Результат** Рассчитан достаточный объём сырья для безубыточной разработки новой скважины"
      ]
    },
    {
      "cell_type": "code",
      "execution_count": null,
      "metadata": {
        "id": "rT3bjnVHQXF4",
        "outputId": "c832ba2e-cc94-4e6e-aec8-7e5b378063df"
      },
      "outputs": [
        {
          "name": "stdout",
          "output_type": "stream",
          "text": [
            "средний объем добычи с шахты в регионе 1:   92.50000000000001\n",
            "суммарный объем по данным региона 1:  9250000.000000002\n",
            "\n",
            "средний объем добычи с шахты в регионе 2:   68.82500000000002\n",
            "суммарный объем по данным региона 2:  6882500.000000002\n",
            "\n",
            "средний объем добычи с шахты в регионе 3:   95.00000000000004\n",
            "суммарный объем по данным региона 3:  9500000.000000004\n"
          ]
        }
      ],
      "source": [
        "print('средний объем добычи с шахты в регионе 1:  ', data0['product'].mean())\n",
        "print('суммарный объем по данным региона 1: ', data0['product'].sum())\n",
        "print()\n",
        "print('средний объем добычи с шахты в регионе 2:  ', data1['product'].mean())\n",
        "print('суммарный объем по данным региона 2: ',data1['product'].sum())\n",
        "print()\n",
        "print('средний объем добычи с шахты в регионе 3:  ', data2['product'].mean())\n",
        "print('суммарный объем по данным региона 3: ',data2['product'].sum())"
      ]
    },
    {
      "cell_type": "markdown",
      "metadata": {
        "id": "C1uFltl2QXF5"
      },
      "source": [
        "**Результаты** Проведено сравнение со средним запасом в каждом регионе. Предварительные расчеты показывают, что самые большие средние запасы в третьем регионе и далее первый. Во втором регионе средние запасы существенно ниже, но более надежные метрики у модели. "
      ]
    },
    {
      "cell_type": "markdown",
      "metadata": {
        "id": "RqpsxeGeQXF5"
      },
      "source": [
        "## Расчёт прибыли и рисков "
      ]
    },
    {
      "cell_type": "markdown",
      "metadata": {
        "id": "NZRjNzExQXF5"
      },
      "source": [
        "**Предварительная оценка** присутствуют ли в достаточном количестве шахты в большими объемами в датасете каждого региона:"
      ]
    },
    {
      "cell_type": "code",
      "execution_count": null,
      "metadata": {
        "id": "iQ2ck-oQQXF5",
        "outputId": "d1603008-0126-4c9f-ebd1-9ca37665739e"
      },
      "outputs": [
        {
          "name": "stdout",
          "output_type": "stream",
          "text": [
            "          id        f0        f1        f2     product\n",
            "8826   rjMou  1.797736  0.098212  6.148260  185.364347\n",
            "99818  7cHIv  0.518445 -0.412790  4.951916  185.362690\n",
            "94175  uCDzR  0.351428 -0.400244  7.227618  185.355615\n",
            "1925   IfqrC  0.624430 -0.469312  5.753677  185.354980\n",
            "45291  5FEPb  1.758787 -0.395038  6.719085  185.352015\n",
            "...      ...       ...       ...       ...         ...\n",
            "34856  Xqm8i  2.038708  0.271003  3.791803  184.366474\n",
            "54135  oAHG7  1.108500 -0.583939  1.503254  184.362338\n",
            "63598  CaN8V  1.330398 -0.523232  6.365799  184.360762\n",
            "4941   orIzp  1.674001  0.016279  3.869249  184.358756\n",
            "79494  obTWo  1.313813 -0.459792  9.423778  184.356455\n",
            "\n",
            "[200 rows x 5 columns]\n",
            "(200, 5)\n"
          ]
        }
      ],
      "source": [
        "sorted_data0 = data0.sort_values(by='product', ascending=False).head(200)\n",
        "print(sorted_data0)\n",
        "print(sorted_data0.shape)"
      ]
    },
    {
      "cell_type": "code",
      "execution_count": null,
      "metadata": {
        "id": "xBiQLgddQXF6",
        "outputId": "3269d647-aff0-4a08-c687-6ed238c5f1bb"
      },
      "outputs": [
        {
          "name": "stdout",
          "output_type": "stream",
          "text": [
            "          id         f0         f1        f2     product\n",
            "53864  MzRzn   2.901352  -3.475398  5.001393  137.945408\n",
            "97083  nW6eC  -4.030430 -14.020643  5.009571  137.945408\n",
            "88340  xwJzQ  -3.373117  -9.227661  4.994369  137.945408\n",
            "64879  Xd8DC  -5.360281  -2.388204  5.001439  137.945408\n",
            "7288   Stdrb  -8.058661  -2.244840  5.000753  137.945408\n",
            "...      ...        ...        ...       ...         ...\n",
            "88496  cfKRc  -3.160538  -6.225915  4.999458  137.945408\n",
            "92616  22reW -11.067158  -0.340721  4.999463  137.945408\n",
            "41100  oQt7x  -7.557897  -1.563086  5.001729  137.945408\n",
            "7584   wvAAH  -3.325670  -6.932481  4.998615  137.945408\n",
            "16041  22GNv -14.171773   2.840246  4.996514  137.945408\n",
            "\n",
            "[200 rows x 5 columns]\n",
            "(200, 5)\n"
          ]
        }
      ],
      "source": [
        "sorted_data1 = data1.sort_values(by='product', ascending=False).head(200)\n",
        "print(sorted_data1)\n",
        "print(sorted_data1.shape)"
      ]
    },
    {
      "cell_type": "code",
      "execution_count": null,
      "metadata": {
        "id": "KpoNppK3QXF6",
        "outputId": "8712f650-58d3-4fa6-8791-b49444713e15"
      },
      "outputs": [
        {
          "name": "stdout",
          "output_type": "stream",
          "text": [
            "          id        f0        f1         f2     product\n",
            "79705  UAhji -2.747914  1.555227   3.342182  190.029838\n",
            "93444  IB0JE  3.026506  1.344623   8.891243  190.013589\n",
            "35099  2HeCn  2.848844 -1.701996   9.437101  190.011722\n",
            "21943  dldNH -2.500091  2.024392   6.291513  190.010982\n",
            "37870  CpuBi -0.686667 -3.219452   5.963290  190.010029\n",
            "...      ...       ...       ...        ...         ...\n",
            "96482  hfbIz  1.071479 -1.978181   4.437436  189.038807\n",
            "53814  6YAZG  2.122462 -1.071496   4.818192  189.038746\n",
            "5138   RO6MB  1.509688  3.125449  11.400160  189.037389\n",
            "91855  y3w0m  0.415052 -2.409421   2.205990  189.024650\n",
            "51559  inKEw -2.564780 -1.793263   4.337253  189.024253\n",
            "\n",
            "[200 rows x 5 columns]\n",
            "(200, 5)\n"
          ]
        }
      ],
      "source": [
        "sorted_data2 = data2.sort_values(by='product', ascending=False).head(200)\n",
        "print(sorted_data2)\n",
        "print(sorted_data2.shape)"
      ]
    },
    {
      "cell_type": "markdown",
      "metadata": {
        "id": "zoMvwsHTQXF6"
      },
      "source": [
        "**Выводы** во всех датесетах присутствует достаточное количество шахт с нужными объемами"
      ]
    },
    {
      "cell_type": "markdown",
      "metadata": {
        "id": "VQqOI6HuQXF6"
      },
      "source": [
        "**Функции для расчёта прибыли по выбранным скважинам и предсказаниям модели**"
      ]
    },
    {
      "cell_type": "code",
      "execution_count": null,
      "metadata": {
        "id": "2cjPKJuxQXF6",
        "outputId": "c3db1330-b1f5-4b8c-a031-ffe18a16affb"
      },
      "outputs": [
        {
          "name": "stdout",
          "output_type": "stream",
          "text": [
            "выручка первого по первому региону 13320826043.13985\n",
            "прибыль: (инвестиции) - (выручка по первому региону):  3320826043.1398506\n"
          ]
        }
      ],
      "source": [
        "def revenue(target, predictions, count):\n",
        "    probs_sorted = predictions.sort_values (ascending=False)\n",
        "    selected = target[probs_sorted.index][:count] \n",
        "    return price * selected.sum()# < напишите код здесь >\n",
        "\n",
        "target = target0_valid_df['target0_valid']\n",
        "predictions = predictions0_valid_df['predictions0_valid']\n",
        "\n",
        "res0 = revenue(target, predictions, selective)\n",
        "\n",
        "print('выручка первого по первому региону', res0)\n",
        "print('прибыль: (инвестиции) - (выручка по первому региону): ', res0-invest)"
      ]
    },
    {
      "cell_type": "markdown",
      "metadata": {
        "id": "H2AsCNdeQXF7"
      },
      "source": [
        "**Результат** Составлена функция расчета прибыли revenue и применена к первому региону.  "
      ]
    },
    {
      "cell_type": "code",
      "execution_count": null,
      "metadata": {
        "id": "GzQTsIviQXF7",
        "outputId": "c0223377-006a-466b-e065-366b758f4592"
      },
      "outputs": [
        {
          "name": "stdout",
          "output_type": "stream",
          "text": [
            "Средняя выручка: 10425938526.910593\n",
            "2.5%-квантиль: 9897909905.162064\n",
            "97.5%-квантиль: 10947976353.35837\n",
            "количество случаев, когда прибыль меньше инвестиций: 60\n",
            "процент случаев, когда прибыль меньше инвестиций (на 1000 итераций) - риск убытков: 6.0 %\n",
            "средняя выручка по первому региону - инвестиции 425938526.91059303\n",
            "нижняя граница 95% интервала прибыль  - инвестиции:  -102090094.8379364\n",
            "верхняя граница 95% интервала прибыль  - инвестиции:  947976353.3583698\n",
            "доверительный интервал 95%:  от -102090094.8379364   до   947976353.3583698\n"
          ]
        }
      ],
      "source": [
        "state = np.random.RandomState(12345)\n",
        "#def bootstap(target, predictions, count):\n",
        "values = []\n",
        "count = 0\n",
        "for i in range(1000):\n",
        "    target_subsample = target.sample(probs, replace=True, random_state=state) \n",
        "    probs_subsample = predictions[target_subsample.index] \n",
        "    values.append(revenue(target_subsample, probs_subsample, selective))\n",
        "    if (revenue(target_subsample, probs_subsample, selective)) < invest: \n",
        "        count = count+1 # < напишите код здесь>\n",
        "   \n",
        "values = pd.Series(values)\n",
        "lower0 = (values.quantile(0.025))\n",
        "upper0 = (values.quantile(0.975))# < напишите код здесь>\n",
        "\n",
        "mean0 = values.mean()\n",
        "print(\"Средняя выручка:\", mean0)\n",
        "print(\"2.5%-квантиль:\", lower0)\n",
        "print(\"97.5%-квантиль:\", upper0)\n",
        "print('количество случаев, когда прибыль меньше инвестиций:', count)\n",
        "print('процент случаев, когда прибыль меньше инвестиций (на 1000 итераций) - риск убытков:', count/1000*100, '%')\n",
        "\n",
        "print('средняя выручка по первому региону - инвестиции', mean0-invest)\n",
        "print('нижняя граница 95% интервала прибыль  - инвестиции: ', lower0-invest)\n",
        "print ('верхняя граница 95% интервала прибыль  - инвестиции: ', upper0-invest)\n",
        "print ('доверительный интервал 95%:  от',lower0-invest, '  до  ', upper0-invest )"
      ]
    },
    {
      "cell_type": "markdown",
      "metadata": {
        "id": "vCy_VkwqQXF7"
      },
      "source": [
        "**Результат** На первом датасете применена функция Bootstrap с 1000 выборок, расчитана средняя прибыль, 95%-й доверительный интервал и риск убытков. "
      ]
    },
    {
      "cell_type": "markdown",
      "metadata": {
        "id": "tTrp_jnlQXF8"
      },
      "source": [
        "на уровне квартиля 2.5% сумма ниже инвестиций "
      ]
    },
    {
      "cell_type": "code",
      "execution_count": null,
      "metadata": {
        "id": "Rp2-SDvPQXF8",
        "outputId": "2c93de6c-d4c3-4c1b-f480-78387a25a79c"
      },
      "outputs": [
        {
          "name": "stdout",
          "output_type": "stream",
          "text": [
            "выручка по второму региону 12415086696.68151\n",
            "прибыль: (инвестиции) - (выручка по второму региону):  2415086696.681511\n"
          ]
        }
      ],
      "source": [
        "target = target1_valid_df['target1_valid']\n",
        "predictions = predictions1_valid_df['predictions1_valid']\n",
        "\n",
        "res1 = revenue(target, predictions, selective)\n",
        "\n",
        "print('выручка по второму региону', res1)\n",
        "print('прибыль: (инвестиции) - (выручка по второму региону): ', res1-invest)"
      ]
    },
    {
      "cell_type": "markdown",
      "metadata": {
        "id": "9wZgTNjMQXF8"
      },
      "source": [
        "**Результат** функция расчета прибыли revenue и применена ко второму региону"
      ]
    },
    {
      "cell_type": "code",
      "execution_count": null,
      "metadata": {
        "id": "pdg84P9bQXF9",
        "outputId": "a54197c1-c559-401f-c272-726b80f93d9d"
      },
      "outputs": [
        {
          "name": "stdout",
          "output_type": "stream",
          "text": [
            "Средняя выручка: 10515222773.44329\n",
            "2.5%-квантиль: 10068873225.370502\n",
            "97.5%-квантиль: 10931547591.25705\n",
            "количество случаев, когда прибыль меньше инвестиций: 10\n",
            "процент случаев, когда прибыль меньше инвестиций (на 1000 итераций) - риск убытков: 1.0 %\n",
            "средняя выручка по второму региону - инвестиции 515222773.4432907\n",
            "нижняя граница 95% интервала прибыль  - инвестиции:  68873225.37050247\n",
            "верхняя граница 95% интервала прибыль  - инвестиции:  931547591.2570496\n",
            "доверительный интервал 95%:  от 68873225.37050247   до   931547591.2570496\n"
          ]
        }
      ],
      "source": [
        "state = np.random.RandomState(12345)\n",
        "#def bootstap(target, predictions, count):\n",
        "values1 = []\n",
        "count1 = 0\n",
        "for i in range(1000):\n",
        "    target_subsample = target.sample(probs, replace=True, random_state=state) \n",
        "    probs_subsample = predictions[target_subsample.index] \n",
        "    values1.append(revenue(target_subsample, probs_subsample, selective))\n",
        "    if (revenue(target_subsample, probs_subsample, selective)) < invest: \n",
        "        count1 = count1+1# < напишите код здесь>\n",
        "   \n",
        "values1 = pd.Series(values1)\n",
        "lower1 = (values1.quantile(0.025))\n",
        "upper1 = (values1.quantile(0.975))# < напишите код здесь>\n",
        "mean1 = values1.mean()\n",
        "print(\"Средняя выручка:\", mean1)\n",
        "print(\"2.5%-квантиль:\", lower1)\n",
        "print(\"97.5%-квантиль:\", upper1)\n",
        "print('количество случаев, когда прибыль меньше инвестиций:', count1)\n",
        "print('процент случаев, когда прибыль меньше инвестиций (на 1000 итераций) - риск убытков:', count1/1000*100, '%')\n",
        "print('средняя выручка по второму региону - инвестиции', mean1-invest)\n",
        "print('нижняя граница 95% интервала прибыль  - инвестиции: ', lower1-invest)\n",
        "print ('верхняя граница 95% интервала прибыль  - инвестиции: ', upper1-invest)\n",
        "print ('доверительный интервал 95%:  от',lower1-invest, '  до  ', upper1-invest )"
      ]
    },
    {
      "cell_type": "markdown",
      "metadata": {
        "id": "LQU2vjlEQXF9"
      },
      "source": [
        "**Результат** На втором датасете применена функция Bootstrap с 1000 выборок, расчитана средняя прибыль, 95%-й доверительный интервал и риск убытков."
      ]
    },
    {
      "cell_type": "code",
      "execution_count": null,
      "metadata": {
        "id": "Qi0ARufrQXF-",
        "outputId": "3c746d3b-0e7f-4d9f-eb84-c13ba1c70b4e"
      },
      "outputs": [
        {
          "name": "stdout",
          "output_type": "stream",
          "text": [
            "выручка по третьему региону 12710349963.599833\n",
            "прибыль: (инвестиции) - (выручка по третьему региону):  2710349963.5998325\n"
          ]
        }
      ],
      "source": [
        "target = target2_valid_df['target2_valid']\n",
        "predictions = predictions2_valid_df['predictions2_valid']\n",
        "\n",
        "res2 = revenue(target, predictions, selective)\n",
        "\n",
        "print('выручка по третьему региону', res2)\n",
        "print('прибыль: (инвестиции) - (выручка по третьему региону): ', res2-invest)"
      ]
    },
    {
      "cell_type": "markdown",
      "metadata": {
        "id": "9sD5D7VsQXF-"
      },
      "source": [
        "**Результат** функция расчета прибыли revenue и применена к третьему региону"
      ]
    },
    {
      "cell_type": "code",
      "execution_count": null,
      "metadata": {
        "id": "woLEgxLkQXF-",
        "outputId": "cce8f152-9e60-4dc9-8434-48f67defa5c1"
      },
      "outputs": [
        {
          "name": "stdout",
          "output_type": "stream",
          "text": [
            "Средняя выручка: 10435008362.782757\n",
            "2.5%-квантиль: 9871119452.670212\n",
            "97.5%-квантиль: 10969706954.180265\n",
            "количество случаев, когда прибыль меньше инвестиций: 64\n",
            "процент случаев, когда прибыль меньше инвестиций (на 1000 итераций) - риск убытков: 6.4 %\n",
            "средняя выручка по третьему региону - инвестиции 435008362.7827568\n",
            "нижняя граница 95% интервала прибыль  - инвестиции:  -128880547.32978821\n",
            "верхняя граница 95% интервала прибыль  - инвестиции:  969706954.1802654\n",
            "доверительный интервал 95%:  от -128880547.32978821   до   969706954.1802654\n"
          ]
        }
      ],
      "source": [
        "state = np.random.RandomState(12345)\n",
        "#def bootstap(target, predictions, count):\n",
        "values2 = []\n",
        "count2 = 0\n",
        "for i in range(1000):\n",
        "    target_subsample = target.sample(probs, replace=True, random_state=state) \n",
        "    probs_subsample = predictions[target_subsample.index] \n",
        "    values2.append(revenue(target_subsample, probs_subsample, selective))\n",
        "    if (revenue(target_subsample, probs_subsample, selective)) < invest: \n",
        "        count2 = count2+1 \n",
        "   \n",
        "values2 = pd.Series(values2)\n",
        "lower2 = (values2.quantile(0.025))\n",
        "upper2 = (values2.quantile(0.975))\n",
        "\n",
        "mean2 = values2.mean()\n",
        "print(\"Средняя выручка:\", mean2)\n",
        "print(\"2.5%-квантиль:\", lower2)\n",
        "print(\"97.5%-квантиль:\", upper2)\n",
        "print('количество случаев, когда прибыль меньше инвестиций:', count2)\n",
        "print('процент случаев, когда прибыль меньше инвестиций (на 1000 итераций) - риск убытков:', count2/1000*100, '%')\n",
        "print('средняя выручка по третьему региону - инвестиции', mean2-invest)\n",
        "print('нижняя граница 95% интервала прибыль  - инвестиции: ', lower2-invest)\n",
        "print ('верхняя граница 95% интервала прибыль  - инвестиции: ', upper2-invest)\n",
        "print ('доверительный интервал 95%:  от',lower2-invest, '  до  ', upper2-invest )"
      ]
    },
    {
      "cell_type": "markdown",
      "metadata": {
        "id": "HhH82fhzQXF_"
      },
      "source": [
        "**Результат** На третьем датасете применена функция Bootstrap с 1000 выборок, расчитана средняя прибыль, 95%-й доверительный интервал и риск убытков."
      ]
    },
    {
      "cell_type": "markdown",
      "metadata": {
        "id": "qL7NlP1pQXF_"
      },
      "source": [
        "на уровне квартиля 2.5% сумма ниже инвестиций"
      ]
    },
    {
      "cell_type": "markdown",
      "metadata": {
        "id": "2bvYQDe_QXF_"
      },
      "source": [
        "**Сравнение регионов**"
      ]
    },
    {
      "cell_type": "code",
      "execution_count": null,
      "metadata": {
        "id": "DP0uiFtoQXF_",
        "outputId": "9974caaa-3d18-4a85-bda6-4dbbf5f8974c"
      },
      "outputs": [
        {
          "name": "stdout",
          "output_type": "stream",
          "text": [
            "первый регион\n",
            "функция расчёта прибыли\n",
            "выручка первого по первому региону 13320826043.13985\n",
            "прибыль: (инвестиции) - (выручка по первому региону):  3320826043.1398506\n",
            "процедура Bootstrap\n",
            "средняя выручка по первому региону - инвестиции 425938526.91059303\n",
            "нижняя граница 95% интервала прибыль  - инвестиции:  -102090094.8379364\n",
            "верхняя граница 95% интервала прибыль  - инвестиции:  947976353.3583698\n",
            "доверительный интервал 95%:  от -102090094.8379364   до   947976353.3583698\n",
            "количество случаев, когда прибыль меньше инвестиций: 60\n",
            "процент случаев, когда прибыль меньше инвестиций (на 1000 итераций) - риск убытков: 6.0 %\n",
            "\n",
            "второй регион\n",
            "функция расчёта прибыли\n",
            "выручка по второму региону 12415086696.68151\n",
            "прибыль: (инвестиции) - (выручка по второму региону):  2415086696.681511\n",
            "процедура Bootstrap\n",
            "средняя выручка по второму региону - инвестиции 515222773.4432907\n",
            "нижняя граница 95% интервала прибыль  - инвестиции:  68873225.37050247\n",
            "верхняя граница 95% интервала прибыль  - инвестиции:  931547591.2570496\n",
            "доверительный интервал 95%:  от 68873225.37050247   до   931547591.2570496\n",
            "количество случаев, когда прибыль меньше инвестиций: 10\n",
            "процент случаев, когда прибыль меньше инвестиций (на 1000 итераций) - риск убытков: 1.0 %\n",
            "\n",
            "третий регион\n",
            "функция расчёта прибыли\n",
            "выручка по третьему региону 12710349963.599833\n",
            "прибыль: (инвестиции) - (выручка по третьему региону):  2710349963.5998325\n",
            "процедура Bootstrap\n",
            "средняя выручка по третьему региону - инвестиции 435008362.7827568\n",
            "нижняя граница 95% интервала прибыль  - инвестиции:  -128880547.32978821\n",
            "верхняя граница 95% интервала прибыль  - инвестиции:  969706954.1802654\n",
            "доверительный интервал 95%:  от -128880547.32978821   до   969706954.1802654\n",
            "количество случаев, когда прибыль меньше инвестиций: 64\n",
            "процент случаев, когда прибыль меньше инвестиций (на 1000 итераций) - риск убытков: 6.4 %\n"
          ]
        }
      ],
      "source": [
        "print ('первый регион')\n",
        "print ('функция расчёта прибыли')\n",
        "print('выручка первого по первому региону', res0)\n",
        "print('прибыль: (инвестиции) - (выручка по первому региону): ', res0-invest)\n",
        "print('процедура Bootstrap')\n",
        "print('средняя выручка по первому региону - инвестиции', mean0-invest)\n",
        "print('нижняя граница 95% интервала прибыль  - инвестиции: ', lower0-invest)\n",
        "print ('верхняя граница 95% интервала прибыль  - инвестиции: ', upper0-invest)\n",
        "print ('доверительный интервал 95%:  от',lower0-invest, '  до  ', upper0-invest )\n",
        "print('количество случаев, когда прибыль меньше инвестиций:', count)\n",
        "print('процент случаев, когда прибыль меньше инвестиций (на 1000 итераций) - риск убытков:', count/1000*100, '%')\n",
        "print()\n",
        "print('второй регион')\n",
        "print ('функция расчёта прибыли')\n",
        "print('выручка по второму региону', res1)\n",
        "print('прибыль: (инвестиции) - (выручка по второму региону): ', res1-invest)\n",
        "print('процедура Bootstrap')\n",
        "print('средняя выручка по второму региону - инвестиции', mean1-invest)\n",
        "print('нижняя граница 95% интервала прибыль  - инвестиции: ', lower1-invest)\n",
        "print ('верхняя граница 95% интервала прибыль  - инвестиции: ', upper1-invest)\n",
        "print ('доверительный интервал 95%:  от',lower1-invest, '  до  ', upper1-invest )\n",
        "print('количество случаев, когда прибыль меньше инвестиций:', count1)\n",
        "print('процент случаев, когда прибыль меньше инвестиций (на 1000 итераций) - риск убытков:', count1/1000*100, '%')\n",
        "print()\n",
        "print('третий регион')\n",
        "print ('функция расчёта прибыли')\n",
        "print('выручка по третьему региону', res2)\n",
        "print('прибыль: (инвестиции) - (выручка по третьему региону): ', res2-invest)\n",
        "print('процедура Bootstrap')\n",
        "print('средняя выручка по третьему региону - инвестиции', mean2-invest)\n",
        "print('нижняя граница 95% интервала прибыль  - инвестиции: ', lower2-invest)\n",
        "print ('верхняя граница 95% интервала прибыль  - инвестиции: ', upper2-invest)\n",
        "print ('доверительный интервал 95%:  от',lower2-invest, '  до  ', upper2-invest )\n",
        "print('количество случаев, когда прибыль меньше инвестиций:', count2)\n",
        "print('процент случаев, когда прибыль меньше инвестиций (на 1000 итераций) - риск убытков:', count2/1000*100, '%')"
      ]
    },
    {
      "cell_type": "markdown",
      "metadata": {
        "id": "fB6cO_DSQXGA"
      },
      "source": [
        "**Выводы** \n",
        "1. В регионах 1 и 3 есть риск убытков - нижняя граница доверительного интервала меньше уровня, необходимого для окупаемости. \n",
        "2. По этому критерию 95% доверительного интервала остается для разработки только регион 2. \n",
        "3. Дополнительная информация про регион 2: Во втором датасете, по сравнению с другими, суммарные и средние показатели ниже. Но существенно лучше показатель модели RMSE 0.89 (тыс. баррелей) и риск убытков статистически существенно меньше.  "
      ]
    }
  ],
  "metadata": {
    "ExecuteTimeLog": [
      {
        "duration": 395,
        "start_time": "2022-11-30T09:07:13.345Z"
      },
      {
        "duration": 3,
        "start_time": "2022-11-30T09:14:17.691Z"
      },
      {
        "duration": 435,
        "start_time": "2022-11-30T09:14:20.427Z"
      },
      {
        "duration": 189,
        "start_time": "2022-11-30T09:16:59.254Z"
      },
      {
        "duration": 191,
        "start_time": "2022-11-30T09:18:06.351Z"
      },
      {
        "duration": 434,
        "start_time": "2022-11-30T09:19:17.080Z"
      },
      {
        "duration": 618,
        "start_time": "2022-11-30T09:20:06.197Z"
      },
      {
        "duration": 726,
        "start_time": "2022-11-30T12:58:19.814Z"
      },
      {
        "duration": 3,
        "start_time": "2022-11-30T12:58:54.988Z"
      },
      {
        "duration": 96,
        "start_time": "2022-11-30T13:04:37.464Z"
      },
      {
        "duration": 16,
        "start_time": "2022-11-30T13:04:59.896Z"
      },
      {
        "duration": 18,
        "start_time": "2022-11-30T13:05:02.831Z"
      },
      {
        "duration": 13,
        "start_time": "2022-11-30T13:07:22.917Z"
      },
      {
        "duration": 2,
        "start_time": "2022-11-30T13:13:03.828Z"
      },
      {
        "duration": 16,
        "start_time": "2022-11-30T13:14:28.495Z"
      },
      {
        "duration": 18,
        "start_time": "2022-11-30T13:43:15.894Z"
      },
      {
        "duration": 95,
        "start_time": "2022-11-30T13:43:50.940Z"
      },
      {
        "duration": 15,
        "start_time": "2022-11-30T13:44:06.026Z"
      },
      {
        "duration": 19,
        "start_time": "2022-11-30T13:46:46.543Z"
      },
      {
        "duration": 33,
        "start_time": "2022-11-30T13:50:24.603Z"
      },
      {
        "duration": 19,
        "start_time": "2022-11-30T13:51:21.844Z"
      },
      {
        "duration": 65,
        "start_time": "2022-11-30T14:01:37.372Z"
      },
      {
        "duration": 15,
        "start_time": "2022-11-30T14:33:38.543Z"
      },
      {
        "duration": 53,
        "start_time": "2022-11-30T14:35:46.784Z"
      },
      {
        "duration": 17,
        "start_time": "2022-11-30T14:36:05.154Z"
      },
      {
        "duration": 23,
        "start_time": "2022-11-30T14:36:42.528Z"
      },
      {
        "duration": 15,
        "start_time": "2022-11-30T14:37:27.427Z"
      },
      {
        "duration": 20,
        "start_time": "2022-11-30T14:37:31.331Z"
      },
      {
        "duration": 13,
        "start_time": "2022-11-30T14:42:27.713Z"
      },
      {
        "duration": 21,
        "start_time": "2022-11-30T14:44:23.544Z"
      },
      {
        "duration": 1045,
        "start_time": "2022-11-30T14:47:14.467Z"
      },
      {
        "duration": 592,
        "start_time": "2022-11-30T14:47:15.514Z"
      },
      {
        "duration": 33,
        "start_time": "2022-11-30T14:47:16.111Z"
      },
      {
        "duration": 95,
        "start_time": "2022-11-30T14:47:16.145Z"
      },
      {
        "duration": 19,
        "start_time": "2022-11-30T14:47:16.334Z"
      },
      {
        "duration": 82,
        "start_time": "2022-11-30T14:47:16.354Z"
      },
      {
        "duration": 109,
        "start_time": "2022-11-30T14:47:16.438Z"
      },
      {
        "duration": 89,
        "start_time": "2022-11-30T14:47:16.548Z"
      },
      {
        "duration": 3,
        "start_time": "2022-11-30T17:12:11.978Z"
      },
      {
        "duration": 3,
        "start_time": "2022-11-30T17:12:21.747Z"
      },
      {
        "duration": 4,
        "start_time": "2022-11-30T17:15:36.128Z"
      },
      {
        "duration": 4,
        "start_time": "2022-11-30T17:15:58.707Z"
      },
      {
        "duration": 4,
        "start_time": "2022-11-30T17:17:56.151Z"
      },
      {
        "duration": 32,
        "start_time": "2022-11-30T17:37:46.507Z"
      },
      {
        "duration": 275,
        "start_time": "2022-11-30T17:40:17.096Z"
      },
      {
        "duration": 257,
        "start_time": "2022-11-30T17:44:08.019Z"
      },
      {
        "duration": 70,
        "start_time": "2022-11-30T17:45:21.862Z"
      },
      {
        "duration": 60,
        "start_time": "2022-11-30T17:46:08.665Z"
      },
      {
        "duration": 1045,
        "start_time": "2022-12-01T08:10:56.762Z"
      },
      {
        "duration": 2004,
        "start_time": "2022-12-01T08:10:57.809Z"
      },
      {
        "duration": 17,
        "start_time": "2022-12-01T08:10:59.815Z"
      },
      {
        "duration": 240,
        "start_time": "2022-12-01T08:10:59.834Z"
      },
      {
        "duration": 94,
        "start_time": "2022-12-01T08:11:00.076Z"
      },
      {
        "duration": 43,
        "start_time": "2022-12-01T08:11:00.171Z"
      },
      {
        "duration": 199,
        "start_time": "2022-12-01T08:11:00.216Z"
      },
      {
        "duration": 23,
        "start_time": "2022-12-01T08:11:00.419Z"
      },
      {
        "duration": 191,
        "start_time": "2022-12-01T08:11:00.444Z"
      },
      {
        "duration": 1000,
        "start_time": "2022-12-01T15:08:21.814Z"
      },
      {
        "duration": 782,
        "start_time": "2022-12-01T15:08:22.816Z"
      },
      {
        "duration": 17,
        "start_time": "2022-12-01T15:08:23.600Z"
      },
      {
        "duration": 195,
        "start_time": "2022-12-01T15:08:23.619Z"
      },
      {
        "duration": 73,
        "start_time": "2022-12-01T15:08:23.816Z"
      },
      {
        "duration": 86,
        "start_time": "2022-12-01T15:08:23.890Z"
      },
      {
        "duration": 158,
        "start_time": "2022-12-01T15:08:23.979Z"
      },
      {
        "duration": 38,
        "start_time": "2022-12-01T15:08:24.139Z"
      },
      {
        "duration": 103,
        "start_time": "2022-12-01T15:08:24.179Z"
      },
      {
        "duration": 2,
        "start_time": "2022-12-01T15:14:31.483Z"
      },
      {
        "duration": 4,
        "start_time": "2022-12-01T15:14:33.790Z"
      },
      {
        "duration": 4,
        "start_time": "2022-12-01T15:15:38.817Z"
      },
      {
        "duration": 4,
        "start_time": "2022-12-01T15:20:36.036Z"
      },
      {
        "duration": 4,
        "start_time": "2022-12-01T15:20:57.992Z"
      },
      {
        "duration": 58,
        "start_time": "2022-12-01T15:38:21.185Z"
      },
      {
        "duration": 12,
        "start_time": "2022-12-01T15:38:28.730Z"
      },
      {
        "duration": 8,
        "start_time": "2022-12-01T15:38:35.094Z"
      },
      {
        "duration": 1159,
        "start_time": "2022-12-01T15:38:41.514Z"
      },
      {
        "duration": 1024,
        "start_time": "2022-12-01T15:38:42.675Z"
      },
      {
        "duration": 17,
        "start_time": "2022-12-01T15:38:43.700Z"
      },
      {
        "duration": 238,
        "start_time": "2022-12-01T15:38:43.720Z"
      },
      {
        "duration": 101,
        "start_time": "2022-12-01T15:38:43.961Z"
      },
      {
        "duration": 82,
        "start_time": "2022-12-01T15:38:44.064Z"
      },
      {
        "duration": 194,
        "start_time": "2022-12-01T15:38:44.149Z"
      },
      {
        "duration": 79,
        "start_time": "2022-12-01T15:38:44.345Z"
      },
      {
        "duration": 104,
        "start_time": "2022-12-01T15:38:44.426Z"
      },
      {
        "duration": 127,
        "start_time": "2022-12-01T15:38:44.532Z"
      },
      {
        "duration": 0,
        "start_time": "2022-12-01T15:38:44.660Z"
      },
      {
        "duration": 11,
        "start_time": "2022-12-01T15:39:14.201Z"
      },
      {
        "duration": 3,
        "start_time": "2022-12-01T15:39:22.433Z"
      },
      {
        "duration": 2,
        "start_time": "2022-12-01T15:39:43.709Z"
      },
      {
        "duration": 5,
        "start_time": "2022-12-01T15:39:46.612Z"
      },
      {
        "duration": 9,
        "start_time": "2022-12-01T15:40:10.068Z"
      },
      {
        "duration": 4,
        "start_time": "2022-12-01T15:40:48.307Z"
      },
      {
        "duration": 4,
        "start_time": "2022-12-01T15:41:09.312Z"
      },
      {
        "duration": 8,
        "start_time": "2022-12-01T15:41:34.489Z"
      },
      {
        "duration": 8,
        "start_time": "2022-12-01T15:42:38.075Z"
      },
      {
        "duration": 8,
        "start_time": "2022-12-01T15:42:52.284Z"
      },
      {
        "duration": 50,
        "start_time": "2022-12-01T15:43:37.070Z"
      },
      {
        "duration": 6,
        "start_time": "2022-12-01T15:44:01.201Z"
      },
      {
        "duration": 8,
        "start_time": "2022-12-01T15:45:08.195Z"
      },
      {
        "duration": 9,
        "start_time": "2022-12-01T15:45:47.762Z"
      },
      {
        "duration": 969,
        "start_time": "2022-12-01T15:49:14.146Z"
      },
      {
        "duration": 9,
        "start_time": "2022-12-01T15:49:51.417Z"
      },
      {
        "duration": 11,
        "start_time": "2022-12-01T15:50:10.856Z"
      },
      {
        "duration": 4,
        "start_time": "2022-12-01T15:50:41.400Z"
      },
      {
        "duration": 5,
        "start_time": "2022-12-01T15:51:12.507Z"
      },
      {
        "duration": 5,
        "start_time": "2022-12-01T15:52:38.739Z"
      },
      {
        "duration": 10,
        "start_time": "2022-12-01T15:53:20.623Z"
      },
      {
        "duration": 5,
        "start_time": "2022-12-01T15:54:30.812Z"
      },
      {
        "duration": 62,
        "start_time": "2022-12-01T16:48:13.337Z"
      },
      {
        "duration": 2,
        "start_time": "2022-12-01T16:48:26.240Z"
      },
      {
        "duration": 5,
        "start_time": "2022-12-01T16:48:58.787Z"
      },
      {
        "duration": 3,
        "start_time": "2022-12-01T17:17:28.102Z"
      },
      {
        "duration": 5,
        "start_time": "2022-12-01T17:17:34.120Z"
      },
      {
        "duration": 1082,
        "start_time": "2022-12-02T07:27:35.808Z"
      },
      {
        "duration": 1756,
        "start_time": "2022-12-02T07:27:36.892Z"
      },
      {
        "duration": 17,
        "start_time": "2022-12-02T07:27:38.650Z"
      },
      {
        "duration": 205,
        "start_time": "2022-12-02T07:27:38.668Z"
      },
      {
        "duration": 99,
        "start_time": "2022-12-02T07:27:38.874Z"
      },
      {
        "duration": 48,
        "start_time": "2022-12-02T07:27:38.975Z"
      },
      {
        "duration": 162,
        "start_time": "2022-12-02T07:27:39.026Z"
      },
      {
        "duration": 42,
        "start_time": "2022-12-02T07:27:39.190Z"
      },
      {
        "duration": 87,
        "start_time": "2022-12-02T07:27:39.236Z"
      },
      {
        "duration": 98,
        "start_time": "2022-12-02T07:27:39.326Z"
      },
      {
        "duration": 26,
        "start_time": "2022-12-02T07:27:39.426Z"
      },
      {
        "duration": 123,
        "start_time": "2022-12-02T08:25:03.270Z"
      },
      {
        "duration": 40,
        "start_time": "2022-12-02T08:25:25.467Z"
      },
      {
        "duration": 29,
        "start_time": "2022-12-02T08:30:20.748Z"
      },
      {
        "duration": 41,
        "start_time": "2022-12-02T08:30:40.818Z"
      },
      {
        "duration": 22,
        "start_time": "2022-12-02T08:32:14.840Z"
      },
      {
        "duration": 24,
        "start_time": "2022-12-02T08:32:25.039Z"
      },
      {
        "duration": 27,
        "start_time": "2022-12-02T08:32:59.374Z"
      },
      {
        "duration": 29,
        "start_time": "2022-12-02T08:46:16.737Z"
      },
      {
        "duration": 124,
        "start_time": "2022-12-02T08:47:04.999Z"
      },
      {
        "duration": 28,
        "start_time": "2022-12-02T08:47:12.514Z"
      },
      {
        "duration": 21,
        "start_time": "2022-12-02T08:48:08.112Z"
      },
      {
        "duration": 29,
        "start_time": "2022-12-02T08:48:55.947Z"
      },
      {
        "duration": 9,
        "start_time": "2022-12-02T10:09:11.903Z"
      },
      {
        "duration": 3,
        "start_time": "2022-12-02T10:09:26.977Z"
      },
      {
        "duration": 4,
        "start_time": "2022-12-02T10:09:31.948Z"
      },
      {
        "duration": 11,
        "start_time": "2022-12-02T10:12:00.899Z"
      },
      {
        "duration": 6,
        "start_time": "2022-12-02T10:12:53.818Z"
      },
      {
        "duration": 15,
        "start_time": "2022-12-02T10:13:17.032Z"
      },
      {
        "duration": 15,
        "start_time": "2022-12-02T10:14:52.845Z"
      },
      {
        "duration": 12,
        "start_time": "2022-12-02T10:24:14.508Z"
      },
      {
        "duration": 17,
        "start_time": "2022-12-02T10:26:47.272Z"
      },
      {
        "duration": 22,
        "start_time": "2022-12-02T10:27:57.484Z"
      },
      {
        "duration": 19,
        "start_time": "2022-12-02T10:29:14.481Z"
      },
      {
        "duration": 23,
        "start_time": "2022-12-02T10:30:30.385Z"
      },
      {
        "duration": 20,
        "start_time": "2022-12-02T10:31:57.302Z"
      },
      {
        "duration": 10,
        "start_time": "2022-12-02T10:36:45.584Z"
      },
      {
        "duration": 14,
        "start_time": "2022-12-02T10:37:18.376Z"
      },
      {
        "duration": 10,
        "start_time": "2022-12-02T10:40:05.274Z"
      },
      {
        "duration": 13,
        "start_time": "2022-12-02T10:46:19.788Z"
      },
      {
        "duration": 11,
        "start_time": "2022-12-02T10:51:05.112Z"
      },
      {
        "duration": 10,
        "start_time": "2022-12-02T10:52:50.942Z"
      },
      {
        "duration": 10,
        "start_time": "2022-12-02T10:53:15.546Z"
      },
      {
        "duration": 9,
        "start_time": "2022-12-02T10:53:42.512Z"
      },
      {
        "duration": 9,
        "start_time": "2022-12-02T13:12:05.592Z"
      },
      {
        "duration": 18,
        "start_time": "2022-12-02T13:22:08.032Z"
      },
      {
        "duration": 23,
        "start_time": "2022-12-02T13:22:54.620Z"
      },
      {
        "duration": 872,
        "start_time": "2022-12-02T13:30:46.425Z"
      },
      {
        "duration": 818,
        "start_time": "2022-12-02T16:29:16.383Z"
      },
      {
        "duration": 919,
        "start_time": "2022-12-02T16:30:09.100Z"
      },
      {
        "duration": 1195,
        "start_time": "2022-12-02T16:32:09.172Z"
      },
      {
        "duration": 46,
        "start_time": "2022-12-03T06:28:34.400Z"
      },
      {
        "duration": 1042,
        "start_time": "2022-12-03T06:28:44.158Z"
      },
      {
        "duration": 804,
        "start_time": "2022-12-03T06:28:45.202Z"
      },
      {
        "duration": 18,
        "start_time": "2022-12-03T06:28:46.008Z"
      },
      {
        "duration": 227,
        "start_time": "2022-12-03T06:28:46.029Z"
      },
      {
        "duration": 55,
        "start_time": "2022-12-03T06:28:46.258Z"
      },
      {
        "duration": 160,
        "start_time": "2022-12-03T06:28:46.315Z"
      },
      {
        "duration": 36,
        "start_time": "2022-12-03T06:28:46.477Z"
      },
      {
        "duration": 205,
        "start_time": "2022-12-03T06:28:46.516Z"
      },
      {
        "duration": 17,
        "start_time": "2022-12-03T06:28:46.722Z"
      },
      {
        "duration": 4,
        "start_time": "2022-12-03T06:28:46.812Z"
      },
      {
        "duration": 95,
        "start_time": "2022-12-03T06:28:46.818Z"
      },
      {
        "duration": 8,
        "start_time": "2022-12-03T06:28:46.915Z"
      },
      {
        "duration": 28,
        "start_time": "2022-12-03T06:28:46.925Z"
      },
      {
        "duration": 24,
        "start_time": "2022-12-03T06:28:46.955Z"
      },
      {
        "duration": 58,
        "start_time": "2022-12-03T06:28:46.981Z"
      },
      {
        "duration": 22,
        "start_time": "2022-12-03T06:28:47.041Z"
      },
      {
        "duration": 1320,
        "start_time": "2022-12-03T06:28:47.065Z"
      },
      {
        "duration": 51,
        "start_time": "2022-12-03T06:28:48.386Z"
      },
      {
        "duration": 23,
        "start_time": "2022-12-03T06:29:08.880Z"
      },
      {
        "duration": 23,
        "start_time": "2022-12-03T06:30:41.514Z"
      },
      {
        "duration": 45,
        "start_time": "2022-12-03T06:30:55.609Z"
      },
      {
        "duration": 24,
        "start_time": "2022-12-03T06:31:07.861Z"
      },
      {
        "duration": 1316,
        "start_time": "2022-12-03T06:31:12.315Z"
      },
      {
        "duration": 24,
        "start_time": "2022-12-03T06:32:38.875Z"
      },
      {
        "duration": 24,
        "start_time": "2022-12-03T06:34:28.313Z"
      },
      {
        "duration": 27,
        "start_time": "2022-12-03T06:35:19.986Z"
      },
      {
        "duration": 24,
        "start_time": "2022-12-03T06:35:59.157Z"
      },
      {
        "duration": 23,
        "start_time": "2022-12-03T06:37:15.276Z"
      },
      {
        "duration": 23,
        "start_time": "2022-12-03T06:37:39.801Z"
      },
      {
        "duration": 1326,
        "start_time": "2022-12-03T06:43:06.965Z"
      },
      {
        "duration": 1355,
        "start_time": "2022-12-03T06:43:23.604Z"
      },
      {
        "duration": 26,
        "start_time": "2022-12-03T06:44:50.488Z"
      },
      {
        "duration": 111,
        "start_time": "2022-12-03T06:46:27.857Z"
      },
      {
        "duration": 16,
        "start_time": "2022-12-03T06:46:59.661Z"
      },
      {
        "duration": 16,
        "start_time": "2022-12-03T06:47:12.689Z"
      },
      {
        "duration": 23,
        "start_time": "2022-12-03T06:48:28.694Z"
      },
      {
        "duration": 1382,
        "start_time": "2022-12-03T06:51:12.517Z"
      },
      {
        "duration": 11,
        "start_time": "2022-12-03T06:54:41.510Z"
      },
      {
        "duration": 12,
        "start_time": "2022-12-03T06:56:16.404Z"
      },
      {
        "duration": 19,
        "start_time": "2022-12-03T06:56:24.089Z"
      },
      {
        "duration": 18,
        "start_time": "2022-12-03T06:57:51.828Z"
      },
      {
        "duration": 11,
        "start_time": "2022-12-03T07:01:30.023Z"
      },
      {
        "duration": 17,
        "start_time": "2022-12-03T07:01:43.343Z"
      },
      {
        "duration": 18,
        "start_time": "2022-12-03T07:03:20.713Z"
      },
      {
        "duration": 32,
        "start_time": "2022-12-03T07:04:48.081Z"
      },
      {
        "duration": 1344,
        "start_time": "2022-12-03T07:05:01.739Z"
      },
      {
        "duration": 24,
        "start_time": "2022-12-03T07:06:38.433Z"
      },
      {
        "duration": 10,
        "start_time": "2022-12-03T07:06:58.447Z"
      },
      {
        "duration": 11,
        "start_time": "2022-12-03T07:07:14.737Z"
      },
      {
        "duration": 18,
        "start_time": "2022-12-03T07:08:17.907Z"
      },
      {
        "duration": 17,
        "start_time": "2022-12-03T07:08:21.147Z"
      },
      {
        "duration": 17,
        "start_time": "2022-12-03T07:09:16.631Z"
      },
      {
        "duration": 17,
        "start_time": "2022-12-03T07:09:38.389Z"
      },
      {
        "duration": 10,
        "start_time": "2022-12-03T07:10:37.665Z"
      },
      {
        "duration": 17,
        "start_time": "2022-12-03T07:10:44.439Z"
      },
      {
        "duration": 9,
        "start_time": "2022-12-03T07:12:25.778Z"
      },
      {
        "duration": 18,
        "start_time": "2022-12-03T07:13:15.157Z"
      },
      {
        "duration": 18,
        "start_time": "2022-12-03T07:13:49.198Z"
      },
      {
        "duration": 17,
        "start_time": "2022-12-03T07:15:23.115Z"
      },
      {
        "duration": 17,
        "start_time": "2022-12-03T07:16:50.787Z"
      },
      {
        "duration": 17,
        "start_time": "2022-12-03T07:16:59.561Z"
      },
      {
        "duration": 9,
        "start_time": "2022-12-03T07:19:25.261Z"
      },
      {
        "duration": 17,
        "start_time": "2022-12-03T07:19:54.387Z"
      },
      {
        "duration": 19,
        "start_time": "2022-12-03T07:21:17.356Z"
      },
      {
        "duration": 18,
        "start_time": "2022-12-03T07:22:22.990Z"
      },
      {
        "duration": 11,
        "start_time": "2022-12-03T07:23:41.391Z"
      },
      {
        "duration": 19,
        "start_time": "2022-12-03T07:23:46.599Z"
      },
      {
        "duration": 28,
        "start_time": "2022-12-03T07:23:59.571Z"
      },
      {
        "duration": 28,
        "start_time": "2022-12-03T07:25:58.708Z"
      },
      {
        "duration": 34,
        "start_time": "2022-12-03T07:28:06.680Z"
      },
      {
        "duration": 24,
        "start_time": "2022-12-03T07:29:42.069Z"
      },
      {
        "duration": 17,
        "start_time": "2022-12-03T07:29:47.896Z"
      },
      {
        "duration": 24,
        "start_time": "2022-12-03T07:30:14.153Z"
      },
      {
        "duration": 1329,
        "start_time": "2022-12-03T07:30:30.387Z"
      },
      {
        "duration": 1384,
        "start_time": "2022-12-03T07:31:35.616Z"
      },
      {
        "duration": 23,
        "start_time": "2022-12-03T07:37:50.254Z"
      },
      {
        "duration": 23,
        "start_time": "2022-12-03T07:38:34.444Z"
      },
      {
        "duration": 22,
        "start_time": "2022-12-03T07:40:11.948Z"
      },
      {
        "duration": 39,
        "start_time": "2022-12-03T15:49:29.799Z"
      },
      {
        "duration": 18,
        "start_time": "2022-12-03T15:49:38.935Z"
      },
      {
        "duration": 37,
        "start_time": "2022-12-03T15:49:46.303Z"
      },
      {
        "duration": 18,
        "start_time": "2022-12-03T15:50:30.584Z"
      },
      {
        "duration": 1209,
        "start_time": "2022-12-03T15:50:49.592Z"
      },
      {
        "duration": 753,
        "start_time": "2022-12-03T15:50:50.803Z"
      },
      {
        "duration": 18,
        "start_time": "2022-12-03T15:50:51.558Z"
      },
      {
        "duration": 300,
        "start_time": "2022-12-03T15:50:51.579Z"
      },
      {
        "duration": 45,
        "start_time": "2022-12-03T15:50:51.881Z"
      },
      {
        "duration": 200,
        "start_time": "2022-12-03T15:50:51.932Z"
      },
      {
        "duration": 82,
        "start_time": "2022-12-03T15:50:52.140Z"
      },
      {
        "duration": 117,
        "start_time": "2022-12-03T15:50:52.228Z"
      },
      {
        "duration": 258,
        "start_time": "2022-12-03T15:50:52.347Z"
      },
      {
        "duration": 35,
        "start_time": "2022-12-03T15:50:52.607Z"
      },
      {
        "duration": 201,
        "start_time": "2022-12-03T15:50:52.643Z"
      },
      {
        "duration": 12,
        "start_time": "2022-12-03T15:50:52.846Z"
      },
      {
        "duration": 12,
        "start_time": "2022-12-03T15:50:52.860Z"
      },
      {
        "duration": 57,
        "start_time": "2022-12-03T15:50:52.875Z"
      },
      {
        "duration": 25,
        "start_time": "2022-12-03T15:50:52.933Z"
      },
      {
        "duration": 28,
        "start_time": "2022-12-03T15:50:52.960Z"
      },
      {
        "duration": 42,
        "start_time": "2022-12-03T15:50:52.990Z"
      },
      {
        "duration": 1459,
        "start_time": "2022-12-03T15:50:53.035Z"
      },
      {
        "duration": 34,
        "start_time": "2022-12-03T15:50:54.496Z"
      },
      {
        "duration": 1429,
        "start_time": "2022-12-03T15:50:54.542Z"
      },
      {
        "duration": 24,
        "start_time": "2022-12-03T15:50:55.973Z"
      },
      {
        "duration": 197,
        "start_time": "2022-12-03T15:50:55.999Z"
      },
      {
        "duration": 11,
        "start_time": "2022-12-03T15:53:18.379Z"
      },
      {
        "duration": 29,
        "start_time": "2022-12-03T15:54:33.596Z"
      },
      {
        "duration": 27,
        "start_time": "2022-12-03T15:54:46.646Z"
      },
      {
        "duration": 19,
        "start_time": "2022-12-03T15:54:49.875Z"
      },
      {
        "duration": 27,
        "start_time": "2022-12-03T15:55:09.945Z"
      },
      {
        "duration": 26,
        "start_time": "2022-12-03T15:55:19.856Z"
      },
      {
        "duration": 1396,
        "start_time": "2022-12-03T15:55:36.744Z"
      },
      {
        "duration": 19,
        "start_time": "2022-12-03T15:56:40.002Z"
      },
      {
        "duration": 1403,
        "start_time": "2022-12-03T15:57:12.965Z"
      },
      {
        "duration": 1412,
        "start_time": "2022-12-03T15:57:44.253Z"
      },
      {
        "duration": 13,
        "start_time": "2022-12-03T15:58:48.850Z"
      },
      {
        "duration": 25,
        "start_time": "2022-12-03T15:59:04.554Z"
      },
      {
        "duration": 11,
        "start_time": "2022-12-03T15:59:37.248Z"
      },
      {
        "duration": 106,
        "start_time": "2022-12-03T16:01:57.132Z"
      },
      {
        "duration": 81,
        "start_time": "2022-12-03T16:04:00.645Z"
      },
      {
        "duration": 11,
        "start_time": "2022-12-03T16:08:51.944Z"
      },
      {
        "duration": 24,
        "start_time": "2022-12-03T16:09:02.610Z"
      },
      {
        "duration": 26,
        "start_time": "2022-12-03T16:09:52.620Z"
      },
      {
        "duration": 24,
        "start_time": "2022-12-03T16:11:11.498Z"
      },
      {
        "duration": 18,
        "start_time": "2022-12-03T16:11:55.106Z"
      },
      {
        "duration": 19,
        "start_time": "2022-12-03T16:12:13.511Z"
      },
      {
        "duration": 19,
        "start_time": "2022-12-03T16:12:29.041Z"
      },
      {
        "duration": 15,
        "start_time": "2022-12-03T16:13:43.239Z"
      },
      {
        "duration": 48,
        "start_time": "2022-12-03T16:18:16.969Z"
      },
      {
        "duration": 17,
        "start_time": "2022-12-03T16:20:10.604Z"
      },
      {
        "duration": 15,
        "start_time": "2022-12-03T16:20:37.851Z"
      },
      {
        "duration": 16,
        "start_time": "2022-12-03T16:27:18.242Z"
      },
      {
        "duration": 48,
        "start_time": "2022-12-03T16:27:55.458Z"
      },
      {
        "duration": 798,
        "start_time": "2022-12-03T16:29:01.406Z"
      },
      {
        "duration": 18,
        "start_time": "2022-12-03T16:30:23.544Z"
      },
      {
        "duration": 25,
        "start_time": "2022-12-03T16:30:53.145Z"
      },
      {
        "duration": 26,
        "start_time": "2022-12-03T16:31:06.406Z"
      },
      {
        "duration": 21,
        "start_time": "2022-12-03T16:32:10.307Z"
      },
      {
        "duration": 246,
        "start_time": "2022-12-03T16:35:29.337Z"
      },
      {
        "duration": 227,
        "start_time": "2022-12-03T16:37:04.969Z"
      },
      {
        "duration": 41,
        "start_time": "2022-12-03T16:41:12.844Z"
      },
      {
        "duration": 36,
        "start_time": "2022-12-03T16:41:31.875Z"
      },
      {
        "duration": 299,
        "start_time": "2022-12-03T16:57:19.523Z"
      },
      {
        "duration": 221,
        "start_time": "2022-12-03T16:57:53.965Z"
      },
      {
        "duration": 211,
        "start_time": "2022-12-03T16:58:18.861Z"
      },
      {
        "duration": 257,
        "start_time": "2022-12-03T16:59:17.587Z"
      },
      {
        "duration": 44,
        "start_time": "2022-12-03T17:02:37.354Z"
      },
      {
        "duration": 272,
        "start_time": "2022-12-03T17:02:47.344Z"
      },
      {
        "duration": 258,
        "start_time": "2022-12-03T17:03:10.329Z"
      },
      {
        "duration": 268,
        "start_time": "2022-12-03T17:14:12.080Z"
      },
      {
        "duration": 262,
        "start_time": "2022-12-03T17:17:27.910Z"
      },
      {
        "duration": 1098,
        "start_time": "2022-12-03T17:18:05.208Z"
      },
      {
        "duration": 620,
        "start_time": "2022-12-03T17:18:06.307Z"
      },
      {
        "duration": 21,
        "start_time": "2022-12-03T17:18:06.929Z"
      },
      {
        "duration": 220,
        "start_time": "2022-12-03T17:18:06.953Z"
      },
      {
        "duration": 100,
        "start_time": "2022-12-03T17:18:07.174Z"
      },
      {
        "duration": 141,
        "start_time": "2022-12-03T17:18:07.276Z"
      },
      {
        "duration": 131,
        "start_time": "2022-12-03T17:18:07.419Z"
      },
      {
        "duration": 19,
        "start_time": "2022-12-03T17:18:07.552Z"
      },
      {
        "duration": 7,
        "start_time": "2022-12-03T17:18:07.613Z"
      },
      {
        "duration": 4,
        "start_time": "2022-12-03T17:18:07.713Z"
      },
      {
        "duration": 14,
        "start_time": "2022-12-03T17:18:07.719Z"
      },
      {
        "duration": 30,
        "start_time": "2022-12-03T17:18:07.735Z"
      },
      {
        "duration": 49,
        "start_time": "2022-12-03T17:18:07.767Z"
      },
      {
        "duration": 30,
        "start_time": "2022-12-03T17:18:07.818Z"
      },
      {
        "duration": 134,
        "start_time": "2022-12-03T17:18:07.851Z"
      },
      {
        "duration": 0,
        "start_time": "2022-12-03T17:18:07.986Z"
      },
      {
        "duration": 0,
        "start_time": "2022-12-03T17:18:07.988Z"
      },
      {
        "duration": 0,
        "start_time": "2022-12-03T17:18:07.989Z"
      },
      {
        "duration": 0,
        "start_time": "2022-12-03T17:18:07.990Z"
      },
      {
        "duration": 0,
        "start_time": "2022-12-03T17:18:07.993Z"
      },
      {
        "duration": 286,
        "start_time": "2022-12-03T17:20:03.590Z"
      },
      {
        "duration": 1089,
        "start_time": "2022-12-04T06:31:48.371Z"
      },
      {
        "duration": 884,
        "start_time": "2022-12-04T06:31:49.463Z"
      },
      {
        "duration": 18,
        "start_time": "2022-12-04T06:31:50.349Z"
      },
      {
        "duration": 213,
        "start_time": "2022-12-04T06:31:50.369Z"
      },
      {
        "duration": 75,
        "start_time": "2022-12-04T06:31:50.612Z"
      },
      {
        "duration": 34,
        "start_time": "2022-12-04T06:31:50.688Z"
      },
      {
        "duration": 260,
        "start_time": "2022-12-04T06:31:50.724Z"
      },
      {
        "duration": 38,
        "start_time": "2022-12-04T06:31:50.987Z"
      },
      {
        "duration": 4,
        "start_time": "2022-12-04T06:31:51.111Z"
      },
      {
        "duration": 101,
        "start_time": "2022-12-04T06:31:51.119Z"
      },
      {
        "duration": 25,
        "start_time": "2022-12-04T06:31:51.221Z"
      },
      {
        "duration": 33,
        "start_time": "2022-12-04T06:31:51.248Z"
      },
      {
        "duration": 36,
        "start_time": "2022-12-04T06:31:51.283Z"
      },
      {
        "duration": 39,
        "start_time": "2022-12-04T06:31:51.321Z"
      },
      {
        "duration": 151,
        "start_time": "2022-12-04T06:31:51.363Z"
      },
      {
        "duration": 0,
        "start_time": "2022-12-04T06:31:51.516Z"
      },
      {
        "duration": 0,
        "start_time": "2022-12-04T06:31:51.517Z"
      },
      {
        "duration": 0,
        "start_time": "2022-12-04T06:31:51.519Z"
      },
      {
        "duration": 0,
        "start_time": "2022-12-04T06:31:51.520Z"
      },
      {
        "duration": 0,
        "start_time": "2022-12-04T06:31:51.522Z"
      },
      {
        "duration": 260,
        "start_time": "2022-12-04T06:37:45.206Z"
      },
      {
        "duration": 255,
        "start_time": "2022-12-04T06:47:10.910Z"
      },
      {
        "duration": 203,
        "start_time": "2022-12-04T06:47:22.564Z"
      },
      {
        "duration": 236,
        "start_time": "2022-12-04T06:49:36.834Z"
      },
      {
        "duration": 248,
        "start_time": "2022-12-04T06:51:05.135Z"
      },
      {
        "duration": 230,
        "start_time": "2022-12-04T07:08:55.458Z"
      },
      {
        "duration": 204,
        "start_time": "2022-12-04T07:10:14.558Z"
      },
      {
        "duration": 13,
        "start_time": "2022-12-04T08:05:55.546Z"
      },
      {
        "duration": 19,
        "start_time": "2022-12-04T08:08:33.880Z"
      },
      {
        "duration": 25,
        "start_time": "2022-12-04T08:08:59.889Z"
      },
      {
        "duration": 26,
        "start_time": "2022-12-04T08:10:28.337Z"
      },
      {
        "duration": 73,
        "start_time": "2022-12-04T08:17:33.141Z"
      },
      {
        "duration": 91,
        "start_time": "2022-12-04T08:18:02.930Z"
      },
      {
        "duration": 42,
        "start_time": "2022-12-04T08:19:23.975Z"
      },
      {
        "duration": 1120,
        "start_time": "2022-12-04T08:19:56.787Z"
      },
      {
        "duration": 613,
        "start_time": "2022-12-04T08:19:57.909Z"
      },
      {
        "duration": 18,
        "start_time": "2022-12-04T08:19:58.523Z"
      },
      {
        "duration": 251,
        "start_time": "2022-12-04T08:19:58.544Z"
      },
      {
        "duration": 0,
        "start_time": "2022-12-04T08:19:58.797Z"
      },
      {
        "duration": 0,
        "start_time": "2022-12-04T08:19:58.798Z"
      },
      {
        "duration": 0,
        "start_time": "2022-12-04T08:19:58.812Z"
      },
      {
        "duration": 0,
        "start_time": "2022-12-04T08:19:58.813Z"
      },
      {
        "duration": 0,
        "start_time": "2022-12-04T08:19:58.814Z"
      },
      {
        "duration": 0,
        "start_time": "2022-12-04T08:19:58.815Z"
      },
      {
        "duration": 0,
        "start_time": "2022-12-04T08:19:58.816Z"
      },
      {
        "duration": 0,
        "start_time": "2022-12-04T08:19:58.817Z"
      },
      {
        "duration": 0,
        "start_time": "2022-12-04T08:19:58.819Z"
      },
      {
        "duration": 0,
        "start_time": "2022-12-04T08:19:58.820Z"
      },
      {
        "duration": 0,
        "start_time": "2022-12-04T08:19:58.821Z"
      },
      {
        "duration": 0,
        "start_time": "2022-12-04T08:19:58.823Z"
      },
      {
        "duration": 0,
        "start_time": "2022-12-04T08:19:58.824Z"
      },
      {
        "duration": 0,
        "start_time": "2022-12-04T08:19:58.824Z"
      },
      {
        "duration": 0,
        "start_time": "2022-12-04T08:19:58.826Z"
      },
      {
        "duration": 0,
        "start_time": "2022-12-04T08:19:58.827Z"
      },
      {
        "duration": 56,
        "start_time": "2022-12-04T08:21:03.161Z"
      },
      {
        "duration": 94,
        "start_time": "2022-12-04T08:21:42.320Z"
      },
      {
        "duration": 1124,
        "start_time": "2022-12-04T08:22:57.472Z"
      },
      {
        "duration": 601,
        "start_time": "2022-12-04T08:22:58.598Z"
      },
      {
        "duration": 25,
        "start_time": "2022-12-04T08:22:59.202Z"
      },
      {
        "duration": 271,
        "start_time": "2022-12-04T08:22:59.230Z"
      },
      {
        "duration": 0,
        "start_time": "2022-12-04T08:22:59.502Z"
      },
      {
        "duration": 0,
        "start_time": "2022-12-04T08:22:59.503Z"
      },
      {
        "duration": 0,
        "start_time": "2022-12-04T08:22:59.504Z"
      },
      {
        "duration": 0,
        "start_time": "2022-12-04T08:22:59.504Z"
      },
      {
        "duration": 0,
        "start_time": "2022-12-04T08:22:59.505Z"
      },
      {
        "duration": 0,
        "start_time": "2022-12-04T08:22:59.506Z"
      },
      {
        "duration": 0,
        "start_time": "2022-12-04T08:22:59.513Z"
      },
      {
        "duration": 0,
        "start_time": "2022-12-04T08:22:59.514Z"
      },
      {
        "duration": 0,
        "start_time": "2022-12-04T08:22:59.515Z"
      },
      {
        "duration": 0,
        "start_time": "2022-12-04T08:22:59.516Z"
      },
      {
        "duration": 0,
        "start_time": "2022-12-04T08:22:59.517Z"
      },
      {
        "duration": 0,
        "start_time": "2022-12-04T08:22:59.519Z"
      },
      {
        "duration": 0,
        "start_time": "2022-12-04T08:22:59.520Z"
      },
      {
        "duration": 0,
        "start_time": "2022-12-04T08:22:59.521Z"
      },
      {
        "duration": 0,
        "start_time": "2022-12-04T08:22:59.522Z"
      },
      {
        "duration": 0,
        "start_time": "2022-12-04T08:22:59.523Z"
      },
      {
        "duration": 127,
        "start_time": "2022-12-04T08:24:59.298Z"
      },
      {
        "duration": 1098,
        "start_time": "2022-12-04T08:25:13.815Z"
      },
      {
        "duration": 622,
        "start_time": "2022-12-04T08:25:14.915Z"
      },
      {
        "duration": 20,
        "start_time": "2022-12-04T08:25:15.539Z"
      },
      {
        "duration": 214,
        "start_time": "2022-12-04T08:25:15.562Z"
      },
      {
        "duration": 101,
        "start_time": "2022-12-04T08:25:15.778Z"
      },
      {
        "duration": 34,
        "start_time": "2022-12-04T08:25:15.880Z"
      },
      {
        "duration": 255,
        "start_time": "2022-12-04T08:25:15.916Z"
      },
      {
        "duration": 141,
        "start_time": "2022-12-04T08:25:16.172Z"
      },
      {
        "duration": 3,
        "start_time": "2022-12-04T08:25:16.315Z"
      },
      {
        "duration": 13,
        "start_time": "2022-12-04T08:25:16.321Z"
      },
      {
        "duration": 87,
        "start_time": "2022-12-04T08:25:16.336Z"
      },
      {
        "duration": 38,
        "start_time": "2022-12-04T08:25:16.425Z"
      },
      {
        "duration": 55,
        "start_time": "2022-12-04T08:25:16.465Z"
      },
      {
        "duration": 38,
        "start_time": "2022-12-04T08:25:16.522Z"
      },
      {
        "duration": 142,
        "start_time": "2022-12-04T08:25:16.563Z"
      },
      {
        "duration": 0,
        "start_time": "2022-12-04T08:25:16.707Z"
      },
      {
        "duration": 1,
        "start_time": "2022-12-04T08:25:16.707Z"
      },
      {
        "duration": 0,
        "start_time": "2022-12-04T08:25:16.708Z"
      },
      {
        "duration": 0,
        "start_time": "2022-12-04T08:25:16.712Z"
      },
      {
        "duration": 0,
        "start_time": "2022-12-04T08:25:16.713Z"
      },
      {
        "duration": 16,
        "start_time": "2022-12-04T08:28:01.005Z"
      },
      {
        "duration": 14,
        "start_time": "2022-12-04T08:29:35.182Z"
      },
      {
        "duration": 24,
        "start_time": "2022-12-04T08:29:57.522Z"
      },
      {
        "duration": 661,
        "start_time": "2022-12-04T08:32:39.858Z"
      },
      {
        "duration": 12,
        "start_time": "2022-12-04T08:33:35.976Z"
      },
      {
        "duration": 11,
        "start_time": "2022-12-04T08:34:17.276Z"
      },
      {
        "duration": 44,
        "start_time": "2022-12-04T08:35:11.781Z"
      },
      {
        "duration": 50,
        "start_time": "2022-12-04T08:35:52.366Z"
      },
      {
        "duration": 1452,
        "start_time": "2022-12-04T08:36:29.700Z"
      },
      {
        "duration": 1129,
        "start_time": "2022-12-04T09:42:39.675Z"
      },
      {
        "duration": 609,
        "start_time": "2022-12-04T09:42:40.806Z"
      },
      {
        "duration": 20,
        "start_time": "2022-12-04T09:42:41.417Z"
      },
      {
        "duration": 230,
        "start_time": "2022-12-04T09:42:41.439Z"
      },
      {
        "duration": 91,
        "start_time": "2022-12-04T09:42:41.672Z"
      },
      {
        "duration": 51,
        "start_time": "2022-12-04T09:42:41.765Z"
      },
      {
        "duration": 160,
        "start_time": "2022-12-04T09:42:41.818Z"
      },
      {
        "duration": 38,
        "start_time": "2022-12-04T09:42:41.980Z"
      },
      {
        "duration": 4,
        "start_time": "2022-12-04T09:42:42.019Z"
      },
      {
        "duration": 17,
        "start_time": "2022-12-04T09:42:42.113Z"
      },
      {
        "duration": 16,
        "start_time": "2022-12-04T09:42:42.131Z"
      },
      {
        "duration": 92,
        "start_time": "2022-12-04T09:42:42.149Z"
      },
      {
        "duration": 24,
        "start_time": "2022-12-04T09:42:42.243Z"
      },
      {
        "duration": 52,
        "start_time": "2022-12-04T09:42:42.268Z"
      },
      {
        "duration": 10,
        "start_time": "2022-12-04T09:42:42.322Z"
      },
      {
        "duration": 1477,
        "start_time": "2022-12-04T09:42:42.334Z"
      },
      {
        "duration": 112,
        "start_time": "2022-12-04T09:42:43.813Z"
      },
      {
        "duration": 0,
        "start_time": "2022-12-04T09:42:43.927Z"
      },
      {
        "duration": 0,
        "start_time": "2022-12-04T09:42:43.928Z"
      },
      {
        "duration": 0,
        "start_time": "2022-12-04T09:42:43.929Z"
      },
      {
        "duration": 11,
        "start_time": "2022-12-04T09:47:12.003Z"
      },
      {
        "duration": 10,
        "start_time": "2022-12-04T09:47:20.791Z"
      },
      {
        "duration": 1559,
        "start_time": "2022-12-04T09:47:33.052Z"
      },
      {
        "duration": 11,
        "start_time": "2022-12-04T09:48:04.473Z"
      },
      {
        "duration": 1521,
        "start_time": "2022-12-04T09:48:13.102Z"
      },
      {
        "duration": 1260,
        "start_time": "2022-12-04T14:12:51.457Z"
      },
      {
        "duration": 1896,
        "start_time": "2022-12-04T14:12:52.719Z"
      },
      {
        "duration": 20,
        "start_time": "2022-12-04T14:12:54.617Z"
      },
      {
        "duration": 326,
        "start_time": "2022-12-04T14:12:54.640Z"
      },
      {
        "duration": 89,
        "start_time": "2022-12-04T14:12:54.967Z"
      },
      {
        "duration": 196,
        "start_time": "2022-12-04T14:12:55.057Z"
      },
      {
        "duration": 79,
        "start_time": "2022-12-04T14:12:55.255Z"
      },
      {
        "duration": 31,
        "start_time": "2022-12-04T14:12:55.336Z"
      },
      {
        "duration": 4,
        "start_time": "2022-12-04T14:12:55.369Z"
      },
      {
        "duration": 188,
        "start_time": "2022-12-04T14:12:55.376Z"
      },
      {
        "duration": 17,
        "start_time": "2022-12-04T14:12:55.565Z"
      },
      {
        "duration": 29,
        "start_time": "2022-12-04T14:12:55.584Z"
      },
      {
        "duration": 22,
        "start_time": "2022-12-04T14:12:55.614Z"
      },
      {
        "duration": 32,
        "start_time": "2022-12-04T14:12:55.652Z"
      },
      {
        "duration": 10,
        "start_time": "2022-12-04T14:12:55.685Z"
      },
      {
        "duration": 1359,
        "start_time": "2022-12-04T14:12:55.698Z"
      },
      {
        "duration": 113,
        "start_time": "2022-12-04T14:12:57.059Z"
      },
      {
        "duration": 0,
        "start_time": "2022-12-04T14:12:57.174Z"
      },
      {
        "duration": 0,
        "start_time": "2022-12-04T14:12:57.175Z"
      },
      {
        "duration": 0,
        "start_time": "2022-12-04T14:12:57.177Z"
      },
      {
        "duration": 264,
        "start_time": "2022-12-04T14:14:39.825Z"
      },
      {
        "duration": 259,
        "start_time": "2022-12-04T14:20:54.521Z"
      },
      {
        "duration": 182,
        "start_time": "2022-12-04T14:22:24.612Z"
      },
      {
        "duration": 248,
        "start_time": "2022-12-04T14:23:36.646Z"
      },
      {
        "duration": 70,
        "start_time": "2022-12-04T14:24:20.453Z"
      },
      {
        "duration": 203,
        "start_time": "2022-12-04T14:24:37.892Z"
      },
      {
        "duration": 249,
        "start_time": "2022-12-04T14:30:33.545Z"
      },
      {
        "duration": 239,
        "start_time": "2022-12-04T14:32:27.166Z"
      },
      {
        "duration": 190,
        "start_time": "2022-12-04T14:37:32.212Z"
      },
      {
        "duration": 247,
        "start_time": "2022-12-04T14:37:57.964Z"
      },
      {
        "duration": 257,
        "start_time": "2022-12-04T14:38:17.640Z"
      },
      {
        "duration": 2,
        "start_time": "2022-12-04T14:38:46.295Z"
      },
      {
        "duration": 9,
        "start_time": "2022-12-04T14:54:25.677Z"
      },
      {
        "duration": 71,
        "start_time": "2022-12-04T14:55:33.581Z"
      },
      {
        "duration": 9,
        "start_time": "2022-12-04T14:56:01.314Z"
      },
      {
        "duration": 1221,
        "start_time": "2022-12-04T14:59:56.297Z"
      },
      {
        "duration": 0,
        "start_time": "2022-12-04T14:59:57.519Z"
      },
      {
        "duration": 1223,
        "start_time": "2022-12-04T15:00:07.171Z"
      },
      {
        "duration": 1239,
        "start_time": "2022-12-04T15:00:31.394Z"
      },
      {
        "duration": 1292,
        "start_time": "2022-12-04T15:00:49.652Z"
      },
      {
        "duration": 1242,
        "start_time": "2022-12-04T15:03:40.551Z"
      },
      {
        "duration": 1235,
        "start_time": "2022-12-04T15:03:56.796Z"
      },
      {
        "duration": 1276,
        "start_time": "2022-12-04T15:06:08.626Z"
      },
      {
        "duration": 8,
        "start_time": "2022-12-04T15:06:52.535Z"
      },
      {
        "duration": 1236,
        "start_time": "2022-12-04T15:07:13.179Z"
      },
      {
        "duration": 14,
        "start_time": "2022-12-04T15:18:16.871Z"
      },
      {
        "duration": 8,
        "start_time": "2022-12-04T15:18:26.666Z"
      },
      {
        "duration": 442,
        "start_time": "2022-12-04T15:20:03.167Z"
      },
      {
        "duration": 1262,
        "start_time": "2022-12-04T15:59:30.516Z"
      },
      {
        "duration": 70,
        "start_time": "2022-12-04T16:01:00.740Z"
      },
      {
        "duration": 5,
        "start_time": "2022-12-04T16:05:35.074Z"
      },
      {
        "duration": 5,
        "start_time": "2022-12-04T16:07:06.763Z"
      },
      {
        "duration": 7,
        "start_time": "2022-12-04T16:08:05.905Z"
      },
      {
        "duration": 9,
        "start_time": "2022-12-04T16:09:47.706Z"
      },
      {
        "duration": 9,
        "start_time": "2022-12-04T16:12:15.678Z"
      },
      {
        "duration": 1039,
        "start_time": "2022-12-04T16:14:41.165Z"
      },
      {
        "duration": 578,
        "start_time": "2022-12-04T16:14:42.205Z"
      },
      {
        "duration": 17,
        "start_time": "2022-12-04T16:14:42.784Z"
      },
      {
        "duration": 197,
        "start_time": "2022-12-04T16:14:42.803Z"
      },
      {
        "duration": 94,
        "start_time": "2022-12-04T16:14:43.001Z"
      },
      {
        "duration": 201,
        "start_time": "2022-12-04T16:14:43.097Z"
      },
      {
        "duration": 84,
        "start_time": "2022-12-04T16:14:43.300Z"
      },
      {
        "duration": 212,
        "start_time": "2022-12-04T16:14:43.386Z"
      },
      {
        "duration": 2,
        "start_time": "2022-12-04T16:14:43.599Z"
      },
      {
        "duration": 8,
        "start_time": "2022-12-04T16:14:43.604Z"
      },
      {
        "duration": 10,
        "start_time": "2022-12-04T16:14:43.614Z"
      },
      {
        "duration": 51,
        "start_time": "2022-12-04T16:14:43.626Z"
      },
      {
        "duration": 22,
        "start_time": "2022-12-04T16:14:43.679Z"
      },
      {
        "duration": 29,
        "start_time": "2022-12-04T16:14:43.703Z"
      },
      {
        "duration": 25,
        "start_time": "2022-12-04T16:14:43.733Z"
      },
      {
        "duration": 1316,
        "start_time": "2022-12-04T16:14:43.760Z"
      },
      {
        "duration": 8,
        "start_time": "2022-12-04T16:14:45.078Z"
      },
      {
        "duration": 1261,
        "start_time": "2022-12-04T16:14:45.088Z"
      },
      {
        "duration": 9,
        "start_time": "2022-12-04T16:14:46.352Z"
      },
      {
        "duration": 1364,
        "start_time": "2022-12-04T16:14:46.362Z"
      },
      {
        "duration": 7,
        "start_time": "2022-12-04T16:14:47.728Z"
      },
      {
        "duration": 7,
        "start_time": "2022-12-04T16:34:15.222Z"
      },
      {
        "duration": 1079,
        "start_time": "2022-12-04T17:02:29.982Z"
      },
      {
        "duration": 589,
        "start_time": "2022-12-04T17:02:31.063Z"
      },
      {
        "duration": 20,
        "start_time": "2022-12-04T17:02:31.656Z"
      },
      {
        "duration": 236,
        "start_time": "2022-12-04T17:02:31.677Z"
      },
      {
        "duration": 102,
        "start_time": "2022-12-04T17:02:31.915Z"
      },
      {
        "duration": 252,
        "start_time": "2022-12-04T17:02:32.019Z"
      },
      {
        "duration": 83,
        "start_time": "2022-12-04T17:02:32.273Z"
      },
      {
        "duration": 251,
        "start_time": "2022-12-04T17:02:32.357Z"
      },
      {
        "duration": 3,
        "start_time": "2022-12-04T17:02:32.610Z"
      },
      {
        "duration": 8,
        "start_time": "2022-12-04T17:02:32.614Z"
      },
      {
        "duration": 31,
        "start_time": "2022-12-04T17:02:32.624Z"
      },
      {
        "duration": 29,
        "start_time": "2022-12-04T17:02:32.656Z"
      },
      {
        "duration": 23,
        "start_time": "2022-12-04T17:02:32.686Z"
      },
      {
        "duration": 47,
        "start_time": "2022-12-04T17:02:32.711Z"
      },
      {
        "duration": 10,
        "start_time": "2022-12-04T17:02:32.759Z"
      },
      {
        "duration": 1305,
        "start_time": "2022-12-04T17:02:32.771Z"
      },
      {
        "duration": 7,
        "start_time": "2022-12-04T17:02:34.078Z"
      },
      {
        "duration": 1304,
        "start_time": "2022-12-04T17:02:34.087Z"
      },
      {
        "duration": 8,
        "start_time": "2022-12-04T17:02:35.393Z"
      },
      {
        "duration": 1277,
        "start_time": "2022-12-04T17:02:35.403Z"
      },
      {
        "duration": 8,
        "start_time": "2022-12-04T17:02:36.681Z"
      },
      {
        "duration": 55,
        "start_time": "2022-12-05T07:05:46.507Z"
      },
      {
        "duration": 1046,
        "start_time": "2022-12-05T07:06:07.143Z"
      },
      {
        "duration": 822,
        "start_time": "2022-12-05T07:06:08.191Z"
      },
      {
        "duration": 18,
        "start_time": "2022-12-05T07:06:09.015Z"
      },
      {
        "duration": 216,
        "start_time": "2022-12-05T07:06:09.035Z"
      },
      {
        "duration": 93,
        "start_time": "2022-12-05T07:06:09.252Z"
      },
      {
        "duration": 208,
        "start_time": "2022-12-05T07:06:09.347Z"
      },
      {
        "duration": 90,
        "start_time": "2022-12-05T07:06:09.556Z"
      },
      {
        "duration": 195,
        "start_time": "2022-12-05T07:06:09.648Z"
      },
      {
        "duration": 2,
        "start_time": "2022-12-05T07:06:09.845Z"
      },
      {
        "duration": 9,
        "start_time": "2022-12-05T07:06:09.850Z"
      },
      {
        "duration": 14,
        "start_time": "2022-12-05T07:06:09.861Z"
      },
      {
        "duration": 39,
        "start_time": "2022-12-05T07:06:09.897Z"
      },
      {
        "duration": 27,
        "start_time": "2022-12-05T07:06:09.937Z"
      },
      {
        "duration": 52,
        "start_time": "2022-12-05T07:06:09.966Z"
      },
      {
        "duration": 11,
        "start_time": "2022-12-05T07:06:10.020Z"
      },
      {
        "duration": 1381,
        "start_time": "2022-12-05T07:06:10.032Z"
      },
      {
        "duration": 8,
        "start_time": "2022-12-05T07:06:11.415Z"
      },
      {
        "duration": 1365,
        "start_time": "2022-12-05T07:06:11.425Z"
      },
      {
        "duration": 9,
        "start_time": "2022-12-05T07:06:12.796Z"
      },
      {
        "duration": 1331,
        "start_time": "2022-12-05T07:06:12.807Z"
      },
      {
        "duration": 8,
        "start_time": "2022-12-05T07:06:14.140Z"
      },
      {
        "duration": 1345,
        "start_time": "2022-12-05T07:10:41.054Z"
      },
      {
        "duration": 108,
        "start_time": "2022-12-05T07:16:32.280Z"
      },
      {
        "duration": 15,
        "start_time": "2022-12-05T07:16:52.234Z"
      },
      {
        "duration": 14,
        "start_time": "2022-12-05T07:17:12.039Z"
      },
      {
        "duration": 1454,
        "start_time": "2022-12-05T07:19:18.804Z"
      },
      {
        "duration": 1383,
        "start_time": "2022-12-05T07:19:56.142Z"
      },
      {
        "duration": 1418,
        "start_time": "2022-12-05T07:20:33.673Z"
      },
      {
        "duration": 5594,
        "start_time": "2022-12-05T07:22:13.258Z"
      },
      {
        "duration": 5506,
        "start_time": "2022-12-05T07:23:16.484Z"
      },
      {
        "duration": 5526,
        "start_time": "2022-12-05T07:23:36.565Z"
      },
      {
        "duration": 2287,
        "start_time": "2022-12-05T07:25:17.311Z"
      },
      {
        "duration": 2232,
        "start_time": "2022-12-05T07:26:08.058Z"
      },
      {
        "duration": 2247,
        "start_time": "2022-12-05T07:27:51.549Z"
      },
      {
        "duration": 2246,
        "start_time": "2022-12-05T07:28:26.953Z"
      },
      {
        "duration": 2239,
        "start_time": "2022-12-05T07:30:12.061Z"
      },
      {
        "duration": 1089,
        "start_time": "2022-12-05T08:10:27.988Z"
      },
      {
        "duration": 590,
        "start_time": "2022-12-05T08:10:29.079Z"
      },
      {
        "duration": 34,
        "start_time": "2022-12-05T08:10:29.673Z"
      },
      {
        "duration": 243,
        "start_time": "2022-12-05T08:10:29.709Z"
      },
      {
        "duration": 97,
        "start_time": "2022-12-05T08:10:29.954Z"
      },
      {
        "duration": 195,
        "start_time": "2022-12-05T08:10:30.053Z"
      },
      {
        "duration": 115,
        "start_time": "2022-12-05T08:10:30.249Z"
      },
      {
        "duration": 275,
        "start_time": "2022-12-05T08:10:30.366Z"
      },
      {
        "duration": 3,
        "start_time": "2022-12-05T08:10:30.645Z"
      },
      {
        "duration": 20,
        "start_time": "2022-12-05T08:10:30.650Z"
      },
      {
        "duration": 24,
        "start_time": "2022-12-05T08:10:30.672Z"
      },
      {
        "duration": 51,
        "start_time": "2022-12-05T08:10:30.697Z"
      },
      {
        "duration": 22,
        "start_time": "2022-12-05T08:10:30.750Z"
      },
      {
        "duration": 35,
        "start_time": "2022-12-05T08:10:30.774Z"
      },
      {
        "duration": 22,
        "start_time": "2022-12-05T08:10:30.811Z"
      },
      {
        "duration": 2329,
        "start_time": "2022-12-05T08:10:30.834Z"
      },
      {
        "duration": 10,
        "start_time": "2022-12-05T08:10:33.164Z"
      },
      {
        "duration": 1376,
        "start_time": "2022-12-05T08:10:33.176Z"
      },
      {
        "duration": 8,
        "start_time": "2022-12-05T08:10:34.554Z"
      },
      {
        "duration": 1445,
        "start_time": "2022-12-05T08:10:34.564Z"
      },
      {
        "duration": 11,
        "start_time": "2022-12-05T08:10:36.011Z"
      },
      {
        "duration": 2333,
        "start_time": "2022-12-05T08:11:54.739Z"
      },
      {
        "duration": 2277,
        "start_time": "2022-12-05T08:17:16.773Z"
      },
      {
        "duration": 2236,
        "start_time": "2022-12-05T08:18:56.935Z"
      },
      {
        "duration": 10,
        "start_time": "2022-12-05T08:19:10.398Z"
      },
      {
        "duration": 2381,
        "start_time": "2022-12-05T08:19:13.830Z"
      },
      {
        "duration": 51,
        "start_time": "2022-12-05T08:29:11.163Z"
      },
      {
        "duration": 2294,
        "start_time": "2022-12-05T08:33:51.843Z"
      },
      {
        "duration": 1229,
        "start_time": "2022-12-05T08:34:09.625Z"
      },
      {
        "duration": 640,
        "start_time": "2022-12-05T08:34:10.856Z"
      },
      {
        "duration": 18,
        "start_time": "2022-12-05T08:34:11.499Z"
      },
      {
        "duration": 235,
        "start_time": "2022-12-05T08:34:11.519Z"
      },
      {
        "duration": 95,
        "start_time": "2022-12-05T08:34:11.756Z"
      },
      {
        "duration": 191,
        "start_time": "2022-12-05T08:34:11.853Z"
      },
      {
        "duration": 107,
        "start_time": "2022-12-05T08:34:12.046Z"
      },
      {
        "duration": 207,
        "start_time": "2022-12-05T08:34:12.155Z"
      },
      {
        "duration": 3,
        "start_time": "2022-12-05T08:34:12.364Z"
      },
      {
        "duration": 6,
        "start_time": "2022-12-05T08:34:12.398Z"
      },
      {
        "duration": 13,
        "start_time": "2022-12-05T08:34:12.406Z"
      },
      {
        "duration": 34,
        "start_time": "2022-12-05T08:34:12.421Z"
      },
      {
        "duration": 48,
        "start_time": "2022-12-05T08:34:12.456Z"
      },
      {
        "duration": 30,
        "start_time": "2022-12-05T08:34:12.505Z"
      },
      {
        "duration": 11,
        "start_time": "2022-12-05T08:34:12.537Z"
      },
      {
        "duration": 2448,
        "start_time": "2022-12-05T08:34:12.549Z"
      },
      {
        "duration": 11,
        "start_time": "2022-12-05T08:34:14.998Z"
      },
      {
        "duration": 2409,
        "start_time": "2022-12-05T08:34:15.010Z"
      },
      {
        "duration": 9,
        "start_time": "2022-12-05T08:34:17.420Z"
      },
      {
        "duration": 2291,
        "start_time": "2022-12-05T08:34:17.431Z"
      },
      {
        "duration": 9,
        "start_time": "2022-12-05T08:34:19.724Z"
      },
      {
        "duration": 50,
        "start_time": "2022-12-05T08:35:55.641Z"
      },
      {
        "duration": 10,
        "start_time": "2022-12-05T08:38:52.322Z"
      },
      {
        "duration": 9,
        "start_time": "2022-12-05T08:39:45.109Z"
      },
      {
        "duration": 11,
        "start_time": "2022-12-05T08:40:44.845Z"
      },
      {
        "duration": 13,
        "start_time": "2022-12-05T08:41:34.504Z"
      },
      {
        "duration": 20,
        "start_time": "2022-12-05T08:42:46.145Z"
      },
      {
        "duration": 1064,
        "start_time": "2022-12-05T08:43:12.294Z"
      },
      {
        "duration": 564,
        "start_time": "2022-12-05T08:43:13.360Z"
      },
      {
        "duration": 20,
        "start_time": "2022-12-05T08:43:13.926Z"
      },
      {
        "duration": 200,
        "start_time": "2022-12-05T08:43:13.949Z"
      },
      {
        "duration": 105,
        "start_time": "2022-12-05T08:43:14.150Z"
      },
      {
        "duration": 184,
        "start_time": "2022-12-05T08:43:14.256Z"
      },
      {
        "duration": 104,
        "start_time": "2022-12-05T08:43:14.441Z"
      },
      {
        "duration": 206,
        "start_time": "2022-12-05T08:43:14.546Z"
      },
      {
        "duration": 2,
        "start_time": "2022-12-05T08:43:14.754Z"
      },
      {
        "duration": 21,
        "start_time": "2022-12-05T08:43:14.759Z"
      },
      {
        "duration": 21,
        "start_time": "2022-12-05T08:43:14.782Z"
      },
      {
        "duration": 40,
        "start_time": "2022-12-05T08:43:14.804Z"
      },
      {
        "duration": 22,
        "start_time": "2022-12-05T08:43:14.846Z"
      },
      {
        "duration": 42,
        "start_time": "2022-12-05T08:43:14.870Z"
      },
      {
        "duration": 10,
        "start_time": "2022-12-05T08:43:14.914Z"
      },
      {
        "duration": 2360,
        "start_time": "2022-12-05T08:43:14.926Z"
      },
      {
        "duration": 14,
        "start_time": "2022-12-05T08:43:17.288Z"
      },
      {
        "duration": 2259,
        "start_time": "2022-12-05T08:43:17.304Z"
      },
      {
        "duration": 9,
        "start_time": "2022-12-05T08:43:19.565Z"
      },
      {
        "duration": 2271,
        "start_time": "2022-12-05T08:43:19.576Z"
      },
      {
        "duration": 17,
        "start_time": "2022-12-05T08:43:21.850Z"
      },
      {
        "duration": 54,
        "start_time": "2022-12-05T08:45:21.283Z"
      },
      {
        "duration": 1032,
        "start_time": "2022-12-05T08:45:54.259Z"
      },
      {
        "duration": 546,
        "start_time": "2022-12-05T08:45:55.293Z"
      },
      {
        "duration": 16,
        "start_time": "2022-12-05T08:45:55.841Z"
      },
      {
        "duration": 282,
        "start_time": "2022-12-05T08:45:55.859Z"
      },
      {
        "duration": 88,
        "start_time": "2022-12-05T08:45:56.143Z"
      },
      {
        "duration": 208,
        "start_time": "2022-12-05T08:45:56.233Z"
      },
      {
        "duration": 88,
        "start_time": "2022-12-05T08:45:56.443Z"
      },
      {
        "duration": 209,
        "start_time": "2022-12-05T08:45:56.533Z"
      },
      {
        "duration": 3,
        "start_time": "2022-12-05T08:45:56.744Z"
      },
      {
        "duration": 7,
        "start_time": "2022-12-05T08:45:56.750Z"
      },
      {
        "duration": 10,
        "start_time": "2022-12-05T08:45:56.758Z"
      },
      {
        "duration": 53,
        "start_time": "2022-12-05T08:45:56.769Z"
      },
      {
        "duration": 23,
        "start_time": "2022-12-05T08:45:56.824Z"
      },
      {
        "duration": 53,
        "start_time": "2022-12-05T08:45:56.849Z"
      },
      {
        "duration": 9,
        "start_time": "2022-12-05T08:45:56.904Z"
      },
      {
        "duration": 2247,
        "start_time": "2022-12-05T08:45:56.915Z"
      },
      {
        "duration": 8,
        "start_time": "2022-12-05T08:45:59.164Z"
      },
      {
        "duration": 2271,
        "start_time": "2022-12-05T08:45:59.173Z"
      },
      {
        "duration": 9,
        "start_time": "2022-12-05T08:46:01.445Z"
      },
      {
        "duration": 2313,
        "start_time": "2022-12-05T08:46:01.456Z"
      },
      {
        "duration": 25,
        "start_time": "2022-12-05T08:46:03.771Z"
      },
      {
        "duration": 1135,
        "start_time": "2022-12-05T08:50:18.968Z"
      },
      {
        "duration": 592,
        "start_time": "2022-12-05T08:50:20.105Z"
      },
      {
        "duration": 16,
        "start_time": "2022-12-05T08:50:20.699Z"
      },
      {
        "duration": 226,
        "start_time": "2022-12-05T08:50:20.717Z"
      },
      {
        "duration": 88,
        "start_time": "2022-12-05T08:50:20.945Z"
      },
      {
        "duration": 207,
        "start_time": "2022-12-05T08:50:21.035Z"
      },
      {
        "duration": 92,
        "start_time": "2022-12-05T08:50:21.244Z"
      },
      {
        "duration": 217,
        "start_time": "2022-12-05T08:50:21.338Z"
      },
      {
        "duration": 3,
        "start_time": "2022-12-05T08:50:21.557Z"
      },
      {
        "duration": 7,
        "start_time": "2022-12-05T08:50:21.563Z"
      },
      {
        "duration": 33,
        "start_time": "2022-12-05T08:50:21.572Z"
      },
      {
        "duration": 37,
        "start_time": "2022-12-05T08:50:21.607Z"
      },
      {
        "duration": 24,
        "start_time": "2022-12-05T08:50:21.646Z"
      },
      {
        "duration": 52,
        "start_time": "2022-12-05T08:50:21.672Z"
      },
      {
        "duration": 11,
        "start_time": "2022-12-05T08:50:21.726Z"
      },
      {
        "duration": 2442,
        "start_time": "2022-12-05T08:50:21.739Z"
      },
      {
        "duration": 17,
        "start_time": "2022-12-05T08:50:24.183Z"
      },
      {
        "duration": 2422,
        "start_time": "2022-12-05T08:50:24.202Z"
      },
      {
        "duration": 9,
        "start_time": "2022-12-05T08:50:26.625Z"
      },
      {
        "duration": 2345,
        "start_time": "2022-12-05T08:50:26.636Z"
      },
      {
        "duration": 21,
        "start_time": "2022-12-05T08:50:28.983Z"
      },
      {
        "duration": 4,
        "start_time": "2022-12-05T09:22:45.141Z"
      },
      {
        "duration": 1116,
        "start_time": "2022-12-05T09:22:55.377Z"
      },
      {
        "duration": 554,
        "start_time": "2022-12-05T09:22:56.495Z"
      },
      {
        "duration": 122,
        "start_time": "2022-12-05T09:22:57.050Z"
      },
      {
        "duration": 0,
        "start_time": "2022-12-05T09:22:57.174Z"
      },
      {
        "duration": 0,
        "start_time": "2022-12-05T09:22:57.176Z"
      },
      {
        "duration": 0,
        "start_time": "2022-12-05T09:22:57.177Z"
      },
      {
        "duration": 0,
        "start_time": "2022-12-05T09:22:57.178Z"
      },
      {
        "duration": 0,
        "start_time": "2022-12-05T09:22:57.179Z"
      },
      {
        "duration": 0,
        "start_time": "2022-12-05T09:22:57.180Z"
      },
      {
        "duration": 0,
        "start_time": "2022-12-05T09:22:57.181Z"
      },
      {
        "duration": 0,
        "start_time": "2022-12-05T09:22:57.196Z"
      },
      {
        "duration": 0,
        "start_time": "2022-12-05T09:22:57.197Z"
      },
      {
        "duration": 0,
        "start_time": "2022-12-05T09:22:57.198Z"
      },
      {
        "duration": 0,
        "start_time": "2022-12-05T09:22:57.199Z"
      },
      {
        "duration": 0,
        "start_time": "2022-12-05T09:22:57.200Z"
      },
      {
        "duration": 0,
        "start_time": "2022-12-05T09:22:57.201Z"
      },
      {
        "duration": 0,
        "start_time": "2022-12-05T09:22:57.202Z"
      },
      {
        "duration": 0,
        "start_time": "2022-12-05T09:22:57.203Z"
      },
      {
        "duration": 0,
        "start_time": "2022-12-05T09:22:57.204Z"
      },
      {
        "duration": 0,
        "start_time": "2022-12-05T09:22:57.205Z"
      },
      {
        "duration": 0,
        "start_time": "2022-12-05T09:22:57.206Z"
      },
      {
        "duration": 30,
        "start_time": "2022-12-05T09:23:43.318Z"
      },
      {
        "duration": 29,
        "start_time": "2022-12-05T09:24:12.242Z"
      },
      {
        "duration": 27,
        "start_time": "2022-12-05T09:24:22.478Z"
      },
      {
        "duration": 1075,
        "start_time": "2022-12-05T09:25:27.602Z"
      },
      {
        "duration": 559,
        "start_time": "2022-12-05T09:25:28.679Z"
      },
      {
        "duration": 133,
        "start_time": "2022-12-05T09:25:29.240Z"
      },
      {
        "duration": 0,
        "start_time": "2022-12-05T09:25:29.376Z"
      },
      {
        "duration": 0,
        "start_time": "2022-12-05T09:25:29.378Z"
      },
      {
        "duration": 0,
        "start_time": "2022-12-05T09:25:29.379Z"
      },
      {
        "duration": 0,
        "start_time": "2022-12-05T09:25:29.380Z"
      },
      {
        "duration": 0,
        "start_time": "2022-12-05T09:25:29.381Z"
      },
      {
        "duration": 0,
        "start_time": "2022-12-05T09:25:29.382Z"
      },
      {
        "duration": 0,
        "start_time": "2022-12-05T09:25:29.383Z"
      },
      {
        "duration": 0,
        "start_time": "2022-12-05T09:25:29.396Z"
      },
      {
        "duration": 0,
        "start_time": "2022-12-05T09:25:29.397Z"
      },
      {
        "duration": 0,
        "start_time": "2022-12-05T09:25:29.398Z"
      },
      {
        "duration": 0,
        "start_time": "2022-12-05T09:25:29.400Z"
      },
      {
        "duration": 0,
        "start_time": "2022-12-05T09:25:29.401Z"
      },
      {
        "duration": 0,
        "start_time": "2022-12-05T09:25:29.402Z"
      },
      {
        "duration": 0,
        "start_time": "2022-12-05T09:25:29.404Z"
      },
      {
        "duration": 0,
        "start_time": "2022-12-05T09:25:29.406Z"
      },
      {
        "duration": 0,
        "start_time": "2022-12-05T09:25:29.407Z"
      },
      {
        "duration": 0,
        "start_time": "2022-12-05T09:25:29.408Z"
      },
      {
        "duration": 0,
        "start_time": "2022-12-05T09:25:29.409Z"
      },
      {
        "duration": 27,
        "start_time": "2022-12-05T09:25:51.995Z"
      },
      {
        "duration": 74,
        "start_time": "2022-12-05T09:27:41.717Z"
      },
      {
        "duration": 82,
        "start_time": "2022-12-05T09:28:21.609Z"
      },
      {
        "duration": 1055,
        "start_time": "2022-12-05T09:29:26.306Z"
      },
      {
        "duration": 604,
        "start_time": "2022-12-05T09:29:27.363Z"
      },
      {
        "duration": 33,
        "start_time": "2022-12-05T09:29:27.969Z"
      },
      {
        "duration": 236,
        "start_time": "2022-12-05T09:29:28.005Z"
      },
      {
        "duration": 94,
        "start_time": "2022-12-05T09:29:28.243Z"
      },
      {
        "duration": 205,
        "start_time": "2022-12-05T09:29:28.339Z"
      },
      {
        "duration": 95,
        "start_time": "2022-12-05T09:29:28.546Z"
      },
      {
        "duration": 202,
        "start_time": "2022-12-05T09:29:28.643Z"
      },
      {
        "duration": 3,
        "start_time": "2022-12-05T09:29:28.847Z"
      },
      {
        "duration": 10,
        "start_time": "2022-12-05T09:29:28.852Z"
      },
      {
        "duration": 11,
        "start_time": "2022-12-05T09:29:28.863Z"
      },
      {
        "duration": 29,
        "start_time": "2022-12-05T09:29:28.895Z"
      },
      {
        "duration": 22,
        "start_time": "2022-12-05T09:29:28.925Z"
      },
      {
        "duration": 47,
        "start_time": "2022-12-05T09:29:28.949Z"
      },
      {
        "duration": 10,
        "start_time": "2022-12-05T09:29:28.998Z"
      },
      {
        "duration": 2294,
        "start_time": "2022-12-05T09:29:29.009Z"
      },
      {
        "duration": 10,
        "start_time": "2022-12-05T09:29:31.305Z"
      },
      {
        "duration": 2258,
        "start_time": "2022-12-05T09:29:31.317Z"
      },
      {
        "duration": 19,
        "start_time": "2022-12-05T09:29:33.577Z"
      },
      {
        "duration": 2255,
        "start_time": "2022-12-05T09:29:33.598Z"
      },
      {
        "duration": 14,
        "start_time": "2022-12-05T09:29:35.855Z"
      },
      {
        "duration": 17,
        "start_time": "2022-12-05T09:33:34.576Z"
      },
      {
        "duration": 237,
        "start_time": "2022-12-05T09:33:39.402Z"
      },
      {
        "duration": 63,
        "start_time": "2022-12-05T09:34:01.587Z"
      },
      {
        "duration": 228,
        "start_time": "2022-12-05T09:34:12.207Z"
      },
      {
        "duration": 79,
        "start_time": "2022-12-05T09:34:30.804Z"
      },
      {
        "duration": 219,
        "start_time": "2022-12-05T09:34:38.915Z"
      },
      {
        "duration": 1057,
        "start_time": "2022-12-05T09:34:54.320Z"
      },
      {
        "duration": 561,
        "start_time": "2022-12-05T09:34:55.378Z"
      },
      {
        "duration": 22,
        "start_time": "2022-12-05T09:34:55.942Z"
      },
      {
        "duration": 292,
        "start_time": "2022-12-05T09:34:55.966Z"
      },
      {
        "duration": 81,
        "start_time": "2022-12-05T09:34:56.261Z"
      },
      {
        "duration": 201,
        "start_time": "2022-12-05T09:34:56.343Z"
      },
      {
        "duration": 86,
        "start_time": "2022-12-05T09:34:56.546Z"
      },
      {
        "duration": 200,
        "start_time": "2022-12-05T09:34:56.633Z"
      },
      {
        "duration": 2,
        "start_time": "2022-12-05T09:34:56.835Z"
      },
      {
        "duration": 9,
        "start_time": "2022-12-05T09:34:56.840Z"
      },
      {
        "duration": 17,
        "start_time": "2022-12-05T09:34:56.851Z"
      },
      {
        "duration": 45,
        "start_time": "2022-12-05T09:34:56.870Z"
      },
      {
        "duration": 23,
        "start_time": "2022-12-05T09:34:56.917Z"
      },
      {
        "duration": 31,
        "start_time": "2022-12-05T09:34:56.941Z"
      },
      {
        "duration": 29,
        "start_time": "2022-12-05T09:34:56.973Z"
      },
      {
        "duration": 2298,
        "start_time": "2022-12-05T09:34:57.004Z"
      },
      {
        "duration": 8,
        "start_time": "2022-12-05T09:34:59.304Z"
      },
      {
        "duration": 2335,
        "start_time": "2022-12-05T09:34:59.314Z"
      },
      {
        "duration": 9,
        "start_time": "2022-12-05T09:35:01.651Z"
      },
      {
        "duration": 2355,
        "start_time": "2022-12-05T09:35:01.662Z"
      },
      {
        "duration": 16,
        "start_time": "2022-12-05T09:35:04.019Z"
      }
    ],
    "kernelspec": {
      "display_name": "Python 3.10.6 64-bit",
      "language": "python",
      "name": "python3"
    },
    "language_info": {
      "codemirror_mode": {
        "name": "ipython",
        "version": 3
      },
      "file_extension": ".py",
      "mimetype": "text/x-python",
      "name": "python",
      "nbconvert_exporter": "python",
      "pygments_lexer": "ipython3",
      "version": "3.10.6"
    },
    "toc": {
      "base_numbering": 1,
      "nav_menu": {},
      "number_sections": true,
      "sideBar": true,
      "skip_h1_title": true,
      "title_cell": "Table of Contents",
      "title_sidebar": "Contents",
      "toc_cell": false,
      "toc_position": {},
      "toc_section_display": true,
      "toc_window_display": false
    },
    "vscode": {
      "interpreter": {
        "hash": "afb734500600fd355917ca529030176ea0ca205570884b88f2f6f7d791fd3fbe"
      }
    },
    "colab": {
      "provenance": [],
      "include_colab_link": true
    }
  },
  "nbformat": 4,
  "nbformat_minor": 0
}